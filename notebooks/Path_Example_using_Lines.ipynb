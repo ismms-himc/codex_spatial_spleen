{
 "cells": [
  {
   "cell_type": "markdown",
   "metadata": {},
   "source": [
    "### Introduction\n",
    "\n",
    "The `Lines` object provides the following features:\n",
    "\n",
    "1. Ability to plot a single set or multiple sets of y-values as a function of a set or multiple sets of x-values\n",
    "2. Ability to style the line object in different ways, by setting different attributes such as the `colors`, `line_style`, `stroke_width` etc.\n",
    "3. Ability to specify a marker at each point passed to the line. The marker can be a shape which is at the data points between which the line is interpolated and can be set through the `markers` attribute"
   ]
  },
  {
   "cell_type": "markdown",
   "metadata": {},
   "source": [
    "The `Lines` object has the following attributes"
   ]
  },
  {
   "cell_type": "markdown",
   "metadata": {},
   "source": [
    " | Attribute |  Description | Default Value  |\n",
    "|:-:|---|:-:|\n",
    "|  `colors` | Sets the color of each line, takes as input a list of any RGB, HEX, or HTML color name  | `CATEGORY10`  |\n",
    "| `opacities`  | Controls the opacity of each line, takes as input a real number between 0 and 1  | `1.0`  |\n",
    "| `stroke_width`  | Real number which sets the width of all paths  | `2.0`  |\n",
    "| `line_style`  | Specifies whether a line is solid, dashed, dotted or both dashed and dotted  | `'solid'`  |\n",
    "| `interpolation`  | Sets the type of interpolation between two points  | `'linear'`  |\n",
    "| `marker`  | Specifies the shape of the marker inserted at each data point  | `None`  |\n",
    "| `marker_size`  | Controls the size of the marker, takes as input a non-negative integer  | `64`  |\n",
    "|`close_path`| Controls whether to close the paths or not | `False` |\n",
    "|`fill`| Specifies in which way the paths are filled. Can be set to one of `{'none', 'bottom', 'top', 'inside'}`| `None` |\n",
    "|`fill_colors`| `List` that specifies the `fill` colors of each path | `[]` |                                                                         \n",
    "| **Data Attribute** |  **Description** | **Default Value**  |\n",
    "|`x` |abscissas of the data points | `array([])` |\n",
    "|`y` |ordinates of the data points | `array([])` |\n",
    "|`color` | Data according to which the `Lines` will be colored. Setting it to `None` defaults the choice of colors to the `colors` attribute | `None` |"
   ]
  },
  {
   "cell_type": "markdown",
   "metadata": {},
   "source": [
    "## pyplot's plot method can be used to plot lines with meaningful defaults"
   ]
  },
  {
   "cell_type": "code",
   "execution_count": 1,
   "metadata": {},
   "outputs": [],
   "source": [
    "import numpy as np\n",
    "from pandas import date_range\n",
    "import bqplot.pyplot as plt\n",
    "from bqplot import *"
   ]
  },
  {
   "cell_type": "code",
   "execution_count": 2,
   "metadata": {},
   "outputs": [],
   "source": [
    "security_1 = np.cumsum(np.random.randn(150)) + 100.\n",
    "security_2 = np.cumsum(np.random.randn(150)) + 100."
   ]
  },
  {
   "cell_type": "markdown",
   "metadata": {},
   "source": [
    "## Basic Line Chart"
   ]
  },
  {
   "cell_type": "code",
   "execution_count": 3,
   "metadata": {},
   "outputs": [
    {
     "data": {
      "application/vnd.jupyter.widget-view+json": {
       "model_id": "6e007f2661fb4ba2a0ee742a0847627e",
       "version_major": 2,
       "version_minor": 0
      },
      "text/plain": [
       "Figure(axes=[Axis(label='Index', scale=LinearScale()), Axis(label='Price', orientation='vertical', scale=Linea…"
      ]
     },
     "metadata": {},
     "output_type": "display_data"
    }
   ],
   "source": [
    "fig = plt.figure(title='Security 1')\n",
    "axes_options = {'x': {'label': 'Index'}, 'y': {'label': 'Price'}}\n",
    "# x values default to range of values when not specified\n",
    "line = plt.plot(security_1, axes_options=axes_options)\n",
    "fig"
   ]
  },
  {
   "cell_type": "markdown",
   "metadata": {},
   "source": [
    "**We can explore the different attributes by changing each of them for the plot above:**"
   ]
  },
  {
   "cell_type": "code",
   "execution_count": 4,
   "metadata": {},
   "outputs": [],
   "source": [
    "line.colors = ['DarkOrange']"
   ]
  },
  {
   "cell_type": "markdown",
   "metadata": {},
   "source": [
    "In a similar way, we can also change any attribute after the plot has been displayed to change the plot. Run each of the cells below, and try changing the attributes to explore the different features and how they affect the plot."
   ]
  },
  {
   "cell_type": "code",
   "execution_count": 5,
   "metadata": {},
   "outputs": [],
   "source": [
    "# The opacity allows us to display the Line while featuring other Marks that may be on the Figure\n",
    "line.opacities = [.5]"
   ]
  },
  {
   "cell_type": "code",
   "execution_count": 6,
   "metadata": {},
   "outputs": [],
   "source": [
    "line.stroke_width = 2.5"
   ]
  },
  {
   "cell_type": "markdown",
   "metadata": {},
   "source": [
    "To switch to an area chart, set the `fill` attribute, and control the look with `fill_opacities` and `fill_colors`."
   ]
  },
  {
   "cell_type": "code",
   "execution_count": 7,
   "metadata": {},
   "outputs": [],
   "source": [
    "line.fill = 'bottom'\n",
    "line.fill_opacities = [0.2]"
   ]
  },
  {
   "cell_type": "code",
   "execution_count": 8,
   "metadata": {},
   "outputs": [],
   "source": [
    "line.line_style = 'dashed'"
   ]
  },
  {
   "cell_type": "code",
   "execution_count": 9,
   "metadata": {},
   "outputs": [],
   "source": [
    "line.interpolation = 'basis'"
   ]
  },
  {
   "cell_type": "markdown",
   "metadata": {},
   "source": [
    "While a `Lines` plot allows the user to extract the general shape of the data being plotted, there may be a need to visualize discrete data points along with this shape. This is where the `markers` attribute comes in."
   ]
  },
  {
   "cell_type": "code",
   "execution_count": 10,
   "metadata": {},
   "outputs": [],
   "source": [
    "line.marker = 'triangle-down'"
   ]
  },
  {
   "cell_type": "markdown",
   "metadata": {},
   "source": [
    "The `marker` attributes accepts the values `square`, `circle`, `cross`, `diamond`, `square`, `triangle-down`, `triangle-up`, `arrow`, `rectangle`, `ellipse`. Try changing the string above and re-running the cell to see how each `marker` type looks."
   ]
  },
  {
   "cell_type": "markdown",
   "metadata": {
    "collapsed": true
   },
   "source": [
    "## Plotting a Time-Series"
   ]
  },
  {
   "cell_type": "markdown",
   "metadata": {},
   "source": [
    "The `DateScale` allows us to plot time series as a `Lines` plot conveniently with most `date` formats."
   ]
  },
  {
   "cell_type": "code",
   "execution_count": 11,
   "metadata": {},
   "outputs": [],
   "source": [
    "# Here we define the dates we would like to use\n",
    "dates = date_range(start='01-01-2007', periods=150)"
   ]
  },
  {
   "cell_type": "code",
   "execution_count": 12,
   "metadata": {},
   "outputs": [
    {
     "data": {
      "application/vnd.jupyter.widget-view+json": {
       "model_id": "7b8ed2cfadda4452b88e6b9c9fc0d71f",
       "version_major": 2,
       "version_minor": 0
      },
      "text/plain": [
       "Figure(axes=[Axis(label='Date', scale=DateScale()), Axis(label='Security 1', orientation='vertical', scale=Lin…"
      ]
     },
     "metadata": {},
     "output_type": "display_data"
    }
   ],
   "source": [
    "fig = plt.figure(title='Time Series')\n",
    "axes_options = {'x': {'label': 'Date'}, 'y': {'label': 'Security 1'}}\n",
    "time_series = plt.plot(dates, security_1, \n",
    "                       axes_options=axes_options)\n",
    "fig"
   ]
  },
  {
   "cell_type": "markdown",
   "metadata": {},
   "source": [
    "## Plotting multiples sets of data"
   ]
  },
  {
   "cell_type": "markdown",
   "metadata": {},
   "source": [
    "The `Lines` mark allows the user to plot multiple `y`-values for a single `x`-value. This can be done by passing an `ndarray` or a list of the different `y`-values as the y-attribute of the `Lines` as shown below."
   ]
  },
  {
   "cell_type": "code",
   "execution_count": 13,
   "metadata": {},
   "outputs": [],
   "source": [
    "dates_new = date_range(start='06-01-2007', periods=150)"
   ]
  },
  {
   "cell_type": "markdown",
   "metadata": {},
   "source": [
    "We pass each data set as an element of a `list`"
   ]
  },
  {
   "cell_type": "code",
   "execution_count": 14,
   "metadata": {},
   "outputs": [
    {
     "data": {
      "application/vnd.jupyter.widget-view+json": {
       "model_id": "70a279246b654b778d12e8de0874983d",
       "version_major": 2,
       "version_minor": 0
      },
      "text/plain": [
       "Figure(axes=[Axis(label='Date', scale=DateScale()), Axis(label='Price', orientation='vertical', scale=LinearSc…"
      ]
     },
     "metadata": {},
     "output_type": "display_data"
    }
   ],
   "source": [
    "fig = plt.figure()\n",
    "axes_options = {'x': {'label': 'Date'}, 'y': {'label': 'Price'}}\n",
    "line = plt.plot(dates, [security_1, security_2], \n",
    "                labels=['Security 1', 'Security 2'],\n",
    "                axes_options=axes_options,\n",
    "                display_legend=True)\n",
    "fig"
   ]
  },
  {
   "cell_type": "markdown",
   "metadata": {},
   "source": [
    "Similarly, we can also pass multiple `x`-values for multiple sets of `y`-values"
   ]
  },
  {
   "cell_type": "code",
   "execution_count": 15,
   "metadata": {},
   "outputs": [],
   "source": [
    "line.x, line.y = [dates, dates_new], [security_1, security_2]"
   ]
  },
  {
   "cell_type": "markdown",
   "metadata": {},
   "source": [
    "### Coloring Lines according to data"
   ]
  },
  {
   "cell_type": "markdown",
   "metadata": {},
   "source": [
    "The `color` attribute of a `Lines` mark can also be used to encode one more dimension of data. Suppose we have a portfolio of securities and we would like to color them based on whether we have bought or sold them. We can use the `color` attribute to encode this information."
   ]
  },
  {
   "cell_type": "code",
   "execution_count": 16,
   "metadata": {},
   "outputs": [],
   "source": [
    "fig = plt.figure()\n",
    "axes_options = {'x': {'label': 'Date'}, \n",
    "                'y': {'label': 'Security 1'},\n",
    "                'color' : {'visible': False}}\n",
    "# add a custom color scale to color the lines\n",
    "plt.scales(scales={'color': ColorScale(colors=['Red', 'Green'])})"
   ]
  },
  {
   "cell_type": "code",
   "execution_count": 17,
   "metadata": {},
   "outputs": [],
   "source": [
    "dates_color = date_range(start='06-01-2007', periods=150)"
   ]
  },
  {
   "cell_type": "code",
   "execution_count": 18,
   "metadata": {},
   "outputs": [],
   "source": [
    "securities = 100. + np.cumsum(np.random.randn(150, 10), axis=0)\n",
    "# we generate 10 random price series and 10 random positions\n",
    "positions = np.random.randint(0, 2, size=10)"
   ]
  },
  {
   "cell_type": "code",
   "execution_count": 19,
   "metadata": {},
   "outputs": [
    {
     "data": {
      "application/vnd.jupyter.widget-view+json": {
       "model_id": "8394c28dde434de49fc9f7e688caef06",
       "version_major": 2,
       "version_minor": 0
      },
      "text/plain": [
       "Figure(axes=[ColorAxis(scale=ColorScale(colors=['Red', 'Green']), visible=False), Axis(label='Date', scale=Dat…"
      ]
     },
     "metadata": {},
     "output_type": "display_data"
    }
   ],
   "source": [
    "# We pass the color scale and the color data to the plot method\n",
    "line = plt.plot(dates_color, securities.T, color=positions, \n",
    "                axes_options=axes_options)\n",
    "fig"
   ]
  },
  {
   "cell_type": "markdown",
   "metadata": {},
   "source": [
    "We can also reset the colors of the Line to their defaults by setting the `color` attribute to `None`."
   ]
  },
  {
   "cell_type": "code",
   "execution_count": 20,
   "metadata": {},
   "outputs": [],
   "source": [
    "line.color = None"
   ]
  },
  {
   "cell_type": "markdown",
   "metadata": {},
   "source": [
    "## Patches"
   ]
  },
  {
   "cell_type": "markdown",
   "metadata": {},
   "source": [
    "The `fill` attribute of the `Lines` mark allows us to fill a path in different ways, while the `fill_colors` attribute lets us control the color of the `fill`"
   ]
  },
  {
   "cell_type": "code",
   "execution_count": 41,
   "metadata": {},
   "outputs": [],
   "source": [
    "import bqplot\n",
    "def_tt = bqplot.Tooltip(fields=['name'], formats=[''])"
   ]
  },
  {
   "cell_type": "code",
   "execution_count": 42,
   "metadata": {},
   "outputs": [
    {
     "data": {
      "application/vnd.jupyter.widget-view+json": {
       "model_id": "fc329b43e896453885687caebca4a652",
       "version_major": 2,
       "version_minor": 0
      },
      "text/plain": [
       "Figure(animation_duration=1000, axes=[Axis(scale=LinearScale(), visible=False), Axis(orientation='vertical', s…"
      ]
     },
     "metadata": {},
     "output_type": "display_data"
    }
   ],
   "source": [
    "fig = plt.figure(animation_duration=1000)\n",
    "patch = plt.plot([],[],\n",
    "                 fill_colors=['orange', 'blue', 'red'],\n",
    "                 fill='inside',\n",
    "                 axes_options={'x': {'visible': False}, 'y': {'visible': False}},\n",
    "                 stroke_width=2,\n",
    "                 close_path=True,\n",
    "                 display_legend=True, tooltip=def_tt,)\n",
    "\n",
    "patch.x = [[4,   5,   6,   6,   5,   4,   3,  1], [1, 2, 3]], \n",
    "patch.y = [[1, 1.1, 1.2, 2.3, 2.2, 2.7, 1.0, -2], [3, 2, 3]]\n",
    "fig"
   ]
  },
  {
   "cell_type": "code",
   "execution_count": 35,
   "metadata": {},
   "outputs": [],
   "source": [
    "patch.opacities = [0.9, 0.9]"
   ]
  },
  {
   "cell_type": "code",
   "execution_count": 36,
   "metadata": {},
   "outputs": [],
   "source": [
    "patch.x = [[10, 3, 3.2], [0.5, 2.5, 1.7], [4,5,6, 6, 5, 4, 3]]"
   ]
  },
  {
   "cell_type": "code",
   "execution_count": 24,
   "metadata": {},
   "outputs": [],
   "source": [
    "patch.close_path = True"
   ]
  },
  {
   "cell_type": "markdown",
   "metadata": {},
   "source": [
    "# Voronoi Plot"
   ]
  },
  {
   "cell_type": "code",
   "execution_count": 59,
   "metadata": {},
   "outputs": [],
   "source": [
    "from scipy.spatial import Voronoi, voronoi_plot_2d"
   ]
  },
  {
   "cell_type": "code",
   "execution_count": 68,
   "metadata": {},
   "outputs": [],
   "source": [
    "points = np.array([[0, 0], [0, 1], [0, 2], [1, 0], [1, 1], [1, 2],\n",
    "                   [2, 0], [2, 1], [2, 2]])\n",
    "from scipy.spatial import Voronoi, voronoi_plot_2d\n",
    "vor = Voronoi(points)"
   ]
  },
  {
   "cell_type": "code",
   "execution_count": 61,
   "metadata": {},
   "outputs": [],
   "source": [
    "vor = Voronoi(points)"
   ]
  },
  {
   "cell_type": "code",
   "execution_count": 69,
   "metadata": {},
   "outputs": [
    {
     "data": {
      "image/png": "[encoded data removed]",
      "text/plain": [
       "<Figure size 432x288 with 1 Axes>"
      ]
     },
     "metadata": {},
     "output_type": "display_data"
    }
   ],
   "source": [
    "import matplotlib.pyplot as plt\n",
    "voronoi_plot_2d(vor)\n",
    "plt.show()"
   ]
  },
  {
   "cell_type": "markdown",
   "metadata": {},
   "source": [
    "### Points\n",
    "Coordinates of input points"
   ]
  },
  {
   "cell_type": "code",
   "execution_count": 70,
   "metadata": {},
   "outputs": [
    {
     "data": {
      "text/plain": [
       "array([[0., 0.],\n",
       "       [0., 1.],\n",
       "       [0., 2.],\n",
       "       [1., 0.],\n",
       "       [1., 1.],\n",
       "       [1., 2.],\n",
       "       [2., 0.],\n",
       "       [2., 1.],\n",
       "       [2., 2.]])"
      ]
     },
     "execution_count": 70,
     "metadata": {},
     "output_type": "execute_result"
    }
   ],
   "source": [
    "vor.points"
   ]
  },
  {
   "cell_type": "markdown",
   "metadata": {},
   "source": [
    "### Vertices\n",
    "Cooridnates of the Voronoi vertices"
   ]
  },
  {
   "cell_type": "code",
   "execution_count": 71,
   "metadata": {},
   "outputs": [
    {
     "data": {
      "text/plain": [
       "array([[0.5, 0.5],\n",
       "       [1.5, 0.5],\n",
       "       [0.5, 1.5],\n",
       "       [1.5, 1.5]])"
      ]
     },
     "execution_count": 71,
     "metadata": {},
     "output_type": "execute_result"
    }
   ],
   "source": [
    "vor.vertices"
   ]
  },
  {
   "cell_type": "markdown",
   "metadata": {},
   "source": [
    "### Ridge Points\n",
    "Indices of the points between which each Voronoi ridge lies."
   ]
  },
  {
   "cell_type": "code",
   "execution_count": 72,
   "metadata": {},
   "outputs": [
    {
     "data": {
      "text/plain": [
       "array([[0, 1],\n",
       "       [0, 3],\n",
       "       [6, 3],\n",
       "       [6, 7],\n",
       "       [3, 4],\n",
       "       [5, 8],\n",
       "       [5, 2],\n",
       "       [5, 4],\n",
       "       [8, 7],\n",
       "       [2, 1],\n",
       "       [4, 1],\n",
       "       [4, 7]], dtype=int32)"
      ]
     },
     "execution_count": 72,
     "metadata": {},
     "output_type": "execute_result"
    }
   ],
   "source": [
    "vor.ridge_points"
   ]
  },
  {
   "cell_type": "code",
   "execution_count": 75,
   "metadata": {},
   "outputs": [
    {
     "data": {
      "text/plain": [
       "12"
      ]
     },
     "execution_count": 75,
     "metadata": {},
     "output_type": "execute_result"
    }
   ],
   "source": [
    "len(vor.ridge_points)"
   ]
  },
  {
   "cell_type": "markdown",
   "metadata": {},
   "source": [
    "### Ridge Vertices\n",
    "Indices of the Voronoi vertices forming each Voronoi ridge"
   ]
  },
  {
   "cell_type": "code",
   "execution_count": 73,
   "metadata": {},
   "outputs": [
    {
     "data": {
      "text/plain": [
       "[[-1, 0],\n",
       " [-1, 0],\n",
       " [-1, 1],\n",
       " [-1, 1],\n",
       " [0, 1],\n",
       " [-1, 3],\n",
       " [-1, 2],\n",
       " [2, 3],\n",
       " [-1, 3],\n",
       " [-1, 2],\n",
       " [0, 2],\n",
       " [1, 3]]"
      ]
     },
     "execution_count": 73,
     "metadata": {},
     "output_type": "execute_result"
    }
   ],
   "source": [
    "vor.ridge_vertices"
   ]
  },
  {
   "cell_type": "code",
   "execution_count": 74,
   "metadata": {},
   "outputs": [
    {
     "data": {
      "text/plain": [
       "12"
      ]
     },
     "execution_count": 74,
     "metadata": {},
     "output_type": "execute_result"
    }
   ],
   "source": [
    "len(vor.ridge_vertices)"
   ]
  },
  {
   "cell_type": "markdown",
   "metadata": {},
   "source": [
    "### Regions\n",
    "Indices of the Voronoi vertices forming each Voronoi region. -1 indicates vertex outside of the Voronoi diagram"
   ]
  },
  {
   "cell_type": "code",
   "execution_count": 76,
   "metadata": {},
   "outputs": [
    {
     "data": {
      "text/plain": [
       "[[],\n",
       " [-1, 0],\n",
       " [-1, 1],\n",
       " [1, -1, 0],\n",
       " [3, -1, 2],\n",
       " [-1, 3],\n",
       " [-1, 2],\n",
       " [3, 2, 0, 1],\n",
       " [2, -1, 0],\n",
       " [3, -1, 1]]"
      ]
     },
     "execution_count": 76,
     "metadata": {},
     "output_type": "execute_result"
    }
   ],
   "source": [
    "vor.regions"
   ]
  },
  {
   "cell_type": "markdown",
   "metadata": {},
   "source": [
    "It looks like there is only one Voronoi region with all vertices defined in the region of the Voronoi diagram. `[3, 2, 0, 1]`. This probably corresponds to the square."
   ]
  },
  {
   "cell_type": "markdown",
   "metadata": {},
   "source": [
    "### Point Regoin\n",
    "Index of the Voronoi region for each input point. If qhull option \"Qc\" was not specificd, the list will contain -1 for points that are not associated with a Voronoi region. "
   ]
  },
  {
   "cell_type": "code",
   "execution_count": 77,
   "metadata": {},
   "outputs": [
    {
     "data": {
      "text/plain": [
       "array([1, 8, 6, 3, 7, 4, 2, 9, 5])"
      ]
     },
     "execution_count": 77,
     "metadata": {},
     "output_type": "execute_result"
    }
   ],
   "source": [
    "vor.point_region"
   ]
  },
  {
   "cell_type": "markdown",
   "metadata": {},
   "source": [
    "# More complicated Voronoi Example"
   ]
  },
  {
   "cell_type": "code",
   "execution_count": 187,
   "metadata": {},
   "outputs": [],
   "source": [
    "import matplotlib.pyplot as plt\n",
    "np.random.seed(seed=100)\n",
    "points = np.random.rand(100,2) #random"
   ]
  },
  {
   "cell_type": "code",
   "execution_count": 201,
   "metadata": {},
   "outputs": [
    {
     "data": {
      "text/plain": [
       "array([0.54340494, 0.27836939])"
      ]
     },
     "execution_count": 201,
     "metadata": {},
     "output_type": "execute_result"
    }
   ],
   "source": [
    "points[0]"
   ]
  },
  {
   "cell_type": "code",
   "execution_count": 188,
   "metadata": {},
   "outputs": [],
   "source": [
    "from scipy.spatial import Voronoi, voronoi_plot_2d\n",
    "vor = Voronoi(points)"
   ]
  },
  {
   "cell_type": "code",
   "execution_count": 189,
   "metadata": {},
   "outputs": [
    {
     "data": {
      "image/png": "[encoded data removed]",
      "text/plain": [
       "<Figure size 432x288 with 1 Axes>"
      ]
     },
     "metadata": {},
     "output_type": "display_data"
    }
   ],
   "source": [
    "fig = voronoi_plot_2d(vor)"
   ]
  },
  {
   "cell_type": "code",
   "execution_count": 190,
   "metadata": {},
   "outputs": [
    {
     "name": "stdout",
     "output_type": "stream",
     "text": [
      "[0.90251145 0.11016257] [3.72547275 0.22706467]\n",
      "[ 0.01032168 -1.04464508] [0.34157344 0.01009209]\n",
      "[0.34157344 0.01009209] [0.54073138 0.04956867]\n",
      "[ 0.67963632 -0.35814311] [0.54073138 0.04956867]\n",
      "[0.08479323 0.20046933] [0.05995157 0.1194804 ]\n",
      "[0.08479323 0.20046933] [0.05996367 0.21527102]\n",
      "[0.05996367 0.21527102] [-0.08475255  0.18766431]\n",
      "[0.05995157 0.1194804 ] [-0.08475255  0.18766431]\n",
      "[-1.77894737  0.65828383] [-0.09305335  0.3972502 ]\n",
      "[0.05614454 0.23058335] [-0.09305335  0.3972502 ]\n",
      "[0.05614454 0.23058335] [0.05996367 0.21527102]\n",
      "[ 0.01032168 -1.04464508] [ 0.08085442 -0.07901056]\n",
      "[ 0.08085442 -0.07901056] [0.05995157 0.1194804 ]\n",
      "[1.02397719 0.71654583] [0.92487381 0.71846027]\n",
      "[1.02397719 0.71654583] [0.94849749 0.50947049]\n",
      "[0.94849749 0.50947049] [0.89226158 0.68685185]\n",
      "[0.92487381 0.71846027] [0.89226158 0.68685185]\n",
      "[0.55372356 0.92859276] [0.5860767  0.89670306]\n",
      "[0.55372356 0.92859276] [0.74363861 9.08051565]\n",
      "[0.5860767  0.89670306] [0.78261233 1.89223011]\n",
      "[0.74363861 9.08051565] [0.78261233 1.89223011]\n",
      "[0.12716389 0.88869844] [0.1776591  1.04548182]\n",
      "[0.1776591  1.04548182] [0.1983989  4.98289588]\n",
      "[-1.77894737  0.65828383] [-0.39226     0.68849077]\n",
      "[-0.39226     0.68849077] [0.15524411 0.83816315]\n",
      "[0.15524411 0.83816315] [0.12716389 0.88869844]\n",
      "[0.2165006 0.8964747] [0.1776591  1.04548182]\n",
      "[0.2165006 0.8964747] [0.15662399 0.83760828]\n",
      "[0.15662399 0.83760828] [0.15524411 0.83816315]\n",
      "[0.55372356 0.92859276] [0.48589043 0.95496784]\n",
      "[0.36543067 1.17757309] [0.48589043 0.95496784]\n",
      "[0.36543067 1.17757309] [0.1983989  4.98289588]\n",
      "[3.72547275 0.22706467] [1.30348962 0.35766638]\n",
      "[1.30348962 0.35766638] [0.9728075 0.4119713]\n",
      "[1.83256163 0.80072975] [1.3244008  0.76049225]\n",
      "[1.3244008  0.76049225] [1.02397719 0.71654583]\n",
      "[0.94849749 0.50947049] [0.95292689 0.42658719]\n",
      "[0.9728075 0.4119713] [0.95292689 0.42658719]\n",
      "[0.90251145 0.11016257] [0.89587294 0.11172678]\n",
      "[1.30348962 0.35766638] [0.93699796 0.19413374]\n",
      "[0.93699796 0.19413374] [0.89587294 0.11172678]\n",
      "[0.89587294 0.11172678] [0.88927377 0.10984249]\n",
      "[0.86449228 0.0873794 ] [0.88927377 0.10984249]\n",
      "[ 0.67963632 -0.35814311] [0.68949799 0.04860076]\n",
      "[0.54073138 0.04956867] [0.57994559 0.09173587]\n",
      "[0.57994559 0.09173587] [0.68949799 0.04860076]\n",
      "[0.86449228 0.0873794 ] [0.72987377 0.10114371]\n",
      "[0.68949799 0.04860076] [0.72987377 0.10114371]\n",
      "[ 0.08085442 -0.07901056] [0.16712254 0.17221834]\n",
      "[0.08479323 0.20046933] [0.11362353 0.20520923]\n",
      "[0.11362353 0.20520923] [0.16712254 0.17221834]\n",
      "[0.8599619  0.84022173] [0.76166807 0.73448497]\n",
      "[0.8599619  0.84022173] [0.92487381 0.71846027]\n",
      "[0.89226158 0.68685185] [0.83694632 0.66032527]\n",
      "[0.83694632 0.66032527] [0.75493126 0.70191957]\n",
      "[0.76166807 0.73448497] [0.75493126 0.70191957]\n",
      "[1.02982617 0.93149184] [1.83256163 0.80072975]\n",
      "[1.02982617 0.93149184] [0.94212761 1.00119259]\n",
      "[0.78261233 1.89223011] [0.80142236 1.24707916]\n",
      "[0.94212761 1.00119259] [0.80142236 1.24707916]\n",
      "[0.44254326 0.8913141 ] [0.48589043 0.95496784]\n",
      "[0.44254326 0.8913141 ] [0.36645611 0.89705464]\n",
      "[0.36543067 1.17757309] [0.32606351 0.96131903]\n",
      "[0.36645611 0.89705464] [0.32606351 0.96131903]\n",
      "[0.50957715 0.80820061] [0.44763326 0.77170075]\n",
      "[0.50957715 0.80820061] [0.44254326 0.8913141 ]\n",
      "[0.44763326 0.77170075] [0.35206171 0.74849571]\n",
      "[0.36645611 0.89705464] [0.35206171 0.74849571]\n",
      "[0.2165006 0.8964747] [0.26952483 0.92428224]\n",
      "[0.26952483 0.92428224] [0.32606351 0.96131903]\n",
      "[0.9728075 0.4119713] [0.89113787 0.30338892]\n",
      "[0.93699796 0.19413374] [0.88447618 0.27718039]\n",
      "[0.89113787 0.30338892] [0.88447618 0.27718039]\n",
      "[0.2805553 0.1446904] [0.33192123 0.24990802]\n",
      "[0.2805553 0.1446904] [0.23335292 0.17593004]\n",
      "[0.23335292 0.17593004] [0.22299971 0.2914847 ]\n",
      "[0.22299971 0.2914847 ] [0.27914424 0.32388737]\n",
      "[0.33115473 0.26959723] [0.33192123 0.24990802]\n",
      "[0.33115473 0.26959723] [0.29136386 0.31370627]\n",
      "[0.29136386 0.31370627] [0.27914424 0.32388737]\n",
      "[0.11362353 0.20520923] [0.1409855  0.27207049]\n",
      "[0.16712254 0.17221834] [0.23335292 0.17593004]\n",
      "[0.22299971 0.2914847 ] [0.17648291 0.30394314]\n",
      "[0.1409855  0.27207049] [0.17648291 0.30394314]\n",
      "[0.05614454 0.23058335] [0.07095063 0.30855113]\n",
      "[0.1409855  0.27207049] [0.07095063 0.30855113]\n",
      "[-0.09305335  0.3972502 ] [-0.0232452   0.39572284]\n",
      "[-0.0232452   0.39572284] [0.05655008 0.34310726]\n",
      "[0.07095063 0.30855113] [0.05655008 0.34310726]\n",
      "[0.17648291 0.30394314] [0.17358525 0.31000598]\n",
      "[0.05655008 0.34310726] [0.13667937 0.34962855]\n",
      "[0.17358525 0.31000598] [0.13667937 0.34962855]\n",
      "[0.8599619  0.84022173] [0.85188549 0.86574565]\n",
      "[0.76166807 0.73448497] [0.74473455 0.82162021]\n",
      "[0.85188549 0.86574565] [0.84295041 0.87320429]\n",
      "[0.84295041 0.87320429] [0.77441282 0.84792681]\n",
      "[0.77441282 0.84792681] [0.74473455 0.82162021]\n",
      "[0.75493126 0.70191957] [0.7251218  0.69912428]\n",
      "[0.74473455 0.82162021] [0.71569479 0.81441018]\n",
      "[0.71569479 0.81441018] [0.67091864 0.76734685]\n",
      "[0.7251218  0.69912428] [0.67091864 0.76734685]\n",
      "[0.95652915 0.91702513] [0.90143013 0.88016039]\n",
      "[0.95652915 0.91702513] [0.94233948 0.96968786]\n",
      "[0.94233948 0.96968786] [0.87573362 0.87359225]\n",
      "[0.90143013 0.88016039] [0.87573362 0.87359225]\n",
      "[1.02982617 0.93149184] [0.95652915 0.91702513]\n",
      "[1.3244008  0.76049225] [0.90143013 0.88016039]\n",
      "[0.94212761 1.00119259] [0.94233948 0.96968786]\n",
      "[0.80142236 1.24707916] [0.78583072 1.08597963]\n",
      "[0.78583072 1.08597963] [0.84295041 0.87320429]\n",
      "[0.85188549 0.86574565] [0.87573362 0.87359225]\n",
      "[0.78996561 0.21108378] [0.84017913 0.21477332]\n",
      "[0.78996561 0.21108378] [0.78591387 0.27599855]\n",
      "[0.78591387 0.27599855] [0.85413177 0.24205286]\n",
      "[0.84017913 0.21477332] [0.85413177 0.24205286]\n",
      "[0.88927377 0.10984249] [0.84017913 0.21477332]\n",
      "[0.71837221 0.17238634] [0.72987377 0.10114371]\n",
      "[0.71837221 0.17238634] [0.78996561 0.21108378]\n",
      "[0.88447618 0.27718039] [0.85413177 0.24205286]\n",
      "[0.68546001 0.26824168] [0.66316427 0.35418031]\n",
      "[0.68546001 0.26824168] [0.77171604 0.3046083 ]\n",
      "[0.77171604 0.3046083 ] [0.7728843  0.30610447]\n",
      "[0.7728843  0.30610447] [0.78141642 0.47851023]\n",
      "[0.66316427 0.35418031] [0.70486788 0.46772645]\n",
      "[0.7734495  0.48387431] [0.71693748 0.48605425]\n",
      "[0.7734495  0.48387431] [0.78141642 0.47851023]\n",
      "[0.71693748 0.48605425] [0.70486788 0.46772645]\n",
      "[0.67212617 0.23192858] [0.61931359 0.22570351]\n",
      "[0.67212617 0.23192858] [0.68546001 0.26824168]\n",
      "[0.61931359 0.22570351] [0.57662016 0.2957149 ]\n",
      "[0.57662016 0.2957149 ] [0.56810589 0.34448753]\n",
      "[0.56810589 0.34448753] [0.66316427 0.35418031]\n",
      "[0.71837221 0.17238634] [0.67212617 0.23192858]\n",
      "[0.78591387 0.27599855] [0.77171604 0.3046083 ]\n",
      "[0.89113787 0.30338892] [0.7728843  0.30610447]\n",
      "[0.95292689 0.42658719] [0.78141642 0.47851023]\n",
      "[0.83694632 0.66032527] [0.7734495  0.48387431]\n",
      "[0.69044951 0.50924833] [0.6671021  0.63637539]\n",
      "[0.69044951 0.50924833] [0.71693748 0.48605425]\n",
      "[0.6671021  0.63637539] [0.7251218  0.69912428]\n",
      "[0.56400008 0.29117974] [0.57662016 0.2957149 ]\n",
      "[0.56400008 0.29117974] [0.50861916 0.28216108]\n",
      "[0.56810589 0.34448753] [0.52976077 0.37057518]\n",
      "[0.50861916 0.28216108] [0.52976077 0.37057518]\n",
      "[0.2805553 0.1446904] [0.33933317 0.03575641]\n",
      "[0.33192123 0.24990802] [0.42031053 0.20430592]\n",
      "[0.42031053 0.20430592] [0.33933317 0.03575641]\n",
      "[0.34157344 0.01009209] [0.3422177  0.02055231]\n",
      "[0.3422177  0.02055231] [0.33933317 0.03575641]\n",
      "[-0.39226     0.68849077] [-0.04625587  0.635659  ]\n",
      "[-0.0232452   0.39572284] [-0.00054574  0.40680445]\n",
      "[-0.04625587  0.635659  ] [0.04760605 0.59719004]\n",
      "[0.04760605 0.59719004] [0.10333496 0.5237154 ]\n",
      "[-0.00054574  0.40680445] [0.10333496 0.5237154 ]\n",
      "[0.27914424 0.32388737] [0.29109123 0.40838106]\n",
      "[0.25105593 0.4071583 ] [0.29109123 0.40838106]\n",
      "[0.25105593 0.4071583 ] [0.21400835 0.39144952]\n",
      "[0.17358525 0.31000598] [0.19475412 0.37118632]\n",
      "[0.21400835 0.39144952] [0.19475412 0.37118632]\n",
      "[0.69044951 0.50924833] [0.54287877 0.52873244]\n",
      "[0.70486788 0.46772645] [0.53662404 0.39020273]\n",
      "[0.54287877 0.52873244] [0.53662404 0.39020273]\n",
      "[0.52976077 0.37057518] [0.52745992 0.37397171]\n",
      "[0.53662404 0.39020273] [0.52745992 0.37397171]\n",
      "[0.61824038 0.8954848 ] [0.66461452 0.92283245]\n",
      "[0.61824038 0.8954848 ] [0.70363899 0.82723322]\n",
      "[0.70363899 0.82723322] [0.70112455 0.89274806]\n",
      "[0.66461452 0.92283245] [0.70112455 0.89274806]\n",
      "[0.59165331 0.88777042] [0.5860767  0.89670306]\n",
      "[0.59165331 0.88777042] [0.61824038 0.8954848 ]\n",
      "[0.78583072 1.08597963] [0.66461452 0.92283245]\n",
      "[0.77441282 0.84792681] [0.70112455 0.89274806]\n",
      "[0.71569479 0.81441018] [0.70363899 0.82723322]\n",
      "[0.62000784 0.66105344] [0.63028993 0.77290741]\n",
      "[0.62000784 0.66105344] [0.55532658 0.65866575]\n",
      "[0.55532658 0.65866575] [0.54778202 0.6679792 ]\n",
      "[0.54778202 0.6679792 ] [0.54700676 0.80994175]\n",
      "[0.63028993 0.77290741] [0.56363418 0.81931165]\n",
      "[0.56363418 0.81931165] [0.54700676 0.80994175]\n",
      "[0.6671021  0.63637539] [0.62000784 0.66105344]\n",
      "[0.67091864 0.76734685] [0.63028993 0.77290741]\n",
      "[0.54287877 0.52873244] [0.5242973  0.54023887]\n",
      "[0.5242973  0.54023887] [0.55532658 0.65866575]\n",
      "[0.50957715 0.80820061] [0.54700676 0.80994175]\n",
      "[0.44763326 0.77170075] [0.48942987 0.68824309]\n",
      "[0.48942987 0.68824309] [0.52286704 0.67090703]\n",
      "[0.52286704 0.67090703] [0.54778202 0.6679792 ]\n",
      "[0.59165331 0.88777042] [0.56363418 0.81931165]\n",
      "[0.61931359 0.22570351] [0.59641262 0.21142628]\n",
      "[0.56400008 0.29117974] [0.52144227 0.25232032]\n",
      "[0.52144227 0.25232032] [0.59641262 0.21142628]\n",
      "[0.50861916 0.28216108] [0.49729374 0.26166044]\n",
      "[0.52144227 0.25232032] [0.49729374 0.26166044]\n",
      "[0.16951419 0.44448474] [0.15077298 0.46346674]\n",
      "[0.16951419 0.44448474] [0.17721576 0.40128311]\n",
      "[0.15077298 0.46346674] [0.12016845 0.42618288]\n",
      "[0.12016845 0.42618288] [0.14036079 0.37801791]\n",
      "[0.17721576 0.40128311] [0.1650642  0.38785729]\n",
      "[0.14036079 0.37801791] [0.1650642  0.38785729]\n",
      "[0.25105593 0.4071583 ] [0.16951419 0.44448474]\n",
      "[0.21400835 0.39144952] [0.17721576 0.40128311]\n",
      "[-0.00054574  0.40680445] [0.12016845 0.42618288]\n",
      "[0.10333496 0.5237154 ] [0.15053205 0.50483113]\n",
      "[0.15452096 0.49903493] [0.15077298 0.46346674]\n",
      "[0.15452096 0.49903493] [0.15053205 0.50483113]\n",
      "[0.13667937 0.34962855] [0.14036079 0.37801791]\n",
      "[0.19475412 0.37118632] [0.1650642  0.38785729]\n",
      "[0.48942987 0.68824309] [0.46057307 0.67737732]\n",
      "[0.52286704 0.67090703] [0.47034561 0.64131345]\n",
      "[0.47034561 0.64131345] [0.46057307 0.67737732]\n",
      "[0.45323088 0.55490613] [0.47830544 0.53775126]\n",
      "[0.45323088 0.55490613] [0.34597677 0.53524559]\n",
      "[0.47830544 0.53775126] [0.42827365 0.42498194]\n",
      "[0.42827365 0.42498194] [0.36145621 0.42101752]\n",
      "[0.30990054 0.43320564] [0.29606512 0.49627856]\n",
      "[0.30990054 0.43320564] [0.35129906 0.42233559]\n",
      "[0.35129906 0.42233559] [0.36145621 0.42101752]\n",
      "[0.34597677 0.53524559] [0.3031272  0.52111162]\n",
      "[0.29606512 0.49627856] [0.3031272  0.52111162]\n",
      "[0.5242973  0.54023887] [0.47830544 0.53775126]\n",
      "[0.43759235 0.60026789] [0.47034561 0.64131345]\n",
      "[0.43759235 0.60026789] [0.45323088 0.55490613]\n",
      "[0.43759235 0.60026789] [0.390337  0.6579497]\n",
      "[0.390337  0.6579497] [0.34597677 0.53524559]\n",
      "[0.47032906 0.37975397] [0.42827365 0.42498194]\n",
      "[0.47032906 0.37975397] [0.52745992 0.37397171]\n",
      "[0.29109123 0.40838106] [0.30990054 0.43320564]\n",
      "[0.15452096 0.49903493] [0.29606512 0.49627856]\n",
      "[0.29136386 0.31370627] [0.36662579 0.33319191]\n",
      "[0.36662579 0.33319191] [0.35129906 0.42233559]\n",
      "[0.56654637 0.12174245] [0.58952248 0.20143039]\n",
      "[0.56654637 0.12174245] [0.49633531 0.13441675]\n",
      "[0.58952248 0.20143039] [0.48485807 0.19255538]\n",
      "[0.49633531 0.13441675] [0.48485807 0.19255538]\n",
      "[0.57994559 0.09173587] [0.56654637 0.12174245]\n",
      "[0.59641262 0.21142628] [0.58952248 0.20143039]\n",
      "[0.3422177  0.02055231] [0.49633531 0.13441675]\n",
      "[0.49729374 0.26166044] [0.456681   0.24686423]\n",
      "[0.456681   0.24686423] [0.45215496 0.22837908]\n",
      "[0.45215496 0.22837908] [0.48485807 0.19255538]\n",
      "[0.42031053 0.20430592] [0.45215496 0.22837908]\n",
      "[0.37894569 0.32452629] [0.38914221 0.34906461]\n",
      "[0.37894569 0.32452629] [0.39159601 0.29316961]\n",
      "[0.38914221 0.34906461] [0.44216206 0.3268257 ]\n",
      "[0.39159601 0.29316961] [0.4315829  0.28946008]\n",
      "[0.4315829  0.28946008] [0.44216206 0.3268257 ]\n"
     ]
    },
    {
     "name": "stdout",
     "output_type": "stream",
     "text": [
      "[0.36662579 0.33319191] [0.37894569 0.32452629]\n",
      "[0.36145621 0.42101752] [0.38914221 0.34906461]\n",
      "[0.33115473 0.26959723] [0.39159601 0.29316961]\n",
      "[0.47032906 0.37975397] [0.44216206 0.3268257 ]\n",
      "[0.456681   0.24686423] [0.4315829  0.28946008]\n",
      "[0.29048863 0.55598494] [0.38019116 0.67440959]\n",
      "[0.29048863 0.55598494] [0.27588459 0.57282621]\n",
      "[0.27588459 0.57282621] [0.29630563 0.74282076]\n",
      "[0.37829189 0.68538514] [0.38019116 0.67440959]\n",
      "[0.37829189 0.68538514] [0.35181931 0.74825266]\n",
      "[0.35181931 0.74825266] [0.32849764 0.74682647]\n",
      "[0.32849764 0.74682647] [0.29630563 0.74282076]\n",
      "[0.390337  0.6579497] [0.38019116 0.67440959]\n",
      "[0.3031272  0.52111162] [0.29048863 0.55598494]\n",
      "[0.46057307 0.67737732] [0.37829189 0.68538514]\n",
      "[0.35206171 0.74849571] [0.35181931 0.74825266]\n",
      "[0.26952483 0.92428224] [0.32849764 0.74682647]\n",
      "[0.18993023 0.59982689] [0.15260836 0.62850493]\n",
      "[0.18993023 0.59982689] [0.21267927 0.6018216 ]\n",
      "[0.21267927 0.6018216 ] [0.2574911  0.74863267]\n",
      "[0.15260836 0.62850493] [0.16016613 0.72779089]\n",
      "[0.16016613 0.72779089] [0.19131887 0.7777733 ]\n",
      "[0.19131887 0.7777733 ] [0.2574911  0.74863267]\n",
      "[0.04760605 0.59719004] [0.15260836 0.62850493]\n",
      "[0.15053205 0.50483113] [0.18993023 0.59982689]\n",
      "[0.27588459 0.57282621] [0.21267927 0.6018216 ]\n",
      "[0.29630563 0.74282076] [0.2574911  0.74863267]\n",
      "[-0.04625587  0.635659  ] [0.16016613 0.72779089]\n",
      "[0.15662399 0.83760828] [0.19131887 0.7777733 ]\n"
     ]
    },
    {
     "data": {
      "image/png": "[encoded data removed]",
      "text/plain": [
       "<Figure size 432x288 with 1 Axes>"
      ]
     },
     "metadata": {},
     "output_type": "display_data"
    }
   ],
   "source": [
    "fig = plt.figure()\n",
    "\n",
    "# Mark the Voronoi vertices.\n",
    "plt.plot(vor.vertices[:,0], vor.vertices[:, 1], 'ko', ms=8)\n",
    "\n",
    "for vpair in vor.ridge_vertices:\n",
    "    if vpair[0] >= 0 and vpair[1] >= 0:\n",
    "        v0 = vor.vertices[vpair[0]]\n",
    "        v1 = vor.vertices[vpair[1]]\n",
    "        \n",
    "        print(v0, v1)\n",
    "        # Draw a line from v0 to v1.\n",
    "        plt.plot([v0[0], v1[0]], [v0[1], v1[1]], 'k', linewidth=2)\n",
    "\n",
    "plt.show()"
   ]
  },
  {
   "cell_type": "code",
   "execution_count": 191,
   "metadata": {},
   "outputs": [
    {
     "data": {
      "text/plain": [
       "[[1, -1, 0],\n",
       " [17, 5, 2, -1, 16],\n",
       " [23, 21, 20, 22],\n",
       " [23, -1, 6, 19, 18, 21],\n",
       " [23, -1, 2, 4, 22],\n",
       " [27, 25, 24, 26],\n",
       " [34, 32, 31, 33],\n",
       " [40, 39, 38, -1],\n",
       " [38, 15, 7, 6, -1],\n",
       " [],\n",
       " [39, 13, 14, 15, 38],\n",
       " [40, 36, 37, 31, 33, -1],\n",
       " [42, 25, 24, 10, 9, -1, 1, 3, 41],\n",
       " [44, 0, 1, 3, 43],\n",
       " [46, 44, 0, -1, 45],\n",
       " [49, 16, 17, 47],\n",
       " [50, 45, -1, 16, 49],\n",
       " [53, 4, 22, 20, 52],\n",
       " [59, 29, 27, 26, 11, 58],\n",
       " [61, 34, 33, -1, 9, 8, 60],\n",
       " [68, 36, 37, 35, 65],\n",
       " [66, 57, 28, 35, 65],\n",
       " [68, 36, 40, 39, 13, 67],\n",
       " [70, 43, 3, 41, 69],\n",
       " [75, 55, 54, 51, 73, 72, 74],\n",
       " [77, 55, 54, 53, 52, 76],\n",
       " [78, 18, 21, 20, 52, 76],\n",
       " [79, 56, 19, 18, 78],\n",
       " [84, 79, 78, 76, 77, 83],\n",
       " [86, 58, 11, 63, 64, 85],\n",
       " [90, 87, 86, 58, 59, 89],\n",
       " [94, 92, 91, 93],\n",
       " [93, 10, 9, 8, 91],\n",
       " [92, 60, 8, 91],\n",
       " [94, 63, 64, 62, 61, 60, 92],\n",
       " [94, 63, 11, 26, 24, 10, 93],\n",
       " [98, 96, 95, 97],\n",
       " [97, 46, 45, 50, 48, 95],\n",
       " [98, 70, 43, 44, 46, 97],\n",
       " [110, 106, 103, 104, 105, 108, 107, 109],\n",
       " [106, 102, 101, 99, 71, 103],\n",
       " [104, 96, 95, 48, 71, 103],\n",
       " [105, 69, 70, 98, 96, 104],\n",
       " [108, 42, 41, 69, 105],\n",
       " [109, 30, 88, 89, 59, 29, 107],\n",
       " [108, 42, 25, 27, 29, 107],\n",
       " [112, 102, 101, 100, 111],\n",
       " [115, 51, 73, 113],\n",
       " [115, 51, 54, 53, 4, 2, 5, 114],\n",
       " [118, 116, 80, 7, 6, 19, 56, 117],\n",
       " [122, 83, 77, 55, 75, 82, 81, 121],\n",
       " [128, 110, 109, 30, 125],\n",
       " [129, 112, 102, 106, 110, 128],\n",
       " [133, 131, 130, 132],\n",
       " [132, 62, 61, 34, 32, 12, 130],\n",
       " [133, 85, 86, 87, 131],\n",
       " [133, 85, 64, 62, 132],\n",
       " [139, 136, 135, 134, 137, 138],\n",
       " [137, 90, 89, 88, 134],\n",
       " [135, 126, 125, 30, 88, 134],\n",
       " [139, 28, 57, 123, 124, 136],\n",
       " [138, 12, 130, 131, 87, 90, 137],\n",
       " [139, 28, 35, 37, 31, 32, 12, 138],\n",
       " [142, 99, 101, 100, 140],\n",
       " [141, 111, 100, 140],\n",
       " [150, 148, 145, 146, 147, 149],\n",
       " [148, 121, 81, 145],\n",
       " [147, 117, 118, 120, 119, 146],\n",
       " [149, 84, 79, 56, 117, 147],\n",
       " [150, 122, 121, 148],\n",
       " [150, 122, 83, 84, 149],\n",
       " [154, 123, 124, 153],\n",
       " [164, 162, 156, 157, 158, 161, 160, 159, 163],\n",
       " [157, 126, 135, 136, 124, 153, 152, 156],\n",
       " [162, 155, 152, 156],\n",
       " [158, 127, 129, 128, 125, 126, 157],\n",
       " [163, 119, 146, 145, 81, 82, 159],\n",
       " [160, 151, 74, 75, 82, 159],\n",
       " [168, 166, 165, 167],\n",
       " [166, 142, 99, 71, 48, 50, 49, 47, 165],\n",
       " [167, 114, 5, 17, 47, 165],\n",
       " [168, 144, 143, 141, 140, 142, 166],\n",
       " [168, 144, 113, 115, 114, 167],\n",
       " [173, 170, 169, 171, 172],\n",
       " [170, 161, 160, 151, 169],\n",
       " [171, 72, 74, 151, 169],\n",
       " [173, 127, 158, 161, 170],\n",
       " [172, 143, 144, 113, 73, 72, 171],\n",
       " [173, 127, 129, 112, 111, 141, 143, 172],\n",
       " [180, 175, 174, 177, 176, 178, 179],\n",
       " [177, 155, 162, 164, 174],\n",
       " [177, 155, 152, 153, 154, 176],\n",
       " [178, 66, 57, 123, 154, 176],\n",
       " [179, 67, 68, 65, 66, 178],\n",
       " [186, 182, 181, 183, 184, 185],\n",
       " [183, 116, 118, 120, 181],\n",
       " [182, 175, 174, 164, 163, 119, 120, 181],\n",
       " [186, 180, 175, 182],\n",
       " [184, 80, 116, 183],\n",
       " [185, 14, 15, 7, 80, 184],\n",
       " [186, 180, 179, 67, 13, 14, 185]]"
      ]
     },
     "execution_count": 191,
     "metadata": {},
     "output_type": "execute_result"
    }
   ],
   "source": [
    "vor.regions"
   ]
  },
  {
   "cell_type": "markdown",
   "metadata": {},
   "source": [
    "### Assemble lists of vertex positions for bqplot"
   ]
  },
  {
   "cell_type": "code",
   "execution_count": 192,
   "metadata": {},
   "outputs": [
    {
     "name": "stdout",
     "output_type": "stream",
     "text": [
      "[23, 21, 20, 22]\n",
      "[27, 25, 24, 26]\n",
      "[34, 32, 31, 33]\n",
      "[39, 13, 14, 15, 38]\n",
      "[44, 0, 1, 3, 43]\n",
      "[49, 16, 17, 47]\n",
      "[53, 4, 22, 20, 52]\n",
      "[59, 29, 27, 26, 11, 58]\n",
      "[68, 36, 37, 35, 65]\n",
      "[66, 57, 28, 35, 65]\n",
      "[68, 36, 40, 39, 13, 67]\n",
      "[70, 43, 3, 41, 69]\n",
      "[75, 55, 54, 51, 73, 72, 74]\n",
      "[77, 55, 54, 53, 52, 76]\n",
      "[78, 18, 21, 20, 52, 76]\n",
      "[79, 56, 19, 18, 78]\n",
      "[84, 79, 78, 76, 77, 83]\n",
      "[86, 58, 11, 63, 64, 85]\n",
      "[90, 87, 86, 58, 59, 89]\n",
      "[94, 92, 91, 93]\n",
      "[93, 10, 9, 8, 91]\n",
      "[92, 60, 8, 91]\n",
      "[94, 63, 64, 62, 61, 60, 92]\n",
      "[94, 63, 11, 26, 24, 10, 93]\n",
      "[98, 96, 95, 97]\n",
      "[97, 46, 45, 50, 48, 95]\n",
      "[98, 70, 43, 44, 46, 97]\n",
      "[110, 106, 103, 104, 105, 108, 107, 109]\n",
      "[106, 102, 101, 99, 71, 103]\n",
      "[104, 96, 95, 48, 71, 103]\n",
      "[105, 69, 70, 98, 96, 104]\n",
      "[108, 42, 41, 69, 105]\n",
      "[109, 30, 88, 89, 59, 29, 107]\n",
      "[108, 42, 25, 27, 29, 107]\n",
      "[112, 102, 101, 100, 111]\n",
      "[115, 51, 73, 113]\n",
      "[115, 51, 54, 53, 4, 2, 5, 114]\n",
      "[118, 116, 80, 7, 6, 19, 56, 117]\n",
      "[122, 83, 77, 55, 75, 82, 81, 121]\n",
      "[128, 110, 109, 30, 125]\n",
      "[129, 112, 102, 106, 110, 128]\n",
      "[133, 131, 130, 132]\n",
      "[132, 62, 61, 34, 32, 12, 130]\n",
      "[133, 85, 86, 87, 131]\n",
      "[133, 85, 64, 62, 132]\n",
      "[139, 136, 135, 134, 137, 138]\n",
      "[137, 90, 89, 88, 134]\n",
      "[135, 126, 125, 30, 88, 134]\n",
      "[139, 28, 57, 123, 124, 136]\n",
      "[138, 12, 130, 131, 87, 90, 137]\n",
      "[139, 28, 35, 37, 31, 32, 12, 138]\n",
      "[142, 99, 101, 100, 140]\n",
      "[141, 111, 100, 140]\n",
      "[150, 148, 145, 146, 147, 149]\n",
      "[148, 121, 81, 145]\n",
      "[147, 117, 118, 120, 119, 146]\n",
      "[149, 84, 79, 56, 117, 147]\n",
      "[150, 122, 121, 148]\n",
      "[150, 122, 83, 84, 149]\n",
      "[154, 123, 124, 153]\n",
      "[164, 162, 156, 157, 158, 161, 160, 159, 163]\n",
      "[157, 126, 135, 136, 124, 153, 152, 156]\n",
      "[162, 155, 152, 156]\n",
      "[158, 127, 129, 128, 125, 126, 157]\n",
      "[163, 119, 146, 145, 81, 82, 159]\n",
      "[160, 151, 74, 75, 82, 159]\n",
      "[168, 166, 165, 167]\n",
      "[166, 142, 99, 71, 48, 50, 49, 47, 165]\n",
      "[167, 114, 5, 17, 47, 165]\n",
      "[168, 144, 143, 141, 140, 142, 166]\n",
      "[168, 144, 113, 115, 114, 167]\n",
      "[173, 170, 169, 171, 172]\n",
      "[170, 161, 160, 151, 169]\n",
      "[171, 72, 74, 151, 169]\n",
      "[173, 127, 158, 161, 170]\n",
      "[172, 143, 144, 113, 73, 72, 171]\n",
      "[173, 127, 129, 112, 111, 141, 143, 172]\n",
      "[180, 175, 174, 177, 176, 178, 179]\n",
      "[177, 155, 162, 164, 174]\n",
      "[177, 155, 152, 153, 154, 176]\n",
      "[178, 66, 57, 123, 154, 176]\n",
      "[179, 67, 68, 65, 66, 178]\n",
      "[186, 182, 181, 183, 184, 185]\n",
      "[183, 116, 118, 120, 181]\n",
      "[182, 175, 174, 164, 163, 119, 120, 181]\n",
      "[186, 180, 175, 182]\n",
      "[184, 80, 116, 183]\n",
      "[185, 14, 15, 7, 80, 184]\n",
      "[186, 180, 179, 67, 13, 14, 185]\n"
     ]
    }
   ],
   "source": [
    "patch_data = {}\n",
    "patch_data['x'] = []\n",
    "patch_data['y'] = []\n",
    "for inst_region in vor.regions:\n",
    "    if -1 not in inst_region and len(inst_region) > 0:\n",
    "        \n",
    "        print(inst_region)\n",
    "        \n",
    "        x_list = []\n",
    "        y_list = []\n",
    "        for inst_vertex in inst_region:\n",
    "            inst_pos = vor.vertices[inst_vertex]\n",
    "            x_list.append(inst_pos[0])\n",
    "            y_list.append(inst_pos[1])\n",
    "            \n",
    "        patch_data['x'].append(x_list)\n",
    "        patch_data['y'].append(y_list)    "
   ]
  },
  {
   "cell_type": "code",
   "execution_count": 199,
   "metadata": {},
   "outputs": [
    {
     "data": {
      "application/vnd.jupyter.widget-view+json": {
       "model_id": "e1de8f6bde424cb69252509656e611b0",
       "version_major": 2,
       "version_minor": 0
      },
      "text/plain": [
       "Figure(animation_duration=1000, axes=[Axis(scale=LinearScale(), visible=False), Axis(orientation='vertical', s…"
      ]
     },
     "metadata": {},
     "output_type": "display_data"
    }
   ],
   "source": [
    "import bqplot.pyplot as plt\n",
    "fig = plt.figure(animation_duration=1000)\n",
    "patch = plt.plot([],[],\n",
    "                 fill_colors=['orange', 'blue', 'red'],\n",
    "                 fill='inside',\n",
    "                 axes_options={'x': {'visible': False}, 'y': {'visible': False}},\n",
    "                 stroke_width=1,\n",
    "                 close_path=True,\n",
    "                 tooltip=def_tt,)\n",
    "\n",
    "# patch.x = [[4,   5,   6,   6,   5,   4,   3,  1], [1, 2, 3]], \n",
    "# patch.y = [[1, 1.1, 1.2, 2.3, 2.2, 2.7, 1.0, -2], [3, 2, 3]]\n",
    "\n",
    "patch.x = patch_data['x']\n",
    "patch.y = patch_data['y']\n",
    "\n",
    "fig"
   ]
  },
  {
   "cell_type": "code",
   "execution_count": 194,
   "metadata": {},
   "outputs": [
    {
     "data": {
      "text/plain": [
       "89"
      ]
     },
     "execution_count": 194,
     "metadata": {},
     "output_type": "execute_result"
    }
   ],
   "source": [
    "len(patch_data['x'])"
   ]
  },
  {
   "cell_type": "code",
   "execution_count": null,
   "metadata": {},
   "outputs": [],
   "source": []
  }
 ],
 "metadata": {
  "anaconda-cloud": {},
  "kernelspec": {
   "display_name": "Python 3",
   "language": "python",
   "name": "python3"
  },
  "language_info": {
   "codemirror_mode": {
    "name": "ipython",
    "version": 3
   },
   "file_extension": ".py",
   "mimetype": "text/x-python",
   "name": "python",
   "nbconvert_exporter": "python",
   "pygments_lexer": "ipython3",
   "version": "3.6.5"
  }
 },
 "nbformat": 4,
 "nbformat_minor": 1
}
