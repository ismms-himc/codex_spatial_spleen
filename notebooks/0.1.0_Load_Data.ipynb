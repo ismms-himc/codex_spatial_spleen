{
 "cells": [
  {
   "cell_type": "markdown",
   "metadata": {},
   "source": [
    "# 0.1.0 Load Data\n",
    "* Codex Data obtained from: http://welikesharingdata.blob.core.windows.net/forshare/index.html\n",
    "* Manuscript: https://www.cell.com/cell/pdf/S0092-8674(18)30904-8.pdf"
   ]
  },
  {
   "cell_type": "code",
   "execution_count": 7,
   "metadata": {},
   "outputs": [],
   "source": [
    "import pandas as pd\n",
    "df = {}"
   ]
  },
  {
   "cell_type": "code",
   "execution_count": 2,
   "metadata": {},
   "outputs": [],
   "source": [
    "from glob import glob"
   ]
  },
  {
   "cell_type": "markdown",
   "metadata": {},
   "source": [
    "## Check available Files"
   ]
  },
  {
   "cell_type": "code",
   "execution_count": 3,
   "metadata": {},
   "outputs": [
    {
     "data": {
      "text/plain": [
       "['../data/big_data/channelNames_BALBcMRLdataset.txt',\n",
       " '../data/big_data/Additional examples of cell passports - related to FIgure S2.pptx',\n",
       " '../data/big_data/CODEX_MRLdataset_neighborhood_graph.csv',\n",
       " '../data/big_data/Additional examples of interacting cells - related to Figure S5.pptx',\n",
       " '../data/big_data/BALBcMRLdataset_exposuretimes.csv',\n",
       " '../data/big_data/zipped_files',\n",
       " '../data/big_data/Suppl.Table2.CODEX_paper_MRLdatasetexpression.csv']"
      ]
     },
     "execution_count": 3,
     "metadata": {},
     "output_type": "execute_result"
    }
   ],
   "source": [
    "glob('../data/big_data/*')"
   ]
  },
  {
   "cell_type": "markdown",
   "metadata": {},
   "source": [
    "# Convert to Parquet"
   ]
  },
  {
   "cell_type": "markdown",
   "metadata": {},
   "source": [
    "## Expression Data"
   ]
  },
  {
   "cell_type": "code",
   "execution_count": 25,
   "metadata": {},
   "outputs": [
    {
     "name": "stdout",
     "output_type": "stream",
     "text": [
      "(734101, 38)\n",
      "CPU times: user 8.76 s, sys: 511 ms, total: 9.27 s\n",
      "Wall time: 8.56 s\n"
     ]
    }
   ],
   "source": [
    "%%time\n",
    "df['exp'] = pd.read_csv('../data/big_data/Suppl.Table2.CODEX_paper_MRLdatasetexpression.csv')\n",
    "new_rows = [str(x) for x in df['exp'].index.tolist()]\n",
    "df['exp'].index = new_rows\n",
    "print(df['exp'].shape)"
   ]
  },
  {
   "cell_type": "code",
   "execution_count": null,
   "metadata": {},
   "outputs": [],
   "source": [
    "%%time\n",
    "df['exp'].transpose().to_parquet('../data/big_data/parquet_files/expression.txt')\n",
    "df['exp'].to_parquet('../data/big_data/parquet_files/expression-t.txt')"
   ]
  },
  {
   "cell_type": "code",
   "execution_count": null,
   "metadata": {},
   "outputs": [],
   "source": []
  },
  {
   "cell_type": "code",
   "execution_count": null,
   "metadata": {},
   "outputs": [],
   "source": []
  },
  {
   "cell_type": "markdown",
   "metadata": {},
   "source": [
    "### Load Expression Levels"
   ]
  },
  {
   "cell_type": "code",
   "execution_count": 9,
   "metadata": {},
   "outputs": [
    {
     "name": "stdout",
     "output_type": "stream",
     "text": [
      "(734101, 38)\n",
      "CPU times: user 9.31 s, sys: 478 ms, total: 9.78 s\n",
      "Wall time: 9.48 s\n"
     ]
    }
   ],
   "source": [
    "%%time\n",
    "df['exp'] = pd.read_csv('../data/big_data/Suppl.Table2.CODEX_paper_MRLdatasetexpression.csv')\n",
    "print(df['exp'].shape)"
   ]
  },
  {
   "cell_type": "code",
   "execution_count": 12,
   "metadata": {},
   "outputs": [
    {
     "name": "stdout",
     "output_type": "stream",
     "text": [
      "<class 'pandas.core.frame.DataFrame'>\n",
      "RangeIndex: 734101 entries, 0 to 734100\n",
      "Data columns (total 38 columns):\n",
      "Imaging phenotype cluster ID    734101 non-null int64\n",
      "CD45                            734101 non-null float64\n",
      "Ly6C                            734101 non-null float64\n",
      "TCR                             734101 non-null float64\n",
      "Ly6G                            734101 non-null float64\n",
      "CD19                            734101 non-null float64\n",
      "CD169                           734101 non-null float64\n",
      "CD106                           734101 non-null float64\n",
      "CD3                             734101 non-null float64\n",
      "CD1632                          734101 non-null float64\n",
      "CD8a                            734101 non-null float64\n",
      "CD90                            734101 non-null float64\n",
      "F480                            734101 non-null float64\n",
      "CD11c                           734101 non-null float64\n",
      "Ter119                          734101 non-null float64\n",
      "CD11b                           734101 non-null float64\n",
      "IgD                             734101 non-null float64\n",
      "CD27                            734101 non-null float64\n",
      "CD5                             734101 non-null float64\n",
      "CD79b                           734101 non-null float64\n",
      "CD71                            734101 non-null float64\n",
      "CD31                            734101 non-null float64\n",
      "CD4                             734101 non-null float64\n",
      "IgM                             734101 non-null float64\n",
      "B220                            734101 non-null float64\n",
      "ERTR7                           734101 non-null float64\n",
      "CD35                            734101 non-null float64\n",
      "CD2135                          734101 non-null float64\n",
      "CD44                            734101 non-null float64\n",
      "NKp46                           734101 non-null float64\n",
      "X.X                             734101 non-null int64\n",
      "Y.Y                             734101 non-null int64\n",
      "Z.Z                             734101 non-null int64\n",
      "MHCII                           734101 non-null float64\n",
      "blank_Cy3_cyc15                 734101 non-null float64\n",
      "blank_Cy5_cyc15                 734101 non-null float64\n",
      "sample_Xtile_Ytile              734101 non-null object\n",
      "niche cluster ID                707290 non-null float64\n",
      "dtypes: float64(33), int64(4), object(1)\n",
      "memory usage: 212.8+ MB\n"
     ]
    }
   ],
   "source": [
    "df['exp'].info()"
   ]
  },
  {
   "cell_type": "code",
   "execution_count": 13,
   "metadata": {},
   "outputs": [
    {
     "data": {
      "text/html": [
       "<div>\n",
       "<style scoped>\n",
       "    .dataframe tbody tr th:only-of-type {\n",
       "        vertical-align: middle;\n",
       "    }\n",
       "\n",
       "    .dataframe tbody tr th {\n",
       "        vertical-align: top;\n",
       "    }\n",
       "\n",
       "    .dataframe thead th {\n",
       "        text-align: right;\n",
       "    }\n",
       "</style>\n",
       "<table border=\"1\" class=\"dataframe\">\n",
       "  <thead>\n",
       "    <tr style=\"text-align: right;\">\n",
       "      <th></th>\n",
       "      <th>Imaging phenotype cluster ID</th>\n",
       "      <th>CD45</th>\n",
       "      <th>Ly6C</th>\n",
       "      <th>TCR</th>\n",
       "      <th>Ly6G</th>\n",
       "      <th>CD19</th>\n",
       "      <th>CD169</th>\n",
       "      <th>CD106</th>\n",
       "      <th>CD3</th>\n",
       "      <th>CD1632</th>\n",
       "      <th>...</th>\n",
       "      <th>CD44</th>\n",
       "      <th>NKp46</th>\n",
       "      <th>X.X</th>\n",
       "      <th>Y.Y</th>\n",
       "      <th>Z.Z</th>\n",
       "      <th>MHCII</th>\n",
       "      <th>blank_Cy3_cyc15</th>\n",
       "      <th>blank_Cy5_cyc15</th>\n",
       "      <th>sample_Xtile_Ytile</th>\n",
       "      <th>niche cluster ID</th>\n",
       "    </tr>\n",
       "  </thead>\n",
       "  <tbody>\n",
       "    <tr>\n",
       "      <th>0</th>\n",
       "      <td>9600</td>\n",
       "      <td>1577.675415</td>\n",
       "      <td>-154.301758</td>\n",
       "      <td>130.692184</td>\n",
       "      <td>-4.168493</td>\n",
       "      <td>560.691345</td>\n",
       "      <td>-504.231476</td>\n",
       "      <td>854.670105</td>\n",
       "      <td>-631.294189</td>\n",
       "      <td>385.935242</td>\n",
       "      <td>...</td>\n",
       "      <td>422.408691</td>\n",
       "      <td>515.130066</td>\n",
       "      <td>10</td>\n",
       "      <td>70</td>\n",
       "      <td>13</td>\n",
       "      <td>6712.812988</td>\n",
       "      <td>1665.967896</td>\n",
       "      <td>398.348389</td>\n",
       "      <td>BALBc-3_X05_Y03</td>\n",
       "      <td>32.0</td>\n",
       "    </tr>\n",
       "    <tr>\n",
       "      <th>1</th>\n",
       "      <td>9600</td>\n",
       "      <td>1017.838440</td>\n",
       "      <td>-93.069397</td>\n",
       "      <td>144.076584</td>\n",
       "      <td>40.010998</td>\n",
       "      <td>885.595520</td>\n",
       "      <td>-391.357544</td>\n",
       "      <td>62.764454</td>\n",
       "      <td>-474.201172</td>\n",
       "      <td>-469.634583</td>\n",
       "      <td>...</td>\n",
       "      <td>448.701660</td>\n",
       "      <td>171.880310</td>\n",
       "      <td>1000</td>\n",
       "      <td>294</td>\n",
       "      <td>12</td>\n",
       "      <td>2024.678711</td>\n",
       "      <td>1287.959229</td>\n",
       "      <td>421.991425</td>\n",
       "      <td>BALBc-3_X01_Y02</td>\n",
       "      <td>99.0</td>\n",
       "    </tr>\n",
       "    <tr>\n",
       "      <th>2</th>\n",
       "      <td>9600</td>\n",
       "      <td>5978.459961</td>\n",
       "      <td>-330.099365</td>\n",
       "      <td>139.631744</td>\n",
       "      <td>-82.840302</td>\n",
       "      <td>1747.897583</td>\n",
       "      <td>-395.508820</td>\n",
       "      <td>954.326782</td>\n",
       "      <td>-1026.204468</td>\n",
       "      <td>3744.718262</td>\n",
       "      <td>...</td>\n",
       "      <td>2229.804443</td>\n",
       "      <td>512.220764</td>\n",
       "      <td>1003</td>\n",
       "      <td>107</td>\n",
       "      <td>8</td>\n",
       "      <td>8647.193359</td>\n",
       "      <td>2817.173828</td>\n",
       "      <td>709.545105</td>\n",
       "      <td>BALBc-2_X05_Y04</td>\n",
       "      <td>74.0</td>\n",
       "    </tr>\n",
       "    <tr>\n",
       "      <th>3</th>\n",
       "      <td>9600</td>\n",
       "      <td>6119.109375</td>\n",
       "      <td>-54.384808</td>\n",
       "      <td>-768.871704</td>\n",
       "      <td>25.625927</td>\n",
       "      <td>1065.311890</td>\n",
       "      <td>-485.535431</td>\n",
       "      <td>538.404175</td>\n",
       "      <td>-611.836426</td>\n",
       "      <td>865.842590</td>\n",
       "      <td>...</td>\n",
       "      <td>665.720459</td>\n",
       "      <td>351.108246</td>\n",
       "      <td>1003</td>\n",
       "      <td>113</td>\n",
       "      <td>13</td>\n",
       "      <td>4838.463379</td>\n",
       "      <td>1646.660278</td>\n",
       "      <td>408.523590</td>\n",
       "      <td>BALBc-2_X03_Y04</td>\n",
       "      <td>98.0</td>\n",
       "    </tr>\n",
       "    <tr>\n",
       "      <th>4</th>\n",
       "      <td>9600</td>\n",
       "      <td>6272.474609</td>\n",
       "      <td>-235.512405</td>\n",
       "      <td>74.058075</td>\n",
       "      <td>-101.729919</td>\n",
       "      <td>1186.295044</td>\n",
       "      <td>-782.744995</td>\n",
       "      <td>1261.625366</td>\n",
       "      <td>-915.565552</td>\n",
       "      <td>1361.536011</td>\n",
       "      <td>...</td>\n",
       "      <td>2065.742676</td>\n",
       "      <td>259.003235</td>\n",
       "      <td>1003</td>\n",
       "      <td>148</td>\n",
       "      <td>9</td>\n",
       "      <td>5092.891602</td>\n",
       "      <td>2161.109131</td>\n",
       "      <td>713.416199</td>\n",
       "      <td>BALBc-2_X02_Y01</td>\n",
       "      <td>71.0</td>\n",
       "    </tr>\n",
       "  </tbody>\n",
       "</table>\n",
       "<p>5 rows × 38 columns</p>\n",
       "</div>"
      ],
      "text/plain": [
       "   Imaging phenotype cluster ID         CD45        Ly6C         TCR  \\\n",
       "0                          9600  1577.675415 -154.301758  130.692184   \n",
       "1                          9600  1017.838440  -93.069397  144.076584   \n",
       "2                          9600  5978.459961 -330.099365  139.631744   \n",
       "3                          9600  6119.109375  -54.384808 -768.871704   \n",
       "4                          9600  6272.474609 -235.512405   74.058075   \n",
       "\n",
       "         Ly6G         CD19       CD169        CD106          CD3       CD1632  \\\n",
       "0   -4.168493   560.691345 -504.231476   854.670105  -631.294189   385.935242   \n",
       "1   40.010998   885.595520 -391.357544    62.764454  -474.201172  -469.634583   \n",
       "2  -82.840302  1747.897583 -395.508820   954.326782 -1026.204468  3744.718262   \n",
       "3   25.625927  1065.311890 -485.535431   538.404175  -611.836426   865.842590   \n",
       "4 -101.729919  1186.295044 -782.744995  1261.625366  -915.565552  1361.536011   \n",
       "\n",
       "         ...                CD44       NKp46   X.X  Y.Y  Z.Z        MHCII  \\\n",
       "0        ...          422.408691  515.130066    10   70   13  6712.812988   \n",
       "1        ...          448.701660  171.880310  1000  294   12  2024.678711   \n",
       "2        ...         2229.804443  512.220764  1003  107    8  8647.193359   \n",
       "3        ...          665.720459  351.108246  1003  113   13  4838.463379   \n",
       "4        ...         2065.742676  259.003235  1003  148    9  5092.891602   \n",
       "\n",
       "   blank_Cy3_cyc15  blank_Cy5_cyc15  sample_Xtile_Ytile  niche cluster ID  \n",
       "0      1665.967896       398.348389     BALBc-3_X05_Y03              32.0  \n",
       "1      1287.959229       421.991425     BALBc-3_X01_Y02              99.0  \n",
       "2      2817.173828       709.545105     BALBc-2_X05_Y04              74.0  \n",
       "3      1646.660278       408.523590     BALBc-2_X03_Y04              98.0  \n",
       "4      2161.109131       713.416199     BALBc-2_X02_Y01              71.0  \n",
       "\n",
       "[5 rows x 38 columns]"
      ]
     },
     "execution_count": 13,
     "metadata": {},
     "output_type": "execute_result"
    }
   ],
   "source": [
    "df['exp'].head()"
   ]
  },
  {
   "cell_type": "code",
   "execution_count": 24,
   "metadata": {},
   "outputs": [
    {
     "ename": "ValueError",
     "evalue": "parquet must have string column names",
     "output_type": "error",
     "traceback": [
      "\u001b[0;31m---------------------------------------------------------------------------\u001b[0m",
      "\u001b[0;31mValueError\u001b[0m                                Traceback (most recent call last)",
      "\u001b[0;32m<timed exec>\u001b[0m in \u001b[0;36m<module>\u001b[0;34m()\u001b[0m\n",
      "\u001b[0;32m~/anaconda3/lib/python3.6/site-packages/pandas/core/frame.py\u001b[0m in \u001b[0;36mto_parquet\u001b[0;34m(self, fname, engine, compression, **kwargs)\u001b[0m\n\u001b[1;32m   1940\u001b[0m         \u001b[0;32mfrom\u001b[0m \u001b[0mpandas\u001b[0m\u001b[0;34m.\u001b[0m\u001b[0mio\u001b[0m\u001b[0;34m.\u001b[0m\u001b[0mparquet\u001b[0m \u001b[0;32mimport\u001b[0m \u001b[0mto_parquet\u001b[0m\u001b[0;34m\u001b[0m\u001b[0m\n\u001b[1;32m   1941\u001b[0m         to_parquet(self, fname, engine,\n\u001b[0;32m-> 1942\u001b[0;31m                    compression=compression, **kwargs)\n\u001b[0m\u001b[1;32m   1943\u001b[0m \u001b[0;34m\u001b[0m\u001b[0m\n\u001b[1;32m   1944\u001b[0m     @Substitution(header='Write out the column names. If a list of strings '\n",
      "\u001b[0;32m~/anaconda3/lib/python3.6/site-packages/pandas/io/parquet.py\u001b[0m in \u001b[0;36mto_parquet\u001b[0;34m(df, path, engine, compression, **kwargs)\u001b[0m\n\u001b[1;32m    255\u001b[0m     \"\"\"\n\u001b[1;32m    256\u001b[0m     \u001b[0mimpl\u001b[0m \u001b[0;34m=\u001b[0m \u001b[0mget_engine\u001b[0m\u001b[0;34m(\u001b[0m\u001b[0mengine\u001b[0m\u001b[0;34m)\u001b[0m\u001b[0;34m\u001b[0m\u001b[0m\n\u001b[0;32m--> 257\u001b[0;31m     \u001b[0;32mreturn\u001b[0m \u001b[0mimpl\u001b[0m\u001b[0;34m.\u001b[0m\u001b[0mwrite\u001b[0m\u001b[0;34m(\u001b[0m\u001b[0mdf\u001b[0m\u001b[0;34m,\u001b[0m \u001b[0mpath\u001b[0m\u001b[0;34m,\u001b[0m \u001b[0mcompression\u001b[0m\u001b[0;34m=\u001b[0m\u001b[0mcompression\u001b[0m\u001b[0;34m,\u001b[0m \u001b[0;34m**\u001b[0m\u001b[0mkwargs\u001b[0m\u001b[0;34m)\u001b[0m\u001b[0;34m\u001b[0m\u001b[0m\n\u001b[0m\u001b[1;32m    258\u001b[0m \u001b[0;34m\u001b[0m\u001b[0m\n\u001b[1;32m    259\u001b[0m \u001b[0;34m\u001b[0m\u001b[0m\n",
      "\u001b[0;32m~/anaconda3/lib/python3.6/site-packages/pandas/io/parquet.py\u001b[0m in \u001b[0;36mwrite\u001b[0;34m(self, df, path, compression, coerce_timestamps, **kwargs)\u001b[0m\n\u001b[1;32m    105\u001b[0m     def write(self, df, path, compression='snappy',\n\u001b[1;32m    106\u001b[0m               coerce_timestamps='ms', **kwargs):\n\u001b[0;32m--> 107\u001b[0;31m         \u001b[0mself\u001b[0m\u001b[0;34m.\u001b[0m\u001b[0mvalidate_dataframe\u001b[0m\u001b[0;34m(\u001b[0m\u001b[0mdf\u001b[0m\u001b[0;34m)\u001b[0m\u001b[0;34m\u001b[0m\u001b[0m\n\u001b[0m\u001b[1;32m    108\u001b[0m         \u001b[0;32mif\u001b[0m \u001b[0mself\u001b[0m\u001b[0;34m.\u001b[0m\u001b[0m_pyarrow_lt_070\u001b[0m\u001b[0;34m:\u001b[0m\u001b[0;34m\u001b[0m\u001b[0m\n\u001b[1;32m    109\u001b[0m             \u001b[0mself\u001b[0m\u001b[0;34m.\u001b[0m\u001b[0m_validate_write_lt_070\u001b[0m\u001b[0;34m(\u001b[0m\u001b[0mdf\u001b[0m\u001b[0;34m)\u001b[0m\u001b[0;34m\u001b[0m\u001b[0m\n",
      "\u001b[0;32m~/anaconda3/lib/python3.6/site-packages/pandas/io/parquet.py\u001b[0m in \u001b[0;36mvalidate_dataframe\u001b[0;34m(df)\u001b[0m\n\u001b[1;32m     53\u001b[0m         \u001b[0;31m# must have value column names (strings only)\u001b[0m\u001b[0;34m\u001b[0m\u001b[0;34m\u001b[0m\u001b[0m\n\u001b[1;32m     54\u001b[0m         \u001b[0;32mif\u001b[0m \u001b[0mdf\u001b[0m\u001b[0;34m.\u001b[0m\u001b[0mcolumns\u001b[0m\u001b[0;34m.\u001b[0m\u001b[0minferred_type\u001b[0m \u001b[0;32mnot\u001b[0m \u001b[0;32min\u001b[0m \u001b[0;34m{\u001b[0m\u001b[0;34m'string'\u001b[0m\u001b[0;34m,\u001b[0m \u001b[0;34m'unicode'\u001b[0m\u001b[0;34m}\u001b[0m\u001b[0;34m:\u001b[0m\u001b[0;34m\u001b[0m\u001b[0m\n\u001b[0;32m---> 55\u001b[0;31m             \u001b[0;32mraise\u001b[0m \u001b[0mValueError\u001b[0m\u001b[0;34m(\u001b[0m\u001b[0;34m\"parquet must have string column names\"\u001b[0m\u001b[0;34m)\u001b[0m\u001b[0;34m\u001b[0m\u001b[0m\n\u001b[0m\u001b[1;32m     56\u001b[0m \u001b[0;34m\u001b[0m\u001b[0m\n\u001b[1;32m     57\u001b[0m         \u001b[0;31m# index level names must be strings\u001b[0m\u001b[0;34m\u001b[0m\u001b[0;34m\u001b[0m\u001b[0m\n",
      "\u001b[0;31mValueError\u001b[0m: parquet must have string column names"
     ]
    }
   ],
   "source": [
    "%%time\n",
    "df['exp'].transpose().to_parquet('../data/big_data/parquet_files/expression.txt')\n",
    "df['exp'].to_parquet('../data/big_data/parquet_files/expression-t.txt')"
   ]
  },
  {
   "cell_type": "code",
   "execution_count": 19,
   "metadata": {},
   "outputs": [
    {
     "name": "stdout",
     "output_type": "stream",
     "text": [
      "CPU times: user 1.49 s, sys: 507 ms, total: 2 s\n",
      "Wall time: 368 ms\n"
     ]
    }
   ],
   "source": [
    "%%time\n",
    "df['tmp'] = pd.read_parquet('../data/processed_data/tmp.parquet')"
   ]
  },
  {
   "cell_type": "code",
   "execution_count": 23,
   "metadata": {},
   "outputs": [
    {
     "data": {
      "text/html": [
       "<div>\n",
       "<style scoped>\n",
       "    .dataframe tbody tr th:only-of-type {\n",
       "        vertical-align: middle;\n",
       "    }\n",
       "\n",
       "    .dataframe tbody tr th {\n",
       "        vertical-align: top;\n",
       "    }\n",
       "\n",
       "    .dataframe thead th {\n",
       "        text-align: right;\n",
       "    }\n",
       "</style>\n",
       "<table border=\"1\" class=\"dataframe\">\n",
       "  <thead>\n",
       "    <tr style=\"text-align: right;\">\n",
       "      <th></th>\n",
       "      <th>Imaging phenotype cluster ID</th>\n",
       "      <th>CD45</th>\n",
       "      <th>Ly6C</th>\n",
       "      <th>TCR</th>\n",
       "      <th>Ly6G</th>\n",
       "      <th>CD19</th>\n",
       "      <th>CD169</th>\n",
       "      <th>CD106</th>\n",
       "      <th>CD3</th>\n",
       "      <th>CD1632</th>\n",
       "      <th>...</th>\n",
       "      <th>CD44</th>\n",
       "      <th>NKp46</th>\n",
       "      <th>X.X</th>\n",
       "      <th>Y.Y</th>\n",
       "      <th>Z.Z</th>\n",
       "      <th>MHCII</th>\n",
       "      <th>blank_Cy3_cyc15</th>\n",
       "      <th>blank_Cy5_cyc15</th>\n",
       "      <th>sample_Xtile_Ytile</th>\n",
       "      <th>niche cluster ID</th>\n",
       "    </tr>\n",
       "  </thead>\n",
       "  <tbody>\n",
       "    <tr>\n",
       "      <th>0</th>\n",
       "      <td>9600</td>\n",
       "      <td>1577.675415</td>\n",
       "      <td>-154.301758</td>\n",
       "      <td>130.692184</td>\n",
       "      <td>-4.168493</td>\n",
       "      <td>560.691345</td>\n",
       "      <td>-504.231476</td>\n",
       "      <td>854.670105</td>\n",
       "      <td>-631.294189</td>\n",
       "      <td>385.935242</td>\n",
       "      <td>...</td>\n",
       "      <td>422.408691</td>\n",
       "      <td>515.130066</td>\n",
       "      <td>10</td>\n",
       "      <td>70</td>\n",
       "      <td>13</td>\n",
       "      <td>6712.812988</td>\n",
       "      <td>1665.967896</td>\n",
       "      <td>398.348389</td>\n",
       "      <td>BALBc-3_X05_Y03</td>\n",
       "      <td>32.0</td>\n",
       "    </tr>\n",
       "    <tr>\n",
       "      <th>1</th>\n",
       "      <td>9600</td>\n",
       "      <td>1017.838440</td>\n",
       "      <td>-93.069397</td>\n",
       "      <td>144.076584</td>\n",
       "      <td>40.010998</td>\n",
       "      <td>885.595520</td>\n",
       "      <td>-391.357544</td>\n",
       "      <td>62.764454</td>\n",
       "      <td>-474.201172</td>\n",
       "      <td>-469.634583</td>\n",
       "      <td>...</td>\n",
       "      <td>448.701660</td>\n",
       "      <td>171.880310</td>\n",
       "      <td>1000</td>\n",
       "      <td>294</td>\n",
       "      <td>12</td>\n",
       "      <td>2024.678711</td>\n",
       "      <td>1287.959229</td>\n",
       "      <td>421.991425</td>\n",
       "      <td>BALBc-3_X01_Y02</td>\n",
       "      <td>99.0</td>\n",
       "    </tr>\n",
       "    <tr>\n",
       "      <th>2</th>\n",
       "      <td>9600</td>\n",
       "      <td>5978.459961</td>\n",
       "      <td>-330.099365</td>\n",
       "      <td>139.631744</td>\n",
       "      <td>-82.840302</td>\n",
       "      <td>1747.897583</td>\n",
       "      <td>-395.508820</td>\n",
       "      <td>954.326782</td>\n",
       "      <td>-1026.204468</td>\n",
       "      <td>3744.718262</td>\n",
       "      <td>...</td>\n",
       "      <td>2229.804443</td>\n",
       "      <td>512.220764</td>\n",
       "      <td>1003</td>\n",
       "      <td>107</td>\n",
       "      <td>8</td>\n",
       "      <td>8647.193359</td>\n",
       "      <td>2817.173828</td>\n",
       "      <td>709.545105</td>\n",
       "      <td>BALBc-2_X05_Y04</td>\n",
       "      <td>74.0</td>\n",
       "    </tr>\n",
       "    <tr>\n",
       "      <th>3</th>\n",
       "      <td>9600</td>\n",
       "      <td>6119.109375</td>\n",
       "      <td>-54.384808</td>\n",
       "      <td>-768.871704</td>\n",
       "      <td>25.625927</td>\n",
       "      <td>1065.311890</td>\n",
       "      <td>-485.535431</td>\n",
       "      <td>538.404175</td>\n",
       "      <td>-611.836426</td>\n",
       "      <td>865.842590</td>\n",
       "      <td>...</td>\n",
       "      <td>665.720459</td>\n",
       "      <td>351.108246</td>\n",
       "      <td>1003</td>\n",
       "      <td>113</td>\n",
       "      <td>13</td>\n",
       "      <td>4838.463379</td>\n",
       "      <td>1646.660278</td>\n",
       "      <td>408.523590</td>\n",
       "      <td>BALBc-2_X03_Y04</td>\n",
       "      <td>98.0</td>\n",
       "    </tr>\n",
       "    <tr>\n",
       "      <th>4</th>\n",
       "      <td>9600</td>\n",
       "      <td>6272.474609</td>\n",
       "      <td>-235.512405</td>\n",
       "      <td>74.058075</td>\n",
       "      <td>-101.729919</td>\n",
       "      <td>1186.295044</td>\n",
       "      <td>-782.744995</td>\n",
       "      <td>1261.625366</td>\n",
       "      <td>-915.565552</td>\n",
       "      <td>1361.536011</td>\n",
       "      <td>...</td>\n",
       "      <td>2065.742676</td>\n",
       "      <td>259.003235</td>\n",
       "      <td>1003</td>\n",
       "      <td>148</td>\n",
       "      <td>9</td>\n",
       "      <td>5092.891602</td>\n",
       "      <td>2161.109131</td>\n",
       "      <td>713.416199</td>\n",
       "      <td>BALBc-2_X02_Y01</td>\n",
       "      <td>71.0</td>\n",
       "    </tr>\n",
       "  </tbody>\n",
       "</table>\n",
       "<p>5 rows × 38 columns</p>\n",
       "</div>"
      ],
      "text/plain": [
       "   Imaging phenotype cluster ID         CD45        Ly6C         TCR  \\\n",
       "0                          9600  1577.675415 -154.301758  130.692184   \n",
       "1                          9600  1017.838440  -93.069397  144.076584   \n",
       "2                          9600  5978.459961 -330.099365  139.631744   \n",
       "3                          9600  6119.109375  -54.384808 -768.871704   \n",
       "4                          9600  6272.474609 -235.512405   74.058075   \n",
       "\n",
       "         Ly6G         CD19       CD169        CD106          CD3       CD1632  \\\n",
       "0   -4.168493   560.691345 -504.231476   854.670105  -631.294189   385.935242   \n",
       "1   40.010998   885.595520 -391.357544    62.764454  -474.201172  -469.634583   \n",
       "2  -82.840302  1747.897583 -395.508820   954.326782 -1026.204468  3744.718262   \n",
       "3   25.625927  1065.311890 -485.535431   538.404175  -611.836426   865.842590   \n",
       "4 -101.729919  1186.295044 -782.744995  1261.625366  -915.565552  1361.536011   \n",
       "\n",
       "         ...                CD44       NKp46   X.X  Y.Y  Z.Z        MHCII  \\\n",
       "0        ...          422.408691  515.130066    10   70   13  6712.812988   \n",
       "1        ...          448.701660  171.880310  1000  294   12  2024.678711   \n",
       "2        ...         2229.804443  512.220764  1003  107    8  8647.193359   \n",
       "3        ...          665.720459  351.108246  1003  113   13  4838.463379   \n",
       "4        ...         2065.742676  259.003235  1003  148    9  5092.891602   \n",
       "\n",
       "   blank_Cy3_cyc15  blank_Cy5_cyc15  sample_Xtile_Ytile  niche cluster ID  \n",
       "0      1665.967896       398.348389     BALBc-3_X05_Y03              32.0  \n",
       "1      1287.959229       421.991425     BALBc-3_X01_Y02              99.0  \n",
       "2      2817.173828       709.545105     BALBc-2_X05_Y04              74.0  \n",
       "3      1646.660278       408.523590     BALBc-2_X03_Y04              98.0  \n",
       "4      2161.109131       713.416199     BALBc-2_X02_Y01              71.0  \n",
       "\n",
       "[5 rows x 38 columns]"
      ]
     },
     "execution_count": 23,
     "metadata": {},
     "output_type": "execute_result"
    }
   ],
   "source": [
    "df['tmp'].head()"
   ]
  },
  {
   "cell_type": "code",
   "execution_count": 21,
   "metadata": {},
   "outputs": [
    {
     "data": {
      "text/plain": [
       "(734101, 38)"
      ]
     },
     "execution_count": 21,
     "metadata": {},
     "output_type": "execute_result"
    }
   ],
   "source": [
    "df['tmp'].shape"
   ]
  },
  {
   "cell_type": "code",
   "execution_count": 22,
   "metadata": {},
   "outputs": [
    {
     "data": {
      "text/plain": [
       "True"
      ]
     },
     "execution_count": 22,
     "metadata": {},
     "output_type": "execute_result"
    }
   ],
   "source": [
    "df['exp'].equals(df['tmp'])"
   ]
  },
  {
   "cell_type": "code",
   "execution_count": 16,
   "metadata": {},
   "outputs": [
    {
     "data": {
      "text/plain": [
       "['Imaging phenotype cluster ID',\n",
       " 'CD45',\n",
       " 'Ly6C',\n",
       " 'TCR',\n",
       " 'Ly6G',\n",
       " 'CD19',\n",
       " 'CD169',\n",
       " 'CD106',\n",
       " 'CD3',\n",
       " 'CD1632',\n",
       " 'CD8a',\n",
       " 'CD90',\n",
       " 'F480',\n",
       " 'CD11c',\n",
       " 'Ter119',\n",
       " 'CD11b',\n",
       " 'IgD',\n",
       " 'CD27',\n",
       " 'CD5',\n",
       " 'CD79b',\n",
       " 'CD71',\n",
       " 'CD31',\n",
       " 'CD4',\n",
       " 'IgM',\n",
       " 'B220',\n",
       " 'ERTR7',\n",
       " 'CD35',\n",
       " 'CD2135',\n",
       " 'CD44',\n",
       " 'NKp46',\n",
       " 'X.X',\n",
       " 'Y.Y',\n",
       " 'Z.Z',\n",
       " 'MHCII',\n",
       " 'blank_Cy3_cyc15',\n",
       " 'blank_Cy5_cyc15',\n",
       " 'sample_Xtile_Ytile',\n",
       " 'niche cluster ID']"
      ]
     },
     "execution_count": 16,
     "metadata": {},
     "output_type": "execute_result"
    }
   ],
   "source": [
    "df['exp'].columns.tolist()"
   ]
  },
  {
   "cell_type": "code",
   "execution_count": 15,
   "metadata": {},
   "outputs": [
    {
     "data": {
      "text/plain": [
       "(565,)"
      ]
     },
     "execution_count": 15,
     "metadata": {},
     "output_type": "execute_result"
    }
   ],
   "source": [
    "tile_uniq = df['exp']['sample_Xtile_Ytile'].unique()\n",
    "tile_uniq.shape"
   ]
  },
  {
   "cell_type": "code",
   "execution_count": null,
   "metadata": {},
   "outputs": [],
   "source": []
  }
 ],
 "metadata": {
  "kernelspec": {
   "display_name": "Python 3",
   "language": "python",
   "name": "python3"
  },
  "language_info": {
   "codemirror_mode": {
    "name": "ipython",
    "version": 3
   },
   "file_extension": ".py",
   "mimetype": "text/x-python",
   "name": "python",
   "nbconvert_exporter": "python",
   "pygments_lexer": "ipython3",
   "version": "3.6.5"
  }
 },
 "nbformat": 4,
 "nbformat_minor": 2
}
