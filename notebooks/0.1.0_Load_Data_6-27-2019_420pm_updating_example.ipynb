{
 "cells": [
  {
   "cell_type": "markdown",
   "metadata": {},
   "source": [
    "# 0.1.0 Load Data\n",
    "* Codex Data obtained from: http://welikesharingdata.blob.core.windows.net/forshare/index.html\n",
    "* Manuscript: https://www.cell.com/cell/pdf/S0092-8674(18)30904-8.pdf"
   ]
  },
  {
   "cell_type": "code",
   "execution_count": 1,
   "metadata": {},
   "outputs": [],
   "source": [
    "import pandas as pd\n",
    "df = {}"
   ]
  },
  {
   "cell_type": "code",
   "execution_count": 2,
   "metadata": {},
   "outputs": [
    {
     "name": "stdout",
     "output_type": "stream",
     "text": [
      ">> clustergrammer2 backend version 0.4.2\n"
     ]
    }
   ],
   "source": [
    "from clustergrammer2 import net"
   ]
  },
  {
   "cell_type": "code",
   "execution_count": 3,
   "metadata": {},
   "outputs": [],
   "source": [
    "import ipywidgets as widgets\n",
    "import numpy as np\n",
    "from bqplot import pyplot as plt\n",
    "import bqplot"
   ]
  },
  {
   "cell_type": "code",
   "execution_count": 4,
   "metadata": {},
   "outputs": [],
   "source": [
    "from glob import glob"
   ]
  },
  {
   "cell_type": "markdown",
   "metadata": {},
   "source": [
    "## Check available Files"
   ]
  },
  {
   "cell_type": "code",
   "execution_count": 5,
   "metadata": {},
   "outputs": [
    {
     "data": {
      "text/plain": [
       "['../data/big_data/channelNames_BALBcMRLdataset.txt']"
      ]
     },
     "execution_count": 5,
     "metadata": {},
     "output_type": "execute_result"
    }
   ],
   "source": [
    "glob('../data/big_data/*.txt')"
   ]
  },
  {
   "cell_type": "code",
   "execution_count": 6,
   "metadata": {},
   "outputs": [
    {
     "data": {
      "text/plain": [
       "['../data/big_data/CODEX_MRLdataset_neighborhood_graph.csv',\n",
       " '../data/big_data/BALBcMRLdataset_exposuretimes.csv',\n",
       " '../data/big_data/Suppl.Table2.CODEX_paper_MRLdatasetexpression.csv']"
      ]
     },
     "execution_count": 6,
     "metadata": {},
     "output_type": "execute_result"
    }
   ],
   "source": [
    "glob('../data/big_data/*.csv')"
   ]
  },
  {
   "cell_type": "markdown",
   "metadata": {},
   "source": [
    "### Expression Data\n",
    "See http://welikesharingdata.blob.core.windows.net/forshare/index.html\n",
    "\n",
    "* CSV file contains mean marker intensities and X, Y, Z corrdinates for each cell relative to the top left corner of its tile. \n",
    "* Tile IDs correspond to tile images sorted in the alphanumeric order\n",
    "* Size parameter corresponds to the cell object sizes in voxels\n",
    "* \"imaging phenotype Cluster ID\" column specifies the phenotypic cluster identity as determined by X-shift\n",
    "* \"niche Cluster ID\" column specifies the i-niche cluster determined by K-means (K=100)\n",
    "* neighborhood graph files describes which pairs of cells are adjacent to one another"
   ]
  },
  {
   "cell_type": "code",
   "execution_count": 7,
   "metadata": {},
   "outputs": [
    {
     "name": "stdout",
     "output_type": "stream",
     "text": [
      "(734101, 38)\n",
      "CPU times: user 8.2 s, sys: 601 ms, total: 8.8 s\n",
      "Wall time: 8.21 s\n"
     ]
    }
   ],
   "source": [
    "%%time\n",
    "df['exp'] = pd.read_csv('../data/big_data/Suppl.Table2.CODEX_paper_MRLdatasetexpression.csv')\n",
    "new_rows = ['C-' + str(x) for x in df['exp'].index.tolist()]\n",
    "df['exp'].index = new_rows\n",
    "print(df['exp'].shape)"
   ]
  },
  {
   "cell_type": "code",
   "execution_count": 8,
   "metadata": {},
   "outputs": [
    {
     "data": {
      "text/html": [
       "<div>\n",
       "<style scoped>\n",
       "    .dataframe tbody tr th:only-of-type {\n",
       "        vertical-align: middle;\n",
       "    }\n",
       "\n",
       "    .dataframe tbody tr th {\n",
       "        vertical-align: top;\n",
       "    }\n",
       "\n",
       "    .dataframe thead th {\n",
       "        text-align: right;\n",
       "    }\n",
       "</style>\n",
       "<table border=\"1\" class=\"dataframe\">\n",
       "  <thead>\n",
       "    <tr style=\"text-align: right;\">\n",
       "      <th></th>\n",
       "      <th>Imaging phenotype cluster ID</th>\n",
       "      <th>CD45</th>\n",
       "      <th>Ly6C</th>\n",
       "      <th>TCR</th>\n",
       "      <th>Ly6G</th>\n",
       "      <th>CD19</th>\n",
       "      <th>CD169</th>\n",
       "      <th>CD106</th>\n",
       "      <th>CD3</th>\n",
       "      <th>CD1632</th>\n",
       "      <th>...</th>\n",
       "      <th>CD44</th>\n",
       "      <th>NKp46</th>\n",
       "      <th>X.X</th>\n",
       "      <th>Y.Y</th>\n",
       "      <th>Z.Z</th>\n",
       "      <th>MHCII</th>\n",
       "      <th>blank_Cy3_cyc15</th>\n",
       "      <th>blank_Cy5_cyc15</th>\n",
       "      <th>sample_Xtile_Ytile</th>\n",
       "      <th>niche cluster ID</th>\n",
       "    </tr>\n",
       "  </thead>\n",
       "  <tbody>\n",
       "    <tr>\n",
       "      <th>C-0</th>\n",
       "      <td>9600</td>\n",
       "      <td>1577.675415</td>\n",
       "      <td>-154.301758</td>\n",
       "      <td>130.692184</td>\n",
       "      <td>-4.168493</td>\n",
       "      <td>560.691345</td>\n",
       "      <td>-504.231476</td>\n",
       "      <td>854.670105</td>\n",
       "      <td>-631.294189</td>\n",
       "      <td>385.935242</td>\n",
       "      <td>...</td>\n",
       "      <td>422.408691</td>\n",
       "      <td>515.130066</td>\n",
       "      <td>10</td>\n",
       "      <td>70</td>\n",
       "      <td>13</td>\n",
       "      <td>6712.812988</td>\n",
       "      <td>1665.967896</td>\n",
       "      <td>398.348389</td>\n",
       "      <td>BALBc-3_X05_Y03</td>\n",
       "      <td>32.0</td>\n",
       "    </tr>\n",
       "    <tr>\n",
       "      <th>C-1</th>\n",
       "      <td>9600</td>\n",
       "      <td>1017.838440</td>\n",
       "      <td>-93.069397</td>\n",
       "      <td>144.076584</td>\n",
       "      <td>40.010998</td>\n",
       "      <td>885.595520</td>\n",
       "      <td>-391.357544</td>\n",
       "      <td>62.764454</td>\n",
       "      <td>-474.201172</td>\n",
       "      <td>-469.634583</td>\n",
       "      <td>...</td>\n",
       "      <td>448.701660</td>\n",
       "      <td>171.880310</td>\n",
       "      <td>1000</td>\n",
       "      <td>294</td>\n",
       "      <td>12</td>\n",
       "      <td>2024.678711</td>\n",
       "      <td>1287.959229</td>\n",
       "      <td>421.991425</td>\n",
       "      <td>BALBc-3_X01_Y02</td>\n",
       "      <td>99.0</td>\n",
       "    </tr>\n",
       "    <tr>\n",
       "      <th>C-2</th>\n",
       "      <td>9600</td>\n",
       "      <td>5978.459961</td>\n",
       "      <td>-330.099365</td>\n",
       "      <td>139.631744</td>\n",
       "      <td>-82.840302</td>\n",
       "      <td>1747.897583</td>\n",
       "      <td>-395.508820</td>\n",
       "      <td>954.326782</td>\n",
       "      <td>-1026.204468</td>\n",
       "      <td>3744.718262</td>\n",
       "      <td>...</td>\n",
       "      <td>2229.804443</td>\n",
       "      <td>512.220764</td>\n",
       "      <td>1003</td>\n",
       "      <td>107</td>\n",
       "      <td>8</td>\n",
       "      <td>8647.193359</td>\n",
       "      <td>2817.173828</td>\n",
       "      <td>709.545105</td>\n",
       "      <td>BALBc-2_X05_Y04</td>\n",
       "      <td>74.0</td>\n",
       "    </tr>\n",
       "    <tr>\n",
       "      <th>C-3</th>\n",
       "      <td>9600</td>\n",
       "      <td>6119.109375</td>\n",
       "      <td>-54.384808</td>\n",
       "      <td>-768.871704</td>\n",
       "      <td>25.625927</td>\n",
       "      <td>1065.311890</td>\n",
       "      <td>-485.535431</td>\n",
       "      <td>538.404175</td>\n",
       "      <td>-611.836426</td>\n",
       "      <td>865.842590</td>\n",
       "      <td>...</td>\n",
       "      <td>665.720459</td>\n",
       "      <td>351.108246</td>\n",
       "      <td>1003</td>\n",
       "      <td>113</td>\n",
       "      <td>13</td>\n",
       "      <td>4838.463379</td>\n",
       "      <td>1646.660278</td>\n",
       "      <td>408.523590</td>\n",
       "      <td>BALBc-2_X03_Y04</td>\n",
       "      <td>98.0</td>\n",
       "    </tr>\n",
       "    <tr>\n",
       "      <th>C-4</th>\n",
       "      <td>9600</td>\n",
       "      <td>6272.474609</td>\n",
       "      <td>-235.512405</td>\n",
       "      <td>74.058075</td>\n",
       "      <td>-101.729919</td>\n",
       "      <td>1186.295044</td>\n",
       "      <td>-782.744995</td>\n",
       "      <td>1261.625366</td>\n",
       "      <td>-915.565552</td>\n",
       "      <td>1361.536011</td>\n",
       "      <td>...</td>\n",
       "      <td>2065.742676</td>\n",
       "      <td>259.003235</td>\n",
       "      <td>1003</td>\n",
       "      <td>148</td>\n",
       "      <td>9</td>\n",
       "      <td>5092.891602</td>\n",
       "      <td>2161.109131</td>\n",
       "      <td>713.416199</td>\n",
       "      <td>BALBc-2_X02_Y01</td>\n",
       "      <td>71.0</td>\n",
       "    </tr>\n",
       "  </tbody>\n",
       "</table>\n",
       "<p>5 rows × 38 columns</p>\n",
       "</div>"
      ],
      "text/plain": [
       "     Imaging phenotype cluster ID         CD45        Ly6C         TCR  \\\n",
       "C-0                          9600  1577.675415 -154.301758  130.692184   \n",
       "C-1                          9600  1017.838440  -93.069397  144.076584   \n",
       "C-2                          9600  5978.459961 -330.099365  139.631744   \n",
       "C-3                          9600  6119.109375  -54.384808 -768.871704   \n",
       "C-4                          9600  6272.474609 -235.512405   74.058075   \n",
       "\n",
       "           Ly6G         CD19       CD169        CD106          CD3  \\\n",
       "C-0   -4.168493   560.691345 -504.231476   854.670105  -631.294189   \n",
       "C-1   40.010998   885.595520 -391.357544    62.764454  -474.201172   \n",
       "C-2  -82.840302  1747.897583 -395.508820   954.326782 -1026.204468   \n",
       "C-3   25.625927  1065.311890 -485.535431   538.404175  -611.836426   \n",
       "C-4 -101.729919  1186.295044 -782.744995  1261.625366  -915.565552   \n",
       "\n",
       "          CD1632        ...                CD44       NKp46   X.X  Y.Y  Z.Z  \\\n",
       "C-0   385.935242        ...          422.408691  515.130066    10   70   13   \n",
       "C-1  -469.634583        ...          448.701660  171.880310  1000  294   12   \n",
       "C-2  3744.718262        ...         2229.804443  512.220764  1003  107    8   \n",
       "C-3   865.842590        ...          665.720459  351.108246  1003  113   13   \n",
       "C-4  1361.536011        ...         2065.742676  259.003235  1003  148    9   \n",
       "\n",
       "           MHCII  blank_Cy3_cyc15  blank_Cy5_cyc15  sample_Xtile_Ytile  \\\n",
       "C-0  6712.812988      1665.967896       398.348389     BALBc-3_X05_Y03   \n",
       "C-1  2024.678711      1287.959229       421.991425     BALBc-3_X01_Y02   \n",
       "C-2  8647.193359      2817.173828       709.545105     BALBc-2_X05_Y04   \n",
       "C-3  4838.463379      1646.660278       408.523590     BALBc-2_X03_Y04   \n",
       "C-4  5092.891602      2161.109131       713.416199     BALBc-2_X02_Y01   \n",
       "\n",
       "     niche cluster ID  \n",
       "C-0              32.0  \n",
       "C-1              99.0  \n",
       "C-2              74.0  \n",
       "C-3              98.0  \n",
       "C-4              71.0  \n",
       "\n",
       "[5 rows x 38 columns]"
      ]
     },
     "execution_count": 8,
     "metadata": {},
     "output_type": "execute_result"
    }
   ],
   "source": [
    "df['exp'].head()"
   ]
  },
  {
   "cell_type": "code",
   "execution_count": 9,
   "metadata": {},
   "outputs": [
    {
     "data": {
      "text/plain": [
       "['Imaging phenotype cluster ID',\n",
       " 'CD45',\n",
       " 'Ly6C',\n",
       " 'TCR',\n",
       " 'Ly6G',\n",
       " 'CD19',\n",
       " 'CD169',\n",
       " 'CD106',\n",
       " 'CD3',\n",
       " 'CD1632',\n",
       " 'CD8a',\n",
       " 'CD90',\n",
       " 'F480',\n",
       " 'CD11c',\n",
       " 'Ter119',\n",
       " 'CD11b',\n",
       " 'IgD',\n",
       " 'CD27',\n",
       " 'CD5',\n",
       " 'CD79b',\n",
       " 'CD71',\n",
       " 'CD31',\n",
       " 'CD4',\n",
       " 'IgM',\n",
       " 'B220',\n",
       " 'ERTR7',\n",
       " 'CD35',\n",
       " 'CD2135',\n",
       " 'CD44',\n",
       " 'NKp46',\n",
       " 'X.X',\n",
       " 'Y.Y',\n",
       " 'Z.Z',\n",
       " 'MHCII',\n",
       " 'blank_Cy3_cyc15',\n",
       " 'blank_Cy5_cyc15',\n",
       " 'sample_Xtile_Ytile',\n",
       " 'niche cluster ID']"
      ]
     },
     "execution_count": 9,
     "metadata": {},
     "output_type": "execute_result"
    }
   ],
   "source": [
    "cols = df['exp'].columns.tolist()\n",
    "cols"
   ]
  },
  {
   "cell_type": "code",
   "execution_count": 10,
   "metadata": {},
   "outputs": [
    {
     "data": {
      "text/plain": [
       "['CD45',\n",
       " 'Ly6C',\n",
       " 'TCR',\n",
       " 'Ly6G',\n",
       " 'CD19',\n",
       " 'CD169',\n",
       " 'CD106',\n",
       " 'CD3',\n",
       " 'CD1632',\n",
       " 'CD8a',\n",
       " 'CD90',\n",
       " 'F480',\n",
       " 'CD11c',\n",
       " 'Ter119',\n",
       " 'CD11b',\n",
       " 'IgD',\n",
       " 'CD27',\n",
       " 'CD5',\n",
       " 'CD79b',\n",
       " 'CD71',\n",
       " 'CD31',\n",
       " 'CD4',\n",
       " 'IgM',\n",
       " 'B220',\n",
       " 'ERTR7',\n",
       " 'CD35',\n",
       " 'CD2135',\n",
       " 'CD44',\n",
       " 'NKp46']"
      ]
     },
     "execution_count": 10,
     "metadata": {},
     "output_type": "execute_result"
    }
   ],
   "source": [
    "exp_cols = cols[1:30]\n",
    "exp_cols"
   ]
  },
  {
   "cell_type": "code",
   "execution_count": 11,
   "metadata": {},
   "outputs": [
    {
     "name": "stdout",
     "output_type": "stream",
     "text": [
      "Imaging phenotype cluster ID 58\n",
      "CD45 726877\n",
      "Ly6C 731257\n",
      "TCR 731035\n",
      "Ly6G 729442\n",
      "CD19 726981\n",
      "CD169 730498\n",
      "CD106 727870\n",
      "CD3 730526\n",
      "CD1632 728506\n",
      "CD8a 728773\n",
      "CD90 728172\n",
      "F480 731091\n",
      "CD11c 725943\n",
      "Ter119 728879\n",
      "CD11b 725897\n",
      "IgD 730293\n",
      "CD27 727817\n",
      "CD5 730295\n",
      "CD79b 727003\n",
      "CD71 729364\n",
      "CD31 725039\n",
      "CD4 730112\n",
      "IgM 727925\n",
      "B220 729995\n",
      "ERTR7 729781\n",
      "CD35 728492\n",
      "CD2135 729290\n",
      "CD44 727003\n",
      "NKp46 723719\n",
      "X.X 1342\n",
      "Y.Y 1006\n",
      "Z.Z 15\n",
      "MHCII 729269\n",
      "blank_Cy3_cyc15 721818\n",
      "blank_Cy5_cyc15 720065\n",
      "sample_Xtile_Ytile 565\n",
      "niche cluster ID 101\n"
     ]
    }
   ],
   "source": [
    "unique_dict = {}\n",
    "for inst_col in cols:\n",
    "    inst_list_unique = list(df['exp'][inst_col].unique())\n",
    "    unique_dict[inst_col] = inst_list_unique    \n",
    "    inst_num_unique = len(inst_list_unique)\n",
    "    print(inst_col, inst_num_unique)"
   ]
  },
  {
   "cell_type": "markdown",
   "metadata": {},
   "source": [
    "### Select Single Image Tile\n",
    "BALBc: normal tissue\n",
    "MRL/lpr: spleen from animals with systemic autoimmune disease\n",
    "\n",
    "Start with: 'BALBc-1_X01_Y01'"
   ]
  },
  {
   "cell_type": "code",
   "execution_count": 12,
   "metadata": {},
   "outputs": [
    {
     "data": {
      "text/plain": [
       "(1127,)"
      ]
     },
     "execution_count": 12,
     "metadata": {},
     "output_type": "execute_result"
    }
   ],
   "source": [
    "ser_tile = df['exp']['sample_Xtile_Ytile']\n",
    "ser_found = ser_tile[ser_tile == 'BALBc-1_X01_Y01']\n",
    "ser_found.shape"
   ]
  },
  {
   "cell_type": "code",
   "execution_count": 13,
   "metadata": {},
   "outputs": [],
   "source": [
    "keep_rows = ser_found.index.tolist()"
   ]
  },
  {
   "cell_type": "code",
   "execution_count": 14,
   "metadata": {},
   "outputs": [
    {
     "data": {
      "text/plain": [
       "(1127, 38)"
      ]
     },
     "execution_count": 14,
     "metadata": {},
     "output_type": "execute_result"
    }
   ],
   "source": [
    "df['tile'] = df['exp'].loc[keep_rows]\n",
    "df['tile'].shape"
   ]
  },
  {
   "cell_type": "code",
   "execution_count": 15,
   "metadata": {},
   "outputs": [
    {
     "data": {
      "text/html": [
       "<div>\n",
       "<style scoped>\n",
       "    .dataframe tbody tr th:only-of-type {\n",
       "        vertical-align: middle;\n",
       "    }\n",
       "\n",
       "    .dataframe tbody tr th {\n",
       "        vertical-align: top;\n",
       "    }\n",
       "\n",
       "    .dataframe thead th {\n",
       "        text-align: right;\n",
       "    }\n",
       "</style>\n",
       "<table border=\"1\" class=\"dataframe\">\n",
       "  <thead>\n",
       "    <tr style=\"text-align: right;\">\n",
       "      <th></th>\n",
       "      <th>Imaging phenotype cluster ID</th>\n",
       "      <th>CD45</th>\n",
       "      <th>Ly6C</th>\n",
       "      <th>TCR</th>\n",
       "      <th>Ly6G</th>\n",
       "      <th>CD19</th>\n",
       "      <th>CD169</th>\n",
       "      <th>CD106</th>\n",
       "      <th>CD3</th>\n",
       "      <th>CD1632</th>\n",
       "      <th>...</th>\n",
       "      <th>CD44</th>\n",
       "      <th>NKp46</th>\n",
       "      <th>X.X</th>\n",
       "      <th>Y.Y</th>\n",
       "      <th>Z.Z</th>\n",
       "      <th>MHCII</th>\n",
       "      <th>blank_Cy3_cyc15</th>\n",
       "      <th>blank_Cy5_cyc15</th>\n",
       "      <th>sample_Xtile_Ytile</th>\n",
       "      <th>niche cluster ID</th>\n",
       "    </tr>\n",
       "  </thead>\n",
       "  <tbody>\n",
       "    <tr>\n",
       "      <th>C-643</th>\n",
       "      <td>9640</td>\n",
       "      <td>4616.200684</td>\n",
       "      <td>109.183311</td>\n",
       "      <td>56.608055</td>\n",
       "      <td>16.112137</td>\n",
       "      <td>1381.899780</td>\n",
       "      <td>-117.029999</td>\n",
       "      <td>2926.800781</td>\n",
       "      <td>-535.518738</td>\n",
       "      <td>2204.415283</td>\n",
       "      <td>...</td>\n",
       "      <td>1706.060791</td>\n",
       "      <td>557.229370</td>\n",
       "      <td>10</td>\n",
       "      <td>277</td>\n",
       "      <td>9</td>\n",
       "      <td>2071.258301</td>\n",
       "      <td>1494.528198</td>\n",
       "      <td>635.465454</td>\n",
       "      <td>BALBc-1_X01_Y01</td>\n",
       "      <td>84.0</td>\n",
       "    </tr>\n",
       "    <tr>\n",
       "      <th>C-1264</th>\n",
       "      <td>9640</td>\n",
       "      <td>1820.992798</td>\n",
       "      <td>-193.428802</td>\n",
       "      <td>-253.548187</td>\n",
       "      <td>-108.620682</td>\n",
       "      <td>1434.961548</td>\n",
       "      <td>-649.734192</td>\n",
       "      <td>1689.791626</td>\n",
       "      <td>-951.155151</td>\n",
       "      <td>1138.589111</td>\n",
       "      <td>...</td>\n",
       "      <td>3177.853271</td>\n",
       "      <td>317.274445</td>\n",
       "      <td>1006</td>\n",
       "      <td>490</td>\n",
       "      <td>9</td>\n",
       "      <td>2678.717529</td>\n",
       "      <td>1627.878540</td>\n",
       "      <td>582.699951</td>\n",
       "      <td>BALBc-1_X01_Y01</td>\n",
       "      <td>99.0</td>\n",
       "    </tr>\n",
       "    <tr>\n",
       "      <th>C-1589</th>\n",
       "      <td>9640</td>\n",
       "      <td>2748.407715</td>\n",
       "      <td>1080.912109</td>\n",
       "      <td>155.408829</td>\n",
       "      <td>290.299347</td>\n",
       "      <td>1872.106323</td>\n",
       "      <td>-265.814697</td>\n",
       "      <td>1627.306641</td>\n",
       "      <td>-900.948425</td>\n",
       "      <td>3623.654297</td>\n",
       "      <td>...</td>\n",
       "      <td>3632.079346</td>\n",
       "      <td>439.367004</td>\n",
       "      <td>101</td>\n",
       "      <td>504</td>\n",
       "      <td>9</td>\n",
       "      <td>5202.269043</td>\n",
       "      <td>2970.291016</td>\n",
       "      <td>1610.805420</td>\n",
       "      <td>BALBc-1_X01_Y01</td>\n",
       "      <td>91.0</td>\n",
       "    </tr>\n",
       "    <tr>\n",
       "      <th>C-1611</th>\n",
       "      <td>9640</td>\n",
       "      <td>1670.639282</td>\n",
       "      <td>162.775330</td>\n",
       "      <td>479.413391</td>\n",
       "      <td>156.224304</td>\n",
       "      <td>898.696411</td>\n",
       "      <td>312.997375</td>\n",
       "      <td>490.886322</td>\n",
       "      <td>262.397064</td>\n",
       "      <td>3911.160889</td>\n",
       "      <td>...</td>\n",
       "      <td>2143.739746</td>\n",
       "      <td>412.681335</td>\n",
       "      <td>101</td>\n",
       "      <td>759</td>\n",
       "      <td>8</td>\n",
       "      <td>521.500000</td>\n",
       "      <td>760.530396</td>\n",
       "      <td>606.023438</td>\n",
       "      <td>BALBc-1_X01_Y01</td>\n",
       "      <td>84.0</td>\n",
       "    </tr>\n",
       "    <tr>\n",
       "      <th>C-1873</th>\n",
       "      <td>9640</td>\n",
       "      <td>1783.568970</td>\n",
       "      <td>-83.423607</td>\n",
       "      <td>980.420288</td>\n",
       "      <td>79.349449</td>\n",
       "      <td>1206.731445</td>\n",
       "      <td>469.170441</td>\n",
       "      <td>1557.618408</td>\n",
       "      <td>539.484131</td>\n",
       "      <td>1223.671753</td>\n",
       "      <td>...</td>\n",
       "      <td>1267.455688</td>\n",
       "      <td>306.992889</td>\n",
       "      <td>1013</td>\n",
       "      <td>254</td>\n",
       "      <td>6</td>\n",
       "      <td>307.573090</td>\n",
       "      <td>860.657837</td>\n",
       "      <td>818.229736</td>\n",
       "      <td>BALBc-1_X01_Y01</td>\n",
       "      <td>93.0</td>\n",
       "    </tr>\n",
       "  </tbody>\n",
       "</table>\n",
       "<p>5 rows × 38 columns</p>\n",
       "</div>"
      ],
      "text/plain": [
       "        Imaging phenotype cluster ID         CD45         Ly6C         TCR  \\\n",
       "C-643                           9640  4616.200684   109.183311   56.608055   \n",
       "C-1264                          9640  1820.992798  -193.428802 -253.548187   \n",
       "C-1589                          9640  2748.407715  1080.912109  155.408829   \n",
       "C-1611                          9640  1670.639282   162.775330  479.413391   \n",
       "C-1873                          9640  1783.568970   -83.423607  980.420288   \n",
       "\n",
       "              Ly6G         CD19       CD169        CD106         CD3  \\\n",
       "C-643    16.112137  1381.899780 -117.029999  2926.800781 -535.518738   \n",
       "C-1264 -108.620682  1434.961548 -649.734192  1689.791626 -951.155151   \n",
       "C-1589  290.299347  1872.106323 -265.814697  1627.306641 -900.948425   \n",
       "C-1611  156.224304   898.696411  312.997375   490.886322  262.397064   \n",
       "C-1873   79.349449  1206.731445  469.170441  1557.618408  539.484131   \n",
       "\n",
       "             CD1632        ...                CD44       NKp46   X.X  Y.Y  \\\n",
       "C-643   2204.415283        ...         1706.060791  557.229370    10  277   \n",
       "C-1264  1138.589111        ...         3177.853271  317.274445  1006  490   \n",
       "C-1589  3623.654297        ...         3632.079346  439.367004   101  504   \n",
       "C-1611  3911.160889        ...         2143.739746  412.681335   101  759   \n",
       "C-1873  1223.671753        ...         1267.455688  306.992889  1013  254   \n",
       "\n",
       "        Z.Z        MHCII  blank_Cy3_cyc15  blank_Cy5_cyc15  \\\n",
       "C-643     9  2071.258301      1494.528198       635.465454   \n",
       "C-1264    9  2678.717529      1627.878540       582.699951   \n",
       "C-1589    9  5202.269043      2970.291016      1610.805420   \n",
       "C-1611    8   521.500000       760.530396       606.023438   \n",
       "C-1873    6   307.573090       860.657837       818.229736   \n",
       "\n",
       "        sample_Xtile_Ytile  niche cluster ID  \n",
       "C-643      BALBc-1_X01_Y01              84.0  \n",
       "C-1264     BALBc-1_X01_Y01              99.0  \n",
       "C-1589     BALBc-1_X01_Y01              91.0  \n",
       "C-1611     BALBc-1_X01_Y01              84.0  \n",
       "C-1873     BALBc-1_X01_Y01              93.0  \n",
       "\n",
       "[5 rows x 38 columns]"
      ]
     },
     "execution_count": 15,
     "metadata": {},
     "output_type": "execute_result"
    }
   ],
   "source": [
    "df['tile'].head()"
   ]
  },
  {
   "cell_type": "markdown",
   "metadata": {},
   "source": [
    "### Plot Tile Expression Levels"
   ]
  },
  {
   "cell_type": "code",
   "execution_count": 16,
   "metadata": {},
   "outputs": [
    {
     "data": {
      "text/plain": [
       "(29, 1127)"
      ]
     },
     "execution_count": 16,
     "metadata": {},
     "output_type": "execute_result"
    }
   ],
   "source": [
    "df['tile-exp-ini'] = df['tile'][exp_cols].transpose()\n",
    "df['tile-exp-ini'].shape"
   ]
  },
  {
   "cell_type": "code",
   "execution_count": 17,
   "metadata": {},
   "outputs": [
    {
     "data": {
      "text/plain": [
       "<matplotlib.axes._subplots.AxesSubplot at 0x1a3dfd7358>"
      ]
     },
     "execution_count": 17,
     "metadata": {},
     "output_type": "execute_result"
    },
    {
     "data": {
      "image/png": "[encoded data removed]",
      "text/plain": [
       "<Figure size 432x288 with 1 Axes>"
      ]
     },
     "metadata": {},
     "output_type": "display_data"
    }
   ],
   "source": [
    "ser_sum = df['tile-exp-ini'].sum(axis=0).sort_values(ascending=False)\n",
    "ser_sum.plot(grid=True)"
   ]
  },
  {
   "cell_type": "markdown",
   "metadata": {},
   "source": [
    "### Drop cells with total marker levels above 100,000 and below 0"
   ]
  },
  {
   "cell_type": "code",
   "execution_count": 18,
   "metadata": {},
   "outputs": [
    {
     "name": "stdout",
     "output_type": "stream",
     "text": [
      "(1127,)\n",
      "(1116,)\n",
      "(1059,)\n"
     ]
    }
   ],
   "source": [
    "print(ser_sum.shape)\n",
    "ser_sum = ser_sum[ser_sum < 100000]\n",
    "print(ser_sum.shape)\n",
    "ser_sum = ser_sum[ser_sum > 0]\n",
    "print(ser_sum.shape)\n",
    "keep_cells = ser_sum.index.tolist()"
   ]
  },
  {
   "cell_type": "code",
   "execution_count": 19,
   "metadata": {},
   "outputs": [
    {
     "data": {
      "text/plain": [
       "(29, 1059)"
      ]
     },
     "execution_count": 19,
     "metadata": {},
     "output_type": "execute_result"
    }
   ],
   "source": [
    "df['tile-exp'] = df['tile-exp-ini'][keep_cells]\n",
    "df['tile-exp'].shape"
   ]
  },
  {
   "cell_type": "markdown",
   "metadata": {},
   "source": [
    "### Set Negative Expression Levels to Zero"
   ]
  },
  {
   "cell_type": "code",
   "execution_count": 20,
   "metadata": {},
   "outputs": [
    {
     "name": "stderr",
     "output_type": "stream",
     "text": [
      "/Users/nickfernandez/anaconda3/lib/python3.6/site-packages/ipykernel_launcher.py:1: SettingWithCopyWarning: \n",
      "A value is trying to be set on a copy of a slice from a DataFrame.\n",
      "Try using .loc[row_indexer,col_indexer] = value instead\n",
      "\n",
      "See the caveats in the documentation: http://pandas.pydata.org/pandas-docs/stable/indexing.html#indexing-view-versus-copy\n",
      "  \"\"\"Entry point for launching an IPython kernel.\n",
      "/Users/nickfernandez/anaconda3/lib/python3.6/site-packages/pandas/core/frame.py:3160: SettingWithCopyWarning: \n",
      "A value is trying to be set on a copy of a slice from a DataFrame\n",
      "\n",
      "See the caveats in the documentation: http://pandas.pydata.org/pandas-docs/stable/indexing.html#indexing-view-versus-copy\n",
      "  self._where(-key, value, inplace=True)\n"
     ]
    }
   ],
   "source": [
    "df['tile-exp'][df['tile-exp'] < 0] = 0"
   ]
  },
  {
   "cell_type": "code",
   "execution_count": 21,
   "metadata": {},
   "outputs": [
    {
     "data": {
      "text/html": [
       "<div>\n",
       "<style scoped>\n",
       "    .dataframe tbody tr th:only-of-type {\n",
       "        vertical-align: middle;\n",
       "    }\n",
       "\n",
       "    .dataframe tbody tr th {\n",
       "        vertical-align: top;\n",
       "    }\n",
       "\n",
       "    .dataframe thead th {\n",
       "        text-align: right;\n",
       "    }\n",
       "</style>\n",
       "<table border=\"1\" class=\"dataframe\">\n",
       "  <thead>\n",
       "    <tr style=\"text-align: right;\">\n",
       "      <th></th>\n",
       "      <th>CD45</th>\n",
       "      <th>Ly6C</th>\n",
       "      <th>TCR</th>\n",
       "      <th>Ly6G</th>\n",
       "      <th>CD19</th>\n",
       "      <th>CD169</th>\n",
       "      <th>CD106</th>\n",
       "      <th>CD3</th>\n",
       "      <th>CD1632</th>\n",
       "      <th>CD8a</th>\n",
       "      <th>...</th>\n",
       "      <th>CD71</th>\n",
       "      <th>CD31</th>\n",
       "      <th>CD4</th>\n",
       "      <th>IgM</th>\n",
       "      <th>B220</th>\n",
       "      <th>ERTR7</th>\n",
       "      <th>CD35</th>\n",
       "      <th>CD2135</th>\n",
       "      <th>CD44</th>\n",
       "      <th>NKp46</th>\n",
       "    </tr>\n",
       "  </thead>\n",
       "  <tbody>\n",
       "    <tr>\n",
       "      <th>count</th>\n",
       "      <td>1059.000000</td>\n",
       "      <td>1059.000000</td>\n",
       "      <td>1059.000000</td>\n",
       "      <td>1059.000000</td>\n",
       "      <td>1059.000000</td>\n",
       "      <td>1059.000000</td>\n",
       "      <td>1059.000000</td>\n",
       "      <td>1059.000000</td>\n",
       "      <td>1059.000000</td>\n",
       "      <td>1059.000000</td>\n",
       "      <td>...</td>\n",
       "      <td>1059.000000</td>\n",
       "      <td>1059.000000</td>\n",
       "      <td>1059.000000</td>\n",
       "      <td>1059.000000</td>\n",
       "      <td>1059.000000</td>\n",
       "      <td>1059.000000</td>\n",
       "      <td>1059.000000</td>\n",
       "      <td>1059.000000</td>\n",
       "      <td>1059.000000</td>\n",
       "      <td>1059.000000</td>\n",
       "    </tr>\n",
       "    <tr>\n",
       "      <th>mean</th>\n",
       "      <td>2298.813514</td>\n",
       "      <td>189.746245</td>\n",
       "      <td>674.457043</td>\n",
       "      <td>157.740284</td>\n",
       "      <td>843.459200</td>\n",
       "      <td>248.139959</td>\n",
       "      <td>2163.801127</td>\n",
       "      <td>301.654298</td>\n",
       "      <td>2216.858840</td>\n",
       "      <td>846.329331</td>\n",
       "      <td>...</td>\n",
       "      <td>348.670978</td>\n",
       "      <td>1626.665429</td>\n",
       "      <td>623.657995</td>\n",
       "      <td>409.719456</td>\n",
       "      <td>1019.035484</td>\n",
       "      <td>1516.989092</td>\n",
       "      <td>441.848840</td>\n",
       "      <td>91.691888</td>\n",
       "      <td>2761.471556</td>\n",
       "      <td>612.902664</td>\n",
       "    </tr>\n",
       "    <tr>\n",
       "      <th>std</th>\n",
       "      <td>1715.886463</td>\n",
       "      <td>375.750067</td>\n",
       "      <td>942.562532</td>\n",
       "      <td>765.981180</td>\n",
       "      <td>684.897572</td>\n",
       "      <td>440.192607</td>\n",
       "      <td>1975.647819</td>\n",
       "      <td>576.275833</td>\n",
       "      <td>3415.987012</td>\n",
       "      <td>1026.357247</td>\n",
       "      <td>...</td>\n",
       "      <td>598.965531</td>\n",
       "      <td>1261.157876</td>\n",
       "      <td>1243.936733</td>\n",
       "      <td>1215.991643</td>\n",
       "      <td>1126.623071</td>\n",
       "      <td>2176.985095</td>\n",
       "      <td>410.329920</td>\n",
       "      <td>121.087374</td>\n",
       "      <td>2298.040034</td>\n",
       "      <td>856.694179</td>\n",
       "    </tr>\n",
       "    <tr>\n",
       "      <th>min</th>\n",
       "      <td>0.000000</td>\n",
       "      <td>0.000000</td>\n",
       "      <td>0.000000</td>\n",
       "      <td>0.000000</td>\n",
       "      <td>0.000000</td>\n",
       "      <td>0.000000</td>\n",
       "      <td>0.000000</td>\n",
       "      <td>0.000000</td>\n",
       "      <td>0.000000</td>\n",
       "      <td>0.000000</td>\n",
       "      <td>...</td>\n",
       "      <td>0.000000</td>\n",
       "      <td>0.000000</td>\n",
       "      <td>0.000000</td>\n",
       "      <td>0.000000</td>\n",
       "      <td>0.000000</td>\n",
       "      <td>0.000000</td>\n",
       "      <td>0.000000</td>\n",
       "      <td>0.000000</td>\n",
       "      <td>0.000000</td>\n",
       "      <td>0.000000</td>\n",
       "    </tr>\n",
       "    <tr>\n",
       "      <th>25%</th>\n",
       "      <td>955.400848</td>\n",
       "      <td>0.000000</td>\n",
       "      <td>125.378162</td>\n",
       "      <td>0.000000</td>\n",
       "      <td>366.083374</td>\n",
       "      <td>0.000000</td>\n",
       "      <td>806.526367</td>\n",
       "      <td>0.000000</td>\n",
       "      <td>556.614929</td>\n",
       "      <td>180.471550</td>\n",
       "      <td>...</td>\n",
       "      <td>0.000000</td>\n",
       "      <td>838.146332</td>\n",
       "      <td>0.000000</td>\n",
       "      <td>87.083134</td>\n",
       "      <td>0.000000</td>\n",
       "      <td>281.919800</td>\n",
       "      <td>233.530396</td>\n",
       "      <td>2.684836</td>\n",
       "      <td>996.017303</td>\n",
       "      <td>284.718338</td>\n",
       "    </tr>\n",
       "    <tr>\n",
       "      <th>50%</th>\n",
       "      <td>2080.899658</td>\n",
       "      <td>82.575798</td>\n",
       "      <td>415.717834</td>\n",
       "      <td>45.915997</td>\n",
       "      <td>762.654907</td>\n",
       "      <td>17.783657</td>\n",
       "      <td>1689.626953</td>\n",
       "      <td>0.000000</td>\n",
       "      <td>1416.859497</td>\n",
       "      <td>596.495056</td>\n",
       "      <td>...</td>\n",
       "      <td>124.363716</td>\n",
       "      <td>1396.936157</td>\n",
       "      <td>250.699158</td>\n",
       "      <td>219.497177</td>\n",
       "      <td>731.841736</td>\n",
       "      <td>930.511353</td>\n",
       "      <td>378.408234</td>\n",
       "      <td>65.706734</td>\n",
       "      <td>2355.855713</td>\n",
       "      <td>438.965698</td>\n",
       "    </tr>\n",
       "    <tr>\n",
       "      <th>75%</th>\n",
       "      <td>3338.056152</td>\n",
       "      <td>228.817924</td>\n",
       "      <td>765.075958</td>\n",
       "      <td>134.081390</td>\n",
       "      <td>1174.095032</td>\n",
       "      <td>365.083588</td>\n",
       "      <td>3005.143311</td>\n",
       "      <td>418.653900</td>\n",
       "      <td>2582.182739</td>\n",
       "      <td>1084.709900</td>\n",
       "      <td>...</td>\n",
       "      <td>378.276184</td>\n",
       "      <td>2154.061035</td>\n",
       "      <td>657.025085</td>\n",
       "      <td>462.331528</td>\n",
       "      <td>1655.840393</td>\n",
       "      <td>1814.988281</td>\n",
       "      <td>542.309021</td>\n",
       "      <td>125.310585</td>\n",
       "      <td>4010.818848</td>\n",
       "      <td>616.529480</td>\n",
       "    </tr>\n",
       "    <tr>\n",
       "      <th>max</th>\n",
       "      <td>13019.573242</td>\n",
       "      <td>6186.447754</td>\n",
       "      <td>6667.894043</td>\n",
       "      <td>17590.117188</td>\n",
       "      <td>6293.486328</td>\n",
       "      <td>4457.673828</td>\n",
       "      <td>14192.738281</td>\n",
       "      <td>7868.798340</td>\n",
       "      <td>40282.007812</td>\n",
       "      <td>7320.260742</td>\n",
       "      <td>...</td>\n",
       "      <td>5450.304688</td>\n",
       "      <td>12092.843750</td>\n",
       "      <td>10661.882812</td>\n",
       "      <td>24112.298828</td>\n",
       "      <td>5967.472168</td>\n",
       "      <td>19644.873047</td>\n",
       "      <td>4884.135742</td>\n",
       "      <td>1460.630005</td>\n",
       "      <td>17053.437500</td>\n",
       "      <td>9143.376953</td>\n",
       "    </tr>\n",
       "  </tbody>\n",
       "</table>\n",
       "<p>8 rows × 29 columns</p>\n",
       "</div>"
      ],
      "text/plain": [
       "               CD45         Ly6C          TCR          Ly6G         CD19  \\\n",
       "count   1059.000000  1059.000000  1059.000000   1059.000000  1059.000000   \n",
       "mean    2298.813514   189.746245   674.457043    157.740284   843.459200   \n",
       "std     1715.886463   375.750067   942.562532    765.981180   684.897572   \n",
       "min        0.000000     0.000000     0.000000      0.000000     0.000000   \n",
       "25%      955.400848     0.000000   125.378162      0.000000   366.083374   \n",
       "50%     2080.899658    82.575798   415.717834     45.915997   762.654907   \n",
       "75%     3338.056152   228.817924   765.075958    134.081390  1174.095032   \n",
       "max    13019.573242  6186.447754  6667.894043  17590.117188  6293.486328   \n",
       "\n",
       "             CD169         CD106          CD3        CD1632         CD8a  \\\n",
       "count  1059.000000   1059.000000  1059.000000   1059.000000  1059.000000   \n",
       "mean    248.139959   2163.801127   301.654298   2216.858840   846.329331   \n",
       "std     440.192607   1975.647819   576.275833   3415.987012  1026.357247   \n",
       "min       0.000000      0.000000     0.000000      0.000000     0.000000   \n",
       "25%       0.000000    806.526367     0.000000    556.614929   180.471550   \n",
       "50%      17.783657   1689.626953     0.000000   1416.859497   596.495056   \n",
       "75%     365.083588   3005.143311   418.653900   2582.182739  1084.709900   \n",
       "max    4457.673828  14192.738281  7868.798340  40282.007812  7320.260742   \n",
       "\n",
       "          ...              CD71          CD31           CD4           IgM  \\\n",
       "count     ...       1059.000000   1059.000000   1059.000000   1059.000000   \n",
       "mean      ...        348.670978   1626.665429    623.657995    409.719456   \n",
       "std       ...        598.965531   1261.157876   1243.936733   1215.991643   \n",
       "min       ...          0.000000      0.000000      0.000000      0.000000   \n",
       "25%       ...          0.000000    838.146332      0.000000     87.083134   \n",
       "50%       ...        124.363716   1396.936157    250.699158    219.497177   \n",
       "75%       ...        378.276184   2154.061035    657.025085    462.331528   \n",
       "max       ...       5450.304688  12092.843750  10661.882812  24112.298828   \n",
       "\n",
       "              B220         ERTR7         CD35       CD2135          CD44  \\\n",
       "count  1059.000000   1059.000000  1059.000000  1059.000000   1059.000000   \n",
       "mean   1019.035484   1516.989092   441.848840    91.691888   2761.471556   \n",
       "std    1126.623071   2176.985095   410.329920   121.087374   2298.040034   \n",
       "min       0.000000      0.000000     0.000000     0.000000      0.000000   \n",
       "25%       0.000000    281.919800   233.530396     2.684836    996.017303   \n",
       "50%     731.841736    930.511353   378.408234    65.706734   2355.855713   \n",
       "75%    1655.840393   1814.988281   542.309021   125.310585   4010.818848   \n",
       "max    5967.472168  19644.873047  4884.135742  1460.630005  17053.437500   \n",
       "\n",
       "             NKp46  \n",
       "count  1059.000000  \n",
       "mean    612.902664  \n",
       "std     856.694179  \n",
       "min       0.000000  \n",
       "25%     284.718338  \n",
       "50%     438.965698  \n",
       "75%     616.529480  \n",
       "max    9143.376953  \n",
       "\n",
       "[8 rows x 29 columns]"
      ]
     },
     "execution_count": 21,
     "metadata": {},
     "output_type": "execute_result"
    }
   ],
   "source": [
    "df['tile-exp'].transpose().describe()"
   ]
  },
  {
   "cell_type": "code",
   "execution_count": 22,
   "metadata": {},
   "outputs": [],
   "source": [
    "# df['tile-exp-ash'] = np.arcsinh(df['tile-exp']/5)"
   ]
  },
  {
   "cell_type": "code",
   "execution_count": 23,
   "metadata": {},
   "outputs": [
    {
     "name": "stderr",
     "output_type": "stream",
     "text": [
      "/Users/nickfernandez/anaconda3/lib/python3.6/site-packages/ipykernel_launcher.py:1: SettingWithCopyWarning: \n",
      "A value is trying to be set on a copy of a slice from a DataFrame.\n",
      "Try using .loc[row_indexer,col_indexer] = value instead\n",
      "\n",
      "See the caveats in the documentation: http://pandas.pydata.org/pandas-docs/stable/indexing.html#indexing-view-versus-copy\n",
      "  \"\"\"Entry point for launching an IPython kernel.\n",
      "/Users/nickfernandez/anaconda3/lib/python3.6/site-packages/pandas/core/frame.py:3160: SettingWithCopyWarning: \n",
      "A value is trying to be set on a copy of a slice from a DataFrame\n",
      "\n",
      "See the caveats in the documentation: http://pandas.pydata.org/pandas-docs/stable/indexing.html#indexing-view-versus-copy\n",
      "  self._where(-key, value, inplace=True)\n"
     ]
    }
   ],
   "source": [
    "df['tile-exp'][df['tile-exp'] > 5000] = 5000"
   ]
  },
  {
   "cell_type": "code",
   "execution_count": 24,
   "metadata": {},
   "outputs": [
    {
     "data": {
      "text/plain": [
       "<matplotlib.axes._subplots.AxesSubplot at 0x1a3e10a860>"
      ]
     },
     "execution_count": 24,
     "metadata": {},
     "output_type": "execute_result"
    },
    {
     "data": {
      "image/png": "[encoded data removed]",
      "text/plain": [
       "<Figure size 432x288 with 1 Axes>"
      ]
     },
     "metadata": {},
     "output_type": "display_data"
    }
   ],
   "source": [
    "ser_vals = pd.Series(df['tile-exp'].get_values().flatten())\n",
    "ser_vals.hist(bins=100)"
   ]
  },
  {
   "cell_type": "code",
   "execution_count": 25,
   "metadata": {},
   "outputs": [
    {
     "data": {
      "text/plain": [
       "(29, 1059)"
      ]
     },
     "execution_count": 25,
     "metadata": {},
     "output_type": "execute_result"
    }
   ],
   "source": [
    "df['tile-exp'].shape"
   ]
  },
  {
   "cell_type": "code",
   "execution_count": 55,
   "metadata": {},
   "outputs": [],
   "source": [
    "fig = plt.figure(title='Scatter', min_height='10px', min_width='10px')\n",
    "def_tt = bqplot.Tooltip(fields=['name'], formats=[''])\n",
    "\n",
    "scatter = plt.scatter(df['tile-loc']['X.X'], \n",
    "                      df['tile-loc']['Y.Y'], \n",
    "                      figsize=(20,10), \n",
    "                      ylim=(0,1000), \n",
    "                      xlim=(0,1000), stroke='black', \n",
    "                      tooltip=def_tt, \n",
    "                      names=df['tile-loc'].index.tolist(), \n",
    "                      display_names=False)\n",
    "\n",
    "\n",
    "\n",
    "# panzoom = bqplot.interacts.PanZoom()\n",
    "# fig.scale_x.min=0\n",
    "# fig.scale_x.max=10\n",
    "\n",
    "# fig.layout.height = '10000'\n",
    "inst_width = 900\n",
    "fig.layout.min_height = str(inst_width/1.2) + 'px'\n",
    "fig.layout.min_width = str(inst_width) + 'px'\n",
    "\n",
    "# scatter.default_opacities = [0.5] \n",
    "# scatter.default_opacities = [1.0, 0.9, 0.8, 0.7, 0.6, 0.5, 0.2, 0.1, 0.1]\n",
    "\n",
    "ser_opacity = df['tile-exp'].loc['CD106']\n",
    "list_opacity = [float(x/ser_opacity.max()) for x in list(ser_opacity.get_values())]\n",
    "scatter.default_opacities = list_opacity\n",
    "\n",
    "scatter.default_size = 250\n",
    "scatter.colors = ['red']"
   ]
  },
  {
   "cell_type": "markdown",
   "metadata": {},
   "source": [
    "### Expression Levels"
   ]
  },
  {
   "cell_type": "code",
   "execution_count": 40,
   "metadata": {},
   "outputs": [],
   "source": [
    "def update_opacity(marker):\n",
    "    ser_opacity = df['tile-exp'].loc[marker]\n",
    "    list_opacity = [float(x/ser_opacity.max()) for x in list(ser_opacity.get_values())]\n",
    "    scatter.default_opacities = list_opacity    "
   ]
  },
  {
   "cell_type": "code",
   "execution_count": null,
   "metadata": {},
   "outputs": [],
   "source": [
    "scatter."
   ]
  },
  {
   "cell_type": "code",
   "execution_count": 70,
   "metadata": {},
   "outputs": [],
   "source": [
    "# int_range = widgets.IntSlider()\n",
    "# display(int_range)\n",
    "\n",
    "def on_value_change(change):\n",
    "    if change['new'] != 'null':\n",
    "        update_opacity(change['new'])\n",
    "\n",
    "net.widget_instance.observe(on_value_change, names='value')"
   ]
  },
  {
   "cell_type": "code",
   "execution_count": 71,
   "metadata": {
    "scrolled": false
   },
   "outputs": [
    {
     "data": {
      "application/vnd.jupyter.widget-view+json": {
       "model_id": "30c7b65c20ad43eca234267e63fbb44c",
       "version_major": 2,
       "version_minor": 0
      },
      "text/plain": [
       "ExampleWidget(network='{\"row_nodes\": [{\"name\": \"CD45\", \"ini\": 29, \"clust\": 20, \"rank\": 27, \"rankvar\": 25, \"gro…"
      ]
     },
     "metadata": {},
     "output_type": "display_data"
    }
   ],
   "source": [
    "net.load_df(df['tile-exp'])\n",
    "# net.clip(0,15000)\n",
    "# net.normalize(axis='row', norm_type='zscore')\n",
    "net.widget()\n",
    "net.widget_instance.observe(on_value_change, names='value')\n",
    "net.widget_instance"
   ]
  },
  {
   "cell_type": "code",
   "execution_count": 72,
   "metadata": {},
   "outputs": [
    {
     "data": {
      "application/vnd.jupyter.widget-view+json": {
       "model_id": "cd8d3990e76c49aeae0089e17f6b2502",
       "version_major": 2,
       "version_minor": 0
      },
      "text/plain": [
       "Figure(axes=[Axis(scale=LinearScale(), side='bottom'), Axis(orientation='vertical', scale=LinearScale(), side=…"
      ]
     },
     "metadata": {},
     "output_type": "display_data"
    }
   ],
   "source": [
    "fig"
   ]
  },
  {
   "cell_type": "markdown",
   "metadata": {},
   "source": [
    "### Updating the Marker Opacity"
   ]
  },
  {
   "cell_type": "code",
   "execution_count": 46,
   "metadata": {},
   "outputs": [],
   "source": [
    "scatter.observe(net.widget_instance, 'value')"
   ]
  },
  {
   "cell_type": "code",
   "execution_count": 39,
   "metadata": {},
   "outputs": [],
   "source": [
    "# ser_opacity = df['tile-exp'].loc['CD106']\n",
    "# ser_opacity = df['tile-exp'].loc['CD44']\n",
    "# ser_opacity = df['tile-exp'].loc['CD45']\n",
    "ser_opacity = df['tile-exp'].loc['IgD']\n",
    "# ser_opacity = df['tile-exp'].loc['NKp46']\n",
    "# ser_opacity = df['tile-exp'].loc['IgM']\n",
    "list_opacity = [float(x/ser_opacity.max()) for x in list(ser_opacity.get_values())]\n",
    "scatter.default_opacities = list_opacity"
   ]
  },
  {
   "cell_type": "code",
   "execution_count": 48,
   "metadata": {},
   "outputs": [],
   "source": [
    "update_opacity(net.widget_instance.value)"
   ]
  },
  {
   "cell_type": "markdown",
   "metadata": {},
   "source": [
    "### Trying to Plot Voroni"
   ]
  },
  {
   "cell_type": "code",
   "execution_count": 32,
   "metadata": {},
   "outputs": [],
   "source": [
    "points = np.random.rand(10,2)"
   ]
  },
  {
   "cell_type": "code",
   "execution_count": 33,
   "metadata": {},
   "outputs": [],
   "source": [
    "from scipy.spatial import Voronoi, voronoi_plot_2d\n",
    "vor = Voronoi(df['tile-loc'])"
   ]
  },
  {
   "cell_type": "code",
   "execution_count": 34,
   "metadata": {},
   "outputs": [
    {
     "data": {
      "text/plain": [
       "array([[3083.11538462,  246.14102564],\n",
       "       [1319.95714286,   -6.95918367],\n",
       "       [1309.91747573,   36.06796117],\n",
       "       ...,\n",
       "       [ 966.24566474, -456.0433526 ],\n",
       "       [ 946.77896996,  -11.23175966],\n",
       "       [ 943.49065421,  -27.49065421]])"
      ]
     },
     "execution_count": 34,
     "metadata": {},
     "output_type": "execute_result"
    }
   ],
   "source": [
    "vor.vertices"
   ]
  },
  {
   "cell_type": "code",
   "execution_count": 35,
   "metadata": {},
   "outputs": [],
   "source": [
    "# for inst_region in vor.regions:\n",
    "#     print(len(inst_region))"
   ]
  },
  {
   "cell_type": "code",
   "execution_count": 36,
   "metadata": {},
   "outputs": [
    {
     "ename": "TypeError",
     "evalue": "'Figure' object is not callable",
     "output_type": "error",
     "traceback": [
      "\u001b[0;31m---------------------------------------------------------------------------\u001b[0m",
      "\u001b[0;31mTypeError\u001b[0m                                 Traceback (most recent call last)",
      "\u001b[0;32m<ipython-input-36-e03bdcd260e8>\u001b[0m in \u001b[0;36m<module>\u001b[0;34m()\u001b[0m\n\u001b[1;32m      1\u001b[0m \u001b[0mfig_vor\u001b[0m \u001b[0;34m=\u001b[0m \u001b[0mvoronoi_plot_2d\u001b[0m\u001b[0;34m(\u001b[0m\u001b[0mvor\u001b[0m\u001b[0;34m)\u001b[0m\u001b[0;34m\u001b[0m\u001b[0m\n\u001b[0;32m----> 2\u001b[0;31m \u001b[0mfig_vor\u001b[0m\u001b[0;34m(\u001b[0m\u001b[0;34m)\u001b[0m\u001b[0;34m\u001b[0m\u001b[0m\n\u001b[0m",
      "\u001b[0;31mTypeError\u001b[0m: 'Figure' object is not callable"
     ]
    },
    {
     "data": {
      "image/png": "[encoded data removed]",
      "text/plain": [
       "<Figure size 432x288 with 1 Axes>"
      ]
     },
     "metadata": {},
     "output_type": "display_data"
    }
   ],
   "source": [
    "fig_vor = voronoi_plot_2d(vor)\n",
    "fig_vor()"
   ]
  },
  {
   "cell_type": "code",
   "execution_count": null,
   "metadata": {},
   "outputs": [],
   "source": [
    "fig_vor\n",
    "fig"
   ]
  },
  {
   "cell_type": "markdown",
   "metadata": {},
   "source": [
    "# Colorize Voroni Regions"
   ]
  },
  {
   "cell_type": "code",
   "execution_count": null,
   "metadata": {},
   "outputs": [],
   "source": [
    "import numpy as np\n",
    "import matplotlib.pyplot as plt\n",
    "from scipy.spatial import Voronoi"
   ]
  },
  {
   "cell_type": "code",
   "execution_count": null,
   "metadata": {},
   "outputs": [],
   "source": [
    "def voronoi_finite_polygons_2d(vor, radius=None):\n",
    "    \"\"\"\n",
    "    Reconstruct infinite voronoi regions in a 2D diagram to finite\n",
    "    regions.\n",
    "\n",
    "    Parameters\n",
    "    ----------\n",
    "    vor : Voronoi\n",
    "        Input diagram\n",
    "    radius : float, optional\n",
    "        Distance to 'points at infinity'.\n",
    "\n",
    "    Returns\n",
    "    -------\n",
    "    regions : list of tuples\n",
    "        Indices of vertices in each revised Voronoi regions.\n",
    "    vertices : list of tuples\n",
    "        Coordinates for revised Voronoi vertices. Same as coordinates\n",
    "        of input vertices, with 'points at infinity' appended to the\n",
    "        end.\n",
    "\n",
    "    \"\"\"\n",
    "\n",
    "    if vor.points.shape[1] != 2:\n",
    "        raise ValueError(\"Requires 2D input\")\n",
    "\n",
    "    new_regions = []\n",
    "    new_vertices = vor.vertices.tolist()\n",
    "\n",
    "    center = vor.points.mean(axis=0)\n",
    "    if radius is None:\n",
    "        radius = vor.points.ptp().max()*2\n",
    "\n",
    "    # Construct a map containing all ridges for a given point\n",
    "    all_ridges = {}\n",
    "    for (p1, p2), (v1, v2) in zip(vor.ridge_points, vor.ridge_vertices):\n",
    "        all_ridges.setdefault(p1, []).append((p2, v1, v2))\n",
    "        all_ridges.setdefault(p2, []).append((p1, v1, v2))\n",
    "\n",
    "    # Reconstruct infinite regions\n",
    "    for p1, region in enumerate(vor.point_region):\n",
    "        vertices = vor.regions[region]\n",
    "\n",
    "        if all([v >= 0 for v in vertices]):\n",
    "            # finite region\n",
    "            new_regions.append(vertices)\n",
    "            continue\n",
    "\n",
    "        # reconstruct a non-finite region\n",
    "        ridges = all_ridges[p1]\n",
    "        new_region = [v for v in vertices if v >= 0]\n",
    "\n",
    "        for p2, v1, v2 in ridges:\n",
    "            if v2 < 0:\n",
    "                v1, v2 = v2, v1\n",
    "            if v1 >= 0:\n",
    "                # finite ridge: already in the region\n",
    "                continue\n",
    "\n",
    "            # Compute the missing endpoint of an infinite ridge\n",
    "\n",
    "            t = vor.points[p2] - vor.points[p1] # tangent\n",
    "            t /= np.linalg.norm(t)\n",
    "            n = np.array([-t[1], t[0]])  # normal\n",
    "\n",
    "            midpoint = vor.points[[p1, p2]].mean(axis=0)\n",
    "            direction = np.sign(np.dot(midpoint - center, n)) * n\n",
    "            far_point = vor.vertices[v2] + direction * radius\n",
    "\n",
    "            new_region.append(len(new_vertices))\n",
    "            new_vertices.append(far_point.tolist())\n",
    "\n",
    "        # sort region counterclockwise\n",
    "        vs = np.asarray([new_vertices[v] for v in new_region])\n",
    "        c = vs.mean(axis=0)\n",
    "        angles = np.arctan2(vs[:,1] - c[1], vs[:,0] - c[0])\n",
    "        new_region = np.array(new_region)[np.argsort(angles)]\n",
    "\n",
    "        # finish\n",
    "        new_regions.append(new_region.tolist())\n",
    "\n",
    "    return new_regions, np.asarray(new_vertices)"
   ]
  },
  {
   "cell_type": "code",
   "execution_count": null,
   "metadata": {},
   "outputs": [],
   "source": [
    "df['tile-loc'].columns.tolist()"
   ]
  },
  {
   "cell_type": "code",
   "execution_count": null,
   "metadata": {},
   "outputs": [],
   "source": [
    "import matplotlib.pyplot as plt\n",
    "width = 15\n",
    "height = width / 1.2\n",
    "fig= plt.figure(figsize=(width, height))\n",
    "\n",
    "# make up data points\n",
    "np.random.seed(1234)\n",
    "points = np.random.rand(15, 2)\n",
    "\n",
    "\n",
    "\n",
    "# compute Voronoi tesselation\n",
    "# vor = Voronoi(points)\n",
    "vor = Voronoi(df['tile-loc'])\n",
    "\n",
    "# plot\n",
    "regions, vertices = voronoi_finite_polygons_2d(vor)\n",
    "# print \"--\"\n",
    "# print regions\n",
    "# print \"--\"\n",
    "# print vertices\n",
    "\n",
    "# plt = plt.figure()\n",
    "\n",
    "# colorize\n",
    "for region in regions:\n",
    "    polygon = vertices[region]\n",
    "    plt.fill(*zip(*polygon), alpha=0.4)\n",
    "\n",
    "# plt.plot(points[:,0], points[:,1], 'ko')\n",
    "plt.plot(df['tile-loc']['X.X'], df['tile-loc']['Y.Y'], 'ro')\n",
    "plt.axis('equal')\n",
    "plt.xlim(vor.min_bound[0], vor.max_bound[0])\n",
    "plt.ylim(vor.min_bound[1], vor.max_bound[1])\n",
    "\n",
    "# fig = plt.figure(figsize=(9,100))"
   ]
  },
  {
   "cell_type": "code",
   "execution_count": null,
   "metadata": {},
   "outputs": [],
   "source": [
    "plt"
   ]
  },
  {
   "cell_type": "code",
   "execution_count": null,
   "metadata": {},
   "outputs": [],
   "source": []
  }
 ],
 "metadata": {
  "kernelspec": {
   "display_name": "Python 3",
   "language": "python",
   "name": "python3"
  },
  "language_info": {
   "codemirror_mode": {
    "name": "ipython",
    "version": 3
   },
   "file_extension": ".py",
   "mimetype": "text/x-python",
   "name": "python",
   "nbconvert_exporter": "python",
   "pygments_lexer": "ipython3",
   "version": "3.6.5"
  }
 },
 "nbformat": 4,
 "nbformat_minor": 2
}
