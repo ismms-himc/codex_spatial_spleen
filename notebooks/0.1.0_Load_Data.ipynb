{
 "cells": [
  {
   "cell_type": "markdown",
   "metadata": {},
   "source": [
    "# 0.1.0 Load Data\n",
    "* Codex Data obtained from: http://welikesharingdata.blob.core.windows.net/forshare/index.html\n",
    "* Manuscript: https://www.cell.com/cell/pdf/S0092-8674(18)30904-8.pdf"
   ]
  },
  {
   "cell_type": "code",
   "execution_count": 1,
   "metadata": {},
   "outputs": [],
   "source": [
    "import pandas as pd\n",
    "df = {}"
   ]
  },
  {
   "cell_type": "code",
   "execution_count": 2,
   "metadata": {},
   "outputs": [
    {
     "name": "stdout",
     "output_type": "stream",
     "text": [
      ">> clustergrammer2 backend version 0.4.2\n"
     ]
    }
   ],
   "source": [
    "from clustergrammer2 import net"
   ]
  },
  {
   "cell_type": "code",
   "execution_count": 3,
   "metadata": {},
   "outputs": [],
   "source": [
    "import ipywidgets as widgets\n",
    "import numpy as np\n",
    "from bqplot import pyplot as plt\n",
    "import bqplot"
   ]
  },
  {
   "cell_type": "code",
   "execution_count": 4,
   "metadata": {},
   "outputs": [],
   "source": [
    "from copy import deepcopy"
   ]
  },
  {
   "cell_type": "code",
   "execution_count": 5,
   "metadata": {},
   "outputs": [],
   "source": [
    "from glob import glob"
   ]
  },
  {
   "cell_type": "markdown",
   "metadata": {},
   "source": [
    "### Load X-shift cluster ID"
   ]
  },
  {
   "cell_type": "code",
   "execution_count": 6,
   "metadata": {},
   "outputs": [
    {
     "data": {
      "text/plain": [
       "(58, 1)"
      ]
     },
     "execution_count": 6,
     "metadata": {},
     "output_type": "execute_result"
    }
   ],
   "source": [
    "df['cell_type'] = pd.read_excel('../data/big_data/mmc2__codex_cell_type_info.xlsx', index_col=0)\n",
    "df['cell_type'].shape"
   ]
  },
  {
   "cell_type": "code",
   "execution_count": 7,
   "metadata": {},
   "outputs": [],
   "source": [
    "ct_dict = {}\n",
    "cell_types = []\n",
    "for inst_id in df['cell_type'].index.tolist():\n",
    "    inst_ct = df['cell_type']['Imaging phenotype (cell type)'].loc[inst_id]\n",
    "    cell_types.append(inst_ct)\n",
    "    ct_dict[inst_id] = inst_ct"
   ]
  },
  {
   "cell_type": "code",
   "execution_count": 8,
   "metadata": {},
   "outputs": [
    {
     "name": "stdout",
     "output_type": "stream",
     "text": [
      "28\n"
     ]
    },
    {
     "data": {
      "text/plain": [
       "['B cells',\n",
       " 'B220(+) DN T cells',\n",
       " 'CD106(+)CD16/32(+)CD31(+) stroma',\n",
       " 'CD106(+)CD16/32(+)CD31(-)Ly6C(-) stroma',\n",
       " 'CD106(+)CD16/32(-)Ly6C(+)CD31(+)',\n",
       " 'CD106(-)CD16/32(+)Ly6C(+)CD31(-)',\n",
       " 'CD106(-)CD16/32(-)Ly6C(+)CD31(+) stroma',\n",
       " 'CD11c(+) B cells',\n",
       " 'CD3(+) other markers (-)',\n",
       " 'CD31(hi) vascular',\n",
       " 'CD4(+) T cells',\n",
       " 'CD4(+)CD8(-)cDC',\n",
       " 'CD4(+)MHCII(+)',\n",
       " 'CD4(-)CD8(+)cDC',\n",
       " 'CD4(-)CD8(-) cDC',\n",
       " 'CD8(+) T cells',\n",
       " 'ERTR7(+) stroma',\n",
       " 'F4/80(+) mphs',\n",
       " 'FDCs',\n",
       " 'NK cells',\n",
       " 'capsule',\n",
       " 'dirt',\n",
       " 'erythroblasts',\n",
       " 'granulocytes',\n",
       " 'marginal zone mphs',\n",
       " 'megakaryocytes',\n",
       " 'noid',\n",
       " 'plasma cells']"
      ]
     },
     "execution_count": 8,
     "metadata": {},
     "output_type": "execute_result"
    }
   ],
   "source": [
    "cell_types = sorted(list(set(cell_types)))\n",
    "print(len(cell_types))\n",
    "cell_types"
   ]
  },
  {
   "cell_type": "code",
   "execution_count": 9,
   "metadata": {},
   "outputs": [],
   "source": [
    "x_dim = 1200\n",
    "y_dim = 1000"
   ]
  },
  {
   "cell_type": "markdown",
   "metadata": {},
   "source": [
    "## Check available Files"
   ]
  },
  {
   "cell_type": "code",
   "execution_count": 10,
   "metadata": {},
   "outputs": [
    {
     "data": {
      "text/plain": [
       "['../data/big_data/channelNames_BALBcMRLdataset.txt']"
      ]
     },
     "execution_count": 10,
     "metadata": {},
     "output_type": "execute_result"
    }
   ],
   "source": [
    "glob('../data/big_data/*.txt')"
   ]
  },
  {
   "cell_type": "code",
   "execution_count": 11,
   "metadata": {},
   "outputs": [
    {
     "data": {
      "text/plain": [
       "['../data/big_data/CODEX_MRLdataset_neighborhood_graph.csv',\n",
       " '../data/big_data/BALBcMRLdataset_exposuretimes.csv',\n",
       " '../data/big_data/Suppl.Table2.CODEX_paper_MRLdatasetexpression.csv']"
      ]
     },
     "execution_count": 11,
     "metadata": {},
     "output_type": "execute_result"
    }
   ],
   "source": [
    "glob('../data/big_data/*.csv')"
   ]
  },
  {
   "cell_type": "markdown",
   "metadata": {},
   "source": [
    "### Expression Data\n",
    "See http://welikesharingdata.blob.core.windows.net/forshare/index.html\n",
    "\n",
    "* CSV file contains mean marker intensities and X, Y, Z corrdinates for each cell relative to the top left corner of its tile. \n",
    "* Tile IDs correspond to tile images sorted in the alphanumeric order\n",
    "* Size parameter corresponds to the cell object sizes in voxels\n",
    "* \"imaging phenotype Cluster ID\" column specifies the phenotypic cluster identity as determined by X-shift\n",
    "* \"niche Cluster ID\" column specifies the i-niche cluster determined by K-means (K=100)\n",
    "* neighborhood graph files describes which pairs of cells are adjacent to one another"
   ]
  },
  {
   "cell_type": "markdown",
   "metadata": {},
   "source": [
    "### Add X-Y position ID to the Cells\n",
    "This ID will be used to generate the neighborhood graph."
   ]
  },
  {
   "cell_type": "code",
   "execution_count": 12,
   "metadata": {},
   "outputs": [],
   "source": [
    "all_tiles = ['BALBc-1_X01_Y01', 'BALBc-1_X02_Y01', 'BALBc-1_X01_Y02', 'BALBc-1_X02_Y02']"
   ]
  },
  {
   "cell_type": "code",
   "execution_count": 13,
   "metadata": {},
   "outputs": [
    {
     "name": "stdout",
     "output_type": "stream",
     "text": [
      "CPU times: user 9.66 s, sys: 659 ms, total: 10.3 s\n",
      "Wall time: 10.1 s\n"
     ]
    }
   ],
   "source": [
    "%%time\n",
    "df['exp'] = pd.read_csv('../data/big_data/Suppl.Table2.CODEX_paper_MRLdatasetexpression.csv')"
   ]
  },
  {
   "cell_type": "code",
   "execution_count": 14,
   "metadata": {},
   "outputs": [
    {
     "data": {
      "text/plain": [
       "(734101, 38)"
      ]
     },
     "execution_count": 14,
     "metadata": {},
     "output_type": "execute_result"
    }
   ],
   "source": [
    "df['exp'].shape"
   ]
  },
  {
   "cell_type": "code",
   "execution_count": null,
   "metadata": {},
   "outputs": [],
   "source": [
    "%%time\n",
    "# new_rows = ['C-' + str(x) for x in df['exp'].index.tolist()]\n",
    "\n",
    "new_rows = []\n",
    "for inst_row in df['exp'].index.tolist():\n",
    "    inst_ser = df['exp'].loc[inst_row]\n",
    "    inst_x = inst_ser['X.X']\n",
    "    inst_y = inst_ser['Y.Y']\n",
    "    inst_tile = inst_ser['sample_Xtile_Ytile']\n",
    "    \n",
    "    new_row = 'C-' + str(inst_row) + '_' + inst_tile + '_' + str(inst_x) + '_' + str(inst_y)\n",
    "    # new_row = inst_tile + '_' + str(inst_x) + '_' + str(inst_y)\n",
    "    new_rows.append(new_row)\n",
    "\n",
    "df['exp'].index = new_rows\n",
    "print(df['exp'].shape)"
   ]
  },
  {
   "cell_type": "code",
   "execution_count": null,
   "metadata": {},
   "outputs": [],
   "source": [
    "rows = df['exp'].index.tolist()\n",
    "print(len(rows))\n",
    "print(len(list(set(rows))))"
   ]
  },
  {
   "cell_type": "code",
   "execution_count": null,
   "metadata": {},
   "outputs": [],
   "source": [
    "df['exp'].index.tolist()[0]"
   ]
  },
  {
   "cell_type": "code",
   "execution_count": null,
   "metadata": {},
   "outputs": [],
   "source": [
    "new_row"
   ]
  },
  {
   "cell_type": "code",
   "execution_count": null,
   "metadata": {},
   "outputs": [],
   "source": [
    "df['exp'].head()"
   ]
  },
  {
   "cell_type": "code",
   "execution_count": null,
   "metadata": {},
   "outputs": [],
   "source": [
    "df['exp'].shape"
   ]
  },
  {
   "cell_type": "markdown",
   "metadata": {},
   "source": [
    "### Add Sample Column"
   ]
  },
  {
   "cell_type": "code",
   "execution_count": null,
   "metadata": {},
   "outputs": [],
   "source": [
    "sample_list = [x.split('_')[0] for x in list(df['exp']['sample_Xtile_Ytile'].get_values())]\n",
    "ser_sample = pd.Series(sample_list, name='sample_slide', index=df['exp'].index.tolist())"
   ]
  },
  {
   "cell_type": "code",
   "execution_count": null,
   "metadata": {},
   "outputs": [],
   "source": [
    "print(len(sorted(list(set(sample_list)))))\n",
    "list_slides = sorted(list(set(sample_list)))\n",
    "list_slides"
   ]
  },
  {
   "cell_type": "code",
   "execution_count": null,
   "metadata": {},
   "outputs": [],
   "source": [
    "df['exp']['sample_slide'] = ser_sample"
   ]
  },
  {
   "cell_type": "code",
   "execution_count": null,
   "metadata": {},
   "outputs": [],
   "source": [
    "ser_sample.value_counts()"
   ]
  },
  {
   "cell_type": "code",
   "execution_count": null,
   "metadata": {},
   "outputs": [],
   "source": [
    "cols = df['exp'].columns.tolist()\n",
    "cols"
   ]
  },
  {
   "cell_type": "code",
   "execution_count": null,
   "metadata": {},
   "outputs": [],
   "source": [
    "exp_cols = cols[1:30]\n",
    "exp_cols"
   ]
  },
  {
   "cell_type": "code",
   "execution_count": null,
   "metadata": {},
   "outputs": [],
   "source": [
    "unique_dict = {}\n",
    "for inst_col in cols:\n",
    "    inst_list_unique = list(df['exp'][inst_col].unique())\n",
    "    unique_dict[inst_col] = inst_list_unique    \n",
    "    inst_num_unique = len(inst_list_unique)\n",
    "    print(inst_col, inst_num_unique)"
   ]
  },
  {
   "cell_type": "markdown",
   "metadata": {},
   "source": [
    "### Select Single Image Tile\n",
    "BALBc: normal tissue\n",
    "MRL/lpr: spleen from animals with systemic autoimmune disease\n",
    "\n",
    "Start with: 'BALBc-1_X01_Y01'"
   ]
  },
  {
   "cell_type": "code",
   "execution_count": null,
   "metadata": {
    "scrolled": true
   },
   "outputs": [],
   "source": [
    "df_list = []\n",
    "\n",
    "\n",
    "for inst_tile in all_tiles:\n",
    "# for inst_tile in ['BALBc-1_X01_Y01', 'BALBc-1_X02_Y01']:\n",
    "# for inst_tile in ['BALBc-1_X01_Y02', 'BALBc-1_X02_Y02']:    \n",
    "    keep_rows = []\n",
    "\n",
    "    ser_tile = df['exp']['sample_Xtile_Ytile']\n",
    "    ser_found = ser_tile[ser_tile == inst_tile]\n",
    "    \n",
    "    keep_rows.extend(ser_found.index.tolist())\n",
    "    inst_df = df['exp'].loc[keep_rows].transpose()\n",
    "    print('inst_df', inst_df.shape)\n",
    "    \n",
    "    if 'X02' in inst_tile:\n",
    "        inst_df.loc['X.X'] = inst_df.loc['X.X'] + 1350\n",
    "\n",
    "    if 'Y01' in inst_tile:        \n",
    "        inst_df.loc['Y.Y'] = 2000 - inst_df.loc['Y.Y']\n",
    "    \n",
    "    if 'Y02' in inst_tile:\n",
    "        inst_df.loc['Y.Y'] = 1000 - inst_df.loc['Y.Y'] \n",
    "        \n",
    "    df_list.append(inst_df)\n",
    "    \n",
    "    \n",
    "# df['tile'] = df['exp'].loc[keep_rows].transpose()\n",
    "df['tile'] = pd.concat(df_list, axis=1)\n",
    "print(df['tile'].shape)\n",
    "\n",
    "cats = df['tile'].loc['Imaging phenotype cluster ID']\n",
    "cats = [ct_dict[x] for x in cats]\n",
    "\n",
    "new_cols = []\n",
    "\n",
    "cols = df['tile'].columns.tolist()\n",
    "for index in range(len(cols)):\n",
    "    \n",
    "    new_col = (cols[index], 'Cell Type: ' + str(cats[index]))\n",
    "    new_cols.append(new_col)\n",
    "df['tile'].columns = new_cols\n",
    "df['tile'].shape"
   ]
  },
  {
   "cell_type": "code",
   "execution_count": null,
   "metadata": {},
   "outputs": [],
   "source": [
    "df['tile'].columns.tolist()[0]"
   ]
  },
  {
   "cell_type": "markdown",
   "metadata": {},
   "source": [
    "### Plot Tile Expression Levels"
   ]
  },
  {
   "cell_type": "code",
   "execution_count": null,
   "metadata": {},
   "outputs": [],
   "source": [
    "df['tile-exp-ini'] = df['tile'].loc[exp_cols]\n",
    "df['tile-exp-ini'].shape"
   ]
  },
  {
   "cell_type": "markdown",
   "metadata": {},
   "source": [
    "### Set Negative Expression Levels to Zero"
   ]
  },
  {
   "cell_type": "code",
   "execution_count": null,
   "metadata": {},
   "outputs": [],
   "source": [
    "df['tile-exp'] = df['tile-exp-ini']\n",
    "df['tile-exp'][df['tile-exp'] < 0] = 0"
   ]
  },
  {
   "cell_type": "code",
   "execution_count": null,
   "metadata": {},
   "outputs": [],
   "source": [
    "df['tile-exp'].transpose().describe()"
   ]
  },
  {
   "cell_type": "code",
   "execution_count": null,
   "metadata": {},
   "outputs": [],
   "source": [
    "df['tile-exp'][df['tile-exp'] > 5000] = 5000"
   ]
  },
  {
   "cell_type": "code",
   "execution_count": null,
   "metadata": {},
   "outputs": [],
   "source": [
    "df['tile-exp'].shape"
   ]
  },
  {
   "cell_type": "code",
   "execution_count": null,
   "metadata": {},
   "outputs": [],
   "source": [
    "df['tile'].loc['Z.Z'].head()"
   ]
  },
  {
   "cell_type": "markdown",
   "metadata": {},
   "source": [
    "### Location of Cells"
   ]
  },
  {
   "cell_type": "code",
   "execution_count": null,
   "metadata": {},
   "outputs": [],
   "source": [
    "df['tile-loc'] = df['tile'].loc[['X.X', 'Y.Y']].transpose()\n",
    "df['tile-loc'].shape"
   ]
  },
  {
   "cell_type": "code",
   "execution_count": null,
   "metadata": {},
   "outputs": [],
   "source": [
    "# df['tile-loc']['Y.Y'] = 1000 - df['tile-loc']['Y.Y'] "
   ]
  },
  {
   "cell_type": "code",
   "execution_count": null,
   "metadata": {},
   "outputs": [],
   "source": [
    "df['tile-loc'] = df['tile-loc'].astype('int')"
   ]
  },
  {
   "cell_type": "code",
   "execution_count": null,
   "metadata": {},
   "outputs": [],
   "source": [
    "def set_expression_opacity(inst_gene):\n",
    "    ser_opacity = df['tile-exp'].loc[inst_gene]\n",
    "    list_opacity = [float(x/ser_opacity.max()) for x in list(ser_opacity.get_values())]\n",
    "    scatter.default_opacities = list_opacity"
   ]
  },
  {
   "cell_type": "code",
   "execution_count": null,
   "metadata": {},
   "outputs": [],
   "source": [
    "len(df['tile-loc'].index.tolist())"
   ]
  },
  {
   "cell_type": "code",
   "execution_count": null,
   "metadata": {},
   "outputs": [],
   "source": [
    "fig = plt.figure(title='Scatter')\n",
    "def_tt = bqplot.Tooltip(fields=['name'], formats=[''])\n",
    "\n",
    "scatter = plt.scatter(df['tile-loc']['X.X'], \n",
    "                      df['tile-loc']['Y.Y'], \n",
    "                      figsize=(20,10), \n",
    "                      ylim=(0,1000), \n",
    "                      xlim=(0,1000), stroke='black', \n",
    "                      tooltip=def_tt, \n",
    "                      names=df['tile-loc'].index.tolist(), \n",
    "                      display_names=False)\n",
    "\n",
    "inst_width = 900\n",
    "fig.layout.min_height = str(inst_width/1.2) + 'px'\n",
    "fig.layout.min_width = str(inst_width) + 'px'\n",
    "\n",
    "set_expression_opacity('NKp46')\n",
    "\n",
    "scatter.default_size = 100\n",
    "scatter.colors = ['red']"
   ]
  },
  {
   "cell_type": "markdown",
   "metadata": {},
   "source": [
    "### Using RGB to HEX\n",
    "https://www.rgbtohex.net/"
   ]
  },
  {
   "cell_type": "code",
   "execution_count": null,
   "metadata": {},
   "outputs": [],
   "source": [
    "cat_colors = {}\n",
    "# A \n",
    "cat_colors['NK cells'] = '#FB0006'\n",
    "# B\n",
    "cat_colors['granulocytes'] = '#FA1400'\n",
    "# C \n",
    "cat_colors['CD4(-)CD8(-) cDC'] = '#FC4B08'\n",
    "# D \n",
    "cat_colors['B220(+) DN T cells'] = '#FD8007'\n",
    "# E \n",
    "cat_colors['plasma cells'] = '#FDBA0A'\n",
    "# F \n",
    "cat_colors['F4/80(+) mphs'] = '#FFF80B'\n",
    "# G \n",
    "cat_colors['FDCs'] = '#FC9CA0'\n",
    "# H\n",
    "cat_colors['CD11c(+) B cells'] = '#99FF06'\n",
    "# I \n",
    "cat_colors['capsule'] = '#68FF0A'\n",
    "# J \n",
    "cat_colors['marginal zone mphs'] = '#0A4600'\n",
    "# K \n",
    "cat_colors['noid'] = '#25FF04'\n",
    "# L \n",
    "cat_colors['B cells'] = '#FFFF09'\n",
    "# M\n",
    "cat_colors['erythroblasts'] = '#1FFF3C'\n",
    "# N\n",
    "cat_colors['CD106(+)CD16/32(+)CD31(+) stroma'] = '#23FF6D'\n",
    "# O\n",
    "cat_colors['CD4(-)CD8(+)cDC'] = '#23FFA3'\n",
    "# P \n",
    "cat_colors['CD106(-)CD16/32(-)Ly6C(+)CD31(+) stroma'] = '#20FFDD'\n",
    "# Q\n",
    "cat_colors['megakaryocytes'] = '#1CE5FF'\n",
    "# R \n",
    "cat_colors['CD106(-)CD16/32(+)Ly6C(+)CD31(-)'] = '#15A7FF'\n",
    "# S\n",
    "cat_colors['CD4(+) T cells'] = '#0D6FFF'\n",
    "# T\n",
    "cat_colors['CD4(+)MHCII(+)'] = '#0137FF'\n",
    "# Ud\n",
    "cat_colors['CD31(hi) vascular'] = '#0000FF'\n",
    "# V\n",
    "cat_colors['CD3(+) other markers (-)'] = '#0700FF'\n",
    "# W\n",
    "cat_colors['CD106(+)CD16/32(+)CD31(-)Ly6C(-) stroma'] = '#2D00FF'\n",
    "# X\n",
    "cat_colors['CD8(+) T cells'] = '#5900FF'\n",
    "# Y\n",
    "cat_colors['ERTR7(+) stroma'] = '#8C00FE'\n",
    "# Z\n",
    "cat_colors['CD106(+)CD16/32(-)Ly6C(+)CD31(+)'] = '#C300FF'\n",
    "# [\n",
    "cat_colors['CD4(+)CD8(-)cDC'] = '#FB00FA'\n",
    "# dirt\n",
    "cat_colors['dirt'] = '#BCBCBC'"
   ]
  },
  {
   "cell_type": "markdown",
   "metadata": {},
   "source": [
    "### Expression Levels"
   ]
  },
  {
   "cell_type": "code",
   "execution_count": null,
   "metadata": {},
   "outputs": [],
   "source": [
    "keep_cols = [x for x in df['tile-exp'].columns.tolist() if 'dirt' not in x[1]]\n",
    "df['tile-exp-clean'] = df['tile-exp'][keep_cols]\n",
    "df['tile-exp-clean'].shape"
   ]
  },
  {
   "cell_type": "code",
   "execution_count": null,
   "metadata": {},
   "outputs": [],
   "source": [
    "net.load_df(df['tile-exp-clean'])\n",
    "net.set_cat_colors(axis='col', cat_colors=cat_colors, cat_index=1, cat_title='Cell Type')"
   ]
  },
  {
   "cell_type": "code",
   "execution_count": null,
   "metadata": {},
   "outputs": [],
   "source": [
    "net.load_df(df['tile-exp-clean'])\n",
    "net.widget()"
   ]
  },
  {
   "cell_type": "markdown",
   "metadata": {},
   "source": [
    "### Voronoi Plot"
   ]
  },
  {
   "cell_type": "code",
   "execution_count": null,
   "metadata": {},
   "outputs": [],
   "source": [
    "from scipy.spatial import Voronoi\n",
    "vor = Voronoi(df['tile-loc'])"
   ]
  },
  {
   "cell_type": "code",
   "execution_count": null,
   "metadata": {},
   "outputs": [],
   "source": [
    "point_list = df['tile-loc'].index.tolist()\n",
    "point_names = [x[0] for x in point_list]\n",
    "cat_names   = [x[1].split(': ')[1] for x in point_list]"
   ]
  },
  {
   "cell_type": "code",
   "execution_count": null,
   "metadata": {},
   "outputs": [],
   "source": [
    "patch_data = {}\n",
    "patch_data['x'] = []\n",
    "patch_data['y'] = []\n",
    "patch_data['colors'] = []\n",
    "region_labels = []\n",
    "\n",
    "region_point_dict = {}\n",
    "for point_index in range(vor.point_region.shape[0]):\n",
    "    region_index = vor.point_region[point_index]\n",
    "    region_point_dict[region_index] = point_index\n",
    "\n",
    "for region_index in range(len(vor.regions)):\n",
    "    \n",
    "    inst_region = vor.regions[region_index]\n",
    "\n",
    "    if -1 not in inst_region and len(inst_region) > 0:\n",
    "\n",
    "        point_index = region_point_dict[region_index]\n",
    "        point_cat = cat_names[point_index]\n",
    "        region_labels.append(point_cat)\n",
    "        \n",
    "        # save cat_colors\n",
    "        inst_color = cat_colors[point_cat]\n",
    "        patch_data['colors'].append(inst_color)\n",
    "        \n",
    "        x_list = []\n",
    "        y_list = []\n",
    "        for inst_vertex in inst_region:\n",
    "            inst_pos = vor.vertices[inst_vertex]\n",
    "            x_list.append(inst_pos[0])\n",
    "            y_list.append(inst_pos[1])\n",
    "            \n",
    "        patch_data['x'].append(x_list)\n",
    "        patch_data['y'].append(y_list)    "
   ]
  },
  {
   "cell_type": "code",
   "execution_count": null,
   "metadata": {},
   "outputs": [],
   "source": [
    "import bqplot.pyplot as plt\n",
    "fig = plt.figure(animation_duration=1000)\n",
    "patch = plt.plot([], [], \n",
    "                 fill='inside',\n",
    "                 fill_colors=patch_data['colors'],\n",
    "                 stroke_width=1,\n",
    "                 close_path=True,\n",
    "                 labels=region_labels,\n",
    "                 tooltip=def_tt,\n",
    "                 axes_options={'x': {'visible': False}, 'y': {'visible': False}},\n",
    "                )\n",
    "\n",
    "scatter = plt.scatter(df['tile-loc']['X.X'], \n",
    "                      df['tile-loc']['Y.Y'],\n",
    "#                       tooltip=def_tt, \n",
    "                      names=point_names,\n",
    "                      display_names=False, default_size=2)\n",
    "\n",
    "\n",
    "inst_width = 950\n",
    "fig.layout.min_height = str(inst_width/(1.15)) + 'px'\n",
    "fig.layout.min_width  = str(inst_width) + 'px'\n",
    "\n",
    "patch.x = patch_data['x']\n",
    "patch.y = patch_data['y']\n",
    "\n",
    "plt.xlim(0, 2.0*x_dim)\n",
    "plt.ylim(0, 2.0*y_dim)\n",
    "\n",
    "fig\n",
    "# plt.show()"
   ]
  },
  {
   "cell_type": "code",
   "execution_count": null,
   "metadata": {},
   "outputs": [],
   "source": [
    "def mouseover_highlight(self, target):\n",
    "    # print('cat name', target['data']['name'])\n",
    "    list_opacities = []\n",
    "    for inst_label in region_labels:\n",
    "        inst_opacity = 0.25\n",
    "        if inst_label == target['data']['name']:\n",
    "            inst_opacity = 1\n",
    "        list_opacities.append(inst_opacity)\n",
    "\n",
    "    self.opacities = list_opacities"
   ]
  },
  {
   "cell_type": "code",
   "execution_count": null,
   "metadata": {},
   "outputs": [],
   "source": [
    "def reset_highlight(self, target):\n",
    "#     print('CLICKING')\n",
    "    list_opacities = [1 for x in region_labels]\n",
    "    self.opacities = list_opacities"
   ]
  },
  {
   "cell_type": "code",
   "execution_count": null,
   "metadata": {},
   "outputs": [],
   "source": [
    "patch.on_hover(mouseover_highlight)\n",
    "patch.on_element_click(reset_highlight)"
   ]
  },
  {
   "cell_type": "code",
   "execution_count": null,
   "metadata": {},
   "outputs": [],
   "source": [
    "cells = df['tile-loc'].index.tolist()\n",
    "len(cells)"
   ]
  },
  {
   "cell_type": "code",
   "execution_count": null,
   "metadata": {},
   "outputs": [],
   "source": [
    "df['tile-loc'].transpose()"
   ]
  },
  {
   "cell_type": "code",
   "execution_count": null,
   "metadata": {},
   "outputs": [],
   "source": [
    "from scipy.spatial.distance import pdist, squareform"
   ]
  },
  {
   "cell_type": "code",
   "execution_count": null,
   "metadata": {},
   "outputs": [],
   "source": [
    "mat_cd = pdist(df['tile-loc'], metric='euclidean')"
   ]
  },
  {
   "cell_type": "code",
   "execution_count": null,
   "metadata": {},
   "outputs": [],
   "source": [
    "dist_mat = squareform(mat_cd)\n",
    "dist_mat.shape"
   ]
  },
  {
   "cell_type": "code",
   "execution_count": null,
   "metadata": {},
   "outputs": [],
   "source": [
    "df['dist'] = pd.DataFrame(data=dist_mat, index=cells, columns=cells)"
   ]
  },
  {
   "cell_type": "code",
   "execution_count": null,
   "metadata": {},
   "outputs": [],
   "source": [
    "df['dist'].head()"
   ]
  },
  {
   "cell_type": "code",
   "execution_count": null,
   "metadata": {},
   "outputs": [],
   "source": []
  },
  {
   "cell_type": "code",
   "execution_count": null,
   "metadata": {},
   "outputs": [],
   "source": [
    "# df['dist'][inst_col].hist()"
   ]
  },
  {
   "cell_type": "code",
   "execution_count": null,
   "metadata": {},
   "outputs": [],
   "source": [
    "# ser_hood = inst_ser[inst_ser < 100]"
   ]
  },
  {
   "cell_type": "code",
   "execution_count": null,
   "metadata": {},
   "outputs": [],
   "source": [
    "# ser_hoodod.shape"
   ]
  },
  {
   "cell_type": "code",
   "execution_count": null,
   "metadata": {},
   "outputs": [],
   "source": [
    "num_nn = 10\n",
    "list_cell_density = []\n",
    "list_nn_dist = []\n",
    "for inst_col in df['dist'].columns.tolist():\n",
    "    # skip self distance of zero\n",
    "    inst_ser = df['dist'][inst_col].sort_values()[1:]\n",
    "    \n",
    "    ser_nn = inst_ser[:num_nn]\n",
    "    \n",
    "    # find nearest neighbor cell type distribution\n",
    "    nn_names = ser_nn.index.tolist()\n",
    "    nn_cats = [x[1].split(': ')[1] for x in nn_names]\n",
    "    nn_dist = pd.Series(nn_cats).value_counts()/num_nn\n",
    "    \n",
    "    # number of cells in 100px neighborhood\n",
    "    cell_density = inst_ser[inst_ser < 100].shape[0]\n",
    "    list_cell_density.append(cell_density)\n",
    "\n",
    "    nn_dist.name = (inst_col[0], inst_col[1], 'NN CT: ' + nn_dist.index.tolist()[0], 'Density: ' + str(cell_density))\n",
    "    list_nn_dist.append(nn_dist)\n",
    "\n",
    "df['nn-dist'] = pd.concat(list_nn_dist, axis=1, sort=True).fillna(0)    "
   ]
  },
  {
   "cell_type": "code",
   "execution_count": null,
   "metadata": {},
   "outputs": [],
   "source": [
    "# nn_dist"
   ]
  },
  {
   "cell_type": "code",
   "execution_count": null,
   "metadata": {},
   "outputs": [],
   "source": [
    "net.load_df(df['nn-dist'])\n",
    "net.set_cat_colors(axis='col', cat_colors=cat_colors, cat_index=2, cat_title='NN CT')"
   ]
  },
  {
   "cell_type": "markdown",
   "metadata": {},
   "source": [
    "# Neighborhood Graph"
   ]
  },
  {
   "cell_type": "code",
   "execution_count": null,
   "metadata": {},
   "outputs": [],
   "source": [
    "df['exp'].index.tolist()[0]"
   ]
  },
  {
   "cell_type": "code",
   "execution_count": null,
   "metadata": {},
   "outputs": [],
   "source": [
    "df['neighbor'] = pd.read_csv('../data/big_data/CODEX_MRLdataset_neighborhood_graph.csv')\n",
    "df['neighbor'].shape"
   ]
  },
  {
   "cell_type": "code",
   "execution_count": null,
   "metadata": {},
   "outputs": [],
   "source": [
    "df['neighbor'].head()"
   ]
  },
  {
   "cell_type": "code",
   "execution_count": null,
   "metadata": {},
   "outputs": [],
   "source": [
    "all_tiles = ['BALBc-1_X01_Y01', 'BALBc-1_X02_Y01', 'BALBc-1_X01_Y02', 'BALBc-1_X02_Y02']"
   ]
  },
  {
   "cell_type": "markdown",
   "metadata": {},
   "source": [
    "### Make Dictionary of Nieghbor Cells and Neighbor Cell Types"
   ]
  },
  {
   "cell_type": "code",
   "execution_count": null,
   "metadata": {},
   "outputs": [],
   "source": [
    "%%time\n",
    "neighbor_graph = {}\n",
    "ct_graph = {}\n",
    "for inst_row in df['neighbor'].index.tolist():\n",
    "    inst_ser = df['neighbor'].loc[inst_row]\n",
    "    \n",
    "    inst_tile = inst_ser['Cell1 Sample_Xtile_Ytile']\n",
    "    if inst_tile in all_tiles:\n",
    "        inst_cell = inst_tile + '_' + str(inst_ser['X1']) + '_' + str(inst_ser['Y1'])\n",
    "    \n",
    "        inst_neighbor = inst_ser['Cell2 Sample_Xtile_Ytile'] + '_' + str(inst_ser['X2']) + '_' + str(inst_ser['Y2'])\n",
    "        inst_cat = ct_dict[inst_ser['Cell2 Imaging phenotype cluster ID']]\n",
    "        \n",
    "        # add cell to dictionary if necessary\n",
    "        if inst_cell not in neighbor_graph:\n",
    "            neighbor_graph[inst_cell] = []\n",
    "            ct_graph[inst_cell] = []\n",
    "            \n",
    "        neighbor_graph[inst_cell].append(inst_neighbor)\n",
    "        ct_graph[inst_cell].append(inst_cat)"
   ]
  },
  {
   "cell_type": "code",
   "execution_count": null,
   "metadata": {},
   "outputs": [],
   "source": [
    "cell_keys = list(neighbor_graph.keys())\n",
    "print(len(cell_keys))\n",
    "print(len(list(set(cell_keys))))"
   ]
  },
  {
   "cell_type": "code",
   "execution_count": null,
   "metadata": {},
   "outputs": [],
   "source": [
    "df['exp'].index.tolist()[0]"
   ]
  },
  {
   "cell_type": "code",
   "execution_count": null,
   "metadata": {},
   "outputs": [],
   "source": [
    "list(neighbor_graph.keys())[0]"
   ]
  },
  {
   "cell_type": "code",
   "execution_count": null,
   "metadata": {},
   "outputs": [],
   "source": [
    "'_'.join(['a', 'b'])"
   ]
  },
  {
   "cell_type": "code",
   "execution_count": null,
   "metadata": {
    "scrolled": true
   },
   "outputs": [],
   "source": [
    "list(neighbor_graph.keys())[0]"
   ]
  },
  {
   "cell_type": "code",
   "execution_count": null,
   "metadata": {},
   "outputs": [],
   "source": [
    "df['tile'].columns.tolist()[0]"
   ]
  },
  {
   "cell_type": "markdown",
   "metadata": {},
   "source": [
    "### Loading neighbor graph for cells in tile"
   ]
  },
  {
   "cell_type": "code",
   "execution_count": null,
   "metadata": {},
   "outputs": [],
   "source": [
    "common_cat_neighbor = {}\n",
    "second_cat_neighbor = {}\n",
    "number_neighbors = {}\n",
    "other_neighbor = {}\n",
    "for inst_col in df['tile'].columns.tolist():\n",
    "    inst_name = inst_col[0]\n",
    "    inst_name = '_'.join(inst_name.split('_')[1:])\n",
    "\n",
    "    found_neighbors = neighbor_graph[inst_name]\n",
    "    found_cts = ct_graph[inst_name]\n",
    "    \n",
    "    number_neighbors[inst_col[0]] = len(found_cts)\n",
    "    \n",
    "    ser_cats = pd.Series(found_cts).value_counts()\n",
    "    rank_cats = ser_cats.index.tolist()\n",
    "    \n",
    "    # find other cat neighbor\n",
    "    found_it = False\n",
    "    col_cat = inst_col[1].split(': ')[1]\n",
    "    other_cat_neighbor = rank_cats[0]\n",
    "    for inst_cat in rank_cats:\n",
    "        if inst_cat != col_cat and found_it == False:\n",
    "            other_cat_neighbor = inst_cat\n",
    "            found_it = True\n",
    "            \n",
    "    other_neighbor[inst_col[0]] = other_cat_neighbor\n",
    "    \n",
    "    # find most common cat neighbor\n",
    "    common_cat_neighbor[inst_col[0]] = rank_cats[0]\n",
    "    \n",
    "    if len(ser_cats.index.tolist()) == 1:\n",
    "        second_cat_neighbor[inst_col[0]] = rank_cats[0]\n",
    "    else:\n",
    "        second_cat_neighbor[inst_col[0]] = rank_cats[1]"
   ]
  },
  {
   "cell_type": "code",
   "execution_count": null,
   "metadata": {},
   "outputs": [],
   "source": [
    "found_neighbors"
   ]
  },
  {
   "cell_type": "code",
   "execution_count": null,
   "metadata": {},
   "outputs": [],
   "source": [
    "list(common_cat_neighbor.keys())[0]"
   ]
  },
  {
   "cell_type": "code",
   "execution_count": null,
   "metadata": {},
   "outputs": [],
   "source": [
    "common_cat_neighbor['C-643_BALBc-1_X01_Y01_10_277']"
   ]
  },
  {
   "cell_type": "markdown",
   "metadata": {},
   "source": [
    "### Add Category for Most Common Neighbor Cat"
   ]
  },
  {
   "cell_type": "code",
   "execution_count": null,
   "metadata": {},
   "outputs": [],
   "source": [
    "df['tile-neighbor'] = deepcopy(df['tile-exp-clean'])"
   ]
  },
  {
   "cell_type": "code",
   "execution_count": null,
   "metadata": {},
   "outputs": [],
   "source": [
    "df['tile-neighbor'].columns.tolist()[0]"
   ]
  },
  {
   "cell_type": "code",
   "execution_count": null,
   "metadata": {},
   "outputs": [],
   "source": [
    "new_cols = [(x[0], x[1], \n",
    "             'Neighbor: ' + other_neighbor[x[0]], \n",
    "              density_dict[x[0]]) for x in df['tile-exp-clean'].columns]\n",
    "df['tile-neighbor'].columns = new_cols"
   ]
  },
  {
   "cell_type": "code",
   "execution_count": null,
   "metadata": {},
   "outputs": [],
   "source": [
    "df['tile-neighbor'].columns.tolist()[0]"
   ]
  },
  {
   "cell_type": "code",
   "execution_count": null,
   "metadata": {},
   "outputs": [],
   "source": [
    "net.load_df(df['tile-neighbor'])\n",
    "net.set_cat_colors(axis='col', cat_colors=cat_colors, cat_index=2, cat_title='Neighbor')"
   ]
  },
  {
   "cell_type": "markdown",
   "metadata": {},
   "source": [
    "# Most Common Neighborhood Cat"
   ]
  },
  {
   "cell_type": "code",
   "execution_count": null,
   "metadata": {},
   "outputs": [],
   "source": [
    "# net.load_df(df['tile-neighbor'])\n",
    "# net.widget()"
   ]
  },
  {
   "cell_type": "markdown",
   "metadata": {},
   "source": [
    "# Most Common Neighborhood Cat: B Cells"
   ]
  },
  {
   "cell_type": "code",
   "execution_count": null,
   "metadata": {},
   "outputs": [],
   "source": [
    "keep_cols = [x for x in df['tile-neighbor'].columns.tolist() if x[1].split(': ')[1] == 'B cells']\n",
    "len(keep_cols)"
   ]
  },
  {
   "cell_type": "code",
   "execution_count": null,
   "metadata": {},
   "outputs": [],
   "source": [
    "net.load_df(df['tile-neighbor'][keep_cols])\n",
    "net.normalize(axis='row', norm_type='zscore')\n",
    "net.clip(-5,5)\n",
    "net.widget()"
   ]
  },
  {
   "cell_type": "code",
   "execution_count": null,
   "metadata": {},
   "outputs": [],
   "source": [
    "# keep_cols = [x for x in df['tile-neighbor'].columns.tolist() if x[1].split(': ')[1] == 'CD4(+) T cells']\n",
    "keep_cols = [x for x in df['tile-neighbor'].columns.tolist() if x[1].split(': ')[1] == 'F4/80(+) mphs']\n",
    "len(keep_cols)"
   ]
  },
  {
   "cell_type": "code",
   "execution_count": null,
   "metadata": {},
   "outputs": [],
   "source": [
    "net.load_df(df['tile-neighbor'][keep_cols])\n",
    "net.normalize(axis='row', norm_type='zscore')\n",
    "net.clip(-5,5)\n",
    "net.widget()"
   ]
  },
  {
   "cell_type": "code",
   "execution_count": null,
   "metadata": {},
   "outputs": [],
   "source": []
  },
  {
   "cell_type": "code",
   "execution_count": null,
   "metadata": {},
   "outputs": [],
   "source": []
  },
  {
   "cell_type": "code",
   "execution_count": null,
   "metadata": {},
   "outputs": [],
   "source": []
  },
  {
   "cell_type": "markdown",
   "metadata": {},
   "source": [
    "### All Cells Neighbor Distribution"
   ]
  },
  {
   "cell_type": "code",
   "execution_count": null,
   "metadata": {},
   "outputs": [],
   "source": [
    "net.load_df(df['nn-dist'])\n",
    "net.widget()"
   ]
  },
  {
   "cell_type": "markdown",
   "metadata": {},
   "source": [
    "# Merge Expression Levels and Neighborhood Distributions"
   ]
  },
  {
   "cell_type": "code",
   "execution_count": null,
   "metadata": {},
   "outputs": [],
   "source": [
    "df['nn-dist'].shape"
   ]
  },
  {
   "cell_type": "code",
   "execution_count": null,
   "metadata": {},
   "outputs": [],
   "source": [
    "df['nn-dist'].columns.tolist()[0]"
   ]
  },
  {
   "cell_type": "code",
   "execution_count": null,
   "metadata": {},
   "outputs": [],
   "source": [
    "list(density_dict.keys())[0]"
   ]
  },
  {
   "cell_type": "code",
   "execution_count": null,
   "metadata": {},
   "outputs": [],
   "source": [
    "density_dict = {}\n",
    "nct_dict = {}\n",
    "for inst_col in df['nn-dist'].columns.tolist():\n",
    "    nct_dict[inst_col[0]] = inst_col[2]\n",
    "    density_dict[inst_col[0]] = inst_col[3]"
   ]
  },
  {
   "cell_type": "code",
   "execution_count": null,
   "metadata": {},
   "outputs": [],
   "source": [
    "df['tile-exp-clean'].shape"
   ]
  },
  {
   "cell_type": "markdown",
   "metadata": {},
   "source": [
    "### Add Cell Density to Expression Levels"
   ]
  },
  {
   "cell_type": "code",
   "execution_count": null,
   "metadata": {},
   "outputs": [],
   "source": [
    "df['exp-common'] = deepcopy(df['tile-exp-clean'])\n",
    "exp_cols = [(x[0], x[1], nct_dict[x[0]], density_dict[x[0]]) for x in df['exp-common'].columns]\n",
    "df['exp-common'].columns = exp_cols\n",
    "df['exp-common'].index = [(x, 'Type: Expression') for x in df['exp-common'].index]\n",
    "df['exp-common'].shape"
   ]
  },
  {
   "cell_type": "markdown",
   "metadata": {},
   "source": [
    "### Find Common Cells"
   ]
  },
  {
   "cell_type": "code",
   "execution_count": null,
   "metadata": {},
   "outputs": [],
   "source": [
    "df['nn-dist-common'] = df['nn-dist'][exp_cols]\n",
    "df['nn-dist-common'].index = [(x, 'Type: Neighborhood') for x in df['nn-dist-common'].index]\n",
    "df['nn-dist-common'].shape"
   ]
  },
  {
   "cell_type": "code",
   "execution_count": null,
   "metadata": {},
   "outputs": [],
   "source": [
    "df['merge'] = pd.concat([df['exp-common'], df['nn-dist-common']], axis=0)\n",
    "df['merge'].shape"
   ]
  },
  {
   "cell_type": "code",
   "execution_count": null,
   "metadata": {},
   "outputs": [],
   "source": [
    "df['merge'].columns.tolist()[0]"
   ]
  },
  {
   "cell_type": "markdown",
   "metadata": {},
   "source": [
    "# Merge Dist and Expression "
   ]
  },
  {
   "cell_type": "code",
   "execution_count": null,
   "metadata": {},
   "outputs": [],
   "source": [
    "keep_cols = [x for x in df['merge'].columns.tolist() if x[1].split(': ')[1] == 'B cells']\n",
    "len(keep_cols)"
   ]
  },
  {
   "cell_type": "code",
   "execution_count": null,
   "metadata": {},
   "outputs": [],
   "source": [
    "net.load_df(df['exp-common'][keep_cols])\n",
    "net.filter_threshold(inst_rc='row', num_occur=1, threshold=0.001)\n",
    "net.normalize(axis='row', norm_type='zscore')\n",
    "net.clip(-5,5)\n",
    "net.widget()"
   ]
  },
  {
   "cell_type": "code",
   "execution_count": null,
   "metadata": {
    "scrolled": false
   },
   "outputs": [],
   "source": [
    "net.load_df(df['merge'][keep_cols])\n",
    "net.normalize(axis='row', norm_type='zscore')\n",
    "net.clip(-5,5)\n",
    "net.widget()"
   ]
  },
  {
   "cell_type": "markdown",
   "metadata": {},
   "source": [
    "# 'CD4(+) T cells'"
   ]
  },
  {
   "cell_type": "code",
   "execution_count": null,
   "metadata": {},
   "outputs": [],
   "source": [
    "keep_cols = [x for x in df['merge'].columns.tolist() if x[1].split(': ')[1] == 'CD4(+) T cells']\n",
    "len(keep_cols)"
   ]
  },
  {
   "cell_type": "code",
   "execution_count": null,
   "metadata": {},
   "outputs": [],
   "source": [
    "net.load_df(df['exp-common'][keep_cols])\n",
    "net.filter_threshold(inst_rc='row', num_occur=1, threshold=0.001)\n",
    "net.normalize(axis='row', norm_type='zscore')\n",
    "net.clip(-5,5)\n",
    "net.widget()"
   ]
  },
  {
   "cell_type": "code",
   "execution_count": null,
   "metadata": {},
   "outputs": [],
   "source": [
    "net.load_df(df['merge'][keep_cols])\n",
    "net.filter_threshold(inst_rc='row', num_occur=1, threshold=0.001)\n",
    "net.normalize(axis='row', norm_type='zscore')\n",
    "net.clip(-5,5)\n",
    "net.widget()"
   ]
  },
  {
   "cell_type": "markdown",
   "metadata": {},
   "source": [
    "# Marginal zone mphs"
   ]
  },
  {
   "cell_type": "code",
   "execution_count": null,
   "metadata": {},
   "outputs": [],
   "source": [
    "keep_cols = [x for x in df['merge'].columns.tolist() if x[1].split(': ')[1] == 'marginal zone mphs']\n",
    "len(keep_cols)"
   ]
  },
  {
   "cell_type": "code",
   "execution_count": null,
   "metadata": {},
   "outputs": [],
   "source": [
    "net.load_df(df['merge'][keep_cols])\n",
    "net.filter_threshold(inst_rc='row', num_occur=1, threshold=0.001)\n",
    "net.normalize(axis='row', norm_type='zscore')\n",
    "net.clip(-5,5)\n",
    "net.widget()"
   ]
  },
  {
   "cell_type": "code",
   "execution_count": null,
   "metadata": {},
   "outputs": [],
   "source": []
  },
  {
   "cell_type": "code",
   "execution_count": null,
   "metadata": {},
   "outputs": [],
   "source": []
  },
  {
   "cell_type": "code",
   "execution_count": null,
   "metadata": {},
   "outputs": [],
   "source": []
  },
  {
   "cell_type": "code",
   "execution_count": null,
   "metadata": {},
   "outputs": [],
   "source": []
  },
  {
   "cell_type": "code",
   "execution_count": null,
   "metadata": {},
   "outputs": [],
   "source": []
  },
  {
   "cell_type": "code",
   "execution_count": null,
   "metadata": {},
   "outputs": [],
   "source": [
    "ser_density = pd.Series(list_cell_density)\n",
    "ser_density.hist()"
   ]
  },
  {
   "cell_type": "code",
   "execution_count": null,
   "metadata": {},
   "outputs": [],
   "source": [
    "nn_names = ser_nn.index.tolist()\n",
    "nn_cats = [x[1].split(': ')[1] for x in nn_names]\n",
    "nn_dist = pd.Series(nn_cats).value_counts()/num_nn\n",
    "nn_dist"
   ]
  },
  {
   "cell_type": "code",
   "execution_count": null,
   "metadata": {},
   "outputs": [],
   "source": [
    "inst_ser.head()"
   ]
  },
  {
   "cell_type": "code",
   "execution_count": null,
   "metadata": {},
   "outputs": [],
   "source": [
    "inst_ser[1:].head()"
   ]
  },
  {
   "cell_type": "code",
   "execution_count": null,
   "metadata": {},
   "outputs": [],
   "source": []
  },
  {
   "cell_type": "code",
   "execution_count": null,
   "metadata": {},
   "outputs": [],
   "source": []
  },
  {
   "cell_type": "code",
   "execution_count": null,
   "metadata": {},
   "outputs": [],
   "source": [
    "print(cells[0])\n",
    "df['dist'][cells[0]].sort_values()"
   ]
  },
  {
   "cell_type": "code",
   "execution_count": null,
   "metadata": {},
   "outputs": [],
   "source": []
  }
 ],
 "metadata": {
  "kernelspec": {
   "display_name": "Python 3",
   "language": "python",
   "name": "python3"
  },
  "language_info": {
   "codemirror_mode": {
    "name": "ipython",
    "version": 3
   },
   "file_extension": ".py",
   "mimetype": "text/x-python",
   "name": "python",
   "nbconvert_exporter": "python",
   "pygments_lexer": "ipython3",
   "version": "3.6.5"
  }
 },
 "nbformat": 4,
 "nbformat_minor": 2
}
