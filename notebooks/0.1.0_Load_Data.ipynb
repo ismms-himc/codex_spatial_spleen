{
 "cells": [
  {
   "cell_type": "markdown",
   "metadata": {},
   "source": [
    "# 0.1.0 Load Data\n",
    "* Codex Data obtained from: http://welikesharingdata.blob.core.windows.net/forshare/index.html\n",
    "* Manuscript: https://www.cell.com/cell/pdf/S0092-8674(18)30904-8.pdf"
   ]
  },
  {
   "cell_type": "code",
   "execution_count": 1,
   "metadata": {},
   "outputs": [],
   "source": [
    "import pandas as pd\n",
    "df = {}"
   ]
  },
  {
   "cell_type": "code",
   "execution_count": 2,
   "metadata": {},
   "outputs": [
    {
     "name": "stdout",
     "output_type": "stream",
     "text": [
      ">> clustergrammer2 backend version 0.4.0\n"
     ]
    }
   ],
   "source": [
    "from clustergrammer2 import net"
   ]
  },
  {
   "cell_type": "code",
   "execution_count": 3,
   "metadata": {},
   "outputs": [],
   "source": [
    "import ipywidgets as widgets\n",
    "import numpy as np\n",
    "from bqplot import pyplot as plt\n",
    "import bqplot"
   ]
  },
  {
   "cell_type": "code",
   "execution_count": 4,
   "metadata": {},
   "outputs": [],
   "source": [
    "from copy import deepcopy"
   ]
  },
  {
   "cell_type": "code",
   "execution_count": 5,
   "metadata": {},
   "outputs": [],
   "source": [
    "from glob import glob"
   ]
  },
  {
   "cell_type": "markdown",
   "metadata": {},
   "source": [
    "### Load X-shift cluster ID"
   ]
  },
  {
   "cell_type": "code",
   "execution_count": 6,
   "metadata": {},
   "outputs": [
    {
     "data": {
      "text/plain": [
       "(58, 1)"
      ]
     },
     "execution_count": 6,
     "metadata": {},
     "output_type": "execute_result"
    }
   ],
   "source": [
    "df['cell_type'] = pd.read_excel('../data/big_data/mmc2__codex_cell_type_info.xlsx', index_col=0)\n",
    "df['cell_type'].shape"
   ]
  },
  {
   "cell_type": "code",
   "execution_count": 7,
   "metadata": {},
   "outputs": [],
   "source": [
    "ct_dict = {}\n",
    "cell_types = []\n",
    "for inst_id in df['cell_type'].index.tolist():\n",
    "    inst_ct = df['cell_type']['Imaging phenotype (cell type)'].loc[inst_id]\n",
    "    cell_types.append(inst_ct)\n",
    "    ct_dict[inst_id] = inst_ct"
   ]
  },
  {
   "cell_type": "code",
   "execution_count": 8,
   "metadata": {},
   "outputs": [
    {
     "name": "stdout",
     "output_type": "stream",
     "text": [
      "28\n"
     ]
    },
    {
     "data": {
      "text/plain": [
       "['B cells',\n",
       " 'B220(+) DN T cells',\n",
       " 'CD106(+)CD16/32(+)CD31(+) stroma',\n",
       " 'CD106(+)CD16/32(+)CD31(-)Ly6C(-) stroma',\n",
       " 'CD106(+)CD16/32(-)Ly6C(+)CD31(+)',\n",
       " 'CD106(-)CD16/32(+)Ly6C(+)CD31(-)',\n",
       " 'CD106(-)CD16/32(-)Ly6C(+)CD31(+) stroma',\n",
       " 'CD11c(+) B cells',\n",
       " 'CD3(+) other markers (-)',\n",
       " 'CD31(hi) vascular',\n",
       " 'CD4(+) T cells',\n",
       " 'CD4(+)CD8(-)cDC',\n",
       " 'CD4(+)MHCII(+)',\n",
       " 'CD4(-)CD8(+)cDC',\n",
       " 'CD4(-)CD8(-) cDC',\n",
       " 'CD8(+) T cells',\n",
       " 'ERTR7(+) stroma',\n",
       " 'F4/80(+) mphs',\n",
       " 'FDCs',\n",
       " 'NK cells',\n",
       " 'capsule',\n",
       " 'dirt',\n",
       " 'erythroblasts',\n",
       " 'granulocytes',\n",
       " 'marginal zone mphs',\n",
       " 'megakaryocytes',\n",
       " 'noid',\n",
       " 'plasma cells']"
      ]
     },
     "execution_count": 8,
     "metadata": {},
     "output_type": "execute_result"
    }
   ],
   "source": [
    "cell_types = sorted(list(set(cell_types)))\n",
    "print(len(cell_types))\n",
    "cell_types"
   ]
  },
  {
   "cell_type": "code",
   "execution_count": 9,
   "metadata": {},
   "outputs": [],
   "source": [
    "x_dim = 1200\n",
    "y_dim = 1000"
   ]
  },
  {
   "cell_type": "markdown",
   "metadata": {},
   "source": [
    "## Check available Files"
   ]
  },
  {
   "cell_type": "code",
   "execution_count": 10,
   "metadata": {},
   "outputs": [
    {
     "data": {
      "text/plain": [
       "['../data/big_data/channelNames_BALBcMRLdataset.txt']"
      ]
     },
     "execution_count": 10,
     "metadata": {},
     "output_type": "execute_result"
    }
   ],
   "source": [
    "glob('../data/big_data/*.txt')"
   ]
  },
  {
   "cell_type": "code",
   "execution_count": 11,
   "metadata": {},
   "outputs": [
    {
     "data": {
      "text/plain": [
       "['../data/big_data/CODEX_MRLdataset_neighborhood_graph.csv',\n",
       " '../data/big_data/BALBcMRLdataset_exposuretimes.csv',\n",
       " '../data/big_data/Suppl.Table2.CODEX_paper_MRLdatasetexpression.csv']"
      ]
     },
     "execution_count": 11,
     "metadata": {},
     "output_type": "execute_result"
    }
   ],
   "source": [
    "glob('../data/big_data/*.csv')"
   ]
  },
  {
   "cell_type": "markdown",
   "metadata": {},
   "source": [
    "### Expression Data\n",
    "See http://welikesharingdata.blob.core.windows.net/forshare/index.html\n",
    "\n",
    "* CSV file contains mean marker intensities and X, Y, Z corrdinates for each cell relative to the top left corner of its tile. \n",
    "* Tile IDs correspond to tile images sorted in the alphanumeric order\n",
    "* Size parameter corresponds to the cell object sizes in voxels\n",
    "* \"imaging phenotype Cluster ID\" column specifies the phenotypic cluster identity as determined by X-shift\n",
    "* \"niche Cluster ID\" column specifies the i-niche cluster determined by K-means (K=100)\n",
    "* neighborhood graph files describes which pairs of cells are adjacent to one another"
   ]
  },
  {
   "cell_type": "markdown",
   "metadata": {},
   "source": [
    "### Add X-Y position ID to the Cells\n",
    "This ID will be used to generate the neighborhood graph."
   ]
  },
  {
   "cell_type": "code",
   "execution_count": null,
   "metadata": {},
   "outputs": [],
   "source": [
    "%%time\n",
    "df['exp'] = pd.read_csv('../data/big_data/Suppl.Table2.CODEX_paper_MRLdatasetexpression.csv')\n",
    "# new_rows = ['C-' + str(x) for x in df['exp'].index.tolist()]\n",
    "new_rows = []\n",
    "for inst_row in df['exp'].index.tolist():\n",
    "    inst_ser = df['exp'].loc[inst_row]\n",
    "    inst_x = inst_ser['X.X']\n",
    "    inst_y = inst_ser['Y.Y']\n",
    "    inst_tile = inst_ser['sample_Xtile_Ytile']\n",
    "    \n",
    "    new_row = 'C-' + str(inst_row) + '_' + inst_tile + '_' + str(inst_x) + '_' + str(inst_y)\n",
    "\n",
    "df['exp'].index = new_rows\n",
    "print(df['exp'].shape)"
   ]
  },
  {
   "cell_type": "code",
   "execution_count": null,
   "metadata": {},
   "outputs": [],
   "source": [
    "new_row"
   ]
  },
  {
   "cell_type": "code",
   "execution_count": 13,
   "metadata": {},
   "outputs": [
    {
     "data": {
      "text/html": [
       "<div>\n",
       "<style scoped>\n",
       "    .dataframe tbody tr th:only-of-type {\n",
       "        vertical-align: middle;\n",
       "    }\n",
       "\n",
       "    .dataframe tbody tr th {\n",
       "        vertical-align: top;\n",
       "    }\n",
       "\n",
       "    .dataframe thead th {\n",
       "        text-align: right;\n",
       "    }\n",
       "</style>\n",
       "<table border=\"1\" class=\"dataframe\">\n",
       "  <thead>\n",
       "    <tr style=\"text-align: right;\">\n",
       "      <th></th>\n",
       "      <th>Imaging phenotype cluster ID</th>\n",
       "      <th>CD45</th>\n",
       "      <th>Ly6C</th>\n",
       "      <th>TCR</th>\n",
       "      <th>Ly6G</th>\n",
       "      <th>CD19</th>\n",
       "      <th>CD169</th>\n",
       "      <th>CD106</th>\n",
       "      <th>CD3</th>\n",
       "      <th>CD1632</th>\n",
       "      <th>...</th>\n",
       "      <th>CD44</th>\n",
       "      <th>NKp46</th>\n",
       "      <th>X.X</th>\n",
       "      <th>Y.Y</th>\n",
       "      <th>Z.Z</th>\n",
       "      <th>MHCII</th>\n",
       "      <th>blank_Cy3_cyc15</th>\n",
       "      <th>blank_Cy5_cyc15</th>\n",
       "      <th>sample_Xtile_Ytile</th>\n",
       "      <th>niche cluster ID</th>\n",
       "    </tr>\n",
       "  </thead>\n",
       "  <tbody>\n",
       "    <tr>\n",
       "      <th>C-0</th>\n",
       "      <td>9600</td>\n",
       "      <td>1577.675415</td>\n",
       "      <td>-154.301758</td>\n",
       "      <td>130.692184</td>\n",
       "      <td>-4.168493</td>\n",
       "      <td>560.691345</td>\n",
       "      <td>-504.231476</td>\n",
       "      <td>854.670105</td>\n",
       "      <td>-631.294189</td>\n",
       "      <td>385.935242</td>\n",
       "      <td>...</td>\n",
       "      <td>422.408691</td>\n",
       "      <td>515.130066</td>\n",
       "      <td>10</td>\n",
       "      <td>70</td>\n",
       "      <td>13</td>\n",
       "      <td>6712.812988</td>\n",
       "      <td>1665.967896</td>\n",
       "      <td>398.348389</td>\n",
       "      <td>BALBc-3_X05_Y03</td>\n",
       "      <td>32.0</td>\n",
       "    </tr>\n",
       "    <tr>\n",
       "      <th>C-1</th>\n",
       "      <td>9600</td>\n",
       "      <td>1017.838440</td>\n",
       "      <td>-93.069397</td>\n",
       "      <td>144.076584</td>\n",
       "      <td>40.010998</td>\n",
       "      <td>885.595520</td>\n",
       "      <td>-391.357544</td>\n",
       "      <td>62.764454</td>\n",
       "      <td>-474.201172</td>\n",
       "      <td>-469.634583</td>\n",
       "      <td>...</td>\n",
       "      <td>448.701660</td>\n",
       "      <td>171.880310</td>\n",
       "      <td>1000</td>\n",
       "      <td>294</td>\n",
       "      <td>12</td>\n",
       "      <td>2024.678711</td>\n",
       "      <td>1287.959229</td>\n",
       "      <td>421.991425</td>\n",
       "      <td>BALBc-3_X01_Y02</td>\n",
       "      <td>99.0</td>\n",
       "    </tr>\n",
       "    <tr>\n",
       "      <th>C-2</th>\n",
       "      <td>9600</td>\n",
       "      <td>5978.459961</td>\n",
       "      <td>-330.099365</td>\n",
       "      <td>139.631744</td>\n",
       "      <td>-82.840302</td>\n",
       "      <td>1747.897583</td>\n",
       "      <td>-395.508820</td>\n",
       "      <td>954.326782</td>\n",
       "      <td>-1026.204468</td>\n",
       "      <td>3744.718262</td>\n",
       "      <td>...</td>\n",
       "      <td>2229.804443</td>\n",
       "      <td>512.220764</td>\n",
       "      <td>1003</td>\n",
       "      <td>107</td>\n",
       "      <td>8</td>\n",
       "      <td>8647.193359</td>\n",
       "      <td>2817.173828</td>\n",
       "      <td>709.545105</td>\n",
       "      <td>BALBc-2_X05_Y04</td>\n",
       "      <td>74.0</td>\n",
       "    </tr>\n",
       "    <tr>\n",
       "      <th>C-3</th>\n",
       "      <td>9600</td>\n",
       "      <td>6119.109375</td>\n",
       "      <td>-54.384808</td>\n",
       "      <td>-768.871704</td>\n",
       "      <td>25.625927</td>\n",
       "      <td>1065.311890</td>\n",
       "      <td>-485.535431</td>\n",
       "      <td>538.404175</td>\n",
       "      <td>-611.836426</td>\n",
       "      <td>865.842590</td>\n",
       "      <td>...</td>\n",
       "      <td>665.720459</td>\n",
       "      <td>351.108246</td>\n",
       "      <td>1003</td>\n",
       "      <td>113</td>\n",
       "      <td>13</td>\n",
       "      <td>4838.463379</td>\n",
       "      <td>1646.660278</td>\n",
       "      <td>408.523590</td>\n",
       "      <td>BALBc-2_X03_Y04</td>\n",
       "      <td>98.0</td>\n",
       "    </tr>\n",
       "    <tr>\n",
       "      <th>C-4</th>\n",
       "      <td>9600</td>\n",
       "      <td>6272.474609</td>\n",
       "      <td>-235.512405</td>\n",
       "      <td>74.058075</td>\n",
       "      <td>-101.729919</td>\n",
       "      <td>1186.295044</td>\n",
       "      <td>-782.744995</td>\n",
       "      <td>1261.625366</td>\n",
       "      <td>-915.565552</td>\n",
       "      <td>1361.536011</td>\n",
       "      <td>...</td>\n",
       "      <td>2065.742676</td>\n",
       "      <td>259.003235</td>\n",
       "      <td>1003</td>\n",
       "      <td>148</td>\n",
       "      <td>9</td>\n",
       "      <td>5092.891602</td>\n",
       "      <td>2161.109131</td>\n",
       "      <td>713.416199</td>\n",
       "      <td>BALBc-2_X02_Y01</td>\n",
       "      <td>71.0</td>\n",
       "    </tr>\n",
       "  </tbody>\n",
       "</table>\n",
       "<p>5 rows × 38 columns</p>\n",
       "</div>"
      ],
      "text/plain": [
       "     Imaging phenotype cluster ID         CD45        Ly6C         TCR  \\\n",
       "C-0                          9600  1577.675415 -154.301758  130.692184   \n",
       "C-1                          9600  1017.838440  -93.069397  144.076584   \n",
       "C-2                          9600  5978.459961 -330.099365  139.631744   \n",
       "C-3                          9600  6119.109375  -54.384808 -768.871704   \n",
       "C-4                          9600  6272.474609 -235.512405   74.058075   \n",
       "\n",
       "           Ly6G         CD19       CD169        CD106          CD3  \\\n",
       "C-0   -4.168493   560.691345 -504.231476   854.670105  -631.294189   \n",
       "C-1   40.010998   885.595520 -391.357544    62.764454  -474.201172   \n",
       "C-2  -82.840302  1747.897583 -395.508820   954.326782 -1026.204468   \n",
       "C-3   25.625927  1065.311890 -485.535431   538.404175  -611.836426   \n",
       "C-4 -101.729919  1186.295044 -782.744995  1261.625366  -915.565552   \n",
       "\n",
       "          CD1632        ...                CD44       NKp46   X.X  Y.Y  Z.Z  \\\n",
       "C-0   385.935242        ...          422.408691  515.130066    10   70   13   \n",
       "C-1  -469.634583        ...          448.701660  171.880310  1000  294   12   \n",
       "C-2  3744.718262        ...         2229.804443  512.220764  1003  107    8   \n",
       "C-3   865.842590        ...          665.720459  351.108246  1003  113   13   \n",
       "C-4  1361.536011        ...         2065.742676  259.003235  1003  148    9   \n",
       "\n",
       "           MHCII  blank_Cy3_cyc15  blank_Cy5_cyc15  sample_Xtile_Ytile  \\\n",
       "C-0  6712.812988      1665.967896       398.348389     BALBc-3_X05_Y03   \n",
       "C-1  2024.678711      1287.959229       421.991425     BALBc-3_X01_Y02   \n",
       "C-2  8647.193359      2817.173828       709.545105     BALBc-2_X05_Y04   \n",
       "C-3  4838.463379      1646.660278       408.523590     BALBc-2_X03_Y04   \n",
       "C-4  5092.891602      2161.109131       713.416199     BALBc-2_X02_Y01   \n",
       "\n",
       "     niche cluster ID  \n",
       "C-0              32.0  \n",
       "C-1              99.0  \n",
       "C-2              74.0  \n",
       "C-3              98.0  \n",
       "C-4              71.0  \n",
       "\n",
       "[5 rows x 38 columns]"
      ]
     },
     "execution_count": 13,
     "metadata": {},
     "output_type": "execute_result"
    }
   ],
   "source": [
    "df['exp'].head()"
   ]
  },
  {
   "cell_type": "code",
   "execution_count": 116,
   "metadata": {},
   "outputs": [
    {
     "data": {
      "text/plain": [
       "(734101, 39)"
      ]
     },
     "execution_count": 116,
     "metadata": {},
     "output_type": "execute_result"
    }
   ],
   "source": [
    "df['exp'].shape"
   ]
  },
  {
   "cell_type": "code",
   "execution_count": 117,
   "metadata": {},
   "outputs": [],
   "source": [
    "for inst_row in df['exp'].index.tolist():\n",
    "    inst_pos = df['exp'].loc[inst_row]\n",
    "    "
   ]
  },
  {
   "cell_type": "code",
   "execution_count": null,
   "metadata": {},
   "outputs": [],
   "source": [
    "inst_pos"
   ]
  },
  {
   "cell_type": "code",
   "execution_count": 14,
   "metadata": {},
   "outputs": [
    {
     "data": {
      "text/plain": [
       "['Imaging phenotype cluster ID',\n",
       " 'CD45',\n",
       " 'Ly6C',\n",
       " 'TCR',\n",
       " 'Ly6G',\n",
       " 'CD19',\n",
       " 'CD169',\n",
       " 'CD106',\n",
       " 'CD3',\n",
       " 'CD1632',\n",
       " 'CD8a',\n",
       " 'CD90',\n",
       " 'F480',\n",
       " 'CD11c',\n",
       " 'Ter119',\n",
       " 'CD11b',\n",
       " 'IgD',\n",
       " 'CD27',\n",
       " 'CD5',\n",
       " 'CD79b',\n",
       " 'CD71',\n",
       " 'CD31',\n",
       " 'CD4',\n",
       " 'IgM',\n",
       " 'B220',\n",
       " 'ERTR7',\n",
       " 'CD35',\n",
       " 'CD2135',\n",
       " 'CD44',\n",
       " 'NKp46',\n",
       " 'X.X',\n",
       " 'Y.Y',\n",
       " 'Z.Z',\n",
       " 'MHCII',\n",
       " 'blank_Cy3_cyc15',\n",
       " 'blank_Cy5_cyc15',\n",
       " 'sample_Xtile_Ytile',\n",
       " 'niche cluster ID']"
      ]
     },
     "execution_count": 14,
     "metadata": {},
     "output_type": "execute_result"
    }
   ],
   "source": [
    "df['exp'].columns.tolist()"
   ]
  },
  {
   "cell_type": "markdown",
   "metadata": {},
   "source": [
    "### Add Sample Column"
   ]
  },
  {
   "cell_type": "code",
   "execution_count": 15,
   "metadata": {},
   "outputs": [],
   "source": [
    "sample_list = [x.split('_')[0] for x in list(df['exp']['sample_Xtile_Ytile'].get_values())]\n",
    "ser_sample = pd.Series(sample_list, name='sample_slide', index=df['exp'].index.tolist())"
   ]
  },
  {
   "cell_type": "code",
   "execution_count": 16,
   "metadata": {},
   "outputs": [
    {
     "name": "stdout",
     "output_type": "stream",
     "text": [
      "9\n"
     ]
    },
    {
     "data": {
      "text/plain": [
       "['BALBc-1',\n",
       " 'BALBc-2',\n",
       " 'BALBc-3',\n",
       " 'MRL-4',\n",
       " 'MRL-5',\n",
       " 'MRL-6',\n",
       " 'MRL-7',\n",
       " 'MRL-8',\n",
       " 'MRL-9']"
      ]
     },
     "execution_count": 16,
     "metadata": {},
     "output_type": "execute_result"
    }
   ],
   "source": [
    "print(len(sorted(list(set(sample_list)))))\n",
    "list_slides = sorted(list(set(sample_list)))\n",
    "list_slides"
   ]
  },
  {
   "cell_type": "code",
   "execution_count": 17,
   "metadata": {},
   "outputs": [],
   "source": [
    "df['exp']['sample_slide'] = ser_sample"
   ]
  },
  {
   "cell_type": "code",
   "execution_count": 18,
   "metadata": {},
   "outputs": [
    {
     "data": {
      "text/plain": [
       "BALBc-1    85572\n",
       "BALBc-2    85298\n",
       "BALBc-3    83787\n",
       "MRL-7      83335\n",
       "MRL-8      82626\n",
       "MRL-9      81156\n",
       "MRL-6      81052\n",
       "MRL-4      77848\n",
       "MRL-5      73427\n",
       "Name: sample_slide, dtype: int64"
      ]
     },
     "execution_count": 18,
     "metadata": {},
     "output_type": "execute_result"
    }
   ],
   "source": [
    "ser_sample.value_counts()"
   ]
  },
  {
   "cell_type": "code",
   "execution_count": 19,
   "metadata": {},
   "outputs": [
    {
     "data": {
      "text/plain": [
       "['Imaging phenotype cluster ID',\n",
       " 'CD45',\n",
       " 'Ly6C',\n",
       " 'TCR',\n",
       " 'Ly6G',\n",
       " 'CD19',\n",
       " 'CD169',\n",
       " 'CD106',\n",
       " 'CD3',\n",
       " 'CD1632',\n",
       " 'CD8a',\n",
       " 'CD90',\n",
       " 'F480',\n",
       " 'CD11c',\n",
       " 'Ter119',\n",
       " 'CD11b',\n",
       " 'IgD',\n",
       " 'CD27',\n",
       " 'CD5',\n",
       " 'CD79b',\n",
       " 'CD71',\n",
       " 'CD31',\n",
       " 'CD4',\n",
       " 'IgM',\n",
       " 'B220',\n",
       " 'ERTR7',\n",
       " 'CD35',\n",
       " 'CD2135',\n",
       " 'CD44',\n",
       " 'NKp46',\n",
       " 'X.X',\n",
       " 'Y.Y',\n",
       " 'Z.Z',\n",
       " 'MHCII',\n",
       " 'blank_Cy3_cyc15',\n",
       " 'blank_Cy5_cyc15',\n",
       " 'sample_Xtile_Ytile',\n",
       " 'niche cluster ID',\n",
       " 'sample_slide']"
      ]
     },
     "execution_count": 19,
     "metadata": {},
     "output_type": "execute_result"
    }
   ],
   "source": [
    "cols = df['exp'].columns.tolist()\n",
    "cols"
   ]
  },
  {
   "cell_type": "code",
   "execution_count": 20,
   "metadata": {},
   "outputs": [
    {
     "data": {
      "text/plain": [
       "['CD45',\n",
       " 'Ly6C',\n",
       " 'TCR',\n",
       " 'Ly6G',\n",
       " 'CD19',\n",
       " 'CD169',\n",
       " 'CD106',\n",
       " 'CD3',\n",
       " 'CD1632',\n",
       " 'CD8a',\n",
       " 'CD90',\n",
       " 'F480',\n",
       " 'CD11c',\n",
       " 'Ter119',\n",
       " 'CD11b',\n",
       " 'IgD',\n",
       " 'CD27',\n",
       " 'CD5',\n",
       " 'CD79b',\n",
       " 'CD71',\n",
       " 'CD31',\n",
       " 'CD4',\n",
       " 'IgM',\n",
       " 'B220',\n",
       " 'ERTR7',\n",
       " 'CD35',\n",
       " 'CD2135',\n",
       " 'CD44',\n",
       " 'NKp46']"
      ]
     },
     "execution_count": 20,
     "metadata": {},
     "output_type": "execute_result"
    }
   ],
   "source": [
    "exp_cols = cols[1:30]\n",
    "exp_cols"
   ]
  },
  {
   "cell_type": "code",
   "execution_count": 21,
   "metadata": {},
   "outputs": [
    {
     "name": "stdout",
     "output_type": "stream",
     "text": [
      "Imaging phenotype cluster ID 58\n",
      "CD45 726877\n",
      "Ly6C 731257\n",
      "TCR 731035\n",
      "Ly6G 729442\n",
      "CD19 726981\n",
      "CD169 730498\n",
      "CD106 727870\n",
      "CD3 730526\n",
      "CD1632 728506\n",
      "CD8a 728773\n",
      "CD90 728172\n",
      "F480 731091\n",
      "CD11c 725943\n",
      "Ter119 728879\n",
      "CD11b 725897\n",
      "IgD 730293\n",
      "CD27 727817\n",
      "CD5 730295\n",
      "CD79b 727003\n",
      "CD71 729364\n",
      "CD31 725039\n",
      "CD4 730112\n",
      "IgM 727925\n",
      "B220 729995\n",
      "ERTR7 729781\n",
      "CD35 728492\n",
      "CD2135 729290\n",
      "CD44 727003\n",
      "NKp46 723719\n",
      "X.X 1342\n",
      "Y.Y 1006\n",
      "Z.Z 15\n",
      "MHCII 729269\n",
      "blank_Cy3_cyc15 721818\n",
      "blank_Cy5_cyc15 720065\n",
      "sample_Xtile_Ytile 565\n",
      "niche cluster ID 101\n",
      "sample_slide 9\n"
     ]
    }
   ],
   "source": [
    "unique_dict = {}\n",
    "for inst_col in cols:\n",
    "    inst_list_unique = list(df['exp'][inst_col].unique())\n",
    "    unique_dict[inst_col] = inst_list_unique    \n",
    "    inst_num_unique = len(inst_list_unique)\n",
    "    print(inst_col, inst_num_unique)"
   ]
  },
  {
   "cell_type": "markdown",
   "metadata": {},
   "source": [
    "### Select Single Image Tile\n",
    "BALBc: normal tissue\n",
    "MRL/lpr: spleen from animals with systemic autoimmune disease\n",
    "\n",
    "Start with: 'BALBc-1_X01_Y01'"
   ]
  },
  {
   "cell_type": "code",
   "execution_count": 22,
   "metadata": {
    "scrolled": true
   },
   "outputs": [
    {
     "name": "stdout",
     "output_type": "stream",
     "text": [
      "inst_df (39, 1127)\n",
      "inst_df (39, 1247)\n",
      "inst_df (39, 1481)\n",
      "inst_df (39, 1291)\n",
      "(39, 5146)\n"
     ]
    },
    {
     "data": {
      "text/plain": [
       "(39, 5146)"
      ]
     },
     "execution_count": 22,
     "metadata": {},
     "output_type": "execute_result"
    }
   ],
   "source": [
    "df_list = []\n",
    "\n",
    "for inst_tile in ['BALBc-1_X01_Y01', 'BALBc-1_X02_Y01', 'BALBc-1_X01_Y02', 'BALBc-1_X02_Y02']:\n",
    "# for inst_tile in ['BALBc-1_X01_Y01', 'BALBc-1_X02_Y01']:\n",
    "# for inst_tile in ['BALBc-1_X01_Y02', 'BALBc-1_X02_Y02']:    \n",
    "    keep_rows = []\n",
    "\n",
    "    ser_tile = df['exp']['sample_Xtile_Ytile']\n",
    "    ser_found = ser_tile[ser_tile == inst_tile]\n",
    "    \n",
    "    keep_rows.extend(ser_found.index.tolist())\n",
    "    inst_df = df['exp'].loc[keep_rows].transpose()\n",
    "    print('inst_df', inst_df.shape)\n",
    "    \n",
    "    if 'X02' in inst_tile:\n",
    "        inst_df.loc['X.X'] = inst_df.loc['X.X'] + 1350\n",
    "\n",
    "    if 'Y01' in inst_tile:        \n",
    "        inst_df.loc['Y.Y'] = 2000 - inst_df.loc['Y.Y']\n",
    "    \n",
    "    if 'Y02' in inst_tile:\n",
    "        inst_df.loc['Y.Y'] = 1000 - inst_df.loc['Y.Y'] \n",
    "        \n",
    "    df_list.append(inst_df)\n",
    "    \n",
    "    \n",
    "# df['tile'] = df['exp'].loc[keep_rows].transpose()\n",
    "df['tile'] = pd.concat(df_list, axis=1)\n",
    "print(df['tile'].shape)\n",
    "\n",
    "cats = df['tile'].loc['Imaging phenotype cluster ID']\n",
    "cats = [ct_dict[x] for x in cats]\n",
    "\n",
    "new_cols = []\n",
    "\n",
    "cols = df['tile'].columns.tolist()\n",
    "for index in range(len(cols)):\n",
    "    \n",
    "    new_col = (cols[index], 'Cell Type: ' + str(cats[index]))\n",
    "    new_cols.append(new_col)\n",
    "df['tile'].columns = new_cols\n",
    "df['tile'].shape"
   ]
  },
  {
   "cell_type": "markdown",
   "metadata": {},
   "source": [
    "### Plot Tile Expression Levels"
   ]
  },
  {
   "cell_type": "code",
   "execution_count": 23,
   "metadata": {},
   "outputs": [
    {
     "data": {
      "text/plain": [
       "(29, 5146)"
      ]
     },
     "execution_count": 23,
     "metadata": {},
     "output_type": "execute_result"
    }
   ],
   "source": [
    "df['tile-exp-ini'] = df['tile'].loc[exp_cols]\n",
    "df['tile-exp-ini'].shape"
   ]
  },
  {
   "cell_type": "markdown",
   "metadata": {},
   "source": [
    "### Set Negative Expression Levels to Zero"
   ]
  },
  {
   "cell_type": "code",
   "execution_count": 24,
   "metadata": {},
   "outputs": [],
   "source": [
    "df['tile-exp'] = df['tile-exp-ini']\n",
    "df['tile-exp'][df['tile-exp'] < 0] = 0"
   ]
  },
  {
   "cell_type": "code",
   "execution_count": 25,
   "metadata": {},
   "outputs": [
    {
     "data": {
      "text/html": [
       "<div>\n",
       "<style scoped>\n",
       "    .dataframe tbody tr th:only-of-type {\n",
       "        vertical-align: middle;\n",
       "    }\n",
       "\n",
       "    .dataframe tbody tr th {\n",
       "        vertical-align: top;\n",
       "    }\n",
       "\n",
       "    .dataframe thead th {\n",
       "        text-align: right;\n",
       "    }\n",
       "</style>\n",
       "<table border=\"1\" class=\"dataframe\">\n",
       "  <thead>\n",
       "    <tr style=\"text-align: right;\">\n",
       "      <th></th>\n",
       "      <th>CD45</th>\n",
       "      <th>Ly6C</th>\n",
       "      <th>TCR</th>\n",
       "      <th>Ly6G</th>\n",
       "      <th>CD19</th>\n",
       "      <th>CD169</th>\n",
       "      <th>CD106</th>\n",
       "      <th>CD3</th>\n",
       "      <th>CD1632</th>\n",
       "      <th>CD8a</th>\n",
       "      <th>...</th>\n",
       "      <th>CD71</th>\n",
       "      <th>CD31</th>\n",
       "      <th>CD4</th>\n",
       "      <th>IgM</th>\n",
       "      <th>B220</th>\n",
       "      <th>ERTR7</th>\n",
       "      <th>CD35</th>\n",
       "      <th>CD2135</th>\n",
       "      <th>CD44</th>\n",
       "      <th>NKp46</th>\n",
       "    </tr>\n",
       "  </thead>\n",
       "  <tbody>\n",
       "    <tr>\n",
       "      <th>count</th>\n",
       "      <td>5146.0</td>\n",
       "      <td>5146.0</td>\n",
       "      <td>5146.0</td>\n",
       "      <td>5146.0</td>\n",
       "      <td>5146.0</td>\n",
       "      <td>5146.0</td>\n",
       "      <td>5146.0</td>\n",
       "      <td>5146.0</td>\n",
       "      <td>5146.0</td>\n",
       "      <td>5146.0</td>\n",
       "      <td>...</td>\n",
       "      <td>5146.0</td>\n",
       "      <td>5146.0</td>\n",
       "      <td>5146.0</td>\n",
       "      <td>5146.0</td>\n",
       "      <td>5146.0</td>\n",
       "      <td>5146.0</td>\n",
       "      <td>5146.0</td>\n",
       "      <td>5146.0</td>\n",
       "      <td>5146.0</td>\n",
       "      <td>5146.0</td>\n",
       "    </tr>\n",
       "    <tr>\n",
       "      <th>unique</th>\n",
       "      <td>4726.0</td>\n",
       "      <td>2276.0</td>\n",
       "      <td>3872.0</td>\n",
       "      <td>3101.0</td>\n",
       "      <td>4709.0</td>\n",
       "      <td>2543.0</td>\n",
       "      <td>4739.0</td>\n",
       "      <td>1769.0</td>\n",
       "      <td>4661.0</td>\n",
       "      <td>3991.0</td>\n",
       "      <td>...</td>\n",
       "      <td>3788.0</td>\n",
       "      <td>4900.0</td>\n",
       "      <td>3512.0</td>\n",
       "      <td>4588.0</td>\n",
       "      <td>4188.0</td>\n",
       "      <td>4417.0</td>\n",
       "      <td>4711.0</td>\n",
       "      <td>4118.0</td>\n",
       "      <td>4356.0</td>\n",
       "      <td>4926.0</td>\n",
       "    </tr>\n",
       "    <tr>\n",
       "      <th>top</th>\n",
       "      <td>0.0</td>\n",
       "      <td>0.0</td>\n",
       "      <td>0.0</td>\n",
       "      <td>0.0</td>\n",
       "      <td>0.0</td>\n",
       "      <td>0.0</td>\n",
       "      <td>0.0</td>\n",
       "      <td>0.0</td>\n",
       "      <td>0.0</td>\n",
       "      <td>0.0</td>\n",
       "      <td>...</td>\n",
       "      <td>0.0</td>\n",
       "      <td>0.0</td>\n",
       "      <td>0.0</td>\n",
       "      <td>0.0</td>\n",
       "      <td>0.0</td>\n",
       "      <td>0.0</td>\n",
       "      <td>0.0</td>\n",
       "      <td>0.0</td>\n",
       "      <td>0.0</td>\n",
       "      <td>0.0</td>\n",
       "    </tr>\n",
       "    <tr>\n",
       "      <th>freq</th>\n",
       "      <td>421.0</td>\n",
       "      <td>2871.0</td>\n",
       "      <td>1274.0</td>\n",
       "      <td>2046.0</td>\n",
       "      <td>437.0</td>\n",
       "      <td>2604.0</td>\n",
       "      <td>408.0</td>\n",
       "      <td>3378.0</td>\n",
       "      <td>486.0</td>\n",
       "      <td>1156.0</td>\n",
       "      <td>...</td>\n",
       "      <td>1358.0</td>\n",
       "      <td>244.0</td>\n",
       "      <td>1635.0</td>\n",
       "      <td>559.0</td>\n",
       "      <td>959.0</td>\n",
       "      <td>729.0</td>\n",
       "      <td>436.0</td>\n",
       "      <td>1029.0</td>\n",
       "      <td>791.0</td>\n",
       "      <td>221.0</td>\n",
       "    </tr>\n",
       "  </tbody>\n",
       "</table>\n",
       "<p>4 rows × 29 columns</p>\n",
       "</div>"
      ],
      "text/plain": [
       "          CD45    Ly6C     TCR    Ly6G    CD19   CD169   CD106     CD3  \\\n",
       "count   5146.0  5146.0  5146.0  5146.0  5146.0  5146.0  5146.0  5146.0   \n",
       "unique  4726.0  2276.0  3872.0  3101.0  4709.0  2543.0  4739.0  1769.0   \n",
       "top        0.0     0.0     0.0     0.0     0.0     0.0     0.0     0.0   \n",
       "freq     421.0  2871.0  1274.0  2046.0   437.0  2604.0   408.0  3378.0   \n",
       "\n",
       "        CD1632    CD8a   ...      CD71    CD31     CD4     IgM    B220  \\\n",
       "count   5146.0  5146.0   ...    5146.0  5146.0  5146.0  5146.0  5146.0   \n",
       "unique  4661.0  3991.0   ...    3788.0  4900.0  3512.0  4588.0  4188.0   \n",
       "top        0.0     0.0   ...       0.0     0.0     0.0     0.0     0.0   \n",
       "freq     486.0  1156.0   ...    1358.0   244.0  1635.0   559.0   959.0   \n",
       "\n",
       "         ERTR7    CD35  CD2135    CD44   NKp46  \n",
       "count   5146.0  5146.0  5146.0  5146.0  5146.0  \n",
       "unique  4417.0  4711.0  4118.0  4356.0  4926.0  \n",
       "top        0.0     0.0     0.0     0.0     0.0  \n",
       "freq     729.0   436.0  1029.0   791.0   221.0  \n",
       "\n",
       "[4 rows x 29 columns]"
      ]
     },
     "execution_count": 25,
     "metadata": {},
     "output_type": "execute_result"
    }
   ],
   "source": [
    "df['tile-exp'].transpose().describe()"
   ]
  },
  {
   "cell_type": "code",
   "execution_count": 26,
   "metadata": {},
   "outputs": [],
   "source": [
    "df['tile-exp'][df['tile-exp'] > 5000] = 5000"
   ]
  },
  {
   "cell_type": "code",
   "execution_count": 27,
   "metadata": {},
   "outputs": [
    {
     "data": {
      "text/plain": [
       "(29, 5146)"
      ]
     },
     "execution_count": 27,
     "metadata": {},
     "output_type": "execute_result"
    }
   ],
   "source": [
    "df['tile-exp'].shape"
   ]
  },
  {
   "cell_type": "code",
   "execution_count": 28,
   "metadata": {},
   "outputs": [
    {
     "data": {
      "text/plain": [
       "(C-643, Cell Type: B cells)     9\n",
       "(C-1264, Cell Type: B cells)    9\n",
       "(C-1589, Cell Type: B cells)    9\n",
       "(C-1611, Cell Type: B cells)    8\n",
       "(C-1873, Cell Type: B cells)    6\n",
       "Name: Z.Z, dtype: object"
      ]
     },
     "execution_count": 28,
     "metadata": {},
     "output_type": "execute_result"
    }
   ],
   "source": [
    "df['tile'].loc['Z.Z'].head()"
   ]
  },
  {
   "cell_type": "markdown",
   "metadata": {},
   "source": [
    "### Location of Cells"
   ]
  },
  {
   "cell_type": "code",
   "execution_count": 29,
   "metadata": {},
   "outputs": [
    {
     "data": {
      "text/plain": [
       "(5146, 2)"
      ]
     },
     "execution_count": 29,
     "metadata": {},
     "output_type": "execute_result"
    }
   ],
   "source": [
    "df['tile-loc'] = df['tile'].loc[['X.X', 'Y.Y']].transpose()\n",
    "df['tile-loc'].shape"
   ]
  },
  {
   "cell_type": "code",
   "execution_count": 30,
   "metadata": {},
   "outputs": [],
   "source": [
    "# df['tile-loc']['Y.Y'] = 1000 - df['tile-loc']['Y.Y'] "
   ]
  },
  {
   "cell_type": "code",
   "execution_count": 31,
   "metadata": {},
   "outputs": [],
   "source": [
    "df['tile-loc'] = df['tile-loc'].astype('int')"
   ]
  },
  {
   "cell_type": "code",
   "execution_count": 32,
   "metadata": {},
   "outputs": [],
   "source": [
    "def set_expression_opacity(inst_gene):\n",
    "    ser_opacity = df['tile-exp'].loc[inst_gene]\n",
    "    list_opacity = [float(x/ser_opacity.max()) for x in list(ser_opacity.get_values())]\n",
    "    scatter.default_opacities = list_opacity"
   ]
  },
  {
   "cell_type": "code",
   "execution_count": 33,
   "metadata": {},
   "outputs": [],
   "source": [
    "fig = plt.figure(title='Scatter')\n",
    "def_tt = bqplot.Tooltip(fields=['name'], formats=[''])\n",
    "\n",
    "scatter = plt.scatter(df['tile-loc']['X.X'], \n",
    "                      df['tile-loc']['Y.Y'], \n",
    "                      figsize=(20,10), \n",
    "                      ylim=(0,1000), \n",
    "                      xlim=(0,1000), stroke='black', \n",
    "                      tooltip=def_tt, \n",
    "                      names=df['tile-loc'].index.tolist(), \n",
    "                      display_names=False)\n",
    "\n",
    "inst_width = 900\n",
    "fig.layout.min_height = str(inst_width/1.2) + 'px'\n",
    "fig.layout.min_width = str(inst_width) + 'px'\n",
    "\n",
    "set_expression_opacity('NKp46')\n",
    "\n",
    "scatter.default_size = 100\n",
    "scatter.colors = ['red']"
   ]
  },
  {
   "cell_type": "markdown",
   "metadata": {},
   "source": [
    "### Using RGB to HEX\n",
    "https://www.rgbtohex.net/"
   ]
  },
  {
   "cell_type": "code",
   "execution_count": 34,
   "metadata": {},
   "outputs": [],
   "source": [
    "cat_colors = {}\n",
    "# A \n",
    "cat_colors['NK cells'] = '#FB0006'\n",
    "# B\n",
    "cat_colors['granulocytes'] = '#FA1400'\n",
    "# C \n",
    "cat_colors['CD4(-)CD8(-) cDC'] = '#FC4B08'\n",
    "# D \n",
    "cat_colors['B220(+) DN T cells'] = '#FD8007'\n",
    "# E \n",
    "cat_colors['plasma cells'] = '#FDBA0A'\n",
    "# F \n",
    "cat_colors['F4/80(+) mphs'] = '#FFF80B'\n",
    "# G \n",
    "cat_colors['FDCs'] = '#FC9CA0'\n",
    "# H\n",
    "cat_colors['CD11c(+) B cells'] = '#99FF06'\n",
    "# I \n",
    "cat_colors['capsule'] = '#68FF0A'\n",
    "# J \n",
    "cat_colors['marginal zone mphs'] = '#0A4600'\n",
    "# K \n",
    "cat_colors['noid'] = '#25FF04'\n",
    "# L \n",
    "cat_colors['B cells'] = '#FFFF09'\n",
    "# M\n",
    "cat_colors['erythroblasts'] = '#1FFF3C'\n",
    "# N\n",
    "cat_colors['CD106(+)CD16/32(+)CD31(+) stroma'] = '#23FF6D'\n",
    "# O\n",
    "cat_colors['CD4(-)CD8(+)cDC'] = '#23FFA3'\n",
    "# P \n",
    "cat_colors['CD106(-)CD16/32(-)Ly6C(+)CD31(+) stroma'] = '#20FFDD'\n",
    "# Q\n",
    "cat_colors['megakaryocytes'] = '#1CE5FF'\n",
    "# R \n",
    "cat_colors['CD106(-)CD16/32(+)Ly6C(+)CD31(-)'] = '#15A7FF'\n",
    "# S\n",
    "cat_colors['CD4(+) T cells'] = '#0D6FFF'\n",
    "# T\n",
    "cat_colors['CD4(+)MHCII(+)'] = '#0137FF'\n",
    "# Ud\n",
    "cat_colors['CD31(hi) vascular'] = '#0000FF'\n",
    "# V\n",
    "cat_colors['CD3(+) other markers (-)'] = '#0700FF'\n",
    "# W\n",
    "cat_colors['CD106(+)CD16/32(+)CD31(-)Ly6C(-) stroma'] = '#2D00FF'\n",
    "# X\n",
    "cat_colors['CD8(+) T cells'] = '#5900FF'\n",
    "# Y\n",
    "cat_colors['ERTR7(+) stroma'] = '#8C00FE'\n",
    "# Z\n",
    "cat_colors['CD106(+)CD16/32(-)Ly6C(+)CD31(+)'] = '#C300FF'\n",
    "# [\n",
    "cat_colors['CD4(+)CD8(-)cDC'] = '#FB00FA'\n",
    "# dirt\n",
    "cat_colors['dirt'] = '#BCBCBC'"
   ]
  },
  {
   "cell_type": "markdown",
   "metadata": {},
   "source": [
    "### Expression Levels"
   ]
  },
  {
   "cell_type": "code",
   "execution_count": 35,
   "metadata": {},
   "outputs": [
    {
     "data": {
      "text/plain": [
       "(29, 5018)"
      ]
     },
     "execution_count": 35,
     "metadata": {},
     "output_type": "execute_result"
    }
   ],
   "source": [
    "keep_cols = [x for x in df['tile-exp'].columns.tolist() if 'dirt' not in x[1]]\n",
    "df['tile-exp-clean'] = df['tile-exp'][keep_cols]\n",
    "df['tile-exp-clean'].shape"
   ]
  },
  {
   "cell_type": "code",
   "execution_count": 36,
   "metadata": {},
   "outputs": [],
   "source": [
    "net.load_df(df['tile-exp-clean'])\n",
    "net.set_cat_colors(axis='col', cat_colors=cat_colors, cat_index=1, cat_title='Cell Type')"
   ]
  },
  {
   "cell_type": "code",
   "execution_count": 37,
   "metadata": {},
   "outputs": [
    {
     "data": {
      "application/vnd.jupyter.widget-view+json": {
       "model_id": "4022887805074946a95a835c44ba3283",
       "version_major": 2,
       "version_minor": 0
      },
      "text/plain": [
       "ExampleWidget(network='{\"row_nodes\": [{\"name\": \"CD45\", \"ini\": 29, \"clust\": 17, \"rank\": 28, \"rankvar\": 25, \"gro…"
      ]
     },
     "metadata": {},
     "output_type": "display_data"
    }
   ],
   "source": [
    "net.load_df(df['tile-exp-clean'])\n",
    "net.widget()"
   ]
  },
  {
   "cell_type": "markdown",
   "metadata": {},
   "source": [
    "### Voronoi Plot"
   ]
  },
  {
   "cell_type": "code",
   "execution_count": 38,
   "metadata": {},
   "outputs": [],
   "source": [
    "from scipy.spatial import Voronoi\n",
    "vor = Voronoi(df['tile-loc'])"
   ]
  },
  {
   "cell_type": "code",
   "execution_count": 39,
   "metadata": {},
   "outputs": [],
   "source": [
    "point_list = df['tile-loc'].index.tolist()\n",
    "point_names = [x[0] for x in point_list]\n",
    "cat_names   = [x[1].split(': ')[1] for x in point_list]"
   ]
  },
  {
   "cell_type": "code",
   "execution_count": 40,
   "metadata": {},
   "outputs": [],
   "source": [
    "patch_data = {}\n",
    "patch_data['x'] = []\n",
    "patch_data['y'] = []\n",
    "patch_data['colors'] = []\n",
    "region_labels = []\n",
    "\n",
    "region_point_dict = {}\n",
    "for point_index in range(vor.point_region.shape[0]):\n",
    "    region_index = vor.point_region[point_index]\n",
    "    region_point_dict[region_index] = point_index\n",
    "\n",
    "for region_index in range(len(vor.regions)):\n",
    "    \n",
    "    inst_region = vor.regions[region_index]\n",
    "\n",
    "    if -1 not in inst_region and len(inst_region) > 0:\n",
    "\n",
    "        point_index = region_point_dict[region_index]\n",
    "        point_cat = cat_names[point_index]\n",
    "        region_labels.append(point_cat)\n",
    "        \n",
    "        # save cat_colors\n",
    "        inst_color = cat_colors[point_cat]\n",
    "        patch_data['colors'].append(inst_color)\n",
    "        \n",
    "        x_list = []\n",
    "        y_list = []\n",
    "        for inst_vertex in inst_region:\n",
    "            inst_pos = vor.vertices[inst_vertex]\n",
    "            x_list.append(inst_pos[0])\n",
    "            y_list.append(inst_pos[1])\n",
    "            \n",
    "        patch_data['x'].append(x_list)\n",
    "        patch_data['y'].append(y_list)    "
   ]
  },
  {
   "cell_type": "code",
   "execution_count": 41,
   "metadata": {},
   "outputs": [
    {
     "data": {
      "application/vnd.jupyter.widget-view+json": {
       "model_id": "6a5a9bccc7fc42c8801c9167d6136253",
       "version_major": 2,
       "version_minor": 0
      },
      "text/plain": [
       "Figure(animation_duration=1000, axes=[Axis(scale=LinearScale(max=2400.0, min=0.0), visible=False), Axis(orient…"
      ]
     },
     "metadata": {},
     "output_type": "display_data"
    }
   ],
   "source": [
    "import bqplot.pyplot as plt\n",
    "fig = plt.figure(animation_duration=1000)\n",
    "patch = plt.plot([], [], \n",
    "                 fill='inside',\n",
    "                 fill_colors=patch_data['colors'],\n",
    "                 stroke_width=1,\n",
    "                 close_path=True,\n",
    "                 labels=region_labels,\n",
    "                 tooltip=def_tt,\n",
    "                 axes_options={'x': {'visible': False}, 'y': {'visible': False}},\n",
    "                )\n",
    "\n",
    "scatter = plt.scatter(df['tile-loc']['X.X'], \n",
    "                      df['tile-loc']['Y.Y'],\n",
    "#                       tooltip=def_tt, \n",
    "                      names=point_names,\n",
    "                      display_names=False, default_size=2)\n",
    "\n",
    "\n",
    "inst_width = 950\n",
    "fig.layout.min_height = str(inst_width/(1.15)) + 'px'\n",
    "fig.layout.min_width  = str(inst_width) + 'px'\n",
    "\n",
    "patch.x = patch_data['x']\n",
    "patch.y = patch_data['y']\n",
    "\n",
    "plt.xlim(0, 2.0*x_dim)\n",
    "plt.ylim(0, 2.0*y_dim)\n",
    "\n",
    "fig\n",
    "# plt.show()"
   ]
  },
  {
   "cell_type": "code",
   "execution_count": 107,
   "metadata": {},
   "outputs": [],
   "source": [
    "def mouseover_highlight(self, target):\n",
    "    # print('cat name', target['data']['name'])\n",
    "    list_opacities = []\n",
    "    for inst_label in region_labels:\n",
    "        inst_opacity = 0.25\n",
    "        if inst_label == target['data']['name']:\n",
    "            inst_opacity = 1\n",
    "        list_opacities.append(inst_opacity)\n",
    "\n",
    "    self.opacities = list_opacities"
   ]
  },
  {
   "cell_type": "code",
   "execution_count": 108,
   "metadata": {},
   "outputs": [],
   "source": [
    "def reset_highlight(self, target):\n",
    "#     print('CLICKING')\n",
    "    list_opacities = [1 for x in region_labels]\n",
    "    self.opacities = list_opacities"
   ]
  },
  {
   "cell_type": "code",
   "execution_count": 109,
   "metadata": {},
   "outputs": [],
   "source": [
    "patch.on_hover(mouseover_highlight)\n",
    "patch.on_element_click(reset_highlight)"
   ]
  },
  {
   "cell_type": "code",
   "execution_count": 45,
   "metadata": {},
   "outputs": [
    {
     "data": {
      "text/plain": [
       "5146"
      ]
     },
     "execution_count": 45,
     "metadata": {},
     "output_type": "execute_result"
    }
   ],
   "source": [
    "cells = df['tile-loc'].index.tolist()\n",
    "len(cells)"
   ]
  },
  {
   "cell_type": "code",
   "execution_count": 46,
   "metadata": {},
   "outputs": [
    {
     "data": {
      "text/html": [
       "<div>\n",
       "<style scoped>\n",
       "    .dataframe tbody tr th:only-of-type {\n",
       "        vertical-align: middle;\n",
       "    }\n",
       "\n",
       "    .dataframe tbody tr th {\n",
       "        vertical-align: top;\n",
       "    }\n",
       "\n",
       "    .dataframe thead th {\n",
       "        text-align: right;\n",
       "    }\n",
       "</style>\n",
       "<table border=\"1\" class=\"dataframe\">\n",
       "  <thead>\n",
       "    <tr style=\"text-align: right;\">\n",
       "      <th></th>\n",
       "      <th>(C-643, Cell Type: B cells)</th>\n",
       "      <th>(C-1264, Cell Type: B cells)</th>\n",
       "      <th>(C-1589, Cell Type: B cells)</th>\n",
       "      <th>(C-1611, Cell Type: B cells)</th>\n",
       "      <th>(C-1873, Cell Type: B cells)</th>\n",
       "      <th>(C-1877, Cell Type: B cells)</th>\n",
       "      <th>(C-1935, Cell Type: B cells)</th>\n",
       "      <th>(C-2478, Cell Type: B cells)</th>\n",
       "      <th>(C-2866, Cell Type: B cells)</th>\n",
       "      <th>(C-2988, Cell Type: B cells)</th>\n",
       "      <th>...</th>\n",
       "      <th>(C-250718, Cell Type: NK cells)</th>\n",
       "      <th>(C-251502, Cell Type: noid)</th>\n",
       "      <th>(C-252813, Cell Type: noid)</th>\n",
       "      <th>(C-252972, Cell Type: noid)</th>\n",
       "      <th>(C-253114, Cell Type: noid)</th>\n",
       "      <th>(C-253125, Cell Type: noid)</th>\n",
       "      <th>(C-253249, Cell Type: noid)</th>\n",
       "      <th>(C-254494, Cell Type: CD4(+)MHCII(+))</th>\n",
       "      <th>(C-254542, Cell Type: CD4(+)MHCII(+))</th>\n",
       "      <th>(C-254598, Cell Type: CD4(+)MHCII(+))</th>\n",
       "    </tr>\n",
       "  </thead>\n",
       "  <tbody>\n",
       "    <tr>\n",
       "      <th>X.X</th>\n",
       "      <td>10</td>\n",
       "      <td>1006</td>\n",
       "      <td>101</td>\n",
       "      <td>101</td>\n",
       "      <td>1013</td>\n",
       "      <td>1013</td>\n",
       "      <td>1013</td>\n",
       "      <td>1020</td>\n",
       "      <td>1025</td>\n",
       "      <td>1026</td>\n",
       "      <td>...</td>\n",
       "      <td>1875</td>\n",
       "      <td>2358</td>\n",
       "      <td>1418</td>\n",
       "      <td>2137</td>\n",
       "      <td>2219</td>\n",
       "      <td>2221</td>\n",
       "      <td>1445</td>\n",
       "      <td>1749</td>\n",
       "      <td>1940</td>\n",
       "      <td>1429</td>\n",
       "    </tr>\n",
       "    <tr>\n",
       "      <th>Y.Y</th>\n",
       "      <td>1723</td>\n",
       "      <td>1510</td>\n",
       "      <td>1496</td>\n",
       "      <td>1241</td>\n",
       "      <td>1746</td>\n",
       "      <td>1707</td>\n",
       "      <td>1086</td>\n",
       "      <td>1975</td>\n",
       "      <td>1872</td>\n",
       "      <td>1391</td>\n",
       "      <td>...</td>\n",
       "      <td>990</td>\n",
       "      <td>871</td>\n",
       "      <td>213</td>\n",
       "      <td>408</td>\n",
       "      <td>415</td>\n",
       "      <td>230</td>\n",
       "      <td>582</td>\n",
       "      <td>288</td>\n",
       "      <td>599</td>\n",
       "      <td>460</td>\n",
       "    </tr>\n",
       "  </tbody>\n",
       "</table>\n",
       "<p>2 rows × 5146 columns</p>\n",
       "</div>"
      ],
      "text/plain": [
       "     (C-643, Cell Type: B cells)  (C-1264, Cell Type: B cells)  \\\n",
       "X.X                           10                          1006   \n",
       "Y.Y                         1723                          1510   \n",
       "\n",
       "     (C-1589, Cell Type: B cells)  (C-1611, Cell Type: B cells)  \\\n",
       "X.X                           101                           101   \n",
       "Y.Y                          1496                          1241   \n",
       "\n",
       "     (C-1873, Cell Type: B cells)  (C-1877, Cell Type: B cells)  \\\n",
       "X.X                          1013                          1013   \n",
       "Y.Y                          1746                          1707   \n",
       "\n",
       "     (C-1935, Cell Type: B cells)  (C-2478, Cell Type: B cells)  \\\n",
       "X.X                          1013                          1020   \n",
       "Y.Y                          1086                          1975   \n",
       "\n",
       "     (C-2866, Cell Type: B cells)  (C-2988, Cell Type: B cells)  \\\n",
       "X.X                          1025                          1026   \n",
       "Y.Y                          1872                          1391   \n",
       "\n",
       "                     ...                    (C-250718, Cell Type: NK cells)  \\\n",
       "X.X                  ...                                               1875   \n",
       "Y.Y                  ...                                                990   \n",
       "\n",
       "     (C-251502, Cell Type: noid)  (C-252813, Cell Type: noid)  \\\n",
       "X.X                         2358                         1418   \n",
       "Y.Y                          871                          213   \n",
       "\n",
       "     (C-252972, Cell Type: noid)  (C-253114, Cell Type: noid)  \\\n",
       "X.X                         2137                         2219   \n",
       "Y.Y                          408                          415   \n",
       "\n",
       "     (C-253125, Cell Type: noid)  (C-253249, Cell Type: noid)  \\\n",
       "X.X                         2221                         1445   \n",
       "Y.Y                          230                          582   \n",
       "\n",
       "     (C-254494, Cell Type: CD4(+)MHCII(+))  \\\n",
       "X.X                                   1749   \n",
       "Y.Y                                    288   \n",
       "\n",
       "     (C-254542, Cell Type: CD4(+)MHCII(+))  \\\n",
       "X.X                                   1940   \n",
       "Y.Y                                    599   \n",
       "\n",
       "     (C-254598, Cell Type: CD4(+)MHCII(+))  \n",
       "X.X                                   1429  \n",
       "Y.Y                                    460  \n",
       "\n",
       "[2 rows x 5146 columns]"
      ]
     },
     "execution_count": 46,
     "metadata": {},
     "output_type": "execute_result"
    }
   ],
   "source": [
    "df['tile-loc'].transpose()"
   ]
  },
  {
   "cell_type": "code",
   "execution_count": 47,
   "metadata": {},
   "outputs": [],
   "source": [
    "from scipy.spatial.distance import pdist, squareform"
   ]
  },
  {
   "cell_type": "code",
   "execution_count": 48,
   "metadata": {},
   "outputs": [],
   "source": [
    "mat_cd = pdist(df['tile-loc'], metric='euclidean')"
   ]
  },
  {
   "cell_type": "code",
   "execution_count": 49,
   "metadata": {},
   "outputs": [
    {
     "data": {
      "text/plain": [
       "(5146, 5146)"
      ]
     },
     "execution_count": 49,
     "metadata": {},
     "output_type": "execute_result"
    }
   ],
   "source": [
    "dist_mat = squareform(mat_cd)\n",
    "dist_mat.shape"
   ]
  },
  {
   "cell_type": "code",
   "execution_count": 50,
   "metadata": {},
   "outputs": [],
   "source": [
    "df['dist'] = pd.DataFrame(data=dist_mat, index=cells, columns=cells)"
   ]
  },
  {
   "cell_type": "code",
   "execution_count": 51,
   "metadata": {},
   "outputs": [
    {
     "data": {
      "text/html": [
       "<div>\n",
       "<style scoped>\n",
       "    .dataframe tbody tr th:only-of-type {\n",
       "        vertical-align: middle;\n",
       "    }\n",
       "\n",
       "    .dataframe tbody tr th {\n",
       "        vertical-align: top;\n",
       "    }\n",
       "\n",
       "    .dataframe thead th {\n",
       "        text-align: right;\n",
       "    }\n",
       "</style>\n",
       "<table border=\"1\" class=\"dataframe\">\n",
       "  <thead>\n",
       "    <tr style=\"text-align: right;\">\n",
       "      <th></th>\n",
       "      <th>(C-643, Cell Type: B cells)</th>\n",
       "      <th>(C-1264, Cell Type: B cells)</th>\n",
       "      <th>(C-1589, Cell Type: B cells)</th>\n",
       "      <th>(C-1611, Cell Type: B cells)</th>\n",
       "      <th>(C-1873, Cell Type: B cells)</th>\n",
       "      <th>(C-1877, Cell Type: B cells)</th>\n",
       "      <th>(C-1935, Cell Type: B cells)</th>\n",
       "      <th>(C-2478, Cell Type: B cells)</th>\n",
       "      <th>(C-2866, Cell Type: B cells)</th>\n",
       "      <th>(C-2988, Cell Type: B cells)</th>\n",
       "      <th>...</th>\n",
       "      <th>(C-250718, Cell Type: NK cells)</th>\n",
       "      <th>(C-251502, Cell Type: noid)</th>\n",
       "      <th>(C-252813, Cell Type: noid)</th>\n",
       "      <th>(C-252972, Cell Type: noid)</th>\n",
       "      <th>(C-253114, Cell Type: noid)</th>\n",
       "      <th>(C-253125, Cell Type: noid)</th>\n",
       "      <th>(C-253249, Cell Type: noid)</th>\n",
       "      <th>(C-254494, Cell Type: CD4(+)MHCII(+))</th>\n",
       "      <th>(C-254542, Cell Type: CD4(+)MHCII(+))</th>\n",
       "      <th>(C-254598, Cell Type: CD4(+)MHCII(+))</th>\n",
       "    </tr>\n",
       "  </thead>\n",
       "  <tbody>\n",
       "    <tr>\n",
       "      <th>(C-643, Cell Type: B cells)</th>\n",
       "      <td>0.000000</td>\n",
       "      <td>1018.520987</td>\n",
       "      <td>244.560831</td>\n",
       "      <td>490.515035</td>\n",
       "      <td>1003.263674</td>\n",
       "      <td>1003.127609</td>\n",
       "      <td>1188.182646</td>\n",
       "      <td>1040.963016</td>\n",
       "      <td>1025.878160</td>\n",
       "      <td>1068.868561</td>\n",
       "      <td>...</td>\n",
       "      <td>2003.874747</td>\n",
       "      <td>2497.800633</td>\n",
       "      <td>2064.597782</td>\n",
       "      <td>2500.670710</td>\n",
       "      <td>2567.205679</td>\n",
       "      <td>2667.877433</td>\n",
       "      <td>1833.331939</td>\n",
       "      <td>2254.627685</td>\n",
       "      <td>2233.444873</td>\n",
       "      <td>1899.665760</td>\n",
       "    </tr>\n",
       "    <tr>\n",
       "      <th>(C-1264, Cell Type: B cells)</th>\n",
       "      <td>1018.520987</td>\n",
       "      <td>0.000000</td>\n",
       "      <td>905.108281</td>\n",
       "      <td>944.132406</td>\n",
       "      <td>236.103791</td>\n",
       "      <td>197.124326</td>\n",
       "      <td>424.057779</td>\n",
       "      <td>465.210705</td>\n",
       "      <td>362.498276</td>\n",
       "      <td>120.668969</td>\n",
       "      <td>...</td>\n",
       "      <td>1012.699857</td>\n",
       "      <td>1495.401284</td>\n",
       "      <td>1360.864799</td>\n",
       "      <td>1579.102593</td>\n",
       "      <td>1634.134021</td>\n",
       "      <td>1764.830020</td>\n",
       "      <td>1026.598753</td>\n",
       "      <td>1430.151391</td>\n",
       "      <td>1304.713378</td>\n",
       "      <td>1132.002208</td>\n",
       "    </tr>\n",
       "    <tr>\n",
       "      <th>(C-1589, Cell Type: B cells)</th>\n",
       "      <td>244.560831</td>\n",
       "      <td>905.108281</td>\n",
       "      <td>0.000000</td>\n",
       "      <td>255.000000</td>\n",
       "      <td>945.644754</td>\n",
       "      <td>936.090273</td>\n",
       "      <td>999.921997</td>\n",
       "      <td>1036.340678</td>\n",
       "      <td>997.573055</td>\n",
       "      <td>930.940385</td>\n",
       "      <td>...</td>\n",
       "      <td>1844.752558</td>\n",
       "      <td>2341.938086</td>\n",
       "      <td>1838.634820</td>\n",
       "      <td>2308.471356</td>\n",
       "      <td>2377.916104</td>\n",
       "      <td>2469.241989</td>\n",
       "      <td>1625.340580</td>\n",
       "      <td>2043.322784</td>\n",
       "      <td>2046.101171</td>\n",
       "      <td>1684.304011</td>\n",
       "    </tr>\n",
       "    <tr>\n",
       "      <th>(C-1611, Cell Type: B cells)</th>\n",
       "      <td>490.515035</td>\n",
       "      <td>944.132406</td>\n",
       "      <td>255.000000</td>\n",
       "      <td>0.000000</td>\n",
       "      <td>1042.482134</td>\n",
       "      <td>1024.158191</td>\n",
       "      <td>925.077835</td>\n",
       "      <td>1176.144974</td>\n",
       "      <td>1118.899906</td>\n",
       "      <td>937.083241</td>\n",
       "      <td>...</td>\n",
       "      <td>1791.668775</td>\n",
       "      <td>2287.126800</td>\n",
       "      <td>1670.710328</td>\n",
       "      <td>2199.814765</td>\n",
       "      <td>2273.367546</td>\n",
       "      <td>2348.727528</td>\n",
       "      <td>1496.869066</td>\n",
       "      <td>1903.710325</td>\n",
       "      <td>1947.841113</td>\n",
       "      <td>1540.631364</td>\n",
       "    </tr>\n",
       "    <tr>\n",
       "      <th>(C-1873, Cell Type: B cells)</th>\n",
       "      <td>1003.263674</td>\n",
       "      <td>236.103791</td>\n",
       "      <td>945.644754</td>\n",
       "      <td>1042.482134</td>\n",
       "      <td>0.000000</td>\n",
       "      <td>39.000000</td>\n",
       "      <td>660.000000</td>\n",
       "      <td>229.106962</td>\n",
       "      <td>126.570139</td>\n",
       "      <td>355.237948</td>\n",
       "      <td>...</td>\n",
       "      <td>1146.551351</td>\n",
       "      <td>1604.571594</td>\n",
       "      <td>1585.595787</td>\n",
       "      <td>1747.461015</td>\n",
       "      <td>1796.106066</td>\n",
       "      <td>1938.432356</td>\n",
       "      <td>1241.579639</td>\n",
       "      <td>1633.236052</td>\n",
       "      <td>1474.767100</td>\n",
       "      <td>1351.610891</td>\n",
       "    </tr>\n",
       "  </tbody>\n",
       "</table>\n",
       "<p>5 rows × 5146 columns</p>\n",
       "</div>"
      ],
      "text/plain": [
       "                              (C-643, Cell Type: B cells)  \\\n",
       "(C-643, Cell Type: B cells)                      0.000000   \n",
       "(C-1264, Cell Type: B cells)                  1018.520987   \n",
       "(C-1589, Cell Type: B cells)                   244.560831   \n",
       "(C-1611, Cell Type: B cells)                   490.515035   \n",
       "(C-1873, Cell Type: B cells)                  1003.263674   \n",
       "\n",
       "                              (C-1264, Cell Type: B cells)  \\\n",
       "(C-643, Cell Type: B cells)                    1018.520987   \n",
       "(C-1264, Cell Type: B cells)                      0.000000   \n",
       "(C-1589, Cell Type: B cells)                    905.108281   \n",
       "(C-1611, Cell Type: B cells)                    944.132406   \n",
       "(C-1873, Cell Type: B cells)                    236.103791   \n",
       "\n",
       "                              (C-1589, Cell Type: B cells)  \\\n",
       "(C-643, Cell Type: B cells)                     244.560831   \n",
       "(C-1264, Cell Type: B cells)                    905.108281   \n",
       "(C-1589, Cell Type: B cells)                      0.000000   \n",
       "(C-1611, Cell Type: B cells)                    255.000000   \n",
       "(C-1873, Cell Type: B cells)                    945.644754   \n",
       "\n",
       "                              (C-1611, Cell Type: B cells)  \\\n",
       "(C-643, Cell Type: B cells)                     490.515035   \n",
       "(C-1264, Cell Type: B cells)                    944.132406   \n",
       "(C-1589, Cell Type: B cells)                    255.000000   \n",
       "(C-1611, Cell Type: B cells)                      0.000000   \n",
       "(C-1873, Cell Type: B cells)                   1042.482134   \n",
       "\n",
       "                              (C-1873, Cell Type: B cells)  \\\n",
       "(C-643, Cell Type: B cells)                    1003.263674   \n",
       "(C-1264, Cell Type: B cells)                    236.103791   \n",
       "(C-1589, Cell Type: B cells)                    945.644754   \n",
       "(C-1611, Cell Type: B cells)                   1042.482134   \n",
       "(C-1873, Cell Type: B cells)                      0.000000   \n",
       "\n",
       "                              (C-1877, Cell Type: B cells)  \\\n",
       "(C-643, Cell Type: B cells)                    1003.127609   \n",
       "(C-1264, Cell Type: B cells)                    197.124326   \n",
       "(C-1589, Cell Type: B cells)                    936.090273   \n",
       "(C-1611, Cell Type: B cells)                   1024.158191   \n",
       "(C-1873, Cell Type: B cells)                     39.000000   \n",
       "\n",
       "                              (C-1935, Cell Type: B cells)  \\\n",
       "(C-643, Cell Type: B cells)                    1188.182646   \n",
       "(C-1264, Cell Type: B cells)                    424.057779   \n",
       "(C-1589, Cell Type: B cells)                    999.921997   \n",
       "(C-1611, Cell Type: B cells)                    925.077835   \n",
       "(C-1873, Cell Type: B cells)                    660.000000   \n",
       "\n",
       "                              (C-2478, Cell Type: B cells)  \\\n",
       "(C-643, Cell Type: B cells)                    1040.963016   \n",
       "(C-1264, Cell Type: B cells)                    465.210705   \n",
       "(C-1589, Cell Type: B cells)                   1036.340678   \n",
       "(C-1611, Cell Type: B cells)                   1176.144974   \n",
       "(C-1873, Cell Type: B cells)                    229.106962   \n",
       "\n",
       "                              (C-2866, Cell Type: B cells)  \\\n",
       "(C-643, Cell Type: B cells)                    1025.878160   \n",
       "(C-1264, Cell Type: B cells)                    362.498276   \n",
       "(C-1589, Cell Type: B cells)                    997.573055   \n",
       "(C-1611, Cell Type: B cells)                   1118.899906   \n",
       "(C-1873, Cell Type: B cells)                    126.570139   \n",
       "\n",
       "                              (C-2988, Cell Type: B cells)  \\\n",
       "(C-643, Cell Type: B cells)                    1068.868561   \n",
       "(C-1264, Cell Type: B cells)                    120.668969   \n",
       "(C-1589, Cell Type: B cells)                    930.940385   \n",
       "(C-1611, Cell Type: B cells)                    937.083241   \n",
       "(C-1873, Cell Type: B cells)                    355.237948   \n",
       "\n",
       "                                              ...                    \\\n",
       "(C-643, Cell Type: B cells)                   ...                     \n",
       "(C-1264, Cell Type: B cells)                  ...                     \n",
       "(C-1589, Cell Type: B cells)                  ...                     \n",
       "(C-1611, Cell Type: B cells)                  ...                     \n",
       "(C-1873, Cell Type: B cells)                  ...                     \n",
       "\n",
       "                              (C-250718, Cell Type: NK cells)  \\\n",
       "(C-643, Cell Type: B cells)                       2003.874747   \n",
       "(C-1264, Cell Type: B cells)                      1012.699857   \n",
       "(C-1589, Cell Type: B cells)                      1844.752558   \n",
       "(C-1611, Cell Type: B cells)                      1791.668775   \n",
       "(C-1873, Cell Type: B cells)                      1146.551351   \n",
       "\n",
       "                              (C-251502, Cell Type: noid)  \\\n",
       "(C-643, Cell Type: B cells)                   2497.800633   \n",
       "(C-1264, Cell Type: B cells)                  1495.401284   \n",
       "(C-1589, Cell Type: B cells)                  2341.938086   \n",
       "(C-1611, Cell Type: B cells)                  2287.126800   \n",
       "(C-1873, Cell Type: B cells)                  1604.571594   \n",
       "\n",
       "                              (C-252813, Cell Type: noid)  \\\n",
       "(C-643, Cell Type: B cells)                   2064.597782   \n",
       "(C-1264, Cell Type: B cells)                  1360.864799   \n",
       "(C-1589, Cell Type: B cells)                  1838.634820   \n",
       "(C-1611, Cell Type: B cells)                  1670.710328   \n",
       "(C-1873, Cell Type: B cells)                  1585.595787   \n",
       "\n",
       "                              (C-252972, Cell Type: noid)  \\\n",
       "(C-643, Cell Type: B cells)                   2500.670710   \n",
       "(C-1264, Cell Type: B cells)                  1579.102593   \n",
       "(C-1589, Cell Type: B cells)                  2308.471356   \n",
       "(C-1611, Cell Type: B cells)                  2199.814765   \n",
       "(C-1873, Cell Type: B cells)                  1747.461015   \n",
       "\n",
       "                              (C-253114, Cell Type: noid)  \\\n",
       "(C-643, Cell Type: B cells)                   2567.205679   \n",
       "(C-1264, Cell Type: B cells)                  1634.134021   \n",
       "(C-1589, Cell Type: B cells)                  2377.916104   \n",
       "(C-1611, Cell Type: B cells)                  2273.367546   \n",
       "(C-1873, Cell Type: B cells)                  1796.106066   \n",
       "\n",
       "                              (C-253125, Cell Type: noid)  \\\n",
       "(C-643, Cell Type: B cells)                   2667.877433   \n",
       "(C-1264, Cell Type: B cells)                  1764.830020   \n",
       "(C-1589, Cell Type: B cells)                  2469.241989   \n",
       "(C-1611, Cell Type: B cells)                  2348.727528   \n",
       "(C-1873, Cell Type: B cells)                  1938.432356   \n",
       "\n",
       "                              (C-253249, Cell Type: noid)  \\\n",
       "(C-643, Cell Type: B cells)                   1833.331939   \n",
       "(C-1264, Cell Type: B cells)                  1026.598753   \n",
       "(C-1589, Cell Type: B cells)                  1625.340580   \n",
       "(C-1611, Cell Type: B cells)                  1496.869066   \n",
       "(C-1873, Cell Type: B cells)                  1241.579639   \n",
       "\n",
       "                              (C-254494, Cell Type: CD4(+)MHCII(+))  \\\n",
       "(C-643, Cell Type: B cells)                             2254.627685   \n",
       "(C-1264, Cell Type: B cells)                            1430.151391   \n",
       "(C-1589, Cell Type: B cells)                            2043.322784   \n",
       "(C-1611, Cell Type: B cells)                            1903.710325   \n",
       "(C-1873, Cell Type: B cells)                            1633.236052   \n",
       "\n",
       "                              (C-254542, Cell Type: CD4(+)MHCII(+))  \\\n",
       "(C-643, Cell Type: B cells)                             2233.444873   \n",
       "(C-1264, Cell Type: B cells)                            1304.713378   \n",
       "(C-1589, Cell Type: B cells)                            2046.101171   \n",
       "(C-1611, Cell Type: B cells)                            1947.841113   \n",
       "(C-1873, Cell Type: B cells)                            1474.767100   \n",
       "\n",
       "                              (C-254598, Cell Type: CD4(+)MHCII(+))  \n",
       "(C-643, Cell Type: B cells)                             1899.665760  \n",
       "(C-1264, Cell Type: B cells)                            1132.002208  \n",
       "(C-1589, Cell Type: B cells)                            1684.304011  \n",
       "(C-1611, Cell Type: B cells)                            1540.631364  \n",
       "(C-1873, Cell Type: B cells)                            1351.610891  \n",
       "\n",
       "[5 rows x 5146 columns]"
      ]
     },
     "execution_count": 51,
     "metadata": {},
     "output_type": "execute_result"
    }
   ],
   "source": [
    "df['dist'].head()"
   ]
  },
  {
   "cell_type": "code",
   "execution_count": 52,
   "metadata": {},
   "outputs": [],
   "source": [
    "# df['dist'][inst_col].hist()"
   ]
  },
  {
   "cell_type": "code",
   "execution_count": 53,
   "metadata": {},
   "outputs": [],
   "source": [
    "# ser_hood = inst_ser[inst_ser < 100]"
   ]
  },
  {
   "cell_type": "code",
   "execution_count": 54,
   "metadata": {},
   "outputs": [],
   "source": [
    "# ser_hoodod.shape"
   ]
  },
  {
   "cell_type": "code",
   "execution_count": 84,
   "metadata": {},
   "outputs": [],
   "source": [
    "num_nn = 10\n",
    "list_cell_density = []\n",
    "list_nn_dist = []\n",
    "for inst_col in df['dist'].columns.tolist():\n",
    "    # skip self distance of zero\n",
    "    inst_ser = df['dist'][inst_col].sort_values()[1:]\n",
    "    \n",
    "    ser_nn = inst_ser[:num_nn]\n",
    "    \n",
    "    # find nearest neighbor cell type distribution\n",
    "    nn_names = ser_nn.index.tolist()\n",
    "    nn_cats = [x[1].split(': ')[1] for x in nn_names]\n",
    "    nn_dist = pd.Series(nn_cats).value_counts()/num_nn\n",
    "    \n",
    "    # number of cells in 100px neighborhood\n",
    "    cell_density = inst_ser[inst_ser < 100].shape[0]\n",
    "    list_cell_density.append(cell_density)\n",
    "\n",
    "    nn_dist.name = (inst_col[0], inst_col[1], 'NN CT: ' + nn_dist.index.tolist()[0], 'Density: ' + str(cell_density))\n",
    "    list_nn_dist.append(nn_dist)\n",
    "\n",
    "df['nn-dist'] = pd.concat(list_nn_dist, axis=1, sort=True).fillna(0)    "
   ]
  },
  {
   "cell_type": "code",
   "execution_count": 85,
   "metadata": {},
   "outputs": [],
   "source": [
    "# nn_dist"
   ]
  },
  {
   "cell_type": "code",
   "execution_count": 86,
   "metadata": {},
   "outputs": [],
   "source": [
    "net.load_df(df['nn-dist'])\n",
    "net.set_cat_colors(axis='col', cat_colors=cat_colors, cat_index=2, cat_title='NN CT')"
   ]
  },
  {
   "cell_type": "markdown",
   "metadata": {},
   "source": [
    "### All Cells"
   ]
  },
  {
   "cell_type": "code",
   "execution_count": 87,
   "metadata": {},
   "outputs": [
    {
     "data": {
      "application/vnd.jupyter.widget-view+json": {
       "model_id": "b0a0457aa9b34a6b8f963de7ad982614",
       "version_major": 2,
       "version_minor": 0
      },
      "text/plain": [
       "ExampleWidget(network='{\"row_nodes\": [{\"name\": \"B cells\", \"ini\": 27, \"clust\": 14, \"rank\": 26, \"rankvar\": 26, \"…"
      ]
     },
     "metadata": {},
     "output_type": "display_data"
    }
   ],
   "source": [
    "net.load_df(df['nn-dist'])\n",
    "net.widget()"
   ]
  },
  {
   "cell_type": "markdown",
   "metadata": {},
   "source": [
    "# Merge Expression Levels and Neighborhood Distributions"
   ]
  },
  {
   "cell_type": "code",
   "execution_count": 93,
   "metadata": {},
   "outputs": [
    {
     "data": {
      "text/plain": [
       "(27, 5146)"
      ]
     },
     "execution_count": 93,
     "metadata": {},
     "output_type": "execute_result"
    }
   ],
   "source": [
    "df['nn-dist'].shape"
   ]
  },
  {
   "cell_type": "code",
   "execution_count": 94,
   "metadata": {},
   "outputs": [
    {
     "data": {
      "text/plain": [
       "('C-643', 'Cell Type: B cells', 'NN CT: B cells', 'Density: 14')"
      ]
     },
     "execution_count": 94,
     "metadata": {},
     "output_type": "execute_result"
    }
   ],
   "source": [
    "df['nn-dist'].columns.tolist()[0]"
   ]
  },
  {
   "cell_type": "code",
   "execution_count": 95,
   "metadata": {},
   "outputs": [],
   "source": [
    "density_dict = {}\n",
    "nct_dict = {}\n",
    "for inst_col in df['nn-dist'].columns.tolist():\n",
    "    nct_dict[inst_col[0]] = inst_col[2]\n",
    "    density_dict[inst_col[0]] = inst_col[3]"
   ]
  },
  {
   "cell_type": "code",
   "execution_count": 96,
   "metadata": {},
   "outputs": [
    {
     "data": {
      "text/plain": [
       "(29, 5018)"
      ]
     },
     "execution_count": 96,
     "metadata": {},
     "output_type": "execute_result"
    }
   ],
   "source": [
    "df['tile-exp-clean'].shape"
   ]
  },
  {
   "cell_type": "markdown",
   "metadata": {},
   "source": [
    "### Add Cell Density to Expression Levels"
   ]
  },
  {
   "cell_type": "code",
   "execution_count": 97,
   "metadata": {},
   "outputs": [
    {
     "data": {
      "text/plain": [
       "(29, 5018)"
      ]
     },
     "execution_count": 97,
     "metadata": {},
     "output_type": "execute_result"
    }
   ],
   "source": [
    "df['exp-common'] = deepcopy(df['tile-exp-clean'])\n",
    "exp_cols = [(x[0], x[1], nct_dict[x[0]], density_dict[x[0]]) for x in df['exp-common'].columns]\n",
    "df['exp-common'].columns = exp_cols\n",
    "df['exp-common'].index = [(x, 'Type: Expression') for x in df['exp-common'].index]\n",
    "df['exp-common'].shape"
   ]
  },
  {
   "cell_type": "markdown",
   "metadata": {},
   "source": [
    "### Find Common Cells"
   ]
  },
  {
   "cell_type": "code",
   "execution_count": 98,
   "metadata": {},
   "outputs": [
    {
     "data": {
      "text/plain": [
       "(27, 5018)"
      ]
     },
     "execution_count": 98,
     "metadata": {},
     "output_type": "execute_result"
    }
   ],
   "source": [
    "df['nn-dist-common'] = df['nn-dist'][exp_cols]\n",
    "df['nn-dist-common'].index = [(x, 'Type: Neighborhood') for x in df['nn-dist-common'].index]\n",
    "df['nn-dist-common'].shape"
   ]
  },
  {
   "cell_type": "code",
   "execution_count": 99,
   "metadata": {},
   "outputs": [
    {
     "data": {
      "text/plain": [
       "(56, 5018)"
      ]
     },
     "execution_count": 99,
     "metadata": {},
     "output_type": "execute_result"
    }
   ],
   "source": [
    "df['merge'] = pd.concat([df['exp-common'], df['nn-dist-common']], axis=0)\n",
    "df['merge'].shape"
   ]
  },
  {
   "cell_type": "code",
   "execution_count": 100,
   "metadata": {},
   "outputs": [
    {
     "data": {
      "text/plain": [
       "('C-643', 'Cell Type: B cells', 'NN CT: B cells', 'Density: 14')"
      ]
     },
     "execution_count": 100,
     "metadata": {},
     "output_type": "execute_result"
    }
   ],
   "source": [
    "df['merge'].columns.tolist()[0]"
   ]
  },
  {
   "cell_type": "markdown",
   "metadata": {},
   "source": [
    "# Merge Dist and Expression "
   ]
  },
  {
   "cell_type": "code",
   "execution_count": 113,
   "metadata": {},
   "outputs": [
    {
     "data": {
      "text/plain": [
       "2826"
      ]
     },
     "execution_count": 113,
     "metadata": {},
     "output_type": "execute_result"
    }
   ],
   "source": [
    "keep_cols = [x for x in df['merge'].columns.tolist() if x[1].split(': ')[1] == 'B cells']\n",
    "len(keep_cols)"
   ]
  },
  {
   "cell_type": "code",
   "execution_count": 114,
   "metadata": {},
   "outputs": [
    {
     "data": {
      "application/vnd.jupyter.widget-view+json": {
       "model_id": "f10296d1a11246c5830e9c62084b8ae6",
       "version_major": 2,
       "version_minor": 0
      },
      "text/plain": [
       "ExampleWidget(network='{\"row_nodes\": [{\"name\": \"CD45\", \"ini\": 29, \"clust\": 19, \"rank\": 26, \"rankvar\": 18, \"cat…"
      ]
     },
     "metadata": {},
     "output_type": "display_data"
    }
   ],
   "source": [
    "net.load_df(df['exp-common'][keep_cols])\n",
    "net.filter_threshold(inst_rc='row', num_occur=1, threshold=0.001)\n",
    "net.normalize(axis='row', norm_type='zscore')\n",
    "net.clip(-5,5)\n",
    "net.widget()"
   ]
  },
  {
   "cell_type": "code",
   "execution_count": 102,
   "metadata": {
    "scrolled": false
   },
   "outputs": [
    {
     "data": {
      "application/vnd.jupyter.widget-view+json": {
       "model_id": "001f9b1086714a32b7f55703a994e992",
       "version_major": 2,
       "version_minor": 0
      },
      "text/plain": [
       "ExampleWidget(network='{\"row_nodes\": [{\"name\": \"CD45\", \"ini\": 56, \"clust\": 30, \"rank\": 52, \"rankvar\": 44, \"cat…"
      ]
     },
     "metadata": {},
     "output_type": "display_data"
    }
   ],
   "source": [
    "net.load_df(df['merge'][keep_cols])\n",
    "net.normalize(axis='row', norm_type='zscore')\n",
    "net.clip(-5,5)\n",
    "net.widget()"
   ]
  },
  {
   "cell_type": "markdown",
   "metadata": {},
   "source": [
    "# 'CD4(+) T cells'"
   ]
  },
  {
   "cell_type": "code",
   "execution_count": 111,
   "metadata": {},
   "outputs": [
    {
     "data": {
      "text/plain": [
       "378"
      ]
     },
     "execution_count": 111,
     "metadata": {},
     "output_type": "execute_result"
    }
   ],
   "source": [
    "keep_cols = [x for x in df['merge'].columns.tolist() if x[1].split(': ')[1] == 'CD4(+) T cells']\n",
    "len(keep_cols)"
   ]
  },
  {
   "cell_type": "code",
   "execution_count": 112,
   "metadata": {},
   "outputs": [
    {
     "data": {
      "application/vnd.jupyter.widget-view+json": {
       "model_id": "9617a92623004bef82e3438800fe86d7",
       "version_major": 2,
       "version_minor": 0
      },
      "text/plain": [
       "ExampleWidget(network='{\"row_nodes\": [{\"name\": \"CD45\", \"ini\": 29, \"clust\": 13, \"rank\": 18, \"rankvar\": 22, \"cat…"
      ]
     },
     "metadata": {},
     "output_type": "display_data"
    }
   ],
   "source": [
    "net.load_df(df['exp-common'][keep_cols])\n",
    "net.filter_threshold(inst_rc='row', num_occur=1, threshold=0.001)\n",
    "net.normalize(axis='row', norm_type='zscore')\n",
    "net.clip(-5,5)\n",
    "net.widget()"
   ]
  },
  {
   "cell_type": "code",
   "execution_count": 104,
   "metadata": {},
   "outputs": [
    {
     "data": {
      "application/vnd.jupyter.widget-view+json": {
       "model_id": "ce7fd1ef9b5c4862b94e8140ee68baea",
       "version_major": 2,
       "version_minor": 0
      },
      "text/plain": [
       "ExampleWidget(network='{\"row_nodes\": [{\"name\": \"CD45\", \"ini\": 53, \"clust\": 31, \"rank\": 35, \"rankvar\": 42, \"cat…"
      ]
     },
     "metadata": {},
     "output_type": "display_data"
    }
   ],
   "source": [
    "net.load_df(df['merge'][keep_cols])\n",
    "net.filter_threshold(inst_rc='row', num_occur=1, threshold=0.001)\n",
    "net.normalize(axis='row', norm_type='zscore')\n",
    "net.clip(-5,5)\n",
    "net.widget()"
   ]
  },
  {
   "cell_type": "markdown",
   "metadata": {},
   "source": [
    "# Marginal zone mphs"
   ]
  },
  {
   "cell_type": "code",
   "execution_count": 105,
   "metadata": {},
   "outputs": [
    {
     "data": {
      "text/plain": [
       "151"
      ]
     },
     "execution_count": 105,
     "metadata": {},
     "output_type": "execute_result"
    }
   ],
   "source": [
    "keep_cols = [x for x in df['merge'].columns.tolist() if x[1].split(': ')[1] == 'marginal zone mphs']\n",
    "len(keep_cols)"
   ]
  },
  {
   "cell_type": "code",
   "execution_count": 106,
   "metadata": {},
   "outputs": [
    {
     "data": {
      "application/vnd.jupyter.widget-view+json": {
       "model_id": "f6d431d17ac74272999ea7b7c0437d01",
       "version_major": 2,
       "version_minor": 0
      },
      "text/plain": [
       "ExampleWidget(network='{\"row_nodes\": [{\"name\": \"CD45\", \"ini\": 50, \"clust\": 23, \"rank\": 35, \"rankvar\": 31, \"cat…"
      ]
     },
     "metadata": {},
     "output_type": "display_data"
    }
   ],
   "source": [
    "net.load_df(df['merge'][keep_cols])\n",
    "net.filter_threshold(inst_rc='row', num_occur=1, threshold=0.001)\n",
    "net.normalize(axis='row', norm_type='zscore')\n",
    "net.clip(-5,5)\n",
    "net.widget()"
   ]
  },
  {
   "cell_type": "code",
   "execution_count": null,
   "metadata": {},
   "outputs": [],
   "source": []
  },
  {
   "cell_type": "code",
   "execution_count": null,
   "metadata": {},
   "outputs": [],
   "source": []
  },
  {
   "cell_type": "code",
   "execution_count": null,
   "metadata": {},
   "outputs": [],
   "source": []
  },
  {
   "cell_type": "code",
   "execution_count": null,
   "metadata": {},
   "outputs": [],
   "source": []
  },
  {
   "cell_type": "code",
   "execution_count": null,
   "metadata": {},
   "outputs": [],
   "source": []
  },
  {
   "cell_type": "code",
   "execution_count": null,
   "metadata": {},
   "outputs": [],
   "source": [
    "ser_density = pd.Series(list_cell_density)\n",
    "ser_density.hist()"
   ]
  },
  {
   "cell_type": "code",
   "execution_count": null,
   "metadata": {},
   "outputs": [],
   "source": [
    "nn_names = ser_nn.index.tolist()\n",
    "nn_cats = [x[1].split(': ')[1] for x in nn_names]\n",
    "nn_dist = pd.Series(nn_cats).value_counts()/num_nn\n",
    "nn_dist"
   ]
  },
  {
   "cell_type": "code",
   "execution_count": null,
   "metadata": {},
   "outputs": [],
   "source": [
    "inst_ser.head()"
   ]
  },
  {
   "cell_type": "code",
   "execution_count": null,
   "metadata": {},
   "outputs": [],
   "source": [
    "inst_ser[1:].head()"
   ]
  },
  {
   "cell_type": "code",
   "execution_count": null,
   "metadata": {},
   "outputs": [],
   "source": []
  },
  {
   "cell_type": "code",
   "execution_count": null,
   "metadata": {},
   "outputs": [],
   "source": []
  },
  {
   "cell_type": "code",
   "execution_count": null,
   "metadata": {},
   "outputs": [],
   "source": [
    "print(cells[0])\n",
    "df['dist'][cells[0]].sort_values()"
   ]
  },
  {
   "cell_type": "code",
   "execution_count": null,
   "metadata": {},
   "outputs": [],
   "source": []
  }
 ],
 "metadata": {
  "kernelspec": {
   "display_name": "Python 3",
   "language": "python",
   "name": "python3"
  },
  "language_info": {
   "codemirror_mode": {
    "name": "ipython",
    "version": 3
   },
   "file_extension": ".py",
   "mimetype": "text/x-python",
   "name": "python",
   "nbconvert_exporter": "python",
   "pygments_lexer": "ipython3",
   "version": "3.6.5"
  }
 },
 "nbformat": 4,
 "nbformat_minor": 2
}
