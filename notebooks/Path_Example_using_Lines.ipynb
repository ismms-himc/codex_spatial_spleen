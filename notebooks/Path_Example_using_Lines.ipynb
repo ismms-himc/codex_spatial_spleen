{
 "cells": [
  {
   "cell_type": "markdown",
   "metadata": {},
   "source": [
    "### Introduction\n",
    "\n",
    "The `Lines` object provides the following features:\n",
    "\n",
    "1. Ability to plot a single set or multiple sets of y-values as a function of a set or multiple sets of x-values\n",
    "2. Ability to style the line object in different ways, by setting different attributes such as the `colors`, `line_style`, `stroke_width` etc.\n",
    "3. Ability to specify a marker at each point passed to the line. The marker can be a shape which is at the data points between which the line is interpolated and can be set through the `markers` attribute"
   ]
  },
  {
   "cell_type": "markdown",
   "metadata": {},
   "source": [
    "The `Lines` object has the following attributes"
   ]
  },
  {
   "cell_type": "markdown",
   "metadata": {},
   "source": [
    " | Attribute |  Description | Default Value  |\n",
    "|:-:|---|:-:|\n",
    "|  `colors` | Sets the color of each line, takes as input a list of any RGB, HEX, or HTML color name  | `CATEGORY10`  |\n",
    "| `opacities`  | Controls the opacity of each line, takes as input a real number between 0 and 1  | `1.0`  |\n",
    "| `stroke_width`  | Real number which sets the width of all paths  | `2.0`  |\n",
    "| `line_style`  | Specifies whether a line is solid, dashed, dotted or both dashed and dotted  | `'solid'`  |\n",
    "| `interpolation`  | Sets the type of interpolation between two points  | `'linear'`  |\n",
    "| `marker`  | Specifies the shape of the marker inserted at each data point  | `None`  |\n",
    "| `marker_size`  | Controls the size of the marker, takes as input a non-negative integer  | `64`  |\n",
    "|`close_path`| Controls whether to close the paths or not | `False` |\n",
    "|`fill`| Specifies in which way the paths are filled. Can be set to one of `{'none', 'bottom', 'top', 'inside'}`| `None` |\n",
    "|`fill_colors`| `List` that specifies the `fill` colors of each path | `[]` |                                                                         \n",
    "| **Data Attribute** |  **Description** | **Default Value**  |\n",
    "|`x` |abscissas of the data points | `array([])` |\n",
    "|`y` |ordinates of the data points | `array([])` |\n",
    "|`color` | Data according to which the `Lines` will be colored. Setting it to `None` defaults the choice of colors to the `colors` attribute | `None` |"
   ]
  },
  {
   "cell_type": "markdown",
   "metadata": {},
   "source": [
    "## pyplot's plot method can be used to plot lines with meaningful defaults"
   ]
  },
  {
   "cell_type": "code",
   "execution_count": 1,
   "metadata": {},
   "outputs": [],
   "source": [
    "import numpy as np\n",
    "from pandas import date_range\n",
    "import bqplot.pyplot as plt\n",
    "from bqplot import *"
   ]
  },
  {
   "cell_type": "code",
   "execution_count": 2,
   "metadata": {},
   "outputs": [],
   "source": [
    "security_1 = np.cumsum(np.random.randn(150)) + 100.\n",
    "security_2 = np.cumsum(np.random.randn(150)) + 100."
   ]
  },
  {
   "cell_type": "markdown",
   "metadata": {},
   "source": [
    "## Basic Line Chart"
   ]
  },
  {
   "cell_type": "code",
   "execution_count": 3,
   "metadata": {},
   "outputs": [
    {
     "data": {
      "application/vnd.jupyter.widget-view+json": {
       "model_id": "eac3eba3b3f4472fbace533b66fc138e",
       "version_major": 2,
       "version_minor": 0
      },
      "text/plain": [
       "Figure(axes=[Axis(label='Index', scale=LinearScale()), Axis(label='Price', orientation='vertical', scale=Linea…"
      ]
     },
     "metadata": {},
     "output_type": "display_data"
    }
   ],
   "source": [
    "fig = plt.figure(title='Security 1')\n",
    "axes_options = {'x': {'label': 'Index'}, 'y': {'label': 'Price'}}\n",
    "# x values default to range of values when not specified\n",
    "line = plt.plot(security_1, axes_options=axes_options)\n",
    "fig"
   ]
  },
  {
   "cell_type": "markdown",
   "metadata": {},
   "source": [
    "**We can explore the different attributes by changing each of them for the plot above:**"
   ]
  },
  {
   "cell_type": "code",
   "execution_count": 4,
   "metadata": {},
   "outputs": [],
   "source": [
    "line.colors = ['DarkOrange']"
   ]
  },
  {
   "cell_type": "markdown",
   "metadata": {},
   "source": [
    "In a similar way, we can also change any attribute after the plot has been displayed to change the plot. Run each of the cells below, and try changing the attributes to explore the different features and how they affect the plot."
   ]
  },
  {
   "cell_type": "code",
   "execution_count": 5,
   "metadata": {},
   "outputs": [],
   "source": [
    "# The opacity allows us to display the Line while featuring other Marks that may be on the Figure\n",
    "line.opacities = [.5]"
   ]
  },
  {
   "cell_type": "code",
   "execution_count": 6,
   "metadata": {},
   "outputs": [],
   "source": [
    "line.stroke_width = 2.5"
   ]
  },
  {
   "cell_type": "markdown",
   "metadata": {},
   "source": [
    "To switch to an area chart, set the `fill` attribute, and control the look with `fill_opacities` and `fill_colors`."
   ]
  },
  {
   "cell_type": "code",
   "execution_count": 7,
   "metadata": {},
   "outputs": [],
   "source": [
    "line.fill = 'bottom'\n",
    "line.fill_opacities = [0.2]"
   ]
  },
  {
   "cell_type": "code",
   "execution_count": 8,
   "metadata": {},
   "outputs": [],
   "source": [
    "line.line_style = 'dashed'"
   ]
  },
  {
   "cell_type": "code",
   "execution_count": 9,
   "metadata": {},
   "outputs": [],
   "source": [
    "line.interpolation = 'basis'"
   ]
  },
  {
   "cell_type": "markdown",
   "metadata": {},
   "source": [
    "While a `Lines` plot allows the user to extract the general shape of the data being plotted, there may be a need to visualize discrete data points along with this shape. This is where the `markers` attribute comes in."
   ]
  },
  {
   "cell_type": "code",
   "execution_count": 10,
   "metadata": {},
   "outputs": [],
   "source": [
    "line.marker = 'triangle-down'"
   ]
  },
  {
   "cell_type": "markdown",
   "metadata": {},
   "source": [
    "The `marker` attributes accepts the values `square`, `circle`, `cross`, `diamond`, `square`, `triangle-down`, `triangle-up`, `arrow`, `rectangle`, `ellipse`. Try changing the string above and re-running the cell to see how each `marker` type looks."
   ]
  },
  {
   "cell_type": "markdown",
   "metadata": {
    "collapsed": true
   },
   "source": [
    "## Plotting a Time-Series"
   ]
  },
  {
   "cell_type": "markdown",
   "metadata": {},
   "source": [
    "The `DateScale` allows us to plot time series as a `Lines` plot conveniently with most `date` formats."
   ]
  },
  {
   "cell_type": "code",
   "execution_count": 11,
   "metadata": {},
   "outputs": [],
   "source": [
    "# Here we define the dates we would like to use\n",
    "dates = date_range(start='01-01-2007', periods=150)"
   ]
  },
  {
   "cell_type": "code",
   "execution_count": 12,
   "metadata": {},
   "outputs": [
    {
     "data": {
      "application/vnd.jupyter.widget-view+json": {
       "model_id": "423dac15c4964b1082633ec238f44f8e",
       "version_major": 2,
       "version_minor": 0
      },
      "text/plain": [
       "Figure(axes=[Axis(label='Date', scale=DateScale()), Axis(label='Security 1', orientation='vertical', scale=Lin…"
      ]
     },
     "metadata": {},
     "output_type": "display_data"
    }
   ],
   "source": [
    "fig = plt.figure(title='Time Series')\n",
    "axes_options = {'x': {'label': 'Date'}, 'y': {'label': 'Security 1'}}\n",
    "time_series = plt.plot(dates, security_1, \n",
    "                       axes_options=axes_options)\n",
    "fig"
   ]
  },
  {
   "cell_type": "markdown",
   "metadata": {},
   "source": [
    "## Plotting multiples sets of data"
   ]
  },
  {
   "cell_type": "markdown",
   "metadata": {},
   "source": [
    "The `Lines` mark allows the user to plot multiple `y`-values for a single `x`-value. This can be done by passing an `ndarray` or a list of the different `y`-values as the y-attribute of the `Lines` as shown below."
   ]
  },
  {
   "cell_type": "code",
   "execution_count": 13,
   "metadata": {},
   "outputs": [],
   "source": [
    "dates_new = date_range(start='06-01-2007', periods=150)"
   ]
  },
  {
   "cell_type": "markdown",
   "metadata": {},
   "source": [
    "We pass each data set as an element of a `list`"
   ]
  },
  {
   "cell_type": "code",
   "execution_count": 14,
   "metadata": {},
   "outputs": [
    {
     "data": {
      "application/vnd.jupyter.widget-view+json": {
       "model_id": "73068e59a840419ab555be28c49c25f7",
       "version_major": 2,
       "version_minor": 0
      },
      "text/plain": [
       "Figure(axes=[Axis(label='Date', scale=DateScale()), Axis(label='Price', orientation='vertical', scale=LinearSc…"
      ]
     },
     "metadata": {},
     "output_type": "display_data"
    }
   ],
   "source": [
    "fig = plt.figure()\n",
    "axes_options = {'x': {'label': 'Date'}, 'y': {'label': 'Price'}}\n",
    "line = plt.plot(dates, [security_1, security_2], \n",
    "                labels=['Security 1', 'Security 2'],\n",
    "                axes_options=axes_options,\n",
    "                display_legend=True)\n",
    "fig"
   ]
  },
  {
   "cell_type": "markdown",
   "metadata": {},
   "source": [
    "Similarly, we can also pass multiple `x`-values for multiple sets of `y`-values"
   ]
  },
  {
   "cell_type": "code",
   "execution_count": 15,
   "metadata": {},
   "outputs": [],
   "source": [
    "line.x, line.y = [dates, dates_new], [security_1, security_2]"
   ]
  },
  {
   "cell_type": "markdown",
   "metadata": {},
   "source": [
    "### Coloring Lines according to data"
   ]
  },
  {
   "cell_type": "markdown",
   "metadata": {},
   "source": [
    "The `color` attribute of a `Lines` mark can also be used to encode one more dimension of data. Suppose we have a portfolio of securities and we would like to color them based on whether we have bought or sold them. We can use the `color` attribute to encode this information."
   ]
  },
  {
   "cell_type": "code",
   "execution_count": 16,
   "metadata": {},
   "outputs": [],
   "source": [
    "fig = plt.figure()\n",
    "axes_options = {'x': {'label': 'Date'}, \n",
    "                'y': {'label': 'Security 1'},\n",
    "                'color' : {'visible': False}}\n",
    "# add a custom color scale to color the lines\n",
    "plt.scales(scales={'color': ColorScale(colors=['Red', 'Green'])})"
   ]
  },
  {
   "cell_type": "code",
   "execution_count": 17,
   "metadata": {},
   "outputs": [],
   "source": [
    "dates_color = date_range(start='06-01-2007', periods=150)"
   ]
  },
  {
   "cell_type": "code",
   "execution_count": 18,
   "metadata": {},
   "outputs": [],
   "source": [
    "securities = 100. + np.cumsum(np.random.randn(150, 10), axis=0)\n",
    "# we generate 10 random price series and 10 random positions\n",
    "positions = np.random.randint(0, 2, size=10)"
   ]
  },
  {
   "cell_type": "code",
   "execution_count": 19,
   "metadata": {},
   "outputs": [
    {
     "data": {
      "application/vnd.jupyter.widget-view+json": {
       "model_id": "6c64d0c97c9c4c2693a5bd73028e32ee",
       "version_major": 2,
       "version_minor": 0
      },
      "text/plain": [
       "Figure(axes=[ColorAxis(scale=ColorScale(colors=['Red', 'Green']), visible=False), Axis(label='Date', scale=Dat…"
      ]
     },
     "metadata": {},
     "output_type": "display_data"
    }
   ],
   "source": [
    "# We pass the color scale and the color data to the plot method\n",
    "line = plt.plot(dates_color, securities.T, color=positions, \n",
    "                axes_options=axes_options)\n",
    "fig"
   ]
  },
  {
   "cell_type": "markdown",
   "metadata": {},
   "source": [
    "We can also reset the colors of the Line to their defaults by setting the `color` attribute to `None`."
   ]
  },
  {
   "cell_type": "code",
   "execution_count": 20,
   "metadata": {},
   "outputs": [],
   "source": [
    "line.color = None"
   ]
  },
  {
   "cell_type": "markdown",
   "metadata": {},
   "source": [
    "## Patches"
   ]
  },
  {
   "cell_type": "markdown",
   "metadata": {},
   "source": [
    "The `fill` attribute of the `Lines` mark allows us to fill a path in different ways, while the `fill_colors` attribute lets us control the color of the `fill`"
   ]
  },
  {
   "cell_type": "code",
   "execution_count": 21,
   "metadata": {},
   "outputs": [],
   "source": [
    "import bqplot\n",
    "def_tt = bqplot.Tooltip(fields=['name'], formats=[''])"
   ]
  },
  {
   "cell_type": "code",
   "execution_count": 22,
   "metadata": {},
   "outputs": [
    {
     "data": {
      "application/vnd.jupyter.widget-view+json": {
       "model_id": "e1900cfc54ee4bca9f78befdb60f173e",
       "version_major": 2,
       "version_minor": 0
      },
      "text/plain": [
       "Figure(animation_duration=1000, axes=[Axis(scale=LinearScale(), visible=False), Axis(orientation='vertical', s…"
      ]
     },
     "metadata": {},
     "output_type": "display_data"
    }
   ],
   "source": [
    "fig = plt.figure(animation_duration=1000)\n",
    "patch = plt.plot([],[],\n",
    "                 fill_colors=['orange', 'blue', 'red'],\n",
    "                 fill='inside',\n",
    "                 axes_options={'x': {'visible': False}, 'y': {'visible': False}},\n",
    "                 stroke_width=2,\n",
    "                 close_path=True,\n",
    "                 display_legend=True, tooltip=def_tt,)\n",
    "opaci\n",
    "patch.x = [[4,   5,   6,   6,   5,   4,   3,  1], [1, 2, 3]], \n",
    "patch.y = [[1, 1.1, 1.2, 2.3, 2.2, 2.7, 1.0, -2], [3, 2, 3]]\n",
    "fig"
   ]
  },
  {
   "cell_type": "code",
   "execution_count": 24,
   "metadata": {},
   "outputs": [],
   "source": [
    "# patch.x = patch_data['x']\n",
    "# patch.y = patch_data['y']"
   ]
  },
  {
   "cell_type": "code",
   "execution_count": 25,
   "metadata": {},
   "outputs": [],
   "source": [
    "patch.opacities = [0.9, 0.9]"
   ]
  },
  {
   "cell_type": "code",
   "execution_count": 26,
   "metadata": {},
   "outputs": [],
   "source": [
    "patch.x = [[10, 3, 3.2], [0.5, 2.5, 1.7], [4,5,6, 6, 5, 4, 3]]"
   ]
  },
  {
   "cell_type": "code",
   "execution_count": 27,
   "metadata": {},
   "outputs": [],
   "source": [
    "patch.close_path = True"
   ]
  },
  {
   "cell_type": "markdown",
   "metadata": {},
   "source": [
    "# Voronoi Plot"
   ]
  },
  {
   "cell_type": "code",
   "execution_count": 28,
   "metadata": {},
   "outputs": [],
   "source": [
    "from scipy.spatial import Voronoi, voronoi_plot_2d"
   ]
  },
  {
   "cell_type": "code",
   "execution_count": 29,
   "metadata": {},
   "outputs": [],
   "source": [
    "points = np.array([[0, 0], [0, 1], [0, 2], [1, 0], [1, 1], [1, 2],\n",
    "                   [2, 0], [2, 1], [2, 2]])\n",
    "from scipy.spatial import Voronoi, voronoi_plot_2d\n",
    "vor = Voronoi(points)"
   ]
  },
  {
   "cell_type": "code",
   "execution_count": 30,
   "metadata": {},
   "outputs": [],
   "source": [
    "vor = Voronoi(points)"
   ]
  },
  {
   "cell_type": "code",
   "execution_count": 31,
   "metadata": {},
   "outputs": [
    {
     "data": {
      "text/plain": [
       "<Figure size 640x480 with 1 Axes>"
      ]
     },
     "metadata": {},
     "output_type": "display_data"
    }
   ],
   "source": [
    "import matplotlib.pyplot as plt\n",
    "voronoi_plot_2d(vor)\n",
    "plt.show()"
   ]
  },
  {
   "cell_type": "markdown",
   "metadata": {},
   "source": [
    "### Points\n",
    "Coordinates of input points"
   ]
  },
  {
   "cell_type": "code",
   "execution_count": 32,
   "metadata": {},
   "outputs": [
    {
     "data": {
      "text/plain": [
       "array([[0., 0.],\n",
       "       [0., 1.],\n",
       "       [0., 2.],\n",
       "       [1., 0.],\n",
       "       [1., 1.],\n",
       "       [1., 2.],\n",
       "       [2., 0.],\n",
       "       [2., 1.],\n",
       "       [2., 2.]])"
      ]
     },
     "execution_count": 32,
     "metadata": {},
     "output_type": "execute_result"
    }
   ],
   "source": [
    "vor.points"
   ]
  },
  {
   "cell_type": "markdown",
   "metadata": {},
   "source": [
    "### Vertices\n",
    "Cooridnates of the Voronoi vertices"
   ]
  },
  {
   "cell_type": "code",
   "execution_count": 33,
   "metadata": {},
   "outputs": [
    {
     "data": {
      "text/plain": [
       "array([[0.5, 0.5],\n",
       "       [1.5, 0.5],\n",
       "       [0.5, 1.5],\n",
       "       [1.5, 1.5]])"
      ]
     },
     "execution_count": 33,
     "metadata": {},
     "output_type": "execute_result"
    }
   ],
   "source": [
    "vor.vertices"
   ]
  },
  {
   "cell_type": "markdown",
   "metadata": {},
   "source": [
    "### Ridge Points\n",
    "Indices of the points between which each Voronoi ridge lies."
   ]
  },
  {
   "cell_type": "code",
   "execution_count": 34,
   "metadata": {},
   "outputs": [
    {
     "data": {
      "text/plain": [
       "array([[0, 1],\n",
       "       [0, 3],\n",
       "       [6, 3],\n",
       "       [6, 7],\n",
       "       [3, 4],\n",
       "       [5, 8],\n",
       "       [5, 2],\n",
       "       [5, 4],\n",
       "       [8, 7],\n",
       "       [2, 1],\n",
       "       [4, 1],\n",
       "       [4, 7]], dtype=int32)"
      ]
     },
     "execution_count": 34,
     "metadata": {},
     "output_type": "execute_result"
    }
   ],
   "source": [
    "vor.ridge_points"
   ]
  },
  {
   "cell_type": "code",
   "execution_count": 35,
   "metadata": {},
   "outputs": [
    {
     "data": {
      "text/plain": [
       "12"
      ]
     },
     "execution_count": 35,
     "metadata": {},
     "output_type": "execute_result"
    }
   ],
   "source": [
    "len(vor.ridge_points)"
   ]
  },
  {
   "cell_type": "markdown",
   "metadata": {},
   "source": [
    "### Ridge Vertices\n",
    "Indices of the Voronoi vertices forming each Voronoi ridge"
   ]
  },
  {
   "cell_type": "code",
   "execution_count": 36,
   "metadata": {},
   "outputs": [
    {
     "data": {
      "text/plain": [
       "[[-1, 0],\n",
       " [-1, 0],\n",
       " [-1, 1],\n",
       " [-1, 1],\n",
       " [0, 1],\n",
       " [-1, 3],\n",
       " [-1, 2],\n",
       " [2, 3],\n",
       " [-1, 3],\n",
       " [-1, 2],\n",
       " [0, 2],\n",
       " [1, 3]]"
      ]
     },
     "execution_count": 36,
     "metadata": {},
     "output_type": "execute_result"
    }
   ],
   "source": [
    "vor.ridge_vertices"
   ]
  },
  {
   "cell_type": "code",
   "execution_count": 37,
   "metadata": {},
   "outputs": [
    {
     "data": {
      "text/plain": [
       "12"
      ]
     },
     "execution_count": 37,
     "metadata": {},
     "output_type": "execute_result"
    }
   ],
   "source": [
    "len(vor.ridge_vertices)"
   ]
  },
  {
   "cell_type": "markdown",
   "metadata": {},
   "source": [
    "### Regions\n",
    "Indices of the Voronoi vertices forming each Voronoi region. -1 indicates vertex outside of the Voronoi diagram"
   ]
  },
  {
   "cell_type": "code",
   "execution_count": 38,
   "metadata": {},
   "outputs": [
    {
     "data": {
      "text/plain": [
       "[[],\n",
       " [-1, 0],\n",
       " [-1, 1],\n",
       " [1, -1, 0],\n",
       " [3, -1, 2],\n",
       " [-1, 3],\n",
       " [-1, 2],\n",
       " [3, 2, 0, 1],\n",
       " [2, -1, 0],\n",
       " [3, -1, 1]]"
      ]
     },
     "execution_count": 38,
     "metadata": {},
     "output_type": "execute_result"
    }
   ],
   "source": [
    "vor.regions"
   ]
  },
  {
   "cell_type": "markdown",
   "metadata": {},
   "source": [
    "It looks like there is only one Voronoi region with all vertices defined in the region of the Voronoi diagram. `[3, 2, 0, 1]`. This probably corresponds to the square."
   ]
  },
  {
   "cell_type": "markdown",
   "metadata": {},
   "source": [
    "### Point Regoin\n",
    "Index of the Voronoi region for each input point. If qhull option \"Qc\" was not specificd, the list will contain -1 for points that are not associated with a Voronoi region. "
   ]
  },
  {
   "cell_type": "code",
   "execution_count": 39,
   "metadata": {},
   "outputs": [
    {
     "data": {
      "text/plain": [
       "array([1, 8, 6, 3, 7, 4, 2, 9, 5])"
      ]
     },
     "execution_count": 39,
     "metadata": {},
     "output_type": "execute_result"
    }
   ],
   "source": [
    "vor.point_region"
   ]
  },
  {
   "cell_type": "markdown",
   "metadata": {},
   "source": [
    "# More complicated Voronoi Example"
   ]
  },
  {
   "cell_type": "code",
   "execution_count": 59,
   "metadata": {},
   "outputs": [],
   "source": [
    "import matplotlib.pyplot as plt\n",
    "np.random.seed(seed=10)\n",
    "points = np.random.rand(16,2) #random"
   ]
  },
  {
   "cell_type": "code",
   "execution_count": 60,
   "metadata": {},
   "outputs": [],
   "source": [
    "point_names = ['one', 'two', 'three', 'four', 'five', 'six', 'seven', 'eight', 'nine', 'ten', \n",
    "              'eleven', 'twelve', 'thirteen', 'fourteen', 'fifteen', 'sixteen']"
   ]
  },
  {
   "cell_type": "markdown",
   "metadata": {},
   "source": [
    "### Calculate Voronoi Regions"
   ]
  },
  {
   "cell_type": "code",
   "execution_count": 61,
   "metadata": {},
   "outputs": [],
   "source": [
    "from scipy.spatial import Voronoi, voronoi_plot_2d\n",
    "vor = Voronoi(points)"
   ]
  },
  {
   "cell_type": "markdown",
   "metadata": {},
   "source": [
    "### Rearrange Data for BQPlots"
   ]
  },
  {
   "cell_type": "code",
   "execution_count": 89,
   "metadata": {},
   "outputs": [],
   "source": [
    "patch_data = {}\n",
    "patch_data['x'] = []\n",
    "patch_data['y'] = []\n",
    "region_labels = []\n",
    "\n",
    "region_point_dict = {}\n",
    "for point_index in range(vor.point_region.shape[0]):\n",
    "    region_index = vor.point_region[point_index]\n",
    "    region_point_dict[region_index] = point_index\n",
    "\n",
    "for region_index in range(len(vor.regions)):\n",
    "    \n",
    "    inst_region = vor.regions[region_index]\n",
    "\n",
    "    if -1 not in inst_region and len(inst_region) > 0:\n",
    "\n",
    "        point_index = region_point_dict[region_index]\n",
    "        point_name = point_names[point_index]\n",
    "        # print('region index', region_index, 'point_index', point_index, 'point_name', point_name)\n",
    "        \n",
    "        region_labels.append('Point-' + point_name)\n",
    "        \n",
    "        x_list = []\n",
    "        y_list = []\n",
    "        for inst_vertex in inst_region:\n",
    "            inst_pos = vor.vertices[inst_vertex]\n",
    "            x_list.append(inst_pos[0])\n",
    "            y_list.append(inst_pos[1])\n",
    "            \n",
    "        patch_data['x'].append(x_list)\n",
    "        patch_data['y'].append(y_list)    "
   ]
  },
  {
   "cell_type": "code",
   "execution_count": 92,
   "metadata": {},
   "outputs": [
    {
     "data": {
      "application/vnd.jupyter.widget-view+json": {
       "model_id": "0d3fc92f5c6f4cb68748121bdb58d23c",
       "version_major": 2,
       "version_minor": 0
      },
      "text/plain": [
       "Figure(animation_duration=1000, axes=[Axis(scale=LinearScale(max=1.0, min=0.0)), Axis(orientation='vertical', …"
      ]
     },
     "metadata": {},
     "output_type": "display_data"
    }
   ],
   "source": [
    "import bqplot.pyplot as plt\n",
    "fig = plt.figure(animation_duration=1000)\n",
    "patch = plt.plot([], [], \n",
    "                 fill='inside',\n",
    "                 # fill_colors=['orange'],\n",
    "                 stroke_width=1,\n",
    "                 close_path=True,\n",
    "                 labels=region_labels,\n",
    "                 tooltip=def_tt)\n",
    "\n",
    "scatter = plt.scatter(points[:,0], points[:, 1], \n",
    "                      figsize=(20,10), \n",
    "                      ylim=(0,1000), \n",
    "                      xlim=(0,1000), \n",
    "                      tooltip=def_tt, \n",
    "                      names=point_names,\n",
    "                      display_names=True)\n",
    "\n",
    "\n",
    "patch.x = patch_data['x']\n",
    "patch.y = patch_data['y']\n",
    "\n",
    "plt.xlim(0,1)\n",
    "plt.ylim(0,1)\n",
    "\n",
    "\n",
    "fig"
   ]
  },
  {
   "cell_type": "code",
   "execution_count": null,
   "metadata": {},
   "outputs": [],
   "source": []
  },
  {
   "cell_type": "code",
   "execution_count": null,
   "metadata": {},
   "outputs": [],
   "source": []
  },
  {
   "cell_type": "code",
   "execution_count": 42,
   "metadata": {},
   "outputs": [
    {
     "data": {
      "text/plain": [
       "array([0.77132064, 0.02075195])"
      ]
     },
     "execution_count": 42,
     "metadata": {},
     "output_type": "execute_result"
    }
   ],
   "source": [
    "points[0]"
   ]
  },
  {
   "cell_type": "code",
   "execution_count": 43,
   "metadata": {},
   "outputs": [],
   "source": []
  },
  {
   "cell_type": "code",
   "execution_count": 44,
   "metadata": {},
   "outputs": [
    {
     "data": {
      "image/png": "[encoded data removed]",
      "text/plain": [
       "<Figure size 432x288 with 1 Axes>"
      ]
     },
     "metadata": {},
     "output_type": "display_data"
    }
   ],
   "source": [
    "fig = voronoi_plot_2d(vor)"
   ]
  },
  {
   "cell_type": "code",
   "execution_count": 45,
   "metadata": {},
   "outputs": [
    {
     "name": "stdout",
     "output_type": "stream",
     "text": [
      "[0.19992177 0.34445158] [0.22821203 0.50290838]\n",
      "[0.22821203 0.50290838] [0.20552139 0.55466633]\n",
      "[0.20552139 0.55466633] [0.402884   0.95506524]\n",
      "[0.7862372  0.81906582] [0.44811437 0.904529  ]\n",
      "[0.402884   0.95506524] [0.44811437 0.904529  ]\n",
      "[0.57984992 0.35911594] [0.61714891 0.23498046]\n",
      "[0.57984992 0.35911594] [0.28319118 0.27875554]\n",
      "[0.61714891 0.23498046] [0.35844472 0.09709933]\n",
      "[0.28319118 0.27875554] [0.35844472 0.09709933]\n",
      "[0.19992177 0.34445158] [0.28319118 0.27875554]\n",
      "[0.58060685 0.3606066 ] [0.48381788 0.57581813]\n",
      "[0.58060685 0.3606066 ] [0.57984992 0.35911594]\n",
      "[0.22821203 0.50290838] [0.48381788 0.57581813]\n",
      "[ 0.42397249 -0.35748284] [0.35844472 0.09709933]\n",
      "[ 0.42397249 -0.35748284] [0.69129965 0.14621566]\n",
      "[0.69129965 0.14621566] [0.61714891 0.23498046]\n",
      "[0.69129965 0.14621566] [1.21644282 0.24221926]\n",
      "[0.58060685 0.3606066 ] [0.71572927 0.42411116]\n",
      "[0.71572927 0.42411116] [1.21644282 0.24221926]\n",
      "[1.54381413 0.22006149] [1.21644282 0.24221926]\n",
      "[0.48381788 0.57581813] [0.50342746 0.60558976]\n",
      "[0.44811437 0.904529  ] [0.51801045 0.6608648 ]\n",
      "[0.51801045 0.6608648 ] [0.50342746 0.60558976]\n",
      "[0.71572927 0.42411116] [0.71098912 0.52853943]\n",
      "[0.50342746 0.60558976] [0.71098912 0.52853943]\n",
      "[0.9716721  0.55383836] [0.73388744 0.57319461]\n",
      "[0.9716721  0.55383836] [0.77829053 0.75310088]\n",
      "[0.73388744 0.57319461] [0.72601003 0.68444126]\n",
      "[0.77829053 0.75310088] [0.72601003 0.68444126]\n",
      "[1.54381413 0.22006149] [0.9716721  0.55383836]\n",
      "[0.71098912 0.52853943] [0.73388744 0.57319461]\n",
      "[0.7862372  0.81906582] [0.77829053 0.75310088]\n",
      "[0.51801045 0.6608648 ] [0.72601003 0.68444126]\n"
     ]
    },
    {
     "data": {
      "image/png": "[encoded data removed]",
      "text/plain": [
       "<Figure size 432x288 with 1 Axes>"
      ]
     },
     "metadata": {},
     "output_type": "display_data"
    }
   ],
   "source": [
    "fig = plt.figure()\n",
    "\n",
    "# Mark the Voronoi vertices.\n",
    "plt.plot(vor.vertices[:,0], vor.vertices[:, 1], 'ko', ms=8)\n",
    "\n",
    "for vpair in vor.ridge_vertices:\n",
    "    if vpair[0] >= 0 and vpair[1] >= 0:\n",
    "        v0 = vor.vertices[vpair[0]]\n",
    "        v1 = vor.vertices[vpair[1]]\n",
    "        \n",
    "        print(v0, v1)\n",
    "        # Draw a line from v0 to v1.\n",
    "        plt.plot([v0[0], v1[0]], [v0[1], v1[1]], 'k', linewidth=2)\n",
    "\n",
    "plt.show()"
   ]
  },
  {
   "cell_type": "code",
   "execution_count": null,
   "metadata": {},
   "outputs": [],
   "source": [
    "patch_data['x']"
   ]
  },
  {
   "cell_type": "code",
   "execution_count": null,
   "metadata": {},
   "outputs": [],
   "source": [
    "patch_data['y']"
   ]
  },
  {
   "cell_type": "code",
   "execution_count": null,
   "metadata": {},
   "outputs": [],
   "source": []
  }
 ],
 "metadata": {
  "anaconda-cloud": {},
  "kernelspec": {
   "display_name": "Python 3",
   "language": "python",
   "name": "python3"
  },
  "language_info": {
   "codemirror_mode": {
    "name": "ipython",
    "version": 3
   },
   "file_extension": ".py",
   "mimetype": "text/x-python",
   "name": "python",
   "nbconvert_exporter": "python",
   "pygments_lexer": "ipython3",
   "version": "3.6.5"
  },
  "widgets": {
   "application/vnd.jupyter.widget-state+json": {
    "state": {
     "00965a340775457c8ee977256be9acd5": {
      "model_module": "bqplot",
      "model_module_version": "^0.4.5",
      "model_name": "ColorScaleModel",
      "state": {
       "_model_name": "ColorScaleModel",
       "_view_name": "ColorScale",
       "colors": [
        "Red",
        "Green"
       ],
       "extrapolation": "constant",
       "mid": null,
       "scale_type": "linear",
       "scheme": "RdYlGn"
      }
     },
     "00cba4f17ef04be197f7f693b108415a": {
      "model_module": "bqplot",
      "model_module_version": "^0.4.5",
      "model_name": "DateScaleModel",
      "state": {}
     },
     "066e227bde634b629e71fcd158613328": {
      "model_module": "bqplot",
      "model_module_version": "^0.4.5",
      "model_name": "LinearScaleModel",
      "state": {
       "stabilized": false
      }
     },
     "06f9297b46304846b341a18609cb640a": {
      "model_module": "bqplot",
      "model_module_version": "^0.4.5",
      "model_name": "AxisModel",
      "state": {
       "label": "Date",
       "scale": "IPY_MODEL_00cba4f17ef04be197f7f693b108415a",
       "side": "bottom",
       "tick_values": {
        "type": null,
        "values": null
       }
      }
     },
     "07f7d2bdcb8645dbb934a6f384a38213": {
      "model_module": "bqplot",
      "model_module_version": "^0.4.5",
      "model_name": "LinearScaleModel",
      "state": {
       "allow_padding": false,
       "max": 1,
       "min": 0,
       "stabilized": false
      }
     },
     "0927337f8b97496cafc88d2bbcac050e": {
      "model_module": "bqplot",
      "model_module_version": "^0.4.5",
      "model_name": "DateScaleModel",
      "state": {}
     },
     "09e64a83b4ce42d39cfe3f5345e0f9ea": {
      "model_module": "bqplot",
      "model_module_version": "^0.4.5",
      "model_name": "LinearScaleModel",
      "state": {
       "allow_padding": false,
       "max": 1,
       "min": 0,
       "stabilized": false
      }
     },
     "0c172711b14b4a46b4e1e8ed3f19108c": {
      "model_module": "bqplot",
      "model_module_version": "^0.4.5",
      "model_name": "LinearScaleModel",
      "state": {
       "allow_padding": false,
       "max": 1,
       "min": 0,
       "stabilized": false
      }
     },
     "0ea85a0211ab433a84702244773c6be8": {
      "model_module": "bqplot",
      "model_module_version": "^0.4.5",
      "model_name": "LinearScaleModel",
      "state": {
       "stabilized": false
      }
     },
     "0f4b8dc4fafc452fac2adb434c66e833": {
      "model_module": "bqplot",
      "model_module_version": "^0.4.5",
      "model_name": "LinearScaleModel",
      "state": {
       "stabilized": false
      }
     },
     "101282b68c9f49eeb6f065354549a438": {
      "model_module": "bqplot",
      "model_module_version": "^0.4.5",
      "model_name": "FigureModel",
      "state": {
       "_dom_classes": [],
       "animation_duration": 1000,
       "axes": [
        "IPY_MODEL_4ef1878a3ab640b48632ee25804a9c23",
        "IPY_MODEL_d638c2a8750e4e4380daf712e6890a33"
       ],
       "layout": "IPY_MODEL_a7f244da50a54af2bcb5a0b9985a4f7e",
       "marks": [
        "IPY_MODEL_7ef7ad58e68e4ed8a8efaa3919d2d881",
        "IPY_MODEL_740c7c71bb664fbeae9569cb71975444"
       ],
       "scale_x": "IPY_MODEL_ed3a6921de0f4737a83b78b25d4b92ae",
       "scale_y": "IPY_MODEL_36632c2e06ba49e5985b470751cf9888"
      }
     },
     "120b638fa37748b2b5d1c7c3aa3486b0": {
      "model_module": "bqplot",
      "model_module_version": "^0.4.5",
      "model_name": "LinearScaleModel",
      "state": {
       "stabilized": false
      }
     },
     "12d844188ccb4243a97517cf048719cb": {
      "model_module": "bqplot",
      "model_module_version": "^0.4.5",
      "model_name": "AxisModel",
      "state": {
       "scale": "IPY_MODEL_f0931cdee8e849829d686c166d07edd9",
       "side": "bottom",
       "tick_values": {
        "type": null,
        "values": null
       }
      }
     },
     "139bc1ed5bb540caa8f3da13fb9db505": {
      "model_module": "bqplot",
      "model_module_version": "^0.4.5",
      "model_name": "LinearScaleModel",
      "state": {
       "allow_padding": false,
       "max": 1,
       "min": 0,
       "stabilized": false
      }
     },
     "1411b8523f284000b54c4a8ee8c7a8b5": {
      "model_module": "bqplot",
      "model_module_version": "^0.4.5",
      "model_name": "AxisModel",
      "state": {
       "label": "Date",
       "scale": "IPY_MODEL_bc1c679f82a04bc586435f3797a31edb",
       "side": "bottom",
       "tick_values": {
        "type": null,
        "values": null
       }
      }
     },
     "15543d43ac7440ee8a45d8b9578f2c7a": {
      "model_module": "bqplot",
      "model_module_version": "^0.4.5",
      "model_name": "FigureModel",
      "state": {
       "_dom_classes": [],
       "animation_duration": 1000,
       "axes": [
        "IPY_MODEL_df0a213130ab4b34bfacd4b375f3d802",
        "IPY_MODEL_3c86f99f27de4caabea896e7e92e96ee"
       ],
       "layout": "IPY_MODEL_2655c19d474842389869e886ea3ab609",
       "marks": [
        "IPY_MODEL_ba117becf78649a19cf42a49ee063d02",
        "IPY_MODEL_f723767dc38046faa10b0c8d5ebb9ded"
       ],
       "scale_x": "IPY_MODEL_437f86eefa2b43198846d2a2a825c7aa",
       "scale_y": "IPY_MODEL_6cbc7759525845e18423ff17c946e882"
      }
     },
     "15a218d8b0aa49b9a2df421b88266eb2": {
      "model_module": "bqplot",
      "model_module_version": "^0.4.5",
      "model_name": "LinearScaleModel",
      "state": {
       "stabilized": false
      }
     },
     "178d690a300a44338b90e8f7a0194d28": {
      "model_module": "bqplot",
      "model_module_version": "^0.4.5",
      "model_name": "LinearScaleModel",
      "state": {
       "stabilized": false
      }
     },
     "183776985d694073a3d541008dfd2487": {
      "model_module": "bqplot",
      "model_module_version": "^0.4.5",
      "model_name": "AxisModel",
      "state": {
       "scale": "IPY_MODEL_0f4b8dc4fafc452fac2adb434c66e833",
       "side": "bottom",
       "tick_values": {
        "type": null,
        "values": null
       }
      }
     },
     "187de36a637d4246b46db823b74b2043": {
      "model_module": "bqplot",
      "model_module_version": "^0.4.5",
      "model_name": "LinearScaleModel",
      "state": {
       "allow_padding": false,
       "max": 1,
       "min": 0,
       "stabilized": false
      }
     },
     "1b4cb703eb704a98a1c461dfccbda7df": {
      "model_module": "bqplot",
      "model_module_version": "^0.4.5",
      "model_name": "LinearScaleModel",
      "state": {
       "allow_padding": false,
       "max": 1,
       "min": 0,
       "stabilized": false
      }
     },
     "1bebdc7de4c04b2ea4c6683051fc2345": {
      "model_module": "bqplot",
      "model_module_version": "^0.4.5",
      "model_name": "LinesModel",
      "state": {
       "close_path": true,
       "color": {
        "type": null,
        "values": null
       },
       "display_legend": false,
       "fill": "inside",
       "fill_colors": [
        "orange"
       ],
       "labels": [
        "Point-three",
        "Point-thirteen",
        "Point-eleven",
        "Point-nine",
        "Point-twelve",
        "Point-fourteen",
        "Point-eight",
        "Point-sixteen",
        "Point-fifteen",
        "Point-two"
       ],
       "scales": {
        "x": "IPY_MODEL_0f4b8dc4fafc452fac2adb434c66e833",
        "y": "IPY_MODEL_ec1c555926354c99812d7e606161686a"
       },
       "selected": [],
       "stroke_width": 1,
       "tooltip": "IPY_MODEL_45c9563536674b36a6b840e3931aba2e",
       "x": {
        "type": "object",
        "values": [
         [
          0.3584447216903549,
          0.6171489120032924,
          0.5798499221127168,
          0.2831911754505866
         ],
         [
          0.2831911754505866,
          0.19992177320742419,
          0.22821203424164746,
          0.48381788152811805,
          0.5806068458871527,
          0.5798499221127168
         ],
         [
          0.3584447216903549,
          0.4239724854695897,
          0.6912996529354414,
          0.6171489120032924
         ],
         [
          1.216442820503958,
          0.6912996529354414,
          0.6171489120032924,
          0.5798499221127168,
          0.5806068458871527,
          0.7157292720673969
         ],
         [
          0.5034274596765445,
          0.48381788152811805,
          0.22821203424164746,
          0.20552139150292098,
          0.4028840030738831,
          0.44811437238452245,
          0.5180104471702501
         ],
         [
          0.7109891214078169,
          0.7157292720673969,
          0.5806068458871527,
          0.48381788152811805,
          0.5034274596765445
         ],
         [
          0.7260100327131787,
          0.7338874407228482,
          0.9716720966163176,
          0.7782905262525462
         ],
         [
          0.7338874407228482,
          0.7109891214078169,
          0.7157292720673969,
          1.216442820503958,
          1.5438141284532079,
          0.9716720966163176
         ],
         [
          0.7260100327131787,
          0.5180104471702501,
          0.5034274596765445,
          0.7109891214078169,
          0.7338874407228482
         ],
         [
          0.7260100327131787,
          0.5180104471702501,
          0.44811437238452245,
          0.7862371954417654,
          0.7782905262525462
         ]
        ]
       },
       "y": {
        "type": "object",
        "values": [
         [
          0.09709933172300317,
          0.23498045883754137,
          0.3591159380711344,
          0.2787555382740357
         ],
         [
          0.2787555382740357,
          0.3444515821822909,
          0.5029083802751683,
          0.5758181303479604,
          0.3606066009240778,
          0.3591159380711344
         ],
         [
          0.09709933172300317,
          -0.35748283665951325,
          0.14621566078753526,
          0.23498045883754137
         ],
         [
          0.2422192635826514,
          0.14621566078753526,
          0.23498045883754137,
          0.3591159380711344,
          0.3606066009240778,
          0.42411115923459075
         ],
         [
          0.6055897626427533,
          0.5758181303479604,
          0.5029083802751683,
          0.554666334735012,
          0.9550652406422548,
          0.9045289990489157,
          0.6608648024811047
         ],
         [
          0.5285394272389918,
          0.42411115923459075,
          0.3606066009240778,
          0.5758181303479604,
          0.6055897626427533
         ],
         [
          0.6844412631187945,
          0.573194611808946,
          0.5538383620905631,
          0.7531008790263298
         ],
         [
          0.573194611808946,
          0.5285394272389918,
          0.42411115923459075,
          0.2422192635826514,
          0.22006148839037726,
          0.5538383620905631
         ],
         [
          0.6844412631187945,
          0.6608648024811047,
          0.6055897626427533,
          0.5285394272389918,
          0.573194611808946
         ],
         [
          0.6844412631187945,
          0.6608648024811047,
          0.9045289990489157,
          0.8190658169987436,
          0.7531008790263298
         ]
        ]
       }
      }
     },
     "1d4259d143cc41d6a923be6d130d552b": {
      "model_module": "bqplot",
      "model_module_version": "^0.4.5",
      "model_name": "LinesModel",
      "state": {
       "close_path": true,
       "color": {
        "type": null,
        "values": null
       },
       "display_legend": false,
       "fill": "inside",
       "fill_colors": [],
       "labels": [
        "Point-three",
        "Point-thirteen",
        "Point-eleven",
        "Point-nine",
        "Point-twelve",
        "Point-fourteen",
        "Point-eight",
        "Point-sixteen",
        "Point-fifteen",
        "Point-two"
       ],
       "scales": {
        "x": "IPY_MODEL_be74fea230dd45a5bb843286beea1180",
        "y": "IPY_MODEL_96e611642af245c78917f9ac3bd7d572"
       },
       "selected": [],
       "stroke_width": 1,
       "tooltip": "IPY_MODEL_45c9563536674b36a6b840e3931aba2e",
       "x": {
        "type": "object",
        "values": [
         [
          0.3584447216903549,
          0.6171489120032924,
          0.5798499221127168,
          0.2831911754505866
         ],
         [
          0.2831911754505866,
          0.19992177320742419,
          0.22821203424164746,
          0.48381788152811805,
          0.5806068458871527,
          0.5798499221127168
         ],
         [
          0.3584447216903549,
          0.4239724854695897,
          0.6912996529354414,
          0.6171489120032924
         ],
         [
          1.216442820503958,
          0.6912996529354414,
          0.6171489120032924,
          0.5798499221127168,
          0.5806068458871527,
          0.7157292720673969
         ],
         [
          0.5034274596765445,
          0.48381788152811805,
          0.22821203424164746,
          0.20552139150292098,
          0.4028840030738831,
          0.44811437238452245,
          0.5180104471702501
         ],
         [
          0.7109891214078169,
          0.7157292720673969,
          0.5806068458871527,
          0.48381788152811805,
          0.5034274596765445
         ],
         [
          0.7260100327131787,
          0.7338874407228482,
          0.9716720966163176,
          0.7782905262525462
         ],
         [
          0.7338874407228482,
          0.7109891214078169,
          0.7157292720673969,
          1.216442820503958,
          1.5438141284532079,
          0.9716720966163176
         ],
         [
          0.7260100327131787,
          0.5180104471702501,
          0.5034274596765445,
          0.7109891214078169,
          0.7338874407228482
         ],
         [
          0.7260100327131787,
          0.5180104471702501,
          0.44811437238452245,
          0.7862371954417654,
          0.7782905262525462
         ]
        ]
       },
       "y": {
        "type": "object",
        "values": [
         [
          0.09709933172300317,
          0.23498045883754137,
          0.3591159380711344,
          0.2787555382740357
         ],
         [
          0.2787555382740357,
          0.3444515821822909,
          0.5029083802751683,
          0.5758181303479604,
          0.3606066009240778,
          0.3591159380711344
         ],
         [
          0.09709933172300317,
          -0.35748283665951325,
          0.14621566078753526,
          0.23498045883754137
         ],
         [
          0.2422192635826514,
          0.14621566078753526,
          0.23498045883754137,
          0.3591159380711344,
          0.3606066009240778,
          0.42411115923459075
         ],
         [
          0.6055897626427533,
          0.5758181303479604,
          0.5029083802751683,
          0.554666334735012,
          0.9550652406422548,
          0.9045289990489157,
          0.6608648024811047
         ],
         [
          0.5285394272389918,
          0.42411115923459075,
          0.3606066009240778,
          0.5758181303479604,
          0.6055897626427533
         ],
         [
          0.6844412631187945,
          0.573194611808946,
          0.5538383620905631,
          0.7531008790263298
         ],
         [
          0.573194611808946,
          0.5285394272389918,
          0.42411115923459075,
          0.2422192635826514,
          0.22006148839037726,
          0.5538383620905631
         ],
         [
          0.6844412631187945,
          0.6608648024811047,
          0.6055897626427533,
          0.5285394272389918,
          0.573194611808946
         ],
         [
          0.6844412631187945,
          0.6608648024811047,
          0.9045289990489157,
          0.8190658169987436,
          0.7531008790263298
         ]
        ]
       }
      }
     },
     "1f94d4c869b7457d9ca1f93d502b9a24": {
      "model_module": "bqplot",
      "model_module_version": "^0.4.5",
      "model_name": "ColorAxisModel",
      "state": {
       "scale": "IPY_MODEL_00965a340775457c8ee977256be9acd5",
       "side": "bottom",
       "tick_values": {
        "type": null,
        "values": null
       },
       "visible": false
      }
     },
     "205c0f69f26f4d4dada24cbc30fbf78a": {
      "model_module": "bqplot",
      "model_module_version": "^0.4.5",
      "model_name": "LinearScaleModel",
      "state": {
       "allow_padding": false,
       "max": 1,
       "min": 0,
       "stabilized": false
      }
     },
     "21be8996937044759d3554e50e2d8f79": {
      "model_module": "bqplot",
      "model_module_version": "^0.4.5",
      "model_name": "LinearScaleModel",
      "state": {
       "stabilized": false
      }
     },
     "2213b4452fd74ab28165c2fa546c9f3d": {
      "model_module": "bqplot",
      "model_module_version": "^0.4.5",
      "model_name": "AxisModel",
      "state": {
       "label": "Price",
       "orientation": "vertical",
       "scale": "IPY_MODEL_0ea85a0211ab433a84702244773c6be8",
       "side": "left",
       "tick_values": {
        "type": null,
        "values": null
       }
      }
     },
     "22fd82c93af34442994d8cdb7cc33db9": {
      "model_module": "bqplot",
      "model_module_version": "^0.4.5",
      "model_name": "AxisModel",
      "state": {
       "label": "Security 1",
       "orientation": "vertical",
       "scale": "IPY_MODEL_9a841f3e63ae44ee869ea6f2342c67f6",
       "side": "left",
       "tick_values": {
        "type": null,
        "values": null
       }
      }
     },
     "24785e5c26b04a0399f7837f4829712f": {
      "model_module": "bqplot",
      "model_module_version": "^0.4.5",
      "model_name": "LinearScaleModel",
      "state": {
       "stabilized": false
      }
     },
     "2509767d2e3f4827a6747b1b9173eb02": {
      "model_module": "@jupyter-widgets/base",
      "model_module_version": "1.1.0",
      "model_name": "LayoutModel",
      "state": {
       "min_width": "125px"
      }
     },
     "2655c19d474842389869e886ea3ab609": {
      "model_module": "@jupyter-widgets/base",
      "model_module_version": "1.1.0",
      "model_name": "LayoutModel",
      "state": {
       "min_width": "125px"
      }
     },
     "265d905e66c54761be84b891796b2e81": {
      "model_module": "bqplot",
      "model_module_version": "^0.4.5",
      "model_name": "LinesModel",
      "state": {
       "color": {
        "type": null,
        "values": null
       },
       "colors": [
        "DarkOrange"
       ],
       "display_legend": false,
       "fill": "bottom",
       "fill_colors": [],
       "fill_opacities": [
        0.2
       ],
       "interpolation": "basis",
       "labels": [
        "C1"
       ],
       "line_style": "dashed",
       "marker": "triangle-down",
       "opacities": [
        0.5
       ],
       "scales": {
        "x": "IPY_MODEL_6818edaf4d7e4f6396256d2cd8db88a8",
        "y": "IPY_MODEL_0ea85a0211ab433a84702244773c6be8"
       },
       "selected": [],
       "stroke_width": 2.5,
       "x": {
        "type": "float",
        "values": [
         0,
         1,
         2,
         3,
         4,
         5,
         6,
         7,
         8,
         9,
         10,
         11,
         12,
         13,
         14,
         15,
         16,
         17,
         18,
         19,
         20,
         21,
         22,
         23,
         24,
         25,
         26,
         27,
         28,
         29,
         30,
         31,
         32,
         33,
         34,
         35,
         36,
         37,
         38,
         39,
         40,
         41,
         42,
         43,
         44,
         45,
         46,
         47,
         48,
         49,
         50,
         51,
         52,
         53,
         54,
         55,
         56,
         57,
         58,
         59,
         60,
         61,
         62,
         63,
         64,
         65,
         66,
         67,
         68,
         69,
         70,
         71,
         72,
         73,
         74,
         75,
         76,
         77,
         78,
         79,
         80,
         81,
         82,
         83,
         84,
         85,
         86,
         87,
         88,
         89,
         90,
         91,
         92,
         93,
         94,
         95,
         96,
         97,
         98,
         99,
         100,
         101,
         102,
         103,
         104,
         105,
         106,
         107,
         108,
         109,
         110,
         111,
         112,
         113,
         114,
         115,
         116,
         117,
         118,
         119,
         120,
         121,
         122,
         123,
         124,
         125,
         126,
         127,
         128,
         129,
         130,
         131,
         132,
         133,
         134,
         135,
         136,
         137,
         138,
         139,
         140,
         141,
         142,
         143,
         144,
         145,
         146,
         147,
         148,
         149
        ]
       },
       "y": {
        "type": "float",
        "values": [
         102.07774820784103,
         100.49779695610543,
         100.71509478061873,
         99.33964578910538,
         99.00517727745434,
         99.45716441135741,
         98.68294418569063,
         98.10279972690383,
         97.918461239543,
         99.46432743561226,
         100.55529599243104,
         100.77435810879824,
         100.606441173794,
         100.7947792242566,
         102.73824341792643,
         101.75909435634706,
         101.47320750666893,
         101.72791413831636,
         99.71076485654307,
         99.31624977808693,
         100.52703114539487,
         100.724271907446,
         101.13504461539237,
         102.65249442151503,
         103.92654022304039,
         102.14862369603338,
         101.73813999360536,
         100.25659777457214,
         100.02604980263843,
         100.15113402611725,
         101.08869524033119,
         102.23482358286043,
         103.18021547017665,
         102.40410316015519,
         103.25846383956902,
         103.47673999888217,
         103.94505560769338,
         103.54095329704471,
         102.85454508896706,
         100.97091894294947,
         100.71017213000117,
         100.52730698709063,
         101.6580604291436,
         101.33844872031125,
         100.09700061188555,
         100.07989540001272,
         100.2346042391465,
         100.30841282213086,
         99.64958967775736,
         99.54827212892378,
         96.97158039861044,
         96.97283186981376,
         97.02603373311572,
         96.78042278000245,
         95.50019069846341,
         95.00378277669705,
         93.98148654128269,
         94.50577752489522,
         92.22951510535319,
         92.31175845595635,
         91.3365410100737,
         91.36615003647103,
         92.04019944292216,
         92.75343639762485,
         93.6979035828532,
         94.13732254774067,
         93.99653973683446,
         92.97047747166886,
         92.3015500413917,
         92.63366652756201,
         95.28739090065417,
         96.36629179897685,
         95.27544215733819,
         94.56262735190244,
         94.54403563332441,
         96.14372740771456,
         95.38927776144554,
         95.62519414760023,
         96.63758413221062,
         96.7257864706994,
         96.85394355834852,
         96.48693643695366,
         96.64370987568562,
         97.19121706760359,
         97.76958299062446,
         98.19151910371424,
         98.18654361207699,
         99.35844081155906,
         98.608434816907,
         97.4549054362504,
         97.89533204201203,
         98.92046326068163,
         98.54172941006456,
         100.10020894958436,
         100.69939586744424,
         101.18363607213831,
         98.97813209301884,
         98.90072441665704,
         100.33258301124164,
         99.882505081055,
         100.61885177751273,
         103.11210128856855,
         102.64701803644544,
         101.33935010001014,
         101.23274473386486,
         100.35697078975171,
         100.09839338469948,
         100.01120490318704,
         98.75117277458318,
         97.10091186335251,
         97.25596430121848,
         97.2725573851688,
         95.62518769641002,
         95.04951007385304,
         95.41920894562384,
         95.7518625996275,
         95.33779079244783,
         95.55144415552392,
         95.85892607807355,
         94.45987828826497,
         94.67938523404386,
         94.70345673270887,
         97.06150731867875,
         96.26228068178713,
         97.69575171821946,
         97.66050554424619,
         98.44936838498946,
         98.4490988487904,
         97.91711613824388,
         97.31931981401786,
         95.64576246618078,
         95.4632902377418,
         94.82154215893503,
         92.50775600176074,
         91.66782595314305,
         91.43305495057167,
         91.51390584853769,
         92.56831815865068,
         91.74512828265566,
         91.60216067870624,
         92.19130571968154,
         94.13483651609829,
         93.29180733570256,
         93.15006606726247,
         93.43577575730991,
         93.82074959275651,
         94.7647800253798,
         95.59614086951302,
         96.68502924357934,
         96.57648231571069
        ]
       }
      }
     },
     "2cd5aecd8dd440caaec9654f978cadb7": {
      "model_module": "bqplot",
      "model_module_version": "^0.4.5",
      "model_name": "LinearScaleModel",
      "state": {
       "stabilized": false
      }
     },
     "2d1f76c75b764ec8992f26b4800b46d5": {
      "model_module": "bqplot",
      "model_module_version": "^0.4.5",
      "model_name": "ScatterModel",
      "state": {
       "color": {
        "type": null,
        "values": null
       },
       "colors": [
        "steelblue"
       ],
       "display_legend": false,
       "names": {
        "type": "<U8",
        "values": [
         "one",
         "two",
         "three",
         "four",
         "five",
         "six",
         "seven",
         "eight",
         "nine",
         "ten",
         "eleven",
         "twelve",
         "thirteen",
         "fourteen",
         "fifteen",
         "sixteen"
        ]
       },
       "opacity": {
        "type": null,
        "values": null
       },
       "rotation": {
        "type": null,
        "values": null
       },
       "scales": {
        "x": "IPY_MODEL_21be8996937044759d3554e50e2d8f79",
        "y": "IPY_MODEL_826a4833304b4b108c03901df5fe3f43"
       },
       "scales_metadata": {
        "color": {
         "dimension": "color"
        },
        "opacity": {
         "dimension": "opacity"
        },
        "rotation": {
         "dimension": "rotation"
        },
        "size": {
         "dimension": "size"
        },
        "skew": {
         "dimension": "skew"
        },
        "x": {
         "dimension": "x",
         "orientation": "horizontal"
        },
        "y": {
         "dimension": "y",
         "orientation": "vertical"
        }
       },
       "selected": [],
       "size": {
        "type": null,
        "values": null
       },
       "skew": {
        "type": null,
        "values": null
       },
       "stroke_width": 0,
       "tooltip": "IPY_MODEL_45c9563536674b36a6b840e3931aba2e",
       "x": {
        "type": "float",
        "values": [
         0.771320643266746,
         0.6336482349262754,
         0.4985070123025904,
         0.19806286475962398,
         0.16911083656253545,
         0.6853598183677972,
         0.003948266327914451,
         0.8126209616521135,
         0.7217553174317995,
         0.9177741225129434,
         0.5425443680112613,
         0.3733407600514692,
         0.4418331744229961,
         0.6177669784693172,
         0.6503971819314672,
         0.8052231968327465
        ]
       },
       "y": {
        "type": "float",
        "values": [
         0.0207519493594015,
         0.7488038825386119,
         0.22479664553084766,
         0.7605307121989587,
         0.08833981417401027,
         0.9533933461949365,
         0.5121922633857766,
         0.6125260668293881,
         0.29187606817063316,
         0.7145757833976906,
         0.14217004760152696,
         0.6741336150663453,
         0.4340139933332937,
         0.5131382425543909,
         0.6010389534045444,
         0.5216471523936341
        ]
       }
      }
     },
     "32a8f63747ea44b681986d0fc0ed9508": {
      "model_module": "bqplot",
      "model_module_version": "^0.4.5",
      "model_name": "FigureModel",
      "state": {
       "_dom_classes": [],
       "animation_duration": 1000,
       "axes": [
        "IPY_MODEL_5015ebf549d04081aa026d0fb502d8d7",
        "IPY_MODEL_50b19f6a92c249bfa8aae4d676630ede"
       ],
       "layout": "IPY_MODEL_b2ad1470f30c48a1ae6ba903ca78adbf",
       "marks": [
        "IPY_MODEL_c0ab2a18fab443d0af92a817f74663a0",
        "IPY_MODEL_e3865975231d4e4db360eea18c21e5a1"
       ],
       "scale_x": "IPY_MODEL_205c0f69f26f4d4dada24cbc30fbf78a",
       "scale_y": "IPY_MODEL_f517ced5c88e4285b938dfe902d7a786"
      }
     },
     "34a72bf6f7474500a441ff1a73beb70d": {
      "model_module": "bqplot",
      "model_module_version": "^0.4.5",
      "model_name": "AxisModel",
      "state": {
       "orientation": "vertical",
       "scale": "IPY_MODEL_7416b900997841559aae4315176295c5",
       "side": "left",
       "tick_values": {
        "type": null,
        "values": null
       }
      }
     },
     "36632c2e06ba49e5985b470751cf9888": {
      "model_module": "bqplot",
      "model_module_version": "^0.4.5",
      "model_name": "LinearScaleModel",
      "state": {
       "allow_padding": false,
       "max": 1,
       "min": 0,
       "stabilized": false
      }
     },
     "3b766ed3acdb464ca0e9ce05d396f054": {
      "model_module": "bqplot",
      "model_module_version": "^0.4.5",
      "model_name": "AxisModel",
      "state": {
       "label": "Security 1",
       "orientation": "vertical",
       "scale": "IPY_MODEL_24785e5c26b04a0399f7837f4829712f",
       "side": "left",
       "tick_values": {
        "type": null,
        "values": null
       }
      }
     },
     "3c86f99f27de4caabea896e7e92e96ee": {
      "model_module": "bqplot",
      "model_module_version": "^0.4.5",
      "model_name": "AxisModel",
      "state": {
       "orientation": "vertical",
       "scale": "IPY_MODEL_dbe75a08433f43c2963730e8c25bda6b",
       "side": "left",
       "tick_values": {
        "type": null,
        "values": null
       }
      }
     },
     "3caed1fd1463449d990273c87d5d5d88": {
      "model_module": "bqplot",
      "model_module_version": "^0.4.5",
      "model_name": "ScatterModel",
      "state": {
       "color": {
        "type": null,
        "values": null
       },
       "colors": [
        "steelblue"
       ],
       "display_legend": false,
       "names": {
        "type": "<U8",
        "values": [
         "one",
         "two",
         "three",
         "four",
         "five",
         "six",
         "seven",
         "eight",
         "nine",
         "ten",
         "eleven",
         "twelve",
         "thirteen",
         "fourteen",
         "fifteen",
         "sixteen"
        ]
       },
       "opacity": {
        "type": null,
        "values": null
       },
       "rotation": {
        "type": null,
        "values": null
       },
       "scales": {
        "x": "IPY_MODEL_75fc04a7b78a42cda1a39e4c05f7e501",
        "y": "IPY_MODEL_2cd5aecd8dd440caaec9654f978cadb7"
       },
       "scales_metadata": {
        "color": {
         "dimension": "color"
        },
        "opacity": {
         "dimension": "opacity"
        },
        "rotation": {
         "dimension": "rotation"
        },
        "size": {
         "dimension": "size"
        },
        "skew": {
         "dimension": "skew"
        },
        "x": {
         "dimension": "x",
         "orientation": "horizontal"
        },
        "y": {
         "dimension": "y",
         "orientation": "vertical"
        }
       },
       "selected": [],
       "size": {
        "type": null,
        "values": null
       },
       "skew": {
        "type": null,
        "values": null
       },
       "stroke": "black",
       "tooltip": "IPY_MODEL_45c9563536674b36a6b840e3931aba2e",
       "x": {
        "type": "float",
        "values": [
         0.771320643266746,
         0.6336482349262754,
         0.4985070123025904,
         0.19806286475962398,
         0.16911083656253545,
         0.6853598183677972,
         0.003948266327914451,
         0.8126209616521135,
         0.7217553174317995,
         0.9177741225129434,
         0.5425443680112613,
         0.3733407600514692,
         0.4418331744229961,
         0.6177669784693172,
         0.6503971819314672,
         0.8052231968327465
        ]
       },
       "y": {
        "type": "float",
        "values": [
         0.0207519493594015,
         0.7488038825386119,
         0.22479664553084766,
         0.7605307121989587,
         0.08833981417401027,
         0.9533933461949365,
         0.5121922633857766,
         0.6125260668293881,
         0.29187606817063316,
         0.7145757833976906,
         0.14217004760152696,
         0.6741336150663453,
         0.4340139933332937,
         0.5131382425543909,
         0.6010389534045444,
         0.5216471523936341
        ]
       }
      }
     },
     "3ee742ec893e40f1b58171666e1aba86": {
      "model_module": "@jupyter-widgets/base",
      "model_module_version": "1.1.0",
      "model_name": "LayoutModel",
      "state": {
       "min_width": "125px"
      }
     },
     "423dac15c4964b1082633ec238f44f8e": {
      "model_module": "bqplot",
      "model_module_version": "^0.4.5",
      "model_name": "FigureModel",
      "state": {
       "_dom_classes": [],
       "axes": [
        "IPY_MODEL_06f9297b46304846b341a18609cb640a",
        "IPY_MODEL_22fd82c93af34442994d8cdb7cc33db9"
       ],
       "layout": "IPY_MODEL_533e29cb324142df99f33a9f2874599e",
       "marks": [
        "IPY_MODEL_6b5acedfa36049e7820d2973c125c361"
       ],
       "scale_x": "IPY_MODEL_f3250541d1d44802a654a00282951cc1",
       "scale_y": "IPY_MODEL_d82b8e25e8ff47afb25c1561a87fcede",
       "title": "Time Series"
      }
     },
     "437f86eefa2b43198846d2a2a825c7aa": {
      "model_module": "bqplot",
      "model_module_version": "^0.4.5",
      "model_name": "LinearScaleModel",
      "state": {
       "allow_padding": false,
       "max": 1,
       "min": 0,
       "stabilized": false
      }
     },
     "45c9563536674b36a6b840e3931aba2e": {
      "model_module": "bqplot",
      "model_module_version": "^0.4.5",
      "model_name": "TooltipModel",
      "state": {
       "fields": [
        "name"
       ],
       "formats": [
        ""
       ],
       "layout": "IPY_MODEL_a4cb191abca248efb73c2f5628ad2f28"
      }
     },
     "47f50ac1e5814dd281ca95027dde6aa7": {
      "model_module": "bqplot",
      "model_module_version": "^0.4.5",
      "model_name": "AxisModel",
      "state": {
       "scale": "IPY_MODEL_4cc999cfc6b34ca18797ca228e81e353",
       "side": "bottom",
       "tick_values": {
        "type": null,
        "values": null
       }
      }
     },
     "496f5851b86f4471a9f02d18240a2c08": {
      "model_module": "bqplot",
      "model_module_version": "^0.4.5",
      "model_name": "ScatterModel",
      "state": {
       "color": {
        "type": null,
        "values": null
       },
       "colors": [
        "steelblue"
       ],
       "display_legend": false,
       "names": {
        "type": "<U8",
        "values": [
         "one",
         "two",
         "three",
         "four",
         "five",
         "six",
         "seven",
         "eight",
         "nine",
         "ten",
         "eleven",
         "twelve",
         "thirteen",
         "fourteen",
         "fifteen",
         "sixteen"
        ]
       },
       "opacity": {
        "type": null,
        "values": null
       },
       "rotation": {
        "type": null,
        "values": null
       },
       "scales": {
        "x": "IPY_MODEL_0f4b8dc4fafc452fac2adb434c66e833",
        "y": "IPY_MODEL_ec1c555926354c99812d7e606161686a"
       },
       "scales_metadata": {
        "color": {
         "dimension": "color"
        },
        "opacity": {
         "dimension": "opacity"
        },
        "rotation": {
         "dimension": "rotation"
        },
        "size": {
         "dimension": "size"
        },
        "skew": {
         "dimension": "skew"
        },
        "x": {
         "dimension": "x",
         "orientation": "horizontal"
        },
        "y": {
         "dimension": "y",
         "orientation": "vertical"
        }
       },
       "selected": [],
       "size": {
        "type": null,
        "values": null
       },
       "skew": {
        "type": null,
        "values": null
       },
       "stroke": "black",
       "tooltip": "IPY_MODEL_45c9563536674b36a6b840e3931aba2e",
       "x": {
        "type": "float",
        "values": [
         0.771320643266746,
         0.6336482349262754,
         0.4985070123025904,
         0.19806286475962398,
         0.16911083656253545,
         0.6853598183677972,
         0.003948266327914451,
         0.8126209616521135,
         0.7217553174317995,
         0.9177741225129434,
         0.5425443680112613,
         0.3733407600514692,
         0.4418331744229961,
         0.6177669784693172,
         0.6503971819314672,
         0.8052231968327465
        ]
       },
       "y": {
        "type": "float",
        "values": [
         0.0207519493594015,
         0.7488038825386119,
         0.22479664553084766,
         0.7605307121989587,
         0.08833981417401027,
         0.9533933461949365,
         0.5121922633857766,
         0.6125260668293881,
         0.29187606817063316,
         0.7145757833976906,
         0.14217004760152696,
         0.6741336150663453,
         0.4340139933332937,
         0.5131382425543909,
         0.6010389534045444,
         0.5216471523936341
        ]
       }
      }
     },
     "49fe35a4d7f849eb9a3cf221b333438e": {
      "model_module": "bqplot",
      "model_module_version": "^0.4.5",
      "model_name": "AxisModel",
      "state": {
       "orientation": "vertical",
       "scale": "IPY_MODEL_066e227bde634b629e71fcd158613328",
       "side": "left",
       "tick_values": {
        "type": null,
        "values": null
       }
      }
     },
     "4a5eb3e849864dab879b0ac7992e0f43": {
      "model_module": "bqplot",
      "model_module_version": "^0.4.5",
      "model_name": "AxisModel",
      "state": {
       "orientation": "vertical",
       "scale": "IPY_MODEL_15a218d8b0aa49b9a2df421b88266eb2",
       "side": "left",
       "tick_values": {
        "type": null,
        "values": null
       }
      }
     },
     "4b4c1f041b9449df8e684454906187f9": {
      "model_module": "bqplot",
      "model_module_version": "^0.4.5",
      "model_name": "LinearScaleModel",
      "state": {
       "stabilized": false
      }
     },
     "4cc999cfc6b34ca18797ca228e81e353": {
      "model_module": "bqplot",
      "model_module_version": "^0.4.5",
      "model_name": "LinearScaleModel",
      "state": {
       "stabilized": false
      }
     },
     "4ef1878a3ab640b48632ee25804a9c23": {
      "model_module": "bqplot",
      "model_module_version": "^0.4.5",
      "model_name": "AxisModel",
      "state": {
       "scale": "IPY_MODEL_ac34af4bb7694925b8581307d1426516",
       "side": "bottom",
       "tick_values": {
        "type": null,
        "values": null
       }
      }
     },
     "5015ebf549d04081aa026d0fb502d8d7": {
      "model_module": "bqplot",
      "model_module_version": "^0.4.5",
      "model_name": "AxisModel",
      "state": {
       "scale": "IPY_MODEL_120b638fa37748b2b5d1c7c3aa3486b0",
       "side": "bottom",
       "tick_values": {
        "type": null,
        "values": null
       }
      }
     },
     "50b19f6a92c249bfa8aae4d676630ede": {
      "model_module": "bqplot",
      "model_module_version": "^0.4.5",
      "model_name": "AxisModel",
      "state": {
       "orientation": "vertical",
       "scale": "IPY_MODEL_6ae3eba53a7048baac15e02d89729e05",
       "side": "left",
       "tick_values": {
        "type": null,
        "values": null
       }
      }
     },
     "5125d1db07cc46f9a4d2e522466ca070": {
      "model_module": "bqplot",
      "model_module_version": "^0.4.5",
      "model_name": "AxisModel",
      "state": {
       "orientation": "vertical",
       "scale": "IPY_MODEL_96e611642af245c78917f9ac3bd7d572",
       "side": "left",
       "tick_values": {
        "type": null,
        "values": null
       }
      }
     },
     "51de33ca839f49b082630a5e30c4d39a": {
      "model_module": "bqplot",
      "model_module_version": "^0.4.5",
      "model_name": "AxisModel",
      "state": {
       "scale": "IPY_MODEL_be74fea230dd45a5bb843286beea1180",
       "side": "bottom",
       "tick_values": {
        "type": null,
        "values": null
       }
      }
     },
     "5269850544df490d8aa350abec909e45": {
      "model_module": "@jupyter-widgets/base",
      "model_module_version": "1.1.0",
      "model_name": "LayoutModel",
      "state": {
       "min_width": "125px"
      }
     },
     "532c712f141946e8b31894121611d06f": {
      "model_module": "bqplot",
      "model_module_version": "^0.4.5",
      "model_name": "FigureModel",
      "state": {
       "_dom_classes": [],
       "animation_duration": 1000,
       "axes": [
        "IPY_MODEL_821222651fc44b98b337093be43f87be",
        "IPY_MODEL_4a5eb3e849864dab879b0ac7992e0f43"
       ],
       "layout": "IPY_MODEL_2509767d2e3f4827a6747b1b9173eb02",
       "marks": [
        "IPY_MODEL_adf230954f9b4748a63b349f805bfab5",
        "IPY_MODEL_594217db095a4d98841c8389d3eb1e75"
       ],
       "scale_x": "IPY_MODEL_b61a51452e184eaa93e0d00b535a5b8e",
       "scale_y": "IPY_MODEL_1b4cb703eb704a98a1c461dfccbda7df"
      }
     },
     "533e29cb324142df99f33a9f2874599e": {
      "model_module": "@jupyter-widgets/base",
      "model_module_version": "1.1.0",
      "model_name": "LayoutModel",
      "state": {
       "min_width": "125px"
      }
     },
     "5629909db33e49f2b877beb5f6439280": {
      "model_module": "@jupyter-widgets/base",
      "model_module_version": "1.1.0",
      "model_name": "LayoutModel",
      "state": {
       "min_width": "125px"
      }
     },
     "56f4bd2e04ec404d8b198ca6595bb009": {
      "model_module": "bqplot",
      "model_module_version": "^0.4.5",
      "model_name": "ScatterModel",
      "state": {
       "color": {
        "type": null,
        "values": null
       },
       "colors": [
        "steelblue"
       ],
       "display_legend": false,
       "names": {
        "type": "<U8",
        "values": [
         "one",
         "two",
         "three",
         "four",
         "five",
         "six",
         "seven",
         "eight",
         "nine",
         "ten",
         "eleven",
         "twelve",
         "thirteen",
         "fourteen",
         "fifteen",
         "sixteen"
        ]
       },
       "opacity": {
        "type": null,
        "values": null
       },
       "rotation": {
        "type": null,
        "values": null
       },
       "scales": {
        "x": "IPY_MODEL_be74fea230dd45a5bb843286beea1180",
        "y": "IPY_MODEL_96e611642af245c78917f9ac3bd7d572"
       },
       "scales_metadata": {
        "color": {
         "dimension": "color"
        },
        "opacity": {
         "dimension": "opacity"
        },
        "rotation": {
         "dimension": "rotation"
        },
        "size": {
         "dimension": "size"
        },
        "skew": {
         "dimension": "skew"
        },
        "x": {
         "dimension": "x",
         "orientation": "horizontal"
        },
        "y": {
         "dimension": "y",
         "orientation": "vertical"
        }
       },
       "selected": [],
       "size": {
        "type": null,
        "values": null
       },
       "skew": {
        "type": null,
        "values": null
       },
       "tooltip": "IPY_MODEL_45c9563536674b36a6b840e3931aba2e",
       "x": {
        "type": "float",
        "values": [
         0.771320643266746,
         0.6336482349262754,
         0.4985070123025904,
         0.19806286475962398,
         0.16911083656253545,
         0.6853598183677972,
         0.003948266327914451,
         0.8126209616521135,
         0.7217553174317995,
         0.9177741225129434,
         0.5425443680112613,
         0.3733407600514692,
         0.4418331744229961,
         0.6177669784693172,
         0.6503971819314672,
         0.8052231968327465
        ]
       },
       "y": {
        "type": "float",
        "values": [
         0.0207519493594015,
         0.7488038825386119,
         0.22479664553084766,
         0.7605307121989587,
         0.08833981417401027,
         0.9533933461949365,
         0.5121922633857766,
         0.6125260668293881,
         0.29187606817063316,
         0.7145757833976906,
         0.14217004760152696,
         0.6741336150663453,
         0.4340139933332937,
         0.5131382425543909,
         0.6010389534045444,
         0.5216471523936341
        ]
       }
      }
     },
     "575e34d915134647a4ac6834911ebab0": {
      "model_module": "bqplot",
      "model_module_version": "^0.4.5",
      "model_name": "LinearScaleModel",
      "state": {
       "allow_padding": false,
       "max": 1,
       "min": 0,
       "stabilized": false
      }
     },
     "594217db095a4d98841c8389d3eb1e75": {
      "model_module": "bqplot",
      "model_module_version": "^0.4.5",
      "model_name": "ScatterModel",
      "state": {
       "color": {
        "type": null,
        "values": null
       },
       "colors": [
        "steelblue"
       ],
       "display_legend": false,
       "names": {
        "type": "<U8",
        "values": [
         "one",
         "two",
         "three",
         "four",
         "five",
         "six",
         "seven",
         "eight",
         "nine",
         "ten",
         "eleven",
         "twelve",
         "thirteen",
         "fourteen",
         "fifteen",
         "sixteen"
        ]
       },
       "opacity": {
        "type": null,
        "values": null
       },
       "rotation": {
        "type": null,
        "values": null
       },
       "scales": {
        "x": "IPY_MODEL_f2b794af0ba14007ab9e88eaab93aa60",
        "y": "IPY_MODEL_15a218d8b0aa49b9a2df421b88266eb2"
       },
       "scales_metadata": {
        "color": {
         "dimension": "color"
        },
        "opacity": {
         "dimension": "opacity"
        },
        "rotation": {
         "dimension": "rotation"
        },
        "size": {
         "dimension": "size"
        },
        "skew": {
         "dimension": "skew"
        },
        "x": {
         "dimension": "x",
         "orientation": "horizontal"
        },
        "y": {
         "dimension": "y",
         "orientation": "vertical"
        }
       },
       "selected": [],
       "size": {
        "type": null,
        "values": null
       },
       "skew": {
        "type": null,
        "values": null
       },
       "stroke": "black",
       "tooltip": "IPY_MODEL_45c9563536674b36a6b840e3931aba2e",
       "x": {
        "type": "float",
        "values": [
         0.771320643266746,
         0.6336482349262754,
         0.4985070123025904,
         0.19806286475962398,
         0.16911083656253545,
         0.6853598183677972,
         0.003948266327914451,
         0.8126209616521135,
         0.7217553174317995,
         0.9177741225129434,
         0.5425443680112613,
         0.3733407600514692,
         0.4418331744229961,
         0.6177669784693172,
         0.6503971819314672,
         0.8052231968327465
        ]
       },
       "y": {
        "type": "float",
        "values": [
         0.0207519493594015,
         0.7488038825386119,
         0.22479664553084766,
         0.7605307121989587,
         0.08833981417401027,
         0.9533933461949365,
         0.5121922633857766,
         0.6125260668293881,
         0.29187606817063316,
         0.7145757833976906,
         0.14217004760152696,
         0.6741336150663453,
         0.4340139933332937,
         0.5131382425543909,
         0.6010389534045444,
         0.5216471523936341
        ]
       }
      }
     },
     "608a5ba87ddf4e2dad0eda7c61d2cd0c": {
      "model_module": "bqplot",
      "model_module_version": "^0.4.5",
      "model_name": "LinearScaleModel",
      "state": {
       "allow_padding": false,
       "max": 1,
       "min": 0,
       "stabilized": false
      }
     },
     "6226c65431734b25aee842856cf81bb2": {
      "model_module": "bqplot",
      "model_module_version": "^0.4.5",
      "model_name": "LinearScaleModel",
      "state": {
       "allow_padding": false,
       "max": 1,
       "min": 0,
       "stabilized": false
      }
     },
     "64b86019b5ab4c41bdd62a524ae005db": {
      "model_module": "@jupyter-widgets/base",
      "model_module_version": "1.1.0",
      "model_name": "LayoutModel",
      "state": {
       "min_width": "125px"
      }
     },
     "65a013b7d08446d58704f454396e5d30": {
      "model_module": "bqplot",
      "model_module_version": "^0.4.5",
      "model_name": "AxisModel",
      "state": {
       "orientation": "vertical",
       "scale": "IPY_MODEL_ec1c555926354c99812d7e606161686a",
       "side": "left",
       "tick_values": {
        "type": null,
        "values": null
       }
      }
     },
     "6818edaf4d7e4f6396256d2cd8db88a8": {
      "model_module": "bqplot",
      "model_module_version": "^0.4.5",
      "model_name": "LinearScaleModel",
      "state": {
       "stabilized": false
      }
     },
     "682468be53554b81887382b4e037fc75": {
      "model_module": "bqplot",
      "model_module_version": "^0.4.5",
      "model_name": "LinearScaleModel",
      "state": {
       "allow_padding": false,
       "max": 1,
       "min": 0,
       "stabilized": false
      }
     },
     "6a909cffac684312b600e6913160a876": {
      "model_module": "bqplot",
      "model_module_version": "^0.4.5",
      "model_name": "LinesModel",
      "state": {
       "color": {
        "type": null,
        "values": null
       },
       "display_legend": false,
       "fill_colors": [],
       "labels": [
        "C1",
        "C2",
        "C3",
        "C4",
        "C5",
        "C6",
        "C7",
        "C8",
        "C9",
        "C10"
       ],
       "scales": {
        "color": "IPY_MODEL_00965a340775457c8ee977256be9acd5",
        "x": "IPY_MODEL_0927337f8b97496cafc88d2bbcac050e",
        "y": "IPY_MODEL_24785e5c26b04a0399f7837f4829712f"
       },
       "selected": [],
       "x": {
        "type": "date",
        "values": [
         "2007-06-01T00:00:00.000000",
         "2007-06-02T00:00:00.000000",
         "2007-06-03T00:00:00.000000",
         "2007-06-04T00:00:00.000000",
         "2007-06-05T00:00:00.000000",
         "2007-06-06T00:00:00.000000",
         "2007-06-07T00:00:00.000000",
         "2007-06-08T00:00:00.000000",
         "2007-06-09T00:00:00.000000",
         "2007-06-10T00:00:00.000000",
         "2007-06-11T00:00:00.000000",
         "2007-06-12T00:00:00.000000",
         "2007-06-13T00:00:00.000000",
         "2007-06-14T00:00:00.000000",
         "2007-06-15T00:00:00.000000",
         "2007-06-16T00:00:00.000000",
         "2007-06-17T00:00:00.000000",
         "2007-06-18T00:00:00.000000",
         "2007-06-19T00:00:00.000000",
         "2007-06-20T00:00:00.000000",
         "2007-06-21T00:00:00.000000",
         "2007-06-22T00:00:00.000000",
         "2007-06-23T00:00:00.000000",
         "2007-06-24T00:00:00.000000",
         "2007-06-25T00:00:00.000000",
         "2007-06-26T00:00:00.000000",
         "2007-06-27T00:00:00.000000",
         "2007-06-28T00:00:00.000000",
         "2007-06-29T00:00:00.000000",
         "2007-06-30T00:00:00.000000",
         "2007-07-01T00:00:00.000000",
         "2007-07-02T00:00:00.000000",
         "2007-07-03T00:00:00.000000",
         "2007-07-04T00:00:00.000000",
         "2007-07-05T00:00:00.000000",
         "2007-07-06T00:00:00.000000",
         "2007-07-07T00:00:00.000000",
         "2007-07-08T00:00:00.000000",
         "2007-07-09T00:00:00.000000",
         "2007-07-10T00:00:00.000000",
         "2007-07-11T00:00:00.000000",
         "2007-07-12T00:00:00.000000",
         "2007-07-13T00:00:00.000000",
         "2007-07-14T00:00:00.000000",
         "2007-07-15T00:00:00.000000",
         "2007-07-16T00:00:00.000000",
         "2007-07-17T00:00:00.000000",
         "2007-07-18T00:00:00.000000",
         "2007-07-19T00:00:00.000000",
         "2007-07-20T00:00:00.000000",
         "2007-07-21T00:00:00.000000",
         "2007-07-22T00:00:00.000000",
         "2007-07-23T00:00:00.000000",
         "2007-07-24T00:00:00.000000",
         "2007-07-25T00:00:00.000000",
         "2007-07-26T00:00:00.000000",
         "2007-07-27T00:00:00.000000",
         "2007-07-28T00:00:00.000000",
         "2007-07-29T00:00:00.000000",
         "2007-07-30T00:00:00.000000",
         "2007-07-31T00:00:00.000000",
         "2007-08-01T00:00:00.000000",
         "2007-08-02T00:00:00.000000",
         "2007-08-03T00:00:00.000000",
         "2007-08-04T00:00:00.000000",
         "2007-08-05T00:00:00.000000",
         "2007-08-06T00:00:00.000000",
         "2007-08-07T00:00:00.000000",
         "2007-08-08T00:00:00.000000",
         "2007-08-09T00:00:00.000000",
         "2007-08-10T00:00:00.000000",
         "2007-08-11T00:00:00.000000",
         "2007-08-12T00:00:00.000000",
         "2007-08-13T00:00:00.000000",
         "2007-08-14T00:00:00.000000",
         "2007-08-15T00:00:00.000000",
         "2007-08-16T00:00:00.000000",
         "2007-08-17T00:00:00.000000",
         "2007-08-18T00:00:00.000000",
         "2007-08-19T00:00:00.000000",
         "2007-08-20T00:00:00.000000",
         "2007-08-21T00:00:00.000000",
         "2007-08-22T00:00:00.000000",
         "2007-08-23T00:00:00.000000",
         "2007-08-24T00:00:00.000000",
         "2007-08-25T00:00:00.000000",
         "2007-08-26T00:00:00.000000",
         "2007-08-27T00:00:00.000000",
         "2007-08-28T00:00:00.000000",
         "2007-08-29T00:00:00.000000",
         "2007-08-30T00:00:00.000000",
         "2007-08-31T00:00:00.000000",
         "2007-09-01T00:00:00.000000",
         "2007-09-02T00:00:00.000000",
         "2007-09-03T00:00:00.000000",
         "2007-09-04T00:00:00.000000",
         "2007-09-05T00:00:00.000000",
         "2007-09-06T00:00:00.000000",
         "2007-09-07T00:00:00.000000",
         "2007-09-08T00:00:00.000000",
         "2007-09-09T00:00:00.000000",
         "2007-09-10T00:00:00.000000",
         "2007-09-11T00:00:00.000000",
         "2007-09-12T00:00:00.000000",
         "2007-09-13T00:00:00.000000",
         "2007-09-14T00:00:00.000000",
         "2007-09-15T00:00:00.000000",
         "2007-09-16T00:00:00.000000",
         "2007-09-17T00:00:00.000000",
         "2007-09-18T00:00:00.000000",
         "2007-09-19T00:00:00.000000",
         "2007-09-20T00:00:00.000000",
         "2007-09-21T00:00:00.000000",
         "2007-09-22T00:00:00.000000",
         "2007-09-23T00:00:00.000000",
         "2007-09-24T00:00:00.000000",
         "2007-09-25T00:00:00.000000",
         "2007-09-26T00:00:00.000000",
         "2007-09-27T00:00:00.000000",
         "2007-09-28T00:00:00.000000",
         "2007-09-29T00:00:00.000000",
         "2007-09-30T00:00:00.000000",
         "2007-10-01T00:00:00.000000",
         "2007-10-02T00:00:00.000000",
         "2007-10-03T00:00:00.000000",
         "2007-10-04T00:00:00.000000",
         "2007-10-05T00:00:00.000000",
         "2007-10-06T00:00:00.000000",
         "2007-10-07T00:00:00.000000",
         "2007-10-08T00:00:00.000000",
         "2007-10-09T00:00:00.000000",
         "2007-10-10T00:00:00.000000",
         "2007-10-11T00:00:00.000000",
         "2007-10-12T00:00:00.000000",
         "2007-10-13T00:00:00.000000",
         "2007-10-14T00:00:00.000000",
         "2007-10-15T00:00:00.000000",
         "2007-10-16T00:00:00.000000",
         "2007-10-17T00:00:00.000000",
         "2007-10-18T00:00:00.000000",
         "2007-10-19T00:00:00.000000",
         "2007-10-20T00:00:00.000000",
         "2007-10-21T00:00:00.000000",
         "2007-10-22T00:00:00.000000",
         "2007-10-23T00:00:00.000000",
         "2007-10-24T00:00:00.000000",
         "2007-10-25T00:00:00.000000",
         "2007-10-26T00:00:00.000000",
         "2007-10-27T00:00:00.000000",
         "2007-10-28T00:00:00.000000"
        ]
       },
       "y": {
        "type": "float",
        "values": [
         [
          98.85334928070864,
          98.78667502143084,
          98.57444975958342,
          98.62824392962595,
          99.46429825527483,
          99.96796610673914,
          98.51547379251797,
          97.58537003251678,
          97.13969464440405,
          98.31226342279186,
          98.92346817577032,
          101.14393127953178,
          102.71504888389275,
          102.95666232202413,
          101.27443768504577,
          100.22273394055621,
          101.52124800098943,
          99.89533096758899,
          99.42440348597353,
          99.98804613153716,
          100.09761040740304,
          100.07103711817534,
          99.0583701986785,
          99.37734739920367,
          97.72800777917897,
          99.53934140221124,
          99.2245317361285,
          100.10271234240018,
          100.10064875120963,
          100.01364630575918,
          100.09153788241878,
          101.72521983377577,
          100.11658842065509,
          98.56502203735835,
          99.63256797076792,
          100.0302250756103,
          99.13292281903358,
          98.5737435747592,
          95.3840704116003,
          95.61881645239987,
          96.55866869735418,
          97.00984312508398,
          96.93464384874721,
          96.20153334625408,
          95.35520188789442,
          96.22180053807432,
          97.25104590335808,
          97.7542176590942,
          96.94025713152627,
          96.66229314245366,
          98.58618298435286,
          97.72235476223945,
          96.07615014307947,
          94.88189260225816,
          97.05060445936779,
          96.55378952700187,
          96.3432036140927,
          97.12567271923142,
          98.64750137731242,
          97.71654465157489,
          96.88845198671352,
          94.70970067936071,
          95.22277183452486,
          95.02598411366858,
          93.34600490464145,
          92.8378413602878,
          91.3397585342556,
          91.84477270650434,
          90.61206395717716,
          90.23977027150823,
          90.10959784049139,
          89.38268029097519,
          88.3826832435845,
          88.93167199493821,
          88.79771924076927,
          90.22095972027014,
          90.98746406134134,
          91.14201214215615,
          90.03057723791424,
          89.66565292804961,
          90.76434712098235,
          90.65050424303546,
          90.0892036155962,
          89.1456971207756,
          88.63227604593695,
          88.97259113703744,
          89.22777287223687,
          89.84012184454026,
          89.93921151600206,
          88.88627560106468,
          89.5837242039893,
          88.44913201128212,
          88.19930546606378,
          89.88670594863112,
          89.54844253420266,
          89.66129652235435,
          90.7453587956164,
          90.28340129923104,
          89.24225202765032,
          88.66736146868196,
          89.67962535687883,
          87.81604493868906,
          86.85648875064615,
          88.34645057250697,
          88.67254560927086,
          88.78243910667328,
          89.64963394247926,
          89.52101832538665,
          89.11949052614311,
          90.6282176728024,
          92.31875847631628,
          91.43490353853896,
          92.21930032876186,
          90.51152768067158,
          90.91123798855556,
          90.74500038039305,
          91.21996492636752,
          89.79806607418959,
          89.90725289981253,
          89.4416590388201,
          88.83634500465509,
          89.33373497488888,
          89.03605958301392,
          87.56609117529992,
          89.32540398391649,
          87.74441019570403,
          86.91685458966303,
          90.25568992521637,
          89.71078639188137,
          90.80285054447184,
          89.64020102664767,
          91.31986865928609,
          93.17657920496627,
          92.64716999270473,
          92.5968875702325,
          90.46506298527761,
          89.75801014665706,
          90.1883834337633,
          89.29979961685333,
          87.46566677572184,
          88.25162642634612,
          87.8534515406011,
          86.8760807112953,
          86.92646269081655,
          86.5147357765059,
          87.59657930923467,
          86.85660658304646,
          88.22631235429806,
          89.50908025005785,
          89.77959247091121
         ],
         [
          100.39580258842832,
          99.20860682609036,
          99.02222360379547,
          96.59551744887517,
          96.52424051400301,
          95.4484091045443,
          96.65277357135102,
          94.30232328621086,
          93.93085018092215,
          93.88833510789023,
          94.44190862541762,
          91.8908303040673,
          91.5685771974189,
          91.5244134769455,
          92.36274761476686,
          90.20244668500752,
          89.5006365816406,
          89.55676421426324,
          90.43610619010087,
          91.0648086224413,
          90.7113439663204,
          91.42112864373159,
          90.28722071348122,
          90.53679540894132,
          89.14751391977191,
          90.33456349783067,
          91.73109348431265,
          92.09197342966739,
          93.3538573822732,
          92.36930002939101,
          90.78404820889665,
          91.03945712091276,
          91.24394628852471,
          90.9934827268251,
          91.3596876234896,
          91.86350533116419,
          91.51761435438242,
          91.71637725878482,
          92.17300889771855,
          93.64250857940007,
          93.67861799897278,
          92.46305107241672,
          92.36518444741189,
          92.07086021673237,
          93.87281082848716,
          94.77559734383601,
          96.9823891768303,
          96.55958995501048,
          96.28791748472868,
          98.1094294564528,
          97.85461883014332,
          96.802144835861,
          96.78041367099843,
          96.4455182686883,
          95.88735421833091,
          96.44905293386724,
          94.58317520692002,
          94.58701087184471,
          93.9576537836889,
          93.23415707241237,
          94.09630842636065,
          94.9864004162336,
          95.14732554324556,
          96.16166787419085,
          94.93448378544242,
          93.70723425449746,
          92.72505491738654,
          91.97718650807309,
          92.22817473828997,
          91.88569007644017,
          91.38070432851733,
          92.70202260901485,
          93.44109778015971,
          94.11558691794245,
          93.60794620865553,
          92.91568562599754,
          94.01952664446006,
          94.4556517248234,
          94.32543936785672,
          95.68788742695892,
          95.56393566418443,
          94.2966181295146,
          94.13274493255275,
          93.6261608897528,
          94.05976874204852,
          93.81129362166585,
          94.75531024467612,
          95.47987274901827,
          97.1136142599312,
          97.11927548469993,
          97.77826998156151,
          98.31581446233348,
          98.92528736461324,
          97.7145399760997,
          98.03651019230601,
          97.68335580633884,
          97.92600218719481,
          98.32407880939634,
          99.6179727242188,
          98.9704846433963,
          99.2362096889971,
          99.55550505420213,
          99.04487290102085,
          99.08496233397398,
          99.77383513220924,
          99.65861369294274,
          99.848940641936,
          100.46231857401014,
          101.4640120355305,
          102.93191209092595,
          102.88558479169765,
          102.85745667347759,
          104.50490523385167,
          103.73344505473692,
          104.03201592154129,
          104.70870979807134,
          103.95309172555406,
          103.65492852473785,
          103.64978459484291,
          101.93550846320562,
          102.33904211481918,
          103.72802504764952,
          102.42245250150971,
          100.39224578403318,
          100.92642069745621,
          99.31134241517258,
          98.79037202809567,
          98.62203421386853,
          98.62132746343462,
          97.10491038141672,
          97.8549484504649,
          98.41194441364973,
          99.35881577567137,
          98.85846548326982,
          98.9347842678436,
          98.71588243741834,
          99.89664638996261,
          99.56091811976209,
          98.82172592937107,
          97.99393610410365,
          97.5030478127222,
          98.25344724970742,
          97.94624415904194,
          99.17487065076209,
          99.06568043977072,
          98.1419744264845,
          98.51675234833299,
          99.50686854308674,
          101.51473110737594,
          101.67710587151325
         ],
         [
          100.63752622346118,
          102.10127665929059,
          102.68920288551557,
          102.99649391903276,
          102.03632167675853,
          104.1360271768235,
          104.2105819989608,
          103.88978055367002,
          103.90899861218573,
          103.43722931428519,
          103.11065536911131,
          103.01948912891552,
          101.81876387830383,
          101.11558931107334,
          100.34661521046624,
          100.10807787046345,
          100.03377433878977,
          100.34615071913156,
          100.09387491555896,
          103.63971077411964,
          104.19071476688137,
          103.65098829131901,
          104.92534194338019,
          105.32926647537032,
          105.6739753577518,
          105.02731582497847,
          104.77714563736345,
          103.94852284945597,
          104.09555313456761,
          101.86507783800114,
          102.23519915164836,
          103.23909534584027,
          103.11692352033145,
          102.37972743218927,
          102.64085017350466,
          103.80147478955351,
          104.82369764277456,
          103.93743968447212,
          104.02409734608044,
          104.9263384967535,
          103.73775573092911,
          102.59855494840879,
          101.8389406956207,
          101.75328484553191,
          101.86407923367253,
          101.68275273261382,
          103.18659831620577,
          101.91638807721395,
          102.07192627905982,
          100.79609858263342,
          99.13128699308074,
          99.3115369763539,
          99.74406022747071,
          99.9446983948878,
          97.76661551066555,
          97.03443980633546,
          95.7223868743077,
          96.34952140078035,
          95.22120739835489,
          93.72312701521483,
          94.69484063671368,
          94.00704634814855,
          94.54778572925406,
          94.61294449615826,
          94.15687882298386,
          93.13592721816386,
          92.72454154172664,
          93.87971711713037,
          93.94046901904206,
          94.2094535432866,
          94.03385433480514,
          91.84136737926679,
          90.07678365489227,
          90.9999100101808,
          89.6261322014694,
          89.13787482548373,
          88.47891920731544,
          88.38659989977728,
          89.29818016319072,
          89.56911687458373,
          89.54779584049022,
          88.00026498616286,
          88.0170783136909,
          88.21319233510368,
          88.08433265947906,
          86.48447041261124,
          87.44626601020542,
          86.71769774960381,
          86.88463063888199,
          88.99003966223,
          91.11116847301602,
          90.71752647221683,
          90.88968300047073,
          89.73338814544945,
          89.23133622944044,
          88.33881648080771,
          89.95687222560129,
          90.94642177268088,
          91.36147357798464,
          91.4888747053307,
          92.67957650786165,
          93.29954490104697,
          92.24082291242786,
          91.96415158889779,
          91.17799333540394,
          90.96148223325385,
          90.69625310739313,
          89.01416451954677,
          89.1708267628812,
          88.45213766835879,
          88.69124476684833,
          90.1680799170209,
          90.96552347133732,
          89.61615500897592,
          91.03992251783299,
          91.28767940829599,
          92.12680403193322,
          92.61435171904476,
          93.57348878404038,
          93.02739204521362,
          92.21184639209778,
          92.39179982615624,
          92.32817738587428,
          91.92139128321071,
          92.4752101111529,
          90.50862310492273,
          89.7220934074732,
          89.90686689972051,
          90.56929540488493,
          91.80851216122318,
          89.25073719495282,
          89.19556292260881,
          89.85710312496306,
          90.39559719265088,
          90.09665132973362,
          89.93971911524623,
          87.81210658864111,
          89.56902883726347,
          89.97390144944431,
          88.66013575714949,
          87.12506715824131,
          87.54852988721497,
          88.79252579773882,
          89.12798858379102,
          88.65536503946309,
          87.49502849824,
          87.46829060332922,
          88.61304410467619,
          88.44767974687456,
          87.3683457260571
         ],
         [
          101.26327136367973,
          100.66550103206717,
          100.25849506774728,
          99.59889824647884,
          100.49899629708273,
          100.69075352852605,
          100.09959808983054,
          101.66195504916223,
          100.9604912865726,
          101.04002770334894,
          101.75985009923095,
          103.31412805138159,
          102.80859142854237,
          101.87319190669875,
          101.40125741741164,
          102.08636858334069,
          101.44111282827055,
          102.59641363430761,
          102.6771722012653,
          103.67185159995516,
          103.19840634530826,
          101.3729562928099,
          103.05770503098287,
          103.14084676746639,
          104.10020046274592,
          104.00793353111241,
          104.58141276761678,
          103.09020444845596,
          102.03425196129092,
          101.37753518133026,
          101.65805722409189,
          102.75720277010116,
          103.29883899332974,
          103.06422183166902,
          102.91494553935853,
          103.31848096102287,
          104.01620076939793,
          104.4502017657198,
          103.92252788623007,
          102.73126932860352,
          102.56287982988795,
          103.52840868469323,
          102.0367602196372,
          100.16498855993595,
          99.19294886548323,
          101.96530031604554,
          102.2472264227137,
          104.30845068136648,
          104.54126043361559,
          105.52793314622319,
          106.6277473109545,
          106.6791595764532,
          108.29012136094849,
          108.70939854013209,
          109.40989731092853,
          108.64257858284773,
          108.89530431316958,
          108.30957237471277,
          108.11922296139716,
          107.67098431502197,
          107.11580424661146,
          106.79105124776316,
          105.97168280586338,
          106.91397431979433,
          106.16044745599932,
          106.1482267237938,
          106.4945782029912,
          106.9245108633429,
          108.11913623596358,
          107.74405333765309,
          108.40226748306375,
          109.25933307058212,
          109.50431194456873,
          109.61070152375379,
          107.4822599797375,
          107.391431002785,
          107.99916238961356,
          108.20412740662542,
          109.56317673031046,
          110.49297234035892,
          111.054981229353,
          110.2623354381737,
          109.90319215722185,
          109.2093379307847,
          107.68976912847164,
          108.96668423396206,
          108.84250064480223,
          110.2473249917923,
          110.45474765959956,
          110.65635967824073,
          111.57943518160003,
          111.4900798648387,
          113.7790437170596,
          113.40249788721839,
          112.65352412103607,
          113.03510358436962,
          110.56005001130373,
          110.62998568696607,
          110.88958610922914,
          111.17824361141392,
          111.40312452294546,
          111.84268041347269,
          111.75768324660211,
          110.91433603506678,
          110.42607403045177,
          108.6481417456887,
          109.49874878802686,
          109.92019548118223,
          109.1601184041554,
          110.2409463666963,
          109.29082617726999,
          107.36223129525669,
          106.79790149815777,
          106.75021856140953,
          107.0726947906234,
          104.4735480399577,
          103.42838375373518,
          104.85725004801176,
          105.55521619818279,
          105.78051465169568,
          107.54129664727316,
          108.24979272089192,
          107.59636088050452,
          108.04299742148119,
          108.4382441456329,
          108.22132830541875,
          107.76248222099838,
          107.74079032844315,
          108.52068222862562,
          108.17996274830678,
          108.1403350856054,
          107.53316601960599,
          107.97193304310368,
          107.48701989897418,
          107.60168582450007,
          106.67091749082631,
          106.7515126699941,
          106.38322962896935,
          107.77174127711237,
          107.8179847655059,
          108.55937975224441,
          109.54424514176054,
          109.30801412908649,
          108.75257552025279,
          108.71561479439737,
          106.14721391424328,
          105.67787743117293,
          106.48582228337635,
          105.90574154676278,
          106.86789641167796
         ],
         [
          99.29923933031314,
          98.70477863771092,
          98.74098469461822,
          98.33030243823931,
          97.87010771369951,
          96.89509587697677,
          98.2887753048153,
          98.18916244681579,
          97.91619476177495,
          98.48308330837705,
          97.03023241446984,
          96.6107292007966,
          95.62898656075878,
          94.94669148443734,
          93.80060079765059,
          93.72850730932846,
          93.60207016800886,
          93.2986492400315,
          92.68446511609683,
          91.95990906653873,
          91.93974718523253,
          91.72479615440251,
          91.28570150525366,
          91.97724940935156,
          93.64376083378843,
          93.76965856920074,
          94.1615400981865,
          95.82391326264693,
          93.35662946354876,
          94.14403982050123,
          93.36329835530246,
          92.90048768284608,
          93.29184793646118,
          93.58338319459305,
          93.17486253084508,
          93.0285626138436,
          92.18604147829758,
          93.57919879650449,
          93.87457518122753,
          94.40910745313306,
          92.96075330470387,
          91.53818639555277,
          92.4060436119678,
          93.2776726969102,
          93.27754676456378,
          92.69524069462426,
          92.92221101531598,
          92.16608334767662,
          91.49990711484558,
          91.36333224140817,
          90.79756044472158,
          90.82200778330059,
          90.3972589654004,
          90.70315951181303,
          91.73306164161754,
          93.10342390780698,
          91.60293481036328,
          90.86313649066814,
          89.9220375194318,
          88.47493944208185,
          88.6442991199339,
          89.12803612604424,
          87.89913632379125,
          88.78180442255888,
          89.64418495241628,
          90.7857786012218,
          90.14124835204274,
          88.57566383227159,
          88.54087659014867,
          89.98564002148893,
          90.34423666494683,
          89.22880446107065,
          88.87255740364621,
          88.70591133774552,
          88.10768396584454,
          87.87396057427472,
          87.45046473818333,
          87.2902561393543,
          87.07445419107185,
          85.85742650841946,
          87.03369973646322,
          85.82747543819714,
          85.92414970001361,
          85.4476424378746,
          86.17358978815119,
          85.17763929089574,
          85.19830086859095,
          84.63733850600052,
          84.67877135726589,
          83.44687442436054,
          81.70901395640695,
          80.78833839101587,
          80.49352080664163,
          81.48671584014573,
          80.13008657455708,
          79.06557138012295,
          77.8381307493785,
          76.97805067915883,
          76.75542641275881,
          75.54513974104148,
          77.15564439528902,
          77.25972488911027,
          76.25848267282424,
          75.89528843641295,
          76.56719468348483,
          77.16546901956382,
          78.45209003666767,
          79.22688811984551,
          77.65658794023011,
          76.92348121460056,
          76.24352478144526,
          76.63349949954545,
          78.13173005779242,
          79.0840429485751,
          79.88896899311072,
          79.96908737670711,
          79.36578368583612,
          79.47348820994725,
          82.88898661310371,
          82.1406345200578,
          81.96733430906257,
          82.20878759606344,
          82.6125788931223,
          81.86338588796066,
          83.14399138328913,
          82.66678535727364,
          81.66572363208718,
          81.33883510161314,
          81.56806559320675,
          83.4256787091159,
          84.89255011498307,
          85.62646831432431,
          85.47386967572618,
          85.94905910524498,
          85.07789003062318,
          84.23867954703414,
          84.97021810981165,
          85.73987254593145,
          84.3666376532792,
          84.42520663065307,
          84.57080488040513,
          84.06129316410333,
          83.51936626704399,
          82.46563192864102,
          82.11271699582997,
          80.33288345334165,
          78.25751413139918,
          77.24748974328315,
          76.68421060211473,
          76.922351132943
         ],
         [
          100.41094905783058,
          100.08737667525486,
          97.67781351957211,
          99.38633364070108,
          101.07314143992711,
          101.8852882133257,
          102.33072799177762,
          101.17195773778367,
          101.21079525717587,
          101.28662934313284,
          101.92836171978536,
          103.61925433017136,
          104.82833414916647,
          103.40456675413729,
          102.61864140755846,
          102.41766342692313,
          101.46498311231731,
          103.06394838257253,
          103.60483627629439,
          104.08240439306074,
          103.58740975621467,
          105.19919394965959,
          105.72797023893384,
          106.97529478357824,
          107.30636161283412,
          107.36274552459513,
          107.43386728291979,
          107.79525945477293,
          107.11781955142591,
          106.43530477754452,
          105.20870576456655,
          105.31128074636264,
          104.04696573426034,
          105.13626451923618,
          106.06644123460005,
          105.98730985248268,
          106.43973962520953,
          105.86332231934782,
          106.06594129750536,
          105.7204953278045,
          106.83894222956594,
          106.89184875809373,
          106.7884578236374,
          105.11778826628937,
          105.64443904206455,
          106.3052155049691,
          108.27495213528233,
          107.41422195386029,
          107.30664644917216,
          107.15770998133598,
          106.11981969484005,
          106.41098063662919,
          107.37703672953387,
          108.29930958158363,
          108.62522239437322,
          109.13428049385104,
          109.98900609756899,
          109.66398952225418,
          109.37660346010027,
          106.86570059306881,
          107.20852702455444,
          107.64235457645103,
          107.24027264149704,
          106.66028703641774,
          106.94402558912192,
          107.72055771717825,
          107.8115470387544,
          108.34748487250086,
          109.1528940202856,
          107.90648179686275,
          109.50251775069535,
          111.18440853406346,
          110.97894853304238,
          110.87139321852518,
          112.68991521334281,
          112.74166933871818,
          111.62993132448739,
          109.71127079492591,
          108.65021607491386,
          108.32027010556567,
          109.21373611999343,
          108.56577218973744,
          107.944021571217,
          109.77987402480314,
          109.84053693254566,
          111.12274490684787,
          110.33666120316826,
          109.60927187586276,
          107.9066642546542,
          108.10358000438787,
          109.447261481672,
          109.20584193894354,
          108.62108386205252,
          109.74515231275413,
          109.28027746345076,
          110.083976097956,
          110.17583588859384,
          110.72149423253624,
          111.05291861611566,
          111.2567106581609,
          111.30368189503714,
          111.17197458952491,
          110.54112041737562,
          111.35377212099459,
          111.61420023366477,
          112.51819810628629,
          112.05702027088002,
          113.65999391234882,
          111.74021218639918,
          113.59133894679738,
          114.2710626484912,
          113.37105279540165,
          113.00648361853415,
          112.94131508763712,
          111.99328746669757,
          111.85804529415823,
          112.8186367720742,
          112.01669076466244,
          111.03391412707063,
          111.05928145706386,
          111.75215817683412,
          113.54374538617645,
          113.7699936372156,
          114.25639481312827,
          114.12139820751634,
          114.54521607261422,
          114.41897675048727,
          114.65822886407561,
          115.55197742739196,
          113.65749304055194,
          113.38791903798712,
          113.04569039542386,
          112.93178782432513,
          112.06799621565933,
          112.49058760395883,
          114.88871376871634,
          114.93013089045151,
          117.0848968672475,
          117.78095359393613,
          119.4215591429325,
          121.62490554638333,
          122.21658212699307,
          124.4315515851385,
          125.3744622693682,
          126.07991112695285,
          125.90378427766186,
          124.52411570971847,
          125.22449870851705,
          124.47199069915892,
          126.8955108699779
         ],
         [
          99.15899020162776,
          99.16709873682112,
          99.14565304185192,
          99.27854510430892,
          101.02204602997591,
          99.32573624759902,
          99.97982658009677,
          99.34247430900882,
          99.3523064193859,
          99.78041217828272,
          99.77140873969851,
          98.28350967537885,
          98.20495315372922,
          97.17782564233956,
          97.07098344988731,
          96.83024295738605,
          96.45123314125404,
          95.42527468014183,
          95.81633817737371,
          97.87421937401872,
          98.63205249246613,
          98.9286524646076,
          99.83260125356087,
          100.52916333961487,
          101.63628133375244,
          102.78524732510644,
          102.92996218623632,
          102.99329303049834,
          101.76727338815991,
          103.43480975982496,
          104.22728231843698,
          104.56163682070701,
          103.51883266543574,
          101.84219762963768,
          103.09121889728017,
          102.47750587325108,
          101.77516915478716,
          102.27874551837367,
          101.71341042684415,
          102.14397685909186,
          101.68396633111264,
          102.8906660201042,
          101.73240801956389,
          99.00880133566812,
          99.40955378891081,
          97.51516634073847,
          99.12913332317576,
          98.29556934799223,
          97.999741611982,
          96.93951138119508,
          97.4159555996379,
          95.93055617461252,
          97.02687860382648,
          98.62425403034868,
          100.05962408781838,
          100.31111387441321,
          99.67203010289239,
          100.82824029234817,
          100.35356322315607,
          100.62218813564478,
          101.73373780906401,
          103.03311035116987,
          102.90376955576721,
          101.7096559002454,
          100.65601402622207,
          100.62839933465675,
          101.2652764695742,
          101.71606935622336,
          101.25304144161166,
          99.62134500131455,
          96.73409666902215,
          97.97095076256534,
          97.83337367010394,
          97.91239001906247,
          98.96024708478976,
          99.13856458780712,
          99.56587383515354,
          99.98195965960426,
          99.82541412433807,
          97.50962242339948,
          95.77038945498819,
          93.60326638392638,
          94.80539150424934,
          96.04671030713574,
          95.68666804917926,
          94.62735875562187,
          94.72190991773029,
          93.68188176032872,
          92.06955492921352,
          91.71132541578385,
          93.35854618731959,
          92.7787950401931,
          92.8235702277416,
          93.18389815855322,
          92.5695973923388,
          92.01743310081372,
          91.93191730488618,
          91.76468857833805,
          91.36288878739954,
          92.85855613830877,
          93.54199613952302,
          94.44148939382377,
          95.91223050031746,
          96.23830561987077,
          97.43645637539804,
          97.2535051295397,
          98.20131648777432,
          98.20175948029781,
          97.65524196243706,
          96.32073566690904,
          94.89899579856754,
          95.19103866764937,
          94.50392828805911,
          95.5757957001938,
          94.47501128214518,
          94.76631903662968,
          94.70516712720249,
          94.57293306490467,
          92.8778643105425,
          91.83254442854167,
          91.49453397340952,
          90.09783655393187,
          89.40191929115812,
          92.13918954205012,
          92.45654089024148,
          92.58594467866048,
          91.78661373816396,
          92.18253827864156,
          92.95132875160255,
          92.06390879898474,
          93.31477970611012,
          93.553196439409,
          92.86901840769691,
          90.67834992059119,
          92.40869452302195,
          92.9380414784926,
          91.35346045268594,
          91.83412306412657,
          92.23162594154239,
          93.90052786361107,
          94.25379243771899,
          92.26881678895376,
          91.60789214620586,
          91.41339433855975,
          89.89940338795448,
          88.89315736802654,
          88.54181597920032,
          89.36083835531122,
          88.64437896956937,
          89.52071469160148
         ],
         [
          99.17073015763066,
          96.83826118153468,
          97.38001695000824,
          99.30877721356914,
          99.27079533071628,
          98.67801138191051,
          101.32049590429054,
          101.49987931851773,
          101.5777874611308,
          103.19491170004869,
          102.96828634457059,
          103.33609809478189,
          103.00719379745958,
          102.88272799564112,
          101.27573352110672,
          103.27844577742462,
          101.67556462472746,
          102.17762397372704,
          101.91098328050536,
          101.71043869528823,
          101.13147995670172,
          100.94795212583237,
          101.98483107963612,
          103.91908283032431,
          102.27119710506794,
          100.91237620949715,
          102.17195882172643,
          100.82854464496513,
          99.84096162479534,
          101.52070324327522,
          101.79052154820256,
          101.76225894058022,
          102.03023653613413,
          102.04310221306812,
          100.87548002388623,
          100.35130119089412,
          100.37529496813005,
          100.41931330033438,
          99.44394207961489,
          99.72232474535181,
          99.74007708433453,
          99.8012258824838,
          101.65070298048519,
          99.74692124015117,
          98.81032717888232,
          99.46497819196193,
          99.99346187806898,
          97.00400282813034,
          97.37152966941257,
          97.68403081370231,
          98.6672480303475,
          97.36183964868286,
          98.06331642081014,
          97.47000071302571,
          97.81950055223965,
          96.88923681128092,
          95.84986158594725,
          95.75961748389464,
          94.30180360694013,
          92.53428644829995,
          92.87250613426055,
          91.45749946132135,
          91.82538822554737,
          91.56301144456239,
          92.73636692443401,
          90.97236437444943,
          91.35570982000357,
          92.0095394855897,
          92.52759164396757,
          93.52668668809117,
          93.76224370622218,
          94.28003628940316,
          93.52240823485798,
          93.8970310957825,
          94.2342960529347,
          93.47187273353113,
          92.67528059737694,
          90.86317481488156,
          91.30186815647241,
          92.16268683910263,
          93.51135223377773,
          94.93161882270961,
          96.58574845517086,
          96.64814284639776,
          96.978655292921,
          95.74039099912602,
          96.30692756455962,
          95.80812252399568,
          95.90651808691644,
          97.30706726491557,
          97.41357113131397,
          98.95930371950153,
          98.84518039135031,
          98.36742386258857,
          97.7143842338186,
          96.64546142600011,
          96.91208130354165,
          96.40285507489695,
          96.7956237461379,
          97.07344369280644,
          95.54588444770212,
          98.34658940460446,
          98.89581351583473,
          99.91151132347949,
          100.33244797636976,
          99.06533546839314,
          99.87987170302557,
          99.0476785046756,
          98.2687740492807,
          98.9392259675614,
          97.79793329334335,
          96.78283101067434,
          96.5524717382658,
          95.19782654300273,
          96.59824739218003,
          95.69394860742928,
          96.94658375583002,
          96.82495635262609,
          96.86102181635616,
          98.22117618652257,
          98.10705318526367,
          99.63137784753717,
          101.34439548733023,
          101.67477230428489,
          102.10130069148784,
          100.65517770552347,
          99.99010007967738,
          99.12170347328782,
          99.97524087034984,
          101.53280919592002,
          102.58631839520845,
          100.97189531882177,
          102.09633197909469,
          101.11961753975493,
          99.72039116005563,
          99.48543249869628,
          100.89822166560747,
          101.25488048726159,
          102.28151033095261,
          101.59134477227082,
          99.77666588038605,
          98.30935252870756,
          98.2590210680819,
          99.73732385094547,
          99.32556695979152,
          98.06657356997833,
          96.79863556358224,
          95.36670591917986,
          95.22493856767443,
          95.2913428662889
         ],
         [
          99.88265100935467,
          101.38720970670255,
          102.0588323795236,
          102.15885579486876,
          102.69069302871408,
          101.35836889778692,
          102.67986297154219,
          104.32234640097177,
          102.8726258056681,
          103.50913774083864,
          102.76540452617695,
          103.39790834069557,
          104.59931623801556,
          101.35796084995816,
          101.239697805753,
          102.01957657349868,
          102.86133948006741,
          103.14665385478635,
          103.83358871930548,
          103.71731918401085,
          106.51220012848738,
          105.70645902848912,
          107.44526808527536,
          108.05982275914758,
          108.76508957742325,
          108.30124693994165,
          106.68494545522358,
          107.07471137836194,
          105.85099146347363,
          105.36644029061333,
          105.9523690180819,
          106.02137466760644,
          105.46902131560493,
          105.45777027595834,
          104.54741713751311,
          105.48030429753409,
          105.7868399025989,
          105.81659732950105,
          106.99583144572082,
          106.82939235852113,
          107.68871420638663,
          106.94424180443374,
          107.18608815309717,
          108.6243778001044,
          110.11058575978976,
          110.98691674184484,
          111.27960786139835,
          111.54565256147873,
          112.41072652016173,
          113.39299020401398,
          114.44104559016306,
          113.37018776854045,
          112.6129223382989,
          111.08125569344678,
          110.56458687717436,
          111.50602315079863,
          112.81992448306532,
          112.05270562796018,
          110.79285041478535,
          110.83407166705005,
          108.95379000942208,
          106.58350625590285,
          107.00881881228331,
          107.31474718639015,
          106.97675143200131,
          106.39925868355677,
          108.2352936086054,
          107.7469693332379,
          107.6747957450281,
          108.97869584613532,
          108.42311413512545,
          110.05711877652595,
          109.24417246719075,
          108.89300709437113,
          108.83244980666827,
          107.9446585813038,
          105.5378540523794,
          107.11404356613639,
          107.18128754176364,
          108.59217840298153,
          106.35475790101404,
          105.73224079914988,
          106.72212674263142,
          108.88635393681497,
          109.2157550523346,
          108.23952114103271,
          108.50737986035706,
          108.08661705343962,
          108.08313663949771,
          107.01109802360915,
          106.91650660448431,
          107.71495751313097,
          108.25688647891808,
          108.7036961114848,
          109.60447333161477,
          107.09289679195732,
          106.3563043350399,
          106.27302639334806,
          106.14610671252203,
          104.31704733854771,
          103.17657946217288,
          103.10916184103118,
          100.82389427520903,
          101.1274066749022,
          102.445516011455,
          101.80442890016319,
          102.43851894251215,
          102.47490508057966,
          103.89787661733331,
          105.34732836311204,
          104.55512693517497,
          104.65995074775743,
          103.66725696306979,
          103.62758571990804,
          104.76987557995339,
          103.95779705752065,
          102.8662511878735,
          103.31300946495358,
          102.58607480328361,
          101.40479780288547,
          101.31852460711495,
          101.91332178220647,
          101.5945554259406,
          102.15293440258276,
          102.38041804136519,
          103.3461560454098,
          104.47285104188242,
          103.4022118012371,
          104.72541242270945,
          104.9022704311364,
          104.66565917914136,
          103.64240678980549,
          103.59978918398951,
          104.06613195017532,
          104.66739553247359,
          103.85575387312879,
          103.4258272592697,
          103.63832912699408,
          102.08124040024074,
          102.5042370984861,
          103.85510946860747,
          103.05259172856995,
          103.0542398421374,
          102.67382702166886,
          103.38415808911859,
          103.36492334604394,
          104.02771404520371,
          102.47624759124847,
          103.56627374267522,
          102.7199508807423
         ],
         [
          99.96483603358202,
          100.69011767607323,
          100.98355281464917,
          102.47330567786175,
          101.36226009262363,
          100.95099245234097,
          100.74234061376558,
          100.545068619796,
          101.56339075032844,
          101.66381930550266,
          101.9104843728721,
          102.51483816890622,
          103.69400345628422,
          103.96926936712738,
          105.10894806418612,
          105.37178453230382,
          106.84579306013676,
          106.7830905877499,
          106.56812127796962,
          107.09571408466431,
          107.72586537283448,
          109.49263775336047,
          111.04217423308484,
          108.78761274344384,
          108.49629120403762,
          107.68551067496166,
          109.46892287184802,
          109.18206115532794,
          107.69738158479925,
          108.29438553286087,
          107.94299562071163,
          107.56491560996848,
          109.01556267900837,
          108.87894177679475,
          108.75947677880542,
          108.91546381389954,
          109.72631570970354,
          107.1121259660054,
          107.92951804728231,
          107.44712612683558,
          106.31765061826444,
          107.31944494821927,
          105.09885520557786,
          102.49322705231157,
          103.18095443681719,
          103.567821046521,
          104.67845647592964,
          105.99462194830886,
          105.5979978327183,
          106.46895611091855,
          106.04042481858318,
          106.68327697821522,
          107.61779791952819,
          107.6648903498628,
          106.50642961955289,
          105.24408037158395,
          106.99840178473048,
          108.51704781306685,
          109.99325386991221,
          110.43537684796514,
          111.03072729569642,
          109.1715463263134,
          110.495541458408,
          109.51814100410508,
          111.40298082228273,
          110.28403502362535,
          112.0254722505687,
          112.60413010568118,
          112.45016712710765,
          113.64655409618841,
          114.25039078766507,
          114.44422492412379,
          115.8115153567754,
          117.80868147951807,
          116.85772790426681,
          116.76116256671902,
          117.02340869590708,
          117.8470525857621,
          116.37013331304166,
          116.17700836374715,
          114.19377884354816,
          114.46586689767027,
          113.46360136405876,
          113.00933755469464,
          111.9703837483572,
          112.07522103561237,
          112.90203806234264,
          114.25600737711132,
          113.27027058030134,
          114.33589283434775,
          114.53118061606621,
          116.26508659403841,
          114.68979519754143,
          113.54680974359489,
          114.32807507854491,
          113.84405925024294,
          115.99456348298563,
          114.64186979024993,
          116.42229117816375,
          115.09081651232538,
          114.22385873441762,
          114.4666042878562,
          114.20662610711031,
          115.02317082545531,
          116.07854840676622,
          116.64526739859076,
          116.93942831217302,
          116.06540687180292,
          117.62206036235163,
          117.06764845219968,
          117.55787853421697,
          119.11177218928765,
          118.59085077676717,
          119.35482295953595,
          117.1670642537662,
          117.96030815110115,
          116.81110387105379,
          115.88091441158633,
          116.18000533309255,
          116.18449677540468,
          117.12289916710331,
          117.97785608361329,
          118.17026690708883,
          117.67025552936052,
          117.55981903756472,
          118.74749472130969,
          118.25844073647728,
          118.967564806168,
          119.35037851337991,
          120.05160276920219,
          121.00574346403106,
          119.82072000749622,
          119.49802468241394,
          120.9406255876714,
          119.56772808630308,
          119.02253342010592,
          118.09585374330938,
          119.31793444056194,
          120.43179768550488,
          120.5098916015587,
          119.40589024056285,
          118.97885174087986,
          118.54932068810838,
          117.78930479552626,
          117.80566914505208,
          119.19886048676054,
          119.39652421500236,
          120.12120681322716,
          118.85110785400494,
          118.65104674600148
         ]
        ]
       }
      }
     },
     "6ae3eba53a7048baac15e02d89729e05": {
      "model_module": "bqplot",
      "model_module_version": "^0.4.5",
      "model_name": "LinearScaleModel",
      "state": {
       "stabilized": false
      }
     },
     "6b5acedfa36049e7820d2973c125c361": {
      "model_module": "bqplot",
      "model_module_version": "^0.4.5",
      "model_name": "LinesModel",
      "state": {
       "color": {
        "type": null,
        "values": null
       },
       "display_legend": false,
       "fill_colors": [],
       "labels": [
        "C1"
       ],
       "scales": {
        "x": "IPY_MODEL_00cba4f17ef04be197f7f693b108415a",
        "y": "IPY_MODEL_9a841f3e63ae44ee869ea6f2342c67f6"
       },
       "selected": [],
       "x": {
        "type": "date",
        "values": [
         "2007-01-01T00:00:00.000000",
         "2007-01-02T00:00:00.000000",
         "2007-01-03T00:00:00.000000",
         "2007-01-04T00:00:00.000000",
         "2007-01-05T00:00:00.000000",
         "2007-01-06T00:00:00.000000",
         "2007-01-07T00:00:00.000000",
         "2007-01-08T00:00:00.000000",
         "2007-01-09T00:00:00.000000",
         "2007-01-10T00:00:00.000000",
         "2007-01-11T00:00:00.000000",
         "2007-01-12T00:00:00.000000",
         "2007-01-13T00:00:00.000000",
         "2007-01-14T00:00:00.000000",
         "2007-01-15T00:00:00.000000",
         "2007-01-16T00:00:00.000000",
         "2007-01-17T00:00:00.000000",
         "2007-01-18T00:00:00.000000",
         "2007-01-19T00:00:00.000000",
         "2007-01-20T00:00:00.000000",
         "2007-01-21T00:00:00.000000",
         "2007-01-22T00:00:00.000000",
         "2007-01-23T00:00:00.000000",
         "2007-01-24T00:00:00.000000",
         "2007-01-25T00:00:00.000000",
         "2007-01-26T00:00:00.000000",
         "2007-01-27T00:00:00.000000",
         "2007-01-28T00:00:00.000000",
         "2007-01-29T00:00:00.000000",
         "2007-01-30T00:00:00.000000",
         "2007-01-31T00:00:00.000000",
         "2007-02-01T00:00:00.000000",
         "2007-02-02T00:00:00.000000",
         "2007-02-03T00:00:00.000000",
         "2007-02-04T00:00:00.000000",
         "2007-02-05T00:00:00.000000",
         "2007-02-06T00:00:00.000000",
         "2007-02-07T00:00:00.000000",
         "2007-02-08T00:00:00.000000",
         "2007-02-09T00:00:00.000000",
         "2007-02-10T00:00:00.000000",
         "2007-02-11T00:00:00.000000",
         "2007-02-12T00:00:00.000000",
         "2007-02-13T00:00:00.000000",
         "2007-02-14T00:00:00.000000",
         "2007-02-15T00:00:00.000000",
         "2007-02-16T00:00:00.000000",
         "2007-02-17T00:00:00.000000",
         "2007-02-18T00:00:00.000000",
         "2007-02-19T00:00:00.000000",
         "2007-02-20T00:00:00.000000",
         "2007-02-21T00:00:00.000000",
         "2007-02-22T00:00:00.000000",
         "2007-02-23T00:00:00.000000",
         "2007-02-24T00:00:00.000000",
         "2007-02-25T00:00:00.000000",
         "2007-02-26T00:00:00.000000",
         "2007-02-27T00:00:00.000000",
         "2007-02-28T00:00:00.000000",
         "2007-03-01T00:00:00.000000",
         "2007-03-02T00:00:00.000000",
         "2007-03-03T00:00:00.000000",
         "2007-03-04T00:00:00.000000",
         "2007-03-05T00:00:00.000000",
         "2007-03-06T00:00:00.000000",
         "2007-03-07T00:00:00.000000",
         "2007-03-08T00:00:00.000000",
         "2007-03-09T00:00:00.000000",
         "2007-03-10T00:00:00.000000",
         "2007-03-11T00:00:00.000000",
         "2007-03-12T00:00:00.000000",
         "2007-03-13T00:00:00.000000",
         "2007-03-14T00:00:00.000000",
         "2007-03-15T00:00:00.000000",
         "2007-03-16T00:00:00.000000",
         "2007-03-17T00:00:00.000000",
         "2007-03-18T00:00:00.000000",
         "2007-03-19T00:00:00.000000",
         "2007-03-20T00:00:00.000000",
         "2007-03-21T00:00:00.000000",
         "2007-03-22T00:00:00.000000",
         "2007-03-23T00:00:00.000000",
         "2007-03-24T00:00:00.000000",
         "2007-03-25T00:00:00.000000",
         "2007-03-26T00:00:00.000000",
         "2007-03-27T00:00:00.000000",
         "2007-03-28T00:00:00.000000",
         "2007-03-29T00:00:00.000000",
         "2007-03-30T00:00:00.000000",
         "2007-03-31T00:00:00.000000",
         "2007-04-01T00:00:00.000000",
         "2007-04-02T00:00:00.000000",
         "2007-04-03T00:00:00.000000",
         "2007-04-04T00:00:00.000000",
         "2007-04-05T00:00:00.000000",
         "2007-04-06T00:00:00.000000",
         "2007-04-07T00:00:00.000000",
         "2007-04-08T00:00:00.000000",
         "2007-04-09T00:00:00.000000",
         "2007-04-10T00:00:00.000000",
         "2007-04-11T00:00:00.000000",
         "2007-04-12T00:00:00.000000",
         "2007-04-13T00:00:00.000000",
         "2007-04-14T00:00:00.000000",
         "2007-04-15T00:00:00.000000",
         "2007-04-16T00:00:00.000000",
         "2007-04-17T00:00:00.000000",
         "2007-04-18T00:00:00.000000",
         "2007-04-19T00:00:00.000000",
         "2007-04-20T00:00:00.000000",
         "2007-04-21T00:00:00.000000",
         "2007-04-22T00:00:00.000000",
         "2007-04-23T00:00:00.000000",
         "2007-04-24T00:00:00.000000",
         "2007-04-25T00:00:00.000000",
         "2007-04-26T00:00:00.000000",
         "2007-04-27T00:00:00.000000",
         "2007-04-28T00:00:00.000000",
         "2007-04-29T00:00:00.000000",
         "2007-04-30T00:00:00.000000",
         "2007-05-01T00:00:00.000000",
         "2007-05-02T00:00:00.000000",
         "2007-05-03T00:00:00.000000",
         "2007-05-04T00:00:00.000000",
         "2007-05-05T00:00:00.000000",
         "2007-05-06T00:00:00.000000",
         "2007-05-07T00:00:00.000000",
         "2007-05-08T00:00:00.000000",
         "2007-05-09T00:00:00.000000",
         "2007-05-10T00:00:00.000000",
         "2007-05-11T00:00:00.000000",
         "2007-05-12T00:00:00.000000",
         "2007-05-13T00:00:00.000000",
         "2007-05-14T00:00:00.000000",
         "2007-05-15T00:00:00.000000",
         "2007-05-16T00:00:00.000000",
         "2007-05-17T00:00:00.000000",
         "2007-05-18T00:00:00.000000",
         "2007-05-19T00:00:00.000000",
         "2007-05-20T00:00:00.000000",
         "2007-05-21T00:00:00.000000",
         "2007-05-22T00:00:00.000000",
         "2007-05-23T00:00:00.000000",
         "2007-05-24T00:00:00.000000",
         "2007-05-25T00:00:00.000000",
         "2007-05-26T00:00:00.000000",
         "2007-05-27T00:00:00.000000",
         "2007-05-28T00:00:00.000000",
         "2007-05-29T00:00:00.000000",
         "2007-05-30T00:00:00.000000"
        ]
       },
       "y": {
        "type": "float",
        "values": [
         102.07774820784103,
         100.49779695610543,
         100.71509478061873,
         99.33964578910538,
         99.00517727745434,
         99.45716441135741,
         98.68294418569063,
         98.10279972690383,
         97.918461239543,
         99.46432743561226,
         100.55529599243104,
         100.77435810879824,
         100.606441173794,
         100.7947792242566,
         102.73824341792643,
         101.75909435634706,
         101.47320750666893,
         101.72791413831636,
         99.71076485654307,
         99.31624977808693,
         100.52703114539487,
         100.724271907446,
         101.13504461539237,
         102.65249442151503,
         103.92654022304039,
         102.14862369603338,
         101.73813999360536,
         100.25659777457214,
         100.02604980263843,
         100.15113402611725,
         101.08869524033119,
         102.23482358286043,
         103.18021547017665,
         102.40410316015519,
         103.25846383956902,
         103.47673999888217,
         103.94505560769338,
         103.54095329704471,
         102.85454508896706,
         100.97091894294947,
         100.71017213000117,
         100.52730698709063,
         101.6580604291436,
         101.33844872031125,
         100.09700061188555,
         100.07989540001272,
         100.2346042391465,
         100.30841282213086,
         99.64958967775736,
         99.54827212892378,
         96.97158039861044,
         96.97283186981376,
         97.02603373311572,
         96.78042278000245,
         95.50019069846341,
         95.00378277669705,
         93.98148654128269,
         94.50577752489522,
         92.22951510535319,
         92.31175845595635,
         91.3365410100737,
         91.36615003647103,
         92.04019944292216,
         92.75343639762485,
         93.6979035828532,
         94.13732254774067,
         93.99653973683446,
         92.97047747166886,
         92.3015500413917,
         92.63366652756201,
         95.28739090065417,
         96.36629179897685,
         95.27544215733819,
         94.56262735190244,
         94.54403563332441,
         96.14372740771456,
         95.38927776144554,
         95.62519414760023,
         96.63758413221062,
         96.7257864706994,
         96.85394355834852,
         96.48693643695366,
         96.64370987568562,
         97.19121706760359,
         97.76958299062446,
         98.19151910371424,
         98.18654361207699,
         99.35844081155906,
         98.608434816907,
         97.4549054362504,
         97.89533204201203,
         98.92046326068163,
         98.54172941006456,
         100.10020894958436,
         100.69939586744424,
         101.18363607213831,
         98.97813209301884,
         98.90072441665704,
         100.33258301124164,
         99.882505081055,
         100.61885177751273,
         103.11210128856855,
         102.64701803644544,
         101.33935010001014,
         101.23274473386486,
         100.35697078975171,
         100.09839338469948,
         100.01120490318704,
         98.75117277458318,
         97.10091186335251,
         97.25596430121848,
         97.2725573851688,
         95.62518769641002,
         95.04951007385304,
         95.41920894562384,
         95.7518625996275,
         95.33779079244783,
         95.55144415552392,
         95.85892607807355,
         94.45987828826497,
         94.67938523404386,
         94.70345673270887,
         97.06150731867875,
         96.26228068178713,
         97.69575171821946,
         97.66050554424619,
         98.44936838498946,
         98.4490988487904,
         97.91711613824388,
         97.31931981401786,
         95.64576246618078,
         95.4632902377418,
         94.82154215893503,
         92.50775600176074,
         91.66782595314305,
         91.43305495057167,
         91.51390584853769,
         92.56831815865068,
         91.74512828265566,
         91.60216067870624,
         92.19130571968154,
         94.13483651609829,
         93.29180733570256,
         93.15006606726247,
         93.43577575730991,
         93.82074959275651,
         94.7647800253798,
         95.59614086951302,
         96.68502924357934,
         96.57648231571069
        ]
       }
      }
     },
     "6c64d0c97c9c4c2693a5bd73028e32ee": {
      "model_module": "bqplot",
      "model_module_version": "^0.4.5",
      "model_name": "FigureModel",
      "state": {
       "_dom_classes": [],
       "axes": [
        "IPY_MODEL_1f94d4c869b7457d9ca1f93d502b9a24",
        "IPY_MODEL_72f4278e79a44085b14e0b28e9893d23",
        "IPY_MODEL_3b766ed3acdb464ca0e9ce05d396f054"
       ],
       "layout": "IPY_MODEL_e08eda6e02104d7981603aee219c9184",
       "marks": [
        "IPY_MODEL_6a909cffac684312b600e6913160a876"
       ],
       "scale_x": "IPY_MODEL_a86fe5b6da5a4101a70af9263b1e8f48",
       "scale_y": "IPY_MODEL_af34114d90354c0ba073138c0b442cd8"
      }
     },
     "6cbc7759525845e18423ff17c946e882": {
      "model_module": "bqplot",
      "model_module_version": "^0.4.5",
      "model_name": "LinearScaleModel",
      "state": {
       "allow_padding": false,
       "max": 1,
       "min": 0,
       "stabilized": false
      }
     },
     "6f8a50e003fe4fadb45369ffaabba526": {
      "model_module": "@jupyter-widgets/base",
      "model_module_version": "1.1.0",
      "model_name": "LayoutModel",
      "state": {
       "min_width": "125px"
      }
     },
     "72f4278e79a44085b14e0b28e9893d23": {
      "model_module": "bqplot",
      "model_module_version": "^0.4.5",
      "model_name": "AxisModel",
      "state": {
       "label": "Date",
       "scale": "IPY_MODEL_0927337f8b97496cafc88d2bbcac050e",
       "side": "bottom",
       "tick_values": {
        "type": null,
        "values": null
       }
      }
     },
     "73068e59a840419ab555be28c49c25f7": {
      "model_module": "bqplot",
      "model_module_version": "^0.4.5",
      "model_name": "FigureModel",
      "state": {
       "_dom_classes": [],
       "axes": [
        "IPY_MODEL_1411b8523f284000b54c4a8ee8c7a8b5",
        "IPY_MODEL_cb0efa994dab4b128f067424bc9b85a6"
       ],
       "layout": "IPY_MODEL_64b86019b5ab4c41bdd62a524ae005db",
       "marks": [
        "IPY_MODEL_c69865866fdd403fbdf39c45a8d0106b"
       ],
       "scale_x": "IPY_MODEL_608a5ba87ddf4e2dad0eda7c61d2cd0c",
       "scale_y": "IPY_MODEL_6226c65431734b25aee842856cf81bb2"
      }
     },
     "740c7c71bb664fbeae9569cb71975444": {
      "model_module": "bqplot",
      "model_module_version": "^0.4.5",
      "model_name": "ScatterModel",
      "state": {
       "color": {
        "type": null,
        "values": null
       },
       "colors": [
        "steelblue"
       ],
       "display_legend": false,
       "names": {
        "type": "<U8",
        "values": [
         "one",
         "two",
         "three",
         "four",
         "five",
         "six",
         "seven",
         "eight",
         "nine",
         "ten",
         "eleven",
         "twelve",
         "thirteen",
         "fourteen",
         "fifteen",
         "sixteen"
        ]
       },
       "opacity": {
        "type": null,
        "values": null
       },
       "rotation": {
        "type": null,
        "values": null
       },
       "scales": {
        "x": "IPY_MODEL_ac34af4bb7694925b8581307d1426516",
        "y": "IPY_MODEL_daaeba256f624fa58f2a73254628600b"
       },
       "scales_metadata": {
        "color": {
         "dimension": "color"
        },
        "opacity": {
         "dimension": "opacity"
        },
        "rotation": {
         "dimension": "rotation"
        },
        "size": {
         "dimension": "size"
        },
        "skew": {
         "dimension": "skew"
        },
        "x": {
         "dimension": "x",
         "orientation": "horizontal"
        },
        "y": {
         "dimension": "y",
         "orientation": "vertical"
        }
       },
       "selected": [],
       "size": {
        "type": null,
        "values": null
       },
       "skew": {
        "type": null,
        "values": null
       },
       "stroke": "black",
       "stroke_width": 1,
       "tooltip": "IPY_MODEL_45c9563536674b36a6b840e3931aba2e",
       "x": {
        "type": "float",
        "values": [
         0.771320643266746,
         0.6336482349262754,
         0.4985070123025904,
         0.19806286475962398,
         0.16911083656253545,
         0.6853598183677972,
         0.003948266327914451,
         0.8126209616521135,
         0.7217553174317995,
         0.9177741225129434,
         0.5425443680112613,
         0.3733407600514692,
         0.4418331744229961,
         0.6177669784693172,
         0.6503971819314672,
         0.8052231968327465
        ]
       },
       "y": {
        "type": "float",
        "values": [
         0.0207519493594015,
         0.7488038825386119,
         0.22479664553084766,
         0.7605307121989587,
         0.08833981417401027,
         0.9533933461949365,
         0.5121922633857766,
         0.6125260668293881,
         0.29187606817063316,
         0.7145757833976906,
         0.14217004760152696,
         0.6741336150663453,
         0.4340139933332937,
         0.5131382425543909,
         0.6010389534045444,
         0.5216471523936341
        ]
       }
      }
     },
     "7416b900997841559aae4315176295c5": {
      "model_module": "bqplot",
      "model_module_version": "^0.4.5",
      "model_name": "LinearScaleModel",
      "state": {
       "stabilized": false
      }
     },
     "7440ba9779c44c578f24ecce8df683e0": {
      "model_module": "bqplot",
      "model_module_version": "^0.4.5",
      "model_name": "LinesModel",
      "state": {
       "color": {
        "type": null,
        "values": null
       },
       "display_legend": false,
       "fill": "inside",
       "fill_colors": [],
       "labels": [
        "Point-three",
        "Point-thirteen",
        "Point-eleven",
        "Point-nine",
        "Point-twelve",
        "Point-fourteen",
        "Point-eight",
        "Point-sixteen",
        "Point-fifteen",
        "Point-two"
       ],
       "scales": {
        "x": "IPY_MODEL_f0931cdee8e849829d686c166d07edd9",
        "y": "IPY_MODEL_7416b900997841559aae4315176295c5"
       },
       "selected": [],
       "tooltip": "IPY_MODEL_45c9563536674b36a6b840e3931aba2e",
       "x": {
        "type": "object",
        "values": [
         [
          0.3584447216903549,
          0.6171489120032924,
          0.5798499221127168,
          0.2831911754505866
         ],
         [
          0.2831911754505866,
          0.19992177320742419,
          0.22821203424164746,
          0.48381788152811805,
          0.5806068458871527,
          0.5798499221127168
         ],
         [
          0.3584447216903549,
          0.4239724854695897,
          0.6912996529354414,
          0.6171489120032924
         ],
         [
          1.216442820503958,
          0.6912996529354414,
          0.6171489120032924,
          0.5798499221127168,
          0.5806068458871527,
          0.7157292720673969
         ],
         [
          0.5034274596765445,
          0.48381788152811805,
          0.22821203424164746,
          0.20552139150292098,
          0.4028840030738831,
          0.44811437238452245,
          0.5180104471702501
         ],
         [
          0.7109891214078169,
          0.7157292720673969,
          0.5806068458871527,
          0.48381788152811805,
          0.5034274596765445
         ],
         [
          0.7260100327131787,
          0.7338874407228482,
          0.9716720966163176,
          0.7782905262525462
         ],
         [
          0.7338874407228482,
          0.7109891214078169,
          0.7157292720673969,
          1.216442820503958,
          1.5438141284532079,
          0.9716720966163176
         ],
         [
          0.7260100327131787,
          0.5180104471702501,
          0.5034274596765445,
          0.7109891214078169,
          0.7338874407228482
         ],
         [
          0.7260100327131787,
          0.5180104471702501,
          0.44811437238452245,
          0.7862371954417654,
          0.7782905262525462
         ]
        ]
       },
       "y": {
        "type": "object",
        "values": [
         [
          0.09709933172300317,
          0.23498045883754137,
          0.3591159380711344,
          0.2787555382740357
         ],
         [
          0.2787555382740357,
          0.3444515821822909,
          0.5029083802751683,
          0.5758181303479604,
          0.3606066009240778,
          0.3591159380711344
         ],
         [
          0.09709933172300317,
          -0.35748283665951325,
          0.14621566078753526,
          0.23498045883754137
         ],
         [
          0.2422192635826514,
          0.14621566078753526,
          0.23498045883754137,
          0.3591159380711344,
          0.3606066009240778,
          0.42411115923459075
         ],
         [
          0.6055897626427533,
          0.5758181303479604,
          0.5029083802751683,
          0.554666334735012,
          0.9550652406422548,
          0.9045289990489157,
          0.6608648024811047
         ],
         [
          0.5285394272389918,
          0.42411115923459075,
          0.3606066009240778,
          0.5758181303479604,
          0.6055897626427533
         ],
         [
          0.6844412631187945,
          0.573194611808946,
          0.5538383620905631,
          0.7531008790263298
         ],
         [
          0.573194611808946,
          0.5285394272389918,
          0.42411115923459075,
          0.2422192635826514,
          0.22006148839037726,
          0.5538383620905631
         ],
         [
          0.6844412631187945,
          0.6608648024811047,
          0.6055897626427533,
          0.5285394272389918,
          0.573194611808946
         ],
         [
          0.6844412631187945,
          0.6608648024811047,
          0.9045289990489157,
          0.8190658169987436,
          0.7531008790263298
         ]
        ]
       }
      }
     },
     "753cda5aca45461f8934184159cb18db": {
      "model_module": "bqplot",
      "model_module_version": "^0.4.5",
      "model_name": "AxisModel",
      "state": {
       "scale": "IPY_MODEL_178d690a300a44338b90e8f7a0194d28",
       "side": "bottom",
       "tick_values": {
        "type": null,
        "values": null
       },
       "visible": false
      }
     },
     "75fc04a7b78a42cda1a39e4c05f7e501": {
      "model_module": "bqplot",
      "model_module_version": "^0.4.5",
      "model_name": "LinearScaleModel",
      "state": {
       "stabilized": false
      }
     },
     "795baee07d0c41b5bfd2b428e1b81977": {
      "model_module": "bqplot",
      "model_module_version": "^0.4.5",
      "model_name": "FigureModel",
      "state": {
       "_dom_classes": [],
       "animation_duration": 1000,
       "axes": [
        "IPY_MODEL_12d844188ccb4243a97517cf048719cb",
        "IPY_MODEL_34a72bf6f7474500a441ff1a73beb70d"
       ],
       "layout": "IPY_MODEL_dca2bd9b7acb4fda948a1f9fad996433",
       "marks": [
        "IPY_MODEL_7440ba9779c44c578f24ecce8df683e0",
        "IPY_MODEL_7c72ae301f7e4e8e9b94b01ac61741a3"
       ],
       "scale_x": "IPY_MODEL_865edd384c434262b0b477e8a008de43",
       "scale_y": "IPY_MODEL_09e64a83b4ce42d39cfe3f5345e0f9ea"
      }
     },
     "7a391ac79bf74d9a8db2c878ff7e6e99": {
      "model_module": "bqplot",
      "model_module_version": "^0.4.5",
      "model_name": "LinearScaleModel",
      "state": {
       "stabilized": false
      }
     },
     "7c72ae301f7e4e8e9b94b01ac61741a3": {
      "model_module": "bqplot",
      "model_module_version": "^0.4.5",
      "model_name": "ScatterModel",
      "state": {
       "color": {
        "type": null,
        "values": null
       },
       "colors": [
        "steelblue"
       ],
       "display_legend": false,
       "names": {
        "type": "<U8",
        "values": [
         "one",
         "two",
         "three",
         "four",
         "five",
         "six",
         "seven",
         "eight",
         "nine",
         "ten",
         "eleven",
         "twelve",
         "thirteen",
         "fourteen",
         "fifteen",
         "sixteen"
        ]
       },
       "opacity": {
        "type": null,
        "values": null
       },
       "rotation": {
        "type": null,
        "values": null
       },
       "scales": {
        "x": "IPY_MODEL_f0931cdee8e849829d686c166d07edd9",
        "y": "IPY_MODEL_7416b900997841559aae4315176295c5"
       },
       "scales_metadata": {
        "color": {
         "dimension": "color"
        },
        "opacity": {
         "dimension": "opacity"
        },
        "rotation": {
         "dimension": "rotation"
        },
        "size": {
         "dimension": "size"
        },
        "skew": {
         "dimension": "skew"
        },
        "x": {
         "dimension": "x",
         "orientation": "horizontal"
        },
        "y": {
         "dimension": "y",
         "orientation": "vertical"
        }
       },
       "selected": [],
       "size": {
        "type": null,
        "values": null
       },
       "skew": {
        "type": null,
        "values": null
       },
       "stroke": "black",
       "tooltip": "IPY_MODEL_45c9563536674b36a6b840e3931aba2e",
       "x": {
        "type": "float",
        "values": [
         0.771320643266746,
         0.6336482349262754,
         0.4985070123025904,
         0.19806286475962398,
         0.16911083656253545,
         0.6853598183677972,
         0.003948266327914451,
         0.8126209616521135,
         0.7217553174317995,
         0.9177741225129434,
         0.5425443680112613,
         0.3733407600514692,
         0.4418331744229961,
         0.6177669784693172,
         0.6503971819314672,
         0.8052231968327465
        ]
       },
       "y": {
        "type": "float",
        "values": [
         0.0207519493594015,
         0.7488038825386119,
         0.22479664553084766,
         0.7605307121989587,
         0.08833981417401027,
         0.9533933461949365,
         0.5121922633857766,
         0.6125260668293881,
         0.29187606817063316,
         0.7145757833976906,
         0.14217004760152696,
         0.6741336150663453,
         0.4340139933332937,
         0.5131382425543909,
         0.6010389534045444,
         0.5216471523936341
        ]
       }
      }
     },
     "7ef7ad58e68e4ed8a8efaa3919d2d881": {
      "model_module": "bqplot",
      "model_module_version": "^0.4.5",
      "model_name": "LinesModel",
      "state": {
       "close_path": true,
       "color": {
        "type": null,
        "values": null
       },
       "display_legend": false,
       "fill": "inside",
       "fill_colors": [],
       "labels": [
        "Point-three",
        "Point-thirteen",
        "Point-eleven",
        "Point-nine",
        "Point-twelve",
        "Point-fourteen",
        "Point-eight",
        "Point-sixteen",
        "Point-fifteen",
        "Point-two"
       ],
       "scales": {
        "x": "IPY_MODEL_ac34af4bb7694925b8581307d1426516",
        "y": "IPY_MODEL_daaeba256f624fa58f2a73254628600b"
       },
       "selected": [],
       "stroke_width": 1,
       "tooltip": "IPY_MODEL_45c9563536674b36a6b840e3931aba2e",
       "x": {
        "type": "object",
        "values": [
         [
          0.3584447216903549,
          0.6171489120032924,
          0.5798499221127168,
          0.2831911754505866
         ],
         [
          0.2831911754505866,
          0.19992177320742419,
          0.22821203424164746,
          0.48381788152811805,
          0.5806068458871527,
          0.5798499221127168
         ],
         [
          0.3584447216903549,
          0.4239724854695897,
          0.6912996529354414,
          0.6171489120032924
         ],
         [
          1.216442820503958,
          0.6912996529354414,
          0.6171489120032924,
          0.5798499221127168,
          0.5806068458871527,
          0.7157292720673969
         ],
         [
          0.5034274596765445,
          0.48381788152811805,
          0.22821203424164746,
          0.20552139150292098,
          0.4028840030738831,
          0.44811437238452245,
          0.5180104471702501
         ],
         [
          0.7109891214078169,
          0.7157292720673969,
          0.5806068458871527,
          0.48381788152811805,
          0.5034274596765445
         ],
         [
          0.7260100327131787,
          0.7338874407228482,
          0.9716720966163176,
          0.7782905262525462
         ],
         [
          0.7338874407228482,
          0.7109891214078169,
          0.7157292720673969,
          1.216442820503958,
          1.5438141284532079,
          0.9716720966163176
         ],
         [
          0.7260100327131787,
          0.5180104471702501,
          0.5034274596765445,
          0.7109891214078169,
          0.7338874407228482
         ],
         [
          0.7260100327131787,
          0.5180104471702501,
          0.44811437238452245,
          0.7862371954417654,
          0.7782905262525462
         ]
        ]
       },
       "y": {
        "type": "object",
        "values": [
         [
          0.09709933172300317,
          0.23498045883754137,
          0.3591159380711344,
          0.2787555382740357
         ],
         [
          0.2787555382740357,
          0.3444515821822909,
          0.5029083802751683,
          0.5758181303479604,
          0.3606066009240778,
          0.3591159380711344
         ],
         [
          0.09709933172300317,
          -0.35748283665951325,
          0.14621566078753526,
          0.23498045883754137
         ],
         [
          0.2422192635826514,
          0.14621566078753526,
          0.23498045883754137,
          0.3591159380711344,
          0.3606066009240778,
          0.42411115923459075
         ],
         [
          0.6055897626427533,
          0.5758181303479604,
          0.5029083802751683,
          0.554666334735012,
          0.9550652406422548,
          0.9045289990489157,
          0.6608648024811047
         ],
         [
          0.5285394272389918,
          0.42411115923459075,
          0.3606066009240778,
          0.5758181303479604,
          0.6055897626427533
         ],
         [
          0.6844412631187945,
          0.573194611808946,
          0.5538383620905631,
          0.7531008790263298
         ],
         [
          0.573194611808946,
          0.5285394272389918,
          0.42411115923459075,
          0.2422192635826514,
          0.22006148839037726,
          0.5538383620905631
         ],
         [
          0.6844412631187945,
          0.6608648024811047,
          0.6055897626427533,
          0.5285394272389918,
          0.573194611808946
         ],
         [
          0.6844412631187945,
          0.6608648024811047,
          0.9045289990489157,
          0.8190658169987436,
          0.7531008790263298
         ]
        ]
       }
      }
     },
     "821222651fc44b98b337093be43f87be": {
      "model_module": "bqplot",
      "model_module_version": "^0.4.5",
      "model_name": "AxisModel",
      "state": {
       "scale": "IPY_MODEL_f2b794af0ba14007ab9e88eaab93aa60",
       "side": "bottom",
       "tick_values": {
        "type": null,
        "values": null
       }
      }
     },
     "826a4833304b4b108c03901df5fe3f43": {
      "model_module": "bqplot",
      "model_module_version": "^0.4.5",
      "model_name": "LinearScaleModel",
      "state": {
       "stabilized": false
      }
     },
     "854f16e235e04da8a30fb6e5948bc741": {
      "model_module": "bqplot",
      "model_module_version": "^0.4.5",
      "model_name": "FigureModel",
      "state": {
       "_dom_classes": [],
       "animation_duration": 1000,
       "axes": [
        "IPY_MODEL_47f50ac1e5814dd281ca95027dde6aa7",
        "IPY_MODEL_9240fdeb41604e238f52f5f4fcc5fb43"
       ],
       "layout": "IPY_MODEL_e17335b2d6b64cb79ca9b628c3ec019f",
       "marks": [
        "IPY_MODEL_a53aa176eefc48e9ae04d93965622dfd",
        "IPY_MODEL_98f93a247dfe4aaf876da9abab1f5c7a"
       ],
       "scale_x": "IPY_MODEL_a1c4c69c46fb4d07b4ab5d5e2bb1ef79",
       "scale_y": "IPY_MODEL_575e34d915134647a4ac6834911ebab0"
      }
     },
     "865a8c72eecd4098974a8060eb39295d": {
      "model_module": "bqplot",
      "model_module_version": "^0.4.5",
      "model_name": "LinearScaleModel",
      "state": {
       "allow_padding": false,
       "max": 1,
       "min": 0,
       "stabilized": false
      }
     },
     "865edd384c434262b0b477e8a008de43": {
      "model_module": "bqplot",
      "model_module_version": "^0.4.5",
      "model_name": "LinearScaleModel",
      "state": {
       "allow_padding": false,
       "max": 1,
       "min": 0,
       "stabilized": false
      }
     },
     "87af48bd74834bdfb7bcf01566c443b5": {
      "model_module": "bqplot",
      "model_module_version": "^0.4.5",
      "model_name": "LinesModel",
      "state": {
       "close_path": true,
       "color": {
        "type": null,
        "values": null
       },
       "display_legend": false,
       "fill": "inside",
       "fill_colors": [],
       "labels": [
        "Point-three",
        "Point-thirteen",
        "Point-eleven",
        "Point-nine",
        "Point-twelve",
        "Point-fourteen",
        "Point-eight",
        "Point-sixteen",
        "Point-fifteen",
        "Point-two"
       ],
       "scales": {
        "x": "IPY_MODEL_21be8996937044759d3554e50e2d8f79",
        "y": "IPY_MODEL_826a4833304b4b108c03901df5fe3f43"
       },
       "selected": [],
       "stroke_width": 1,
       "tooltip": "IPY_MODEL_45c9563536674b36a6b840e3931aba2e",
       "x": {
        "type": "object",
        "values": [
         [
          0.3584447216903549,
          0.6171489120032924,
          0.5798499221127168,
          0.2831911754505866
         ],
         [
          0.2831911754505866,
          0.19992177320742419,
          0.22821203424164746,
          0.48381788152811805,
          0.5806068458871527,
          0.5798499221127168
         ],
         [
          0.3584447216903549,
          0.4239724854695897,
          0.6912996529354414,
          0.6171489120032924
         ],
         [
          1.216442820503958,
          0.6912996529354414,
          0.6171489120032924,
          0.5798499221127168,
          0.5806068458871527,
          0.7157292720673969
         ],
         [
          0.5034274596765445,
          0.48381788152811805,
          0.22821203424164746,
          0.20552139150292098,
          0.4028840030738831,
          0.44811437238452245,
          0.5180104471702501
         ],
         [
          0.7109891214078169,
          0.7157292720673969,
          0.5806068458871527,
          0.48381788152811805,
          0.5034274596765445
         ],
         [
          0.7260100327131787,
          0.7338874407228482,
          0.9716720966163176,
          0.7782905262525462
         ],
         [
          0.7338874407228482,
          0.7109891214078169,
          0.7157292720673969,
          1.216442820503958,
          1.5438141284532079,
          0.9716720966163176
         ],
         [
          0.7260100327131787,
          0.5180104471702501,
          0.5034274596765445,
          0.7109891214078169,
          0.7338874407228482
         ],
         [
          0.7260100327131787,
          0.5180104471702501,
          0.44811437238452245,
          0.7862371954417654,
          0.7782905262525462
         ]
        ]
       },
       "y": {
        "type": "object",
        "values": [
         [
          0.09709933172300317,
          0.23498045883754137,
          0.3591159380711344,
          0.2787555382740357
         ],
         [
          0.2787555382740357,
          0.3444515821822909,
          0.5029083802751683,
          0.5758181303479604,
          0.3606066009240778,
          0.3591159380711344
         ],
         [
          0.09709933172300317,
          -0.35748283665951325,
          0.14621566078753526,
          0.23498045883754137
         ],
         [
          0.2422192635826514,
          0.14621566078753526,
          0.23498045883754137,
          0.3591159380711344,
          0.3606066009240778,
          0.42411115923459075
         ],
         [
          0.6055897626427533,
          0.5758181303479604,
          0.5029083802751683,
          0.554666334735012,
          0.9550652406422548,
          0.9045289990489157,
          0.6608648024811047
         ],
         [
          0.5285394272389918,
          0.42411115923459075,
          0.3606066009240778,
          0.5758181303479604,
          0.6055897626427533
         ],
         [
          0.6844412631187945,
          0.573194611808946,
          0.5538383620905631,
          0.7531008790263298
         ],
         [
          0.573194611808946,
          0.5285394272389918,
          0.42411115923459075,
          0.2422192635826514,
          0.22006148839037726,
          0.5538383620905631
         ],
         [
          0.6844412631187945,
          0.6608648024811047,
          0.6055897626427533,
          0.5285394272389918,
          0.573194611808946
         ],
         [
          0.6844412631187945,
          0.6608648024811047,
          0.9045289990489157,
          0.8190658169987436,
          0.7531008790263298
         ]
        ]
       }
      }
     },
     "8a3092f7eb5e47d4a57e57d4815e4a24": {
      "model_module": "bqplot",
      "model_module_version": "^0.4.5",
      "model_name": "FigureModel",
      "state": {
       "_dom_classes": [],
       "animation_duration": 1000,
       "axes": [
        "IPY_MODEL_ab2285b32b014099b2526f38e37e5fdb",
        "IPY_MODEL_b26bb0553866440fa5a72bc02f99b19f"
       ],
       "layout": "IPY_MODEL_e4325390024649e69e5dc05dda0b8858",
       "marks": [
        "IPY_MODEL_eafdfcd84a7a4d4797d24dccd812cfcc",
        "IPY_MODEL_3caed1fd1463449d990273c87d5d5d88"
       ],
       "scale_x": "IPY_MODEL_ce62aae4d39a4128985d6484abc62f49",
       "scale_y": "IPY_MODEL_0c172711b14b4a46b4e1e8ed3f19108c"
      }
     },
     "8c6aec206fe14067a751040cbe077810": {
      "model_module": "bqplot",
      "model_module_version": "^0.4.5",
      "model_name": "LinearScaleModel",
      "state": {
       "allow_padding": false,
       "max": 1,
       "min": 0,
       "stabilized": false
      }
     },
     "9240fdeb41604e238f52f5f4fcc5fb43": {
      "model_module": "bqplot",
      "model_module_version": "^0.4.5",
      "model_name": "AxisModel",
      "state": {
       "orientation": "vertical",
       "scale": "IPY_MODEL_4b4c1f041b9449df8e684454906187f9",
       "side": "left",
       "tick_values": {
        "type": null,
        "values": null
       }
      }
     },
     "93e99ea0381a426fbfabd5537bb4853b": {
      "model_module": "bqplot",
      "model_module_version": "^0.4.5",
      "model_name": "AxisModel",
      "state": {
       "orientation": "vertical",
       "scale": "IPY_MODEL_7a391ac79bf74d9a8db2c878ff7e6e99",
       "side": "left",
       "tick_values": {
        "type": null,
        "values": null
       },
       "visible": false
      }
     },
     "96e611642af245c78917f9ac3bd7d572": {
      "model_module": "bqplot",
      "model_module_version": "^0.4.5",
      "model_name": "LinearScaleModel",
      "state": {
       "stabilized": false
      }
     },
     "9703fde8008347058169f2727bf310ce": {
      "model_module": "bqplot",
      "model_module_version": "^0.4.5",
      "model_name": "LinearScaleModel",
      "state": {
       "allow_padding": false,
       "max": 1,
       "min": 0,
       "stabilized": false
      }
     },
     "98f93a247dfe4aaf876da9abab1f5c7a": {
      "model_module": "bqplot",
      "model_module_version": "^0.4.5",
      "model_name": "ScatterModel",
      "state": {
       "color": {
        "type": null,
        "values": null
       },
       "colors": [
        "steelblue"
       ],
       "display_legend": false,
       "names": {
        "type": "<U8",
        "values": [
         "one",
         "two",
         "three",
         "four",
         "five",
         "six",
         "seven",
         "eight",
         "nine",
         "ten",
         "eleven",
         "twelve",
         "thirteen",
         "fourteen",
         "fifteen",
         "sixteen"
        ]
       },
       "opacity": {
        "type": null,
        "values": null
       },
       "rotation": {
        "type": null,
        "values": null
       },
       "scales": {
        "x": "IPY_MODEL_4cc999cfc6b34ca18797ca228e81e353",
        "y": "IPY_MODEL_4b4c1f041b9449df8e684454906187f9"
       },
       "scales_metadata": {
        "color": {
         "dimension": "color"
        },
        "opacity": {
         "dimension": "opacity"
        },
        "rotation": {
         "dimension": "rotation"
        },
        "size": {
         "dimension": "size"
        },
        "skew": {
         "dimension": "skew"
        },
        "x": {
         "dimension": "x",
         "orientation": "horizontal"
        },
        "y": {
         "dimension": "y",
         "orientation": "vertical"
        }
       },
       "selected": [],
       "size": {
        "type": null,
        "values": null
       },
       "skew": {
        "type": null,
        "values": null
       },
       "stroke": "black",
       "tooltip": "IPY_MODEL_45c9563536674b36a6b840e3931aba2e",
       "x": {
        "type": "float",
        "values": [
         0.771320643266746,
         0.6336482349262754,
         0.4985070123025904,
         0.19806286475962398,
         0.16911083656253545,
         0.6853598183677972,
         0.003948266327914451,
         0.8126209616521135,
         0.7217553174317995,
         0.9177741225129434,
         0.5425443680112613,
         0.3733407600514692,
         0.4418331744229961,
         0.6177669784693172,
         0.6503971819314672,
         0.8052231968327465
        ]
       },
       "y": {
        "type": "float",
        "values": [
         0.0207519493594015,
         0.7488038825386119,
         0.22479664553084766,
         0.7605307121989587,
         0.08833981417401027,
         0.9533933461949365,
         0.5121922633857766,
         0.6125260668293881,
         0.29187606817063316,
         0.7145757833976906,
         0.14217004760152696,
         0.6741336150663453,
         0.4340139933332937,
         0.5131382425543909,
         0.6010389534045444,
         0.5216471523936341
        ]
       }
      }
     },
     "9a841f3e63ae44ee869ea6f2342c67f6": {
      "model_module": "bqplot",
      "model_module_version": "^0.4.5",
      "model_name": "LinearScaleModel",
      "state": {
       "stabilized": false
      }
     },
     "9ab39a558e254cfa81acf447677d5abe": {
      "model_module": "bqplot",
      "model_module_version": "^0.4.5",
      "model_name": "LinearScaleModel",
      "state": {
       "allow_padding": false,
       "max": 1,
       "min": 0,
       "stabilized": false
      }
     },
     "9d35af65ebd24e048bbbe9cf9147861f": {
      "model_module": "bqplot",
      "model_module_version": "^0.4.5",
      "model_name": "FigureModel",
      "state": {
       "_dom_classes": [],
       "animation_duration": 1000,
       "axes": [
        "IPY_MODEL_eab3fa7997b54345967e7567ab2c4045",
        "IPY_MODEL_49fe35a4d7f849eb9a3cf221b333438e"
       ],
       "layout": "IPY_MODEL_5629909db33e49f2b877beb5f6439280",
       "marks": [
        "IPY_MODEL_d8173947c8e14e609cd6ef069e25a89b",
        "IPY_MODEL_efce023275444985b79af368ce234a37"
       ],
       "scale_x": "IPY_MODEL_8c6aec206fe14067a751040cbe077810",
       "scale_y": "IPY_MODEL_9703fde8008347058169f2727bf310ce"
      }
     },
     "a1c4c69c46fb4d07b4ab5d5e2bb1ef79": {
      "model_module": "bqplot",
      "model_module_version": "^0.4.5",
      "model_name": "LinearScaleModel",
      "state": {
       "allow_padding": false,
       "max": 1,
       "min": 0,
       "stabilized": false
      }
     },
     "a31a09ad7a674d37bc87066382646d8a": {
      "model_module": "bqplot",
      "model_module_version": "^0.4.5",
      "model_name": "FigureModel",
      "state": {
       "_dom_classes": [],
       "animation_duration": 1000,
       "axes": [
        "IPY_MODEL_51de33ca839f49b082630a5e30c4d39a",
        "IPY_MODEL_5125d1db07cc46f9a4d2e522466ca070"
       ],
       "layout": "IPY_MODEL_6f8a50e003fe4fadb45369ffaabba526",
       "marks": [
        "IPY_MODEL_1d4259d143cc41d6a923be6d130d552b",
        "IPY_MODEL_56f4bd2e04ec404d8b198ca6595bb009"
       ],
       "scale_x": "IPY_MODEL_acb2d602837248379b7e0099f4300aaf",
       "scale_y": "IPY_MODEL_682468be53554b81887382b4e037fc75"
      }
     },
     "a4cb191abca248efb73c2f5628ad2f28": {
      "model_module": "@jupyter-widgets/base",
      "model_module_version": "1.1.0",
      "model_name": "LayoutModel",
      "state": {}
     },
     "a53aa176eefc48e9ae04d93965622dfd": {
      "model_module": "bqplot",
      "model_module_version": "^0.4.5",
      "model_name": "LinesModel",
      "state": {
       "close_path": true,
       "color": {
        "type": null,
        "values": null
       },
       "display_legend": false,
       "fill": "inside",
       "fill_colors": [
        "orange",
        "blue",
        "red"
       ],
       "labels": [
        "Point-three",
        "Point-thirteen",
        "Point-eleven",
        "Point-nine",
        "Point-twelve",
        "Point-fourteen",
        "Point-eight",
        "Point-sixteen",
        "Point-fifteen",
        "Point-two"
       ],
       "scales": {
        "x": "IPY_MODEL_4cc999cfc6b34ca18797ca228e81e353",
        "y": "IPY_MODEL_4b4c1f041b9449df8e684454906187f9"
       },
       "selected": [],
       "stroke_width": 1,
       "tooltip": "IPY_MODEL_45c9563536674b36a6b840e3931aba2e",
       "x": {
        "type": "object",
        "values": [
         [
          0.3584447216903549,
          0.6171489120032924,
          0.5798499221127168,
          0.2831911754505866
         ],
         [
          0.2831911754505866,
          0.19992177320742419,
          0.22821203424164746,
          0.48381788152811805,
          0.5806068458871527,
          0.5798499221127168
         ],
         [
          0.3584447216903549,
          0.4239724854695897,
          0.6912996529354414,
          0.6171489120032924
         ],
         [
          1.216442820503958,
          0.6912996529354414,
          0.6171489120032924,
          0.5798499221127168,
          0.5806068458871527,
          0.7157292720673969
         ],
         [
          0.5034274596765445,
          0.48381788152811805,
          0.22821203424164746,
          0.20552139150292098,
          0.4028840030738831,
          0.44811437238452245,
          0.5180104471702501
         ],
         [
          0.7109891214078169,
          0.7157292720673969,
          0.5806068458871527,
          0.48381788152811805,
          0.5034274596765445
         ],
         [
          0.7260100327131787,
          0.7338874407228482,
          0.9716720966163176,
          0.7782905262525462
         ],
         [
          0.7338874407228482,
          0.7109891214078169,
          0.7157292720673969,
          1.216442820503958,
          1.5438141284532079,
          0.9716720966163176
         ],
         [
          0.7260100327131787,
          0.5180104471702501,
          0.5034274596765445,
          0.7109891214078169,
          0.7338874407228482
         ],
         [
          0.7260100327131787,
          0.5180104471702501,
          0.44811437238452245,
          0.7862371954417654,
          0.7782905262525462
         ]
        ]
       },
       "y": {
        "type": "object",
        "values": [
         [
          0.09709933172300317,
          0.23498045883754137,
          0.3591159380711344,
          0.2787555382740357
         ],
         [
          0.2787555382740357,
          0.3444515821822909,
          0.5029083802751683,
          0.5758181303479604,
          0.3606066009240778,
          0.3591159380711344
         ],
         [
          0.09709933172300317,
          -0.35748283665951325,
          0.14621566078753526,
          0.23498045883754137
         ],
         [
          0.2422192635826514,
          0.14621566078753526,
          0.23498045883754137,
          0.3591159380711344,
          0.3606066009240778,
          0.42411115923459075
         ],
         [
          0.6055897626427533,
          0.5758181303479604,
          0.5029083802751683,
          0.554666334735012,
          0.9550652406422548,
          0.9045289990489157,
          0.6608648024811047
         ],
         [
          0.5285394272389918,
          0.42411115923459075,
          0.3606066009240778,
          0.5758181303479604,
          0.6055897626427533
         ],
         [
          0.6844412631187945,
          0.573194611808946,
          0.5538383620905631,
          0.7531008790263298
         ],
         [
          0.573194611808946,
          0.5285394272389918,
          0.42411115923459075,
          0.2422192635826514,
          0.22006148839037726,
          0.5538383620905631
         ],
         [
          0.6844412631187945,
          0.6608648024811047,
          0.6055897626427533,
          0.5285394272389918,
          0.573194611808946
         ],
         [
          0.6844412631187945,
          0.6608648024811047,
          0.9045289990489157,
          0.8190658169987436,
          0.7531008790263298
         ]
        ]
       }
      }
     },
     "a7f244da50a54af2bcb5a0b9985a4f7e": {
      "model_module": "@jupyter-widgets/base",
      "model_module_version": "1.1.0",
      "model_name": "LayoutModel",
      "state": {
       "min_width": "125px"
      }
     },
     "a86fe5b6da5a4101a70af9263b1e8f48": {
      "model_module": "bqplot",
      "model_module_version": "^0.4.5",
      "model_name": "LinearScaleModel",
      "state": {
       "allow_padding": false,
       "max": 1,
       "min": 0,
       "stabilized": false
      }
     },
     "aadb776a0c174e059c871319f1a86f9b": {
      "model_module": "bqplot",
      "model_module_version": "^0.4.5",
      "model_name": "LinearScaleModel",
      "state": {
       "allow_padding": false,
       "max": 1,
       "min": 0,
       "stabilized": false
      }
     },
     "ab2285b32b014099b2526f38e37e5fdb": {
      "model_module": "bqplot",
      "model_module_version": "^0.4.5",
      "model_name": "AxisModel",
      "state": {
       "scale": "IPY_MODEL_75fc04a7b78a42cda1a39e4c05f7e501",
       "side": "bottom",
       "tick_values": {
        "type": null,
        "values": null
       }
      }
     },
     "ac34af4bb7694925b8581307d1426516": {
      "model_module": "bqplot",
      "model_module_version": "^0.4.5",
      "model_name": "LinearScaleModel",
      "state": {
       "stabilized": false
      }
     },
     "acb2d602837248379b7e0099f4300aaf": {
      "model_module": "bqplot",
      "model_module_version": "^0.4.5",
      "model_name": "LinearScaleModel",
      "state": {
       "allow_padding": false,
       "max": 1,
       "min": 0,
       "stabilized": false
      }
     },
     "ada3c60aaab541e188e90bc64cb563d2": {
      "model_module": "bqplot",
      "model_module_version": "^0.4.5",
      "model_name": "LinearScaleModel",
      "state": {
       "allow_padding": false,
       "max": 1,
       "min": 0,
       "stabilized": false
      }
     },
     "adf230954f9b4748a63b349f805bfab5": {
      "model_module": "bqplot",
      "model_module_version": "^0.4.5",
      "model_name": "LinesModel",
      "state": {
       "close_path": true,
       "color": {
        "type": null,
        "values": null
       },
       "display_legend": false,
       "fill": "inside",
       "fill_colors": [
        "orange",
        "blue",
        "red"
       ],
       "labels": [
        "Point-three",
        "Point-thirteen",
        "Point-eleven",
        "Point-nine",
        "Point-twelve",
        "Point-fourteen",
        "Point-eight",
        "Point-sixteen",
        "Point-fifteen",
        "Point-two"
       ],
       "scales": {
        "x": "IPY_MODEL_f2b794af0ba14007ab9e88eaab93aa60",
        "y": "IPY_MODEL_15a218d8b0aa49b9a2df421b88266eb2"
       },
       "selected": [],
       "stroke_width": 1,
       "tooltip": "IPY_MODEL_45c9563536674b36a6b840e3931aba2e",
       "x": {
        "type": "object",
        "values": [
         [
          0.3584447216903549,
          0.6171489120032924,
          0.5798499221127168,
          0.2831911754505866
         ],
         [
          0.2831911754505866,
          0.19992177320742419,
          0.22821203424164746,
          0.48381788152811805,
          0.5806068458871527,
          0.5798499221127168
         ],
         [
          0.3584447216903549,
          0.4239724854695897,
          0.6912996529354414,
          0.6171489120032924
         ],
         [
          1.216442820503958,
          0.6912996529354414,
          0.6171489120032924,
          0.5798499221127168,
          0.5806068458871527,
          0.7157292720673969
         ],
         [
          0.5034274596765445,
          0.48381788152811805,
          0.22821203424164746,
          0.20552139150292098,
          0.4028840030738831,
          0.44811437238452245,
          0.5180104471702501
         ],
         [
          0.7109891214078169,
          0.7157292720673969,
          0.5806068458871527,
          0.48381788152811805,
          0.5034274596765445
         ],
         [
          0.7260100327131787,
          0.7338874407228482,
          0.9716720966163176,
          0.7782905262525462
         ],
         [
          0.7338874407228482,
          0.7109891214078169,
          0.7157292720673969,
          1.216442820503958,
          1.5438141284532079,
          0.9716720966163176
         ],
         [
          0.7260100327131787,
          0.5180104471702501,
          0.5034274596765445,
          0.7109891214078169,
          0.7338874407228482
         ],
         [
          0.7260100327131787,
          0.5180104471702501,
          0.44811437238452245,
          0.7862371954417654,
          0.7782905262525462
         ]
        ]
       },
       "y": {
        "type": "object",
        "values": [
         [
          0.09709933172300317,
          0.23498045883754137,
          0.3591159380711344,
          0.2787555382740357
         ],
         [
          0.2787555382740357,
          0.3444515821822909,
          0.5029083802751683,
          0.5758181303479604,
          0.3606066009240778,
          0.3591159380711344
         ],
         [
          0.09709933172300317,
          -0.35748283665951325,
          0.14621566078753526,
          0.23498045883754137
         ],
         [
          0.2422192635826514,
          0.14621566078753526,
          0.23498045883754137,
          0.3591159380711344,
          0.3606066009240778,
          0.42411115923459075
         ],
         [
          0.6055897626427533,
          0.5758181303479604,
          0.5029083802751683,
          0.554666334735012,
          0.9550652406422548,
          0.9045289990489157,
          0.6608648024811047
         ],
         [
          0.5285394272389918,
          0.42411115923459075,
          0.3606066009240778,
          0.5758181303479604,
          0.6055897626427533
         ],
         [
          0.6844412631187945,
          0.573194611808946,
          0.5538383620905631,
          0.7531008790263298
         ],
         [
          0.573194611808946,
          0.5285394272389918,
          0.42411115923459075,
          0.2422192635826514,
          0.22006148839037726,
          0.5538383620905631
         ],
         [
          0.6844412631187945,
          0.6608648024811047,
          0.6055897626427533,
          0.5285394272389918,
          0.573194611808946
         ],
         [
          0.6844412631187945,
          0.6608648024811047,
          0.9045289990489157,
          0.8190658169987436,
          0.7531008790263298
         ]
        ]
       }
      }
     },
     "af34114d90354c0ba073138c0b442cd8": {
      "model_module": "bqplot",
      "model_module_version": "^0.4.5",
      "model_name": "LinearScaleModel",
      "state": {
       "allow_padding": false,
       "max": 1,
       "min": 0,
       "stabilized": false
      }
     },
     "b22f06100bc04a048663724186885bdf": {
      "model_module": "bqplot",
      "model_module_version": "^0.4.5",
      "model_name": "AxisModel",
      "state": {
       "orientation": "vertical",
       "scale": "IPY_MODEL_826a4833304b4b108c03901df5fe3f43",
       "side": "left",
       "tick_values": {
        "type": null,
        "values": null
       }
      }
     },
     "b26bb0553866440fa5a72bc02f99b19f": {
      "model_module": "bqplot",
      "model_module_version": "^0.4.5",
      "model_name": "AxisModel",
      "state": {
       "orientation": "vertical",
       "scale": "IPY_MODEL_2cd5aecd8dd440caaec9654f978cadb7",
       "side": "left",
       "tick_values": {
        "type": null,
        "values": null
       }
      }
     },
     "b2ad1470f30c48a1ae6ba903ca78adbf": {
      "model_module": "@jupyter-widgets/base",
      "model_module_version": "1.1.0",
      "model_name": "LayoutModel",
      "state": {
       "min_width": "125px"
      }
     },
     "b49acc86c82e41fc8304aebdcff8f0d7": {
      "model_module": "bqplot",
      "model_module_version": "^0.4.5",
      "model_name": "LinearScaleModel",
      "state": {
       "stabilized": false
      }
     },
     "b61a51452e184eaa93e0d00b535a5b8e": {
      "model_module": "bqplot",
      "model_module_version": "^0.4.5",
      "model_name": "LinearScaleModel",
      "state": {
       "allow_padding": false,
       "max": 1,
       "min": 0,
       "stabilized": false
      }
     },
     "ba117becf78649a19cf42a49ee063d02": {
      "model_module": "bqplot",
      "model_module_version": "^0.4.5",
      "model_name": "LinesModel",
      "state": {
       "close_path": true,
       "color": {
        "type": null,
        "values": null
       },
       "display_legend": false,
       "fill": "inside",
       "fill_colors": [],
       "labels": [
        "Point-three",
        "Point-thirteen",
        "Point-eleven",
        "Point-nine",
        "Point-twelve",
        "Point-fourteen",
        "Point-eight",
        "Point-sixteen",
        "Point-fifteen",
        "Point-two"
       ],
       "scales": {
        "x": "IPY_MODEL_d9dcc43ab3bf4f178a274546af21b2c8",
        "y": "IPY_MODEL_dbe75a08433f43c2963730e8c25bda6b"
       },
       "selected": [],
       "stroke_width": 1,
       "tooltip": "IPY_MODEL_45c9563536674b36a6b840e3931aba2e",
       "x": {
        "type": "object",
        "values": [
         [
          0.3584447216903549,
          0.6171489120032924,
          0.5798499221127168,
          0.2831911754505866
         ],
         [
          0.2831911754505866,
          0.19992177320742419,
          0.22821203424164746,
          0.48381788152811805,
          0.5806068458871527,
          0.5798499221127168
         ],
         [
          0.3584447216903549,
          0.4239724854695897,
          0.6912996529354414,
          0.6171489120032924
         ],
         [
          1.216442820503958,
          0.6912996529354414,
          0.6171489120032924,
          0.5798499221127168,
          0.5806068458871527,
          0.7157292720673969
         ],
         [
          0.5034274596765445,
          0.48381788152811805,
          0.22821203424164746,
          0.20552139150292098,
          0.4028840030738831,
          0.44811437238452245,
          0.5180104471702501
         ],
         [
          0.7109891214078169,
          0.7157292720673969,
          0.5806068458871527,
          0.48381788152811805,
          0.5034274596765445
         ],
         [
          0.7260100327131787,
          0.7338874407228482,
          0.9716720966163176,
          0.7782905262525462
         ],
         [
          0.7338874407228482,
          0.7109891214078169,
          0.7157292720673969,
          1.216442820503958,
          1.5438141284532079,
          0.9716720966163176
         ],
         [
          0.7260100327131787,
          0.5180104471702501,
          0.5034274596765445,
          0.7109891214078169,
          0.7338874407228482
         ],
         [
          0.7260100327131787,
          0.5180104471702501,
          0.44811437238452245,
          0.7862371954417654,
          0.7782905262525462
         ]
        ]
       },
       "y": {
        "type": "object",
        "values": [
         [
          0.09709933172300317,
          0.23498045883754137,
          0.3591159380711344,
          0.2787555382740357
         ],
         [
          0.2787555382740357,
          0.3444515821822909,
          0.5029083802751683,
          0.5758181303479604,
          0.3606066009240778,
          0.3591159380711344
         ],
         [
          0.09709933172300317,
          -0.35748283665951325,
          0.14621566078753526,
          0.23498045883754137
         ],
         [
          0.2422192635826514,
          0.14621566078753526,
          0.23498045883754137,
          0.3591159380711344,
          0.3606066009240778,
          0.42411115923459075
         ],
         [
          0.6055897626427533,
          0.5758181303479604,
          0.5029083802751683,
          0.554666334735012,
          0.9550652406422548,
          0.9045289990489157,
          0.6608648024811047
         ],
         [
          0.5285394272389918,
          0.42411115923459075,
          0.3606066009240778,
          0.5758181303479604,
          0.6055897626427533
         ],
         [
          0.6844412631187945,
          0.573194611808946,
          0.5538383620905631,
          0.7531008790263298
         ],
         [
          0.573194611808946,
          0.5285394272389918,
          0.42411115923459075,
          0.2422192635826514,
          0.22006148839037726,
          0.5538383620905631
         ],
         [
          0.6844412631187945,
          0.6608648024811047,
          0.6055897626427533,
          0.5285394272389918,
          0.573194611808946
         ],
         [
          0.6844412631187945,
          0.6608648024811047,
          0.9045289990489157,
          0.8190658169987436,
          0.7531008790263298
         ]
        ]
       }
      }
     },
     "bc1c679f82a04bc586435f3797a31edb": {
      "model_module": "bqplot",
      "model_module_version": "^0.4.5",
      "model_name": "DateScaleModel",
      "state": {}
     },
     "be74fea230dd45a5bb843286beea1180": {
      "model_module": "bqplot",
      "model_module_version": "^0.4.5",
      "model_name": "LinearScaleModel",
      "state": {
       "stabilized": false
      }
     },
     "c0ab2a18fab443d0af92a817f74663a0": {
      "model_module": "bqplot",
      "model_module_version": "^0.4.5",
      "model_name": "LinesModel",
      "state": {
       "close_path": true,
       "color": {
        "type": null,
        "values": null
       },
       "display_legend": false,
       "fill": "inside",
       "fill_colors": [],
       "labels": [
        "Point-three",
        "Point-thirteen",
        "Point-eleven",
        "Point-nine",
        "Point-twelve",
        "Point-fourteen",
        "Point-eight",
        "Point-sixteen",
        "Point-fifteen",
        "Point-two"
       ],
       "scales": {
        "x": "IPY_MODEL_120b638fa37748b2b5d1c7c3aa3486b0",
        "y": "IPY_MODEL_6ae3eba53a7048baac15e02d89729e05"
       },
       "selected": [],
       "stroke_width": 1,
       "tooltip": "IPY_MODEL_45c9563536674b36a6b840e3931aba2e",
       "x": {
        "type": "object",
        "values": [
         [
          0.3584447216903549,
          0.6171489120032924,
          0.5798499221127168,
          0.2831911754505866
         ],
         [
          0.2831911754505866,
          0.19992177320742419,
          0.22821203424164746,
          0.48381788152811805,
          0.5806068458871527,
          0.5798499221127168
         ],
         [
          0.3584447216903549,
          0.4239724854695897,
          0.6912996529354414,
          0.6171489120032924
         ],
         [
          1.216442820503958,
          0.6912996529354414,
          0.6171489120032924,
          0.5798499221127168,
          0.5806068458871527,
          0.7157292720673969
         ],
         [
          0.5034274596765445,
          0.48381788152811805,
          0.22821203424164746,
          0.20552139150292098,
          0.4028840030738831,
          0.44811437238452245,
          0.5180104471702501
         ],
         [
          0.7109891214078169,
          0.7157292720673969,
          0.5806068458871527,
          0.48381788152811805,
          0.5034274596765445
         ],
         [
          0.7260100327131787,
          0.7338874407228482,
          0.9716720966163176,
          0.7782905262525462
         ],
         [
          0.7338874407228482,
          0.7109891214078169,
          0.7157292720673969,
          1.216442820503958,
          1.5438141284532079,
          0.9716720966163176
         ],
         [
          0.7260100327131787,
          0.5180104471702501,
          0.5034274596765445,
          0.7109891214078169,
          0.7338874407228482
         ],
         [
          0.7260100327131787,
          0.5180104471702501,
          0.44811437238452245,
          0.7862371954417654,
          0.7782905262525462
         ]
        ]
       },
       "y": {
        "type": "object",
        "values": [
         [
          0.09709933172300317,
          0.23498045883754137,
          0.3591159380711344,
          0.2787555382740357
         ],
         [
          0.2787555382740357,
          0.3444515821822909,
          0.5029083802751683,
          0.5758181303479604,
          0.3606066009240778,
          0.3591159380711344
         ],
         [
          0.09709933172300317,
          -0.35748283665951325,
          0.14621566078753526,
          0.23498045883754137
         ],
         [
          0.2422192635826514,
          0.14621566078753526,
          0.23498045883754137,
          0.3591159380711344,
          0.3606066009240778,
          0.42411115923459075
         ],
         [
          0.6055897626427533,
          0.5758181303479604,
          0.5029083802751683,
          0.554666334735012,
          0.9550652406422548,
          0.9045289990489157,
          0.6608648024811047
         ],
         [
          0.5285394272389918,
          0.42411115923459075,
          0.3606066009240778,
          0.5758181303479604,
          0.6055897626427533
         ],
         [
          0.6844412631187945,
          0.573194611808946,
          0.5538383620905631,
          0.7531008790263298
         ],
         [
          0.573194611808946,
          0.5285394272389918,
          0.42411115923459075,
          0.2422192635826514,
          0.22006148839037726,
          0.5538383620905631
         ],
         [
          0.6844412631187945,
          0.6608648024811047,
          0.6055897626427533,
          0.5285394272389918,
          0.573194611808946
         ],
         [
          0.6844412631187945,
          0.6608648024811047,
          0.9045289990489157,
          0.8190658169987436,
          0.7531008790263298
         ]
        ]
       }
      }
     },
     "c156aef0f03249318f70e037025fb049": {
      "model_module": "bqplot",
      "model_module_version": "^0.4.5",
      "model_name": "FigureModel",
      "state": {
       "_dom_classes": [],
       "animation_duration": 1000,
       "axes": [
        "IPY_MODEL_183776985d694073a3d541008dfd2487",
        "IPY_MODEL_65a013b7d08446d58704f454396e5d30"
       ],
       "layout": "IPY_MODEL_3ee742ec893e40f1b58171666e1aba86",
       "marks": [
        "IPY_MODEL_1bebdc7de4c04b2ea4c6683051fc2345",
        "IPY_MODEL_496f5851b86f4471a9f02d18240a2c08"
       ],
       "scale_x": "IPY_MODEL_187de36a637d4246b46db823b74b2043",
       "scale_y": "IPY_MODEL_9ab39a558e254cfa81acf447677d5abe"
      }
     },
     "c69865866fdd403fbdf39c45a8d0106b": {
      "model_module": "bqplot",
      "model_module_version": "^0.4.5",
      "model_name": "LinesModel",
      "state": {
       "color": {
        "type": null,
        "values": null
       },
       "fill_colors": [],
       "labels": [
        "Security 1",
        "Security 2"
       ],
       "scales": {
        "x": "IPY_MODEL_bc1c679f82a04bc586435f3797a31edb",
        "y": "IPY_MODEL_c9f9c24a381a48e291ee3436c34214a2"
       },
       "selected": [],
       "x": {
        "type": "date",
        "values": [
         [
          "2007-01-01T00:00:00.000000",
          "2007-01-02T00:00:00.000000",
          "2007-01-03T00:00:00.000000",
          "2007-01-04T00:00:00.000000",
          "2007-01-05T00:00:00.000000",
          "2007-01-06T00:00:00.000000",
          "2007-01-07T00:00:00.000000",
          "2007-01-08T00:00:00.000000",
          "2007-01-09T00:00:00.000000",
          "2007-01-10T00:00:00.000000",
          "2007-01-11T00:00:00.000000",
          "2007-01-12T00:00:00.000000",
          "2007-01-13T00:00:00.000000",
          "2007-01-14T00:00:00.000000",
          "2007-01-15T00:00:00.000000",
          "2007-01-16T00:00:00.000000",
          "2007-01-17T00:00:00.000000",
          "2007-01-18T00:00:00.000000",
          "2007-01-19T00:00:00.000000",
          "2007-01-20T00:00:00.000000",
          "2007-01-21T00:00:00.000000",
          "2007-01-22T00:00:00.000000",
          "2007-01-23T00:00:00.000000",
          "2007-01-24T00:00:00.000000",
          "2007-01-25T00:00:00.000000",
          "2007-01-26T00:00:00.000000",
          "2007-01-27T00:00:00.000000",
          "2007-01-28T00:00:00.000000",
          "2007-01-29T00:00:00.000000",
          "2007-01-30T00:00:00.000000",
          "2007-01-31T00:00:00.000000",
          "2007-02-01T00:00:00.000000",
          "2007-02-02T00:00:00.000000",
          "2007-02-03T00:00:00.000000",
          "2007-02-04T00:00:00.000000",
          "2007-02-05T00:00:00.000000",
          "2007-02-06T00:00:00.000000",
          "2007-02-07T00:00:00.000000",
          "2007-02-08T00:00:00.000000",
          "2007-02-09T00:00:00.000000",
          "2007-02-10T00:00:00.000000",
          "2007-02-11T00:00:00.000000",
          "2007-02-12T00:00:00.000000",
          "2007-02-13T00:00:00.000000",
          "2007-02-14T00:00:00.000000",
          "2007-02-15T00:00:00.000000",
          "2007-02-16T00:00:00.000000",
          "2007-02-17T00:00:00.000000",
          "2007-02-18T00:00:00.000000",
          "2007-02-19T00:00:00.000000",
          "2007-02-20T00:00:00.000000",
          "2007-02-21T00:00:00.000000",
          "2007-02-22T00:00:00.000000",
          "2007-02-23T00:00:00.000000",
          "2007-02-24T00:00:00.000000",
          "2007-02-25T00:00:00.000000",
          "2007-02-26T00:00:00.000000",
          "2007-02-27T00:00:00.000000",
          "2007-02-28T00:00:00.000000",
          "2007-03-01T00:00:00.000000",
          "2007-03-02T00:00:00.000000",
          "2007-03-03T00:00:00.000000",
          "2007-03-04T00:00:00.000000",
          "2007-03-05T00:00:00.000000",
          "2007-03-06T00:00:00.000000",
          "2007-03-07T00:00:00.000000",
          "2007-03-08T00:00:00.000000",
          "2007-03-09T00:00:00.000000",
          "2007-03-10T00:00:00.000000",
          "2007-03-11T00:00:00.000000",
          "2007-03-12T00:00:00.000000",
          "2007-03-13T00:00:00.000000",
          "2007-03-14T00:00:00.000000",
          "2007-03-15T00:00:00.000000",
          "2007-03-16T00:00:00.000000",
          "2007-03-17T00:00:00.000000",
          "2007-03-18T00:00:00.000000",
          "2007-03-19T00:00:00.000000",
          "2007-03-20T00:00:00.000000",
          "2007-03-21T00:00:00.000000",
          "2007-03-22T00:00:00.000000",
          "2007-03-23T00:00:00.000000",
          "2007-03-24T00:00:00.000000",
          "2007-03-25T00:00:00.000000",
          "2007-03-26T00:00:00.000000",
          "2007-03-27T00:00:00.000000",
          "2007-03-28T00:00:00.000000",
          "2007-03-29T00:00:00.000000",
          "2007-03-30T00:00:00.000000",
          "2007-03-31T00:00:00.000000",
          "2007-04-01T00:00:00.000000",
          "2007-04-02T00:00:00.000000",
          "2007-04-03T00:00:00.000000",
          "2007-04-04T00:00:00.000000",
          "2007-04-05T00:00:00.000000",
          "2007-04-06T00:00:00.000000",
          "2007-04-07T00:00:00.000000",
          "2007-04-08T00:00:00.000000",
          "2007-04-09T00:00:00.000000",
          "2007-04-10T00:00:00.000000",
          "2007-04-11T00:00:00.000000",
          "2007-04-12T00:00:00.000000",
          "2007-04-13T00:00:00.000000",
          "2007-04-14T00:00:00.000000",
          "2007-04-15T00:00:00.000000",
          "2007-04-16T00:00:00.000000",
          "2007-04-17T00:00:00.000000",
          "2007-04-18T00:00:00.000000",
          "2007-04-19T00:00:00.000000",
          "2007-04-20T00:00:00.000000",
          "2007-04-21T00:00:00.000000",
          "2007-04-22T00:00:00.000000",
          "2007-04-23T00:00:00.000000",
          "2007-04-24T00:00:00.000000",
          "2007-04-25T00:00:00.000000",
          "2007-04-26T00:00:00.000000",
          "2007-04-27T00:00:00.000000",
          "2007-04-28T00:00:00.000000",
          "2007-04-29T00:00:00.000000",
          "2007-04-30T00:00:00.000000",
          "2007-05-01T00:00:00.000000",
          "2007-05-02T00:00:00.000000",
          "2007-05-03T00:00:00.000000",
          "2007-05-04T00:00:00.000000",
          "2007-05-05T00:00:00.000000",
          "2007-05-06T00:00:00.000000",
          "2007-05-07T00:00:00.000000",
          "2007-05-08T00:00:00.000000",
          "2007-05-09T00:00:00.000000",
          "2007-05-10T00:00:00.000000",
          "2007-05-11T00:00:00.000000",
          "2007-05-12T00:00:00.000000",
          "2007-05-13T00:00:00.000000",
          "2007-05-14T00:00:00.000000",
          "2007-05-15T00:00:00.000000",
          "2007-05-16T00:00:00.000000",
          "2007-05-17T00:00:00.000000",
          "2007-05-18T00:00:00.000000",
          "2007-05-19T00:00:00.000000",
          "2007-05-20T00:00:00.000000",
          "2007-05-21T00:00:00.000000",
          "2007-05-22T00:00:00.000000",
          "2007-05-23T00:00:00.000000",
          "2007-05-24T00:00:00.000000",
          "2007-05-25T00:00:00.000000",
          "2007-05-26T00:00:00.000000",
          "2007-05-27T00:00:00.000000",
          "2007-05-28T00:00:00.000000",
          "2007-05-29T00:00:00.000000",
          "2007-05-30T00:00:00.000000"
         ],
         [
          "2007-06-01T00:00:00.000000",
          "2007-06-02T00:00:00.000000",
          "2007-06-03T00:00:00.000000",
          "2007-06-04T00:00:00.000000",
          "2007-06-05T00:00:00.000000",
          "2007-06-06T00:00:00.000000",
          "2007-06-07T00:00:00.000000",
          "2007-06-08T00:00:00.000000",
          "2007-06-09T00:00:00.000000",
          "2007-06-10T00:00:00.000000",
          "2007-06-11T00:00:00.000000",
          "2007-06-12T00:00:00.000000",
          "2007-06-13T00:00:00.000000",
          "2007-06-14T00:00:00.000000",
          "2007-06-15T00:00:00.000000",
          "2007-06-16T00:00:00.000000",
          "2007-06-17T00:00:00.000000",
          "2007-06-18T00:00:00.000000",
          "2007-06-19T00:00:00.000000",
          "2007-06-20T00:00:00.000000",
          "2007-06-21T00:00:00.000000",
          "2007-06-22T00:00:00.000000",
          "2007-06-23T00:00:00.000000",
          "2007-06-24T00:00:00.000000",
          "2007-06-25T00:00:00.000000",
          "2007-06-26T00:00:00.000000",
          "2007-06-27T00:00:00.000000",
          "2007-06-28T00:00:00.000000",
          "2007-06-29T00:00:00.000000",
          "2007-06-30T00:00:00.000000",
          "2007-07-01T00:00:00.000000",
          "2007-07-02T00:00:00.000000",
          "2007-07-03T00:00:00.000000",
          "2007-07-04T00:00:00.000000",
          "2007-07-05T00:00:00.000000",
          "2007-07-06T00:00:00.000000",
          "2007-07-07T00:00:00.000000",
          "2007-07-08T00:00:00.000000",
          "2007-07-09T00:00:00.000000",
          "2007-07-10T00:00:00.000000",
          "2007-07-11T00:00:00.000000",
          "2007-07-12T00:00:00.000000",
          "2007-07-13T00:00:00.000000",
          "2007-07-14T00:00:00.000000",
          "2007-07-15T00:00:00.000000",
          "2007-07-16T00:00:00.000000",
          "2007-07-17T00:00:00.000000",
          "2007-07-18T00:00:00.000000",
          "2007-07-19T00:00:00.000000",
          "2007-07-20T00:00:00.000000",
          "2007-07-21T00:00:00.000000",
          "2007-07-22T00:00:00.000000",
          "2007-07-23T00:00:00.000000",
          "2007-07-24T00:00:00.000000",
          "2007-07-25T00:00:00.000000",
          "2007-07-26T00:00:00.000000",
          "2007-07-27T00:00:00.000000",
          "2007-07-28T00:00:00.000000",
          "2007-07-29T00:00:00.000000",
          "2007-07-30T00:00:00.000000",
          "2007-07-31T00:00:00.000000",
          "2007-08-01T00:00:00.000000",
          "2007-08-02T00:00:00.000000",
          "2007-08-03T00:00:00.000000",
          "2007-08-04T00:00:00.000000",
          "2007-08-05T00:00:00.000000",
          "2007-08-06T00:00:00.000000",
          "2007-08-07T00:00:00.000000",
          "2007-08-08T00:00:00.000000",
          "2007-08-09T00:00:00.000000",
          "2007-08-10T00:00:00.000000",
          "2007-08-11T00:00:00.000000",
          "2007-08-12T00:00:00.000000",
          "2007-08-13T00:00:00.000000",
          "2007-08-14T00:00:00.000000",
          "2007-08-15T00:00:00.000000",
          "2007-08-16T00:00:00.000000",
          "2007-08-17T00:00:00.000000",
          "2007-08-18T00:00:00.000000",
          "2007-08-19T00:00:00.000000",
          "2007-08-20T00:00:00.000000",
          "2007-08-21T00:00:00.000000",
          "2007-08-22T00:00:00.000000",
          "2007-08-23T00:00:00.000000",
          "2007-08-24T00:00:00.000000",
          "2007-08-25T00:00:00.000000",
          "2007-08-26T00:00:00.000000",
          "2007-08-27T00:00:00.000000",
          "2007-08-28T00:00:00.000000",
          "2007-08-29T00:00:00.000000",
          "2007-08-30T00:00:00.000000",
          "2007-08-31T00:00:00.000000",
          "2007-09-01T00:00:00.000000",
          "2007-09-02T00:00:00.000000",
          "2007-09-03T00:00:00.000000",
          "2007-09-04T00:00:00.000000",
          "2007-09-05T00:00:00.000000",
          "2007-09-06T00:00:00.000000",
          "2007-09-07T00:00:00.000000",
          "2007-09-08T00:00:00.000000",
          "2007-09-09T00:00:00.000000",
          "2007-09-10T00:00:00.000000",
          "2007-09-11T00:00:00.000000",
          "2007-09-12T00:00:00.000000",
          "2007-09-13T00:00:00.000000",
          "2007-09-14T00:00:00.000000",
          "2007-09-15T00:00:00.000000",
          "2007-09-16T00:00:00.000000",
          "2007-09-17T00:00:00.000000",
          "2007-09-18T00:00:00.000000",
          "2007-09-19T00:00:00.000000",
          "2007-09-20T00:00:00.000000",
          "2007-09-21T00:00:00.000000",
          "2007-09-22T00:00:00.000000",
          "2007-09-23T00:00:00.000000",
          "2007-09-24T00:00:00.000000",
          "2007-09-25T00:00:00.000000",
          "2007-09-26T00:00:00.000000",
          "2007-09-27T00:00:00.000000",
          "2007-09-28T00:00:00.000000",
          "2007-09-29T00:00:00.000000",
          "2007-09-30T00:00:00.000000",
          "2007-10-01T00:00:00.000000",
          "2007-10-02T00:00:00.000000",
          "2007-10-03T00:00:00.000000",
          "2007-10-04T00:00:00.000000",
          "2007-10-05T00:00:00.000000",
          "2007-10-06T00:00:00.000000",
          "2007-10-07T00:00:00.000000",
          "2007-10-08T00:00:00.000000",
          "2007-10-09T00:00:00.000000",
          "2007-10-10T00:00:00.000000",
          "2007-10-11T00:00:00.000000",
          "2007-10-12T00:00:00.000000",
          "2007-10-13T00:00:00.000000",
          "2007-10-14T00:00:00.000000",
          "2007-10-15T00:00:00.000000",
          "2007-10-16T00:00:00.000000",
          "2007-10-17T00:00:00.000000",
          "2007-10-18T00:00:00.000000",
          "2007-10-19T00:00:00.000000",
          "2007-10-20T00:00:00.000000",
          "2007-10-21T00:00:00.000000",
          "2007-10-22T00:00:00.000000",
          "2007-10-23T00:00:00.000000",
          "2007-10-24T00:00:00.000000",
          "2007-10-25T00:00:00.000000",
          "2007-10-26T00:00:00.000000",
          "2007-10-27T00:00:00.000000",
          "2007-10-28T00:00:00.000000"
         ]
        ]
       },
       "y": {
        "type": "float",
        "values": [
         [
          102.07774820784103,
          100.49779695610543,
          100.71509478061873,
          99.33964578910538,
          99.00517727745434,
          99.45716441135741,
          98.68294418569063,
          98.10279972690383,
          97.918461239543,
          99.46432743561226,
          100.55529599243104,
          100.77435810879824,
          100.606441173794,
          100.7947792242566,
          102.73824341792643,
          101.75909435634706,
          101.47320750666893,
          101.72791413831636,
          99.71076485654307,
          99.31624977808693,
          100.52703114539487,
          100.724271907446,
          101.13504461539237,
          102.65249442151503,
          103.92654022304039,
          102.14862369603338,
          101.73813999360536,
          100.25659777457214,
          100.02604980263843,
          100.15113402611725,
          101.08869524033119,
          102.23482358286043,
          103.18021547017665,
          102.40410316015519,
          103.25846383956902,
          103.47673999888217,
          103.94505560769338,
          103.54095329704471,
          102.85454508896706,
          100.97091894294947,
          100.71017213000117,
          100.52730698709063,
          101.6580604291436,
          101.33844872031125,
          100.09700061188555,
          100.07989540001272,
          100.2346042391465,
          100.30841282213086,
          99.64958967775736,
          99.54827212892378,
          96.97158039861044,
          96.97283186981376,
          97.02603373311572,
          96.78042278000245,
          95.50019069846341,
          95.00378277669705,
          93.98148654128269,
          94.50577752489522,
          92.22951510535319,
          92.31175845595635,
          91.3365410100737,
          91.36615003647103,
          92.04019944292216,
          92.75343639762485,
          93.6979035828532,
          94.13732254774067,
          93.99653973683446,
          92.97047747166886,
          92.3015500413917,
          92.63366652756201,
          95.28739090065417,
          96.36629179897685,
          95.27544215733819,
          94.56262735190244,
          94.54403563332441,
          96.14372740771456,
          95.38927776144554,
          95.62519414760023,
          96.63758413221062,
          96.7257864706994,
          96.85394355834852,
          96.48693643695366,
          96.64370987568562,
          97.19121706760359,
          97.76958299062446,
          98.19151910371424,
          98.18654361207699,
          99.35844081155906,
          98.608434816907,
          97.4549054362504,
          97.89533204201203,
          98.92046326068163,
          98.54172941006456,
          100.10020894958436,
          100.69939586744424,
          101.18363607213831,
          98.97813209301884,
          98.90072441665704,
          100.33258301124164,
          99.882505081055,
          100.61885177751273,
          103.11210128856855,
          102.64701803644544,
          101.33935010001014,
          101.23274473386486,
          100.35697078975171,
          100.09839338469948,
          100.01120490318704,
          98.75117277458318,
          97.10091186335251,
          97.25596430121848,
          97.2725573851688,
          95.62518769641002,
          95.04951007385304,
          95.41920894562384,
          95.7518625996275,
          95.33779079244783,
          95.55144415552392,
          95.85892607807355,
          94.45987828826497,
          94.67938523404386,
          94.70345673270887,
          97.06150731867875,
          96.26228068178713,
          97.69575171821946,
          97.66050554424619,
          98.44936838498946,
          98.4490988487904,
          97.91711613824388,
          97.31931981401786,
          95.64576246618078,
          95.4632902377418,
          94.82154215893503,
          92.50775600176074,
          91.66782595314305,
          91.43305495057167,
          91.51390584853769,
          92.56831815865068,
          91.74512828265566,
          91.60216067870624,
          92.19130571968154,
          94.13483651609829,
          93.29180733570256,
          93.15006606726247,
          93.43577575730991,
          93.82074959275651,
          94.7647800253798,
          95.59614086951302,
          96.68502924357934,
          96.57648231571069
         ],
         [
          101.13282392644267,
          102.73447895164794,
          102.82876048122196,
          103.02802233262429,
          103.32022405723356,
          104.10906292016699,
          104.34832367695847,
          105.83213973220872,
          106.25055370660138,
          107.83380381595667,
          107.5928460145186,
          107.31920997654045,
          108.16477347804738,
          109.62692249233844,
          109.2916180819223,
          109.16464197873692,
          108.00012225340484,
          107.47166546205018,
          107.45620214126804,
          106.96255977694855,
          107.8796939475559,
          106.56327337102968,
          107.78180805406006,
          107.17975448906957,
          106.33550461232406,
          108.83325532557569,
          109.80770967545097,
          110.25030165707935,
          111.26628458904301,
          111.10314509858291,
          111.49969017579392,
          113.98912903993937,
          114.35625314871787,
          113.43078829465514,
          112.67342834412023,
          114.68372030187581,
          114.07202149767791,
          113.83064843705841,
          112.87936375451854,
          111.54684116776393,
          110.87275681972731,
          110.07087515372834,
          111.21361136573283,
          110.2864511660122,
          108.88428762433593,
          108.78742211420527,
          110.27999271423984,
          112.14143111409757,
          111.75421113475461,
          109.66048911853511,
          108.84133743454525,
          108.93454982826267,
          110.59483269226278,
          111.9394591000738,
          111.18531490565802,
          111.4629555864356,
          109.77804825006487,
          110.17774514698544,
          110.73281841170031,
          110.91204116061236,
          111.20826232252948,
          112.30484098981547,
          109.8799034886732,
          110.4350200124162,
          110.41629093661594,
          109.72426621188643,
          109.13571309619988,
          110.42194001274859,
          109.39306847544492,
          108.64036710197074,
          109.84221310012028,
          110.49117318907933,
          109.49225669259181,
          109.29328621663848,
          107.80805124974984,
          109.31693622126505,
          108.26987462028396,
          110.6233944252931,
          109.94374777497109,
          112.22950665634019,
          112.5751114853214,
          110.85158464900663,
          110.59090626630467,
          110.73759203867536,
          111.27978238925722,
          110.45546754843471,
          110.48117202386744,
          111.22166380366424,
          110.86074157511456,
          113.35351394024013,
          112.32020146156484,
          110.96215049579038,
          110.05839494925193,
          111.93850484368343,
          111.66277049067963,
          111.64053637446337,
          110.92141484352933,
          110.32233352065761,
          110.97935866387095,
          109.75710235249474,
          109.20507787172093,
          108.29325960427387,
          108.28351066198655,
          108.97753800101637,
          108.3947618358229,
          107.98516862422316,
          109.25308079419402,
          109.49782065806698,
          108.72235289202274,
          108.6046376781998,
          108.37076803220528,
          109.7432569458131,
          109.05079122784942,
          109.99350517743413,
          108.28415795581147,
          106.63134203663736,
          107.41827470775165,
          107.50859921035513,
          107.67586894265261,
          107.38058552690735,
          107.83106216064529,
          108.04709373883486,
          108.37362713489996,
          108.37830399775756,
          108.81706788724676,
          106.49140833244135,
          104.43969665151816,
          104.73812760879562,
          104.51077882679792,
          104.92668241413648,
          105.4517873378154,
          106.74453696654338,
          106.89395258940735,
          106.48279815786636,
          106.50199296520948,
          107.1670177667718,
          107.15333831593435,
          106.32319545373758,
          106.82699398842487,
          106.84819099407929,
          107.40978725705196,
          107.2174371323107,
          107.83924452480065,
          109.98045874974943,
          110.19483024129244,
          109.52629730896962,
          109.3830443722265,
          107.42923589632873,
          106.00488209046102,
          106.53494986858837
         ]
        ]
       }
      }
     },
     "c7f0604d005c4aea89677383f60eb66b": {
      "model_module": "@jupyter-widgets/base",
      "model_module_version": "1.1.0",
      "model_name": "LayoutModel",
      "state": {
       "min_width": "125px"
      }
     },
     "c9ab6508393b4a09a3537ba9e488c467": {
      "model_module": "bqplot",
      "model_module_version": "^0.4.5",
      "model_name": "AxisModel",
      "state": {
       "scale": "IPY_MODEL_21be8996937044759d3554e50e2d8f79",
       "side": "bottom",
       "tick_values": {
        "type": null,
        "values": null
       }
      }
     },
     "c9f9c24a381a48e291ee3436c34214a2": {
      "model_module": "bqplot",
      "model_module_version": "^0.4.5",
      "model_name": "LinearScaleModel",
      "state": {
       "stabilized": false
      }
     },
     "cb0efa994dab4b128f067424bc9b85a6": {
      "model_module": "bqplot",
      "model_module_version": "^0.4.5",
      "model_name": "AxisModel",
      "state": {
       "label": "Price",
       "orientation": "vertical",
       "scale": "IPY_MODEL_c9f9c24a381a48e291ee3436c34214a2",
       "side": "left",
       "tick_values": {
        "type": null,
        "values": null
       }
      }
     },
     "ce62aae4d39a4128985d6484abc62f49": {
      "model_module": "bqplot",
      "model_module_version": "^0.4.5",
      "model_name": "LinearScaleModel",
      "state": {
       "allow_padding": false,
       "max": 1,
       "min": 0,
       "stabilized": false
      }
     },
     "d523a692a56e49209431eff0b646e4d3": {
      "model_module": "bqplot",
      "model_module_version": "^0.4.5",
      "model_name": "LinearScaleModel",
      "state": {
       "allow_padding": false,
       "max": 1,
       "min": 0,
       "stabilized": false
      }
     },
     "d638c2a8750e4e4380daf712e6890a33": {
      "model_module": "bqplot",
      "model_module_version": "^0.4.5",
      "model_name": "AxisModel",
      "state": {
       "orientation": "vertical",
       "scale": "IPY_MODEL_daaeba256f624fa58f2a73254628600b",
       "side": "left",
       "tick_values": {
        "type": null,
        "values": null
       }
      }
     },
     "d8173947c8e14e609cd6ef069e25a89b": {
      "model_module": "bqplot",
      "model_module_version": "^0.4.5",
      "model_name": "LinesModel",
      "state": {
       "close_path": true,
       "color": {
        "type": null,
        "values": null
       },
       "display_legend": false,
       "fill": "inside",
       "fill_colors": [],
       "labels": [
        "Point-three",
        "Point-thirteen",
        "Point-eleven",
        "Point-nine",
        "Point-twelve",
        "Point-fourteen",
        "Point-eight",
        "Point-sixteen",
        "Point-fifteen",
        "Point-two"
       ],
       "scales": {
        "x": "IPY_MODEL_b49acc86c82e41fc8304aebdcff8f0d7",
        "y": "IPY_MODEL_066e227bde634b629e71fcd158613328"
       },
       "selected": [],
       "stroke_width": 1,
       "tooltip": "IPY_MODEL_45c9563536674b36a6b840e3931aba2e",
       "x": {
        "type": "object",
        "values": [
         [
          0.3584447216903549,
          0.6171489120032924,
          0.5798499221127168,
          0.2831911754505866
         ],
         [
          0.2831911754505866,
          0.19992177320742419,
          0.22821203424164746,
          0.48381788152811805,
          0.5806068458871527,
          0.5798499221127168
         ],
         [
          0.3584447216903549,
          0.4239724854695897,
          0.6912996529354414,
          0.6171489120032924
         ],
         [
          1.216442820503958,
          0.6912996529354414,
          0.6171489120032924,
          0.5798499221127168,
          0.5806068458871527,
          0.7157292720673969
         ],
         [
          0.5034274596765445,
          0.48381788152811805,
          0.22821203424164746,
          0.20552139150292098,
          0.4028840030738831,
          0.44811437238452245,
          0.5180104471702501
         ],
         [
          0.7109891214078169,
          0.7157292720673969,
          0.5806068458871527,
          0.48381788152811805,
          0.5034274596765445
         ],
         [
          0.7260100327131787,
          0.7338874407228482,
          0.9716720966163176,
          0.7782905262525462
         ],
         [
          0.7338874407228482,
          0.7109891214078169,
          0.7157292720673969,
          1.216442820503958,
          1.5438141284532079,
          0.9716720966163176
         ],
         [
          0.7260100327131787,
          0.5180104471702501,
          0.5034274596765445,
          0.7109891214078169,
          0.7338874407228482
         ],
         [
          0.7260100327131787,
          0.5180104471702501,
          0.44811437238452245,
          0.7862371954417654,
          0.7782905262525462
         ]
        ]
       },
       "y": {
        "type": "object",
        "values": [
         [
          0.09709933172300317,
          0.23498045883754137,
          0.3591159380711344,
          0.2787555382740357
         ],
         [
          0.2787555382740357,
          0.3444515821822909,
          0.5029083802751683,
          0.5758181303479604,
          0.3606066009240778,
          0.3591159380711344
         ],
         [
          0.09709933172300317,
          -0.35748283665951325,
          0.14621566078753526,
          0.23498045883754137
         ],
         [
          0.2422192635826514,
          0.14621566078753526,
          0.23498045883754137,
          0.3591159380711344,
          0.3606066009240778,
          0.42411115923459075
         ],
         [
          0.6055897626427533,
          0.5758181303479604,
          0.5029083802751683,
          0.554666334735012,
          0.9550652406422548,
          0.9045289990489157,
          0.6608648024811047
         ],
         [
          0.5285394272389918,
          0.42411115923459075,
          0.3606066009240778,
          0.5758181303479604,
          0.6055897626427533
         ],
         [
          0.6844412631187945,
          0.573194611808946,
          0.5538383620905631,
          0.7531008790263298
         ],
         [
          0.573194611808946,
          0.5285394272389918,
          0.42411115923459075,
          0.2422192635826514,
          0.22006148839037726,
          0.5538383620905631
         ],
         [
          0.6844412631187945,
          0.6608648024811047,
          0.6055897626427533,
          0.5285394272389918,
          0.573194611808946
         ],
         [
          0.6844412631187945,
          0.6608648024811047,
          0.9045289990489157,
          0.8190658169987436,
          0.7531008790263298
         ]
        ]
       }
      }
     },
     "d82b8e25e8ff47afb25c1561a87fcede": {
      "model_module": "bqplot",
      "model_module_version": "^0.4.5",
      "model_name": "LinearScaleModel",
      "state": {
       "allow_padding": false,
       "max": 1,
       "min": 0,
       "stabilized": false
      }
     },
     "d9dcc43ab3bf4f178a274546af21b2c8": {
      "model_module": "bqplot",
      "model_module_version": "^0.4.5",
      "model_name": "LinearScaleModel",
      "state": {
       "stabilized": false
      }
     },
     "daaeba256f624fa58f2a73254628600b": {
      "model_module": "bqplot",
      "model_module_version": "^0.4.5",
      "model_name": "LinearScaleModel",
      "state": {
       "stabilized": false
      }
     },
     "dbe75a08433f43c2963730e8c25bda6b": {
      "model_module": "bqplot",
      "model_module_version": "^0.4.5",
      "model_name": "LinearScaleModel",
      "state": {
       "stabilized": false
      }
     },
     "dca2bd9b7acb4fda948a1f9fad996433": {
      "model_module": "@jupyter-widgets/base",
      "model_module_version": "1.1.0",
      "model_name": "LayoutModel",
      "state": {
       "min_width": "125px"
      }
     },
     "df0a213130ab4b34bfacd4b375f3d802": {
      "model_module": "bqplot",
      "model_module_version": "^0.4.5",
      "model_name": "AxisModel",
      "state": {
       "scale": "IPY_MODEL_d9dcc43ab3bf4f178a274546af21b2c8",
       "side": "bottom",
       "tick_values": {
        "type": null,
        "values": null
       }
      }
     },
     "e08eda6e02104d7981603aee219c9184": {
      "model_module": "@jupyter-widgets/base",
      "model_module_version": "1.1.0",
      "model_name": "LayoutModel",
      "state": {
       "min_width": "125px"
      }
     },
     "e17335b2d6b64cb79ca9b628c3ec019f": {
      "model_module": "@jupyter-widgets/base",
      "model_module_version": "1.1.0",
      "model_name": "LayoutModel",
      "state": {
       "min_width": "125px"
      }
     },
     "e1860ca0935648f09d7d34805f847feb": {
      "model_module": "bqplot",
      "model_module_version": "^0.4.5",
      "model_name": "FigureModel",
      "state": {
       "_dom_classes": [],
       "animation_duration": 1000,
       "axes": [
        "IPY_MODEL_c9ab6508393b4a09a3537ba9e488c467",
        "IPY_MODEL_b22f06100bc04a048663724186885bdf"
       ],
       "layout": "IPY_MODEL_5269850544df490d8aa350abec909e45",
       "marks": [
        "IPY_MODEL_87af48bd74834bdfb7bcf01566c443b5",
        "IPY_MODEL_2d1f76c75b764ec8992f26b4800b46d5"
       ],
       "scale_x": "IPY_MODEL_139bc1ed5bb540caa8f3da13fb9db505",
       "scale_y": "IPY_MODEL_865a8c72eecd4098974a8060eb39295d"
      }
     },
     "e1900cfc54ee4bca9f78befdb60f173e": {
      "model_module": "bqplot",
      "model_module_version": "^0.4.5",
      "model_name": "FigureModel",
      "state": {
       "_dom_classes": [],
       "animation_duration": 1000,
       "axes": [
        "IPY_MODEL_753cda5aca45461f8934184159cb18db",
        "IPY_MODEL_93e99ea0381a426fbfabd5537bb4853b"
       ],
       "layout": "IPY_MODEL_f9c6453e6c08447d9e7d35ee0617f60f",
       "marks": [
        "IPY_MODEL_ff256831e5a246e2a2d82721ed0adfd2"
       ],
       "scale_x": "IPY_MODEL_07f7d2bdcb8645dbb934a6f384a38213",
       "scale_y": "IPY_MODEL_aadb776a0c174e059c871319f1a86f9b"
      }
     },
     "e3865975231d4e4db360eea18c21e5a1": {
      "model_module": "bqplot",
      "model_module_version": "^0.4.5",
      "model_name": "ScatterModel",
      "state": {
       "color": {
        "type": null,
        "values": null
       },
       "colors": [
        "steelblue"
       ],
       "display_legend": false,
       "names": {
        "type": "<U8",
        "values": [
         "one",
         "two",
         "three",
         "four",
         "five",
         "six",
         "seven",
         "eight",
         "nine",
         "ten",
         "eleven",
         "twelve",
         "thirteen",
         "fourteen",
         "fifteen",
         "sixteen"
        ]
       },
       "opacity": {
        "type": null,
        "values": null
       },
       "rotation": {
        "type": null,
        "values": null
       },
       "scales": {
        "x": "IPY_MODEL_120b638fa37748b2b5d1c7c3aa3486b0",
        "y": "IPY_MODEL_6ae3eba53a7048baac15e02d89729e05"
       },
       "scales_metadata": {
        "color": {
         "dimension": "color"
        },
        "opacity": {
         "dimension": "opacity"
        },
        "rotation": {
         "dimension": "rotation"
        },
        "size": {
         "dimension": "size"
        },
        "skew": {
         "dimension": "skew"
        },
        "x": {
         "dimension": "x",
         "orientation": "horizontal"
        },
        "y": {
         "dimension": "y",
         "orientation": "vertical"
        }
       },
       "selected": [],
       "size": {
        "type": null,
        "values": null
       },
       "skew": {
        "type": null,
        "values": null
       },
       "stroke": "black",
       "tooltip": "IPY_MODEL_45c9563536674b36a6b840e3931aba2e",
       "x": {
        "type": "float",
        "values": [
         0.771320643266746,
         0.6336482349262754,
         0.4985070123025904,
         0.19806286475962398,
         0.16911083656253545,
         0.6853598183677972,
         0.003948266327914451,
         0.8126209616521135,
         0.7217553174317995,
         0.9177741225129434,
         0.5425443680112613,
         0.3733407600514692,
         0.4418331744229961,
         0.6177669784693172,
         0.6503971819314672,
         0.8052231968327465
        ]
       },
       "y": {
        "type": "float",
        "values": [
         0.0207519493594015,
         0.7488038825386119,
         0.22479664553084766,
         0.7605307121989587,
         0.08833981417401027,
         0.9533933461949365,
         0.5121922633857766,
         0.6125260668293881,
         0.29187606817063316,
         0.7145757833976906,
         0.14217004760152696,
         0.6741336150663453,
         0.4340139933332937,
         0.5131382425543909,
         0.6010389534045444,
         0.5216471523936341
        ]
       }
      }
     },
     "e4325390024649e69e5dc05dda0b8858": {
      "model_module": "@jupyter-widgets/base",
      "model_module_version": "1.1.0",
      "model_name": "LayoutModel",
      "state": {
       "min_width": "125px"
      }
     },
     "eab3fa7997b54345967e7567ab2c4045": {
      "model_module": "bqplot",
      "model_module_version": "^0.4.5",
      "model_name": "AxisModel",
      "state": {
       "scale": "IPY_MODEL_b49acc86c82e41fc8304aebdcff8f0d7",
       "side": "bottom",
       "tick_values": {
        "type": null,
        "values": null
       }
      }
     },
     "eac3eba3b3f4472fbace533b66fc138e": {
      "model_module": "bqplot",
      "model_module_version": "^0.4.5",
      "model_name": "FigureModel",
      "state": {
       "_dom_classes": [],
       "axes": [
        "IPY_MODEL_fa3e09985bfc4985a21142ab8a101db4",
        "IPY_MODEL_2213b4452fd74ab28165c2fa546c9f3d"
       ],
       "layout": "IPY_MODEL_c7f0604d005c4aea89677383f60eb66b",
       "marks": [
        "IPY_MODEL_265d905e66c54761be84b891796b2e81"
       ],
       "scale_x": "IPY_MODEL_d523a692a56e49209431eff0b646e4d3",
       "scale_y": "IPY_MODEL_ada3c60aaab541e188e90bc64cb563d2",
       "title": "Security 1"
      }
     },
     "eafdfcd84a7a4d4797d24dccd812cfcc": {
      "model_module": "bqplot",
      "model_module_version": "^0.4.5",
      "model_name": "LinesModel",
      "state": {
       "color": {
        "type": null,
        "values": null
       },
       "display_legend": false,
       "fill": "inside",
       "fill_colors": [],
       "labels": [
        "Point-three",
        "Point-thirteen",
        "Point-eleven",
        "Point-nine",
        "Point-twelve",
        "Point-fourteen",
        "Point-eight",
        "Point-sixteen",
        "Point-fifteen",
        "Point-two"
       ],
       "scales": {
        "x": "IPY_MODEL_75fc04a7b78a42cda1a39e4c05f7e501",
        "y": "IPY_MODEL_2cd5aecd8dd440caaec9654f978cadb7"
       },
       "selected": [],
       "tooltip": "IPY_MODEL_45c9563536674b36a6b840e3931aba2e",
       "x": {
        "type": "object",
        "values": [
         [
          0.3584447216903549,
          0.6171489120032924,
          0.5798499221127168,
          0.2831911754505866
         ],
         [
          0.2831911754505866,
          0.19992177320742419,
          0.22821203424164746,
          0.48381788152811805,
          0.5806068458871527,
          0.5798499221127168
         ],
         [
          0.3584447216903549,
          0.4239724854695897,
          0.6912996529354414,
          0.6171489120032924
         ],
         [
          1.216442820503958,
          0.6912996529354414,
          0.6171489120032924,
          0.5798499221127168,
          0.5806068458871527,
          0.7157292720673969
         ],
         [
          0.5034274596765445,
          0.48381788152811805,
          0.22821203424164746,
          0.20552139150292098,
          0.4028840030738831,
          0.44811437238452245,
          0.5180104471702501
         ],
         [
          0.7109891214078169,
          0.7157292720673969,
          0.5806068458871527,
          0.48381788152811805,
          0.5034274596765445
         ],
         [
          0.7260100327131787,
          0.7338874407228482,
          0.9716720966163176,
          0.7782905262525462
         ],
         [
          0.7338874407228482,
          0.7109891214078169,
          0.7157292720673969,
          1.216442820503958,
          1.5438141284532079,
          0.9716720966163176
         ],
         [
          0.7260100327131787,
          0.5180104471702501,
          0.5034274596765445,
          0.7109891214078169,
          0.7338874407228482
         ],
         [
          0.7260100327131787,
          0.5180104471702501,
          0.44811437238452245,
          0.7862371954417654,
          0.7782905262525462
         ]
        ]
       },
       "y": {
        "type": "object",
        "values": [
         [
          0.09709933172300317,
          0.23498045883754137,
          0.3591159380711344,
          0.2787555382740357
         ],
         [
          0.2787555382740357,
          0.3444515821822909,
          0.5029083802751683,
          0.5758181303479604,
          0.3606066009240778,
          0.3591159380711344
         ],
         [
          0.09709933172300317,
          -0.35748283665951325,
          0.14621566078753526,
          0.23498045883754137
         ],
         [
          0.2422192635826514,
          0.14621566078753526,
          0.23498045883754137,
          0.3591159380711344,
          0.3606066009240778,
          0.42411115923459075
         ],
         [
          0.6055897626427533,
          0.5758181303479604,
          0.5029083802751683,
          0.554666334735012,
          0.9550652406422548,
          0.9045289990489157,
          0.6608648024811047
         ],
         [
          0.5285394272389918,
          0.42411115923459075,
          0.3606066009240778,
          0.5758181303479604,
          0.6055897626427533
         ],
         [
          0.6844412631187945,
          0.573194611808946,
          0.5538383620905631,
          0.7531008790263298
         ],
         [
          0.573194611808946,
          0.5285394272389918,
          0.42411115923459075,
          0.2422192635826514,
          0.22006148839037726,
          0.5538383620905631
         ],
         [
          0.6844412631187945,
          0.6608648024811047,
          0.6055897626427533,
          0.5285394272389918,
          0.573194611808946
         ],
         [
          0.6844412631187945,
          0.6608648024811047,
          0.9045289990489157,
          0.8190658169987436,
          0.7531008790263298
         ]
        ]
       }
      }
     },
     "ec1c555926354c99812d7e606161686a": {
      "model_module": "bqplot",
      "model_module_version": "^0.4.5",
      "model_name": "LinearScaleModel",
      "state": {
       "stabilized": false
      }
     },
     "ed3a6921de0f4737a83b78b25d4b92ae": {
      "model_module": "bqplot",
      "model_module_version": "^0.4.5",
      "model_name": "LinearScaleModel",
      "state": {
       "allow_padding": false,
       "max": 1,
       "min": 0,
       "stabilized": false
      }
     },
     "efce023275444985b79af368ce234a37": {
      "model_module": "bqplot",
      "model_module_version": "^0.4.5",
      "model_name": "ScatterModel",
      "state": {
       "color": {
        "type": null,
        "values": null
       },
       "colors": [
        "steelblue"
       ],
       "display_legend": false,
       "names": {
        "type": "<U8",
        "values": [
         "one",
         "two",
         "three",
         "four",
         "five",
         "six",
         "seven",
         "eight",
         "nine",
         "ten",
         "eleven",
         "twelve",
         "thirteen",
         "fourteen",
         "fifteen",
         "sixteen"
        ]
       },
       "opacity": {
        "type": null,
        "values": null
       },
       "rotation": {
        "type": null,
        "values": null
       },
       "scales": {
        "x": "IPY_MODEL_b49acc86c82e41fc8304aebdcff8f0d7",
        "y": "IPY_MODEL_066e227bde634b629e71fcd158613328"
       },
       "scales_metadata": {
        "color": {
         "dimension": "color"
        },
        "opacity": {
         "dimension": "opacity"
        },
        "rotation": {
         "dimension": "rotation"
        },
        "size": {
         "dimension": "size"
        },
        "skew": {
         "dimension": "skew"
        },
        "x": {
         "dimension": "x",
         "orientation": "horizontal"
        },
        "y": {
         "dimension": "y",
         "orientation": "vertical"
        }
       },
       "selected": [],
       "size": {
        "type": null,
        "values": null
       },
       "skew": {
        "type": null,
        "values": null
       },
       "stroke": "black",
       "stroke_width": 0,
       "tooltip": "IPY_MODEL_45c9563536674b36a6b840e3931aba2e",
       "x": {
        "type": "float",
        "values": [
         0.771320643266746,
         0.6336482349262754,
         0.4985070123025904,
         0.19806286475962398,
         0.16911083656253545,
         0.6853598183677972,
         0.003948266327914451,
         0.8126209616521135,
         0.7217553174317995,
         0.9177741225129434,
         0.5425443680112613,
         0.3733407600514692,
         0.4418331744229961,
         0.6177669784693172,
         0.6503971819314672,
         0.8052231968327465
        ]
       },
       "y": {
        "type": "float",
        "values": [
         0.0207519493594015,
         0.7488038825386119,
         0.22479664553084766,
         0.7605307121989587,
         0.08833981417401027,
         0.9533933461949365,
         0.5121922633857766,
         0.6125260668293881,
         0.29187606817063316,
         0.7145757833976906,
         0.14217004760152696,
         0.6741336150663453,
         0.4340139933332937,
         0.5131382425543909,
         0.6010389534045444,
         0.5216471523936341
        ]
       }
      }
     },
     "f0931cdee8e849829d686c166d07edd9": {
      "model_module": "bqplot",
      "model_module_version": "^0.4.5",
      "model_name": "LinearScaleModel",
      "state": {
       "stabilized": false
      }
     },
     "f2b794af0ba14007ab9e88eaab93aa60": {
      "model_module": "bqplot",
      "model_module_version": "^0.4.5",
      "model_name": "LinearScaleModel",
      "state": {
       "stabilized": false
      }
     },
     "f3250541d1d44802a654a00282951cc1": {
      "model_module": "bqplot",
      "model_module_version": "^0.4.5",
      "model_name": "LinearScaleModel",
      "state": {
       "allow_padding": false,
       "max": 1,
       "min": 0,
       "stabilized": false
      }
     },
     "f517ced5c88e4285b938dfe902d7a786": {
      "model_module": "bqplot",
      "model_module_version": "^0.4.5",
      "model_name": "LinearScaleModel",
      "state": {
       "allow_padding": false,
       "max": 1,
       "min": 0,
       "stabilized": false
      }
     },
     "f723767dc38046faa10b0c8d5ebb9ded": {
      "model_module": "bqplot",
      "model_module_version": "^0.4.5",
      "model_name": "ScatterModel",
      "state": {
       "color": {
        "type": null,
        "values": null
       },
       "colors": [
        "steelblue"
       ],
       "display_legend": false,
       "names": {
        "type": "<U8",
        "values": [
         "one",
         "two",
         "three",
         "four",
         "five",
         "six",
         "seven",
         "eight",
         "nine",
         "ten",
         "eleven",
         "twelve",
         "thirteen",
         "fourteen",
         "fifteen",
         "sixteen"
        ]
       },
       "opacity": {
        "type": null,
        "values": null
       },
       "rotation": {
        "type": null,
        "values": null
       },
       "scales": {
        "x": "IPY_MODEL_d9dcc43ab3bf4f178a274546af21b2c8",
        "y": "IPY_MODEL_dbe75a08433f43c2963730e8c25bda6b"
       },
       "scales_metadata": {
        "color": {
         "dimension": "color"
        },
        "opacity": {
         "dimension": "opacity"
        },
        "rotation": {
         "dimension": "rotation"
        },
        "size": {
         "dimension": "size"
        },
        "skew": {
         "dimension": "skew"
        },
        "x": {
         "dimension": "x",
         "orientation": "horizontal"
        },
        "y": {
         "dimension": "y",
         "orientation": "vertical"
        }
       },
       "selected": [],
       "size": {
        "type": null,
        "values": null
       },
       "skew": {
        "type": null,
        "values": null
       },
       "tooltip": "IPY_MODEL_45c9563536674b36a6b840e3931aba2e",
       "x": {
        "type": "float",
        "values": [
         0.771320643266746,
         0.6336482349262754,
         0.4985070123025904,
         0.19806286475962398,
         0.16911083656253545,
         0.6853598183677972,
         0.003948266327914451,
         0.8126209616521135,
         0.7217553174317995,
         0.9177741225129434,
         0.5425443680112613,
         0.3733407600514692,
         0.4418331744229961,
         0.6177669784693172,
         0.6503971819314672,
         0.8052231968327465
        ]
       },
       "y": {
        "type": "float",
        "values": [
         0.0207519493594015,
         0.7488038825386119,
         0.22479664553084766,
         0.7605307121989587,
         0.08833981417401027,
         0.9533933461949365,
         0.5121922633857766,
         0.6125260668293881,
         0.29187606817063316,
         0.7145757833976906,
         0.14217004760152696,
         0.6741336150663453,
         0.4340139933332937,
         0.5131382425543909,
         0.6010389534045444,
         0.5216471523936341
        ]
       }
      }
     },
     "f9c6453e6c08447d9e7d35ee0617f60f": {
      "model_module": "@jupyter-widgets/base",
      "model_module_version": "1.1.0",
      "model_name": "LayoutModel",
      "state": {
       "min_width": "125px"
      }
     },
     "fa3e09985bfc4985a21142ab8a101db4": {
      "model_module": "bqplot",
      "model_module_version": "^0.4.5",
      "model_name": "AxisModel",
      "state": {
       "label": "Index",
       "scale": "IPY_MODEL_6818edaf4d7e4f6396256d2cd8db88a8",
       "side": "bottom",
       "tick_values": {
        "type": null,
        "values": null
       }
      }
     },
     "ff256831e5a246e2a2d82721ed0adfd2": {
      "model_module": "bqplot",
      "model_module_version": "^0.4.5",
      "model_name": "LinesModel",
      "state": {
       "close_path": true,
       "color": {
        "type": null,
        "values": null
       },
       "fill": "inside",
       "fill_colors": [
        "orange",
        "blue",
        "red"
       ],
       "labels": [
        "C1",
        "C2"
       ],
       "opacities": [
        0.9,
        0.9
       ],
       "scales": {
        "x": "IPY_MODEL_178d690a300a44338b90e8f7a0194d28",
        "y": "IPY_MODEL_7a391ac79bf74d9a8db2c878ff7e6e99"
       },
       "selected": [],
       "tooltip": "IPY_MODEL_45c9563536674b36a6b840e3931aba2e",
       "x": {
        "type": "object",
        "values": [
         [
          10,
          3,
          3.2
         ],
         [
          0.5,
          2.5,
          1.7
         ],
         [
          4,
          5,
          6,
          6,
          5,
          4,
          3
         ]
        ]
       },
       "y": {
        "type": "object",
        "values": [
         [
          1,
          1.1,
          1.2,
          2.3,
          2.2,
          2.7,
          1,
          -2
         ],
         [
          3,
          2,
          3
         ]
        ]
       }
      }
     }
    },
    "version_major": 2,
    "version_minor": 0
   }
  }
 },
 "nbformat": 4,
 "nbformat_minor": 1
}
