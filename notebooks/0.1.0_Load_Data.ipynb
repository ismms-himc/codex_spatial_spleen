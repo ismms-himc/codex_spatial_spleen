{
 "cells": [
  {
   "cell_type": "markdown",
   "metadata": {},
   "source": [
    "# 0.1.0 Load Data\n",
    "* Codex Data obtained from: http://welikesharingdata.blob.core.windows.net/forshare/index.html\n",
    "* Manuscript: https://www.cell.com/cell/pdf/S0092-8674(18)30904-8.pdf"
   ]
  },
  {
   "cell_type": "code",
   "execution_count": 1,
   "metadata": {},
   "outputs": [],
   "source": [
    "import pandas as pd\n",
    "df = {}"
   ]
  },
  {
   "cell_type": "code",
   "execution_count": 2,
   "metadata": {},
   "outputs": [
    {
     "name": "stdout",
     "output_type": "stream",
     "text": [
      ">> clustergrammer2 backend version 0.4.0\n"
     ]
    }
   ],
   "source": [
    "from clustergrammer2 import net"
   ]
  },
  {
   "cell_type": "code",
   "execution_count": 3,
   "metadata": {},
   "outputs": [],
   "source": [
    "import ipywidgets as widgets\n",
    "import numpy as np\n",
    "from bqplot import pyplot as plt\n",
    "import bqplot"
   ]
  },
  {
   "cell_type": "code",
   "execution_count": 4,
   "metadata": {},
   "outputs": [],
   "source": [
    "from glob import glob"
   ]
  },
  {
   "cell_type": "markdown",
   "metadata": {},
   "source": [
    "## Check available Files"
   ]
  },
  {
   "cell_type": "code",
   "execution_count": 5,
   "metadata": {},
   "outputs": [
    {
     "data": {
      "text/plain": [
       "['../data/big_data/channelNames_BALBcMRLdataset.txt']"
      ]
     },
     "execution_count": 5,
     "metadata": {},
     "output_type": "execute_result"
    }
   ],
   "source": [
    "glob('../data/big_data/*.txt')"
   ]
  },
  {
   "cell_type": "code",
   "execution_count": 6,
   "metadata": {},
   "outputs": [
    {
     "data": {
      "text/plain": [
       "['../data/big_data/CODEX_MRLdataset_neighborhood_graph.csv',\n",
       " '../data/big_data/BALBcMRLdataset_exposuretimes.csv',\n",
       " '../data/big_data/Suppl.Table2.CODEX_paper_MRLdatasetexpression.csv']"
      ]
     },
     "execution_count": 6,
     "metadata": {},
     "output_type": "execute_result"
    }
   ],
   "source": [
    "glob('../data/big_data/*.csv')"
   ]
  },
  {
   "cell_type": "markdown",
   "metadata": {},
   "source": [
    "### Expression Data\n",
    "See http://welikesharingdata.blob.core.windows.net/forshare/index.html\n",
    "\n",
    "* CSV file contains mean marker intensities and X, Y, Z corrdinates for each cell relative to the top left corner of its tile. \n",
    "* Tile IDs correspond to tile images sorted in the alphanumeric order\n",
    "* Size parameter corresponds to the cell object sizes in voxels\n",
    "* \"imaging phenotype Cluster ID\" column specifies the phenotypic cluster identity as determined by X-shift\n",
    "* \"niche Cluster ID\" column specifies the i-niche cluster determined by K-means (K=100)\n",
    "* neighborhood graph files describes which pairs of cells are adjacent to one another"
   ]
  },
  {
   "cell_type": "code",
   "execution_count": 7,
   "metadata": {},
   "outputs": [
    {
     "name": "stdout",
     "output_type": "stream",
     "text": [
      "(734101, 38)\n",
      "CPU times: user 9.15 s, sys: 532 ms, total: 9.68 s\n",
      "Wall time: 8.94 s\n"
     ]
    }
   ],
   "source": [
    "%%time\n",
    "df['exp'] = pd.read_csv('../data/big_data/Suppl.Table2.CODEX_paper_MRLdatasetexpression.csv')\n",
    "new_rows = ['C-' + str(x) for x in df['exp'].index.tolist()]\n",
    "df['exp'].index = new_rows\n",
    "print(df['exp'].shape)"
   ]
  },
  {
   "cell_type": "code",
   "execution_count": 8,
   "metadata": {},
   "outputs": [
    {
     "data": {
      "text/html": [
       "<div>\n",
       "<style scoped>\n",
       "    .dataframe tbody tr th:only-of-type {\n",
       "        vertical-align: middle;\n",
       "    }\n",
       "\n",
       "    .dataframe tbody tr th {\n",
       "        vertical-align: top;\n",
       "    }\n",
       "\n",
       "    .dataframe thead th {\n",
       "        text-align: right;\n",
       "    }\n",
       "</style>\n",
       "<table border=\"1\" class=\"dataframe\">\n",
       "  <thead>\n",
       "    <tr style=\"text-align: right;\">\n",
       "      <th></th>\n",
       "      <th>Imaging phenotype cluster ID</th>\n",
       "      <th>CD45</th>\n",
       "      <th>Ly6C</th>\n",
       "      <th>TCR</th>\n",
       "      <th>Ly6G</th>\n",
       "      <th>CD19</th>\n",
       "      <th>CD169</th>\n",
       "      <th>CD106</th>\n",
       "      <th>CD3</th>\n",
       "      <th>CD1632</th>\n",
       "      <th>...</th>\n",
       "      <th>CD44</th>\n",
       "      <th>NKp46</th>\n",
       "      <th>X.X</th>\n",
       "      <th>Y.Y</th>\n",
       "      <th>Z.Z</th>\n",
       "      <th>MHCII</th>\n",
       "      <th>blank_Cy3_cyc15</th>\n",
       "      <th>blank_Cy5_cyc15</th>\n",
       "      <th>sample_Xtile_Ytile</th>\n",
       "      <th>niche cluster ID</th>\n",
       "    </tr>\n",
       "  </thead>\n",
       "  <tbody>\n",
       "    <tr>\n",
       "      <th>C-0</th>\n",
       "      <td>9600</td>\n",
       "      <td>1577.675415</td>\n",
       "      <td>-154.301758</td>\n",
       "      <td>130.692184</td>\n",
       "      <td>-4.168493</td>\n",
       "      <td>560.691345</td>\n",
       "      <td>-504.231476</td>\n",
       "      <td>854.670105</td>\n",
       "      <td>-631.294189</td>\n",
       "      <td>385.935242</td>\n",
       "      <td>...</td>\n",
       "      <td>422.408691</td>\n",
       "      <td>515.130066</td>\n",
       "      <td>10</td>\n",
       "      <td>70</td>\n",
       "      <td>13</td>\n",
       "      <td>6712.812988</td>\n",
       "      <td>1665.967896</td>\n",
       "      <td>398.348389</td>\n",
       "      <td>BALBc-3_X05_Y03</td>\n",
       "      <td>32.0</td>\n",
       "    </tr>\n",
       "    <tr>\n",
       "      <th>C-1</th>\n",
       "      <td>9600</td>\n",
       "      <td>1017.838440</td>\n",
       "      <td>-93.069397</td>\n",
       "      <td>144.076584</td>\n",
       "      <td>40.010998</td>\n",
       "      <td>885.595520</td>\n",
       "      <td>-391.357544</td>\n",
       "      <td>62.764454</td>\n",
       "      <td>-474.201172</td>\n",
       "      <td>-469.634583</td>\n",
       "      <td>...</td>\n",
       "      <td>448.701660</td>\n",
       "      <td>171.880310</td>\n",
       "      <td>1000</td>\n",
       "      <td>294</td>\n",
       "      <td>12</td>\n",
       "      <td>2024.678711</td>\n",
       "      <td>1287.959229</td>\n",
       "      <td>421.991425</td>\n",
       "      <td>BALBc-3_X01_Y02</td>\n",
       "      <td>99.0</td>\n",
       "    </tr>\n",
       "    <tr>\n",
       "      <th>C-2</th>\n",
       "      <td>9600</td>\n",
       "      <td>5978.459961</td>\n",
       "      <td>-330.099365</td>\n",
       "      <td>139.631744</td>\n",
       "      <td>-82.840302</td>\n",
       "      <td>1747.897583</td>\n",
       "      <td>-395.508820</td>\n",
       "      <td>954.326782</td>\n",
       "      <td>-1026.204468</td>\n",
       "      <td>3744.718262</td>\n",
       "      <td>...</td>\n",
       "      <td>2229.804443</td>\n",
       "      <td>512.220764</td>\n",
       "      <td>1003</td>\n",
       "      <td>107</td>\n",
       "      <td>8</td>\n",
       "      <td>8647.193359</td>\n",
       "      <td>2817.173828</td>\n",
       "      <td>709.545105</td>\n",
       "      <td>BALBc-2_X05_Y04</td>\n",
       "      <td>74.0</td>\n",
       "    </tr>\n",
       "    <tr>\n",
       "      <th>C-3</th>\n",
       "      <td>9600</td>\n",
       "      <td>6119.109375</td>\n",
       "      <td>-54.384808</td>\n",
       "      <td>-768.871704</td>\n",
       "      <td>25.625927</td>\n",
       "      <td>1065.311890</td>\n",
       "      <td>-485.535431</td>\n",
       "      <td>538.404175</td>\n",
       "      <td>-611.836426</td>\n",
       "      <td>865.842590</td>\n",
       "      <td>...</td>\n",
       "      <td>665.720459</td>\n",
       "      <td>351.108246</td>\n",
       "      <td>1003</td>\n",
       "      <td>113</td>\n",
       "      <td>13</td>\n",
       "      <td>4838.463379</td>\n",
       "      <td>1646.660278</td>\n",
       "      <td>408.523590</td>\n",
       "      <td>BALBc-2_X03_Y04</td>\n",
       "      <td>98.0</td>\n",
       "    </tr>\n",
       "    <tr>\n",
       "      <th>C-4</th>\n",
       "      <td>9600</td>\n",
       "      <td>6272.474609</td>\n",
       "      <td>-235.512405</td>\n",
       "      <td>74.058075</td>\n",
       "      <td>-101.729919</td>\n",
       "      <td>1186.295044</td>\n",
       "      <td>-782.744995</td>\n",
       "      <td>1261.625366</td>\n",
       "      <td>-915.565552</td>\n",
       "      <td>1361.536011</td>\n",
       "      <td>...</td>\n",
       "      <td>2065.742676</td>\n",
       "      <td>259.003235</td>\n",
       "      <td>1003</td>\n",
       "      <td>148</td>\n",
       "      <td>9</td>\n",
       "      <td>5092.891602</td>\n",
       "      <td>2161.109131</td>\n",
       "      <td>713.416199</td>\n",
       "      <td>BALBc-2_X02_Y01</td>\n",
       "      <td>71.0</td>\n",
       "    </tr>\n",
       "  </tbody>\n",
       "</table>\n",
       "<p>5 rows × 38 columns</p>\n",
       "</div>"
      ],
      "text/plain": [
       "     Imaging phenotype cluster ID         CD45        Ly6C         TCR  \\\n",
       "C-0                          9600  1577.675415 -154.301758  130.692184   \n",
       "C-1                          9600  1017.838440  -93.069397  144.076584   \n",
       "C-2                          9600  5978.459961 -330.099365  139.631744   \n",
       "C-3                          9600  6119.109375  -54.384808 -768.871704   \n",
       "C-4                          9600  6272.474609 -235.512405   74.058075   \n",
       "\n",
       "           Ly6G         CD19       CD169        CD106          CD3  \\\n",
       "C-0   -4.168493   560.691345 -504.231476   854.670105  -631.294189   \n",
       "C-1   40.010998   885.595520 -391.357544    62.764454  -474.201172   \n",
       "C-2  -82.840302  1747.897583 -395.508820   954.326782 -1026.204468   \n",
       "C-3   25.625927  1065.311890 -485.535431   538.404175  -611.836426   \n",
       "C-4 -101.729919  1186.295044 -782.744995  1261.625366  -915.565552   \n",
       "\n",
       "          CD1632        ...                CD44       NKp46   X.X  Y.Y  Z.Z  \\\n",
       "C-0   385.935242        ...          422.408691  515.130066    10   70   13   \n",
       "C-1  -469.634583        ...          448.701660  171.880310  1000  294   12   \n",
       "C-2  3744.718262        ...         2229.804443  512.220764  1003  107    8   \n",
       "C-3   865.842590        ...          665.720459  351.108246  1003  113   13   \n",
       "C-4  1361.536011        ...         2065.742676  259.003235  1003  148    9   \n",
       "\n",
       "           MHCII  blank_Cy3_cyc15  blank_Cy5_cyc15  sample_Xtile_Ytile  \\\n",
       "C-0  6712.812988      1665.967896       398.348389     BALBc-3_X05_Y03   \n",
       "C-1  2024.678711      1287.959229       421.991425     BALBc-3_X01_Y02   \n",
       "C-2  8647.193359      2817.173828       709.545105     BALBc-2_X05_Y04   \n",
       "C-3  4838.463379      1646.660278       408.523590     BALBc-2_X03_Y04   \n",
       "C-4  5092.891602      2161.109131       713.416199     BALBc-2_X02_Y01   \n",
       "\n",
       "     niche cluster ID  \n",
       "C-0              32.0  \n",
       "C-1              99.0  \n",
       "C-2              74.0  \n",
       "C-3              98.0  \n",
       "C-4              71.0  \n",
       "\n",
       "[5 rows x 38 columns]"
      ]
     },
     "execution_count": 8,
     "metadata": {},
     "output_type": "execute_result"
    }
   ],
   "source": [
    "df['exp'].head()"
   ]
  },
  {
   "cell_type": "code",
   "execution_count": 9,
   "metadata": {},
   "outputs": [
    {
     "data": {
      "text/plain": [
       "['Imaging phenotype cluster ID',\n",
       " 'CD45',\n",
       " 'Ly6C',\n",
       " 'TCR',\n",
       " 'Ly6G',\n",
       " 'CD19',\n",
       " 'CD169',\n",
       " 'CD106',\n",
       " 'CD3',\n",
       " 'CD1632',\n",
       " 'CD8a',\n",
       " 'CD90',\n",
       " 'F480',\n",
       " 'CD11c',\n",
       " 'Ter119',\n",
       " 'CD11b',\n",
       " 'IgD',\n",
       " 'CD27',\n",
       " 'CD5',\n",
       " 'CD79b',\n",
       " 'CD71',\n",
       " 'CD31',\n",
       " 'CD4',\n",
       " 'IgM',\n",
       " 'B220',\n",
       " 'ERTR7',\n",
       " 'CD35',\n",
       " 'CD2135',\n",
       " 'CD44',\n",
       " 'NKp46',\n",
       " 'X.X',\n",
       " 'Y.Y',\n",
       " 'Z.Z',\n",
       " 'MHCII',\n",
       " 'blank_Cy3_cyc15',\n",
       " 'blank_Cy5_cyc15',\n",
       " 'sample_Xtile_Ytile',\n",
       " 'niche cluster ID']"
      ]
     },
     "execution_count": 9,
     "metadata": {},
     "output_type": "execute_result"
    }
   ],
   "source": [
    "cols = df['exp'].columns.tolist()\n",
    "cols"
   ]
  },
  {
   "cell_type": "code",
   "execution_count": 10,
   "metadata": {},
   "outputs": [
    {
     "data": {
      "text/plain": [
       "['CD45',\n",
       " 'Ly6C',\n",
       " 'TCR',\n",
       " 'Ly6G',\n",
       " 'CD19',\n",
       " 'CD169',\n",
       " 'CD106',\n",
       " 'CD3',\n",
       " 'CD1632',\n",
       " 'CD8a',\n",
       " 'CD90',\n",
       " 'F480',\n",
       " 'CD11c',\n",
       " 'Ter119',\n",
       " 'CD11b',\n",
       " 'IgD',\n",
       " 'CD27',\n",
       " 'CD5',\n",
       " 'CD79b',\n",
       " 'CD71',\n",
       " 'CD31',\n",
       " 'CD4',\n",
       " 'IgM',\n",
       " 'B220',\n",
       " 'ERTR7',\n",
       " 'CD35',\n",
       " 'CD2135',\n",
       " 'CD44',\n",
       " 'NKp46']"
      ]
     },
     "execution_count": 10,
     "metadata": {},
     "output_type": "execute_result"
    }
   ],
   "source": [
    "exp_cols = cols[1:30]\n",
    "exp_cols"
   ]
  },
  {
   "cell_type": "code",
   "execution_count": 11,
   "metadata": {},
   "outputs": [
    {
     "name": "stdout",
     "output_type": "stream",
     "text": [
      "Imaging phenotype cluster ID 58\n",
      "CD45 726877\n",
      "Ly6C 731257\n",
      "TCR 731035\n",
      "Ly6G 729442\n",
      "CD19 726981\n",
      "CD169 730498\n",
      "CD106 727870\n",
      "CD3 730526\n",
      "CD1632 728506\n",
      "CD8a 728773\n",
      "CD90 728172\n",
      "F480 731091\n",
      "CD11c 725943\n",
      "Ter119 728879\n",
      "CD11b 725897\n",
      "IgD 730293\n",
      "CD27 727817\n",
      "CD5 730295\n",
      "CD79b 727003\n",
      "CD71 729364\n",
      "CD31 725039\n",
      "CD4 730112\n",
      "IgM 727925\n",
      "B220 729995\n",
      "ERTR7 729781\n",
      "CD35 728492\n",
      "CD2135 729290\n",
      "CD44 727003\n",
      "NKp46 723719\n",
      "X.X 1342\n",
      "Y.Y 1006\n",
      "Z.Z 15\n",
      "MHCII 729269\n",
      "blank_Cy3_cyc15 721818\n",
      "blank_Cy5_cyc15 720065\n",
      "sample_Xtile_Ytile 565\n",
      "niche cluster ID 101\n"
     ]
    }
   ],
   "source": [
    "unique_dict = {}\n",
    "for inst_col in cols:\n",
    "    inst_list_unique = list(df['exp'][inst_col].unique())\n",
    "    unique_dict[inst_col] = inst_list_unique    \n",
    "    inst_num_unique = len(inst_list_unique)\n",
    "    print(inst_col, inst_num_unique)"
   ]
  },
  {
   "cell_type": "markdown",
   "metadata": {},
   "source": [
    "### Select Single Image Tile\n",
    "BALBc: normal tissue\n",
    "MRL/lpr: spleen from animals with systemic autoimmune disease\n",
    "\n",
    "Start with: 'BALBc-1_X01_Y01'"
   ]
  },
  {
   "cell_type": "code",
   "execution_count": 12,
   "metadata": {},
   "outputs": [],
   "source": [
    "keep_rows = []\n",
    "for inst_tile in ['BALBc-1_X01_Y01']:\n",
    "\n",
    "    ser_tile = df['exp']['sample_Xtile_Ytile']\n",
    "    ser_found = ser_tile[ser_tile == inst_tile]\n",
    "    ser_found.shape\n",
    "    keep_rows.extend(ser_found.index.tolist())\n",
    "    \n",
    "df['tile'] = df['exp'].loc[keep_rows].transpose()\n",
    "df['tile'].shape    \n",
    "\n",
    "cats = df['tile'].loc['Imaging phenotype cluster ID']\n",
    "new_cols = []\n",
    "# cols = df['tile'].columns.tolist()\n",
    "# for index in range(len(cols)):\n",
    "    \n",
    "#     new_col = (cols[index], 'Cat: ID-' + str(cats[index]))\n",
    "#     new_cols.append(new_col)\n",
    "# df['tile'].columns = new_cols"
   ]
  },
  {
   "cell_type": "code",
   "execution_count": 13,
   "metadata": {},
   "outputs": [
    {
     "data": {
      "text/html": [
       "<div>\n",
       "<style scoped>\n",
       "    .dataframe tbody tr th:only-of-type {\n",
       "        vertical-align: middle;\n",
       "    }\n",
       "\n",
       "    .dataframe tbody tr th {\n",
       "        vertical-align: top;\n",
       "    }\n",
       "\n",
       "    .dataframe thead th {\n",
       "        text-align: right;\n",
       "    }\n",
       "</style>\n",
       "<table border=\"1\" class=\"dataframe\">\n",
       "  <thead>\n",
       "    <tr style=\"text-align: right;\">\n",
       "      <th></th>\n",
       "      <th>C-643</th>\n",
       "      <th>C-1264</th>\n",
       "      <th>C-1589</th>\n",
       "      <th>C-1611</th>\n",
       "      <th>C-1873</th>\n",
       "      <th>C-1877</th>\n",
       "      <th>C-1935</th>\n",
       "      <th>C-2478</th>\n",
       "      <th>C-2866</th>\n",
       "      <th>C-2988</th>\n",
       "      <th>...</th>\n",
       "      <th>C-252970</th>\n",
       "      <th>C-253039</th>\n",
       "      <th>C-253092</th>\n",
       "      <th>C-253107</th>\n",
       "      <th>C-253453</th>\n",
       "      <th>C-253953</th>\n",
       "      <th>C-253959</th>\n",
       "      <th>C-253982</th>\n",
       "      <th>C-253998</th>\n",
       "      <th>C-254183</th>\n",
       "    </tr>\n",
       "  </thead>\n",
       "  <tbody>\n",
       "    <tr>\n",
       "      <th>Imaging phenotype cluster ID</th>\n",
       "      <td>9640</td>\n",
       "      <td>9640</td>\n",
       "      <td>9640</td>\n",
       "      <td>9640</td>\n",
       "      <td>9640</td>\n",
       "      <td>9640</td>\n",
       "      <td>9640</td>\n",
       "      <td>9640</td>\n",
       "      <td>9640</td>\n",
       "      <td>9640</td>\n",
       "      <td>...</td>\n",
       "      <td>9644</td>\n",
       "      <td>9644</td>\n",
       "      <td>9641</td>\n",
       "      <td>9641</td>\n",
       "      <td>9626</td>\n",
       "      <td>9593</td>\n",
       "      <td>9626</td>\n",
       "      <td>9626</td>\n",
       "      <td>9626</td>\n",
       "      <td>9626</td>\n",
       "    </tr>\n",
       "    <tr>\n",
       "      <th>CD45</th>\n",
       "      <td>4616.2</td>\n",
       "      <td>1820.99</td>\n",
       "      <td>2748.41</td>\n",
       "      <td>1670.64</td>\n",
       "      <td>1783.57</td>\n",
       "      <td>2547.93</td>\n",
       "      <td>1738.63</td>\n",
       "      <td>615.305</td>\n",
       "      <td>2149.2</td>\n",
       "      <td>440.949</td>\n",
       "      <td>...</td>\n",
       "      <td>-2348.57</td>\n",
       "      <td>843.912</td>\n",
       "      <td>-3521.28</td>\n",
       "      <td>-1917.95</td>\n",
       "      <td>443.36</td>\n",
       "      <td>2819.63</td>\n",
       "      <td>-1190.71</td>\n",
       "      <td>2899.05</td>\n",
       "      <td>1441.02</td>\n",
       "      <td>12.1902</td>\n",
       "    </tr>\n",
       "    <tr>\n",
       "      <th>Ly6C</th>\n",
       "      <td>109.183</td>\n",
       "      <td>-193.429</td>\n",
       "      <td>1080.91</td>\n",
       "      <td>162.775</td>\n",
       "      <td>-83.4236</td>\n",
       "      <td>-140.051</td>\n",
       "      <td>-193.584</td>\n",
       "      <td>309.844</td>\n",
       "      <td>302.463</td>\n",
       "      <td>-6.71526</td>\n",
       "      <td>...</td>\n",
       "      <td>171.232</td>\n",
       "      <td>-111.202</td>\n",
       "      <td>15.7832</td>\n",
       "      <td>4.47499</td>\n",
       "      <td>122.234</td>\n",
       "      <td>308.756</td>\n",
       "      <td>108.913</td>\n",
       "      <td>305.457</td>\n",
       "      <td>-56.8833</td>\n",
       "      <td>-279.542</td>\n",
       "    </tr>\n",
       "    <tr>\n",
       "      <th>TCR</th>\n",
       "      <td>56.6081</td>\n",
       "      <td>-253.548</td>\n",
       "      <td>155.409</td>\n",
       "      <td>479.413</td>\n",
       "      <td>980.42</td>\n",
       "      <td>232.764</td>\n",
       "      <td>55.9894</td>\n",
       "      <td>783.197</td>\n",
       "      <td>1934.21</td>\n",
       "      <td>-750.628</td>\n",
       "      <td>...</td>\n",
       "      <td>79.5385</td>\n",
       "      <td>-230.033</td>\n",
       "      <td>-4116.93</td>\n",
       "      <td>-913.138</td>\n",
       "      <td>-670.956</td>\n",
       "      <td>-126.491</td>\n",
       "      <td>-2378.61</td>\n",
       "      <td>-3116.76</td>\n",
       "      <td>-2565.78</td>\n",
       "      <td>-280.237</td>\n",
       "    </tr>\n",
       "    <tr>\n",
       "      <th>Ly6G</th>\n",
       "      <td>16.1121</td>\n",
       "      <td>-108.621</td>\n",
       "      <td>290.299</td>\n",
       "      <td>156.224</td>\n",
       "      <td>79.3494</td>\n",
       "      <td>95.8747</td>\n",
       "      <td>-188.539</td>\n",
       "      <td>135.255</td>\n",
       "      <td>175.713</td>\n",
       "      <td>50.1617</td>\n",
       "      <td>...</td>\n",
       "      <td>127.419</td>\n",
       "      <td>-211.499</td>\n",
       "      <td>-23.9587</td>\n",
       "      <td>-18.6289</td>\n",
       "      <td>126.662</td>\n",
       "      <td>220.97</td>\n",
       "      <td>90.1604</td>\n",
       "      <td>112.483</td>\n",
       "      <td>-182.167</td>\n",
       "      <td>282.651</td>\n",
       "    </tr>\n",
       "  </tbody>\n",
       "</table>\n",
       "<p>5 rows × 1127 columns</p>\n",
       "</div>"
      ],
      "text/plain": [
       "                                C-643   C-1264   C-1589   C-1611   C-1873  \\\n",
       "Imaging phenotype cluster ID     9640     9640     9640     9640     9640   \n",
       "CD45                           4616.2  1820.99  2748.41  1670.64  1783.57   \n",
       "Ly6C                          109.183 -193.429  1080.91  162.775 -83.4236   \n",
       "TCR                           56.6081 -253.548  155.409  479.413   980.42   \n",
       "Ly6G                          16.1121 -108.621  290.299  156.224  79.3494   \n",
       "\n",
       "                               C-1877   C-1935   C-2478   C-2866   C-2988  \\\n",
       "Imaging phenotype cluster ID     9640     9640     9640     9640     9640   \n",
       "CD45                          2547.93  1738.63  615.305   2149.2  440.949   \n",
       "Ly6C                         -140.051 -193.584  309.844  302.463 -6.71526   \n",
       "TCR                           232.764  55.9894  783.197  1934.21 -750.628   \n",
       "Ly6G                          95.8747 -188.539  135.255  175.713  50.1617   \n",
       "\n",
       "                               ...    C-252970 C-253039 C-253092 C-253107  \\\n",
       "Imaging phenotype cluster ID   ...        9644     9644     9641     9641   \n",
       "CD45                           ...    -2348.57  843.912 -3521.28 -1917.95   \n",
       "Ly6C                           ...     171.232 -111.202  15.7832  4.47499   \n",
       "TCR                            ...     79.5385 -230.033 -4116.93 -913.138   \n",
       "Ly6G                           ...     127.419 -211.499 -23.9587 -18.6289   \n",
       "\n",
       "                             C-253453 C-253953 C-253959 C-253982 C-253998  \\\n",
       "Imaging phenotype cluster ID     9626     9593     9626     9626     9626   \n",
       "CD45                           443.36  2819.63 -1190.71  2899.05  1441.02   \n",
       "Ly6C                          122.234  308.756  108.913  305.457 -56.8833   \n",
       "TCR                          -670.956 -126.491 -2378.61 -3116.76 -2565.78   \n",
       "Ly6G                          126.662   220.97  90.1604  112.483 -182.167   \n",
       "\n",
       "                             C-254183  \n",
       "Imaging phenotype cluster ID     9626  \n",
       "CD45                          12.1902  \n",
       "Ly6C                         -279.542  \n",
       "TCR                          -280.237  \n",
       "Ly6G                          282.651  \n",
       "\n",
       "[5 rows x 1127 columns]"
      ]
     },
     "execution_count": 13,
     "metadata": {},
     "output_type": "execute_result"
    }
   ],
   "source": [
    "df['tile'].head()"
   ]
  },
  {
   "cell_type": "markdown",
   "metadata": {},
   "source": [
    "### Plot Tile Expression Levels"
   ]
  },
  {
   "cell_type": "code",
   "execution_count": 14,
   "metadata": {},
   "outputs": [
    {
     "data": {
      "text/plain": [
       "(29, 1127)"
      ]
     },
     "execution_count": 14,
     "metadata": {},
     "output_type": "execute_result"
    }
   ],
   "source": [
    "df['tile-exp-ini'] = df['tile'].loc[exp_cols]\n",
    "df['tile-exp-ini'].shape"
   ]
  },
  {
   "cell_type": "code",
   "execution_count": 15,
   "metadata": {},
   "outputs": [
    {
     "data": {
      "text/plain": [
       "<matplotlib.axes._subplots.AxesSubplot at 0x1a66538278>"
      ]
     },
     "execution_count": 15,
     "metadata": {},
     "output_type": "execute_result"
    },
    {
     "data": {
      "image/png": "[encoded data removed]",
      "text/plain": [
       "<Figure size 432x288 with 1 Axes>"
      ]
     },
     "metadata": {},
     "output_type": "display_data"
    }
   ],
   "source": [
    "ser_sum = df['tile-exp-ini'].sum(axis=0).sort_values(ascending=False)\n",
    "ser_sum.plot(grid=True)"
   ]
  },
  {
   "cell_type": "markdown",
   "metadata": {},
   "source": [
    "### Drop cells with total marker levels above 100,000 and below 0"
   ]
  },
  {
   "cell_type": "code",
   "execution_count": 16,
   "metadata": {},
   "outputs": [
    {
     "name": "stdout",
     "output_type": "stream",
     "text": [
      "(1127,)\n",
      "(1116,)\n",
      "(1059,)\n"
     ]
    }
   ],
   "source": [
    "print(ser_sum.shape)\n",
    "ser_sum = ser_sum[ser_sum < 100000]\n",
    "print(ser_sum.shape)\n",
    "ser_sum = ser_sum[ser_sum > 0]\n",
    "print(ser_sum.shape)\n",
    "keep_cells = ser_sum.index.tolist()"
   ]
  },
  {
   "cell_type": "code",
   "execution_count": 17,
   "metadata": {},
   "outputs": [
    {
     "data": {
      "text/plain": [
       "(29, 1059)"
      ]
     },
     "execution_count": 17,
     "metadata": {},
     "output_type": "execute_result"
    }
   ],
   "source": [
    "df['tile-exp'] = df['tile-exp-ini'][keep_cells]\n",
    "df['tile-exp'].shape"
   ]
  },
  {
   "cell_type": "markdown",
   "metadata": {},
   "source": [
    "### Set Negative Expression Levels to Zero"
   ]
  },
  {
   "cell_type": "code",
   "execution_count": 18,
   "metadata": {},
   "outputs": [
    {
     "name": "stderr",
     "output_type": "stream",
     "text": [
      "/Users/nickfernandez/anaconda3/lib/python3.6/site-packages/ipykernel_launcher.py:1: SettingWithCopyWarning: \n",
      "A value is trying to be set on a copy of a slice from a DataFrame.\n",
      "Try using .loc[row_indexer,col_indexer] = value instead\n",
      "\n",
      "See the caveats in the documentation: http://pandas.pydata.org/pandas-docs/stable/indexing.html#indexing-view-versus-copy\n",
      "  \"\"\"Entry point for launching an IPython kernel.\n",
      "/Users/nickfernandez/anaconda3/lib/python3.6/site-packages/pandas/core/frame.py:3160: SettingWithCopyWarning: \n",
      "A value is trying to be set on a copy of a slice from a DataFrame\n",
      "\n",
      "See the caveats in the documentation: http://pandas.pydata.org/pandas-docs/stable/indexing.html#indexing-view-versus-copy\n",
      "  self._where(-key, value, inplace=True)\n"
     ]
    }
   ],
   "source": [
    "df['tile-exp'][df['tile-exp'] < 0] = 0"
   ]
  },
  {
   "cell_type": "code",
   "execution_count": 19,
   "metadata": {},
   "outputs": [
    {
     "data": {
      "text/html": [
       "<div>\n",
       "<style scoped>\n",
       "    .dataframe tbody tr th:only-of-type {\n",
       "        vertical-align: middle;\n",
       "    }\n",
       "\n",
       "    .dataframe tbody tr th {\n",
       "        vertical-align: top;\n",
       "    }\n",
       "\n",
       "    .dataframe thead th {\n",
       "        text-align: right;\n",
       "    }\n",
       "</style>\n",
       "<table border=\"1\" class=\"dataframe\">\n",
       "  <thead>\n",
       "    <tr style=\"text-align: right;\">\n",
       "      <th></th>\n",
       "      <th>CD45</th>\n",
       "      <th>Ly6C</th>\n",
       "      <th>TCR</th>\n",
       "      <th>Ly6G</th>\n",
       "      <th>CD19</th>\n",
       "      <th>CD169</th>\n",
       "      <th>CD106</th>\n",
       "      <th>CD3</th>\n",
       "      <th>CD1632</th>\n",
       "      <th>CD8a</th>\n",
       "      <th>...</th>\n",
       "      <th>CD71</th>\n",
       "      <th>CD31</th>\n",
       "      <th>CD4</th>\n",
       "      <th>IgM</th>\n",
       "      <th>B220</th>\n",
       "      <th>ERTR7</th>\n",
       "      <th>CD35</th>\n",
       "      <th>CD2135</th>\n",
       "      <th>CD44</th>\n",
       "      <th>NKp46</th>\n",
       "    </tr>\n",
       "  </thead>\n",
       "  <tbody>\n",
       "    <tr>\n",
       "      <th>count</th>\n",
       "      <td>1059.0</td>\n",
       "      <td>1059.0</td>\n",
       "      <td>1059.0</td>\n",
       "      <td>1059.0</td>\n",
       "      <td>1059.0</td>\n",
       "      <td>1059.0</td>\n",
       "      <td>1059.0</td>\n",
       "      <td>1059.0</td>\n",
       "      <td>1059.0</td>\n",
       "      <td>1059.0</td>\n",
       "      <td>...</td>\n",
       "      <td>1059.0</td>\n",
       "      <td>1059.0</td>\n",
       "      <td>1059.0</td>\n",
       "      <td>1059.0</td>\n",
       "      <td>1059.0</td>\n",
       "      <td>1059.0</td>\n",
       "      <td>1059.0</td>\n",
       "      <td>1059.0</td>\n",
       "      <td>1059.0</td>\n",
       "      <td>1059.0</td>\n",
       "    </tr>\n",
       "    <tr>\n",
       "      <th>unique</th>\n",
       "      <td>971.0</td>\n",
       "      <td>686.0</td>\n",
       "      <td>872.0</td>\n",
       "      <td>655.0</td>\n",
       "      <td>973.0</td>\n",
       "      <td>545.0</td>\n",
       "      <td>979.0</td>\n",
       "      <td>499.0</td>\n",
       "      <td>940.0</td>\n",
       "      <td>877.0</td>\n",
       "      <td>...</td>\n",
       "      <td>760.0</td>\n",
       "      <td>1020.0</td>\n",
       "      <td>719.0</td>\n",
       "      <td>909.0</td>\n",
       "      <td>766.0</td>\n",
       "      <td>892.0</td>\n",
       "      <td>1011.0</td>\n",
       "      <td>802.0</td>\n",
       "      <td>957.0</td>\n",
       "      <td>1005.0</td>\n",
       "    </tr>\n",
       "    <tr>\n",
       "      <th>top</th>\n",
       "      <td>0.0</td>\n",
       "      <td>0.0</td>\n",
       "      <td>0.0</td>\n",
       "      <td>0.0</td>\n",
       "      <td>0.0</td>\n",
       "      <td>0.0</td>\n",
       "      <td>0.0</td>\n",
       "      <td>0.0</td>\n",
       "      <td>0.0</td>\n",
       "      <td>0.0</td>\n",
       "      <td>...</td>\n",
       "      <td>0.0</td>\n",
       "      <td>0.0</td>\n",
       "      <td>0.0</td>\n",
       "      <td>0.0</td>\n",
       "      <td>0.0</td>\n",
       "      <td>0.0</td>\n",
       "      <td>0.0</td>\n",
       "      <td>0.0</td>\n",
       "      <td>0.0</td>\n",
       "      <td>0.0</td>\n",
       "    </tr>\n",
       "    <tr>\n",
       "      <th>freq</th>\n",
       "      <td>89.0</td>\n",
       "      <td>374.0</td>\n",
       "      <td>188.0</td>\n",
       "      <td>405.0</td>\n",
       "      <td>87.0</td>\n",
       "      <td>515.0</td>\n",
       "      <td>81.0</td>\n",
       "      <td>561.0</td>\n",
       "      <td>120.0</td>\n",
       "      <td>183.0</td>\n",
       "      <td>...</td>\n",
       "      <td>300.0</td>\n",
       "      <td>40.0</td>\n",
       "      <td>341.0</td>\n",
       "      <td>151.0</td>\n",
       "      <td>294.0</td>\n",
       "      <td>168.0</td>\n",
       "      <td>49.0</td>\n",
       "      <td>258.0</td>\n",
       "      <td>103.0</td>\n",
       "      <td>55.0</td>\n",
       "    </tr>\n",
       "  </tbody>\n",
       "</table>\n",
       "<p>4 rows × 29 columns</p>\n",
       "</div>"
      ],
      "text/plain": [
       "          CD45    Ly6C     TCR    Ly6G    CD19   CD169   CD106     CD3  \\\n",
       "count   1059.0  1059.0  1059.0  1059.0  1059.0  1059.0  1059.0  1059.0   \n",
       "unique   971.0   686.0   872.0   655.0   973.0   545.0   979.0   499.0   \n",
       "top        0.0     0.0     0.0     0.0     0.0     0.0     0.0     0.0   \n",
       "freq      89.0   374.0   188.0   405.0    87.0   515.0    81.0   561.0   \n",
       "\n",
       "        CD1632    CD8a   ...      CD71    CD31     CD4     IgM    B220  \\\n",
       "count   1059.0  1059.0   ...    1059.0  1059.0  1059.0  1059.0  1059.0   \n",
       "unique   940.0   877.0   ...     760.0  1020.0   719.0   909.0   766.0   \n",
       "top        0.0     0.0   ...       0.0     0.0     0.0     0.0     0.0   \n",
       "freq     120.0   183.0   ...     300.0    40.0   341.0   151.0   294.0   \n",
       "\n",
       "         ERTR7    CD35  CD2135    CD44   NKp46  \n",
       "count   1059.0  1059.0  1059.0  1059.0  1059.0  \n",
       "unique   892.0  1011.0   802.0   957.0  1005.0  \n",
       "top        0.0     0.0     0.0     0.0     0.0  \n",
       "freq     168.0    49.0   258.0   103.0    55.0  \n",
       "\n",
       "[4 rows x 29 columns]"
      ]
     },
     "execution_count": 19,
     "metadata": {},
     "output_type": "execute_result"
    }
   ],
   "source": [
    "df['tile-exp'].transpose().describe()"
   ]
  },
  {
   "cell_type": "code",
   "execution_count": 20,
   "metadata": {},
   "outputs": [],
   "source": [
    "# df['tile-exp-ash'] = np.arcsinh(df['tile-exp']/5)"
   ]
  },
  {
   "cell_type": "code",
   "execution_count": 21,
   "metadata": {},
   "outputs": [
    {
     "name": "stderr",
     "output_type": "stream",
     "text": [
      "/Users/nickfernandez/anaconda3/lib/python3.6/site-packages/ipykernel_launcher.py:1: SettingWithCopyWarning: \n",
      "A value is trying to be set on a copy of a slice from a DataFrame.\n",
      "Try using .loc[row_indexer,col_indexer] = value instead\n",
      "\n",
      "See the caveats in the documentation: http://pandas.pydata.org/pandas-docs/stable/indexing.html#indexing-view-versus-copy\n",
      "  \"\"\"Entry point for launching an IPython kernel.\n",
      "/Users/nickfernandez/anaconda3/lib/python3.6/site-packages/pandas/core/frame.py:3160: SettingWithCopyWarning: \n",
      "A value is trying to be set on a copy of a slice from a DataFrame\n",
      "\n",
      "See the caveats in the documentation: http://pandas.pydata.org/pandas-docs/stable/indexing.html#indexing-view-versus-copy\n",
      "  self._where(-key, value, inplace=True)\n"
     ]
    }
   ],
   "source": [
    "df['tile-exp'][df['tile-exp'] > 5000] = 5000"
   ]
  },
  {
   "cell_type": "code",
   "execution_count": 22,
   "metadata": {},
   "outputs": [],
   "source": [
    "# ser_vals = pd.Series(df['tile-exp'].get_values().flatten())\n",
    "# ser_vals.hist(bins=100)"
   ]
  },
  {
   "cell_type": "code",
   "execution_count": 23,
   "metadata": {},
   "outputs": [
    {
     "data": {
      "text/plain": [
       "(29, 1059)"
      ]
     },
     "execution_count": 23,
     "metadata": {},
     "output_type": "execute_result"
    }
   ],
   "source": [
    "df['tile-exp'].shape"
   ]
  },
  {
   "cell_type": "markdown",
   "metadata": {},
   "source": [
    "### Location of Cells"
   ]
  },
  {
   "cell_type": "code",
   "execution_count": 25,
   "metadata": {},
   "outputs": [
    {
     "data": {
      "text/plain": [
       "(1059, 2)"
      ]
     },
     "execution_count": 25,
     "metadata": {},
     "output_type": "execute_result"
    }
   ],
   "source": [
    "df['tile-loc'] = df['tile'].loc[['X.X', 'Y.Y']][keep_cells].transpose()\n",
    "df['tile-loc'].shape"
   ]
  },
  {
   "cell_type": "code",
   "execution_count": 26,
   "metadata": {},
   "outputs": [],
   "source": [
    "df['tile-loc'] = df['tile-loc'].astype('int')"
   ]
  },
  {
   "cell_type": "code",
   "execution_count": 51,
   "metadata": {},
   "outputs": [],
   "source": [
    "def set_expression_opacity(inst_gene):\n",
    "    ser_opacity = df['tile-exp'].loc[inst_gene]\n",
    "    list_opacity = [float(x/ser_opacity.max()) for x in list(ser_opacity.get_values())]\n",
    "    scatter.default_opacities = list_opacity"
   ]
  },
  {
   "cell_type": "code",
   "execution_count": 54,
   "metadata": {},
   "outputs": [],
   "source": [
    "fig = plt.figure(title='Scatter')\n",
    "def_tt = bqplot.Tooltip(fields=['name'], formats=[''])\n",
    "\n",
    "scatter = plt.scatter(df['tile-loc']['X.X'], \n",
    "                      df['tile-loc']['Y.Y'], \n",
    "                      figsize=(20,10), \n",
    "                      ylim=(0,1000), \n",
    "                      xlim=(0,1000), stroke='black', \n",
    "                      tooltip=def_tt, \n",
    "                      names=df['tile-loc'].index.tolist(), \n",
    "                      display_names=False)\n",
    "\n",
    "inst_width = 900\n",
    "fig.layout.min_height = str(inst_width/1.2) + 'px'\n",
    "fig.layout.min_width = str(inst_width) + 'px'\n",
    "\n",
    "# scatter.default_opacities = [0.5] \n",
    "# scatter.default_opacities = [1.0, 0.9, 0.8, 0.7, 0.6, 0.5, 0.2, 0.1, 0.1]\n",
    "\n",
    "set_expression_opacity('NKp46')\n",
    "\n",
    "scatter.default_size = 250\n",
    "scatter.colors = ['red']"
   ]
  },
  {
   "cell_type": "markdown",
   "metadata": {},
   "source": [
    "### Expression Levels"
   ]
  },
  {
   "cell_type": "code",
   "execution_count": 24,
   "metadata": {},
   "outputs": [
    {
     "data": {
      "application/vnd.jupyter.widget-view+json": {
       "model_id": "912f1f67865640fd84bbee3204805b69",
       "version_major": 2,
       "version_minor": 0
      },
      "text/plain": [
       "ExampleWidget(network='{\"row_nodes\": [{\"name\": \"CD45\", \"ini\": 29, \"clust\": 20, \"rank\": 27, \"rankvar\": 25, \"gro…"
      ]
     },
     "metadata": {},
     "output_type": "display_data"
    }
   ],
   "source": [
    "net.load_df(df['tile-exp'])\n",
    "net.widget()"
   ]
  },
  {
   "cell_type": "markdown",
   "metadata": {},
   "source": [
    "### Updating the Marker Opacity"
   ]
  },
  {
   "cell_type": "code",
   "execution_count": 55,
   "metadata": {},
   "outputs": [
    {
     "data": {
      "application/vnd.jupyter.widget-view+json": {
       "model_id": "b976c5811aa94d4585d0a5870a386f9f",
       "version_major": 2,
       "version_minor": 0
      },
      "text/plain": [
       "Figure(axes=[Axis(scale=LinearScale(), side='bottom'), Axis(orientation='vertical', scale=LinearScale(), side=…"
      ]
     },
     "metadata": {},
     "output_type": "display_data"
    }
   ],
   "source": [
    "fig"
   ]
  },
  {
   "cell_type": "code",
   "execution_count": 58,
   "metadata": {},
   "outputs": [],
   "source": [
    "# ser_opacity = df['tile-exp'].loc['CD106']\n",
    "# ser_opacity = df['tile-exp'].loc['CD44']\n",
    "ser_opacity = df['tile-exp'].loc['CD45']\n",
    "# ser_opacity = df['tile-exp'].loc['NKp46']\n",
    "# ser_opacity = df['tile-exp'].loc['IgD']\n",
    "# ser_opacity = df['tile-exp'].loc['IgM']\n",
    "list_opacity = [float(x/ser_opacity.max()) for x in list(ser_opacity.get_values())]\n",
    "scatter.default_opacities = list_opacity"
   ]
  },
  {
   "cell_type": "code",
   "execution_count": null,
   "metadata": {},
   "outputs": [],
   "source": []
  }
 ],
 "metadata": {
  "kernelspec": {
   "display_name": "Python 3",
   "language": "python",
   "name": "python3"
  },
  "language_info": {
   "codemirror_mode": {
    "name": "ipython",
    "version": 3
   },
   "file_extension": ".py",
   "mimetype": "text/x-python",
   "name": "python",
   "nbconvert_exporter": "python",
   "pygments_lexer": "ipython3",
   "version": "3.6.5"
  }
 },
 "nbformat": 4,
 "nbformat_minor": 2
}
