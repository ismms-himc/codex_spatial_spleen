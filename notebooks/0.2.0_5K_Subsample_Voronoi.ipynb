{
 "cells": [
  {
   "cell_type": "markdown",
   "metadata": {},
   "source": [
    "# 5K Subsample Voronoi "
   ]
  },
  {
   "cell_type": "code",
   "execution_count": 1,
   "metadata": {},
   "outputs": [],
   "source": [
    "import pandas as pd\n",
    "df = {}"
   ]
  },
  {
   "cell_type": "code",
   "execution_count": 2,
   "metadata": {},
   "outputs": [
    {
     "name": "stdout",
     "output_type": "stream",
     "text": [
      ">> clustergrammer2 backend version 0.4.0\n"
     ]
    }
   ],
   "source": [
    "from clustergrammer2 import net\n",
    "\n",
    "import ipywidgets as widgets\n",
    "import numpy as np\n",
    "from bqplot import pyplot as plt\n",
    "import bqplot"
   ]
  },
  {
   "cell_type": "code",
   "execution_count": 3,
   "metadata": {},
   "outputs": [],
   "source": [
    "from copy import deepcopy\n",
    "from glob import glob"
   ]
  },
  {
   "cell_type": "markdown",
   "metadata": {},
   "source": [
    "#### Load X-shift cluster ID"
   ]
  },
  {
   "cell_type": "code",
   "execution_count": 4,
   "metadata": {},
   "outputs": [
    {
     "data": {
      "text/plain": [
       "(58, 1)"
      ]
     },
     "execution_count": 4,
     "metadata": {},
     "output_type": "execute_result"
    }
   ],
   "source": [
    "df['cell_type'] = pd.read_excel('../data/big_data/mmc2__codex_cell_type_info.xlsx', index_col=0)\n",
    "df['cell_type'].shape"
   ]
  },
  {
   "cell_type": "code",
   "execution_count": 5,
   "metadata": {},
   "outputs": [
    {
     "name": "stdout",
     "output_type": "stream",
     "text": [
      "28\n"
     ]
    },
    {
     "data": {
      "text/plain": [
       "['B cells',\n",
       " 'B220(+) DN T cells',\n",
       " 'CD106(+)CD16/32(+)CD31(+) stroma',\n",
       " 'CD106(+)CD16/32(+)CD31(-)Ly6C(-) stroma',\n",
       " 'CD106(+)CD16/32(-)Ly6C(+)CD31(+)',\n",
       " 'CD106(-)CD16/32(+)Ly6C(+)CD31(-)',\n",
       " 'CD106(-)CD16/32(-)Ly6C(+)CD31(+) stroma',\n",
       " 'CD11c(+) B cells',\n",
       " 'CD3(+) other markers (-)',\n",
       " 'CD31(hi) vascular',\n",
       " 'CD4(+) T cells',\n",
       " 'CD4(+)CD8(-)cDC',\n",
       " 'CD4(+)MHCII(+)',\n",
       " 'CD4(-)CD8(+)cDC',\n",
       " 'CD4(-)CD8(-) cDC',\n",
       " 'CD8(+) T cells',\n",
       " 'ERTR7(+) stroma',\n",
       " 'F4/80(+) mphs',\n",
       " 'FDCs',\n",
       " 'NK cells',\n",
       " 'capsule',\n",
       " 'dirt',\n",
       " 'erythroblasts',\n",
       " 'granulocytes',\n",
       " 'marginal zone mphs',\n",
       " 'megakaryocytes',\n",
       " 'noid',\n",
       " 'plasma cells']"
      ]
     },
     "execution_count": 5,
     "metadata": {},
     "output_type": "execute_result"
    }
   ],
   "source": [
    "ct_dict = {}\n",
    "cell_types = []\n",
    "for inst_id in df['cell_type'].index.tolist():\n",
    "    inst_ct = df['cell_type']['Imaging phenotype (cell type)'].loc[inst_id]\n",
    "    cell_types.append(inst_ct)\n",
    "    ct_dict[inst_id] = inst_ct\n",
    "    \n",
    "cell_types = sorted(list(set(cell_types)))\n",
    "print(len(cell_types))\n",
    "cell_types    "
   ]
  },
  {
   "cell_type": "code",
   "execution_count": 6,
   "metadata": {},
   "outputs": [],
   "source": [
    "x_dim = 1200\n",
    "y_dim = 1000"
   ]
  },
  {
   "cell_type": "markdown",
   "metadata": {},
   "source": [
    "### Expression Data\n",
    "See http://welikesharingdata.blob.core.windows.net/forshare/index.html\n",
    "\n",
    "* CSV file contains mean marker intensities and X, Y, Z corrdinates for each cell relative to the top left corner of its tile. \n",
    "* Tile IDs correspond to tile images sorted in the alphanumeric order\n",
    "* Size parameter corresponds to the cell object sizes in voxels\n",
    "* \"imaging phenotype Cluster ID\" column specifies the phenotypic cluster identity as determined by X-shift\n",
    "* \"niche Cluster ID\" column specifies the i-niche cluster determined by K-means (K=100)\n",
    "* neighborhood graph files describes which pairs of cells are adjacent to one another"
   ]
  },
  {
   "cell_type": "code",
   "execution_count": null,
   "metadata": {},
   "outputs": [],
   "source": []
  }
 ],
 "metadata": {
  "kernelspec": {
   "display_name": "Python 3",
   "language": "python",
   "name": "python3"
  },
  "language_info": {
   "codemirror_mode": {
    "name": "ipython",
    "version": 3
   },
   "file_extension": ".py",
   "mimetype": "text/x-python",
   "name": "python",
   "nbconvert_exporter": "python",
   "pygments_lexer": "ipython3",
   "version": "3.6.5"
  }
 },
 "nbformat": 4,
 "nbformat_minor": 2
}
