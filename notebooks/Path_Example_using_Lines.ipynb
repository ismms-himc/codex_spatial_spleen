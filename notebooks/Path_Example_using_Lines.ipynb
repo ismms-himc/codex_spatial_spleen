{
 "cells": [
  {
   "cell_type": "markdown",
   "metadata": {},
   "source": [
    "### Introduction\n",
    "\n",
    "The `Lines` object provides the following features:\n",
    "\n",
    "1. Ability to plot a single set or multiple sets of y-values as a function of a set or multiple sets of x-values\n",
    "2. Ability to style the line object in different ways, by setting different attributes such as the `colors`, `line_style`, `stroke_width` etc.\n",
    "3. Ability to specify a marker at each point passed to the line. The marker can be a shape which is at the data points between which the line is interpolated and can be set through the `markers` attribute"
   ]
  },
  {
   "cell_type": "markdown",
   "metadata": {},
   "source": [
    "The `Lines` object has the following attributes"
   ]
  },
  {
   "cell_type": "markdown",
   "metadata": {},
   "source": [
    " | Attribute |  Description | Default Value  |\n",
    "|:-:|---|:-:|\n",
    "|  `colors` | Sets the color of each line, takes as input a list of any RGB, HEX, or HTML color name  | `CATEGORY10`  |\n",
    "| `opacities`  | Controls the opacity of each line, takes as input a real number between 0 and 1  | `1.0`  |\n",
    "| `stroke_width`  | Real number which sets the width of all paths  | `2.0`  |\n",
    "| `line_style`  | Specifies whether a line is solid, dashed, dotted or both dashed and dotted  | `'solid'`  |\n",
    "| `interpolation`  | Sets the type of interpolation between two points  | `'linear'`  |\n",
    "| `marker`  | Specifies the shape of the marker inserted at each data point  | `None`  |\n",
    "| `marker_size`  | Controls the size of the marker, takes as input a non-negative integer  | `64`  |\n",
    "|`close_path`| Controls whether to close the paths or not | `False` |\n",
    "|`fill`| Specifies in which way the paths are filled. Can be set to one of `{'none', 'bottom', 'top', 'inside'}`| `None` |\n",
    "|`fill_colors`| `List` that specifies the `fill` colors of each path | `[]` |                                                                         \n",
    "| **Data Attribute** |  **Description** | **Default Value**  |\n",
    "|`x` |abscissas of the data points | `array([])` |\n",
    "|`y` |ordinates of the data points | `array([])` |\n",
    "|`color` | Data according to which the `Lines` will be colored. Setting it to `None` defaults the choice of colors to the `colors` attribute | `None` |"
   ]
  },
  {
   "cell_type": "markdown",
   "metadata": {},
   "source": [
    "## pyplot's plot method can be used to plot lines with meaningful defaults"
   ]
  },
  {
   "cell_type": "code",
   "execution_count": 1,
   "metadata": {},
   "outputs": [],
   "source": [
    "import numpy as np\n",
    "from pandas import date_range\n",
    "import bqplot.pyplot as plt\n",
    "from bqplot import *"
   ]
  },
  {
   "cell_type": "code",
   "execution_count": 2,
   "metadata": {},
   "outputs": [],
   "source": [
    "security_1 = np.cumsum(np.random.randn(150)) + 100.\n",
    "security_2 = np.cumsum(np.random.randn(150)) + 100."
   ]
  },
  {
   "cell_type": "markdown",
   "metadata": {},
   "source": [
    "## Basic Line Chart"
   ]
  },
  {
   "cell_type": "code",
   "execution_count": 3,
   "metadata": {},
   "outputs": [
    {
     "data": {
      "application/vnd.jupyter.widget-view+json": {
       "model_id": "6e007f2661fb4ba2a0ee742a0847627e",
       "version_major": 2,
       "version_minor": 0
      },
      "text/plain": [
       "Figure(axes=[Axis(label='Index', scale=LinearScale()), Axis(label='Price', orientation='vertical', scale=Linea…"
      ]
     },
     "metadata": {},
     "output_type": "display_data"
    }
   ],
   "source": [
    "fig = plt.figure(title='Security 1')\n",
    "axes_options = {'x': {'label': 'Index'}, 'y': {'label': 'Price'}}\n",
    "# x values default to range of values when not specified\n",
    "line = plt.plot(security_1, axes_options=axes_options)\n",
    "fig"
   ]
  },
  {
   "cell_type": "markdown",
   "metadata": {},
   "source": [
    "**We can explore the different attributes by changing each of them for the plot above:**"
   ]
  },
  {
   "cell_type": "code",
   "execution_count": 4,
   "metadata": {},
   "outputs": [],
   "source": [
    "line.colors = ['DarkOrange']"
   ]
  },
  {
   "cell_type": "markdown",
   "metadata": {},
   "source": [
    "In a similar way, we can also change any attribute after the plot has been displayed to change the plot. Run each of the cells below, and try changing the attributes to explore the different features and how they affect the plot."
   ]
  },
  {
   "cell_type": "code",
   "execution_count": 5,
   "metadata": {},
   "outputs": [],
   "source": [
    "# The opacity allows us to display the Line while featuring other Marks that may be on the Figure\n",
    "line.opacities = [.5]"
   ]
  },
  {
   "cell_type": "code",
   "execution_count": 6,
   "metadata": {},
   "outputs": [],
   "source": [
    "line.stroke_width = 2.5"
   ]
  },
  {
   "cell_type": "markdown",
   "metadata": {},
   "source": [
    "To switch to an area chart, set the `fill` attribute, and control the look with `fill_opacities` and `fill_colors`."
   ]
  },
  {
   "cell_type": "code",
   "execution_count": 7,
   "metadata": {},
   "outputs": [],
   "source": [
    "line.fill = 'bottom'\n",
    "line.fill_opacities = [0.2]"
   ]
  },
  {
   "cell_type": "code",
   "execution_count": 8,
   "metadata": {},
   "outputs": [],
   "source": [
    "line.line_style = 'dashed'"
   ]
  },
  {
   "cell_type": "code",
   "execution_count": 9,
   "metadata": {},
   "outputs": [],
   "source": [
    "line.interpolation = 'basis'"
   ]
  },
  {
   "cell_type": "markdown",
   "metadata": {},
   "source": [
    "While a `Lines` plot allows the user to extract the general shape of the data being plotted, there may be a need to visualize discrete data points along with this shape. This is where the `markers` attribute comes in."
   ]
  },
  {
   "cell_type": "code",
   "execution_count": 10,
   "metadata": {},
   "outputs": [],
   "source": [
    "line.marker = 'triangle-down'"
   ]
  },
  {
   "cell_type": "markdown",
   "metadata": {},
   "source": [
    "The `marker` attributes accepts the values `square`, `circle`, `cross`, `diamond`, `square`, `triangle-down`, `triangle-up`, `arrow`, `rectangle`, `ellipse`. Try changing the string above and re-running the cell to see how each `marker` type looks."
   ]
  },
  {
   "cell_type": "markdown",
   "metadata": {
    "collapsed": true
   },
   "source": [
    "## Plotting a Time-Series"
   ]
  },
  {
   "cell_type": "markdown",
   "metadata": {},
   "source": [
    "The `DateScale` allows us to plot time series as a `Lines` plot conveniently with most `date` formats."
   ]
  },
  {
   "cell_type": "code",
   "execution_count": 11,
   "metadata": {},
   "outputs": [],
   "source": [
    "# Here we define the dates we would like to use\n",
    "dates = date_range(start='01-01-2007', periods=150)"
   ]
  },
  {
   "cell_type": "code",
   "execution_count": 12,
   "metadata": {},
   "outputs": [
    {
     "data": {
      "application/vnd.jupyter.widget-view+json": {
       "model_id": "7b8ed2cfadda4452b88e6b9c9fc0d71f",
       "version_major": 2,
       "version_minor": 0
      },
      "text/plain": [
       "Figure(axes=[Axis(label='Date', scale=DateScale()), Axis(label='Security 1', orientation='vertical', scale=Lin…"
      ]
     },
     "metadata": {},
     "output_type": "display_data"
    }
   ],
   "source": [
    "fig = plt.figure(title='Time Series')\n",
    "axes_options = {'x': {'label': 'Date'}, 'y': {'label': 'Security 1'}}\n",
    "time_series = plt.plot(dates, security_1, \n",
    "                       axes_options=axes_options)\n",
    "fig"
   ]
  },
  {
   "cell_type": "markdown",
   "metadata": {},
   "source": [
    "## Plotting multiples sets of data"
   ]
  },
  {
   "cell_type": "markdown",
   "metadata": {},
   "source": [
    "The `Lines` mark allows the user to plot multiple `y`-values for a single `x`-value. This can be done by passing an `ndarray` or a list of the different `y`-values as the y-attribute of the `Lines` as shown below."
   ]
  },
  {
   "cell_type": "code",
   "execution_count": 13,
   "metadata": {},
   "outputs": [],
   "source": [
    "dates_new = date_range(start='06-01-2007', periods=150)"
   ]
  },
  {
   "cell_type": "markdown",
   "metadata": {},
   "source": [
    "We pass each data set as an element of a `list`"
   ]
  },
  {
   "cell_type": "code",
   "execution_count": 14,
   "metadata": {},
   "outputs": [
    {
     "data": {
      "application/vnd.jupyter.widget-view+json": {
       "model_id": "70a279246b654b778d12e8de0874983d",
       "version_major": 2,
       "version_minor": 0
      },
      "text/plain": [
       "Figure(axes=[Axis(label='Date', scale=DateScale()), Axis(label='Price', orientation='vertical', scale=LinearSc…"
      ]
     },
     "metadata": {},
     "output_type": "display_data"
    }
   ],
   "source": [
    "fig = plt.figure()\n",
    "axes_options = {'x': {'label': 'Date'}, 'y': {'label': 'Price'}}\n",
    "line = plt.plot(dates, [security_1, security_2], \n",
    "                labels=['Security 1', 'Security 2'],\n",
    "                axes_options=axes_options,\n",
    "                display_legend=True)\n",
    "fig"
   ]
  },
  {
   "cell_type": "markdown",
   "metadata": {},
   "source": [
    "Similarly, we can also pass multiple `x`-values for multiple sets of `y`-values"
   ]
  },
  {
   "cell_type": "code",
   "execution_count": 15,
   "metadata": {},
   "outputs": [],
   "source": [
    "line.x, line.y = [dates, dates_new], [security_1, security_2]"
   ]
  },
  {
   "cell_type": "markdown",
   "metadata": {},
   "source": [
    "### Coloring Lines according to data"
   ]
  },
  {
   "cell_type": "markdown",
   "metadata": {},
   "source": [
    "The `color` attribute of a `Lines` mark can also be used to encode one more dimension of data. Suppose we have a portfolio of securities and we would like to color them based on whether we have bought or sold them. We can use the `color` attribute to encode this information."
   ]
  },
  {
   "cell_type": "code",
   "execution_count": 16,
   "metadata": {},
   "outputs": [],
   "source": [
    "fig = plt.figure()\n",
    "axes_options = {'x': {'label': 'Date'}, \n",
    "                'y': {'label': 'Security 1'},\n",
    "                'color' : {'visible': False}}\n",
    "# add a custom color scale to color the lines\n",
    "plt.scales(scales={'color': ColorScale(colors=['Red', 'Green'])})"
   ]
  },
  {
   "cell_type": "code",
   "execution_count": 17,
   "metadata": {},
   "outputs": [],
   "source": [
    "dates_color = date_range(start='06-01-2007', periods=150)"
   ]
  },
  {
   "cell_type": "code",
   "execution_count": 18,
   "metadata": {},
   "outputs": [],
   "source": [
    "securities = 100. + np.cumsum(np.random.randn(150, 10), axis=0)\n",
    "# we generate 10 random price series and 10 random positions\n",
    "positions = np.random.randint(0, 2, size=10)"
   ]
  },
  {
   "cell_type": "code",
   "execution_count": 19,
   "metadata": {},
   "outputs": [
    {
     "data": {
      "application/vnd.jupyter.widget-view+json": {
       "model_id": "8394c28dde434de49fc9f7e688caef06",
       "version_major": 2,
       "version_minor": 0
      },
      "text/plain": [
       "Figure(axes=[ColorAxis(scale=ColorScale(colors=['Red', 'Green']), visible=False), Axis(label='Date', scale=Dat…"
      ]
     },
     "metadata": {},
     "output_type": "display_data"
    }
   ],
   "source": [
    "# We pass the color scale and the color data to the plot method\n",
    "line = plt.plot(dates_color, securities.T, color=positions, \n",
    "                axes_options=axes_options)\n",
    "fig"
   ]
  },
  {
   "cell_type": "markdown",
   "metadata": {},
   "source": [
    "We can also reset the colors of the Line to their defaults by setting the `color` attribute to `None`."
   ]
  },
  {
   "cell_type": "code",
   "execution_count": 20,
   "metadata": {},
   "outputs": [],
   "source": [
    "line.color = None"
   ]
  },
  {
   "cell_type": "markdown",
   "metadata": {},
   "source": [
    "## Patches"
   ]
  },
  {
   "cell_type": "markdown",
   "metadata": {},
   "source": [
    "The `fill` attribute of the `Lines` mark allows us to fill a path in different ways, while the `fill_colors` attribute lets us control the color of the `fill`"
   ]
  },
  {
   "cell_type": "code",
   "execution_count": 41,
   "metadata": {},
   "outputs": [],
   "source": [
    "import bqplot\n",
    "def_tt = bqplot.Tooltip(fields=['name'], formats=[''])"
   ]
  },
  {
   "cell_type": "code",
   "execution_count": 42,
   "metadata": {},
   "outputs": [
    {
     "data": {
      "application/vnd.jupyter.widget-view+json": {
       "model_id": "fc329b43e896453885687caebca4a652",
       "version_major": 2,
       "version_minor": 0
      },
      "text/plain": [
       "Figure(animation_duration=1000, axes=[Axis(scale=LinearScale(), visible=False), Axis(orientation='vertical', s…"
      ]
     },
     "metadata": {},
     "output_type": "display_data"
    }
   ],
   "source": [
    "fig = plt.figure(animation_duration=1000)\n",
    "patch = plt.plot([],[],\n",
    "                 fill_colors=['orange', 'blue', 'red'],\n",
    "                 fill='inside',\n",
    "                 axes_options={'x': {'visible': False}, 'y': {'visible': False}},\n",
    "                 stroke_width=2,\n",
    "                 close_path=True,\n",
    "                 display_legend=True, tooltip=def_tt,)\n",
    "\n",
    "patch.x = [[4,   5,   6,   6,   5,   4,   3,  1], [1, 2, 3]], \n",
    "patch.y = [[1, 1.1, 1.2, 2.3, 2.2, 2.7, 1.0, -2], [3, 2, 3]]\n",
    "fig"
   ]
  },
  {
   "cell_type": "code",
   "execution_count": 35,
   "metadata": {},
   "outputs": [],
   "source": [
    "patch.opacities = [0.9, 0.9]"
   ]
  },
  {
   "cell_type": "code",
   "execution_count": 36,
   "metadata": {},
   "outputs": [],
   "source": [
    "patch.x = [[10, 3, 3.2], [0.5, 2.5, 1.7], [4,5,6, 6, 5, 4, 3]]"
   ]
  },
  {
   "cell_type": "code",
   "execution_count": 24,
   "metadata": {},
   "outputs": [],
   "source": [
    "patch.close_path = True"
   ]
  },
  {
   "cell_type": "markdown",
   "metadata": {},
   "source": [
    "# Voronoi Plot"
   ]
  },
  {
   "cell_type": "code",
   "execution_count": 59,
   "metadata": {},
   "outputs": [],
   "source": [
    "from scipy.spatial import Voronoi, voronoi_plot_2d"
   ]
  },
  {
   "cell_type": "code",
   "execution_count": 68,
   "metadata": {},
   "outputs": [],
   "source": [
    "points = np.array([[0, 0], [0, 1], [0, 2], [1, 0], [1, 1], [1, 2],\n",
    "                   [2, 0], [2, 1], [2, 2]])\n",
    "from scipy.spatial import Voronoi, voronoi_plot_2d\n",
    "vor = Voronoi(points)"
   ]
  },
  {
   "cell_type": "code",
   "execution_count": 61,
   "metadata": {},
   "outputs": [],
   "source": [
    "vor = Voronoi(points)"
   ]
  },
  {
   "cell_type": "code",
   "execution_count": 69,
   "metadata": {},
   "outputs": [
    {
     "data": {
      "image/png": "[encoded data removed]",
      "text/plain": [
       "<Figure size 432x288 with 1 Axes>"
      ]
     },
     "metadata": {},
     "output_type": "display_data"
    }
   ],
   "source": [
    "import matplotlib.pyplot as plt\n",
    "voronoi_plot_2d(vor)\n",
    "plt.show()"
   ]
  },
  {
   "cell_type": "markdown",
   "metadata": {},
   "source": [
    "### Points\n",
    "Coordinates of input points"
   ]
  },
  {
   "cell_type": "code",
   "execution_count": 70,
   "metadata": {},
   "outputs": [
    {
     "data": {
      "text/plain": [
       "array([[0., 0.],\n",
       "       [0., 1.],\n",
       "       [0., 2.],\n",
       "       [1., 0.],\n",
       "       [1., 1.],\n",
       "       [1., 2.],\n",
       "       [2., 0.],\n",
       "       [2., 1.],\n",
       "       [2., 2.]])"
      ]
     },
     "execution_count": 70,
     "metadata": {},
     "output_type": "execute_result"
    }
   ],
   "source": [
    "vor.points"
   ]
  },
  {
   "cell_type": "markdown",
   "metadata": {},
   "source": [
    "### Vertices\n",
    "Cooridnates of the Voronoi vertices"
   ]
  },
  {
   "cell_type": "code",
   "execution_count": 71,
   "metadata": {},
   "outputs": [
    {
     "data": {
      "text/plain": [
       "array([[0.5, 0.5],\n",
       "       [1.5, 0.5],\n",
       "       [0.5, 1.5],\n",
       "       [1.5, 1.5]])"
      ]
     },
     "execution_count": 71,
     "metadata": {},
     "output_type": "execute_result"
    }
   ],
   "source": [
    "vor.vertices"
   ]
  },
  {
   "cell_type": "markdown",
   "metadata": {},
   "source": [
    "### Ridge Points\n",
    "Indices of the points between which each Voronoi ridge lies."
   ]
  },
  {
   "cell_type": "code",
   "execution_count": 72,
   "metadata": {},
   "outputs": [
    {
     "data": {
      "text/plain": [
       "array([[0, 1],\n",
       "       [0, 3],\n",
       "       [6, 3],\n",
       "       [6, 7],\n",
       "       [3, 4],\n",
       "       [5, 8],\n",
       "       [5, 2],\n",
       "       [5, 4],\n",
       "       [8, 7],\n",
       "       [2, 1],\n",
       "       [4, 1],\n",
       "       [4, 7]], dtype=int32)"
      ]
     },
     "execution_count": 72,
     "metadata": {},
     "output_type": "execute_result"
    }
   ],
   "source": [
    "vor.ridge_points"
   ]
  },
  {
   "cell_type": "code",
   "execution_count": 75,
   "metadata": {},
   "outputs": [
    {
     "data": {
      "text/plain": [
       "12"
      ]
     },
     "execution_count": 75,
     "metadata": {},
     "output_type": "execute_result"
    }
   ],
   "source": [
    "len(vor.ridge_points)"
   ]
  },
  {
   "cell_type": "markdown",
   "metadata": {},
   "source": [
    "### Ridge Vertices\n",
    "Indices of the Voronoi vertices forming each Voronoi ridge"
   ]
  },
  {
   "cell_type": "code",
   "execution_count": 73,
   "metadata": {},
   "outputs": [
    {
     "data": {
      "text/plain": [
       "[[-1, 0],\n",
       " [-1, 0],\n",
       " [-1, 1],\n",
       " [-1, 1],\n",
       " [0, 1],\n",
       " [-1, 3],\n",
       " [-1, 2],\n",
       " [2, 3],\n",
       " [-1, 3],\n",
       " [-1, 2],\n",
       " [0, 2],\n",
       " [1, 3]]"
      ]
     },
     "execution_count": 73,
     "metadata": {},
     "output_type": "execute_result"
    }
   ],
   "source": [
    "vor.ridge_vertices"
   ]
  },
  {
   "cell_type": "code",
   "execution_count": 74,
   "metadata": {},
   "outputs": [
    {
     "data": {
      "text/plain": [
       "12"
      ]
     },
     "execution_count": 74,
     "metadata": {},
     "output_type": "execute_result"
    }
   ],
   "source": [
    "len(vor.ridge_vertices)"
   ]
  },
  {
   "cell_type": "markdown",
   "metadata": {},
   "source": [
    "### Regions\n",
    "Indices of the Voronoi vertices forming each Voronoi region. -1 indicates vertex outside of the Voronoi diagram"
   ]
  },
  {
   "cell_type": "code",
   "execution_count": 76,
   "metadata": {},
   "outputs": [
    {
     "data": {
      "text/plain": [
       "[[],\n",
       " [-1, 0],\n",
       " [-1, 1],\n",
       " [1, -1, 0],\n",
       " [3, -1, 2],\n",
       " [-1, 3],\n",
       " [-1, 2],\n",
       " [3, 2, 0, 1],\n",
       " [2, -1, 0],\n",
       " [3, -1, 1]]"
      ]
     },
     "execution_count": 76,
     "metadata": {},
     "output_type": "execute_result"
    }
   ],
   "source": [
    "vor.regions"
   ]
  },
  {
   "cell_type": "markdown",
   "metadata": {},
   "source": [
    "It looks like there is only one Voronoi region with all vertices defined in the region of the Voronoi diagram. `[3, 2, 0, 1]`. This probably corresponds to the square."
   ]
  },
  {
   "cell_type": "markdown",
   "metadata": {},
   "source": [
    "### Point Regoin\n",
    "Index of the Voronoi region for each input point. If qhull option \"Qc\" was not specificd, the list will contain -1 for points that are not associated with a Voronoi region. "
   ]
  },
  {
   "cell_type": "code",
   "execution_count": 77,
   "metadata": {},
   "outputs": [
    {
     "data": {
      "text/plain": [
       "array([1, 8, 6, 3, 7, 4, 2, 9, 5])"
      ]
     },
     "execution_count": 77,
     "metadata": {},
     "output_type": "execute_result"
    }
   ],
   "source": [
    "vor.point_region"
   ]
  },
  {
   "cell_type": "markdown",
   "metadata": {},
   "source": [
    "# More complicated Voronoi Example"
   ]
  },
  {
   "cell_type": "code",
   "execution_count": 380,
   "metadata": {},
   "outputs": [],
   "source": [
    "import matplotlib.pyplot as plt\n",
    "np.random.seed(seed=10)\n",
    "points = np.random.rand(6,2) #random"
   ]
  },
  {
   "cell_type": "code",
   "execution_count": 439,
   "metadata": {},
   "outputs": [],
   "source": [
    "point_names = ['one', 'two', 'three', 'four', 'five', 'six']"
   ]
  },
  {
   "cell_type": "code",
   "execution_count": 381,
   "metadata": {},
   "outputs": [
    {
     "data": {
      "text/plain": [
       "array([0.77132064, 0.02075195])"
      ]
     },
     "execution_count": 381,
     "metadata": {},
     "output_type": "execute_result"
    }
   ],
   "source": [
    "points[0]"
   ]
  },
  {
   "cell_type": "code",
   "execution_count": 382,
   "metadata": {},
   "outputs": [],
   "source": [
    "from scipy.spatial import Voronoi, voronoi_plot_2d\n",
    "vor = Voronoi(points)"
   ]
  },
  {
   "cell_type": "code",
   "execution_count": 383,
   "metadata": {},
   "outputs": [
    {
     "data": {
      "image/png": "[encoded data removed]",
      "text/plain": [
       "<Figure size 432x288 with 1 Axes>"
      ]
     },
     "metadata": {},
     "output_type": "display_data"
    }
   ],
   "source": [
    "fig = voronoi_plot_2d(vor)"
   ]
  },
  {
   "cell_type": "code",
   "execution_count": 384,
   "metadata": {},
   "outputs": [
    {
     "name": "stdout",
     "output_type": "stream",
     "text": [
      "[ 0.45014738 -0.12426376] [0.22355451 0.42271381]\n",
      "[1.73326899 0.57969614] [0.42008089 0.91161468]\n",
      "[1.73326899 0.57969614] [0.85202273 0.41305515]\n",
      "[0.85202273 0.41305515] [0.40972958 0.52712235]\n",
      "[0.42008089 0.91161468] [0.40972958 0.52712235]\n",
      "[ 0.45014738 -0.12426376] [0.85202273 0.41305515]\n",
      "[0.22355451 0.42271381] [0.40972958 0.52712235]\n"
     ]
    },
    {
     "data": {
      "image/png": "[encoded data removed]",
      "text/plain": [
       "<Figure size 432x288 with 1 Axes>"
      ]
     },
     "metadata": {},
     "output_type": "display_data"
    }
   ],
   "source": [
    "fig = plt.figure()\n",
    "\n",
    "# Mark the Voronoi vertices.\n",
    "plt.plot(vor.vertices[:,0], vor.vertices[:, 1], 'ko', ms=8)\n",
    "\n",
    "for vpair in vor.ridge_vertices:\n",
    "    if vpair[0] >= 0 and vpair[1] >= 0:\n",
    "        v0 = vor.vertices[vpair[0]]\n",
    "        v1 = vor.vertices[vpair[1]]\n",
    "        \n",
    "        print(v0, v1)\n",
    "        # Draw a line from v0 to v1.\n",
    "        plt.plot([v0[0], v1[0]], [v0[1], v1[1]], 'k', linewidth=2)\n",
    "\n",
    "plt.show()"
   ]
  },
  {
   "cell_type": "code",
   "execution_count": 385,
   "metadata": {},
   "outputs": [
    {
     "data": {
      "text/plain": [
       "[[], [5, 3, 2, 4], [4, -1, 2], [3, 0, -1, 2], [5, 1, 0, 3], [5, 1, -1, 4]]"
      ]
     },
     "execution_count": 385,
     "metadata": {},
     "output_type": "execute_result"
    }
   ],
   "source": [
    "vor.regions[1:]"
   ]
  },
  {
   "cell_type": "code",
   "execution_count": 386,
   "metadata": {},
   "outputs": [
    {
     "name": "stdout",
     "output_type": "stream",
     "text": [
      "7\n"
     ]
    }
   ],
   "source": [
    "print(len(vor.regions))"
   ]
  },
  {
   "cell_type": "code",
   "execution_count": 387,
   "metadata": {},
   "outputs": [
    {
     "data": {
      "text/plain": [
       "array([4, 2, 5, 6, 0, 3])"
      ]
     },
     "execution_count": 387,
     "metadata": {},
     "output_type": "execute_result"
    }
   ],
   "source": [
    "vor.point_region"
   ]
  },
  {
   "cell_type": "code",
   "execution_count": 388,
   "metadata": {},
   "outputs": [
    {
     "name": "stdout",
     "output_type": "stream",
     "text": [
      "6\n"
     ]
    }
   ],
   "source": [
    "print(len(vor.point_region))"
   ]
  },
  {
   "cell_type": "markdown",
   "metadata": {},
   "source": [
    "### Need to make a dictionary of region to point"
   ]
  },
  {
   "cell_type": "code",
   "execution_count": 389,
   "metadata": {},
   "outputs": [
    {
     "name": "stdout",
     "output_type": "stream",
     "text": [
      "0\n",
      "1\n",
      "2\n",
      "3\n",
      "4\n",
      "5\n"
     ]
    },
    {
     "data": {
      "text/plain": [
       "{4: 0, 2: 1, 5: 2, 6: 3, 0: 4, 3: 5}"
      ]
     },
     "execution_count": 389,
     "metadata": {},
     "output_type": "execute_result"
    }
   ],
   "source": [
    "region_point_dict = {}\n",
    "for point_index in range(vor.point_region.shape[0]):\n",
    "    print(point_index)\n",
    "    region_index = vor.point_region[point_index]\n",
    "    region_point_dict[region_index] = point_index\n",
    "    \n",
    "region_point_dict"
   ]
  },
  {
   "cell_type": "markdown",
   "metadata": {},
   "source": [
    "### Assemble lists of vertex positions for bqplot"
   ]
  },
  {
   "cell_type": "code",
   "execution_count": 441,
   "metadata": {},
   "outputs": [
    {
     "name": "stdout",
     "output_type": "stream",
     "text": [
      "region index 2 point_index 1 point_name two\n",
      "region index 5 point_index 2 point_name three\n"
     ]
    }
   ],
   "source": [
    "patch_data = {}\n",
    "patch_data['x'] = []\n",
    "patch_data['y'] = []\n",
    "# skipping first empty region\n",
    "\n",
    "region_labels = []\n",
    "for region_index in range(len(vor.regions)):\n",
    "    \n",
    "    inst_region = vor.regions[region_index]\n",
    "\n",
    "    if -1 not in inst_region and len(inst_region) > 0:\n",
    "\n",
    "        point_index = region_point_dict[region_index]\n",
    "        point_name = point_names[point_index]\n",
    "        print('region index', region_index, 'point_index', point_index, 'point_name', point_name)\n",
    "        \n",
    "        region_labels.append('Point-' + point_name)\n",
    "        \n",
    "        x_list = []\n",
    "        y_list = []\n",
    "        for inst_vertex in inst_region:\n",
    "            inst_pos = vor.vertices[inst_vertex]\n",
    "            x_list.append(inst_pos[0])\n",
    "            y_list.append(inst_pos[1])\n",
    "            \n",
    "        patch_data['x'].append(x_list)\n",
    "        patch_data['y'].append(y_list)    "
   ]
  },
  {
   "cell_type": "code",
   "execution_count": 442,
   "metadata": {},
   "outputs": [
    {
     "data": {
      "text/plain": [
       "['Point-two', 'Point-three']"
      ]
     },
     "execution_count": 442,
     "metadata": {},
     "output_type": "execute_result"
    }
   ],
   "source": [
    "region_labels"
   ]
  },
  {
   "cell_type": "code",
   "execution_count": 443,
   "metadata": {},
   "outputs": [
    {
     "data": {
      "text/plain": [
       "[[-1, 0, 1],\n",
       " [],\n",
       " [5, 3, 2, 4],\n",
       " [4, -1, 2],\n",
       " [3, 0, -1, 2],\n",
       " [5, 1, 0, 3],\n",
       " [5, 1, -1, 4]]"
      ]
     },
     "execution_count": 443,
     "metadata": {},
     "output_type": "execute_result"
    }
   ],
   "source": [
    "vor.regions"
   ]
  },
  {
   "cell_type": "code",
   "execution_count": 444,
   "metadata": {},
   "outputs": [
    {
     "data": {
      "text/plain": [
       "array([4, 2, 5, 6, 0, 3])"
      ]
     },
     "execution_count": 444,
     "metadata": {},
     "output_type": "execute_result"
    }
   ],
   "source": [
    "vor.point_region"
   ]
  },
  {
   "cell_type": "code",
   "execution_count": 445,
   "metadata": {},
   "outputs": [
    {
     "data": {
      "text/plain": [
       "6"
      ]
     },
     "execution_count": 445,
     "metadata": {},
     "output_type": "execute_result"
    }
   ],
   "source": [
    "region_index"
   ]
  },
  {
   "cell_type": "code",
   "execution_count": 446,
   "metadata": {},
   "outputs": [
    {
     "data": {
      "text/plain": [
       "{'x': [[0.4097295846150608,\n",
       "   0.8520227339335706,\n",
       "   1.7332689863391435,\n",
       "   0.4200808874255707],\n",
       "  [0.4097295846150608,\n",
       "   0.22355450954331613,\n",
       "   0.4501473823600029,\n",
       "   0.8520227339335706]],\n",
       " 'y': [[0.5271223505498778,\n",
       "   0.41305515312279745,\n",
       "   0.5796961417400555,\n",
       "   0.9116146811300156],\n",
       "  [0.5271223505498778,\n",
       "   0.42271381055996105,\n",
       "   -0.12426375746363771,\n",
       "   0.41305515312279745]]}"
      ]
     },
     "execution_count": 446,
     "metadata": {},
     "output_type": "execute_result"
    }
   ],
   "source": [
    "patch_data"
   ]
  },
  {
   "cell_type": "code",
   "execution_count": 453,
   "metadata": {},
   "outputs": [],
   "source": [
    "def_tt = bqplot.Tooltip(fields=['name'], formats=[''])"
   ]
  },
  {
   "cell_type": "code",
   "execution_count": 454,
   "metadata": {},
   "outputs": [
    {
     "data": {
      "text/plain": [
       "(6, 2)"
      ]
     },
     "execution_count": 454,
     "metadata": {},
     "output_type": "execute_result"
    }
   ],
   "source": [
    "points.shape"
   ]
  },
  {
   "cell_type": "code",
   "execution_count": 455,
   "metadata": {},
   "outputs": [
    {
     "data": {
      "text/plain": [
       "2"
      ]
     },
     "execution_count": 455,
     "metadata": {},
     "output_type": "execute_result"
    }
   ],
   "source": [
    "len(patch_data['x'])"
   ]
  },
  {
   "cell_type": "code",
   "execution_count": 456,
   "metadata": {},
   "outputs": [
    {
     "data": {
      "application/vnd.jupyter.widget-view+json": {
       "model_id": "ca82b4196fc747ba82998378484f859a",
       "version_major": 2,
       "version_minor": 0
      },
      "text/plain": [
       "Figure(animation_duration=1000, axes=[Axis(scale=LinearScale()), Axis(orientation='vertical', scale=LinearScal…"
      ]
     },
     "metadata": {},
     "output_type": "display_data"
    }
   ],
   "source": [
    "import bqplot.pyplot as plt\n",
    "fig = plt.figure(animation_duration=1000)\n",
    "patch = plt.plot(patch_data['x'], patch_data['y'],\n",
    "                 fill_colors=['orange', 'blue', 'red'],\n",
    "                 fill='inside',\n",
    "                 stroke_width=1,\n",
    "                 close_path=True,\n",
    "                 labels=region_labels,\n",
    "#                  labels=['Security 1', 'Security 2'],\n",
    "                 tooltip=def_tt)\n",
    "\n",
    "scatter = plt.scatter(points[:,0], points[:, 1], \n",
    "                      figsize=(20,10), \n",
    "                      ylim=(0,1000), \n",
    "                      xlim=(0,1000), \n",
    "                      stroke='black', \n",
    "                      tooltip=def_tt, \n",
    "                      names=point_names,\n",
    "                      display_names=True)\n",
    "\n",
    "# patch.x = [[4,   5,   6,   6,   5,   4,   3,  1], [1, 2, 3]], \n",
    "# patch.y = [[1, 1.1, 1.2, 2.3, 2.2, 2.7, 1.0, -2], [3, 2, 3]]\n",
    "\n",
    "# patch.x = \n",
    "# patch.y = \n",
    "# plt.xlim(0,1)\n",
    "# plt.ylim(0,1)\n",
    "fig"
   ]
  },
  {
   "cell_type": "code",
   "execution_count": 409,
   "metadata": {},
   "outputs": [
    {
     "data": {
      "text/plain": [
       "[[0.4097295846150608,\n",
       "  0.8520227339335706,\n",
       "  1.7332689863391435,\n",
       "  0.4200808874255707],\n",
       " [0.4097295846150608,\n",
       "  0.22355450954331613,\n",
       "  0.4501473823600029,\n",
       "  0.8520227339335706]]"
      ]
     },
     "execution_count": 409,
     "metadata": {},
     "output_type": "execute_result"
    }
   ],
   "source": [
    "patch_data['x']"
   ]
  },
  {
   "cell_type": "code",
   "execution_count": 339,
   "metadata": {},
   "outputs": [
    {
     "data": {
      "text/plain": [
       "[[0.5271223505498778,\n",
       "  0.4227138105599612,\n",
       "  -0.12426375746363771,\n",
       "  0.41305515312279745]]"
      ]
     },
     "execution_count": 339,
     "metadata": {},
     "output_type": "execute_result"
    }
   ],
   "source": [
    "patch_data['y']"
   ]
  },
  {
   "cell_type": "code",
   "execution_count": null,
   "metadata": {},
   "outputs": [],
   "source": []
  }
 ],
 "metadata": {
  "anaconda-cloud": {},
  "kernelspec": {
   "display_name": "Python 3",
   "language": "python",
   "name": "python3"
  },
  "language_info": {
   "codemirror_mode": {
    "name": "ipython",
    "version": 3
   },
   "file_extension": ".py",
   "mimetype": "text/x-python",
   "name": "python",
   "nbconvert_exporter": "python",
   "pygments_lexer": "ipython3",
   "version": "3.6.5"
  },
  "widgets": {
   "application/vnd.jupyter.widget-state+json": {
    "state": {
     "001d114d206a47b18f521f372f1c46da": {
      "model_module": "bqplot",
      "model_module_version": "^0.4.5",
      "model_name": "AxisModel",
      "state": {
       "orientation": "vertical",
       "scale": "IPY_MODEL_44004ebbfed24f218331d8e655ad7427",
       "side": "left",
       "tick_values": {
        "type": null,
        "values": null
       },
       "visible": false
      }
     },
     "002eb7fca6b1476c8098795c0b7684b6": {
      "model_module": "bqplot",
      "model_module_version": "^0.4.5",
      "model_name": "AxisModel",
      "state": {
       "scale": "IPY_MODEL_1b7912a6a4a64b7ba7c60c3b067078e3",
       "side": "bottom",
       "tick_values": {
        "type": null,
        "values": null
       }
      }
     },
     "003f0b2f9a9e42b2b63dfefc9005c9b5": {
      "model_module": "bqplot",
      "model_module_version": "^0.4.5",
      "model_name": "LinearScaleModel",
      "state": {
       "stabilized": false
      }
     },
     "004f9efc524c4376864675af5ba08a05": {
      "model_module": "bqplot",
      "model_module_version": "^0.4.5",
      "model_name": "LinesModel",
      "state": {
       "color": {
        "type": null,
        "values": null
       },
       "colors": [
        "black"
       ],
       "display_legend": false,
       "fill_colors": [],
       "labels": [
        "C1"
       ],
       "scales": {
        "x": "IPY_MODEL_8c5111a2e1e644708b9240a4d3d4d5ce",
        "y": "IPY_MODEL_1d74b54d6d234f3f916c600e47dbf8c7"
       },
       "selected": [],
       "x": {
        "type": "float",
        "values": [
         0.8520227339335706,
         0.4097295846150608
        ]
       },
       "y": {
        "type": "float",
        "values": [
         0.41305515312279745,
         0.5271223505498778
        ]
       }
      }
     },
     "005335228c054927971f3d1f82901503": {
      "model_module": "bqplot",
      "model_module_version": "^0.4.5",
      "model_name": "FigureModel",
      "state": {
       "_dom_classes": [],
       "animation_duration": 1000,
       "axes": [
        "IPY_MODEL_3df4cba7625a4cbb9a279d70389a6caa",
        "IPY_MODEL_1aef2cba1b4b417cb244e6252ad849ff"
       ],
       "layout": "IPY_MODEL_06b5d72c28794c4283e37aab91b75b7f",
       "marks": [
        "IPY_MODEL_548b675ff3c8481a963de69c6304d582"
       ],
       "scale_x": "IPY_MODEL_b46f5e06e91f49bcb909020f6302c5e8",
       "scale_y": "IPY_MODEL_17a4f12c84e14b8c9db477387ffd07d5"
      }
     },
     "008c0f945b644bc8ac94711c6b0bb21a": {
      "model_module": "bqplot",
      "model_module_version": "^0.4.5",
      "model_name": "FigureModel",
      "state": {
       "_dom_classes": [],
       "animation_duration": 1000,
       "axes": [
        "IPY_MODEL_b80d32f803a147eb8bcd48b5af881385",
        "IPY_MODEL_e11fcd4f785844a1af77694893666ac2"
       ],
       "layout": "IPY_MODEL_9a19c362263a43bd98305e4f0af0fa86",
       "marks": [
        "IPY_MODEL_3ef5b5f2e1fe44b98a3c1329a14a37ff"
       ],
       "scale_x": "IPY_MODEL_2fc4c9476e57453d8e4e7a5361de7f41",
       "scale_y": "IPY_MODEL_4bf48b5c804e42c8807d319d8b89a7aa"
      }
     },
     "00b47f877f94458ca9946c6c39d4a208": {
      "model_module": "bqplot",
      "model_module_version": "^0.4.5",
      "model_name": "LinearScaleModel",
      "state": {
       "max": 1,
       "min": 0,
       "stabilized": false
      }
     },
     "013fbc30cbb34898b27e7bebb728e503": {
      "model_module": "bqplot",
      "model_module_version": "^0.4.5",
      "model_name": "LinesModel",
      "state": {
       "color": {
        "type": null,
        "values": null
       },
       "colors": [
        "black"
       ],
       "display_legend": false,
       "fill_colors": [],
       "labels": [
        "C1"
       ],
       "scales": {
        "x": "IPY_MODEL_2a6aca56c2d14e61beef14fd6a225877",
        "y": "IPY_MODEL_6aebc1b7d022462ea4ac7b8228d301a8"
       },
       "selected": [],
       "x": {
        "type": "float",
        "values": [
         0.5281075673364094,
         0.6790714093103971
        ]
       },
       "y": {
        "type": "float",
        "values": [
         -0.15153524143845282,
         0.22900528542596285
        ]
       }
      }
     },
     "017225e217bf452d99d4db37c2fb8b46": {
      "model_module": "bqplot",
      "model_module_version": "^0.4.5",
      "model_name": "LinearScaleModel",
      "state": {
       "max": 1,
       "min": 0,
       "stabilized": false
      }
     },
     "01b916d2a5de4e51a71f44dce3c6d888": {
      "model_module": "bqplot",
      "model_module_version": "^0.4.5",
      "model_name": "LinearScaleModel",
      "state": {
       "allow_padding": false,
       "max": 1,
       "min": 0,
       "stabilized": false
      }
     },
     "01ccb98b8bef4a19a0147daf6dab6ba3": {
      "model_module": "bqplot",
      "model_module_version": "^0.4.5",
      "model_name": "AxisModel",
      "state": {
       "scale": "IPY_MODEL_b1c8cc34fd54494fb91e12b10a5ed578",
       "side": "bottom",
       "tick_values": {
        "type": null,
        "values": null
       },
       "visible": false
      }
     },
     "026c3787af69426a9ffd53b52c8f9d14": {
      "model_module": "bqplot",
      "model_module_version": "^0.4.5",
      "model_name": "ToolbarModel",
      "state": {
       "figure": "IPY_MODEL_a6d9ac21ee254876b36ac232bbc82f10",
       "layout": "IPY_MODEL_deda272489164bb6984a133f91e8e454"
      }
     },
     "02a7d04e1a4c4eed8698e29c2061ede8": {
      "model_module": "bqplot",
      "model_module_version": "^0.4.5",
      "model_name": "LinearScaleModel",
      "state": {
       "allow_padding": false,
       "max": 1,
       "min": 0,
       "stabilized": false
      }
     },
     "0310ad8f5b2842f696b4812fc6287e2e": {
      "model_module": "bqplot",
      "model_module_version": "^0.4.5",
      "model_name": "LinearScaleModel",
      "state": {
       "stabilized": false
      }
     },
     "0335bb7f2a434197afc48174d7fb599a": {
      "model_module": "bqplot",
      "model_module_version": "^0.4.5",
      "model_name": "AxisModel",
      "state": {
       "orientation": "vertical",
       "scale": "IPY_MODEL_c9f623e73d9542f8bb969cf3ebfa6cfc",
       "side": "left",
       "tick_values": {
        "type": null,
        "values": null
       },
       "visible": false
      }
     },
     "03808ee8fe6347b2b6cd9bfa14f6597f": {
      "model_module": "bqplot",
      "model_module_version": "^0.4.5",
      "model_name": "LinearScaleModel",
      "state": {
       "allow_padding": false,
       "max": 1,
       "min": 0,
       "stabilized": false
      }
     },
     "03865b55defe42a194d02c82fb1d82ec": {
      "model_module": "bqplot",
      "model_module_version": "^0.4.5",
      "model_name": "AxisModel",
      "state": {
       "scale": "IPY_MODEL_20a7105831e54492b8b74a7584deb26a",
       "side": "bottom",
       "tick_values": {
        "type": null,
        "values": null
       }
      }
     },
     "05880d3fb9044e7f93e0026406945ed5": {
      "model_module": "bqplot",
      "model_module_version": "^0.4.5",
      "model_name": "LinearScaleModel",
      "state": {
       "stabilized": false
      }
     },
     "05f37cca51b94661800a4b46d55b36f2": {
      "model_module": "bqplot",
      "model_module_version": "^0.4.5",
      "model_name": "ScatterModel",
      "state": {
       "color": {
        "type": null,
        "values": null
       },
       "colors": [
        "steelblue"
       ],
       "display_legend": false,
       "display_names": false,
       "names": {
        "type": null,
        "values": null
       },
       "opacity": {
        "type": null,
        "values": null
       },
       "rotation": {
        "type": null,
        "values": null
       },
       "scales": {
        "x": "IPY_MODEL_bee18f9cd3734eaebf301f68907832ab",
        "y": "IPY_MODEL_0b254cd949d141dd84f3aff20d945e89"
       },
       "scales_metadata": {
        "color": {
         "dimension": "color"
        },
        "opacity": {
         "dimension": "opacity"
        },
        "rotation": {
         "dimension": "rotation"
        },
        "size": {
         "dimension": "size"
        },
        "skew": {
         "dimension": "skew"
        },
        "x": {
         "dimension": "x",
         "orientation": "horizontal"
        },
        "y": {
         "dimension": "y",
         "orientation": "vertical"
        }
       },
       "selected": [],
       "size": {
        "type": null,
        "values": null
       },
       "skew": {
        "type": null,
        "values": null
       },
       "stroke": "black",
       "tooltip": "IPY_MODEL_cc31526312594ad68b5bd650904944ea",
       "x": {
        "type": "float",
        "values": [
         0.771320643266746,
         0.6336482349262754,
         0.4985070123025904,
         0.19806286475962398,
         0.16911083656253545,
         0.6853598183677972
        ]
       },
       "y": {
        "type": "float",
        "values": [
         0.0207519493594015,
         0.7488038825386119,
         0.22479664553084766,
         0.7605307121989587,
         0.08833981417401027,
         0.9533933461949365
        ]
       }
      }
     },
     "06121ec0786f450097d9ed63aa6aeb46": {
      "model_module": "bqplot",
      "model_module_version": "^0.4.5",
      "model_name": "LinearScaleModel",
      "state": {
       "stabilized": false
      }
     },
     "06711aadac164d49b910909c19684a32": {
      "model_module": "@jupyter-widgets/base",
      "model_module_version": "1.1.0",
      "model_name": "LayoutModel",
      "state": {
       "min_width": "125px"
      }
     },
     "0671f2082ed9469bb057fde1a0ecf427": {
      "model_module": "bqplot",
      "model_module_version": "^0.4.5",
      "model_name": "AxisModel",
      "state": {
       "orientation": "vertical",
       "scale": "IPY_MODEL_e1c888a1797e4de59f16b4a43be0aca3",
       "side": "left",
       "tick_values": {
        "type": null,
        "values": null
       },
       "visible": false
      }
     },
     "06b38cc12ee44e52a4241468ed6dbffa": {
      "model_module": "bqplot",
      "model_module_version": "^0.4.5",
      "model_name": "ScatterModel",
      "state": {
       "color": {
        "type": null,
        "values": null
       },
       "colors": [
        "steelblue"
       ],
       "display_legend": false,
       "display_names": false,
       "names": {
        "type": null,
        "values": null
       },
       "opacity": {
        "type": null,
        "values": null
       },
       "rotation": {
        "type": null,
        "values": null
       },
       "scales": {
        "x": "IPY_MODEL_d1ded79a3d7a49279956ad21cdece577",
        "y": "IPY_MODEL_ca4b7149bfcb4bf285e6ee7a319fa6d3"
       },
       "scales_metadata": {
        "color": {
         "dimension": "color"
        },
        "opacity": {
         "dimension": "opacity"
        },
        "rotation": {
         "dimension": "rotation"
        },
        "size": {
         "dimension": "size"
        },
        "skew": {
         "dimension": "skew"
        },
        "x": {
         "dimension": "x",
         "orientation": "horizontal"
        },
        "y": {
         "dimension": "y",
         "orientation": "vertical"
        }
       },
       "selected": [],
       "size": {
        "type": null,
        "values": null
       },
       "skew": {
        "type": null,
        "values": null
       },
       "stroke": "black",
       "tooltip": "IPY_MODEL_99575a00246640449d6a743bf97fd125",
       "x": {
        "type": "float",
        "values": [
         0.771320643266746,
         0.6336482349262754,
         0.4985070123025904,
         0.19806286475962398,
         0.16911083656253545,
         0.6853598183677972
        ]
       },
       "y": {
        "type": "float",
        "values": [
         0.0207519493594015,
         0.7488038825386119,
         0.22479664553084766,
         0.7605307121989587,
         0.08833981417401027,
         0.9533933461949365
        ]
       }
      }
     },
     "06b5d72c28794c4283e37aab91b75b7f": {
      "model_module": "@jupyter-widgets/base",
      "model_module_version": "1.1.0",
      "model_name": "LayoutModel",
      "state": {
       "min_width": "125px"
      }
     },
     "0769308136364f8b8fe2d1900fc39c48": {
      "model_module": "bqplot",
      "model_module_version": "^0.4.5",
      "model_name": "FigureModel",
      "state": {
       "_dom_classes": [],
       "animation_duration": 1000,
       "axes": [
        "IPY_MODEL_7c11bb273ad244129e44ea75c8ae1642",
        "IPY_MODEL_7465a858a53b4e12b41a8b3552de4b12"
       ],
       "layout": "IPY_MODEL_b34564cde95148ed93665f7483e583f8",
       "marks": [
        "IPY_MODEL_ca718a366b0440e5910253fa70780136"
       ],
       "scale_x": "IPY_MODEL_fbd74d408aed4ccb9a6afd3307f32bca",
       "scale_y": "IPY_MODEL_54c1423b9c4247ebb7008c52a05e3d3c"
      }
     },
     "07f9887899b44c1fbc70f36d2bee2805": {
      "model_module": "bqplot",
      "model_module_version": "^0.4.5",
      "model_name": "FigureModel",
      "state": {
       "_dom_classes": [],
       "animation_duration": 1000,
       "axes": [
        "IPY_MODEL_f86fb9c6a43e438bbaa682fce245b7b5",
        "IPY_MODEL_6234e3a691a34868bd3ee34fe015ea6e"
       ],
       "layout": "IPY_MODEL_482ead3024754ff6b847b464b909c901",
       "marks": [
        "IPY_MODEL_6b75e08c67ec4c07bf1ea0f841678a51",
        "IPY_MODEL_2bdce293c9e540a0b1e86773b480064e"
       ],
       "scale_x": "IPY_MODEL_94c5002f7a9245b990903979283f3f9d",
       "scale_y": "IPY_MODEL_6d109dce44754db7acb348fdae3326b6"
      }
     },
     "0825cf8c545840608b4309f86be0ed0b": {
      "model_module": "bqplot",
      "model_module_version": "^0.4.5",
      "model_name": "FigureModel",
      "state": {
       "_dom_classes": [],
       "animation_duration": 1000,
       "axes": [
        "IPY_MODEL_4da67553715948f1a291fb0efa688c1d",
        "IPY_MODEL_7c4d2e4ae0e04028ac4f37b922fd8c2c"
       ],
       "layout": "IPY_MODEL_ab303b5e9d3e4d23b233107b7446c3f0",
       "marks": [
        "IPY_MODEL_305820b06d6a48368f86ba92efa090e1",
        "IPY_MODEL_78b84cb83e644866b6c6354b082f8002"
       ],
       "scale_x": "IPY_MODEL_d676c006798b47f08a02bdb41691a519",
       "scale_y": "IPY_MODEL_a799c82e74ca4ba8a31b16c8240cc768"
      }
     },
     "08e5e496c8754911b9c6e674c768a113": {
      "model_module": "bqplot",
      "model_module_version": "^0.4.5",
      "model_name": "AxisModel",
      "state": {
       "scale": "IPY_MODEL_d0ef5653e866457aa87de2c0fc654557",
       "side": "bottom",
       "tick_values": {
        "type": null,
        "values": null
       }
      }
     },
     "095237bd54464b10adbc21c072027893": {
      "model_module": "bqplot",
      "model_module_version": "^0.4.5",
      "model_name": "LinearScaleModel",
      "state": {
       "max": 1,
       "min": 0,
       "stabilized": false
      }
     },
     "09891388769d4cf1ba4b75b6a517693f": {
      "model_module": "bqplot",
      "model_module_version": "^0.4.5",
      "model_name": "FigureModel",
      "state": {
       "_dom_classes": [],
       "animation_duration": 1000,
       "axes": [
        "IPY_MODEL_4057d638541f4b1b8680ff92beacb852",
        "IPY_MODEL_e41ad3f2697b4869b53306d1017ee7c5"
       ],
       "layout": "IPY_MODEL_af70dbd9db9f4f7a90430e8c51d00605",
       "marks": [
        "IPY_MODEL_18641e3e469d45259718b23c93054a2e"
       ],
       "scale_x": "IPY_MODEL_a7f6063b45cc45e5899038deceef0329",
       "scale_y": "IPY_MODEL_cba0695d6cd54c7e92c9ff92350b6494"
      }
     },
     "0a053c9ea56840de91c5e1cf4585542f": {
      "model_module": "bqplot",
      "model_module_version": "^0.4.5",
      "model_name": "AxisModel",
      "state": {
       "orientation": "vertical",
       "scale": "IPY_MODEL_831733d3f8a54aae9e33409deefb767a",
       "side": "left",
       "tick_values": {
        "type": null,
        "values": null
       },
       "visible": false
      }
     },
     "0a2544b32d5943259bc1b13944fa763c": {
      "model_module": "bqplot",
      "model_module_version": "^0.4.5",
      "model_name": "LinearScaleModel",
      "state": {
       "allow_padding": false,
       "max": 1,
       "min": 0,
       "stabilized": false
      }
     },
     "0a27ebcc84a34c5490a77538ebf31ac2": {
      "model_module": "bqplot",
      "model_module_version": "^0.4.5",
      "model_name": "LinearScaleModel",
      "state": {
       "allow_padding": false,
       "max": 1,
       "min": 0,
       "stabilized": false
      }
     },
     "0af273b4da784c13aec2e0aa4073116e": {
      "model_module": "@jupyter-widgets/base",
      "model_module_version": "1.1.0",
      "model_name": "LayoutModel",
      "state": {
       "min_width": "125px"
      }
     },
     "0b254cd949d141dd84f3aff20d945e89": {
      "model_module": "bqplot",
      "model_module_version": "^0.4.5",
      "model_name": "LinearScaleModel",
      "state": {
       "stabilized": false
      }
     },
     "0b857eb7a19a46059a9d56ef6b0030b0": {
      "model_module": "bqplot",
      "model_module_version": "^0.4.5",
      "model_name": "LinesModel",
      "state": {
       "color": {
        "type": null,
        "values": null
       },
       "colors": [
        "black"
       ],
       "display_legend": false,
       "fill_colors": [],
       "labels": [
        "C1"
       ],
       "scales": {
        "x": "IPY_MODEL_b50daaba70f04418935494498fcbe2b3",
        "y": "IPY_MODEL_27e68e618c6a452a9dc5120635c7b7f1"
       },
       "selected": [],
       "x": {
        "type": "float",
        "values": [
         0.6838775462866998,
         0.6790714093103971
        ]
       },
       "y": {
        "type": "float",
        "values": [
         0.5342473347036941,
         0.22900528542596285
        ]
       }
      }
     },
     "0c2705aa7e2a431385b321b9b95a2e60": {
      "model_module": "bqplot",
      "model_module_version": "^0.4.5",
      "model_name": "AxisModel",
      "state": {
       "scale": "IPY_MODEL_d37739deaeb445ecbbf7849b0e8a7754",
       "side": "bottom",
       "tick_values": {
        "type": null,
        "values": null
       }
      }
     },
     "0c32b1836d5d4fb9896adf0a19959527": {
      "model_module": "bqplot",
      "model_module_version": "^0.4.5",
      "model_name": "LinearScaleModel",
      "state": {
       "stabilized": false
      }
     },
     "0c48e4aa31f740558705505852762c40": {
      "model_module": "bqplot",
      "model_module_version": "^0.4.5",
      "model_name": "AxisModel",
      "state": {
       "scale": "IPY_MODEL_cd1a2eeff6fb4eab81783b1c10f4a738",
       "side": "bottom",
       "tick_values": {
        "type": null,
        "values": null
       }
      }
     },
     "0cf4ffd5e5d640b2afbb13fc698a8e4d": {
      "model_module": "bqplot",
      "model_module_version": "^0.4.5",
      "model_name": "LinearScaleModel",
      "state": {
       "allow_padding": false,
       "max": 1,
       "min": 0,
       "stabilized": false
      }
     },
     "0dd86ed90bef4415ab82fb2f02bd50f7": {
      "model_module": "bqplot",
      "model_module_version": "^0.4.5",
      "model_name": "AxisModel",
      "state": {
       "orientation": "vertical",
       "scale": "IPY_MODEL_5acdacddee5e40fa8100fbe309e0178a",
       "side": "left",
       "tick_values": {
        "type": null,
        "values": null
       },
       "visible": false
      }
     },
     "0de0c21107eb4dc6b8f31b57e93f126d": {
      "model_module": "bqplot",
      "model_module_version": "^0.4.5",
      "model_name": "LinearScaleModel",
      "state": {
       "allow_padding": false,
       "max": 1,
       "min": 0,
       "stabilized": false
      }
     },
     "0e0f78799ce54d8ebcdfa708580968eb": {
      "model_module": "bqplot",
      "model_module_version": "^0.4.5",
      "model_name": "FigureModel",
      "state": {
       "_dom_classes": [],
       "animation_duration": 1000,
       "axes": [
        "IPY_MODEL_ff1f33c9fb5149b6bb4a59ff3db0a7d6",
        "IPY_MODEL_c6b22d338e234384bc814e1b3a694f8e"
       ],
       "layout": "IPY_MODEL_c55a7baab0844f62bf415541494dc61a",
       "marks": [
        "IPY_MODEL_c8309359c89b4593b1ff884ba30ff4ea"
       ],
       "scale_x": "IPY_MODEL_469eda631afb47ed9ac71a24e541746f",
       "scale_y": "IPY_MODEL_351039b52a824bea8f0e536e9d173a66"
      }
     },
     "0e9e3b0bf992444cb6061fb7ef7555b5": {
      "model_module": "@jupyter-widgets/base",
      "model_module_version": "1.1.0",
      "model_name": "LayoutModel",
      "state": {
       "min_width": "125px"
      }
     },
     "0f14680139584d8cb5bf7cafb6eaae47": {
      "model_module": "bqplot",
      "model_module_version": "^0.4.5",
      "model_name": "LinearScaleModel",
      "state": {
       "max": 1,
       "min": 0,
       "stabilized": false
      }
     },
     "0f3b46e6160f4d0eb39ceef584147175": {
      "model_module": "bqplot",
      "model_module_version": "^0.4.5",
      "model_name": "AxisModel",
      "state": {
       "scale": "IPY_MODEL_ff651205db934daab65549b8fae6708a",
       "side": "bottom",
       "tick_values": {
        "type": null,
        "values": null
       },
       "visible": false
      }
     },
     "0f86d66d7d32409fabc0f68f37217c93": {
      "model_module": "bqplot",
      "model_module_version": "^0.4.5",
      "model_name": "LinearScaleModel",
      "state": {
       "allow_padding": false,
       "max": 1,
       "min": 0,
       "stabilized": false
      }
     },
     "0f9d84679fca43b3bc443d69affa77dc": {
      "model_module": "bqplot",
      "model_module_version": "^0.4.5",
      "model_name": "AxisModel",
      "state": {
       "orientation": "vertical",
       "scale": "IPY_MODEL_8f8b11e3b7dd473d8260e9f36e42e2de",
       "side": "left",
       "tick_values": {
        "type": null,
        "values": null
       }
      }
     },
     "0fc0e31d16a04785936e6adc8f0dc0dc": {
      "model_module": "bqplot",
      "model_module_version": "^0.4.5",
      "model_name": "FigureModel",
      "state": {
       "_dom_classes": [],
       "animation_duration": 1000,
       "axes": [
        "IPY_MODEL_2728b198914c451b9ae20ea3279e1d25",
        "IPY_MODEL_decffe4c5fbc49c0b7635ac537c79502"
       ],
       "layout": "IPY_MODEL_a0fffef1cde148669a422c3169b55261",
       "marks": [
        "IPY_MODEL_a5f8f589ebe842c19259c009a2b851be",
        "IPY_MODEL_94f903c1d96842bcb49003012418a2e0"
       ],
       "scale_x": "IPY_MODEL_c5ac306fd93e4d8d9bacf0db0d418716",
       "scale_y": "IPY_MODEL_dbae1e344f6c40edb812620e2aa1be1f"
      }
     },
     "0fc799d962d54d9ab91f71343e9a7eab": {
      "model_module": "bqplot",
      "model_module_version": "^0.4.5",
      "model_name": "AxisModel",
      "state": {
       "orientation": "vertical",
       "scale": "IPY_MODEL_7caf2fa7135845bba0927f43d61600b5",
       "side": "left",
       "tick_values": {
        "type": null,
        "values": null
       },
       "visible": false
      }
     },
     "0ffe7303ad6b44db87ebb81677ade87f": {
      "model_module": "bqplot",
      "model_module_version": "^0.4.5",
      "model_name": "AxisModel",
      "state": {
       "scale": "IPY_MODEL_ba9a162dc40340358eb13229a3a79680",
       "side": "bottom",
       "tick_values": {
        "type": null,
        "values": null
       }
      }
     },
     "1040bfa1e3974094bdfc91d8077eb6da": {
      "model_module": "bqplot",
      "model_module_version": "^0.4.5",
      "model_name": "LinearScaleModel",
      "state": {
       "stabilized": false
      }
     },
     "10f5ec316cdf4b7a84a8f0ce8b75dd2d": {
      "model_module": "bqplot",
      "model_module_version": "^0.4.5",
      "model_name": "LinesModel",
      "state": {
       "close_path": true,
       "color": {
        "type": null,
        "values": null
       },
       "display_legend": false,
       "fill": "inside",
       "fill_colors": [
        "orange",
        "blue",
        "red"
       ],
       "labels": [
        "C1",
        "C2"
       ],
       "scales": {
        "x": "IPY_MODEL_c06e3f94c1334731a45aae805d842266",
        "y": "IPY_MODEL_2429135f68964a84bbd3187c290d6e0e"
       },
       "selected": [],
       "stroke_width": 1,
       "tooltip": "IPY_MODEL_99575a00246640449d6a743bf97fd125",
       "x": {
        "type": "object",
        "values": [
         [
          4,
          5,
          6,
          6,
          5,
          4,
          3,
          1
         ],
         [
          1,
          2,
          3
         ]
        ]
       },
       "y": {
        "type": "object",
        "values": [
         [
          1,
          1.1,
          1.2,
          2.3,
          2.2,
          2.7,
          1,
          -2
         ],
         [
          3,
          2,
          3
         ]
        ]
       }
      }
     },
     "111ce876a7c3496faf859b0e617da217": {
      "model_module": "bqplot",
      "model_module_version": "^0.4.5",
      "model_name": "LinearScaleModel",
      "state": {
       "allow_padding": false,
       "max": 1,
       "min": 0,
       "stabilized": false
      }
     },
     "121e05b9e8f14c819e20427563b9cec2": {
      "model_module": "bqplot",
      "model_module_version": "^0.4.5",
      "model_name": "AxisModel",
      "state": {
       "scale": "IPY_MODEL_603634162f0149dda3ebc8ace5e4f441",
       "side": "bottom",
       "tick_values": {
        "type": null,
        "values": null
       }
      }
     },
     "12412bf6fd574445b2bbb6b3fb847165": {
      "model_module": "bqplot",
      "model_module_version": "^0.4.5",
      "model_name": "LinearScaleModel",
      "state": {
       "allow_padding": false,
       "max": 1,
       "min": 0,
       "stabilized": false
      }
     },
     "128e2ec7ee0c4f6ca4e4926d5ead0f69": {
      "model_module": "bqplot",
      "model_module_version": "^0.4.5",
      "model_name": "LinearScaleModel",
      "state": {
       "allow_padding": false,
       "max": 1,
       "min": 0,
       "stabilized": false
      }
     },
     "12a649c7846f4cfc902088aa67fdb30b": {
      "model_module": "bqplot",
      "model_module_version": "^0.4.5",
      "model_name": "LinearScaleModel",
      "state": {
       "allow_padding": false,
       "max": 1,
       "min": 0,
       "stabilized": false
      }
     },
     "12ec48c4225f4e05b2729ae2594e1360": {
      "model_module": "bqplot",
      "model_module_version": "^0.4.5",
      "model_name": "LinearScaleModel",
      "state": {
       "allow_padding": false,
       "max": 1,
       "min": 0,
       "stabilized": false
      }
     },
     "133eafdb3d514f5aacc02bce94c1fbd7": {
      "model_module": "bqplot",
      "model_module_version": "^0.4.5",
      "model_name": "AxisModel",
      "state": {
       "scale": "IPY_MODEL_dbc463d14d854511850f22b290706bf1",
       "side": "bottom",
       "tick_values": {
        "type": null,
        "values": null
       },
       "visible": false
      }
     },
     "1377401360fa416180d82405aa427c85": {
      "model_module": "@jupyter-widgets/base",
      "model_module_version": "1.1.0",
      "model_name": "LayoutModel",
      "state": {}
     },
     "139a014d012048d7b6e39c48a29bd383": {
      "model_module": "bqplot",
      "model_module_version": "^0.4.5",
      "model_name": "LinearScaleModel",
      "state": {
       "allow_padding": false,
       "max": 1,
       "min": 0,
       "stabilized": false
      }
     },
     "14159b31808c4af4a10dc6f2cf52b5f3": {
      "model_module": "bqplot",
      "model_module_version": "^0.4.5",
      "model_name": "LinearScaleModel",
      "state": {
       "stabilized": false
      }
     },
     "14af8fc0f34445d0aa9302f9b910eea9": {
      "model_module": "bqplot",
      "model_module_version": "^0.4.5",
      "model_name": "FigureModel",
      "state": {
       "_dom_classes": [],
       "animation_duration": 1000,
       "axes": [
        "IPY_MODEL_002eb7fca6b1476c8098795c0b7684b6",
        "IPY_MODEL_7b232867472c424d83a3326a99462d51"
       ],
       "layout": "IPY_MODEL_b5d62feea2db42cdbff699c0999d01a9",
       "marks": [
        "IPY_MODEL_e31c40dbaba745de95110ecb342d2a3a"
       ],
       "scale_x": "IPY_MODEL_0a27ebcc84a34c5490a77538ebf31ac2",
       "scale_y": "IPY_MODEL_9506a596911745ff91174dd24ea387d1"
      }
     },
     "15031a441f364d3cb86f689c53ec2d37": {
      "model_module": "bqplot",
      "model_module_version": "^0.4.5",
      "model_name": "LinearScaleModel",
      "state": {
       "max": 1,
       "min": 0,
       "stabilized": false
      }
     },
     "15732aedd4604fd7b53e2e06df64a6b2": {
      "model_module": "bqplot",
      "model_module_version": "^0.4.5",
      "model_name": "LinearScaleModel",
      "state": {
       "allow_padding": false,
       "max": 1,
       "min": 0,
       "stabilized": false
      }
     },
     "15f800c64f594b5d82648e65e2e69c45": {
      "model_module": "bqplot",
      "model_module_version": "^0.4.5",
      "model_name": "LinearScaleModel",
      "state": {
       "allow_padding": false,
       "max": 1,
       "min": 0,
       "stabilized": false
      }
     },
     "1621bdba5cbc45d580fadc852ad370c8": {
      "model_module": "bqplot",
      "model_module_version": "^0.4.5",
      "model_name": "LinearScaleModel",
      "state": {
       "stabilized": false
      }
     },
     "163afd34edbe4764a344d082dda5e565": {
      "model_module": "@jupyter-widgets/base",
      "model_module_version": "1.1.0",
      "model_name": "LayoutModel",
      "state": {
       "min_width": "125px"
      }
     },
     "16f9d6fea7dd4ed6b41887976a7fceaa": {
      "model_module": "bqplot",
      "model_module_version": "^0.4.5",
      "model_name": "LinearScaleModel",
      "state": {
       "allow_padding": false,
       "max": 1,
       "min": 0,
       "stabilized": false
      }
     },
     "1727291e2db04d208a233e10735f9dbe": {
      "model_module": "bqplot",
      "model_module_version": "^0.4.5",
      "model_name": "DateScaleModel",
      "state": {}
     },
     "17652efd0b6d4b7ba4fcef5c3084fa35": {
      "model_module": "bqplot",
      "model_module_version": "^0.4.5",
      "model_name": "AxisModel",
      "state": {
       "scale": "IPY_MODEL_5a7a5b884a9e4a0cb513d4f2f84c2ac5",
       "side": "bottom",
       "tick_values": {
        "type": null,
        "values": null
       }
      }
     },
     "177fbc49327348548be79c9aa8dcad94": {
      "model_module": "bqplot",
      "model_module_version": "^0.4.5",
      "model_name": "LinearScaleModel",
      "state": {
       "allow_padding": false,
       "max": 1,
       "min": 0,
       "stabilized": false
      }
     },
     "17957b5d0e89470d81b78f50a80b6852": {
      "model_module": "bqplot",
      "model_module_version": "^0.4.5",
      "model_name": "LinesModel",
      "state": {
       "close_path": true,
       "color": {
        "type": null,
        "values": null
       },
       "fill": "inside",
       "fill_colors": [
        "orange",
        "blue",
        "red"
       ],
       "labels": [
        "C1"
       ],
       "opacities": [
        0.9,
        0.2
       ],
       "scales": {
        "x": "IPY_MODEL_72890ee1b70f4ce58a48b7dfd48900a5",
        "y": "IPY_MODEL_5eff74c513da44d698084346f8b089af"
       },
       "selected": [],
       "x": {
        "type": "float",
        "values": [
         4,
         5,
         6,
         6,
         5,
         4,
         3,
         1
        ]
       },
       "y": {
        "type": "float",
        "values": [
         1,
         1.1,
         1.2,
         2.3,
         2.2,
         2.7,
         1,
         -2
        ]
       }
      }
     },
     "17a4f12c84e14b8c9db477387ffd07d5": {
      "model_module": "bqplot",
      "model_module_version": "^0.4.5",
      "model_name": "LinearScaleModel",
      "state": {
       "allow_padding": false,
       "max": 1,
       "min": 0,
       "stabilized": false
      }
     },
     "17d50e750d774307a67edb1b4b0ebed2": {
      "model_module": "bqplot",
      "model_module_version": "^0.4.5",
      "model_name": "LinesModel",
      "state": {
       "color": {
        "type": null,
        "values": null
       },
       "colors": [
        "black"
       ],
       "display_legend": false,
       "fill_colors": [],
       "labels": [
        "C1"
       ],
       "scales": {
        "x": "IPY_MODEL_b50daaba70f04418935494498fcbe2b3",
        "y": "IPY_MODEL_27e68e618c6a452a9dc5120635c7b7f1"
       },
       "selected": [],
       "x": {
        "type": "float",
        "values": [
         0.5272947621552145,
         0.43020238893545215
        ]
       },
       "y": {
        "type": "float",
        "values": [
         0.5706683504567711,
         0.5502889056231901
        ]
       }
      }
     },
     "181cad0cac914434bb184b1290dbf4df": {
      "model_module": "bqplot",
      "model_module_version": "^0.4.5",
      "model_name": "LinesModel",
      "state": {
       "close_path": true,
       "color": {
        "type": null,
        "values": null
       },
       "fill": "inside",
       "fill_colors": [
        "orange",
        "blue",
        "red"
       ],
       "labels": [
        "C1",
        "C2"
       ],
       "opacities": [
        0.9,
        0.9
       ],
       "scales": {
        "x": "IPY_MODEL_363d32d8f23847308c316fdb1320d5bd",
        "y": "IPY_MODEL_1040bfa1e3974094bdfc91d8077eb6da"
       },
       "selected": [],
       "x": {
        "type": "object",
        "values": [
         [
          10,
          3,
          3.2
         ],
         [
          0.5,
          2.5,
          1.7
         ],
         [
          4,
          5,
          6,
          6,
          5,
          4,
          3
         ]
        ]
       },
       "y": {
        "type": "object",
        "values": [
         [
          1,
          1.1,
          1.2,
          2.3,
          2.2,
          2.7,
          1,
          -2
         ],
         [
          3,
          2,
          3
         ]
        ]
       }
      }
     },
     "18641e3e469d45259718b23c93054a2e": {
      "model_module": "bqplot",
      "model_module_version": "^0.4.5",
      "model_name": "LinesModel",
      "state": {
       "close_path": true,
       "color": {
        "type": null,
        "values": null
       },
       "fill": "inside",
       "fill_colors": [
        "orange",
        "blue",
        "red"
       ],
       "scales": {
        "x": "IPY_MODEL_c54c2e83b87c4c169cfd15922b53b97f",
        "y": "IPY_MODEL_5ba703c94f2a4d9f88dc23bf95690d67"
       },
       "selected": [],
       "tooltip": "IPY_MODEL_99575a00246640449d6a743bf97fd125",
       "x": {
        "type": "float",
        "values": []
       },
       "y": {
        "type": "float",
        "values": []
       }
      }
     },
     "1890c0d72129422abb2d8347b2742493": {
      "model_module": "bqplot",
      "model_module_version": "^0.4.5",
      "model_name": "FigureModel",
      "state": {
       "_dom_classes": [],
       "animation_duration": 1000,
       "axes": [
        "IPY_MODEL_417385ae4c2c4c688fa87808791e2cd6",
        "IPY_MODEL_c035efa950d34cb69b2142651b56b8d6"
       ],
       "layout": "IPY_MODEL_ce4c773fc3be4cdb890f1cfa161b9991",
       "marks": [
        "IPY_MODEL_4fa29674c7564e5fa8feeea68fdfb959",
        "IPY_MODEL_a67e6fbde3f2427c9322d9baa7cbeaab"
       ],
       "scale_x": "IPY_MODEL_e48f44c083ff411995edc99f481ab486",
       "scale_y": "IPY_MODEL_366956411c7d484b96088b41d34f15cc"
      }
     },
     "18925e5b9ce34b27841d404497ed296f": {
      "model_module": "bqplot",
      "model_module_version": "^0.4.5",
      "model_name": "LinesModel",
      "state": {
       "color": {
        "type": null,
        "values": null
       },
       "colors": [
        "black"
       ],
       "display_legend": false,
       "fill_colors": [],
       "labels": [
        "C1"
       ],
       "scales": {
        "x": "IPY_MODEL_c8ab28210875423b8fe83758838b4d3a",
        "y": "IPY_MODEL_4da18018025d43988651afbdebf092d4"
       },
       "selected": [],
       "x": {
        "type": "float",
        "values": [
         0.22355450954331607,
         0.4097295846150608
        ]
       },
       "y": {
        "type": "float",
        "values": [
         0.4227138105599612,
         0.5271223505498778
        ]
       }
      }
     },
     "18b2b58e43264000b65d2d88ec8159ca": {
      "model_module": "bqplot",
      "model_module_version": "^0.4.5",
      "model_name": "LinearScaleModel",
      "state": {
       "stabilized": false
      }
     },
     "18bd9362ed3a4463bf78158675515ef9": {
      "model_module": "bqplot",
      "model_module_version": "^0.4.5",
      "model_name": "LinearScaleModel",
      "state": {
       "stabilized": false
      }
     },
     "18ee635fd2234f0596bc892263c5088e": {
      "model_module": "bqplot",
      "model_module_version": "^0.4.5",
      "model_name": "LinesModel",
      "state": {
       "close_path": true,
       "color": {
        "type": null,
        "values": null
       },
       "display_legend": false,
       "fill": "inside",
       "fill_colors": [
        "orange",
        "blue",
        "red"
       ],
       "labels": [
        "C1",
        "C2",
        "C3"
       ],
       "scales": {
        "x": "IPY_MODEL_70cd145f168741bcaa1f84b502235ba7",
        "y": "IPY_MODEL_73248a716e694cafab9b89bf3825fcf5"
       },
       "selected": [],
       "stroke_width": 1,
       "tooltip": "IPY_MODEL_99575a00246640449d6a743bf97fd125",
       "x": {
        "type": "object",
        "values": [
         [],
         [
          0.4097295846150608,
          0.8520227339335706,
          1.7332689863391435,
          0.4200808874255707
         ],
         [
          0.4097295846150608,
          0.22355450954331613,
          0.4501473823600029,
          0.8520227339335706
         ]
        ]
       },
       "y": {
        "type": "object",
        "values": [
         [],
         [
          0.5271223505498778,
          0.41305515312279745,
          0.5796961417400555,
          0.9116146811300156
         ],
         [
          0.5271223505498778,
          0.42271381055996105,
          -0.12426375746363771,
          0.41305515312279745
         ]
        ]
       }
      }
     },
     "1916398288a746849ab9f6fbc5dcf4a6": {
      "model_module": "@jupyter-widgets/base",
      "model_module_version": "1.1.0",
      "model_name": "LayoutModel",
      "state": {
       "min_width": "125px"
      }
     },
     "19182d3f885048d88366ba8fda8f0d30": {
      "model_module": "bqplot",
      "model_module_version": "^0.4.5",
      "model_name": "LinearScaleModel",
      "state": {
       "allow_padding": false,
       "max": 1,
       "min": 0,
       "stabilized": false
      }
     },
     "193b5eb25cfa4ae881cc95fe8841c28b": {
      "model_module": "bqplot",
      "model_module_version": "^0.4.5",
      "model_name": "LinearScaleModel",
      "state": {
       "allow_padding": false,
       "max": 1,
       "min": 0,
       "stabilized": false
      }
     },
     "197ad5ec35524175b5be09febc31b38b": {
      "model_module": "bqplot",
      "model_module_version": "^0.4.5",
      "model_name": "AxisModel",
      "state": {
       "orientation": "vertical",
       "scale": "IPY_MODEL_4da18018025d43988651afbdebf092d4",
       "side": "left",
       "tick_values": {
        "type": null,
        "values": null
       }
      }
     },
     "19903de21b29439ca82fe9a16fafe36b": {
      "model_module": "bqplot",
      "model_module_version": "^0.4.5",
      "model_name": "LinearScaleModel",
      "state": {
       "stabilized": false
      }
     },
     "1a69a0e2bd534ad4b7f95a3081d18915": {
      "model_module": "bqplot",
      "model_module_version": "^0.4.5",
      "model_name": "AxisModel",
      "state": {
       "orientation": "vertical",
       "scale": "IPY_MODEL_1d9ae1d512254923ba98e31e1e8852f4",
       "side": "left",
       "tick_values": {
        "type": null,
        "values": null
       }
      }
     },
     "1aef2cba1b4b417cb244e6252ad849ff": {
      "model_module": "bqplot",
      "model_module_version": "^0.4.5",
      "model_name": "AxisModel",
      "state": {
       "orientation": "vertical",
       "scale": "IPY_MODEL_fb2943a354954b32811241139452f1ea",
       "side": "left",
       "tick_values": {
        "type": null,
        "values": null
       },
       "visible": false
      }
     },
     "1af1b32ee21e4bcaaeb72ee68c43dc01": {
      "model_module": "bqplot",
      "model_module_version": "^0.4.5",
      "model_name": "LinesModel",
      "state": {
       "close_path": true,
       "color": {
        "type": null,
        "values": null
       },
       "display_legend": false,
       "fill": "inside",
       "fill_colors": [
        "orange",
        "blue",
        "red"
       ],
       "labels": [
        "C1",
        "C2",
        "C3",
        "C4"
       ],
       "scales": {
        "x": "IPY_MODEL_d37739deaeb445ecbbf7849b0e8a7754",
        "y": "IPY_MODEL_32401f44d8d54f0b95fda13b7330824d"
       },
       "selected": [],
       "stroke_width": 1,
       "tooltip": "IPY_MODEL_99575a00246640449d6a743bf97fd125",
       "x": {
        "type": "object",
        "values": [
         [
          0.6790714093103971,
          0.6838775462866998,
          1.2311893360787933,
          0.8368019646982289
         ],
         [
          0.22738068359095126,
          0.43020238893545215,
          0.5272947621552145,
          0.5843433203379271
         ],
         [
          0.43020238893545215,
          0.28766969405592147,
          0.5281075673364094,
          0.6790714093103971,
          0.6838775462866998,
          0.5272947621552145
         ],
         [
          0.22738068359095126,
          -5.20820435004358,
          0.11120787378448214,
          0.28766969405592147,
          0.43020238893545215
         ]
        ]
       },
       "y": {
        "type": "object",
        "values": [
         [
          0.22900528542596285,
          0.5342473347036941,
          0.6785452236610399,
          0.2219913829992549
         ],
         [
          0.7667443763710994,
          0.5502889056231901,
          0.5706683504567711,
          1.3129857260028264
         ],
         [
          0.5502889056231901,
          0.35492950428148073,
          -0.15153524143845282,
          0.22900528542596285,
          0.5342473347036941,
          0.5706683504567711
         ],
         [
          0.7667443763710994,
          1.8846379679106748,
          0.3365460478735013,
          0.35492950428148073,
          0.5502889056231901
         ]
        ]
       }
      }
     },
     "1b10e13f286e448a9e9e5e66233d54f6": {
      "model_module": "bqplot",
      "model_module_version": "^0.4.5",
      "model_name": "LinesModel",
      "state": {
       "color": {
        "type": null,
        "values": null
       },
       "colors": [
        "black"
       ],
       "display_legend": false,
       "fill_colors": [],
       "labels": [
        "C1"
       ],
       "scales": {
        "x": "IPY_MODEL_2a6aca56c2d14e61beef14fd6a225877",
        "y": "IPY_MODEL_6aebc1b7d022462ea4ac7b8228d301a8"
       },
       "selected": [],
       "x": {
        "type": "float",
        "values": [
         0.8368019646982289,
         0.6790714093103971
        ]
       },
       "y": {
        "type": "float",
        "values": [
         0.2219913829992549,
         0.22900528542596285
        ]
       }
      }
     },
     "1b3deed99dd54156985a1ec06309f55a": {
      "model_module": "bqplot",
      "model_module_version": "^0.4.5",
      "model_name": "LinesModel",
      "state": {
       "color": {
        "type": null,
        "values": null
       },
       "colors": [
        "black"
       ],
       "display_legend": false,
       "fill_colors": [],
       "labels": [
        "C1"
       ],
       "scales": {
        "x": "IPY_MODEL_2a6aca56c2d14e61beef14fd6a225877",
        "y": "IPY_MODEL_6aebc1b7d022462ea4ac7b8228d301a8"
       },
       "selected": [],
       "x": {
        "type": "float",
        "values": [
         -5.20820435004358,
         0.22738068359095126
        ]
       },
       "y": {
        "type": "float",
        "values": [
         1.8846379679106748,
         0.7667443763710994
        ]
       }
      }
     },
     "1b414e09612c464587b6020eab25372e": {
      "model_module": "bqplot",
      "model_module_version": "^0.4.5",
      "model_name": "LinesModel",
      "state": {
       "close_path": true,
       "color": {
        "type": null,
        "values": null
       },
       "display_legend": false,
       "fill": "inside",
       "fill_colors": [
        "orange",
        "blue",
        "red"
       ],
       "labels": [
        "C1",
        "C2",
        "C3"
       ],
       "scales": {
        "x": "IPY_MODEL_5290da42427d460aa2c684cd4a0054f4",
        "y": "IPY_MODEL_d15bdf0e7fb345a1aa16c9df8a25e52c"
       },
       "selected": [],
       "stroke_width": 1,
       "tooltip": "IPY_MODEL_99575a00246640449d6a743bf97fd125",
       "x": {
        "type": "object",
        "values": [
         [],
         [
          0.4097295846150608,
          0.8520227339335706,
          1.7332689863391435,
          0.4200808874255707
         ],
         [
          0.4097295846150608,
          0.22355450954331613,
          0.4501473823600029,
          0.8520227339335706
         ]
        ]
       },
       "y": {
        "type": "object",
        "values": [
         [],
         [
          0.5271223505498778,
          0.41305515312279745,
          0.5796961417400555,
          0.9116146811300156
         ],
         [
          0.5271223505498778,
          0.42271381055996105,
          -0.12426375746363771,
          0.41305515312279745
         ]
        ]
       }
      }
     },
     "1b53cc3482a24d13809f4d534ca03d6d": {
      "model_module": "bqplot",
      "model_module_version": "^0.4.5",
      "model_name": "AxisModel",
      "state": {
       "orientation": "vertical",
       "scale": "IPY_MODEL_017225e217bf452d99d4db37c2fb8b46",
       "side": "left",
       "tick_values": {
        "type": null,
        "values": null
       }
      }
     },
     "1b7912a6a4a64b7ba7c60c3b067078e3": {
      "model_module": "bqplot",
      "model_module_version": "^0.4.5",
      "model_name": "LinearScaleModel",
      "state": {
       "stabilized": false
      }
     },
     "1b9b1d681a2e42ffb517cbafccdd8f08": {
      "model_module": "bqplot",
      "model_module_version": "^0.4.5",
      "model_name": "LinearScaleModel",
      "state": {
       "stabilized": false
      }
     },
     "1bb03bc89c414deea6d55c7a6f01ce95": {
      "model_module": "bqplot",
      "model_module_version": "^0.4.5",
      "model_name": "FigureModel",
      "state": {
       "_dom_classes": [],
       "animation_duration": 1000,
       "axes": [
        "IPY_MODEL_85b15cd9ca07453b921168279eedf303",
        "IPY_MODEL_e0d41a9e97c04fb691b6e30c51572e9a"
       ],
       "layout": "IPY_MODEL_f2e8de33d28e43188dfb6d2f081b1cc1",
       "marks": [
        "IPY_MODEL_c2389b4fe9594d3ca54a180922c9fcec"
       ],
       "scale_x": "IPY_MODEL_12a649c7846f4cfc902088aa67fdb30b",
       "scale_y": "IPY_MODEL_0cf4ffd5e5d640b2afbb13fc698a8e4d"
      }
     },
     "1c1f00804f2145f68dbf51a4dc3d4802": {
      "model_module": "bqplot",
      "model_module_version": "^0.4.5",
      "model_name": "LinearScaleModel",
      "state": {
       "max": 1,
       "min": 0,
       "stabilized": false
      }
     },
     "1c247996a062473186fef0e55e886c1d": {
      "model_module": "bqplot",
      "model_module_version": "^0.4.5",
      "model_name": "AxisModel",
      "state": {
       "scale": "IPY_MODEL_42d50d24797d469283ca5e8a976d51cf",
       "side": "bottom",
       "tick_values": {
        "type": null,
        "values": null
       },
       "visible": false
      }
     },
     "1c591e8ac8744f0d8313224d20c9a36b": {
      "model_module": "bqplot",
      "model_module_version": "^0.4.5",
      "model_name": "LinearScaleModel",
      "state": {
       "allow_padding": false,
       "max": 1,
       "min": 0,
       "stabilized": false
      }
     },
     "1cb62bd94141424da93ef3d8b0b174a4": {
      "model_module": "bqplot",
      "model_module_version": "^0.4.5",
      "model_name": "FigureModel",
      "state": {
       "_dom_classes": [],
       "animation_duration": 1000,
       "axes": [
        "IPY_MODEL_bc0ed0eaa40b498d8abfe142bfceff25",
        "IPY_MODEL_e3e250b2417147508b148891bef965d7"
       ],
       "layout": "IPY_MODEL_bb25f5a7392e4b7782418e325e171ee3",
       "marks": [
        "IPY_MODEL_8263550a5c084aa692da333977d305ce"
       ],
       "scale_x": "IPY_MODEL_7184c03870de42d09d215ecac952f69c",
       "scale_y": "IPY_MODEL_b08fb6538a0d489194d69832418417dd"
      }
     },
     "1cd8f33de87b400396b80f2c695d40f6": {
      "model_module": "@jupyter-widgets/base",
      "model_module_version": "1.1.0",
      "model_name": "LayoutModel",
      "state": {
       "min_width": "125px"
      }
     },
     "1d2ea3f0b12141908b0cb25d0d6813f5": {
      "model_module": "bqplot",
      "model_module_version": "^0.4.5",
      "model_name": "LinearScaleModel",
      "state": {
       "max": 1,
       "min": 0,
       "stabilized": false
      }
     },
     "1d74b54d6d234f3f916c600e47dbf8c7": {
      "model_module": "bqplot",
      "model_module_version": "^0.4.5",
      "model_name": "LinearScaleModel",
      "state": {
       "stabilized": false
      }
     },
     "1d849dbf5b144cff84e76c94c28daf76": {
      "model_module": "bqplot",
      "model_module_version": "^0.4.5",
      "model_name": "FigureModel",
      "state": {
       "_dom_classes": [],
       "animation_duration": 1000,
       "axes": [
        "IPY_MODEL_2bca61ce07904456954575310727619d",
        "IPY_MODEL_ef81e36160eb4fe78a57b72e00b4b24b"
       ],
       "layout": "IPY_MODEL_905bde4da84c4e7baf65cb867fe7c498",
       "marks": [
        "IPY_MODEL_18ee635fd2234f0596bc892263c5088e",
        "IPY_MODEL_a1382fcdb7164960af605fe8c8dbf45c"
       ],
       "scale_x": "IPY_MODEL_3b4d0fbaa2874f21ab3a4d0eba3bc0de",
       "scale_y": "IPY_MODEL_ad724e803c5e4c26b90972a26afa6fc2"
      }
     },
     "1d9ae1d512254923ba98e31e1e8852f4": {
      "model_module": "bqplot",
      "model_module_version": "^0.4.5",
      "model_name": "LinearScaleModel",
      "state": {
       "stabilized": false
      }
     },
     "1db8dd8f1ce2476a8e89080f3ebf20b5": {
      "model_module": "bqplot",
      "model_module_version": "^0.4.5",
      "model_name": "LinearScaleModel",
      "state": {
       "allow_padding": false,
       "max": 1,
       "min": 0,
       "stabilized": false
      }
     },
     "1e6973d77b9d4125a2d86ab4c6f00a6e": {
      "model_module": "bqplot",
      "model_module_version": "^0.4.5",
      "model_name": "LinearScaleModel",
      "state": {
       "allow_padding": false,
       "max": 1,
       "min": 0,
       "stabilized": false
      }
     },
     "1e77c4e379b145d782128ae49920f704": {
      "model_module": "bqplot",
      "model_module_version": "^0.4.5",
      "model_name": "LinearScaleModel",
      "state": {
       "allow_padding": false,
       "max": 1,
       "min": 0,
       "stabilized": false
      }
     },
     "1e8a7f5d8cc64f2e8335dcacf9bde914": {
      "model_module": "bqplot",
      "model_module_version": "^0.4.5",
      "model_name": "FigureModel",
      "state": {
       "_dom_classes": [],
       "animation_duration": 1000,
       "axes": [
        "IPY_MODEL_6e7741b0249c410ab7b20de9a0bf06fd",
        "IPY_MODEL_b83ba4889ae74161ab06cc9685474841"
       ],
       "layout": "IPY_MODEL_0e9e3b0bf992444cb6061fb7ef7555b5",
       "marks": [
        "IPY_MODEL_2c157c0e7c4642bebc50b5f16643e0b5",
        "IPY_MODEL_d0a348f136bd443a96c396a4f77b03ea"
       ],
       "scale_x": "IPY_MODEL_46d289dcae5c4ebcbb8d197539367c7d",
       "scale_y": "IPY_MODEL_91dad8172740486aab363c95a39586d2"
      }
     },
     "1f56e3b80afb4e18952a63ba03673041": {
      "model_module": "bqplot",
      "model_module_version": "^0.4.5",
      "model_name": "ScatterModel",
      "state": {
       "color": {
        "type": null,
        "values": null
       },
       "colors": [
        "black"
       ],
       "display_legend": false,
       "names": {
        "type": null,
        "values": null
       },
       "opacity": {
        "type": null,
        "values": null
       },
       "rotation": {
        "type": null,
        "values": null
       },
       "scales": {
        "x": "IPY_MODEL_8c5111a2e1e644708b9240a4d3d4d5ce",
        "y": "IPY_MODEL_1d74b54d6d234f3f916c600e47dbf8c7"
       },
       "scales_metadata": {
        "color": {
         "dimension": "color"
        },
        "opacity": {
         "dimension": "opacity"
        },
        "rotation": {
         "dimension": "rotation"
        },
        "size": {
         "dimension": "size"
        },
        "skew": {
         "dimension": "skew"
        },
        "x": {
         "dimension": "x",
         "orientation": "horizontal"
        },
        "y": {
         "dimension": "y",
         "orientation": "vertical"
        }
       },
       "selected": [],
       "size": {
        "type": null,
        "values": null
       },
       "skew": {
        "type": null,
        "values": null
       },
       "x": {
        "type": "float",
        "values": [
         0.4501473823600029,
         0.22355450954331607,
         0.8520227339335706,
         0.4097295846150608
        ]
       },
       "y": {
        "type": "float",
        "values": [
         -0.12426375746363771,
         0.4227138105599612,
         0.41305515312279745,
         0.5271223505498778
        ]
       }
      }
     },
     "1fd6f9baa5224c308da63c5a2134d170": {
      "model_module": "bqplot",
      "model_module_version": "^0.4.5",
      "model_name": "FigureModel",
      "state": {
       "_dom_classes": [],
       "animation_duration": 1000,
       "axes": [
        "IPY_MODEL_8f595ac807c349a8a45ab272ba72fd41",
        "IPY_MODEL_0fc799d962d54d9ab91f71343e9a7eab"
       ],
       "layout": "IPY_MODEL_48cac729cb434265894d44b3e1490138",
       "marks": [
        "IPY_MODEL_c38e7e7455fa4408961468683ada6911",
        "IPY_MODEL_23a00e7eaf6547fa97027920b69c8511"
       ],
       "scale_x": "IPY_MODEL_7413aa43157747fab2855918e06610af",
       "scale_y": "IPY_MODEL_ef27c68bd929445991bef0a8517cc39f"
      }
     },
     "202924c9b5804163b791748fda004a6d": {
      "model_module": "bqplot",
      "model_module_version": "^0.4.5",
      "model_name": "FigureModel",
      "state": {
       "_dom_classes": [],
       "animation_duration": 1000,
       "axes": [
        "IPY_MODEL_01ccb98b8bef4a19a0147daf6dab6ba3",
        "IPY_MODEL_0dd86ed90bef4415ab82fb2f02bd50f7"
       ],
       "layout": "IPY_MODEL_163afd34edbe4764a344d082dda5e565",
       "marks": [
        "IPY_MODEL_8a559936d9b94d2b9962dab26561753b"
       ],
       "scale_x": "IPY_MODEL_ec0d0dd37d0c41e38ae07b267417894e",
       "scale_y": "IPY_MODEL_3066474217a7473a9d69ef7ab05fac36"
      }
     },
     "2034643c07c14e7a999e5d1f19701f43": {
      "model_module": "bqplot",
      "model_module_version": "^0.4.5",
      "model_name": "LinearScaleModel",
      "state": {
       "allow_padding": false,
       "max": 1,
       "min": 0,
       "stabilized": false
      }
     },
     "20a7105831e54492b8b74a7584deb26a": {
      "model_module": "bqplot",
      "model_module_version": "^0.4.5",
      "model_name": "LinearScaleModel",
      "state": {
       "max": 1,
       "min": 0,
       "stabilized": false
      }
     },
     "20c82b7a162d498ca079b346d626929c": {
      "model_module": "bqplot",
      "model_module_version": "^0.4.5",
      "model_name": "LinearScaleModel",
      "state": {
       "allow_padding": false,
       "max": 1,
       "min": 0,
       "stabilized": false
      }
     },
     "20e9ddbd04974b05938d47342274a84a": {
      "model_module": "bqplot",
      "model_module_version": "^0.4.5",
      "model_name": "LinearScaleModel",
      "state": {
       "allow_padding": false,
       "max": 1,
       "min": 0,
       "stabilized": false
      }
     },
     "21036508e5e74bc3809f8dd6808b7236": {
      "model_module": "bqplot",
      "model_module_version": "^0.4.5",
      "model_name": "AxisModel",
      "state": {
       "orientation": "vertical",
       "scale": "IPY_MODEL_8881d204ba594885a822c18579d723a3",
       "side": "left",
       "tick_values": {
        "type": null,
        "values": null
       }
      }
     },
     "2121304f99534213adeff28b49a60d2e": {
      "model_module": "bqplot",
      "model_module_version": "^0.4.5",
      "model_name": "LinesModel",
      "state": {
       "close_path": true,
       "color": {
        "type": null,
        "values": null
       },
       "display_legend": false,
       "fill": "inside",
       "fill_colors": [
        "orange",
        "blue",
        "red"
       ],
       "labels": [
        "C1",
        "C2",
        "C3"
       ],
       "scales": {
        "x": "IPY_MODEL_65585e5739fa4633927ab08b97eaef2e",
        "y": "IPY_MODEL_6fbf223288974b6b8f6a037a4816d80e"
       },
       "selected": [],
       "stroke_width": 1,
       "tooltip": "IPY_MODEL_99575a00246640449d6a743bf97fd125",
       "x": {
        "type": "object",
        "values": [
         [],
         [
          0.4097295846150608,
          0.8520227339335706,
          1.7332689863391435,
          0.4200808874255707
         ],
         [
          0.4097295846150608,
          0.22355450954331613,
          0.4501473823600029,
          0.8520227339335706
         ]
        ]
       },
       "y": {
        "type": "object",
        "values": [
         [],
         [
          0.5271223505498778,
          0.41305515312279745,
          0.5796961417400555,
          0.9116146811300156
         ],
         [
          0.5271223505498778,
          0.42271381055996105,
          -0.12426375746363771,
          0.41305515312279745
         ]
        ]
       }
      }
     },
     "217c699f244a48428b7258aae83a75e6": {
      "model_module": "bqplot",
      "model_module_version": "^0.4.5",
      "model_name": "LinesModel",
      "state": {
       "color": {
        "type": null,
        "values": null
       },
       "colors": [
        "black"
       ],
       "display_legend": false,
       "fill_colors": [],
       "labels": [
        "C1"
       ],
       "scales": {
        "x": "IPY_MODEL_b50daaba70f04418935494498fcbe2b3",
        "y": "IPY_MODEL_27e68e618c6a452a9dc5120635c7b7f1"
       },
       "selected": [],
       "x": {
        "type": "float",
        "values": [
         0.5843433203379271,
         0.22738068359095126
        ]
       },
       "y": {
        "type": "float",
        "values": [
         1.3129857260028264,
         0.7667443763710994
        ]
       }
      }
     },
     "2230002543714ae09e81806505684e00": {
      "model_module": "@jupyter-widgets/base",
      "model_module_version": "1.1.0",
      "model_name": "LayoutModel",
      "state": {
       "min_width": "125px"
      }
     },
     "22389e10b2cc49d5975782fca396ab1e": {
      "model_module": "bqplot",
      "model_module_version": "^0.4.5",
      "model_name": "LinesModel",
      "state": {
       "close_path": true,
       "color": {
        "type": null,
        "values": null
       },
       "display_legend": false,
       "fill": "inside",
       "fill_colors": [
        "orange",
        "blue",
        "red"
       ],
       "labels": [
        "C1",
        "C2"
       ],
       "scales": {
        "x": "IPY_MODEL_3ea41f17c5324997b3a55c64c249a49a",
        "y": "IPY_MODEL_acdf4a2bce8d4c6c955a6c01561fcea6"
       },
       "selected": [],
       "stroke_width": 1,
       "tooltip": "IPY_MODEL_27c94a2bcbab4059ac3da55ffc4cde0f",
       "x": {
        "type": "float",
        "values": [
         [
          0.4097295846150608,
          0.8520227339335706,
          1.7332689863391435,
          0.4200808874255707
         ],
         [
          0.4097295846150608,
          0.22355450954331613,
          0.4501473823600029,
          0.8520227339335706
         ]
        ]
       },
       "y": {
        "type": "float",
        "values": [
         [
          0.5271223505498778,
          0.41305515312279745,
          0.5796961417400555,
          0.9116146811300156
         ],
         [
          0.5271223505498778,
          0.42271381055996105,
          -0.12426375746363771,
          0.41305515312279745
         ]
        ]
       }
      }
     },
     "225ae9bf8ab44924a6483b4087aac01b": {
      "model_module": "bqplot",
      "model_module_version": "^0.4.5",
      "model_name": "FigureModel",
      "state": {
       "_dom_classes": [],
       "animation_duration": 1000,
       "axes": [
        "IPY_MODEL_a5fe22e82a6b4cbf8b46a920cb9cfe84",
        "IPY_MODEL_8e2c9e1e8a66492080bc1ea90e97a10a"
       ],
       "layout": "IPY_MODEL_999aaaba563a4492a62122f2db5edfbd",
       "marks": [
        "IPY_MODEL_443cd519bf6844b0bec993f4249d2919",
        "IPY_MODEL_6bc18a10ffe648eb8f773093801986c5"
       ],
       "scale_x": "IPY_MODEL_dfbb619bc82f482397c28d97a1254a53",
       "scale_y": "IPY_MODEL_b653027df43d4cf5a3f206931c34af87"
      }
     },
     "23767c8c616a40f8a079b0bb4cfd4a2a": {
      "model_module": "@jupyter-widgets/controls",
      "model_module_version": "1.4.0",
      "model_name": "VBoxModel",
      "state": {
       "children": [
        "IPY_MODEL_ea7b07c521d54241aa05fc48847496cb",
        "IPY_MODEL_e634d30e56814a78a72e63e25893c478"
       ],
       "layout": "IPY_MODEL_5d7e484f902b41478d430d5c0d425455"
      }
     },
     "23a00e7eaf6547fa97027920b69c8511": {
      "model_module": "bqplot",
      "model_module_version": "^0.4.5",
      "model_name": "ScatterModel",
      "state": {
       "color": {
        "type": null,
        "values": null
       },
       "colors": [
        "steelblue"
       ],
       "display_legend": false,
       "display_names": false,
       "names": {
        "type": null,
        "values": null
       },
       "opacity": {
        "type": null,
        "values": null
       },
       "rotation": {
        "type": null,
        "values": null
       },
       "scales": {
        "x": "IPY_MODEL_1c1f00804f2145f68dbf51a4dc3d4802",
        "y": "IPY_MODEL_7caf2fa7135845bba0927f43d61600b5"
       },
       "scales_metadata": {
        "color": {
         "dimension": "color"
        },
        "opacity": {
         "dimension": "opacity"
        },
        "rotation": {
         "dimension": "rotation"
        },
        "size": {
         "dimension": "size"
        },
        "skew": {
         "dimension": "skew"
        },
        "x": {
         "dimension": "x",
         "orientation": "horizontal"
        },
        "y": {
         "dimension": "y",
         "orientation": "vertical"
        }
       },
       "selected": [],
       "size": {
        "type": null,
        "values": null
       },
       "skew": {
        "type": null,
        "values": null
       },
       "stroke": "black",
       "tooltip": "IPY_MODEL_99575a00246640449d6a743bf97fd125",
       "x": {
        "type": "float",
        "values": [
         0.5434049417909654,
         0.4245175907491331,
         0.004718856190972565,
         0.6707490847267786,
         0.13670658968495297,
         0.891321954312264,
         0.18532821955007506,
         0.21969749262499216,
         0.8116831490893233,
         0.8162247487258399
        ]
       },
       "y": {
        "type": "float",
        "values": [
         0.27836938509379616,
         0.8447761323199037,
         0.12156912078311422,
         0.8258527551050476,
         0.57509332942725,
         0.20920212211718958,
         0.10837689046425514,
         0.9786237847073697,
         0.1719410127325942,
         0.2740737470416992
        ]
       }
      }
     },
     "24021a28cd0c46cdbaa7b8ade13d1ef6": {
      "model_module": "bqplot",
      "model_module_version": "^0.4.5",
      "model_name": "LinesModel",
      "state": {
       "color": {
        "type": null,
        "values": null
       },
       "colors": [
        "black"
       ],
       "display_legend": false,
       "fill_colors": [],
       "labels": [
        "C1"
       ],
       "scales": {
        "x": "IPY_MODEL_b50daaba70f04418935494498fcbe2b3",
        "y": "IPY_MODEL_27e68e618c6a452a9dc5120635c7b7f1"
       },
       "selected": [],
       "x": {
        "type": "float",
        "values": [
         0.22738068359095126,
         0.5281075673364094
        ]
       },
       "y": {
        "type": "float",
        "values": [
         0.7667443763710994,
         -0.15153524143845282
        ]
       }
      }
     },
     "242199c95e4c4b60bf52d1c9c7b25c06": {
      "model_module": "bqplot",
      "model_module_version": "^0.4.5",
      "model_name": "LinesModel",
      "state": {
       "close_path": true,
       "color": {
        "type": null,
        "values": null
       },
       "display_legend": false,
       "fill": "inside",
       "fill_colors": [
        "orange",
        "blue",
        "red"
       ],
       "labels": [
        "C1",
        "C2",
        "C3",
        "C4"
       ],
       "scales": {
        "x": "IPY_MODEL_a2a9b0308f83474d9f48a49f5cb6bad9",
        "y": "IPY_MODEL_624d84a1470f45dc8e4c12a67d22c46b"
       },
       "selected": [],
       "stroke_width": 1,
       "tooltip": "IPY_MODEL_99575a00246640449d6a743bf97fd125",
       "x": {
        "type": "object",
        "values": [
         [
          0.6790714093103971,
          0.6838775462866998,
          1.2311893360787933,
          0.8368019646982289
         ],
         [
          0.22738068359095126,
          0.43020238893545215,
          0.5272947621552145,
          0.5843433203379271
         ],
         [
          0.43020238893545215,
          0.28766969405592147,
          0.5281075673364094,
          0.6790714093103971,
          0.6838775462866998,
          0.5272947621552145
         ],
         [
          0.22738068359095126,
          -5.20820435004358,
          0.11120787378448214,
          0.28766969405592147,
          0.43020238893545215
         ]
        ]
       },
       "y": {
        "type": "object",
        "values": [
         [
          0.22900528542596285,
          0.5342473347036941,
          0.6785452236610399,
          0.2219913829992549
         ],
         [
          0.7667443763710994,
          0.5502889056231901,
          0.5706683504567711,
          1.3129857260028264
         ],
         [
          0.5502889056231901,
          0.35492950428148073,
          -0.15153524143845282,
          0.22900528542596285,
          0.5342473347036941,
          0.5706683504567711
         ],
         [
          0.7667443763710994,
          1.8846379679106748,
          0.3365460478735013,
          0.35492950428148073,
          0.5502889056231901
         ]
        ]
       }
      }
     },
     "2429135f68964a84bbd3187c290d6e0e": {
      "model_module": "bqplot",
      "model_module_version": "^0.4.5",
      "model_name": "LinearScaleModel",
      "state": {
       "stabilized": false
      }
     },
     "2443090976ac434d881e8421e36a3725": {
      "model_module": "bqplot",
      "model_module_version": "^0.4.5",
      "model_name": "ScatterModel",
      "state": {
       "color": {
        "type": null,
        "values": null
       },
       "colors": [
        "steelblue"
       ],
       "display_legend": false,
       "display_names": false,
       "names": {
        "type": "<U5",
        "values": [
         "one",
         "two",
         "three",
         "four",
         "five",
         "six"
        ]
       },
       "opacity": {
        "type": null,
        "values": null
       },
       "rotation": {
        "type": null,
        "values": null
       },
       "scales": {
        "x": "IPY_MODEL_14159b31808c4af4a10dc6f2cf52b5f3",
        "y": "IPY_MODEL_8881d204ba594885a822c18579d723a3"
       },
       "scales_metadata": {
        "color": {
         "dimension": "color"
        },
        "opacity": {
         "dimension": "opacity"
        },
        "rotation": {
         "dimension": "rotation"
        },
        "size": {
         "dimension": "size"
        },
        "skew": {
         "dimension": "skew"
        },
        "x": {
         "dimension": "x",
         "orientation": "horizontal"
        },
        "y": {
         "dimension": "y",
         "orientation": "vertical"
        }
       },
       "selected": [],
       "size": {
        "type": null,
        "values": null
       },
       "skew": {
        "type": null,
        "values": null
       },
       "stroke": "black",
       "tooltip": "IPY_MODEL_b80ed1e2fbfa45358769dcf805aedaf3",
       "x": {
        "type": "float",
        "values": [
         0.771320643266746,
         0.6336482349262754,
         0.4985070123025904,
         0.19806286475962398,
         0.16911083656253545,
         0.6853598183677972
        ]
       },
       "y": {
        "type": "float",
        "values": [
         0.0207519493594015,
         0.7488038825386119,
         0.22479664553084766,
         0.7605307121989587,
         0.08833981417401027,
         0.9533933461949365
        ]
       }
      }
     },
     "246b52cf5cac49e1950c77728b76b2c1": {
      "model_module": "bqplot",
      "model_module_version": "^0.4.5",
      "model_name": "AxisModel",
      "state": {
       "orientation": "vertical",
       "scale": "IPY_MODEL_624d84a1470f45dc8e4c12a67d22c46b",
       "side": "left",
       "tick_values": {
        "type": null,
        "values": null
       },
       "visible": false
      }
     },
     "24982a36a1644ae4bcc6a7ede258777c": {
      "model_module": "bqplot",
      "model_module_version": "^0.4.5",
      "model_name": "LinearScaleModel",
      "state": {
       "max": 1,
       "min": 0,
       "stabilized": false
      }
     },
     "24e2d1021ee9415cab8993fe0a4f0adb": {
      "model_module": "@jupyter-widgets/base",
      "model_module_version": "1.1.0",
      "model_name": "LayoutModel",
      "state": {
       "min_width": "125px"
      }
     },
     "250a64f6cdc743eeba98486263184a84": {
      "model_module": "bqplot",
      "model_module_version": "^0.4.5",
      "model_name": "LinearScaleModel",
      "state": {
       "allow_padding": false,
       "max": 1,
       "min": 0,
       "stabilized": false
      }
     },
     "255da572643045dbb41e7367f0c9ebe8": {
      "model_module": "bqplot",
      "model_module_version": "^0.4.5",
      "model_name": "AxisModel",
      "state": {
       "orientation": "vertical",
       "scale": "IPY_MODEL_2429135f68964a84bbd3187c290d6e0e",
       "side": "left",
       "tick_values": {
        "type": null,
        "values": null
       }
      }
     },
     "256ee9eeb8bd40bc94f3af1f419fd4aa": {
      "model_module": "bqplot",
      "model_module_version": "^0.4.5",
      "model_name": "LinesModel",
      "state": {
       "close_path": true,
       "color": {
        "type": null,
        "values": null
       },
       "display_legend": false,
       "fill": "inside",
       "fill_colors": [
        "orange",
        "blue",
        "red"
       ],
       "labels": [
        "C1",
        "C2"
       ],
       "scales": {
        "x": "IPY_MODEL_bee18f9cd3734eaebf301f68907832ab",
        "y": "IPY_MODEL_0b254cd949d141dd84f3aff20d945e89"
       },
       "selected": [],
       "stroke_width": 1,
       "tooltip": "IPY_MODEL_cc31526312594ad68b5bd650904944ea",
       "x": {
        "type": "float",
        "values": [
         [
          0.4097295846150608,
          0.8520227339335706,
          1.7332689863391435,
          0.4200808874255707
         ],
         [
          0.4097295846150608,
          0.22355450954331613,
          0.4501473823600029,
          0.8520227339335706
         ]
        ]
       },
       "y": {
        "type": "float",
        "values": [
         [
          0.5271223505498778,
          0.41305515312279745,
          0.5796961417400555,
          0.9116146811300156
         ],
         [
          0.5271223505498778,
          0.42271381055996105,
          -0.12426375746363771,
          0.41305515312279745
         ]
        ]
       }
      }
     },
     "2586e6e3db8b4f30a1427fdc201bee93": {
      "model_module": "@jupyter-widgets/controls",
      "model_module_version": "1.4.0",
      "model_name": "VBoxModel",
      "state": {
       "children": [
        "IPY_MODEL_e1f27e74f64b41c88931e8c9b8cd0f9d",
        "IPY_MODEL_b46686ed780841d88df220bb458bc2cb"
       ],
       "layout": "IPY_MODEL_ab0b1186be8440139a4b4b1445999ebd"
      }
     },
     "2648a693bd2c4f8aac02a40a24ad1fd3": {
      "model_module": "bqplot",
      "model_module_version": "^0.4.5",
      "model_name": "AxisModel",
      "state": {
       "scale": "IPY_MODEL_c0a52e2244a1477588ce17d98c8b2521",
       "side": "bottom",
       "tick_values": {
        "type": null,
        "values": null
       },
       "visible": false
      }
     },
     "2720800abae94a94ab965aa87dddc869": {
      "model_module": "bqplot",
      "model_module_version": "^0.4.5",
      "model_name": "AxisModel",
      "state": {
       "scale": "IPY_MODEL_f50a16a7845c4b7883c53285ae9e5c05",
       "side": "bottom",
       "tick_values": {
        "type": null,
        "values": null
       }
      }
     },
     "2728b198914c451b9ae20ea3279e1d25": {
      "model_module": "bqplot",
      "model_module_version": "^0.4.5",
      "model_name": "AxisModel",
      "state": {
       "scale": "IPY_MODEL_d6a3c5d259944dc599ccefdc2cb3fd8c",
       "side": "bottom",
       "tick_values": {
        "type": null,
        "values": null
       }
      }
     },
     "275aaa16333c4a259a5f7c42a175ff85": {
      "model_module": "bqplot",
      "model_module_version": "^0.4.5",
      "model_name": "ColorAxisModel",
      "state": {
       "scale": "IPY_MODEL_ae091349741c494497058af3428b80c1",
       "side": "bottom",
       "tick_values": {
        "type": null,
        "values": null
       },
       "visible": false
      }
     },
     "276cdc7bb089486d8641c4b8d714ccde": {
      "model_module": "bqplot",
      "model_module_version": "^0.4.5",
      "model_name": "LinesModel",
      "state": {
       "color": {
        "type": null,
        "values": null
       },
       "colors": [
        "black"
       ],
       "display_legend": false,
       "fill_colors": [],
       "labels": [
        "C1"
       ],
       "scales": {
        "x": "IPY_MODEL_b50daaba70f04418935494498fcbe2b3",
        "y": "IPY_MODEL_27e68e618c6a452a9dc5120635c7b7f1"
       },
       "selected": [],
       "x": {
        "type": "float",
        "values": [
         -5.20820435004358,
         0.11120787378448214
        ]
       },
       "y": {
        "type": "float",
        "values": [
         1.8846379679106748,
         0.3365460478735013
        ]
       }
      }
     },
     "27c94a2bcbab4059ac3da55ffc4cde0f": {
      "model_module": "bqplot",
      "model_module_version": "^0.4.5",
      "model_name": "TooltipModel",
      "state": {
       "fields": [
        "index"
       ],
       "formats": [
        ""
       ],
       "layout": "IPY_MODEL_49296f7e3a364b988308b2d7b8198b47"
      }
     },
     "27e68e618c6a452a9dc5120635c7b7f1": {
      "model_module": "bqplot",
      "model_module_version": "^0.4.5",
      "model_name": "LinearScaleModel",
      "state": {
       "stabilized": false
      }
     },
     "287501e475b14b3b88ce987491435520": {
      "model_module": "bqplot",
      "model_module_version": "^0.4.5",
      "model_name": "LinearScaleModel",
      "state": {
       "stabilized": false
      }
     },
     "287fd444a42943b1b481d9a081492fc8": {
      "model_module": "bqplot",
      "model_module_version": "^0.4.5",
      "model_name": "LinearScaleModel",
      "state": {
       "allow_padding": false,
       "max": 1,
       "min": 0,
       "stabilized": false
      }
     },
     "28996db5b82648dcb113888cde4b8e72": {
      "model_module": "bqplot",
      "model_module_version": "^0.4.5",
      "model_name": "LinesModel",
      "state": {
       "color": {
        "type": null,
        "values": null
       },
       "colors": [
        "black"
       ],
       "display_legend": false,
       "fill_colors": [],
       "labels": [
        "C1"
       ],
       "scales": {
        "x": "IPY_MODEL_2a6aca56c2d14e61beef14fd6a225877",
        "y": "IPY_MODEL_6aebc1b7d022462ea4ac7b8228d301a8"
       },
       "selected": [],
       "x": {
        "type": "float",
        "values": [
         0.5272947621552145,
         0.5843433203379271
        ]
       },
       "y": {
        "type": "float",
        "values": [
         0.5706683504567711,
         1.3129857260028264
        ]
       }
      }
     },
     "2983dde291294d548fb44479df620846": {
      "model_module": "bqplot",
      "model_module_version": "^0.4.5",
      "model_name": "LinearScaleModel",
      "state": {
       "stabilized": false
      }
     },
     "29e87490d0cd4f0ca9b01604ed02c949": {
      "model_module": "bqplot",
      "model_module_version": "^0.4.5",
      "model_name": "LinearScaleModel",
      "state": {
       "allow_padding": false,
       "max": 1,
       "min": 0,
       "stabilized": false
      }
     },
     "2a26839787ea4fbcb01b06957d055b84": {
      "model_module": "bqplot",
      "model_module_version": "^0.4.5",
      "model_name": "LinesModel",
      "state": {
       "close_path": true,
       "color": {
        "type": null,
        "values": null
       },
       "display_legend": false,
       "fill": "inside",
       "fill_colors": [
        "orange",
        "blue",
        "red"
       ],
       "labels": [
        "C1",
        "C2"
       ],
       "scales": {
        "x": "IPY_MODEL_5a7a5b884a9e4a0cb513d4f2f84c2ac5",
        "y": "IPY_MODEL_6a0e020f411d4218895062beebec9c5d"
       },
       "selected": [],
       "stroke_width": 1,
       "tooltip": "IPY_MODEL_99575a00246640449d6a743bf97fd125",
       "x": {
        "type": "object",
        "values": [
         [
          4,
          5,
          6,
          6,
          5,
          4,
          3,
          1
         ],
         [
          1,
          2,
          3
         ]
        ]
       },
       "y": {
        "type": "object",
        "values": [
         [
          1,
          1.1,
          1.2,
          2.3,
          2.2,
          2.7,
          1,
          -2
         ],
         [
          3,
          2,
          3
         ]
        ]
       }
      }
     },
     "2a6aca56c2d14e61beef14fd6a225877": {
      "model_module": "bqplot",
      "model_module_version": "^0.4.5",
      "model_name": "LinearScaleModel",
      "state": {
       "max": -0.564328520180541,
       "min": -1.0661225149832938,
       "stabilized": false
      }
     },
     "2a6f07069a8b4b71bc49a3d40eeed857": {
      "model_module": "@jupyter-widgets/base",
      "model_module_version": "1.1.0",
      "model_name": "LayoutModel",
      "state": {
       "min_width": "125px"
      }
     },
     "2a8ab5b58043413aa505c5d0972ebc93": {
      "model_module": "bqplot",
      "model_module_version": "^0.4.5",
      "model_name": "LinearScaleModel",
      "state": {
       "allow_padding": false,
       "max": 1,
       "min": 0,
       "stabilized": false
      }
     },
     "2a8b86ec36a048ebb1e0e61a41339793": {
      "model_module": "bqplot",
      "model_module_version": "^0.4.5",
      "model_name": "LinearScaleModel",
      "state": {
       "stabilized": false
      }
     },
     "2ab79a34887a48d781da4a3a88047f3b": {
      "model_module": "bqplot",
      "model_module_version": "^0.4.5",
      "model_name": "AxisModel",
      "state": {
       "scale": "IPY_MODEL_c1b96b9bd2a643a48cfa6a290db7fe40",
       "side": "bottom",
       "tick_values": {
        "type": null,
        "values": null
       }
      }
     },
     "2ae90f5e1860469aab4195e67a49c47c": {
      "model_module": "bqplot",
      "model_module_version": "^0.4.5",
      "model_name": "FigureModel",
      "state": {
       "_dom_classes": [],
       "animation_duration": 1000,
       "axes": [
        "IPY_MODEL_121e05b9e8f14c819e20427563b9cec2",
        "IPY_MODEL_ac8b11b280bc4770ab9d85ff10dfd2e3"
       ],
       "layout": "IPY_MODEL_ec0b93a280a5471693a16633cbb0b831",
       "marks": [
        "IPY_MODEL_44a3786aa23344658542856f3bab3fae",
        "IPY_MODEL_c5561988961d458fb6cfed274a9ece0f"
       ],
       "scale_x": "IPY_MODEL_2b98fd19eda8480d9376def282595a5c",
       "scale_y": "IPY_MODEL_aa1226481c87418e9883e8ad07d83ef8"
      }
     },
     "2b98fd19eda8480d9376def282595a5c": {
      "model_module": "bqplot",
      "model_module_version": "^0.4.5",
      "model_name": "LinearScaleModel",
      "state": {
       "allow_padding": false,
       "max": 1,
       "min": 0,
       "stabilized": false
      }
     },
     "2bafe5a07c734c388b119394db5bc22d": {
      "model_module": "bqplot",
      "model_module_version": "^0.4.5",
      "model_name": "LinesModel",
      "state": {
       "close_path": true,
       "color": {
        "type": null,
        "values": null
       },
       "display_legend": false,
       "fill": "inside",
       "fill_colors": [
        "orange",
        "blue",
        "red"
       ],
       "labels": [
        "C1",
        "C2",
        "C3"
       ],
       "scales": {
        "x": "IPY_MODEL_f50a16a7845c4b7883c53285ae9e5c05",
        "y": "IPY_MODEL_d4a3961b79d147aba8bd4cd5e2709069"
       },
       "selected": [],
       "stroke_width": 1,
       "tooltip": "IPY_MODEL_99575a00246640449d6a743bf97fd125",
       "x": {
        "type": "object",
        "values": [
         [],
         [
          0.4097295846150608,
          0.8520227339335706,
          1.7332689863391435,
          0.4200808874255707
         ],
         [
          0.4097295846150608,
          0.22355450954331613,
          0.4501473823600029,
          0.8520227339335706
         ]
        ]
       },
       "y": {
        "type": "object",
        "values": [
         [],
         [
          0.5271223505498778,
          0.41305515312279745,
          0.5796961417400555,
          0.9116146811300156
         ],
         [
          0.5271223505498778,
          0.42271381055996105,
          -0.12426375746363771,
          0.41305515312279745
         ]
        ]
       }
      }
     },
     "2bca61ce07904456954575310727619d": {
      "model_module": "bqplot",
      "model_module_version": "^0.4.5",
      "model_name": "AxisModel",
      "state": {
       "scale": "IPY_MODEL_70cd145f168741bcaa1f84b502235ba7",
       "side": "bottom",
       "tick_values": {
        "type": null,
        "values": null
       }
      }
     },
     "2bdce293c9e540a0b1e86773b480064e": {
      "model_module": "bqplot",
      "model_module_version": "^0.4.5",
      "model_name": "ScatterModel",
      "state": {
       "color": {
        "type": null,
        "values": null
       },
       "colors": [
        "steelblue"
       ],
       "display_legend": false,
       "display_names": false,
       "names": {
        "type": null,
        "values": null
       },
       "opacity": {
        "type": null,
        "values": null
       },
       "rotation": {
        "type": null,
        "values": null
       },
       "scales": {
        "x": "IPY_MODEL_4d48ab48609c451ca80c104cdbb0875d",
        "y": "IPY_MODEL_7b29de3066154c189922bffd64cdd312"
       },
       "scales_metadata": {
        "color": {
         "dimension": "color"
        },
        "opacity": {
         "dimension": "opacity"
        },
        "rotation": {
         "dimension": "rotation"
        },
        "size": {
         "dimension": "size"
        },
        "skew": {
         "dimension": "skew"
        },
        "x": {
         "dimension": "x",
         "orientation": "horizontal"
        },
        "y": {
         "dimension": "y",
         "orientation": "vertical"
        }
       },
       "selected": [],
       "size": {
        "type": null,
        "values": null
       },
       "skew": {
        "type": null,
        "values": null
       },
       "stroke": "black",
       "tooltip": "IPY_MODEL_99575a00246640449d6a743bf97fd125",
       "x": {
        "type": "float",
        "values": [
         0.5434049417909654,
         0.4245175907491331,
         0.004718856190972565,
         0.6707490847267786,
         0.13670658968495297,
         0.891321954312264,
         0.18532821955007506,
         0.21969749262499216,
         0.8116831490893233,
         0.8162247487258399
        ]
       },
       "y": {
        "type": "float",
        "values": [
         0.27836938509379616,
         0.8447761323199037,
         0.12156912078311422,
         0.8258527551050476,
         0.57509332942725,
         0.20920212211718958,
         0.10837689046425514,
         0.9786237847073697,
         0.1719410127325942,
         0.2740737470416992
        ]
       }
      }
     },
     "2bf1426ea6d64c10b6ed556fe83a44ff": {
      "model_module": "bqplot",
      "model_module_version": "^0.4.5",
      "model_name": "ScatterModel",
      "state": {
       "color": {
        "type": null,
        "values": null
       },
       "colors": [
        "steelblue"
       ],
       "display_legend": false,
       "names": {
        "type": "<U5",
        "values": [
         "one",
         "two",
         "three",
         "four",
         "five",
         "six"
        ]
       },
       "opacity": {
        "type": null,
        "values": null
       },
       "rotation": {
        "type": null,
        "values": null
       },
       "scales": {
        "x": "IPY_MODEL_a232fac5333f44fb9d09f9674c61e432",
        "y": "IPY_MODEL_51c81942eeac46c88df2d8543613ee5a"
       },
       "scales_metadata": {
        "color": {
         "dimension": "color"
        },
        "opacity": {
         "dimension": "opacity"
        },
        "rotation": {
         "dimension": "rotation"
        },
        "size": {
         "dimension": "size"
        },
        "skew": {
         "dimension": "skew"
        },
        "x": {
         "dimension": "x",
         "orientation": "horizontal"
        },
        "y": {
         "dimension": "y",
         "orientation": "vertical"
        }
       },
       "selected": [],
       "size": {
        "type": null,
        "values": null
       },
       "skew": {
        "type": null,
        "values": null
       },
       "stroke": "black",
       "tooltip": "IPY_MODEL_b80ed1e2fbfa45358769dcf805aedaf3",
       "x": {
        "type": "float",
        "values": [
         0.771320643266746,
         0.6336482349262754,
         0.4985070123025904,
         0.19806286475962398,
         0.16911083656253545,
         0.6853598183677972
        ]
       },
       "y": {
        "type": "float",
        "values": [
         0.0207519493594015,
         0.7488038825386119,
         0.22479664553084766,
         0.7605307121989587,
         0.08833981417401027,
         0.9533933461949365
        ]
       }
      }
     },
     "2c157c0e7c4642bebc50b5f16643e0b5": {
      "model_module": "bqplot",
      "model_module_version": "^0.4.5",
      "model_name": "LinesModel",
      "state": {
       "close_path": true,
       "color": {
        "type": null,
        "values": null
       },
       "display_legend": false,
       "fill": "inside",
       "fill_colors": [
        "orange",
        "blue",
        "red"
       ],
       "labels": [
        "C1",
        "C2"
       ],
       "scales": {
        "x": "IPY_MODEL_06121ec0786f450097d9ed63aa6aeb46",
        "y": "IPY_MODEL_8e921276077a408b9dcdf25b02da2249"
       },
       "selected": [],
       "stroke_width": 1,
       "tooltip": "IPY_MODEL_b80ed1e2fbfa45358769dcf805aedaf3",
       "x": {
        "type": "float",
        "values": [
         [
          0.4097295846150608,
          0.8520227339335706,
          1.7332689863391435,
          0.4200808874255707
         ],
         [
          0.4097295846150608,
          0.22355450954331613,
          0.4501473823600029,
          0.8520227339335706
         ]
        ]
       },
       "y": {
        "type": "float",
        "values": [
         [
          0.5271223505498778,
          0.41305515312279745,
          0.5796961417400555,
          0.9116146811300156
         ],
         [
          0.5271223505498778,
          0.42271381055996105,
          -0.12426375746363771,
          0.41305515312279745
         ]
        ]
       }
      }
     },
     "2c73f03965d740a1b7c1cebe35189914": {
      "model_module": "bqplot",
      "model_module_version": "^0.4.5",
      "model_name": "LinesModel",
      "state": {
       "color": {
        "type": null,
        "values": null
       },
       "colors": [
        "black"
       ],
       "display_legend": false,
       "fill_colors": [],
       "labels": [
        "C1"
       ],
       "scales": {
        "x": "IPY_MODEL_8f922e86cf4646428737dd08d5dd487a",
        "y": "IPY_MODEL_ba02e3e6817e4576ac4580e42528de41"
       },
       "selected": [],
       "x": {
        "type": "float",
        "values": [
         1.2311893360787933,
         0.8368019646982289
        ]
       },
       "y": {
        "type": "float",
        "values": [
         0.6785452236610399,
         0.2219913829992549
        ]
       }
      }
     },
     "2c7487ec21774020913b6cf82d4351a0": {
      "model_module": "bqplot",
      "model_module_version": "^0.4.5",
      "model_name": "LinesModel",
      "state": {
       "close_path": true,
       "color": {
        "type": null,
        "values": null
       },
       "display_legend": false,
       "fill": "inside",
       "fill_colors": [
        "orange",
        "blue",
        "red"
       ],
       "labels": [
        "C1",
        "C2"
       ],
       "scales": {
        "x": "IPY_MODEL_a232fac5333f44fb9d09f9674c61e432",
        "y": "IPY_MODEL_51c81942eeac46c88df2d8543613ee5a"
       },
       "selected": [],
       "stroke_width": 1,
       "tooltip": "IPY_MODEL_b80ed1e2fbfa45358769dcf805aedaf3",
       "x": {
        "type": "float",
        "values": [
         [
          0.4097295846150608,
          0.8520227339335706,
          1.7332689863391435,
          0.4200808874255707
         ],
         [
          0.4097295846150608,
          0.22355450954331613,
          0.4501473823600029,
          0.8520227339335706
         ]
        ]
       },
       "y": {
        "type": "float",
        "values": [
         [
          0.5271223505498778,
          0.41305515312279745,
          0.5796961417400555,
          0.9116146811300156
         ],
         [
          0.5271223505498778,
          0.42271381055996105,
          -0.12426375746363771,
          0.41305515312279745
         ]
        ]
       }
      }
     },
     "2cb6127a397944a19ead41ee68ec394f": {
      "model_module": "bqplot",
      "model_module_version": "^0.4.5",
      "model_name": "LinesModel",
      "state": {
       "color": {
        "type": null,
        "values": null
       },
       "colors": [
        "black"
       ],
       "display_legend": false,
       "fill_colors": [],
       "labels": [
        "C1"
       ],
       "scales": {
        "x": "IPY_MODEL_2a6aca56c2d14e61beef14fd6a225877",
        "y": "IPY_MODEL_6aebc1b7d022462ea4ac7b8228d301a8"
       },
       "selected": [],
       "x": {
        "type": "float",
        "values": [
         0.5843433203379271,
         0.22738068359095126
        ]
       },
       "y": {
        "type": "float",
        "values": [
         1.3129857260028264,
         0.7667443763710994
        ]
       }
      }
     },
     "2d4445214e44459dae355ebdb921b788": {
      "model_module": "bqplot",
      "model_module_version": "^0.4.5",
      "model_name": "LinearScaleModel",
      "state": {
       "max": 1,
       "min": 0,
       "stabilized": false
      }
     },
     "2dad3f36994140e8a4ad9d87e8f02204": {
      "model_module": "bqplot",
      "model_module_version": "^0.4.5",
      "model_name": "AxisModel",
      "state": {
       "scale": "IPY_MODEL_1621bdba5cbc45d580fadc852ad370c8",
       "side": "bottom",
       "tick_values": {
        "type": null,
        "values": null
       }
      }
     },
     "2de2343a41e74b2386bee804feb888ee": {
      "model_module": "bqplot",
      "model_module_version": "^0.4.5",
      "model_name": "AxisModel",
      "state": {
       "scale": "IPY_MODEL_cd28d5561b814f7490f502c4a2072794",
       "side": "bottom",
       "tick_values": {
        "type": null,
        "values": null
       }
      }
     },
     "2e120497a9ce42d488ccb0a07bc56dd7": {
      "model_module": "bqplot",
      "model_module_version": "^0.4.5",
      "model_name": "AxisModel",
      "state": {
       "orientation": "vertical",
       "scale": "IPY_MODEL_e6f8e3c7d6c94e1ba1109c73b23f7f5d",
       "side": "left",
       "tick_values": {
        "type": null,
        "values": null
       }
      }
     },
     "2e75ce4e157e4588ac48fa27a5401100": {
      "model_module": "bqplot",
      "model_module_version": "^0.4.5",
      "model_name": "LinearScaleModel",
      "state": {
       "allow_padding": false,
       "max": 1,
       "min": 0,
       "stabilized": false
      }
     },
     "2eb9580e20964e5090d1cabc4d627c6d": {
      "model_module": "bqplot",
      "model_module_version": "^0.4.5",
      "model_name": "LinearScaleModel",
      "state": {
       "max": 1,
       "min": 0,
       "stabilized": false
      }
     },
     "2f074e433d43483f92ad522dc98f3819": {
      "model_module": "bqplot",
      "model_module_version": "^0.4.5",
      "model_name": "FigureModel",
      "state": {
       "_dom_classes": [],
       "animation_duration": 1000,
       "axes": [
        "IPY_MODEL_9d2cad84b67348e7a5db21294f4f8225",
        "IPY_MODEL_78c8f5cd704e4a009aeadf75f66d9027"
       ],
       "layout": "IPY_MODEL_1916398288a746849ab9f6fbc5dcf4a6",
       "marks": [
        "IPY_MODEL_47c2fea5c8354f91be2398ab47b3b7cf"
       ],
       "scale_x": "IPY_MODEL_ca69476de4f94997961305e5f6dab665",
       "scale_y": "IPY_MODEL_4c3caa8795784ca8a4e2d2982b778369"
      }
     },
     "2f6fa99b6f074ee6a6f46535b7a67c7f": {
      "model_module": "@jupyter-widgets/base",
      "model_module_version": "1.1.0",
      "model_name": "LayoutModel",
      "state": {}
     },
     "2fc4c9476e57453d8e4e7a5361de7f41": {
      "model_module": "bqplot",
      "model_module_version": "^0.4.5",
      "model_name": "LinearScaleModel",
      "state": {
       "allow_padding": false,
       "max": 1,
       "min": 0,
       "stabilized": false
      }
     },
     "2fcc034ce92f407e946937aed98e17c4": {
      "model_module": "bqplot",
      "model_module_version": "^0.4.5",
      "model_name": "LinearScaleModel",
      "state": {
       "stabilized": false
      }
     },
     "304c476e5f164c398afd9a66da9a41ab": {
      "model_module": "@jupyter-widgets/controls",
      "model_module_version": "1.4.0",
      "model_name": "VBoxModel",
      "state": {
       "children": [
        "IPY_MODEL_72fede0dd73b42718996da2f4ce850b9",
        "IPY_MODEL_c192528f3bbd4f9c8b1f9e680cc6cf04"
       ],
       "layout": "IPY_MODEL_c169fe69635b4c259d30a5ea659dced5"
      }
     },
     "305820b06d6a48368f86ba92efa090e1": {
      "model_module": "bqplot",
      "model_module_version": "^0.4.5",
      "model_name": "LinesModel",
      "state": {
       "close_path": true,
       "color": {
        "type": null,
        "values": null
       },
       "display_legend": false,
       "fill": "inside",
       "fill_colors": [
        "orange",
        "blue",
        "red"
       ],
       "labels": [
        "C1"
       ],
       "scales": {
        "x": "IPY_MODEL_fb35778567a949baba8b539c46854168",
        "y": "IPY_MODEL_ef0fb5245e494b569776b5ee08a1049e"
       },
       "selected": [],
       "stroke_width": 1,
       "tooltip": "IPY_MODEL_99575a00246640449d6a743bf97fd125",
       "x": {
        "type": "float",
        "values": [
         0.4097295846150608,
         0.22355450954331607,
         0.4501473823600029,
         0.8520227339335706
        ]
       },
       "y": {
        "type": "float",
        "values": [
         0.5271223505498778,
         0.4227138105599612,
         -0.12426375746363771,
         0.41305515312279745
        ]
       }
      }
     },
     "3066474217a7473a9d69ef7ab05fac36": {
      "model_module": "bqplot",
      "model_module_version": "^0.4.5",
      "model_name": "LinearScaleModel",
      "state": {
       "allow_padding": false,
       "max": 1,
       "min": 0,
       "stabilized": false
      }
     },
     "307846dcc1cb487eb06bd90b54d1d3f8": {
      "model_module": "@jupyter-widgets/base",
      "model_module_version": "1.1.0",
      "model_name": "LayoutModel",
      "state": {
       "min_width": "125px"
      }
     },
     "30a26c598b484113b7c282e545c9fe18": {
      "model_module": "bqplot",
      "model_module_version": "^0.4.5",
      "model_name": "FigureModel",
      "state": {
       "_dom_classes": [],
       "animation_duration": 1000,
       "axes": [
        "IPY_MODEL_bb9ac23af12a4284bc6c19db4ad40b39",
        "IPY_MODEL_0335bb7f2a434197afc48174d7fb599a"
       ],
       "layout": "IPY_MODEL_a68558f6bf2046eab346053cac6d9f35",
       "marks": [
        "IPY_MODEL_51894d26da2240f1931cb6780a9b6ba2"
       ],
       "scale_x": "IPY_MODEL_5d2d030e4748433cb4ee03ad793c722e",
       "scale_y": "IPY_MODEL_0a2544b32d5943259bc1b13944fa763c"
      }
     },
     "30c41772a9a54b1b85fa05a285906d0c": {
      "model_module": "bqplot",
      "model_module_version": "^0.4.5",
      "model_name": "LinesModel",
      "state": {
       "color": {
        "type": null,
        "values": null
       },
       "colors": [
        "black"
       ],
       "display_legend": false,
       "fill_colors": [],
       "labels": [
        "C1"
       ],
       "scales": {
        "x": "IPY_MODEL_8f922e86cf4646428737dd08d5dd487a",
        "y": "IPY_MODEL_ba02e3e6817e4576ac4580e42528de41"
       },
       "selected": [],
       "x": {
        "type": "float",
        "values": [
         -5.20820435004358,
         0.22738068359095126
        ]
       },
       "y": {
        "type": "float",
        "values": [
         1.8846379679106748,
         0.7667443763710994
        ]
       }
      }
     },
     "30ee9d0833794759a652774b4de80678": {
      "model_module": "bqplot",
      "model_module_version": "^0.4.5",
      "model_name": "AxisModel",
      "state": {
       "orientation": "vertical",
       "scale": "IPY_MODEL_ca4b7149bfcb4bf285e6ee7a319fa6d3",
       "side": "left",
       "tick_values": {
        "type": null,
        "values": null
       }
      }
     },
     "31763ba9a21f4640916e51c54bf1bc05": {
      "model_module": "@jupyter-widgets/base",
      "model_module_version": "1.1.0",
      "model_name": "LayoutModel",
      "state": {
       "min_width": "125px"
      }
     },
     "31967e72db3b4358b0a19c5cfece9be0": {
      "model_module": "bqplot",
      "model_module_version": "^0.4.5",
      "model_name": "FigureModel",
      "state": {
       "_dom_classes": [],
       "animation_duration": 1000,
       "axes": [
        "IPY_MODEL_0f3b46e6160f4d0eb39ceef584147175",
        "IPY_MODEL_0671f2082ed9469bb057fde1a0ecf427"
       ],
       "layout": "IPY_MODEL_5ef9926a6a854679b6bc7ec113d632dc",
       "marks": [
        "IPY_MODEL_e793a19e91ff48cdb25d3f7c27b7eff4"
       ],
       "scale_x": "IPY_MODEL_c07b7cc6389d4e3d9a176edb00e8f1c4",
       "scale_y": "IPY_MODEL_19182d3f885048d88366ba8fda8f0d30"
      }
     },
     "31cc6ec22444421db2a86750c8b74898": {
      "model_module": "bqplot",
      "model_module_version": "^0.4.5",
      "model_name": "AxisModel",
      "state": {
       "scale": "IPY_MODEL_2a8b86ec36a048ebb1e0e61a41339793",
       "side": "bottom",
       "tick_values": {
        "type": null,
        "values": null
       },
       "visible": false
      }
     },
     "321ab8fb984644bab81cdd90020b917f": {
      "model_module": "bqplot",
      "model_module_version": "^0.4.5",
      "model_name": "LinesModel",
      "state": {
       "close_path": true,
       "color": {
        "type": null,
        "values": null
       },
       "display_legend": false,
       "fill": "inside",
       "fill_colors": [
        "orange",
        "blue",
        "red"
       ],
       "labels": [
        "C1",
        "C2",
        "C3",
        "C4"
       ],
       "scales": {
        "x": "IPY_MODEL_b3cd8998b9bf470880a236bcd18019f4",
        "y": "IPY_MODEL_017225e217bf452d99d4db37c2fb8b46"
       },
       "selected": [],
       "stroke_width": 1,
       "tooltip": "IPY_MODEL_99575a00246640449d6a743bf97fd125",
       "x": {
        "type": "object",
        "values": [
         [
          0.6790714093103971,
          0.6838775462866998,
          1.2311893360787933,
          0.8368019646982289
         ],
         [
          0.22738068359095126,
          0.43020238893545215,
          0.5272947621552145,
          0.5843433203379271
         ],
         [
          0.43020238893545215,
          0.28766969405592147,
          0.5281075673364094,
          0.6790714093103971,
          0.6838775462866998,
          0.5272947621552145
         ],
         [
          0.22738068359095126,
          -5.20820435004358,
          0.11120787378448214,
          0.28766969405592147,
          0.43020238893545215
         ]
        ]
       },
       "y": {
        "type": "object",
        "values": [
         [
          0.22900528542596285,
          0.5342473347036941,
          0.6785452236610399,
          0.2219913829992549
         ],
         [
          0.7667443763710994,
          0.5502889056231901,
          0.5706683504567711,
          1.3129857260028264
         ],
         [
          0.5502889056231901,
          0.35492950428148073,
          -0.15153524143845282,
          0.22900528542596285,
          0.5342473347036941,
          0.5706683504567711
         ],
         [
          0.7667443763710994,
          1.8846379679106748,
          0.3365460478735013,
          0.35492950428148073,
          0.5502889056231901
         ]
        ]
       }
      }
     },
     "32401f44d8d54f0b95fda13b7330824d": {
      "model_module": "bqplot",
      "model_module_version": "^0.4.5",
      "model_name": "LinearScaleModel",
      "state": {
       "max": 1,
       "min": 0,
       "stabilized": false
      }
     },
     "329cdef1ca444ffa9e1f413bf9e7e8b5": {
      "model_module": "bqplot",
      "model_module_version": "^0.4.5",
      "model_name": "AxisModel",
      "state": {
       "orientation": "vertical",
       "scale": "IPY_MODEL_0f14680139584d8cb5bf7cafb6eaae47",
       "side": "left",
       "tick_values": {
        "type": null,
        "values": null
       },
       "visible": false
      }
     },
     "32a60bac29564b2782bdd8e1c1e8d6f5": {
      "model_module": "bqplot",
      "model_module_version": "^0.4.5",
      "model_name": "LinesModel",
      "state": {
       "color": {
        "type": null,
        "values": null
       },
       "colors": [
        "black"
       ],
       "display_legend": false,
       "fill_colors": [],
       "labels": [
        "C1"
       ],
       "scales": {
        "x": "IPY_MODEL_2a6aca56c2d14e61beef14fd6a225877",
        "y": "IPY_MODEL_6aebc1b7d022462ea4ac7b8228d301a8"
       },
       "selected": [],
       "x": {
        "type": "float",
        "values": [
         0.28766969405592147,
         0.43020238893545215
        ]
       },
       "y": {
        "type": "float",
        "values": [
         0.35492950428148073,
         0.5502889056231901
        ]
       }
      }
     },
     "3489a19fea3c4d668f0f575fcce21bc5": {
      "model_module": "bqplot",
      "model_module_version": "^0.4.5",
      "model_name": "LinearScaleModel",
      "state": {
       "allow_padding": false,
       "max": 1,
       "min": 0,
       "stabilized": false
      }
     },
     "34f8933484fa412f88f39779997131b2": {
      "model_module": "bqplot",
      "model_module_version": "^0.4.5",
      "model_name": "ScatterModel",
      "state": {
       "color": {
        "type": null,
        "values": null
       },
       "colors": [
        "steelblue"
       ],
       "display_legend": false,
       "display_names": false,
       "names": {
        "type": null,
        "values": null
       },
       "opacity": {
        "type": null,
        "values": null
       },
       "rotation": {
        "type": null,
        "values": null
       },
       "scales": {
        "x": "IPY_MODEL_b536a45d7a204a1c8c8c5c90e24ce7df",
        "y": "IPY_MODEL_f07e0145546e4e3f8a6bcae382ee5f2a"
       },
       "scales_metadata": {
        "color": {
         "dimension": "color"
        },
        "opacity": {
         "dimension": "opacity"
        },
        "rotation": {
         "dimension": "rotation"
        },
        "size": {
         "dimension": "size"
        },
        "skew": {
         "dimension": "skew"
        },
        "x": {
         "dimension": "x",
         "orientation": "horizontal"
        },
        "y": {
         "dimension": "y",
         "orientation": "vertical"
        }
       },
       "selected": [],
       "size": {
        "type": null,
        "values": null
       },
       "skew": {
        "type": null,
        "values": null
       },
       "stroke": "black",
       "tooltip": "IPY_MODEL_27c94a2bcbab4059ac3da55ffc4cde0f",
       "x": {
        "type": "float",
        "values": [
         0.771320643266746,
         0.6336482349262754,
         0.4985070123025904,
         0.19806286475962398,
         0.16911083656253545,
         0.6853598183677972
        ]
       },
       "y": {
        "type": "float",
        "values": [
         0.0207519493594015,
         0.7488038825386119,
         0.22479664553084766,
         0.7605307121989587,
         0.08833981417401027,
         0.9533933461949365
        ]
       }
      }
     },
     "351039b52a824bea8f0e536e9d173a66": {
      "model_module": "bqplot",
      "model_module_version": "^0.4.5",
      "model_name": "LinearScaleModel",
      "state": {
       "allow_padding": false,
       "max": 1,
       "min": 0,
       "stabilized": false
      }
     },
     "35257059585e468b8e06d33f7285c67c": {
      "model_module": "bqplot",
      "model_module_version": "^0.4.5",
      "model_name": "AxisModel",
      "state": {
       "scale": "IPY_MODEL_dcf53cc62bf242ff8b75d5da912d66d6",
       "side": "bottom",
       "tick_values": {
        "type": null,
        "values": null
       },
       "visible": false
      }
     },
     "3554e259ec8a467881dd44e0c688af5c": {
      "model_module": "@jupyter-widgets/controls",
      "model_module_version": "1.4.0",
      "model_name": "VBoxModel",
      "state": {
       "children": [
        "IPY_MODEL_a6d9ac21ee254876b36ac232bbc82f10",
        "IPY_MODEL_026c3787af69426a9ffd53b52c8f9d14"
       ],
       "layout": "IPY_MODEL_1377401360fa416180d82405aa427c85"
      }
     },
     "3584b25153cb4e86ae981a2cad7b5832": {
      "model_module": "bqplot",
      "model_module_version": "^0.4.5",
      "model_name": "FigureModel",
      "state": {
       "_dom_classes": [],
       "animation_duration": 1000,
       "axes": [
        "IPY_MODEL_cd20e587300f477ba3e2a3c55468bd9c",
        "IPY_MODEL_21036508e5e74bc3809f8dd6808b7236"
       ],
       "layout": "IPY_MODEL_307846dcc1cb487eb06bd90b54d1d3f8",
       "marks": [
        "IPY_MODEL_dfd922dd797d4b89bcc2fb303502d0c7",
        "IPY_MODEL_2443090976ac434d881e8421e36a3725"
       ],
       "scale_x": "IPY_MODEL_9c3bc2b078bb44ac83b63f0724f9dd0d",
       "scale_y": "IPY_MODEL_4eab2443f7524afa90c968c44c9815c1"
      }
     },
     "359888e5bbc0488db5a6106f1f418cd0": {
      "model_module": "bqplot",
      "model_module_version": "^0.4.5",
      "model_name": "AxisModel",
      "state": {
       "label": "Date",
       "scale": "IPY_MODEL_d041149d4c4940e7b6853246afa9ec51",
       "side": "bottom",
       "tick_values": {
        "type": null,
        "values": null
       }
      }
     },
     "359b4dfefa644de0b69c09f256f46a78": {
      "model_module": "bqplot",
      "model_module_version": "^0.4.5",
      "model_name": "LinesModel",
      "state": {
       "color": {
        "type": null,
        "values": null
       },
       "colors": [
        "black"
       ],
       "display_legend": false,
       "fill_colors": [],
       "labels": [
        "C1"
       ],
       "scales": {
        "x": "IPY_MODEL_8f922e86cf4646428737dd08d5dd487a",
        "y": "IPY_MODEL_ba02e3e6817e4576ac4580e42528de41"
       },
       "selected": [],
       "x": {
        "type": "float",
        "values": [
         1.2311893360787933,
         0.6838775462866998
        ]
       },
       "y": {
        "type": "float",
        "values": [
         0.6785452236610399,
         0.5342473347036941
        ]
       }
      }
     },
     "363d32d8f23847308c316fdb1320d5bd": {
      "model_module": "bqplot",
      "model_module_version": "^0.4.5",
      "model_name": "LinearScaleModel",
      "state": {
       "stabilized": false
      }
     },
     "365fb485a6e04d139712d288af037c66": {
      "model_module": "@jupyter-widgets/base",
      "model_module_version": "1.1.0",
      "model_name": "LayoutModel",
      "state": {
       "min_width": "125px"
      }
     },
     "366956411c7d484b96088b41d34f15cc": {
      "model_module": "bqplot",
      "model_module_version": "^0.4.5",
      "model_name": "LinearScaleModel",
      "state": {
       "allow_padding": false,
       "max": 1,
       "min": 0,
       "stabilized": false
      }
     },
     "36b444a9c8f94a06890615c90668fc51": {
      "model_module": "bqplot",
      "model_module_version": "^0.4.5",
      "model_name": "FigureModel",
      "state": {
       "_dom_classes": [],
       "animation_duration": 1000,
       "axes": [
        "IPY_MODEL_4a6fdc633f35402984038880e0d66f62",
        "IPY_MODEL_001d114d206a47b18f521f372f1c46da"
       ],
       "layout": "IPY_MODEL_78939414c4a24a32896db3bb63efcb82",
       "marks": [
        "IPY_MODEL_ab68bed957e44b659b735c660d7faee1"
       ],
       "scale_x": "IPY_MODEL_139a014d012048d7b6e39c48a29bd383",
       "scale_y": "IPY_MODEL_7fc83f64e5b4422cb6e2ef4900617aac"
      }
     },
     "36ee516e4a1e4e1bba30435676b41956": {
      "model_module": "bqplot",
      "model_module_version": "^0.4.5",
      "model_name": "LinearScaleModel",
      "state": {
       "allow_padding": false,
       "max": 1,
       "min": 0,
       "stabilized": false
      }
     },
     "374b66902e544b90954ef06f6d228129": {
      "model_module": "bqplot",
      "model_module_version": "^0.4.5",
      "model_name": "AxisModel",
      "state": {
       "scale": "IPY_MODEL_3ea41f17c5324997b3a55c64c249a49a",
       "side": "bottom",
       "tick_values": {
        "type": null,
        "values": null
       }
      }
     },
     "37a8aa48406849419ffa90c7e259e353": {
      "model_module": "bqplot",
      "model_module_version": "^0.4.5",
      "model_name": "FigureModel",
      "state": {
       "_dom_classes": [],
       "animation_duration": 1000,
       "axes": [
        "IPY_MODEL_b0f4942e9f6442a2a201bf30e2e24963",
        "IPY_MODEL_d7c4933a3f6749aeb9f5f3536c35ccb4"
       ],
       "layout": "IPY_MODEL_a9ec33722dc64f94b4c0acf5266a85f4",
       "marks": [
        "IPY_MODEL_c94e775c67d64856a04f1feaa04578cf",
        "IPY_MODEL_f05fc3748edd43daa47ad8fe9a6afee0"
       ],
       "scale_x": "IPY_MODEL_957c8fb98eec4dc28aa4ef1a019c8cc3",
       "scale_y": "IPY_MODEL_cd9ef2c8a8894af98a576e4bf0a61cf2"
      }
     },
     "37f2e0fa5a164917a35ceae5e43d3981": {
      "model_module": "bqplot",
      "model_module_version": "^0.4.5",
      "model_name": "AxisModel",
      "state": {
       "orientation": "vertical",
       "scale": "IPY_MODEL_095237bd54464b10adbc21c072027893",
       "side": "left",
       "tick_values": {
        "type": null,
        "values": null
       }
      }
     },
     "38addd3a6f404cc6871052f88ec0197e": {
      "model_module": "@jupyter-widgets/base",
      "model_module_version": "1.1.0",
      "model_name": "LayoutModel",
      "state": {
       "min_width": "125px"
      }
     },
     "394c9d4bf55c49a693b1e66be9496e91": {
      "model_module": "bqplot",
      "model_module_version": "^0.4.5",
      "model_name": "LinearScaleModel",
      "state": {
       "allow_padding": false,
       "max": 1,
       "min": 0,
       "stabilized": false
      }
     },
     "39d29bbf956044f29cd38e3a2fefc5d8": {
      "model_module": "bqplot",
      "model_module_version": "^0.4.5",
      "model_name": "LinearScaleModel",
      "state": {
       "allow_padding": false,
       "max": 1,
       "min": 0,
       "stabilized": false
      }
     },
     "3a0bf699f10a4d78b13fb5853ac41f51": {
      "model_module": "bqplot",
      "model_module_version": "^0.4.5",
      "model_name": "AxisModel",
      "state": {
       "scale": "IPY_MODEL_bee18f9cd3734eaebf301f68907832ab",
       "side": "bottom",
       "tick_values": {
        "type": null,
        "values": null
       }
      }
     },
     "3a4eb29cf6a34dbfbd43aea2b8b43417": {
      "model_module": "bqplot",
      "model_module_version": "^0.4.5",
      "model_name": "LinesModel",
      "state": {
       "color": {
        "type": null,
        "values": null
       },
       "colors": [
        "black"
       ],
       "display_legend": false,
       "fill_colors": [],
       "labels": [
        "C1"
       ],
       "scales": {
        "x": "IPY_MODEL_8f922e86cf4646428737dd08d5dd487a",
        "y": "IPY_MODEL_ba02e3e6817e4576ac4580e42528de41"
       },
       "selected": [],
       "x": {
        "type": "float",
        "values": [
         0.43020238893545215,
         0.22738068359095126
        ]
       },
       "y": {
        "type": "float",
        "values": [
         0.5502889056231901,
         0.7667443763710994
        ]
       }
      }
     },
     "3ab8a70b099d4eca978fab548cf622bf": {
      "model_module": "@jupyter-widgets/base",
      "model_module_version": "1.1.0",
      "model_name": "LayoutModel",
      "state": {
       "min_width": "125px"
      }
     },
     "3b4d0fbaa2874f21ab3a4d0eba3bc0de": {
      "model_module": "bqplot",
      "model_module_version": "^0.4.5",
      "model_name": "LinearScaleModel",
      "state": {
       "allow_padding": false,
       "max": 1,
       "min": 0,
       "stabilized": false
      }
     },
     "3bd20c037877457b815c3bac7b5d8185": {
      "model_module": "bqplot",
      "model_module_version": "^0.4.5",
      "model_name": "AxisModel",
      "state": {
       "orientation": "vertical",
       "scale": "IPY_MODEL_d4a3961b79d147aba8bd4cd5e2709069",
       "side": "left",
       "tick_values": {
        "type": null,
        "values": null
       }
      }
     },
     "3c08e8eedb7e4ceb82e0a1daee46d93c": {
      "model_module": "bqplot",
      "model_module_version": "^0.4.5",
      "model_name": "FigureModel",
      "state": {
       "_dom_classes": [],
       "animation_duration": 1000,
       "axes": [
        "IPY_MODEL_f88a0d403f53472fb333c5e3e35c3db0",
        "IPY_MODEL_790e30dd28524196b1249c06015f6c07"
       ],
       "layout": "IPY_MODEL_8e278912cada4908959bfbfa0706830b",
       "marks": [
        "IPY_MODEL_73c324f0d41c44938e0f6f3705d01f0d",
        "IPY_MODEL_34f8933484fa412f88f39779997131b2"
       ],
       "scale_x": "IPY_MODEL_39d29bbf956044f29cd38e3a2fefc5d8",
       "scale_y": "IPY_MODEL_4ef18271239d481cbe746c646d1c00cb"
      }
     },
     "3c8bac18e1e946fca591ed430fefb276": {
      "model_module": "bqplot",
      "model_module_version": "^0.4.5",
      "model_name": "LinearScaleModel",
      "state": {
       "stabilized": false
      }
     },
     "3ca241d3ac0945568dabdbc032bee083": {
      "model_module": "bqplot",
      "model_module_version": "^0.4.5",
      "model_name": "AxisModel",
      "state": {
       "label": "Date",
       "scale": "IPY_MODEL_1727291e2db04d208a233e10735f9dbe",
       "side": "bottom",
       "tick_values": {
        "type": null,
        "values": null
       }
      }
     },
     "3d591b4e6b8140c3b5313da1debaff38": {
      "model_module": "bqplot",
      "model_module_version": "^0.4.5",
      "model_name": "LinearScaleModel",
      "state": {
       "allow_padding": false,
       "max": 1,
       "min": 0,
       "stabilized": false
      }
     },
     "3dbdee6a677042158c16741ae01e498a": {
      "model_module": "bqplot",
      "model_module_version": "^0.4.5",
      "model_name": "LinesModel",
      "state": {
       "color": {
        "type": null,
        "values": null
       },
       "colors": [
        "black"
       ],
       "display_legend": false,
       "fill_colors": [],
       "labels": [
        "C1"
       ],
       "scales": {
        "x": "IPY_MODEL_2a6aca56c2d14e61beef14fd6a225877",
        "y": "IPY_MODEL_6aebc1b7d022462ea4ac7b8228d301a8"
       },
       "selected": [],
       "x": {
        "type": "float",
        "values": [
         0.22738068359095126,
         0.8368019646982289
        ]
       },
       "y": {
        "type": "float",
        "values": [
         0.7667443763710994,
         0.2219913829992549
        ]
       }
      }
     },
     "3df4cba7625a4cbb9a279d70389a6caa": {
      "model_module": "bqplot",
      "model_module_version": "^0.4.5",
      "model_name": "AxisModel",
      "state": {
       "scale": "IPY_MODEL_abee6e2b2caa4769b78f09c175bd96c5",
       "side": "bottom",
       "tick_values": {
        "type": null,
        "values": null
       },
       "visible": false
      }
     },
     "3e9ae202fbc14310af90dcc2f0455172": {
      "model_module": "bqplot",
      "model_module_version": "^0.4.5",
      "model_name": "AxisModel",
      "state": {
       "scale": "IPY_MODEL_5290da42427d460aa2c684cd4a0054f4",
       "side": "bottom",
       "tick_values": {
        "type": null,
        "values": null
       }
      }
     },
     "3ea41f17c5324997b3a55c64c249a49a": {
      "model_module": "bqplot",
      "model_module_version": "^0.4.5",
      "model_name": "LinearScaleModel",
      "state": {
       "stabilized": false
      }
     },
     "3ef5b5f2e1fe44b98a3c1329a14a37ff": {
      "model_module": "bqplot",
      "model_module_version": "^0.4.5",
      "model_name": "LinesModel",
      "state": {
       "close_path": true,
       "color": {
        "type": null,
        "values": null
       },
       "display_legend": false,
       "fill": "inside",
       "fill_colors": [
        "orange",
        "blue",
        "red"
       ],
       "labels": [
        "C1",
        "C2",
        "C3",
        "C4",
        "C5",
        "C6",
        "C7",
        "C8",
        "C9",
        "C10",
        "C11",
        "C12",
        "C13",
        "C14",
        "C15",
        "C16",
        "C17",
        "C18",
        "C19",
        "C20",
        "C21",
        "C22",
        "C23",
        "C24",
        "C25",
        "C26",
        "C27",
        "C28",
        "C29",
        "C30",
        "C31",
        "C32",
        "C33",
        "C34",
        "C35",
        "C36",
        "C37",
        "C38",
        "C39",
        "C40",
        "C41",
        "C42",
        "C43",
        "C44",
        "C45",
        "C46",
        "C47",
        "C48",
        "C49",
        "C50",
        "C51",
        "C52",
        "C53",
        "C54",
        "C55",
        "C56",
        "C57",
        "C58",
        "C59",
        "C60",
        "C61",
        "C62",
        "C63",
        "C64",
        "C65",
        "C66",
        "C67",
        "C68",
        "C69",
        "C70",
        "C71",
        "C72",
        "C73",
        "C74",
        "C75",
        "C76",
        "C77",
        "C78",
        "C79",
        "C80",
        "C81",
        "C82",
        "C83",
        "C84",
        "C85",
        "C86",
        "C87",
        "C88",
        "C89"
       ],
       "scales": {
        "x": "IPY_MODEL_1b9b1d681a2e42ffb517cbafccdd8f08",
        "y": "IPY_MODEL_970d4a331d6142828191d056c05be890"
       },
       "selected": [],
       "stroke_width": 1,
       "tooltip": "IPY_MODEL_99575a00246640449d6a743bf97fd125",
       "x": {
        "type": "object",
        "values": [
         [
          -0.08475255245909073,
          0.05996367321148319,
          0.08479322651163212,
          0.05995157333505969
         ],
         [
          0.8922615808363101,
          0.9484974881532601,
          1.0239771911803062,
          0.9248738133821013
         ],
         [
          0.7826123297616694,
          0.5860766963396512,
          0.5537235568411509,
          0.7436386117536268
         ],
         [
          0.17765909719740863,
          0.21650059679839287,
          0.1566239907650207,
          0.1552441098754926,
          0.1271638945344281
         ],
         [
          0.8958729363977855,
          0.9025114453381056,
          3.7254727548007427,
          1.303489620089487,
          0.936997956036985
         ],
         [
          0.6894979865685824,
          0.6796363156123174,
          0.5407313810836678,
          0.5799455851411179
         ],
         [
          0.1671225413659981,
          0.0808544173481181,
          0.05995157333505969,
          0.08479322651163212,
          0.11362353230857873
         ],
         [
          0.7549312571304825,
          0.8369463236034708,
          0.8922615808363101,
          0.9248738133821013,
          0.8599618954914474,
          0.7616680727815712
         ],
         [
          0.32606350501054976,
          0.3654306665415356,
          0.4858904348533996,
          0.442543263660364,
          0.3664561062146867
         ],
         [
          0.3520617134062079,
          0.44763325809529253,
          0.5095771494014502,
          0.442543263660364,
          0.3664561062146867
         ],
         [
          0.32606350501054976,
          0.3654306665415356,
          0.19839889654454215,
          0.17765909719740863,
          0.21650059679839287,
          0.2695248325435307
         ],
         [
          0.8844761822970881,
          0.936997956036985,
          1.303489620089487,
          0.9728074978146745,
          0.8911378732215105
         ],
         [
          0.2791442374766947,
          0.2229997144601798,
          0.2333529203899401,
          0.28055530091993486,
          0.3319212309666195,
          0.3311547349960527,
          0.29136386167098083
         ],
         [
          0.17648291232270985,
          0.2229997144601798,
          0.2333529203899401,
          0.1671225413659981,
          0.11362353230857873,
          0.1409855013646931
         ],
         [
          0.07095062550864997,
          0.056144536431563516,
          0.05996367321148319,
          0.08479322651163212,
          0.11362353230857873,
          0.1409855013646931
         ],
         [
          0.05655007723232634,
          -0.02324519529831473,
          -0.09305334874494212,
          0.056144536431563516,
          0.07095062550864997
         ],
         [
          0.13667936712823156,
          0.05655007723232634,
          0.07095062550864997,
          0.1409855013646931,
          0.17648291232270985,
          0.1735852467022309
         ],
         [
          0.7447345469272995,
          0.7616680727815712,
          0.8599618954914474,
          0.8518854947309326,
          0.8429504147257009,
          0.7744128193462205
         ],
         [
          0.6709186387390527,
          0.7156947871151625,
          0.7447345469272995,
          0.7616680727815712,
          0.7549312571304825,
          0.7251218009192109
         ],
         [
          0.8757336212707671,
          0.9423394792843589,
          0.9565291478195775,
          0.9014301289553135
         ],
         [
          0.9014301289553135,
          1.3244007962918452,
          1.8325616329645324,
          1.02982616672276,
          0.9565291478195775
         ],
         [
          0.9423394792843589,
          0.9421276079766667,
          1.02982616672276,
          0.9565291478195775
         ],
         [
          0.8757336212707671,
          0.8518854947309326,
          0.8429504147257009,
          0.785830720920853,
          0.801422360248676,
          0.9421276079766667,
          0.9423394792843589
         ],
         [
          0.8757336212707671,
          0.8518854947309326,
          0.8599618954914474,
          0.9248738133821013,
          1.0239771911803062,
          1.3244007962918452,
          0.9014301289553135
         ],
         [
          0.8541317747866634,
          0.7859138685880834,
          0.789965608949285,
          0.8401791254796137
         ],
         [
          0.8401791254796137,
          0.8892737740604402,
          0.8644922753139983,
          0.7298737677352258,
          0.7183722051991415,
          0.789965608949285
         ],
         [
          0.8541317747866634,
          0.8844761822970881,
          0.936997956036985,
          0.8958729363977855,
          0.8892737740604402,
          0.8401791254796137
         ],
         [
          0.7048678804266107,
          0.6631642732553857,
          0.6854600075030313,
          0.7717160432897252,
          0.7728842983270414,
          0.7814164182655865,
          0.7734494984340863,
          0.7169374798008875
         ],
         [
          0.6631642732553857,
          0.5681058918982578,
          0.576620155923006,
          0.619313591747615,
          0.6721261719859388,
          0.6854600075030313
         ],
         [
          0.7717160432897252,
          0.7859138685880834,
          0.789965608949285,
          0.7183722051991415,
          0.6721261719859388,
          0.6854600075030313
         ],
         [
          0.7728842983270414,
          0.8911378732215105,
          0.8844761822970881,
          0.8541317747866634,
          0.7859138685880834,
          0.7717160432897252
         ],
         [
          0.7814164182655865,
          0.9529268869895049,
          0.9728074978146745,
          0.8911378732215105,
          0.7728842983270414
         ],
         [
          0.7169374798008875,
          0.6904495102029342,
          0.6671021048905704,
          0.7251218009192109,
          0.7549312571304825,
          0.8369463236034708,
          0.7734494984340863
         ],
         [
          0.7814164182655865,
          0.9529268869895049,
          0.9484974881532601,
          0.8922615808363101,
          0.8369463236034708,
          0.7734494984340863
         ],
         [
          0.5297607660948835,
          0.5681058918982578,
          0.576620155923006,
          0.5640000795312106,
          0.5086191613034009
         ],
         [
          0.33933317272714597,
          0.28055530091993486,
          0.3319212309666195,
          0.42031053233311066
         ],
         [
          0.33933317272714597,
          0.28055530091993486,
          0.2333529203899401,
          0.1671225413659981,
          0.0808544173481181,
          0.010321678871761025,
          0.34157344385192684,
          0.34221769905311594
         ],
         [
          0.10333495561836159,
          0.04760604640978913,
          -0.04625587478358112,
          -0.39226000203974826,
          -1.7789473680243528,
          -0.09305334874494212,
          -0.02324519529831473,
          -0.0005457419939594588
         ],
         [
          0.19475412499205588,
          0.1735852467022309,
          0.17648291232270985,
          0.2229997144601798,
          0.2791442374766947,
          0.291091225069642,
          0.25105593314521024,
          0.2140083514416948
         ],
         [
          0.5366240358606154,
          0.7048678804266107,
          0.7169374798008875,
          0.6904495102029342,
          0.5428787745126074
         ],
         [
          0.5274599245815067,
          0.5297607660948835,
          0.5681058918982578,
          0.6631642732553857,
          0.7048678804266107,
          0.5366240358606154
         ],
         [
          0.701124545722612,
          0.7036389883440564,
          0.6182403792723945,
          0.6646145197870538
         ],
         [
          0.6646145197870538,
          0.785830720920853,
          0.801422360248676,
          0.7826123297616694,
          0.5860766963396512,
          0.5916533082236889,
          0.6182403792723945
         ],
         [
          0.701124545722612,
          0.7744128193462205,
          0.7447345469272995,
          0.7156947871151625,
          0.7036389883440564
         ],
         [
          0.701124545722612,
          0.7744128193462205,
          0.8429504147257009,
          0.785830720920853,
          0.6646145197870538
         ],
         [
          0.5470067628086378,
          0.5477820176509163,
          0.5553265773930277,
          0.6200078432886269,
          0.6302899336424557,
          0.5636341839045399
         ],
         [
          0.6302899336424557,
          0.6709186387390527,
          0.7251218009192109,
          0.6671021048905704,
          0.6200078432886269
         ],
         [
          0.5553265773930277,
          0.5242973002939889,
          0.5428787745126074,
          0.6904495102029342,
          0.6671021048905704,
          0.6200078432886269
         ],
         [
          0.5470067628086378,
          0.5095771494014502,
          0.44763325809529253,
          0.48942986971702956,
          0.522867036202907,
          0.5477820176509163
         ],
         [
          0.5636341839045399,
          0.5916533082236889,
          0.6182403792723945,
          0.7036389883440564,
          0.7156947871151625,
          0.6709186387390527,
          0.6302899336424557
         ],
         [
          0.5470067628086378,
          0.5095771494014502,
          0.442543263660364,
          0.4858904348533996,
          0.5537235568411509,
          0.5860766963396512,
          0.5916533082236889,
          0.5636341839045399
         ],
         [
          0.5964126211383934,
          0.619313591747615,
          0.576620155923006,
          0.5640000795312106,
          0.5214422698732747
         ],
         [
          0.4972937373557724,
          0.5086191613034009,
          0.5640000795312106,
          0.5214422698732747
         ],
         [
          0.16506419872830538,
          0.17721576125534005,
          0.1695141925197683,
          0.1507729848388969,
          0.12016844646865305,
          0.14036078719250036
         ],
         [
          0.17721576125534005,
          0.2140083514416948,
          0.25105593314521024,
          0.1695141925197683
         ],
         [
          0.12016844646865305,
          -0.0005457419939594588,
          0.10333495561836159,
          0.15053204889866073,
          0.15452095643035138,
          0.1507729848388969
         ],
         [
          0.14036078719250036,
          0.13667936712823156,
          0.05655007723232634,
          -0.02324519529831473,
          -0.0005457419939594588,
          0.12016844646865305
         ],
         [
          0.16506419872830538,
          0.19475412499205588,
          0.2140083514416948,
          0.17721576125534005
         ],
         [
          0.16506419872830538,
          0.19475412499205588,
          0.1735852467022309,
          0.13667936712823156,
          0.14036078719250036
         ],
         [
          0.4605730717345083,
          0.48942986971702956,
          0.522867036202907,
          0.4703456141659566
         ],
         [
          0.30312719685986156,
          0.34597676713144443,
          0.4532308777519833,
          0.4783054380385875,
          0.42827364718111444,
          0.36145620663848865,
          0.35129906105930825,
          0.3099005352519825,
          0.2960651180774041
         ],
         [
          0.4783054380385875,
          0.5242973002939889,
          0.5553265773930277,
          0.5477820176509163,
          0.522867036202907,
          0.4703456141659566,
          0.4375923516362236,
          0.4532308777519833
         ],
         [
          0.34597676713144443,
          0.39033700114917896,
          0.4375923516362236,
          0.4532308777519833
         ],
         [
          0.42827364718111444,
          0.47032905822515186,
          0.5274599245815067,
          0.5366240358606154,
          0.5428787745126074,
          0.5242973002939889,
          0.4783054380385875
         ],
         [
          0.2960651180774041,
          0.15452095643035138,
          0.1507729848388969,
          0.1695141925197683,
          0.25105593314521024,
          0.291091225069642,
          0.3099005352519825
         ],
         [
          0.35129906105930825,
          0.36662579097945813,
          0.29136386167098083,
          0.2791442374766947,
          0.291091225069642,
          0.3099005352519825
         ],
         [
          0.4848580727969724,
          0.5895224762949374,
          0.566546369174203,
          0.4963353142060988
         ],
         [
          0.5895224762949374,
          0.5964126211383934,
          0.619313591747615,
          0.6721261719859388,
          0.7183722051991415,
          0.7298737677352258,
          0.6894979865685824,
          0.5799455851411179,
          0.566546369174203
         ],
         [
          0.4963353142060988,
          0.34221769905311594,
          0.34157344385192684,
          0.5407313810836678,
          0.5799455851411179,
          0.566546369174203
         ],
         [
          0.4848580727969724,
          0.4521549564191969,
          0.4566809954174328,
          0.4972937373557724,
          0.5214422698732747,
          0.5964126211383934,
          0.5895224762949374
         ],
         [
          0.4848580727969724,
          0.4521549564191969,
          0.42031053233311066,
          0.33933317272714597,
          0.34221769905311594,
          0.4963353142060988
         ],
         [
          0.44216205566498235,
          0.38914220788535414,
          0.37894569470583306,
          0.39159600729095523,
          0.4315829045308878
         ],
         [
          0.38914220788535414,
          0.36145620663848865,
          0.35129906105930825,
          0.36662579097945813,
          0.37894569470583306
         ],
         [
          0.39159600729095523,
          0.3311547349960527,
          0.29136386167098083,
          0.36662579097945813,
          0.37894569470583306
         ],
         [
          0.44216205566498235,
          0.47032905822515186,
          0.42827364718111444,
          0.36145620663848865,
          0.38914220788535414
         ],
         [
          0.4315829045308878,
          0.4566809954174328,
          0.4521549564191969,
          0.42031053233311066,
          0.3319212309666195,
          0.3311547349960527,
          0.39159600729095523
         ],
         [
          0.44216205566498235,
          0.47032905822515186,
          0.5274599245815067,
          0.5297607660948835,
          0.5086191613034009,
          0.4972937373557724,
          0.4566809954174328,
          0.4315829045308878
         ],
         [
          0.2963056260082066,
          0.2758845865743852,
          0.290488628167884,
          0.3801911569000378,
          0.3782918917747366,
          0.35181930886404145,
          0.3284976395205213
         ],
         [
          0.3801911569000378,
          0.39033700114917896,
          0.34597676713144443,
          0.30312719685986156,
          0.290488628167884
         ],
         [
          0.3801911569000378,
          0.39033700114917896,
          0.4375923516362236,
          0.4703456141659566,
          0.4605730717345083,
          0.3782918917747366
         ],
         [
          0.35181930886404145,
          0.3520617134062079,
          0.44763325809529253,
          0.48942986971702956,
          0.4605730717345083,
          0.3782918917747366
         ],
         [
          0.3284976395205213,
          0.2695248325435307,
          0.32606350501054976,
          0.3664561062146867,
          0.3520617134062079,
          0.35181930886404145
         ],
         [
          0.25749109839409895,
          0.21267926962347788,
          0.18993022694083767,
          0.15260836072302839,
          0.1601661297401958,
          0.19131887276363133
         ],
         [
          0.15260836072302839,
          0.04760604640978913,
          0.10333495561836159,
          0.15053204889866073,
          0.18993022694083767
         ],
         [
          0.21267926962347788,
          0.2758845865743852,
          0.290488628167884,
          0.30312719685986156,
          0.2960651180774041,
          0.15452095643035138,
          0.15053204889866073,
          0.18993022694083767
         ],
         [
          0.25749109839409895,
          0.2963056260082066,
          0.2758845865743852,
          0.21267926962347788
         ],
         [
          0.1601661297401958,
          -0.04625587478358112,
          0.04760604640978913,
          0.15260836072302839
         ],
         [
          0.19131887276363133,
          0.1566239907650207,
          0.1552441098754926,
          -0.39226000203974826,
          -0.04625587478358112,
          0.1601661297401958
         ],
         [
          0.25749109839409895,
          0.2963056260082066,
          0.3284976395205213,
          0.2695248325435307,
          0.21650059679839287,
          0.1566239907650207,
          0.19131887276363133
         ]
        ]
       },
       "y": {
        "type": "object",
        "values": [
         [
          0.18766431216864535,
          0.21527102341507598,
          0.20046932988757732,
          0.1194803976086593
         ],
         [
          0.6868518466109428,
          0.5094704930413251,
          0.7165458345627486,
          0.7184602714731044
         ],
         [
          1.8922301144088802,
          0.8967030635235811,
          0.9285927594555251,
          9.080515652644772
         ],
         [
          1.0454818206669554,
          0.8964747041044363,
          0.8376082780480106,
          0.8381631508354757,
          0.8886984395238302
         ],
         [
          0.11172678228221458,
          0.11016256913183203,
          0.22706467021620985,
          0.3576663780475622,
          0.19413373564767408
         ],
         [
          0.04860075706480346,
          -0.3581431095198661,
          0.049568673630367696,
          0.09173586509883759
         ],
         [
          0.1722183383016177,
          -0.07901055705348747,
          0.1194803976086593,
          0.20046932988757732,
          0.20520922900059238
         ],
         [
          0.7019195682692153,
          0.6603252712722206,
          0.6868518466109428,
          0.7184602714731044,
          0.8402217323191642,
          0.7344849729730747
         ],
         [
          0.9613190256159994,
          1.1775730858911575,
          0.9549678365504611,
          0.8913140982878146,
          0.8970546364447082
         ],
         [
          0.7484957085719692,
          0.7717007454329576,
          0.8082006063944445,
          0.8913140982878146,
          0.8970546364447082
         ],
         [
          0.9613190256159994,
          1.1775730858911575,
          4.982895881976411,
          1.0454818206669554,
          0.8964747041044363,
          0.9242822386210425
         ],
         [
          0.2771803893538775,
          0.19413373564767408,
          0.3576663780475622,
          0.4119712958896557,
          0.3033889194259604
         ],
         [
          0.3238873693846753,
          0.29148470160424356,
          0.17593003600410642,
          0.14469039984150253,
          0.24990801641289362,
          0.26959722658301405,
          0.3137062708979666
         ],
         [
          0.30394314189934274,
          0.29148470160424356,
          0.17593003600410642,
          0.1722183383016177,
          0.20520922900059238,
          0.27207049270978617
         ],
         [
          0.3085511341833507,
          0.23058334950142662,
          0.21527102341507598,
          0.20046932988757732,
          0.20520922900059238,
          0.27207049270978617
         ],
         [
          0.3431072560593489,
          0.3957228384668044,
          0.39725019822092095,
          0.23058334950142662,
          0.3085511341833507
         ],
         [
          0.34962855420619454,
          0.3431072560593489,
          0.3085511341833507,
          0.27207049270978617,
          0.30394314189934274,
          0.3100059779332992
         ],
         [
          0.8216202073292638,
          0.7344849729730747,
          0.8402217323191642,
          0.8657456469260267,
          0.8732042889870765,
          0.8479268089004451
         ],
         [
          0.7673468451756451,
          0.8144101760630202,
          0.8216202073292638,
          0.7344849729730747,
          0.7019195682692153,
          0.6991242806345185
         ],
         [
          0.8735922478824225,
          0.9696878618956105,
          0.9170251339517272,
          0.880160391287594
         ],
         [
          0.880160391287594,
          0.7604922534623879,
          0.8007297533052902,
          0.9314918412571357,
          0.9170251339517272
         ],
         [
          0.9696878618956105,
          1.001192592188652,
          0.9314918412571357,
          0.9170251339517272
         ],
         [
          0.8735922478824225,
          0.8657456469260267,
          0.8732042889870765,
          1.0859796319724686,
          1.247079160396166,
          1.001192592188652,
          0.9696878618956105
         ],
         [
          0.8735922478824225,
          0.8657456469260267,
          0.8402217323191642,
          0.7184602714731044,
          0.7165458345627486,
          0.7604922534623879,
          0.880160391287594
         ],
         [
          0.24205285536871227,
          0.27599855080035385,
          0.21108377925102728,
          0.2147733196050809
         ],
         [
          0.2147733196050809,
          0.10984248903153968,
          0.08737940042812475,
          0.1011437071253222,
          0.17238634089536212,
          0.21108377925102728
         ],
         [
          0.24205285536871227,
          0.2771803893538775,
          0.19413373564767408,
          0.11172678228221458,
          0.10984248903153968,
          0.2147733196050809
         ],
         [
          0.467726445447311,
          0.3541803069655101,
          0.26824168218044814,
          0.3046083008151902,
          0.30610446546143244,
          0.4785102256398476,
          0.4838743117569385,
          0.48605425325409496
         ],
         [
          0.3541803069655101,
          0.3444875255485018,
          0.29571490100449,
          0.22570350965524086,
          0.23192857621009208,
          0.26824168218044814
         ],
         [
          0.3046083008151902,
          0.27599855080035385,
          0.21108377925102728,
          0.17238634089536212,
          0.23192857621009208,
          0.26824168218044814
         ],
         [
          0.30610446546143244,
          0.3033889194259604,
          0.2771803893538775,
          0.24205285536871227,
          0.27599855080035385,
          0.3046083008151902
         ],
         [
          0.4785102256398476,
          0.42658719064026895,
          0.4119712958896557,
          0.3033889194259604,
          0.30610446546143244
         ],
         [
          0.48605425325409496,
          0.5092483320350483,
          0.6363753904287199,
          0.6991242806345185,
          0.7019195682692153,
          0.6603252712722206,
          0.4838743117569385
         ],
         [
          0.4785102256398476,
          0.42658719064026895,
          0.5094704930413251,
          0.6868518466109428,
          0.6603252712722206,
          0.4838743117569385
         ],
         [
          0.37057517751831476,
          0.3444875255485018,
          0.29571490100449,
          0.29117974126706186,
          0.2821610834105058
         ],
         [
          0.035756405969484026,
          0.14469039984150253,
          0.24990801641289362,
          0.20430592009960438
         ],
         [
          0.035756405969484026,
          0.14469039984150253,
          0.17593003600410642,
          0.1722183383016177,
          -0.07901055705348747,
          -1.0446450770919942,
          0.010092086317784826,
          0.02055230592172938
         ],
         [
          0.5237154036894824,
          0.5971900444033128,
          0.6356589983148537,
          0.688490771421261,
          0.6582838271180349,
          0.39725019822092095,
          0.3957228384668044,
          0.4068044484925284
         ],
         [
          0.37118631712933614,
          0.3100059779332992,
          0.30394314189934274,
          0.29148470160424356,
          0.3238873693846753,
          0.4083810612903426,
          0.40715830347643817,
          0.39144951626646507
         ],
         [
          0.39020272720305593,
          0.467726445447311,
          0.48605425325409496,
          0.5092483320350483,
          0.52873243696096
         ],
         [
          0.3739717115854233,
          0.37057517751831476,
          0.3444875255485018,
          0.3541803069655101,
          0.467726445447311,
          0.39020272720305593
         ],
         [
          0.8927480562390957,
          0.8272332178847879,
          0.8954848047986568,
          0.9228324518455797
         ],
         [
          0.9228324518455797,
          1.0859796319724686,
          1.247079160396166,
          1.8922301144088802,
          0.8967030635235811,
          0.8877704180284818,
          0.8954848047986568
         ],
         [
          0.8927480562390957,
          0.8479268089004451,
          0.8216202073292638,
          0.8144101760630202,
          0.8272332178847879
         ],
         [
          0.8927480562390957,
          0.8479268089004451,
          0.8732042889870765,
          1.0859796319724686,
          0.9228324518455797
         ],
         [
          0.809941745848387,
          0.6679792001868494,
          0.6586657461542196,
          0.6610534418697956,
          0.7729074066766817,
          0.8193116546871726
         ],
         [
          0.7729074066766817,
          0.7673468451756451,
          0.6991242806345185,
          0.6363753904287199,
          0.6610534418697956
         ],
         [
          0.6586657461542196,
          0.5402388654119852,
          0.52873243696096,
          0.5092483320350483,
          0.6363753904287199,
          0.6610534418697956
         ],
         [
          0.809941745848387,
          0.8082006063944445,
          0.7717007454329576,
          0.6882430887844456,
          0.6709070286227734,
          0.6679792001868494
         ],
         [
          0.8193116546871726,
          0.8877704180284818,
          0.8954848047986568,
          0.8272332178847879,
          0.8144101760630202,
          0.7673468451756451,
          0.7729074066766817
         ],
         [
          0.809941745848387,
          0.8082006063944445,
          0.8913140982878146,
          0.9549678365504611,
          0.9285927594555251,
          0.8967030635235811,
          0.8877704180284818,
          0.8193116546871726
         ],
         [
          0.21142628282008555,
          0.22570350965524086,
          0.29571490100449,
          0.29117974126706186,
          0.2523203179283004
         ],
         [
          0.2616604422629263,
          0.2821610834105058,
          0.29117974126706186,
          0.2523203179283004
         ],
         [
          0.3878572880016299,
          0.40128311247164994,
          0.44448474355667533,
          0.4634667433048437,
          0.4261828840691094,
          0.37801791295867226
         ],
         [
          0.40128311247164994,
          0.39144951626646507,
          0.40715830347643817,
          0.44448474355667533
         ],
         [
          0.4261828840691094,
          0.4068044484925284,
          0.5237154036894824,
          0.5048311265942593,
          0.49903492617112294,
          0.4634667433048437
         ],
         [
          0.37801791295867226,
          0.34962855420619454,
          0.3431072560593489,
          0.3957228384668044,
          0.4068044484925284,
          0.4261828840691094
         ],
         [
          0.3878572880016299,
          0.37118631712933614,
          0.39144951626646507,
          0.40128311247164994
         ],
         [
          0.3878572880016299,
          0.37118631712933614,
          0.3100059779332992,
          0.34962855420619454,
          0.37801791295867226
         ],
         [
          0.6773773209751246,
          0.6882430887844456,
          0.6709070286227734,
          0.641313448349839
         ],
         [
          0.5211116223211779,
          0.5352455910193442,
          0.5549061305866,
          0.5377512633017318,
          0.424981944864984,
          0.4210175224151471,
          0.42233558857231257,
          0.43320563724699845,
          0.49627856394354064
         ],
         [
          0.5377512633017318,
          0.5402388654119852,
          0.6586657461542196,
          0.6679792001868494,
          0.6709070286227734,
          0.641313448349839,
          0.6002678912229196,
          0.5549061305866
         ],
         [
          0.5352455910193442,
          0.6579497001675114,
          0.6002678912229196,
          0.5549061305866
         ],
         [
          0.424981944864984,
          0.3797539669887341,
          0.3739717115854233,
          0.39020272720305593,
          0.52873243696096,
          0.5402388654119852,
          0.5377512633017318
         ],
         [
          0.49627856394354064,
          0.49903492617112294,
          0.4634667433048437,
          0.44448474355667533,
          0.40715830347643817,
          0.4083810612903426,
          0.43320563724699845
         ],
         [
          0.42233558857231257,
          0.3331919091805511,
          0.3137062708979666,
          0.3238873693846753,
          0.4083810612903426,
          0.43320563724699845
         ],
         [
          0.192555381191076,
          0.20143039455042958,
          0.12174245284796215,
          0.134416745199609
         ],
         [
          0.20143039455042958,
          0.21142628282008555,
          0.22570350965524086,
          0.23192857621009208,
          0.17238634089536212,
          0.1011437071253222,
          0.04860075706480346,
          0.09173586509883759,
          0.12174245284796215
         ],
         [
          0.134416745199609,
          0.02055230592172938,
          0.010092086317784826,
          0.049568673630367696,
          0.09173586509883759,
          0.12174245284796215
         ],
         [
          0.192555381191076,
          0.22837908151214426,
          0.24686423413890973,
          0.2616604422629263,
          0.2523203179283004,
          0.21142628282008555,
          0.20143039455042958
         ],
         [
          0.192555381191076,
          0.22837908151214426,
          0.20430592009960438,
          0.035756405969484026,
          0.02055230592172938,
          0.134416745199609
         ],
         [
          0.3268257041360094,
          0.34906461030245395,
          0.32452628856155175,
          0.2931696138298367,
          0.28946007935453993
         ],
         [
          0.34906461030245395,
          0.4210175224151471,
          0.42233558857231257,
          0.3331919091805511,
          0.32452628856155175
         ],
         [
          0.2931696138298367,
          0.26959722658301405,
          0.3137062708979666,
          0.3331919091805511,
          0.32452628856155175
         ],
         [
          0.3268257041360094,
          0.3797539669887341,
          0.424981944864984,
          0.4210175224151471,
          0.34906461030245395
         ],
         [
          0.28946007935453993,
          0.24686423413890973,
          0.22837908151214426,
          0.20430592009960438,
          0.24990801641289362,
          0.26959722658301405,
          0.2931696138298367
         ],
         [
          0.3268257041360094,
          0.3797539669887341,
          0.3739717115854233,
          0.37057517751831476,
          0.2821610834105058,
          0.2616604422629263,
          0.24686423413890973,
          0.28946007935453993
         ],
         [
          0.7428207593708316,
          0.572826212514801,
          0.5559849359221616,
          0.6744095866684889,
          0.6853851357929981,
          0.7482526560874929,
          0.7468264727742786
         ],
         [
          0.6744095866684889,
          0.6579497001675114,
          0.5352455910193442,
          0.5211116223211779,
          0.5559849359221616
         ],
         [
          0.6744095866684889,
          0.6579497001675114,
          0.6002678912229196,
          0.641313448349839,
          0.6773773209751246,
          0.6853851357929981
         ],
         [
          0.7482526560874929,
          0.7484957085719692,
          0.7717007454329576,
          0.6882430887844456,
          0.6773773209751246,
          0.6853851357929981
         ],
         [
          0.7468264727742786,
          0.9242822386210425,
          0.9613190256159994,
          0.8970546364447082,
          0.7484957085719692,
          0.7482526560874929
         ],
         [
          0.7486326693949722,
          0.6018216028805788,
          0.5998268867262594,
          0.6285049324381569,
          0.7277908930375016,
          0.7777733040655163
         ],
         [
          0.6285049324381569,
          0.5971900444033128,
          0.5237154036894824,
          0.5048311265942593,
          0.5998268867262594
         ],
         [
          0.6018216028805788,
          0.572826212514801,
          0.5559849359221616,
          0.5211116223211779,
          0.49627856394354064,
          0.49903492617112294,
          0.5048311265942593,
          0.5998268867262594
         ],
         [
          0.7486326693949722,
          0.7428207593708316,
          0.572826212514801,
          0.6018216028805788
         ],
         [
          0.7277908930375016,
          0.6356589983148537,
          0.5971900444033128,
          0.6285049324381569
         ],
         [
          0.7777733040655163,
          0.8376082780480106,
          0.8381631508354757,
          0.688490771421261,
          0.6356589983148537,
          0.7277908930375016
         ],
         [
          0.7486326693949722,
          0.7428207593708316,
          0.7468264727742786,
          0.9242822386210425,
          0.8964747041044363,
          0.8376082780480106,
          0.7777733040655163
         ]
        ]
       }
      }
     },
     "3f06b267c4c04f67aae595095a2e329c": {
      "model_module": "@jupyter-widgets/base",
      "model_module_version": "1.1.0",
      "model_name": "LayoutModel",
      "state": {
       "min_width": "125px"
      }
     },
     "3f07bf46f7e844a58ca7efdd0230254d": {
      "model_module": "bqplot",
      "model_module_version": "^0.4.5",
      "model_name": "LinearScaleModel",
      "state": {
       "max": 1,
       "min": 0,
       "stabilized": false
      }
     },
     "3f2c2d06920b4d9aaabaee3bca2ac49b": {
      "model_module": "bqplot",
      "model_module_version": "^0.4.5",
      "model_name": "AxisModel",
      "state": {
       "scale": "IPY_MODEL_2fcc034ce92f407e946937aed98e17c4",
       "side": "bottom",
       "tick_values": {
        "type": null,
        "values": null
       }
      }
     },
     "402310f6980549f788adee81efa9e832": {
      "model_module": "bqplot",
      "model_module_version": "^0.4.5",
      "model_name": "ScatterModel",
      "state": {
       "color": {
        "type": null,
        "values": null
       },
       "colors": [
        "steelblue"
       ],
       "display_legend": false,
       "display_names": false,
       "names": {
        "type": null,
        "values": null
       },
       "opacity": {
        "type": null,
        "values": null
       },
       "rotation": {
        "type": null,
        "values": null
       },
       "scales": {
        "x": "IPY_MODEL_3f07bf46f7e844a58ca7efdd0230254d",
        "y": "IPY_MODEL_62185592769b43b1ab4256aa004c3e82"
       },
       "scales_metadata": {
        "color": {
         "dimension": "color"
        },
        "opacity": {
         "dimension": "opacity"
        },
        "rotation": {
         "dimension": "rotation"
        },
        "size": {
         "dimension": "size"
        },
        "skew": {
         "dimension": "skew"
        },
        "x": {
         "dimension": "x",
         "orientation": "horizontal"
        },
        "y": {
         "dimension": "y",
         "orientation": "vertical"
        }
       },
       "selected": [],
       "size": {
        "type": null,
        "values": null
       },
       "skew": {
        "type": null,
        "values": null
       },
       "stroke": "black",
       "tooltip": "IPY_MODEL_99575a00246640449d6a743bf97fd125",
       "x": {
        "type": "float",
        "values": [
         0.771320643266746,
         0.6336482349262754,
         0.4985070123025904,
         0.19806286475962398,
         0.16911083656253545,
         0.6853598183677972
        ]
       },
       "y": {
        "type": "float",
        "values": [
         0.0207519493594015,
         0.7488038825386119,
         0.22479664553084766,
         0.7605307121989587,
         0.08833981417401027,
         0.9533933461949365
        ]
       }
      }
     },
     "4057d638541f4b1b8680ff92beacb852": {
      "model_module": "bqplot",
      "model_module_version": "^0.4.5",
      "model_name": "AxisModel",
      "state": {
       "scale": "IPY_MODEL_c54c2e83b87c4c169cfd15922b53b97f",
       "side": "bottom",
       "tick_values": {
        "type": null,
        "values": null
       },
       "visible": false
      }
     },
     "40686e9aded4459c95e278c538d85b47": {
      "model_module": "bqplot",
      "model_module_version": "^0.4.5",
      "model_name": "AxisModel",
      "state": {
       "orientation": "vertical",
       "scale": "IPY_MODEL_19903de21b29439ca82fe9a16fafe36b",
       "side": "left",
       "tick_values": {
        "type": null,
        "values": null
       },
       "visible": false
      }
     },
     "407621c83e9e4cc58d0863a9ebc87086": {
      "model_module": "bqplot",
      "model_module_version": "^0.4.5",
      "model_name": "LinesModel",
      "state": {
       "close_path": true,
       "color": {
        "type": null,
        "values": null
       },
       "display_legend": false,
       "fill": "inside",
       "fill_colors": [
        "orange",
        "blue",
        "red"
       ],
       "labels": [
        "C1",
        "C2"
       ],
       "scales": {
        "x": "IPY_MODEL_bde7d4d796e0443896df91f019bf80ad",
        "y": "IPY_MODEL_9f76933e24b54a83abd631d3a554927a"
       },
       "selected": [],
       "stroke_width": 1,
       "tooltip": "IPY_MODEL_cc31526312594ad68b5bd650904944ea",
       "x": {
        "type": "float",
        "values": [
         [
          0.4097295846150608,
          0.8520227339335706,
          1.7332689863391435,
          0.4200808874255707
         ],
         [
          0.4097295846150608,
          0.22355450954331613,
          0.4501473823600029,
          0.8520227339335706
         ]
        ]
       },
       "y": {
        "type": "float",
        "values": [
         [
          0.5271223505498778,
          0.41305515312279745,
          0.5796961417400555,
          0.9116146811300156
         ],
         [
          0.5271223505498778,
          0.42271381055996105,
          -0.12426375746363771,
          0.41305515312279745
         ]
        ]
       }
      }
     },
     "41013d840ef0411aa633b16552de211d": {
      "model_module": "bqplot",
      "model_module_version": "^0.4.5",
      "model_name": "LinearScaleModel",
      "state": {
       "allow_padding": false,
       "max": 1,
       "min": 0,
       "stabilized": false
      }
     },
     "41573d753eeb4c3d8b6a95738cdcf199": {
      "model_module": "bqplot",
      "model_module_version": "^0.4.5",
      "model_name": "AxisModel",
      "state": {
       "orientation": "vertical",
       "scale": "IPY_MODEL_1d2ea3f0b12141908b0cb25d0d6813f5",
       "side": "left",
       "tick_values": {
        "type": null,
        "values": null
       }
      }
     },
     "417385ae4c2c4c688fa87808791e2cd6": {
      "model_module": "bqplot",
      "model_module_version": "^0.4.5",
      "model_name": "AxisModel",
      "state": {
       "scale": "IPY_MODEL_c7a231f6fba14e3eb7b4db50ab998be0",
       "side": "bottom",
       "tick_values": {
        "type": null,
        "values": null
       }
      }
     },
     "418c8c17eb8a465a9c02b5787e449f9a": {
      "model_module": "bqplot",
      "model_module_version": "^0.4.5",
      "model_name": "AxisModel",
      "state": {
       "scale": "IPY_MODEL_6b4ea42ababf42d8a59afcb8f908b1b7",
       "side": "bottom",
       "tick_values": {
        "type": null,
        "values": null
       }
      }
     },
     "4242907fcbac474ebc58ba6447c6a07a": {
      "model_module": "@jupyter-widgets/base",
      "model_module_version": "1.1.0",
      "model_name": "LayoutModel",
      "state": {
       "min_width": "125px"
      }
     },
     "4273cc2a0b6646eca8a30ba2a6e57f48": {
      "model_module": "bqplot",
      "model_module_version": "^0.4.5",
      "model_name": "LinesModel",
      "state": {
       "close_path": true,
       "color": {
        "type": null,
        "values": null
       },
       "fill": "inside",
       "fill_colors": [
        "orange",
        "blue",
        "red"
       ],
       "labels": [
        "C1",
        "C2",
        "C3",
        "C4",
        "C5",
        "C6",
        "C7",
        "C8",
        "C9"
       ],
       "scales": {
        "x": "IPY_MODEL_c0a52e2244a1477588ce17d98c8b2521",
        "y": "IPY_MODEL_0c32b1836d5d4fb9896adf0a19959527"
       },
       "selected": [],
       "tooltip": "IPY_MODEL_99575a00246640449d6a743bf97fd125",
       "x": {
        "type": "object",
        "values": [
         [
          0.22738068359095126,
          -5.20820435004358,
          0.11120787378448214,
          0.28766969405592147,
          0.43020238893545215
         ],
         [
          0.22738068359095126,
          -5.20820435004358,
          0.11120787378448214,
          0.28766969405592147,
          0.43020238893545215
         ],
         [
          0.22738068359095126,
          -5.20820435004358,
          0.11120787378448214,
          0.28766969405592147,
          0.43020238893545215
         ],
         [
          0.22738068359095126,
          -5.20820435004358,
          0.11120787378448214,
          0.28766969405592147,
          0.43020238893545215
         ],
         [
          0.22738068359095126,
          0.43020238893545215,
          0.5272947621552145,
          0.5843433203379271
         ],
         [
          0.22738068359095126,
          0.43020238893545215,
          0.5272947621552145,
          0.5843433203379271
         ],
         [
          0.43020238893545215,
          0.28766969405592147,
          0.6061081196488364,
          0.7710761428300102,
          0.5272947621552145
         ],
         [
          0.22738068359095126,
          -5.20820435004358,
          0.11120787378448214,
          0.28766969405592147,
          0.43020238893545215
         ],
         [
          0.22738068359095126,
          -5.20820435004358,
          0.11120787378448214,
          0.28766969405592147,
          0.43020238893545215
         ]
        ]
       },
       "y": {
        "type": "object",
        "values": [
         [
          0.7667443763710994,
          1.8846379679106748,
          0.3365460478735013,
          0.35492950428148073,
          0.5502889056231901
         ],
         [
          0.7667443763710994,
          1.8846379679106748,
          0.3365460478735013,
          0.35492950428148073,
          0.5502889056231901
         ],
         [
          0.7667443763710994,
          1.8846379679106748,
          0.3365460478735013,
          0.35492950428148073,
          0.5502889056231901
         ],
         [
          0.7667443763710994,
          1.8846379679106748,
          0.3365460478735013,
          0.35492950428148073,
          0.5502889056231901
         ],
         [
          0.7667443763710994,
          0.5502889056231901,
          0.5706683504567711,
          1.3129857260028264
         ],
         [
          0.7667443763710994,
          0.5502889056231901,
          0.5706683504567711,
          1.3129857260028264
         ],
         [
          0.5502889056231901,
          0.35492950428148073,
          -0.3158376841191152,
          0.5139650190202325,
          0.5706683504567711
         ],
         [
          0.7667443763710994,
          1.8846379679106748,
          0.3365460478735013,
          0.35492950428148073,
          0.5502889056231901
         ],
         [
          0.7667443763710994,
          1.8846379679106748,
          0.3365460478735013,
          0.35492950428148073,
          0.5502889056231901
         ]
        ]
       }
      }
     },
     "42973984c745433c96b0e779288b4e5c": {
      "model_module": "bqplot",
      "model_module_version": "^0.4.5",
      "model_name": "LinesModel",
      "state": {
       "color": {
        "type": null,
        "values": null
       },
       "colors": [
        "black"
       ],
       "display_legend": false,
       "fill_colors": [],
       "labels": [
        "C1"
       ],
       "scales": {
        "x": "IPY_MODEL_b50daaba70f04418935494498fcbe2b3",
        "y": "IPY_MODEL_27e68e618c6a452a9dc5120635c7b7f1"
       },
       "selected": [],
       "x": {
        "type": "float",
        "values": [
         0.22738068359095126,
         -5.20820435004358
        ]
       },
       "y": {
        "type": "float",
        "values": [
         0.7667443763710994,
         1.8846379679106748
        ]
       }
      }
     },
     "42a25f312f84473d89cd7201eca03665": {
      "model_module": "bqplot",
      "model_module_version": "^0.4.5",
      "model_name": "LinearScaleModel",
      "state": {
       "allow_padding": false,
       "max": 1,
       "min": 0,
       "stabilized": false
      }
     },
     "42d50d24797d469283ca5e8a976d51cf": {
      "model_module": "bqplot",
      "model_module_version": "^0.4.5",
      "model_name": "LinearScaleModel",
      "state": {
       "stabilized": false
      }
     },
     "43c6808fba3745a9a2f9dde5f3223202": {
      "model_module": "@jupyter-widgets/base",
      "model_module_version": "1.1.0",
      "model_name": "LayoutModel",
      "state": {
       "min_width": "125px"
      }
     },
     "43f4543ce952490793213d2ecddeaa49": {
      "model_module": "bqplot",
      "model_module_version": "^0.4.5",
      "model_name": "LinearScaleModel",
      "state": {
       "allow_padding": false,
       "max": 1,
       "min": 0,
       "stabilized": false
      }
     },
     "44004ebbfed24f218331d8e655ad7427": {
      "model_module": "bqplot",
      "model_module_version": "^0.4.5",
      "model_name": "LinearScaleModel",
      "state": {
       "stabilized": false
      }
     },
     "443cd519bf6844b0bec993f4249d2919": {
      "model_module": "bqplot",
      "model_module_version": "^0.4.5",
      "model_name": "LinesModel",
      "state": {
       "close_path": true,
       "color": {
        "type": null,
        "values": null
       },
       "display_legend": false,
       "fill": "inside",
       "fill_colors": [
        "orange",
        "blue",
        "red"
       ],
       "labels": [
        "r-one",
        "r-two"
       ],
       "scales": {
        "x": "IPY_MODEL_c2246c565c634b6f8c14aa8dced052a4",
        "y": "IPY_MODEL_003f0b2f9a9e42b2b63dfefc9005c9b5"
       },
       "selected": [],
       "stroke_width": 1,
       "tooltip": "IPY_MODEL_b80ed1e2fbfa45358769dcf805aedaf3",
       "x": {
        "type": "float",
        "values": [
         [
          0.4097295846150608,
          0.8520227339335706,
          1.7332689863391435,
          0.4200808874255707
         ],
         [
          0.4097295846150608,
          0.22355450954331613,
          0.4501473823600029,
          0.8520227339335706
         ]
        ]
       },
       "y": {
        "type": "float",
        "values": [
         [
          0.5271223505498778,
          0.41305515312279745,
          0.5796961417400555,
          0.9116146811300156
         ],
         [
          0.5271223505498778,
          0.42271381055996105,
          -0.12426375746363771,
          0.41305515312279745
         ]
        ]
       }
      }
     },
     "443d7c5557b84166807b9283782b24e3": {
      "model_module": "bqplot",
      "model_module_version": "^0.4.5",
      "model_name": "FigureModel",
      "state": {
       "_dom_classes": [],
       "animation_duration": 1000,
       "axes": [
        "IPY_MODEL_3f2c2d06920b4d9aaabaee3bca2ac49b",
        "IPY_MODEL_4bc0b7e4ad2b4b68b4b9f22ad6398ef7"
       ],
       "layout": "IPY_MODEL_1cd8f33de87b400396b80f2c695d40f6",
       "marks": [
        "IPY_MODEL_b2301de5bc084751994ee1f0f1619388"
       ],
       "scale_x": "IPY_MODEL_5cfbf1c0916b452a99345e2296fe2fa0",
       "scale_y": "IPY_MODEL_6382ecb4b8384499bab145c91fdebf38"
      }
     },
     "444196886f2f4608a4cd4eed05b4928c": {
      "model_module": "@jupyter-widgets/base",
      "model_module_version": "1.1.0",
      "model_name": "LayoutModel",
      "state": {
       "min_width": "125px"
      }
     },
     "444f629c837d4cee8ed2df8c8cff7604": {
      "model_module": "@jupyter-widgets/base",
      "model_module_version": "1.1.0",
      "model_name": "LayoutModel",
      "state": {
       "min_width": "125px"
      }
     },
     "44a3786aa23344658542856f3bab3fae": {
      "model_module": "bqplot",
      "model_module_version": "^0.4.5",
      "model_name": "LinesModel",
      "state": {
       "close_path": true,
       "color": {
        "type": null,
        "values": null
       },
       "display_legend": false,
       "fill": "inside",
       "fill_colors": [
        "orange",
        "blue",
        "red"
       ],
       "labels": [
        "C1",
        "C2",
        "C3"
       ],
       "scales": {
        "x": "IPY_MODEL_603634162f0149dda3ebc8ace5e4f441",
        "y": "IPY_MODEL_15031a441f364d3cb86f689c53ec2d37"
       },
       "selected": [],
       "stroke_width": 1,
       "tooltip": "IPY_MODEL_99575a00246640449d6a743bf97fd125",
       "x": {
        "type": "object",
        "values": [
         [],
         [
          0.4097295846150608,
          0.8520227339335706,
          1.7332689863391435,
          0.4200808874255707
         ],
         [
          0.4097295846150608,
          0.22355450954331613,
          0.4501473823600029,
          0.8520227339335706
         ]
        ]
       },
       "y": {
        "type": "object",
        "values": [
         [],
         [
          0.5271223505498778,
          0.41305515312279745,
          0.5796961417400555,
          0.9116146811300156
         ],
         [
          0.5271223505498778,
          0.42271381055996105,
          -0.12426375746363771,
          0.41305515312279745
         ]
        ]
       }
      }
     },
     "44ce5a7a8310436e8c748bccf050c591": {
      "model_module": "bqplot",
      "model_module_version": "^0.4.5",
      "model_name": "AxisModel",
      "state": {
       "orientation": "vertical",
       "scale": "IPY_MODEL_8fece8d5440c4d7897813f36d1e4d379",
       "side": "left",
       "tick_values": {
        "type": null,
        "values": null
       }
      }
     },
     "44db7dbee3f145c8aa10c4e5e6d31438": {
      "model_module": "bqplot",
      "model_module_version": "^0.4.5",
      "model_name": "LinearScaleModel",
      "state": {
       "allow_padding": false,
       "max": 1,
       "min": 0,
       "stabilized": false
      }
     },
     "464fd9e4c89049da9091eb362208fbee": {
      "model_module": "bqplot",
      "model_module_version": "^0.4.5",
      "model_name": "FigureModel",
      "state": {
       "_dom_classes": [],
       "animation_duration": 1000,
       "axes": [
        "IPY_MODEL_d9f803961716492b8aec662951e5e51b",
        "IPY_MODEL_aaa09d1214a74a51b894f13512a1d07f"
       ],
       "layout": "IPY_MODEL_7705b948e2424b4ea03da1ea54e1cd73",
       "marks": [
        "IPY_MODEL_86684e802f3141068bcc7b43348fe877"
       ],
       "scale_x": "IPY_MODEL_835eb9b872db4182acccf0717d3db652",
       "scale_y": "IPY_MODEL_641d189b30e947258114d942e782a265"
      }
     },
     "4656289b439642a8bdc923a732c23834": {
      "model_module": "bqplot",
      "model_module_version": "^0.4.5",
      "model_name": "LinearScaleModel",
      "state": {
       "allow_padding": false,
       "max": 1,
       "min": 0,
       "stabilized": false
      }
     },
     "469eda631afb47ed9ac71a24e541746f": {
      "model_module": "bqplot",
      "model_module_version": "^0.4.5",
      "model_name": "LinearScaleModel",
      "state": {
       "allow_padding": false,
       "max": 1,
       "min": 0,
       "stabilized": false
      }
     },
     "46d1db56150146d69ed40316b7f51f41": {
      "model_module": "bqplot",
      "model_module_version": "^0.4.5",
      "model_name": "LinesModel",
      "state": {
       "close_path": true,
       "color": {
        "type": null,
        "values": null
       },
       "display_legend": false,
       "fill": "inside",
       "fill_colors": [
        "orange",
        "blue",
        "red"
       ],
       "labels": [
        "C1",
        "C2",
        "C3"
       ],
       "scales": {
        "x": "IPY_MODEL_c2b490285d5447da97a347237ef90fee",
        "y": "IPY_MODEL_84c14da8b69743f3bffec17d2cd6457a"
       },
       "selected": [],
       "stroke_width": 1,
       "tooltip": "IPY_MODEL_99575a00246640449d6a743bf97fd125",
       "x": {
        "type": "object",
        "values": [
         [],
         [
          0.4097295846150608,
          0.8520227339335706,
          1.7332689863391435,
          0.4200808874255707
         ],
         [
          0.4097295846150608,
          0.22355450954331613,
          0.4501473823600029,
          0.8520227339335706
         ]
        ]
       },
       "y": {
        "type": "object",
        "values": [
         [],
         [
          0.5271223505498778,
          0.41305515312279745,
          0.5796961417400555,
          0.9116146811300156
         ],
         [
          0.5271223505498778,
          0.42271381055996105,
          -0.12426375746363771,
          0.41305515312279745
         ]
        ]
       }
      }
     },
     "46d289dcae5c4ebcbb8d197539367c7d": {
      "model_module": "bqplot",
      "model_module_version": "^0.4.5",
      "model_name": "LinearScaleModel",
      "state": {
       "allow_padding": false,
       "max": 1,
       "min": 0,
       "stabilized": false
      }
     },
     "470cd2edf6be4aa5a36dbbdf19a69725": {
      "model_module": "bqplot",
      "model_module_version": "^0.4.5",
      "model_name": "LinearScaleModel",
      "state": {
       "allow_padding": false,
       "max": 1,
       "min": 0,
       "stabilized": false
      }
     },
     "472a767fa6fa4d98ba3b64c3fcd147d0": {
      "model_module": "bqplot",
      "model_module_version": "^0.4.5",
      "model_name": "LinearScaleModel",
      "state": {
       "stabilized": false
      }
     },
     "47321f5bd91d443dbdf23a1cef3d8e5d": {
      "model_module": "bqplot",
      "model_module_version": "^0.4.5",
      "model_name": "LinearScaleModel",
      "state": {
       "allow_padding": false,
       "max": 1,
       "min": 0,
       "stabilized": false
      }
     },
     "47c2fea5c8354f91be2398ab47b3b7cf": {
      "model_module": "bqplot",
      "model_module_version": "^0.4.5",
      "model_name": "LinesModel",
      "state": {
       "close_path": true,
       "color": {
        "type": null,
        "values": null
       },
       "fill": "inside",
       "fill_colors": [
        "orange",
        "blue",
        "red"
       ],
       "labels": [
        "C1",
        "C2"
       ],
       "scales": {
        "x": "IPY_MODEL_97e44215b0964d44b8768c644e8c3b67",
        "y": "IPY_MODEL_8bd5baa36472461da4e1dc8f5b5191b2"
       },
       "selected": [],
       "tooltip": "IPY_MODEL_e4e808e42bd44a92994ff41f1a27d0fe",
       "x": {
        "type": "object",
        "values": [
         [
          4,
          5,
          6,
          6,
          5,
          4,
          3,
          1
         ],
         [
          1,
          2,
          3
         ]
        ]
       },
       "y": {
        "type": "object",
        "values": [
         [
          1,
          1.1,
          1.2,
          2.3,
          2.2,
          2.7,
          1,
          -2
         ],
         [
          3,
          2,
          3
         ]
        ]
       }
      }
     },
     "47e12bf78b364180b60957e93eacb6b2": {
      "model_module": "bqplot",
      "model_module_version": "^0.4.5",
      "model_name": "LinearScaleModel",
      "state": {
       "stabilized": false
      }
     },
     "482ead3024754ff6b847b464b909c901": {
      "model_module": "@jupyter-widgets/base",
      "model_module_version": "1.1.0",
      "model_name": "LayoutModel",
      "state": {
       "min_width": "125px"
      }
     },
     "4859125e7a4346fa9f62b30697e3d36b": {
      "model_module": "@jupyter-widgets/base",
      "model_module_version": "1.1.0",
      "model_name": "LayoutModel",
      "state": {
       "min_width": "125px"
      }
     },
     "48cac729cb434265894d44b3e1490138": {
      "model_module": "@jupyter-widgets/base",
      "model_module_version": "1.1.0",
      "model_name": "LayoutModel",
      "state": {
       "min_width": "125px"
      }
     },
     "49296f7e3a364b988308b2d7b8198b47": {
      "model_module": "@jupyter-widgets/base",
      "model_module_version": "1.1.0",
      "model_name": "LayoutModel",
      "state": {}
     },
     "49429c8751f9435e81e77bd139624f45": {
      "model_module": "bqplot",
      "model_module_version": "^0.4.5",
      "model_name": "LinesModel",
      "state": {
       "color": {
        "type": null,
        "values": null
       },
       "colors": [
        "black"
       ],
       "display_legend": false,
       "fill_colors": [],
       "labels": [
        "C1"
       ],
       "scales": {
        "x": "IPY_MODEL_b50daaba70f04418935494498fcbe2b3",
        "y": "IPY_MODEL_27e68e618c6a452a9dc5120635c7b7f1"
       },
       "selected": [],
       "x": {
        "type": "float",
        "values": [
         0.5281075673364094,
         0.6790714093103971
        ]
       },
       "y": {
        "type": "float",
        "values": [
         -0.15153524143845282,
         0.22900528542596285
        ]
       }
      }
     },
     "497d127289604b7f934d8949526bdb1f": {
      "model_module": "bqplot",
      "model_module_version": "^0.4.5",
      "model_name": "LinearScaleModel",
      "state": {
       "max": 1,
       "min": 0,
       "stabilized": false
      }
     },
     "49b9f52d6a79433daa9d17ebde74e35e": {
      "model_module": "bqplot",
      "model_module_version": "^0.4.5",
      "model_name": "LinearScaleModel",
      "state": {
       "allow_padding": false,
       "max": 1,
       "min": 0,
       "stabilized": false
      }
     },
     "49cea67bf553461a81b514e3799a5aed": {
      "model_module": "bqplot",
      "model_module_version": "^0.4.5",
      "model_name": "AxisModel",
      "state": {
       "orientation": "vertical",
       "scale": "IPY_MODEL_32401f44d8d54f0b95fda13b7330824d",
       "side": "left",
       "tick_values": {
        "type": null,
        "values": null
       }
      }
     },
     "49ef24da5ac14cfd83f32eca7f972797": {
      "model_module": "bqplot",
      "model_module_version": "^0.4.5",
      "model_name": "LinearScaleModel",
      "state": {
       "stabilized": false
      }
     },
     "49ffed345add4744b6d2c15ef22352fe": {
      "model_module": "bqplot",
      "model_module_version": "^0.4.5",
      "model_name": "FigureModel",
      "state": {
       "_dom_classes": [],
       "animation_duration": 1000,
       "axes": [
        "IPY_MODEL_e5fe9812a48b4157a14af0d7849b43ee",
        "IPY_MODEL_2e120497a9ce42d488ccb0a07bc56dd7"
       ],
       "layout": "IPY_MODEL_df2841eea443484096be9af6ae74c4c0",
       "marks": [
        "IPY_MODEL_5adf1f7ccfe74ce88755e9ade52838de",
        "IPY_MODEL_a5a6a5b7b5434c07a6bc2c6e8c895a37"
       ],
       "scale_x": "IPY_MODEL_d6678c21449944a280f5b5fead8b3f0c",
       "scale_y": "IPY_MODEL_6124b89a7123401492a0de6527738a86"
      }
     },
     "4a6fdc633f35402984038880e0d66f62": {
      "model_module": "bqplot",
      "model_module_version": "^0.4.5",
      "model_name": "AxisModel",
      "state": {
       "scale": "IPY_MODEL_e324b04c083f48e2af006ca68f62723f",
       "side": "bottom",
       "tick_values": {
        "type": null,
        "values": null
       },
       "visible": false
      }
     },
     "4a7ebbfb7d9d41148b5184bd566d021a": {
      "model_module": "bqplot",
      "model_module_version": "^0.4.5",
      "model_name": "AxisModel",
      "state": {
       "scale": "IPY_MODEL_519e1983bc7e4ac393fd50cf9ff4885a",
       "side": "bottom",
       "tick_values": {
        "type": null,
        "values": null
       },
       "visible": false
      }
     },
     "4a8a94a4f0e243e7980c48243f709f07": {
      "model_module": "@jupyter-widgets/base",
      "model_module_version": "1.1.0",
      "model_name": "LayoutModel",
      "state": {
       "min_width": "125px"
      }
     },
     "4b1f4671d9a5489a95dc0f314613319a": {
      "model_module": "bqplot",
      "model_module_version": "^0.4.5",
      "model_name": "LinesModel",
      "state": {
       "color": {
        "type": null,
        "values": null
       },
       "colors": [
        "black"
       ],
       "display_legend": false,
       "fill_colors": [],
       "labels": [
        "C1"
       ],
       "scales": {
        "x": "IPY_MODEL_8f922e86cf4646428737dd08d5dd487a",
        "y": "IPY_MODEL_ba02e3e6817e4576ac4580e42528de41"
       },
       "selected": [],
       "x": {
        "type": "float",
        "values": [
         0.28766969405592147,
         0.11120787378448214
        ]
       },
       "y": {
        "type": "float",
        "values": [
         0.35492950428148073,
         0.3365460478735013
        ]
       }
      }
     },
     "4b3124806d7d412ead9feb75a6cbf2b0": {
      "model_module": "bqplot",
      "model_module_version": "^0.4.5",
      "model_name": "FigureModel",
      "state": {
       "_dom_classes": [],
       "animation_duration": 1000,
       "axes": [
        "IPY_MODEL_bfb2a889e3ff485a928e4f7e4a707b46",
        "IPY_MODEL_bb2e62e397874560994b28c5fe7a9ebd"
       ],
       "layout": "IPY_MODEL_0af273b4da784c13aec2e0aa4073116e",
       "marks": [
        "IPY_MODEL_a0a0ba5e1f2549909d704c1ef2f83322"
       ],
       "scale_x": "IPY_MODEL_b294875667bc4e3f9477e630cafd7027",
       "scale_y": "IPY_MODEL_524c1e993b32448d952763431ba2afb1"
      }
     },
     "4b562bb484ef442eb8e61df2806c45c0": {
      "model_module": "bqplot",
      "model_module_version": "^0.4.5",
      "model_name": "LinearScaleModel",
      "state": {
       "allow_padding": false,
       "max": 1,
       "min": 0,
       "stabilized": false
      }
     },
     "4b73885d74524058acf9d9b3e88d1e44": {
      "model_module": "@jupyter-widgets/base",
      "model_module_version": "1.1.0",
      "model_name": "LayoutModel",
      "state": {}
     },
     "4b7b4135e96745fbb2a18d429a6bc1af": {
      "model_module": "bqplot",
      "model_module_version": "^0.4.5",
      "model_name": "LinesModel",
      "state": {
       "close_path": true,
       "color": {
        "type": null,
        "values": null
       },
       "display_legend": false,
       "fill": "inside",
       "fill_colors": [
        "red"
       ],
       "labels": [
        "C1",
        "C2",
        "C3",
        "C4",
        "C5",
        "C6",
        "C7",
        "C8",
        "C9",
        "C10",
        "C11",
        "C12",
        "C13",
        "C14",
        "C15",
        "C16",
        "C17",
        "C18",
        "C19",
        "C20",
        "C21",
        "C22",
        "C23",
        "C24",
        "C25",
        "C26",
        "C27",
        "C28",
        "C29",
        "C30",
        "C31",
        "C32",
        "C33",
        "C34",
        "C35",
        "C36",
        "C37",
        "C38",
        "C39",
        "C40",
        "C41",
        "C42",
        "C43",
        "C44",
        "C45",
        "C46",
        "C47",
        "C48",
        "C49",
        "C50",
        "C51",
        "C52",
        "C53",
        "C54",
        "C55",
        "C56",
        "C57",
        "C58",
        "C59",
        "C60",
        "C61",
        "C62",
        "C63",
        "C64",
        "C65",
        "C66",
        "C67",
        "C68",
        "C69",
        "C70",
        "C71",
        "C72",
        "C73",
        "C74",
        "C75",
        "C76",
        "C77",
        "C78",
        "C79",
        "C80",
        "C81",
        "C82",
        "C83",
        "C84",
        "C85",
        "C86",
        "C87",
        "C88",
        "C89"
       ],
       "scales": {
        "x": "IPY_MODEL_42d50d24797d469283ca5e8a976d51cf",
        "y": "IPY_MODEL_18bd9362ed3a4463bf78158675515ef9"
       },
       "selected": [],
       "stroke_width": 1,
       "tooltip": "IPY_MODEL_99575a00246640449d6a743bf97fd125",
       "x": {
        "type": "object",
        "values": [
         [
          -0.08475255245909073,
          0.05996367321148319,
          0.08479322651163212,
          0.05995157333505969
         ],
         [
          0.8922615808363101,
          0.9484974881532601,
          1.0239771911803062,
          0.9248738133821013
         ],
         [
          0.7826123297616694,
          0.5860766963396512,
          0.5537235568411509,
          0.7436386117536268
         ],
         [
          0.17765909719740863,
          0.21650059679839287,
          0.1566239907650207,
          0.1552441098754926,
          0.1271638945344281
         ],
         [
          0.8958729363977855,
          0.9025114453381056,
          3.7254727548007427,
          1.303489620089487,
          0.936997956036985
         ],
         [
          0.6894979865685824,
          0.6796363156123174,
          0.5407313810836678,
          0.5799455851411179
         ],
         [
          0.1671225413659981,
          0.0808544173481181,
          0.05995157333505969,
          0.08479322651163212,
          0.11362353230857873
         ],
         [
          0.7549312571304825,
          0.8369463236034708,
          0.8922615808363101,
          0.9248738133821013,
          0.8599618954914474,
          0.7616680727815712
         ],
         [
          0.32606350501054976,
          0.3654306665415356,
          0.4858904348533996,
          0.442543263660364,
          0.3664561062146867
         ],
         [
          0.3520617134062079,
          0.44763325809529253,
          0.5095771494014502,
          0.442543263660364,
          0.3664561062146867
         ],
         [
          0.32606350501054976,
          0.3654306665415356,
          0.19839889654454215,
          0.17765909719740863,
          0.21650059679839287,
          0.2695248325435307
         ],
         [
          0.8844761822970881,
          0.936997956036985,
          1.303489620089487,
          0.9728074978146745,
          0.8911378732215105
         ],
         [
          0.2791442374766947,
          0.2229997144601798,
          0.2333529203899401,
          0.28055530091993486,
          0.3319212309666195,
          0.3311547349960527,
          0.29136386167098083
         ],
         [
          0.17648291232270985,
          0.2229997144601798,
          0.2333529203899401,
          0.1671225413659981,
          0.11362353230857873,
          0.1409855013646931
         ],
         [
          0.07095062550864997,
          0.056144536431563516,
          0.05996367321148319,
          0.08479322651163212,
          0.11362353230857873,
          0.1409855013646931
         ],
         [
          0.05655007723232634,
          -0.02324519529831473,
          -0.09305334874494212,
          0.056144536431563516,
          0.07095062550864997
         ],
         [
          0.13667936712823156,
          0.05655007723232634,
          0.07095062550864997,
          0.1409855013646931,
          0.17648291232270985,
          0.1735852467022309
         ],
         [
          0.7447345469272995,
          0.7616680727815712,
          0.8599618954914474,
          0.8518854947309326,
          0.8429504147257009,
          0.7744128193462205
         ],
         [
          0.6709186387390527,
          0.7156947871151625,
          0.7447345469272995,
          0.7616680727815712,
          0.7549312571304825,
          0.7251218009192109
         ],
         [
          0.8757336212707671,
          0.9423394792843589,
          0.9565291478195775,
          0.9014301289553135
         ],
         [
          0.9014301289553135,
          1.3244007962918452,
          1.8325616329645324,
          1.02982616672276,
          0.9565291478195775
         ],
         [
          0.9423394792843589,
          0.9421276079766667,
          1.02982616672276,
          0.9565291478195775
         ],
         [
          0.8757336212707671,
          0.8518854947309326,
          0.8429504147257009,
          0.785830720920853,
          0.801422360248676,
          0.9421276079766667,
          0.9423394792843589
         ],
         [
          0.8757336212707671,
          0.8518854947309326,
          0.8599618954914474,
          0.9248738133821013,
          1.0239771911803062,
          1.3244007962918452,
          0.9014301289553135
         ],
         [
          0.8541317747866634,
          0.7859138685880834,
          0.789965608949285,
          0.8401791254796137
         ],
         [
          0.8401791254796137,
          0.8892737740604402,
          0.8644922753139983,
          0.7298737677352258,
          0.7183722051991415,
          0.789965608949285
         ],
         [
          0.8541317747866634,
          0.8844761822970881,
          0.936997956036985,
          0.8958729363977855,
          0.8892737740604402,
          0.8401791254796137
         ],
         [
          0.7048678804266107,
          0.6631642732553857,
          0.6854600075030313,
          0.7717160432897252,
          0.7728842983270414,
          0.7814164182655865,
          0.7734494984340863,
          0.7169374798008875
         ],
         [
          0.6631642732553857,
          0.5681058918982578,
          0.576620155923006,
          0.619313591747615,
          0.6721261719859388,
          0.6854600075030313
         ],
         [
          0.7717160432897252,
          0.7859138685880834,
          0.789965608949285,
          0.7183722051991415,
          0.6721261719859388,
          0.6854600075030313
         ],
         [
          0.7728842983270414,
          0.8911378732215105,
          0.8844761822970881,
          0.8541317747866634,
          0.7859138685880834,
          0.7717160432897252
         ],
         [
          0.7814164182655865,
          0.9529268869895049,
          0.9728074978146745,
          0.8911378732215105,
          0.7728842983270414
         ],
         [
          0.7169374798008875,
          0.6904495102029342,
          0.6671021048905704,
          0.7251218009192109,
          0.7549312571304825,
          0.8369463236034708,
          0.7734494984340863
         ],
         [
          0.7814164182655865,
          0.9529268869895049,
          0.9484974881532601,
          0.8922615808363101,
          0.8369463236034708,
          0.7734494984340863
         ],
         [
          0.5297607660948835,
          0.5681058918982578,
          0.576620155923006,
          0.5640000795312106,
          0.5086191613034009
         ],
         [
          0.33933317272714597,
          0.28055530091993486,
          0.3319212309666195,
          0.42031053233311066
         ],
         [
          0.33933317272714597,
          0.28055530091993486,
          0.2333529203899401,
          0.1671225413659981,
          0.0808544173481181,
          0.010321678871761025,
          0.34157344385192684,
          0.34221769905311594
         ],
         [
          0.10333495561836159,
          0.04760604640978913,
          -0.04625587478358112,
          -0.39226000203974826,
          -1.7789473680243528,
          -0.09305334874494212,
          -0.02324519529831473,
          -0.0005457419939594588
         ],
         [
          0.19475412499205588,
          0.1735852467022309,
          0.17648291232270985,
          0.2229997144601798,
          0.2791442374766947,
          0.291091225069642,
          0.25105593314521024,
          0.2140083514416948
         ],
         [
          0.5366240358606154,
          0.7048678804266107,
          0.7169374798008875,
          0.6904495102029342,
          0.5428787745126074
         ],
         [
          0.5274599245815067,
          0.5297607660948835,
          0.5681058918982578,
          0.6631642732553857,
          0.7048678804266107,
          0.5366240358606154
         ],
         [
          0.701124545722612,
          0.7036389883440564,
          0.6182403792723945,
          0.6646145197870538
         ],
         [
          0.6646145197870538,
          0.785830720920853,
          0.801422360248676,
          0.7826123297616694,
          0.5860766963396512,
          0.5916533082236889,
          0.6182403792723945
         ],
         [
          0.701124545722612,
          0.7744128193462205,
          0.7447345469272995,
          0.7156947871151625,
          0.7036389883440564
         ],
         [
          0.701124545722612,
          0.7744128193462205,
          0.8429504147257009,
          0.785830720920853,
          0.6646145197870538
         ],
         [
          0.5470067628086378,
          0.5477820176509163,
          0.5553265773930277,
          0.6200078432886269,
          0.6302899336424557,
          0.5636341839045399
         ],
         [
          0.6302899336424557,
          0.6709186387390527,
          0.7251218009192109,
          0.6671021048905704,
          0.6200078432886269
         ],
         [
          0.5553265773930277,
          0.5242973002939889,
          0.5428787745126074,
          0.6904495102029342,
          0.6671021048905704,
          0.6200078432886269
         ],
         [
          0.5470067628086378,
          0.5095771494014502,
          0.44763325809529253,
          0.48942986971702956,
          0.522867036202907,
          0.5477820176509163
         ],
         [
          0.5636341839045399,
          0.5916533082236889,
          0.6182403792723945,
          0.7036389883440564,
          0.7156947871151625,
          0.6709186387390527,
          0.6302899336424557
         ],
         [
          0.5470067628086378,
          0.5095771494014502,
          0.442543263660364,
          0.4858904348533996,
          0.5537235568411509,
          0.5860766963396512,
          0.5916533082236889,
          0.5636341839045399
         ],
         [
          0.5964126211383934,
          0.619313591747615,
          0.576620155923006,
          0.5640000795312106,
          0.5214422698732747
         ],
         [
          0.4972937373557724,
          0.5086191613034009,
          0.5640000795312106,
          0.5214422698732747
         ],
         [
          0.16506419872830538,
          0.17721576125534005,
          0.1695141925197683,
          0.1507729848388969,
          0.12016844646865305,
          0.14036078719250036
         ],
         [
          0.17721576125534005,
          0.2140083514416948,
          0.25105593314521024,
          0.1695141925197683
         ],
         [
          0.12016844646865305,
          -0.0005457419939594588,
          0.10333495561836159,
          0.15053204889866073,
          0.15452095643035138,
          0.1507729848388969
         ],
         [
          0.14036078719250036,
          0.13667936712823156,
          0.05655007723232634,
          -0.02324519529831473,
          -0.0005457419939594588,
          0.12016844646865305
         ],
         [
          0.16506419872830538,
          0.19475412499205588,
          0.2140083514416948,
          0.17721576125534005
         ],
         [
          0.16506419872830538,
          0.19475412499205588,
          0.1735852467022309,
          0.13667936712823156,
          0.14036078719250036
         ],
         [
          0.4605730717345083,
          0.48942986971702956,
          0.522867036202907,
          0.4703456141659566
         ],
         [
          0.30312719685986156,
          0.34597676713144443,
          0.4532308777519833,
          0.4783054380385875,
          0.42827364718111444,
          0.36145620663848865,
          0.35129906105930825,
          0.3099005352519825,
          0.2960651180774041
         ],
         [
          0.4783054380385875,
          0.5242973002939889,
          0.5553265773930277,
          0.5477820176509163,
          0.522867036202907,
          0.4703456141659566,
          0.4375923516362236,
          0.4532308777519833
         ],
         [
          0.34597676713144443,
          0.39033700114917896,
          0.4375923516362236,
          0.4532308777519833
         ],
         [
          0.42827364718111444,
          0.47032905822515186,
          0.5274599245815067,
          0.5366240358606154,
          0.5428787745126074,
          0.5242973002939889,
          0.4783054380385875
         ],
         [
          0.2960651180774041,
          0.15452095643035138,
          0.1507729848388969,
          0.1695141925197683,
          0.25105593314521024,
          0.291091225069642,
          0.3099005352519825
         ],
         [
          0.35129906105930825,
          0.36662579097945813,
          0.29136386167098083,
          0.2791442374766947,
          0.291091225069642,
          0.3099005352519825
         ],
         [
          0.4848580727969724,
          0.5895224762949374,
          0.566546369174203,
          0.4963353142060988
         ],
         [
          0.5895224762949374,
          0.5964126211383934,
          0.619313591747615,
          0.6721261719859388,
          0.7183722051991415,
          0.7298737677352258,
          0.6894979865685824,
          0.5799455851411179,
          0.566546369174203
         ],
         [
          0.4963353142060988,
          0.34221769905311594,
          0.34157344385192684,
          0.5407313810836678,
          0.5799455851411179,
          0.566546369174203
         ],
         [
          0.4848580727969724,
          0.4521549564191969,
          0.4566809954174328,
          0.4972937373557724,
          0.5214422698732747,
          0.5964126211383934,
          0.5895224762949374
         ],
         [
          0.4848580727969724,
          0.4521549564191969,
          0.42031053233311066,
          0.33933317272714597,
          0.34221769905311594,
          0.4963353142060988
         ],
         [
          0.44216205566498235,
          0.38914220788535414,
          0.37894569470583306,
          0.39159600729095523,
          0.4315829045308878
         ],
         [
          0.38914220788535414,
          0.36145620663848865,
          0.35129906105930825,
          0.36662579097945813,
          0.37894569470583306
         ],
         [
          0.39159600729095523,
          0.3311547349960527,
          0.29136386167098083,
          0.36662579097945813,
          0.37894569470583306
         ],
         [
          0.44216205566498235,
          0.47032905822515186,
          0.42827364718111444,
          0.36145620663848865,
          0.38914220788535414
         ],
         [
          0.4315829045308878,
          0.4566809954174328,
          0.4521549564191969,
          0.42031053233311066,
          0.3319212309666195,
          0.3311547349960527,
          0.39159600729095523
         ],
         [
          0.44216205566498235,
          0.47032905822515186,
          0.5274599245815067,
          0.5297607660948835,
          0.5086191613034009,
          0.4972937373557724,
          0.4566809954174328,
          0.4315829045308878
         ],
         [
          0.2963056260082066,
          0.2758845865743852,
          0.290488628167884,
          0.3801911569000378,
          0.3782918917747366,
          0.35181930886404145,
          0.3284976395205213
         ],
         [
          0.3801911569000378,
          0.39033700114917896,
          0.34597676713144443,
          0.30312719685986156,
          0.290488628167884
         ],
         [
          0.3801911569000378,
          0.39033700114917896,
          0.4375923516362236,
          0.4703456141659566,
          0.4605730717345083,
          0.3782918917747366
         ],
         [
          0.35181930886404145,
          0.3520617134062079,
          0.44763325809529253,
          0.48942986971702956,
          0.4605730717345083,
          0.3782918917747366
         ],
         [
          0.3284976395205213,
          0.2695248325435307,
          0.32606350501054976,
          0.3664561062146867,
          0.3520617134062079,
          0.35181930886404145
         ],
         [
          0.25749109839409895,
          0.21267926962347788,
          0.18993022694083767,
          0.15260836072302839,
          0.1601661297401958,
          0.19131887276363133
         ],
         [
          0.15260836072302839,
          0.04760604640978913,
          0.10333495561836159,
          0.15053204889866073,
          0.18993022694083767
         ],
         [
          0.21267926962347788,
          0.2758845865743852,
          0.290488628167884,
          0.30312719685986156,
          0.2960651180774041,
          0.15452095643035138,
          0.15053204889866073,
          0.18993022694083767
         ],
         [
          0.25749109839409895,
          0.2963056260082066,
          0.2758845865743852,
          0.21267926962347788
         ],
         [
          0.1601661297401958,
          -0.04625587478358112,
          0.04760604640978913,
          0.15260836072302839
         ],
         [
          0.19131887276363133,
          0.1566239907650207,
          0.1552441098754926,
          -0.39226000203974826,
          -0.04625587478358112,
          0.1601661297401958
         ],
         [
          0.25749109839409895,
          0.2963056260082066,
          0.3284976395205213,
          0.2695248325435307,
          0.21650059679839287,
          0.1566239907650207,
          0.19131887276363133
         ]
        ]
       },
       "y": {
        "type": "object",
        "values": [
         [
          0.18766431216864535,
          0.21527102341507598,
          0.20046932988757732,
          0.1194803976086593
         ],
         [
          0.6868518466109428,
          0.5094704930413251,
          0.7165458345627486,
          0.7184602714731044
         ],
         [
          1.8922301144088802,
          0.8967030635235811,
          0.9285927594555251,
          9.080515652644772
         ],
         [
          1.0454818206669554,
          0.8964747041044363,
          0.8376082780480106,
          0.8381631508354757,
          0.8886984395238302
         ],
         [
          0.11172678228221458,
          0.11016256913183203,
          0.22706467021620985,
          0.3576663780475622,
          0.19413373564767408
         ],
         [
          0.04860075706480346,
          -0.3581431095198661,
          0.049568673630367696,
          0.09173586509883759
         ],
         [
          0.1722183383016177,
          -0.07901055705348747,
          0.1194803976086593,
          0.20046932988757732,
          0.20520922900059238
         ],
         [
          0.7019195682692153,
          0.6603252712722206,
          0.6868518466109428,
          0.7184602714731044,
          0.8402217323191642,
          0.7344849729730747
         ],
         [
          0.9613190256159994,
          1.1775730858911575,
          0.9549678365504611,
          0.8913140982878146,
          0.8970546364447082
         ],
         [
          0.7484957085719692,
          0.7717007454329576,
          0.8082006063944445,
          0.8913140982878146,
          0.8970546364447082
         ],
         [
          0.9613190256159994,
          1.1775730858911575,
          4.982895881976411,
          1.0454818206669554,
          0.8964747041044363,
          0.9242822386210425
         ],
         [
          0.2771803893538775,
          0.19413373564767408,
          0.3576663780475622,
          0.4119712958896557,
          0.3033889194259604
         ],
         [
          0.3238873693846753,
          0.29148470160424356,
          0.17593003600410642,
          0.14469039984150253,
          0.24990801641289362,
          0.26959722658301405,
          0.3137062708979666
         ],
         [
          0.30394314189934274,
          0.29148470160424356,
          0.17593003600410642,
          0.1722183383016177,
          0.20520922900059238,
          0.27207049270978617
         ],
         [
          0.3085511341833507,
          0.23058334950142662,
          0.21527102341507598,
          0.20046932988757732,
          0.20520922900059238,
          0.27207049270978617
         ],
         [
          0.3431072560593489,
          0.3957228384668044,
          0.39725019822092095,
          0.23058334950142662,
          0.3085511341833507
         ],
         [
          0.34962855420619454,
          0.3431072560593489,
          0.3085511341833507,
          0.27207049270978617,
          0.30394314189934274,
          0.3100059779332992
         ],
         [
          0.8216202073292638,
          0.7344849729730747,
          0.8402217323191642,
          0.8657456469260267,
          0.8732042889870765,
          0.8479268089004451
         ],
         [
          0.7673468451756451,
          0.8144101760630202,
          0.8216202073292638,
          0.7344849729730747,
          0.7019195682692153,
          0.6991242806345185
         ],
         [
          0.8735922478824225,
          0.9696878618956105,
          0.9170251339517272,
          0.880160391287594
         ],
         [
          0.880160391287594,
          0.7604922534623879,
          0.8007297533052902,
          0.9314918412571357,
          0.9170251339517272
         ],
         [
          0.9696878618956105,
          1.001192592188652,
          0.9314918412571357,
          0.9170251339517272
         ],
         [
          0.8735922478824225,
          0.8657456469260267,
          0.8732042889870765,
          1.0859796319724686,
          1.247079160396166,
          1.001192592188652,
          0.9696878618956105
         ],
         [
          0.8735922478824225,
          0.8657456469260267,
          0.8402217323191642,
          0.7184602714731044,
          0.7165458345627486,
          0.7604922534623879,
          0.880160391287594
         ],
         [
          0.24205285536871227,
          0.27599855080035385,
          0.21108377925102728,
          0.2147733196050809
         ],
         [
          0.2147733196050809,
          0.10984248903153968,
          0.08737940042812475,
          0.1011437071253222,
          0.17238634089536212,
          0.21108377925102728
         ],
         [
          0.24205285536871227,
          0.2771803893538775,
          0.19413373564767408,
          0.11172678228221458,
          0.10984248903153968,
          0.2147733196050809
         ],
         [
          0.467726445447311,
          0.3541803069655101,
          0.26824168218044814,
          0.3046083008151902,
          0.30610446546143244,
          0.4785102256398476,
          0.4838743117569385,
          0.48605425325409496
         ],
         [
          0.3541803069655101,
          0.3444875255485018,
          0.29571490100449,
          0.22570350965524086,
          0.23192857621009208,
          0.26824168218044814
         ],
         [
          0.3046083008151902,
          0.27599855080035385,
          0.21108377925102728,
          0.17238634089536212,
          0.23192857621009208,
          0.26824168218044814
         ],
         [
          0.30610446546143244,
          0.3033889194259604,
          0.2771803893538775,
          0.24205285536871227,
          0.27599855080035385,
          0.3046083008151902
         ],
         [
          0.4785102256398476,
          0.42658719064026895,
          0.4119712958896557,
          0.3033889194259604,
          0.30610446546143244
         ],
         [
          0.48605425325409496,
          0.5092483320350483,
          0.6363753904287199,
          0.6991242806345185,
          0.7019195682692153,
          0.6603252712722206,
          0.4838743117569385
         ],
         [
          0.4785102256398476,
          0.42658719064026895,
          0.5094704930413251,
          0.6868518466109428,
          0.6603252712722206,
          0.4838743117569385
         ],
         [
          0.37057517751831476,
          0.3444875255485018,
          0.29571490100449,
          0.29117974126706186,
          0.2821610834105058
         ],
         [
          0.035756405969484026,
          0.14469039984150253,
          0.24990801641289362,
          0.20430592009960438
         ],
         [
          0.035756405969484026,
          0.14469039984150253,
          0.17593003600410642,
          0.1722183383016177,
          -0.07901055705348747,
          -1.0446450770919942,
          0.010092086317784826,
          0.02055230592172938
         ],
         [
          0.5237154036894824,
          0.5971900444033128,
          0.6356589983148537,
          0.688490771421261,
          0.6582838271180349,
          0.39725019822092095,
          0.3957228384668044,
          0.4068044484925284
         ],
         [
          0.37118631712933614,
          0.3100059779332992,
          0.30394314189934274,
          0.29148470160424356,
          0.3238873693846753,
          0.4083810612903426,
          0.40715830347643817,
          0.39144951626646507
         ],
         [
          0.39020272720305593,
          0.467726445447311,
          0.48605425325409496,
          0.5092483320350483,
          0.52873243696096
         ],
         [
          0.3739717115854233,
          0.37057517751831476,
          0.3444875255485018,
          0.3541803069655101,
          0.467726445447311,
          0.39020272720305593
         ],
         [
          0.8927480562390957,
          0.8272332178847879,
          0.8954848047986568,
          0.9228324518455797
         ],
         [
          0.9228324518455797,
          1.0859796319724686,
          1.247079160396166,
          1.8922301144088802,
          0.8967030635235811,
          0.8877704180284818,
          0.8954848047986568
         ],
         [
          0.8927480562390957,
          0.8479268089004451,
          0.8216202073292638,
          0.8144101760630202,
          0.8272332178847879
         ],
         [
          0.8927480562390957,
          0.8479268089004451,
          0.8732042889870765,
          1.0859796319724686,
          0.9228324518455797
         ],
         [
          0.809941745848387,
          0.6679792001868494,
          0.6586657461542196,
          0.6610534418697956,
          0.7729074066766817,
          0.8193116546871726
         ],
         [
          0.7729074066766817,
          0.7673468451756451,
          0.6991242806345185,
          0.6363753904287199,
          0.6610534418697956
         ],
         [
          0.6586657461542196,
          0.5402388654119852,
          0.52873243696096,
          0.5092483320350483,
          0.6363753904287199,
          0.6610534418697956
         ],
         [
          0.809941745848387,
          0.8082006063944445,
          0.7717007454329576,
          0.6882430887844456,
          0.6709070286227734,
          0.6679792001868494
         ],
         [
          0.8193116546871726,
          0.8877704180284818,
          0.8954848047986568,
          0.8272332178847879,
          0.8144101760630202,
          0.7673468451756451,
          0.7729074066766817
         ],
         [
          0.809941745848387,
          0.8082006063944445,
          0.8913140982878146,
          0.9549678365504611,
          0.9285927594555251,
          0.8967030635235811,
          0.8877704180284818,
          0.8193116546871726
         ],
         [
          0.21142628282008555,
          0.22570350965524086,
          0.29571490100449,
          0.29117974126706186,
          0.2523203179283004
         ],
         [
          0.2616604422629263,
          0.2821610834105058,
          0.29117974126706186,
          0.2523203179283004
         ],
         [
          0.3878572880016299,
          0.40128311247164994,
          0.44448474355667533,
          0.4634667433048437,
          0.4261828840691094,
          0.37801791295867226
         ],
         [
          0.40128311247164994,
          0.39144951626646507,
          0.40715830347643817,
          0.44448474355667533
         ],
         [
          0.4261828840691094,
          0.4068044484925284,
          0.5237154036894824,
          0.5048311265942593,
          0.49903492617112294,
          0.4634667433048437
         ],
         [
          0.37801791295867226,
          0.34962855420619454,
          0.3431072560593489,
          0.3957228384668044,
          0.4068044484925284,
          0.4261828840691094
         ],
         [
          0.3878572880016299,
          0.37118631712933614,
          0.39144951626646507,
          0.40128311247164994
         ],
         [
          0.3878572880016299,
          0.37118631712933614,
          0.3100059779332992,
          0.34962855420619454,
          0.37801791295867226
         ],
         [
          0.6773773209751246,
          0.6882430887844456,
          0.6709070286227734,
          0.641313448349839
         ],
         [
          0.5211116223211779,
          0.5352455910193442,
          0.5549061305866,
          0.5377512633017318,
          0.424981944864984,
          0.4210175224151471,
          0.42233558857231257,
          0.43320563724699845,
          0.49627856394354064
         ],
         [
          0.5377512633017318,
          0.5402388654119852,
          0.6586657461542196,
          0.6679792001868494,
          0.6709070286227734,
          0.641313448349839,
          0.6002678912229196,
          0.5549061305866
         ],
         [
          0.5352455910193442,
          0.6579497001675114,
          0.6002678912229196,
          0.5549061305866
         ],
         [
          0.424981944864984,
          0.3797539669887341,
          0.3739717115854233,
          0.39020272720305593,
          0.52873243696096,
          0.5402388654119852,
          0.5377512633017318
         ],
         [
          0.49627856394354064,
          0.49903492617112294,
          0.4634667433048437,
          0.44448474355667533,
          0.40715830347643817,
          0.4083810612903426,
          0.43320563724699845
         ],
         [
          0.42233558857231257,
          0.3331919091805511,
          0.3137062708979666,
          0.3238873693846753,
          0.4083810612903426,
          0.43320563724699845
         ],
         [
          0.192555381191076,
          0.20143039455042958,
          0.12174245284796215,
          0.134416745199609
         ],
         [
          0.20143039455042958,
          0.21142628282008555,
          0.22570350965524086,
          0.23192857621009208,
          0.17238634089536212,
          0.1011437071253222,
          0.04860075706480346,
          0.09173586509883759,
          0.12174245284796215
         ],
         [
          0.134416745199609,
          0.02055230592172938,
          0.010092086317784826,
          0.049568673630367696,
          0.09173586509883759,
          0.12174245284796215
         ],
         [
          0.192555381191076,
          0.22837908151214426,
          0.24686423413890973,
          0.2616604422629263,
          0.2523203179283004,
          0.21142628282008555,
          0.20143039455042958
         ],
         [
          0.192555381191076,
          0.22837908151214426,
          0.20430592009960438,
          0.035756405969484026,
          0.02055230592172938,
          0.134416745199609
         ],
         [
          0.3268257041360094,
          0.34906461030245395,
          0.32452628856155175,
          0.2931696138298367,
          0.28946007935453993
         ],
         [
          0.34906461030245395,
          0.4210175224151471,
          0.42233558857231257,
          0.3331919091805511,
          0.32452628856155175
         ],
         [
          0.2931696138298367,
          0.26959722658301405,
          0.3137062708979666,
          0.3331919091805511,
          0.32452628856155175
         ],
         [
          0.3268257041360094,
          0.3797539669887341,
          0.424981944864984,
          0.4210175224151471,
          0.34906461030245395
         ],
         [
          0.28946007935453993,
          0.24686423413890973,
          0.22837908151214426,
          0.20430592009960438,
          0.24990801641289362,
          0.26959722658301405,
          0.2931696138298367
         ],
         [
          0.3268257041360094,
          0.3797539669887341,
          0.3739717115854233,
          0.37057517751831476,
          0.2821610834105058,
          0.2616604422629263,
          0.24686423413890973,
          0.28946007935453993
         ],
         [
          0.7428207593708316,
          0.572826212514801,
          0.5559849359221616,
          0.6744095866684889,
          0.6853851357929981,
          0.7482526560874929,
          0.7468264727742786
         ],
         [
          0.6744095866684889,
          0.6579497001675114,
          0.5352455910193442,
          0.5211116223211779,
          0.5559849359221616
         ],
         [
          0.6744095866684889,
          0.6579497001675114,
          0.6002678912229196,
          0.641313448349839,
          0.6773773209751246,
          0.6853851357929981
         ],
         [
          0.7482526560874929,
          0.7484957085719692,
          0.7717007454329576,
          0.6882430887844456,
          0.6773773209751246,
          0.6853851357929981
         ],
         [
          0.7468264727742786,
          0.9242822386210425,
          0.9613190256159994,
          0.8970546364447082,
          0.7484957085719692,
          0.7482526560874929
         ],
         [
          0.7486326693949722,
          0.6018216028805788,
          0.5998268867262594,
          0.6285049324381569,
          0.7277908930375016,
          0.7777733040655163
         ],
         [
          0.6285049324381569,
          0.5971900444033128,
          0.5237154036894824,
          0.5048311265942593,
          0.5998268867262594
         ],
         [
          0.6018216028805788,
          0.572826212514801,
          0.5559849359221616,
          0.5211116223211779,
          0.49627856394354064,
          0.49903492617112294,
          0.5048311265942593,
          0.5998268867262594
         ],
         [
          0.7486326693949722,
          0.7428207593708316,
          0.572826212514801,
          0.6018216028805788
         ],
         [
          0.7277908930375016,
          0.6356589983148537,
          0.5971900444033128,
          0.6285049324381569
         ],
         [
          0.7777733040655163,
          0.8376082780480106,
          0.8381631508354757,
          0.688490771421261,
          0.6356589983148537,
          0.7277908930375016
         ],
         [
          0.7486326693949722,
          0.7428207593708316,
          0.7468264727742786,
          0.9242822386210425,
          0.8964747041044363,
          0.8376082780480106,
          0.7777733040655163
         ]
        ]
       }
      }
     },
     "4bc0b7e4ad2b4b68b4b9f22ad6398ef7": {
      "model_module": "bqplot",
      "model_module_version": "^0.4.5",
      "model_name": "AxisModel",
      "state": {
       "orientation": "vertical",
       "scale": "IPY_MODEL_953b3f6fa1f94be6b41d26f0331e32af",
       "side": "left",
       "tick_values": {
        "type": null,
        "values": null
       }
      }
     },
     "4bcd69b5ec854e008ce77a261574f7ac": {
      "model_module": "bqplot",
      "model_module_version": "^0.4.5",
      "model_name": "AxisModel",
      "state": {
       "orientation": "vertical",
       "scale": "IPY_MODEL_0310ad8f5b2842f696b4812fc6287e2e",
       "side": "left",
       "tick_values": {
        "type": null,
        "values": null
       },
       "visible": false
      }
     },
     "4bf48b5c804e42c8807d319d8b89a7aa": {
      "model_module": "bqplot",
      "model_module_version": "^0.4.5",
      "model_name": "LinearScaleModel",
      "state": {
       "allow_padding": false,
       "max": 1,
       "min": 0,
       "stabilized": false
      }
     },
     "4c3caa8795784ca8a4e2d2982b778369": {
      "model_module": "bqplot",
      "model_module_version": "^0.4.5",
      "model_name": "LinearScaleModel",
      "state": {
       "allow_padding": false,
       "max": 1,
       "min": 0,
       "stabilized": false
      }
     },
     "4c638dd7953142ceb040ebe0d2577639": {
      "model_module": "bqplot",
      "model_module_version": "^0.4.5",
      "model_name": "AxisModel",
      "state": {
       "orientation": "vertical",
       "scale": "IPY_MODEL_9f76933e24b54a83abd631d3a554927a",
       "side": "left",
       "tick_values": {
        "type": null,
        "values": null
       }
      }
     },
     "4cfb88b10c9140d4bb38e732c9e61f42": {
      "model_module": "bqplot",
      "model_module_version": "^0.4.5",
      "model_name": "AxisModel",
      "state": {
       "orientation": "vertical",
       "scale": "IPY_MODEL_821d3c3b0af24912b00b69c998eb533d",
       "side": "left",
       "tick_values": {
        "type": null,
        "values": null
       }
      }
     },
     "4d05a4eea8a84a2a8f491d20eee27250": {
      "model_module": "bqplot",
      "model_module_version": "^0.4.5",
      "model_name": "LinearScaleModel",
      "state": {
       "allow_padding": false,
       "max": 1,
       "min": 0,
       "stabilized": false
      }
     },
     "4d48ab48609c451ca80c104cdbb0875d": {
      "model_module": "bqplot",
      "model_module_version": "^0.4.5",
      "model_name": "LinearScaleModel",
      "state": {
       "max": 1,
       "min": 0,
       "stabilized": false
      }
     },
     "4da18018025d43988651afbdebf092d4": {
      "model_module": "bqplot",
      "model_module_version": "^0.4.5",
      "model_name": "LinearScaleModel",
      "state": {
       "stabilized": false
      }
     },
     "4da67553715948f1a291fb0efa688c1d": {
      "model_module": "bqplot",
      "model_module_version": "^0.4.5",
      "model_name": "AxisModel",
      "state": {
       "scale": "IPY_MODEL_fb35778567a949baba8b539c46854168",
       "side": "bottom",
       "tick_values": {
        "type": null,
        "values": null
       }
      }
     },
     "4eab2443f7524afa90c968c44c9815c1": {
      "model_module": "bqplot",
      "model_module_version": "^0.4.5",
      "model_name": "LinearScaleModel",
      "state": {
       "allow_padding": false,
       "max": 1,
       "min": 0,
       "stabilized": false
      }
     },
     "4ee01045142640f9af45a6bc20f907b1": {
      "model_module": "bqplot",
      "model_module_version": "^0.4.5",
      "model_name": "ScatterModel",
      "state": {
       "color": {
        "type": null,
        "values": null
       },
       "colors": [
        "steelblue"
       ],
       "display_legend": false,
       "display_names": false,
       "names": {
        "type": null,
        "values": null
       },
       "opacity": {
        "type": null,
        "values": null
       },
       "rotation": {
        "type": null,
        "values": null
       },
       "scales": {
        "x": "IPY_MODEL_cd28d5561b814f7490f502c4a2072794",
        "y": "IPY_MODEL_8458ab31d5ed4a05943967383a0bdfa0"
       },
       "scales_metadata": {
        "color": {
         "dimension": "color"
        },
        "opacity": {
         "dimension": "opacity"
        },
        "rotation": {
         "dimension": "rotation"
        },
        "size": {
         "dimension": "size"
        },
        "skew": {
         "dimension": "skew"
        },
        "x": {
         "dimension": "x",
         "orientation": "horizontal"
        },
        "y": {
         "dimension": "y",
         "orientation": "vertical"
        }
       },
       "selected": [],
       "size": {
        "type": null,
        "values": null
       },
       "skew": {
        "type": null,
        "values": null
       },
       "stroke": "black",
       "tooltip": "IPY_MODEL_bcfe726e652e44579bcc26b1621c421f",
       "x": {
        "type": "float",
        "values": [
         0.771320643266746,
         0.6336482349262754,
         0.4985070123025904,
         0.19806286475962398,
         0.16911083656253545,
         0.6853598183677972
        ]
       },
       "y": {
        "type": "float",
        "values": [
         0.0207519493594015,
         0.7488038825386119,
         0.22479664553084766,
         0.7605307121989587,
         0.08833981417401027,
         0.9533933461949365
        ]
       }
      }
     },
     "4ef18271239d481cbe746c646d1c00cb": {
      "model_module": "bqplot",
      "model_module_version": "^0.4.5",
      "model_name": "LinearScaleModel",
      "state": {
       "allow_padding": false,
       "max": 1,
       "min": 0,
       "stabilized": false
      }
     },
     "4f4c59ed72e74575a8279e930ad3e554": {
      "model_module": "@jupyter-widgets/base",
      "model_module_version": "1.1.0",
      "model_name": "LayoutModel",
      "state": {}
     },
     "4fa29674c7564e5fa8feeea68fdfb959": {
      "model_module": "bqplot",
      "model_module_version": "^0.4.5",
      "model_name": "LinesModel",
      "state": {
       "close_path": true,
       "color": {
        "type": null,
        "values": null
       },
       "display_legend": false,
       "fill": "inside",
       "fill_colors": [
        "orange",
        "blue",
        "red"
       ],
       "labels": [
        "R-one",
        "R-two"
       ],
       "scales": {
        "x": "IPY_MODEL_c7a231f6fba14e3eb7b4db50ab998be0",
        "y": "IPY_MODEL_e2d8c7cf04e34fb58fb8a5c1631bb814"
       },
       "selected": [],
       "stroke_width": 1,
       "tooltip": "IPY_MODEL_b80ed1e2fbfa45358769dcf805aedaf3",
       "x": {
        "type": "float",
        "values": [
         [
          0.4097295846150608,
          0.8520227339335706,
          1.7332689863391435,
          0.4200808874255707
         ],
         [
          0.4097295846150608,
          0.22355450954331613,
          0.4501473823600029,
          0.8520227339335706
         ]
        ]
       },
       "y": {
        "type": "float",
        "values": [
         [
          0.5271223505498778,
          0.41305515312279745,
          0.5796961417400555,
          0.9116146811300156
         ],
         [
          0.5271223505498778,
          0.42271381055996105,
          -0.12426375746363771,
          0.41305515312279745
         ]
        ]
       }
      }
     },
     "50c63222ae774ff28a53636ab61d0d8c": {
      "model_module": "bqplot",
      "model_module_version": "^0.4.5",
      "model_name": "AxisModel",
      "state": {
       "scale": "IPY_MODEL_f531654881c94b01b7cb641f099e7c9c",
       "side": "bottom",
       "tick_values": {
        "type": null,
        "values": null
       }
      }
     },
     "50f60d6d6b784ee4b068388e2d261a35": {
      "model_module": "bqplot",
      "model_module_version": "^0.4.5",
      "model_name": "FigureModel",
      "state": {
       "_dom_classes": [],
       "animation_duration": 1000,
       "axes": [
        "IPY_MODEL_f22e33cfd312489497ef4c9542d2a7d3",
        "IPY_MODEL_4bcd69b5ec854e008ce77a261574f7ac"
       ],
       "layout": "IPY_MODEL_a94f0d31d63746289eb8c07812073fe4",
       "marks": [
        "IPY_MODEL_751d61c47eb04d008c7ec1b6fe45daac"
       ],
       "scale_x": "IPY_MODEL_8f053e6777a04f1f8c22b1399808804b",
       "scale_y": "IPY_MODEL_9c2c0e4aaa054fd5a4e5ffa73970fb91"
      }
     },
     "51894d26da2240f1931cb6780a9b6ba2": {
      "model_module": "bqplot",
      "model_module_version": "^0.4.5",
      "model_name": "LinesModel",
      "state": {
       "close_path": true,
       "color": {
        "type": null,
        "values": null
       },
       "display_legend": false,
       "fill": "inside",
       "fill_colors": [
        "orange",
        "blue",
        "red"
       ],
       "labels": [
        "C1",
        "C2",
        "C3",
        "C4"
       ],
       "scales": {
        "x": "IPY_MODEL_625fffbed60943e1a70faebf9af85a3d",
        "y": "IPY_MODEL_c9f623e73d9542f8bb969cf3ebfa6cfc"
       },
       "selected": [],
       "stroke_width": 1,
       "tooltip": "IPY_MODEL_99575a00246640449d6a743bf97fd125",
       "x": {
        "type": "object",
        "values": [
         [
          0.6790714093103971,
          0.6838775462866998,
          1.2311893360787933,
          0.8368019646982289
         ],
         [
          0.22738068359095126,
          0.43020238893545215,
          0.5272947621552145,
          0.5843433203379271
         ],
         [
          0.43020238893545215,
          0.28766969405592147,
          0.5281075673364094,
          0.6790714093103971,
          0.6838775462866998,
          0.5272947621552145
         ],
         [
          0.22738068359095126,
          -5.20820435004358,
          0.11120787378448214,
          0.28766969405592147,
          0.43020238893545215
         ]
        ]
       },
       "y": {
        "type": "object",
        "values": [
         [
          0.22900528542596285,
          0.5342473347036941,
          0.6785452236610399,
          0.2219913829992549
         ],
         [
          0.7667443763710994,
          0.5502889056231901,
          0.5706683504567711,
          1.3129857260028264
         ],
         [
          0.5502889056231901,
          0.35492950428148073,
          -0.15153524143845282,
          0.22900528542596285,
          0.5342473347036941,
          0.5706683504567711
         ],
         [
          0.7667443763710994,
          1.8846379679106748,
          0.3365460478735013,
          0.35492950428148073,
          0.5502889056231901
         ]
        ]
       }
      }
     },
     "519e1983bc7e4ac393fd50cf9ff4885a": {
      "model_module": "bqplot",
      "model_module_version": "^0.4.5",
      "model_name": "LinearScaleModel",
      "state": {
       "stabilized": false
      }
     },
     "51c81942eeac46c88df2d8543613ee5a": {
      "model_module": "bqplot",
      "model_module_version": "^0.4.5",
      "model_name": "LinearScaleModel",
      "state": {
       "stabilized": false
      }
     },
     "51fb9ebaea024d7e89094e05af86c8d5": {
      "model_module": "bqplot",
      "model_module_version": "^0.4.5",
      "model_name": "LinesModel",
      "state": {
       "color": {
        "type": null,
        "values": null
       },
       "colors": [
        "black"
       ],
       "display_legend": false,
       "fill_colors": [],
       "labels": [
        "C1"
       ],
       "scales": {
        "x": "IPY_MODEL_b50daaba70f04418935494498fcbe2b3",
        "y": "IPY_MODEL_27e68e618c6a452a9dc5120635c7b7f1"
       },
       "selected": [],
       "x": {
        "type": "float",
        "values": [
         0.5281075673364094,
         0.28766969405592147
        ]
       },
       "y": {
        "type": "float",
        "values": [
         -0.15153524143845282,
         0.35492950428148073
        ]
       }
      }
     },
     "520e2a1cff8b4383831f7fc89274be4b": {
      "model_module": "bqplot",
      "model_module_version": "^0.4.5",
      "model_name": "LinearScaleModel",
      "state": {
       "allow_padding": false,
       "max": 1,
       "min": 0,
       "stabilized": false
      }
     },
     "5215be2613a944a4a7347eb9d7356964": {
      "model_module": "@jupyter-widgets/base",
      "model_module_version": "1.1.0",
      "model_name": "LayoutModel",
      "state": {
       "min_width": "125px"
      }
     },
     "524286b446714aa3a9837431a8260970": {
      "model_module": "@jupyter-widgets/base",
      "model_module_version": "1.1.0",
      "model_name": "LayoutModel",
      "state": {
       "min_width": "125px"
      }
     },
     "524c1e993b32448d952763431ba2afb1": {
      "model_module": "bqplot",
      "model_module_version": "^0.4.5",
      "model_name": "LinearScaleModel",
      "state": {
       "allow_padding": false,
       "max": 1,
       "min": 0,
       "stabilized": false
      }
     },
     "5283068f818a4b989f077f4183c7de26": {
      "model_module": "bqplot",
      "model_module_version": "^0.4.5",
      "model_name": "LinearScaleModel",
      "state": {
       "allow_padding": false,
       "max": 1,
       "min": 0,
       "stabilized": false
      }
     },
     "5290da42427d460aa2c684cd4a0054f4": {
      "model_module": "bqplot",
      "model_module_version": "^0.4.5",
      "model_name": "LinearScaleModel",
      "state": {
       "stabilized": false
      }
     },
     "52fdaf785aac4becacc65ebf349287db": {
      "model_module": "bqplot",
      "model_module_version": "^0.4.5",
      "model_name": "LinearScaleModel",
      "state": {
       "allow_padding": false,
       "max": 1,
       "min": 0,
       "stabilized": false
      }
     },
     "548b675ff3c8481a963de69c6304d582": {
      "model_module": "bqplot",
      "model_module_version": "^0.4.5",
      "model_name": "LinesModel",
      "state": {
       "close_path": true,
       "color": {
        "type": null,
        "values": null
       },
       "fill": "inside",
       "fill_colors": [
        "orange",
        "blue",
        "red"
       ],
       "labels": [
        "C1",
        "C2",
        "C3",
        "C4",
        "C5",
        "C6",
        "C7",
        "C8",
        "C9",
        "C10",
        "C11",
        "C12",
        "C13",
        "C14",
        "C15",
        "C16",
        "C17",
        "C18",
        "C19",
        "C20",
        "C21",
        "C22",
        "C23",
        "C24",
        "C25",
        "C26",
        "C27",
        "C28",
        "C29",
        "C30",
        "C31",
        "C32",
        "C33",
        "C34",
        "C35",
        "C36",
        "C37",
        "C38",
        "C39",
        "C40",
        "C41",
        "C42",
        "C43",
        "C44",
        "C45",
        "C46",
        "C47",
        "C48",
        "C49",
        "C50",
        "C51",
        "C52",
        "C53",
        "C54",
        "C55",
        "C56",
        "C57",
        "C58",
        "C59",
        "C60",
        "C61",
        "C62",
        "C63",
        "C64",
        "C65",
        "C66",
        "C67",
        "C68",
        "C69",
        "C70",
        "C71",
        "C72",
        "C73",
        "C74",
        "C75",
        "C76",
        "C77",
        "C78",
        "C79",
        "C80",
        "C81",
        "C82",
        "C83",
        "C84",
        "C85",
        "C86",
        "C87",
        "C88",
        "C89"
       ],
       "scales": {
        "x": "IPY_MODEL_abee6e2b2caa4769b78f09c175bd96c5",
        "y": "IPY_MODEL_fb2943a354954b32811241139452f1ea"
       },
       "selected": [],
       "tooltip": "IPY_MODEL_99575a00246640449d6a743bf97fd125",
       "x": {
        "type": "object",
        "values": [
         [
          -0.08475255245909073,
          0.05996367321148319,
          0.08479322651163212,
          0.05995157333505969
         ],
         [
          0.8922615808363101,
          0.9484974881532601,
          1.0239771911803062,
          0.9248738133821013
         ],
         [
          0.7826123297616694,
          0.5860766963396512,
          0.5537235568411509,
          0.7436386117536268
         ],
         [
          0.17765909719740863,
          0.21650059679839287,
          0.1566239907650207,
          0.1552441098754926,
          0.1271638945344281
         ],
         [
          0.8958729363977855,
          0.9025114453381056,
          3.7254727548007427,
          1.303489620089487,
          0.936997956036985
         ],
         [
          0.6894979865685824,
          0.6796363156123174,
          0.5407313810836678,
          0.5799455851411179
         ],
         [
          0.1671225413659981,
          0.0808544173481181,
          0.05995157333505969,
          0.08479322651163212,
          0.11362353230857873
         ],
         [
          0.7549312571304825,
          0.8369463236034708,
          0.8922615808363101,
          0.9248738133821013,
          0.8599618954914474,
          0.7616680727815712
         ],
         [
          0.32606350501054976,
          0.3654306665415356,
          0.4858904348533996,
          0.442543263660364,
          0.3664561062146867
         ],
         [
          0.3520617134062079,
          0.44763325809529253,
          0.5095771494014502,
          0.442543263660364,
          0.3664561062146867
         ],
         [
          0.32606350501054976,
          0.3654306665415356,
          0.19839889654454215,
          0.17765909719740863,
          0.21650059679839287,
          0.2695248325435307
         ],
         [
          0.8844761822970881,
          0.936997956036985,
          1.303489620089487,
          0.9728074978146745,
          0.8911378732215105
         ],
         [
          0.2791442374766947,
          0.2229997144601798,
          0.2333529203899401,
          0.28055530091993486,
          0.3319212309666195,
          0.3311547349960527,
          0.29136386167098083
         ],
         [
          0.17648291232270985,
          0.2229997144601798,
          0.2333529203899401,
          0.1671225413659981,
          0.11362353230857873,
          0.1409855013646931
         ],
         [
          0.07095062550864997,
          0.056144536431563516,
          0.05996367321148319,
          0.08479322651163212,
          0.11362353230857873,
          0.1409855013646931
         ],
         [
          0.05655007723232634,
          -0.02324519529831473,
          -0.09305334874494212,
          0.056144536431563516,
          0.07095062550864997
         ],
         [
          0.13667936712823156,
          0.05655007723232634,
          0.07095062550864997,
          0.1409855013646931,
          0.17648291232270985,
          0.1735852467022309
         ],
         [
          0.7447345469272995,
          0.7616680727815712,
          0.8599618954914474,
          0.8518854947309326,
          0.8429504147257009,
          0.7744128193462205
         ],
         [
          0.6709186387390527,
          0.7156947871151625,
          0.7447345469272995,
          0.7616680727815712,
          0.7549312571304825,
          0.7251218009192109
         ],
         [
          0.8757336212707671,
          0.9423394792843589,
          0.9565291478195775,
          0.9014301289553135
         ],
         [
          0.9014301289553135,
          1.3244007962918452,
          1.8325616329645324,
          1.02982616672276,
          0.9565291478195775
         ],
         [
          0.9423394792843589,
          0.9421276079766667,
          1.02982616672276,
          0.9565291478195775
         ],
         [
          0.8757336212707671,
          0.8518854947309326,
          0.8429504147257009,
          0.785830720920853,
          0.801422360248676,
          0.9421276079766667,
          0.9423394792843589
         ],
         [
          0.8757336212707671,
          0.8518854947309326,
          0.8599618954914474,
          0.9248738133821013,
          1.0239771911803062,
          1.3244007962918452,
          0.9014301289553135
         ],
         [
          0.8541317747866634,
          0.7859138685880834,
          0.789965608949285,
          0.8401791254796137
         ],
         [
          0.8401791254796137,
          0.8892737740604402,
          0.8644922753139983,
          0.7298737677352258,
          0.7183722051991415,
          0.789965608949285
         ],
         [
          0.8541317747866634,
          0.8844761822970881,
          0.936997956036985,
          0.8958729363977855,
          0.8892737740604402,
          0.8401791254796137
         ],
         [
          0.7048678804266107,
          0.6631642732553857,
          0.6854600075030313,
          0.7717160432897252,
          0.7728842983270414,
          0.7814164182655865,
          0.7734494984340863,
          0.7169374798008875
         ],
         [
          0.6631642732553857,
          0.5681058918982578,
          0.576620155923006,
          0.619313591747615,
          0.6721261719859388,
          0.6854600075030313
         ],
         [
          0.7717160432897252,
          0.7859138685880834,
          0.789965608949285,
          0.7183722051991415,
          0.6721261719859388,
          0.6854600075030313
         ],
         [
          0.7728842983270414,
          0.8911378732215105,
          0.8844761822970881,
          0.8541317747866634,
          0.7859138685880834,
          0.7717160432897252
         ],
         [
          0.7814164182655865,
          0.9529268869895049,
          0.9728074978146745,
          0.8911378732215105,
          0.7728842983270414
         ],
         [
          0.7169374798008875,
          0.6904495102029342,
          0.6671021048905704,
          0.7251218009192109,
          0.7549312571304825,
          0.8369463236034708,
          0.7734494984340863
         ],
         [
          0.7814164182655865,
          0.9529268869895049,
          0.9484974881532601,
          0.8922615808363101,
          0.8369463236034708,
          0.7734494984340863
         ],
         [
          0.5297607660948835,
          0.5681058918982578,
          0.576620155923006,
          0.5640000795312106,
          0.5086191613034009
         ],
         [
          0.33933317272714597,
          0.28055530091993486,
          0.3319212309666195,
          0.42031053233311066
         ],
         [
          0.33933317272714597,
          0.28055530091993486,
          0.2333529203899401,
          0.1671225413659981,
          0.0808544173481181,
          0.010321678871761025,
          0.34157344385192684,
          0.34221769905311594
         ],
         [
          0.10333495561836159,
          0.04760604640978913,
          -0.04625587478358112,
          -0.39226000203974826,
          -1.7789473680243528,
          -0.09305334874494212,
          -0.02324519529831473,
          -0.0005457419939594588
         ],
         [
          0.19475412499205588,
          0.1735852467022309,
          0.17648291232270985,
          0.2229997144601798,
          0.2791442374766947,
          0.291091225069642,
          0.25105593314521024,
          0.2140083514416948
         ],
         [
          0.5366240358606154,
          0.7048678804266107,
          0.7169374798008875,
          0.6904495102029342,
          0.5428787745126074
         ],
         [
          0.5274599245815067,
          0.5297607660948835,
          0.5681058918982578,
          0.6631642732553857,
          0.7048678804266107,
          0.5366240358606154
         ],
         [
          0.701124545722612,
          0.7036389883440564,
          0.6182403792723945,
          0.6646145197870538
         ],
         [
          0.6646145197870538,
          0.785830720920853,
          0.801422360248676,
          0.7826123297616694,
          0.5860766963396512,
          0.5916533082236889,
          0.6182403792723945
         ],
         [
          0.701124545722612,
          0.7744128193462205,
          0.7447345469272995,
          0.7156947871151625,
          0.7036389883440564
         ],
         [
          0.701124545722612,
          0.7744128193462205,
          0.8429504147257009,
          0.785830720920853,
          0.6646145197870538
         ],
         [
          0.5470067628086378,
          0.5477820176509163,
          0.5553265773930277,
          0.6200078432886269,
          0.6302899336424557,
          0.5636341839045399
         ],
         [
          0.6302899336424557,
          0.6709186387390527,
          0.7251218009192109,
          0.6671021048905704,
          0.6200078432886269
         ],
         [
          0.5553265773930277,
          0.5242973002939889,
          0.5428787745126074,
          0.6904495102029342,
          0.6671021048905704,
          0.6200078432886269
         ],
         [
          0.5470067628086378,
          0.5095771494014502,
          0.44763325809529253,
          0.48942986971702956,
          0.522867036202907,
          0.5477820176509163
         ],
         [
          0.5636341839045399,
          0.5916533082236889,
          0.6182403792723945,
          0.7036389883440564,
          0.7156947871151625,
          0.6709186387390527,
          0.6302899336424557
         ],
         [
          0.5470067628086378,
          0.5095771494014502,
          0.442543263660364,
          0.4858904348533996,
          0.5537235568411509,
          0.5860766963396512,
          0.5916533082236889,
          0.5636341839045399
         ],
         [
          0.5964126211383934,
          0.619313591747615,
          0.576620155923006,
          0.5640000795312106,
          0.5214422698732747
         ],
         [
          0.4972937373557724,
          0.5086191613034009,
          0.5640000795312106,
          0.5214422698732747
         ],
         [
          0.16506419872830538,
          0.17721576125534005,
          0.1695141925197683,
          0.1507729848388969,
          0.12016844646865305,
          0.14036078719250036
         ],
         [
          0.17721576125534005,
          0.2140083514416948,
          0.25105593314521024,
          0.1695141925197683
         ],
         [
          0.12016844646865305,
          -0.0005457419939594588,
          0.10333495561836159,
          0.15053204889866073,
          0.15452095643035138,
          0.1507729848388969
         ],
         [
          0.14036078719250036,
          0.13667936712823156,
          0.05655007723232634,
          -0.02324519529831473,
          -0.0005457419939594588,
          0.12016844646865305
         ],
         [
          0.16506419872830538,
          0.19475412499205588,
          0.2140083514416948,
          0.17721576125534005
         ],
         [
          0.16506419872830538,
          0.19475412499205588,
          0.1735852467022309,
          0.13667936712823156,
          0.14036078719250036
         ],
         [
          0.4605730717345083,
          0.48942986971702956,
          0.522867036202907,
          0.4703456141659566
         ],
         [
          0.30312719685986156,
          0.34597676713144443,
          0.4532308777519833,
          0.4783054380385875,
          0.42827364718111444,
          0.36145620663848865,
          0.35129906105930825,
          0.3099005352519825,
          0.2960651180774041
         ],
         [
          0.4783054380385875,
          0.5242973002939889,
          0.5553265773930277,
          0.5477820176509163,
          0.522867036202907,
          0.4703456141659566,
          0.4375923516362236,
          0.4532308777519833
         ],
         [
          0.34597676713144443,
          0.39033700114917896,
          0.4375923516362236,
          0.4532308777519833
         ],
         [
          0.42827364718111444,
          0.47032905822515186,
          0.5274599245815067,
          0.5366240358606154,
          0.5428787745126074,
          0.5242973002939889,
          0.4783054380385875
         ],
         [
          0.2960651180774041,
          0.15452095643035138,
          0.1507729848388969,
          0.1695141925197683,
          0.25105593314521024,
          0.291091225069642,
          0.3099005352519825
         ],
         [
          0.35129906105930825,
          0.36662579097945813,
          0.29136386167098083,
          0.2791442374766947,
          0.291091225069642,
          0.3099005352519825
         ],
         [
          0.4848580727969724,
          0.5895224762949374,
          0.566546369174203,
          0.4963353142060988
         ],
         [
          0.5895224762949374,
          0.5964126211383934,
          0.619313591747615,
          0.6721261719859388,
          0.7183722051991415,
          0.7298737677352258,
          0.6894979865685824,
          0.5799455851411179,
          0.566546369174203
         ],
         [
          0.4963353142060988,
          0.34221769905311594,
          0.34157344385192684,
          0.5407313810836678,
          0.5799455851411179,
          0.566546369174203
         ],
         [
          0.4848580727969724,
          0.4521549564191969,
          0.4566809954174328,
          0.4972937373557724,
          0.5214422698732747,
          0.5964126211383934,
          0.5895224762949374
         ],
         [
          0.4848580727969724,
          0.4521549564191969,
          0.42031053233311066,
          0.33933317272714597,
          0.34221769905311594,
          0.4963353142060988
         ],
         [
          0.44216205566498235,
          0.38914220788535414,
          0.37894569470583306,
          0.39159600729095523,
          0.4315829045308878
         ],
         [
          0.38914220788535414,
          0.36145620663848865,
          0.35129906105930825,
          0.36662579097945813,
          0.37894569470583306
         ],
         [
          0.39159600729095523,
          0.3311547349960527,
          0.29136386167098083,
          0.36662579097945813,
          0.37894569470583306
         ],
         [
          0.44216205566498235,
          0.47032905822515186,
          0.42827364718111444,
          0.36145620663848865,
          0.38914220788535414
         ],
         [
          0.4315829045308878,
          0.4566809954174328,
          0.4521549564191969,
          0.42031053233311066,
          0.3319212309666195,
          0.3311547349960527,
          0.39159600729095523
         ],
         [
          0.44216205566498235,
          0.47032905822515186,
          0.5274599245815067,
          0.5297607660948835,
          0.5086191613034009,
          0.4972937373557724,
          0.4566809954174328,
          0.4315829045308878
         ],
         [
          0.2963056260082066,
          0.2758845865743852,
          0.290488628167884,
          0.3801911569000378,
          0.3782918917747366,
          0.35181930886404145,
          0.3284976395205213
         ],
         [
          0.3801911569000378,
          0.39033700114917896,
          0.34597676713144443,
          0.30312719685986156,
          0.290488628167884
         ],
         [
          0.3801911569000378,
          0.39033700114917896,
          0.4375923516362236,
          0.4703456141659566,
          0.4605730717345083,
          0.3782918917747366
         ],
         [
          0.35181930886404145,
          0.3520617134062079,
          0.44763325809529253,
          0.48942986971702956,
          0.4605730717345083,
          0.3782918917747366
         ],
         [
          0.3284976395205213,
          0.2695248325435307,
          0.32606350501054976,
          0.3664561062146867,
          0.3520617134062079,
          0.35181930886404145
         ],
         [
          0.25749109839409895,
          0.21267926962347788,
          0.18993022694083767,
          0.15260836072302839,
          0.1601661297401958,
          0.19131887276363133
         ],
         [
          0.15260836072302839,
          0.04760604640978913,
          0.10333495561836159,
          0.15053204889866073,
          0.18993022694083767
         ],
         [
          0.21267926962347788,
          0.2758845865743852,
          0.290488628167884,
          0.30312719685986156,
          0.2960651180774041,
          0.15452095643035138,
          0.15053204889866073,
          0.18993022694083767
         ],
         [
          0.25749109839409895,
          0.2963056260082066,
          0.2758845865743852,
          0.21267926962347788
         ],
         [
          0.1601661297401958,
          -0.04625587478358112,
          0.04760604640978913,
          0.15260836072302839
         ],
         [
          0.19131887276363133,
          0.1566239907650207,
          0.1552441098754926,
          -0.39226000203974826,
          -0.04625587478358112,
          0.1601661297401958
         ],
         [
          0.25749109839409895,
          0.2963056260082066,
          0.3284976395205213,
          0.2695248325435307,
          0.21650059679839287,
          0.1566239907650207,
          0.19131887276363133
         ]
        ]
       },
       "y": {
        "type": "object",
        "values": [
         [
          0.18766431216864535,
          0.21527102341507598,
          0.20046932988757732,
          0.1194803976086593
         ],
         [
          0.6868518466109428,
          0.5094704930413251,
          0.7165458345627486,
          0.7184602714731044
         ],
         [
          1.8922301144088802,
          0.8967030635235811,
          0.9285927594555251,
          9.080515652644772
         ],
         [
          1.0454818206669554,
          0.8964747041044363,
          0.8376082780480106,
          0.8381631508354757,
          0.8886984395238302
         ],
         [
          0.11172678228221458,
          0.11016256913183203,
          0.22706467021620985,
          0.3576663780475622,
          0.19413373564767408
         ],
         [
          0.04860075706480346,
          -0.3581431095198661,
          0.049568673630367696,
          0.09173586509883759
         ],
         [
          0.1722183383016177,
          -0.07901055705348747,
          0.1194803976086593,
          0.20046932988757732,
          0.20520922900059238
         ],
         [
          0.7019195682692153,
          0.6603252712722206,
          0.6868518466109428,
          0.7184602714731044,
          0.8402217323191642,
          0.7344849729730747
         ],
         [
          0.9613190256159994,
          1.1775730858911575,
          0.9549678365504611,
          0.8913140982878146,
          0.8970546364447082
         ],
         [
          0.7484957085719692,
          0.7717007454329576,
          0.8082006063944445,
          0.8913140982878146,
          0.8970546364447082
         ],
         [
          0.9613190256159994,
          1.1775730858911575,
          4.982895881976411,
          1.0454818206669554,
          0.8964747041044363,
          0.9242822386210425
         ],
         [
          0.2771803893538775,
          0.19413373564767408,
          0.3576663780475622,
          0.4119712958896557,
          0.3033889194259604
         ],
         [
          0.3238873693846753,
          0.29148470160424356,
          0.17593003600410642,
          0.14469039984150253,
          0.24990801641289362,
          0.26959722658301405,
          0.3137062708979666
         ],
         [
          0.30394314189934274,
          0.29148470160424356,
          0.17593003600410642,
          0.1722183383016177,
          0.20520922900059238,
          0.27207049270978617
         ],
         [
          0.3085511341833507,
          0.23058334950142662,
          0.21527102341507598,
          0.20046932988757732,
          0.20520922900059238,
          0.27207049270978617
         ],
         [
          0.3431072560593489,
          0.3957228384668044,
          0.39725019822092095,
          0.23058334950142662,
          0.3085511341833507
         ],
         [
          0.34962855420619454,
          0.3431072560593489,
          0.3085511341833507,
          0.27207049270978617,
          0.30394314189934274,
          0.3100059779332992
         ],
         [
          0.8216202073292638,
          0.7344849729730747,
          0.8402217323191642,
          0.8657456469260267,
          0.8732042889870765,
          0.8479268089004451
         ],
         [
          0.7673468451756451,
          0.8144101760630202,
          0.8216202073292638,
          0.7344849729730747,
          0.7019195682692153,
          0.6991242806345185
         ],
         [
          0.8735922478824225,
          0.9696878618956105,
          0.9170251339517272,
          0.880160391287594
         ],
         [
          0.880160391287594,
          0.7604922534623879,
          0.8007297533052902,
          0.9314918412571357,
          0.9170251339517272
         ],
         [
          0.9696878618956105,
          1.001192592188652,
          0.9314918412571357,
          0.9170251339517272
         ],
         [
          0.8735922478824225,
          0.8657456469260267,
          0.8732042889870765,
          1.0859796319724686,
          1.247079160396166,
          1.001192592188652,
          0.9696878618956105
         ],
         [
          0.8735922478824225,
          0.8657456469260267,
          0.8402217323191642,
          0.7184602714731044,
          0.7165458345627486,
          0.7604922534623879,
          0.880160391287594
         ],
         [
          0.24205285536871227,
          0.27599855080035385,
          0.21108377925102728,
          0.2147733196050809
         ],
         [
          0.2147733196050809,
          0.10984248903153968,
          0.08737940042812475,
          0.1011437071253222,
          0.17238634089536212,
          0.21108377925102728
         ],
         [
          0.24205285536871227,
          0.2771803893538775,
          0.19413373564767408,
          0.11172678228221458,
          0.10984248903153968,
          0.2147733196050809
         ],
         [
          0.467726445447311,
          0.3541803069655101,
          0.26824168218044814,
          0.3046083008151902,
          0.30610446546143244,
          0.4785102256398476,
          0.4838743117569385,
          0.48605425325409496
         ],
         [
          0.3541803069655101,
          0.3444875255485018,
          0.29571490100449,
          0.22570350965524086,
          0.23192857621009208,
          0.26824168218044814
         ],
         [
          0.3046083008151902,
          0.27599855080035385,
          0.21108377925102728,
          0.17238634089536212,
          0.23192857621009208,
          0.26824168218044814
         ],
         [
          0.30610446546143244,
          0.3033889194259604,
          0.2771803893538775,
          0.24205285536871227,
          0.27599855080035385,
          0.3046083008151902
         ],
         [
          0.4785102256398476,
          0.42658719064026895,
          0.4119712958896557,
          0.3033889194259604,
          0.30610446546143244
         ],
         [
          0.48605425325409496,
          0.5092483320350483,
          0.6363753904287199,
          0.6991242806345185,
          0.7019195682692153,
          0.6603252712722206,
          0.4838743117569385
         ],
         [
          0.4785102256398476,
          0.42658719064026895,
          0.5094704930413251,
          0.6868518466109428,
          0.6603252712722206,
          0.4838743117569385
         ],
         [
          0.37057517751831476,
          0.3444875255485018,
          0.29571490100449,
          0.29117974126706186,
          0.2821610834105058
         ],
         [
          0.035756405969484026,
          0.14469039984150253,
          0.24990801641289362,
          0.20430592009960438
         ],
         [
          0.035756405969484026,
          0.14469039984150253,
          0.17593003600410642,
          0.1722183383016177,
          -0.07901055705348747,
          -1.0446450770919942,
          0.010092086317784826,
          0.02055230592172938
         ],
         [
          0.5237154036894824,
          0.5971900444033128,
          0.6356589983148537,
          0.688490771421261,
          0.6582838271180349,
          0.39725019822092095,
          0.3957228384668044,
          0.4068044484925284
         ],
         [
          0.37118631712933614,
          0.3100059779332992,
          0.30394314189934274,
          0.29148470160424356,
          0.3238873693846753,
          0.4083810612903426,
          0.40715830347643817,
          0.39144951626646507
         ],
         [
          0.39020272720305593,
          0.467726445447311,
          0.48605425325409496,
          0.5092483320350483,
          0.52873243696096
         ],
         [
          0.3739717115854233,
          0.37057517751831476,
          0.3444875255485018,
          0.3541803069655101,
          0.467726445447311,
          0.39020272720305593
         ],
         [
          0.8927480562390957,
          0.8272332178847879,
          0.8954848047986568,
          0.9228324518455797
         ],
         [
          0.9228324518455797,
          1.0859796319724686,
          1.247079160396166,
          1.8922301144088802,
          0.8967030635235811,
          0.8877704180284818,
          0.8954848047986568
         ],
         [
          0.8927480562390957,
          0.8479268089004451,
          0.8216202073292638,
          0.8144101760630202,
          0.8272332178847879
         ],
         [
          0.8927480562390957,
          0.8479268089004451,
          0.8732042889870765,
          1.0859796319724686,
          0.9228324518455797
         ],
         [
          0.809941745848387,
          0.6679792001868494,
          0.6586657461542196,
          0.6610534418697956,
          0.7729074066766817,
          0.8193116546871726
         ],
         [
          0.7729074066766817,
          0.7673468451756451,
          0.6991242806345185,
          0.6363753904287199,
          0.6610534418697956
         ],
         [
          0.6586657461542196,
          0.5402388654119852,
          0.52873243696096,
          0.5092483320350483,
          0.6363753904287199,
          0.6610534418697956
         ],
         [
          0.809941745848387,
          0.8082006063944445,
          0.7717007454329576,
          0.6882430887844456,
          0.6709070286227734,
          0.6679792001868494
         ],
         [
          0.8193116546871726,
          0.8877704180284818,
          0.8954848047986568,
          0.8272332178847879,
          0.8144101760630202,
          0.7673468451756451,
          0.7729074066766817
         ],
         [
          0.809941745848387,
          0.8082006063944445,
          0.8913140982878146,
          0.9549678365504611,
          0.9285927594555251,
          0.8967030635235811,
          0.8877704180284818,
          0.8193116546871726
         ],
         [
          0.21142628282008555,
          0.22570350965524086,
          0.29571490100449,
          0.29117974126706186,
          0.2523203179283004
         ],
         [
          0.2616604422629263,
          0.2821610834105058,
          0.29117974126706186,
          0.2523203179283004
         ],
         [
          0.3878572880016299,
          0.40128311247164994,
          0.44448474355667533,
          0.4634667433048437,
          0.4261828840691094,
          0.37801791295867226
         ],
         [
          0.40128311247164994,
          0.39144951626646507,
          0.40715830347643817,
          0.44448474355667533
         ],
         [
          0.4261828840691094,
          0.4068044484925284,
          0.5237154036894824,
          0.5048311265942593,
          0.49903492617112294,
          0.4634667433048437
         ],
         [
          0.37801791295867226,
          0.34962855420619454,
          0.3431072560593489,
          0.3957228384668044,
          0.4068044484925284,
          0.4261828840691094
         ],
         [
          0.3878572880016299,
          0.37118631712933614,
          0.39144951626646507,
          0.40128311247164994
         ],
         [
          0.3878572880016299,
          0.37118631712933614,
          0.3100059779332992,
          0.34962855420619454,
          0.37801791295867226
         ],
         [
          0.6773773209751246,
          0.6882430887844456,
          0.6709070286227734,
          0.641313448349839
         ],
         [
          0.5211116223211779,
          0.5352455910193442,
          0.5549061305866,
          0.5377512633017318,
          0.424981944864984,
          0.4210175224151471,
          0.42233558857231257,
          0.43320563724699845,
          0.49627856394354064
         ],
         [
          0.5377512633017318,
          0.5402388654119852,
          0.6586657461542196,
          0.6679792001868494,
          0.6709070286227734,
          0.641313448349839,
          0.6002678912229196,
          0.5549061305866
         ],
         [
          0.5352455910193442,
          0.6579497001675114,
          0.6002678912229196,
          0.5549061305866
         ],
         [
          0.424981944864984,
          0.3797539669887341,
          0.3739717115854233,
          0.39020272720305593,
          0.52873243696096,
          0.5402388654119852,
          0.5377512633017318
         ],
         [
          0.49627856394354064,
          0.49903492617112294,
          0.4634667433048437,
          0.44448474355667533,
          0.40715830347643817,
          0.4083810612903426,
          0.43320563724699845
         ],
         [
          0.42233558857231257,
          0.3331919091805511,
          0.3137062708979666,
          0.3238873693846753,
          0.4083810612903426,
          0.43320563724699845
         ],
         [
          0.192555381191076,
          0.20143039455042958,
          0.12174245284796215,
          0.134416745199609
         ],
         [
          0.20143039455042958,
          0.21142628282008555,
          0.22570350965524086,
          0.23192857621009208,
          0.17238634089536212,
          0.1011437071253222,
          0.04860075706480346,
          0.09173586509883759,
          0.12174245284796215
         ],
         [
          0.134416745199609,
          0.02055230592172938,
          0.010092086317784826,
          0.049568673630367696,
          0.09173586509883759,
          0.12174245284796215
         ],
         [
          0.192555381191076,
          0.22837908151214426,
          0.24686423413890973,
          0.2616604422629263,
          0.2523203179283004,
          0.21142628282008555,
          0.20143039455042958
         ],
         [
          0.192555381191076,
          0.22837908151214426,
          0.20430592009960438,
          0.035756405969484026,
          0.02055230592172938,
          0.134416745199609
         ],
         [
          0.3268257041360094,
          0.34906461030245395,
          0.32452628856155175,
          0.2931696138298367,
          0.28946007935453993
         ],
         [
          0.34906461030245395,
          0.4210175224151471,
          0.42233558857231257,
          0.3331919091805511,
          0.32452628856155175
         ],
         [
          0.2931696138298367,
          0.26959722658301405,
          0.3137062708979666,
          0.3331919091805511,
          0.32452628856155175
         ],
         [
          0.3268257041360094,
          0.3797539669887341,
          0.424981944864984,
          0.4210175224151471,
          0.34906461030245395
         ],
         [
          0.28946007935453993,
          0.24686423413890973,
          0.22837908151214426,
          0.20430592009960438,
          0.24990801641289362,
          0.26959722658301405,
          0.2931696138298367
         ],
         [
          0.3268257041360094,
          0.3797539669887341,
          0.3739717115854233,
          0.37057517751831476,
          0.2821610834105058,
          0.2616604422629263,
          0.24686423413890973,
          0.28946007935453993
         ],
         [
          0.7428207593708316,
          0.572826212514801,
          0.5559849359221616,
          0.6744095866684889,
          0.6853851357929981,
          0.7482526560874929,
          0.7468264727742786
         ],
         [
          0.6744095866684889,
          0.6579497001675114,
          0.5352455910193442,
          0.5211116223211779,
          0.5559849359221616
         ],
         [
          0.6744095866684889,
          0.6579497001675114,
          0.6002678912229196,
          0.641313448349839,
          0.6773773209751246,
          0.6853851357929981
         ],
         [
          0.7482526560874929,
          0.7484957085719692,
          0.7717007454329576,
          0.6882430887844456,
          0.6773773209751246,
          0.6853851357929981
         ],
         [
          0.7468264727742786,
          0.9242822386210425,
          0.9613190256159994,
          0.8970546364447082,
          0.7484957085719692,
          0.7482526560874929
         ],
         [
          0.7486326693949722,
          0.6018216028805788,
          0.5998268867262594,
          0.6285049324381569,
          0.7277908930375016,
          0.7777733040655163
         ],
         [
          0.6285049324381569,
          0.5971900444033128,
          0.5237154036894824,
          0.5048311265942593,
          0.5998268867262594
         ],
         [
          0.6018216028805788,
          0.572826212514801,
          0.5559849359221616,
          0.5211116223211779,
          0.49627856394354064,
          0.49903492617112294,
          0.5048311265942593,
          0.5998268867262594
         ],
         [
          0.7486326693949722,
          0.7428207593708316,
          0.572826212514801,
          0.6018216028805788
         ],
         [
          0.7277908930375016,
          0.6356589983148537,
          0.5971900444033128,
          0.6285049324381569
         ],
         [
          0.7777733040655163,
          0.8376082780480106,
          0.8381631508354757,
          0.688490771421261,
          0.6356589983148537,
          0.7277908930375016
         ],
         [
          0.7486326693949722,
          0.7428207593708316,
          0.7468264727742786,
          0.9242822386210425,
          0.8964747041044363,
          0.8376082780480106,
          0.7777733040655163
         ]
        ]
       }
      }
     },
     "54c1423b9c4247ebb7008c52a05e3d3c": {
      "model_module": "bqplot",
      "model_module_version": "^0.4.5",
      "model_name": "LinearScaleModel",
      "state": {
       "allow_padding": false,
       "max": 1,
       "min": 0,
       "stabilized": false
      }
     },
     "54f591db8e974136b7598701cd742ed2": {
      "model_module": "bqplot",
      "model_module_version": "^0.4.5",
      "model_name": "LinearScaleModel",
      "state": {
       "stabilized": false
      }
     },
     "558a7676ea29428485cf89d08bea8abc": {
      "model_module": "@jupyter-widgets/base",
      "model_module_version": "1.1.0",
      "model_name": "LayoutModel",
      "state": {}
     },
     "55d689d420554877acf5008f66cfc83d": {
      "model_module": "bqplot",
      "model_module_version": "^0.4.5",
      "model_name": "LinesModel",
      "state": {
       "color": {
        "type": null,
        "values": null
       },
       "colors": [
        "black"
       ],
       "display_legend": false,
       "fill_colors": [],
       "labels": [
        "C1"
       ],
       "scales": {
        "x": "IPY_MODEL_b50daaba70f04418935494498fcbe2b3",
        "y": "IPY_MODEL_27e68e618c6a452a9dc5120635c7b7f1"
       },
       "selected": [],
       "x": {
        "type": "float",
        "values": [
         1.2311893360787933,
         0.8368019646982289
        ]
       },
       "y": {
        "type": "float",
        "values": [
         0.6785452236610399,
         0.2219913829992549
        ]
       }
      }
     },
     "55f8e396dded4481b77e5425d0b5523f": {
      "model_module": "bqplot",
      "model_module_version": "^0.4.5",
      "model_name": "LinearScaleModel",
      "state": {
       "stabilized": false
      }
     },
     "5657d2b50cbe47b5910ebb55415a323c": {
      "model_module": "bqplot",
      "model_module_version": "^0.4.5",
      "model_name": "LinesModel",
      "state": {
       "color": {
        "type": null,
        "values": null
       },
       "colors": [
        "black"
       ],
       "display_legend": false,
       "fill_colors": [],
       "labels": [
        "C1"
       ],
       "scales": {
        "x": "IPY_MODEL_b50daaba70f04418935494498fcbe2b3",
        "y": "IPY_MODEL_27e68e618c6a452a9dc5120635c7b7f1"
       },
       "selected": [],
       "x": {
        "type": "float",
        "values": [
         0.28766969405592147,
         0.11120787378448214
        ]
       },
       "y": {
        "type": "float",
        "values": [
         0.35492950428148073,
         0.3365460478735013
        ]
       }
      }
     },
     "569e328ffdef40c0adc7a20ee68aeeb9": {
      "model_module": "bqplot",
      "model_module_version": "^0.4.5",
      "model_name": "AxisModel",
      "state": {
       "scale": "IPY_MODEL_00b47f877f94458ca9946c6c39d4a208",
       "side": "bottom",
       "tick_values": {
        "type": null,
        "values": null
       },
       "visible": false
      }
     },
     "56c8d9beaff141d1afbb69a81d330a99": {
      "model_module": "bqplot",
      "model_module_version": "^0.4.5",
      "model_name": "AxisModel",
      "state": {
       "scale": "IPY_MODEL_b50daaba70f04418935494498fcbe2b3",
       "side": "bottom",
       "tick_values": {
        "type": null,
        "values": null
       }
      }
     },
     "56effa79342a48d4897bcd7d4dcde0d4": {
      "model_module": "bqplot",
      "model_module_version": "^0.4.5",
      "model_name": "LinearScaleModel",
      "state": {
       "stabilized": false
      }
     },
     "577f2756a31b47c6ad844372692179dc": {
      "model_module": "bqplot",
      "model_module_version": "^0.4.5",
      "model_name": "FigureModel",
      "state": {
       "_dom_classes": [],
       "animation_duration": 1000,
       "axes": [
        "IPY_MODEL_60d0fe0e03a34522a7be4aa3d5647e6c",
        "IPY_MODEL_4cfb88b10c9140d4bb38e732c9e61f42"
       ],
       "layout": "IPY_MODEL_3ab8a70b099d4eca978fab548cf622bf",
       "marks": [
        "IPY_MODEL_c83810b4615640e59211765da940dc37",
        "IPY_MODEL_758406de2ba146758e69346d1934ce65"
       ],
       "scale_x": "IPY_MODEL_7cd4282d25f64a9fb984fa90ebe36be4",
       "scale_y": "IPY_MODEL_4d05a4eea8a84a2a8f491d20eee27250"
      }
     },
     "5881d6682ab542fd977e340cb459ee12": {
      "model_module": "@jupyter-widgets/base",
      "model_module_version": "1.1.0",
      "model_name": "LayoutModel",
      "state": {
       "min_width": "125px"
      }
     },
     "58a4a3ecf03b454fb2c4e4c18fb9ff2c": {
      "model_module": "@jupyter-widgets/base",
      "model_module_version": "1.1.0",
      "model_name": "LayoutModel",
      "state": {
       "min_width": "125px"
      }
     },
     "596acaae9ab642d389b97eb131d3333b": {
      "model_module": "bqplot",
      "model_module_version": "^0.4.5",
      "model_name": "AxisModel",
      "state": {
       "orientation": "vertical",
       "scale": "IPY_MODEL_919347462c1e4ffeb54daf3ccb8bc289",
       "side": "left",
       "tick_values": {
        "type": null,
        "values": null
       }
      }
     },
     "5988486b82dc4c168f78c8b62a0c4c7b": {
      "model_module": "bqplot",
      "model_module_version": "^0.4.5",
      "model_name": "LinesModel",
      "state": {
       "close_path": true,
       "color": {
        "type": null,
        "values": null
       },
       "display_legend": false,
       "fill": "inside",
       "fill_colors": [
        "orange",
        "blue",
        "red"
       ],
       "labels": [
        "C1"
       ],
       "scales": {
        "x": "IPY_MODEL_65522e75b63740df8eeacfba4dc68be9",
        "y": "IPY_MODEL_93ac324997474f96987d3e61d77089a5"
       },
       "selected": [],
       "stroke_width": 1,
       "tooltip": "IPY_MODEL_99575a00246640449d6a743bf97fd125",
       "x": {
        "type": "float",
        "values": [
         0.4097295846150608,
         0.22355450954331607,
         0.4501473823600029,
         0.8520227339335706
        ]
       },
       "y": {
        "type": "float",
        "values": [
         0.5271223505498778,
         0.4227138105599612,
         -0.12426375746363771,
         0.41305515312279745
        ]
       }
      }
     },
     "599ebb0a8fce46f19f1b0684544c04ee": {
      "model_module": "bqplot",
      "model_module_version": "^0.4.5",
      "model_name": "AxisModel",
      "state": {
       "orientation": "vertical",
       "scale": "IPY_MODEL_1d74b54d6d234f3f916c600e47dbf8c7",
       "side": "left",
       "tick_values": {
        "type": null,
        "values": null
       }
      }
     },
     "5a00481399ea4e10bdf4986ce0f6ea9e": {
      "model_module": "bqplot",
      "model_module_version": "^0.4.5",
      "model_name": "ScatterModel",
      "state": {
       "color": {
        "type": null,
        "values": null
       },
       "colors": [
        "black"
       ],
       "display_legend": false,
       "names": {
        "type": null,
        "values": null
       },
       "opacity": {
        "type": null,
        "values": null
       },
       "rotation": {
        "type": null,
        "values": null
       },
       "scales": {
        "x": "IPY_MODEL_b50daaba70f04418935494498fcbe2b3",
        "y": "IPY_MODEL_27e68e618c6a452a9dc5120635c7b7f1"
       },
       "scales_metadata": {
        "color": {
         "dimension": "color"
        },
        "opacity": {
         "dimension": "opacity"
        },
        "rotation": {
         "dimension": "rotation"
        },
        "size": {
         "dimension": "size"
        },
        "skew": {
         "dimension": "skew"
        },
        "x": {
         "dimension": "x",
         "orientation": "horizontal"
        },
        "y": {
         "dimension": "y",
         "orientation": "vertical"
        }
       },
       "selected": [],
       "size": {
        "type": null,
        "values": null
       },
       "skew": {
        "type": null,
        "values": null
       },
       "x": {
        "type": "float",
        "values": [
         0.5281075673364094,
         0.28766969405592147,
         -5.20820435004358,
         0.11120787378448214,
         1.2311893360787933,
         0.6838775462866998,
         0.8368019646982289,
         0.6790714093103971,
         0.5272947621552145,
         0.43020238893545215,
         0.5843433203379271,
         0.22738068359095126
        ]
       },
       "y": {
        "type": "float",
        "values": [
         -0.15153524143845282,
         0.35492950428148073,
         1.8846379679106748,
         0.3365460478735013,
         0.6785452236610399,
         0.5342473347036941,
         0.2219913829992549,
         0.22900528542596285,
         0.5706683504567711,
         0.5502889056231901,
         1.3129857260028264,
         0.7667443763710994
        ]
       }
      }
     },
     "5a5b44e6440a46e9bc0cda3ab1bcfeba": {
      "model_module": "bqplot",
      "model_module_version": "^0.4.5",
      "model_name": "ScatterModel",
      "state": {
       "color": {
        "type": null,
        "values": null
       },
       "colors": [
        "steelblue"
       ],
       "display_legend": false,
       "names": {
        "type": "<U5",
        "values": [
         "one",
         "two",
         "three",
         "four",
         "five",
         "six"
        ]
       },
       "opacity": {
        "type": null,
        "values": null
       },
       "rotation": {
        "type": null,
        "values": null
       },
       "scales": {
        "x": "IPY_MODEL_9ceddc83bd5749818613de8a049270d8",
        "y": "IPY_MODEL_54f591db8e974136b7598701cd742ed2"
       },
       "scales_metadata": {
        "color": {
         "dimension": "color"
        },
        "opacity": {
         "dimension": "opacity"
        },
        "rotation": {
         "dimension": "rotation"
        },
        "size": {
         "dimension": "size"
        },
        "skew": {
         "dimension": "skew"
        },
        "x": {
         "dimension": "x",
         "orientation": "horizontal"
        },
        "y": {
         "dimension": "y",
         "orientation": "vertical"
        }
       },
       "selected": [],
       "size": {
        "type": null,
        "values": null
       },
       "skew": {
        "type": null,
        "values": null
       },
       "stroke": "black",
       "tooltip": "IPY_MODEL_eeb35ec02e2f4551b88d706ca4d5cce0",
       "x": {
        "type": "float",
        "values": [
         0.771320643266746,
         0.6336482349262754,
         0.4985070123025904,
         0.19806286475962398,
         0.16911083656253545,
         0.6853598183677972
        ]
       },
       "y": {
        "type": "float",
        "values": [
         0.0207519493594015,
         0.7488038825386119,
         0.22479664553084766,
         0.7605307121989587,
         0.08833981417401027,
         0.9533933461949365
        ]
       }
      }
     },
     "5a5ea67b2dac447384f12627c1d405f5": {
      "model_module": "bqplot",
      "model_module_version": "^0.4.5",
      "model_name": "LinearScaleModel",
      "state": {
       "allow_padding": false,
       "max": 1,
       "min": 0,
       "stabilized": false
      }
     },
     "5a7a5b884a9e4a0cb513d4f2f84c2ac5": {
      "model_module": "bqplot",
      "model_module_version": "^0.4.5",
      "model_name": "LinearScaleModel",
      "state": {
       "max": 1,
       "min": 0,
       "stabilized": false
      }
     },
     "5abde5efbe1140b38a4f92ed4538caf8": {
      "model_module": "bqplot",
      "model_module_version": "^0.4.5",
      "model_name": "ScatterModel",
      "state": {
       "color": {
        "type": null,
        "values": null
       },
       "colors": [
        "black"
       ],
       "display_legend": false,
       "names": {
        "type": null,
        "values": null
       },
       "opacity": {
        "type": null,
        "values": null
       },
       "rotation": {
        "type": null,
        "values": null
       },
       "scales": {
        "x": "IPY_MODEL_c8ab28210875423b8fe83758838b4d3a",
        "y": "IPY_MODEL_4da18018025d43988651afbdebf092d4"
       },
       "scales_metadata": {
        "color": {
         "dimension": "color"
        },
        "opacity": {
         "dimension": "opacity"
        },
        "rotation": {
         "dimension": "rotation"
        },
        "size": {
         "dimension": "size"
        },
        "skew": {
         "dimension": "skew"
        },
        "x": {
         "dimension": "x",
         "orientation": "horizontal"
        },
        "y": {
         "dimension": "y",
         "orientation": "vertical"
        }
       },
       "selected": [],
       "size": {
        "type": null,
        "values": null
       },
       "skew": {
        "type": null,
        "values": null
       },
       "x": {
        "type": "float",
        "values": [
         0.4501473823600029,
         0.22355450954331607,
         0.8520227339335706,
         0.4097295846150608
        ]
       },
       "y": {
        "type": "float",
        "values": [
         -0.12426375746363771,
         0.4227138105599612,
         0.41305515312279745,
         0.5271223505498778
        ]
       }
      }
     },
     "5acdacddee5e40fa8100fbe309e0178a": {
      "model_module": "bqplot",
      "model_module_version": "^0.4.5",
      "model_name": "LinearScaleModel",
      "state": {
       "stabilized": false
      }
     },
     "5adf1f7ccfe74ce88755e9ade52838de": {
      "model_module": "bqplot",
      "model_module_version": "^0.4.5",
      "model_name": "LinesModel",
      "state": {
       "close_path": true,
       "color": {
        "type": null,
        "values": null
       },
       "display_legend": false,
       "fill": "inside",
       "fill_colors": [
        "orange",
        "blue",
        "red"
       ],
       "labels": [
        "Security 1",
        "Security 2"
       ],
       "scales": {
        "x": "IPY_MODEL_fc0ba3b82c7a41bea1691ad328cd88e4",
        "y": "IPY_MODEL_e6f8e3c7d6c94e1ba1109c73b23f7f5d"
       },
       "selected": [],
       "stroke_width": 1,
       "tooltip": "IPY_MODEL_b80ed1e2fbfa45358769dcf805aedaf3",
       "x": {
        "type": "float",
        "values": [
         [
          0.4097295846150608,
          0.8520227339335706,
          1.7332689863391435,
          0.4200808874255707
         ],
         [
          0.4097295846150608,
          0.22355450954331613,
          0.4501473823600029,
          0.8520227339335706
         ]
        ]
       },
       "y": {
        "type": "float",
        "values": [
         [
          0.5271223505498778,
          0.41305515312279745,
          0.5796961417400555,
          0.9116146811300156
         ],
         [
          0.5271223505498778,
          0.42271381055996105,
          -0.12426375746363771,
          0.41305515312279745
         ]
        ]
       }
      }
     },
     "5ba703c94f2a4d9f88dc23bf95690d67": {
      "model_module": "bqplot",
      "model_module_version": "^0.4.5",
      "model_name": "LinearScaleModel",
      "state": {
       "stabilized": false
      }
     },
     "5be116e172644b369f270de161a36140": {
      "model_module": "bqplot",
      "model_module_version": "^0.4.5",
      "model_name": "TooltipModel",
      "state": {
       "fields": [
        "name"
       ],
       "formats": [
        ""
       ],
       "layout": "IPY_MODEL_4f4c59ed72e74575a8279e930ad3e554"
      }
     },
     "5c5e42d1c9a14de98a471facec42d622": {
      "model_module": "bqplot",
      "model_module_version": "^0.4.5",
      "model_name": "LinearScaleModel",
      "state": {
       "allow_padding": false,
       "max": 1,
       "min": 0,
       "stabilized": false
      }
     },
     "5cfbf1c0916b452a99345e2296fe2fa0": {
      "model_module": "bqplot",
      "model_module_version": "^0.4.5",
      "model_name": "LinearScaleModel",
      "state": {
       "allow_padding": false,
       "max": 1,
       "min": 0,
       "stabilized": false
      }
     },
     "5d2d030e4748433cb4ee03ad793c722e": {
      "model_module": "bqplot",
      "model_module_version": "^0.4.5",
      "model_name": "LinearScaleModel",
      "state": {
       "allow_padding": false,
       "max": 1,
       "min": 0,
       "stabilized": false
      }
     },
     "5d7a0a88c64443da92a89d1aac10cd95": {
      "model_module": "bqplot",
      "model_module_version": "^0.4.5",
      "model_name": "LinearScaleModel",
      "state": {
       "allow_padding": false,
       "max": 1,
       "min": 0,
       "stabilized": false
      }
     },
     "5d7e484f902b41478d430d5c0d425455": {
      "model_module": "@jupyter-widgets/base",
      "model_module_version": "1.1.0",
      "model_name": "LayoutModel",
      "state": {}
     },
     "5de66bd720ec4617b2708f46f161c7d1": {
      "model_module": "bqplot",
      "model_module_version": "^0.4.5",
      "model_name": "LinesModel",
      "state": {
       "color": {
        "type": null,
        "values": null
       },
       "colors": [
        "black"
       ],
       "display_legend": false,
       "fill_colors": [],
       "labels": [
        "C1"
       ],
       "scales": {
        "x": "IPY_MODEL_c8ab28210875423b8fe83758838b4d3a",
        "y": "IPY_MODEL_4da18018025d43988651afbdebf092d4"
       },
       "selected": [],
       "x": {
        "type": "float",
        "values": [
         0.4501473823600029,
         0.22355450954331607
        ]
       },
       "y": {
        "type": "float",
        "values": [
         -0.12426375746363771,
         0.4227138105599612
        ]
       }
      }
     },
     "5e05778f11c841409fbc7691d61b34ad": {
      "model_module": "bqplot",
      "model_module_version": "^0.4.5",
      "model_name": "LinearScaleModel",
      "state": {
       "allow_padding": false,
       "max": 1,
       "min": 0,
       "stabilized": false
      }
     },
     "5ef9926a6a854679b6bc7ec113d632dc": {
      "model_module": "@jupyter-widgets/base",
      "model_module_version": "1.1.0",
      "model_name": "LayoutModel",
      "state": {
       "min_width": "125px"
      }
     },
     "5eff74c513da44d698084346f8b089af": {
      "model_module": "bqplot",
      "model_module_version": "^0.4.5",
      "model_name": "LinearScaleModel",
      "state": {
       "stabilized": false
      }
     },
     "5f2629accfff4eacbe6f0540f307438b": {
      "model_module": "bqplot",
      "model_module_version": "^0.4.5",
      "model_name": "ScatterModel",
      "state": {
       "color": {
        "type": null,
        "values": null
       },
       "colors": [
        "steelblue"
       ],
       "display_legend": false,
       "names": {
        "type": "<U5",
        "values": [
         "one",
         "two",
         "three",
         "four",
         "five",
         "six"
        ]
       },
       "opacity": {
        "type": null,
        "values": null
       },
       "rotation": {
        "type": null,
        "values": null
       },
       "scales": {
        "x": "IPY_MODEL_d767659cfd944f90ad67931c509b95da",
        "y": "IPY_MODEL_9276b23c4cb24d2aa71d417ac5f45b9e"
       },
       "scales_metadata": {
        "color": {
         "dimension": "color"
        },
        "opacity": {
         "dimension": "opacity"
        },
        "rotation": {
         "dimension": "rotation"
        },
        "size": {
         "dimension": "size"
        },
        "skew": {
         "dimension": "skew"
        },
        "x": {
         "dimension": "x",
         "orientation": "horizontal"
        },
        "y": {
         "dimension": "y",
         "orientation": "vertical"
        }
       },
       "selected": [],
       "size": {
        "type": null,
        "values": null
       },
       "skew": {
        "type": null,
        "values": null
       },
       "stroke": "black",
       "tooltip": "IPY_MODEL_b80ed1e2fbfa45358769dcf805aedaf3",
       "x": {
        "type": "float",
        "values": [
         0.771320643266746,
         0.6336482349262754,
         0.4985070123025904,
         0.19806286475962398,
         0.16911083656253545,
         0.6853598183677972
        ]
       },
       "y": {
        "type": "float",
        "values": [
         0.0207519493594015,
         0.7488038825386119,
         0.22479664553084766,
         0.7605307121989587,
         0.08833981417401027,
         0.9533933461949365
        ]
       }
      }
     },
     "603634162f0149dda3ebc8ace5e4f441": {
      "model_module": "bqplot",
      "model_module_version": "^0.4.5",
      "model_name": "LinearScaleModel",
      "state": {
       "max": 1,
       "min": 0,
       "stabilized": false
      }
     },
     "60a56174ae2d4d04b0fea40b476af064": {
      "model_module": "bqplot",
      "model_module_version": "^0.4.5",
      "model_name": "LinearScaleModel",
      "state": {
       "allow_padding": false,
       "max": 1,
       "min": 0,
       "stabilized": false
      }
     },
     "60ce797873a84471b5ed2a6a0247d715": {
      "model_module": "bqplot",
      "model_module_version": "^0.4.5",
      "model_name": "LinearScaleModel",
      "state": {
       "stabilized": false
      }
     },
     "60d0fe0e03a34522a7be4aa3d5647e6c": {
      "model_module": "bqplot",
      "model_module_version": "^0.4.5",
      "model_name": "AxisModel",
      "state": {
       "scale": "IPY_MODEL_c4bc500e3d0c4908bbabbd1fd8aa9e48",
       "side": "bottom",
       "tick_values": {
        "type": null,
        "values": null
       }
      }
     },
     "60ebf550fc22459a8e6db9fad5627b43": {
      "model_module": "bqplot",
      "model_module_version": "^0.4.5",
      "model_name": "LinesModel",
      "state": {
       "color": {
        "type": null,
        "values": null
       },
       "colors": [
        "black"
       ],
       "display_legend": false,
       "fill_colors": [],
       "labels": [
        "C1"
       ],
       "scales": {
        "x": "IPY_MODEL_2a6aca56c2d14e61beef14fd6a225877",
        "y": "IPY_MODEL_6aebc1b7d022462ea4ac7b8228d301a8"
       },
       "selected": [],
       "x": {
        "type": "float",
        "values": [
         0.43020238893545215,
         0.22738068359095126
        ]
       },
       "y": {
        "type": "float",
        "values": [
         0.5502889056231901,
         0.7667443763710994
        ]
       }
      }
     },
     "6124b89a7123401492a0de6527738a86": {
      "model_module": "bqplot",
      "model_module_version": "^0.4.5",
      "model_name": "LinearScaleModel",
      "state": {
       "allow_padding": false,
       "max": 1,
       "min": 0,
       "stabilized": false
      }
     },
     "62185592769b43b1ab4256aa004c3e82": {
      "model_module": "bqplot",
      "model_module_version": "^0.4.5",
      "model_name": "LinearScaleModel",
      "state": {
       "max": 1,
       "min": 0,
       "stabilized": false
      }
     },
     "621f480a16dc4fc1aa9ee9f75c852882": {
      "model_module": "bqplot",
      "model_module_version": "^0.4.5",
      "model_name": "LinearScaleModel",
      "state": {
       "allow_padding": false,
       "max": 1,
       "min": 0,
       "stabilized": false
      }
     },
     "6234e3a691a34868bd3ee34fe015ea6e": {
      "model_module": "bqplot",
      "model_module_version": "^0.4.5",
      "model_name": "AxisModel",
      "state": {
       "orientation": "vertical",
       "scale": "IPY_MODEL_7b29de3066154c189922bffd64cdd312",
       "side": "left",
       "tick_values": {
        "type": null,
        "values": null
       }
      }
     },
     "6243a49888af45618fa8cad69c3b5eba": {
      "model_module": "bqplot",
      "model_module_version": "^0.4.5",
      "model_name": "AxisModel",
      "state": {
       "orientation": "vertical",
       "scale": "IPY_MODEL_8458ab31d5ed4a05943967383a0bdfa0",
       "side": "left",
       "tick_values": {
        "type": null,
        "values": null
       }
      }
     },
     "624d84a1470f45dc8e4c12a67d22c46b": {
      "model_module": "bqplot",
      "model_module_version": "^0.4.5",
      "model_name": "LinearScaleModel",
      "state": {
       "max": 1,
       "min": 0,
       "stabilized": false
      }
     },
     "625fffbed60943e1a70faebf9af85a3d": {
      "model_module": "bqplot",
      "model_module_version": "^0.4.5",
      "model_name": "LinearScaleModel",
      "state": {
       "max": 1,
       "min": -2,
       "stabilized": false
      }
     },
     "62709350a2d3496d9572f4cc338264d9": {
      "model_module": "bqplot",
      "model_module_version": "^0.4.5",
      "model_name": "FigureModel",
      "state": {
       "_dom_classes": [],
       "animation_duration": 1000,
       "axes": [
        "IPY_MODEL_50c63222ae774ff28a53636ab61d0d8c",
        "IPY_MODEL_1a69a0e2bd534ad4b7f95a3081d18915"
       ],
       "layout": "IPY_MODEL_ddf08adf7c154db7a3ac331367968378",
       "marks": [
        "IPY_MODEL_c728c7c4485a482895aca58e0cb7ecd2",
        "IPY_MODEL_a75a87e5ef2544b1b490690012d58cca"
       ],
       "scale_x": "IPY_MODEL_d9f27c71d12540f38a323e76a3b64ed2",
       "scale_y": "IPY_MODEL_95287174abcc4f099cd6a9fd1673435f"
      }
     },
     "633412508da8464aa6072312e180d590": {
      "model_module": "bqplot",
      "model_module_version": "^0.4.5",
      "model_name": "LinearScaleModel",
      "state": {
       "stabilized": false
      }
     },
     "6382ecb4b8384499bab145c91fdebf38": {
      "model_module": "bqplot",
      "model_module_version": "^0.4.5",
      "model_name": "LinearScaleModel",
      "state": {
       "allow_padding": false,
       "max": 1,
       "min": 0,
       "stabilized": false
      }
     },
     "6417521e5bc24440b1e2f5880a79458e": {
      "model_module": "bqplot",
      "model_module_version": "^0.4.5",
      "model_name": "FigureModel",
      "state": {
       "_dom_classes": [],
       "animation_duration": 1000,
       "axes": [
        "IPY_MODEL_e45a388628de4d8b8af2c2b278af2e54",
        "IPY_MODEL_c5eb9afee62b415d9122a05c79cc020b"
       ],
       "layout": "IPY_MODEL_d6a273560f19470798934028e7d69b41",
       "marks": [
        "IPY_MODEL_9fa5f7f9f84a4fc6835cd656694f9d4c",
        "IPY_MODEL_5a5b44e6440a46e9bc0cda3ab1bcfeba"
       ],
       "scale_x": "IPY_MODEL_7d555d3fa51145b381b4f44bb3416c2d",
       "scale_y": "IPY_MODEL_177fbc49327348548be79c9aa8dcad94"
      }
     },
     "641d189b30e947258114d942e782a265": {
      "model_module": "bqplot",
      "model_module_version": "^0.4.5",
      "model_name": "LinearScaleModel",
      "state": {
       "allow_padding": false,
       "max": 1,
       "min": 0,
       "stabilized": false
      }
     },
     "65522e75b63740df8eeacfba4dc68be9": {
      "model_module": "bqplot",
      "model_module_version": "^0.4.5",
      "model_name": "LinearScaleModel",
      "state": {
       "stabilized": false
      }
     },
     "65585e5739fa4633927ab08b97eaef2e": {
      "model_module": "bqplot",
      "model_module_version": "^0.4.5",
      "model_name": "LinearScaleModel",
      "state": {
       "max": 1,
       "min": 0,
       "stabilized": false
      }
     },
     "6565df24b116416888b3c2417c7b65b2": {
      "model_module": "@jupyter-widgets/base",
      "model_module_version": "1.1.0",
      "model_name": "LayoutModel",
      "state": {}
     },
     "66561116acc44569bc75065351f99506": {
      "model_module": "bqplot",
      "model_module_version": "^0.4.5",
      "model_name": "LinesModel",
      "state": {
       "close_path": true,
       "color": {
        "type": null,
        "values": null
       },
       "display_legend": false,
       "fill": "inside",
       "fill_colors": [
        "orange",
        "blue",
        "red"
       ],
       "labels": [
        "C1",
        "C2",
        "C3",
        "C4",
        "C5",
        "C6",
        "C7",
        "C8",
        "C9",
        "C10",
        "C11",
        "C12",
        "C13",
        "C14",
        "C15",
        "C16",
        "C17",
        "C18",
        "C19",
        "C20",
        "C21",
        "C22",
        "C23",
        "C24",
        "C25",
        "C26",
        "C27",
        "C28",
        "C29",
        "C30",
        "C31",
        "C32",
        "C33",
        "C34",
        "C35",
        "C36",
        "C37",
        "C38",
        "C39",
        "C40",
        "C41",
        "C42",
        "C43",
        "C44",
        "C45",
        "C46",
        "C47",
        "C48",
        "C49",
        "C50",
        "C51",
        "C52",
        "C53",
        "C54",
        "C55",
        "C56",
        "C57",
        "C58",
        "C59",
        "C60",
        "C61",
        "C62",
        "C63",
        "C64",
        "C65",
        "C66",
        "C67",
        "C68",
        "C69",
        "C70",
        "C71",
        "C72",
        "C73",
        "C74",
        "C75",
        "C76",
        "C77",
        "C78",
        "C79",
        "C80",
        "C81",
        "C82",
        "C83",
        "C84",
        "C85",
        "C86",
        "C87",
        "C88",
        "C89"
       ],
       "scales": {
        "x": "IPY_MODEL_2a8b86ec36a048ebb1e0e61a41339793",
        "y": "IPY_MODEL_ed3dbf00c0d04649a91236f655880fbe"
       },
       "selected": [],
       "stroke_width": 1,
       "tooltip": "IPY_MODEL_99575a00246640449d6a743bf97fd125",
       "x": {
        "type": "object",
        "values": [
         [
          -0.08475255245909073,
          0.05996367321148319,
          0.08479322651163212,
          0.05995157333505969
         ],
         [
          0.8922615808363101,
          0.9484974881532601,
          1.0239771911803062,
          0.9248738133821013
         ],
         [
          0.7826123297616694,
          0.5860766963396512,
          0.5537235568411509,
          0.7436386117536268
         ],
         [
          0.17765909719740863,
          0.21650059679839287,
          0.1566239907650207,
          0.1552441098754926,
          0.1271638945344281
         ],
         [
          0.8958729363977855,
          0.9025114453381056,
          3.7254727548007427,
          1.303489620089487,
          0.936997956036985
         ],
         [
          0.6894979865685824,
          0.6796363156123174,
          0.5407313810836678,
          0.5799455851411179
         ],
         [
          0.1671225413659981,
          0.0808544173481181,
          0.05995157333505969,
          0.08479322651163212,
          0.11362353230857873
         ],
         [
          0.7549312571304825,
          0.8369463236034708,
          0.8922615808363101,
          0.9248738133821013,
          0.8599618954914474,
          0.7616680727815712
         ],
         [
          0.32606350501054976,
          0.3654306665415356,
          0.4858904348533996,
          0.442543263660364,
          0.3664561062146867
         ],
         [
          0.3520617134062079,
          0.44763325809529253,
          0.5095771494014502,
          0.442543263660364,
          0.3664561062146867
         ],
         [
          0.32606350501054976,
          0.3654306665415356,
          0.19839889654454215,
          0.17765909719740863,
          0.21650059679839287,
          0.2695248325435307
         ],
         [
          0.8844761822970881,
          0.936997956036985,
          1.303489620089487,
          0.9728074978146745,
          0.8911378732215105
         ],
         [
          0.2791442374766947,
          0.2229997144601798,
          0.2333529203899401,
          0.28055530091993486,
          0.3319212309666195,
          0.3311547349960527,
          0.29136386167098083
         ],
         [
          0.17648291232270985,
          0.2229997144601798,
          0.2333529203899401,
          0.1671225413659981,
          0.11362353230857873,
          0.1409855013646931
         ],
         [
          0.07095062550864997,
          0.056144536431563516,
          0.05996367321148319,
          0.08479322651163212,
          0.11362353230857873,
          0.1409855013646931
         ],
         [
          0.05655007723232634,
          -0.02324519529831473,
          -0.09305334874494212,
          0.056144536431563516,
          0.07095062550864997
         ],
         [
          0.13667936712823156,
          0.05655007723232634,
          0.07095062550864997,
          0.1409855013646931,
          0.17648291232270985,
          0.1735852467022309
         ],
         [
          0.7447345469272995,
          0.7616680727815712,
          0.8599618954914474,
          0.8518854947309326,
          0.8429504147257009,
          0.7744128193462205
         ],
         [
          0.6709186387390527,
          0.7156947871151625,
          0.7447345469272995,
          0.7616680727815712,
          0.7549312571304825,
          0.7251218009192109
         ],
         [
          0.8757336212707671,
          0.9423394792843589,
          0.9565291478195775,
          0.9014301289553135
         ],
         [
          0.9014301289553135,
          1.3244007962918452,
          1.8325616329645324,
          1.02982616672276,
          0.9565291478195775
         ],
         [
          0.9423394792843589,
          0.9421276079766667,
          1.02982616672276,
          0.9565291478195775
         ],
         [
          0.8757336212707671,
          0.8518854947309326,
          0.8429504147257009,
          0.785830720920853,
          0.801422360248676,
          0.9421276079766667,
          0.9423394792843589
         ],
         [
          0.8757336212707671,
          0.8518854947309326,
          0.8599618954914474,
          0.9248738133821013,
          1.0239771911803062,
          1.3244007962918452,
          0.9014301289553135
         ],
         [
          0.8541317747866634,
          0.7859138685880834,
          0.789965608949285,
          0.8401791254796137
         ],
         [
          0.8401791254796137,
          0.8892737740604402,
          0.8644922753139983,
          0.7298737677352258,
          0.7183722051991415,
          0.789965608949285
         ],
         [
          0.8541317747866634,
          0.8844761822970881,
          0.936997956036985,
          0.8958729363977855,
          0.8892737740604402,
          0.8401791254796137
         ],
         [
          0.7048678804266107,
          0.6631642732553857,
          0.6854600075030313,
          0.7717160432897252,
          0.7728842983270414,
          0.7814164182655865,
          0.7734494984340863,
          0.7169374798008875
         ],
         [
          0.6631642732553857,
          0.5681058918982578,
          0.576620155923006,
          0.619313591747615,
          0.6721261719859388,
          0.6854600075030313
         ],
         [
          0.7717160432897252,
          0.7859138685880834,
          0.789965608949285,
          0.7183722051991415,
          0.6721261719859388,
          0.6854600075030313
         ],
         [
          0.7728842983270414,
          0.8911378732215105,
          0.8844761822970881,
          0.8541317747866634,
          0.7859138685880834,
          0.7717160432897252
         ],
         [
          0.7814164182655865,
          0.9529268869895049,
          0.9728074978146745,
          0.8911378732215105,
          0.7728842983270414
         ],
         [
          0.7169374798008875,
          0.6904495102029342,
          0.6671021048905704,
          0.7251218009192109,
          0.7549312571304825,
          0.8369463236034708,
          0.7734494984340863
         ],
         [
          0.7814164182655865,
          0.9529268869895049,
          0.9484974881532601,
          0.8922615808363101,
          0.8369463236034708,
          0.7734494984340863
         ],
         [
          0.5297607660948835,
          0.5681058918982578,
          0.576620155923006,
          0.5640000795312106,
          0.5086191613034009
         ],
         [
          0.33933317272714597,
          0.28055530091993486,
          0.3319212309666195,
          0.42031053233311066
         ],
         [
          0.33933317272714597,
          0.28055530091993486,
          0.2333529203899401,
          0.1671225413659981,
          0.0808544173481181,
          0.010321678871761025,
          0.34157344385192684,
          0.34221769905311594
         ],
         [
          0.10333495561836159,
          0.04760604640978913,
          -0.04625587478358112,
          -0.39226000203974826,
          -1.7789473680243528,
          -0.09305334874494212,
          -0.02324519529831473,
          -0.0005457419939594588
         ],
         [
          0.19475412499205588,
          0.1735852467022309,
          0.17648291232270985,
          0.2229997144601798,
          0.2791442374766947,
          0.291091225069642,
          0.25105593314521024,
          0.2140083514416948
         ],
         [
          0.5366240358606154,
          0.7048678804266107,
          0.7169374798008875,
          0.6904495102029342,
          0.5428787745126074
         ],
         [
          0.5274599245815067,
          0.5297607660948835,
          0.5681058918982578,
          0.6631642732553857,
          0.7048678804266107,
          0.5366240358606154
         ],
         [
          0.701124545722612,
          0.7036389883440564,
          0.6182403792723945,
          0.6646145197870538
         ],
         [
          0.6646145197870538,
          0.785830720920853,
          0.801422360248676,
          0.7826123297616694,
          0.5860766963396512,
          0.5916533082236889,
          0.6182403792723945
         ],
         [
          0.701124545722612,
          0.7744128193462205,
          0.7447345469272995,
          0.7156947871151625,
          0.7036389883440564
         ],
         [
          0.701124545722612,
          0.7744128193462205,
          0.8429504147257009,
          0.785830720920853,
          0.6646145197870538
         ],
         [
          0.5470067628086378,
          0.5477820176509163,
          0.5553265773930277,
          0.6200078432886269,
          0.6302899336424557,
          0.5636341839045399
         ],
         [
          0.6302899336424557,
          0.6709186387390527,
          0.7251218009192109,
          0.6671021048905704,
          0.6200078432886269
         ],
         [
          0.5553265773930277,
          0.5242973002939889,
          0.5428787745126074,
          0.6904495102029342,
          0.6671021048905704,
          0.6200078432886269
         ],
         [
          0.5470067628086378,
          0.5095771494014502,
          0.44763325809529253,
          0.48942986971702956,
          0.522867036202907,
          0.5477820176509163
         ],
         [
          0.5636341839045399,
          0.5916533082236889,
          0.6182403792723945,
          0.7036389883440564,
          0.7156947871151625,
          0.6709186387390527,
          0.6302899336424557
         ],
         [
          0.5470067628086378,
          0.5095771494014502,
          0.442543263660364,
          0.4858904348533996,
          0.5537235568411509,
          0.5860766963396512,
          0.5916533082236889,
          0.5636341839045399
         ],
         [
          0.5964126211383934,
          0.619313591747615,
          0.576620155923006,
          0.5640000795312106,
          0.5214422698732747
         ],
         [
          0.4972937373557724,
          0.5086191613034009,
          0.5640000795312106,
          0.5214422698732747
         ],
         [
          0.16506419872830538,
          0.17721576125534005,
          0.1695141925197683,
          0.1507729848388969,
          0.12016844646865305,
          0.14036078719250036
         ],
         [
          0.17721576125534005,
          0.2140083514416948,
          0.25105593314521024,
          0.1695141925197683
         ],
         [
          0.12016844646865305,
          -0.0005457419939594588,
          0.10333495561836159,
          0.15053204889866073,
          0.15452095643035138,
          0.1507729848388969
         ],
         [
          0.14036078719250036,
          0.13667936712823156,
          0.05655007723232634,
          -0.02324519529831473,
          -0.0005457419939594588,
          0.12016844646865305
         ],
         [
          0.16506419872830538,
          0.19475412499205588,
          0.2140083514416948,
          0.17721576125534005
         ],
         [
          0.16506419872830538,
          0.19475412499205588,
          0.1735852467022309,
          0.13667936712823156,
          0.14036078719250036
         ],
         [
          0.4605730717345083,
          0.48942986971702956,
          0.522867036202907,
          0.4703456141659566
         ],
         [
          0.30312719685986156,
          0.34597676713144443,
          0.4532308777519833,
          0.4783054380385875,
          0.42827364718111444,
          0.36145620663848865,
          0.35129906105930825,
          0.3099005352519825,
          0.2960651180774041
         ],
         [
          0.4783054380385875,
          0.5242973002939889,
          0.5553265773930277,
          0.5477820176509163,
          0.522867036202907,
          0.4703456141659566,
          0.4375923516362236,
          0.4532308777519833
         ],
         [
          0.34597676713144443,
          0.39033700114917896,
          0.4375923516362236,
          0.4532308777519833
         ],
         [
          0.42827364718111444,
          0.47032905822515186,
          0.5274599245815067,
          0.5366240358606154,
          0.5428787745126074,
          0.5242973002939889,
          0.4783054380385875
         ],
         [
          0.2960651180774041,
          0.15452095643035138,
          0.1507729848388969,
          0.1695141925197683,
          0.25105593314521024,
          0.291091225069642,
          0.3099005352519825
         ],
         [
          0.35129906105930825,
          0.36662579097945813,
          0.29136386167098083,
          0.2791442374766947,
          0.291091225069642,
          0.3099005352519825
         ],
         [
          0.4848580727969724,
          0.5895224762949374,
          0.566546369174203,
          0.4963353142060988
         ],
         [
          0.5895224762949374,
          0.5964126211383934,
          0.619313591747615,
          0.6721261719859388,
          0.7183722051991415,
          0.7298737677352258,
          0.6894979865685824,
          0.5799455851411179,
          0.566546369174203
         ],
         [
          0.4963353142060988,
          0.34221769905311594,
          0.34157344385192684,
          0.5407313810836678,
          0.5799455851411179,
          0.566546369174203
         ],
         [
          0.4848580727969724,
          0.4521549564191969,
          0.4566809954174328,
          0.4972937373557724,
          0.5214422698732747,
          0.5964126211383934,
          0.5895224762949374
         ],
         [
          0.4848580727969724,
          0.4521549564191969,
          0.42031053233311066,
          0.33933317272714597,
          0.34221769905311594,
          0.4963353142060988
         ],
         [
          0.44216205566498235,
          0.38914220788535414,
          0.37894569470583306,
          0.39159600729095523,
          0.4315829045308878
         ],
         [
          0.38914220788535414,
          0.36145620663848865,
          0.35129906105930825,
          0.36662579097945813,
          0.37894569470583306
         ],
         [
          0.39159600729095523,
          0.3311547349960527,
          0.29136386167098083,
          0.36662579097945813,
          0.37894569470583306
         ],
         [
          0.44216205566498235,
          0.47032905822515186,
          0.42827364718111444,
          0.36145620663848865,
          0.38914220788535414
         ],
         [
          0.4315829045308878,
          0.4566809954174328,
          0.4521549564191969,
          0.42031053233311066,
          0.3319212309666195,
          0.3311547349960527,
          0.39159600729095523
         ],
         [
          0.44216205566498235,
          0.47032905822515186,
          0.5274599245815067,
          0.5297607660948835,
          0.5086191613034009,
          0.4972937373557724,
          0.4566809954174328,
          0.4315829045308878
         ],
         [
          0.2963056260082066,
          0.2758845865743852,
          0.290488628167884,
          0.3801911569000378,
          0.3782918917747366,
          0.35181930886404145,
          0.3284976395205213
         ],
         [
          0.3801911569000378,
          0.39033700114917896,
          0.34597676713144443,
          0.30312719685986156,
          0.290488628167884
         ],
         [
          0.3801911569000378,
          0.39033700114917896,
          0.4375923516362236,
          0.4703456141659566,
          0.4605730717345083,
          0.3782918917747366
         ],
         [
          0.35181930886404145,
          0.3520617134062079,
          0.44763325809529253,
          0.48942986971702956,
          0.4605730717345083,
          0.3782918917747366
         ],
         [
          0.3284976395205213,
          0.2695248325435307,
          0.32606350501054976,
          0.3664561062146867,
          0.3520617134062079,
          0.35181930886404145
         ],
         [
          0.25749109839409895,
          0.21267926962347788,
          0.18993022694083767,
          0.15260836072302839,
          0.1601661297401958,
          0.19131887276363133
         ],
         [
          0.15260836072302839,
          0.04760604640978913,
          0.10333495561836159,
          0.15053204889866073,
          0.18993022694083767
         ],
         [
          0.21267926962347788,
          0.2758845865743852,
          0.290488628167884,
          0.30312719685986156,
          0.2960651180774041,
          0.15452095643035138,
          0.15053204889866073,
          0.18993022694083767
         ],
         [
          0.25749109839409895,
          0.2963056260082066,
          0.2758845865743852,
          0.21267926962347788
         ],
         [
          0.1601661297401958,
          -0.04625587478358112,
          0.04760604640978913,
          0.15260836072302839
         ],
         [
          0.19131887276363133,
          0.1566239907650207,
          0.1552441098754926,
          -0.39226000203974826,
          -0.04625587478358112,
          0.1601661297401958
         ],
         [
          0.25749109839409895,
          0.2963056260082066,
          0.3284976395205213,
          0.2695248325435307,
          0.21650059679839287,
          0.1566239907650207,
          0.19131887276363133
         ]
        ]
       },
       "y": {
        "type": "object",
        "values": [
         [
          0.18766431216864535,
          0.21527102341507598,
          0.20046932988757732,
          0.1194803976086593
         ],
         [
          0.6868518466109428,
          0.5094704930413251,
          0.7165458345627486,
          0.7184602714731044
         ],
         [
          1.8922301144088802,
          0.8967030635235811,
          0.9285927594555251,
          9.080515652644772
         ],
         [
          1.0454818206669554,
          0.8964747041044363,
          0.8376082780480106,
          0.8381631508354757,
          0.8886984395238302
         ],
         [
          0.11172678228221458,
          0.11016256913183203,
          0.22706467021620985,
          0.3576663780475622,
          0.19413373564767408
         ],
         [
          0.04860075706480346,
          -0.3581431095198661,
          0.049568673630367696,
          0.09173586509883759
         ],
         [
          0.1722183383016177,
          -0.07901055705348747,
          0.1194803976086593,
          0.20046932988757732,
          0.20520922900059238
         ],
         [
          0.7019195682692153,
          0.6603252712722206,
          0.6868518466109428,
          0.7184602714731044,
          0.8402217323191642,
          0.7344849729730747
         ],
         [
          0.9613190256159994,
          1.1775730858911575,
          0.9549678365504611,
          0.8913140982878146,
          0.8970546364447082
         ],
         [
          0.7484957085719692,
          0.7717007454329576,
          0.8082006063944445,
          0.8913140982878146,
          0.8970546364447082
         ],
         [
          0.9613190256159994,
          1.1775730858911575,
          4.982895881976411,
          1.0454818206669554,
          0.8964747041044363,
          0.9242822386210425
         ],
         [
          0.2771803893538775,
          0.19413373564767408,
          0.3576663780475622,
          0.4119712958896557,
          0.3033889194259604
         ],
         [
          0.3238873693846753,
          0.29148470160424356,
          0.17593003600410642,
          0.14469039984150253,
          0.24990801641289362,
          0.26959722658301405,
          0.3137062708979666
         ],
         [
          0.30394314189934274,
          0.29148470160424356,
          0.17593003600410642,
          0.1722183383016177,
          0.20520922900059238,
          0.27207049270978617
         ],
         [
          0.3085511341833507,
          0.23058334950142662,
          0.21527102341507598,
          0.20046932988757732,
          0.20520922900059238,
          0.27207049270978617
         ],
         [
          0.3431072560593489,
          0.3957228384668044,
          0.39725019822092095,
          0.23058334950142662,
          0.3085511341833507
         ],
         [
          0.34962855420619454,
          0.3431072560593489,
          0.3085511341833507,
          0.27207049270978617,
          0.30394314189934274,
          0.3100059779332992
         ],
         [
          0.8216202073292638,
          0.7344849729730747,
          0.8402217323191642,
          0.8657456469260267,
          0.8732042889870765,
          0.8479268089004451
         ],
         [
          0.7673468451756451,
          0.8144101760630202,
          0.8216202073292638,
          0.7344849729730747,
          0.7019195682692153,
          0.6991242806345185
         ],
         [
          0.8735922478824225,
          0.9696878618956105,
          0.9170251339517272,
          0.880160391287594
         ],
         [
          0.880160391287594,
          0.7604922534623879,
          0.8007297533052902,
          0.9314918412571357,
          0.9170251339517272
         ],
         [
          0.9696878618956105,
          1.001192592188652,
          0.9314918412571357,
          0.9170251339517272
         ],
         [
          0.8735922478824225,
          0.8657456469260267,
          0.8732042889870765,
          1.0859796319724686,
          1.247079160396166,
          1.001192592188652,
          0.9696878618956105
         ],
         [
          0.8735922478824225,
          0.8657456469260267,
          0.8402217323191642,
          0.7184602714731044,
          0.7165458345627486,
          0.7604922534623879,
          0.880160391287594
         ],
         [
          0.24205285536871227,
          0.27599855080035385,
          0.21108377925102728,
          0.2147733196050809
         ],
         [
          0.2147733196050809,
          0.10984248903153968,
          0.08737940042812475,
          0.1011437071253222,
          0.17238634089536212,
          0.21108377925102728
         ],
         [
          0.24205285536871227,
          0.2771803893538775,
          0.19413373564767408,
          0.11172678228221458,
          0.10984248903153968,
          0.2147733196050809
         ],
         [
          0.467726445447311,
          0.3541803069655101,
          0.26824168218044814,
          0.3046083008151902,
          0.30610446546143244,
          0.4785102256398476,
          0.4838743117569385,
          0.48605425325409496
         ],
         [
          0.3541803069655101,
          0.3444875255485018,
          0.29571490100449,
          0.22570350965524086,
          0.23192857621009208,
          0.26824168218044814
         ],
         [
          0.3046083008151902,
          0.27599855080035385,
          0.21108377925102728,
          0.17238634089536212,
          0.23192857621009208,
          0.26824168218044814
         ],
         [
          0.30610446546143244,
          0.3033889194259604,
          0.2771803893538775,
          0.24205285536871227,
          0.27599855080035385,
          0.3046083008151902
         ],
         [
          0.4785102256398476,
          0.42658719064026895,
          0.4119712958896557,
          0.3033889194259604,
          0.30610446546143244
         ],
         [
          0.48605425325409496,
          0.5092483320350483,
          0.6363753904287199,
          0.6991242806345185,
          0.7019195682692153,
          0.6603252712722206,
          0.4838743117569385
         ],
         [
          0.4785102256398476,
          0.42658719064026895,
          0.5094704930413251,
          0.6868518466109428,
          0.6603252712722206,
          0.4838743117569385
         ],
         [
          0.37057517751831476,
          0.3444875255485018,
          0.29571490100449,
          0.29117974126706186,
          0.2821610834105058
         ],
         [
          0.035756405969484026,
          0.14469039984150253,
          0.24990801641289362,
          0.20430592009960438
         ],
         [
          0.035756405969484026,
          0.14469039984150253,
          0.17593003600410642,
          0.1722183383016177,
          -0.07901055705348747,
          -1.0446450770919942,
          0.010092086317784826,
          0.02055230592172938
         ],
         [
          0.5237154036894824,
          0.5971900444033128,
          0.6356589983148537,
          0.688490771421261,
          0.6582838271180349,
          0.39725019822092095,
          0.3957228384668044,
          0.4068044484925284
         ],
         [
          0.37118631712933614,
          0.3100059779332992,
          0.30394314189934274,
          0.29148470160424356,
          0.3238873693846753,
          0.4083810612903426,
          0.40715830347643817,
          0.39144951626646507
         ],
         [
          0.39020272720305593,
          0.467726445447311,
          0.48605425325409496,
          0.5092483320350483,
          0.52873243696096
         ],
         [
          0.3739717115854233,
          0.37057517751831476,
          0.3444875255485018,
          0.3541803069655101,
          0.467726445447311,
          0.39020272720305593
         ],
         [
          0.8927480562390957,
          0.8272332178847879,
          0.8954848047986568,
          0.9228324518455797
         ],
         [
          0.9228324518455797,
          1.0859796319724686,
          1.247079160396166,
          1.8922301144088802,
          0.8967030635235811,
          0.8877704180284818,
          0.8954848047986568
         ],
         [
          0.8927480562390957,
          0.8479268089004451,
          0.8216202073292638,
          0.8144101760630202,
          0.8272332178847879
         ],
         [
          0.8927480562390957,
          0.8479268089004451,
          0.8732042889870765,
          1.0859796319724686,
          0.9228324518455797
         ],
         [
          0.809941745848387,
          0.6679792001868494,
          0.6586657461542196,
          0.6610534418697956,
          0.7729074066766817,
          0.8193116546871726
         ],
         [
          0.7729074066766817,
          0.7673468451756451,
          0.6991242806345185,
          0.6363753904287199,
          0.6610534418697956
         ],
         [
          0.6586657461542196,
          0.5402388654119852,
          0.52873243696096,
          0.5092483320350483,
          0.6363753904287199,
          0.6610534418697956
         ],
         [
          0.809941745848387,
          0.8082006063944445,
          0.7717007454329576,
          0.6882430887844456,
          0.6709070286227734,
          0.6679792001868494
         ],
         [
          0.8193116546871726,
          0.8877704180284818,
          0.8954848047986568,
          0.8272332178847879,
          0.8144101760630202,
          0.7673468451756451,
          0.7729074066766817
         ],
         [
          0.809941745848387,
          0.8082006063944445,
          0.8913140982878146,
          0.9549678365504611,
          0.9285927594555251,
          0.8967030635235811,
          0.8877704180284818,
          0.8193116546871726
         ],
         [
          0.21142628282008555,
          0.22570350965524086,
          0.29571490100449,
          0.29117974126706186,
          0.2523203179283004
         ],
         [
          0.2616604422629263,
          0.2821610834105058,
          0.29117974126706186,
          0.2523203179283004
         ],
         [
          0.3878572880016299,
          0.40128311247164994,
          0.44448474355667533,
          0.4634667433048437,
          0.4261828840691094,
          0.37801791295867226
         ],
         [
          0.40128311247164994,
          0.39144951626646507,
          0.40715830347643817,
          0.44448474355667533
         ],
         [
          0.4261828840691094,
          0.4068044484925284,
          0.5237154036894824,
          0.5048311265942593,
          0.49903492617112294,
          0.4634667433048437
         ],
         [
          0.37801791295867226,
          0.34962855420619454,
          0.3431072560593489,
          0.3957228384668044,
          0.4068044484925284,
          0.4261828840691094
         ],
         [
          0.3878572880016299,
          0.37118631712933614,
          0.39144951626646507,
          0.40128311247164994
         ],
         [
          0.3878572880016299,
          0.37118631712933614,
          0.3100059779332992,
          0.34962855420619454,
          0.37801791295867226
         ],
         [
          0.6773773209751246,
          0.6882430887844456,
          0.6709070286227734,
          0.641313448349839
         ],
         [
          0.5211116223211779,
          0.5352455910193442,
          0.5549061305866,
          0.5377512633017318,
          0.424981944864984,
          0.4210175224151471,
          0.42233558857231257,
          0.43320563724699845,
          0.49627856394354064
         ],
         [
          0.5377512633017318,
          0.5402388654119852,
          0.6586657461542196,
          0.6679792001868494,
          0.6709070286227734,
          0.641313448349839,
          0.6002678912229196,
          0.5549061305866
         ],
         [
          0.5352455910193442,
          0.6579497001675114,
          0.6002678912229196,
          0.5549061305866
         ],
         [
          0.424981944864984,
          0.3797539669887341,
          0.3739717115854233,
          0.39020272720305593,
          0.52873243696096,
          0.5402388654119852,
          0.5377512633017318
         ],
         [
          0.49627856394354064,
          0.49903492617112294,
          0.4634667433048437,
          0.44448474355667533,
          0.40715830347643817,
          0.4083810612903426,
          0.43320563724699845
         ],
         [
          0.42233558857231257,
          0.3331919091805511,
          0.3137062708979666,
          0.3238873693846753,
          0.4083810612903426,
          0.43320563724699845
         ],
         [
          0.192555381191076,
          0.20143039455042958,
          0.12174245284796215,
          0.134416745199609
         ],
         [
          0.20143039455042958,
          0.21142628282008555,
          0.22570350965524086,
          0.23192857621009208,
          0.17238634089536212,
          0.1011437071253222,
          0.04860075706480346,
          0.09173586509883759,
          0.12174245284796215
         ],
         [
          0.134416745199609,
          0.02055230592172938,
          0.010092086317784826,
          0.049568673630367696,
          0.09173586509883759,
          0.12174245284796215
         ],
         [
          0.192555381191076,
          0.22837908151214426,
          0.24686423413890973,
          0.2616604422629263,
          0.2523203179283004,
          0.21142628282008555,
          0.20143039455042958
         ],
         [
          0.192555381191076,
          0.22837908151214426,
          0.20430592009960438,
          0.035756405969484026,
          0.02055230592172938,
          0.134416745199609
         ],
         [
          0.3268257041360094,
          0.34906461030245395,
          0.32452628856155175,
          0.2931696138298367,
          0.28946007935453993
         ],
         [
          0.34906461030245395,
          0.4210175224151471,
          0.42233558857231257,
          0.3331919091805511,
          0.32452628856155175
         ],
         [
          0.2931696138298367,
          0.26959722658301405,
          0.3137062708979666,
          0.3331919091805511,
          0.32452628856155175
         ],
         [
          0.3268257041360094,
          0.3797539669887341,
          0.424981944864984,
          0.4210175224151471,
          0.34906461030245395
         ],
         [
          0.28946007935453993,
          0.24686423413890973,
          0.22837908151214426,
          0.20430592009960438,
          0.24990801641289362,
          0.26959722658301405,
          0.2931696138298367
         ],
         [
          0.3268257041360094,
          0.3797539669887341,
          0.3739717115854233,
          0.37057517751831476,
          0.2821610834105058,
          0.2616604422629263,
          0.24686423413890973,
          0.28946007935453993
         ],
         [
          0.7428207593708316,
          0.572826212514801,
          0.5559849359221616,
          0.6744095866684889,
          0.6853851357929981,
          0.7482526560874929,
          0.7468264727742786
         ],
         [
          0.6744095866684889,
          0.6579497001675114,
          0.5352455910193442,
          0.5211116223211779,
          0.5559849359221616
         ],
         [
          0.6744095866684889,
          0.6579497001675114,
          0.6002678912229196,
          0.641313448349839,
          0.6773773209751246,
          0.6853851357929981
         ],
         [
          0.7482526560874929,
          0.7484957085719692,
          0.7717007454329576,
          0.6882430887844456,
          0.6773773209751246,
          0.6853851357929981
         ],
         [
          0.7468264727742786,
          0.9242822386210425,
          0.9613190256159994,
          0.8970546364447082,
          0.7484957085719692,
          0.7482526560874929
         ],
         [
          0.7486326693949722,
          0.6018216028805788,
          0.5998268867262594,
          0.6285049324381569,
          0.7277908930375016,
          0.7777733040655163
         ],
         [
          0.6285049324381569,
          0.5971900444033128,
          0.5237154036894824,
          0.5048311265942593,
          0.5998268867262594
         ],
         [
          0.6018216028805788,
          0.572826212514801,
          0.5559849359221616,
          0.5211116223211779,
          0.49627856394354064,
          0.49903492617112294,
          0.5048311265942593,
          0.5998268867262594
         ],
         [
          0.7486326693949722,
          0.7428207593708316,
          0.572826212514801,
          0.6018216028805788
         ],
         [
          0.7277908930375016,
          0.6356589983148537,
          0.5971900444033128,
          0.6285049324381569
         ],
         [
          0.7777733040655163,
          0.8376082780480106,
          0.8381631508354757,
          0.688490771421261,
          0.6356589983148537,
          0.7277908930375016
         ],
         [
          0.7486326693949722,
          0.7428207593708316,
          0.7468264727742786,
          0.9242822386210425,
          0.8964747041044363,
          0.8376082780480106,
          0.7777733040655163
         ]
        ]
       }
      }
     },
     "668832e8b6f64726ad5c33b267d7761b": {
      "model_module": "bqplot",
      "model_module_version": "^0.4.5",
      "model_name": "LinearScaleModel",
      "state": {
       "stabilized": false
      }
     },
     "668ca3d0417146f4930ffdeedb494c73": {
      "model_module": "bqplot",
      "model_module_version": "^0.4.5",
      "model_name": "FigureModel",
      "state": {
       "_dom_classes": [],
       "animation_duration": 1000,
       "axes": [
        "IPY_MODEL_8ad25ff8a125434ca7e1102238f2d82f",
        "IPY_MODEL_d98873921e6045129da55817a378c5b8"
       ],
       "layout": "IPY_MODEL_af83b57d066d49cb8245c4dd5933d890",
       "marks": [
        "IPY_MODEL_46d1db56150146d69ed40316b7f51f41",
        "IPY_MODEL_a382e82c8e114114ad3d833614293ab5"
       ],
       "scale_x": "IPY_MODEL_fcb49c958d78493396dcc715467d7147",
       "scale_y": "IPY_MODEL_b2524fd39db94eed95d6c905c845700d"
      }
     },
     "673ce520bc844136bd544007a9167f40": {
      "model_module": "bqplot",
      "model_module_version": "^0.4.5",
      "model_name": "LinearScaleModel",
      "state": {
       "allow_padding": false,
       "max": 1,
       "min": 0,
       "stabilized": false
      }
     },
     "678330c6f3fd4101b72cce0cf1c12b73": {
      "model_module": "bqplot",
      "model_module_version": "^0.4.5",
      "model_name": "FigureModel",
      "state": {
       "_dom_classes": [],
       "animation_duration": 1000,
       "axes": [
        "IPY_MODEL_0c48e4aa31f740558705505852762c40",
        "IPY_MODEL_efe16144d4e54bd18a216ff82acf3c43"
       ],
       "layout": "IPY_MODEL_444196886f2f4608a4cd4eed05b4928c",
       "marks": [
        "IPY_MODEL_963d1c7e6cf5452b831f4991941b4a7f",
        "IPY_MODEL_7fa148a883ab4c12a823175693349893"
       ],
       "scale_x": "IPY_MODEL_2034643c07c14e7a999e5d1f19701f43",
       "scale_y": "IPY_MODEL_193b5eb25cfa4ae881cc95fe8841c28b"
      }
     },
     "6933b9c2177141c4b860bf6933e537ad": {
      "model_module": "bqplot",
      "model_module_version": "^0.4.5",
      "model_name": "LinearScaleModel",
      "state": {
       "allow_padding": false,
       "max": 1,
       "min": 0,
       "stabilized": false
      }
     },
     "69d25c3de7f44dcabadfa029796868b7": {
      "model_module": "bqplot",
      "model_module_version": "^0.4.5",
      "model_name": "LinesModel",
      "state": {
       "color": {
        "type": null,
        "values": null
       },
       "colors": [
        "black"
       ],
       "display_legend": false,
       "fill_colors": [],
       "labels": [
        "C1"
       ],
       "scales": {
        "x": "IPY_MODEL_8f922e86cf4646428737dd08d5dd487a",
        "y": "IPY_MODEL_ba02e3e6817e4576ac4580e42528de41"
       },
       "selected": [],
       "x": {
        "type": "float",
        "values": [
         0.5272947621552145,
         0.43020238893545215
        ]
       },
       "y": {
        "type": "float",
        "values": [
         0.5706683504567711,
         0.5502889056231901
        ]
       }
      }
     },
     "69d63f8974fd4667bbabec9922c878aa": {
      "model_module": "bqplot",
      "model_module_version": "^0.4.5",
      "model_name": "AxisModel",
      "state": {
       "orientation": "vertical",
       "scale": "IPY_MODEL_2d4445214e44459dae355ebdb921b788",
       "side": "left",
       "tick_values": {
        "type": null,
        "values": null
       }
      }
     },
     "6a0e020f411d4218895062beebec9c5d": {
      "model_module": "bqplot",
      "model_module_version": "^0.4.5",
      "model_name": "LinearScaleModel",
      "state": {
       "max": 1,
       "min": 0,
       "stabilized": false
      }
     },
     "6a217f3e5c2542878d7f3adb317aaa72": {
      "model_module": "bqplot",
      "model_module_version": "^0.4.5",
      "model_name": "LinesModel",
      "state": {
       "close_path": true,
       "color": {
        "type": null,
        "values": null
       },
       "display_legend": false,
       "fill": "inside",
       "fill_colors": [
        "orange",
        "blue",
        "red"
       ],
       "labels": [
        "C1",
        "C2",
        "C3",
        "C4"
       ],
       "scales": {
        "x": "IPY_MODEL_24982a36a1644ae4bcc6a7ede258777c",
        "y": "IPY_MODEL_0f14680139584d8cb5bf7cafb6eaae47"
       },
       "selected": [],
       "stroke_width": 1,
       "tooltip": "IPY_MODEL_99575a00246640449d6a743bf97fd125",
       "x": {
        "type": "object",
        "values": [
         [
          0.6790714093103971,
          0.6838775462866998,
          1.2311893360787933,
          0.8368019646982289
         ],
         [
          0.22738068359095126,
          0.43020238893545215,
          0.5272947621552145,
          0.5843433203379271
         ],
         [
          0.43020238893545215,
          0.28766969405592147,
          0.5281075673364094,
          0.6790714093103971,
          0.6838775462866998,
          0.5272947621552145
         ],
         [
          0.22738068359095126,
          -5.20820435004358,
          0.11120787378448214,
          0.28766969405592147,
          0.43020238893545215
         ]
        ]
       },
       "y": {
        "type": "object",
        "values": [
         [
          0.22900528542596285,
          0.5342473347036941,
          0.6785452236610399,
          0.2219913829992549
         ],
         [
          0.7667443763710994,
          0.5502889056231901,
          0.5706683504567711,
          1.3129857260028264
         ],
         [
          0.5502889056231901,
          0.35492950428148073,
          -0.15153524143845282,
          0.22900528542596285,
          0.5342473347036941,
          0.5706683504567711
         ],
         [
          0.7667443763710994,
          1.8846379679106748,
          0.3365460478735013,
          0.35492950428148073,
          0.5502889056231901
         ]
        ]
       }
      }
     },
     "6a61281620994a97b089f4c19eed93cf": {
      "model_module": "@jupyter-widgets/base",
      "model_module_version": "1.1.0",
      "model_name": "LayoutModel",
      "state": {
       "min_width": "125px"
      }
     },
     "6aebc1b7d022462ea4ac7b8228d301a8": {
      "model_module": "bqplot",
      "model_module_version": "^0.4.5",
      "model_name": "LinearScaleModel",
      "state": {
       "max": 0.19450320268003607,
       "min": 0.03583306405633184,
       "stabilized": false
      }
     },
     "6b4ea42ababf42d8a59afcb8f908b1b7": {
      "model_module": "bqplot",
      "model_module_version": "^0.4.5",
      "model_name": "LinearScaleModel",
      "state": {
       "stabilized": false
      }
     },
     "6b75e08c67ec4c07bf1ea0f841678a51": {
      "model_module": "bqplot",
      "model_module_version": "^0.4.5",
      "model_name": "LinesModel",
      "state": {
       "close_path": true,
       "color": {
        "type": null,
        "values": null
       },
       "display_legend": false,
       "fill": "inside",
       "fill_colors": [
        "orange",
        "blue",
        "red"
       ],
       "labels": [
        "C1",
        "C2",
        "C3",
        "C4"
       ],
       "scales": {
        "x": "IPY_MODEL_4d48ab48609c451ca80c104cdbb0875d",
        "y": "IPY_MODEL_7b29de3066154c189922bffd64cdd312"
       },
       "selected": [],
       "stroke_width": 1,
       "tooltip": "IPY_MODEL_99575a00246640449d6a743bf97fd125",
       "x": {
        "type": "object",
        "values": [
         [
          0.6790714093103971,
          0.6838775462866998,
          1.2311893360787933,
          0.8368019646982289
         ],
         [
          0.22738068359095126,
          0.43020238893545215,
          0.5272947621552145,
          0.5843433203379271
         ],
         [
          0.43020238893545215,
          0.28766969405592147,
          0.5281075673364094,
          0.6790714093103971,
          0.6838775462866998,
          0.5272947621552145
         ],
         [
          0.22738068359095126,
          -5.20820435004358,
          0.11120787378448214,
          0.28766969405592147,
          0.43020238893545215
         ]
        ]
       },
       "y": {
        "type": "object",
        "values": [
         [
          0.22900528542596285,
          0.5342473347036941,
          0.6785452236610399,
          0.2219913829992549
         ],
         [
          0.7667443763710994,
          0.5502889056231901,
          0.5706683504567711,
          1.3129857260028264
         ],
         [
          0.5502889056231901,
          0.35492950428148073,
          -0.15153524143845282,
          0.22900528542596285,
          0.5342473347036941,
          0.5706683504567711
         ],
         [
          0.7667443763710994,
          1.8846379679106748,
          0.3365460478735013,
          0.35492950428148073,
          0.5502889056231901
         ]
        ]
       }
      }
     },
     "6b8c461f70c74c0d9d5f9d02a31b9f3a": {
      "model_module": "bqplot",
      "model_module_version": "^0.4.5",
      "model_name": "LinesModel",
      "state": {
       "color": {
        "type": null,
        "values": null
       },
       "colors": [
        "black"
       ],
       "display_legend": false,
       "fill_colors": [],
       "labels": [
        "C1"
       ],
       "scales": {
        "x": "IPY_MODEL_2a6aca56c2d14e61beef14fd6a225877",
        "y": "IPY_MODEL_6aebc1b7d022462ea4ac7b8228d301a8"
       },
       "selected": [],
       "x": {
        "type": "float",
        "values": [
         0.22738068359095126,
         1.2311893360787933
        ]
       },
       "y": {
        "type": "float",
        "values": [
         0.7667443763710994,
         0.6785452236610399
        ]
       }
      }
     },
     "6bb1097a59e24a47a4ca1829aba91ece": {
      "model_module": "bqplot",
      "model_module_version": "^0.4.5",
      "model_name": "LinesModel",
      "state": {
       "color": {
        "type": null,
        "values": null
       },
       "colors": [
        "black"
       ],
       "display_legend": false,
       "fill_colors": [],
       "labels": [
        "C1"
       ],
       "scales": {
        "x": "IPY_MODEL_2a6aca56c2d14e61beef14fd6a225877",
        "y": "IPY_MODEL_6aebc1b7d022462ea4ac7b8228d301a8"
       },
       "selected": [],
       "x": {
        "type": "float",
        "values": [
         0.22738068359095126,
         0.5843433203379271
        ]
       },
       "y": {
        "type": "float",
        "values": [
         0.7667443763710994,
         1.3129857260028264
        ]
       }
      }
     },
     "6bc18a10ffe648eb8f773093801986c5": {
      "model_module": "bqplot",
      "model_module_version": "^0.4.5",
      "model_name": "ScatterModel",
      "state": {
       "color": {
        "type": null,
        "values": null
       },
       "colors": [
        "steelblue"
       ],
       "display_legend": false,
       "names": {
        "type": "<U5",
        "values": [
         "one",
         "two",
         "three",
         "four",
         "five",
         "six"
        ]
       },
       "opacity": {
        "type": null,
        "values": null
       },
       "rotation": {
        "type": null,
        "values": null
       },
       "scales": {
        "x": "IPY_MODEL_c2246c565c634b6f8c14aa8dced052a4",
        "y": "IPY_MODEL_003f0b2f9a9e42b2b63dfefc9005c9b5"
       },
       "scales_metadata": {
        "color": {
         "dimension": "color"
        },
        "opacity": {
         "dimension": "opacity"
        },
        "rotation": {
         "dimension": "rotation"
        },
        "size": {
         "dimension": "size"
        },
        "skew": {
         "dimension": "skew"
        },
        "x": {
         "dimension": "x",
         "orientation": "horizontal"
        },
        "y": {
         "dimension": "y",
         "orientation": "vertical"
        }
       },
       "selected": [],
       "size": {
        "type": null,
        "values": null
       },
       "skew": {
        "type": null,
        "values": null
       },
       "stroke": "black",
       "tooltip": "IPY_MODEL_b80ed1e2fbfa45358769dcf805aedaf3",
       "x": {
        "type": "float",
        "values": [
         0.771320643266746,
         0.6336482349262754,
         0.4985070123025904,
         0.19806286475962398,
         0.16911083656253545,
         0.6853598183677972
        ]
       },
       "y": {
        "type": "float",
        "values": [
         0.0207519493594015,
         0.7488038825386119,
         0.22479664553084766,
         0.7605307121989587,
         0.08833981417401027,
         0.9533933461949365
        ]
       }
      }
     },
     "6c6f7d768c8148b19959ecd38adbbcd6": {
      "model_module": "bqplot",
      "model_module_version": "^0.4.5",
      "model_name": "LinesModel",
      "state": {
       "color": {
        "type": null,
        "values": null
       },
       "colors": [
        "black"
       ],
       "display_legend": false,
       "fill_colors": [],
       "labels": [
        "C1"
       ],
       "scales": {
        "x": "IPY_MODEL_8f922e86cf4646428737dd08d5dd487a",
        "y": "IPY_MODEL_ba02e3e6817e4576ac4580e42528de41"
       },
       "selected": [],
       "x": {
        "type": "float",
        "values": [
         0.5843433203379271,
         0.22738068359095126
        ]
       },
       "y": {
        "type": "float",
        "values": [
         1.3129857260028264,
         0.7667443763710994
        ]
       }
      }
     },
     "6ce79e0aec4648139fbf0abb8526933a": {
      "model_module": "bqplot",
      "model_module_version": "^0.4.5",
      "model_name": "LinearScaleModel",
      "state": {
       "allow_padding": false,
       "max": 1,
       "min": 0,
       "stabilized": false
      }
     },
     "6d109dce44754db7acb348fdae3326b6": {
      "model_module": "bqplot",
      "model_module_version": "^0.4.5",
      "model_name": "LinearScaleModel",
      "state": {
       "allow_padding": false,
       "max": 1,
       "min": 0,
       "stabilized": false
      }
     },
     "6de1194de7f44b14b80b139f6c2844ef": {
      "model_module": "@jupyter-widgets/base",
      "model_module_version": "1.1.0",
      "model_name": "LayoutModel",
      "state": {}
     },
     "6e007f2661fb4ba2a0ee742a0847627e": {
      "model_module": "bqplot",
      "model_module_version": "^0.4.5",
      "model_name": "FigureModel",
      "state": {
       "_dom_classes": [],
       "axes": [
        "IPY_MODEL_eec8feccf43d49298ddcb0143e894481",
        "IPY_MODEL_8bec941f0711413eaa5bde2a3efddb2d"
       ],
       "layout": "IPY_MODEL_8c6d4d3ab86843009e2507afec406429",
       "marks": [
        "IPY_MODEL_e10ef5a5baa647ddafc03aa42fb9da9b"
       ],
       "scale_x": "IPY_MODEL_287fd444a42943b1b481d9a081492fc8",
       "scale_y": "IPY_MODEL_b1401b771a364172aaa94861010379a9",
       "title": "Security 1"
      }
     },
     "6e7741b0249c410ab7b20de9a0bf06fd": {
      "model_module": "bqplot",
      "model_module_version": "^0.4.5",
      "model_name": "AxisModel",
      "state": {
       "scale": "IPY_MODEL_06121ec0786f450097d9ed63aa6aeb46",
       "side": "bottom",
       "tick_values": {
        "type": null,
        "values": null
       }
      }
     },
     "6ed42f8ee04745bcacf55412f81dbe6c": {
      "model_module": "bqplot",
      "model_module_version": "^0.4.5",
      "model_name": "AxisModel",
      "state": {
       "scale": "IPY_MODEL_d1ded79a3d7a49279956ad21cdece577",
       "side": "bottom",
       "tick_values": {
        "type": null,
        "values": null
       }
      }
     },
     "6f325286ef2b46d09ca9089dfc15ddd9": {
      "model_module": "bqplot",
      "model_module_version": "^0.4.5",
      "model_name": "LinearScaleModel",
      "state": {
       "allow_padding": false,
       "max": 1,
       "min": 0,
       "stabilized": false
      }
     },
     "6fbf223288974b6b8f6a037a4816d80e": {
      "model_module": "bqplot",
      "model_module_version": "^0.4.5",
      "model_name": "LinearScaleModel",
      "state": {
       "max": 1,
       "min": 0,
       "stabilized": false
      }
     },
     "702c375401ed4dc0af4cc315226ef9c1": {
      "model_module": "bqplot",
      "model_module_version": "^0.4.5",
      "model_name": "LinearScaleModel",
      "state": {
       "allow_padding": false,
       "max": 1,
       "min": 0,
       "stabilized": false
      }
     },
     "704ecae85de3480593cd407d2646909c": {
      "model_module": "bqplot",
      "model_module_version": "^0.4.5",
      "model_name": "FigureModel",
      "state": {
       "_dom_classes": [],
       "animation_duration": 1000,
       "axes": [
        "IPY_MODEL_569e328ffdef40c0adc7a20ee68aeeb9",
        "IPY_MODEL_d05bc2d353784e569b77d1c1d20bfd51"
       ],
       "layout": "IPY_MODEL_7d2968ddcfa24023b0dc3b121c883424",
       "marks": [
        "IPY_MODEL_70fd932182da48518b31f97e179bafd9"
       ],
       "scale_x": "IPY_MODEL_da1886cd22fe46c4aed6a9a55ca971a4",
       "scale_y": "IPY_MODEL_7fa75bbac75b4e7a9062955ffe916c69"
      }
     },
     "708627e8f50e4eb18cd73b6c5ce3c490": {
      "model_module": "bqplot",
      "model_module_version": "^0.4.5",
      "model_name": "LinearScaleModel",
      "state": {
       "stabilized": false
      }
     },
     "708be42c1c304fac821641a9ac078bbf": {
      "model_module": "bqplot",
      "model_module_version": "^0.4.5",
      "model_name": "ScatterModel",
      "state": {
       "color": {
        "type": null,
        "values": null
       },
       "colors": [
        "steelblue"
       ],
       "display_legend": false,
       "display_names": false,
       "names": {
        "type": null,
        "values": null
       },
       "opacity": {
        "type": null,
        "values": null
       },
       "rotation": {
        "type": null,
        "values": null
       },
       "scales": {
        "x": "IPY_MODEL_3ea41f17c5324997b3a55c64c249a49a",
        "y": "IPY_MODEL_acdf4a2bce8d4c6c955a6c01561fcea6"
       },
       "scales_metadata": {
        "color": {
         "dimension": "color"
        },
        "opacity": {
         "dimension": "opacity"
        },
        "rotation": {
         "dimension": "rotation"
        },
        "size": {
         "dimension": "size"
        },
        "skew": {
         "dimension": "skew"
        },
        "x": {
         "dimension": "x",
         "orientation": "horizontal"
        },
        "y": {
         "dimension": "y",
         "orientation": "vertical"
        }
       },
       "selected": [],
       "size": {
        "type": null,
        "values": null
       },
       "skew": {
        "type": null,
        "values": null
       },
       "stroke": "black",
       "tooltip": "IPY_MODEL_27c94a2bcbab4059ac3da55ffc4cde0f",
       "x": {
        "type": "float",
        "values": [
         0.771320643266746,
         0.6336482349262754,
         0.4985070123025904,
         0.19806286475962398,
         0.16911083656253545,
         0.6853598183677972
        ]
       },
       "y": {
        "type": "float",
        "values": [
         0.0207519493594015,
         0.7488038825386119,
         0.22479664553084766,
         0.7605307121989587,
         0.08833981417401027,
         0.9533933461949365
        ]
       }
      }
     },
     "70a279246b654b778d12e8de0874983d": {
      "model_module": "bqplot",
      "model_module_version": "^0.4.5",
      "model_name": "FigureModel",
      "state": {
       "_dom_classes": [],
       "axes": [
        "IPY_MODEL_3ca241d3ac0945568dabdbc032bee083",
        "IPY_MODEL_a17620eec6da4f6182f4905915ada747"
       ],
       "layout": "IPY_MODEL_bf21b2e1b1ca4026b41000420519f1f1",
       "marks": [
        "IPY_MODEL_82f8263c934e46cca9fad78186efde40"
       ],
       "scale_x": "IPY_MODEL_20c82b7a162d498ca079b346d626929c",
       "scale_y": "IPY_MODEL_5e05778f11c841409fbc7691d61b34ad"
      }
     },
     "70a702b94d8249098d89cc5d42ae7ee1": {
      "model_module": "bqplot",
      "model_module_version": "^0.4.5",
      "model_name": "LinesModel",
      "state": {
       "color": {
        "type": null,
        "values": null
       },
       "colors": [
        "black"
       ],
       "display_legend": false,
       "fill_colors": [],
       "labels": [
        "C1"
       ],
       "scales": {
        "x": "IPY_MODEL_b50daaba70f04418935494498fcbe2b3",
        "y": "IPY_MODEL_27e68e618c6a452a9dc5120635c7b7f1"
       },
       "selected": [],
       "x": {
        "type": "float",
        "values": [
         0.8368019646982289,
         0.6790714093103971
        ]
       },
       "y": {
        "type": "float",
        "values": [
         0.2219913829992549,
         0.22900528542596285
        ]
       }
      }
     },
     "70cd145f168741bcaa1f84b502235ba7": {
      "model_module": "bqplot",
      "model_module_version": "^0.4.5",
      "model_name": "LinearScaleModel",
      "state": {
       "stabilized": false
      }
     },
     "70fd932182da48518b31f97e179bafd9": {
      "model_module": "bqplot",
      "model_module_version": "^0.4.5",
      "model_name": "LinesModel",
      "state": {
       "close_path": true,
       "color": {
        "type": null,
        "values": null
       },
       "display_legend": false,
       "fill": "inside",
       "fill_colors": [
        "orange",
        "blue",
        "red"
       ],
       "labels": [
        "C1",
        "C2",
        "C3",
        "C4"
       ],
       "scales": {
        "x": "IPY_MODEL_00b47f877f94458ca9946c6c39d4a208",
        "y": "IPY_MODEL_ec62227cabba4356ba518b79b0fc3f85"
       },
       "selected": [],
       "stroke_width": 1,
       "tooltip": "IPY_MODEL_99575a00246640449d6a743bf97fd125",
       "x": {
        "type": "object",
        "values": [
         [
          0.6790714093103971,
          0.6838775462866998,
          1.2311893360787933,
          0.8368019646982289
         ],
         [
          0.22738068359095126,
          0.43020238893545215,
          0.5272947621552145,
          0.5843433203379271
         ],
         [
          0.43020238893545215,
          0.28766969405592147,
          0.5281075673364094,
          0.6790714093103971,
          0.6838775462866998,
          0.5272947621552145
         ],
         [
          0.22738068359095126,
          -5.20820435004358,
          0.11120787378448214,
          0.28766969405592147,
          0.43020238893545215
         ]
        ]
       },
       "y": {
        "type": "object",
        "values": [
         [
          0.22900528542596285,
          0.5342473347036941,
          0.6785452236610399,
          0.2219913829992549
         ],
         [
          0.7667443763710994,
          0.5502889056231901,
          0.5706683504567711,
          1.3129857260028264
         ],
         [
          0.5502889056231901,
          0.35492950428148073,
          -0.15153524143845282,
          0.22900528542596285,
          0.5342473347036941,
          0.5706683504567711
         ],
         [
          0.7667443763710994,
          1.8846379679106748,
          0.3365460478735013,
          0.35492950428148073,
          0.5502889056231901
         ]
        ]
       }
      }
     },
     "7172fbc53d58493baa908da484c0e609": {
      "model_module": "bqplot",
      "model_module_version": "^0.4.5",
      "model_name": "AxisModel",
      "state": {
       "scale": "IPY_MODEL_363d32d8f23847308c316fdb1320d5bd",
       "side": "bottom",
       "tick_values": {
        "type": null,
        "values": null
       },
       "visible": false
      }
     },
     "7184c03870de42d09d215ecac952f69c": {
      "model_module": "bqplot",
      "model_module_version": "^0.4.5",
      "model_name": "LinearScaleModel",
      "state": {
       "allow_padding": false,
       "max": 1,
       "min": 0,
       "stabilized": false
      }
     },
     "722607f27626455d915ef488f9da0f5b": {
      "model_module": "bqplot",
      "model_module_version": "^0.4.5",
      "model_name": "ScatterModel",
      "state": {
       "color": {
        "type": null,
        "values": null
       },
       "colors": [
        "steelblue"
       ],
       "display_legend": false,
       "display_names": false,
       "names": {
        "type": null,
        "values": null
       },
       "opacity": {
        "type": null,
        "values": null
       },
       "rotation": {
        "type": null,
        "values": null
       },
       "scales": {
        "x": "IPY_MODEL_65585e5739fa4633927ab08b97eaef2e",
        "y": "IPY_MODEL_6fbf223288974b6b8f6a037a4816d80e"
       },
       "scales_metadata": {
        "color": {
         "dimension": "color"
        },
        "opacity": {
         "dimension": "opacity"
        },
        "rotation": {
         "dimension": "rotation"
        },
        "size": {
         "dimension": "size"
        },
        "skew": {
         "dimension": "skew"
        },
        "x": {
         "dimension": "x",
         "orientation": "horizontal"
        },
        "y": {
         "dimension": "y",
         "orientation": "vertical"
        }
       },
       "selected": [],
       "size": {
        "type": null,
        "values": null
       },
       "skew": {
        "type": null,
        "values": null
       },
       "stroke": "black",
       "tooltip": "IPY_MODEL_99575a00246640449d6a743bf97fd125",
       "x": {
        "type": "float",
        "values": [
         0.771320643266746,
         0.6336482349262754,
         0.4985070123025904,
         0.19806286475962398,
         0.16911083656253545,
         0.6853598183677972
        ]
       },
       "y": {
        "type": "float",
        "values": [
         0.0207519493594015,
         0.7488038825386119,
         0.22479664553084766,
         0.7605307121989587,
         0.08833981417401027,
         0.9533933461949365
        ]
       }
      }
     },
     "725c0785e6aa4399b9ca6bcef7053474": {
      "model_module": "bqplot",
      "model_module_version": "^0.4.5",
      "model_name": "LinesModel",
      "state": {
       "close_path": true,
       "color": {
        "type": null,
        "values": null
       },
       "display_legend": false,
       "fill": "inside",
       "fill_colors": [
        "orange",
        "blue",
        "red"
       ],
       "scales": {
        "x": "IPY_MODEL_dcf53cc62bf242ff8b75d5da912d66d6",
        "y": "IPY_MODEL_944b05fd92034983b8d8171b3020e3c7"
       },
       "selected": [],
       "stroke_width": 1,
       "tooltip": "IPY_MODEL_99575a00246640449d6a743bf97fd125",
       "x": {
        "type": "float",
        "values": []
       },
       "y": {
        "type": "float",
        "values": []
       }
      }
     },
     "72890ee1b70f4ce58a48b7dfd48900a5": {
      "model_module": "bqplot",
      "model_module_version": "^0.4.5",
      "model_name": "LinearScaleModel",
      "state": {
       "stabilized": false
      }
     },
     "72fede0dd73b42718996da2f4ce850b9": {
      "model_module": "bqplot",
      "model_module_version": "^0.4.5",
      "model_name": "FigureModel",
      "state": {
       "_dom_classes": [],
       "axes": [
        "IPY_MODEL_73c0b75e45f043079efb590ba192023f",
        "IPY_MODEL_599ebb0a8fce46f19f1b0684544c04ee"
       ],
       "layout": "IPY_MODEL_8b3280aae8664ae98bd9caafe553e6cb",
       "marks": [
        "IPY_MODEL_1f56e3b80afb4e18952a63ba03673041",
        "IPY_MODEL_b7b89cb84225403fa6b6d927f9194879",
        "IPY_MODEL_004f9efc524c4376864675af5ba08a05",
        "IPY_MODEL_acba74f10928469bb5ce0c1c28a67671",
        "IPY_MODEL_d936a332a7664015ab6ed5a12d09c4a9"
       ],
       "scale_x": "IPY_MODEL_f42be706b16848c1bcba7a2511e3a76c",
       "scale_y": "IPY_MODEL_ac0c2d2948994c418a0d411489a5308b"
      }
     },
     "73248a716e694cafab9b89bf3825fcf5": {
      "model_module": "bqplot",
      "model_module_version": "^0.4.5",
      "model_name": "LinearScaleModel",
      "state": {
       "stabilized": false
      }
     },
     "73c0b75e45f043079efb590ba192023f": {
      "model_module": "bqplot",
      "model_module_version": "^0.4.5",
      "model_name": "AxisModel",
      "state": {
       "scale": "IPY_MODEL_8c5111a2e1e644708b9240a4d3d4d5ce",
       "side": "bottom",
       "tick_values": {
        "type": null,
        "values": null
       }
      }
     },
     "73c324f0d41c44938e0f6f3705d01f0d": {
      "model_module": "bqplot",
      "model_module_version": "^0.4.5",
      "model_name": "LinesModel",
      "state": {
       "close_path": true,
       "color": {
        "type": null,
        "values": null
       },
       "display_legend": false,
       "fill": "inside",
       "fill_colors": [
        "orange",
        "blue",
        "red"
       ],
       "labels": [
        "C1",
        "C2"
       ],
       "scales": {
        "x": "IPY_MODEL_b536a45d7a204a1c8c8c5c90e24ce7df",
        "y": "IPY_MODEL_f07e0145546e4e3f8a6bcae382ee5f2a"
       },
       "selected": [],
       "stroke_width": 1,
       "tooltip": "IPY_MODEL_27c94a2bcbab4059ac3da55ffc4cde0f",
       "x": {
        "type": "float",
        "values": [
         [
          0.4097295846150608,
          0.8520227339335706,
          1.7332689863391435,
          0.4200808874255707
         ],
         [
          0.4097295846150608,
          0.22355450954331613,
          0.4501473823600029,
          0.8520227339335706
         ]
        ]
       },
       "y": {
        "type": "float",
        "values": [
         [
          0.5271223505498778,
          0.41305515312279745,
          0.5796961417400555,
          0.9116146811300156
         ],
         [
          0.5271223505498778,
          0.42271381055996105,
          -0.12426375746363771,
          0.41305515312279745
         ]
        ]
       }
      }
     },
     "7413aa43157747fab2855918e06610af": {
      "model_module": "bqplot",
      "model_module_version": "^0.4.5",
      "model_name": "LinearScaleModel",
      "state": {
       "allow_padding": false,
       "max": 1,
       "min": 0,
       "stabilized": false
      }
     },
     "7465a858a53b4e12b41a8b3552de4b12": {
      "model_module": "bqplot",
      "model_module_version": "^0.4.5",
      "model_name": "AxisModel",
      "state": {
       "orientation": "vertical",
       "scale": "IPY_MODEL_a5db13c1b3404908a913a4f702a4a02b",
       "side": "left",
       "tick_values": {
        "type": null,
        "values": null
       },
       "visible": false
      }
     },
     "7490c696e79e4ae5920c8fd63d883d61": {
      "model_module": "bqplot",
      "model_module_version": "^0.4.5",
      "model_name": "AxisModel",
      "state": {
       "scale": "IPY_MODEL_cb9558d5a9b3467f8b724651fee3c986",
       "side": "bottom",
       "tick_values": {
        "type": null,
        "values": null
       },
       "visible": false
      }
     },
     "751d61c47eb04d008c7ec1b6fe45daac": {
      "model_module": "bqplot",
      "model_module_version": "^0.4.5",
      "model_name": "LinesModel",
      "state": {
       "close_path": true,
       "color": {
        "type": null,
        "values": null
       },
       "display_legend": false,
       "fill": "inside",
       "fill_colors": [
        "orange",
        "blue",
        "red"
       ],
       "labels": [
        "C1",
        "C2",
        "C3",
        "C4",
        "C5",
        "C6",
        "C7",
        "C8",
        "C9",
        "C10",
        "C11",
        "C12",
        "C13",
        "C14",
        "C15",
        "C16",
        "C17",
        "C18",
        "C19",
        "C20",
        "C21",
        "C22",
        "C23",
        "C24",
        "C25",
        "C26",
        "C27",
        "C28",
        "C29",
        "C30",
        "C31",
        "C32",
        "C33",
        "C34",
        "C35",
        "C36",
        "C37",
        "C38",
        "C39",
        "C40",
        "C41",
        "C42",
        "C43",
        "C44",
        "C45",
        "C46",
        "C47",
        "C48",
        "C49",
        "C50",
        "C51",
        "C52",
        "C53",
        "C54",
        "C55",
        "C56",
        "C57",
        "C58",
        "C59",
        "C60",
        "C61",
        "C62",
        "C63",
        "C64",
        "C65",
        "C66",
        "C67",
        "C68",
        "C69",
        "C70",
        "C71",
        "C72",
        "C73",
        "C74",
        "C75",
        "C76",
        "C77",
        "C78",
        "C79",
        "C80",
        "C81",
        "C82",
        "C83",
        "C84",
        "C85",
        "C86",
        "C87",
        "C88",
        "C89"
       ],
       "scales": {
        "x": "IPY_MODEL_55f8e396dded4481b77e5425d0b5523f",
        "y": "IPY_MODEL_0310ad8f5b2842f696b4812fc6287e2e"
       },
       "selected": [],
       "stroke_width": 1,
       "tooltip": "IPY_MODEL_99575a00246640449d6a743bf97fd125",
       "x": {
        "type": "object",
        "values": [
         [
          -0.08475255245909073,
          0.05996367321148319,
          0.08479322651163212,
          0.05995157333505969
         ],
         [
          0.8922615808363101,
          0.9484974881532601,
          1.0239771911803062,
          0.9248738133821013
         ],
         [
          0.7826123297616694,
          0.5860766963396512,
          0.5537235568411509,
          0.7436386117536268
         ],
         [
          0.17765909719740863,
          0.21650059679839287,
          0.1566239907650207,
          0.1552441098754926,
          0.1271638945344281
         ],
         [
          0.8958729363977855,
          0.9025114453381056,
          3.7254727548007427,
          1.303489620089487,
          0.936997956036985
         ],
         [
          0.6894979865685824,
          0.6796363156123174,
          0.5407313810836678,
          0.5799455851411179
         ],
         [
          0.1671225413659981,
          0.0808544173481181,
          0.05995157333505969,
          0.08479322651163212,
          0.11362353230857873
         ],
         [
          0.7549312571304825,
          0.8369463236034708,
          0.8922615808363101,
          0.9248738133821013,
          0.8599618954914474,
          0.7616680727815712
         ],
         [
          0.32606350501054976,
          0.3654306665415356,
          0.4858904348533996,
          0.442543263660364,
          0.3664561062146867
         ],
         [
          0.3520617134062079,
          0.44763325809529253,
          0.5095771494014502,
          0.442543263660364,
          0.3664561062146867
         ],
         [
          0.32606350501054976,
          0.3654306665415356,
          0.19839889654454215,
          0.17765909719740863,
          0.21650059679839287,
          0.2695248325435307
         ],
         [
          0.8844761822970881,
          0.936997956036985,
          1.303489620089487,
          0.9728074978146745,
          0.8911378732215105
         ],
         [
          0.2791442374766947,
          0.2229997144601798,
          0.2333529203899401,
          0.28055530091993486,
          0.3319212309666195,
          0.3311547349960527,
          0.29136386167098083
         ],
         [
          0.17648291232270985,
          0.2229997144601798,
          0.2333529203899401,
          0.1671225413659981,
          0.11362353230857873,
          0.1409855013646931
         ],
         [
          0.07095062550864997,
          0.056144536431563516,
          0.05996367321148319,
          0.08479322651163212,
          0.11362353230857873,
          0.1409855013646931
         ],
         [
          0.05655007723232634,
          -0.02324519529831473,
          -0.09305334874494212,
          0.056144536431563516,
          0.07095062550864997
         ],
         [
          0.13667936712823156,
          0.05655007723232634,
          0.07095062550864997,
          0.1409855013646931,
          0.17648291232270985,
          0.1735852467022309
         ],
         [
          0.7447345469272995,
          0.7616680727815712,
          0.8599618954914474,
          0.8518854947309326,
          0.8429504147257009,
          0.7744128193462205
         ],
         [
          0.6709186387390527,
          0.7156947871151625,
          0.7447345469272995,
          0.7616680727815712,
          0.7549312571304825,
          0.7251218009192109
         ],
         [
          0.8757336212707671,
          0.9423394792843589,
          0.9565291478195775,
          0.9014301289553135
         ],
         [
          0.9014301289553135,
          1.3244007962918452,
          1.8325616329645324,
          1.02982616672276,
          0.9565291478195775
         ],
         [
          0.9423394792843589,
          0.9421276079766667,
          1.02982616672276,
          0.9565291478195775
         ],
         [
          0.8757336212707671,
          0.8518854947309326,
          0.8429504147257009,
          0.785830720920853,
          0.801422360248676,
          0.9421276079766667,
          0.9423394792843589
         ],
         [
          0.8757336212707671,
          0.8518854947309326,
          0.8599618954914474,
          0.9248738133821013,
          1.0239771911803062,
          1.3244007962918452,
          0.9014301289553135
         ],
         [
          0.8541317747866634,
          0.7859138685880834,
          0.789965608949285,
          0.8401791254796137
         ],
         [
          0.8401791254796137,
          0.8892737740604402,
          0.8644922753139983,
          0.7298737677352258,
          0.7183722051991415,
          0.789965608949285
         ],
         [
          0.8541317747866634,
          0.8844761822970881,
          0.936997956036985,
          0.8958729363977855,
          0.8892737740604402,
          0.8401791254796137
         ],
         [
          0.7048678804266107,
          0.6631642732553857,
          0.6854600075030313,
          0.7717160432897252,
          0.7728842983270414,
          0.7814164182655865,
          0.7734494984340863,
          0.7169374798008875
         ],
         [
          0.6631642732553857,
          0.5681058918982578,
          0.576620155923006,
          0.619313591747615,
          0.6721261719859388,
          0.6854600075030313
         ],
         [
          0.7717160432897252,
          0.7859138685880834,
          0.789965608949285,
          0.7183722051991415,
          0.6721261719859388,
          0.6854600075030313
         ],
         [
          0.7728842983270414,
          0.8911378732215105,
          0.8844761822970881,
          0.8541317747866634,
          0.7859138685880834,
          0.7717160432897252
         ],
         [
          0.7814164182655865,
          0.9529268869895049,
          0.9728074978146745,
          0.8911378732215105,
          0.7728842983270414
         ],
         [
          0.7169374798008875,
          0.6904495102029342,
          0.6671021048905704,
          0.7251218009192109,
          0.7549312571304825,
          0.8369463236034708,
          0.7734494984340863
         ],
         [
          0.7814164182655865,
          0.9529268869895049,
          0.9484974881532601,
          0.8922615808363101,
          0.8369463236034708,
          0.7734494984340863
         ],
         [
          0.5297607660948835,
          0.5681058918982578,
          0.576620155923006,
          0.5640000795312106,
          0.5086191613034009
         ],
         [
          0.33933317272714597,
          0.28055530091993486,
          0.3319212309666195,
          0.42031053233311066
         ],
         [
          0.33933317272714597,
          0.28055530091993486,
          0.2333529203899401,
          0.1671225413659981,
          0.0808544173481181,
          0.010321678871761025,
          0.34157344385192684,
          0.34221769905311594
         ],
         [
          0.10333495561836159,
          0.04760604640978913,
          -0.04625587478358112,
          -0.39226000203974826,
          -1.7789473680243528,
          -0.09305334874494212,
          -0.02324519529831473,
          -0.0005457419939594588
         ],
         [
          0.19475412499205588,
          0.1735852467022309,
          0.17648291232270985,
          0.2229997144601798,
          0.2791442374766947,
          0.291091225069642,
          0.25105593314521024,
          0.2140083514416948
         ],
         [
          0.5366240358606154,
          0.7048678804266107,
          0.7169374798008875,
          0.6904495102029342,
          0.5428787745126074
         ],
         [
          0.5274599245815067,
          0.5297607660948835,
          0.5681058918982578,
          0.6631642732553857,
          0.7048678804266107,
          0.5366240358606154
         ],
         [
          0.701124545722612,
          0.7036389883440564,
          0.6182403792723945,
          0.6646145197870538
         ],
         [
          0.6646145197870538,
          0.785830720920853,
          0.801422360248676,
          0.7826123297616694,
          0.5860766963396512,
          0.5916533082236889,
          0.6182403792723945
         ],
         [
          0.701124545722612,
          0.7744128193462205,
          0.7447345469272995,
          0.7156947871151625,
          0.7036389883440564
         ],
         [
          0.701124545722612,
          0.7744128193462205,
          0.8429504147257009,
          0.785830720920853,
          0.6646145197870538
         ],
         [
          0.5470067628086378,
          0.5477820176509163,
          0.5553265773930277,
          0.6200078432886269,
          0.6302899336424557,
          0.5636341839045399
         ],
         [
          0.6302899336424557,
          0.6709186387390527,
          0.7251218009192109,
          0.6671021048905704,
          0.6200078432886269
         ],
         [
          0.5553265773930277,
          0.5242973002939889,
          0.5428787745126074,
          0.6904495102029342,
          0.6671021048905704,
          0.6200078432886269
         ],
         [
          0.5470067628086378,
          0.5095771494014502,
          0.44763325809529253,
          0.48942986971702956,
          0.522867036202907,
          0.5477820176509163
         ],
         [
          0.5636341839045399,
          0.5916533082236889,
          0.6182403792723945,
          0.7036389883440564,
          0.7156947871151625,
          0.6709186387390527,
          0.6302899336424557
         ],
         [
          0.5470067628086378,
          0.5095771494014502,
          0.442543263660364,
          0.4858904348533996,
          0.5537235568411509,
          0.5860766963396512,
          0.5916533082236889,
          0.5636341839045399
         ],
         [
          0.5964126211383934,
          0.619313591747615,
          0.576620155923006,
          0.5640000795312106,
          0.5214422698732747
         ],
         [
          0.4972937373557724,
          0.5086191613034009,
          0.5640000795312106,
          0.5214422698732747
         ],
         [
          0.16506419872830538,
          0.17721576125534005,
          0.1695141925197683,
          0.1507729848388969,
          0.12016844646865305,
          0.14036078719250036
         ],
         [
          0.17721576125534005,
          0.2140083514416948,
          0.25105593314521024,
          0.1695141925197683
         ],
         [
          0.12016844646865305,
          -0.0005457419939594588,
          0.10333495561836159,
          0.15053204889866073,
          0.15452095643035138,
          0.1507729848388969
         ],
         [
          0.14036078719250036,
          0.13667936712823156,
          0.05655007723232634,
          -0.02324519529831473,
          -0.0005457419939594588,
          0.12016844646865305
         ],
         [
          0.16506419872830538,
          0.19475412499205588,
          0.2140083514416948,
          0.17721576125534005
         ],
         [
          0.16506419872830538,
          0.19475412499205588,
          0.1735852467022309,
          0.13667936712823156,
          0.14036078719250036
         ],
         [
          0.4605730717345083,
          0.48942986971702956,
          0.522867036202907,
          0.4703456141659566
         ],
         [
          0.30312719685986156,
          0.34597676713144443,
          0.4532308777519833,
          0.4783054380385875,
          0.42827364718111444,
          0.36145620663848865,
          0.35129906105930825,
          0.3099005352519825,
          0.2960651180774041
         ],
         [
          0.4783054380385875,
          0.5242973002939889,
          0.5553265773930277,
          0.5477820176509163,
          0.522867036202907,
          0.4703456141659566,
          0.4375923516362236,
          0.4532308777519833
         ],
         [
          0.34597676713144443,
          0.39033700114917896,
          0.4375923516362236,
          0.4532308777519833
         ],
         [
          0.42827364718111444,
          0.47032905822515186,
          0.5274599245815067,
          0.5366240358606154,
          0.5428787745126074,
          0.5242973002939889,
          0.4783054380385875
         ],
         [
          0.2960651180774041,
          0.15452095643035138,
          0.1507729848388969,
          0.1695141925197683,
          0.25105593314521024,
          0.291091225069642,
          0.3099005352519825
         ],
         [
          0.35129906105930825,
          0.36662579097945813,
          0.29136386167098083,
          0.2791442374766947,
          0.291091225069642,
          0.3099005352519825
         ],
         [
          0.4848580727969724,
          0.5895224762949374,
          0.566546369174203,
          0.4963353142060988
         ],
         [
          0.5895224762949374,
          0.5964126211383934,
          0.619313591747615,
          0.6721261719859388,
          0.7183722051991415,
          0.7298737677352258,
          0.6894979865685824,
          0.5799455851411179,
          0.566546369174203
         ],
         [
          0.4963353142060988,
          0.34221769905311594,
          0.34157344385192684,
          0.5407313810836678,
          0.5799455851411179,
          0.566546369174203
         ],
         [
          0.4848580727969724,
          0.4521549564191969,
          0.4566809954174328,
          0.4972937373557724,
          0.5214422698732747,
          0.5964126211383934,
          0.5895224762949374
         ],
         [
          0.4848580727969724,
          0.4521549564191969,
          0.42031053233311066,
          0.33933317272714597,
          0.34221769905311594,
          0.4963353142060988
         ],
         [
          0.44216205566498235,
          0.38914220788535414,
          0.37894569470583306,
          0.39159600729095523,
          0.4315829045308878
         ],
         [
          0.38914220788535414,
          0.36145620663848865,
          0.35129906105930825,
          0.36662579097945813,
          0.37894569470583306
         ],
         [
          0.39159600729095523,
          0.3311547349960527,
          0.29136386167098083,
          0.36662579097945813,
          0.37894569470583306
         ],
         [
          0.44216205566498235,
          0.47032905822515186,
          0.42827364718111444,
          0.36145620663848865,
          0.38914220788535414
         ],
         [
          0.4315829045308878,
          0.4566809954174328,
          0.4521549564191969,
          0.42031053233311066,
          0.3319212309666195,
          0.3311547349960527,
          0.39159600729095523
         ],
         [
          0.44216205566498235,
          0.47032905822515186,
          0.5274599245815067,
          0.5297607660948835,
          0.5086191613034009,
          0.4972937373557724,
          0.4566809954174328,
          0.4315829045308878
         ],
         [
          0.2963056260082066,
          0.2758845865743852,
          0.290488628167884,
          0.3801911569000378,
          0.3782918917747366,
          0.35181930886404145,
          0.3284976395205213
         ],
         [
          0.3801911569000378,
          0.39033700114917896,
          0.34597676713144443,
          0.30312719685986156,
          0.290488628167884
         ],
         [
          0.3801911569000378,
          0.39033700114917896,
          0.4375923516362236,
          0.4703456141659566,
          0.4605730717345083,
          0.3782918917747366
         ],
         [
          0.35181930886404145,
          0.3520617134062079,
          0.44763325809529253,
          0.48942986971702956,
          0.4605730717345083,
          0.3782918917747366
         ],
         [
          0.3284976395205213,
          0.2695248325435307,
          0.32606350501054976,
          0.3664561062146867,
          0.3520617134062079,
          0.35181930886404145
         ],
         [
          0.25749109839409895,
          0.21267926962347788,
          0.18993022694083767,
          0.15260836072302839,
          0.1601661297401958,
          0.19131887276363133
         ],
         [
          0.15260836072302839,
          0.04760604640978913,
          0.10333495561836159,
          0.15053204889866073,
          0.18993022694083767
         ],
         [
          0.21267926962347788,
          0.2758845865743852,
          0.290488628167884,
          0.30312719685986156,
          0.2960651180774041,
          0.15452095643035138,
          0.15053204889866073,
          0.18993022694083767
         ],
         [
          0.25749109839409895,
          0.2963056260082066,
          0.2758845865743852,
          0.21267926962347788
         ],
         [
          0.1601661297401958,
          -0.04625587478358112,
          0.04760604640978913,
          0.15260836072302839
         ],
         [
          0.19131887276363133,
          0.1566239907650207,
          0.1552441098754926,
          -0.39226000203974826,
          -0.04625587478358112,
          0.1601661297401958
         ],
         [
          0.25749109839409895,
          0.2963056260082066,
          0.3284976395205213,
          0.2695248325435307,
          0.21650059679839287,
          0.1566239907650207,
          0.19131887276363133
         ]
        ]
       },
       "y": {
        "type": "object",
        "values": [
         [
          0.18766431216864535,
          0.21527102341507598,
          0.20046932988757732,
          0.1194803976086593
         ],
         [
          0.6868518466109428,
          0.5094704930413251,
          0.7165458345627486,
          0.7184602714731044
         ],
         [
          1.8922301144088802,
          0.8967030635235811,
          0.9285927594555251,
          9.080515652644772
         ],
         [
          1.0454818206669554,
          0.8964747041044363,
          0.8376082780480106,
          0.8381631508354757,
          0.8886984395238302
         ],
         [
          0.11172678228221458,
          0.11016256913183203,
          0.22706467021620985,
          0.3576663780475622,
          0.19413373564767408
         ],
         [
          0.04860075706480346,
          -0.3581431095198661,
          0.049568673630367696,
          0.09173586509883759
         ],
         [
          0.1722183383016177,
          -0.07901055705348747,
          0.1194803976086593,
          0.20046932988757732,
          0.20520922900059238
         ],
         [
          0.7019195682692153,
          0.6603252712722206,
          0.6868518466109428,
          0.7184602714731044,
          0.8402217323191642,
          0.7344849729730747
         ],
         [
          0.9613190256159994,
          1.1775730858911575,
          0.9549678365504611,
          0.8913140982878146,
          0.8970546364447082
         ],
         [
          0.7484957085719692,
          0.7717007454329576,
          0.8082006063944445,
          0.8913140982878146,
          0.8970546364447082
         ],
         [
          0.9613190256159994,
          1.1775730858911575,
          4.982895881976411,
          1.0454818206669554,
          0.8964747041044363,
          0.9242822386210425
         ],
         [
          0.2771803893538775,
          0.19413373564767408,
          0.3576663780475622,
          0.4119712958896557,
          0.3033889194259604
         ],
         [
          0.3238873693846753,
          0.29148470160424356,
          0.17593003600410642,
          0.14469039984150253,
          0.24990801641289362,
          0.26959722658301405,
          0.3137062708979666
         ],
         [
          0.30394314189934274,
          0.29148470160424356,
          0.17593003600410642,
          0.1722183383016177,
          0.20520922900059238,
          0.27207049270978617
         ],
         [
          0.3085511341833507,
          0.23058334950142662,
          0.21527102341507598,
          0.20046932988757732,
          0.20520922900059238,
          0.27207049270978617
         ],
         [
          0.3431072560593489,
          0.3957228384668044,
          0.39725019822092095,
          0.23058334950142662,
          0.3085511341833507
         ],
         [
          0.34962855420619454,
          0.3431072560593489,
          0.3085511341833507,
          0.27207049270978617,
          0.30394314189934274,
          0.3100059779332992
         ],
         [
          0.8216202073292638,
          0.7344849729730747,
          0.8402217323191642,
          0.8657456469260267,
          0.8732042889870765,
          0.8479268089004451
         ],
         [
          0.7673468451756451,
          0.8144101760630202,
          0.8216202073292638,
          0.7344849729730747,
          0.7019195682692153,
          0.6991242806345185
         ],
         [
          0.8735922478824225,
          0.9696878618956105,
          0.9170251339517272,
          0.880160391287594
         ],
         [
          0.880160391287594,
          0.7604922534623879,
          0.8007297533052902,
          0.9314918412571357,
          0.9170251339517272
         ],
         [
          0.9696878618956105,
          1.001192592188652,
          0.9314918412571357,
          0.9170251339517272
         ],
         [
          0.8735922478824225,
          0.8657456469260267,
          0.8732042889870765,
          1.0859796319724686,
          1.247079160396166,
          1.001192592188652,
          0.9696878618956105
         ],
         [
          0.8735922478824225,
          0.8657456469260267,
          0.8402217323191642,
          0.7184602714731044,
          0.7165458345627486,
          0.7604922534623879,
          0.880160391287594
         ],
         [
          0.24205285536871227,
          0.27599855080035385,
          0.21108377925102728,
          0.2147733196050809
         ],
         [
          0.2147733196050809,
          0.10984248903153968,
          0.08737940042812475,
          0.1011437071253222,
          0.17238634089536212,
          0.21108377925102728
         ],
         [
          0.24205285536871227,
          0.2771803893538775,
          0.19413373564767408,
          0.11172678228221458,
          0.10984248903153968,
          0.2147733196050809
         ],
         [
          0.467726445447311,
          0.3541803069655101,
          0.26824168218044814,
          0.3046083008151902,
          0.30610446546143244,
          0.4785102256398476,
          0.4838743117569385,
          0.48605425325409496
         ],
         [
          0.3541803069655101,
          0.3444875255485018,
          0.29571490100449,
          0.22570350965524086,
          0.23192857621009208,
          0.26824168218044814
         ],
         [
          0.3046083008151902,
          0.27599855080035385,
          0.21108377925102728,
          0.17238634089536212,
          0.23192857621009208,
          0.26824168218044814
         ],
         [
          0.30610446546143244,
          0.3033889194259604,
          0.2771803893538775,
          0.24205285536871227,
          0.27599855080035385,
          0.3046083008151902
         ],
         [
          0.4785102256398476,
          0.42658719064026895,
          0.4119712958896557,
          0.3033889194259604,
          0.30610446546143244
         ],
         [
          0.48605425325409496,
          0.5092483320350483,
          0.6363753904287199,
          0.6991242806345185,
          0.7019195682692153,
          0.6603252712722206,
          0.4838743117569385
         ],
         [
          0.4785102256398476,
          0.42658719064026895,
          0.5094704930413251,
          0.6868518466109428,
          0.6603252712722206,
          0.4838743117569385
         ],
         [
          0.37057517751831476,
          0.3444875255485018,
          0.29571490100449,
          0.29117974126706186,
          0.2821610834105058
         ],
         [
          0.035756405969484026,
          0.14469039984150253,
          0.24990801641289362,
          0.20430592009960438
         ],
         [
          0.035756405969484026,
          0.14469039984150253,
          0.17593003600410642,
          0.1722183383016177,
          -0.07901055705348747,
          -1.0446450770919942,
          0.010092086317784826,
          0.02055230592172938
         ],
         [
          0.5237154036894824,
          0.5971900444033128,
          0.6356589983148537,
          0.688490771421261,
          0.6582838271180349,
          0.39725019822092095,
          0.3957228384668044,
          0.4068044484925284
         ],
         [
          0.37118631712933614,
          0.3100059779332992,
          0.30394314189934274,
          0.29148470160424356,
          0.3238873693846753,
          0.4083810612903426,
          0.40715830347643817,
          0.39144951626646507
         ],
         [
          0.39020272720305593,
          0.467726445447311,
          0.48605425325409496,
          0.5092483320350483,
          0.52873243696096
         ],
         [
          0.3739717115854233,
          0.37057517751831476,
          0.3444875255485018,
          0.3541803069655101,
          0.467726445447311,
          0.39020272720305593
         ],
         [
          0.8927480562390957,
          0.8272332178847879,
          0.8954848047986568,
          0.9228324518455797
         ],
         [
          0.9228324518455797,
          1.0859796319724686,
          1.247079160396166,
          1.8922301144088802,
          0.8967030635235811,
          0.8877704180284818,
          0.8954848047986568
         ],
         [
          0.8927480562390957,
          0.8479268089004451,
          0.8216202073292638,
          0.8144101760630202,
          0.8272332178847879
         ],
         [
          0.8927480562390957,
          0.8479268089004451,
          0.8732042889870765,
          1.0859796319724686,
          0.9228324518455797
         ],
         [
          0.809941745848387,
          0.6679792001868494,
          0.6586657461542196,
          0.6610534418697956,
          0.7729074066766817,
          0.8193116546871726
         ],
         [
          0.7729074066766817,
          0.7673468451756451,
          0.6991242806345185,
          0.6363753904287199,
          0.6610534418697956
         ],
         [
          0.6586657461542196,
          0.5402388654119852,
          0.52873243696096,
          0.5092483320350483,
          0.6363753904287199,
          0.6610534418697956
         ],
         [
          0.809941745848387,
          0.8082006063944445,
          0.7717007454329576,
          0.6882430887844456,
          0.6709070286227734,
          0.6679792001868494
         ],
         [
          0.8193116546871726,
          0.8877704180284818,
          0.8954848047986568,
          0.8272332178847879,
          0.8144101760630202,
          0.7673468451756451,
          0.7729074066766817
         ],
         [
          0.809941745848387,
          0.8082006063944445,
          0.8913140982878146,
          0.9549678365504611,
          0.9285927594555251,
          0.8967030635235811,
          0.8877704180284818,
          0.8193116546871726
         ],
         [
          0.21142628282008555,
          0.22570350965524086,
          0.29571490100449,
          0.29117974126706186,
          0.2523203179283004
         ],
         [
          0.2616604422629263,
          0.2821610834105058,
          0.29117974126706186,
          0.2523203179283004
         ],
         [
          0.3878572880016299,
          0.40128311247164994,
          0.44448474355667533,
          0.4634667433048437,
          0.4261828840691094,
          0.37801791295867226
         ],
         [
          0.40128311247164994,
          0.39144951626646507,
          0.40715830347643817,
          0.44448474355667533
         ],
         [
          0.4261828840691094,
          0.4068044484925284,
          0.5237154036894824,
          0.5048311265942593,
          0.49903492617112294,
          0.4634667433048437
         ],
         [
          0.37801791295867226,
          0.34962855420619454,
          0.3431072560593489,
          0.3957228384668044,
          0.4068044484925284,
          0.4261828840691094
         ],
         [
          0.3878572880016299,
          0.37118631712933614,
          0.39144951626646507,
          0.40128311247164994
         ],
         [
          0.3878572880016299,
          0.37118631712933614,
          0.3100059779332992,
          0.34962855420619454,
          0.37801791295867226
         ],
         [
          0.6773773209751246,
          0.6882430887844456,
          0.6709070286227734,
          0.641313448349839
         ],
         [
          0.5211116223211779,
          0.5352455910193442,
          0.5549061305866,
          0.5377512633017318,
          0.424981944864984,
          0.4210175224151471,
          0.42233558857231257,
          0.43320563724699845,
          0.49627856394354064
         ],
         [
          0.5377512633017318,
          0.5402388654119852,
          0.6586657461542196,
          0.6679792001868494,
          0.6709070286227734,
          0.641313448349839,
          0.6002678912229196,
          0.5549061305866
         ],
         [
          0.5352455910193442,
          0.6579497001675114,
          0.6002678912229196,
          0.5549061305866
         ],
         [
          0.424981944864984,
          0.3797539669887341,
          0.3739717115854233,
          0.39020272720305593,
          0.52873243696096,
          0.5402388654119852,
          0.5377512633017318
         ],
         [
          0.49627856394354064,
          0.49903492617112294,
          0.4634667433048437,
          0.44448474355667533,
          0.40715830347643817,
          0.4083810612903426,
          0.43320563724699845
         ],
         [
          0.42233558857231257,
          0.3331919091805511,
          0.3137062708979666,
          0.3238873693846753,
          0.4083810612903426,
          0.43320563724699845
         ],
         [
          0.192555381191076,
          0.20143039455042958,
          0.12174245284796215,
          0.134416745199609
         ],
         [
          0.20143039455042958,
          0.21142628282008555,
          0.22570350965524086,
          0.23192857621009208,
          0.17238634089536212,
          0.1011437071253222,
          0.04860075706480346,
          0.09173586509883759,
          0.12174245284796215
         ],
         [
          0.134416745199609,
          0.02055230592172938,
          0.010092086317784826,
          0.049568673630367696,
          0.09173586509883759,
          0.12174245284796215
         ],
         [
          0.192555381191076,
          0.22837908151214426,
          0.24686423413890973,
          0.2616604422629263,
          0.2523203179283004,
          0.21142628282008555,
          0.20143039455042958
         ],
         [
          0.192555381191076,
          0.22837908151214426,
          0.20430592009960438,
          0.035756405969484026,
          0.02055230592172938,
          0.134416745199609
         ],
         [
          0.3268257041360094,
          0.34906461030245395,
          0.32452628856155175,
          0.2931696138298367,
          0.28946007935453993
         ],
         [
          0.34906461030245395,
          0.4210175224151471,
          0.42233558857231257,
          0.3331919091805511,
          0.32452628856155175
         ],
         [
          0.2931696138298367,
          0.26959722658301405,
          0.3137062708979666,
          0.3331919091805511,
          0.32452628856155175
         ],
         [
          0.3268257041360094,
          0.3797539669887341,
          0.424981944864984,
          0.4210175224151471,
          0.34906461030245395
         ],
         [
          0.28946007935453993,
          0.24686423413890973,
          0.22837908151214426,
          0.20430592009960438,
          0.24990801641289362,
          0.26959722658301405,
          0.2931696138298367
         ],
         [
          0.3268257041360094,
          0.3797539669887341,
          0.3739717115854233,
          0.37057517751831476,
          0.2821610834105058,
          0.2616604422629263,
          0.24686423413890973,
          0.28946007935453993
         ],
         [
          0.7428207593708316,
          0.572826212514801,
          0.5559849359221616,
          0.6744095866684889,
          0.6853851357929981,
          0.7482526560874929,
          0.7468264727742786
         ],
         [
          0.6744095866684889,
          0.6579497001675114,
          0.5352455910193442,
          0.5211116223211779,
          0.5559849359221616
         ],
         [
          0.6744095866684889,
          0.6579497001675114,
          0.6002678912229196,
          0.641313448349839,
          0.6773773209751246,
          0.6853851357929981
         ],
         [
          0.7482526560874929,
          0.7484957085719692,
          0.7717007454329576,
          0.6882430887844456,
          0.6773773209751246,
          0.6853851357929981
         ],
         [
          0.7468264727742786,
          0.9242822386210425,
          0.9613190256159994,
          0.8970546364447082,
          0.7484957085719692,
          0.7482526560874929
         ],
         [
          0.7486326693949722,
          0.6018216028805788,
          0.5998268867262594,
          0.6285049324381569,
          0.7277908930375016,
          0.7777733040655163
         ],
         [
          0.6285049324381569,
          0.5971900444033128,
          0.5237154036894824,
          0.5048311265942593,
          0.5998268867262594
         ],
         [
          0.6018216028805788,
          0.572826212514801,
          0.5559849359221616,
          0.5211116223211779,
          0.49627856394354064,
          0.49903492617112294,
          0.5048311265942593,
          0.5998268867262594
         ],
         [
          0.7486326693949722,
          0.7428207593708316,
          0.572826212514801,
          0.6018216028805788
         ],
         [
          0.7277908930375016,
          0.6356589983148537,
          0.5971900444033128,
          0.6285049324381569
         ],
         [
          0.7777733040655163,
          0.8376082780480106,
          0.8381631508354757,
          0.688490771421261,
          0.6356589983148537,
          0.7277908930375016
         ],
         [
          0.7486326693949722,
          0.7428207593708316,
          0.7468264727742786,
          0.9242822386210425,
          0.8964747041044363,
          0.8376082780480106,
          0.7777733040655163
         ]
        ]
       }
      }
     },
     "75470da9a906427998f3cc73d1ced3b6": {
      "model_module": "bqplot",
      "model_module_version": "^0.4.5",
      "model_name": "LinesModel",
      "state": {
       "color": {
        "type": null,
        "values": null
       },
       "colors": [
        "black"
       ],
       "display_legend": false,
       "fill_colors": [],
       "labels": [
        "C1"
       ],
       "scales": {
        "x": "IPY_MODEL_8f922e86cf4646428737dd08d5dd487a",
        "y": "IPY_MODEL_ba02e3e6817e4576ac4580e42528de41"
       },
       "selected": [],
       "x": {
        "type": "float",
        "values": [
         -5.20820435004358,
         0.11120787378448214
        ]
       },
       "y": {
        "type": "float",
        "values": [
         1.8846379679106748,
         0.3365460478735013
        ]
       }
      }
     },
     "758406de2ba146758e69346d1934ce65": {
      "model_module": "bqplot",
      "model_module_version": "^0.4.5",
      "model_name": "ScatterModel",
      "state": {
       "color": {
        "type": null,
        "values": null
       },
       "colors": [
        "steelblue"
       ],
       "display_legend": false,
       "display_names": false,
       "names": {
        "type": null,
        "values": null
       },
       "opacity": {
        "type": null,
        "values": null
       },
       "rotation": {
        "type": null,
        "values": null
       },
       "scales": {
        "x": "IPY_MODEL_c4bc500e3d0c4908bbabbd1fd8aa9e48",
        "y": "IPY_MODEL_821d3c3b0af24912b00b69c998eb533d"
       },
       "scales_metadata": {
        "color": {
         "dimension": "color"
        },
        "opacity": {
         "dimension": "opacity"
        },
        "rotation": {
         "dimension": "rotation"
        },
        "size": {
         "dimension": "size"
        },
        "skew": {
         "dimension": "skew"
        },
        "x": {
         "dimension": "x",
         "orientation": "horizontal"
        },
        "y": {
         "dimension": "y",
         "orientation": "vertical"
        }
       },
       "selected": [],
       "size": {
        "type": null,
        "values": null
       },
       "skew": {
        "type": null,
        "values": null
       },
       "stroke": "black",
       "tooltip": "IPY_MODEL_99575a00246640449d6a743bf97fd125",
       "x": {
        "type": "float",
        "values": [
         0.771320643266746,
         0.6336482349262754,
         0.4985070123025904,
         0.19806286475962398,
         0.16911083656253545,
         0.6853598183677972
        ]
       },
       "y": {
        "type": "float",
        "values": [
         0.0207519493594015,
         0.7488038825386119,
         0.22479664553084766,
         0.7605307121989587,
         0.08833981417401027,
         0.9533933461949365
        ]
       }
      }
     },
     "75a55285bf9848ceb839cad0e8243c00": {
      "model_module": "bqplot",
      "model_module_version": "^0.4.5",
      "model_name": "LinesModel",
      "state": {
       "close_path": true,
       "color": {
        "type": null,
        "values": null
       },
       "display_legend": false,
       "fill": "inside",
       "fill_colors": [
        "orange",
        "blue",
        "red"
       ],
       "labels": [
        "C1",
        "C2",
        "C3"
       ],
       "scales": {
        "x": "IPY_MODEL_d1ded79a3d7a49279956ad21cdece577",
        "y": "IPY_MODEL_ca4b7149bfcb4bf285e6ee7a319fa6d3"
       },
       "selected": [],
       "stroke_width": 1,
       "tooltip": "IPY_MODEL_99575a00246640449d6a743bf97fd125",
       "x": {
        "type": "object",
        "values": [
         [],
         [
          0.4097295846150608,
          0.8520227339335706,
          1.7332689863391435,
          0.4200808874255707
         ],
         [
          0.4097295846150608,
          0.22355450954331613,
          0.4501473823600029,
          0.8520227339335706
         ]
        ]
       },
       "y": {
        "type": "object",
        "values": [
         [],
         [
          0.5271223505498778,
          0.41305515312279745,
          0.5796961417400555,
          0.9116146811300156
         ],
         [
          0.5271223505498778,
          0.42271381055996105,
          -0.12426375746363771,
          0.41305515312279745
         ]
        ]
       }
      }
     },
     "75bb253b06764081a4827659de2140c4": {
      "model_module": "@jupyter-widgets/base",
      "model_module_version": "1.1.0",
      "model_name": "LayoutModel",
      "state": {
       "min_width": "125px"
      }
     },
     "76164983d9c94b949c746e262c5c1889": {
      "model_module": "bqplot",
      "model_module_version": "^0.4.5",
      "model_name": "LinearScaleModel",
      "state": {
       "allow_padding": false,
       "max": 1,
       "min": 0,
       "stabilized": false
      }
     },
     "7623d3790da34158a31e8848b5c1c0cc": {
      "model_module": "bqplot",
      "model_module_version": "^0.4.5",
      "model_name": "AxisModel",
      "state": {
       "label": "Security 1",
       "orientation": "vertical",
       "scale": "IPY_MODEL_db9bb10ad48a4538b0f5e229d1c7c8c7",
       "side": "left",
       "tick_values": {
        "type": null,
        "values": null
       }
      }
     },
     "7705b948e2424b4ea03da1ea54e1cd73": {
      "model_module": "@jupyter-widgets/base",
      "model_module_version": "1.1.0",
      "model_name": "LayoutModel",
      "state": {
       "min_width": "125px"
      }
     },
     "77197f7ecdf8412b937c1bd6d0cafa04": {
      "model_module": "@jupyter-widgets/base",
      "model_module_version": "1.1.0",
      "model_name": "LayoutModel",
      "state": {
       "min_width": "125px"
      }
     },
     "771c97bb1a0d4863a03318c702a3e2e2": {
      "model_module": "bqplot",
      "model_module_version": "^0.4.5",
      "model_name": "LinearScaleModel",
      "state": {
       "allow_padding": false,
       "max": 1,
       "min": 0,
       "stabilized": false
      }
     },
     "775d8775d17b4f9b8642ae38b2526373": {
      "model_module": "bqplot",
      "model_module_version": "^0.4.5",
      "model_name": "AxisModel",
      "state": {
       "orientation": "vertical",
       "scale": "IPY_MODEL_62185592769b43b1ab4256aa004c3e82",
       "side": "left",
       "tick_values": {
        "type": null,
        "values": null
       }
      }
     },
     "776cea8bb230402cb0b6080a45629c79": {
      "model_module": "bqplot",
      "model_module_version": "^0.4.5",
      "model_name": "AxisModel",
      "state": {
       "orientation": "vertical",
       "scale": "IPY_MODEL_77f6739c85b443a1ad0d0096103c5ac9",
       "side": "left",
       "tick_values": {
        "type": null,
        "values": null
       },
       "visible": false
      }
     },
     "77f6739c85b443a1ad0d0096103c5ac9": {
      "model_module": "bqplot",
      "model_module_version": "^0.4.5",
      "model_name": "LinearScaleModel",
      "state": {
       "stabilized": false
      }
     },
     "78020d3e9ca64af691a5ac531a6d0287": {
      "model_module": "bqplot",
      "model_module_version": "^0.4.5",
      "model_name": "AxisModel",
      "state": {
       "orientation": "vertical",
       "scale": "IPY_MODEL_944b05fd92034983b8d8171b3020e3c7",
       "side": "left",
       "tick_values": {
        "type": null,
        "values": null
       },
       "visible": false
      }
     },
     "7822016927634533a650db648d13a887": {
      "model_module": "bqplot",
      "model_module_version": "^0.4.5",
      "model_name": "FigureModel",
      "state": {
       "_dom_classes": [],
       "animation_duration": 1000,
       "axes": [
        "IPY_MODEL_92afb889514b4a92b77d79f0c9be26c8",
        "IPY_MODEL_775d8775d17b4f9b8642ae38b2526373"
       ],
       "layout": "IPY_MODEL_2a6f07069a8b4b71bc49a3d40eeed857",
       "marks": [
        "IPY_MODEL_9b01b6bc9e844e40bc26fe375684b1ce",
        "IPY_MODEL_402310f6980549f788adee81efa9e832"
       ],
       "scale_x": "IPY_MODEL_d3996a72da7c437ea23da4cca0b69251",
       "scale_y": "IPY_MODEL_41013d840ef0411aa633b16552de211d"
      }
     },
     "783e727f23434d10a1270bee91d9e54c": {
      "model_module": "bqplot",
      "model_module_version": "^0.4.5",
      "model_name": "ScatterModel",
      "state": {
       "color": {
        "type": null,
        "values": null
       },
       "colors": [
        "steelblue"
       ],
       "display_legend": false,
       "display_names": false,
       "names": {
        "type": null,
        "values": null
       },
       "opacity": {
        "type": null,
        "values": null
       },
       "rotation": {
        "type": null,
        "values": null
       },
       "scales": {
        "x": "IPY_MODEL_497d127289604b7f934d8949526bdb1f",
        "y": "IPY_MODEL_1d2ea3f0b12141908b0cb25d0d6813f5"
       },
       "scales_metadata": {
        "color": {
         "dimension": "color"
        },
        "opacity": {
         "dimension": "opacity"
        },
        "rotation": {
         "dimension": "rotation"
        },
        "size": {
         "dimension": "size"
        },
        "skew": {
         "dimension": "skew"
        },
        "x": {
         "dimension": "x",
         "orientation": "horizontal"
        },
        "y": {
         "dimension": "y",
         "orientation": "vertical"
        }
       },
       "selected": [],
       "size": {
        "type": null,
        "values": null
       },
       "skew": {
        "type": null,
        "values": null
       },
       "stroke": "black",
       "tooltip": "IPY_MODEL_99575a00246640449d6a743bf97fd125",
       "x": {
        "type": "float",
        "values": [
         0.5434049417909654,
         0.4245175907491331,
         0.004718856190972565,
         0.6707490847267786,
         0.13670658968495297,
         0.891321954312264
        ]
       },
       "y": {
        "type": "float",
        "values": [
         0.27836938509379616,
         0.8447761323199037,
         0.12156912078311422,
         0.8258527551050476,
         0.57509332942725,
         0.20920212211718958
        ]
       }
      }
     },
     "7883f1948c5c459cba7e2a79a8f08d03": {
      "model_module": "bqplot",
      "model_module_version": "^0.4.5",
      "model_name": "AxisModel",
      "state": {
       "scale": "IPY_MODEL_2a6aca56c2d14e61beef14fd6a225877",
       "side": "bottom",
       "tick_values": {
        "type": null,
        "values": null
       }
      }
     },
     "78939414c4a24a32896db3bb63efcb82": {
      "model_module": "@jupyter-widgets/base",
      "model_module_version": "1.1.0",
      "model_name": "LayoutModel",
      "state": {
       "min_width": "125px"
      }
     },
     "78b84cb83e644866b6c6354b082f8002": {
      "model_module": "bqplot",
      "model_module_version": "^0.4.5",
      "model_name": "ScatterModel",
      "state": {
       "color": {
        "type": null,
        "values": null
       },
       "colors": [
        "steelblue"
       ],
       "display_legend": false,
       "display_names": false,
       "names": {
        "type": null,
        "values": null
       },
       "opacity": {
        "type": null,
        "values": null
       },
       "rotation": {
        "type": null,
        "values": null
       },
       "scales": {
        "x": "IPY_MODEL_fb35778567a949baba8b539c46854168",
        "y": "IPY_MODEL_ef0fb5245e494b569776b5ee08a1049e"
       },
       "scales_metadata": {
        "color": {
         "dimension": "color"
        },
        "opacity": {
         "dimension": "opacity"
        },
        "rotation": {
         "dimension": "rotation"
        },
        "size": {
         "dimension": "size"
        },
        "skew": {
         "dimension": "skew"
        },
        "x": {
         "dimension": "x",
         "orientation": "horizontal"
        },
        "y": {
         "dimension": "y",
         "orientation": "vertical"
        }
       },
       "selected": [],
       "size": {
        "type": null,
        "values": null
       },
       "skew": {
        "type": null,
        "values": null
       },
       "stroke": "black",
       "tooltip": "IPY_MODEL_99575a00246640449d6a743bf97fd125",
       "x": {
        "type": "float",
        "values": [
         0.771320643266746,
         0.6336482349262754,
         0.4985070123025904,
         0.19806286475962398,
         0.16911083656253545
        ]
       },
       "y": {
        "type": "float",
        "values": [
         0.0207519493594015,
         0.7488038825386119,
         0.22479664553084766,
         0.7605307121989587,
         0.08833981417401027
        ]
       }
      }
     },
     "78c8f5cd704e4a009aeadf75f66d9027": {
      "model_module": "bqplot",
      "model_module_version": "^0.4.5",
      "model_name": "AxisModel",
      "state": {
       "orientation": "vertical",
       "scale": "IPY_MODEL_8bd5baa36472461da4e1dc8f5b5191b2",
       "side": "left",
       "tick_values": {
        "type": null,
        "values": null
       },
       "visible": false
      }
     },
     "790e30dd28524196b1249c06015f6c07": {
      "model_module": "bqplot",
      "model_module_version": "^0.4.5",
      "model_name": "AxisModel",
      "state": {
       "orientation": "vertical",
       "scale": "IPY_MODEL_f07e0145546e4e3f8a6bcae382ee5f2a",
       "side": "left",
       "tick_values": {
        "type": null,
        "values": null
       }
      }
     },
     "791c547ba6404653b69cf6153bbe64e3": {
      "model_module": "bqplot",
      "model_module_version": "^0.4.5",
      "model_name": "AxisModel",
      "state": {
       "scale": "IPY_MODEL_a232fac5333f44fb9d09f9674c61e432",
       "side": "bottom",
       "tick_values": {
        "type": null,
        "values": null
       }
      }
     },
     "7a3bd80a1df343a887da849fc5350f0f": {
      "model_module": "bqplot",
      "model_module_version": "^0.4.5",
      "model_name": "ScatterModel",
      "state": {
       "color": {
        "type": null,
        "values": null
       },
       "colors": [
        "steelblue"
       ],
       "display_legend": false,
       "names": {
        "type": "<U5",
        "values": [
         "one",
         "two",
         "three",
         "four",
         "five",
         "six"
        ]
       },
       "opacity": {
        "type": null,
        "values": null
       },
       "rotation": {
        "type": null,
        "values": null
       },
       "scales": {
        "x": "IPY_MODEL_6b4ea42ababf42d8a59afcb8f908b1b7",
        "y": "IPY_MODEL_c071a545ee6446d2ad988e58d55361e7"
       },
       "scales_metadata": {
        "color": {
         "dimension": "color"
        },
        "opacity": {
         "dimension": "opacity"
        },
        "rotation": {
         "dimension": "rotation"
        },
        "size": {
         "dimension": "size"
        },
        "skew": {
         "dimension": "skew"
        },
        "x": {
         "dimension": "x",
         "orientation": "horizontal"
        },
        "y": {
         "dimension": "y",
         "orientation": "vertical"
        }
       },
       "selected": [],
       "size": {
        "type": null,
        "values": null
       },
       "skew": {
        "type": null,
        "values": null
       },
       "stroke": "black",
       "tooltip": "IPY_MODEL_eeb35ec02e2f4551b88d706ca4d5cce0",
       "x": {
        "type": "float",
        "values": [
         0.771320643266746,
         0.6336482349262754,
         0.4985070123025904,
         0.19806286475962398,
         0.16911083656253545,
         0.6853598183677972
        ]
       },
       "y": {
        "type": "float",
        "values": [
         0.0207519493594015,
         0.7488038825386119,
         0.22479664553084766,
         0.7605307121989587,
         0.08833981417401027,
         0.9533933461949365
        ]
       }
      }
     },
     "7a6a5f8cd590457eacf34959081ce3a3": {
      "model_module": "bqplot",
      "model_module_version": "^0.4.5",
      "model_name": "ScatterModel",
      "state": {
       "color": {
        "type": null,
        "values": null
       },
       "colors": [
        "steelblue"
       ],
       "display_legend": false,
       "display_names": false,
       "names": {
        "type": null,
        "values": null
       },
       "opacity": {
        "type": null,
        "values": null
       },
       "rotation": {
        "type": null,
        "values": null
       },
       "scales": {
        "x": "IPY_MODEL_65522e75b63740df8eeacfba4dc68be9",
        "y": "IPY_MODEL_93ac324997474f96987d3e61d77089a5"
       },
       "scales_metadata": {
        "color": {
         "dimension": "color"
        },
        "opacity": {
         "dimension": "opacity"
        },
        "rotation": {
         "dimension": "rotation"
        },
        "size": {
         "dimension": "size"
        },
        "skew": {
         "dimension": "skew"
        },
        "x": {
         "dimension": "x",
         "orientation": "horizontal"
        },
        "y": {
         "dimension": "y",
         "orientation": "vertical"
        }
       },
       "selected": [],
       "size": {
        "type": null,
        "values": null
       },
       "skew": {
        "type": null,
        "values": null
       },
       "stroke": "black",
       "tooltip": "IPY_MODEL_99575a00246640449d6a743bf97fd125",
       "x": {
        "type": "float",
        "values": [
         0.771320643266746,
         0.6336482349262754,
         0.4985070123025904,
         0.19806286475962398,
         0.16911083656253545
        ]
       },
       "y": {
        "type": "float",
        "values": [
         0.0207519493594015,
         0.7488038825386119,
         0.22479664553084766,
         0.7605307121989587,
         0.08833981417401027
        ]
       }
      }
     },
     "7ab8994b6d5242568506b4d8437e02d6": {
      "model_module": "bqplot",
      "model_module_version": "^0.4.5",
      "model_name": "AxisModel",
      "state": {
       "scale": "IPY_MODEL_72890ee1b70f4ce58a48b7dfd48900a5",
       "side": "bottom",
       "tick_values": {
        "type": null,
        "values": null
       },
       "visible": false
      }
     },
     "7aeed0087e334ce9964a2dcca8267156": {
      "model_module": "bqplot",
      "model_module_version": "^0.4.5",
      "model_name": "LinearScaleModel",
      "state": {
       "allow_padding": false,
       "max": 1,
       "min": 0,
       "stabilized": false
      }
     },
     "7b232867472c424d83a3326a99462d51": {
      "model_module": "bqplot",
      "model_module_version": "^0.4.5",
      "model_name": "AxisModel",
      "state": {
       "orientation": "vertical",
       "scale": "IPY_MODEL_e6c0e1168a2340c997f6a94734ce00f3",
       "side": "left",
       "tick_values": {
        "type": null,
        "values": null
       }
      }
     },
     "7b29de3066154c189922bffd64cdd312": {
      "model_module": "bqplot",
      "model_module_version": "^0.4.5",
      "model_name": "LinearScaleModel",
      "state": {
       "max": 1,
       "min": 0,
       "stabilized": false
      }
     },
     "7b8ed2cfadda4452b88e6b9c9fc0d71f": {
      "model_module": "bqplot",
      "model_module_version": "^0.4.5",
      "model_name": "FigureModel",
      "state": {
       "_dom_classes": [],
       "axes": [
        "IPY_MODEL_f2617e6965b04467b45f4999c4f4e954",
        "IPY_MODEL_ca0434736e204a0e8d649e471a4fdb47"
       ],
       "layout": "IPY_MODEL_d6bcd840eef3486c82d733a83e143a78",
       "marks": [
        "IPY_MODEL_bffb9f7500794d1d8b32c81d569ad2d6"
       ],
       "scale_x": "IPY_MODEL_36ee516e4a1e4e1bba30435676b41956",
       "scale_y": "IPY_MODEL_cfb20dcfa8b64a3eb966cf50ce9275ea",
       "title": "Time Series"
      }
     },
     "7bc3d08a2be347078a81765c860f9fbe": {
      "model_module": "bqplot",
      "model_module_version": "^0.4.5",
      "model_name": "FigureModel",
      "state": {
       "_dom_classes": [],
       "animation_duration": 1000,
       "axes": [
        "IPY_MODEL_133eafdb3d514f5aacc02bce94c1fbd7",
        "IPY_MODEL_0a053c9ea56840de91c5e1cf4585542f"
       ],
       "layout": "IPY_MODEL_df412592d9344034a5a1dadc27163c15",
       "marks": [
        "IPY_MODEL_f6777e8b183945f49347fd8d10c59501"
       ],
       "scale_x": "IPY_MODEL_128e2ec7ee0c4f6ca4e4926d5ead0f69",
       "scale_y": "IPY_MODEL_47321f5bd91d443dbdf23a1cef3d8e5d"
      }
     },
     "7c11bb273ad244129e44ea75c8ae1642": {
      "model_module": "bqplot",
      "model_module_version": "^0.4.5",
      "model_name": "AxisModel",
      "state": {
       "scale": "IPY_MODEL_3c8bac18e1e946fca591ed430fefb276",
       "side": "bottom",
       "tick_values": {
        "type": null,
        "values": null
       },
       "visible": false
      }
     },
     "7c4d2e4ae0e04028ac4f37b922fd8c2c": {
      "model_module": "bqplot",
      "model_module_version": "^0.4.5",
      "model_name": "AxisModel",
      "state": {
       "orientation": "vertical",
       "scale": "IPY_MODEL_ef0fb5245e494b569776b5ee08a1049e",
       "side": "left",
       "tick_values": {
        "type": null,
        "values": null
       }
      }
     },
     "7caf2fa7135845bba0927f43d61600b5": {
      "model_module": "bqplot",
      "model_module_version": "^0.4.5",
      "model_name": "LinearScaleModel",
      "state": {
       "max": 1,
       "min": 0,
       "stabilized": false
      }
     },
     "7caffa0a38904e3e8d7f8c432054749c": {
      "model_module": "bqplot",
      "model_module_version": "^0.4.5",
      "model_name": "LinearScaleModel",
      "state": {
       "allow_padding": false,
       "max": 1,
       "min": 0,
       "stabilized": false
      }
     },
     "7cd4282d25f64a9fb984fa90ebe36be4": {
      "model_module": "bqplot",
      "model_module_version": "^0.4.5",
      "model_name": "LinearScaleModel",
      "state": {
       "allow_padding": false,
       "max": 1,
       "min": 0,
       "stabilized": false
      }
     },
     "7d2968ddcfa24023b0dc3b121c883424": {
      "model_module": "@jupyter-widgets/base",
      "model_module_version": "1.1.0",
      "model_name": "LayoutModel",
      "state": {
       "min_width": "125px"
      }
     },
     "7d35519437ff4da7b93dfafffe77c196": {
      "model_module": "@jupyter-widgets/base",
      "model_module_version": "1.1.0",
      "model_name": "LayoutModel",
      "state": {
       "min_width": "125px"
      }
     },
     "7d4638450f6448e5baa0aa946ebda828": {
      "model_module": "bqplot",
      "model_module_version": "^0.4.5",
      "model_name": "LinesModel",
      "state": {
       "close_path": true,
       "color": {
        "type": null,
        "values": null
       },
       "fill": "inside",
       "fill_colors": [
        "orange",
        "blue",
        "red"
       ],
       "labels": [
        "C1",
        "C2"
       ],
       "scales": {
        "x": "IPY_MODEL_831b89e00da5486b89d345ee27d9d3f4",
        "y": "IPY_MODEL_77f6739c85b443a1ad0d0096103c5ac9"
       },
       "selected": [],
       "x": {
        "type": "object",
        "values": [
         [
          4,
          5,
          6,
          6,
          5,
          4,
          3,
          1
         ],
         [
          1,
          2,
          3
         ]
        ]
       },
       "y": {
        "type": "object",
        "values": [
         [
          1,
          1.1,
          1.2,
          2.3,
          2.2,
          2.7,
          1,
          -2
         ],
         [
          1,
          2,
          3
         ]
        ]
       }
      }
     },
     "7d555d3fa51145b381b4f44bb3416c2d": {
      "model_module": "bqplot",
      "model_module_version": "^0.4.5",
      "model_name": "LinearScaleModel",
      "state": {
       "allow_padding": false,
       "max": 1,
       "min": 0,
       "stabilized": false
      }
     },
     "7d5fcdfa69a64348b2efa996e6652a76": {
      "model_module": "bqplot",
      "model_module_version": "^0.4.5",
      "model_name": "LinearScaleModel",
      "state": {
       "allow_padding": false,
       "max": 1,
       "min": 0,
       "stabilized": false
      }
     },
     "7d6eec7ef4cc4f779def85b6993c0a6e": {
      "model_module": "@jupyter-widgets/base",
      "model_module_version": "1.1.0",
      "model_name": "LayoutModel",
      "state": {}
     },
     "7d9027ee8a894c06912a6a123f2776bb": {
      "model_module": "bqplot",
      "model_module_version": "^0.4.5",
      "model_name": "ScatterModel",
      "state": {
       "color": {
        "type": null,
        "values": null
       },
       "colors": [
        "steelblue"
       ],
       "display_legend": false,
       "names": {
        "type": "<U5",
        "values": [
         "one",
         "two",
         "three",
         "four",
         "five",
         "six"
        ]
       },
       "opacity": {
        "type": null,
        "values": null
       },
       "rotation": {
        "type": null,
        "values": null
       },
       "scales": {
        "x": "IPY_MODEL_1621bdba5cbc45d580fadc852ad370c8",
        "y": "IPY_MODEL_bd7b501c484140b7aaff976156d5be06"
       },
       "scales_metadata": {
        "color": {
         "dimension": "color"
        },
        "opacity": {
         "dimension": "opacity"
        },
        "rotation": {
         "dimension": "rotation"
        },
        "size": {
         "dimension": "size"
        },
        "skew": {
         "dimension": "skew"
        },
        "x": {
         "dimension": "x",
         "orientation": "horizontal"
        },
        "y": {
         "dimension": "y",
         "orientation": "vertical"
        }
       },
       "selected": [],
       "size": {
        "type": null,
        "values": null
       },
       "skew": {
        "type": null,
        "values": null
       },
       "stroke": "black",
       "tooltip": "IPY_MODEL_5be116e172644b369f270de161a36140",
       "x": {
        "type": "float",
        "values": [
         0.771320643266746,
         0.6336482349262754,
         0.4985070123025904,
         0.19806286475962398,
         0.16911083656253545,
         0.6853598183677972
        ]
       },
       "y": {
        "type": "float",
        "values": [
         0.0207519493594015,
         0.7488038825386119,
         0.22479664553084766,
         0.7605307121989587,
         0.08833981417401027,
         0.9533933461949365
        ]
       }
      }
     },
     "7dc012aa997642489e740bd9df92b1dd": {
      "model_module": "bqplot",
      "model_module_version": "^0.4.5",
      "model_name": "FigureModel",
      "state": {
       "_dom_classes": [],
       "animation_duration": 1000,
       "axes": [
        "IPY_MODEL_ac1b26bd12c643a7be67fb8e9cef06c8",
        "IPY_MODEL_95b5264064ab42629c1f5accd0b38835"
       ],
       "layout": "IPY_MODEL_cd543f92886a4335b32ca0672c63b4dc",
       "marks": [
        "IPY_MODEL_2121304f99534213adeff28b49a60d2e",
        "IPY_MODEL_722607f27626455d915ef488f9da0f5b"
       ],
       "scale_x": "IPY_MODEL_f4b088204c4b4592802182a92d1fe074",
       "scale_y": "IPY_MODEL_d2a6c15becfa4208ad85d1f5f22b2998"
      }
     },
     "7deb3f1e4bf94a1394ea2ba085ed58b8": {
      "model_module": "bqplot",
      "model_module_version": "^0.4.5",
      "model_name": "LinearScaleModel",
      "state": {
       "stabilized": false
      }
     },
     "7e2c3590138942149ee834f13fa5d85e": {
      "model_module": "bqplot",
      "model_module_version": "^0.4.5",
      "model_name": "LinesModel",
      "state": {
       "color": {
        "type": null,
        "values": null
       },
       "colors": [
        "black"
       ],
       "display_legend": false,
       "fill_colors": [],
       "labels": [
        "C1"
       ],
       "scales": {
        "x": "IPY_MODEL_8f922e86cf4646428737dd08d5dd487a",
        "y": "IPY_MODEL_ba02e3e6817e4576ac4580e42528de41"
       },
       "selected": [],
       "x": {
        "type": "float",
        "values": [
         0.6838775462866998,
         0.6790714093103971
        ]
       },
       "y": {
        "type": "float",
        "values": [
         0.5342473347036941,
         0.22900528542596285
        ]
       }
      }
     },
     "7ec0ffb439d84a2ca0e93abaa692d3d3": {
      "model_module": "bqplot",
      "model_module_version": "^0.4.5",
      "model_name": "AxisModel",
      "state": {
       "scale": "IPY_MODEL_497d127289604b7f934d8949526bdb1f",
       "side": "bottom",
       "tick_values": {
        "type": null,
        "values": null
       }
      }
     },
     "7f007fe8abef4688bcd6001a455db1ba": {
      "model_module": "bqplot",
      "model_module_version": "^0.4.5",
      "model_name": "FigureModel",
      "state": {
       "_dom_classes": [],
       "animation_duration": 1000,
       "axes": [
        "IPY_MODEL_fb92ff6d709d4834a9483ce0484077ea",
        "IPY_MODEL_246b52cf5cac49e1950c77728b76b2c1"
       ],
       "layout": "IPY_MODEL_444f629c837d4cee8ed2df8c8cff7604",
       "marks": [
        "IPY_MODEL_242199c95e4c4b60bf52d1c9c7b25c06",
        "IPY_MODEL_dbe47e3bc8d74ea7ab5d10a2a722a1c1"
       ],
       "scale_x": "IPY_MODEL_520e2a1cff8b4383831f7fc89274be4b",
       "scale_y": "IPY_MODEL_a197be7957f54be7bc2dbc7a55372794"
      }
     },
     "7f41f413961f43199028adc764c96f86": {
      "model_module": "bqplot",
      "model_module_version": "^0.4.5",
      "model_name": "LinearScaleModel",
      "state": {
       "stabilized": false
      }
     },
     "7f802eaef0a247d8a6aa5b144eae4002": {
      "model_module": "bqplot",
      "model_module_version": "^0.4.5",
      "model_name": "LinearScaleModel",
      "state": {
       "stabilized": false
      }
     },
     "7fa148a883ab4c12a823175693349893": {
      "model_module": "bqplot",
      "model_module_version": "^0.4.5",
      "model_name": "ScatterModel",
      "state": {
       "color": {
        "type": null,
        "values": null
       },
       "colors": [
        "steelblue"
       ],
       "display_legend": false,
       "names": {
        "type": "<U5",
        "values": [
         "one",
         "two",
         "three",
         "four",
         "five",
         "six"
        ]
       },
       "opacity": {
        "type": null,
        "values": null
       },
       "rotation": {
        "type": null,
        "values": null
       },
       "scales": {
        "x": "IPY_MODEL_cd1a2eeff6fb4eab81783b1c10f4a738",
        "y": "IPY_MODEL_47e12bf78b364180b60957e93eacb6b2"
       },
       "scales_metadata": {
        "color": {
         "dimension": "color"
        },
        "opacity": {
         "dimension": "opacity"
        },
        "rotation": {
         "dimension": "rotation"
        },
        "size": {
         "dimension": "size"
        },
        "skew": {
         "dimension": "skew"
        },
        "x": {
         "dimension": "x",
         "orientation": "horizontal"
        },
        "y": {
         "dimension": "y",
         "orientation": "vertical"
        }
       },
       "selected": [],
       "size": {
        "type": null,
        "values": null
       },
       "skew": {
        "type": null,
        "values": null
       },
       "stroke": "black",
       "tooltip": "IPY_MODEL_b80ed1e2fbfa45358769dcf805aedaf3",
       "x": {
        "type": "float",
        "values": [
         0.771320643266746,
         0.6336482349262754,
         0.4985070123025904,
         0.19806286475962398,
         0.16911083656253545,
         0.6853598183677972
        ]
       },
       "y": {
        "type": "float",
        "values": [
         0.0207519493594015,
         0.7488038825386119,
         0.22479664553084766,
         0.7605307121989587,
         0.08833981417401027,
         0.9533933461949365
        ]
       }
      }
     },
     "7fa75bbac75b4e7a9062955ffe916c69": {
      "model_module": "bqplot",
      "model_module_version": "^0.4.5",
      "model_name": "LinearScaleModel",
      "state": {
       "allow_padding": false,
       "max": 1,
       "min": 0,
       "stabilized": false
      }
     },
     "7fc83f64e5b4422cb6e2ef4900617aac": {
      "model_module": "bqplot",
      "model_module_version": "^0.4.5",
      "model_name": "LinearScaleModel",
      "state": {
       "allow_padding": false,
       "max": 1,
       "min": 0,
       "stabilized": false
      }
     },
     "801c47824ffa4182ac74bfab7d245b46": {
      "model_module": "bqplot",
      "model_module_version": "^0.4.5",
      "model_name": "LinesModel",
      "state": {
       "close_path": true,
       "color": {
        "type": null,
        "values": null
       },
       "display_legend": false,
       "fill": "inside",
       "fill_colors": [
        "orange",
        "blue",
        "red"
       ],
       "labels": [
        "C1",
        "C2"
       ],
       "scales": {
        "x": "IPY_MODEL_7f802eaef0a247d8a6aa5b144eae4002",
        "y": "IPY_MODEL_9746d385208b4a9699bfc48e093afcf2"
       },
       "selected": [],
       "stroke_width": 1,
       "tooltip": "IPY_MODEL_b80ed1e2fbfa45358769dcf805aedaf3",
       "x": {
        "type": "float",
        "values": [
         [
          0.4097295846150608,
          0.8520227339335706,
          1.7332689863391435,
          0.4200808874255707
         ],
         [
          0.4097295846150608,
          0.22355450954331613,
          0.4501473823600029,
          0.8520227339335706
         ]
        ]
       },
       "y": {
        "type": "float",
        "values": [
         [
          0.5271223505498778,
          0.41305515312279745,
          0.5796961417400555,
          0.9116146811300156
         ],
         [
          0.5271223505498778,
          0.42271381055996105,
          -0.12426375746363771,
          0.41305515312279745
         ]
        ]
       }
      }
     },
     "81b62e2819ab4feb855adbbe9c41a59c": {
      "model_module": "@jupyter-widgets/base",
      "model_module_version": "1.1.0",
      "model_name": "LayoutModel",
      "state": {}
     },
     "81dc9b7e7a3147b09ef7fd95431b4450": {
      "model_module": "bqplot",
      "model_module_version": "^0.4.5",
      "model_name": "ScatterModel",
      "state": {
       "color": {
        "type": null,
        "values": null
       },
       "colors": [
        "steelblue"
       ],
       "display_legend": false,
       "display_names": false,
       "names": {
        "type": null,
        "values": null
       },
       "opacity": {
        "type": null,
        "values": null
       },
       "rotation": {
        "type": null,
        "values": null
       },
       "scales": {
        "x": "IPY_MODEL_ba9a162dc40340358eb13229a3a79680",
        "y": "IPY_MODEL_919347462c1e4ffeb54daf3ccb8bc289"
       },
       "scales_metadata": {
        "color": {
         "dimension": "color"
        },
        "opacity": {
         "dimension": "opacity"
        },
        "rotation": {
         "dimension": "rotation"
        },
        "size": {
         "dimension": "size"
        },
        "skew": {
         "dimension": "skew"
        },
        "x": {
         "dimension": "x",
         "orientation": "horizontal"
        },
        "y": {
         "dimension": "y",
         "orientation": "vertical"
        }
       },
       "selected": [],
       "size": {
        "type": null,
        "values": null
       },
       "skew": {
        "type": null,
        "values": null
       },
       "stroke": "black",
       "tooltip": "IPY_MODEL_99575a00246640449d6a743bf97fd125",
       "x": {
        "type": "float",
        "values": [
         0.771320643266746,
         0.6336482349262754,
         0.4985070123025904,
         0.19806286475962398,
         0.16911083656253545,
         0.6853598183677972
        ]
       },
       "y": {
        "type": "float",
        "values": [
         0.0207519493594015,
         0.7488038825386119,
         0.22479664553084766,
         0.7605307121989587,
         0.08833981417401027,
         0.9533933461949365
        ]
       }
      }
     },
     "821d3c3b0af24912b00b69c998eb533d": {
      "model_module": "bqplot",
      "model_module_version": "^0.4.5",
      "model_name": "LinearScaleModel",
      "state": {
       "stabilized": false
      }
     },
     "8263550a5c084aa692da333977d305ce": {
      "model_module": "bqplot",
      "model_module_version": "^0.4.5",
      "model_name": "LinesModel",
      "state": {
       "close_path": true,
       "color": {
        "type": null,
        "values": null
       },
       "fill": "inside",
       "fill_colors": [
        "orange",
        "blue",
        "red"
       ],
       "labels": [
        "C1",
        "C2"
       ],
       "scales": {
        "x": "IPY_MODEL_eca108f95094481e857270290a6182d6",
        "y": "IPY_MODEL_287501e475b14b3b88ce987491435520"
       },
       "selected": [],
       "tooltip": "IPY_MODEL_99575a00246640449d6a743bf97fd125",
       "x": {
        "type": "object",
        "values": [
         [
          4,
          5,
          6,
          6,
          5,
          4,
          3,
          1
         ],
         [
          1,
          2,
          3
         ]
        ]
       },
       "y": {
        "type": "object",
        "values": [
         [
          1,
          1.1,
          1.2,
          2.3,
          2.2,
          2.7,
          1,
          -2
         ],
         [
          3,
          2,
          3
         ]
        ]
       }
      }
     },
     "8290b0c50ff04c6e80157d8c12915e7c": {
      "model_module": "@jupyter-widgets/base",
      "model_module_version": "1.1.0",
      "model_name": "LayoutModel",
      "state": {
       "min_width": "125px"
      }
     },
     "82b88bf3c39f4a129d83d9dc6764d4dd": {
      "model_module": "bqplot",
      "model_module_version": "^0.4.5",
      "model_name": "LinesModel",
      "state": {
       "color": {
        "type": null,
        "values": null
       },
       "colors": [
        "black"
       ],
       "display_legend": false,
       "fill_colors": [],
       "labels": [
        "C1"
       ],
       "scales": {
        "x": "IPY_MODEL_b50daaba70f04418935494498fcbe2b3",
        "y": "IPY_MODEL_27e68e618c6a452a9dc5120635c7b7f1"
       },
       "selected": [],
       "x": {
        "type": "float",
        "values": [
         0.28766969405592147,
         0.43020238893545215
        ]
       },
       "y": {
        "type": "float",
        "values": [
         0.35492950428148073,
         0.5502889056231901
        ]
       }
      }
     },
     "82f8263c934e46cca9fad78186efde40": {
      "model_module": "bqplot",
      "model_module_version": "^0.4.5",
      "model_name": "LinesModel",
      "state": {
       "color": {
        "type": null,
        "values": null
       },
       "fill_colors": [],
       "labels": [
        "Security 1",
        "Security 2"
       ],
       "scales": {
        "x": "IPY_MODEL_1727291e2db04d208a233e10735f9dbe",
        "y": "IPY_MODEL_cb9881a909d341efa980031de0e1c243"
       },
       "selected": [],
       "x": {
        "type": "date",
        "values": [
         [
          "2007-01-01T00:00:00.000000",
          "2007-01-02T00:00:00.000000",
          "2007-01-03T00:00:00.000000",
          "2007-01-04T00:00:00.000000",
          "2007-01-05T00:00:00.000000",
          "2007-01-06T00:00:00.000000",
          "2007-01-07T00:00:00.000000",
          "2007-01-08T00:00:00.000000",
          "2007-01-09T00:00:00.000000",
          "2007-01-10T00:00:00.000000",
          "2007-01-11T00:00:00.000000",
          "2007-01-12T00:00:00.000000",
          "2007-01-13T00:00:00.000000",
          "2007-01-14T00:00:00.000000",
          "2007-01-15T00:00:00.000000",
          "2007-01-16T00:00:00.000000",
          "2007-01-17T00:00:00.000000",
          "2007-01-18T00:00:00.000000",
          "2007-01-19T00:00:00.000000",
          "2007-01-20T00:00:00.000000",
          "2007-01-21T00:00:00.000000",
          "2007-01-22T00:00:00.000000",
          "2007-01-23T00:00:00.000000",
          "2007-01-24T00:00:00.000000",
          "2007-01-25T00:00:00.000000",
          "2007-01-26T00:00:00.000000",
          "2007-01-27T00:00:00.000000",
          "2007-01-28T00:00:00.000000",
          "2007-01-29T00:00:00.000000",
          "2007-01-30T00:00:00.000000",
          "2007-01-31T00:00:00.000000",
          "2007-02-01T00:00:00.000000",
          "2007-02-02T00:00:00.000000",
          "2007-02-03T00:00:00.000000",
          "2007-02-04T00:00:00.000000",
          "2007-02-05T00:00:00.000000",
          "2007-02-06T00:00:00.000000",
          "2007-02-07T00:00:00.000000",
          "2007-02-08T00:00:00.000000",
          "2007-02-09T00:00:00.000000",
          "2007-02-10T00:00:00.000000",
          "2007-02-11T00:00:00.000000",
          "2007-02-12T00:00:00.000000",
          "2007-02-13T00:00:00.000000",
          "2007-02-14T00:00:00.000000",
          "2007-02-15T00:00:00.000000",
          "2007-02-16T00:00:00.000000",
          "2007-02-17T00:00:00.000000",
          "2007-02-18T00:00:00.000000",
          "2007-02-19T00:00:00.000000",
          "2007-02-20T00:00:00.000000",
          "2007-02-21T00:00:00.000000",
          "2007-02-22T00:00:00.000000",
          "2007-02-23T00:00:00.000000",
          "2007-02-24T00:00:00.000000",
          "2007-02-25T00:00:00.000000",
          "2007-02-26T00:00:00.000000",
          "2007-02-27T00:00:00.000000",
          "2007-02-28T00:00:00.000000",
          "2007-03-01T00:00:00.000000",
          "2007-03-02T00:00:00.000000",
          "2007-03-03T00:00:00.000000",
          "2007-03-04T00:00:00.000000",
          "2007-03-05T00:00:00.000000",
          "2007-03-06T00:00:00.000000",
          "2007-03-07T00:00:00.000000",
          "2007-03-08T00:00:00.000000",
          "2007-03-09T00:00:00.000000",
          "2007-03-10T00:00:00.000000",
          "2007-03-11T00:00:00.000000",
          "2007-03-12T00:00:00.000000",
          "2007-03-13T00:00:00.000000",
          "2007-03-14T00:00:00.000000",
          "2007-03-15T00:00:00.000000",
          "2007-03-16T00:00:00.000000",
          "2007-03-17T00:00:00.000000",
          "2007-03-18T00:00:00.000000",
          "2007-03-19T00:00:00.000000",
          "2007-03-20T00:00:00.000000",
          "2007-03-21T00:00:00.000000",
          "2007-03-22T00:00:00.000000",
          "2007-03-23T00:00:00.000000",
          "2007-03-24T00:00:00.000000",
          "2007-03-25T00:00:00.000000",
          "2007-03-26T00:00:00.000000",
          "2007-03-27T00:00:00.000000",
          "2007-03-28T00:00:00.000000",
          "2007-03-29T00:00:00.000000",
          "2007-03-30T00:00:00.000000",
          "2007-03-31T00:00:00.000000",
          "2007-04-01T00:00:00.000000",
          "2007-04-02T00:00:00.000000",
          "2007-04-03T00:00:00.000000",
          "2007-04-04T00:00:00.000000",
          "2007-04-05T00:00:00.000000",
          "2007-04-06T00:00:00.000000",
          "2007-04-07T00:00:00.000000",
          "2007-04-08T00:00:00.000000",
          "2007-04-09T00:00:00.000000",
          "2007-04-10T00:00:00.000000",
          "2007-04-11T00:00:00.000000",
          "2007-04-12T00:00:00.000000",
          "2007-04-13T00:00:00.000000",
          "2007-04-14T00:00:00.000000",
          "2007-04-15T00:00:00.000000",
          "2007-04-16T00:00:00.000000",
          "2007-04-17T00:00:00.000000",
          "2007-04-18T00:00:00.000000",
          "2007-04-19T00:00:00.000000",
          "2007-04-20T00:00:00.000000",
          "2007-04-21T00:00:00.000000",
          "2007-04-22T00:00:00.000000",
          "2007-04-23T00:00:00.000000",
          "2007-04-24T00:00:00.000000",
          "2007-04-25T00:00:00.000000",
          "2007-04-26T00:00:00.000000",
          "2007-04-27T00:00:00.000000",
          "2007-04-28T00:00:00.000000",
          "2007-04-29T00:00:00.000000",
          "2007-04-30T00:00:00.000000",
          "2007-05-01T00:00:00.000000",
          "2007-05-02T00:00:00.000000",
          "2007-05-03T00:00:00.000000",
          "2007-05-04T00:00:00.000000",
          "2007-05-05T00:00:00.000000",
          "2007-05-06T00:00:00.000000",
          "2007-05-07T00:00:00.000000",
          "2007-05-08T00:00:00.000000",
          "2007-05-09T00:00:00.000000",
          "2007-05-10T00:00:00.000000",
          "2007-05-11T00:00:00.000000",
          "2007-05-12T00:00:00.000000",
          "2007-05-13T00:00:00.000000",
          "2007-05-14T00:00:00.000000",
          "2007-05-15T00:00:00.000000",
          "2007-05-16T00:00:00.000000",
          "2007-05-17T00:00:00.000000",
          "2007-05-18T00:00:00.000000",
          "2007-05-19T00:00:00.000000",
          "2007-05-20T00:00:00.000000",
          "2007-05-21T00:00:00.000000",
          "2007-05-22T00:00:00.000000",
          "2007-05-23T00:00:00.000000",
          "2007-05-24T00:00:00.000000",
          "2007-05-25T00:00:00.000000",
          "2007-05-26T00:00:00.000000",
          "2007-05-27T00:00:00.000000",
          "2007-05-28T00:00:00.000000",
          "2007-05-29T00:00:00.000000",
          "2007-05-30T00:00:00.000000"
         ],
         [
          "2007-06-01T00:00:00.000000",
          "2007-06-02T00:00:00.000000",
          "2007-06-03T00:00:00.000000",
          "2007-06-04T00:00:00.000000",
          "2007-06-05T00:00:00.000000",
          "2007-06-06T00:00:00.000000",
          "2007-06-07T00:00:00.000000",
          "2007-06-08T00:00:00.000000",
          "2007-06-09T00:00:00.000000",
          "2007-06-10T00:00:00.000000",
          "2007-06-11T00:00:00.000000",
          "2007-06-12T00:00:00.000000",
          "2007-06-13T00:00:00.000000",
          "2007-06-14T00:00:00.000000",
          "2007-06-15T00:00:00.000000",
          "2007-06-16T00:00:00.000000",
          "2007-06-17T00:00:00.000000",
          "2007-06-18T00:00:00.000000",
          "2007-06-19T00:00:00.000000",
          "2007-06-20T00:00:00.000000",
          "2007-06-21T00:00:00.000000",
          "2007-06-22T00:00:00.000000",
          "2007-06-23T00:00:00.000000",
          "2007-06-24T00:00:00.000000",
          "2007-06-25T00:00:00.000000",
          "2007-06-26T00:00:00.000000",
          "2007-06-27T00:00:00.000000",
          "2007-06-28T00:00:00.000000",
          "2007-06-29T00:00:00.000000",
          "2007-06-30T00:00:00.000000",
          "2007-07-01T00:00:00.000000",
          "2007-07-02T00:00:00.000000",
          "2007-07-03T00:00:00.000000",
          "2007-07-04T00:00:00.000000",
          "2007-07-05T00:00:00.000000",
          "2007-07-06T00:00:00.000000",
          "2007-07-07T00:00:00.000000",
          "2007-07-08T00:00:00.000000",
          "2007-07-09T00:00:00.000000",
          "2007-07-10T00:00:00.000000",
          "2007-07-11T00:00:00.000000",
          "2007-07-12T00:00:00.000000",
          "2007-07-13T00:00:00.000000",
          "2007-07-14T00:00:00.000000",
          "2007-07-15T00:00:00.000000",
          "2007-07-16T00:00:00.000000",
          "2007-07-17T00:00:00.000000",
          "2007-07-18T00:00:00.000000",
          "2007-07-19T00:00:00.000000",
          "2007-07-20T00:00:00.000000",
          "2007-07-21T00:00:00.000000",
          "2007-07-22T00:00:00.000000",
          "2007-07-23T00:00:00.000000",
          "2007-07-24T00:00:00.000000",
          "2007-07-25T00:00:00.000000",
          "2007-07-26T00:00:00.000000",
          "2007-07-27T00:00:00.000000",
          "2007-07-28T00:00:00.000000",
          "2007-07-29T00:00:00.000000",
          "2007-07-30T00:00:00.000000",
          "2007-07-31T00:00:00.000000",
          "2007-08-01T00:00:00.000000",
          "2007-08-02T00:00:00.000000",
          "2007-08-03T00:00:00.000000",
          "2007-08-04T00:00:00.000000",
          "2007-08-05T00:00:00.000000",
          "2007-08-06T00:00:00.000000",
          "2007-08-07T00:00:00.000000",
          "2007-08-08T00:00:00.000000",
          "2007-08-09T00:00:00.000000",
          "2007-08-10T00:00:00.000000",
          "2007-08-11T00:00:00.000000",
          "2007-08-12T00:00:00.000000",
          "2007-08-13T00:00:00.000000",
          "2007-08-14T00:00:00.000000",
          "2007-08-15T00:00:00.000000",
          "2007-08-16T00:00:00.000000",
          "2007-08-17T00:00:00.000000",
          "2007-08-18T00:00:00.000000",
          "2007-08-19T00:00:00.000000",
          "2007-08-20T00:00:00.000000",
          "2007-08-21T00:00:00.000000",
          "2007-08-22T00:00:00.000000",
          "2007-08-23T00:00:00.000000",
          "2007-08-24T00:00:00.000000",
          "2007-08-25T00:00:00.000000",
          "2007-08-26T00:00:00.000000",
          "2007-08-27T00:00:00.000000",
          "2007-08-28T00:00:00.000000",
          "2007-08-29T00:00:00.000000",
          "2007-08-30T00:00:00.000000",
          "2007-08-31T00:00:00.000000",
          "2007-09-01T00:00:00.000000",
          "2007-09-02T00:00:00.000000",
          "2007-09-03T00:00:00.000000",
          "2007-09-04T00:00:00.000000",
          "2007-09-05T00:00:00.000000",
          "2007-09-06T00:00:00.000000",
          "2007-09-07T00:00:00.000000",
          "2007-09-08T00:00:00.000000",
          "2007-09-09T00:00:00.000000",
          "2007-09-10T00:00:00.000000",
          "2007-09-11T00:00:00.000000",
          "2007-09-12T00:00:00.000000",
          "2007-09-13T00:00:00.000000",
          "2007-09-14T00:00:00.000000",
          "2007-09-15T00:00:00.000000",
          "2007-09-16T00:00:00.000000",
          "2007-09-17T00:00:00.000000",
          "2007-09-18T00:00:00.000000",
          "2007-09-19T00:00:00.000000",
          "2007-09-20T00:00:00.000000",
          "2007-09-21T00:00:00.000000",
          "2007-09-22T00:00:00.000000",
          "2007-09-23T00:00:00.000000",
          "2007-09-24T00:00:00.000000",
          "2007-09-25T00:00:00.000000",
          "2007-09-26T00:00:00.000000",
          "2007-09-27T00:00:00.000000",
          "2007-09-28T00:00:00.000000",
          "2007-09-29T00:00:00.000000",
          "2007-09-30T00:00:00.000000",
          "2007-10-01T00:00:00.000000",
          "2007-10-02T00:00:00.000000",
          "2007-10-03T00:00:00.000000",
          "2007-10-04T00:00:00.000000",
          "2007-10-05T00:00:00.000000",
          "2007-10-06T00:00:00.000000",
          "2007-10-07T00:00:00.000000",
          "2007-10-08T00:00:00.000000",
          "2007-10-09T00:00:00.000000",
          "2007-10-10T00:00:00.000000",
          "2007-10-11T00:00:00.000000",
          "2007-10-12T00:00:00.000000",
          "2007-10-13T00:00:00.000000",
          "2007-10-14T00:00:00.000000",
          "2007-10-15T00:00:00.000000",
          "2007-10-16T00:00:00.000000",
          "2007-10-17T00:00:00.000000",
          "2007-10-18T00:00:00.000000",
          "2007-10-19T00:00:00.000000",
          "2007-10-20T00:00:00.000000",
          "2007-10-21T00:00:00.000000",
          "2007-10-22T00:00:00.000000",
          "2007-10-23T00:00:00.000000",
          "2007-10-24T00:00:00.000000",
          "2007-10-25T00:00:00.000000",
          "2007-10-26T00:00:00.000000",
          "2007-10-27T00:00:00.000000",
          "2007-10-28T00:00:00.000000"
         ]
        ]
       },
       "y": {
        "type": "float",
        "values": [
         [
          98.40423340338475,
          98.37949926808695,
          99.09263964870729,
          100.81215999703642,
          101.33319821969539,
          100.47015792891152,
          100.09447729848249,
          100.72793481108422,
          101.53349213901214,
          101.0946693784775,
          102.17122160407214,
          102.17589169590273,
          104.07625104099671,
          104.32383798248738,
          104.21501063290141,
          104.29809025381472,
          103.9821505892918,
          103.34726392295875,
          102.89205662492337,
          104.01968875627888,
          102.84738105220937,
          103.14628807791576,
          103.9876126401486,
          104.05204756829963,
          103.97472833904295,
          103.48450927237093,
          102.80640119025102,
          103.85942658193753,
          103.25100980387327,
          101.09796181212262,
          99.1785984946597,
          99.9260532296479,
          100.90105013886523,
          101.48130000834482,
          99.51319815777539,
          99.81794385877957,
          99.2792878107826,
          100.57434578811882,
          100.72255234046497,
          100.86404684279894,
          100.5031677495734,
          102.9566915956824,
          102.47031650641341,
          101.8617954723907,
          100.92617378200359,
          99.85671920251997,
          97.70622811725885,
          98.37884718883465,
          97.47472610491762,
          98.30832017549798,
          99.39893856347197,
          98.99719087021079,
          99.18542220861158,
          98.54278914376083,
          98.21523460077393,
          100.04072637285523,
          100.98407337986617,
          100.77349755597253,
          100.60403450560072,
          100.67950588268354,
          100.90182469817583,
          99.6608775928668,
          100.57620075425214,
          102.1088806537713,
          102.1312738082485,
          104.08065291750339,
          105.01247823864274,
          104.48504565152592,
          105.43742852803241,
          103.31835619607612,
          101.70301164634417,
          100.14742092232501,
          100.56219901855839,
          101.00736162450372,
          101.93531531718348,
          99.94764722219944,
          98.32308638132551,
          99.05793324574584,
          97.53656641413458,
          95.45869419194364,
          96.106485388834,
          97.27208582278948,
          95.73813800899082,
          92.96849000029472,
          93.77342237684984,
          93.29486557010209,
          91.99569547015824,
          90.98658123884024,
          90.06799650602761,
          90.42909978906533,
          91.192608352464,
          91.4462958725742,
          90.48316944695691,
          89.33573736522011,
          89.3439832673467,
          88.90509718013215,
          88.49249078551362,
          90.88948587416179,
          89.8705286155954,
          89.47422681388085,
          88.94312537724241,
          90.35251171024414,
          91.35170768161927,
          89.71633414267998,
          90.09167326380344,
          87.49821532758054,
          87.25974749497082,
          87.7731710968179,
          86.50804358629235,
          84.86507050825311,
          83.99615351152883,
          84.12893338208147,
          85.39208301496835,
          84.76758216498,
          83.85570402257085,
          85.28916296382458,
          85.04869291381895,
          86.65307789271735,
          85.43687817384145,
          85.50411415791777,
          84.70831791931852,
          84.54038611577556,
          84.97117891929479,
          85.0280638463374,
          84.67831212198985,
          85.18919939002174,
          84.73807811011724,
          84.29470016026899,
          81.36335982882153,
          83.3863179488224,
          83.59459149569145,
          83.90595466855301,
          85.08560619736201,
          85.25791402370449,
          85.27792184100322,
          84.78683773408281,
          86.69002974899082,
          85.91734259140843,
          86.71624718722992,
          85.64491514567727,
          86.21994707125323,
          85.866099778809,
          85.08386393486036,
          84.52348650056756,
          85.98660244463808,
          85.23355699993374,
          86.433054308393,
          84.72151624049565,
          85.63591665723123,
          84.99742162174894
         ],
         [
          98.67072399934304,
          98.87420428932904,
          100.0319850693806,
          101.14954157590685,
          101.63231872179595,
          100.72363571815593,
          99.54090195983098,
          99.90010233355507,
          100.55850944901054,
          101.0885688851769,
          101.54433737920488,
          102.2607440849778,
          101.80149268026912,
          101.68726910679183,
          101.69926543375017,
          101.98719850477202,
          102.73985663053936,
          102.58552328970887,
          103.4545710561907,
          102.95366567200355,
          104.15484899827673,
          104.17284997570148,
          105.90731527506165,
          105.95412045126722,
          105.87197920319628,
          106.55969321636444,
          108.42441550065642,
          106.25610434280989,
          104.62896717839486,
          105.21128553363162,
          104.9722489086727,
          105.56652418551462,
          104.18640889372968,
          103.86134204515437,
          104.0009127582943,
          105.50367747054992,
          106.01462802532262,
          105.65287066763202,
          106.76171580985246,
          106.93838018047991,
          106.69644927354324,
          106.8736565041756,
          105.0854665135181,
          106.37388381196632,
          107.61860672618847,
          106.83676326865547,
          108.55012377563142,
          108.358333708238,
          107.75077039703702,
          108.44935639930019,
          108.58841481367989,
          107.30276798907003,
          107.94323087038494,
          107.34463500554529,
          108.01868823167715,
          109.18778120785657,
          109.59125559326114,
          108.8791779218906,
          109.9221726088849,
          108.66695683241177,
          110.82006373774495,
          111.94727901774425,
          112.14995104426995,
          111.90001266998918,
          110.50390020985682,
          111.24638006718946,
          110.87027659831705,
          110.8768860816891,
          111.58272591016922,
          111.96567224670731,
          111.71691747437781,
          113.4496914706746,
          113.4807124087135,
          115.25412363361124,
          115.18200193843184,
          114.7833636096366,
          116.35307991559158,
          117.01311518510164,
          115.72841446168701,
          115.17290912287561,
          113.91113871889927,
          111.76723705443528,
          111.63107951193224,
          110.48925892144771,
          109.93725152459109,
          109.3809343123141,
          109.55873931427853,
          108.45756835261514,
          108.40291294241739,
          106.68245755683986,
          107.52445795988287,
          106.73393966035246,
          105.18970631584807,
          105.01615658680677,
          104.86576097871067,
          103.96440041391203,
          104.63959457568171,
          103.42669766786021,
          103.6631699302612,
          104.47889545793755,
          101.6620769241902,
          103.14162383765793,
          104.77937434401262,
          104.05635483695053,
          103.7502905905684,
          103.41548653943786,
          102.54182299224217,
          102.77742938894046,
          103.13926921779472,
          103.92563600356398,
          104.67666869275384,
          104.15200022269217,
          104.41417415818962,
          104.38380743358945,
          103.80869912756523,
          105.58220578232545,
          106.40320375361375,
          105.69977600123835,
          107.72808840876793,
          108.79773291790748,
          107.83777117545145,
          108.29334667232106,
          108.2595658600267,
          109.34329185196367,
          110.63234546088636,
          109.92556532906445,
          110.56646883521465,
          110.88933073068021,
          110.33031045744481,
          110.07511769749489,
          110.646041094374,
          110.69766046976898,
          109.16071964574955,
          108.75484469073182,
          106.75780077309086,
          107.43066714614439,
          106.51573750275567,
          107.1568763343939,
          106.38300859814419,
          106.55995946436742,
          106.01309576613495,
          105.137661974458,
          105.0644820273182,
          104.16435129228586,
          104.80182958925103,
          103.18102697574358,
          102.09750087125535,
          102.06484356364078,
          103.48558899280674,
          104.54887517152542
         ]
        ]
       }
      }
     },
     "831733d3f8a54aae9e33409deefb767a": {
      "model_module": "bqplot",
      "model_module_version": "^0.4.5",
      "model_name": "LinearScaleModel",
      "state": {
       "stabilized": false
      }
     },
     "831b7653bd014a3ebe93b07b01c297e8": {
      "model_module": "bqplot",
      "model_module_version": "^0.4.5",
      "model_name": "LinesModel",
      "state": {
       "color": {
        "type": null,
        "values": null
       },
       "colors": [
        "black"
       ],
       "display_legend": false,
       "fill_colors": [],
       "labels": [
        "C1"
       ],
       "scales": {
        "x": "IPY_MODEL_2a6aca56c2d14e61beef14fd6a225877",
        "y": "IPY_MODEL_6aebc1b7d022462ea4ac7b8228d301a8"
       },
       "selected": [],
       "x": {
        "type": "float",
        "values": [
         0.6838775462866998,
         0.5272947621552145
        ]
       },
       "y": {
        "type": "float",
        "values": [
         0.5342473347036941,
         0.5706683504567711
        ]
       }
      }
     },
     "831b89e00da5486b89d345ee27d9d3f4": {
      "model_module": "bqplot",
      "model_module_version": "^0.4.5",
      "model_name": "LinearScaleModel",
      "state": {
       "stabilized": false
      }
     },
     "835eb9b872db4182acccf0717d3db652": {
      "model_module": "bqplot",
      "model_module_version": "^0.4.5",
      "model_name": "LinearScaleModel",
      "state": {
       "allow_padding": false,
       "max": 1,
       "min": 0,
       "stabilized": false
      }
     },
     "8394c28dde434de49fc9f7e688caef06": {
      "model_module": "bqplot",
      "model_module_version": "^0.4.5",
      "model_name": "FigureModel",
      "state": {
       "_dom_classes": [],
       "axes": [
        "IPY_MODEL_275aaa16333c4a259a5f7c42a175ff85",
        "IPY_MODEL_359888e5bbc0488db5a6106f1f418cd0",
        "IPY_MODEL_7623d3790da34158a31e8848b5c1c0cc"
       ],
       "layout": "IPY_MODEL_867defde6f444359adb0bb885c603d35",
       "marks": [
        "IPY_MODEL_d5c50a065bc84e5e9d679c5ccf2d6b92"
       ],
       "scale_x": "IPY_MODEL_be2ab7e70dbd4a66ba10fbf3d6ad5a51",
       "scale_y": "IPY_MODEL_843f10115d3244259d354b3fad451293"
      }
     },
     "842caed62b5648b1ad0bdb9045a1700c": {
      "model_module": "bqplot",
      "model_module_version": "^0.4.5",
      "model_name": "LinearScaleModel",
      "state": {
       "allow_padding": false,
       "max": 1,
       "min": 0,
       "stabilized": false
      }
     },
     "842de309243a41048c5f50a0108cdfc2": {
      "model_module": "bqplot",
      "model_module_version": "^0.4.5",
      "model_name": "TooltipModel",
      "state": {
       "fields": [
        "name"
       ],
       "formats": [
        ""
       ],
       "layout": "IPY_MODEL_c290a61cce03420fa7d3ce4a7beaea3c"
      }
     },
     "843895d115e843afb39fe19340921748": {
      "model_module": "bqplot",
      "model_module_version": "^0.4.5",
      "model_name": "AxisModel",
      "state": {
       "scale": "IPY_MODEL_b3cd8998b9bf470880a236bcd18019f4",
       "side": "bottom",
       "tick_values": {
        "type": null,
        "values": null
       }
      }
     },
     "843f10115d3244259d354b3fad451293": {
      "model_module": "bqplot",
      "model_module_version": "^0.4.5",
      "model_name": "LinearScaleModel",
      "state": {
       "allow_padding": false,
       "max": 1,
       "min": 0,
       "stabilized": false
      }
     },
     "8458ab31d5ed4a05943967383a0bdfa0": {
      "model_module": "bqplot",
      "model_module_version": "^0.4.5",
      "model_name": "LinearScaleModel",
      "state": {
       "stabilized": false
      }
     },
     "84c14da8b69743f3bffec17d2cd6457a": {
      "model_module": "bqplot",
      "model_module_version": "^0.4.5",
      "model_name": "LinearScaleModel",
      "state": {
       "stabilized": false
      }
     },
     "85b15cd9ca07453b921168279eedf303": {
      "model_module": "bqplot",
      "model_module_version": "^0.4.5",
      "model_name": "AxisModel",
      "state": {
       "scale": "IPY_MODEL_2eb9580e20964e5090d1cabc4d627c6d",
       "side": "bottom",
       "tick_values": {
        "type": null,
        "values": null
       }
      }
     },
     "85cdf80fa55841c59430837a316ad770": {
      "model_module": "bqplot",
      "model_module_version": "^0.4.5",
      "model_name": "AxisModel",
      "state": {
       "orientation": "vertical",
       "scale": "IPY_MODEL_0c32b1836d5d4fb9896adf0a19959527",
       "side": "left",
       "tick_values": {
        "type": null,
        "values": null
       },
       "visible": false
      }
     },
     "86072f76620748d78ee1d4e90f936123": {
      "model_module": "bqplot",
      "model_module_version": "^0.4.5",
      "model_name": "AxisModel",
      "state": {
       "orientation": "vertical",
       "scale": "IPY_MODEL_bd7b501c484140b7aaff976156d5be06",
       "side": "left",
       "tick_values": {
        "type": null,
        "values": null
       }
      }
     },
     "86684e802f3141068bcc7b43348fe877": {
      "model_module": "bqplot",
      "model_module_version": "^0.4.5",
      "model_name": "LinesModel",
      "state": {
       "close_path": true,
       "color": {
        "type": null,
        "values": null
       },
       "fill": "inside",
       "fill_colors": [
        "orange",
        "blue",
        "red"
       ],
       "labels": [
        "C1",
        "C2"
       ],
       "scales": {
        "x": "IPY_MODEL_05880d3fb9044e7f93e0026406945ed5",
        "y": "IPY_MODEL_472a767fa6fa4d98ba3b64c3fcd147d0"
       },
       "selected": [],
       "x": {
        "type": "object",
        "values": [
         [
          4,
          5,
          6,
          6,
          5,
          4,
          3,
          1
         ],
         [
          1,
          2,
          3
         ]
        ]
       },
       "y": {
        "type": "object",
        "values": [
         [
          1,
          1.1,
          1.2,
          2.3,
          2.2,
          2.7,
          1,
          -2
         ],
         [
          3,
          2,
          3
         ]
        ]
       }
      }
     },
     "867defde6f444359adb0bb885c603d35": {
      "model_module": "@jupyter-widgets/base",
      "model_module_version": "1.1.0",
      "model_name": "LayoutModel",
      "state": {
       "min_width": "125px"
      }
     },
     "877d7368def948968063a5580e6625b8": {
      "model_module": "bqplot",
      "model_module_version": "^0.4.5",
      "model_name": "LinearScaleModel",
      "state": {
       "allow_padding": false,
       "max": 1,
       "min": 0,
       "stabilized": false
      }
     },
     "87a46591226a4db8be79d0344540036a": {
      "model_module": "bqplot",
      "model_module_version": "^0.4.5",
      "model_name": "LinearScaleModel",
      "state": {
       "stabilized": false
      }
     },
     "87b6aa2b30f446c9add8bd85cdcad5ec": {
      "model_module": "bqplot",
      "model_module_version": "^0.4.5",
      "model_name": "LinesModel",
      "state": {
       "color": {
        "type": null,
        "values": null
       },
       "colors": [
        "black"
       ],
       "display_legend": false,
       "fill_colors": [],
       "labels": [
        "C1"
       ],
       "scales": {
        "x": "IPY_MODEL_2a6aca56c2d14e61beef14fd6a225877",
        "y": "IPY_MODEL_6aebc1b7d022462ea4ac7b8228d301a8"
       },
       "selected": [],
       "x": {
        "type": "float",
        "values": [
         0.5272947621552145,
         0.43020238893545215
        ]
       },
       "y": {
        "type": "float",
        "values": [
         0.5706683504567711,
         0.5502889056231901
        ]
       }
      }
     },
     "8881d204ba594885a822c18579d723a3": {
      "model_module": "bqplot",
      "model_module_version": "^0.4.5",
      "model_name": "LinearScaleModel",
      "state": {
       "stabilized": false
      }
     },
     "89138e473c1d42febda08ce073a00589": {
      "model_module": "bqplot",
      "model_module_version": "^0.4.5",
      "model_name": "AxisModel",
      "state": {
       "orientation": "vertical",
       "scale": "IPY_MODEL_0b254cd949d141dd84f3aff20d945e89",
       "side": "left",
       "tick_values": {
        "type": null,
        "values": null
       }
      }
     },
     "895bd309e4e9486fbafc57140b25875a": {
      "model_module": "bqplot",
      "model_module_version": "^0.4.5",
      "model_name": "AxisModel",
      "state": {
       "orientation": "vertical",
       "scale": "IPY_MODEL_acdf4a2bce8d4c6c955a6c01561fcea6",
       "side": "left",
       "tick_values": {
        "type": null,
        "values": null
       }
      }
     },
     "8964f543100c416db05adf1a24413c97": {
      "model_module": "bqplot",
      "model_module_version": "^0.4.5",
      "model_name": "AxisModel",
      "state": {
       "orientation": "vertical",
       "scale": "IPY_MODEL_9746d385208b4a9699bfc48e093afcf2",
       "side": "left",
       "tick_values": {
        "type": null,
        "values": null
       }
      }
     },
     "8a4b88c6b3ea49a990840453dee2f8cb": {
      "model_module": "@jupyter-widgets/base",
      "model_module_version": "1.1.0",
      "model_name": "LayoutModel",
      "state": {
       "min_width": "125px"
      }
     },
     "8a559936d9b94d2b9962dab26561753b": {
      "model_module": "bqplot",
      "model_module_version": "^0.4.5",
      "model_name": "LinesModel",
      "state": {
       "close_path": true,
       "color": {
        "type": null,
        "values": null
       },
       "fill": "inside",
       "fill_colors": [
        "orange",
        "blue",
        "red"
       ],
       "labels": [
        "C1",
        "C2",
        "C3",
        "C4",
        "C5",
        "C6",
        "C7",
        "C8",
        "C9"
       ],
       "scales": {
        "x": "IPY_MODEL_b1c8cc34fd54494fb91e12b10a5ed578",
        "y": "IPY_MODEL_5acdacddee5e40fa8100fbe309e0178a"
       },
       "selected": [],
       "tooltip": "IPY_MODEL_99575a00246640449d6a743bf97fd125",
       "x": {
        "type": "object",
        "values": [
         [
          0.22738068359095126,
          -5.20820435004358,
          0.11120787378448214,
          0.28766969405592147,
          0.43020238893545215
         ],
         [
          0.22738068359095126,
          -5.20820435004358,
          0.11120787378448214,
          0.28766969405592147,
          0.43020238893545215
         ],
         [
          0.22738068359095126,
          -5.20820435004358,
          0.11120787378448214,
          0.28766969405592147,
          0.43020238893545215
         ],
         [
          0.22738068359095126,
          -5.20820435004358,
          0.11120787378448214,
          0.28766969405592147,
          0.43020238893545215
         ],
         [
          0.22738068359095126,
          0.43020238893545215,
          0.5272947621552145,
          0.5843433203379271
         ],
         [
          0.22738068359095126,
          0.43020238893545215,
          0.5272947621552145,
          0.5843433203379271
         ],
         [
          0.43020238893545215,
          0.28766969405592147,
          0.6061081196488364,
          0.7710761428300102,
          0.5272947621552145
         ],
         [
          0.22738068359095126,
          -5.20820435004358,
          0.11120787378448214,
          0.28766969405592147,
          0.43020238893545215
         ],
         [
          0.22738068359095126,
          -5.20820435004358,
          0.11120787378448214,
          0.28766969405592147,
          0.43020238893545215
         ]
        ]
       },
       "y": {
        "type": "object",
        "values": [
         [
          0.7667443763710994,
          1.8846379679106748,
          0.3365460478735013,
          0.35492950428148073,
          0.5502889056231901
         ],
         [
          0.7667443763710994,
          1.8846379679106748,
          0.3365460478735013,
          0.35492950428148073,
          0.5502889056231901
         ],
         [
          0.7667443763710994,
          1.8846379679106748,
          0.3365460478735013,
          0.35492950428148073,
          0.5502889056231901
         ],
         [
          0.7667443763710994,
          1.8846379679106748,
          0.3365460478735013,
          0.35492950428148073,
          0.5502889056231901
         ],
         [
          0.7667443763710994,
          0.5502889056231901,
          0.5706683504567711,
          1.3129857260028264
         ],
         [
          0.7667443763710994,
          0.5502889056231901,
          0.5706683504567711,
          1.3129857260028264
         ],
         [
          0.5502889056231901,
          0.35492950428148073,
          -0.3158376841191152,
          0.5139650190202325,
          0.5706683504567711
         ],
         [
          0.7667443763710994,
          1.8846379679106748,
          0.3365460478735013,
          0.35492950428148073,
          0.5502889056231901
         ],
         [
          0.7667443763710994,
          1.8846379679106748,
          0.3365460478735013,
          0.35492950428148073,
          0.5502889056231901
         ]
        ]
       }
      }
     },
     "8a59c575db6c4e5d8ebe0b27ca8dfa04": {
      "model_module": "@jupyter-widgets/base",
      "model_module_version": "1.1.0",
      "model_name": "LayoutModel",
      "state": {
       "min_width": "125px"
      }
     },
     "8ad25ff8a125434ca7e1102238f2d82f": {
      "model_module": "bqplot",
      "model_module_version": "^0.4.5",
      "model_name": "AxisModel",
      "state": {
       "scale": "IPY_MODEL_c2b490285d5447da97a347237ef90fee",
       "side": "bottom",
       "tick_values": {
        "type": null,
        "values": null
       }
      }
     },
     "8b03c4a179b3492ea396cd9f6efb520d": {
      "model_module": "bqplot",
      "model_module_version": "^0.4.5",
      "model_name": "ScatterModel",
      "state": {
       "color": {
        "type": null,
        "values": null
       },
       "colors": [
        "black"
       ],
       "display_legend": false,
       "names": {
        "type": null,
        "values": null
       },
       "opacity": {
        "type": null,
        "values": null
       },
       "rotation": {
        "type": null,
        "values": null
       },
       "scales": {
        "x": "IPY_MODEL_8f922e86cf4646428737dd08d5dd487a",
        "y": "IPY_MODEL_ba02e3e6817e4576ac4580e42528de41"
       },
       "scales_metadata": {
        "color": {
         "dimension": "color"
        },
        "opacity": {
         "dimension": "opacity"
        },
        "rotation": {
         "dimension": "rotation"
        },
        "size": {
         "dimension": "size"
        },
        "skew": {
         "dimension": "skew"
        },
        "x": {
         "dimension": "x",
         "orientation": "horizontal"
        },
        "y": {
         "dimension": "y",
         "orientation": "vertical"
        }
       },
       "selected": [],
       "size": {
        "type": null,
        "values": null
       },
       "skew": {
        "type": null,
        "values": null
       },
       "x": {
        "type": "float",
        "values": [
         0.5281075673364094,
         0.28766969405592147,
         -5.20820435004358,
         0.11120787378448214,
         1.2311893360787933,
         0.6838775462866998,
         0.8368019646982289,
         0.6790714093103971,
         0.5272947621552145,
         0.43020238893545215,
         0.5843433203379271,
         0.22738068359095126
        ]
       },
       "y": {
        "type": "float",
        "values": [
         -0.15153524143845282,
         0.35492950428148073,
         1.8846379679106748,
         0.3365460478735013,
         0.6785452236610399,
         0.5342473347036941,
         0.2219913829992549,
         0.22900528542596285,
         0.5706683504567711,
         0.5502889056231901,
         1.3129857260028264,
         0.7667443763710994
        ]
       }
      }
     },
     "8b3280aae8664ae98bd9caafe553e6cb": {
      "model_module": "@jupyter-widgets/base",
      "model_module_version": "1.1.0",
      "model_name": "LayoutModel",
      "state": {
       "min_width": "125px"
      }
     },
     "8bab6e8eb7b246d0b74b8f5c597398e9": {
      "model_module": "bqplot",
      "model_module_version": "^0.4.5",
      "model_name": "FigureModel",
      "state": {
       "_dom_classes": [],
       "animation_duration": 1000,
       "axes": [
        "IPY_MODEL_6ed42f8ee04745bcacf55412f81dbe6c",
        "IPY_MODEL_30ee9d0833794759a652774b4de80678"
       ],
       "layout": "IPY_MODEL_7d35519437ff4da7b93dfafffe77c196",
       "marks": [
        "IPY_MODEL_75a55285bf9848ceb839cad0e8243c00",
        "IPY_MODEL_06b38cc12ee44e52a4241468ed6dbffa"
       ],
       "scale_x": "IPY_MODEL_250a64f6cdc743eeba98486263184a84",
       "scale_y": "IPY_MODEL_6ce79e0aec4648139fbf0abb8526933a"
      }
     },
     "8bd5baa36472461da4e1dc8f5b5191b2": {
      "model_module": "bqplot",
      "model_module_version": "^0.4.5",
      "model_name": "LinearScaleModel",
      "state": {
       "stabilized": false
      }
     },
     "8bec941f0711413eaa5bde2a3efddb2d": {
      "model_module": "bqplot",
      "model_module_version": "^0.4.5",
      "model_name": "AxisModel",
      "state": {
       "label": "Price",
       "orientation": "vertical",
       "scale": "IPY_MODEL_c4abb08514f84cda97b8bc1293040765",
       "side": "left",
       "tick_values": {
        "type": null,
        "values": null
       }
      }
     },
     "8bf2d75ef3564a4ead176c2c7bc54cf6": {
      "model_module": "bqplot",
      "model_module_version": "^0.4.5",
      "model_name": "LinearScaleModel",
      "state": {
       "allow_padding": false,
       "max": 1,
       "min": 0,
       "stabilized": false
      }
     },
     "8c5111a2e1e644708b9240a4d3d4d5ce": {
      "model_module": "bqplot",
      "model_module_version": "^0.4.5",
      "model_name": "LinearScaleModel",
      "state": {
       "stabilized": false
      }
     },
     "8c6d4d3ab86843009e2507afec406429": {
      "model_module": "@jupyter-widgets/base",
      "model_module_version": "1.1.0",
      "model_name": "LayoutModel",
      "state": {
       "min_width": "125px"
      }
     },
     "8d0f749af64d44e68eeade3a29d753be": {
      "model_module": "bqplot",
      "model_module_version": "^0.4.5",
      "model_name": "LinesModel",
      "state": {
       "color": {
        "type": null,
        "values": null
       },
       "colors": [
        "black"
       ],
       "display_legend": false,
       "fill_colors": [],
       "labels": [
        "C1"
       ],
       "scales": {
        "x": "IPY_MODEL_8f922e86cf4646428737dd08d5dd487a",
        "y": "IPY_MODEL_ba02e3e6817e4576ac4580e42528de41"
       },
       "selected": [],
       "x": {
        "type": "float",
        "values": [
         0.5281075673364094,
         0.6790714093103971
        ]
       },
       "y": {
        "type": "float",
        "values": [
         -0.15153524143845282,
         0.22900528542596285
        ]
       }
      }
     },
     "8ddb8dc2925f45f89049bce01bb26929": {
      "model_module": "bqplot",
      "model_module_version": "^0.4.5",
      "model_name": "FigureModel",
      "state": {
       "_dom_classes": [],
       "animation_duration": 1000,
       "axes": [
        "IPY_MODEL_03865b55defe42a194d02c82fb1d82ec",
        "IPY_MODEL_a72b586939d547e29aa01ae6a16d10cc"
       ],
       "layout": "IPY_MODEL_f936c4ac538849d9beb7f03496450f15",
       "marks": [
        "IPY_MODEL_a933ed477b1845fd89b194e9b91136c6"
       ],
       "scale_x": "IPY_MODEL_8bf2d75ef3564a4ead176c2c7bc54cf6",
       "scale_y": "IPY_MODEL_03808ee8fe6347b2b6cd9bfa14f6597f"
      }
     },
     "8e278912cada4908959bfbfa0706830b": {
      "model_module": "@jupyter-widgets/base",
      "model_module_version": "1.1.0",
      "model_name": "LayoutModel",
      "state": {
       "min_width": "125px"
      }
     },
     "8e2c9e1e8a66492080bc1ea90e97a10a": {
      "model_module": "bqplot",
      "model_module_version": "^0.4.5",
      "model_name": "AxisModel",
      "state": {
       "orientation": "vertical",
       "scale": "IPY_MODEL_003f0b2f9a9e42b2b63dfefc9005c9b5",
       "side": "left",
       "tick_values": {
        "type": null,
        "values": null
       }
      }
     },
     "8e7a5d3dedb449b8bd57476132e59dd8": {
      "model_module": "bqplot",
      "model_module_version": "^0.4.5",
      "model_name": "LinesModel",
      "state": {
       "color": {
        "type": null,
        "values": null
       },
       "colors": [
        "black"
       ],
       "display_legend": false,
       "fill_colors": [],
       "labels": [
        "C1"
       ],
       "scales": {
        "x": "IPY_MODEL_8f922e86cf4646428737dd08d5dd487a",
        "y": "IPY_MODEL_ba02e3e6817e4576ac4580e42528de41"
       },
       "selected": [],
       "x": {
        "type": "float",
        "values": [
         0.8368019646982289,
         0.6790714093103971
        ]
       },
       "y": {
        "type": "float",
        "values": [
         0.2219913829992549,
         0.22900528542596285
        ]
       }
      }
     },
     "8e921276077a408b9dcdf25b02da2249": {
      "model_module": "bqplot",
      "model_module_version": "^0.4.5",
      "model_name": "LinearScaleModel",
      "state": {
       "stabilized": false
      }
     },
     "8e9f1313b7214634b78f798d8ea54cd3": {
      "model_module": "bqplot",
      "model_module_version": "^0.4.5",
      "model_name": "AxisModel",
      "state": {
       "orientation": "vertical",
       "scale": "IPY_MODEL_93ac324997474f96987d3e61d77089a5",
       "side": "left",
       "tick_values": {
        "type": null,
        "values": null
       }
      }
     },
     "8ea52c17c6a449198cd2b4d27669aac7": {
      "model_module": "bqplot",
      "model_module_version": "^0.4.5",
      "model_name": "LinesModel",
      "state": {
       "color": {
        "type": null,
        "values": null
       },
       "colors": [
        "black"
       ],
       "display_legend": false,
       "fill_colors": [],
       "labels": [
        "C1"
       ],
       "scales": {
        "x": "IPY_MODEL_2a6aca56c2d14e61beef14fd6a225877",
        "y": "IPY_MODEL_6aebc1b7d022462ea4ac7b8228d301a8"
       },
       "selected": [],
       "x": {
        "type": "float",
        "values": [
         1.2311893360787933,
         0.8368019646982289
        ]
       },
       "y": {
        "type": "float",
        "values": [
         0.6785452236610399,
         0.2219913829992549
        ]
       }
      }
     },
     "8ebd54853c0d48ca864885266c47c610": {
      "model_module": "@jupyter-widgets/base",
      "model_module_version": "1.1.0",
      "model_name": "LayoutModel",
      "state": {
       "min_width": "125px"
      }
     },
     "8f053e6777a04f1f8c22b1399808804b": {
      "model_module": "bqplot",
      "model_module_version": "^0.4.5",
      "model_name": "LinearScaleModel",
      "state": {
       "allow_padding": false,
       "max": 1,
       "min": 0,
       "stabilized": false
      }
     },
     "8f595ac807c349a8a45ab272ba72fd41": {
      "model_module": "bqplot",
      "model_module_version": "^0.4.5",
      "model_name": "AxisModel",
      "state": {
       "scale": "IPY_MODEL_1c1f00804f2145f68dbf51a4dc3d4802",
       "side": "bottom",
       "tick_values": {
        "type": null,
        "values": null
       },
       "visible": false
      }
     },
     "8f61bc6fc60447e5bd50190a74360469": {
      "model_module": "bqplot",
      "model_module_version": "^0.4.5",
      "model_name": "LinesModel",
      "state": {
       "color": {
        "type": null,
        "values": null
       },
       "colors": [
        "black"
       ],
       "display_legend": false,
       "fill_colors": [],
       "labels": [
        "C1"
       ],
       "scales": {
        "x": "IPY_MODEL_8f922e86cf4646428737dd08d5dd487a",
        "y": "IPY_MODEL_ba02e3e6817e4576ac4580e42528de41"
       },
       "selected": [],
       "x": {
        "type": "float",
        "values": [
         0.5281075673364094,
         0.28766969405592147
        ]
       },
       "y": {
        "type": "float",
        "values": [
         -0.15153524143845282,
         0.35492950428148073
        ]
       }
      }
     },
     "8f8b11e3b7dd473d8260e9f36e42e2de": {
      "model_module": "bqplot",
      "model_module_version": "^0.4.5",
      "model_name": "LinearScaleModel",
      "state": {
       "stabilized": false
      }
     },
     "8f922e86cf4646428737dd08d5dd487a": {
      "model_module": "bqplot",
      "model_module_version": "^0.4.5",
      "model_name": "LinearScaleModel",
      "state": {
       "stabilized": false
      }
     },
     "8fcf49ca0bfc430ca20ca586b9884725": {
      "model_module": "bqplot",
      "model_module_version": "^0.4.5",
      "model_name": "LinearScaleModel",
      "state": {
       "max": 1,
       "min": 0,
       "stabilized": false
      }
     },
     "8fece8d5440c4d7897813f36d1e4d379": {
      "model_module": "bqplot",
      "model_module_version": "^0.4.5",
      "model_name": "LinearScaleModel",
      "state": {
       "stabilized": false
      }
     },
     "905bde4da84c4e7baf65cb867fe7c498": {
      "model_module": "@jupyter-widgets/base",
      "model_module_version": "1.1.0",
      "model_name": "LayoutModel",
      "state": {
       "min_width": "125px"
      }
     },
     "90d58f906c5f4c038433684d4a14b897": {
      "model_module": "bqplot",
      "model_module_version": "^0.4.5",
      "model_name": "AxisModel",
      "state": {
       "scale": "IPY_MODEL_7deb3f1e4bf94a1394ea2ba085ed58b8",
       "side": "bottom",
       "tick_values": {
        "type": null,
        "values": null
       },
       "visible": false
      }
     },
     "9127a0e665784c4f95a05a623bebf46c": {
      "model_module": "bqplot",
      "model_module_version": "^0.4.5",
      "model_name": "AxisModel",
      "state": {
       "scale": "IPY_MODEL_bde7d4d796e0443896df91f019bf80ad",
       "side": "bottom",
       "tick_values": {
        "type": null,
        "values": null
       }
      }
     },
     "9173e1caafa540bea0658a75937e886c": {
      "model_module": "bqplot",
      "model_module_version": "^0.4.5",
      "model_name": "AxisModel",
      "state": {
       "orientation": "vertical",
       "scale": "IPY_MODEL_27e68e618c6a452a9dc5120635c7b7f1",
       "side": "left",
       "tick_values": {
        "type": null,
        "values": null
       }
      }
     },
     "919347462c1e4ffeb54daf3ccb8bc289": {
      "model_module": "bqplot",
      "model_module_version": "^0.4.5",
      "model_name": "LinearScaleModel",
      "state": {
       "stabilized": false
      }
     },
     "919ebe8458ca4976935524354756612a": {
      "model_module": "bqplot",
      "model_module_version": "^0.4.5",
      "model_name": "AxisModel",
      "state": {
       "orientation": "vertical",
       "scale": "IPY_MODEL_d15bdf0e7fb345a1aa16c9df8a25e52c",
       "side": "left",
       "tick_values": {
        "type": null,
        "values": null
       }
      }
     },
     "91dad8172740486aab363c95a39586d2": {
      "model_module": "bqplot",
      "model_module_version": "^0.4.5",
      "model_name": "LinearScaleModel",
      "state": {
       "allow_padding": false,
       "max": 1,
       "min": 0,
       "stabilized": false
      }
     },
     "91e4c6360a9a46a08e2986e0bc397917": {
      "model_module": "bqplot",
      "model_module_version": "^0.4.5",
      "model_name": "LinearScaleModel",
      "state": {
       "stabilized": false
      }
     },
     "92085619edf74397adc5994396a368c5": {
      "model_module": "bqplot",
      "model_module_version": "^0.4.5",
      "model_name": "AxisModel",
      "state": {
       "orientation": "vertical",
       "scale": "IPY_MODEL_e9adaeb4e1f94ea69d8fa666853cb4a8",
       "side": "left",
       "tick_values": {
        "type": null,
        "values": null
       },
       "visible": false
      }
     },
     "9226fa0a5ee744fb915cc2de4a5c5c9a": {
      "model_module": "bqplot",
      "model_module_version": "^0.4.5",
      "model_name": "LinearScaleModel",
      "state": {
       "allow_padding": false,
       "max": 1,
       "min": 0,
       "stabilized": false
      }
     },
     "925f1a69cb574dc3bb58e7dc37343303": {
      "model_module": "@jupyter-widgets/base",
      "model_module_version": "1.1.0",
      "model_name": "LayoutModel",
      "state": {}
     },
     "9276b23c4cb24d2aa71d417ac5f45b9e": {
      "model_module": "bqplot",
      "model_module_version": "^0.4.5",
      "model_name": "LinearScaleModel",
      "state": {
       "stabilized": false
      }
     },
     "929ae3e124d44e5090c58b84cc751153": {
      "model_module": "bqplot",
      "model_module_version": "^0.4.5",
      "model_name": "ScatterModel",
      "state": {
       "color": {
        "type": null,
        "values": null
       },
       "colors": [
        "steelblue"
       ],
       "display_legend": false,
       "names": {
        "type": "<U5",
        "values": [
         "one",
         "two",
         "three",
         "four",
         "five",
         "six"
        ]
       },
       "opacity": {
        "type": null,
        "values": null
       },
       "rotation": {
        "type": null,
        "values": null
       },
       "scales": {
        "x": "IPY_MODEL_7f802eaef0a247d8a6aa5b144eae4002",
        "y": "IPY_MODEL_9746d385208b4a9699bfc48e093afcf2"
       },
       "scales_metadata": {
        "color": {
         "dimension": "color"
        },
        "opacity": {
         "dimension": "opacity"
        },
        "rotation": {
         "dimension": "rotation"
        },
        "size": {
         "dimension": "size"
        },
        "skew": {
         "dimension": "skew"
        },
        "x": {
         "dimension": "x",
         "orientation": "horizontal"
        },
        "y": {
         "dimension": "y",
         "orientation": "vertical"
        }
       },
       "selected": [],
       "size": {
        "type": null,
        "values": null
       },
       "skew": {
        "type": null,
        "values": null
       },
       "stroke": "black",
       "tooltip": "IPY_MODEL_b80ed1e2fbfa45358769dcf805aedaf3",
       "x": {
        "type": "float",
        "values": [
         0.771320643266746,
         0.6336482349262754,
         0.4985070123025904,
         0.19806286475962398,
         0.16911083656253545,
         0.6853598183677972
        ]
       },
       "y": {
        "type": "float",
        "values": [
         0.0207519493594015,
         0.7488038825386119,
         0.22479664553084766,
         0.7605307121989587,
         0.08833981417401027,
         0.9533933461949365
        ]
       }
      }
     },
     "92afb889514b4a92b77d79f0c9be26c8": {
      "model_module": "bqplot",
      "model_module_version": "^0.4.5",
      "model_name": "AxisModel",
      "state": {
       "scale": "IPY_MODEL_3f07bf46f7e844a58ca7efdd0230254d",
       "side": "bottom",
       "tick_values": {
        "type": null,
        "values": null
       }
      }
     },
     "92f3df7f88be44d7a192bf42b4eee30d": {
      "model_module": "bqplot",
      "model_module_version": "^0.4.5",
      "model_name": "ScatterModel",
      "state": {
       "color": {
        "type": null,
        "values": null
       },
       "colors": [
        "steelblue"
       ],
       "display_legend": false,
       "display_names": false,
       "names": {
        "type": null,
        "values": null
       },
       "opacity": {
        "type": null,
        "values": null
       },
       "rotation": {
        "type": null,
        "values": null
       },
       "scales": {
        "x": "IPY_MODEL_ff7e94b4594346e5aebce2e0691ed0dc",
        "y": "IPY_MODEL_56effa79342a48d4897bcd7d4dcde0d4"
       },
       "scales_metadata": {
        "color": {
         "dimension": "color"
        },
        "opacity": {
         "dimension": "opacity"
        },
        "rotation": {
         "dimension": "rotation"
        },
        "size": {
         "dimension": "size"
        },
        "skew": {
         "dimension": "skew"
        },
        "x": {
         "dimension": "x",
         "orientation": "horizontal"
        },
        "y": {
         "dimension": "y",
         "orientation": "vertical"
        }
       },
       "selected": [],
       "size": {
        "type": null,
        "values": null
       },
       "skew": {
        "type": null,
        "values": null
       },
       "stroke": "black",
       "tooltip": "IPY_MODEL_99575a00246640449d6a743bf97fd125",
       "x": {
        "type": "float",
        "values": [
         0.771320643266746,
         0.6336482349262754,
         0.4985070123025904,
         0.19806286475962398,
         0.16911083656253545,
         0.6853598183677972
        ]
       },
       "y": {
        "type": "float",
        "values": [
         0.0207519493594015,
         0.7488038825386119,
         0.22479664553084766,
         0.7605307121989587,
         0.08833981417401027,
         0.9533933461949365
        ]
       }
      }
     },
     "93abcd848d1c4786845991768e437a66": {
      "model_module": "bqplot",
      "model_module_version": "^0.4.5",
      "model_name": "LinesModel",
      "state": {
       "color": {
        "type": null,
        "values": null
       },
       "colors": [
        "black"
       ],
       "display_legend": false,
       "fill_colors": [],
       "labels": [
        "C1"
       ],
       "scales": {
        "x": "IPY_MODEL_2a6aca56c2d14e61beef14fd6a225877",
        "y": "IPY_MODEL_6aebc1b7d022462ea4ac7b8228d301a8"
       },
       "selected": [],
       "x": {
        "type": "float",
        "values": [
         0.22738068359095126,
         0.11120787378448214
        ]
       },
       "y": {
        "type": "float",
        "values": [
         0.7667443763710994,
         0.3365460478735013
        ]
       }
      }
     },
     "93ac324997474f96987d3e61d77089a5": {
      "model_module": "bqplot",
      "model_module_version": "^0.4.5",
      "model_name": "LinearScaleModel",
      "state": {
       "stabilized": false
      }
     },
     "944b05fd92034983b8d8171b3020e3c7": {
      "model_module": "bqplot",
      "model_module_version": "^0.4.5",
      "model_name": "LinearScaleModel",
      "state": {
       "stabilized": false
      }
     },
     "946bd3bf860f4130aad50f8b547fd7e0": {
      "model_module": "bqplot",
      "model_module_version": "^0.4.5",
      "model_name": "FigureModel",
      "state": {
       "_dom_classes": [],
       "axes": [
        "IPY_MODEL_7883f1948c5c459cba7e2a79a8f08d03",
        "IPY_MODEL_9fd30ef7ff224975bb5c37dff5aa4c02"
       ],
       "interaction": "IPY_MODEL_c6c002a0a13a4b02b775248be03d6fd9",
       "layout": "IPY_MODEL_98b56df0e8204dc7baa9c61aa6ab83a8",
       "marks": [
        "IPY_MODEL_f09b7c0b90b948fbb36503df9316a6fd",
        "IPY_MODEL_cb0ed78c8f8b4ec2b1ae3cdbe9782c4b",
        "IPY_MODEL_a560c150fe1f484f80240fd8d6c8e353",
        "IPY_MODEL_93abcd848d1c4786845991768e437a66",
        "IPY_MODEL_b7df7f539a904c049d96f4c678f527f3",
        "IPY_MODEL_e5961e4e4ba743d2b270a6f174eab6fb",
        "IPY_MODEL_d3b1eafacd0a44579b4288cd6658b901",
        "IPY_MODEL_e5b23cc0e39849229539776c51c68c44",
        "IPY_MODEL_8ea52c17c6a449198cd2b4d27669aac7",
        "IPY_MODEL_9c58ac41c79f4aa782ac4ff70f345b85",
        "IPY_MODEL_1b10e13f286e448a9e9e5e66233d54f6",
        "IPY_MODEL_6b8c461f70c74c0d9d5f9d02a31b9f3a",
        "IPY_MODEL_3dbdee6a677042158c16741ae01e498a",
        "IPY_MODEL_013fbc30cbb34898b27e7bebb728e503",
        "IPY_MODEL_28996db5b82648dcb113888cde4b8e72",
        "IPY_MODEL_87b6aa2b30f446c9add8bd85cdcad5ec",
        "IPY_MODEL_60ebf550fc22459a8e6db9fad5627b43",
        "IPY_MODEL_2cb6127a397944a19ead41ee68ec394f",
        "IPY_MODEL_6bb1097a59e24a47a4ca1829aba91ece",
        "IPY_MODEL_831b7653bd014a3ebe93b07b01c297e8",
        "IPY_MODEL_32a60bac29564b2782bdd8e1c1e8d6f5",
        "IPY_MODEL_1b3deed99dd54156985a1ec06309f55a"
       ],
       "scale_x": "IPY_MODEL_f7a5473dc56c42c581b25e934eed782d",
       "scale_y": "IPY_MODEL_5a5ea67b2dac447384f12627c1d405f5"
      }
     },
     "94c5002f7a9245b990903979283f3f9d": {
      "model_module": "bqplot",
      "model_module_version": "^0.4.5",
      "model_name": "LinearScaleModel",
      "state": {
       "allow_padding": false,
       "max": 1,
       "min": 0,
       "stabilized": false
      }
     },
     "94c5b94291234ee781b39288c305e820": {
      "model_module": "bqplot",
      "model_module_version": "^0.4.5",
      "model_name": "ScatterModel",
      "state": {
       "color": {
        "type": null,
        "values": null
       },
       "colors": [
        "steelblue"
       ],
       "display_legend": false,
       "display_names": false,
       "names": {
        "type": null,
        "values": null
       },
       "opacity": {
        "type": null,
        "values": null
       },
       "rotation": {
        "type": null,
        "values": null
       },
       "scales": {
        "x": "IPY_MODEL_d37739deaeb445ecbbf7849b0e8a7754",
        "y": "IPY_MODEL_32401f44d8d54f0b95fda13b7330824d"
       },
       "scales_metadata": {
        "color": {
         "dimension": "color"
        },
        "opacity": {
         "dimension": "opacity"
        },
        "rotation": {
         "dimension": "rotation"
        },
        "size": {
         "dimension": "size"
        },
        "skew": {
         "dimension": "skew"
        },
        "x": {
         "dimension": "x",
         "orientation": "horizontal"
        },
        "y": {
         "dimension": "y",
         "orientation": "vertical"
        }
       },
       "selected": [],
       "size": {
        "type": null,
        "values": null
       },
       "skew": {
        "type": null,
        "values": null
       },
       "stroke": "black",
       "tooltip": "IPY_MODEL_99575a00246640449d6a743bf97fd125",
       "x": {
        "type": "float",
        "values": [
         0.5434049417909654,
         0.4245175907491331,
         0.004718856190972565,
         0.6707490847267786,
         0.13670658968495297,
         0.891321954312264,
         0.18532821955007506,
         0.21969749262499216,
         0.8116831490893233,
         0.8162247487258399
        ]
       },
       "y": {
        "type": "float",
        "values": [
         0.27836938509379616,
         0.8447761323199037,
         0.12156912078311422,
         0.8258527551050476,
         0.57509332942725,
         0.20920212211718958,
         0.10837689046425514,
         0.9786237847073697,
         0.1719410127325942,
         0.2740737470416992
        ]
       }
      }
     },
     "94cc905afa0241a2aca3c94e8bbd81b1": {
      "model_module": "bqplot",
      "model_module_version": "^0.4.5",
      "model_name": "LinearScaleModel",
      "state": {
       "allow_padding": false,
       "max": 1,
       "min": 0,
       "stabilized": false
      }
     },
     "94f903c1d96842bcb49003012418a2e0": {
      "model_module": "bqplot",
      "model_module_version": "^0.4.5",
      "model_name": "ScatterModel",
      "state": {
       "color": {
        "type": null,
        "values": null
       },
       "colors": [
        "steelblue"
       ],
       "display_legend": false,
       "names": {
        "type": "<U5",
        "values": [
         "one",
         "two",
         "three",
         "four",
         "five",
         "six"
        ]
       },
       "opacity": {
        "type": null,
        "values": null
       },
       "rotation": {
        "type": null,
        "values": null
       },
       "scales": {
        "x": "IPY_MODEL_d6a3c5d259944dc599ccefdc2cb3fd8c",
        "y": "IPY_MODEL_60ce797873a84471b5ed2a6a0247d715"
       },
       "scales_metadata": {
        "color": {
         "dimension": "color"
        },
        "opacity": {
         "dimension": "opacity"
        },
        "rotation": {
         "dimension": "rotation"
        },
        "size": {
         "dimension": "size"
        },
        "skew": {
         "dimension": "skew"
        },
        "x": {
         "dimension": "x",
         "orientation": "horizontal"
        },
        "y": {
         "dimension": "y",
         "orientation": "vertical"
        }
       },
       "selected": [],
       "size": {
        "type": null,
        "values": null
       },
       "skew": {
        "type": null,
        "values": null
       },
       "stroke": "black",
       "tooltip": "IPY_MODEL_eeb35ec02e2f4551b88d706ca4d5cce0",
       "x": {
        "type": "float",
        "values": [
         0.771320643266746,
         0.6336482349262754,
         0.4985070123025904,
         0.19806286475962398,
         0.16911083656253545,
         0.6853598183677972
        ]
       },
       "y": {
        "type": "float",
        "values": [
         0.0207519493594015,
         0.7488038825386119,
         0.22479664553084766,
         0.7605307121989587,
         0.08833981417401027,
         0.9533933461949365
        ]
       }
      }
     },
     "9506a596911745ff91174dd24ea387d1": {
      "model_module": "bqplot",
      "model_module_version": "^0.4.5",
      "model_name": "LinearScaleModel",
      "state": {
       "allow_padding": false,
       "max": 1,
       "min": 0,
       "stabilized": false
      }
     },
     "95287174abcc4f099cd6a9fd1673435f": {
      "model_module": "bqplot",
      "model_module_version": "^0.4.5",
      "model_name": "LinearScaleModel",
      "state": {
       "allow_padding": false,
       "max": 1,
       "min": 0,
       "stabilized": false
      }
     },
     "953b3f6fa1f94be6b41d26f0331e32af": {
      "model_module": "bqplot",
      "model_module_version": "^0.4.5",
      "model_name": "LinearScaleModel",
      "state": {
       "stabilized": false
      }
     },
     "954cc14f97014dfd96f76cc80685f08c": {
      "model_module": "bqplot",
      "model_module_version": "^0.4.5",
      "model_name": "LinesModel",
      "state": {
       "color": {
        "type": null,
        "values": null
       },
       "colors": [
        "black"
       ],
       "display_legend": false,
       "fill_colors": [],
       "labels": [
        "C1"
       ],
       "scales": {
        "x": "IPY_MODEL_8f922e86cf4646428737dd08d5dd487a",
        "y": "IPY_MODEL_ba02e3e6817e4576ac4580e42528de41"
       },
       "selected": [],
       "x": {
        "type": "float",
        "values": [
         0.6838775462866998,
         0.5272947621552145
        ]
       },
       "y": {
        "type": "float",
        "values": [
         0.5342473347036941,
         0.5706683504567711
        ]
       }
      }
     },
     "957c8fb98eec4dc28aa4ef1a019c8cc3": {
      "model_module": "bqplot",
      "model_module_version": "^0.4.5",
      "model_name": "LinearScaleModel",
      "state": {
       "allow_padding": false,
       "max": 1,
       "min": 0,
       "stabilized": false
      }
     },
     "95b5264064ab42629c1f5accd0b38835": {
      "model_module": "bqplot",
      "model_module_version": "^0.4.5",
      "model_name": "AxisModel",
      "state": {
       "orientation": "vertical",
       "scale": "IPY_MODEL_6fbf223288974b6b8f6a037a4816d80e",
       "side": "left",
       "tick_values": {
        "type": null,
        "values": null
       }
      }
     },
     "963d1c7e6cf5452b831f4991941b4a7f": {
      "model_module": "bqplot",
      "model_module_version": "^0.4.5",
      "model_name": "LinesModel",
      "state": {
       "close_path": true,
       "color": {
        "type": null,
        "values": null
       },
       "display_legend": false,
       "fill": "inside",
       "fill_colors": [
        "orange",
        "blue",
        "red"
       ],
       "labels": [
        "C1",
        "C2"
       ],
       "scales": {
        "x": "IPY_MODEL_cd1a2eeff6fb4eab81783b1c10f4a738",
        "y": "IPY_MODEL_47e12bf78b364180b60957e93eacb6b2"
       },
       "selected": [],
       "stroke_width": 1,
       "tooltip": "IPY_MODEL_b80ed1e2fbfa45358769dcf805aedaf3",
       "x": {
        "type": "float",
        "values": [
         [
          0.4097295846150608,
          0.8520227339335706,
          1.7332689863391435,
          0.4200808874255707
         ],
         [
          0.4097295846150608,
          0.22355450954331613,
          0.4501473823600029,
          0.8520227339335706
         ]
        ]
       },
       "y": {
        "type": "float",
        "values": [
         [
          0.5271223505498778,
          0.41305515312279745,
          0.5796961417400555,
          0.9116146811300156
         ],
         [
          0.5271223505498778,
          0.42271381055996105,
          -0.12426375746363771,
          0.41305515312279745
         ]
        ]
       }
      }
     },
     "965df1ba8ed14fd9ac35d6b1e4afa02d": {
      "model_module": "bqplot",
      "model_module_version": "^0.4.5",
      "model_name": "AxisModel",
      "state": {
       "orientation": "vertical",
       "scale": "IPY_MODEL_56effa79342a48d4897bcd7d4dcde0d4",
       "side": "left",
       "tick_values": {
        "type": null,
        "values": null
       }
      }
     },
     "96e7b93fec18480f9110c22416f54993": {
      "model_module": "@jupyter-widgets/base",
      "model_module_version": "1.1.0",
      "model_name": "LayoutModel",
      "state": {
       "min_width": "125px"
      }
     },
     "970d4a331d6142828191d056c05be890": {
      "model_module": "bqplot",
      "model_module_version": "^0.4.5",
      "model_name": "LinearScaleModel",
      "state": {
       "stabilized": false
      }
     },
     "97352a7f033d4fb4aa2a637ec1de22b7": {
      "model_module": "bqplot",
      "model_module_version": "^0.4.5",
      "model_name": "LinearScaleModel",
      "state": {
       "allow_padding": false,
       "max": 1,
       "min": 0,
       "stabilized": false
      }
     },
     "9746d385208b4a9699bfc48e093afcf2": {
      "model_module": "bqplot",
      "model_module_version": "^0.4.5",
      "model_name": "LinearScaleModel",
      "state": {
       "stabilized": false
      }
     },
     "97d57ba3077d4b7bbcbc631a19e9d92f": {
      "model_module": "bqplot",
      "model_module_version": "^0.4.5",
      "model_name": "LinesModel",
      "state": {
       "color": {
        "type": null,
        "values": null
       },
       "colors": [
        "black"
       ],
       "display_legend": false,
       "fill_colors": [],
       "labels": [
        "C1"
       ],
       "scales": {
        "x": "IPY_MODEL_b50daaba70f04418935494498fcbe2b3",
        "y": "IPY_MODEL_27e68e618c6a452a9dc5120635c7b7f1"
       },
       "selected": [],
       "x": {
        "type": "float",
        "values": [
         1.2311893360787933,
         0.6838775462866998
        ]
       },
       "y": {
        "type": "float",
        "values": [
         0.6785452236610399,
         0.5342473347036941
        ]
       }
      }
     },
     "97e44215b0964d44b8768c644e8c3b67": {
      "model_module": "bqplot",
      "model_module_version": "^0.4.5",
      "model_name": "LinearScaleModel",
      "state": {
       "stabilized": false
      }
     },
     "97f02585a5274e0c8f7b376d201e55c9": {
      "model_module": "bqplot",
      "model_module_version": "^0.4.5",
      "model_name": "FigureModel",
      "state": {
       "_dom_classes": [],
       "animation_duration": 1000,
       "axes": [
        "IPY_MODEL_f7c9305fde704fda9ef839181294679f",
        "IPY_MODEL_255da572643045dbb41e7367f0c9ebe8"
       ],
       "layout": "IPY_MODEL_4242907fcbac474ebc58ba6447c6a07a",
       "marks": [
        "IPY_MODEL_10f5ec316cdf4b7a84a8f0ce8b75dd2d"
       ],
       "scale_x": "IPY_MODEL_12412bf6fd574445b2bbb6b3fb847165",
       "scale_y": "IPY_MODEL_f92c19b83b4445cfb5fd043538a003f4"
      }
     },
     "982ba481d29a448d86475f5c7672ef9f": {
      "model_module": "@jupyter-widgets/base",
      "model_module_version": "1.1.0",
      "model_name": "LayoutModel",
      "state": {
       "min_width": "125px"
      }
     },
     "98b56df0e8204dc7baa9c61aa6ab83a8": {
      "model_module": "@jupyter-widgets/base",
      "model_module_version": "1.1.0",
      "model_name": "LayoutModel",
      "state": {
       "min_width": "125px"
      }
     },
     "99575a00246640449d6a743bf97fd125": {
      "model_module": "bqplot",
      "model_module_version": "^0.4.5",
      "model_name": "TooltipModel",
      "state": {
       "fields": [
        "name"
       ],
       "formats": [
        ""
       ],
       "layout": "IPY_MODEL_2f6fa99b6f074ee6a6f46535b7a67c7f"
      }
     },
     "999aaaba563a4492a62122f2db5edfbd": {
      "model_module": "@jupyter-widgets/base",
      "model_module_version": "1.1.0",
      "model_name": "LayoutModel",
      "state": {
       "min_width": "125px"
      }
     },
     "99e44a461a224647a40ac52c60c2eb45": {
      "model_module": "bqplot",
      "model_module_version": "^0.4.5",
      "model_name": "AxisModel",
      "state": {
       "scale": "IPY_MODEL_49ef24da5ac14cfd83f32eca7f972797",
       "side": "bottom",
       "tick_values": {
        "type": null,
        "values": null
       }
      }
     },
     "9a19c362263a43bd98305e4f0af0fa86": {
      "model_module": "@jupyter-widgets/base",
      "model_module_version": "1.1.0",
      "model_name": "LayoutModel",
      "state": {
       "min_width": "125px"
      }
     },
     "9a3bd8172fcd43a083e97cf022fe3e5a": {
      "model_module": "bqplot",
      "model_module_version": "^0.4.5",
      "model_name": "FigureModel",
      "state": {
       "_dom_classes": [],
       "animation_duration": 1000,
       "axes": [
        "IPY_MODEL_4a7ebbfb7d9d41148b5184bd566d021a",
        "IPY_MODEL_ddf7d94ec445471b8b378e53ab78748f"
       ],
       "layout": "IPY_MODEL_3f06b267c4c04f67aae595095a2e329c",
       "marks": [
        "IPY_MODEL_f914f313c791480d8cd0fef78c1580f8"
       ],
       "scale_x": "IPY_MODEL_702c375401ed4dc0af4cc315226ef9c1",
       "scale_y": "IPY_MODEL_01b916d2a5de4e51a71f44dce3c6d888"
      }
     },
     "9a9edfc1f65448c196a44a51a06da407": {
      "model_module": "bqplot",
      "model_module_version": "^0.4.5",
      "model_name": "FigureModel",
      "state": {
       "_dom_classes": [],
       "animation_duration": 1000,
       "axes": [
        "IPY_MODEL_7490c696e79e4ae5920c8fd63d883d61",
        "IPY_MODEL_92085619edf74397adc5994396a368c5"
       ],
       "layout": "IPY_MODEL_4a8a94a4f0e243e7980c48243f709f07",
       "marks": [
        "IPY_MODEL_dbebdebeb324471d91aa580ab75e78d5"
       ],
       "scale_x": "IPY_MODEL_c819a661bb28459599dcd354525f24a5",
       "scale_y": "IPY_MODEL_12ec48c4225f4e05b2729ae2594e1360"
      }
     },
     "9aa6736a6adf47c6890a8e559d1df431": {
      "model_module": "bqplot",
      "model_module_version": "^0.4.5",
      "model_name": "LinearScaleModel",
      "state": {
       "stabilized": false
      }
     },
     "9ac875ee35c0440dbddf37862fbe7c58": {
      "model_module": "bqplot",
      "model_module_version": "^0.4.5",
      "model_name": "LinearScaleModel",
      "state": {
       "stabilized": false
      }
     },
     "9ad697e646a6419ba9d5ecaf2a8c6003": {
      "model_module": "bqplot",
      "model_module_version": "^0.4.5",
      "model_name": "ScatterModel",
      "state": {
       "color": {
        "type": null,
        "values": null
       },
       "colors": [
        "steelblue"
       ],
       "display_legend": false,
       "display_names": false,
       "names": {
        "type": null,
        "values": null
       },
       "opacity": {
        "type": null,
        "values": null
       },
       "rotation": {
        "type": null,
        "values": null
       },
       "scales": {
        "x": "IPY_MODEL_91e4c6360a9a46a08e2986e0bc397917",
        "y": "IPY_MODEL_8fece8d5440c4d7897813f36d1e4d379"
       },
       "scales_metadata": {
        "color": {
         "dimension": "color"
        },
        "opacity": {
         "dimension": "opacity"
        },
        "rotation": {
         "dimension": "rotation"
        },
        "size": {
         "dimension": "size"
        },
        "skew": {
         "dimension": "skew"
        },
        "x": {
         "dimension": "x",
         "orientation": "horizontal"
        },
        "y": {
         "dimension": "y",
         "orientation": "vertical"
        }
       },
       "selected": [],
       "size": {
        "type": null,
        "values": null
       },
       "skew": {
        "type": null,
        "values": null
       },
       "stroke": "black",
       "tooltip": "IPY_MODEL_cc31526312594ad68b5bd650904944ea",
       "x": {
        "type": "float",
        "values": [
         0.771320643266746,
         0.6336482349262754,
         0.4985070123025904,
         0.19806286475962398,
         0.16911083656253545,
         0.6853598183677972
        ]
       },
       "y": {
        "type": "float",
        "values": [
         0.0207519493594015,
         0.7488038825386119,
         0.22479664553084766,
         0.7605307121989587,
         0.08833981417401027,
         0.9533933461949365
        ]
       }
      }
     },
     "9b01b6bc9e844e40bc26fe375684b1ce": {
      "model_module": "bqplot",
      "model_module_version": "^0.4.5",
      "model_name": "LinesModel",
      "state": {
       "close_path": true,
       "color": {
        "type": null,
        "values": null
       },
       "display_legend": false,
       "fill": "inside",
       "fill_colors": [
        "orange",
        "blue",
        "red"
       ],
       "labels": [
        "C1",
        "C2",
        "C3"
       ],
       "scales": {
        "x": "IPY_MODEL_3f07bf46f7e844a58ca7efdd0230254d",
        "y": "IPY_MODEL_62185592769b43b1ab4256aa004c3e82"
       },
       "selected": [],
       "stroke_width": 1,
       "tooltip": "IPY_MODEL_99575a00246640449d6a743bf97fd125",
       "x": {
        "type": "object",
        "values": [
         [],
         [
          0.4097295846150608,
          0.8520227339335706,
          1.7332689863391435,
          0.4200808874255707
         ],
         [
          0.4097295846150608,
          0.22355450954331613,
          0.4501473823600029,
          0.8520227339335706
         ]
        ]
       },
       "y": {
        "type": "object",
        "values": [
         [],
         [
          0.5271223505498778,
          0.41305515312279745,
          0.5796961417400555,
          0.9116146811300156
         ],
         [
          0.5271223505498778,
          0.42271381055996105,
          -0.12426375746363771,
          0.41305515312279745
         ]
        ]
       }
      }
     },
     "9b3a5e90b39147c1955dcf6d7a9a8c19": {
      "model_module": "bqplot",
      "model_module_version": "^0.4.5",
      "model_name": "LinearScaleModel",
      "state": {
       "allow_padding": false,
       "max": 1,
       "min": 0,
       "stabilized": false
      }
     },
     "9c2c0e4aaa054fd5a4e5ffa73970fb91": {
      "model_module": "bqplot",
      "model_module_version": "^0.4.5",
      "model_name": "LinearScaleModel",
      "state": {
       "allow_padding": false,
       "max": 1,
       "min": 0,
       "stabilized": false
      }
     },
     "9c3bc2b078bb44ac83b63f0724f9dd0d": {
      "model_module": "bqplot",
      "model_module_version": "^0.4.5",
      "model_name": "LinearScaleModel",
      "state": {
       "allow_padding": false,
       "max": 1,
       "min": 0,
       "stabilized": false
      }
     },
     "9c58ac41c79f4aa782ac4ff70f345b85": {
      "model_module": "bqplot",
      "model_module_version": "^0.4.5",
      "model_name": "LinesModel",
      "state": {
       "color": {
        "type": null,
        "values": null
       },
       "colors": [
        "black"
       ],
       "display_legend": false,
       "fill_colors": [],
       "labels": [
        "C1"
       ],
       "scales": {
        "x": "IPY_MODEL_2a6aca56c2d14e61beef14fd6a225877",
        "y": "IPY_MODEL_6aebc1b7d022462ea4ac7b8228d301a8"
       },
       "selected": [],
       "x": {
        "type": "float",
        "values": [
         0.6838775462866998,
         0.6790714093103971
        ]
       },
       "y": {
        "type": "float",
        "values": [
         0.5342473347036941,
         0.22900528542596285
        ]
       }
      }
     },
     "9ceddc83bd5749818613de8a049270d8": {
      "model_module": "bqplot",
      "model_module_version": "^0.4.5",
      "model_name": "LinearScaleModel",
      "state": {
       "stabilized": false
      }
     },
     "9d2cad84b67348e7a5db21294f4f8225": {
      "model_module": "bqplot",
      "model_module_version": "^0.4.5",
      "model_name": "AxisModel",
      "state": {
       "scale": "IPY_MODEL_97e44215b0964d44b8768c644e8c3b67",
       "side": "bottom",
       "tick_values": {
        "type": null,
        "values": null
       },
       "visible": false
      }
     },
     "9d841403985b43da9636bf1810f3ec65": {
      "model_module": "bqplot",
      "model_module_version": "^0.4.5",
      "model_name": "LinearScaleModel",
      "state": {
       "allow_padding": false,
       "max": 1,
       "min": 0,
       "stabilized": false
      }
     },
     "9dd1d59915a040ff8cd3add409aa9d2e": {
      "model_module": "bqplot",
      "model_module_version": "^0.4.5",
      "model_name": "AxisModel",
      "state": {
       "orientation": "vertical",
       "scale": "IPY_MODEL_87a46591226a4db8be79d0344540036a",
       "side": "left",
       "tick_values": {
        "type": null,
        "values": null
       }
      }
     },
     "9f76933e24b54a83abd631d3a554927a": {
      "model_module": "bqplot",
      "model_module_version": "^0.4.5",
      "model_name": "LinearScaleModel",
      "state": {
       "stabilized": false
      }
     },
     "9fa54cfd8f994152957e3e80aa63af3d": {
      "model_module": "bqplot",
      "model_module_version": "^0.4.5",
      "model_name": "FigureModel",
      "state": {
       "_dom_classes": [],
       "animation_duration": 1000,
       "layout": "IPY_MODEL_a1a27b64ed8c479698c46db322abdbd1",
       "scale_x": "IPY_MODEL_9d841403985b43da9636bf1810f3ec65",
       "scale_y": "IPY_MODEL_842caed62b5648b1ad0bdb9045a1700c"
      }
     },
     "9fa5f7f9f84a4fc6835cd656694f9d4c": {
      "model_module": "bqplot",
      "model_module_version": "^0.4.5",
      "model_name": "LinesModel",
      "state": {
       "close_path": true,
       "color": {
        "type": null,
        "values": null
       },
       "display_legend": false,
       "fill": "inside",
       "fill_colors": [
        "orange",
        "blue",
        "red"
       ],
       "labels": [
        "Point-two",
        "Point-three"
       ],
       "scales": {
        "x": "IPY_MODEL_9ceddc83bd5749818613de8a049270d8",
        "y": "IPY_MODEL_54f591db8e974136b7598701cd742ed2"
       },
       "selected": [],
       "stroke_width": 1,
       "tooltip": "IPY_MODEL_eeb35ec02e2f4551b88d706ca4d5cce0",
       "x": {
        "type": "float",
        "values": [
         [
          0.4097295846150608,
          0.8520227339335706,
          1.7332689863391435,
          0.4200808874255707
         ],
         [
          0.4097295846150608,
          0.22355450954331613,
          0.4501473823600029,
          0.8520227339335706
         ]
        ]
       },
       "y": {
        "type": "float",
        "values": [
         [
          0.5271223505498778,
          0.41305515312279745,
          0.5796961417400555,
          0.9116146811300156
         ],
         [
          0.5271223505498778,
          0.42271381055996105,
          -0.12426375746363771,
          0.41305515312279745
         ]
        ]
       }
      }
     },
     "9fd30ef7ff224975bb5c37dff5aa4c02": {
      "model_module": "bqplot",
      "model_module_version": "^0.4.5",
      "model_name": "AxisModel",
      "state": {
       "orientation": "vertical",
       "scale": "IPY_MODEL_6aebc1b7d022462ea4ac7b8228d301a8",
       "side": "left",
       "tick_values": {
        "type": null,
        "values": null
       }
      }
     },
     "a0a0ba5e1f2549909d704c1ef2f83322": {
      "model_module": "bqplot",
      "model_module_version": "^0.4.5",
      "model_name": "LinesModel",
      "state": {
       "close_path": true,
       "color": {
        "type": null,
        "values": null
       },
       "fill": "inside",
       "fill_colors": [
        "orange",
        "blue",
        "red"
       ],
       "labels": [
        "C1",
        "C2",
        "C3",
        "C4",
        "C5",
        "C6",
        "C7",
        "C8",
        "C9",
        "C10",
        "C11"
       ],
       "scales": {
        "x": "IPY_MODEL_18b2b58e43264000b65d2d88ec8159ca",
        "y": "IPY_MODEL_9aa6736a6adf47c6890a8e559d1df431"
       },
       "selected": [],
       "tooltip": "IPY_MODEL_99575a00246640449d6a743bf97fd125",
       "x": {
        "type": "object",
        "values": [
         [
          0.3391177477685002,
          0.4750086415225836,
          -0.2756282388785558,
          0.1002329982305024,
          0.14264947751149049
         ],
         [
          0.8905129792709878,
          0.8368019646982289,
          0.6790714093103971,
          0.632305171523587,
          0.8765819713246308
         ],
         [
          0.6553672424263162,
          0.7356573028241983,
          1.0625038153560324,
          0.9068052462847231,
          0.6803188304607208
         ],
         [
          0.9068052462847231,
          0.8368019646982289,
          0.8905129792709878,
          1.3683937212254755,
          1.0625038153560324
         ],
         [
          0.6803188304607208,
          0.6790714093103971,
          0.8368019646982289,
          0.9068052462847231
         ],
         [
          0.6553672424263162,
          0.3966807033626007,
          0.3391177477685002,
          0.4750086415225836,
          0.632305171523587,
          0.6790714093103971,
          0.6803188304607208
         ],
         [
          0.5407151540942435,
          0.7526547896648534,
          0.7356573028241983,
          0.6553672424263162,
          0.3966807033626007,
          0.3723781180850507,
          0.36594757601251304
         ],
         [
          0.15271967617038865,
          -0.22916060873431626,
          0.12549395982067563
         ],
         [
          0.15271967617038865,
          0.3723781180850507,
          0.36594757601251304,
          0.22738068359095126,
          0.20682624326493565,
          -0.36269025016798745,
          -0.22916060873431626
         ],
         [
          0.15271967617038865,
          0.3723781180850507,
          0.3966807033626007,
          0.3391177477685002,
          0.14264947751149049,
          0.12549395982067563
         ],
         [
          0.5513063870782566,
          0.5407151540942435,
          0.36594757601251304,
          0.22738068359095126,
          0.31507048755472744
         ]
        ]
       },
       "y": {
        "type": "object",
        "values": [
         [
          0.24655795247138063,
          -0.039686248626373516,
          -4.9594670100931575,
          0.18629357055614904,
          0.2391898741785718
         ],
         [
          0.10719391457887303,
          0.2219913829992549,
          0.22900528542596285,
          0.11111978030000198,
          0.08614326814023072
         ],
         [
          0.426736008768721,
          0.4923633284287948,
          0.3934138996507837,
          0.30302913772087425,
          0.30823011611943857
         ],
         [
          0.30302913772087425,
          0.2219913829992549,
          0.10719391457887303,
          0.394059463699013,
          0.3934138996507837
         ],
         [
          0.30823011611943857,
          0.22900528542596285,
          0.2219913829992549,
          0.30302913772087425
         ],
         [
          0.426736008768721,
          0.4708037031859018,
          0.24655795247138063,
          -0.039686248626373516,
          0.11111978030000198,
          0.22900528542596285,
          0.30823011611943857
         ],
         [
          0.7452948518150172,
          0.6766625980798784,
          0.4923633284287948,
          0.426736008768721,
          0.4708037031859018,
          0.5153566913032424,
          0.6188629557004726
         ],
         [
          0.4733237804907981,
          0.535719486225759,
          0.26337201860221915
         ],
         [
          0.4733237804907981,
          0.5153566913032424,
          0.6188629557004726,
          0.7667443763710994,
          0.7709716448207609,
          0.5899388481604727,
          0.535719486225759
         ],
         [
          0.4733237804907981,
          0.5153566913032424,
          0.4708037031859018,
          0.24655795247138063,
          0.2391898741785718,
          0.26337201860221915
         ],
         [
          0.8831082606536633,
          0.7452948518150172,
          0.6188629557004726,
          0.7667443763710994,
          0.9009315207249979
         ]
        ]
       }
      }
     },
     "a0fffef1cde148669a422c3169b55261": {
      "model_module": "@jupyter-widgets/base",
      "model_module_version": "1.1.0",
      "model_name": "LayoutModel",
      "state": {
       "min_width": "125px"
      }
     },
     "a1382fcdb7164960af605fe8c8dbf45c": {
      "model_module": "bqplot",
      "model_module_version": "^0.4.5",
      "model_name": "ScatterModel",
      "state": {
       "color": {
        "type": null,
        "values": null
       },
       "colors": [
        "steelblue"
       ],
       "display_legend": false,
       "display_names": false,
       "names": {
        "type": null,
        "values": null
       },
       "opacity": {
        "type": null,
        "values": null
       },
       "rotation": {
        "type": null,
        "values": null
       },
       "scales": {
        "x": "IPY_MODEL_70cd145f168741bcaa1f84b502235ba7",
        "y": "IPY_MODEL_73248a716e694cafab9b89bf3825fcf5"
       },
       "scales_metadata": {
        "color": {
         "dimension": "color"
        },
        "opacity": {
         "dimension": "opacity"
        },
        "rotation": {
         "dimension": "rotation"
        },
        "size": {
         "dimension": "size"
        },
        "skew": {
         "dimension": "skew"
        },
        "x": {
         "dimension": "x",
         "orientation": "horizontal"
        },
        "y": {
         "dimension": "y",
         "orientation": "vertical"
        }
       },
       "selected": [],
       "size": {
        "type": null,
        "values": null
       },
       "skew": {
        "type": null,
        "values": null
       },
       "stroke": "black",
       "tooltip": "IPY_MODEL_99575a00246640449d6a743bf97fd125",
       "x": {
        "type": "float",
        "values": [
         0.771320643266746,
         0.6336482349262754,
         0.4985070123025904,
         0.19806286475962398,
         0.16911083656253545,
         0.6853598183677972
        ]
       },
       "y": {
        "type": "float",
        "values": [
         0.0207519493594015,
         0.7488038825386119,
         0.22479664553084766,
         0.7605307121989587,
         0.08833981417401027,
         0.9533933461949365
        ]
       }
      }
     },
     "a16ee8a3b9b945aa9040fb5ca915749b": {
      "model_module": "bqplot",
      "model_module_version": "^0.4.5",
      "model_name": "ScatterModel",
      "state": {
       "color": {
        "type": null,
        "values": null
       },
       "colors": [
        "steelblue"
       ],
       "display_legend": false,
       "display_names": false,
       "names": {
        "type": null,
        "values": null
       },
       "opacity": {
        "type": null,
        "values": null
       },
       "rotation": {
        "type": null,
        "values": null
       },
       "scales": {
        "x": "IPY_MODEL_b3cd8998b9bf470880a236bcd18019f4",
        "y": "IPY_MODEL_017225e217bf452d99d4db37c2fb8b46"
       },
       "scales_metadata": {
        "color": {
         "dimension": "color"
        },
        "opacity": {
         "dimension": "opacity"
        },
        "rotation": {
         "dimension": "rotation"
        },
        "size": {
         "dimension": "size"
        },
        "skew": {
         "dimension": "skew"
        },
        "x": {
         "dimension": "x",
         "orientation": "horizontal"
        },
        "y": {
         "dimension": "y",
         "orientation": "vertical"
        }
       },
       "selected": [],
       "size": {
        "type": null,
        "values": null
       },
       "skew": {
        "type": null,
        "values": null
       },
       "stroke": "black",
       "tooltip": "IPY_MODEL_99575a00246640449d6a743bf97fd125",
       "x": {
        "type": "float",
        "values": [
         0.5434049417909654,
         0.4245175907491331,
         0.004718856190972565,
         0.6707490847267786,
         0.13670658968495297,
         0.891321954312264,
         0.18532821955007506,
         0.21969749262499216,
         0.8116831490893233,
         0.8162247487258399
        ]
       },
       "y": {
        "type": "float",
        "values": [
         0.27836938509379616,
         0.8447761323199037,
         0.12156912078311422,
         0.8258527551050476,
         0.57509332942725,
         0.20920212211718958,
         0.10837689046425514,
         0.9786237847073697,
         0.1719410127325942,
         0.2740737470416992
        ]
       }
      }
     },
     "a17620eec6da4f6182f4905915ada747": {
      "model_module": "bqplot",
      "model_module_version": "^0.4.5",
      "model_name": "AxisModel",
      "state": {
       "label": "Price",
       "orientation": "vertical",
       "scale": "IPY_MODEL_cb9881a909d341efa980031de0e1c243",
       "side": "left",
       "tick_values": {
        "type": null,
        "values": null
       }
      }
     },
     "a197be7957f54be7bc2dbc7a55372794": {
      "model_module": "bqplot",
      "model_module_version": "^0.4.5",
      "model_name": "LinearScaleModel",
      "state": {
       "allow_padding": false,
       "max": 1,
       "min": 0,
       "stabilized": false
      }
     },
     "a1a27b64ed8c479698c46db322abdbd1": {
      "model_module": "@jupyter-widgets/base",
      "model_module_version": "1.1.0",
      "model_name": "LayoutModel",
      "state": {
       "min_width": "125px"
      }
     },
     "a232fac5333f44fb9d09f9674c61e432": {
      "model_module": "bqplot",
      "model_module_version": "^0.4.5",
      "model_name": "LinearScaleModel",
      "state": {
       "stabilized": false
      }
     },
     "a2a9b0308f83474d9f48a49f5cb6bad9": {
      "model_module": "bqplot",
      "model_module_version": "^0.4.5",
      "model_name": "LinearScaleModel",
      "state": {
       "max": 1,
       "min": 0,
       "stabilized": false
      }
     },
     "a2ece61b87414a459160c2517486e0d9": {
      "model_module": "bqplot",
      "model_module_version": "^0.4.5",
      "model_name": "DateScaleModel",
      "state": {}
     },
     "a327e27af3494dd78c41af11668fe9da": {
      "model_module": "bqplot",
      "model_module_version": "^0.4.5",
      "model_name": "AxisModel",
      "state": {
       "scale": "IPY_MODEL_7f802eaef0a247d8a6aa5b144eae4002",
       "side": "bottom",
       "tick_values": {
        "type": null,
        "values": null
       }
      }
     },
     "a382e82c8e114114ad3d833614293ab5": {
      "model_module": "bqplot",
      "model_module_version": "^0.4.5",
      "model_name": "ScatterModel",
      "state": {
       "color": {
        "type": null,
        "values": null
       },
       "colors": [
        "steelblue"
       ],
       "display_legend": false,
       "display_names": false,
       "names": {
        "type": null,
        "values": null
       },
       "opacity": {
        "type": null,
        "values": null
       },
       "rotation": {
        "type": null,
        "values": null
       },
       "scales": {
        "x": "IPY_MODEL_c2b490285d5447da97a347237ef90fee",
        "y": "IPY_MODEL_84c14da8b69743f3bffec17d2cd6457a"
       },
       "scales_metadata": {
        "color": {
         "dimension": "color"
        },
        "opacity": {
         "dimension": "opacity"
        },
        "rotation": {
         "dimension": "rotation"
        },
        "size": {
         "dimension": "size"
        },
        "skew": {
         "dimension": "skew"
        },
        "x": {
         "dimension": "x",
         "orientation": "horizontal"
        },
        "y": {
         "dimension": "y",
         "orientation": "vertical"
        }
       },
       "selected": [],
       "size": {
        "type": null,
        "values": null
       },
       "skew": {
        "type": null,
        "values": null
       },
       "stroke": "black",
       "tooltip": "IPY_MODEL_99575a00246640449d6a743bf97fd125",
       "x": {
        "type": "float",
        "values": [
         0.771320643266746,
         0.6336482349262754,
         0.4985070123025904,
         0.19806286475962398,
         0.16911083656253545,
         0.6853598183677972
        ]
       },
       "y": {
        "type": "float",
        "values": [
         0.0207519493594015,
         0.7488038825386119,
         0.22479664553084766,
         0.7605307121989587,
         0.08833981417401027,
         0.9533933461949365
        ]
       }
      }
     },
     "a5161d4d8c4142e99484cc796444a897": {
      "model_module": "bqplot",
      "model_module_version": "^0.4.5",
      "model_name": "LinesModel",
      "state": {
       "close_path": true,
       "color": {
        "type": null,
        "values": null
       },
       "display_legend": false,
       "fill": "inside",
       "fill_colors": [
        "orange",
        "blue",
        "red"
       ],
       "labels": [
        "C1",
        "C2"
       ],
       "scales": {
        "x": "IPY_MODEL_497d127289604b7f934d8949526bdb1f",
        "y": "IPY_MODEL_1d2ea3f0b12141908b0cb25d0d6813f5"
       },
       "selected": [],
       "stroke_width": 1,
       "tooltip": "IPY_MODEL_99575a00246640449d6a743bf97fd125",
       "x": {
        "type": "object",
        "values": [
         [
          0.43020238893545226,
          0.5272947621552143,
          0.7710761428300101,
          0.5322873436794177,
          0.245700353393237
         ],
         []
        ]
       },
       "y": {
        "type": "object",
        "values": [
         [
          0.5502889056231901,
          0.5706683504567711,
          0.5139650190202324,
          -0.687162249122805,
          0.2974051217284236
         ],
         []
        ]
       }
      }
     },
     "a560c150fe1f484f80240fd8d6c8e353": {
      "model_module": "bqplot",
      "model_module_version": "^0.4.5",
      "model_name": "LinesModel",
      "state": {
       "color": {
        "type": null,
        "values": null
       },
       "colors": [
        "black"
       ],
       "display_legend": false,
       "fill_colors": [],
       "labels": [
        "C1"
       ],
       "scales": {
        "x": "IPY_MODEL_2a6aca56c2d14e61beef14fd6a225877",
        "y": "IPY_MODEL_6aebc1b7d022462ea4ac7b8228d301a8"
       },
       "selected": [],
       "x": {
        "type": "float",
        "values": [
         0.5281075673364094,
         0.28766969405592147
        ]
       },
       "y": {
        "type": "float",
        "values": [
         -0.15153524143845282,
         0.35492950428148073
        ]
       }
      }
     },
     "a5a6a5b7b5434c07a6bc2c6e8c895a37": {
      "model_module": "bqplot",
      "model_module_version": "^0.4.5",
      "model_name": "ScatterModel",
      "state": {
       "color": {
        "type": null,
        "values": null
       },
       "colors": [
        "steelblue"
       ],
       "display_legend": false,
       "names": {
        "type": "<U5",
        "values": [
         "one",
         "two",
         "three",
         "four",
         "five",
         "six"
        ]
       },
       "opacity": {
        "type": null,
        "values": null
       },
       "rotation": {
        "type": null,
        "values": null
       },
       "scales": {
        "x": "IPY_MODEL_fc0ba3b82c7a41bea1691ad328cd88e4",
        "y": "IPY_MODEL_e6f8e3c7d6c94e1ba1109c73b23f7f5d"
       },
       "scales_metadata": {
        "color": {
         "dimension": "color"
        },
        "opacity": {
         "dimension": "opacity"
        },
        "rotation": {
         "dimension": "rotation"
        },
        "size": {
         "dimension": "size"
        },
        "skew": {
         "dimension": "skew"
        },
        "x": {
         "dimension": "x",
         "orientation": "horizontal"
        },
        "y": {
         "dimension": "y",
         "orientation": "vertical"
        }
       },
       "selected": [],
       "size": {
        "type": null,
        "values": null
       },
       "skew": {
        "type": null,
        "values": null
       },
       "stroke": "black",
       "tooltip": "IPY_MODEL_b80ed1e2fbfa45358769dcf805aedaf3",
       "x": {
        "type": "float",
        "values": [
         0.771320643266746,
         0.6336482349262754,
         0.4985070123025904,
         0.19806286475962398,
         0.16911083656253545,
         0.6853598183677972
        ]
       },
       "y": {
        "type": "float",
        "values": [
         0.0207519493594015,
         0.7488038825386119,
         0.22479664553084766,
         0.7605307121989587,
         0.08833981417401027,
         0.9533933461949365
        ]
       }
      }
     },
     "a5db13c1b3404908a913a4f702a4a02b": {
      "model_module": "bqplot",
      "model_module_version": "^0.4.5",
      "model_name": "LinearScaleModel",
      "state": {
       "stabilized": false
      }
     },
     "a5f8f589ebe842c19259c009a2b851be": {
      "model_module": "bqplot",
      "model_module_version": "^0.4.5",
      "model_name": "LinesModel",
      "state": {
       "close_path": true,
       "color": {
        "type": null,
        "values": null
       },
       "display_legend": false,
       "fill": "inside",
       "fill_colors": [
        "orange",
        "blue",
        "red"
       ],
       "labels": [
        "Point-two",
        "Point-three"
       ],
       "scales": {
        "x": "IPY_MODEL_d6a3c5d259944dc599ccefdc2cb3fd8c",
        "y": "IPY_MODEL_60ce797873a84471b5ed2a6a0247d715"
       },
       "selected": [],
       "stroke_width": 1,
       "tooltip": "IPY_MODEL_eeb35ec02e2f4551b88d706ca4d5cce0",
       "x": {
        "type": "float",
        "values": [
         [
          0.4097295846150608,
          0.8520227339335706,
          1.7332689863391435,
          0.4200808874255707
         ],
         [
          0.4097295846150608,
          0.22355450954331613,
          0.4501473823600029,
          0.8520227339335706
         ]
        ]
       },
       "y": {
        "type": "float",
        "values": [
         [
          0.5271223505498778,
          0.41305515312279745,
          0.5796961417400555,
          0.9116146811300156
         ],
         [
          0.5271223505498778,
          0.42271381055996105,
          -0.12426375746363771,
          0.41305515312279745
         ]
        ]
       }
      }
     },
     "a5fd6f827bcd4a3da113a9825aad4345": {
      "model_module": "bqplot",
      "model_module_version": "^0.4.5",
      "model_name": "LinesModel",
      "state": {
       "close_path": true,
       "color": {
        "type": null,
        "values": null
       },
       "display_legend": false,
       "fill": "inside",
       "fill_colors": [
        "orange",
        "blue",
        "red"
       ],
       "labels": [
        "Point-1",
        "Point-2"
       ],
       "scales": {
        "x": "IPY_MODEL_d767659cfd944f90ad67931c509b95da",
        "y": "IPY_MODEL_9276b23c4cb24d2aa71d417ac5f45b9e"
       },
       "selected": [],
       "stroke_width": 1,
       "tooltip": "IPY_MODEL_b80ed1e2fbfa45358769dcf805aedaf3",
       "x": {
        "type": "float",
        "values": [
         [
          0.4097295846150608,
          0.8520227339335706,
          1.7332689863391435,
          0.4200808874255707
         ],
         [
          0.4097295846150608,
          0.22355450954331613,
          0.4501473823600029,
          0.8520227339335706
         ]
        ]
       },
       "y": {
        "type": "float",
        "values": [
         [
          0.5271223505498778,
          0.41305515312279745,
          0.5796961417400555,
          0.9116146811300156
         ],
         [
          0.5271223505498778,
          0.42271381055996105,
          -0.12426375746363771,
          0.41305515312279745
         ]
        ]
       }
      }
     },
     "a5fe22e82a6b4cbf8b46a920cb9cfe84": {
      "model_module": "bqplot",
      "model_module_version": "^0.4.5",
      "model_name": "AxisModel",
      "state": {
       "scale": "IPY_MODEL_c2246c565c634b6f8c14aa8dced052a4",
       "side": "bottom",
       "tick_values": {
        "type": null,
        "values": null
       }
      }
     },
     "a67e6fbde3f2427c9322d9baa7cbeaab": {
      "model_module": "bqplot",
      "model_module_version": "^0.4.5",
      "model_name": "ScatterModel",
      "state": {
       "color": {
        "type": null,
        "values": null
       },
       "colors": [
        "steelblue"
       ],
       "display_legend": false,
       "names": {
        "type": "<U5",
        "values": [
         "one",
         "two",
         "three",
         "four",
         "five",
         "six"
        ]
       },
       "opacity": {
        "type": null,
        "values": null
       },
       "rotation": {
        "type": null,
        "values": null
       },
       "scales": {
        "x": "IPY_MODEL_c7a231f6fba14e3eb7b4db50ab998be0",
        "y": "IPY_MODEL_e2d8c7cf04e34fb58fb8a5c1631bb814"
       },
       "scales_metadata": {
        "color": {
         "dimension": "color"
        },
        "opacity": {
         "dimension": "opacity"
        },
        "rotation": {
         "dimension": "rotation"
        },
        "size": {
         "dimension": "size"
        },
        "skew": {
         "dimension": "skew"
        },
        "x": {
         "dimension": "x",
         "orientation": "horizontal"
        },
        "y": {
         "dimension": "y",
         "orientation": "vertical"
        }
       },
       "selected": [],
       "size": {
        "type": null,
        "values": null
       },
       "skew": {
        "type": null,
        "values": null
       },
       "stroke": "black",
       "tooltip": "IPY_MODEL_b80ed1e2fbfa45358769dcf805aedaf3",
       "x": {
        "type": "float",
        "values": [
         0.771320643266746,
         0.6336482349262754,
         0.4985070123025904,
         0.19806286475962398,
         0.16911083656253545,
         0.6853598183677972
        ]
       },
       "y": {
        "type": "float",
        "values": [
         0.0207519493594015,
         0.7488038825386119,
         0.22479664553084766,
         0.7605307121989587,
         0.08833981417401027,
         0.9533933461949365
        ]
       }
      }
     },
     "a68558f6bf2046eab346053cac6d9f35": {
      "model_module": "@jupyter-widgets/base",
      "model_module_version": "1.1.0",
      "model_name": "LayoutModel",
      "state": {
       "min_width": "125px"
      }
     },
     "a6d8d968246c4bba853f7efc24542783": {
      "model_module": "bqplot",
      "model_module_version": "^0.4.5",
      "model_name": "FigureModel",
      "state": {
       "_dom_classes": [],
       "animation_duration": 1000,
       "axes": [
        "IPY_MODEL_2ab79a34887a48d781da4a3a88047f3b",
        "IPY_MODEL_0f9d84679fca43b3bc443d69affa77dc"
       ],
       "layout": "IPY_MODEL_31763ba9a21f4640916e51c54bf1bc05",
       "marks": [
        "IPY_MODEL_f8b07b8c320346b193616bacd3daf014",
        "IPY_MODEL_c20ef770e6164d2a9fa2ef8d6852c310"
       ],
       "scale_x": "IPY_MODEL_2a8ab5b58043413aa505c5d0972ebc93",
       "scale_y": "IPY_MODEL_0de0c21107eb4dc6b8f31b57e93f126d"
      }
     },
     "a6d9ac21ee254876b36ac232bbc82f10": {
      "model_module": "bqplot",
      "model_module_version": "^0.4.5",
      "model_name": "FigureModel",
      "state": {
       "_dom_classes": [],
       "axes": [
        "IPY_MODEL_c5298b1e1b4a4ac3b0b0a1a2f7f0a5dd",
        "IPY_MODEL_cea46c86230147a7838fdced071713c6"
       ],
       "layout": "IPY_MODEL_db1061048a6a4fd181fda584f1abf19b",
       "marks": [
        "IPY_MODEL_8b03c4a179b3492ea396cd9f6efb520d",
        "IPY_MODEL_8f61bc6fc60447e5bd50190a74360469",
        "IPY_MODEL_4b1f4671d9a5489a95dc0f314613319a",
        "IPY_MODEL_75470da9a906427998f3cc73d1ced3b6",
        "IPY_MODEL_359b4dfefa644de0b69c09f256f46a78",
        "IPY_MODEL_2c73f03965d740a1b7c1cebe35189914",
        "IPY_MODEL_7e2c3590138942149ee834f13fa5d85e",
        "IPY_MODEL_8e7a5d3dedb449b8bd57476132e59dd8",
        "IPY_MODEL_8d0f749af64d44e68eeade3a29d753be",
        "IPY_MODEL_c1079f0619bd4316b81e206baa89a136",
        "IPY_MODEL_69d25c3de7f44dcabadfa029796868b7",
        "IPY_MODEL_3a4eb29cf6a34dbfbd43aea2b8b43417",
        "IPY_MODEL_6c6f7d768c8148b19959ecd38adbbcd6",
        "IPY_MODEL_954cc14f97014dfd96f76cc80685f08c",
        "IPY_MODEL_e880d70a3f9a426aa7ea97eb121b4bd6",
        "IPY_MODEL_30c41772a9a54b1b85fa05a285906d0c"
       ],
       "scale_x": "IPY_MODEL_b9cfa57bef894b67aced0e8cf7df68e9",
       "scale_y": "IPY_MODEL_d1e87c8c5ec540b187aa0acc88c7cec9"
      }
     },
     "a72b586939d547e29aa01ae6a16d10cc": {
      "model_module": "bqplot",
      "model_module_version": "^0.4.5",
      "model_name": "AxisModel",
      "state": {
       "orientation": "vertical",
       "scale": "IPY_MODEL_dab00037f08c40119b937bb5c71edcee",
       "side": "left",
       "tick_values": {
        "type": null,
        "values": null
       }
      }
     },
     "a75a87e5ef2544b1b490690012d58cca": {
      "model_module": "bqplot",
      "model_module_version": "^0.4.5",
      "model_name": "ScatterModel",
      "state": {
       "color": {
        "type": null,
        "values": null
       },
       "colors": [
        "steelblue"
       ],
       "display_legend": false,
       "display_names": false,
       "names": {
        "type": null,
        "values": null
       },
       "opacity": {
        "type": null,
        "values": null
       },
       "rotation": {
        "type": null,
        "values": null
       },
       "scales": {
        "x": "IPY_MODEL_f531654881c94b01b7cb641f099e7c9c",
        "y": "IPY_MODEL_1d9ae1d512254923ba98e31e1e8852f4"
       },
       "scales_metadata": {
        "color": {
         "dimension": "color"
        },
        "opacity": {
         "dimension": "opacity"
        },
        "rotation": {
         "dimension": "rotation"
        },
        "size": {
         "dimension": "size"
        },
        "skew": {
         "dimension": "skew"
        },
        "x": {
         "dimension": "x",
         "orientation": "horizontal"
        },
        "y": {
         "dimension": "y",
         "orientation": "vertical"
        }
       },
       "selected": [],
       "size": {
        "type": null,
        "values": null
       },
       "skew": {
        "type": null,
        "values": null
       },
       "stroke": "black",
       "tooltip": "IPY_MODEL_b80ed1e2fbfa45358769dcf805aedaf3",
       "x": {
        "type": "float",
        "values": [
         0.771320643266746,
         0.6336482349262754,
         0.4985070123025904,
         0.19806286475962398,
         0.16911083656253545,
         0.6853598183677972
        ]
       },
       "y": {
        "type": "float",
        "values": [
         0.0207519493594015,
         0.7488038825386119,
         0.22479664553084766,
         0.7605307121989587,
         0.08833981417401027,
         0.9533933461949365
        ]
       }
      }
     },
     "a764f78614eb4fe4a276c48b93f3d0c6": {
      "model_module": "bqplot",
      "model_module_version": "^0.4.5",
      "model_name": "FigureModel",
      "state": {
       "_dom_classes": [],
       "animation_duration": 1000,
       "axes": [
        "IPY_MODEL_a327e27af3494dd78c41af11668fe9da",
        "IPY_MODEL_8964f543100c416db05adf1a24413c97"
       ],
       "layout": "IPY_MODEL_58a4a3ecf03b454fb2c4e4c18fb9ff2c",
       "marks": [
        "IPY_MODEL_801c47824ffa4182ac74bfab7d245b46",
        "IPY_MODEL_929ae3e124d44e5090c58b84cc751153"
       ],
       "scale_x": "IPY_MODEL_4656289b439642a8bdc923a732c23834",
       "scale_y": "IPY_MODEL_7aeed0087e334ce9964a2dcca8267156"
      }
     },
     "a799c82e74ca4ba8a31b16c8240cc768": {
      "model_module": "bqplot",
      "model_module_version": "^0.4.5",
      "model_name": "LinearScaleModel",
      "state": {
       "allow_padding": false,
       "max": 1,
       "min": 0,
       "stabilized": false
      }
     },
     "a7f5843f2f6f4ec0a6ef1aac93937a1b": {
      "model_module": "bqplot",
      "model_module_version": "^0.4.5",
      "model_name": "FigureModel",
      "state": {
       "_dom_classes": [],
       "animation_duration": 1000,
       "axes": [
        "IPY_MODEL_2de2343a41e74b2386bee804feb888ee",
        "IPY_MODEL_6243a49888af45618fa8cad69c3b5eba"
       ],
       "layout": "IPY_MODEL_b38ce849281843b7b89efc350ac757c3",
       "marks": [
        "IPY_MODEL_e0a25abfc2db42978efc4fe6afba25e9",
        "IPY_MODEL_4ee01045142640f9af45a6bc20f907b1"
       ],
       "scale_x": "IPY_MODEL_2e75ce4e157e4588ac48fa27a5401100",
       "scale_y": "IPY_MODEL_d8468f879ceb4f339c305a2f3280ce1a"
      }
     },
     "a7f6063b45cc45e5899038deceef0329": {
      "model_module": "bqplot",
      "model_module_version": "^0.4.5",
      "model_name": "LinearScaleModel",
      "state": {
       "allow_padding": false,
       "max": 1,
       "min": 0,
       "stabilized": false
      }
     },
     "a86f147911bd4d1894a71f6ed5f4b5cb": {
      "model_module": "bqplot",
      "model_module_version": "^0.4.5",
      "model_name": "AxisModel",
      "state": {
       "orientation": "vertical",
       "scale": "IPY_MODEL_9276b23c4cb24d2aa71d417ac5f45b9e",
       "side": "left",
       "tick_values": {
        "type": null,
        "values": null
       }
      }
     },
     "a89a63abb0f34692910f668035cdf5a8": {
      "model_module": "bqplot",
      "model_module_version": "^0.4.5",
      "model_name": "LinearScaleModel",
      "state": {
       "allow_padding": false,
       "max": 1,
       "min": 0,
       "stabilized": false
      }
     },
     "a92da3fb904d4c13880c197becad00a2": {
      "model_module": "@jupyter-widgets/base",
      "model_module_version": "1.1.0",
      "model_name": "LayoutModel",
      "state": {
       "min_width": "125px"
      }
     },
     "a933ed477b1845fd89b194e9b91136c6": {
      "model_module": "bqplot",
      "model_module_version": "^0.4.5",
      "model_name": "LinesModel",
      "state": {
       "close_path": true,
       "color": {
        "type": null,
        "values": null
       },
       "display_legend": false,
       "fill": "inside",
       "fill_colors": [
        "orange",
        "blue",
        "red"
       ],
       "scales": {
        "x": "IPY_MODEL_20a7105831e54492b8b74a7584deb26a",
        "y": "IPY_MODEL_dab00037f08c40119b937bb5c71edcee"
       },
       "selected": [],
       "stroke_width": 1,
       "tooltip": "IPY_MODEL_99575a00246640449d6a743bf97fd125",
       "x": {
        "type": "float",
        "values": []
       },
       "y": {
        "type": "float",
        "values": []
       }
      }
     },
     "a94f0d31d63746289eb8c07812073fe4": {
      "model_module": "@jupyter-widgets/base",
      "model_module_version": "1.1.0",
      "model_name": "LayoutModel",
      "state": {
       "min_width": "125px"
      }
     },
     "a96bea422cbc4b0099e9b13f05be254a": {
      "model_module": "bqplot",
      "model_module_version": "^0.4.5",
      "model_name": "FigureModel",
      "state": {
       "_dom_classes": [],
       "animation_duration": 1000,
       "axes": [
        "IPY_MODEL_f92208a9e5444a0ea102186316de99d0",
        "IPY_MODEL_776cea8bb230402cb0b6080a45629c79"
       ],
       "layout": "IPY_MODEL_c98b9de8564640e4a506b186142de294",
       "marks": [
        "IPY_MODEL_7d4638450f6448e5baa0aa946ebda828"
       ],
       "scale_x": "IPY_MODEL_1c591e8ac8744f0d8313224d20c9a36b",
       "scale_y": "IPY_MODEL_7caffa0a38904e3e8d7f8c432054749c"
      }
     },
     "a9ec33722dc64f94b4c0acf5266a85f4": {
      "model_module": "@jupyter-widgets/base",
      "model_module_version": "1.1.0",
      "model_name": "LayoutModel",
      "state": {
       "min_width": "125px"
      }
     },
     "aa1226481c87418e9883e8ad07d83ef8": {
      "model_module": "bqplot",
      "model_module_version": "^0.4.5",
      "model_name": "LinearScaleModel",
      "state": {
       "allow_padding": false,
       "max": 1,
       "min": 0,
       "stabilized": false
      }
     },
     "aa70ee0783f74a8e8743c64ecc91303d": {
      "model_module": "bqplot",
      "model_module_version": "^0.4.5",
      "model_name": "LinearScaleModel",
      "state": {
       "allow_padding": false,
       "max": 1,
       "min": 0,
       "stabilized": false
      }
     },
     "aaa09d1214a74a51b894f13512a1d07f": {
      "model_module": "bqplot",
      "model_module_version": "^0.4.5",
      "model_name": "AxisModel",
      "state": {
       "orientation": "vertical",
       "scale": "IPY_MODEL_472a767fa6fa4d98ba3b64c3fcd147d0",
       "side": "left",
       "tick_values": {
        "type": null,
        "values": null
       },
       "visible": false
      }
     },
     "ab00c724f752485ab5ff72f26b1ef0f5": {
      "model_module": "bqplot",
      "model_module_version": "^0.4.5",
      "model_name": "FigureModel",
      "state": {
       "_dom_classes": [],
       "animation_duration": 1000,
       "axes": [
        "IPY_MODEL_9127a0e665784c4f95a05a623bebf46c",
        "IPY_MODEL_4c638dd7953142ceb040ebe0d2577639"
       ],
       "layout": "IPY_MODEL_e6dd5849ba04471fab475ed11d81f1ad",
       "marks": [
        "IPY_MODEL_407621c83e9e4cc58d0863a9ebc87086",
        "IPY_MODEL_f7def19bb3864b64982ef226096f3843"
       ],
       "scale_x": "IPY_MODEL_5d7a0a88c64443da92a89d1aac10cd95",
       "scale_y": "IPY_MODEL_3489a19fea3c4d668f0f575fcce21bc5"
      }
     },
     "ab0b1186be8440139a4b4b1445999ebd": {
      "model_module": "@jupyter-widgets/base",
      "model_module_version": "1.1.0",
      "model_name": "LayoutModel",
      "state": {}
     },
     "ab303b5e9d3e4d23b233107b7446c3f0": {
      "model_module": "@jupyter-widgets/base",
      "model_module_version": "1.1.0",
      "model_name": "LayoutModel",
      "state": {
       "min_width": "125px"
      }
     },
     "ab68bed957e44b659b735c660d7faee1": {
      "model_module": "bqplot",
      "model_module_version": "^0.4.5",
      "model_name": "LinesModel",
      "state": {
       "close_path": true,
       "color": {
        "type": null,
        "values": null
       },
       "display_legend": false,
       "fill": "inside",
       "fill_colors": [
        "orange",
        "blue",
        "red"
       ],
       "labels": [
        "C1",
        "C2",
        "C3",
        "C4",
        "C5",
        "C6",
        "C7",
        "C8",
        "C9",
        "C10",
        "C11",
        "C12",
        "C13",
        "C14",
        "C15",
        "C16",
        "C17",
        "C18",
        "C19",
        "C20",
        "C21",
        "C22",
        "C23",
        "C24",
        "C25",
        "C26",
        "C27",
        "C28",
        "C29",
        "C30",
        "C31",
        "C32",
        "C33",
        "C34",
        "C35",
        "C36",
        "C37",
        "C38",
        "C39",
        "C40",
        "C41",
        "C42",
        "C43",
        "C44",
        "C45",
        "C46",
        "C47",
        "C48",
        "C49",
        "C50",
        "C51",
        "C52",
        "C53",
        "C54",
        "C55",
        "C56",
        "C57",
        "C58",
        "C59",
        "C60",
        "C61",
        "C62",
        "C63",
        "C64",
        "C65",
        "C66",
        "C67",
        "C68",
        "C69",
        "C70",
        "C71",
        "C72",
        "C73",
        "C74",
        "C75",
        "C76",
        "C77",
        "C78",
        "C79",
        "C80",
        "C81",
        "C82",
        "C83",
        "C84",
        "C85",
        "C86",
        "C87",
        "C88",
        "C89"
       ],
       "scales": {
        "x": "IPY_MODEL_e324b04c083f48e2af006ca68f62723f",
        "y": "IPY_MODEL_44004ebbfed24f218331d8e655ad7427"
       },
       "selected": [],
       "tooltip": "IPY_MODEL_99575a00246640449d6a743bf97fd125",
       "x": {
        "type": "object",
        "values": [
         [
          -0.08475255245909073,
          0.05996367321148319,
          0.08479322651163212,
          0.05995157333505969
         ],
         [
          0.8922615808363101,
          0.9484974881532601,
          1.0239771911803062,
          0.9248738133821013
         ],
         [
          0.7826123297616694,
          0.5860766963396512,
          0.5537235568411509,
          0.7436386117536268
         ],
         [
          0.17765909719740863,
          0.21650059679839287,
          0.1566239907650207,
          0.1552441098754926,
          0.1271638945344281
         ],
         [
          0.8958729363977855,
          0.9025114453381056,
          3.7254727548007427,
          1.303489620089487,
          0.936997956036985
         ],
         [
          0.6894979865685824,
          0.6796363156123174,
          0.5407313810836678,
          0.5799455851411179
         ],
         [
          0.1671225413659981,
          0.0808544173481181,
          0.05995157333505969,
          0.08479322651163212,
          0.11362353230857873
         ],
         [
          0.7549312571304825,
          0.8369463236034708,
          0.8922615808363101,
          0.9248738133821013,
          0.8599618954914474,
          0.7616680727815712
         ],
         [
          0.32606350501054976,
          0.3654306665415356,
          0.4858904348533996,
          0.442543263660364,
          0.3664561062146867
         ],
         [
          0.3520617134062079,
          0.44763325809529253,
          0.5095771494014502,
          0.442543263660364,
          0.3664561062146867
         ],
         [
          0.32606350501054976,
          0.3654306665415356,
          0.19839889654454215,
          0.17765909719740863,
          0.21650059679839287,
          0.2695248325435307
         ],
         [
          0.8844761822970881,
          0.936997956036985,
          1.303489620089487,
          0.9728074978146745,
          0.8911378732215105
         ],
         [
          0.2791442374766947,
          0.2229997144601798,
          0.2333529203899401,
          0.28055530091993486,
          0.3319212309666195,
          0.3311547349960527,
          0.29136386167098083
         ],
         [
          0.17648291232270985,
          0.2229997144601798,
          0.2333529203899401,
          0.1671225413659981,
          0.11362353230857873,
          0.1409855013646931
         ],
         [
          0.07095062550864997,
          0.056144536431563516,
          0.05996367321148319,
          0.08479322651163212,
          0.11362353230857873,
          0.1409855013646931
         ],
         [
          0.05655007723232634,
          -0.02324519529831473,
          -0.09305334874494212,
          0.056144536431563516,
          0.07095062550864997
         ],
         [
          0.13667936712823156,
          0.05655007723232634,
          0.07095062550864997,
          0.1409855013646931,
          0.17648291232270985,
          0.1735852467022309
         ],
         [
          0.7447345469272995,
          0.7616680727815712,
          0.8599618954914474,
          0.8518854947309326,
          0.8429504147257009,
          0.7744128193462205
         ],
         [
          0.6709186387390527,
          0.7156947871151625,
          0.7447345469272995,
          0.7616680727815712,
          0.7549312571304825,
          0.7251218009192109
         ],
         [
          0.8757336212707671,
          0.9423394792843589,
          0.9565291478195775,
          0.9014301289553135
         ],
         [
          0.9014301289553135,
          1.3244007962918452,
          1.8325616329645324,
          1.02982616672276,
          0.9565291478195775
         ],
         [
          0.9423394792843589,
          0.9421276079766667,
          1.02982616672276,
          0.9565291478195775
         ],
         [
          0.8757336212707671,
          0.8518854947309326,
          0.8429504147257009,
          0.785830720920853,
          0.801422360248676,
          0.9421276079766667,
          0.9423394792843589
         ],
         [
          0.8757336212707671,
          0.8518854947309326,
          0.8599618954914474,
          0.9248738133821013,
          1.0239771911803062,
          1.3244007962918452,
          0.9014301289553135
         ],
         [
          0.8541317747866634,
          0.7859138685880834,
          0.789965608949285,
          0.8401791254796137
         ],
         [
          0.8401791254796137,
          0.8892737740604402,
          0.8644922753139983,
          0.7298737677352258,
          0.7183722051991415,
          0.789965608949285
         ],
         [
          0.8541317747866634,
          0.8844761822970881,
          0.936997956036985,
          0.8958729363977855,
          0.8892737740604402,
          0.8401791254796137
         ],
         [
          0.7048678804266107,
          0.6631642732553857,
          0.6854600075030313,
          0.7717160432897252,
          0.7728842983270414,
          0.7814164182655865,
          0.7734494984340863,
          0.7169374798008875
         ],
         [
          0.6631642732553857,
          0.5681058918982578,
          0.576620155923006,
          0.619313591747615,
          0.6721261719859388,
          0.6854600075030313
         ],
         [
          0.7717160432897252,
          0.7859138685880834,
          0.789965608949285,
          0.7183722051991415,
          0.6721261719859388,
          0.6854600075030313
         ],
         [
          0.7728842983270414,
          0.8911378732215105,
          0.8844761822970881,
          0.8541317747866634,
          0.7859138685880834,
          0.7717160432897252
         ],
         [
          0.7814164182655865,
          0.9529268869895049,
          0.9728074978146745,
          0.8911378732215105,
          0.7728842983270414
         ],
         [
          0.7169374798008875,
          0.6904495102029342,
          0.6671021048905704,
          0.7251218009192109,
          0.7549312571304825,
          0.8369463236034708,
          0.7734494984340863
         ],
         [
          0.7814164182655865,
          0.9529268869895049,
          0.9484974881532601,
          0.8922615808363101,
          0.8369463236034708,
          0.7734494984340863
         ],
         [
          0.5297607660948835,
          0.5681058918982578,
          0.576620155923006,
          0.5640000795312106,
          0.5086191613034009
         ],
         [
          0.33933317272714597,
          0.28055530091993486,
          0.3319212309666195,
          0.42031053233311066
         ],
         [
          0.33933317272714597,
          0.28055530091993486,
          0.2333529203899401,
          0.1671225413659981,
          0.0808544173481181,
          0.010321678871761025,
          0.34157344385192684,
          0.34221769905311594
         ],
         [
          0.10333495561836159,
          0.04760604640978913,
          -0.04625587478358112,
          -0.39226000203974826,
          -1.7789473680243528,
          -0.09305334874494212,
          -0.02324519529831473,
          -0.0005457419939594588
         ],
         [
          0.19475412499205588,
          0.1735852467022309,
          0.17648291232270985,
          0.2229997144601798,
          0.2791442374766947,
          0.291091225069642,
          0.25105593314521024,
          0.2140083514416948
         ],
         [
          0.5366240358606154,
          0.7048678804266107,
          0.7169374798008875,
          0.6904495102029342,
          0.5428787745126074
         ],
         [
          0.5274599245815067,
          0.5297607660948835,
          0.5681058918982578,
          0.6631642732553857,
          0.7048678804266107,
          0.5366240358606154
         ],
         [
          0.701124545722612,
          0.7036389883440564,
          0.6182403792723945,
          0.6646145197870538
         ],
         [
          0.6646145197870538,
          0.785830720920853,
          0.801422360248676,
          0.7826123297616694,
          0.5860766963396512,
          0.5916533082236889,
          0.6182403792723945
         ],
         [
          0.701124545722612,
          0.7744128193462205,
          0.7447345469272995,
          0.7156947871151625,
          0.7036389883440564
         ],
         [
          0.701124545722612,
          0.7744128193462205,
          0.8429504147257009,
          0.785830720920853,
          0.6646145197870538
         ],
         [
          0.5470067628086378,
          0.5477820176509163,
          0.5553265773930277,
          0.6200078432886269,
          0.6302899336424557,
          0.5636341839045399
         ],
         [
          0.6302899336424557,
          0.6709186387390527,
          0.7251218009192109,
          0.6671021048905704,
          0.6200078432886269
         ],
         [
          0.5553265773930277,
          0.5242973002939889,
          0.5428787745126074,
          0.6904495102029342,
          0.6671021048905704,
          0.6200078432886269
         ],
         [
          0.5470067628086378,
          0.5095771494014502,
          0.44763325809529253,
          0.48942986971702956,
          0.522867036202907,
          0.5477820176509163
         ],
         [
          0.5636341839045399,
          0.5916533082236889,
          0.6182403792723945,
          0.7036389883440564,
          0.7156947871151625,
          0.6709186387390527,
          0.6302899336424557
         ],
         [
          0.5470067628086378,
          0.5095771494014502,
          0.442543263660364,
          0.4858904348533996,
          0.5537235568411509,
          0.5860766963396512,
          0.5916533082236889,
          0.5636341839045399
         ],
         [
          0.5964126211383934,
          0.619313591747615,
          0.576620155923006,
          0.5640000795312106,
          0.5214422698732747
         ],
         [
          0.4972937373557724,
          0.5086191613034009,
          0.5640000795312106,
          0.5214422698732747
         ],
         [
          0.16506419872830538,
          0.17721576125534005,
          0.1695141925197683,
          0.1507729848388969,
          0.12016844646865305,
          0.14036078719250036
         ],
         [
          0.17721576125534005,
          0.2140083514416948,
          0.25105593314521024,
          0.1695141925197683
         ],
         [
          0.12016844646865305,
          -0.0005457419939594588,
          0.10333495561836159,
          0.15053204889866073,
          0.15452095643035138,
          0.1507729848388969
         ],
         [
          0.14036078719250036,
          0.13667936712823156,
          0.05655007723232634,
          -0.02324519529831473,
          -0.0005457419939594588,
          0.12016844646865305
         ],
         [
          0.16506419872830538,
          0.19475412499205588,
          0.2140083514416948,
          0.17721576125534005
         ],
         [
          0.16506419872830538,
          0.19475412499205588,
          0.1735852467022309,
          0.13667936712823156,
          0.14036078719250036
         ],
         [
          0.4605730717345083,
          0.48942986971702956,
          0.522867036202907,
          0.4703456141659566
         ],
         [
          0.30312719685986156,
          0.34597676713144443,
          0.4532308777519833,
          0.4783054380385875,
          0.42827364718111444,
          0.36145620663848865,
          0.35129906105930825,
          0.3099005352519825,
          0.2960651180774041
         ],
         [
          0.4783054380385875,
          0.5242973002939889,
          0.5553265773930277,
          0.5477820176509163,
          0.522867036202907,
          0.4703456141659566,
          0.4375923516362236,
          0.4532308777519833
         ],
         [
          0.34597676713144443,
          0.39033700114917896,
          0.4375923516362236,
          0.4532308777519833
         ],
         [
          0.42827364718111444,
          0.47032905822515186,
          0.5274599245815067,
          0.5366240358606154,
          0.5428787745126074,
          0.5242973002939889,
          0.4783054380385875
         ],
         [
          0.2960651180774041,
          0.15452095643035138,
          0.1507729848388969,
          0.1695141925197683,
          0.25105593314521024,
          0.291091225069642,
          0.3099005352519825
         ],
         [
          0.35129906105930825,
          0.36662579097945813,
          0.29136386167098083,
          0.2791442374766947,
          0.291091225069642,
          0.3099005352519825
         ],
         [
          0.4848580727969724,
          0.5895224762949374,
          0.566546369174203,
          0.4963353142060988
         ],
         [
          0.5895224762949374,
          0.5964126211383934,
          0.619313591747615,
          0.6721261719859388,
          0.7183722051991415,
          0.7298737677352258,
          0.6894979865685824,
          0.5799455851411179,
          0.566546369174203
         ],
         [
          0.4963353142060988,
          0.34221769905311594,
          0.34157344385192684,
          0.5407313810836678,
          0.5799455851411179,
          0.566546369174203
         ],
         [
          0.4848580727969724,
          0.4521549564191969,
          0.4566809954174328,
          0.4972937373557724,
          0.5214422698732747,
          0.5964126211383934,
          0.5895224762949374
         ],
         [
          0.4848580727969724,
          0.4521549564191969,
          0.42031053233311066,
          0.33933317272714597,
          0.34221769905311594,
          0.4963353142060988
         ],
         [
          0.44216205566498235,
          0.38914220788535414,
          0.37894569470583306,
          0.39159600729095523,
          0.4315829045308878
         ],
         [
          0.38914220788535414,
          0.36145620663848865,
          0.35129906105930825,
          0.36662579097945813,
          0.37894569470583306
         ],
         [
          0.39159600729095523,
          0.3311547349960527,
          0.29136386167098083,
          0.36662579097945813,
          0.37894569470583306
         ],
         [
          0.44216205566498235,
          0.47032905822515186,
          0.42827364718111444,
          0.36145620663848865,
          0.38914220788535414
         ],
         [
          0.4315829045308878,
          0.4566809954174328,
          0.4521549564191969,
          0.42031053233311066,
          0.3319212309666195,
          0.3311547349960527,
          0.39159600729095523
         ],
         [
          0.44216205566498235,
          0.47032905822515186,
          0.5274599245815067,
          0.5297607660948835,
          0.5086191613034009,
          0.4972937373557724,
          0.4566809954174328,
          0.4315829045308878
         ],
         [
          0.2963056260082066,
          0.2758845865743852,
          0.290488628167884,
          0.3801911569000378,
          0.3782918917747366,
          0.35181930886404145,
          0.3284976395205213
         ],
         [
          0.3801911569000378,
          0.39033700114917896,
          0.34597676713144443,
          0.30312719685986156,
          0.290488628167884
         ],
         [
          0.3801911569000378,
          0.39033700114917896,
          0.4375923516362236,
          0.4703456141659566,
          0.4605730717345083,
          0.3782918917747366
         ],
         [
          0.35181930886404145,
          0.3520617134062079,
          0.44763325809529253,
          0.48942986971702956,
          0.4605730717345083,
          0.3782918917747366
         ],
         [
          0.3284976395205213,
          0.2695248325435307,
          0.32606350501054976,
          0.3664561062146867,
          0.3520617134062079,
          0.35181930886404145
         ],
         [
          0.25749109839409895,
          0.21267926962347788,
          0.18993022694083767,
          0.15260836072302839,
          0.1601661297401958,
          0.19131887276363133
         ],
         [
          0.15260836072302839,
          0.04760604640978913,
          0.10333495561836159,
          0.15053204889866073,
          0.18993022694083767
         ],
         [
          0.21267926962347788,
          0.2758845865743852,
          0.290488628167884,
          0.30312719685986156,
          0.2960651180774041,
          0.15452095643035138,
          0.15053204889866073,
          0.18993022694083767
         ],
         [
          0.25749109839409895,
          0.2963056260082066,
          0.2758845865743852,
          0.21267926962347788
         ],
         [
          0.1601661297401958,
          -0.04625587478358112,
          0.04760604640978913,
          0.15260836072302839
         ],
         [
          0.19131887276363133,
          0.1566239907650207,
          0.1552441098754926,
          -0.39226000203974826,
          -0.04625587478358112,
          0.1601661297401958
         ],
         [
          0.25749109839409895,
          0.2963056260082066,
          0.3284976395205213,
          0.2695248325435307,
          0.21650059679839287,
          0.1566239907650207,
          0.19131887276363133
         ]
        ]
       },
       "y": {
        "type": "object",
        "values": [
         [
          0.18766431216864535,
          0.21527102341507598,
          0.20046932988757732,
          0.1194803976086593
         ],
         [
          0.6868518466109428,
          0.5094704930413251,
          0.7165458345627486,
          0.7184602714731044
         ],
         [
          1.8922301144088802,
          0.8967030635235811,
          0.9285927594555251,
          9.080515652644772
         ],
         [
          1.0454818206669554,
          0.8964747041044363,
          0.8376082780480106,
          0.8381631508354757,
          0.8886984395238302
         ],
         [
          0.11172678228221458,
          0.11016256913183203,
          0.22706467021620985,
          0.3576663780475622,
          0.19413373564767408
         ],
         [
          0.04860075706480346,
          -0.3581431095198661,
          0.049568673630367696,
          0.09173586509883759
         ],
         [
          0.1722183383016177,
          -0.07901055705348747,
          0.1194803976086593,
          0.20046932988757732,
          0.20520922900059238
         ],
         [
          0.7019195682692153,
          0.6603252712722206,
          0.6868518466109428,
          0.7184602714731044,
          0.8402217323191642,
          0.7344849729730747
         ],
         [
          0.9613190256159994,
          1.1775730858911575,
          0.9549678365504611,
          0.8913140982878146,
          0.8970546364447082
         ],
         [
          0.7484957085719692,
          0.7717007454329576,
          0.8082006063944445,
          0.8913140982878146,
          0.8970546364447082
         ],
         [
          0.9613190256159994,
          1.1775730858911575,
          4.982895881976411,
          1.0454818206669554,
          0.8964747041044363,
          0.9242822386210425
         ],
         [
          0.2771803893538775,
          0.19413373564767408,
          0.3576663780475622,
          0.4119712958896557,
          0.3033889194259604
         ],
         [
          0.3238873693846753,
          0.29148470160424356,
          0.17593003600410642,
          0.14469039984150253,
          0.24990801641289362,
          0.26959722658301405,
          0.3137062708979666
         ],
         [
          0.30394314189934274,
          0.29148470160424356,
          0.17593003600410642,
          0.1722183383016177,
          0.20520922900059238,
          0.27207049270978617
         ],
         [
          0.3085511341833507,
          0.23058334950142662,
          0.21527102341507598,
          0.20046932988757732,
          0.20520922900059238,
          0.27207049270978617
         ],
         [
          0.3431072560593489,
          0.3957228384668044,
          0.39725019822092095,
          0.23058334950142662,
          0.3085511341833507
         ],
         [
          0.34962855420619454,
          0.3431072560593489,
          0.3085511341833507,
          0.27207049270978617,
          0.30394314189934274,
          0.3100059779332992
         ],
         [
          0.8216202073292638,
          0.7344849729730747,
          0.8402217323191642,
          0.8657456469260267,
          0.8732042889870765,
          0.8479268089004451
         ],
         [
          0.7673468451756451,
          0.8144101760630202,
          0.8216202073292638,
          0.7344849729730747,
          0.7019195682692153,
          0.6991242806345185
         ],
         [
          0.8735922478824225,
          0.9696878618956105,
          0.9170251339517272,
          0.880160391287594
         ],
         [
          0.880160391287594,
          0.7604922534623879,
          0.8007297533052902,
          0.9314918412571357,
          0.9170251339517272
         ],
         [
          0.9696878618956105,
          1.001192592188652,
          0.9314918412571357,
          0.9170251339517272
         ],
         [
          0.8735922478824225,
          0.8657456469260267,
          0.8732042889870765,
          1.0859796319724686,
          1.247079160396166,
          1.001192592188652,
          0.9696878618956105
         ],
         [
          0.8735922478824225,
          0.8657456469260267,
          0.8402217323191642,
          0.7184602714731044,
          0.7165458345627486,
          0.7604922534623879,
          0.880160391287594
         ],
         [
          0.24205285536871227,
          0.27599855080035385,
          0.21108377925102728,
          0.2147733196050809
         ],
         [
          0.2147733196050809,
          0.10984248903153968,
          0.08737940042812475,
          0.1011437071253222,
          0.17238634089536212,
          0.21108377925102728
         ],
         [
          0.24205285536871227,
          0.2771803893538775,
          0.19413373564767408,
          0.11172678228221458,
          0.10984248903153968,
          0.2147733196050809
         ],
         [
          0.467726445447311,
          0.3541803069655101,
          0.26824168218044814,
          0.3046083008151902,
          0.30610446546143244,
          0.4785102256398476,
          0.4838743117569385,
          0.48605425325409496
         ],
         [
          0.3541803069655101,
          0.3444875255485018,
          0.29571490100449,
          0.22570350965524086,
          0.23192857621009208,
          0.26824168218044814
         ],
         [
          0.3046083008151902,
          0.27599855080035385,
          0.21108377925102728,
          0.17238634089536212,
          0.23192857621009208,
          0.26824168218044814
         ],
         [
          0.30610446546143244,
          0.3033889194259604,
          0.2771803893538775,
          0.24205285536871227,
          0.27599855080035385,
          0.3046083008151902
         ],
         [
          0.4785102256398476,
          0.42658719064026895,
          0.4119712958896557,
          0.3033889194259604,
          0.30610446546143244
         ],
         [
          0.48605425325409496,
          0.5092483320350483,
          0.6363753904287199,
          0.6991242806345185,
          0.7019195682692153,
          0.6603252712722206,
          0.4838743117569385
         ],
         [
          0.4785102256398476,
          0.42658719064026895,
          0.5094704930413251,
          0.6868518466109428,
          0.6603252712722206,
          0.4838743117569385
         ],
         [
          0.37057517751831476,
          0.3444875255485018,
          0.29571490100449,
          0.29117974126706186,
          0.2821610834105058
         ],
         [
          0.035756405969484026,
          0.14469039984150253,
          0.24990801641289362,
          0.20430592009960438
         ],
         [
          0.035756405969484026,
          0.14469039984150253,
          0.17593003600410642,
          0.1722183383016177,
          -0.07901055705348747,
          -1.0446450770919942,
          0.010092086317784826,
          0.02055230592172938
         ],
         [
          0.5237154036894824,
          0.5971900444033128,
          0.6356589983148537,
          0.688490771421261,
          0.6582838271180349,
          0.39725019822092095,
          0.3957228384668044,
          0.4068044484925284
         ],
         [
          0.37118631712933614,
          0.3100059779332992,
          0.30394314189934274,
          0.29148470160424356,
          0.3238873693846753,
          0.4083810612903426,
          0.40715830347643817,
          0.39144951626646507
         ],
         [
          0.39020272720305593,
          0.467726445447311,
          0.48605425325409496,
          0.5092483320350483,
          0.52873243696096
         ],
         [
          0.3739717115854233,
          0.37057517751831476,
          0.3444875255485018,
          0.3541803069655101,
          0.467726445447311,
          0.39020272720305593
         ],
         [
          0.8927480562390957,
          0.8272332178847879,
          0.8954848047986568,
          0.9228324518455797
         ],
         [
          0.9228324518455797,
          1.0859796319724686,
          1.247079160396166,
          1.8922301144088802,
          0.8967030635235811,
          0.8877704180284818,
          0.8954848047986568
         ],
         [
          0.8927480562390957,
          0.8479268089004451,
          0.8216202073292638,
          0.8144101760630202,
          0.8272332178847879
         ],
         [
          0.8927480562390957,
          0.8479268089004451,
          0.8732042889870765,
          1.0859796319724686,
          0.9228324518455797
         ],
         [
          0.809941745848387,
          0.6679792001868494,
          0.6586657461542196,
          0.6610534418697956,
          0.7729074066766817,
          0.8193116546871726
         ],
         [
          0.7729074066766817,
          0.7673468451756451,
          0.6991242806345185,
          0.6363753904287199,
          0.6610534418697956
         ],
         [
          0.6586657461542196,
          0.5402388654119852,
          0.52873243696096,
          0.5092483320350483,
          0.6363753904287199,
          0.6610534418697956
         ],
         [
          0.809941745848387,
          0.8082006063944445,
          0.7717007454329576,
          0.6882430887844456,
          0.6709070286227734,
          0.6679792001868494
         ],
         [
          0.8193116546871726,
          0.8877704180284818,
          0.8954848047986568,
          0.8272332178847879,
          0.8144101760630202,
          0.7673468451756451,
          0.7729074066766817
         ],
         [
          0.809941745848387,
          0.8082006063944445,
          0.8913140982878146,
          0.9549678365504611,
          0.9285927594555251,
          0.8967030635235811,
          0.8877704180284818,
          0.8193116546871726
         ],
         [
          0.21142628282008555,
          0.22570350965524086,
          0.29571490100449,
          0.29117974126706186,
          0.2523203179283004
         ],
         [
          0.2616604422629263,
          0.2821610834105058,
          0.29117974126706186,
          0.2523203179283004
         ],
         [
          0.3878572880016299,
          0.40128311247164994,
          0.44448474355667533,
          0.4634667433048437,
          0.4261828840691094,
          0.37801791295867226
         ],
         [
          0.40128311247164994,
          0.39144951626646507,
          0.40715830347643817,
          0.44448474355667533
         ],
         [
          0.4261828840691094,
          0.4068044484925284,
          0.5237154036894824,
          0.5048311265942593,
          0.49903492617112294,
          0.4634667433048437
         ],
         [
          0.37801791295867226,
          0.34962855420619454,
          0.3431072560593489,
          0.3957228384668044,
          0.4068044484925284,
          0.4261828840691094
         ],
         [
          0.3878572880016299,
          0.37118631712933614,
          0.39144951626646507,
          0.40128311247164994
         ],
         [
          0.3878572880016299,
          0.37118631712933614,
          0.3100059779332992,
          0.34962855420619454,
          0.37801791295867226
         ],
         [
          0.6773773209751246,
          0.6882430887844456,
          0.6709070286227734,
          0.641313448349839
         ],
         [
          0.5211116223211779,
          0.5352455910193442,
          0.5549061305866,
          0.5377512633017318,
          0.424981944864984,
          0.4210175224151471,
          0.42233558857231257,
          0.43320563724699845,
          0.49627856394354064
         ],
         [
          0.5377512633017318,
          0.5402388654119852,
          0.6586657461542196,
          0.6679792001868494,
          0.6709070286227734,
          0.641313448349839,
          0.6002678912229196,
          0.5549061305866
         ],
         [
          0.5352455910193442,
          0.6579497001675114,
          0.6002678912229196,
          0.5549061305866
         ],
         [
          0.424981944864984,
          0.3797539669887341,
          0.3739717115854233,
          0.39020272720305593,
          0.52873243696096,
          0.5402388654119852,
          0.5377512633017318
         ],
         [
          0.49627856394354064,
          0.49903492617112294,
          0.4634667433048437,
          0.44448474355667533,
          0.40715830347643817,
          0.4083810612903426,
          0.43320563724699845
         ],
         [
          0.42233558857231257,
          0.3331919091805511,
          0.3137062708979666,
          0.3238873693846753,
          0.4083810612903426,
          0.43320563724699845
         ],
         [
          0.192555381191076,
          0.20143039455042958,
          0.12174245284796215,
          0.134416745199609
         ],
         [
          0.20143039455042958,
          0.21142628282008555,
          0.22570350965524086,
          0.23192857621009208,
          0.17238634089536212,
          0.1011437071253222,
          0.04860075706480346,
          0.09173586509883759,
          0.12174245284796215
         ],
         [
          0.134416745199609,
          0.02055230592172938,
          0.010092086317784826,
          0.049568673630367696,
          0.09173586509883759,
          0.12174245284796215
         ],
         [
          0.192555381191076,
          0.22837908151214426,
          0.24686423413890973,
          0.2616604422629263,
          0.2523203179283004,
          0.21142628282008555,
          0.20143039455042958
         ],
         [
          0.192555381191076,
          0.22837908151214426,
          0.20430592009960438,
          0.035756405969484026,
          0.02055230592172938,
          0.134416745199609
         ],
         [
          0.3268257041360094,
          0.34906461030245395,
          0.32452628856155175,
          0.2931696138298367,
          0.28946007935453993
         ],
         [
          0.34906461030245395,
          0.4210175224151471,
          0.42233558857231257,
          0.3331919091805511,
          0.32452628856155175
         ],
         [
          0.2931696138298367,
          0.26959722658301405,
          0.3137062708979666,
          0.3331919091805511,
          0.32452628856155175
         ],
         [
          0.3268257041360094,
          0.3797539669887341,
          0.424981944864984,
          0.4210175224151471,
          0.34906461030245395
         ],
         [
          0.28946007935453993,
          0.24686423413890973,
          0.22837908151214426,
          0.20430592009960438,
          0.24990801641289362,
          0.26959722658301405,
          0.2931696138298367
         ],
         [
          0.3268257041360094,
          0.3797539669887341,
          0.3739717115854233,
          0.37057517751831476,
          0.2821610834105058,
          0.2616604422629263,
          0.24686423413890973,
          0.28946007935453993
         ],
         [
          0.7428207593708316,
          0.572826212514801,
          0.5559849359221616,
          0.6744095866684889,
          0.6853851357929981,
          0.7482526560874929,
          0.7468264727742786
         ],
         [
          0.6744095866684889,
          0.6579497001675114,
          0.5352455910193442,
          0.5211116223211779,
          0.5559849359221616
         ],
         [
          0.6744095866684889,
          0.6579497001675114,
          0.6002678912229196,
          0.641313448349839,
          0.6773773209751246,
          0.6853851357929981
         ],
         [
          0.7482526560874929,
          0.7484957085719692,
          0.7717007454329576,
          0.6882430887844456,
          0.6773773209751246,
          0.6853851357929981
         ],
         [
          0.7468264727742786,
          0.9242822386210425,
          0.9613190256159994,
          0.8970546364447082,
          0.7484957085719692,
          0.7482526560874929
         ],
         [
          0.7486326693949722,
          0.6018216028805788,
          0.5998268867262594,
          0.6285049324381569,
          0.7277908930375016,
          0.7777733040655163
         ],
         [
          0.6285049324381569,
          0.5971900444033128,
          0.5237154036894824,
          0.5048311265942593,
          0.5998268867262594
         ],
         [
          0.6018216028805788,
          0.572826212514801,
          0.5559849359221616,
          0.5211116223211779,
          0.49627856394354064,
          0.49903492617112294,
          0.5048311265942593,
          0.5998268867262594
         ],
         [
          0.7486326693949722,
          0.7428207593708316,
          0.572826212514801,
          0.6018216028805788
         ],
         [
          0.7277908930375016,
          0.6356589983148537,
          0.5971900444033128,
          0.6285049324381569
         ],
         [
          0.7777733040655163,
          0.8376082780480106,
          0.8381631508354757,
          0.688490771421261,
          0.6356589983148537,
          0.7277908930375016
         ],
         [
          0.7486326693949722,
          0.7428207593708316,
          0.7468264727742786,
          0.9242822386210425,
          0.8964747041044363,
          0.8376082780480106,
          0.7777733040655163
         ]
        ]
       }
      }
     },
     "abee6e2b2caa4769b78f09c175bd96c5": {
      "model_module": "bqplot",
      "model_module_version": "^0.4.5",
      "model_name": "LinearScaleModel",
      "state": {
       "stabilized": false
      }
     },
     "ac0c2d2948994c418a0d411489a5308b": {
      "model_module": "bqplot",
      "model_module_version": "^0.4.5",
      "model_name": "LinearScaleModel",
      "state": {
       "allow_padding": false,
       "max": 1,
       "min": 0,
       "stabilized": false
      }
     },
     "ac1b26bd12c643a7be67fb8e9cef06c8": {
      "model_module": "bqplot",
      "model_module_version": "^0.4.5",
      "model_name": "AxisModel",
      "state": {
       "scale": "IPY_MODEL_65585e5739fa4633927ab08b97eaef2e",
       "side": "bottom",
       "tick_values": {
        "type": null,
        "values": null
       }
      }
     },
     "ac8b11b280bc4770ab9d85ff10dfd2e3": {
      "model_module": "bqplot",
      "model_module_version": "^0.4.5",
      "model_name": "AxisModel",
      "state": {
       "orientation": "vertical",
       "scale": "IPY_MODEL_15031a441f364d3cb86f689c53ec2d37",
       "side": "left",
       "tick_values": {
        "type": null,
        "values": null
       }
      }
     },
     "acba74f10928469bb5ce0c1c28a67671": {
      "model_module": "bqplot",
      "model_module_version": "^0.4.5",
      "model_name": "LinesModel",
      "state": {
       "color": {
        "type": null,
        "values": null
       },
       "colors": [
        "black"
       ],
       "display_legend": false,
       "fill_colors": [],
       "labels": [
        "C1"
       ],
       "scales": {
        "x": "IPY_MODEL_8c5111a2e1e644708b9240a4d3d4d5ce",
        "y": "IPY_MODEL_1d74b54d6d234f3f916c600e47dbf8c7"
       },
       "selected": [],
       "x": {
        "type": "float",
        "values": [
         0.4501473823600029,
         0.8520227339335706
        ]
       },
       "y": {
        "type": "float",
        "values": [
         -0.12426375746363771,
         0.41305515312279745
        ]
       }
      }
     },
     "acdf4a2bce8d4c6c955a6c01561fcea6": {
      "model_module": "bqplot",
      "model_module_version": "^0.4.5",
      "model_name": "LinearScaleModel",
      "state": {
       "stabilized": false
      }
     },
     "ad28f1d8a7804e6397c9020cc178a807": {
      "model_module": "@jupyter-widgets/base",
      "model_module_version": "1.1.0",
      "model_name": "LayoutModel",
      "state": {
       "min_width": "125px"
      }
     },
     "ad724e803c5e4c26b90972a26afa6fc2": {
      "model_module": "bqplot",
      "model_module_version": "^0.4.5",
      "model_name": "LinearScaleModel",
      "state": {
       "allow_padding": false,
       "max": 1,
       "min": 0,
       "stabilized": false
      }
     },
     "ae091349741c494497058af3428b80c1": {
      "model_module": "bqplot",
      "model_module_version": "^0.4.5",
      "model_name": "ColorScaleModel",
      "state": {
       "_model_name": "ColorScaleModel",
       "_view_name": "ColorScale",
       "colors": [
        "Red",
        "Green"
       ],
       "extrapolation": "constant",
       "mid": null,
       "scale_type": "linear",
       "scheme": "RdYlGn"
      }
     },
     "af2203a6abeb4491a4da414eb9be3e11": {
      "model_module": "bqplot",
      "model_module_version": "^0.4.5",
      "model_name": "LinesModel",
      "state": {
       "close_path": true,
       "color": {
        "type": null,
        "values": null
       },
       "display_legend": false,
       "fill": "inside",
       "fill_colors": [
        "orange",
        "blue",
        "red"
       ],
       "labels": [
        "C1",
        "C2"
       ],
       "scales": {
        "x": "IPY_MODEL_91e4c6360a9a46a08e2986e0bc397917",
        "y": "IPY_MODEL_8fece8d5440c4d7897813f36d1e4d379"
       },
       "selected": [],
       "stroke_width": 1,
       "tooltip": "IPY_MODEL_cc31526312594ad68b5bd650904944ea",
       "x": {
        "type": "float",
        "values": [
         [
          0.4097295846150608,
          0.8520227339335706,
          1.7332689863391435,
          0.4200808874255707
         ],
         [
          0.4097295846150608,
          0.22355450954331613,
          0.4501473823600029,
          0.8520227339335706
         ]
        ]
       },
       "y": {
        "type": "float",
        "values": [
         [
          0.5271223505498778,
          0.41305515312279745,
          0.5796961417400555,
          0.9116146811300156
         ],
         [
          0.5271223505498778,
          0.42271381055996105,
          -0.12426375746363771,
          0.41305515312279745
         ]
        ]
       }
      }
     },
     "af70dbd9db9f4f7a90430e8c51d00605": {
      "model_module": "@jupyter-widgets/base",
      "model_module_version": "1.1.0",
      "model_name": "LayoutModel",
      "state": {
       "min_width": "125px"
      }
     },
     "af83b57d066d49cb8245c4dd5933d890": {
      "model_module": "@jupyter-widgets/base",
      "model_module_version": "1.1.0",
      "model_name": "LayoutModel",
      "state": {
       "min_width": "125px"
      }
     },
     "afcdea7f468b45eca3cccddedda752af": {
      "model_module": "bqplot",
      "model_module_version": "^0.4.5",
      "model_name": "LinesModel",
      "state": {
       "close_path": true,
       "color": {
        "type": null,
        "values": null
       },
       "display_legend": false,
       "fill": "inside",
       "fill_colors": [
        "orange",
        "blue",
        "red"
       ],
       "labels": [
        "C1",
        "C2"
       ],
       "scales": {
        "x": "IPY_MODEL_ff7e94b4594346e5aebce2e0691ed0dc",
        "y": "IPY_MODEL_56effa79342a48d4897bcd7d4dcde0d4"
       },
       "selected": [],
       "stroke_width": 1,
       "tooltip": "IPY_MODEL_99575a00246640449d6a743bf97fd125",
       "x": {
        "type": "float",
        "values": [
         [
          0.4097295846150608,
          0.8520227339335706,
          1.7332689863391435,
          0.4200808874255707
         ],
         [
          0.4097295846150608,
          0.22355450954331613,
          0.4501473823600029,
          0.8520227339335706
         ]
        ]
       },
       "y": {
        "type": "float",
        "values": [
         [
          0.5271223505498778,
          0.41305515312279745,
          0.5796961417400555,
          0.9116146811300156
         ],
         [
          0.5271223505498778,
          0.42271381055996105,
          -0.12426375746363771,
          0.41305515312279745
         ]
        ]
       }
      }
     },
     "b00981797b3647b0b41d34204858d038": {
      "model_module": "bqplot",
      "model_module_version": "^0.4.5",
      "model_name": "LinearScaleModel",
      "state": {
       "allow_padding": false,
       "max": 1,
       "min": 0,
       "stabilized": false
      }
     },
     "b02d51b6709b48719d2f6402551ed0c7": {
      "model_module": "bqplot",
      "model_module_version": "^0.4.5",
      "model_name": "LinearScaleModel",
      "state": {
       "allow_padding": false,
       "max": 1,
       "min": 0,
       "stabilized": false
      }
     },
     "b08fb6538a0d489194d69832418417dd": {
      "model_module": "bqplot",
      "model_module_version": "^0.4.5",
      "model_name": "LinearScaleModel",
      "state": {
       "allow_padding": false,
       "max": 1,
       "min": 0,
       "stabilized": false
      }
     },
     "b0cbd81950ee4ff78be29122cdfb61bc": {
      "model_module": "bqplot",
      "model_module_version": "^0.4.5",
      "model_name": "LinesModel",
      "state": {
       "close_path": true,
       "color": {
        "type": null,
        "values": null
       },
       "display_legend": false,
       "fill": "inside",
       "fill_colors": [
        "orange",
        "blue",
        "red"
       ],
       "labels": [
        "C1",
        "C2",
        "C3"
       ],
       "scales": {
        "x": "IPY_MODEL_e72d18e12d4b4d3fa35dd98ef4e50a01",
        "y": "IPY_MODEL_095237bd54464b10adbc21c072027893"
       },
       "selected": [],
       "stroke_width": 1,
       "tooltip": "IPY_MODEL_99575a00246640449d6a743bf97fd125",
       "x": {
        "type": "object",
        "values": [
         [],
         [
          0.4097295846150608,
          0.8520227339335706,
          1.7332689863391435,
          0.4200808874255707
         ],
         [
          0.4097295846150608,
          0.22355450954331613,
          0.4501473823600029,
          0.8520227339335706
         ]
        ]
       },
       "y": {
        "type": "object",
        "values": [
         [],
         [
          0.5271223505498778,
          0.41305515312279745,
          0.5796961417400555,
          0.9116146811300156
         ],
         [
          0.5271223505498778,
          0.42271381055996105,
          -0.12426375746363771,
          0.41305515312279745
         ]
        ]
       }
      }
     },
     "b0ee70068f394d6484f9564bdda725bd": {
      "model_module": "bqplot",
      "model_module_version": "^0.4.5",
      "model_name": "LinearScaleModel",
      "state": {
       "allow_padding": false,
       "max": 1,
       "min": 0,
       "stabilized": false
      }
     },
     "b0f4942e9f6442a2a201bf30e2e24963": {
      "model_module": "bqplot",
      "model_module_version": "^0.4.5",
      "model_name": "AxisModel",
      "state": {
       "scale": "IPY_MODEL_ed8c5797db2a46bbadf30595f6418cc8",
       "side": "bottom",
       "tick_values": {
        "type": null,
        "values": null
       },
       "visible": false
      }
     },
     "b1401b771a364172aaa94861010379a9": {
      "model_module": "bqplot",
      "model_module_version": "^0.4.5",
      "model_name": "LinearScaleModel",
      "state": {
       "allow_padding": false,
       "max": 1,
       "min": 0,
       "stabilized": false
      }
     },
     "b164622ca9574249a996f77e469f734e": {
      "model_module": "bqplot",
      "model_module_version": "^0.4.5",
      "model_name": "FigureModel",
      "state": {
       "_dom_classes": [],
       "animation_duration": 1000,
       "axes": [
        "IPY_MODEL_3a0bf699f10a4d78b13fb5853ac41f51",
        "IPY_MODEL_89138e473c1d42febda08ce073a00589"
       ],
       "layout": "IPY_MODEL_8a59c575db6c4e5d8ebe0b27ca8dfa04",
       "marks": [
        "IPY_MODEL_256ee9eeb8bd40bc94f3af1f419fd4aa",
        "IPY_MODEL_05f37cca51b94661800a4b46d55b36f2"
       ],
       "scale_x": "IPY_MODEL_621f480a16dc4fc1aa9ee9f75c852882",
       "scale_y": "IPY_MODEL_49b9f52d6a79433daa9d17ebde74e35e"
      }
     },
     "b1c8cc34fd54494fb91e12b10a5ed578": {
      "model_module": "bqplot",
      "model_module_version": "^0.4.5",
      "model_name": "LinearScaleModel",
      "state": {
       "stabilized": false
      }
     },
     "b2301de5bc084751994ee1f0f1619388": {
      "model_module": "bqplot",
      "model_module_version": "^0.4.5",
      "model_name": "LinesModel",
      "state": {
       "close_path": true,
       "color": {
        "type": null,
        "values": null
       },
       "display_legend": false,
       "fill": "inside",
       "fill_colors": [
        "orange",
        "blue",
        "red"
       ],
       "labels": [
        "C1",
        "C2"
       ],
       "scales": {
        "x": "IPY_MODEL_2fcc034ce92f407e946937aed98e17c4",
        "y": "IPY_MODEL_953b3f6fa1f94be6b41d26f0331e32af"
       },
       "selected": [],
       "stroke_width": 1,
       "tooltip": "IPY_MODEL_99575a00246640449d6a743bf97fd125",
       "x": {
        "type": "object",
        "values": [
         [
          4,
          5,
          6,
          6,
          5,
          4,
          3,
          1
         ],
         [
          1,
          2,
          3
         ]
        ]
       },
       "y": {
        "type": "object",
        "values": [
         [
          1,
          1.1,
          1.2,
          2.3,
          2.2,
          2.7,
          1,
          -2
         ],
         [
          3,
          2,
          3
         ]
        ]
       }
      }
     },
     "b2524fd39db94eed95d6c905c845700d": {
      "model_module": "bqplot",
      "model_module_version": "^0.4.5",
      "model_name": "LinearScaleModel",
      "state": {
       "allow_padding": false,
       "max": 1,
       "min": 0,
       "stabilized": false
      }
     },
     "b294875667bc4e3f9477e630cafd7027": {
      "model_module": "bqplot",
      "model_module_version": "^0.4.5",
      "model_name": "LinearScaleModel",
      "state": {
       "allow_padding": false,
       "max": 1,
       "min": 0,
       "stabilized": false
      }
     },
     "b34564cde95148ed93665f7483e583f8": {
      "model_module": "@jupyter-widgets/base",
      "model_module_version": "1.1.0",
      "model_name": "LayoutModel",
      "state": {
       "min_width": "125px"
      }
     },
     "b357422a17984cb2b085fcd26a164044": {
      "model_module": "bqplot",
      "model_module_version": "^0.4.5",
      "model_name": "AxisModel",
      "state": {
       "orientation": "vertical",
       "scale": "IPY_MODEL_51c81942eeac46c88df2d8543613ee5a",
       "side": "left",
       "tick_values": {
        "type": null,
        "values": null
       }
      }
     },
     "b38ce849281843b7b89efc350ac757c3": {
      "model_module": "@jupyter-widgets/base",
      "model_module_version": "1.1.0",
      "model_name": "LayoutModel",
      "state": {
       "min_width": "125px"
      }
     },
     "b3cd8998b9bf470880a236bcd18019f4": {
      "model_module": "bqplot",
      "model_module_version": "^0.4.5",
      "model_name": "LinearScaleModel",
      "state": {
       "max": 1,
       "min": 0,
       "stabilized": false
      }
     },
     "b3cff62bf448489dbade659c89a8414d": {
      "model_module": "@jupyter-widgets/base",
      "model_module_version": "1.1.0",
      "model_name": "LayoutModel",
      "state": {
       "min_width": "125px"
      }
     },
     "b46686ed780841d88df220bb458bc2cb": {
      "model_module": "bqplot",
      "model_module_version": "^0.4.5",
      "model_name": "ToolbarModel",
      "state": {
       "figure": "IPY_MODEL_e1f27e74f64b41c88931e8c9b8cd0f9d",
       "layout": "IPY_MODEL_c9f4da2c44694703bf7d55531b29b339"
      }
     },
     "b46f5e06e91f49bcb909020f6302c5e8": {
      "model_module": "bqplot",
      "model_module_version": "^0.4.5",
      "model_name": "LinearScaleModel",
      "state": {
       "allow_padding": false,
       "max": 1,
       "min": 0,
       "stabilized": false
      }
     },
     "b4f7044516db4a63979b243334a6a79a": {
      "model_module": "bqplot",
      "model_module_version": "^0.4.5",
      "model_name": "LinearScaleModel",
      "state": {
       "allow_padding": false,
       "max": 1,
       "min": 0,
       "stabilized": false
      }
     },
     "b50daaba70f04418935494498fcbe2b3": {
      "model_module": "bqplot",
      "model_module_version": "^0.4.5",
      "model_name": "LinearScaleModel",
      "state": {
       "stabilized": false
      }
     },
     "b536a45d7a204a1c8c8c5c90e24ce7df": {
      "model_module": "bqplot",
      "model_module_version": "^0.4.5",
      "model_name": "LinearScaleModel",
      "state": {
       "stabilized": false
      }
     },
     "b5d62feea2db42cdbff699c0999d01a9": {
      "model_module": "@jupyter-widgets/base",
      "model_module_version": "1.1.0",
      "model_name": "LayoutModel",
      "state": {
       "min_width": "125px"
      }
     },
     "b653027df43d4cf5a3f206931c34af87": {
      "model_module": "bqplot",
      "model_module_version": "^0.4.5",
      "model_name": "LinearScaleModel",
      "state": {
       "allow_padding": false,
       "max": 1,
       "min": 0,
       "stabilized": false
      }
     },
     "b79c39b67dfc4a6192c19f8c51c68466": {
      "model_module": "bqplot",
      "model_module_version": "^0.4.5",
      "model_name": "LinearScaleModel",
      "state": {
       "allow_padding": false,
       "max": 1,
       "min": 0,
       "stabilized": false
      }
     },
     "b7b89cb84225403fa6b6d927f9194879": {
      "model_module": "bqplot",
      "model_module_version": "^0.4.5",
      "model_name": "LinesModel",
      "state": {
       "color": {
        "type": null,
        "values": null
       },
       "colors": [
        "black"
       ],
       "display_legend": false,
       "fill_colors": [],
       "labels": [
        "C1"
       ],
       "scales": {
        "x": "IPY_MODEL_8c5111a2e1e644708b9240a4d3d4d5ce",
        "y": "IPY_MODEL_1d74b54d6d234f3f916c600e47dbf8c7"
       },
       "selected": [],
       "x": {
        "type": "float",
        "values": [
         0.4501473823600029,
         0.22355450954331607
        ]
       },
       "y": {
        "type": "float",
        "values": [
         -0.12426375746363771,
         0.4227138105599612
        ]
       }
      }
     },
     "b7df7f539a904c049d96f4c678f527f3": {
      "model_module": "bqplot",
      "model_module_version": "^0.4.5",
      "model_name": "LinesModel",
      "state": {
       "color": {
        "type": null,
        "values": null
       },
       "colors": [
        "black"
       ],
       "display_legend": false,
       "fill_colors": [],
       "labels": [
        "C1"
       ],
       "scales": {
        "x": "IPY_MODEL_2a6aca56c2d14e61beef14fd6a225877",
        "y": "IPY_MODEL_6aebc1b7d022462ea4ac7b8228d301a8"
       },
       "selected": [],
       "x": {
        "type": "float",
        "values": [
         0.28766969405592147,
         0.11120787378448214
        ]
       },
       "y": {
        "type": "float",
        "values": [
         0.35492950428148073,
         0.3365460478735013
        ]
       }
      }
     },
     "b80d32f803a147eb8bcd48b5af881385": {
      "model_module": "bqplot",
      "model_module_version": "^0.4.5",
      "model_name": "AxisModel",
      "state": {
       "scale": "IPY_MODEL_1b9b1d681a2e42ffb517cbafccdd8f08",
       "side": "bottom",
       "tick_values": {
        "type": null,
        "values": null
       },
       "visible": false
      }
     },
     "b80ed1e2fbfa45358769dcf805aedaf3": {
      "model_module": "bqplot",
      "model_module_version": "^0.4.5",
      "model_name": "TooltipModel",
      "state": {
       "fields": [
        "index",
        "name"
       ],
       "formats": [
        ""
       ],
       "layout": "IPY_MODEL_925f1a69cb574dc3bb58e7dc37343303"
      }
     },
     "b82eef1992d14db28fc0db2857705715": {
      "model_module": "@jupyter-widgets/controls",
      "model_module_version": "1.4.0",
      "model_name": "VBoxModel",
      "state": {
       "children": [
        "IPY_MODEL_946bd3bf860f4130aad50f8b547fd7e0",
        "IPY_MODEL_d8dc6e4aed144be1acbdfdfe55ac27b8"
       ],
       "layout": "IPY_MODEL_558a7676ea29428485cf89d08bea8abc"
      }
     },
     "b83ba4889ae74161ab06cc9685474841": {
      "model_module": "bqplot",
      "model_module_version": "^0.4.5",
      "model_name": "AxisModel",
      "state": {
       "orientation": "vertical",
       "scale": "IPY_MODEL_8e921276077a408b9dcdf25b02da2249",
       "side": "left",
       "tick_values": {
        "type": null,
        "values": null
       }
      }
     },
     "b9cfa57bef894b67aced0e8cf7df68e9": {
      "model_module": "bqplot",
      "model_module_version": "^0.4.5",
      "model_name": "LinearScaleModel",
      "state": {
       "allow_padding": false,
       "max": 1,
       "min": 0,
       "stabilized": false
      }
     },
     "ba02e3e6817e4576ac4580e42528de41": {
      "model_module": "bqplot",
      "model_module_version": "^0.4.5",
      "model_name": "LinearScaleModel",
      "state": {
       "stabilized": false
      }
     },
     "ba98bbfb8e084dfe8036ce0f1d8ce7f6": {
      "model_module": "@jupyter-widgets/base",
      "model_module_version": "1.1.0",
      "model_name": "LayoutModel",
      "state": {
       "min_width": "125px"
      }
     },
     "ba9a162dc40340358eb13229a3a79680": {
      "model_module": "bqplot",
      "model_module_version": "^0.4.5",
      "model_name": "LinearScaleModel",
      "state": {
       "stabilized": false
      }
     },
     "baf1a4dfbc714f7a8c8c2119a3739959": {
      "model_module": "bqplot",
      "model_module_version": "^0.4.5",
      "model_name": "LinesModel",
      "state": {
       "color": {
        "type": null,
        "values": null
       },
       "colors": [
        "black"
       ],
       "display_legend": false,
       "fill_colors": [],
       "labels": [
        "C1"
       ],
       "scales": {
        "x": "IPY_MODEL_b50daaba70f04418935494498fcbe2b3",
        "y": "IPY_MODEL_27e68e618c6a452a9dc5120635c7b7f1"
       },
       "selected": [],
       "x": {
        "type": "float",
        "values": [
         0.22738068359095126,
         0.8368019646982289
        ]
       },
       "y": {
        "type": "float",
        "values": [
         0.7667443763710994,
         0.2219913829992549
        ]
       }
      }
     },
     "bb25f5a7392e4b7782418e325e171ee3": {
      "model_module": "@jupyter-widgets/base",
      "model_module_version": "1.1.0",
      "model_name": "LayoutModel",
      "state": {
       "min_width": "125px"
      }
     },
     "bb2e62e397874560994b28c5fe7a9ebd": {
      "model_module": "bqplot",
      "model_module_version": "^0.4.5",
      "model_name": "AxisModel",
      "state": {
       "orientation": "vertical",
       "scale": "IPY_MODEL_9aa6736a6adf47c6890a8e559d1df431",
       "side": "left",
       "tick_values": {
        "type": null,
        "values": null
       },
       "visible": false
      }
     },
     "bb9ac23af12a4284bc6c19db4ad40b39": {
      "model_module": "bqplot",
      "model_module_version": "^0.4.5",
      "model_name": "AxisModel",
      "state": {
       "scale": "IPY_MODEL_625fffbed60943e1a70faebf9af85a3d",
       "side": "bottom",
       "tick_values": {
        "type": null,
        "values": null
       },
       "visible": false
      }
     },
     "bc0ed0eaa40b498d8abfe142bfceff25": {
      "model_module": "bqplot",
      "model_module_version": "^0.4.5",
      "model_name": "AxisModel",
      "state": {
       "scale": "IPY_MODEL_eca108f95094481e857270290a6182d6",
       "side": "bottom",
       "tick_values": {
        "type": null,
        "values": null
       },
       "visible": false
      }
     },
     "bc789daa181c4d10a540b5d4b5bc50a6": {
      "model_module": "bqplot",
      "model_module_version": "^0.4.5",
      "model_name": "LinearScaleModel",
      "state": {
       "allow_padding": false,
       "max": 1,
       "min": 0,
       "stabilized": false
      }
     },
     "bce8b7cff38b4a22af9a3e0437159db3": {
      "model_module": "bqplot",
      "model_module_version": "^0.4.5",
      "model_name": "FigureModel",
      "state": {
       "_dom_classes": [],
       "animation_duration": 1000,
       "axes": [
        "IPY_MODEL_ee188bd374014cdfabab6f50960935b1",
        "IPY_MODEL_329cdef1ca444ffa9e1f413bf9e7e8b5"
       ],
       "layout": "IPY_MODEL_77197f7ecdf8412b937c1bd6d0cafa04",
       "marks": [
        "IPY_MODEL_6a217f3e5c2542878d7f3adb317aaa72"
       ],
       "scale_x": "IPY_MODEL_be54a32a3cf943b59ac7a3930038df9c",
       "scale_y": "IPY_MODEL_b02d51b6709b48719d2f6402551ed0c7"
      }
     },
     "bcfe726e652e44579bcc26b1621c421f": {
      "model_module": "bqplot",
      "model_module_version": "^0.4.5",
      "model_name": "TooltipModel",
      "state": {
       "fields": [
        "index"
       ],
       "formats": [
        ""
       ],
       "layout": "IPY_MODEL_6565df24b116416888b3c2417c7b65b2"
      }
     },
     "bd7b501c484140b7aaff976156d5be06": {
      "model_module": "bqplot",
      "model_module_version": "^0.4.5",
      "model_name": "LinearScaleModel",
      "state": {
       "stabilized": false
      }
     },
     "bde7d4d796e0443896df91f019bf80ad": {
      "model_module": "bqplot",
      "model_module_version": "^0.4.5",
      "model_name": "LinearScaleModel",
      "state": {
       "stabilized": false
      }
     },
     "be2ab7e70dbd4a66ba10fbf3d6ad5a51": {
      "model_module": "bqplot",
      "model_module_version": "^0.4.5",
      "model_name": "LinearScaleModel",
      "state": {
       "allow_padding": false,
       "max": 1,
       "min": 0,
       "stabilized": false
      }
     },
     "be2dc756f94f48a59923b220b49819f7": {
      "model_module": "bqplot",
      "model_module_version": "^0.4.5",
      "model_name": "LinesModel",
      "state": {
       "close_path": true,
       "color": {
        "type": null,
        "values": null
       },
       "display_legend": false,
       "fill": "inside",
       "fill_colors": [
        "orange",
        "blue",
        "red"
       ],
       "labels": [
        "C1",
        "C2"
       ],
       "scales": {
        "x": "IPY_MODEL_ba9a162dc40340358eb13229a3a79680",
        "y": "IPY_MODEL_919347462c1e4ffeb54daf3ccb8bc289"
       },
       "selected": [],
       "stroke_width": 1,
       "tooltip": "IPY_MODEL_99575a00246640449d6a743bf97fd125",
       "x": {
        "type": "float",
        "values": [
         [
          0.4097295846150608,
          0.8520227339335706,
          1.7332689863391435,
          0.4200808874255707
         ],
         [
          0.4097295846150608,
          0.22355450954331613,
          0.4501473823600029,
          0.8520227339335706
         ]
        ]
       },
       "y": {
        "type": "float",
        "values": [
         [
          0.5271223505498778,
          0.41305515312279745,
          0.5796961417400555,
          0.9116146811300156
         ],
         [
          0.5271223505498778,
          0.42271381055996105,
          -0.12426375746363771,
          0.41305515312279745
         ]
        ]
       }
      }
     },
     "be54a32a3cf943b59ac7a3930038df9c": {
      "model_module": "bqplot",
      "model_module_version": "^0.4.5",
      "model_name": "LinearScaleModel",
      "state": {
       "allow_padding": false,
       "max": 1,
       "min": 0,
       "stabilized": false
      }
     },
     "bebd1e4f6e9d4c5f8694e69d57fbffaf": {
      "model_module": "@jupyter-widgets/base",
      "model_module_version": "1.1.0",
      "model_name": "LayoutModel",
      "state": {
       "min_width": "125px"
      }
     },
     "bee18f9cd3734eaebf301f68907832ab": {
      "model_module": "bqplot",
      "model_module_version": "^0.4.5",
      "model_name": "LinearScaleModel",
      "state": {
       "stabilized": false
      }
     },
     "bf21b2e1b1ca4026b41000420519f1f1": {
      "model_module": "@jupyter-widgets/base",
      "model_module_version": "1.1.0",
      "model_name": "LayoutModel",
      "state": {
       "min_width": "125px"
      }
     },
     "bfb2a889e3ff485a928e4f7e4a707b46": {
      "model_module": "bqplot",
      "model_module_version": "^0.4.5",
      "model_name": "AxisModel",
      "state": {
       "scale": "IPY_MODEL_18b2b58e43264000b65d2d88ec8159ca",
       "side": "bottom",
       "tick_values": {
        "type": null,
        "values": null
       },
       "visible": false
      }
     },
     "bfb6fd6b741243049e8c2728da30f3d2": {
      "model_module": "@jupyter-widgets/base",
      "model_module_version": "1.1.0",
      "model_name": "LayoutModel",
      "state": {
       "min_width": "125px"
      }
     },
     "bffb9f7500794d1d8b32c81d569ad2d6": {
      "model_module": "bqplot",
      "model_module_version": "^0.4.5",
      "model_name": "LinesModel",
      "state": {
       "color": {
        "type": null,
        "values": null
       },
       "display_legend": false,
       "fill_colors": [],
       "labels": [
        "C1"
       ],
       "scales": {
        "x": "IPY_MODEL_a2ece61b87414a459160c2517486e0d9",
        "y": "IPY_MODEL_e8633421e07f48fb859e43b48ad214c4"
       },
       "selected": [],
       "x": {
        "type": "date",
        "values": [
         "2007-01-01T00:00:00.000000",
         "2007-01-02T00:00:00.000000",
         "2007-01-03T00:00:00.000000",
         "2007-01-04T00:00:00.000000",
         "2007-01-05T00:00:00.000000",
         "2007-01-06T00:00:00.000000",
         "2007-01-07T00:00:00.000000",
         "2007-01-08T00:00:00.000000",
         "2007-01-09T00:00:00.000000",
         "2007-01-10T00:00:00.000000",
         "2007-01-11T00:00:00.000000",
         "2007-01-12T00:00:00.000000",
         "2007-01-13T00:00:00.000000",
         "2007-01-14T00:00:00.000000",
         "2007-01-15T00:00:00.000000",
         "2007-01-16T00:00:00.000000",
         "2007-01-17T00:00:00.000000",
         "2007-01-18T00:00:00.000000",
         "2007-01-19T00:00:00.000000",
         "2007-01-20T00:00:00.000000",
         "2007-01-21T00:00:00.000000",
         "2007-01-22T00:00:00.000000",
         "2007-01-23T00:00:00.000000",
         "2007-01-24T00:00:00.000000",
         "2007-01-25T00:00:00.000000",
         "2007-01-26T00:00:00.000000",
         "2007-01-27T00:00:00.000000",
         "2007-01-28T00:00:00.000000",
         "2007-01-29T00:00:00.000000",
         "2007-01-30T00:00:00.000000",
         "2007-01-31T00:00:00.000000",
         "2007-02-01T00:00:00.000000",
         "2007-02-02T00:00:00.000000",
         "2007-02-03T00:00:00.000000",
         "2007-02-04T00:00:00.000000",
         "2007-02-05T00:00:00.000000",
         "2007-02-06T00:00:00.000000",
         "2007-02-07T00:00:00.000000",
         "2007-02-08T00:00:00.000000",
         "2007-02-09T00:00:00.000000",
         "2007-02-10T00:00:00.000000",
         "2007-02-11T00:00:00.000000",
         "2007-02-12T00:00:00.000000",
         "2007-02-13T00:00:00.000000",
         "2007-02-14T00:00:00.000000",
         "2007-02-15T00:00:00.000000",
         "2007-02-16T00:00:00.000000",
         "2007-02-17T00:00:00.000000",
         "2007-02-18T00:00:00.000000",
         "2007-02-19T00:00:00.000000",
         "2007-02-20T00:00:00.000000",
         "2007-02-21T00:00:00.000000",
         "2007-02-22T00:00:00.000000",
         "2007-02-23T00:00:00.000000",
         "2007-02-24T00:00:00.000000",
         "2007-02-25T00:00:00.000000",
         "2007-02-26T00:00:00.000000",
         "2007-02-27T00:00:00.000000",
         "2007-02-28T00:00:00.000000",
         "2007-03-01T00:00:00.000000",
         "2007-03-02T00:00:00.000000",
         "2007-03-03T00:00:00.000000",
         "2007-03-04T00:00:00.000000",
         "2007-03-05T00:00:00.000000",
         "2007-03-06T00:00:00.000000",
         "2007-03-07T00:00:00.000000",
         "2007-03-08T00:00:00.000000",
         "2007-03-09T00:00:00.000000",
         "2007-03-10T00:00:00.000000",
         "2007-03-11T00:00:00.000000",
         "2007-03-12T00:00:00.000000",
         "2007-03-13T00:00:00.000000",
         "2007-03-14T00:00:00.000000",
         "2007-03-15T00:00:00.000000",
         "2007-03-16T00:00:00.000000",
         "2007-03-17T00:00:00.000000",
         "2007-03-18T00:00:00.000000",
         "2007-03-19T00:00:00.000000",
         "2007-03-20T00:00:00.000000",
         "2007-03-21T00:00:00.000000",
         "2007-03-22T00:00:00.000000",
         "2007-03-23T00:00:00.000000",
         "2007-03-24T00:00:00.000000",
         "2007-03-25T00:00:00.000000",
         "2007-03-26T00:00:00.000000",
         "2007-03-27T00:00:00.000000",
         "2007-03-28T00:00:00.000000",
         "2007-03-29T00:00:00.000000",
         "2007-03-30T00:00:00.000000",
         "2007-03-31T00:00:00.000000",
         "2007-04-01T00:00:00.000000",
         "2007-04-02T00:00:00.000000",
         "2007-04-03T00:00:00.000000",
         "2007-04-04T00:00:00.000000",
         "2007-04-05T00:00:00.000000",
         "2007-04-06T00:00:00.000000",
         "2007-04-07T00:00:00.000000",
         "2007-04-08T00:00:00.000000",
         "2007-04-09T00:00:00.000000",
         "2007-04-10T00:00:00.000000",
         "2007-04-11T00:00:00.000000",
         "2007-04-12T00:00:00.000000",
         "2007-04-13T00:00:00.000000",
         "2007-04-14T00:00:00.000000",
         "2007-04-15T00:00:00.000000",
         "2007-04-16T00:00:00.000000",
         "2007-04-17T00:00:00.000000",
         "2007-04-18T00:00:00.000000",
         "2007-04-19T00:00:00.000000",
         "2007-04-20T00:00:00.000000",
         "2007-04-21T00:00:00.000000",
         "2007-04-22T00:00:00.000000",
         "2007-04-23T00:00:00.000000",
         "2007-04-24T00:00:00.000000",
         "2007-04-25T00:00:00.000000",
         "2007-04-26T00:00:00.000000",
         "2007-04-27T00:00:00.000000",
         "2007-04-28T00:00:00.000000",
         "2007-04-29T00:00:00.000000",
         "2007-04-30T00:00:00.000000",
         "2007-05-01T00:00:00.000000",
         "2007-05-02T00:00:00.000000",
         "2007-05-03T00:00:00.000000",
         "2007-05-04T00:00:00.000000",
         "2007-05-05T00:00:00.000000",
         "2007-05-06T00:00:00.000000",
         "2007-05-07T00:00:00.000000",
         "2007-05-08T00:00:00.000000",
         "2007-05-09T00:00:00.000000",
         "2007-05-10T00:00:00.000000",
         "2007-05-11T00:00:00.000000",
         "2007-05-12T00:00:00.000000",
         "2007-05-13T00:00:00.000000",
         "2007-05-14T00:00:00.000000",
         "2007-05-15T00:00:00.000000",
         "2007-05-16T00:00:00.000000",
         "2007-05-17T00:00:00.000000",
         "2007-05-18T00:00:00.000000",
         "2007-05-19T00:00:00.000000",
         "2007-05-20T00:00:00.000000",
         "2007-05-21T00:00:00.000000",
         "2007-05-22T00:00:00.000000",
         "2007-05-23T00:00:00.000000",
         "2007-05-24T00:00:00.000000",
         "2007-05-25T00:00:00.000000",
         "2007-05-26T00:00:00.000000",
         "2007-05-27T00:00:00.000000",
         "2007-05-28T00:00:00.000000",
         "2007-05-29T00:00:00.000000",
         "2007-05-30T00:00:00.000000"
        ]
       },
       "y": {
        "type": "float",
        "values": [
         98.40423340338475,
         98.37949926808695,
         99.09263964870729,
         100.81215999703642,
         101.33319821969539,
         100.47015792891152,
         100.09447729848249,
         100.72793481108422,
         101.53349213901214,
         101.0946693784775,
         102.17122160407214,
         102.17589169590273,
         104.07625104099671,
         104.32383798248738,
         104.21501063290141,
         104.29809025381472,
         103.9821505892918,
         103.34726392295875,
         102.89205662492337,
         104.01968875627888,
         102.84738105220937,
         103.14628807791576,
         103.9876126401486,
         104.05204756829963,
         103.97472833904295,
         103.48450927237093,
         102.80640119025102,
         103.85942658193753,
         103.25100980387327,
         101.09796181212262,
         99.1785984946597,
         99.9260532296479,
         100.90105013886523,
         101.48130000834482,
         99.51319815777539,
         99.81794385877957,
         99.2792878107826,
         100.57434578811882,
         100.72255234046497,
         100.86404684279894,
         100.5031677495734,
         102.9566915956824,
         102.47031650641341,
         101.8617954723907,
         100.92617378200359,
         99.85671920251997,
         97.70622811725885,
         98.37884718883465,
         97.47472610491762,
         98.30832017549798,
         99.39893856347197,
         98.99719087021079,
         99.18542220861158,
         98.54278914376083,
         98.21523460077393,
         100.04072637285523,
         100.98407337986617,
         100.77349755597253,
         100.60403450560072,
         100.67950588268354,
         100.90182469817583,
         99.6608775928668,
         100.57620075425214,
         102.1088806537713,
         102.1312738082485,
         104.08065291750339,
         105.01247823864274,
         104.48504565152592,
         105.43742852803241,
         103.31835619607612,
         101.70301164634417,
         100.14742092232501,
         100.56219901855839,
         101.00736162450372,
         101.93531531718348,
         99.94764722219944,
         98.32308638132551,
         99.05793324574584,
         97.53656641413458,
         95.45869419194364,
         96.106485388834,
         97.27208582278948,
         95.73813800899082,
         92.96849000029472,
         93.77342237684984,
         93.29486557010209,
         91.99569547015824,
         90.98658123884024,
         90.06799650602761,
         90.42909978906533,
         91.192608352464,
         91.4462958725742,
         90.48316944695691,
         89.33573736522011,
         89.3439832673467,
         88.90509718013215,
         88.49249078551362,
         90.88948587416179,
         89.8705286155954,
         89.47422681388085,
         88.94312537724241,
         90.35251171024414,
         91.35170768161927,
         89.71633414267998,
         90.09167326380344,
         87.49821532758054,
         87.25974749497082,
         87.7731710968179,
         86.50804358629235,
         84.86507050825311,
         83.99615351152883,
         84.12893338208147,
         85.39208301496835,
         84.76758216498,
         83.85570402257085,
         85.28916296382458,
         85.04869291381895,
         86.65307789271735,
         85.43687817384145,
         85.50411415791777,
         84.70831791931852,
         84.54038611577556,
         84.97117891929479,
         85.0280638463374,
         84.67831212198985,
         85.18919939002174,
         84.73807811011724,
         84.29470016026899,
         81.36335982882153,
         83.3863179488224,
         83.59459149569145,
         83.90595466855301,
         85.08560619736201,
         85.25791402370449,
         85.27792184100322,
         84.78683773408281,
         86.69002974899082,
         85.91734259140843,
         86.71624718722992,
         85.64491514567727,
         86.21994707125323,
         85.866099778809,
         85.08386393486036,
         84.52348650056756,
         85.98660244463808,
         85.23355699993374,
         86.433054308393,
         84.72151624049565,
         85.63591665723123,
         84.99742162174894
        ]
       }
      }
     },
     "bffc051ef4364a2aa88d235d5f1274a3": {
      "model_module": "bqplot",
      "model_module_version": "^0.4.5",
      "model_name": "AxisModel",
      "state": {
       "orientation": "vertical",
       "scale": "IPY_MODEL_6a0e020f411d4218895062beebec9c5d",
       "side": "left",
       "tick_values": {
        "type": null,
        "values": null
       }
      }
     },
     "c011a7b585c641eeabb5ae5d925fc380": {
      "model_module": "bqplot",
      "model_module_version": "^0.4.5",
      "model_name": "AxisModel",
      "state": {
       "orientation": "vertical",
       "scale": "IPY_MODEL_ed3dbf00c0d04649a91236f655880fbe",
       "side": "left",
       "tick_values": {
        "type": null,
        "values": null
       },
       "visible": false
      }
     },
     "c035efa950d34cb69b2142651b56b8d6": {
      "model_module": "bqplot",
      "model_module_version": "^0.4.5",
      "model_name": "AxisModel",
      "state": {
       "orientation": "vertical",
       "scale": "IPY_MODEL_e2d8c7cf04e34fb58fb8a5c1631bb814",
       "side": "left",
       "tick_values": {
        "type": null,
        "values": null
       }
      }
     },
     "c06e3f94c1334731a45aae805d842266": {
      "model_module": "bqplot",
      "model_module_version": "^0.4.5",
      "model_name": "LinearScaleModel",
      "state": {
       "stabilized": false
      }
     },
     "c071a545ee6446d2ad988e58d55361e7": {
      "model_module": "bqplot",
      "model_module_version": "^0.4.5",
      "model_name": "LinearScaleModel",
      "state": {
       "stabilized": false
      }
     },
     "c07b7cc6389d4e3d9a176edb00e8f1c4": {
      "model_module": "bqplot",
      "model_module_version": "^0.4.5",
      "model_name": "LinearScaleModel",
      "state": {
       "allow_padding": false,
       "max": 1,
       "min": 0,
       "stabilized": false
      }
     },
     "c0951d794a4b4de5a63d08f0073057b8": {
      "model_module": "bqplot",
      "model_module_version": "^0.4.5",
      "model_name": "AxisModel",
      "state": {
       "orientation": "vertical",
       "scale": "IPY_MODEL_5eff74c513da44d698084346f8b089af",
       "side": "left",
       "tick_values": {
        "type": null,
        "values": null
       },
       "visible": false
      }
     },
     "c09e5be9895d4f659bda57027fb1d705": {
      "model_module": "bqplot",
      "model_module_version": "^0.4.5",
      "model_name": "FigureModel",
      "state": {
       "_dom_classes": [],
       "animation_duration": 1000,
       "axes": [
        "IPY_MODEL_2720800abae94a94ab965aa87dddc869",
        "IPY_MODEL_3bd20c037877457b815c3bac7b5d8185"
       ],
       "layout": "IPY_MODEL_524286b446714aa3a9837431a8260970",
       "marks": [
        "IPY_MODEL_2bafe5a07c734c388b119394db5bc22d"
       ],
       "scale_x": "IPY_MODEL_fbb4389497444d0e81a907c09a12e877",
       "scale_y": "IPY_MODEL_e41f5b6b0d9a4627854049ed27ccb612"
      }
     },
     "c0a52e2244a1477588ce17d98c8b2521": {
      "model_module": "bqplot",
      "model_module_version": "^0.4.5",
      "model_name": "LinearScaleModel",
      "state": {
       "stabilized": false
      }
     },
     "c1079f0619bd4316b81e206baa89a136": {
      "model_module": "bqplot",
      "model_module_version": "^0.4.5",
      "model_name": "LinesModel",
      "state": {
       "color": {
        "type": null,
        "values": null
       },
       "colors": [
        "black"
       ],
       "display_legend": false,
       "fill_colors": [],
       "labels": [
        "C1"
       ],
       "scales": {
        "x": "IPY_MODEL_8f922e86cf4646428737dd08d5dd487a",
        "y": "IPY_MODEL_ba02e3e6817e4576ac4580e42528de41"
       },
       "selected": [],
       "x": {
        "type": "float",
        "values": [
         0.5272947621552145,
         0.5843433203379271
        ]
       },
       "y": {
        "type": "float",
        "values": [
         0.5706683504567711,
         1.3129857260028264
        ]
       }
      }
     },
     "c169fe69635b4c259d30a5ea659dced5": {
      "model_module": "@jupyter-widgets/base",
      "model_module_version": "1.1.0",
      "model_name": "LayoutModel",
      "state": {}
     },
     "c192528f3bbd4f9c8b1f9e680cc6cf04": {
      "model_module": "bqplot",
      "model_module_version": "^0.4.5",
      "model_name": "ToolbarModel",
      "state": {
       "figure": "IPY_MODEL_72fede0dd73b42718996da2f4ce850b9",
       "layout": "IPY_MODEL_81b62e2819ab4feb855adbbe9c41a59c"
      }
     },
     "c1b96b9bd2a643a48cfa6a290db7fe40": {
      "model_module": "bqplot",
      "model_module_version": "^0.4.5",
      "model_name": "LinearScaleModel",
      "state": {
       "stabilized": false
      }
     },
     "c20ef770e6164d2a9fa2ef8d6852c310": {
      "model_module": "bqplot",
      "model_module_version": "^0.4.5",
      "model_name": "ScatterModel",
      "state": {
       "color": {
        "type": null,
        "values": null
       },
       "colors": [
        "steelblue"
       ],
       "display_legend": false,
       "display_names": false,
       "names": {
        "type": null,
        "values": null
       },
       "opacity": {
        "type": null,
        "values": null
       },
       "rotation": {
        "type": null,
        "values": null
       },
       "scales": {
        "x": "IPY_MODEL_c1b96b9bd2a643a48cfa6a290db7fe40",
        "y": "IPY_MODEL_8f8b11e3b7dd473d8260e9f36e42e2de"
       },
       "scales_metadata": {
        "color": {
         "dimension": "color"
        },
        "opacity": {
         "dimension": "opacity"
        },
        "rotation": {
         "dimension": "rotation"
        },
        "size": {
         "dimension": "size"
        },
        "skew": {
         "dimension": "skew"
        },
        "x": {
         "dimension": "x",
         "orientation": "horizontal"
        },
        "y": {
         "dimension": "y",
         "orientation": "vertical"
        }
       },
       "selected": [],
       "size": {
        "type": null,
        "values": null
       },
       "skew": {
        "type": null,
        "values": null
       },
       "stroke": "black",
       "tooltip": "IPY_MODEL_99575a00246640449d6a743bf97fd125",
       "x": {
        "type": "float",
        "values": [
         0.771320643266746,
         0.6336482349262754,
         0.4985070123025904,
         0.19806286475962398,
         0.16911083656253545,
         0.6853598183677972
        ]
       },
       "y": {
        "type": "float",
        "values": [
         0.0207519493594015,
         0.7488038825386119,
         0.22479664553084766,
         0.7605307121989587,
         0.08833981417401027,
         0.9533933461949365
        ]
       }
      }
     },
     "c2246c565c634b6f8c14aa8dced052a4": {
      "model_module": "bqplot",
      "model_module_version": "^0.4.5",
      "model_name": "LinearScaleModel",
      "state": {
       "stabilized": false
      }
     },
     "c2389b4fe9594d3ca54a180922c9fcec": {
      "model_module": "bqplot",
      "model_module_version": "^0.4.5",
      "model_name": "LinesModel",
      "state": {
       "close_path": true,
       "color": {
        "type": null,
        "values": null
       },
       "display_legend": false,
       "fill": "inside",
       "fill_colors": [
        "orange",
        "blue",
        "red"
       ],
       "labels": [
        "C1",
        "C2"
       ],
       "scales": {
        "x": "IPY_MODEL_2eb9580e20964e5090d1cabc4d627c6d",
        "y": "IPY_MODEL_8fcf49ca0bfc430ca20ca586b9884725"
       },
       "selected": [],
       "stroke_width": 1,
       "tooltip": "IPY_MODEL_99575a00246640449d6a743bf97fd125",
       "x": {
        "type": "float",
        "values": [
         [
          0.4097295846150608,
          0.8520227339335706,
          1.7332689863391435,
          0.4200808874255707
         ],
         [
          0.4097295846150608,
          0.22355450954331613,
          0.4501473823600029,
          0.8520227339335706
         ]
        ]
       },
       "y": {
        "type": "float",
        "values": [
         [
          0.5271223505498778,
          0.41305515312279745,
          0.5796961417400555,
          0.9116146811300156
         ],
         [
          0.5271223505498778,
          0.42271381055996105,
          -0.12426375746363771,
          0.41305515312279745
         ]
        ]
       }
      }
     },
     "c290a61cce03420fa7d3ce4a7beaea3c": {
      "model_module": "@jupyter-widgets/base",
      "model_module_version": "1.1.0",
      "model_name": "LayoutModel",
      "state": {}
     },
     "c2b490285d5447da97a347237ef90fee": {
      "model_module": "bqplot",
      "model_module_version": "^0.4.5",
      "model_name": "LinearScaleModel",
      "state": {
       "stabilized": false
      }
     },
     "c38e7e7455fa4408961468683ada6911": {
      "model_module": "bqplot",
      "model_module_version": "^0.4.5",
      "model_name": "LinesModel",
      "state": {
       "close_path": true,
       "color": {
        "type": null,
        "values": null
       },
       "display_legend": false,
       "fill": "inside",
       "fill_colors": [
        "orange",
        "blue",
        "red"
       ],
       "labels": [
        "C1",
        "C2",
        "C3",
        "C4"
       ],
       "scales": {
        "x": "IPY_MODEL_1c1f00804f2145f68dbf51a4dc3d4802",
        "y": "IPY_MODEL_7caf2fa7135845bba0927f43d61600b5"
       },
       "selected": [],
       "stroke_width": 1,
       "tooltip": "IPY_MODEL_99575a00246640449d6a743bf97fd125",
       "x": {
        "type": "object",
        "values": [
         [
          0.6790714093103971,
          0.6838775462866998,
          1.2311893360787933,
          0.8368019646982289
         ],
         [
          0.22738068359095126,
          0.43020238893545215,
          0.5272947621552145,
          0.5843433203379271
         ],
         [
          0.43020238893545215,
          0.28766969405592147,
          0.5281075673364094,
          0.6790714093103971,
          0.6838775462866998,
          0.5272947621552145
         ],
         [
          0.22738068359095126,
          -5.20820435004358,
          0.11120787378448214,
          0.28766969405592147,
          0.43020238893545215
         ]
        ]
       },
       "y": {
        "type": "object",
        "values": [
         [
          0.22900528542596285,
          0.5342473347036941,
          0.6785452236610399,
          0.2219913829992549
         ],
         [
          0.7667443763710994,
          0.5502889056231901,
          0.5706683504567711,
          1.3129857260028264
         ],
         [
          0.5502889056231901,
          0.35492950428148073,
          -0.15153524143845282,
          0.22900528542596285,
          0.5342473347036941,
          0.5706683504567711
         ],
         [
          0.7667443763710994,
          1.8846379679106748,
          0.3365460478735013,
          0.35492950428148073,
          0.5502889056231901
         ]
        ]
       }
      }
     },
     "c441c5fa9f2d4950859e69b08bfced01": {
      "model_module": "bqplot",
      "model_module_version": "^0.4.5",
      "model_name": "LinesModel",
      "state": {
       "color": {
        "type": null,
        "values": null
       },
       "colors": [
        "black"
       ],
       "display_legend": false,
       "fill_colors": [],
       "labels": [
        "C1"
       ],
       "scales": {
        "x": "IPY_MODEL_c8ab28210875423b8fe83758838b4d3a",
        "y": "IPY_MODEL_4da18018025d43988651afbdebf092d4"
       },
       "selected": [],
       "x": {
        "type": "float",
        "values": [
         0.4501473823600029,
         0.8520227339335706
        ]
       },
       "y": {
        "type": "float",
        "values": [
         -0.12426375746363771,
         0.41305515312279745
        ]
       }
      }
     },
     "c49c50d6cbe742f3a8db07b447013ed4": {
      "model_module": "bqplot",
      "model_module_version": "^0.4.5",
      "model_name": "LinearScaleModel",
      "state": {
       "allow_padding": false,
       "max": 1,
       "min": 0,
       "stabilized": false
      }
     },
     "c4abb08514f84cda97b8bc1293040765": {
      "model_module": "bqplot",
      "model_module_version": "^0.4.5",
      "model_name": "LinearScaleModel",
      "state": {
       "stabilized": false
      }
     },
     "c4b69a4f7e574ae08998ac3eaf44becc": {
      "model_module": "@jupyter-widgets/base",
      "model_module_version": "1.1.0",
      "model_name": "LayoutModel",
      "state": {}
     },
     "c4bc500e3d0c4908bbabbd1fd8aa9e48": {
      "model_module": "bqplot",
      "model_module_version": "^0.4.5",
      "model_name": "LinearScaleModel",
      "state": {
       "stabilized": false
      }
     },
     "c5298b1e1b4a4ac3b0b0a1a2f7f0a5dd": {
      "model_module": "bqplot",
      "model_module_version": "^0.4.5",
      "model_name": "AxisModel",
      "state": {
       "scale": "IPY_MODEL_8f922e86cf4646428737dd08d5dd487a",
       "side": "bottom",
       "tick_values": {
        "type": null,
        "values": null
       }
      }
     },
     "c54c2e83b87c4c169cfd15922b53b97f": {
      "model_module": "bqplot",
      "model_module_version": "^0.4.5",
      "model_name": "LinearScaleModel",
      "state": {
       "stabilized": false
      }
     },
     "c5561988961d458fb6cfed274a9ece0f": {
      "model_module": "bqplot",
      "model_module_version": "^0.4.5",
      "model_name": "ScatterModel",
      "state": {
       "color": {
        "type": null,
        "values": null
       },
       "colors": [
        "steelblue"
       ],
       "display_legend": false,
       "display_names": false,
       "names": {
        "type": null,
        "values": null
       },
       "opacity": {
        "type": null,
        "values": null
       },
       "rotation": {
        "type": null,
        "values": null
       },
       "scales": {
        "x": "IPY_MODEL_603634162f0149dda3ebc8ace5e4f441",
        "y": "IPY_MODEL_15031a441f364d3cb86f689c53ec2d37"
       },
       "scales_metadata": {
        "color": {
         "dimension": "color"
        },
        "opacity": {
         "dimension": "opacity"
        },
        "rotation": {
         "dimension": "rotation"
        },
        "size": {
         "dimension": "size"
        },
        "skew": {
         "dimension": "skew"
        },
        "x": {
         "dimension": "x",
         "orientation": "horizontal"
        },
        "y": {
         "dimension": "y",
         "orientation": "vertical"
        }
       },
       "selected": [],
       "size": {
        "type": null,
        "values": null
       },
       "skew": {
        "type": null,
        "values": null
       },
       "stroke": "black",
       "tooltip": "IPY_MODEL_99575a00246640449d6a743bf97fd125",
       "x": {
        "type": "float",
        "values": [
         0.771320643266746,
         0.6336482349262754,
         0.4985070123025904,
         0.19806286475962398,
         0.16911083656253545,
         0.6853598183677972
        ]
       },
       "y": {
        "type": "float",
        "values": [
         0.0207519493594015,
         0.7488038825386119,
         0.22479664553084766,
         0.7605307121989587,
         0.08833981417401027,
         0.9533933461949365
        ]
       }
      }
     },
     "c55a7baab0844f62bf415541494dc61a": {
      "model_module": "@jupyter-widgets/base",
      "model_module_version": "1.1.0",
      "model_name": "LayoutModel",
      "state": {
       "min_width": "125px"
      }
     },
     "c5ac306fd93e4d8d9bacf0db0d418716": {
      "model_module": "bqplot",
      "model_module_version": "^0.4.5",
      "model_name": "LinearScaleModel",
      "state": {
       "allow_padding": false,
       "max": 1,
       "min": 0,
       "stabilized": false
      }
     },
     "c5eb9afee62b415d9122a05c79cc020b": {
      "model_module": "bqplot",
      "model_module_version": "^0.4.5",
      "model_name": "AxisModel",
      "state": {
       "orientation": "vertical",
       "scale": "IPY_MODEL_54f591db8e974136b7598701cd742ed2",
       "side": "left",
       "tick_values": {
        "type": null,
        "values": null
       }
      }
     },
     "c60b8c0aa56a439b8bbaf9a84e63d749": {
      "model_module": "bqplot",
      "model_module_version": "^0.4.5",
      "model_name": "FigureModel",
      "state": {
       "_dom_classes": [],
       "animation_duration": 1000,
       "axes": [
        "IPY_MODEL_7172fbc53d58493baa908da484c0e609",
        "IPY_MODEL_f8c6ca673c704b3fb7aa3674f7fd16cc"
       ],
       "layout": "IPY_MODEL_c7619eae20c742ce972fd0cfc543f896",
       "marks": [
        "IPY_MODEL_181cad0cac914434bb184b1290dbf4df"
       ],
       "scale_x": "IPY_MODEL_edf9916b3d414abca9356ba8323651ed",
       "scale_y": "IPY_MODEL_e9aa39c0c40e4ab485fec1a95a9cc577"
      }
     },
     "c6b22d338e234384bc814e1b3a694f8e": {
      "model_module": "bqplot",
      "model_module_version": "^0.4.5",
      "model_name": "AxisModel",
      "state": {
       "orientation": "vertical",
       "scale": "IPY_MODEL_633412508da8464aa6072312e180d590",
       "side": "left",
       "tick_values": {
        "type": null,
        "values": null
       },
       "visible": false
      }
     },
     "c6c002a0a13a4b02b775248be03d6fd9": {
      "model_module": "bqplot",
      "model_module_version": "^0.4.5",
      "model_name": "PanZoomModel",
      "state": {
       "scales": {
        "x": [
         "IPY_MODEL_2a6aca56c2d14e61beef14fd6a225877",
         "IPY_MODEL_2a6aca56c2d14e61beef14fd6a225877",
         "IPY_MODEL_2a6aca56c2d14e61beef14fd6a225877",
         "IPY_MODEL_2a6aca56c2d14e61beef14fd6a225877",
         "IPY_MODEL_2a6aca56c2d14e61beef14fd6a225877",
         "IPY_MODEL_2a6aca56c2d14e61beef14fd6a225877",
         "IPY_MODEL_2a6aca56c2d14e61beef14fd6a225877",
         "IPY_MODEL_2a6aca56c2d14e61beef14fd6a225877",
         "IPY_MODEL_2a6aca56c2d14e61beef14fd6a225877",
         "IPY_MODEL_2a6aca56c2d14e61beef14fd6a225877",
         "IPY_MODEL_2a6aca56c2d14e61beef14fd6a225877",
         "IPY_MODEL_2a6aca56c2d14e61beef14fd6a225877",
         "IPY_MODEL_2a6aca56c2d14e61beef14fd6a225877",
         "IPY_MODEL_2a6aca56c2d14e61beef14fd6a225877",
         "IPY_MODEL_2a6aca56c2d14e61beef14fd6a225877",
         "IPY_MODEL_2a6aca56c2d14e61beef14fd6a225877",
         "IPY_MODEL_2a6aca56c2d14e61beef14fd6a225877",
         "IPY_MODEL_2a6aca56c2d14e61beef14fd6a225877",
         "IPY_MODEL_2a6aca56c2d14e61beef14fd6a225877",
         "IPY_MODEL_2a6aca56c2d14e61beef14fd6a225877",
         "IPY_MODEL_2a6aca56c2d14e61beef14fd6a225877",
         "IPY_MODEL_2a6aca56c2d14e61beef14fd6a225877"
        ],
        "y": [
         "IPY_MODEL_6aebc1b7d022462ea4ac7b8228d301a8",
         "IPY_MODEL_6aebc1b7d022462ea4ac7b8228d301a8",
         "IPY_MODEL_6aebc1b7d022462ea4ac7b8228d301a8",
         "IPY_MODEL_6aebc1b7d022462ea4ac7b8228d301a8",
         "IPY_MODEL_6aebc1b7d022462ea4ac7b8228d301a8",
         "IPY_MODEL_6aebc1b7d022462ea4ac7b8228d301a8",
         "IPY_MODEL_6aebc1b7d022462ea4ac7b8228d301a8",
         "IPY_MODEL_6aebc1b7d022462ea4ac7b8228d301a8",
         "IPY_MODEL_6aebc1b7d022462ea4ac7b8228d301a8",
         "IPY_MODEL_6aebc1b7d022462ea4ac7b8228d301a8",
         "IPY_MODEL_6aebc1b7d022462ea4ac7b8228d301a8",
         "IPY_MODEL_6aebc1b7d022462ea4ac7b8228d301a8",
         "IPY_MODEL_6aebc1b7d022462ea4ac7b8228d301a8",
         "IPY_MODEL_6aebc1b7d022462ea4ac7b8228d301a8",
         "IPY_MODEL_6aebc1b7d022462ea4ac7b8228d301a8",
         "IPY_MODEL_6aebc1b7d022462ea4ac7b8228d301a8",
         "IPY_MODEL_6aebc1b7d022462ea4ac7b8228d301a8",
         "IPY_MODEL_6aebc1b7d022462ea4ac7b8228d301a8",
         "IPY_MODEL_6aebc1b7d022462ea4ac7b8228d301a8",
         "IPY_MODEL_6aebc1b7d022462ea4ac7b8228d301a8",
         "IPY_MODEL_6aebc1b7d022462ea4ac7b8228d301a8",
         "IPY_MODEL_6aebc1b7d022462ea4ac7b8228d301a8"
        ]
       }
      }
     },
     "c728c7c4485a482895aca58e0cb7ecd2": {
      "model_module": "bqplot",
      "model_module_version": "^0.4.5",
      "model_name": "LinesModel",
      "state": {
       "close_path": true,
       "color": {
        "type": null,
        "values": null
       },
       "display_legend": false,
       "fill": "inside",
       "fill_colors": [
        "orange",
        "blue",
        "red"
       ],
       "labels": [
        "C1",
        "C2"
       ],
       "scales": {
        "x": "IPY_MODEL_f531654881c94b01b7cb641f099e7c9c",
        "y": "IPY_MODEL_1d9ae1d512254923ba98e31e1e8852f4"
       },
       "selected": [],
       "stroke_width": 1,
       "tooltip": "IPY_MODEL_b80ed1e2fbfa45358769dcf805aedaf3",
       "x": {
        "type": "float",
        "values": [
         [
          0.4097295846150608,
          0.8520227339335706,
          1.7332689863391435,
          0.4200808874255707
         ],
         [
          0.4097295846150608,
          0.22355450954331613,
          0.4501473823600029,
          0.8520227339335706
         ]
        ]
       },
       "y": {
        "type": "float",
        "values": [
         [
          0.5271223505498778,
          0.41305515312279745,
          0.5796961417400555,
          0.9116146811300156
         ],
         [
          0.5271223505498778,
          0.42271381055996105,
          -0.12426375746363771,
          0.41305515312279745
         ]
        ]
       }
      }
     },
     "c744a1cefcba4c1a97560cf6cbb64be2": {
      "model_module": "bqplot",
      "model_module_version": "^0.4.5",
      "model_name": "LinesModel",
      "state": {
       "color": {
        "type": null,
        "values": null
       },
       "colors": [
        "black"
       ],
       "display_legend": false,
       "fill_colors": [],
       "labels": [
        "C1"
       ],
       "scales": {
        "x": "IPY_MODEL_b50daaba70f04418935494498fcbe2b3",
        "y": "IPY_MODEL_27e68e618c6a452a9dc5120635c7b7f1"
       },
       "selected": [],
       "x": {
        "type": "float",
        "values": [
         0.22738068359095126,
         0.5843433203379271
        ]
       },
       "y": {
        "type": "float",
        "values": [
         0.7667443763710994,
         1.3129857260028264
        ]
       }
      }
     },
     "c7619eae20c742ce972fd0cfc543f896": {
      "model_module": "@jupyter-widgets/base",
      "model_module_version": "1.1.0",
      "model_name": "LayoutModel",
      "state": {
       "min_width": "125px"
      }
     },
     "c7a231f6fba14e3eb7b4db50ab998be0": {
      "model_module": "bqplot",
      "model_module_version": "^0.4.5",
      "model_name": "LinearScaleModel",
      "state": {
       "stabilized": false
      }
     },
     "c819a661bb28459599dcd354525f24a5": {
      "model_module": "bqplot",
      "model_module_version": "^0.4.5",
      "model_name": "LinearScaleModel",
      "state": {
       "allow_padding": false,
       "max": 1,
       "min": 0,
       "stabilized": false
      }
     },
     "c8309359c89b4593b1ff884ba30ff4ea": {
      "model_module": "bqplot",
      "model_module_version": "^0.4.5",
      "model_name": "LinesModel",
      "state": {
       "close_path": true,
       "color": {
        "type": null,
        "values": null
       },
       "fill": "inside",
       "fill_colors": [
        "orange",
        "blue",
        "red"
       ],
       "labels": [
        "C1",
        "C2",
        "C3"
       ],
       "scales": {
        "x": "IPY_MODEL_9ac875ee35c0440dbddf37862fbe7c58",
        "y": "IPY_MODEL_633412508da8464aa6072312e180d590"
       },
       "selected": [],
       "tooltip": "IPY_MODEL_99575a00246640449d6a743bf97fd125",
       "x": {
        "type": "object",
        "values": [
         [
          0.22738068359095126,
          0.43020238893545215,
          0.5272947621552145,
          0.5843433203379271
         ],
         [
          0.43020238893545215,
          0.28766969405592147,
          0.6061081196488364,
          0.7710761428300102,
          0.5272947621552145
         ],
         [
          0.22738068359095126,
          -5.20820435004358,
          0.11120787378448214,
          0.28766969405592147,
          0.43020238893545215
         ]
        ]
       },
       "y": {
        "type": "object",
        "values": [
         [
          0.7667443763710994,
          0.5502889056231901,
          0.5706683504567711,
          1.3129857260028264
         ],
         [
          0.5502889056231901,
          0.35492950428148073,
          -0.3158376841191152,
          0.5139650190202325,
          0.5706683504567711
         ],
         [
          0.7667443763710994,
          1.8846379679106748,
          0.3365460478735013,
          0.35492950428148073,
          0.5502889056231901
         ]
        ]
       }
      }
     },
     "c83810b4615640e59211765da940dc37": {
      "model_module": "bqplot",
      "model_module_version": "^0.4.5",
      "model_name": "LinesModel",
      "state": {
       "close_path": true,
       "color": {
        "type": null,
        "values": null
       },
       "display_legend": false,
       "fill": "inside",
       "fill_colors": [
        "orange",
        "blue",
        "red"
       ],
       "labels": [
        "C1",
        "C2"
       ],
       "scales": {
        "x": "IPY_MODEL_c4bc500e3d0c4908bbabbd1fd8aa9e48",
        "y": "IPY_MODEL_821d3c3b0af24912b00b69c998eb533d"
       },
       "selected": [],
       "stroke_width": 1,
       "tooltip": "IPY_MODEL_99575a00246640449d6a743bf97fd125",
       "x": {
        "type": "float",
        "values": [
         [
          0.4097295846150608,
          0.8520227339335706,
          1.7332689863391435,
          0.4200808874255707
         ],
         [
          0.4097295846150608,
          0.22355450954331613,
          0.4501473823600029,
          0.8520227339335706
         ]
        ]
       },
       "y": {
        "type": "float",
        "values": [
         [
          0.5271223505498778,
          0.41305515312279745,
          0.5796961417400555,
          0.9116146811300156
         ],
         [
          0.5271223505498778,
          0.42271381055996105,
          -0.12426375746363771,
          0.41305515312279745
         ]
        ]
       }
      }
     },
     "c8ab28210875423b8fe83758838b4d3a": {
      "model_module": "bqplot",
      "model_module_version": "^0.4.5",
      "model_name": "LinearScaleModel",
      "state": {
       "stabilized": false
      }
     },
     "c94e775c67d64856a04f1feaa04578cf": {
      "model_module": "bqplot",
      "model_module_version": "^0.4.5",
      "model_name": "LinesModel",
      "state": {
       "close_path": true,
       "color": {
        "type": null,
        "values": null
       },
       "display_legend": false,
       "fill": "inside",
       "fill_colors": [
        "orange",
        "blue",
        "red"
       ],
       "labels": [
        "C1",
        "C2",
        "C3",
        "C4"
       ],
       "scales": {
        "x": "IPY_MODEL_ed8c5797db2a46bbadf30595f6418cc8",
        "y": "IPY_MODEL_f1d1cfb414f4486fa52e3575fa93c58a"
       },
       "selected": [],
       "stroke_width": 1,
       "tooltip": "IPY_MODEL_99575a00246640449d6a743bf97fd125",
       "x": {
        "type": "object",
        "values": [
         [
          0.6790714093103971,
          0.6838775462866998,
          1.2311893360787933,
          0.8368019646982289
         ],
         [
          0.22738068359095126,
          0.43020238893545215,
          0.5272947621552145,
          0.5843433203379271
         ],
         [
          0.43020238893545215,
          0.28766969405592147,
          0.5281075673364094,
          0.6790714093103971,
          0.6838775462866998,
          0.5272947621552145
         ],
         [
          0.22738068359095126,
          -5.20820435004358,
          0.11120787378448214,
          0.28766969405592147,
          0.43020238893545215
         ]
        ]
       },
       "y": {
        "type": "object",
        "values": [
         [
          0.22900528542596285,
          0.5342473347036941,
          0.6785452236610399,
          0.2219913829992549
         ],
         [
          0.7667443763710994,
          0.5502889056231901,
          0.5706683504567711,
          1.3129857260028264
         ],
         [
          0.5502889056231901,
          0.35492950428148073,
          -0.15153524143845282,
          0.22900528542596285,
          0.5342473347036941,
          0.5706683504567711
         ],
         [
          0.7667443763710994,
          1.8846379679106748,
          0.3365460478735013,
          0.35492950428148073,
          0.5502889056231901
         ]
        ]
       }
      }
     },
     "c98b9de8564640e4a506b186142de294": {
      "model_module": "@jupyter-widgets/base",
      "model_module_version": "1.1.0",
      "model_name": "LayoutModel",
      "state": {
       "min_width": "125px"
      }
     },
     "c9ed05d1c5a64dff9d8d303313dd4fb9": {
      "model_module": "bqplot",
      "model_module_version": "^0.4.5",
      "model_name": "FigureModel",
      "state": {
       "_dom_classes": [],
       "animation_duration": 1000,
       "axes": [
        "IPY_MODEL_cc82da926b674925a3d123ef866b4a49",
        "IPY_MODEL_a86f147911bd4d1894a71f6ed5f4b5cb"
       ],
       "layout": "IPY_MODEL_ad28f1d8a7804e6397c9020cc178a807",
       "marks": [
        "IPY_MODEL_a5fd6f827bcd4a3da113a9825aad4345",
        "IPY_MODEL_5f2629accfff4eacbe6f0540f307438b"
       ],
       "scale_x": "IPY_MODEL_44db7dbee3f145c8aa10c4e5e6d31438",
       "scale_y": "IPY_MODEL_02a7d04e1a4c4eed8698e29c2061ede8"
      }
     },
     "c9f4da2c44694703bf7d55531b29b339": {
      "model_module": "@jupyter-widgets/base",
      "model_module_version": "1.1.0",
      "model_name": "LayoutModel",
      "state": {}
     },
     "c9f623e73d9542f8bb969cf3ebfa6cfc": {
      "model_module": "bqplot",
      "model_module_version": "^0.4.5",
      "model_name": "LinearScaleModel",
      "state": {
       "max": 1,
       "min": 0,
       "stabilized": false
      }
     },
     "c9f9cf7f5d8a4831a394ce3a3db541c1": {
      "model_module": "bqplot",
      "model_module_version": "^0.4.5",
      "model_name": "LinearScaleModel",
      "state": {
       "allow_padding": false,
       "max": 1,
       "min": 0,
       "stabilized": false
      }
     },
     "ca0434736e204a0e8d649e471a4fdb47": {
      "model_module": "bqplot",
      "model_module_version": "^0.4.5",
      "model_name": "AxisModel",
      "state": {
       "label": "Security 1",
       "orientation": "vertical",
       "scale": "IPY_MODEL_e8633421e07f48fb859e43b48ad214c4",
       "side": "left",
       "tick_values": {
        "type": null,
        "values": null
       }
      }
     },
     "ca4b7149bfcb4bf285e6ee7a319fa6d3": {
      "model_module": "bqplot",
      "model_module_version": "^0.4.5",
      "model_name": "LinearScaleModel",
      "state": {
       "max": 1,
       "min": 0,
       "stabilized": false
      }
     },
     "ca69476de4f94997961305e5f6dab665": {
      "model_module": "bqplot",
      "model_module_version": "^0.4.5",
      "model_name": "LinearScaleModel",
      "state": {
       "allow_padding": false,
       "max": 1,
       "min": 0,
       "stabilized": false
      }
     },
     "ca718a366b0440e5910253fa70780136": {
      "model_module": "bqplot",
      "model_module_version": "^0.4.5",
      "model_name": "LinesModel",
      "state": {
       "close_path": true,
       "color": {
        "type": null,
        "values": null
       },
       "fill": "inside",
       "fill_colors": [
        "orange",
        "blue",
        "red"
       ],
       "labels": [
        "C1"
       ],
       "opacities": [
        0.1,
        0.2
       ],
       "scales": {
        "x": "IPY_MODEL_3c8bac18e1e946fca591ed430fefb276",
        "y": "IPY_MODEL_a5db13c1b3404908a913a4f702a4a02b"
       },
       "selected": [],
       "x": {
        "type": "object",
        "values": [
         [
          10,
          3,
          3.2
         ],
         [
          0.5,
          2.5,
          1.7
         ],
         [
          4,
          5,
          6,
          6,
          5,
          4,
          3
         ]
        ]
       },
       "y": {
        "type": "float",
        "values": [
         1,
         1.1,
         1.2,
         2.3,
         2.2,
         2.7,
         1,
         -2
        ]
       }
      }
     },
     "ca82b4196fc747ba82998378484f859a": {
      "model_module": "bqplot",
      "model_module_version": "^0.4.5",
      "model_name": "FigureModel",
      "state": {
       "_dom_classes": [],
       "animation_duration": 1000,
       "axes": [
        "IPY_MODEL_2dad3f36994140e8a4ad9d87e8f02204",
        "IPY_MODEL_86072f76620748d78ee1d4e90f936123"
       ],
       "layout": "IPY_MODEL_8290b0c50ff04c6e80157d8c12915e7c",
       "marks": [
        "IPY_MODEL_cef3a7a1f4da47bdaf5171ae78d62d74",
        "IPY_MODEL_7d9027ee8a894c06912a6a123f2776bb"
       ],
       "scale_x": "IPY_MODEL_94cc905afa0241a2aca3c94e8bbd81b1",
       "scale_y": "IPY_MODEL_6933b9c2177141c4b860bf6933e537ad"
      }
     },
     "cb0ed78c8f8b4ec2b1ae3cdbe9782c4b": {
      "model_module": "bqplot",
      "model_module_version": "^0.4.5",
      "model_name": "LinesModel",
      "state": {
       "color": {
        "type": null,
        "values": null
       },
       "colors": [
        "black"
       ],
       "display_legend": false,
       "fill_colors": [],
       "labels": [
        "C1"
       ],
       "scales": {
        "x": "IPY_MODEL_2a6aca56c2d14e61beef14fd6a225877",
        "y": "IPY_MODEL_6aebc1b7d022462ea4ac7b8228d301a8"
       },
       "selected": [],
       "x": {
        "type": "float",
        "values": [
         0.22738068359095126,
         0.5281075673364094
        ]
       },
       "y": {
        "type": "float",
        "values": [
         0.7667443763710994,
         -0.15153524143845282
        ]
       }
      }
     },
     "cb9558d5a9b3467f8b724651fee3c986": {
      "model_module": "bqplot",
      "model_module_version": "^0.4.5",
      "model_name": "LinearScaleModel",
      "state": {
       "stabilized": false
      }
     },
     "cb9881a909d341efa980031de0e1c243": {
      "model_module": "bqplot",
      "model_module_version": "^0.4.5",
      "model_name": "LinearScaleModel",
      "state": {
       "stabilized": false
      }
     },
     "cba0695d6cd54c7e92c9ff92350b6494": {
      "model_module": "bqplot",
      "model_module_version": "^0.4.5",
      "model_name": "LinearScaleModel",
      "state": {
       "allow_padding": false,
       "max": 1,
       "min": 0,
       "stabilized": false
      }
     },
     "cc31526312594ad68b5bd650904944ea": {
      "model_module": "bqplot",
      "model_module_version": "^0.4.5",
      "model_name": "TooltipModel",
      "state": {
       "fields": [
        "name"
       ],
       "formats": [
        ""
       ],
       "layout": "IPY_MODEL_f50346dd00c94018a79f66e708015420"
      }
     },
     "cc82da926b674925a3d123ef866b4a49": {
      "model_module": "bqplot",
      "model_module_version": "^0.4.5",
      "model_name": "AxisModel",
      "state": {
       "scale": "IPY_MODEL_d767659cfd944f90ad67931c509b95da",
       "side": "bottom",
       "tick_values": {
        "type": null,
        "values": null
       }
      }
     },
     "cd1396b004db43a198b16cae4b8baf14": {
      "model_module": "bqplot",
      "model_module_version": "^0.4.5",
      "model_name": "LinearScaleModel",
      "state": {
       "allow_padding": false,
       "max": 1,
       "min": 0,
       "stabilized": false
      }
     },
     "cd1a2eeff6fb4eab81783b1c10f4a738": {
      "model_module": "bqplot",
      "model_module_version": "^0.4.5",
      "model_name": "LinearScaleModel",
      "state": {
       "stabilized": false
      }
     },
     "cd20e587300f477ba3e2a3c55468bd9c": {
      "model_module": "bqplot",
      "model_module_version": "^0.4.5",
      "model_name": "AxisModel",
      "state": {
       "scale": "IPY_MODEL_14159b31808c4af4a10dc6f2cf52b5f3",
       "side": "bottom",
       "tick_values": {
        "type": null,
        "values": null
       }
      }
     },
     "cd28d5561b814f7490f502c4a2072794": {
      "model_module": "bqplot",
      "model_module_version": "^0.4.5",
      "model_name": "LinearScaleModel",
      "state": {
       "stabilized": false
      }
     },
     "cd543f92886a4335b32ca0672c63b4dc": {
      "model_module": "@jupyter-widgets/base",
      "model_module_version": "1.1.0",
      "model_name": "LayoutModel",
      "state": {
       "min_width": "125px"
      }
     },
     "cd9ef2c8a8894af98a576e4bf0a61cf2": {
      "model_module": "bqplot",
      "model_module_version": "^0.4.5",
      "model_name": "LinearScaleModel",
      "state": {
       "allow_padding": false,
       "max": 1,
       "min": 0,
       "stabilized": false
      }
     },
     "cdae84fa6102480d8bbc9fbcbf1dd1dc": {
      "model_module": "bqplot",
      "model_module_version": "^0.4.5",
      "model_name": "AxisModel",
      "state": {
       "orientation": "vertical",
       "scale": "IPY_MODEL_18bd9362ed3a4463bf78158675515ef9",
       "side": "left",
       "tick_values": {
        "type": null,
        "values": null
       },
       "visible": false
      }
     },
     "ce4c773fc3be4cdb890f1cfa161b9991": {
      "model_module": "@jupyter-widgets/base",
      "model_module_version": "1.1.0",
      "model_name": "LayoutModel",
      "state": {
       "min_width": "125px"
      }
     },
     "cea46c86230147a7838fdced071713c6": {
      "model_module": "bqplot",
      "model_module_version": "^0.4.5",
      "model_name": "AxisModel",
      "state": {
       "orientation": "vertical",
       "scale": "IPY_MODEL_ba02e3e6817e4576ac4580e42528de41",
       "side": "left",
       "tick_values": {
        "type": null,
        "values": null
       }
      }
     },
     "cef3a7a1f4da47bdaf5171ae78d62d74": {
      "model_module": "bqplot",
      "model_module_version": "^0.4.5",
      "model_name": "LinesModel",
      "state": {
       "close_path": true,
       "color": {
        "type": null,
        "values": null
       },
       "display_legend": false,
       "fill": "inside",
       "fill_colors": [
        "orange",
        "blue",
        "red"
       ],
       "labels": [
        "Point-two",
        "Point-three"
       ],
       "scales": {
        "x": "IPY_MODEL_1621bdba5cbc45d580fadc852ad370c8",
        "y": "IPY_MODEL_bd7b501c484140b7aaff976156d5be06"
       },
       "selected": [],
       "stroke_width": 1,
       "tooltip": "IPY_MODEL_5be116e172644b369f270de161a36140",
       "x": {
        "type": "float",
        "values": [
         [
          0.4097295846150608,
          0.8520227339335706,
          1.7332689863391435,
          0.4200808874255707
         ],
         [
          0.4097295846150608,
          0.22355450954331613,
          0.4501473823600029,
          0.8520227339335706
         ]
        ]
       },
       "y": {
        "type": "float",
        "values": [
         [
          0.5271223505498778,
          0.41305515312279745,
          0.5796961417400555,
          0.9116146811300156
         ],
         [
          0.5271223505498778,
          0.42271381055996105,
          -0.12426375746363771,
          0.41305515312279745
         ]
        ]
       }
      }
     },
     "cfb20dcfa8b64a3eb966cf50ce9275ea": {
      "model_module": "bqplot",
      "model_module_version": "^0.4.5",
      "model_name": "LinearScaleModel",
      "state": {
       "allow_padding": false,
       "max": 1,
       "min": 0,
       "stabilized": false
      }
     },
     "cfb71f9de964413eb8444c7fe05fb7d4": {
      "model_module": "bqplot",
      "model_module_version": "^0.4.5",
      "model_name": "LinearScaleModel",
      "state": {
       "allow_padding": false,
       "max": 1,
       "min": 0,
       "stabilized": false
      }
     },
     "d041149d4c4940e7b6853246afa9ec51": {
      "model_module": "bqplot",
      "model_module_version": "^0.4.5",
      "model_name": "DateScaleModel",
      "state": {}
     },
     "d05bc2d353784e569b77d1c1d20bfd51": {
      "model_module": "bqplot",
      "model_module_version": "^0.4.5",
      "model_name": "AxisModel",
      "state": {
       "orientation": "vertical",
       "scale": "IPY_MODEL_ec62227cabba4356ba518b79b0fc3f85",
       "side": "left",
       "tick_values": {
        "type": null,
        "values": null
       },
       "visible": false
      }
     },
     "d0a348f136bd443a96c396a4f77b03ea": {
      "model_module": "bqplot",
      "model_module_version": "^0.4.5",
      "model_name": "ScatterModel",
      "state": {
       "color": {
        "type": null,
        "values": null
       },
       "colors": [
        "steelblue"
       ],
       "display_legend": false,
       "display_names": false,
       "names": {
        "type": null,
        "values": null
       },
       "opacity": {
        "type": null,
        "values": null
       },
       "rotation": {
        "type": null,
        "values": null
       },
       "scales": {
        "x": "IPY_MODEL_06121ec0786f450097d9ed63aa6aeb46",
        "y": "IPY_MODEL_8e921276077a408b9dcdf25b02da2249"
       },
       "scales_metadata": {
        "color": {
         "dimension": "color"
        },
        "opacity": {
         "dimension": "opacity"
        },
        "rotation": {
         "dimension": "rotation"
        },
        "size": {
         "dimension": "size"
        },
        "skew": {
         "dimension": "skew"
        },
        "x": {
         "dimension": "x",
         "orientation": "horizontal"
        },
        "y": {
         "dimension": "y",
         "orientation": "vertical"
        }
       },
       "selected": [],
       "size": {
        "type": null,
        "values": null
       },
       "skew": {
        "type": null,
        "values": null
       },
       "stroke": "black",
       "tooltip": "IPY_MODEL_b80ed1e2fbfa45358769dcf805aedaf3",
       "x": {
        "type": "float",
        "values": [
         0.771320643266746,
         0.6336482349262754,
         0.4985070123025904,
         0.19806286475962398,
         0.16911083656253545,
         0.6853598183677972
        ]
       },
       "y": {
        "type": "float",
        "values": [
         0.0207519493594015,
         0.7488038825386119,
         0.22479664553084766,
         0.7605307121989587,
         0.08833981417401027,
         0.9533933461949365
        ]
       }
      }
     },
     "d0ef5653e866457aa87de2c0fc654557": {
      "model_module": "bqplot",
      "model_module_version": "^0.4.5",
      "model_name": "LinearScaleModel",
      "state": {
       "max": 1,
       "min": 0,
       "stabilized": false
      }
     },
     "d15bdf0e7fb345a1aa16c9df8a25e52c": {
      "model_module": "bqplot",
      "model_module_version": "^0.4.5",
      "model_name": "LinearScaleModel",
      "state": {
       "stabilized": false
      }
     },
     "d1ded79a3d7a49279956ad21cdece577": {
      "model_module": "bqplot",
      "model_module_version": "^0.4.5",
      "model_name": "LinearScaleModel",
      "state": {
       "max": 1,
       "min": 0,
       "stabilized": false
      }
     },
     "d1e87c8c5ec540b187aa0acc88c7cec9": {
      "model_module": "bqplot",
      "model_module_version": "^0.4.5",
      "model_name": "LinearScaleModel",
      "state": {
       "allow_padding": false,
       "max": 1,
       "min": 0,
       "stabilized": false
      }
     },
     "d2a6c15becfa4208ad85d1f5f22b2998": {
      "model_module": "bqplot",
      "model_module_version": "^0.4.5",
      "model_name": "LinearScaleModel",
      "state": {
       "allow_padding": false,
       "max": 1,
       "min": 0,
       "stabilized": false
      }
     },
     "d37739deaeb445ecbbf7849b0e8a7754": {
      "model_module": "bqplot",
      "model_module_version": "^0.4.5",
      "model_name": "LinearScaleModel",
      "state": {
       "max": 1,
       "min": 0,
       "stabilized": false
      }
     },
     "d3996a72da7c437ea23da4cca0b69251": {
      "model_module": "bqplot",
      "model_module_version": "^0.4.5",
      "model_name": "LinearScaleModel",
      "state": {
       "allow_padding": false,
       "max": 1,
       "min": 0,
       "stabilized": false
      }
     },
     "d3b1eafacd0a44579b4288cd6658b901": {
      "model_module": "bqplot",
      "model_module_version": "^0.4.5",
      "model_name": "LinesModel",
      "state": {
       "color": {
        "type": null,
        "values": null
       },
       "colors": [
        "black"
       ],
       "display_legend": false,
       "fill_colors": [],
       "labels": [
        "C1"
       ],
       "scales": {
        "x": "IPY_MODEL_2a6aca56c2d14e61beef14fd6a225877",
        "y": "IPY_MODEL_6aebc1b7d022462ea4ac7b8228d301a8"
       },
       "selected": [],
       "x": {
        "type": "float",
        "values": [
         -5.20820435004358,
         0.11120787378448214
        ]
       },
       "y": {
        "type": "float",
        "values": [
         1.8846379679106748,
         0.3365460478735013
        ]
       }
      }
     },
     "d45c418556ba473fb59dc04a944eb5ba": {
      "model_module": "bqplot",
      "model_module_version": "^0.4.5",
      "model_name": "LinesModel",
      "state": {
       "color": {
        "type": null,
        "values": null
       },
       "colors": [
        "black"
       ],
       "display_legend": false,
       "fill_colors": [],
       "labels": [
        "C1"
       ],
       "scales": {
        "x": "IPY_MODEL_b50daaba70f04418935494498fcbe2b3",
        "y": "IPY_MODEL_27e68e618c6a452a9dc5120635c7b7f1"
       },
       "selected": [],
       "x": {
        "type": "float",
        "values": [
         0.6838775462866998,
         0.5272947621552145
        ]
       },
       "y": {
        "type": "float",
        "values": [
         0.5342473347036941,
         0.5706683504567711
        ]
       }
      }
     },
     "d4a3961b79d147aba8bd4cd5e2709069": {
      "model_module": "bqplot",
      "model_module_version": "^0.4.5",
      "model_name": "LinearScaleModel",
      "state": {
       "max": 1,
       "min": 0,
       "stabilized": false
      }
     },
     "d4eb1de22cb6421e83a4b7802589414c": {
      "model_module": "bqplot",
      "model_module_version": "^0.4.5",
      "model_name": "FigureModel",
      "state": {
       "_dom_classes": [],
       "animation_duration": 1000,
       "axes": [
        "IPY_MODEL_0c2705aa7e2a431385b321b9b95a2e60",
        "IPY_MODEL_49cea67bf553461a81b514e3799a5aed"
       ],
       "layout": "IPY_MODEL_5215be2613a944a4a7347eb9d7356964",
       "marks": [
        "IPY_MODEL_1af1b32ee21e4bcaaeb72ee68c43dc01",
        "IPY_MODEL_94c5b94291234ee781b39288c305e820"
       ],
       "scale_x": "IPY_MODEL_f4279ab8cf6b48d1b3f3b446910f61d8",
       "scale_y": "IPY_MODEL_877d7368def948968063a5580e6625b8"
      }
     },
     "d50952a624744e699d60baff1d241e4d": {
      "model_module": "bqplot",
      "model_module_version": "^0.4.5",
      "model_name": "FigureModel",
      "state": {
       "_dom_classes": [],
       "animation_duration": 1000,
       "axes": [
        "IPY_MODEL_1c247996a062473186fef0e55e886c1d",
        "IPY_MODEL_cdae84fa6102480d8bbc9fbcbf1dd1dc"
       ],
       "layout": "IPY_MODEL_a92da3fb904d4c13880c197becad00a2",
       "marks": [
        "IPY_MODEL_4b7b4135e96745fbb2a18d429a6bc1af"
       ],
       "scale_x": "IPY_MODEL_1e6973d77b9d4125a2d86ab4c6f00a6e",
       "scale_y": "IPY_MODEL_5283068f818a4b989f077f4183c7de26"
      }
     },
     "d5c50a065bc84e5e9d679c5ccf2d6b92": {
      "model_module": "bqplot",
      "model_module_version": "^0.4.5",
      "model_name": "LinesModel",
      "state": {
       "color": {
        "type": null,
        "values": null
       },
       "display_legend": false,
       "fill_colors": [],
       "labels": [
        "C1",
        "C2",
        "C3",
        "C4",
        "C5",
        "C6",
        "C7",
        "C8",
        "C9",
        "C10"
       ],
       "scales": {
        "color": "IPY_MODEL_ae091349741c494497058af3428b80c1",
        "x": "IPY_MODEL_d041149d4c4940e7b6853246afa9ec51",
        "y": "IPY_MODEL_db9bb10ad48a4538b0f5e229d1c7c8c7"
       },
       "selected": [],
       "x": {
        "type": "date",
        "values": [
         "2007-06-01T00:00:00.000000",
         "2007-06-02T00:00:00.000000",
         "2007-06-03T00:00:00.000000",
         "2007-06-04T00:00:00.000000",
         "2007-06-05T00:00:00.000000",
         "2007-06-06T00:00:00.000000",
         "2007-06-07T00:00:00.000000",
         "2007-06-08T00:00:00.000000",
         "2007-06-09T00:00:00.000000",
         "2007-06-10T00:00:00.000000",
         "2007-06-11T00:00:00.000000",
         "2007-06-12T00:00:00.000000",
         "2007-06-13T00:00:00.000000",
         "2007-06-14T00:00:00.000000",
         "2007-06-15T00:00:00.000000",
         "2007-06-16T00:00:00.000000",
         "2007-06-17T00:00:00.000000",
         "2007-06-18T00:00:00.000000",
         "2007-06-19T00:00:00.000000",
         "2007-06-20T00:00:00.000000",
         "2007-06-21T00:00:00.000000",
         "2007-06-22T00:00:00.000000",
         "2007-06-23T00:00:00.000000",
         "2007-06-24T00:00:00.000000",
         "2007-06-25T00:00:00.000000",
         "2007-06-26T00:00:00.000000",
         "2007-06-27T00:00:00.000000",
         "2007-06-28T00:00:00.000000",
         "2007-06-29T00:00:00.000000",
         "2007-06-30T00:00:00.000000",
         "2007-07-01T00:00:00.000000",
         "2007-07-02T00:00:00.000000",
         "2007-07-03T00:00:00.000000",
         "2007-07-04T00:00:00.000000",
         "2007-07-05T00:00:00.000000",
         "2007-07-06T00:00:00.000000",
         "2007-07-07T00:00:00.000000",
         "2007-07-08T00:00:00.000000",
         "2007-07-09T00:00:00.000000",
         "2007-07-10T00:00:00.000000",
         "2007-07-11T00:00:00.000000",
         "2007-07-12T00:00:00.000000",
         "2007-07-13T00:00:00.000000",
         "2007-07-14T00:00:00.000000",
         "2007-07-15T00:00:00.000000",
         "2007-07-16T00:00:00.000000",
         "2007-07-17T00:00:00.000000",
         "2007-07-18T00:00:00.000000",
         "2007-07-19T00:00:00.000000",
         "2007-07-20T00:00:00.000000",
         "2007-07-21T00:00:00.000000",
         "2007-07-22T00:00:00.000000",
         "2007-07-23T00:00:00.000000",
         "2007-07-24T00:00:00.000000",
         "2007-07-25T00:00:00.000000",
         "2007-07-26T00:00:00.000000",
         "2007-07-27T00:00:00.000000",
         "2007-07-28T00:00:00.000000",
         "2007-07-29T00:00:00.000000",
         "2007-07-30T00:00:00.000000",
         "2007-07-31T00:00:00.000000",
         "2007-08-01T00:00:00.000000",
         "2007-08-02T00:00:00.000000",
         "2007-08-03T00:00:00.000000",
         "2007-08-04T00:00:00.000000",
         "2007-08-05T00:00:00.000000",
         "2007-08-06T00:00:00.000000",
         "2007-08-07T00:00:00.000000",
         "2007-08-08T00:00:00.000000",
         "2007-08-09T00:00:00.000000",
         "2007-08-10T00:00:00.000000",
         "2007-08-11T00:00:00.000000",
         "2007-08-12T00:00:00.000000",
         "2007-08-13T00:00:00.000000",
         "2007-08-14T00:00:00.000000",
         "2007-08-15T00:00:00.000000",
         "2007-08-16T00:00:00.000000",
         "2007-08-17T00:00:00.000000",
         "2007-08-18T00:00:00.000000",
         "2007-08-19T00:00:00.000000",
         "2007-08-20T00:00:00.000000",
         "2007-08-21T00:00:00.000000",
         "2007-08-22T00:00:00.000000",
         "2007-08-23T00:00:00.000000",
         "2007-08-24T00:00:00.000000",
         "2007-08-25T00:00:00.000000",
         "2007-08-26T00:00:00.000000",
         "2007-08-27T00:00:00.000000",
         "2007-08-28T00:00:00.000000",
         "2007-08-29T00:00:00.000000",
         "2007-08-30T00:00:00.000000",
         "2007-08-31T00:00:00.000000",
         "2007-09-01T00:00:00.000000",
         "2007-09-02T00:00:00.000000",
         "2007-09-03T00:00:00.000000",
         "2007-09-04T00:00:00.000000",
         "2007-09-05T00:00:00.000000",
         "2007-09-06T00:00:00.000000",
         "2007-09-07T00:00:00.000000",
         "2007-09-08T00:00:00.000000",
         "2007-09-09T00:00:00.000000",
         "2007-09-10T00:00:00.000000",
         "2007-09-11T00:00:00.000000",
         "2007-09-12T00:00:00.000000",
         "2007-09-13T00:00:00.000000",
         "2007-09-14T00:00:00.000000",
         "2007-09-15T00:00:00.000000",
         "2007-09-16T00:00:00.000000",
         "2007-09-17T00:00:00.000000",
         "2007-09-18T00:00:00.000000",
         "2007-09-19T00:00:00.000000",
         "2007-09-20T00:00:00.000000",
         "2007-09-21T00:00:00.000000",
         "2007-09-22T00:00:00.000000",
         "2007-09-23T00:00:00.000000",
         "2007-09-24T00:00:00.000000",
         "2007-09-25T00:00:00.000000",
         "2007-09-26T00:00:00.000000",
         "2007-09-27T00:00:00.000000",
         "2007-09-28T00:00:00.000000",
         "2007-09-29T00:00:00.000000",
         "2007-09-30T00:00:00.000000",
         "2007-10-01T00:00:00.000000",
         "2007-10-02T00:00:00.000000",
         "2007-10-03T00:00:00.000000",
         "2007-10-04T00:00:00.000000",
         "2007-10-05T00:00:00.000000",
         "2007-10-06T00:00:00.000000",
         "2007-10-07T00:00:00.000000",
         "2007-10-08T00:00:00.000000",
         "2007-10-09T00:00:00.000000",
         "2007-10-10T00:00:00.000000",
         "2007-10-11T00:00:00.000000",
         "2007-10-12T00:00:00.000000",
         "2007-10-13T00:00:00.000000",
         "2007-10-14T00:00:00.000000",
         "2007-10-15T00:00:00.000000",
         "2007-10-16T00:00:00.000000",
         "2007-10-17T00:00:00.000000",
         "2007-10-18T00:00:00.000000",
         "2007-10-19T00:00:00.000000",
         "2007-10-20T00:00:00.000000",
         "2007-10-21T00:00:00.000000",
         "2007-10-22T00:00:00.000000",
         "2007-10-23T00:00:00.000000",
         "2007-10-24T00:00:00.000000",
         "2007-10-25T00:00:00.000000",
         "2007-10-26T00:00:00.000000",
         "2007-10-27T00:00:00.000000",
         "2007-10-28T00:00:00.000000"
        ]
       },
       "y": {
        "type": "float",
        "values": [
         [
          99.681482500231,
          101.01598736836047,
          101.53561605083162,
          102.78205201843315,
          101.69275174023393,
          101.83930791884019,
          100.01147636363224,
          99.05571221493332,
          99.08951300291432,
          100.19378722070364,
          99.18694593571865,
          99.44203762250878,
          99.31276958816343,
          98.4228631670413,
          99.48829907727846,
          100.30290010445961,
          101.3952670238158,
          101.38372907936808,
          102.30054362055414,
          101.81005296044205,
          101.63073182403441,
          101.26892188320727,
          100.39502823738765,
          100.1783398667303,
          101.54199982582419,
          102.05083484171053,
          101.91024482207327,
          102.04847724355767,
          102.67429864576732,
          103.51886511485293,
          104.70584698880586,
          104.67192678302135,
          106.1147324156792,
          107.58024653329313,
          106.66706940074069,
          107.04236416685916,
          106.20404376392831,
          106.67728492898352,
          106.72294658201842,
          106.48092300216601,
          106.25471889620314,
          106.2123813605157,
          106.86325029015332,
          106.63026892459146,
          107.07885953154823,
          105.63598886145053,
          104.91412236670888,
          104.44783553712665,
          104.07943264336012,
          105.2570969670375,
          104.30568733100415,
          103.06064914578359,
          102.89449702663482,
          101.03591634903228,
          101.23929340464518,
          100.18477824397024,
          100.81695669391648,
          99.78265498549982,
          99.61289959904657,
          98.4675684622997,
          98.13955082850595,
          98.83354449967224,
          99.42024688303786,
          100.05650191621015,
          99.85158769811373,
          99.38858700056336,
          99.40164329133465,
          100.07011727015173,
          101.07088813603504,
          101.44815581218697,
          100.94093714747262,
          99.51758725342854,
          97.8942904118905,
          95.98915144854877,
          98.59034517840585,
          96.28960034589072,
          95.44817133141001,
          94.62915006474645,
          94.40062641771355,
          94.40303422258323,
          94.11975638098195,
          93.13953447553853,
          93.47317819317846,
          94.421332331738,
          93.21329036788052,
          91.7576460078022,
          91.74327608022348,
          92.5431213933648,
          91.92290939201777,
          90.24003920303015,
          90.98434237010636,
          92.45692539438235,
          91.90456552374475,
          91.80607211753869,
          93.18504887619522,
          92.39984280902485,
          92.95283076374906,
          94.5477374625822,
          94.3160581975091,
          92.56366791252867,
          92.05672949656034,
          90.0104845607639,
          91.5497827929629,
          91.96449067484356,
          91.41116466448213,
          91.22559410875759,
          90.88833157271428,
          92.39188328813384,
          91.64664531726667,
          90.71427936657524,
          89.14396720960846,
          89.72207049642701,
          89.09646149424347,
          90.48140923399436,
          89.26203518083025,
          89.86804395459166,
          90.72645735819326,
          90.97192913590737,
          90.69252250045338,
          88.87530594763807,
          90.42560740992516,
          92.67960755920812,
          94.00094897320129,
          94.66425042318103,
          93.34686390109809,
          92.95642813078373,
          93.38487316570921,
          93.56059771542232,
          93.35825055376547,
          92.94996639216889,
          91.86529501558041,
          91.44456330559159,
          90.83693307876226,
          91.96182030327347,
          92.50543690558848,
          92.22271970773545,
          92.10916074201413,
          91.90559107392227,
          92.19414419625558,
          92.16009720154636,
          92.59978517143158,
          92.65993655353996,
          93.32901667399939,
          93.00707651357386,
          92.94040571936439,
          93.9246140340885,
          95.44939298744863,
          95.26547915501587,
          94.58294310139206,
          93.21501893193765
         ],
         [
          100.91129920626378,
          99.4776279835498,
          98.36427063761994,
          97.91306495751866,
          96.30440272844012,
          97.35083227066124,
          96.77751856714508,
          96.58667577022375,
          96.61892330654727,
          97.53285462420197,
          98.48615682298893,
          99.00540593529487,
          99.25088316590642,
          98.45026017656916,
          98.83328477891014,
          99.61648224682487,
          97.42813174652673,
          97.09006032283398,
          96.86018814724004,
          98.7898394638611,
          99.32473526215041,
          99.72752074787427,
          98.79504437182612,
          98.0614378977618,
          98.10691603913936,
          99.20284751928747,
          97.64072686014096,
          96.66333645762116,
          94.79743175074044,
          94.3613020843463,
          94.39741793085645,
          93.55148344949964,
          92.67978667342973,
          93.02163103574333,
          94.11308860673918,
          93.57106750580972,
          94.54218999344916,
          95.46749012760533,
          94.68551637698893,
          94.30170659529355,
          95.45290236447707,
          93.07408830361422,
          92.60158392278619,
          92.81510229941136,
          92.45434427818323,
          92.99686474888827,
          93.03564545728089,
          92.00439292274211,
          91.32534314036408,
          91.55484216310764,
          92.58525738002871,
          92.94899788618405,
          93.097864149328,
          92.38503479882206,
          91.91248516815286,
          93.07592481098939,
          93.77485794471056,
          94.55178045592989,
          94.17006992651704,
          92.64110376577797,
          92.95307461781087,
          92.18153036761029,
          93.20256031943009,
          93.28609863961718,
          92.30936392790761,
          91.39719504610702,
          92.24301643992915,
          92.6632376340916,
          93.25584867557845,
          93.04838161098019,
          93.24267089067281,
          92.02705921350079,
          92.09380447941106,
          92.94618166903284,
          94.04578647803723,
          93.40917139375462,
          93.17993367019606,
          92.94187182174468,
          92.66387891289934,
          91.44828516179065,
          91.26755724126076,
          90.06424821042285,
          89.77629193759367,
          90.5705996555898,
          89.95169403883068,
          91.21386943150907,
          92.50006972847741,
          91.87127607301483,
          93.37638913657455,
          93.0241874214317,
          93.85437709647331,
          96.00236274920572,
          94.37298458864569,
          94.02828463296177,
          93.41457067692733,
          92.39643316702907,
          92.90276598366428,
          93.03043596744479,
          93.88821118995463,
          93.34089400175611,
          93.71238229227647,
          94.7227397861179,
          95.6826716350345,
          93.86955617033493,
          93.15561259702322,
          93.24706033859697,
          93.69651023520044,
          93.414797191496,
          94.68525993033548,
          94.73098034913579,
          94.50783724463581,
          94.92706296842462,
          93.84238139637239,
          93.55067247473883,
          94.93364236286426,
          95.07659635421042,
          93.48563827805063,
          94.24751859162373,
          94.53249479889404,
          95.48838011007952,
          95.89322842572815,
          93.75950384297073,
          93.28537829358095,
          94.58582021194556,
          95.17713179125747,
          95.57097883373791,
          96.30811138134388,
          98.26463493116592,
          99.28565490231807,
          100.73327235300408,
          99.65247591497358,
          98.11680641180664,
          97.72485540727496,
          98.41976527925922,
          97.97202718290971,
          97.6624228631362,
          95.90620205898152,
          95.688385187651,
          95.12119987826556,
          94.75885617314943,
          95.83116674485424,
          96.35511362286526,
          97.78683960964698,
          97.58289327901346,
          99.9841635745349,
          99.09850420446834,
          96.57688182714489,
          97.04019817620853,
          97.59927852426414,
          96.8712715933012
         ],
         [
          101.14451571713126,
          101.28528867241685,
          100.71672911219392,
          100.22576664824918,
          98.9115218053166,
          98.67519686683957,
          98.26867790278217,
          98.36748628472797,
          97.49870664298479,
          98.43983341279241,
          99.45967608146368,
          99.21406087738578,
          99.7433053354229,
          99.97066412749177,
          97.9063135055438,
          95.8621945195182,
          94.72110990593501,
          94.09585620667463,
          93.9750247248953,
          95.61663374117086,
          96.52484553363165,
          95.1947206686929,
          96.79074086924172,
          96.51575739828057,
          96.99856022907119,
          97.7418163896023,
          98.21781658736566,
          98.6809667668962,
          98.0684134075958,
          99.89407317659145,
          99.48257258244521,
          100.52475219463398,
          100.71715435423138,
          100.1419645395252,
          98.84916348216483,
          100.291451583136,
          102.59399766428548,
          103.71079326319726,
          103.04723981851066,
          102.47790898983746,
          100.05128194716326,
          98.95822987517057,
          100.57663648631734,
          101.78667590767051,
          99.53506511925801,
          97.56267926701237,
          97.62209977720767,
          98.46578952565598,
          99.8574909631293,
          98.55599001105688,
          97.35877835715759,
          96.81410284774168,
          96.78513593045135,
          97.64327409402865,
          97.12282777370162,
          97.5320802096962,
          97.92568867868638,
          97.94530809050485,
          98.7055831289346,
          99.26714685629182,
          98.93814058551936,
          98.6157714033115,
          98.8073851777961,
          100.57684715484456,
          100.82339595367624,
          100.17224824257997,
          101.05554870173106,
          100.64950625424154,
          101.35293006098591,
          101.72734179214758,
          101.26489607460019,
          100.56676633523857,
          100.77244542967914,
          100.22793812117705,
          98.96729930550673,
          98.64943103480674,
          97.87495277909414,
          97.12680460731038,
          96.93404669926777,
          96.17078303544652,
          97.63389565700463,
          98.61780090540027,
          99.35861220533951,
          99.33381611758792,
          99.94084497386956,
          99.30575115626598,
          97.8344499521707,
          96.98552963153226,
          98.1011738467215,
          96.73085251458426,
          95.67403186631915,
          96.38319223043555,
          97.01489831171695,
          97.28272735143435,
          97.2847776795223,
          98.9931059354772,
          97.95430177831251,
          98.52782549491153,
          97.92577844180853,
          99.53174401715688,
          98.01650187321448,
          97.61112903634871,
          97.97124072684068,
          97.63124132168419,
          96.03127244778652,
          96.14071757488999,
          96.43468189146597,
          97.03228106945505,
          96.99256315791028,
          97.07192344208924,
          97.13851271923966,
          98.08465410645383,
          99.2478834721842,
          99.7722326688364,
          99.41964887190413,
          99.92515935529173,
          99.8205443984223,
          98.17071139847761,
          98.25808897384799,
          98.34505025770787,
          99.20005324537759,
          99.78994805918214,
          98.88201717684449,
          100.03765086949504,
          100.9340628431476,
          102.04001533229815,
          101.84938868976518,
          102.63272516585005,
          103.08955514996528,
          102.8690457578132,
          101.97071674427046,
          102.50874679333722,
          102.52355687703717,
          102.00915061422758,
          101.4361953164864,
          103.69070021869364,
          103.88081130262289,
          104.69128793049501,
          105.70116880166881,
          104.99578435710565,
          105.32137897264221,
          107.11258998406554,
          109.17396755992958,
          108.67643577704919,
          107.92947614193231,
          108.83665650353976,
          107.84116137828597,
          108.67048588861778,
          109.56032993901225,
          107.9870598358218
         ],
         [
          99.94011576533349,
          100.71570979727896,
          99.40291276074497,
          100.01946142415203,
          99.97365861624081,
          100.43726713609601,
          99.00010564292643,
          100.94631402410965,
          100.90904329824815,
          99.71920968503055,
          99.53686481346895,
          99.08099491815643,
          100.74262427039871,
          102.86446307872347,
          102.74736596617676,
          102.30155856599664,
          103.0138426195619,
          102.77056476665257,
          101.09431747871655,
          100.8256832960341,
          101.80007431814373,
          103.1604471694215,
          104.27857161376413,
          104.33605470205326,
          103.46687553270151,
          104.46521123065523,
          103.45347779641598,
          102.93519548006476,
          102.82940240780607,
          103.1479047370135,
          102.3919762465957,
          102.51047625187587,
          102.11357613643338,
          101.5009163550021,
          100.97010851961689,
          101.80248516906353,
          102.54471602285112,
          101.71774397380067,
          99.96604285611559,
          99.31683112706314,
          99.73183732331412,
          100.16802031139596,
          101.41152307448522,
          101.21513533860018,
          99.71155529118894,
          100.12668368545877,
          98.08368422661967,
          99.47639470517915,
          100.00086892073163,
          99.40168390978178,
          99.12360897747716,
          100.07225589948185,
          100.09307910973862,
          99.90464357675225,
          97.72651945857467,
          96.93149425943774,
          96.37927864830999,
          96.90331584439383,
          100.56763561384494,
          100.84851170562291,
          100.54208696765367,
          102.27303860833989,
          100.42559250234765,
          100.72574117569906,
          101.39747539926442,
          101.95022292812133,
          102.33965890826762,
          102.6586518064042,
          103.56122083142594,
          104.54809718146389,
          106.26209694406168,
          106.43992959450048,
          105.58548021035823,
          105.9908367499172,
          106.19015454028548,
          107.37341222292356,
          107.09229232579726,
          107.96298983474978,
          107.71686858647892,
          106.75280496156545,
          105.91192036532814,
          106.41719894933263,
          106.64986816422393,
          105.80637602921453,
          105.5608232081275,
          106.06417951628771,
          104.53050861155309,
          104.04853895348579,
          103.19763823390089,
          101.72468773143471,
          100.57464597808385,
          101.29473562299032,
          101.22525966498351,
          102.52811003299583,
          101.0008837181663,
          99.30031575226639,
          98.30428414344516,
          97.21970472417591,
          96.19284926108743,
          96.64429061465353,
          96.50396271929587,
          95.16394332819448,
          93.66783811175142,
          94.44101323329132,
          94.91273107252297,
          95.75957319187748,
          95.10253996512284,
          96.27167157783538,
          95.43636674749771,
          94.6694230576563,
          96.09765188297688,
          96.06043397010626,
          95.98273365953145,
          96.62467692819368,
          95.8037734909096,
          93.7667921747981,
          95.01616228017977,
          96.35842922304477,
          98.32791782193694,
          97.60842303169932,
          98.78272664932689,
          98.50792403671936,
          96.91683830153133,
          97.61618456259977,
          97.91320978010478,
          96.18695395476968,
          97.86785507374161,
          97.09082053609168,
          97.59136577702243,
          98.12206981651453,
          97.83079341044883,
          98.60325224616278,
          99.28059540542168,
          99.39975579086084,
          98.02278910489296,
          99.5684278284043,
          99.22702465797742,
          100.7580315313104,
          101.62916248597669,
          102.99630364899517,
          102.09749512463208,
          100.30943237362767,
          100.79034263535715,
          100.70448854141891,
          101.40615222402629,
          101.150639054121,
          102.38431171050128,
          98.65853992153373,
          97.48599378922042,
          97.93032715436087
         ],
         [
          99.92425793717042,
          99.24032997202636,
          98.33896784757277,
          99.15593270223982,
          99.85356917935636,
          99.48421192335337,
          100.19208783677162,
          99.90918429789416,
          100.61473131122015,
          99.88342777972902,
          100.78274644370879,
          99.89253550638419,
          99.17525702614476,
          98.45954401802982,
          98.59381700342011,
          98.53762030709,
          99.16455757746472,
          98.58049361270277,
          97.52350568389356,
          98.38164988087955,
          98.73449513265867,
          97.96489054401908,
          98.45765087533223,
          97.77586405098458,
          98.27593729330074,
          99.82146854877493,
          100.62130808538906,
          100.65958999951931,
          99.72198443875509,
          99.13634588545575,
          98.79998325326191,
          98.12462103709211,
          98.91971172721806,
          98.85215405721515,
          99.24689167947624,
          98.20886150370391,
          99.02951427708406,
          97.57792243195279,
          98.29240885112814,
          98.13798610127424,
          98.52936603328834,
          98.1578704378688,
          97.17847370520818,
          96.8026288636811,
          97.81406456638803,
          98.12524232899258,
          99.02807788928452,
          99.49461072317426,
          99.57492380413929,
          97.88103534838604,
          97.48673619017958,
          95.71510630749329,
          94.67637896704717,
          93.9045855324819,
          92.96176040311262,
          91.95893861503941,
          91.49833191806748,
          92.02773088022427,
          91.91673143568102,
          91.63629705926542,
          91.08153317032375,
          90.46489456539838,
          92.88762792737492,
          93.23501687995793,
          92.09979028433308,
          92.73739017413189,
          92.88134494519227,
          93.57690310929779,
          94.1499276821006,
          94.15327603336658,
          95.53633590279179,
          95.8048764867821,
          96.37443565248527,
          95.97201795289297,
          96.72577955898515,
          98.51323697331198,
          99.24607994523836,
          97.09977162422203,
          98.40152505901867,
          98.66995688479496,
          99.26026408786421,
          100.32429034358539,
          100.83959596596591,
          102.23468439020189,
          103.28774218009876,
          103.9997198829889,
          103.7151854721592,
          104.61073178598048,
          103.46138490395869,
          103.96382817179074,
          103.35535434671512,
          105.15022282776359,
          103.72449997969282,
          104.32611334118832,
          103.58923148409723,
          103.52560834545565,
          104.95149561447315,
          105.5610711825469,
          106.44998916531839,
          107.18714734496604,
          107.90344365878835,
          106.81400379326782,
          105.1109170451471,
          104.9767342774203,
          105.42631812078689,
          107.02086937701495,
          107.55731189144885,
          106.15377368688162,
          106.35588493588487,
          105.78788163889324,
          107.90318516540702,
          108.47461580308469,
          107.44240674702476,
          106.88923247903125,
          105.84203869720037,
          106.09069521336436,
          107.1248445658843,
          106.6231301625142,
          105.14322934429572,
          107.4867623492396,
          107.92549806885229,
          106.43891487991776,
          107.18257528312127,
          105.80386081489857,
          104.46636198879108,
          105.21816350939669,
          105.30023412793234,
          104.56923115138022,
          104.061691111568,
          103.11888609531299,
          103.42207809707874,
          102.2034752859803,
          101.42753095612586,
          101.52635479762158,
          100.98224345053805,
          100.222689887042,
          102.5448545697862,
          102.63398807640863,
          102.65150089827095,
          102.76955194121054,
          102.27238386403508,
          101.53968860402871,
          101.56480411527033,
          102.57013724942652,
          104.30871208518917,
          104.81943067107015,
          105.24439018596222,
          103.09988043985848,
          102.99823154687277,
          104.83943167844637
         ],
         [
          101.03267553750787,
          101.29702492324229,
          100.68367896908262,
          99.38580940843576,
          100.5234120322823,
          100.37007059741461,
          99.90255468757368,
          99.94487158637921,
          100.59731461346593,
          101.67893496146112,
          100.82012955411918,
          99.78808640214716,
          97.96307008451421,
          97.90965503735185,
          99.05274975174838,
          98.804382325335,
          99.17785841995577,
          100.14668185547173,
          101.94446803739116,
          103.25643334457602,
          102.44400071815987,
          102.82868793111017,
          102.70456160303745,
          103.46654885736999,
          103.73195088153528,
          103.87584835922094,
          103.55325566610178,
          102.96750790656466,
          102.06024627768464,
          102.93817982726007,
          103.36827965460816,
          103.50753460096227,
          103.46839831893206,
          104.1392873069482,
          103.52737641588195,
          102.31849737084745,
          103.01763761183884,
          102.50718425556815,
          103.29072046716269,
          103.86827471563808,
          103.10287251453488,
          101.90230167359566,
          102.26751379412082,
          102.27009569949493,
          102.1508418699481,
          102.80168276919262,
          103.15405955608873,
          103.01806037535036,
          102.30976250668442,
          103.0635014110607,
          103.58896298865798,
          103.31856495190385,
          102.7817098463845,
          102.60229204100332,
          102.36406811525481,
          102.92405262694297,
          104.15002379812756,
          102.14094683282516,
          102.10174025817983,
          101.27810518794797,
          100.75982655670923,
          100.82088624744509,
          102.54194392032522,
          102.0481914259653,
          101.09125147845937,
          99.97604875447665,
          98.80130930050501,
          99.14797798227515,
          97.82172787140934,
          98.07965427365541,
          97.45611787109705,
          100.05468380650915,
          99.0338966780651,
          97.54727258862397,
          97.11639255614773,
          97.56972652681823,
          97.13023412240446,
          95.40137569928054,
          95.54774255783695,
          95.90203306303204,
          96.01375880095087,
          95.67398059812442,
          96.76531886011084,
          96.06679744764057,
          96.4877590287161,
          96.33100187357597,
          96.93045594127764,
          95.82214944322651,
          94.08407135703722,
          94.81920111552522,
          95.68551536087449,
          93.81908874861952,
          94.23753691204897,
          94.52518004602376,
          95.47195079583742,
          95.55085795279246,
          94.67345728914096,
          94.5286020994143,
          94.74171259563154,
          93.78874011879432,
          93.58635183750454,
          92.62931152263862,
          92.23076897636116,
          91.03043291479631,
          90.53795500911927,
          91.74883907788926,
          91.22452460190021,
          90.79973802320704,
          90.14960457606136,
          88.59231038360866,
          89.05823172391521,
          88.04765506966446,
          87.53378813160609,
          87.88674566418358,
          88.08805440854024,
          88.75634678216132,
          87.58388733657726,
          87.41798763246369,
          88.22006058548844,
          88.33640218298306,
          87.65354182100535,
          87.5257301960835,
          86.22164341010783,
          86.23014680604018,
          86.2873560063675,
          85.124202691799,
          86.45378558907787,
          86.33833754194924,
          84.74789990860378,
          86.05452295468673,
          84.8234195552495,
          87.42283515552056,
          86.15622228836779,
          87.2159645761414,
          87.8183753209725,
          88.37793977657799,
          87.50162199382505,
          87.8235480950945,
          87.20765929057342,
          86.07460428403895,
          87.64551229077773,
          87.36747363778986,
          88.37304244802567,
          87.32624498266541,
          87.54485172627982,
          88.57335177522276,
          89.48903384728041,
          88.89455984658737,
          89.13516418336617,
          86.28514844503718
         ],
         [
          101.21179522143687,
          101.91655918778366,
          101.53759585903097,
          101.06274565503519,
          102.09016300371854,
          101.04899932337274,
          101.4963895846449,
          100.69483243040021,
          100.74295034776125,
          99.7744647891358,
          99.01433069646477,
          100.37923107581041,
          100.23481328835416,
          99.6355381052748,
          99.6108514804918,
          99.55537433235902,
          99.78800603848651,
          99.16708887349616,
          101.43131617170614,
          101.6016680090828,
          101.15464447810042,
          100.79421871851484,
          101.2439241552713,
          103.4804560665471,
          102.68981682793786,
          102.99482588282231,
          103.88391709368427,
          104.18648671168653,
          104.34156343199746,
          103.19316550453551,
          104.1706911627744,
          104.60092573632238,
          105.5242258903877,
          106.33947150220251,
          105.63573548902956,
          105.88999371475994,
          106.18525822469489,
          105.43132535498768,
          106.31935627300147,
          106.11290623954565,
          107.36365228046127,
          107.22187263841,
          107.94582507460592,
          108.40537680980339,
          109.24648397368418,
          110.87424076991839,
          110.34468604658494,
          110.05878919881867,
          109.08183188650922,
          107.35700450825557,
          108.09557255799396,
          106.93137374665034,
          106.51619759546638,
          106.44515686165732,
          106.04788970562716,
          107.44341576615525,
          105.75166044989716,
          105.11094296626729,
          105.09461551198004,
          103.65394409214935,
          105.45312953966503,
          104.9834470224033,
          105.11456608739722,
          104.16987396379366,
          104.68684681920244,
          104.74501219951902,
          105.91972051666619,
          106.72080277319499,
          107.50791366344038,
          107.32199482407503,
          105.47660175768408,
          106.13886118914935,
          105.3259466488173,
          106.8313391192289,
          108.13578749207585,
          108.40892299602115,
          107.68585811148769,
          107.84575912703284,
          106.0193633610121,
          105.80745295976438,
          106.72893579834839,
          107.44970626984562,
          108.39959536867542,
          107.68621638880533,
          109.05782930477619,
          110.03944298926724,
          110.24283735764531,
          110.81779469276222,
          110.31331597001086,
          109.83130479899074,
          109.14998420196224,
          107.91514837761049,
          105.62545688989456,
          107.24131290030287,
          109.24017768728449,
          108.72291383349054,
          108.90423775582835,
          110.37144384904065,
          112.7563249641629,
          112.59820188379854,
          113.88939056592923,
          112.83706250792312,
          112.6914964905996,
          113.48168438220446,
          113.07380153049478,
          113.65453487623394,
          114.76378433786321,
          116.33237748567848,
          117.56328728102974,
          116.76506953517706,
          117.45988703381748,
          116.42198328388014,
          116.11957650846404,
          116.88443046805898,
          117.53566890492242,
          118.26022119970179,
          118.49365292968069,
          118.01434413021938,
          118.16041914134468,
          118.40683505791189,
          117.07580225592427,
          117.42465807753906,
          119.1593693286166,
          116.74687755292246,
          116.78580186957966,
          115.92230294666066,
          115.6622704586319,
          117.1951730368144,
          117.31238913002389,
          117.30536387063097,
          114.52018818535876,
          113.38582942303401,
          112.56755013197815,
          112.42802322788918,
          111.8285935712438,
          112.09998904254334,
          114.7376419155216,
          112.88353216943686,
          111.39268159997764,
          110.63073427718811,
          111.83711783984324,
          112.43687732976454,
          112.75547437521956,
          113.3713052132795,
          113.86123906008625,
          113.81602142222968,
          113.15939282860788,
          112.5637405045127,
          112.08803027600061,
          110.99769835977932
         ],
         [
          100.79552890889319,
          100.29140212277285,
          102.41324925873802,
          101.88106276740851,
          102.35112746651525,
          102.28094614126242,
          103.49217286871315,
          103.77461675538102,
          103.88114877672707,
          105.32430674952488,
          107.07633393816067,
          107.99766744900755,
          107.1511517906449,
          106.70034415231618,
          107.19918602226817,
          106.70150692515683,
          108.17271313409682,
          107.73778511189299,
          106.5783040427566,
          107.07281672651158,
          106.43750713086028,
          107.7507962026778,
          107.9519617286519,
          107.35915850692898,
          106.82393508757198,
          106.38825169483636,
          105.11486876099389,
          106.48396851243163,
          106.03353279917289,
          106.65738773360573,
          105.58846342467156,
          105.57670478315237,
          104.79890256294522,
          104.21100007436247,
          104.60213435143204,
          104.87728391677445,
          104.78456721999144,
          104.86649397592464,
          103.59931286093642,
          103.96168642251853,
          101.36725152890386,
          101.51878461328425,
          101.45995761697363,
          103.12935463929526,
          103.52745628369725,
          102.60978617668417,
          102.02810490418632,
          102.63197417474402,
          102.43080006051608,
          102.1866631919497,
          102.98386021702973,
          103.12131016230144,
          98.54746802589969,
          96.5818675605649,
          96.10185740331568,
          97.65385474288689,
          98.43792094985508,
          99.60248975408501,
          100.54199878054574,
          100.06951508446274,
          99.59777880327239,
          98.54303777938883,
          99.21718546721938,
          98.9777075512595,
          99.74056695451407,
          100.09158516536519,
          100.02395007899099,
          99.7604284764599,
          98.37395442348863,
          96.93840624327436,
          95.36420014406742,
          95.63159363092709,
          96.04956894982527,
          95.55198814093585,
          95.40807444098954,
          94.6478184240531,
          95.41642175084394,
          96.50022874672705,
          96.18139354517538,
          95.777493416524,
          95.6990826352407,
          96.03775158348238,
          95.96507549846811,
          95.30696734022077,
          94.62528238822462,
          95.1041851267399,
          94.6056338491008,
          94.01890238936262,
          93.03643485584816,
          93.74881157368671,
          96.37882504669817,
          98.18996596580986,
          100.2071364773153,
          100.79394890666138,
          102.20842116651563,
          103.27026279198545,
          102.31476456123146,
          101.88390557304649,
          102.66687755311692,
          103.10619974291663,
          103.36848055078988,
          102.744627893531,
          102.5197493714185,
          101.48728149869444,
          101.28227405894606,
          101.96462188358177,
          101.41893648744531,
          101.54123835347897,
          100.21676515929738,
          100.46277297471494,
          100.98097225439405,
          100.044248517764,
          99.35517429009414,
          100.39633604615314,
          100.11089406039358,
          98.07063186103545,
          98.52252301979661,
          98.08635300660879,
          97.48763418919624,
          95.71127537260175,
          95.39364148410289,
          95.98839227378011,
          94.61804591134101,
          95.5693449822268,
          94.88756875900886,
          94.87353819544087,
          95.56695595201334,
          95.42748654623954,
          97.08130418367578,
          96.23804019687029,
          96.36767295246779,
          95.03769083890931,
          95.67375141722788,
          95.87765813519417,
          96.35173215042022,
          96.51241625437875,
          96.00023246752156,
          96.27590383000887,
          95.95759579975767,
          95.64670638366397,
          95.07543827239448,
          95.88053760806034,
          95.84962948982852,
          97.04756769763138,
          97.2420214468466,
          96.77686382265838,
          98.0632769131237,
          98.69415136119576,
          100.03474536641902,
          99.72156458059973
         ],
         [
          99.771827878124,
          101.93745158382693,
          102.96665598035932,
          103.51640027069432,
          103.24426006629979,
          103.2045662763823,
          102.70729598168552,
          103.16959667372205,
          103.87931616040203,
          105.35053870587679,
          106.0576729728701,
          105.18407219084006,
          104.49311785080918,
          103.68131148482816,
          103.33670607586696,
          103.29717678536004,
          103.70009168497911,
          104.89567793155112,
          105.22402561707443,
          105.87504048217232,
          107.15551505985421,
          105.65020164825737,
          106.26801960774462,
          107.62916242547377,
          108.25468112286356,
          110.211671369389,
          109.29977023126077,
          109.69013184952591,
          109.65577111585338,
          110.50205113448308,
          110.50565703075739,
          112.3906981848565,
          113.69530025448246,
          114.00164204812903,
          114.37585330711237,
          114.28026521885013,
          116.2085361713108,
          115.75120653579393,
          116.74071743404875,
          116.66415031760748,
          115.67660200898615,
          116.47339823624151,
          115.14699357781348,
          114.94774553209959,
          112.89035718262497,
          114.20197920948272,
          114.60591522358293,
          114.62258042490596,
          114.42114986786375,
          112.96390426362291,
          110.71365778138133,
          110.94528040775697,
          111.89286177430529,
          112.01281784873396,
          112.5283402758739,
          113.85231601262332,
          112.4420233632312,
          113.91728318987268,
          114.63614700165886,
          114.98958324565766,
          114.40662423445045,
          115.59992851939047,
          114.17208630166814,
          113.10081620786211,
          113.91823746743128,
          113.90049174531451,
          113.20621034841629,
          112.78798041131628,
          113.7438487085445,
          112.44722787412368,
          111.77346541524065,
          111.84080098589628,
          111.06954835708531,
          112.66824230596683,
          112.99118317704388,
          113.07190650345974,
          113.05037552006668,
          112.51724084573193,
          110.48705765442621,
          111.21774137855255,
          111.94845272905783,
          113.12443632735929,
          112.87624030129716,
          112.95103514586704,
          113.71747491236403,
          113.17852230079802,
          111.78990802716447,
          111.9023450452224,
          111.90454301800906,
          110.46272973339917,
          110.54488479418437,
          109.11216406764157,
          108.20469053213982,
          106.19485252054051,
          107.6860406023376,
          108.15687490658266,
          108.18871814088382,
          106.99982727814198,
          106.32137020850563,
          105.9491576081011,
          105.31440910268584,
          105.49795133971907,
          105.61841981488945,
          105.34056476744914,
          106.04161213015735,
          107.10968036888033,
          107.90610387003343,
          107.22778585970461,
          107.76209883830109,
          105.66819626001278,
          105.88708229939444,
          106.12222537369034,
          106.1782696949445,
          106.97787675614988,
          107.82401184860875,
          107.07995736423416,
          107.07194052535169,
          107.05557802880473,
          105.69679300113151,
          107.16852142655986,
          107.65081457856733,
          108.15722349219106,
          108.6071398266126,
          108.84360924040256,
          110.15134669103129,
          108.89498371028816,
          109.34250613996016,
          110.08120717422227,
          109.63628986515212,
          109.07605276358949,
          110.9969941927016,
          111.78194567566577,
          110.93776614365608,
          109.44903908646158,
          110.27411144719238,
          110.92405835871388,
          111.65040634183055,
          110.27480193543292,
          110.1754765670638,
          111.49920293608695,
          110.80107363113488,
          109.49432836460126,
          108.50240987213836,
          107.75305436305575,
          106.54268626695465,
          106.95853278647438,
          106.7419633800677,
          108.55317711658354,
          109.7883982802515,
          110.20170186275236
         ],
         [
          101.36284393105818,
          102.74989589376231,
          104.75238127530076,
          103.43257847088579,
          102.81884677981535,
          102.28377591895374,
          102.88003234243435,
          102.68537189900626,
          101.50748302305139,
          101.93060569261765,
          102.36728871434117,
          104.23820512017511,
          103.02282739676649,
          103.2934763900486,
          101.87214286284947,
          102.65031821215723,
          103.65041086653375,
          103.35678146408739,
          102.76972774906665,
          101.32314169994848,
          102.13986363591928,
          100.5478632811308,
          99.45638234849919,
          97.9048285297039,
          99.37238350690532,
          100.5853418554616,
          99.55221425284392,
          100.76939782966048,
          101.64163969744544,
          102.1102716383443,
          103.10266130923421,
          103.05743713788854,
          102.3371496744292,
          103.20722939758582,
          102.88295186373408,
          102.1060290493289,
          103.86430498504896,
          102.63181179475154,
          102.81437755700648,
          100.8063095293488,
          100.05707698929302,
          98.63401161122047,
          98.09776721724846,
          98.35969353960385,
          97.0063967781669,
          97.12099530573418,
          96.1960699052069,
          97.78576521648166,
          98.37934853952893,
          97.82562736870408,
          99.10955248728254,
          99.06135078793159,
          99.89945853179128,
          98.3169970461981,
          98.18388957748687,
          98.75037568744766,
          99.03120243596484,
          99.44417030526672,
          99.70370886595539,
          100.15083026915131,
          99.84825004624585,
          100.55808179039603,
          100.34349941163794,
          100.17927628443088,
          100.02305914239945,
          101.01920887087392,
          100.48218404183214,
          98.40289810985178,
          99.44265043570321,
          98.8100942048411,
          100.69252573081664,
          99.64794492881514,
          99.49046025739436,
          99.62792195788812,
          100.0678780498634,
          100.53752647983582,
          101.19857151884013,
          102.15088251953944,
          102.78901310700935,
          103.98820038188119,
          103.88970840929225,
          104.2577195455077,
          104.66749128068217,
          104.3624530888371,
          103.65903868893572,
          102.85523917146296,
          103.37781800806634,
          102.68658402349169,
          102.26229648017645,
          103.59725208612979,
          102.10339398093066,
          102.13806269365166,
          102.4963327867996,
          102.01464562193557,
          102.43648796392768,
          103.08999870489549,
          102.66840309752506,
          102.71341559307746,
          102.76030005149853,
          101.92558907390035,
          102.2457033399184,
          100.08722696242175,
          97.95822670169487,
          98.73409538537203,
          98.61264386129942,
          97.35227319193591,
          98.20658392574825,
          99.76505107657661,
          101.01139692875965,
          101.571181515793,
          101.494330034864,
          101.03137410678116,
          100.03260704853724,
          101.14160187379265,
          100.50323640925214,
          100.23522441622127,
          99.90972189054597,
          99.83088764030416,
          96.6528961916933,
          95.37248906761965,
          95.93007826236851,
          96.5349593669239,
          95.06461161286181,
          96.64783487418926,
          97.51203531131385,
          97.6634890809385,
          99.27753659340352,
          98.22804155074421,
          97.46388919461685,
          98.87390294881415,
          98.41156303827947,
          97.39463276011232,
          98.87385140348597,
          99.1955572088333,
          99.51414932359742,
          97.225781860372,
          96.75043240021895,
          97.27038957342336,
          96.78455128249415,
          97.33242162857294,
          96.55012207602206,
          94.71558059175696,
          94.70488344649382,
          95.74683347047666,
          98.03588100022124,
          97.00089478977445,
          98.82666320699788,
          99.00563652350351,
          100.98021607249308,
          100.80014215096806
         ]
        ]
       }
      }
     },
     "d64ff82f11e24760b2f4455d8516cb51": {
      "model_module": "bqplot",
      "model_module_version": "^0.4.5",
      "model_name": "FigureModel",
      "state": {
       "_dom_classes": [],
       "animation_duration": 1000,
       "axes": [
        "IPY_MODEL_08e5e496c8754911b9c6e674c768a113",
        "IPY_MODEL_69d63f8974fd4667bbabec9922c878aa"
       ],
       "layout": "IPY_MODEL_8a4b88c6b3ea49a990840453dee2f8cb",
       "marks": [
        "IPY_MODEL_f58adcecae814750a154465314f1ef66"
       ],
       "scale_x": "IPY_MODEL_0f86d66d7d32409fabc0f68f37217c93",
       "scale_y": "IPY_MODEL_76164983d9c94b949c746e262c5c1889"
      }
     },
     "d6678c21449944a280f5b5fead8b3f0c": {
      "model_module": "bqplot",
      "model_module_version": "^0.4.5",
      "model_name": "LinearScaleModel",
      "state": {
       "allow_padding": false,
       "max": 1,
       "min": 0,
       "stabilized": false
      }
     },
     "d676c006798b47f08a02bdb41691a519": {
      "model_module": "bqplot",
      "model_module_version": "^0.4.5",
      "model_name": "LinearScaleModel",
      "state": {
       "allow_padding": false,
       "max": 1,
       "min": 0,
       "stabilized": false
      }
     },
     "d695105b1a5543b398349f7232c9154c": {
      "model_module": "bqplot",
      "model_module_version": "^0.4.5",
      "model_name": "LinearScaleModel",
      "state": {
       "allow_padding": false,
       "max": 1,
       "min": 0,
       "stabilized": false
      }
     },
     "d6a273560f19470798934028e7d69b41": {
      "model_module": "@jupyter-widgets/base",
      "model_module_version": "1.1.0",
      "model_name": "LayoutModel",
      "state": {
       "min_width": "125px"
      }
     },
     "d6a3c5d259944dc599ccefdc2cb3fd8c": {
      "model_module": "bqplot",
      "model_module_version": "^0.4.5",
      "model_name": "LinearScaleModel",
      "state": {
       "stabilized": false
      }
     },
     "d6bcd840eef3486c82d733a83e143a78": {
      "model_module": "@jupyter-widgets/base",
      "model_module_version": "1.1.0",
      "model_name": "LayoutModel",
      "state": {
       "min_width": "125px"
      }
     },
     "d767659cfd944f90ad67931c509b95da": {
      "model_module": "bqplot",
      "model_module_version": "^0.4.5",
      "model_name": "LinearScaleModel",
      "state": {
       "stabilized": false
      }
     },
     "d7c4933a3f6749aeb9f5f3536c35ccb4": {
      "model_module": "bqplot",
      "model_module_version": "^0.4.5",
      "model_name": "AxisModel",
      "state": {
       "orientation": "vertical",
       "scale": "IPY_MODEL_f1d1cfb414f4486fa52e3575fa93c58a",
       "side": "left",
       "tick_values": {
        "type": null,
        "values": null
       },
       "visible": false
      }
     },
     "d8468f879ceb4f339c305a2f3280ce1a": {
      "model_module": "bqplot",
      "model_module_version": "^0.4.5",
      "model_name": "LinearScaleModel",
      "state": {
       "allow_padding": false,
       "max": 1,
       "min": 0,
       "stabilized": false
      }
     },
     "d8dc6e4aed144be1acbdfdfe55ac27b8": {
      "model_module": "bqplot",
      "model_module_version": "^0.4.5",
      "model_name": "ToolbarModel",
      "state": {
       "_panning": true,
       "_panzoom": "IPY_MODEL_c6c002a0a13a4b02b775248be03d6fd9",
       "figure": "IPY_MODEL_946bd3bf860f4130aad50f8b547fd7e0",
       "layout": "IPY_MODEL_4b73885d74524058acf9d9b3e88d1e44"
      }
     },
     "d936a332a7664015ab6ed5a12d09c4a9": {
      "model_module": "bqplot",
      "model_module_version": "^0.4.5",
      "model_name": "LinesModel",
      "state": {
       "color": {
        "type": null,
        "values": null
       },
       "colors": [
        "black"
       ],
       "display_legend": false,
       "fill_colors": [],
       "labels": [
        "C1"
       ],
       "scales": {
        "x": "IPY_MODEL_8c5111a2e1e644708b9240a4d3d4d5ce",
        "y": "IPY_MODEL_1d74b54d6d234f3f916c600e47dbf8c7"
       },
       "selected": [],
       "x": {
        "type": "float",
        "values": [
         0.22355450954331607,
         0.4097295846150608
        ]
       },
       "y": {
        "type": "float",
        "values": [
         0.4227138105599612,
         0.5271223505498778
        ]
       }
      }
     },
     "d93de2610eea46b8ae3c625ee72fac6d": {
      "model_module": "bqplot",
      "model_module_version": "^0.4.5",
      "model_name": "FigureModel",
      "state": {
       "_dom_classes": [],
       "animation_duration": 1000,
       "axes": [
        "IPY_MODEL_7ab8994b6d5242568506b4d8437e02d6",
        "IPY_MODEL_c0951d794a4b4de5a63d08f0073057b8"
       ],
       "layout": "IPY_MODEL_bfb6fd6b741243049e8c2728da30f3d2",
       "marks": [
        "IPY_MODEL_17957b5d0e89470d81b78f50a80b6852"
       ],
       "scale_x": "IPY_MODEL_29e87490d0cd4f0ca9b01604ed02c949",
       "scale_y": "IPY_MODEL_f3e5fb928d4f41a990b89a1fe4fb303a"
      }
     },
     "d98873921e6045129da55817a378c5b8": {
      "model_module": "bqplot",
      "model_module_version": "^0.4.5",
      "model_name": "AxisModel",
      "state": {
       "orientation": "vertical",
       "scale": "IPY_MODEL_84c14da8b69743f3bffec17d2cd6457a",
       "side": "left",
       "tick_values": {
        "type": null,
        "values": null
       }
      }
     },
     "d9f27c71d12540f38a323e76a3b64ed2": {
      "model_module": "bqplot",
      "model_module_version": "^0.4.5",
      "model_name": "LinearScaleModel",
      "state": {
       "allow_padding": false,
       "max": 1,
       "min": 0,
       "stabilized": false
      }
     },
     "d9f803961716492b8aec662951e5e51b": {
      "model_module": "bqplot",
      "model_module_version": "^0.4.5",
      "model_name": "AxisModel",
      "state": {
       "scale": "IPY_MODEL_05880d3fb9044e7f93e0026406945ed5",
       "side": "bottom",
       "tick_values": {
        "type": null,
        "values": null
       },
       "visible": false
      }
     },
     "da1886cd22fe46c4aed6a9a55ca971a4": {
      "model_module": "bqplot",
      "model_module_version": "^0.4.5",
      "model_name": "LinearScaleModel",
      "state": {
       "allow_padding": false,
       "max": 1,
       "min": 0,
       "stabilized": false
      }
     },
     "dab00037f08c40119b937bb5c71edcee": {
      "model_module": "bqplot",
      "model_module_version": "^0.4.5",
      "model_name": "LinearScaleModel",
      "state": {
       "max": 1,
       "min": 0,
       "stabilized": false
      }
     },
     "db1061048a6a4fd181fda584f1abf19b": {
      "model_module": "@jupyter-widgets/base",
      "model_module_version": "1.1.0",
      "model_name": "LayoutModel",
      "state": {
       "min_width": "125px"
      }
     },
     "db9bb10ad48a4538b0f5e229d1c7c8c7": {
      "model_module": "bqplot",
      "model_module_version": "^0.4.5",
      "model_name": "LinearScaleModel",
      "state": {
       "stabilized": false
      }
     },
     "dbae1e344f6c40edb812620e2aa1be1f": {
      "model_module": "bqplot",
      "model_module_version": "^0.4.5",
      "model_name": "LinearScaleModel",
      "state": {
       "allow_padding": false,
       "max": 1,
       "min": 0,
       "stabilized": false
      }
     },
     "dbc463d14d854511850f22b290706bf1": {
      "model_module": "bqplot",
      "model_module_version": "^0.4.5",
      "model_name": "LinearScaleModel",
      "state": {
       "stabilized": false
      }
     },
     "dbe47e3bc8d74ea7ab5d10a2a722a1c1": {
      "model_module": "bqplot",
      "model_module_version": "^0.4.5",
      "model_name": "ScatterModel",
      "state": {
       "color": {
        "type": null,
        "values": null
       },
       "colors": [
        "steelblue"
       ],
       "display_legend": false,
       "display_names": false,
       "names": {
        "type": null,
        "values": null
       },
       "opacity": {
        "type": null,
        "values": null
       },
       "rotation": {
        "type": null,
        "values": null
       },
       "scales": {
        "x": "IPY_MODEL_a2a9b0308f83474d9f48a49f5cb6bad9",
        "y": "IPY_MODEL_624d84a1470f45dc8e4c12a67d22c46b"
       },
       "scales_metadata": {
        "color": {
         "dimension": "color"
        },
        "opacity": {
         "dimension": "opacity"
        },
        "rotation": {
         "dimension": "rotation"
        },
        "size": {
         "dimension": "size"
        },
        "skew": {
         "dimension": "skew"
        },
        "x": {
         "dimension": "x",
         "orientation": "horizontal"
        },
        "y": {
         "dimension": "y",
         "orientation": "vertical"
        }
       },
       "selected": [],
       "size": {
        "type": null,
        "values": null
       },
       "skew": {
        "type": null,
        "values": null
       },
       "stroke": "black",
       "tooltip": "IPY_MODEL_99575a00246640449d6a743bf97fd125",
       "x": {
        "type": "float",
        "values": [
         0.5434049417909654,
         0.4245175907491331,
         0.004718856190972565,
         0.6707490847267786,
         0.13670658968495297,
         0.891321954312264,
         0.18532821955007506,
         0.21969749262499216,
         0.8116831490893233,
         0.8162247487258399
        ]
       },
       "y": {
        "type": "float",
        "values": [
         0.27836938509379616,
         0.8447761323199037,
         0.12156912078311422,
         0.8258527551050476,
         0.57509332942725,
         0.20920212211718958,
         0.10837689046425514,
         0.9786237847073697,
         0.1719410127325942,
         0.2740737470416992
        ]
       }
      }
     },
     "dbebdebeb324471d91aa580ab75e78d5": {
      "model_module": "bqplot",
      "model_module_version": "^0.4.5",
      "model_name": "LinesModel",
      "state": {
       "close_path": true,
       "color": {
        "type": null,
        "values": null
       },
       "display_legend": false,
       "fill": "inside",
       "fill_colors": [
        "orange",
        "blue",
        "red"
       ],
       "scales": {
        "x": "IPY_MODEL_cb9558d5a9b3467f8b724651fee3c986",
        "y": "IPY_MODEL_e9adaeb4e1f94ea69d8fa666853cb4a8"
       },
       "selected": [],
       "stroke_width": 1,
       "tooltip": "IPY_MODEL_99575a00246640449d6a743bf97fd125",
       "x": {
        "type": "float",
        "values": []
       },
       "y": {
        "type": "float",
        "values": []
       }
      }
     },
     "dc89377a92854e91a0519cabe85df22d": {
      "model_module": "bqplot",
      "model_module_version": "^0.4.5",
      "model_name": "FigureModel",
      "state": {
       "_dom_classes": [],
       "animation_duration": 1000,
       "axes": [
        "IPY_MODEL_35257059585e468b8e06d33f7285c67c",
        "IPY_MODEL_78020d3e9ca64af691a5ac531a6d0287"
       ],
       "layout": "IPY_MODEL_6a61281620994a97b089f4c19eed93cf",
       "marks": [
        "IPY_MODEL_725c0785e6aa4399b9ca6bcef7053474"
       ],
       "scale_x": "IPY_MODEL_c9f9cf7f5d8a4831a394ce3a3db541c1",
       "scale_y": "IPY_MODEL_9b3a5e90b39147c1955dcf6d7a9a8c19"
      }
     },
     "dcf53cc62bf242ff8b75d5da912d66d6": {
      "model_module": "bqplot",
      "model_module_version": "^0.4.5",
      "model_name": "LinearScaleModel",
      "state": {
       "stabilized": false
      }
     },
     "dd3f4bff0eec497a9eb8d05ff4c0859e": {
      "model_module": "bqplot",
      "model_module_version": "^0.4.5",
      "model_name": "FigureModel",
      "state": {
       "_dom_classes": [],
       "animation_duration": 1000,
       "axes": [
        "IPY_MODEL_17652efd0b6d4b7ba4fcef5c3084fa35",
        "IPY_MODEL_bffc051ef4364a2aa88d235d5f1274a3"
       ],
       "layout": "IPY_MODEL_8ebd54853c0d48ca864885266c47c610",
       "marks": [
        "IPY_MODEL_2a26839787ea4fbcb01b06957d055b84"
       ],
       "scale_x": "IPY_MODEL_cfb71f9de964413eb8444c7fe05fb7d4",
       "scale_y": "IPY_MODEL_60a56174ae2d4d04b0fea40b476af064"
      }
     },
     "dddc4f63178a47db88fbb2c6b25c2e09": {
      "model_module": "bqplot",
      "model_module_version": "^0.4.5",
      "model_name": "FigureModel",
      "state": {
       "_dom_classes": [],
       "animation_duration": 1000,
       "axes": [
        "IPY_MODEL_418c8c17eb8a465a9c02b5787e449f9a",
        "IPY_MODEL_f8f0efd2e3b94fbc989381ed1c9cf250"
       ],
       "layout": "IPY_MODEL_e1be65a281eb47cc980dc7b26c83d2ff",
       "marks": [
        "IPY_MODEL_f1accc2cc94f472f8211159a19043efb",
        "IPY_MODEL_7a3bd80a1df343a887da849fc5350f0f"
       ],
       "scale_x": "IPY_MODEL_42a25f312f84473d89cd7201eca03665",
       "scale_y": "IPY_MODEL_b00981797b3647b0b41d34204858d038"
      }
     },
     "ddf08adf7c154db7a3ac331367968378": {
      "model_module": "@jupyter-widgets/base",
      "model_module_version": "1.1.0",
      "model_name": "LayoutModel",
      "state": {
       "min_width": "125px"
      }
     },
     "ddf7d94ec445471b8b378e53ab78748f": {
      "model_module": "bqplot",
      "model_module_version": "^0.4.5",
      "model_name": "AxisModel",
      "state": {
       "orientation": "vertical",
       "scale": "IPY_MODEL_2983dde291294d548fb44479df620846",
       "side": "left",
       "tick_values": {
        "type": null,
        "values": null
       },
       "visible": false
      }
     },
     "decffe4c5fbc49c0b7635ac537c79502": {
      "model_module": "bqplot",
      "model_module_version": "^0.4.5",
      "model_name": "AxisModel",
      "state": {
       "orientation": "vertical",
       "scale": "IPY_MODEL_60ce797873a84471b5ed2a6a0247d715",
       "side": "left",
       "tick_values": {
        "type": null,
        "values": null
       }
      }
     },
     "deda272489164bb6984a133f91e8e454": {
      "model_module": "@jupyter-widgets/base",
      "model_module_version": "1.1.0",
      "model_name": "LayoutModel",
      "state": {}
     },
     "df2841eea443484096be9af6ae74c4c0": {
      "model_module": "@jupyter-widgets/base",
      "model_module_version": "1.1.0",
      "model_name": "LayoutModel",
      "state": {
       "min_width": "125px"
      }
     },
     "df412592d9344034a5a1dadc27163c15": {
      "model_module": "@jupyter-widgets/base",
      "model_module_version": "1.1.0",
      "model_name": "LayoutModel",
      "state": {
       "min_width": "125px"
      }
     },
     "dfbb619bc82f482397c28d97a1254a53": {
      "model_module": "bqplot",
      "model_module_version": "^0.4.5",
      "model_name": "LinearScaleModel",
      "state": {
       "allow_padding": false,
       "max": 1,
       "min": 0,
       "stabilized": false
      }
     },
     "dfd922dd797d4b89bcc2fb303502d0c7": {
      "model_module": "bqplot",
      "model_module_version": "^0.4.5",
      "model_name": "LinesModel",
      "state": {
       "close_path": true,
       "color": {
        "type": null,
        "values": null
       },
       "display_legend": false,
       "fill": "inside",
       "fill_colors": [
        "orange",
        "blue",
        "red"
       ],
       "labels": [
        "C1",
        "C2"
       ],
       "scales": {
        "x": "IPY_MODEL_14159b31808c4af4a10dc6f2cf52b5f3",
        "y": "IPY_MODEL_8881d204ba594885a822c18579d723a3"
       },
       "selected": [],
       "stroke_width": 1,
       "tooltip": "IPY_MODEL_b80ed1e2fbfa45358769dcf805aedaf3",
       "x": {
        "type": "float",
        "values": [
         [
          0.4097295846150608,
          0.8520227339335706,
          1.7332689863391435,
          0.4200808874255707
         ],
         [
          0.4097295846150608,
          0.22355450954331613,
          0.4501473823600029,
          0.8520227339335706
         ]
        ]
       },
       "y": {
        "type": "float",
        "values": [
         [
          0.5271223505498778,
          0.41305515312279745,
          0.5796961417400555,
          0.9116146811300156
         ],
         [
          0.5271223505498778,
          0.42271381055996105,
          -0.12426375746363771,
          0.41305515312279745
         ]
        ]
       }
      }
     },
     "e0a25abfc2db42978efc4fe6afba25e9": {
      "model_module": "bqplot",
      "model_module_version": "^0.4.5",
      "model_name": "LinesModel",
      "state": {
       "close_path": true,
       "color": {
        "type": null,
        "values": null
       },
       "display_legend": false,
       "fill": "inside",
       "fill_colors": [
        "orange",
        "blue",
        "red"
       ],
       "labels": [
        "C1",
        "C2"
       ],
       "scales": {
        "x": "IPY_MODEL_cd28d5561b814f7490f502c4a2072794",
        "y": "IPY_MODEL_8458ab31d5ed4a05943967383a0bdfa0"
       },
       "selected": [],
       "stroke_width": 1,
       "tooltip": "IPY_MODEL_bcfe726e652e44579bcc26b1621c421f",
       "x": {
        "type": "float",
        "values": [
         [
          0.4097295846150608,
          0.8520227339335706,
          1.7332689863391435,
          0.4200808874255707
         ],
         [
          0.4097295846150608,
          0.22355450954331613,
          0.4501473823600029,
          0.8520227339335706
         ]
        ]
       },
       "y": {
        "type": "float",
        "values": [
         [
          0.5271223505498778,
          0.41305515312279745,
          0.5796961417400555,
          0.9116146811300156
         ],
         [
          0.5271223505498778,
          0.42271381055996105,
          -0.12426375746363771,
          0.41305515312279745
         ]
        ]
       }
      }
     },
     "e0d41a9e97c04fb691b6e30c51572e9a": {
      "model_module": "bqplot",
      "model_module_version": "^0.4.5",
      "model_name": "AxisModel",
      "state": {
       "orientation": "vertical",
       "scale": "IPY_MODEL_8fcf49ca0bfc430ca20ca586b9884725",
       "side": "left",
       "tick_values": {
        "type": null,
        "values": null
       }
      }
     },
     "e10ef5a5baa647ddafc03aa42fb9da9b": {
      "model_module": "bqplot",
      "model_module_version": "^0.4.5",
      "model_name": "LinesModel",
      "state": {
       "color": {
        "type": null,
        "values": null
       },
       "colors": [
        "DarkOrange"
       ],
       "display_legend": false,
       "fill": "bottom",
       "fill_colors": [],
       "fill_opacities": [
        0.2
       ],
       "interpolation": "basis",
       "labels": [
        "C1"
       ],
       "line_style": "dashed",
       "marker": "triangle-down",
       "opacities": [
        0.5
       ],
       "scales": {
        "x": "IPY_MODEL_668832e8b6f64726ad5c33b267d7761b",
        "y": "IPY_MODEL_c4abb08514f84cda97b8bc1293040765"
       },
       "selected": [],
       "stroke_width": 2.5,
       "x": {
        "type": "float",
        "values": [
         0,
         1,
         2,
         3,
         4,
         5,
         6,
         7,
         8,
         9,
         10,
         11,
         12,
         13,
         14,
         15,
         16,
         17,
         18,
         19,
         20,
         21,
         22,
         23,
         24,
         25,
         26,
         27,
         28,
         29,
         30,
         31,
         32,
         33,
         34,
         35,
         36,
         37,
         38,
         39,
         40,
         41,
         42,
         43,
         44,
         45,
         46,
         47,
         48,
         49,
         50,
         51,
         52,
         53,
         54,
         55,
         56,
         57,
         58,
         59,
         60,
         61,
         62,
         63,
         64,
         65,
         66,
         67,
         68,
         69,
         70,
         71,
         72,
         73,
         74,
         75,
         76,
         77,
         78,
         79,
         80,
         81,
         82,
         83,
         84,
         85,
         86,
         87,
         88,
         89,
         90,
         91,
         92,
         93,
         94,
         95,
         96,
         97,
         98,
         99,
         100,
         101,
         102,
         103,
         104,
         105,
         106,
         107,
         108,
         109,
         110,
         111,
         112,
         113,
         114,
         115,
         116,
         117,
         118,
         119,
         120,
         121,
         122,
         123,
         124,
         125,
         126,
         127,
         128,
         129,
         130,
         131,
         132,
         133,
         134,
         135,
         136,
         137,
         138,
         139,
         140,
         141,
         142,
         143,
         144,
         145,
         146,
         147,
         148,
         149
        ]
       },
       "y": {
        "type": "float",
        "values": [
         98.40423340338475,
         98.37949926808695,
         99.09263964870729,
         100.81215999703642,
         101.33319821969539,
         100.47015792891152,
         100.09447729848249,
         100.72793481108422,
         101.53349213901214,
         101.0946693784775,
         102.17122160407214,
         102.17589169590273,
         104.07625104099671,
         104.32383798248738,
         104.21501063290141,
         104.29809025381472,
         103.9821505892918,
         103.34726392295875,
         102.89205662492337,
         104.01968875627888,
         102.84738105220937,
         103.14628807791576,
         103.9876126401486,
         104.05204756829963,
         103.97472833904295,
         103.48450927237093,
         102.80640119025102,
         103.85942658193753,
         103.25100980387327,
         101.09796181212262,
         99.1785984946597,
         99.9260532296479,
         100.90105013886523,
         101.48130000834482,
         99.51319815777539,
         99.81794385877957,
         99.2792878107826,
         100.57434578811882,
         100.72255234046497,
         100.86404684279894,
         100.5031677495734,
         102.9566915956824,
         102.47031650641341,
         101.8617954723907,
         100.92617378200359,
         99.85671920251997,
         97.70622811725885,
         98.37884718883465,
         97.47472610491762,
         98.30832017549798,
         99.39893856347197,
         98.99719087021079,
         99.18542220861158,
         98.54278914376083,
         98.21523460077393,
         100.04072637285523,
         100.98407337986617,
         100.77349755597253,
         100.60403450560072,
         100.67950588268354,
         100.90182469817583,
         99.6608775928668,
         100.57620075425214,
         102.1088806537713,
         102.1312738082485,
         104.08065291750339,
         105.01247823864274,
         104.48504565152592,
         105.43742852803241,
         103.31835619607612,
         101.70301164634417,
         100.14742092232501,
         100.56219901855839,
         101.00736162450372,
         101.93531531718348,
         99.94764722219944,
         98.32308638132551,
         99.05793324574584,
         97.53656641413458,
         95.45869419194364,
         96.106485388834,
         97.27208582278948,
         95.73813800899082,
         92.96849000029472,
         93.77342237684984,
         93.29486557010209,
         91.99569547015824,
         90.98658123884024,
         90.06799650602761,
         90.42909978906533,
         91.192608352464,
         91.4462958725742,
         90.48316944695691,
         89.33573736522011,
         89.3439832673467,
         88.90509718013215,
         88.49249078551362,
         90.88948587416179,
         89.8705286155954,
         89.47422681388085,
         88.94312537724241,
         90.35251171024414,
         91.35170768161927,
         89.71633414267998,
         90.09167326380344,
         87.49821532758054,
         87.25974749497082,
         87.7731710968179,
         86.50804358629235,
         84.86507050825311,
         83.99615351152883,
         84.12893338208147,
         85.39208301496835,
         84.76758216498,
         83.85570402257085,
         85.28916296382458,
         85.04869291381895,
         86.65307789271735,
         85.43687817384145,
         85.50411415791777,
         84.70831791931852,
         84.54038611577556,
         84.97117891929479,
         85.0280638463374,
         84.67831212198985,
         85.18919939002174,
         84.73807811011724,
         84.29470016026899,
         81.36335982882153,
         83.3863179488224,
         83.59459149569145,
         83.90595466855301,
         85.08560619736201,
         85.25791402370449,
         85.27792184100322,
         84.78683773408281,
         86.69002974899082,
         85.91734259140843,
         86.71624718722992,
         85.64491514567727,
         86.21994707125323,
         85.866099778809,
         85.08386393486036,
         84.52348650056756,
         85.98660244463808,
         85.23355699993374,
         86.433054308393,
         84.72151624049565,
         85.63591665723123,
         84.99742162174894
        ]
       }
      }
     },
     "e11fcd4f785844a1af77694893666ac2": {
      "model_module": "bqplot",
      "model_module_version": "^0.4.5",
      "model_name": "AxisModel",
      "state": {
       "orientation": "vertical",
       "scale": "IPY_MODEL_970d4a331d6142828191d056c05be890",
       "side": "left",
       "tick_values": {
        "type": null,
        "values": null
       },
       "visible": false
      }
     },
     "e1be65a281eb47cc980dc7b26c83d2ff": {
      "model_module": "@jupyter-widgets/base",
      "model_module_version": "1.1.0",
      "model_name": "LayoutModel",
      "state": {
       "min_width": "125px"
      }
     },
     "e1c888a1797e4de59f16b4a43be0aca3": {
      "model_module": "bqplot",
      "model_module_version": "^0.4.5",
      "model_name": "LinearScaleModel",
      "state": {
       "stabilized": false
      }
     },
     "e1de8f6bde424cb69252509656e611b0": {
      "model_module": "bqplot",
      "model_module_version": "^0.4.5",
      "model_name": "FigureModel",
      "state": {
       "_dom_classes": [],
       "animation_duration": 1000,
       "axes": [
        "IPY_MODEL_31cc6ec22444421db2a86750c8b74898",
        "IPY_MODEL_c011a7b585c641eeabb5ae5d925fc380"
       ],
       "layout": "IPY_MODEL_ba98bbfb8e084dfe8036ce0f1d8ce7f6",
       "marks": [
        "IPY_MODEL_66561116acc44569bc75065351f99506"
       ],
       "scale_x": "IPY_MODEL_7d5fcdfa69a64348b2efa996e6652a76",
       "scale_y": "IPY_MODEL_9226fa0a5ee744fb915cc2de4a5c5c9a"
      }
     },
     "e1f27e74f64b41c88931e8c9b8cd0f9d": {
      "model_module": "bqplot",
      "model_module_version": "^0.4.5",
      "model_name": "FigureModel",
      "state": {
       "_dom_classes": [],
       "axes": [
        "IPY_MODEL_56c8d9beaff141d1afbb69a81d330a99",
        "IPY_MODEL_9173e1caafa540bea0658a75937e886c"
       ],
       "layout": "IPY_MODEL_b3cff62bf448489dbade659c89a8414d",
       "marks": [
        "IPY_MODEL_5a00481399ea4e10bdf4986ce0f6ea9e",
        "IPY_MODEL_24021a28cd0c46cdbaa7b8ade13d1ef6",
        "IPY_MODEL_51fb9ebaea024d7e89094e05af86c8d5",
        "IPY_MODEL_f7f8f6963cc34a878971c9ebd13ef936",
        "IPY_MODEL_5657d2b50cbe47b5910ebb55415a323c",
        "IPY_MODEL_42973984c745433c96b0e779288b4e5c",
        "IPY_MODEL_276cdc7bb089486d8641c4b8d714ccde",
        "IPY_MODEL_97d57ba3077d4b7bbcbc631a19e9d92f",
        "IPY_MODEL_55d689d420554877acf5008f66cfc83d",
        "IPY_MODEL_0b857eb7a19a46059a9d56ef6b0030b0",
        "IPY_MODEL_70a702b94d8249098d89cc5d42ae7ee1",
        "IPY_MODEL_f6cbd193962249f9a58b952be2cbe292",
        "IPY_MODEL_baf1a4dfbc714f7a8c8c2119a3739959",
        "IPY_MODEL_49429c8751f9435e81e77bd139624f45",
        "IPY_MODEL_edf4a015686243dc987183f3ae015ccd",
        "IPY_MODEL_17d50e750d774307a67edb1b4b0ebed2",
        "IPY_MODEL_f3c30f8524a546f686f271958f316bb4",
        "IPY_MODEL_217c699f244a48428b7258aae83a75e6",
        "IPY_MODEL_c744a1cefcba4c1a97560cf6cbb64be2",
        "IPY_MODEL_d45c418556ba473fb59dc04a944eb5ba",
        "IPY_MODEL_82b88bf3c39f4a129d83d9dc6764d4dd",
        "IPY_MODEL_fd8a6c077eb746eca9ea359d8c64092d"
       ],
       "scale_x": "IPY_MODEL_97352a7f033d4fb4aa2a637ec1de22b7",
       "scale_y": "IPY_MODEL_15f800c64f594b5d82648e65e2e69c45"
      }
     },
     "e2acf17b468d46e7ae701e665997c9db": {
      "model_module": "bqplot",
      "model_module_version": "^0.4.5",
      "model_name": "LinesModel",
      "state": {
       "close_path": true,
       "color": {
        "type": null,
        "values": null
       },
       "fill": "inside",
       "fill_colors": [
        "orange",
        "blue",
        "red"
       ],
       "labels": [
        "C1",
        "C2"
       ],
       "scales": {
        "x": "IPY_MODEL_7deb3f1e4bf94a1394ea2ba085ed58b8",
        "y": "IPY_MODEL_19903de21b29439ca82fe9a16fafe36b"
       },
       "selected": [],
       "tooltip": "IPY_MODEL_99575a00246640449d6a743bf97fd125",
       "x": {
        "type": "object",
        "values": [
         [
          4,
          5,
          6,
          6,
          5,
          4,
          3,
          1
         ],
         [
          1,
          2,
          3
         ]
        ]
       },
       "y": {
        "type": "object",
        "values": [
         [
          1,
          1.1,
          1.2,
          2.3,
          2.2,
          2.7,
          1,
          -2
         ],
         [
          3,
          2,
          3
         ]
        ]
       }
      }
     },
     "e2d8c7cf04e34fb58fb8a5c1631bb814": {
      "model_module": "bqplot",
      "model_module_version": "^0.4.5",
      "model_name": "LinearScaleModel",
      "state": {
       "stabilized": false
      }
     },
     "e31c40dbaba745de95110ecb342d2a3a": {
      "model_module": "bqplot",
      "model_module_version": "^0.4.5",
      "model_name": "LinesModel",
      "state": {
       "close_path": true,
       "color": {
        "type": null,
        "values": null
       },
       "display_legend": false,
       "fill": "inside",
       "fill_colors": [
        "orange",
        "blue",
        "red"
       ],
       "labels": [
        "C1",
        "C2"
       ],
       "scales": {
        "x": "IPY_MODEL_1b7912a6a4a64b7ba7c60c3b067078e3",
        "y": "IPY_MODEL_e6c0e1168a2340c997f6a94734ce00f3"
       },
       "selected": [],
       "stroke_width": 1,
       "tooltip": "IPY_MODEL_99575a00246640449d6a743bf97fd125",
       "x": {
        "type": "float",
        "values": [
         [
          0.4097295846150608,
          0.8520227339335706,
          1.7332689863391435,
          0.4200808874255707
         ],
         [
          0.4097295846150608,
          0.22355450954331613,
          0.4501473823600029,
          0.8520227339335706
         ]
        ]
       },
       "y": {
        "type": "float",
        "values": [
         [
          0.5271223505498778,
          0.41305515312279745,
          0.5796961417400555,
          0.9116146811300156
         ],
         [
          0.5271223505498778,
          0.42271381055996105,
          -0.12426375746363771,
          0.41305515312279745
         ]
        ]
       }
      }
     },
     "e324b04c083f48e2af006ca68f62723f": {
      "model_module": "bqplot",
      "model_module_version": "^0.4.5",
      "model_name": "LinearScaleModel",
      "state": {
       "stabilized": false
      }
     },
     "e3865e18feb94387a3ceee19d7f48682": {
      "model_module": "bqplot",
      "model_module_version": "^0.4.5",
      "model_name": "FigureModel",
      "state": {
       "_dom_classes": [],
       "animation_duration": 1000,
       "axes": [
        "IPY_MODEL_e7d21f61d18146b1a4ea5f91731fe2c1",
        "IPY_MODEL_8e9f1313b7214634b78f798d8ea54cd3"
       ],
       "layout": "IPY_MODEL_75bb253b06764081a4827659de2140c4",
       "marks": [
        "IPY_MODEL_5988486b82dc4c168f78c8b62a0c4c7b",
        "IPY_MODEL_7a6a5f8cd590457eacf34959081ce3a3"
       ],
       "scale_x": "IPY_MODEL_eba518d0cab342778c377e23c22c4183",
       "scale_y": "IPY_MODEL_b79c39b67dfc4a6192c19f8c51c68466"
      }
     },
     "e3e250b2417147508b148891bef965d7": {
      "model_module": "bqplot",
      "model_module_version": "^0.4.5",
      "model_name": "AxisModel",
      "state": {
       "orientation": "vertical",
       "scale": "IPY_MODEL_287501e475b14b3b88ce987491435520",
       "side": "left",
       "tick_values": {
        "type": null,
        "values": null
       },
       "visible": false
      }
     },
     "e3f6d476853c44f7a649e1be0cb0626b": {
      "model_module": "bqplot",
      "model_module_version": "^0.4.5",
      "model_name": "AxisModel",
      "state": {
       "scale": "IPY_MODEL_7f41f413961f43199028adc764c96f86",
       "side": "bottom",
       "tick_values": {
        "type": null,
        "values": null
       },
       "visible": false
      }
     },
     "e41ad3f2697b4869b53306d1017ee7c5": {
      "model_module": "bqplot",
      "model_module_version": "^0.4.5",
      "model_name": "AxisModel",
      "state": {
       "orientation": "vertical",
       "scale": "IPY_MODEL_5ba703c94f2a4d9f88dc23bf95690d67",
       "side": "left",
       "tick_values": {
        "type": null,
        "values": null
       },
       "visible": false
      }
     },
     "e41f5b6b0d9a4627854049ed27ccb612": {
      "model_module": "bqplot",
      "model_module_version": "^0.4.5",
      "model_name": "LinearScaleModel",
      "state": {
       "allow_padding": false,
       "max": 1,
       "min": 0,
       "stabilized": false
      }
     },
     "e45a388628de4d8b8af2c2b278af2e54": {
      "model_module": "bqplot",
      "model_module_version": "^0.4.5",
      "model_name": "AxisModel",
      "state": {
       "scale": "IPY_MODEL_9ceddc83bd5749818613de8a049270d8",
       "side": "bottom",
       "tick_values": {
        "type": null,
        "values": null
       }
      }
     },
     "e48f44c083ff411995edc99f481ab486": {
      "model_module": "bqplot",
      "model_module_version": "^0.4.5",
      "model_name": "LinearScaleModel",
      "state": {
       "allow_padding": false,
       "max": 1,
       "min": 0,
       "stabilized": false
      }
     },
     "e4c7f7577c9b4d7ba80e8f2d69a29290": {
      "model_module": "bqplot",
      "model_module_version": "^0.4.5",
      "model_name": "AxisModel",
      "state": {
       "scale": "IPY_MODEL_ff7e94b4594346e5aebce2e0691ed0dc",
       "side": "bottom",
       "tick_values": {
        "type": null,
        "values": null
       }
      }
     },
     "e4e808e42bd44a92994ff41f1a27d0fe": {
      "model_module": "bqplot",
      "model_module_version": "^0.4.5",
      "model_name": "TooltipModel",
      "state": {
       "fields": [
        "x"
       ],
       "formats": [
        ""
       ],
       "layout": "IPY_MODEL_c4b69a4f7e574ae08998ac3eaf44becc"
      }
     },
     "e5737251dbd74474b50ec35bc5d47460": {
      "model_module": "bqplot",
      "model_module_version": "^0.4.5",
      "model_name": "FigureModel",
      "state": {
       "_dom_classes": [],
       "animation_duration": 1000,
       "axes": [
        "IPY_MODEL_e4c7f7577c9b4d7ba80e8f2d69a29290",
        "IPY_MODEL_965df1ba8ed14fd9ac35d6b1e4afa02d"
       ],
       "layout": "IPY_MODEL_bebd1e4f6e9d4c5f8694e69d57fbffaf",
       "marks": [
        "IPY_MODEL_afcdea7f468b45eca3cccddedda752af",
        "IPY_MODEL_92f3df7f88be44d7a192bf42b4eee30d"
       ],
       "scale_x": "IPY_MODEL_394c9d4bf55c49a693b1e66be9496e91",
       "scale_y": "IPY_MODEL_1db8dd8f1ce2476a8e89080f3ebf20b5"
      }
     },
     "e5961e4e4ba743d2b270a6f174eab6fb": {
      "model_module": "bqplot",
      "model_module_version": "^0.4.5",
      "model_name": "LinesModel",
      "state": {
       "color": {
        "type": null,
        "values": null
       },
       "colors": [
        "black"
       ],
       "display_legend": false,
       "fill_colors": [],
       "labels": [
        "C1"
       ],
       "scales": {
        "x": "IPY_MODEL_2a6aca56c2d14e61beef14fd6a225877",
        "y": "IPY_MODEL_6aebc1b7d022462ea4ac7b8228d301a8"
       },
       "selected": [],
       "x": {
        "type": "float",
        "values": [
         0.22738068359095126,
         -5.20820435004358
        ]
       },
       "y": {
        "type": "float",
        "values": [
         0.7667443763710994,
         1.8846379679106748
        ]
       }
      }
     },
     "e5b23cc0e39849229539776c51c68c44": {
      "model_module": "bqplot",
      "model_module_version": "^0.4.5",
      "model_name": "LinesModel",
      "state": {
       "color": {
        "type": null,
        "values": null
       },
       "colors": [
        "black"
       ],
       "display_legend": false,
       "fill_colors": [],
       "labels": [
        "C1"
       ],
       "scales": {
        "x": "IPY_MODEL_2a6aca56c2d14e61beef14fd6a225877",
        "y": "IPY_MODEL_6aebc1b7d022462ea4ac7b8228d301a8"
       },
       "selected": [],
       "x": {
        "type": "float",
        "values": [
         1.2311893360787933,
         0.6838775462866998
        ]
       },
       "y": {
        "type": "float",
        "values": [
         0.6785452236610399,
         0.5342473347036941
        ]
       }
      }
     },
     "e5fe9812a48b4157a14af0d7849b43ee": {
      "model_module": "bqplot",
      "model_module_version": "^0.4.5",
      "model_name": "AxisModel",
      "state": {
       "scale": "IPY_MODEL_fc0ba3b82c7a41bea1691ad328cd88e4",
       "side": "bottom",
       "tick_values": {
        "type": null,
        "values": null
       }
      }
     },
     "e634d30e56814a78a72e63e25893c478": {
      "model_module": "bqplot",
      "model_module_version": "^0.4.5",
      "model_name": "ToolbarModel",
      "state": {
       "figure": "IPY_MODEL_ea7b07c521d54241aa05fc48847496cb",
       "layout": "IPY_MODEL_7d6eec7ef4cc4f779def85b6993c0a6e"
      }
     },
     "e6c0e1168a2340c997f6a94734ce00f3": {
      "model_module": "bqplot",
      "model_module_version": "^0.4.5",
      "model_name": "LinearScaleModel",
      "state": {
       "stabilized": false
      }
     },
     "e6dd5849ba04471fab475ed11d81f1ad": {
      "model_module": "@jupyter-widgets/base",
      "model_module_version": "1.1.0",
      "model_name": "LayoutModel",
      "state": {
       "min_width": "125px"
      }
     },
     "e6f8e3c7d6c94e1ba1109c73b23f7f5d": {
      "model_module": "bqplot",
      "model_module_version": "^0.4.5",
      "model_name": "LinearScaleModel",
      "state": {
       "stabilized": false
      }
     },
     "e710e412f34c4a4182953be056dfebf1": {
      "model_module": "bqplot",
      "model_module_version": "^0.4.5",
      "model_name": "FigureModel",
      "state": {
       "_dom_classes": [],
       "animation_duration": 1000,
       "axes": [
        "IPY_MODEL_2648a693bd2c4f8aac02a40a24ad1fd3",
        "IPY_MODEL_85cdf80fa55841c59430837a316ad770"
       ],
       "layout": "IPY_MODEL_2230002543714ae09e81806505684e00",
       "marks": [
        "IPY_MODEL_4273cc2a0b6646eca8a30ba2a6e57f48"
       ],
       "scale_x": "IPY_MODEL_b0ee70068f394d6484f9564bdda725bd",
       "scale_y": "IPY_MODEL_771c97bb1a0d4863a03318c702a3e2e2"
      }
     },
     "e72d18e12d4b4d3fa35dd98ef4e50a01": {
      "model_module": "bqplot",
      "model_module_version": "^0.4.5",
      "model_name": "LinearScaleModel",
      "state": {
       "max": 1,
       "min": 0,
       "stabilized": false
      }
     },
     "e788d186320b47efb747e81de0429565": {
      "model_module": "bqplot",
      "model_module_version": "^0.4.5",
      "model_name": "AxisModel",
      "state": {
       "scale": "IPY_MODEL_c8ab28210875423b8fe83758838b4d3a",
       "side": "bottom",
       "tick_values": {
        "type": null,
        "values": null
       }
      }
     },
     "e793a19e91ff48cdb25d3f7c27b7eff4": {
      "model_module": "bqplot",
      "model_module_version": "^0.4.5",
      "model_name": "LinesModel",
      "state": {
       "close_path": true,
       "color": {
        "type": null,
        "values": null
       },
       "fill": "inside",
       "fill_colors": [
        "orange",
        "blue",
        "red"
       ],
       "scales": {
        "x": "IPY_MODEL_ff651205db934daab65549b8fae6708a",
        "y": "IPY_MODEL_e1c888a1797e4de59f16b4a43be0aca3"
       },
       "selected": [],
       "tooltip": "IPY_MODEL_99575a00246640449d6a743bf97fd125",
       "x": {
        "type": "float",
        "values": []
       },
       "y": {
        "type": "float",
        "values": []
       }
      }
     },
     "e7baa2e971c3479daaa2590be008be56": {
      "model_module": "bqplot",
      "model_module_version": "^0.4.5",
      "model_name": "AxisModel",
      "state": {
       "orientation": "vertical",
       "scale": "IPY_MODEL_708627e8f50e4eb18cd73b6c5ce3c490",
       "side": "left",
       "tick_values": {
        "type": null,
        "values": null
       },
       "visible": false
      }
     },
     "e7d21f61d18146b1a4ea5f91731fe2c1": {
      "model_module": "bqplot",
      "model_module_version": "^0.4.5",
      "model_name": "AxisModel",
      "state": {
       "scale": "IPY_MODEL_65522e75b63740df8eeacfba4dc68be9",
       "side": "bottom",
       "tick_values": {
        "type": null,
        "values": null
       }
      }
     },
     "e8633421e07f48fb859e43b48ad214c4": {
      "model_module": "bqplot",
      "model_module_version": "^0.4.5",
      "model_name": "LinearScaleModel",
      "state": {
       "stabilized": false
      }
     },
     "e880d70a3f9a426aa7ea97eb121b4bd6": {
      "model_module": "bqplot",
      "model_module_version": "^0.4.5",
      "model_name": "LinesModel",
      "state": {
       "color": {
        "type": null,
        "values": null
       },
       "colors": [
        "black"
       ],
       "display_legend": false,
       "fill_colors": [],
       "labels": [
        "C1"
       ],
       "scales": {
        "x": "IPY_MODEL_8f922e86cf4646428737dd08d5dd487a",
        "y": "IPY_MODEL_ba02e3e6817e4576ac4580e42528de41"
       },
       "selected": [],
       "x": {
        "type": "float",
        "values": [
         0.28766969405592147,
         0.43020238893545215
        ]
       },
       "y": {
        "type": "float",
        "values": [
         0.35492950428148073,
         0.5502889056231901
        ]
       }
      }
     },
     "e913810a10324a2b9250ee79e797bcf4": {
      "model_module": "bqplot",
      "model_module_version": "^0.4.5",
      "model_name": "ScatterModel",
      "state": {
       "color": {
        "type": null,
        "values": null
       },
       "colors": [
        "steelblue"
       ],
       "display_legend": false,
       "display_names": false,
       "names": {
        "type": null,
        "values": null
       },
       "opacity": {
        "type": null,
        "values": null
       },
       "rotation": {
        "type": null,
        "values": null
       },
       "scales": {
        "x": "IPY_MODEL_e72d18e12d4b4d3fa35dd98ef4e50a01",
        "y": "IPY_MODEL_095237bd54464b10adbc21c072027893"
       },
       "scales_metadata": {
        "color": {
         "dimension": "color"
        },
        "opacity": {
         "dimension": "opacity"
        },
        "rotation": {
         "dimension": "rotation"
        },
        "size": {
         "dimension": "size"
        },
        "skew": {
         "dimension": "skew"
        },
        "x": {
         "dimension": "x",
         "orientation": "horizontal"
        },
        "y": {
         "dimension": "y",
         "orientation": "vertical"
        }
       },
       "selected": [],
       "size": {
        "type": null,
        "values": null
       },
       "skew": {
        "type": null,
        "values": null
       },
       "stroke": "black",
       "tooltip": "IPY_MODEL_99575a00246640449d6a743bf97fd125",
       "x": {
        "type": "float",
        "values": [
         0.771320643266746,
         0.6336482349262754,
         0.4985070123025904,
         0.19806286475962398,
         0.16911083656253545,
         0.6853598183677972
        ]
       },
       "y": {
        "type": "float",
        "values": [
         0.0207519493594015,
         0.7488038825386119,
         0.22479664553084766,
         0.7605307121989587,
         0.08833981417401027,
         0.9533933461949365
        ]
       }
      }
     },
     "e9aa39c0c40e4ab485fec1a95a9cc577": {
      "model_module": "bqplot",
      "model_module_version": "^0.4.5",
      "model_name": "LinearScaleModel",
      "state": {
       "allow_padding": false,
       "max": 1,
       "min": 0,
       "stabilized": false
      }
     },
     "e9adaeb4e1f94ea69d8fa666853cb4a8": {
      "model_module": "bqplot",
      "model_module_version": "^0.4.5",
      "model_name": "LinearScaleModel",
      "state": {
       "stabilized": false
      }
     },
     "e9d0cd54a0ec492db3a2873142f013fe": {
      "model_module": "bqplot",
      "model_module_version": "^0.4.5",
      "model_name": "FigureModel",
      "state": {
       "_dom_classes": [],
       "animation_duration": 1000,
       "axes": [
        "IPY_MODEL_374b66902e544b90954ef06f6d228129",
        "IPY_MODEL_895bd309e4e9486fbafc57140b25875a"
       ],
       "layout": "IPY_MODEL_24e2d1021ee9415cab8993fe0a4f0adb",
       "marks": [
        "IPY_MODEL_22389e10b2cc49d5975782fca396ab1e",
        "IPY_MODEL_708be42c1c304fac821641a9ac078bbf"
       ],
       "scale_x": "IPY_MODEL_5c5e42d1c9a14de98a471facec42d622",
       "scale_y": "IPY_MODEL_b4f7044516db4a63979b243334a6a79a"
      }
     },
     "ea7b07c521d54241aa05fc48847496cb": {
      "model_module": "bqplot",
      "model_module_version": "^0.4.5",
      "model_name": "FigureModel",
      "state": {
       "_dom_classes": [],
       "axes": [
        "IPY_MODEL_e788d186320b47efb747e81de0429565",
        "IPY_MODEL_197ad5ec35524175b5be09febc31b38b"
       ],
       "layout": "IPY_MODEL_5881d6682ab542fd977e340cb459ee12",
       "marks": [
        "IPY_MODEL_5abde5efbe1140b38a4f92ed4538caf8",
        "IPY_MODEL_5de66bd720ec4617b2708f46f161c7d1",
        "IPY_MODEL_f0dd023bbeb441ada398bd7ddcd8cbc5",
        "IPY_MODEL_c441c5fa9f2d4950859e69b08bfced01",
        "IPY_MODEL_18925e5b9ce34b27841d404497ed296f"
       ],
       "scale_x": "IPY_MODEL_673ce520bc844136bd544007a9167f40",
       "scale_y": "IPY_MODEL_16f9d6fea7dd4ed6b41887976a7fceaa"
      }
     },
     "eb7078a9c21345c6895daa72e186e32d": {
      "model_module": "bqplot",
      "model_module_version": "^0.4.5",
      "model_name": "FigureModel",
      "state": {
       "_dom_classes": [],
       "animation_duration": 1000,
       "axes": [
        "IPY_MODEL_7ec0ffb439d84a2ca0e93abaa692d3d3",
        "IPY_MODEL_41573d753eeb4c3d8b6a95738cdcf199"
       ],
       "layout": "IPY_MODEL_96e7b93fec18480f9110c22416f54993",
       "marks": [
        "IPY_MODEL_a5161d4d8c4142e99484cc796444a897",
        "IPY_MODEL_783e727f23434d10a1270bee91d9e54c"
       ],
       "scale_x": "IPY_MODEL_1e77c4e379b145d782128ae49920f704",
       "scale_y": "IPY_MODEL_a89a63abb0f34692910f668035cdf5a8"
      }
     },
     "eba518d0cab342778c377e23c22c4183": {
      "model_module": "bqplot",
      "model_module_version": "^0.4.5",
      "model_name": "LinearScaleModel",
      "state": {
       "allow_padding": false,
       "max": 1,
       "min": 0,
       "stabilized": false
      }
     },
     "ebe15405182f4f568ba299d446a6ad5a": {
      "model_module": "bqplot",
      "model_module_version": "^0.4.5",
      "model_name": "FigureModel",
      "state": {
       "_dom_classes": [],
       "animation_duration": 1000,
       "axes": [
        "IPY_MODEL_843895d115e843afb39fe19340921748",
        "IPY_MODEL_1b53cc3482a24d13809f4d534ca03d6d"
       ],
       "layout": "IPY_MODEL_365fb485a6e04d139712d288af037c66",
       "marks": [
        "IPY_MODEL_321ab8fb984644bab81cdd90020b917f",
        "IPY_MODEL_a16ee8a3b9b945aa9040fb5ca915749b"
       ],
       "scale_x": "IPY_MODEL_3d591b4e6b8140c3b5313da1debaff38",
       "scale_y": "IPY_MODEL_aa70ee0783f74a8e8743c64ecc91303d"
      }
     },
     "ec0b93a280a5471693a16633cbb0b831": {
      "model_module": "@jupyter-widgets/base",
      "model_module_version": "1.1.0",
      "model_name": "LayoutModel",
      "state": {
       "min_width": "125px"
      }
     },
     "ec0d0dd37d0c41e38ae07b267417894e": {
      "model_module": "bqplot",
      "model_module_version": "^0.4.5",
      "model_name": "LinearScaleModel",
      "state": {
       "allow_padding": false,
       "max": 1,
       "min": 0,
       "stabilized": false
      }
     },
     "ec62227cabba4356ba518b79b0fc3f85": {
      "model_module": "bqplot",
      "model_module_version": "^0.4.5",
      "model_name": "LinearScaleModel",
      "state": {
       "max": 1,
       "min": 0,
       "stabilized": false
      }
     },
     "eca108f95094481e857270290a6182d6": {
      "model_module": "bqplot",
      "model_module_version": "^0.4.5",
      "model_name": "LinearScaleModel",
      "state": {
       "stabilized": false
      }
     },
     "ed3dbf00c0d04649a91236f655880fbe": {
      "model_module": "bqplot",
      "model_module_version": "^0.4.5",
      "model_name": "LinearScaleModel",
      "state": {
       "stabilized": false
      }
     },
     "ed8c5797db2a46bbadf30595f6418cc8": {
      "model_module": "bqplot",
      "model_module_version": "^0.4.5",
      "model_name": "LinearScaleModel",
      "state": {
       "max": 1,
       "min": 0,
       "stabilized": false
      }
     },
     "edf4a015686243dc987183f3ae015ccd": {
      "model_module": "bqplot",
      "model_module_version": "^0.4.5",
      "model_name": "LinesModel",
      "state": {
       "color": {
        "type": null,
        "values": null
       },
       "colors": [
        "black"
       ],
       "display_legend": false,
       "fill_colors": [],
       "labels": [
        "C1"
       ],
       "scales": {
        "x": "IPY_MODEL_b50daaba70f04418935494498fcbe2b3",
        "y": "IPY_MODEL_27e68e618c6a452a9dc5120635c7b7f1"
       },
       "selected": [],
       "x": {
        "type": "float",
        "values": [
         0.5272947621552145,
         0.5843433203379271
        ]
       },
       "y": {
        "type": "float",
        "values": [
         0.5706683504567711,
         1.3129857260028264
        ]
       }
      }
     },
     "edf9916b3d414abca9356ba8323651ed": {
      "model_module": "bqplot",
      "model_module_version": "^0.4.5",
      "model_name": "LinearScaleModel",
      "state": {
       "allow_padding": false,
       "max": 1,
       "min": 0,
       "stabilized": false
      }
     },
     "edfe8298553143a39f672f98243a4f29": {
      "model_module": "bqplot",
      "model_module_version": "^0.4.5",
      "model_name": "FigureModel",
      "state": {
       "_dom_classes": [],
       "animation_duration": 1000,
       "axes": [
        "IPY_MODEL_fa416960316649e6853913197c12236a",
        "IPY_MODEL_37f2e0fa5a164917a35ceae5e43d3981"
       ],
       "layout": "IPY_MODEL_f2ddd4bff81a467d9bd1fc71fafb7997",
       "marks": [
        "IPY_MODEL_b0cbd81950ee4ff78be29122cdfb61bc",
        "IPY_MODEL_e913810a10324a2b9250ee79e797bcf4"
       ],
       "scale_x": "IPY_MODEL_111ce876a7c3496faf859b0e617da217",
       "scale_y": "IPY_MODEL_d695105b1a5543b398349f7232c9154c"
      }
     },
     "ee188bd374014cdfabab6f50960935b1": {
      "model_module": "bqplot",
      "model_module_version": "^0.4.5",
      "model_name": "AxisModel",
      "state": {
       "scale": "IPY_MODEL_24982a36a1644ae4bcc6a7ede258777c",
       "side": "bottom",
       "tick_values": {
        "type": null,
        "values": null
       },
       "visible": false
      }
     },
     "ee67e09bf23f4ff5a883fef3b14472cb": {
      "model_module": "bqplot",
      "model_module_version": "^0.4.5",
      "model_name": "FigureModel",
      "state": {
       "_dom_classes": [],
       "animation_duration": 1000,
       "axes": [
        "IPY_MODEL_0ffe7303ad6b44db87ebb81677ade87f",
        "IPY_MODEL_596acaae9ab642d389b97eb131d3333b"
       ],
       "layout": "IPY_MODEL_38addd3a6f404cc6871052f88ec0197e",
       "marks": [
        "IPY_MODEL_be2dc756f94f48a59923b220b49819f7",
        "IPY_MODEL_81dc9b7e7a3147b09ef7fd95431b4450"
       ],
       "scale_x": "IPY_MODEL_43f4543ce952490793213d2ecddeaa49",
       "scale_y": "IPY_MODEL_20e9ddbd04974b05938d47342274a84a"
      }
     },
     "eeb35ec02e2f4551b88d706ca4d5cce0": {
      "model_module": "bqplot",
      "model_module_version": "^0.4.5",
      "model_name": "TooltipModel",
      "state": {
       "fields": [
        "index",
        "name"
       ],
       "formats": [
        ""
       ],
       "layout": "IPY_MODEL_6de1194de7f44b14b80b139f6c2844ef"
      }
     },
     "eec8feccf43d49298ddcb0143e894481": {
      "model_module": "bqplot",
      "model_module_version": "^0.4.5",
      "model_name": "AxisModel",
      "state": {
       "label": "Index",
       "scale": "IPY_MODEL_668832e8b6f64726ad5c33b267d7761b",
       "side": "bottom",
       "tick_values": {
        "type": null,
        "values": null
       }
      }
     },
     "ef0fb5245e494b569776b5ee08a1049e": {
      "model_module": "bqplot",
      "model_module_version": "^0.4.5",
      "model_name": "LinearScaleModel",
      "state": {
       "stabilized": false
      }
     },
     "ef27c68bd929445991bef0a8517cc39f": {
      "model_module": "bqplot",
      "model_module_version": "^0.4.5",
      "model_name": "LinearScaleModel",
      "state": {
       "allow_padding": false,
       "max": 1,
       "min": 0,
       "stabilized": false
      }
     },
     "ef81e36160eb4fe78a57b72e00b4b24b": {
      "model_module": "bqplot",
      "model_module_version": "^0.4.5",
      "model_name": "AxisModel",
      "state": {
       "orientation": "vertical",
       "scale": "IPY_MODEL_73248a716e694cafab9b89bf3825fcf5",
       "side": "left",
       "tick_values": {
        "type": null,
        "values": null
       }
      }
     },
     "efe16144d4e54bd18a216ff82acf3c43": {
      "model_module": "bqplot",
      "model_module_version": "^0.4.5",
      "model_name": "AxisModel",
      "state": {
       "orientation": "vertical",
       "scale": "IPY_MODEL_47e12bf78b364180b60957e93eacb6b2",
       "side": "left",
       "tick_values": {
        "type": null,
        "values": null
       }
      }
     },
     "f05dff23b9184af89f65ea3fc7a1ca15": {
      "model_module": "bqplot",
      "model_module_version": "^0.4.5",
      "model_name": "LinearScaleModel",
      "state": {
       "allow_padding": false,
       "max": 1,
       "min": 0,
       "stabilized": false
      }
     },
     "f05fc3748edd43daa47ad8fe9a6afee0": {
      "model_module": "bqplot",
      "model_module_version": "^0.4.5",
      "model_name": "ScatterModel",
      "state": {
       "color": {
        "type": null,
        "values": null
       },
       "colors": [
        "steelblue"
       ],
       "display_legend": false,
       "display_names": false,
       "names": {
        "type": null,
        "values": null
       },
       "opacity": {
        "type": null,
        "values": null
       },
       "rotation": {
        "type": null,
        "values": null
       },
       "scales": {
        "x": "IPY_MODEL_ed8c5797db2a46bbadf30595f6418cc8",
        "y": "IPY_MODEL_f1d1cfb414f4486fa52e3575fa93c58a"
       },
       "scales_metadata": {
        "color": {
         "dimension": "color"
        },
        "opacity": {
         "dimension": "opacity"
        },
        "rotation": {
         "dimension": "rotation"
        },
        "size": {
         "dimension": "size"
        },
        "skew": {
         "dimension": "skew"
        },
        "x": {
         "dimension": "x",
         "orientation": "horizontal"
        },
        "y": {
         "dimension": "y",
         "orientation": "vertical"
        }
       },
       "selected": [],
       "size": {
        "type": null,
        "values": null
       },
       "skew": {
        "type": null,
        "values": null
       },
       "stroke": "black",
       "tooltip": "IPY_MODEL_99575a00246640449d6a743bf97fd125",
       "x": {
        "type": "float",
        "values": [
         0.5434049417909654,
         0.4245175907491331,
         0.004718856190972565,
         0.6707490847267786,
         0.13670658968495297,
         0.891321954312264,
         0.18532821955007506,
         0.21969749262499216,
         0.8116831490893233,
         0.8162247487258399
        ]
       },
       "y": {
        "type": "float",
        "values": [
         0.27836938509379616,
         0.8447761323199037,
         0.12156912078311422,
         0.8258527551050476,
         0.57509332942725,
         0.20920212211718958,
         0.10837689046425514,
         0.9786237847073697,
         0.1719410127325942,
         0.2740737470416992
        ]
       }
      }
     },
     "f060ff0d1c0a4f16ac9baffea5006450": {
      "model_module": "bqplot",
      "model_module_version": "^0.4.5",
      "model_name": "LinesModel",
      "state": {
       "close_path": true,
       "color": {
        "type": null,
        "values": null
       },
       "fill": "inside",
       "fill_colors": [
        "orange",
        "blue",
        "red"
       ],
       "labels": [
        "C1",
        "C2"
       ],
       "scales": {
        "x": "IPY_MODEL_7f41f413961f43199028adc764c96f86",
        "y": "IPY_MODEL_708627e8f50e4eb18cd73b6c5ce3c490"
       },
       "selected": [],
       "tooltip": "IPY_MODEL_99575a00246640449d6a743bf97fd125",
       "x": {
        "type": "object",
        "values": [
         [
          4,
          5,
          6,
          6,
          5,
          4,
          3,
          1
         ],
         [
          1,
          2,
          3
         ]
        ]
       },
       "y": {
        "type": "object",
        "values": [
         [
          1,
          1.1,
          1.2,
          2.3,
          2.2,
          2.7,
          1,
          -2
         ],
         [
          3,
          2,
          3
         ]
        ]
       }
      }
     },
     "f07e0145546e4e3f8a6bcae382ee5f2a": {
      "model_module": "bqplot",
      "model_module_version": "^0.4.5",
      "model_name": "LinearScaleModel",
      "state": {
       "stabilized": false
      }
     },
     "f09b7c0b90b948fbb36503df9316a6fd": {
      "model_module": "bqplot",
      "model_module_version": "^0.4.5",
      "model_name": "ScatterModel",
      "state": {
       "color": {
        "type": null,
        "values": null
       },
       "colors": [
        "black"
       ],
       "display_legend": false,
       "names": {
        "type": null,
        "values": null
       },
       "opacity": {
        "type": null,
        "values": null
       },
       "rotation": {
        "type": null,
        "values": null
       },
       "scales": {
        "x": "IPY_MODEL_2a6aca56c2d14e61beef14fd6a225877",
        "y": "IPY_MODEL_6aebc1b7d022462ea4ac7b8228d301a8"
       },
       "scales_metadata": {
        "color": {
         "dimension": "color"
        },
        "opacity": {
         "dimension": "opacity"
        },
        "rotation": {
         "dimension": "rotation"
        },
        "size": {
         "dimension": "size"
        },
        "skew": {
         "dimension": "skew"
        },
        "x": {
         "dimension": "x",
         "orientation": "horizontal"
        },
        "y": {
         "dimension": "y",
         "orientation": "vertical"
        }
       },
       "selected": [],
       "size": {
        "type": null,
        "values": null
       },
       "skew": {
        "type": null,
        "values": null
       },
       "x": {
        "type": "float",
        "values": [
         0.5281075673364094,
         0.28766969405592147,
         -5.20820435004358,
         0.11120787378448214,
         1.2311893360787933,
         0.6838775462866998,
         0.8368019646982289,
         0.6790714093103971,
         0.5272947621552145,
         0.43020238893545215,
         0.5843433203379271,
         0.22738068359095126
        ]
       },
       "y": {
        "type": "float",
        "values": [
         -0.15153524143845282,
         0.35492950428148073,
         1.8846379679106748,
         0.3365460478735013,
         0.6785452236610399,
         0.5342473347036941,
         0.2219913829992549,
         0.22900528542596285,
         0.5706683504567711,
         0.5502889056231901,
         1.3129857260028264,
         0.7667443763710994
        ]
       }
      }
     },
     "f0dd023bbeb441ada398bd7ddcd8cbc5": {
      "model_module": "bqplot",
      "model_module_version": "^0.4.5",
      "model_name": "LinesModel",
      "state": {
       "color": {
        "type": null,
        "values": null
       },
       "colors": [
        "black"
       ],
       "display_legend": false,
       "fill_colors": [],
       "labels": [
        "C1"
       ],
       "scales": {
        "x": "IPY_MODEL_c8ab28210875423b8fe83758838b4d3a",
        "y": "IPY_MODEL_4da18018025d43988651afbdebf092d4"
       },
       "selected": [],
       "x": {
        "type": "float",
        "values": [
         0.8520227339335706,
         0.4097295846150608
        ]
       },
       "y": {
        "type": "float",
        "values": [
         0.41305515312279745,
         0.5271223505498778
        ]
       }
      }
     },
     "f146b57471004b349db57029ec159b1b": {
      "model_module": "@jupyter-widgets/base",
      "model_module_version": "1.1.0",
      "model_name": "LayoutModel",
      "state": {
       "min_width": "125px"
      }
     },
     "f1accc2cc94f472f8211159a19043efb": {
      "model_module": "bqplot",
      "model_module_version": "^0.4.5",
      "model_name": "LinesModel",
      "state": {
       "close_path": true,
       "color": {
        "type": null,
        "values": null
       },
       "display_legend": false,
       "fill": "inside",
       "fill_colors": [
        "orange",
        "blue",
        "red"
       ],
       "labels": [
        "Point-two",
        "Point-three"
       ],
       "scales": {
        "x": "IPY_MODEL_6b4ea42ababf42d8a59afcb8f908b1b7",
        "y": "IPY_MODEL_c071a545ee6446d2ad988e58d55361e7"
       },
       "selected": [],
       "stroke_width": 1,
       "tooltip": "IPY_MODEL_eeb35ec02e2f4551b88d706ca4d5cce0",
       "x": {
        "type": "float",
        "values": [
         [
          0.4097295846150608,
          0.8520227339335706,
          1.7332689863391435,
          0.4200808874255707
         ],
         [
          0.4097295846150608,
          0.22355450954331613,
          0.4501473823600029,
          0.8520227339335706
         ]
        ]
       },
       "y": {
        "type": "float",
        "values": [
         [
          0.5271223505498778,
          0.41305515312279745,
          0.5796961417400555,
          0.9116146811300156
         ],
         [
          0.5271223505498778,
          0.42271381055996105,
          -0.12426375746363771,
          0.41305515312279745
         ]
        ]
       }
      }
     },
     "f1d1cfb414f4486fa52e3575fa93c58a": {
      "model_module": "bqplot",
      "model_module_version": "^0.4.5",
      "model_name": "LinearScaleModel",
      "state": {
       "max": 1,
       "min": 0,
       "stabilized": false
      }
     },
     "f2111743fef84d248556d8e435516b54": {
      "model_module": "bqplot",
      "model_module_version": "^0.4.5",
      "model_name": "LinearScaleModel",
      "state": {
       "allow_padding": false,
       "max": 1,
       "min": 0,
       "stabilized": false
      }
     },
     "f22e33cfd312489497ef4c9542d2a7d3": {
      "model_module": "bqplot",
      "model_module_version": "^0.4.5",
      "model_name": "AxisModel",
      "state": {
       "scale": "IPY_MODEL_55f8e396dded4481b77e5425d0b5523f",
       "side": "bottom",
       "tick_values": {
        "type": null,
        "values": null
       },
       "visible": false
      }
     },
     "f25ecdf9d74a465f8a004219bdab21c9": {
      "model_module": "bqplot",
      "model_module_version": "^0.4.5",
      "model_name": "LinesModel",
      "state": {
       "close_path": true,
       "color": {
        "type": null,
        "values": null
       },
       "display_legend": false,
       "fill": "inside",
       "fill_colors": [
        "orange",
        "blue",
        "red"
       ],
       "labels": [
        "C1",
        "C2"
       ],
       "scales": {
        "x": "IPY_MODEL_49ef24da5ac14cfd83f32eca7f972797",
        "y": "IPY_MODEL_87a46591226a4db8be79d0344540036a"
       },
       "selected": [],
       "stroke_width": 1,
       "tooltip": "IPY_MODEL_99575a00246640449d6a743bf97fd125",
       "x": {
        "type": "object",
        "values": [
         [
          4,
          5,
          6,
          6,
          5,
          4,
          3,
          1
         ],
         [
          1,
          2,
          3
         ]
        ]
       },
       "y": {
        "type": "object",
        "values": [
         [
          1,
          1.1,
          1.2,
          2.3,
          2.2,
          2.7,
          1,
          -2
         ],
         [
          3,
          2,
          3
         ]
        ]
       }
      }
     },
     "f2617e6965b04467b45f4999c4f4e954": {
      "model_module": "bqplot",
      "model_module_version": "^0.4.5",
      "model_name": "AxisModel",
      "state": {
       "label": "Date",
       "scale": "IPY_MODEL_a2ece61b87414a459160c2517486e0d9",
       "side": "bottom",
       "tick_values": {
        "type": null,
        "values": null
       }
      }
     },
     "f2ddd4bff81a467d9bd1fc71fafb7997": {
      "model_module": "@jupyter-widgets/base",
      "model_module_version": "1.1.0",
      "model_name": "LayoutModel",
      "state": {
       "min_width": "125px"
      }
     },
     "f2e8de33d28e43188dfb6d2f081b1cc1": {
      "model_module": "@jupyter-widgets/base",
      "model_module_version": "1.1.0",
      "model_name": "LayoutModel",
      "state": {
       "min_width": "125px"
      }
     },
     "f3c30f8524a546f686f271958f316bb4": {
      "model_module": "bqplot",
      "model_module_version": "^0.4.5",
      "model_name": "LinesModel",
      "state": {
       "color": {
        "type": null,
        "values": null
       },
       "colors": [
        "black"
       ],
       "display_legend": false,
       "fill_colors": [],
       "labels": [
        "C1"
       ],
       "scales": {
        "x": "IPY_MODEL_b50daaba70f04418935494498fcbe2b3",
        "y": "IPY_MODEL_27e68e618c6a452a9dc5120635c7b7f1"
       },
       "selected": [],
       "x": {
        "type": "float",
        "values": [
         0.43020238893545215,
         0.22738068359095126
        ]
       },
       "y": {
        "type": "float",
        "values": [
         0.5502889056231901,
         0.7667443763710994
        ]
       }
      }
     },
     "f3e5fb928d4f41a990b89a1fe4fb303a": {
      "model_module": "bqplot",
      "model_module_version": "^0.4.5",
      "model_name": "LinearScaleModel",
      "state": {
       "allow_padding": false,
       "max": 1,
       "min": 0,
       "stabilized": false
      }
     },
     "f4279ab8cf6b48d1b3f3b446910f61d8": {
      "model_module": "bqplot",
      "model_module_version": "^0.4.5",
      "model_name": "LinearScaleModel",
      "state": {
       "allow_padding": false,
       "max": 1,
       "min": 0,
       "stabilized": false
      }
     },
     "f42be706b16848c1bcba7a2511e3a76c": {
      "model_module": "bqplot",
      "model_module_version": "^0.4.5",
      "model_name": "LinearScaleModel",
      "state": {
       "allow_padding": false,
       "max": 1,
       "min": 0,
       "stabilized": false
      }
     },
     "f4b088204c4b4592802182a92d1fe074": {
      "model_module": "bqplot",
      "model_module_version": "^0.4.5",
      "model_name": "LinearScaleModel",
      "state": {
       "allow_padding": false,
       "max": 1,
       "min": 0,
       "stabilized": false
      }
     },
     "f50346dd00c94018a79f66e708015420": {
      "model_module": "@jupyter-widgets/base",
      "model_module_version": "1.1.0",
      "model_name": "LayoutModel",
      "state": {}
     },
     "f50a16a7845c4b7883c53285ae9e5c05": {
      "model_module": "bqplot",
      "model_module_version": "^0.4.5",
      "model_name": "LinearScaleModel",
      "state": {
       "max": 1,
       "min": 0,
       "stabilized": false
      }
     },
     "f531654881c94b01b7cb641f099e7c9c": {
      "model_module": "bqplot",
      "model_module_version": "^0.4.5",
      "model_name": "LinearScaleModel",
      "state": {
       "stabilized": false
      }
     },
     "f58adcecae814750a154465314f1ef66": {
      "model_module": "bqplot",
      "model_module_version": "^0.4.5",
      "model_name": "LinesModel",
      "state": {
       "close_path": true,
       "color": {
        "type": null,
        "values": null
       },
       "display_legend": false,
       "fill": "inside",
       "fill_colors": [
        "orange",
        "blue",
        "red"
       ],
       "labels": [
        "C1",
        "C2",
        "C3"
       ],
       "scales": {
        "x": "IPY_MODEL_d0ef5653e866457aa87de2c0fc654557",
        "y": "IPY_MODEL_2d4445214e44459dae355ebdb921b788"
       },
       "selected": [],
       "stroke_width": 1,
       "tooltip": "IPY_MODEL_99575a00246640449d6a743bf97fd125",
       "x": {
        "type": "object",
        "values": [
         [],
         [
          0.4097295846150608,
          0.8520227339335706,
          1.7332689863391435,
          0.4200808874255707
         ],
         [
          0.4097295846150608,
          0.22355450954331613,
          0.4501473823600029,
          0.8520227339335706
         ]
        ]
       },
       "y": {
        "type": "object",
        "values": [
         [],
         [
          0.5271223505498778,
          0.41305515312279745,
          0.5796961417400555,
          0.9116146811300156
         ],
         [
          0.5271223505498778,
          0.42271381055996105,
          -0.12426375746363771,
          0.41305515312279745
         ]
        ]
       }
      }
     },
     "f6393eeb16e64f0abbd23ec9a691ac01": {
      "model_module": "bqplot",
      "model_module_version": "^0.4.5",
      "model_name": "LinearScaleModel",
      "state": {
       "allow_padding": false,
       "max": 1,
       "min": 0,
       "stabilized": false
      }
     },
     "f6777e8b183945f49347fd8d10c59501": {
      "model_module": "bqplot",
      "model_module_version": "^0.4.5",
      "model_name": "LinesModel",
      "state": {
       "close_path": true,
       "color": {
        "type": null,
        "values": null
       },
       "display_legend": false,
       "fill": "inside",
       "fill_colors": [
        "orange",
        "blue",
        "red"
       ],
       "scales": {
        "x": "IPY_MODEL_dbc463d14d854511850f22b290706bf1",
        "y": "IPY_MODEL_831733d3f8a54aae9e33409deefb767a"
       },
       "selected": [],
       "stroke_width": 1,
       "tooltip": "IPY_MODEL_99575a00246640449d6a743bf97fd125",
       "x": {
        "type": "float",
        "values": []
       },
       "y": {
        "type": "float",
        "values": []
       }
      }
     },
     "f68ea9647c3c48d5bfa4f8aaa5a30639": {
      "model_module": "bqplot",
      "model_module_version": "^0.4.5",
      "model_name": "FigureModel",
      "state": {
       "_dom_classes": [],
       "animation_duration": 1000,
       "axes": [
        "IPY_MODEL_90d58f906c5f4c038433684d4a14b897",
        "IPY_MODEL_40686e9aded4459c95e278c538d85b47"
       ],
       "layout": "IPY_MODEL_982ba481d29a448d86475f5c7672ef9f",
       "marks": [
        "IPY_MODEL_e2acf17b468d46e7ae701e665997c9db"
       ],
       "scale_x": "IPY_MODEL_6f325286ef2b46d09ca9089dfc15ddd9",
       "scale_y": "IPY_MODEL_c49c50d6cbe742f3a8db07b447013ed4"
      }
     },
     "f6cbd193962249f9a58b952be2cbe292": {
      "model_module": "bqplot",
      "model_module_version": "^0.4.5",
      "model_name": "LinesModel",
      "state": {
       "color": {
        "type": null,
        "values": null
       },
       "colors": [
        "black"
       ],
       "display_legend": false,
       "fill_colors": [],
       "labels": [
        "C1"
       ],
       "scales": {
        "x": "IPY_MODEL_b50daaba70f04418935494498fcbe2b3",
        "y": "IPY_MODEL_27e68e618c6a452a9dc5120635c7b7f1"
       },
       "selected": [],
       "x": {
        "type": "float",
        "values": [
         0.22738068359095126,
         1.2311893360787933
        ]
       },
       "y": {
        "type": "float",
        "values": [
         0.7667443763710994,
         0.6785452236610399
        ]
       }
      }
     },
     "f6ed15b521434985a1ca68012d7ebec5": {
      "model_module": "bqplot",
      "model_module_version": "^0.4.5",
      "model_name": "FigureModel",
      "state": {
       "_dom_classes": [],
       "animation_duration": 1000,
       "axes": [
        "IPY_MODEL_3e9ae202fbc14310af90dcc2f0455172",
        "IPY_MODEL_919ebe8458ca4976935524354756612a"
       ],
       "layout": "IPY_MODEL_fb4435e06bd24c5ebe52042a82079d79",
       "marks": [
        "IPY_MODEL_1b414e09612c464587b6020eab25372e"
       ],
       "scale_x": "IPY_MODEL_470cd2edf6be4aa5a36dbbdf19a69725",
       "scale_y": "IPY_MODEL_fad5fb96eec744238a8dbf6e293027ac"
      }
     },
     "f7a5473dc56c42c581b25e934eed782d": {
      "model_module": "bqplot",
      "model_module_version": "^0.4.5",
      "model_name": "LinearScaleModel",
      "state": {
       "allow_padding": false,
       "max": 1,
       "min": 0,
       "stabilized": false
      }
     },
     "f7c9305fde704fda9ef839181294679f": {
      "model_module": "bqplot",
      "model_module_version": "^0.4.5",
      "model_name": "AxisModel",
      "state": {
       "scale": "IPY_MODEL_c06e3f94c1334731a45aae805d842266",
       "side": "bottom",
       "tick_values": {
        "type": null,
        "values": null
       }
      }
     },
     "f7def19bb3864b64982ef226096f3843": {
      "model_module": "bqplot",
      "model_module_version": "^0.4.5",
      "model_name": "ScatterModel",
      "state": {
       "color": {
        "type": null,
        "values": null
       },
       "colors": [
        "steelblue"
       ],
       "display_legend": false,
       "display_names": false,
       "names": {
        "type": null,
        "values": null
       },
       "opacity": {
        "type": null,
        "values": null
       },
       "rotation": {
        "type": null,
        "values": null
       },
       "scales": {
        "x": "IPY_MODEL_bde7d4d796e0443896df91f019bf80ad",
        "y": "IPY_MODEL_9f76933e24b54a83abd631d3a554927a"
       },
       "scales_metadata": {
        "color": {
         "dimension": "color"
        },
        "opacity": {
         "dimension": "opacity"
        },
        "rotation": {
         "dimension": "rotation"
        },
        "size": {
         "dimension": "size"
        },
        "skew": {
         "dimension": "skew"
        },
        "x": {
         "dimension": "x",
         "orientation": "horizontal"
        },
        "y": {
         "dimension": "y",
         "orientation": "vertical"
        }
       },
       "selected": [],
       "size": {
        "type": null,
        "values": null
       },
       "skew": {
        "type": null,
        "values": null
       },
       "stroke": "black",
       "tooltip": "IPY_MODEL_cc31526312594ad68b5bd650904944ea",
       "x": {
        "type": "float",
        "values": [
         0.771320643266746,
         0.6336482349262754,
         0.4985070123025904,
         0.19806286475962398,
         0.16911083656253545,
         0.6853598183677972
        ]
       },
       "y": {
        "type": "float",
        "values": [
         0.0207519493594015,
         0.7488038825386119,
         0.22479664553084766,
         0.7605307121989587,
         0.08833981417401027,
         0.9533933461949365
        ]
       }
      }
     },
     "f7f8f6963cc34a878971c9ebd13ef936": {
      "model_module": "bqplot",
      "model_module_version": "^0.4.5",
      "model_name": "LinesModel",
      "state": {
       "color": {
        "type": null,
        "values": null
       },
       "colors": [
        "black"
       ],
       "display_legend": false,
       "fill_colors": [],
       "labels": [
        "C1"
       ],
       "scales": {
        "x": "IPY_MODEL_b50daaba70f04418935494498fcbe2b3",
        "y": "IPY_MODEL_27e68e618c6a452a9dc5120635c7b7f1"
       },
       "selected": [],
       "x": {
        "type": "float",
        "values": [
         0.22738068359095126,
         0.11120787378448214
        ]
       },
       "y": {
        "type": "float",
        "values": [
         0.7667443763710994,
         0.3365460478735013
        ]
       }
      }
     },
     "f86fb9c6a43e438bbaa682fce245b7b5": {
      "model_module": "bqplot",
      "model_module_version": "^0.4.5",
      "model_name": "AxisModel",
      "state": {
       "scale": "IPY_MODEL_4d48ab48609c451ca80c104cdbb0875d",
       "side": "bottom",
       "tick_values": {
        "type": null,
        "values": null
       }
      }
     },
     "f88a0d403f53472fb333c5e3e35c3db0": {
      "model_module": "bqplot",
      "model_module_version": "^0.4.5",
      "model_name": "AxisModel",
      "state": {
       "scale": "IPY_MODEL_b536a45d7a204a1c8c8c5c90e24ce7df",
       "side": "bottom",
       "tick_values": {
        "type": null,
        "values": null
       }
      }
     },
     "f8b07b8c320346b193616bacd3daf014": {
      "model_module": "bqplot",
      "model_module_version": "^0.4.5",
      "model_name": "LinesModel",
      "state": {
       "close_path": true,
       "color": {
        "type": null,
        "values": null
       },
       "display_legend": false,
       "fill": "inside",
       "fill_colors": [
        "orange",
        "blue",
        "red"
       ],
       "labels": [
        "C1",
        "C2",
        "C3"
       ],
       "scales": {
        "x": "IPY_MODEL_c1b96b9bd2a643a48cfa6a290db7fe40",
        "y": "IPY_MODEL_8f8b11e3b7dd473d8260e9f36e42e2de"
       },
       "selected": [],
       "stroke_width": 1,
       "tooltip": "IPY_MODEL_99575a00246640449d6a743bf97fd125",
       "x": {
        "type": "object",
        "values": [
         [],
         [
          0.4097295846150608,
          0.8520227339335706,
          1.7332689863391435,
          0.4200808874255707
         ],
         [
          0.4097295846150608,
          0.22355450954331613,
          0.4501473823600029,
          0.8520227339335706
         ]
        ]
       },
       "y": {
        "type": "object",
        "values": [
         [],
         [
          0.5271223505498778,
          0.41305515312279745,
          0.5796961417400555,
          0.9116146811300156
         ],
         [
          0.5271223505498778,
          0.42271381055996105,
          -0.12426375746363771,
          0.41305515312279745
         ]
        ]
       }
      }
     },
     "f8c6ca673c704b3fb7aa3674f7fd16cc": {
      "model_module": "bqplot",
      "model_module_version": "^0.4.5",
      "model_name": "AxisModel",
      "state": {
       "orientation": "vertical",
       "scale": "IPY_MODEL_1040bfa1e3974094bdfc91d8077eb6da",
       "side": "left",
       "tick_values": {
        "type": null,
        "values": null
       },
       "visible": false
      }
     },
     "f8f0efd2e3b94fbc989381ed1c9cf250": {
      "model_module": "bqplot",
      "model_module_version": "^0.4.5",
      "model_name": "AxisModel",
      "state": {
       "orientation": "vertical",
       "scale": "IPY_MODEL_c071a545ee6446d2ad988e58d55361e7",
       "side": "left",
       "tick_values": {
        "type": null,
        "values": null
       }
      }
     },
     "f914f313c791480d8cd0fef78c1580f8": {
      "model_module": "bqplot",
      "model_module_version": "^0.4.5",
      "model_name": "LinesModel",
      "state": {
       "close_path": true,
       "color": {
        "type": null,
        "values": null
       },
       "fill": "inside",
       "fill_colors": [
        "orange",
        "blue",
        "red"
       ],
       "labels": [
        "C1",
        "C2"
       ],
       "opacities": [
        0.9,
        0.9
       ],
       "scales": {
        "x": "IPY_MODEL_519e1983bc7e4ac393fd50cf9ff4885a",
        "y": "IPY_MODEL_2983dde291294d548fb44479df620846"
       },
       "selected": [],
       "x": {
        "type": "object",
        "values": [
         [
          10,
          3,
          3.2
         ],
         [
          0.5,
          2.5,
          1.7
         ],
         [
          4,
          5,
          6,
          6,
          5,
          4,
          3
         ]
        ]
       },
       "y": {
        "type": "object",
        "values": [
         [
          1,
          1.1,
          1.2,
          2.3,
          2.2,
          2.7,
          1,
          -2
         ],
         [
          3,
          2,
          3
         ]
        ]
       }
      }
     },
     "f92208a9e5444a0ea102186316de99d0": {
      "model_module": "bqplot",
      "model_module_version": "^0.4.5",
      "model_name": "AxisModel",
      "state": {
       "scale": "IPY_MODEL_831b89e00da5486b89d345ee27d9d3f4",
       "side": "bottom",
       "tick_values": {
        "type": null,
        "values": null
       },
       "visible": false
      }
     },
     "f92c19b83b4445cfb5fd043538a003f4": {
      "model_module": "bqplot",
      "model_module_version": "^0.4.5",
      "model_name": "LinearScaleModel",
      "state": {
       "allow_padding": false,
       "max": 1,
       "min": 0,
       "stabilized": false
      }
     },
     "f936c4ac538849d9beb7f03496450f15": {
      "model_module": "@jupyter-widgets/base",
      "model_module_version": "1.1.0",
      "model_name": "LayoutModel",
      "state": {
       "min_width": "125px"
      }
     },
     "fa416960316649e6853913197c12236a": {
      "model_module": "bqplot",
      "model_module_version": "^0.4.5",
      "model_name": "AxisModel",
      "state": {
       "scale": "IPY_MODEL_e72d18e12d4b4d3fa35dd98ef4e50a01",
       "side": "bottom",
       "tick_values": {
        "type": null,
        "values": null
       }
      }
     },
     "fad5fb96eec744238a8dbf6e293027ac": {
      "model_module": "bqplot",
      "model_module_version": "^0.4.5",
      "model_name": "LinearScaleModel",
      "state": {
       "allow_padding": false,
       "max": 1,
       "min": 0,
       "stabilized": false
      }
     },
     "fb2943a354954b32811241139452f1ea": {
      "model_module": "bqplot",
      "model_module_version": "^0.4.5",
      "model_name": "LinearScaleModel",
      "state": {
       "stabilized": false
      }
     },
     "fb35778567a949baba8b539c46854168": {
      "model_module": "bqplot",
      "model_module_version": "^0.4.5",
      "model_name": "LinearScaleModel",
      "state": {
       "stabilized": false
      }
     },
     "fb4435e06bd24c5ebe52042a82079d79": {
      "model_module": "@jupyter-widgets/base",
      "model_module_version": "1.1.0",
      "model_name": "LayoutModel",
      "state": {
       "min_width": "125px"
      }
     },
     "fb92ff6d709d4834a9483ce0484077ea": {
      "model_module": "bqplot",
      "model_module_version": "^0.4.5",
      "model_name": "AxisModel",
      "state": {
       "scale": "IPY_MODEL_a2a9b0308f83474d9f48a49f5cb6bad9",
       "side": "bottom",
       "tick_values": {
        "type": null,
        "values": null
       },
       "visible": false
      }
     },
     "fbb4389497444d0e81a907c09a12e877": {
      "model_module": "bqplot",
      "model_module_version": "^0.4.5",
      "model_name": "LinearScaleModel",
      "state": {
       "allow_padding": false,
       "max": 1,
       "min": 0,
       "stabilized": false
      }
     },
     "fbd74d408aed4ccb9a6afd3307f32bca": {
      "model_module": "bqplot",
      "model_module_version": "^0.4.5",
      "model_name": "LinearScaleModel",
      "state": {
       "allow_padding": false,
       "max": 1,
       "min": 0,
       "stabilized": false
      }
     },
     "fc0ba3b82c7a41bea1691ad328cd88e4": {
      "model_module": "bqplot",
      "model_module_version": "^0.4.5",
      "model_name": "LinearScaleModel",
      "state": {
       "stabilized": false
      }
     },
     "fc329b43e896453885687caebca4a652": {
      "model_module": "bqplot",
      "model_module_version": "^0.4.5",
      "model_name": "FigureModel",
      "state": {
       "_dom_classes": [],
       "animation_duration": 1000,
       "axes": [
        "IPY_MODEL_e3f6d476853c44f7a649e1be0cb0626b",
        "IPY_MODEL_e7baa2e971c3479daaa2590be008be56"
       ],
       "layout": "IPY_MODEL_4859125e7a4346fa9f62b30697e3d36b",
       "marks": [
        "IPY_MODEL_f060ff0d1c0a4f16ac9baffea5006450"
       ],
       "scale_x": "IPY_MODEL_f6393eeb16e64f0abbd23ec9a691ac01",
       "scale_y": "IPY_MODEL_4b562bb484ef442eb8e61df2806c45c0"
      }
     },
     "fcb49c958d78493396dcc715467d7147": {
      "model_module": "bqplot",
      "model_module_version": "^0.4.5",
      "model_name": "LinearScaleModel",
      "state": {
       "allow_padding": false,
       "max": 1,
       "min": 0,
       "stabilized": false
      }
     },
     "fd51ee5a56ba4e61a80ea0e6a2da545b": {
      "model_module": "bqplot",
      "model_module_version": "^0.4.5",
      "model_name": "FigureModel",
      "state": {
       "_dom_classes": [],
       "animation_duration": 1000,
       "axes": [
        "IPY_MODEL_791c547ba6404653b69cf6153bbe64e3",
        "IPY_MODEL_b357422a17984cb2b085fcd26a164044"
       ],
       "layout": "IPY_MODEL_06711aadac164d49b910909c19684a32",
       "marks": [
        "IPY_MODEL_2c7487ec21774020913b6cf82d4351a0",
        "IPY_MODEL_2bf1426ea6d64c10b6ed556fe83a44ff"
       ],
       "scale_x": "IPY_MODEL_15732aedd4604fd7b53e2e06df64a6b2",
       "scale_y": "IPY_MODEL_52fdaf785aac4becacc65ebf349287db"
      }
     },
     "fd8a6c077eb746eca9ea359d8c64092d": {
      "model_module": "bqplot",
      "model_module_version": "^0.4.5",
      "model_name": "LinesModel",
      "state": {
       "color": {
        "type": null,
        "values": null
       },
       "colors": [
        "black"
       ],
       "display_legend": false,
       "fill_colors": [],
       "labels": [
        "C1"
       ],
       "scales": {
        "x": "IPY_MODEL_b50daaba70f04418935494498fcbe2b3",
        "y": "IPY_MODEL_27e68e618c6a452a9dc5120635c7b7f1"
       },
       "selected": [],
       "x": {
        "type": "float",
        "values": [
         -5.20820435004358,
         0.22738068359095126
        ]
       },
       "y": {
        "type": "float",
        "values": [
         1.8846379679106748,
         0.7667443763710994
        ]
       }
      }
     },
     "fd903c69ff4a4e9aa7c285fc025c740b": {
      "model_module": "bqplot",
      "model_module_version": "^0.4.5",
      "model_name": "FigureModel",
      "state": {
       "_dom_classes": [],
       "animation_duration": 1000,
       "axes": [
        "IPY_MODEL_99e44a461a224647a40ac52c60c2eb45",
        "IPY_MODEL_9dd1d59915a040ff8cd3add409aa9d2e"
       ],
       "layout": "IPY_MODEL_43c6808fba3745a9a2f9dde5f3223202",
       "marks": [
        "IPY_MODEL_f25ecdf9d74a465f8a004219bdab21c9"
       ],
       "scale_x": "IPY_MODEL_f05dff23b9184af89f65ea3fc7a1ca15",
       "scale_y": "IPY_MODEL_f2111743fef84d248556d8e435516b54"
      }
     },
     "fe1c4296b65942fbbbba937eb354ffdb": {
      "model_module": "bqplot",
      "model_module_version": "^0.4.5",
      "model_name": "AxisModel",
      "state": {
       "scale": "IPY_MODEL_91e4c6360a9a46a08e2986e0bc397917",
       "side": "bottom",
       "tick_values": {
        "type": null,
        "values": null
       }
      }
     },
     "ff1f33c9fb5149b6bb4a59ff3db0a7d6": {
      "model_module": "bqplot",
      "model_module_version": "^0.4.5",
      "model_name": "AxisModel",
      "state": {
       "scale": "IPY_MODEL_9ac875ee35c0440dbddf37862fbe7c58",
       "side": "bottom",
       "tick_values": {
        "type": null,
        "values": null
       },
       "visible": false
      }
     },
     "ff651205db934daab65549b8fae6708a": {
      "model_module": "bqplot",
      "model_module_version": "^0.4.5",
      "model_name": "LinearScaleModel",
      "state": {
       "stabilized": false
      }
     },
     "ff7e94b4594346e5aebce2e0691ed0dc": {
      "model_module": "bqplot",
      "model_module_version": "^0.4.5",
      "model_name": "LinearScaleModel",
      "state": {
       "stabilized": false
      }
     },
     "ff85420f700e455e8415ebac4682d37e": {
      "model_module": "bqplot",
      "model_module_version": "^0.4.5",
      "model_name": "FigureModel",
      "state": {
       "_dom_classes": [],
       "animation_duration": 1000,
       "axes": [
        "IPY_MODEL_fe1c4296b65942fbbbba937eb354ffdb",
        "IPY_MODEL_44ce5a7a8310436e8c748bccf050c591"
       ],
       "layout": "IPY_MODEL_f146b57471004b349db57029ec159b1b",
       "marks": [
        "IPY_MODEL_af2203a6abeb4491a4da414eb9be3e11",
        "IPY_MODEL_9ad697e646a6419ba9d5ecaf2a8c6003"
       ],
       "scale_x": "IPY_MODEL_cd1396b004db43a198b16cae4b8baf14",
       "scale_y": "IPY_MODEL_bc789daa181c4d10a540b5d4b5bc50a6"
      }
     }
    },
    "version_major": 2,
    "version_minor": 0
   }
  }
 },
 "nbformat": 4,
 "nbformat_minor": 1
}
