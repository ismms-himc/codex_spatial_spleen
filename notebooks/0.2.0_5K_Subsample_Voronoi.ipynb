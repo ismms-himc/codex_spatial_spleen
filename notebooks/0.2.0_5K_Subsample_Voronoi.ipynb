{
 "cells": [
  {
   "cell_type": "markdown",
   "metadata": {},
   "source": [
    "# 5K\n",
    "Subsample Voronoi "
   ]
  },
  {
   "cell_type": "code",
   "execution_count": 1,
   "metadata": {},
   "outputs": [],
   "source": [
    "import pandas as pd\n",
    "df = {}"
   ]
  },
  {
   "cell_type": "code",
   "execution_count": 2,
   "metadata": {},
   "outputs": [
    {
     "name": "stdout",
     "output_type": "stream",
     "text": [
      ">> clustergrammer2 backend version 0.4.0\n"
     ]
    }
   ],
   "source": [
    "from clustergrammer2 import net\n",
    "\n",
    "import ipywidgets as widgets\n",
    "import numpy as np\n",
    "from bqplot import pyplot as plt\n",
    "import bqplot"
   ]
  },
  {
   "cell_type": "code",
   "execution_count": 3,
   "metadata": {},
   "outputs": [],
   "source": [
    "from copy import deepcopy\n",
    "from glob import glob"
   ]
  },
  {
   "cell_type": "markdown",
   "metadata": {},
   "source": [
    "#### Load X-shift cluster ID"
   ]
  },
  {
   "cell_type": "code",
   "execution_count": 4,
   "metadata": {},
   "outputs": [
    {
     "data": {
      "text/plain": [
       "(58, 1)"
      ]
     },
     "execution_count": 4,
     "metadata": {},
     "output_type": "execute_result"
    }
   ],
   "source": [
    "df['cell_type'] = pd.read_excel('../data/big_data/mmc2__codex_cell_type_info.xlsx', index_col=0)\n",
    "df['cell_type'].shape"
   ]
  },
  {
   "cell_type": "code",
   "execution_count": 5,
   "metadata": {},
   "outputs": [
    {
     "name": "stdout",
     "output_type": "stream",
     "text": [
      "28\n"
     ]
    },
    {
     "data": {
      "text/plain": [
       "['B cells',\n",
       " 'B220(+) DN T cells',\n",
       " 'CD106(+)CD16/32(+)CD31(+) stroma',\n",
       " 'CD106(+)CD16/32(+)CD31(-)Ly6C(-) stroma',\n",
       " 'CD106(+)CD16/32(-)Ly6C(+)CD31(+)',\n",
       " 'CD106(-)CD16/32(+)Ly6C(+)CD31(-)',\n",
       " 'CD106(-)CD16/32(-)Ly6C(+)CD31(+) stroma',\n",
       " 'CD11c(+) B cells',\n",
       " 'CD3(+) other markers (-)',\n",
       " 'CD31(hi) vascular',\n",
       " 'CD4(+) T cells',\n",
       " 'CD4(+)CD8(-)cDC',\n",
       " 'CD4(+)MHCII(+)',\n",
       " 'CD4(-)CD8(+)cDC',\n",
       " 'CD4(-)CD8(-) cDC',\n",
       " 'CD8(+) T cells',\n",
       " 'ERTR7(+) stroma',\n",
       " 'F4/80(+) mphs',\n",
       " 'FDCs',\n",
       " 'NK cells',\n",
       " 'capsule',\n",
       " 'dirt',\n",
       " 'erythroblasts',\n",
       " 'granulocytes',\n",
       " 'marginal zone mphs',\n",
       " 'megakaryocytes',\n",
       " 'noid',\n",
       " 'plasma cells']"
      ]
     },
     "execution_count": 5,
     "metadata": {},
     "output_type": "execute_result"
    }
   ],
   "source": [
    "ct_dict = {}\n",
    "cell_types = []\n",
    "for inst_id in df['cell_type'].index.tolist():\n",
    "    inst_ct = df['cell_type']['Imaging phenotype (cell type)'].loc[inst_id]\n",
    "    cell_types.append(inst_ct)\n",
    "    ct_dict[inst_id] = inst_ct\n",
    "    \n",
    "cell_types = sorted(list(set(cell_types)))\n",
    "print(len(cell_types))\n",
    "cell_types    "
   ]
  },
  {
   "cell_type": "code",
   "execution_count": 6,
   "metadata": {},
   "outputs": [],
   "source": [
    "x_dim = 1200\n",
    "y_dim = 1000"
   ]
  },
  {
   "cell_type": "markdown",
   "metadata": {},
   "source": [
    "### Expression Data\n",
    "See http://welikesharingdata.blob.core.windows.net/forshare/index.html\n",
    "\n",
    "* CSV file contains mean marker intensities and X, Y, Z corrdinates for each cell relative to the top left corner of its tile. \n",
    "* Tile IDs correspond to tile images sorted in the alphanumeric order\n",
    "* Size parameter corresponds to the cell object sizes in voxels\n",
    "* \"imaging phenotype Cluster ID\" column specifies the phenotypic cluster identity as determined by X-shift\n",
    "* \"niche Cluster ID\" column specifies the i-niche cluster determined by K-means (K=100)\n",
    "* neighborhood graph files describes which pairs of cells are adjacent to one another"
   ]
  },
  {
   "cell_type": "markdown",
   "metadata": {},
   "source": [
    "### Add X-Y position ID to the Cells\n",
    "This ID will be used to generate the neighborhood graph."
   ]
  },
  {
   "cell_type": "code",
   "execution_count": 8,
   "metadata": {},
   "outputs": [
    {
     "name": "stdout",
     "output_type": "stream",
     "text": [
      "CPU times: user 10.1 s, sys: 520 ms, total: 10.6 s\n",
      "Wall time: 10.4 s\n"
     ]
    }
   ],
   "source": [
    "%%time\n",
    "df['exp'] = pd.read_csv('../data/big_data/Suppl.Table2.CODEX_paper_MRLdatasetexpression.csv')"
   ]
  },
  {
   "cell_type": "code",
   "execution_count": 9,
   "metadata": {},
   "outputs": [
    {
     "data": {
      "text/plain": [
       "(734101, 38)"
      ]
     },
     "execution_count": 9,
     "metadata": {},
     "output_type": "execute_result"
    }
   ],
   "source": [
    "df['exp'].shape"
   ]
  },
  {
   "cell_type": "code",
   "execution_count": 10,
   "metadata": {},
   "outputs": [
    {
     "name": "stdout",
     "output_type": "stream",
     "text": [
      "(734101, 38)\n",
      "CPU times: user 2min 18s, sys: 396 ms, total: 2min 18s\n",
      "Wall time: 2min 19s\n"
     ]
    }
   ],
   "source": [
    "%%time\n",
    "# new_rows = ['C-' + str(x) for x in df['exp'].index.tolist()]\n",
    "\n",
    "new_rows = []\n",
    "for inst_row in df['exp'].index.tolist():\n",
    "    inst_ser = df['exp'].loc[inst_row]\n",
    "    inst_x = inst_ser['X.X']\n",
    "    inst_y = inst_ser['Y.Y']\n",
    "    inst_tile = inst_ser['sample_Xtile_Ytile']\n",
    "    \n",
    "    new_row = 'C-' + str(inst_row) + '_' + inst_tile + '_' + str(inst_x) + '_' + str(inst_y)\n",
    "    # new_row = inst_tile + '_' + str(inst_x) + '_' + str(inst_y)\n",
    "    new_rows.append(new_row)\n",
    "\n",
    "df['exp'].index = new_rows\n",
    "print(df['exp'].shape)"
   ]
  },
  {
   "cell_type": "code",
   "execution_count": 11,
   "metadata": {},
   "outputs": [
    {
     "name": "stdout",
     "output_type": "stream",
     "text": [
      "734101\n",
      "734101\n"
     ]
    }
   ],
   "source": [
    "rows = df['exp'].index.tolist()\n",
    "print(len(rows))\n",
    "print(len(list(set(rows))))"
   ]
  },
  {
   "cell_type": "markdown",
   "metadata": {},
   "source": [
    "### Select Subset of Image Tiles"
   ]
  },
  {
   "cell_type": "code",
   "execution_count": 12,
   "metadata": {},
   "outputs": [],
   "source": [
    "all_tiles = ['BALBc-1_X01_Y01', 'BALBc-1_X02_Y01', 'BALBc-1_X01_Y02', 'BALBc-1_X02_Y02']"
   ]
  },
  {
   "cell_type": "code",
   "execution_count": 13,
   "metadata": {},
   "outputs": [
    {
     "name": "stdout",
     "output_type": "stream",
     "text": [
      "inst_df (38, 1127)\n",
      "inst_df (38, 1247)\n",
      "inst_df (38, 1481)\n",
      "inst_df (38, 1291)\n",
      "(38, 5146)\n"
     ]
    },
    {
     "data": {
      "text/plain": [
       "(38, 5146)"
      ]
     },
     "execution_count": 13,
     "metadata": {},
     "output_type": "execute_result"
    }
   ],
   "source": [
    "df_list = []\n",
    "\n",
    "\n",
    "for inst_tile in all_tiles:\n",
    "\n",
    "    keep_rows = []\n",
    "\n",
    "    ser_tile = df['exp']['sample_Xtile_Ytile']\n",
    "    ser_found = ser_tile[ser_tile == inst_tile]\n",
    "    \n",
    "    keep_rows.extend(ser_found.index.tolist())\n",
    "    inst_df = df['exp'].loc[keep_rows].transpose()\n",
    "    print('inst_df', inst_df.shape)\n",
    "    \n",
    "    if 'X02' in inst_tile:\n",
    "        inst_df.loc['X.X'] = inst_df.loc['X.X'] + 1350\n",
    "\n",
    "    if 'Y01' in inst_tile:        \n",
    "        inst_df.loc['Y.Y'] = 2000 - inst_df.loc['Y.Y']\n",
    "    \n",
    "    if 'Y02' in inst_tile:\n",
    "        inst_df.loc['Y.Y'] = 1000 - inst_df.loc['Y.Y'] \n",
    "        \n",
    "    df_list.append(inst_df)\n",
    "    \n",
    "    \n",
    "# df['tile'] = df['exp'].loc[keep_rows].transpose()\n",
    "df['tile'] = pd.concat(df_list, axis=1)\n",
    "print(df['tile'].shape)\n",
    "\n",
    "cats = df['tile'].loc['Imaging phenotype cluster ID']\n",
    "cats = [ct_dict[x] for x in cats]\n",
    "\n",
    "new_cols = []\n",
    "\n",
    "cols = df['tile'].columns.tolist()\n",
    "for index in range(len(cols)):\n",
    "    \n",
    "    new_col = (cols[index], 'Cell Type: ' + str(cats[index]))\n",
    "    new_cols.append(new_col)\n",
    "df['tile'].columns = new_cols\n",
    "df['tile'].shape"
   ]
  },
  {
   "cell_type": "code",
   "execution_count": 18,
   "metadata": {},
   "outputs": [],
   "source": [
    "cols = df['exp'].columns.tolist()\n",
    "exp_cols = cols[1:30]"
   ]
  },
  {
   "cell_type": "code",
   "execution_count": 19,
   "metadata": {},
   "outputs": [
    {
     "data": {
      "text/html": [
       "<div>\n",
       "<style scoped>\n",
       "    .dataframe tbody tr th:only-of-type {\n",
       "        vertical-align: middle;\n",
       "    }\n",
       "\n",
       "    .dataframe tbody tr th {\n",
       "        vertical-align: top;\n",
       "    }\n",
       "\n",
       "    .dataframe thead th {\n",
       "        text-align: right;\n",
       "    }\n",
       "</style>\n",
       "<table border=\"1\" class=\"dataframe\">\n",
       "  <thead>\n",
       "    <tr style=\"text-align: right;\">\n",
       "      <th></th>\n",
       "      <th>(C-643_BALBc-1_X01_Y01_10_277, Cell Type: B cells)</th>\n",
       "      <th>(C-1264_BALBc-1_X01_Y01_1006_490, Cell Type: B cells)</th>\n",
       "      <th>(C-1589_BALBc-1_X01_Y01_101_504, Cell Type: B cells)</th>\n",
       "      <th>(C-1611_BALBc-1_X01_Y01_101_759, Cell Type: B cells)</th>\n",
       "      <th>(C-1873_BALBc-1_X01_Y01_1013_254, Cell Type: B cells)</th>\n",
       "      <th>(C-1877_BALBc-1_X01_Y01_1013_293, Cell Type: B cells)</th>\n",
       "      <th>(C-1935_BALBc-1_X01_Y01_1013_914, Cell Type: B cells)</th>\n",
       "      <th>(C-2478_BALBc-1_X01_Y01_1020_25, Cell Type: B cells)</th>\n",
       "      <th>(C-2866_BALBc-1_X01_Y01_1025_128, Cell Type: B cells)</th>\n",
       "      <th>(C-2988_BALBc-1_X01_Y01_1026_609, Cell Type: B cells)</th>\n",
       "      <th>...</th>\n",
       "      <th>(C-250718_BALBc-1_X02_Y02_525_10, Cell Type: NK cells)</th>\n",
       "      <th>(C-251502_BALBc-1_X02_Y02_1008_129, Cell Type: noid)</th>\n",
       "      <th>(C-252813_BALBc-1_X02_Y02_68_787, Cell Type: noid)</th>\n",
       "      <th>(C-252972_BALBc-1_X02_Y02_787_592, Cell Type: noid)</th>\n",
       "      <th>(C-253114_BALBc-1_X02_Y02_869_585, Cell Type: noid)</th>\n",
       "      <th>(C-253125_BALBc-1_X02_Y02_871_770, Cell Type: noid)</th>\n",
       "      <th>(C-253249_BALBc-1_X02_Y02_95_418, Cell Type: noid)</th>\n",
       "      <th>(C-254494_BALBc-1_X02_Y02_399_712, Cell Type: CD4(+)MHCII(+))</th>\n",
       "      <th>(C-254542_BALBc-1_X02_Y02_590_401, Cell Type: CD4(+)MHCII(+))</th>\n",
       "      <th>(C-254598_BALBc-1_X02_Y02_79_540, Cell Type: CD4(+)MHCII(+))</th>\n",
       "    </tr>\n",
       "  </thead>\n",
       "  <tbody>\n",
       "    <tr>\n",
       "      <th>Imaging phenotype cluster ID</th>\n",
       "      <td>9640</td>\n",
       "      <td>9640</td>\n",
       "      <td>9640</td>\n",
       "      <td>9640</td>\n",
       "      <td>9640</td>\n",
       "      <td>9640</td>\n",
       "      <td>9640</td>\n",
       "      <td>9640</td>\n",
       "      <td>9640</td>\n",
       "      <td>9640</td>\n",
       "      <td>...</td>\n",
       "      <td>9587</td>\n",
       "      <td>9644</td>\n",
       "      <td>9641</td>\n",
       "      <td>9641</td>\n",
       "      <td>9644</td>\n",
       "      <td>9644</td>\n",
       "      <td>9644</td>\n",
       "      <td>9628</td>\n",
       "      <td>9628</td>\n",
       "      <td>9628</td>\n",
       "    </tr>\n",
       "    <tr>\n",
       "      <th>CD45</th>\n",
       "      <td>4616.2</td>\n",
       "      <td>1820.99</td>\n",
       "      <td>2748.41</td>\n",
       "      <td>1670.64</td>\n",
       "      <td>1783.57</td>\n",
       "      <td>2547.93</td>\n",
       "      <td>1738.63</td>\n",
       "      <td>615.305</td>\n",
       "      <td>2149.2</td>\n",
       "      <td>440.949</td>\n",
       "      <td>...</td>\n",
       "      <td>2921.56</td>\n",
       "      <td>-1931.85</td>\n",
       "      <td>-434.003</td>\n",
       "      <td>-4177.93</td>\n",
       "      <td>-1177.82</td>\n",
       "      <td>-1901.63</td>\n",
       "      <td>-77.8146</td>\n",
       "      <td>873.133</td>\n",
       "      <td>878.516</td>\n",
       "      <td>-2651.87</td>\n",
       "    </tr>\n",
       "    <tr>\n",
       "      <th>Ly6C</th>\n",
       "      <td>109.183</td>\n",
       "      <td>-193.429</td>\n",
       "      <td>1080.91</td>\n",
       "      <td>162.775</td>\n",
       "      <td>-83.4236</td>\n",
       "      <td>-140.051</td>\n",
       "      <td>-193.584</td>\n",
       "      <td>309.844</td>\n",
       "      <td>302.463</td>\n",
       "      <td>-6.71526</td>\n",
       "      <td>...</td>\n",
       "      <td>511.213</td>\n",
       "      <td>-101.499</td>\n",
       "      <td>-108.242</td>\n",
       "      <td>422.338</td>\n",
       "      <td>-175.781</td>\n",
       "      <td>-121.524</td>\n",
       "      <td>83.7457</td>\n",
       "      <td>813.303</td>\n",
       "      <td>-201.251</td>\n",
       "      <td>-81.0684</td>\n",
       "    </tr>\n",
       "    <tr>\n",
       "      <th>TCR</th>\n",
       "      <td>56.6081</td>\n",
       "      <td>-253.548</td>\n",
       "      <td>155.409</td>\n",
       "      <td>479.413</td>\n",
       "      <td>980.42</td>\n",
       "      <td>232.764</td>\n",
       "      <td>55.9894</td>\n",
       "      <td>783.197</td>\n",
       "      <td>1934.21</td>\n",
       "      <td>-750.628</td>\n",
       "      <td>...</td>\n",
       "      <td>273.367</td>\n",
       "      <td>-368.264</td>\n",
       "      <td>-1081.77</td>\n",
       "      <td>-3893.62</td>\n",
       "      <td>-136.012</td>\n",
       "      <td>-341.817</td>\n",
       "      <td>-109.301</td>\n",
       "      <td>296.59</td>\n",
       "      <td>-501.445</td>\n",
       "      <td>154.822</td>\n",
       "    </tr>\n",
       "    <tr>\n",
       "      <th>Ly6G</th>\n",
       "      <td>16.1121</td>\n",
       "      <td>-108.621</td>\n",
       "      <td>290.299</td>\n",
       "      <td>156.224</td>\n",
       "      <td>79.3494</td>\n",
       "      <td>95.8747</td>\n",
       "      <td>-188.539</td>\n",
       "      <td>135.255</td>\n",
       "      <td>175.713</td>\n",
       "      <td>50.1617</td>\n",
       "      <td>...</td>\n",
       "      <td>124.622</td>\n",
       "      <td>-95.9476</td>\n",
       "      <td>-58.6653</td>\n",
       "      <td>138.927</td>\n",
       "      <td>-161.107</td>\n",
       "      <td>-152.685</td>\n",
       "      <td>41.58</td>\n",
       "      <td>41.3005</td>\n",
       "      <td>-81.5018</td>\n",
       "      <td>-15.0179</td>\n",
       "    </tr>\n",
       "  </tbody>\n",
       "</table>\n",
       "<p>5 rows × 5146 columns</p>\n",
       "</div>"
      ],
      "text/plain": [
       "                             (C-643_BALBc-1_X01_Y01_10_277, Cell Type: B cells)  \\\n",
       "Imaging phenotype cluster ID                                               9640   \n",
       "CD45                                                                     4616.2   \n",
       "Ly6C                                                                    109.183   \n",
       "TCR                                                                     56.6081   \n",
       "Ly6G                                                                    16.1121   \n",
       "\n",
       "                             (C-1264_BALBc-1_X01_Y01_1006_490, Cell Type: B cells)  \\\n",
       "Imaging phenotype cluster ID                                               9640      \n",
       "CD45                                                                    1820.99      \n",
       "Ly6C                                                                   -193.429      \n",
       "TCR                                                                    -253.548      \n",
       "Ly6G                                                                   -108.621      \n",
       "\n",
       "                             (C-1589_BALBc-1_X01_Y01_101_504, Cell Type: B cells)  \\\n",
       "Imaging phenotype cluster ID                                               9640     \n",
       "CD45                                                                    2748.41     \n",
       "Ly6C                                                                    1080.91     \n",
       "TCR                                                                     155.409     \n",
       "Ly6G                                                                    290.299     \n",
       "\n",
       "                             (C-1611_BALBc-1_X01_Y01_101_759, Cell Type: B cells)  \\\n",
       "Imaging phenotype cluster ID                                               9640     \n",
       "CD45                                                                    1670.64     \n",
       "Ly6C                                                                    162.775     \n",
       "TCR                                                                     479.413     \n",
       "Ly6G                                                                    156.224     \n",
       "\n",
       "                             (C-1873_BALBc-1_X01_Y01_1013_254, Cell Type: B cells)  \\\n",
       "Imaging phenotype cluster ID                                               9640      \n",
       "CD45                                                                    1783.57      \n",
       "Ly6C                                                                   -83.4236      \n",
       "TCR                                                                      980.42      \n",
       "Ly6G                                                                    79.3494      \n",
       "\n",
       "                             (C-1877_BALBc-1_X01_Y01_1013_293, Cell Type: B cells)  \\\n",
       "Imaging phenotype cluster ID                                               9640      \n",
       "CD45                                                                    2547.93      \n",
       "Ly6C                                                                   -140.051      \n",
       "TCR                                                                     232.764      \n",
       "Ly6G                                                                    95.8747      \n",
       "\n",
       "                             (C-1935_BALBc-1_X01_Y01_1013_914, Cell Type: B cells)  \\\n",
       "Imaging phenotype cluster ID                                               9640      \n",
       "CD45                                                                    1738.63      \n",
       "Ly6C                                                                   -193.584      \n",
       "TCR                                                                     55.9894      \n",
       "Ly6G                                                                   -188.539      \n",
       "\n",
       "                             (C-2478_BALBc-1_X01_Y01_1020_25, Cell Type: B cells)  \\\n",
       "Imaging phenotype cluster ID                                               9640     \n",
       "CD45                                                                    615.305     \n",
       "Ly6C                                                                    309.844     \n",
       "TCR                                                                     783.197     \n",
       "Ly6G                                                                    135.255     \n",
       "\n",
       "                             (C-2866_BALBc-1_X01_Y01_1025_128, Cell Type: B cells)  \\\n",
       "Imaging phenotype cluster ID                                               9640      \n",
       "CD45                                                                     2149.2      \n",
       "Ly6C                                                                    302.463      \n",
       "TCR                                                                     1934.21      \n",
       "Ly6G                                                                    175.713      \n",
       "\n",
       "                             (C-2988_BALBc-1_X01_Y01_1026_609, Cell Type: B cells)  \\\n",
       "Imaging phenotype cluster ID                                               9640      \n",
       "CD45                                                                    440.949      \n",
       "Ly6C                                                                   -6.71526      \n",
       "TCR                                                                    -750.628      \n",
       "Ly6G                                                                    50.1617      \n",
       "\n",
       "                                                         ...                               \\\n",
       "Imaging phenotype cluster ID                             ...                                \n",
       "CD45                                                     ...                                \n",
       "Ly6C                                                     ...                                \n",
       "TCR                                                      ...                                \n",
       "Ly6G                                                     ...                                \n",
       "\n",
       "                             (C-250718_BALBc-1_X02_Y02_525_10, Cell Type: NK cells)  \\\n",
       "Imaging phenotype cluster ID                                               9587       \n",
       "CD45                                                                    2921.56       \n",
       "Ly6C                                                                    511.213       \n",
       "TCR                                                                     273.367       \n",
       "Ly6G                                                                    124.622       \n",
       "\n",
       "                             (C-251502_BALBc-1_X02_Y02_1008_129, Cell Type: noid)  \\\n",
       "Imaging phenotype cluster ID                                               9644     \n",
       "CD45                                                                   -1931.85     \n",
       "Ly6C                                                                   -101.499     \n",
       "TCR                                                                    -368.264     \n",
       "Ly6G                                                                   -95.9476     \n",
       "\n",
       "                             (C-252813_BALBc-1_X02_Y02_68_787, Cell Type: noid)  \\\n",
       "Imaging phenotype cluster ID                                               9641   \n",
       "CD45                                                                   -434.003   \n",
       "Ly6C                                                                   -108.242   \n",
       "TCR                                                                    -1081.77   \n",
       "Ly6G                                                                   -58.6653   \n",
       "\n",
       "                             (C-252972_BALBc-1_X02_Y02_787_592, Cell Type: noid)  \\\n",
       "Imaging phenotype cluster ID                                               9641    \n",
       "CD45                                                                   -4177.93    \n",
       "Ly6C                                                                    422.338    \n",
       "TCR                                                                    -3893.62    \n",
       "Ly6G                                                                    138.927    \n",
       "\n",
       "                             (C-253114_BALBc-1_X02_Y02_869_585, Cell Type: noid)  \\\n",
       "Imaging phenotype cluster ID                                               9644    \n",
       "CD45                                                                   -1177.82    \n",
       "Ly6C                                                                   -175.781    \n",
       "TCR                                                                    -136.012    \n",
       "Ly6G                                                                   -161.107    \n",
       "\n",
       "                             (C-253125_BALBc-1_X02_Y02_871_770, Cell Type: noid)  \\\n",
       "Imaging phenotype cluster ID                                               9644    \n",
       "CD45                                                                   -1901.63    \n",
       "Ly6C                                                                   -121.524    \n",
       "TCR                                                                    -341.817    \n",
       "Ly6G                                                                   -152.685    \n",
       "\n",
       "                             (C-253249_BALBc-1_X02_Y02_95_418, Cell Type: noid)  \\\n",
       "Imaging phenotype cluster ID                                               9644   \n",
       "CD45                                                                   -77.8146   \n",
       "Ly6C                                                                    83.7457   \n",
       "TCR                                                                    -109.301   \n",
       "Ly6G                                                                      41.58   \n",
       "\n",
       "                             (C-254494_BALBc-1_X02_Y02_399_712, Cell Type: CD4(+)MHCII(+))  \\\n",
       "Imaging phenotype cluster ID                                               9628              \n",
       "CD45                                                                    873.133              \n",
       "Ly6C                                                                    813.303              \n",
       "TCR                                                                      296.59              \n",
       "Ly6G                                                                    41.3005              \n",
       "\n",
       "                             (C-254542_BALBc-1_X02_Y02_590_401, Cell Type: CD4(+)MHCII(+))  \\\n",
       "Imaging phenotype cluster ID                                               9628              \n",
       "CD45                                                                    878.516              \n",
       "Ly6C                                                                   -201.251              \n",
       "TCR                                                                    -501.445              \n",
       "Ly6G                                                                   -81.5018              \n",
       "\n",
       "                             (C-254598_BALBc-1_X02_Y02_79_540, Cell Type: CD4(+)MHCII(+))  \n",
       "Imaging phenotype cluster ID                                               9628            \n",
       "CD45                                                                   -2651.87            \n",
       "Ly6C                                                                   -81.0684            \n",
       "TCR                                                                     154.822            \n",
       "Ly6G                                                                   -15.0179            \n",
       "\n",
       "[5 rows x 5146 columns]"
      ]
     },
     "execution_count": 19,
     "metadata": {},
     "output_type": "execute_result"
    }
   ],
   "source": [
    "df['tile'].head()"
   ]
  },
  {
   "cell_type": "code",
   "execution_count": 21,
   "metadata": {},
   "outputs": [
    {
     "data": {
      "text/plain": [
       "(29, 5146)"
      ]
     },
     "execution_count": 21,
     "metadata": {},
     "output_type": "execute_result"
    }
   ],
   "source": [
    "df['tile-exp-ini'] = df['tile'].loc[exp_cols]\n",
    "df['tile-exp-ini'].shape"
   ]
  },
  {
   "cell_type": "code",
   "execution_count": 22,
   "metadata": {},
   "outputs": [],
   "source": [
    "df['tile-exp'] = df['tile-exp-ini']\n",
    "df['tile-exp'][df['tile-exp'] < 0] = 0"
   ]
  },
  {
   "cell_type": "code",
   "execution_count": 23,
   "metadata": {},
   "outputs": [],
   "source": [
    "df['tile-exp'][df['tile-exp'] > 5000] = 5000"
   ]
  },
  {
   "cell_type": "markdown",
   "metadata": {},
   "source": [
    "### Location DAta"
   ]
  },
  {
   "cell_type": "code",
   "execution_count": 24,
   "metadata": {},
   "outputs": [
    {
     "data": {
      "text/plain": [
       "(5146, 2)"
      ]
     },
     "execution_count": 24,
     "metadata": {},
     "output_type": "execute_result"
    }
   ],
   "source": [
    "df['tile-loc'] = df['tile'].loc[['X.X', 'Y.Y']].transpose()\n",
    "df['tile-loc'] = df['tile-loc'].astype('int')\n",
    "df['tile-loc'].shape"
   ]
  },
  {
   "cell_type": "code",
   "execution_count": 25,
   "metadata": {},
   "outputs": [],
   "source": [
    "def set_expression_opacity(inst_gene):\n",
    "    ser_opacity = df['tile-exp'].loc[inst_gene]\n",
    "    list_opacity = [float(x/ser_opacity.max()) for x in list(ser_opacity.get_values())]\n",
    "    scatter.default_opacities = list_opacity"
   ]
  },
  {
   "cell_type": "code",
   "execution_count": 26,
   "metadata": {},
   "outputs": [
    {
     "ename": "IndexError",
     "evalue": "list index out of range",
     "output_type": "error",
     "traceback": [
      "\u001b[0;31m---------------------------------------------------------------------------\u001b[0m",
      "\u001b[0;31mIndexError\u001b[0m                                Traceback (most recent call last)",
      "\u001b[0;32m<ipython-input-26-44e715b0f060>\u001b[0m in \u001b[0;36m<module>\u001b[0;34m()\u001b[0m\n\u001b[1;32m      9\u001b[0m                       \u001b[0mtooltip\u001b[0m\u001b[0;34m=\u001b[0m\u001b[0mdef_tt\u001b[0m\u001b[0;34m,\u001b[0m\u001b[0;34m\u001b[0m\u001b[0m\n\u001b[1;32m     10\u001b[0m                       \u001b[0mnames\u001b[0m\u001b[0;34m=\u001b[0m\u001b[0mdf\u001b[0m\u001b[0;34m[\u001b[0m\u001b[0;34m'tile-loc'\u001b[0m\u001b[0;34m]\u001b[0m\u001b[0;34m.\u001b[0m\u001b[0mindex\u001b[0m\u001b[0;34m.\u001b[0m\u001b[0mtolist\u001b[0m\u001b[0;34m(\u001b[0m\u001b[0;34m)\u001b[0m\u001b[0;34m,\u001b[0m\u001b[0;34m\u001b[0m\u001b[0m\n\u001b[0;32m---> 11\u001b[0;31m                       display_names=False)\n\u001b[0m\u001b[1;32m     12\u001b[0m \u001b[0;34m\u001b[0m\u001b[0m\n\u001b[1;32m     13\u001b[0m \u001b[0minst_width\u001b[0m \u001b[0;34m=\u001b[0m \u001b[0;36m900\u001b[0m\u001b[0;34m\u001b[0m\u001b[0m\n",
      "\u001b[0;32m~/anaconda3/lib/python3.6/site-packages/bqplot/pyplot.py\u001b[0m in \u001b[0;36m_mark_with_data\u001b[0;34m(*args, **kwargs)\u001b[0m\n\u001b[1;32m    244\u001b[0m             \u001b[0mdata\u001b[0m \u001b[0;34m=\u001b[0m \u001b[0mkwargs\u001b[0m\u001b[0;34m.\u001b[0m\u001b[0mpop\u001b[0m\u001b[0;34m(\u001b[0m\u001b[0;34m'data'\u001b[0m\u001b[0;34m,\u001b[0m \u001b[0;32mNone\u001b[0m\u001b[0;34m)\u001b[0m\u001b[0;34m\u001b[0m\u001b[0m\n\u001b[1;32m    245\u001b[0m             \u001b[0;32mif\u001b[0m \u001b[0mdata\u001b[0m \u001b[0;32mis\u001b[0m \u001b[0;32mNone\u001b[0m\u001b[0;34m:\u001b[0m\u001b[0;34m\u001b[0m\u001b[0m\n\u001b[0;32m--> 246\u001b[0;31m                 \u001b[0;32mreturn\u001b[0m \u001b[0mfunc\u001b[0m\u001b[0;34m(\u001b[0m\u001b[0;34m*\u001b[0m\u001b[0margs\u001b[0m\u001b[0;34m,\u001b[0m \u001b[0;34m**\u001b[0m\u001b[0mkwargs\u001b[0m\u001b[0;34m)\u001b[0m\u001b[0;34m\u001b[0m\u001b[0m\n\u001b[0m\u001b[1;32m    247\u001b[0m             \u001b[0;32melse\u001b[0m\u001b[0;34m:\u001b[0m\u001b[0;34m\u001b[0m\u001b[0m\n\u001b[1;32m    248\u001b[0m                 \u001b[0mdata_args\u001b[0m \u001b[0;34m=\u001b[0m \u001b[0;34m[\u001b[0m\u001b[0mdata\u001b[0m\u001b[0;34m[\u001b[0m\u001b[0mi\u001b[0m\u001b[0;34m]\u001b[0m \u001b[0;32mif\u001b[0m \u001b[0mhashable\u001b[0m\u001b[0;34m(\u001b[0m\u001b[0mdata\u001b[0m\u001b[0;34m,\u001b[0m \u001b[0mi\u001b[0m\u001b[0;34m)\u001b[0m \u001b[0;32melse\u001b[0m \u001b[0mi\u001b[0m \u001b[0;32mfor\u001b[0m \u001b[0mi\u001b[0m \u001b[0;32min\u001b[0m \u001b[0margs\u001b[0m\u001b[0;34m]\u001b[0m\u001b[0;34m\u001b[0m\u001b[0m\n",
      "\u001b[0;32m~/anaconda3/lib/python3.6/site-packages/bqplot/pyplot.py\u001b[0m in \u001b[0;36mscatter\u001b[0;34m(x, y, **kwargs)\u001b[0m\n\u001b[1;32m    835\u001b[0m     \u001b[0mkwargs\u001b[0m\u001b[0;34m[\u001b[0m\u001b[0;34m'x'\u001b[0m\u001b[0;34m]\u001b[0m \u001b[0;34m=\u001b[0m \u001b[0mx\u001b[0m\u001b[0;34m\u001b[0m\u001b[0m\n\u001b[1;32m    836\u001b[0m     \u001b[0mkwargs\u001b[0m\u001b[0;34m[\u001b[0m\u001b[0;34m'y'\u001b[0m\u001b[0;34m]\u001b[0m \u001b[0;34m=\u001b[0m \u001b[0my\u001b[0m\u001b[0;34m\u001b[0m\u001b[0m\n\u001b[0;32m--> 837\u001b[0;31m     \u001b[0;32mreturn\u001b[0m \u001b[0m_draw_mark\u001b[0m\u001b[0;34m(\u001b[0m\u001b[0mScatter\u001b[0m\u001b[0;34m,\u001b[0m \u001b[0;34m**\u001b[0m\u001b[0mkwargs\u001b[0m\u001b[0;34m)\u001b[0m\u001b[0;34m\u001b[0m\u001b[0m\n\u001b[0m\u001b[1;32m    838\u001b[0m \u001b[0;34m\u001b[0m\u001b[0m\n\u001b[1;32m    839\u001b[0m \u001b[0;34m\u001b[0m\u001b[0m\n",
      "\u001b[0;32m~/anaconda3/lib/python3.6/site-packages/bqplot/pyplot.py\u001b[0m in \u001b[0;36m_draw_mark\u001b[0;34m(mark_type, options, axes_options, **kwargs)\u001b[0m\n\u001b[1;32m    638\u001b[0m             sorted_scales = sorted(compat_scale_types,\n\u001b[1;32m    639\u001b[0m                                    key=lambda x: x.precedence)\n\u001b[0;32m--> 640\u001b[0;31m             \u001b[0mscales\u001b[0m\u001b[0;34m[\u001b[0m\u001b[0mname\u001b[0m\u001b[0;34m]\u001b[0m \u001b[0;34m=\u001b[0m \u001b[0msorted_scales\u001b[0m\u001b[0;34m[\u001b[0m\u001b[0;34m-\u001b[0m\u001b[0;36m1\u001b[0m\u001b[0;34m]\u001b[0m\u001b[0;34m(\u001b[0m\u001b[0;34m**\u001b[0m\u001b[0moptions\u001b[0m\u001b[0;34m.\u001b[0m\u001b[0mget\u001b[0m\u001b[0;34m(\u001b[0m\u001b[0mname\u001b[0m\u001b[0;34m,\u001b[0m \u001b[0;34m{\u001b[0m\u001b[0;34m}\u001b[0m\u001b[0;34m)\u001b[0m\u001b[0;34m)\u001b[0m\u001b[0;34m\u001b[0m\u001b[0m\n\u001b[0m\u001b[1;32m    641\u001b[0m             \u001b[0;31m# Adding the scale to the context scales\u001b[0m\u001b[0;34m\u001b[0m\u001b[0;34m\u001b[0m\u001b[0m\n\u001b[1;32m    642\u001b[0m             \u001b[0;32mif\u001b[0m \u001b[0mupdate_context\u001b[0m\u001b[0;34m:\u001b[0m\u001b[0;34m\u001b[0m\u001b[0m\n",
      "\u001b[0;31mIndexError\u001b[0m: list index out of range"
     ]
    }
   ],
   "source": [
    "fig = plt.figure(title='Scatter')\n",
    "def_tt = bqplot.Tooltip(fields=['name'], formats=[''])\n",
    "\n",
    "scatter = plt.scatter(df['tile-loc']['X.X'], \n",
    "                      df['tile-loc']['Y.Y'], \n",
    "                      figsize=(20,10), \n",
    "                      ylim=(0,1000), \n",
    "                      xlim=(0,1000), stroke='black', \n",
    "                      tooltip=def_tt, \n",
    "                      names=df['tile-loc'].index.tolist(), \n",
    "                      display_names=False)\n",
    "\n",
    "inst_width = 900\n",
    "fig.layout.min_height = str(inst_width/1.2) + 'px'\n",
    "fig.layout.min_width = str(inst_width) + 'px'\n",
    "\n",
    "set_expression_opacity('NKp46')\n",
    "\n",
    "scatter.default_size = 100\n",
    "scatter.colors = ['red']"
   ]
  },
  {
   "cell_type": "code",
   "execution_count": null,
   "metadata": {},
   "outputs": [],
   "source": []
  }
 ],
 "metadata": {
  "kernelspec": {
   "display_name": "Python 3",
   "language": "python",
   "name": "python3"
  },
  "language_info": {
   "codemirror_mode": {
    "name": "ipython",
    "version": 3
   },
   "file_extension": ".py",
   "mimetype": "text/x-python",
   "name": "python",
   "nbconvert_exporter": "python",
   "pygments_lexer": "ipython3",
   "version": "3.6.5"
  }
 },
 "nbformat": 4,
 "nbformat_minor": 2
}
