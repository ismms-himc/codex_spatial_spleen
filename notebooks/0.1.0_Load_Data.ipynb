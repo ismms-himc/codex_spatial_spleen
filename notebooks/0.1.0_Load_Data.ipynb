{
 "cells": [
  {
   "cell_type": "markdown",
   "metadata": {},
   "source": [
    "# 0.1.0 Load Data\n",
    "* Codex Data obtained from: http://welikesharingdata.blob.core.windows.net/forshare/index.html\n",
    "* Manuscript: https://www.cell.com/cell/pdf/S0092-8674(18)30904-8.pdf"
   ]
  },
  {
   "cell_type": "code",
   "execution_count": 1,
   "metadata": {},
   "outputs": [],
   "source": [
    "import pandas as pd\n",
    "df = {}"
   ]
  },
  {
   "cell_type": "code",
   "execution_count": 2,
   "metadata": {},
   "outputs": [],
   "source": [
    "from glob import glob"
   ]
  },
  {
   "cell_type": "code",
   "execution_count": 3,
   "metadata": {},
   "outputs": [
    {
     "data": {
      "text/plain": [
       "['../data/big_data/channelNames_BALBcMRLdataset.txt',\n",
       " '../data/big_data/Additional examples of cell passports - related to FIgure S2.pptx',\n",
       " '../data/big_data/CODEX_MRLdataset_neighborhood_graph.csv',\n",
       " '../data/big_data/Additional examples of interacting cells - related to Figure S5.pptx',\n",
       " '../data/big_data/BALBcMRLdataset_exposuretimes.csv',\n",
       " '../data/big_data/zipped_files',\n",
       " '../data/big_data/Suppl.Table2.CODEX_paper_MRLdatasetexpression.csv']"
      ]
     },
     "execution_count": 3,
     "metadata": {},
     "output_type": "execute_result"
    }
   ],
   "source": [
    "glob('../data/big_data/*')"
   ]
  },
  {
   "cell_type": "markdown",
   "metadata": {},
   "source": [
    "### Check available Files"
   ]
  },
  {
   "cell_type": "code",
   "execution_count": null,
   "metadata": {},
   "outputs": [],
   "source": [
    "%%time\n",
    "df['exp'] = pd.read_csv('../data/big_data/Suppl.Table2.CODEX_paper_MRLdatasetexpression.csv')\n",
    "df['exp'].shape"
   ]
  },
  {
   "cell_type": "code",
   "execution_count": null,
   "metadata": {},
   "outputs": [],
   "source": []
  }
 ],
 "metadata": {
  "kernelspec": {
   "display_name": "Python 3",
   "language": "python",
   "name": "python3"
  },
  "language_info": {
   "codemirror_mode": {
    "name": "ipython",
    "version": 3
   },
   "file_extension": ".py",
   "mimetype": "text/x-python",
   "name": "python",
   "nbconvert_exporter": "python",
   "pygments_lexer": "ipython3",
   "version": "3.6.5"
  }
 },
 "nbformat": 4,
 "nbformat_minor": 2
}
