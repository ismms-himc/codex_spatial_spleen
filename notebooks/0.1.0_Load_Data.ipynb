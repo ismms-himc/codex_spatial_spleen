{
 "cells": [
  {
   "cell_type": "markdown",
   "metadata": {},
   "source": [
    "# 0.1.0 Load Data\n",
    "* Codex Data obtained from: http://welikesharingdata.blob.core.windows.net/forshare/index.html\n",
    "* Manuscript: https://www.cell.com/cell/pdf/S0092-8674(18)30904-8.pdf"
   ]
  },
  {
   "cell_type": "code",
   "execution_count": 1,
   "metadata": {},
   "outputs": [],
   "source": [
    "import pandas as pd\n",
    "df = {}"
   ]
  },
  {
   "cell_type": "code",
   "execution_count": 2,
   "metadata": {},
   "outputs": [
    {
     "name": "stdout",
     "output_type": "stream",
     "text": [
      ">> clustergrammer2 backend version 0.4.0\n"
     ]
    }
   ],
   "source": [
    "from clustergrammer2 import net"
   ]
  },
  {
   "cell_type": "code",
   "execution_count": 3,
   "metadata": {},
   "outputs": [],
   "source": [
    "import ipywidgets as widgets\n",
    "import numpy as np\n",
    "from bqplot import pyplot as plt\n",
    "import bqplot"
   ]
  },
  {
   "cell_type": "code",
   "execution_count": 4,
   "metadata": {},
   "outputs": [],
   "source": [
    "from copy import deepcopy"
   ]
  },
  {
   "cell_type": "code",
   "execution_count": 5,
   "metadata": {},
   "outputs": [],
   "source": [
    "from glob import glob"
   ]
  },
  {
   "cell_type": "markdown",
   "metadata": {},
   "source": [
    "### Load X-shift cluster ID"
   ]
  },
  {
   "cell_type": "code",
   "execution_count": 6,
   "metadata": {},
   "outputs": [
    {
     "data": {
      "text/plain": [
       "(58, 1)"
      ]
     },
     "execution_count": 6,
     "metadata": {},
     "output_type": "execute_result"
    }
   ],
   "source": [
    "df['cell_type'] = pd.read_excel('../data/big_data/mmc2__codex_cell_type_info.xlsx', index_col=0)\n",
    "df['cell_type'].shape"
   ]
  },
  {
   "cell_type": "code",
   "execution_count": 7,
   "metadata": {},
   "outputs": [],
   "source": [
    "ct_dict = {}\n",
    "cell_types = []\n",
    "for inst_id in df['cell_type'].index.tolist():\n",
    "    inst_ct = df['cell_type']['Imaging phenotype (cell type)'].loc[inst_id]\n",
    "    cell_types.append(inst_ct)\n",
    "    ct_dict[inst_id] = inst_ct"
   ]
  },
  {
   "cell_type": "code",
   "execution_count": 8,
   "metadata": {},
   "outputs": [
    {
     "name": "stdout",
     "output_type": "stream",
     "text": [
      "28\n"
     ]
    },
    {
     "data": {
      "text/plain": [
       "['B cells',\n",
       " 'B220(+) DN T cells',\n",
       " 'CD106(+)CD16/32(+)CD31(+) stroma',\n",
       " 'CD106(+)CD16/32(+)CD31(-)Ly6C(-) stroma',\n",
       " 'CD106(+)CD16/32(-)Ly6C(+)CD31(+)',\n",
       " 'CD106(-)CD16/32(+)Ly6C(+)CD31(-)',\n",
       " 'CD106(-)CD16/32(-)Ly6C(+)CD31(+) stroma',\n",
       " 'CD11c(+) B cells',\n",
       " 'CD3(+) other markers (-)',\n",
       " 'CD31(hi) vascular',\n",
       " 'CD4(+) T cells',\n",
       " 'CD4(+)CD8(-)cDC',\n",
       " 'CD4(+)MHCII(+)',\n",
       " 'CD4(-)CD8(+)cDC',\n",
       " 'CD4(-)CD8(-) cDC',\n",
       " 'CD8(+) T cells',\n",
       " 'ERTR7(+) stroma',\n",
       " 'F4/80(+) mphs',\n",
       " 'FDCs',\n",
       " 'NK cells',\n",
       " 'capsule',\n",
       " 'dirt',\n",
       " 'erythroblasts',\n",
       " 'granulocytes',\n",
       " 'marginal zone mphs',\n",
       " 'megakaryocytes',\n",
       " 'noid',\n",
       " 'plasma cells']"
      ]
     },
     "execution_count": 8,
     "metadata": {},
     "output_type": "execute_result"
    }
   ],
   "source": [
    "cell_types = sorted(list(set(cell_types)))\n",
    "print(len(cell_types))\n",
    "cell_types"
   ]
  },
  {
   "cell_type": "code",
   "execution_count": 9,
   "metadata": {},
   "outputs": [],
   "source": [
    "x_dim = 1200\n",
    "y_dim = 1000"
   ]
  },
  {
   "cell_type": "markdown",
   "metadata": {},
   "source": [
    "## Check available Files"
   ]
  },
  {
   "cell_type": "code",
   "execution_count": 10,
   "metadata": {},
   "outputs": [
    {
     "data": {
      "text/plain": [
       "['../data/big_data/channelNames_BALBcMRLdataset.txt']"
      ]
     },
     "execution_count": 10,
     "metadata": {},
     "output_type": "execute_result"
    }
   ],
   "source": [
    "glob('../data/big_data/*.txt')"
   ]
  },
  {
   "cell_type": "code",
   "execution_count": 11,
   "metadata": {},
   "outputs": [
    {
     "data": {
      "text/plain": [
       "['../data/big_data/CODEX_MRLdataset_neighborhood_graph.csv',\n",
       " '../data/big_data/BALBcMRLdataset_exposuretimes.csv',\n",
       " '../data/big_data/Suppl.Table2.CODEX_paper_MRLdatasetexpression.csv']"
      ]
     },
     "execution_count": 11,
     "metadata": {},
     "output_type": "execute_result"
    }
   ],
   "source": [
    "glob('../data/big_data/*.csv')"
   ]
  },
  {
   "cell_type": "markdown",
   "metadata": {},
   "source": [
    "### Expression Data\n",
    "See http://welikesharingdata.blob.core.windows.net/forshare/index.html\n",
    "\n",
    "* CSV file contains mean marker intensities and X, Y, Z corrdinates for each cell relative to the top left corner of its tile. \n",
    "* Tile IDs correspond to tile images sorted in the alphanumeric order\n",
    "* Size parameter corresponds to the cell object sizes in voxels\n",
    "* \"imaging phenotype Cluster ID\" column specifies the phenotypic cluster identity as determined by X-shift\n",
    "* \"niche Cluster ID\" column specifies the i-niche cluster determined by K-means (K=100)\n",
    "* neighborhood graph files describes which pairs of cells are adjacent to one another"
   ]
  },
  {
   "cell_type": "markdown",
   "metadata": {},
   "source": [
    "### Add X-Y position ID to the Cells\n",
    "This ID will be used to generate the neighborhood graph."
   ]
  },
  {
   "cell_type": "code",
   "execution_count": 137,
   "metadata": {},
   "outputs": [
    {
     "name": "stdout",
     "output_type": "stream",
     "text": [
      "CPU times: user 9.07 s, sys: 547 ms, total: 9.61 s\n",
      "Wall time: 9.31 s\n"
     ]
    }
   ],
   "source": [
    "%%time\n",
    "df['exp'] = pd.read_csv('../data/big_data/Suppl.Table2.CODEX_paper_MRLdatasetexpression.csv')"
   ]
  },
  {
   "cell_type": "code",
   "execution_count": 138,
   "metadata": {},
   "outputs": [
    {
     "data": {
      "text/plain": [
       "(734101, 38)"
      ]
     },
     "execution_count": 138,
     "metadata": {},
     "output_type": "execute_result"
    }
   ],
   "source": [
    "df['exp'].shape"
   ]
  },
  {
   "cell_type": "code",
   "execution_count": 219,
   "metadata": {},
   "outputs": [
    {
     "ename": "KeyboardInterrupt",
     "evalue": "",
     "output_type": "error",
     "traceback": [
      "\u001b[0;31m---------------------------------------------------------------------------\u001b[0m",
      "\u001b[0;31mKeyboardInterrupt\u001b[0m                         Traceback (most recent call last)",
      "\u001b[0;32m<timed exec>\u001b[0m in \u001b[0;36m<module>\u001b[0;34m()\u001b[0m\n",
      "\u001b[0;32m~/anaconda3/lib/python3.6/site-packages/pandas/core/indexing.py\u001b[0m in \u001b[0;36m__getitem__\u001b[0;34m(self, key)\u001b[0m\n\u001b[1;32m   1476\u001b[0m \u001b[0;34m\u001b[0m\u001b[0m\n\u001b[1;32m   1477\u001b[0m             \u001b[0mmaybe_callable\u001b[0m \u001b[0;34m=\u001b[0m \u001b[0mcom\u001b[0m\u001b[0;34m.\u001b[0m\u001b[0m_apply_if_callable\u001b[0m\u001b[0;34m(\u001b[0m\u001b[0mkey\u001b[0m\u001b[0;34m,\u001b[0m \u001b[0mself\u001b[0m\u001b[0;34m.\u001b[0m\u001b[0mobj\u001b[0m\u001b[0;34m)\u001b[0m\u001b[0;34m\u001b[0m\u001b[0m\n\u001b[0;32m-> 1478\u001b[0;31m             \u001b[0;32mreturn\u001b[0m \u001b[0mself\u001b[0m\u001b[0;34m.\u001b[0m\u001b[0m_getitem_axis\u001b[0m\u001b[0;34m(\u001b[0m\u001b[0mmaybe_callable\u001b[0m\u001b[0;34m,\u001b[0m \u001b[0maxis\u001b[0m\u001b[0;34m=\u001b[0m\u001b[0maxis\u001b[0m\u001b[0;34m)\u001b[0m\u001b[0;34m\u001b[0m\u001b[0m\n\u001b[0m\u001b[1;32m   1479\u001b[0m \u001b[0;34m\u001b[0m\u001b[0m\n\u001b[1;32m   1480\u001b[0m     \u001b[0;32mdef\u001b[0m \u001b[0m_is_scalar_access\u001b[0m\u001b[0;34m(\u001b[0m\u001b[0mself\u001b[0m\u001b[0;34m,\u001b[0m \u001b[0mkey\u001b[0m\u001b[0;34m)\u001b[0m\u001b[0;34m:\u001b[0m\u001b[0;34m\u001b[0m\u001b[0m\n",
      "\u001b[0;32m~/anaconda3/lib/python3.6/site-packages/pandas/core/indexing.py\u001b[0m in \u001b[0;36m_getitem_axis\u001b[0;34m(self, key, axis)\u001b[0m\n\u001b[1;32m   1910\u001b[0m         \u001b[0;31m# fall thru to straight lookup\u001b[0m\u001b[0;34m\u001b[0m\u001b[0;34m\u001b[0m\u001b[0m\n\u001b[1;32m   1911\u001b[0m         \u001b[0mself\u001b[0m\u001b[0;34m.\u001b[0m\u001b[0m_validate_key\u001b[0m\u001b[0;34m(\u001b[0m\u001b[0mkey\u001b[0m\u001b[0;34m,\u001b[0m \u001b[0maxis\u001b[0m\u001b[0;34m)\u001b[0m\u001b[0;34m\u001b[0m\u001b[0m\n\u001b[0;32m-> 1912\u001b[0;31m         \u001b[0;32mreturn\u001b[0m \u001b[0mself\u001b[0m\u001b[0;34m.\u001b[0m\u001b[0m_get_label\u001b[0m\u001b[0;34m(\u001b[0m\u001b[0mkey\u001b[0m\u001b[0;34m,\u001b[0m \u001b[0maxis\u001b[0m\u001b[0;34m=\u001b[0m\u001b[0maxis\u001b[0m\u001b[0;34m)\u001b[0m\u001b[0;34m\u001b[0m\u001b[0m\n\u001b[0m\u001b[1;32m   1913\u001b[0m \u001b[0;34m\u001b[0m\u001b[0m\n\u001b[1;32m   1914\u001b[0m \u001b[0;34m\u001b[0m\u001b[0m\n",
      "\u001b[0;32m~/anaconda3/lib/python3.6/site-packages/pandas/core/indexing.py\u001b[0m in \u001b[0;36m_get_label\u001b[0;34m(self, label, axis)\u001b[0m\n\u001b[1;32m    138\u001b[0m             \u001b[0;32mraise\u001b[0m \u001b[0mIndexingError\u001b[0m\u001b[0;34m(\u001b[0m\u001b[0;34m'no slices here, handle elsewhere'\u001b[0m\u001b[0;34m)\u001b[0m\u001b[0;34m\u001b[0m\u001b[0m\n\u001b[1;32m    139\u001b[0m \u001b[0;34m\u001b[0m\u001b[0m\n\u001b[0;32m--> 140\u001b[0;31m         \u001b[0;32mreturn\u001b[0m \u001b[0mself\u001b[0m\u001b[0;34m.\u001b[0m\u001b[0mobj\u001b[0m\u001b[0;34m.\u001b[0m\u001b[0m_xs\u001b[0m\u001b[0;34m(\u001b[0m\u001b[0mlabel\u001b[0m\u001b[0;34m,\u001b[0m \u001b[0maxis\u001b[0m\u001b[0;34m=\u001b[0m\u001b[0maxis\u001b[0m\u001b[0;34m)\u001b[0m\u001b[0;34m\u001b[0m\u001b[0m\n\u001b[0m\u001b[1;32m    141\u001b[0m \u001b[0;34m\u001b[0m\u001b[0m\n\u001b[1;32m    142\u001b[0m     \u001b[0;32mdef\u001b[0m \u001b[0m_get_loc\u001b[0m\u001b[0;34m(\u001b[0m\u001b[0mself\u001b[0m\u001b[0;34m,\u001b[0m \u001b[0mkey\u001b[0m\u001b[0;34m,\u001b[0m \u001b[0maxis\u001b[0m\u001b[0;34m=\u001b[0m\u001b[0;32mNone\u001b[0m\u001b[0;34m)\u001b[0m\u001b[0;34m:\u001b[0m\u001b[0;34m\u001b[0m\u001b[0m\n",
      "\u001b[0;32m~/anaconda3/lib/python3.6/site-packages/pandas/core/generic.py\u001b[0m in \u001b[0;36mxs\u001b[0;34m(self, key, axis, level, drop_level)\u001b[0m\n\u001b[1;32m   2982\u001b[0m                                                       drop_level=drop_level)\n\u001b[1;32m   2983\u001b[0m         \u001b[0;32melse\u001b[0m\u001b[0;34m:\u001b[0m\u001b[0;34m\u001b[0m\u001b[0m\n\u001b[0;32m-> 2984\u001b[0;31m             \u001b[0mloc\u001b[0m \u001b[0;34m=\u001b[0m \u001b[0mself\u001b[0m\u001b[0;34m.\u001b[0m\u001b[0mindex\u001b[0m\u001b[0;34m.\u001b[0m\u001b[0mget_loc\u001b[0m\u001b[0;34m(\u001b[0m\u001b[0mkey\u001b[0m\u001b[0;34m)\u001b[0m\u001b[0;34m\u001b[0m\u001b[0m\n\u001b[0m\u001b[1;32m   2985\u001b[0m \u001b[0;34m\u001b[0m\u001b[0m\n\u001b[1;32m   2986\u001b[0m             \u001b[0;32mif\u001b[0m \u001b[0misinstance\u001b[0m\u001b[0;34m(\u001b[0m\u001b[0mloc\u001b[0m\u001b[0;34m,\u001b[0m \u001b[0mnp\u001b[0m\u001b[0;34m.\u001b[0m\u001b[0mndarray\u001b[0m\u001b[0;34m)\u001b[0m\u001b[0;34m:\u001b[0m\u001b[0;34m\u001b[0m\u001b[0m\n",
      "\u001b[0;32m~/anaconda3/lib/python3.6/site-packages/pandas/core/indexes/base.py\u001b[0m in \u001b[0;36mget_loc\u001b[0;34m(self, key, method, tolerance)\u001b[0m\n\u001b[1;32m   3061\u001b[0m                                  'backfill or nearest lookups')\n\u001b[1;32m   3062\u001b[0m             \u001b[0;32mtry\u001b[0m\u001b[0;34m:\u001b[0m\u001b[0;34m\u001b[0m\u001b[0m\n\u001b[0;32m-> 3063\u001b[0;31m                 \u001b[0;32mreturn\u001b[0m \u001b[0mself\u001b[0m\u001b[0;34m.\u001b[0m\u001b[0m_engine\u001b[0m\u001b[0;34m.\u001b[0m\u001b[0mget_loc\u001b[0m\u001b[0;34m(\u001b[0m\u001b[0mkey\u001b[0m\u001b[0;34m)\u001b[0m\u001b[0;34m\u001b[0m\u001b[0m\n\u001b[0m\u001b[1;32m   3064\u001b[0m             \u001b[0;32mexcept\u001b[0m \u001b[0mKeyError\u001b[0m\u001b[0;34m:\u001b[0m\u001b[0;34m\u001b[0m\u001b[0m\n\u001b[1;32m   3065\u001b[0m                 \u001b[0;32mreturn\u001b[0m \u001b[0mself\u001b[0m\u001b[0;34m.\u001b[0m\u001b[0m_engine\u001b[0m\u001b[0;34m.\u001b[0m\u001b[0mget_loc\u001b[0m\u001b[0;34m(\u001b[0m\u001b[0mself\u001b[0m\u001b[0;34m.\u001b[0m\u001b[0m_maybe_cast_indexer\u001b[0m\u001b[0;34m(\u001b[0m\u001b[0mkey\u001b[0m\u001b[0;34m)\u001b[0m\u001b[0;34m)\u001b[0m\u001b[0;34m\u001b[0m\u001b[0m\n",
      "\u001b[0;31mKeyboardInterrupt\u001b[0m: "
     ]
    }
   ],
   "source": [
    "%%time\n",
    "# new_rows = ['C-' + str(x) for x in df['exp'].index.tolist()]\n",
    "\n",
    "new_rows = []\n",
    "for inst_row in df['exp'].index.tolist():\n",
    "    inst_ser = df['exp'].loc[inst_row]\n",
    "    inst_x = inst_ser['X.X']\n",
    "    inst_y = inst_ser['Y.Y']\n",
    "    inst_tile = inst_ser['sample_Xtile_Ytile']\n",
    "    \n",
    "    new_row = 'C-' + str(inst_row) + '_' + inst_tile + '_' + str(inst_x) + '_' + str(inst_y)\n",
    "    # new_row = inst_tile + '_' + str(inst_x) + '_' + str(inst_y)\n",
    "    new_rows.append(new_row)\n",
    "\n",
    "df['exp'].index = new_rows\n",
    "print(df['exp'].shape)"
   ]
  },
  {
   "cell_type": "code",
   "execution_count": 220,
   "metadata": {},
   "outputs": [
    {
     "name": "stdout",
     "output_type": "stream",
     "text": [
      "734101\n"
     ]
    },
    {
     "ename": "KeyboardInterrupt",
     "evalue": "",
     "output_type": "error",
     "traceback": [
      "\u001b[0;31m---------------------------------------------------------------------------\u001b[0m",
      "\u001b[0;31mKeyboardInterrupt\u001b[0m                         Traceback (most recent call last)",
      "\u001b[0;32m<ipython-input-220-d4925f4ab2a2>\u001b[0m in \u001b[0;36m<module>\u001b[0;34m()\u001b[0m\n\u001b[1;32m      1\u001b[0m \u001b[0mrows\u001b[0m \u001b[0;34m=\u001b[0m \u001b[0mdf\u001b[0m\u001b[0;34m[\u001b[0m\u001b[0;34m'exp'\u001b[0m\u001b[0;34m]\u001b[0m\u001b[0;34m.\u001b[0m\u001b[0mindex\u001b[0m\u001b[0;34m.\u001b[0m\u001b[0mtolist\u001b[0m\u001b[0;34m(\u001b[0m\u001b[0;34m)\u001b[0m\u001b[0;34m\u001b[0m\u001b[0m\n\u001b[1;32m      2\u001b[0m \u001b[0mprint\u001b[0m\u001b[0;34m(\u001b[0m\u001b[0mlen\u001b[0m\u001b[0;34m(\u001b[0m\u001b[0mrows\u001b[0m\u001b[0;34m)\u001b[0m\u001b[0;34m)\u001b[0m\u001b[0;34m\u001b[0m\u001b[0m\n\u001b[0;32m----> 3\u001b[0;31m \u001b[0mprint\u001b[0m\u001b[0;34m(\u001b[0m\u001b[0mlen\u001b[0m\u001b[0;34m(\u001b[0m\u001b[0mlist\u001b[0m\u001b[0;34m(\u001b[0m\u001b[0mset\u001b[0m\u001b[0;34m(\u001b[0m\u001b[0mrows\u001b[0m\u001b[0;34m)\u001b[0m\u001b[0;34m)\u001b[0m\u001b[0;34m)\u001b[0m\u001b[0;34m)\u001b[0m\u001b[0;34m\u001b[0m\u001b[0m\n\u001b[0m",
      "\u001b[0;31mKeyboardInterrupt\u001b[0m: "
     ]
    }
   ],
   "source": [
    "rows = df['exp'].index.tolist()\n",
    "print(len(rows))\n",
    "print(len(list(set(rows))))"
   ]
  },
  {
   "cell_type": "code",
   "execution_count": null,
   "metadata": {},
   "outputs": [],
   "source": [
    "df['exp'].index.tolist()[0]"
   ]
  },
  {
   "cell_type": "code",
   "execution_count": null,
   "metadata": {},
   "outputs": [],
   "source": [
    "new_row"
   ]
  },
  {
   "cell_type": "code",
   "execution_count": null,
   "metadata": {},
   "outputs": [],
   "source": [
    "df['exp'].head()"
   ]
  },
  {
   "cell_type": "code",
   "execution_count": null,
   "metadata": {},
   "outputs": [],
   "source": [
    "df['exp'].shape"
   ]
  },
  {
   "cell_type": "markdown",
   "metadata": {},
   "source": [
    "### Add Sample Column"
   ]
  },
  {
   "cell_type": "code",
   "execution_count": null,
   "metadata": {},
   "outputs": [],
   "source": [
    "sample_list = [x.split('_')[0] for x in list(df['exp']['sample_Xtile_Ytile'].get_values())]\n",
    "ser_sample = pd.Series(sample_list, name='sample_slide', index=df['exp'].index.tolist())"
   ]
  },
  {
   "cell_type": "code",
   "execution_count": null,
   "metadata": {},
   "outputs": [],
   "source": [
    "print(len(sorted(list(set(sample_list)))))\n",
    "list_slides = sorted(list(set(sample_list)))\n",
    "list_slides"
   ]
  },
  {
   "cell_type": "code",
   "execution_count": null,
   "metadata": {},
   "outputs": [],
   "source": [
    "df['exp']['sample_slide'] = ser_sample"
   ]
  },
  {
   "cell_type": "code",
   "execution_count": null,
   "metadata": {},
   "outputs": [],
   "source": [
    "ser_sample.value_counts()"
   ]
  },
  {
   "cell_type": "code",
   "execution_count": null,
   "metadata": {},
   "outputs": [],
   "source": [
    "cols = df['exp'].columns.tolist()\n",
    "cols"
   ]
  },
  {
   "cell_type": "code",
   "execution_count": null,
   "metadata": {},
   "outputs": [],
   "source": [
    "exp_cols = cols[1:30]\n",
    "exp_cols"
   ]
  },
  {
   "cell_type": "code",
   "execution_count": null,
   "metadata": {},
   "outputs": [],
   "source": [
    "unique_dict = {}\n",
    "for inst_col in cols:\n",
    "    inst_list_unique = list(df['exp'][inst_col].unique())\n",
    "    unique_dict[inst_col] = inst_list_unique    \n",
    "    inst_num_unique = len(inst_list_unique)\n",
    "    print(inst_col, inst_num_unique)"
   ]
  },
  {
   "cell_type": "markdown",
   "metadata": {},
   "source": [
    "### Select Single Image Tile\n",
    "BALBc: normal tissue\n",
    "MRL/lpr: spleen from animals with systemic autoimmune disease\n",
    "\n",
    "Start with: 'BALBc-1_X01_Y01'"
   ]
  },
  {
   "cell_type": "code",
   "execution_count": null,
   "metadata": {
    "scrolled": true
   },
   "outputs": [],
   "source": [
    "df_list = []\n",
    "\n",
    "all_tiles = ['BALBc-1_X01_Y01', 'BALBc-1_X02_Y01', 'BALBc-1_X01_Y02', 'BALBc-1_X02_Y02']\n",
    "for inst_tile in all_tiles:\n",
    "# for inst_tile in ['BALBc-1_X01_Y01', 'BALBc-1_X02_Y01']:\n",
    "# for inst_tile in ['BALBc-1_X01_Y02', 'BALBc-1_X02_Y02']:    \n",
    "    keep_rows = []\n",
    "\n",
    "    ser_tile = df['exp']['sample_Xtile_Ytile']\n",
    "    ser_found = ser_tile[ser_tile == inst_tile]\n",
    "    \n",
    "    keep_rows.extend(ser_found.index.tolist())\n",
    "    inst_df = df['exp'].loc[keep_rows].transpose()\n",
    "    print('inst_df', inst_df.shape)\n",
    "    \n",
    "    if 'X02' in inst_tile:\n",
    "        inst_df.loc['X.X'] = inst_df.loc['X.X'] + 1350\n",
    "\n",
    "    if 'Y01' in inst_tile:        \n",
    "        inst_df.loc['Y.Y'] = 2000 - inst_df.loc['Y.Y']\n",
    "    \n",
    "    if 'Y02' in inst_tile:\n",
    "        inst_df.loc['Y.Y'] = 1000 - inst_df.loc['Y.Y'] \n",
    "        \n",
    "    df_list.append(inst_df)\n",
    "    \n",
    "    \n",
    "# df['tile'] = df['exp'].loc[keep_rows].transpose()\n",
    "df['tile'] = pd.concat(df_list, axis=1)\n",
    "print(df['tile'].shape)\n",
    "\n",
    "cats = df['tile'].loc['Imaging phenotype cluster ID']\n",
    "cats = [ct_dict[x] for x in cats]\n",
    "\n",
    "new_cols = []\n",
    "\n",
    "cols = df['tile'].columns.tolist()\n",
    "for index in range(len(cols)):\n",
    "    \n",
    "    new_col = (cols[index], 'Cell Type: ' + str(cats[index]))\n",
    "    new_cols.append(new_col)\n",
    "df['tile'].columns = new_cols\n",
    "df['tile'].shape"
   ]
  },
  {
   "cell_type": "markdown",
   "metadata": {},
   "source": [
    "### Plot Tile Expression Levels"
   ]
  },
  {
   "cell_type": "code",
   "execution_count": null,
   "metadata": {},
   "outputs": [],
   "source": [
    "df['tile-exp-ini'] = df['tile'].loc[exp_cols]\n",
    "df['tile-exp-ini'].shape"
   ]
  },
  {
   "cell_type": "markdown",
   "metadata": {},
   "source": [
    "### Set Negative Expression Levels to Zero"
   ]
  },
  {
   "cell_type": "code",
   "execution_count": null,
   "metadata": {},
   "outputs": [],
   "source": [
    "df['tile-exp'] = df['tile-exp-ini']\n",
    "df['tile-exp'][df['tile-exp'] < 0] = 0"
   ]
  },
  {
   "cell_type": "code",
   "execution_count": null,
   "metadata": {},
   "outputs": [],
   "source": [
    "df['tile-exp'].transpose().describe()"
   ]
  },
  {
   "cell_type": "code",
   "execution_count": null,
   "metadata": {},
   "outputs": [],
   "source": [
    "df['tile-exp'][df['tile-exp'] > 5000] = 5000"
   ]
  },
  {
   "cell_type": "code",
   "execution_count": null,
   "metadata": {},
   "outputs": [],
   "source": [
    "df['tile-exp'].shape"
   ]
  },
  {
   "cell_type": "code",
   "execution_count": null,
   "metadata": {},
   "outputs": [],
   "source": [
    "df['tile'].loc['Z.Z'].head()"
   ]
  },
  {
   "cell_type": "markdown",
   "metadata": {},
   "source": [
    "### Location of Cells"
   ]
  },
  {
   "cell_type": "code",
   "execution_count": null,
   "metadata": {},
   "outputs": [],
   "source": [
    "df['tile-loc'] = df['tile'].loc[['X.X', 'Y.Y']].transpose()\n",
    "df['tile-loc'].shape"
   ]
  },
  {
   "cell_type": "code",
   "execution_count": null,
   "metadata": {},
   "outputs": [],
   "source": [
    "# df['tile-loc']['Y.Y'] = 1000 - df['tile-loc']['Y.Y'] "
   ]
  },
  {
   "cell_type": "code",
   "execution_count": null,
   "metadata": {},
   "outputs": [],
   "source": [
    "df['tile-loc'] = df['tile-loc'].astype('int')"
   ]
  },
  {
   "cell_type": "code",
   "execution_count": null,
   "metadata": {},
   "outputs": [],
   "source": [
    "def set_expression_opacity(inst_gene):\n",
    "    ser_opacity = df['tile-exp'].loc[inst_gene]\n",
    "    list_opacity = [float(x/ser_opacity.max()) for x in list(ser_opacity.get_values())]\n",
    "    scatter.default_opacities = list_opacity"
   ]
  },
  {
   "cell_type": "code",
   "execution_count": null,
   "metadata": {},
   "outputs": [],
   "source": [
    "fig = plt.figure(title='Scatter')\n",
    "def_tt = bqplot.Tooltip(fields=['name'], formats=[''])\n",
    "\n",
    "scatter = plt.scatter(df['tile-loc']['X.X'], \n",
    "                      df['tile-loc']['Y.Y'], \n",
    "                      figsize=(20,10), \n",
    "                      ylim=(0,1000), \n",
    "                      xlim=(0,1000), stroke='black', \n",
    "                      tooltip=def_tt, \n",
    "                      names=df['tile-loc'].index.tolist(), \n",
    "                      display_names=False)\n",
    "\n",
    "inst_width = 900\n",
    "fig.layout.min_height = str(inst_width/1.2) + 'px'\n",
    "fig.layout.min_width = str(inst_width) + 'px'\n",
    "\n",
    "set_expression_opacity('NKp46')\n",
    "\n",
    "scatter.default_size = 100\n",
    "scatter.colors = ['red']"
   ]
  },
  {
   "cell_type": "markdown",
   "metadata": {},
   "source": [
    "### Using RGB to HEX\n",
    "https://www.rgbtohex.net/"
   ]
  },
  {
   "cell_type": "code",
   "execution_count": null,
   "metadata": {},
   "outputs": [],
   "source": [
    "cat_colors = {}\n",
    "# A \n",
    "cat_colors['NK cells'] = '#FB0006'\n",
    "# B\n",
    "cat_colors['granulocytes'] = '#FA1400'\n",
    "# C \n",
    "cat_colors['CD4(-)CD8(-) cDC'] = '#FC4B08'\n",
    "# D \n",
    "cat_colors['B220(+) DN T cells'] = '#FD8007'\n",
    "# E \n",
    "cat_colors['plasma cells'] = '#FDBA0A'\n",
    "# F \n",
    "cat_colors['F4/80(+) mphs'] = '#FFF80B'\n",
    "# G \n",
    "cat_colors['FDCs'] = '#FC9CA0'\n",
    "# H\n",
    "cat_colors['CD11c(+) B cells'] = '#99FF06'\n",
    "# I \n",
    "cat_colors['capsule'] = '#68FF0A'\n",
    "# J \n",
    "cat_colors['marginal zone mphs'] = '#0A4600'\n",
    "# K \n",
    "cat_colors['noid'] = '#25FF04'\n",
    "# L \n",
    "cat_colors['B cells'] = '#FFFF09'\n",
    "# M\n",
    "cat_colors['erythroblasts'] = '#1FFF3C'\n",
    "# N\n",
    "cat_colors['CD106(+)CD16/32(+)CD31(+) stroma'] = '#23FF6D'\n",
    "# O\n",
    "cat_colors['CD4(-)CD8(+)cDC'] = '#23FFA3'\n",
    "# P \n",
    "cat_colors['CD106(-)CD16/32(-)Ly6C(+)CD31(+) stroma'] = '#20FFDD'\n",
    "# Q\n",
    "cat_colors['megakaryocytes'] = '#1CE5FF'\n",
    "# R \n",
    "cat_colors['CD106(-)CD16/32(+)Ly6C(+)CD31(-)'] = '#15A7FF'\n",
    "# S\n",
    "cat_colors['CD4(+) T cells'] = '#0D6FFF'\n",
    "# T\n",
    "cat_colors['CD4(+)MHCII(+)'] = '#0137FF'\n",
    "# Ud\n",
    "cat_colors['CD31(hi) vascular'] = '#0000FF'\n",
    "# V\n",
    "cat_colors['CD3(+) other markers (-)'] = '#0700FF'\n",
    "# W\n",
    "cat_colors['CD106(+)CD16/32(+)CD31(-)Ly6C(-) stroma'] = '#2D00FF'\n",
    "# X\n",
    "cat_colors['CD8(+) T cells'] = '#5900FF'\n",
    "# Y\n",
    "cat_colors['ERTR7(+) stroma'] = '#8C00FE'\n",
    "# Z\n",
    "cat_colors['CD106(+)CD16/32(-)Ly6C(+)CD31(+)'] = '#C300FF'\n",
    "# [\n",
    "cat_colors['CD4(+)CD8(-)cDC'] = '#FB00FA'\n",
    "# dirt\n",
    "cat_colors['dirt'] = '#BCBCBC'"
   ]
  },
  {
   "cell_type": "markdown",
   "metadata": {},
   "source": [
    "### Expression Levels"
   ]
  },
  {
   "cell_type": "code",
   "execution_count": 165,
   "metadata": {},
   "outputs": [
    {
     "data": {
      "text/plain": [
       "(29, 5018)"
      ]
     },
     "execution_count": 165,
     "metadata": {},
     "output_type": "execute_result"
    }
   ],
   "source": [
    "keep_cols = [x for x in df['tile-exp'].columns.tolist() if 'dirt' not in x[1]]\n",
    "df['tile-exp-clean'] = df['tile-exp'][keep_cols]\n",
    "df['tile-exp-clean'].shape"
   ]
  },
  {
   "cell_type": "code",
   "execution_count": 166,
   "metadata": {},
   "outputs": [],
   "source": [
    "net.load_df(df['tile-exp-clean'])\n",
    "net.set_cat_colors(axis='col', cat_colors=cat_colors, cat_index=1, cat_title='Cell Type')"
   ]
  },
  {
   "cell_type": "code",
   "execution_count": 167,
   "metadata": {},
   "outputs": [
    {
     "data": {
      "application/vnd.jupyter.widget-view+json": {
       "model_id": "c2dd228b967f4d38acfb9f7606b9e74e",
       "version_major": 2,
       "version_minor": 0
      },
      "text/plain": [
       "ExampleWidget(network='{\"row_nodes\": [{\"name\": \"CD45\", \"ini\": 29, \"clust\": 17, \"rank\": 28, \"rankvar\": 25, \"gro…"
      ]
     },
     "metadata": {},
     "output_type": "display_data"
    }
   ],
   "source": [
    "net.load_df(df['tile-exp-clean'])\n",
    "net.widget()"
   ]
  },
  {
   "cell_type": "markdown",
   "metadata": {},
   "source": [
    "### Voronoi Plot"
   ]
  },
  {
   "cell_type": "code",
   "execution_count": 168,
   "metadata": {},
   "outputs": [],
   "source": [
    "from scipy.spatial import Voronoi\n",
    "vor = Voronoi(df['tile-loc'])"
   ]
  },
  {
   "cell_type": "code",
   "execution_count": 169,
   "metadata": {},
   "outputs": [],
   "source": [
    "point_list = df['tile-loc'].index.tolist()\n",
    "point_names = [x[0] for x in point_list]\n",
    "cat_names   = [x[1].split(': ')[1] for x in point_list]"
   ]
  },
  {
   "cell_type": "code",
   "execution_count": 170,
   "metadata": {},
   "outputs": [],
   "source": [
    "patch_data = {}\n",
    "patch_data['x'] = []\n",
    "patch_data['y'] = []\n",
    "patch_data['colors'] = []\n",
    "region_labels = []\n",
    "\n",
    "region_point_dict = {}\n",
    "for point_index in range(vor.point_region.shape[0]):\n",
    "    region_index = vor.point_region[point_index]\n",
    "    region_point_dict[region_index] = point_index\n",
    "\n",
    "for region_index in range(len(vor.regions)):\n",
    "    \n",
    "    inst_region = vor.regions[region_index]\n",
    "\n",
    "    if -1 not in inst_region and len(inst_region) > 0:\n",
    "\n",
    "        point_index = region_point_dict[region_index]\n",
    "        point_cat = cat_names[point_index]\n",
    "        region_labels.append(point_cat)\n",
    "        \n",
    "        # save cat_colors\n",
    "        inst_color = cat_colors[point_cat]\n",
    "        patch_data['colors'].append(inst_color)\n",
    "        \n",
    "        x_list = []\n",
    "        y_list = []\n",
    "        for inst_vertex in inst_region:\n",
    "            inst_pos = vor.vertices[inst_vertex]\n",
    "            x_list.append(inst_pos[0])\n",
    "            y_list.append(inst_pos[1])\n",
    "            \n",
    "        patch_data['x'].append(x_list)\n",
    "        patch_data['y'].append(y_list)    "
   ]
  },
  {
   "cell_type": "code",
   "execution_count": 171,
   "metadata": {},
   "outputs": [
    {
     "data": {
      "application/vnd.jupyter.widget-view+json": {
       "model_id": "f8685fd01c3b49a782808e66e691eed5",
       "version_major": 2,
       "version_minor": 0
      },
      "text/plain": [
       "Figure(animation_duration=1000, axes=[Axis(scale=LinearScale(max=2400.0, min=0.0), visible=False), Axis(orient…"
      ]
     },
     "metadata": {},
     "output_type": "display_data"
    }
   ],
   "source": [
    "import bqplot.pyplot as plt\n",
    "fig = plt.figure(animation_duration=1000)\n",
    "patch = plt.plot([], [], \n",
    "                 fill='inside',\n",
    "                 fill_colors=patch_data['colors'],\n",
    "                 stroke_width=1,\n",
    "                 close_path=True,\n",
    "                 labels=region_labels,\n",
    "                 tooltip=def_tt,\n",
    "                 axes_options={'x': {'visible': False}, 'y': {'visible': False}},\n",
    "                )\n",
    "\n",
    "scatter = plt.scatter(df['tile-loc']['X.X'], \n",
    "                      df['tile-loc']['Y.Y'],\n",
    "#                       tooltip=def_tt, \n",
    "                      names=point_names,\n",
    "                      display_names=False, default_size=2)\n",
    "\n",
    "\n",
    "inst_width = 950\n",
    "fig.layout.min_height = str(inst_width/(1.15)) + 'px'\n",
    "fig.layout.min_width  = str(inst_width) + 'px'\n",
    "\n",
    "patch.x = patch_data['x']\n",
    "patch.y = patch_data['y']\n",
    "\n",
    "plt.xlim(0, 2.0*x_dim)\n",
    "plt.ylim(0, 2.0*y_dim)\n",
    "\n",
    "fig\n",
    "# plt.show()"
   ]
  },
  {
   "cell_type": "code",
   "execution_count": 172,
   "metadata": {},
   "outputs": [],
   "source": [
    "def mouseover_highlight(self, target):\n",
    "    # print('cat name', target['data']['name'])\n",
    "    list_opacities = []\n",
    "    for inst_label in region_labels:\n",
    "        inst_opacity = 0.25\n",
    "        if inst_label == target['data']['name']:\n",
    "            inst_opacity = 1\n",
    "        list_opacities.append(inst_opacity)\n",
    "\n",
    "    self.opacities = list_opacities"
   ]
  },
  {
   "cell_type": "code",
   "execution_count": 173,
   "metadata": {},
   "outputs": [],
   "source": [
    "def reset_highlight(self, target):\n",
    "#     print('CLICKING')\n",
    "    list_opacities = [1 for x in region_labels]\n",
    "    self.opacities = list_opacities"
   ]
  },
  {
   "cell_type": "code",
   "execution_count": 174,
   "metadata": {},
   "outputs": [],
   "source": [
    "patch.on_hover(mouseover_highlight)\n",
    "patch.on_element_click(reset_highlight)"
   ]
  },
  {
   "cell_type": "code",
   "execution_count": 175,
   "metadata": {},
   "outputs": [
    {
     "data": {
      "text/plain": [
       "5146"
      ]
     },
     "execution_count": 175,
     "metadata": {},
     "output_type": "execute_result"
    }
   ],
   "source": [
    "cells = df['tile-loc'].index.tolist()\n",
    "len(cells)"
   ]
  },
  {
   "cell_type": "code",
   "execution_count": 177,
   "metadata": {},
   "outputs": [
    {
     "data": {
      "text/html": [
       "<div>\n",
       "<style scoped>\n",
       "    .dataframe tbody tr th:only-of-type {\n",
       "        vertical-align: middle;\n",
       "    }\n",
       "\n",
       "    .dataframe tbody tr th {\n",
       "        vertical-align: top;\n",
       "    }\n",
       "\n",
       "    .dataframe thead th {\n",
       "        text-align: right;\n",
       "    }\n",
       "</style>\n",
       "<table border=\"1\" class=\"dataframe\">\n",
       "  <thead>\n",
       "    <tr style=\"text-align: right;\">\n",
       "      <th></th>\n",
       "      <th>(C-643_BALBc-1_X01_Y01_10_277, Cell Type: B cells)</th>\n",
       "      <th>(C-1264_BALBc-1_X01_Y01_1006_490, Cell Type: B cells)</th>\n",
       "      <th>(C-1589_BALBc-1_X01_Y01_101_504, Cell Type: B cells)</th>\n",
       "      <th>(C-1611_BALBc-1_X01_Y01_101_759, Cell Type: B cells)</th>\n",
       "      <th>(C-1873_BALBc-1_X01_Y01_1013_254, Cell Type: B cells)</th>\n",
       "      <th>(C-1877_BALBc-1_X01_Y01_1013_293, Cell Type: B cells)</th>\n",
       "      <th>(C-1935_BALBc-1_X01_Y01_1013_914, Cell Type: B cells)</th>\n",
       "      <th>(C-2478_BALBc-1_X01_Y01_1020_25, Cell Type: B cells)</th>\n",
       "      <th>(C-2866_BALBc-1_X01_Y01_1025_128, Cell Type: B cells)</th>\n",
       "      <th>(C-2988_BALBc-1_X01_Y01_1026_609, Cell Type: B cells)</th>\n",
       "      <th>...</th>\n",
       "      <th>(C-250718_BALBc-1_X02_Y02_525_10, Cell Type: NK cells)</th>\n",
       "      <th>(C-251502_BALBc-1_X02_Y02_1008_129, Cell Type: noid)</th>\n",
       "      <th>(C-252813_BALBc-1_X02_Y02_68_787, Cell Type: noid)</th>\n",
       "      <th>(C-252972_BALBc-1_X02_Y02_787_592, Cell Type: noid)</th>\n",
       "      <th>(C-253114_BALBc-1_X02_Y02_869_585, Cell Type: noid)</th>\n",
       "      <th>(C-253125_BALBc-1_X02_Y02_871_770, Cell Type: noid)</th>\n",
       "      <th>(C-253249_BALBc-1_X02_Y02_95_418, Cell Type: noid)</th>\n",
       "      <th>(C-254494_BALBc-1_X02_Y02_399_712, Cell Type: CD4(+)MHCII(+))</th>\n",
       "      <th>(C-254542_BALBc-1_X02_Y02_590_401, Cell Type: CD4(+)MHCII(+))</th>\n",
       "      <th>(C-254598_BALBc-1_X02_Y02_79_540, Cell Type: CD4(+)MHCII(+))</th>\n",
       "    </tr>\n",
       "  </thead>\n",
       "  <tbody>\n",
       "    <tr>\n",
       "      <th>X.X</th>\n",
       "      <td>10</td>\n",
       "      <td>1006</td>\n",
       "      <td>101</td>\n",
       "      <td>101</td>\n",
       "      <td>1013</td>\n",
       "      <td>1013</td>\n",
       "      <td>1013</td>\n",
       "      <td>1020</td>\n",
       "      <td>1025</td>\n",
       "      <td>1026</td>\n",
       "      <td>...</td>\n",
       "      <td>1875</td>\n",
       "      <td>2358</td>\n",
       "      <td>1418</td>\n",
       "      <td>2137</td>\n",
       "      <td>2219</td>\n",
       "      <td>2221</td>\n",
       "      <td>1445</td>\n",
       "      <td>1749</td>\n",
       "      <td>1940</td>\n",
       "      <td>1429</td>\n",
       "    </tr>\n",
       "    <tr>\n",
       "      <th>Y.Y</th>\n",
       "      <td>1723</td>\n",
       "      <td>1510</td>\n",
       "      <td>1496</td>\n",
       "      <td>1241</td>\n",
       "      <td>1746</td>\n",
       "      <td>1707</td>\n",
       "      <td>1086</td>\n",
       "      <td>1975</td>\n",
       "      <td>1872</td>\n",
       "      <td>1391</td>\n",
       "      <td>...</td>\n",
       "      <td>990</td>\n",
       "      <td>871</td>\n",
       "      <td>213</td>\n",
       "      <td>408</td>\n",
       "      <td>415</td>\n",
       "      <td>230</td>\n",
       "      <td>582</td>\n",
       "      <td>288</td>\n",
       "      <td>599</td>\n",
       "      <td>460</td>\n",
       "    </tr>\n",
       "  </tbody>\n",
       "</table>\n",
       "<p>2 rows × 5146 columns</p>\n",
       "</div>"
      ],
      "text/plain": [
       "     (C-643_BALBc-1_X01_Y01_10_277, Cell Type: B cells)  \\\n",
       "X.X                                                 10    \n",
       "Y.Y                                               1723    \n",
       "\n",
       "     (C-1264_BALBc-1_X01_Y01_1006_490, Cell Type: B cells)  \\\n",
       "X.X                                               1006       \n",
       "Y.Y                                               1510       \n",
       "\n",
       "     (C-1589_BALBc-1_X01_Y01_101_504, Cell Type: B cells)  \\\n",
       "X.X                                                101      \n",
       "Y.Y                                               1496      \n",
       "\n",
       "     (C-1611_BALBc-1_X01_Y01_101_759, Cell Type: B cells)  \\\n",
       "X.X                                                101      \n",
       "Y.Y                                               1241      \n",
       "\n",
       "     (C-1873_BALBc-1_X01_Y01_1013_254, Cell Type: B cells)  \\\n",
       "X.X                                               1013       \n",
       "Y.Y                                               1746       \n",
       "\n",
       "     (C-1877_BALBc-1_X01_Y01_1013_293, Cell Type: B cells)  \\\n",
       "X.X                                               1013       \n",
       "Y.Y                                               1707       \n",
       "\n",
       "     (C-1935_BALBc-1_X01_Y01_1013_914, Cell Type: B cells)  \\\n",
       "X.X                                               1013       \n",
       "Y.Y                                               1086       \n",
       "\n",
       "     (C-2478_BALBc-1_X01_Y01_1020_25, Cell Type: B cells)  \\\n",
       "X.X                                               1020      \n",
       "Y.Y                                               1975      \n",
       "\n",
       "     (C-2866_BALBc-1_X01_Y01_1025_128, Cell Type: B cells)  \\\n",
       "X.X                                               1025       \n",
       "Y.Y                                               1872       \n",
       "\n",
       "     (C-2988_BALBc-1_X01_Y01_1026_609, Cell Type: B cells)  \\\n",
       "X.X                                               1026       \n",
       "Y.Y                                               1391       \n",
       "\n",
       "                                 ...                               \\\n",
       "X.X                              ...                                \n",
       "Y.Y                              ...                                \n",
       "\n",
       "     (C-250718_BALBc-1_X02_Y02_525_10, Cell Type: NK cells)  \\\n",
       "X.X                                               1875        \n",
       "Y.Y                                                990        \n",
       "\n",
       "     (C-251502_BALBc-1_X02_Y02_1008_129, Cell Type: noid)  \\\n",
       "X.X                                               2358      \n",
       "Y.Y                                                871      \n",
       "\n",
       "     (C-252813_BALBc-1_X02_Y02_68_787, Cell Type: noid)  \\\n",
       "X.X                                               1418    \n",
       "Y.Y                                                213    \n",
       "\n",
       "     (C-252972_BALBc-1_X02_Y02_787_592, Cell Type: noid)  \\\n",
       "X.X                                               2137     \n",
       "Y.Y                                                408     \n",
       "\n",
       "     (C-253114_BALBc-1_X02_Y02_869_585, Cell Type: noid)  \\\n",
       "X.X                                               2219     \n",
       "Y.Y                                                415     \n",
       "\n",
       "     (C-253125_BALBc-1_X02_Y02_871_770, Cell Type: noid)  \\\n",
       "X.X                                               2221     \n",
       "Y.Y                                                230     \n",
       "\n",
       "     (C-253249_BALBc-1_X02_Y02_95_418, Cell Type: noid)  \\\n",
       "X.X                                               1445    \n",
       "Y.Y                                                582    \n",
       "\n",
       "     (C-254494_BALBc-1_X02_Y02_399_712, Cell Type: CD4(+)MHCII(+))  \\\n",
       "X.X                                               1749               \n",
       "Y.Y                                                288               \n",
       "\n",
       "     (C-254542_BALBc-1_X02_Y02_590_401, Cell Type: CD4(+)MHCII(+))  \\\n",
       "X.X                                               1940               \n",
       "Y.Y                                                599               \n",
       "\n",
       "     (C-254598_BALBc-1_X02_Y02_79_540, Cell Type: CD4(+)MHCII(+))  \n",
       "X.X                                               1429             \n",
       "Y.Y                                                460             \n",
       "\n",
       "[2 rows x 5146 columns]"
      ]
     },
     "execution_count": 177,
     "metadata": {},
     "output_type": "execute_result"
    }
   ],
   "source": [
    "df['tile-loc'].transpose()"
   ]
  },
  {
   "cell_type": "code",
   "execution_count": 178,
   "metadata": {},
   "outputs": [],
   "source": [
    "from scipy.spatial.distance import pdist, squareform"
   ]
  },
  {
   "cell_type": "code",
   "execution_count": 179,
   "metadata": {},
   "outputs": [],
   "source": [
    "mat_cd = pdist(df['tile-loc'], metric='euclidean')"
   ]
  },
  {
   "cell_type": "code",
   "execution_count": 180,
   "metadata": {},
   "outputs": [
    {
     "data": {
      "text/plain": [
       "(5146, 5146)"
      ]
     },
     "execution_count": 180,
     "metadata": {},
     "output_type": "execute_result"
    }
   ],
   "source": [
    "dist_mat = squareform(mat_cd)\n",
    "dist_mat.shape"
   ]
  },
  {
   "cell_type": "code",
   "execution_count": 181,
   "metadata": {},
   "outputs": [],
   "source": [
    "df['dist'] = pd.DataFrame(data=dist_mat, index=cells, columns=cells)"
   ]
  },
  {
   "cell_type": "code",
   "execution_count": 182,
   "metadata": {},
   "outputs": [
    {
     "data": {
      "text/html": [
       "<div>\n",
       "<style scoped>\n",
       "    .dataframe tbody tr th:only-of-type {\n",
       "        vertical-align: middle;\n",
       "    }\n",
       "\n",
       "    .dataframe tbody tr th {\n",
       "        vertical-align: top;\n",
       "    }\n",
       "\n",
       "    .dataframe thead th {\n",
       "        text-align: right;\n",
       "    }\n",
       "</style>\n",
       "<table border=\"1\" class=\"dataframe\">\n",
       "  <thead>\n",
       "    <tr style=\"text-align: right;\">\n",
       "      <th></th>\n",
       "      <th>(C-643_BALBc-1_X01_Y01_10_277, Cell Type: B cells)</th>\n",
       "      <th>(C-1264_BALBc-1_X01_Y01_1006_490, Cell Type: B cells)</th>\n",
       "      <th>(C-1589_BALBc-1_X01_Y01_101_504, Cell Type: B cells)</th>\n",
       "      <th>(C-1611_BALBc-1_X01_Y01_101_759, Cell Type: B cells)</th>\n",
       "      <th>(C-1873_BALBc-1_X01_Y01_1013_254, Cell Type: B cells)</th>\n",
       "      <th>(C-1877_BALBc-1_X01_Y01_1013_293, Cell Type: B cells)</th>\n",
       "      <th>(C-1935_BALBc-1_X01_Y01_1013_914, Cell Type: B cells)</th>\n",
       "      <th>(C-2478_BALBc-1_X01_Y01_1020_25, Cell Type: B cells)</th>\n",
       "      <th>(C-2866_BALBc-1_X01_Y01_1025_128, Cell Type: B cells)</th>\n",
       "      <th>(C-2988_BALBc-1_X01_Y01_1026_609, Cell Type: B cells)</th>\n",
       "      <th>...</th>\n",
       "      <th>(C-250718_BALBc-1_X02_Y02_525_10, Cell Type: NK cells)</th>\n",
       "      <th>(C-251502_BALBc-1_X02_Y02_1008_129, Cell Type: noid)</th>\n",
       "      <th>(C-252813_BALBc-1_X02_Y02_68_787, Cell Type: noid)</th>\n",
       "      <th>(C-252972_BALBc-1_X02_Y02_787_592, Cell Type: noid)</th>\n",
       "      <th>(C-253114_BALBc-1_X02_Y02_869_585, Cell Type: noid)</th>\n",
       "      <th>(C-253125_BALBc-1_X02_Y02_871_770, Cell Type: noid)</th>\n",
       "      <th>(C-253249_BALBc-1_X02_Y02_95_418, Cell Type: noid)</th>\n",
       "      <th>(C-254494_BALBc-1_X02_Y02_399_712, Cell Type: CD4(+)MHCII(+))</th>\n",
       "      <th>(C-254542_BALBc-1_X02_Y02_590_401, Cell Type: CD4(+)MHCII(+))</th>\n",
       "      <th>(C-254598_BALBc-1_X02_Y02_79_540, Cell Type: CD4(+)MHCII(+))</th>\n",
       "    </tr>\n",
       "  </thead>\n",
       "  <tbody>\n",
       "    <tr>\n",
       "      <th>(C-643_BALBc-1_X01_Y01_10_277, Cell Type: B cells)</th>\n",
       "      <td>0.000000</td>\n",
       "      <td>1018.520987</td>\n",
       "      <td>244.560831</td>\n",
       "      <td>490.515035</td>\n",
       "      <td>1003.263674</td>\n",
       "      <td>1003.127609</td>\n",
       "      <td>1188.182646</td>\n",
       "      <td>1040.963016</td>\n",
       "      <td>1025.878160</td>\n",
       "      <td>1068.868561</td>\n",
       "      <td>...</td>\n",
       "      <td>2003.874747</td>\n",
       "      <td>2497.800633</td>\n",
       "      <td>2064.597782</td>\n",
       "      <td>2500.670710</td>\n",
       "      <td>2567.205679</td>\n",
       "      <td>2667.877433</td>\n",
       "      <td>1833.331939</td>\n",
       "      <td>2254.627685</td>\n",
       "      <td>2233.444873</td>\n",
       "      <td>1899.665760</td>\n",
       "    </tr>\n",
       "    <tr>\n",
       "      <th>(C-1264_BALBc-1_X01_Y01_1006_490, Cell Type: B cells)</th>\n",
       "      <td>1018.520987</td>\n",
       "      <td>0.000000</td>\n",
       "      <td>905.108281</td>\n",
       "      <td>944.132406</td>\n",
       "      <td>236.103791</td>\n",
       "      <td>197.124326</td>\n",
       "      <td>424.057779</td>\n",
       "      <td>465.210705</td>\n",
       "      <td>362.498276</td>\n",
       "      <td>120.668969</td>\n",
       "      <td>...</td>\n",
       "      <td>1012.699857</td>\n",
       "      <td>1495.401284</td>\n",
       "      <td>1360.864799</td>\n",
       "      <td>1579.102593</td>\n",
       "      <td>1634.134021</td>\n",
       "      <td>1764.830020</td>\n",
       "      <td>1026.598753</td>\n",
       "      <td>1430.151391</td>\n",
       "      <td>1304.713378</td>\n",
       "      <td>1132.002208</td>\n",
       "    </tr>\n",
       "    <tr>\n",
       "      <th>(C-1589_BALBc-1_X01_Y01_101_504, Cell Type: B cells)</th>\n",
       "      <td>244.560831</td>\n",
       "      <td>905.108281</td>\n",
       "      <td>0.000000</td>\n",
       "      <td>255.000000</td>\n",
       "      <td>945.644754</td>\n",
       "      <td>936.090273</td>\n",
       "      <td>999.921997</td>\n",
       "      <td>1036.340678</td>\n",
       "      <td>997.573055</td>\n",
       "      <td>930.940385</td>\n",
       "      <td>...</td>\n",
       "      <td>1844.752558</td>\n",
       "      <td>2341.938086</td>\n",
       "      <td>1838.634820</td>\n",
       "      <td>2308.471356</td>\n",
       "      <td>2377.916104</td>\n",
       "      <td>2469.241989</td>\n",
       "      <td>1625.340580</td>\n",
       "      <td>2043.322784</td>\n",
       "      <td>2046.101171</td>\n",
       "      <td>1684.304011</td>\n",
       "    </tr>\n",
       "    <tr>\n",
       "      <th>(C-1611_BALBc-1_X01_Y01_101_759, Cell Type: B cells)</th>\n",
       "      <td>490.515035</td>\n",
       "      <td>944.132406</td>\n",
       "      <td>255.000000</td>\n",
       "      <td>0.000000</td>\n",
       "      <td>1042.482134</td>\n",
       "      <td>1024.158191</td>\n",
       "      <td>925.077835</td>\n",
       "      <td>1176.144974</td>\n",
       "      <td>1118.899906</td>\n",
       "      <td>937.083241</td>\n",
       "      <td>...</td>\n",
       "      <td>1791.668775</td>\n",
       "      <td>2287.126800</td>\n",
       "      <td>1670.710328</td>\n",
       "      <td>2199.814765</td>\n",
       "      <td>2273.367546</td>\n",
       "      <td>2348.727528</td>\n",
       "      <td>1496.869066</td>\n",
       "      <td>1903.710325</td>\n",
       "      <td>1947.841113</td>\n",
       "      <td>1540.631364</td>\n",
       "    </tr>\n",
       "    <tr>\n",
       "      <th>(C-1873_BALBc-1_X01_Y01_1013_254, Cell Type: B cells)</th>\n",
       "      <td>1003.263674</td>\n",
       "      <td>236.103791</td>\n",
       "      <td>945.644754</td>\n",
       "      <td>1042.482134</td>\n",
       "      <td>0.000000</td>\n",
       "      <td>39.000000</td>\n",
       "      <td>660.000000</td>\n",
       "      <td>229.106962</td>\n",
       "      <td>126.570139</td>\n",
       "      <td>355.237948</td>\n",
       "      <td>...</td>\n",
       "      <td>1146.551351</td>\n",
       "      <td>1604.571594</td>\n",
       "      <td>1585.595787</td>\n",
       "      <td>1747.461015</td>\n",
       "      <td>1796.106066</td>\n",
       "      <td>1938.432356</td>\n",
       "      <td>1241.579639</td>\n",
       "      <td>1633.236052</td>\n",
       "      <td>1474.767100</td>\n",
       "      <td>1351.610891</td>\n",
       "    </tr>\n",
       "  </tbody>\n",
       "</table>\n",
       "<p>5 rows × 5146 columns</p>\n",
       "</div>"
      ],
      "text/plain": [
       "                                                    (C-643_BALBc-1_X01_Y01_10_277, Cell Type: B cells)  \\\n",
       "(C-643_BALBc-1_X01_Y01_10_277, Cell Type: B cells)                                           0.000000    \n",
       "(C-1264_BALBc-1_X01_Y01_1006_490, Cell Type: B ...                                        1018.520987    \n",
       "(C-1589_BALBc-1_X01_Y01_101_504, Cell Type: B c...                                         244.560831    \n",
       "(C-1611_BALBc-1_X01_Y01_101_759, Cell Type: B c...                                         490.515035    \n",
       "(C-1873_BALBc-1_X01_Y01_1013_254, Cell Type: B ...                                        1003.263674    \n",
       "\n",
       "                                                    (C-1264_BALBc-1_X01_Y01_1006_490, Cell Type: B cells)  \\\n",
       "(C-643_BALBc-1_X01_Y01_10_277, Cell Type: B cells)                                        1018.520987       \n",
       "(C-1264_BALBc-1_X01_Y01_1006_490, Cell Type: B ...                                           0.000000       \n",
       "(C-1589_BALBc-1_X01_Y01_101_504, Cell Type: B c...                                         905.108281       \n",
       "(C-1611_BALBc-1_X01_Y01_101_759, Cell Type: B c...                                         944.132406       \n",
       "(C-1873_BALBc-1_X01_Y01_1013_254, Cell Type: B ...                                         236.103791       \n",
       "\n",
       "                                                    (C-1589_BALBc-1_X01_Y01_101_504, Cell Type: B cells)  \\\n",
       "(C-643_BALBc-1_X01_Y01_10_277, Cell Type: B cells)                                         244.560831      \n",
       "(C-1264_BALBc-1_X01_Y01_1006_490, Cell Type: B ...                                         905.108281      \n",
       "(C-1589_BALBc-1_X01_Y01_101_504, Cell Type: B c...                                           0.000000      \n",
       "(C-1611_BALBc-1_X01_Y01_101_759, Cell Type: B c...                                         255.000000      \n",
       "(C-1873_BALBc-1_X01_Y01_1013_254, Cell Type: B ...                                         945.644754      \n",
       "\n",
       "                                                    (C-1611_BALBc-1_X01_Y01_101_759, Cell Type: B cells)  \\\n",
       "(C-643_BALBc-1_X01_Y01_10_277, Cell Type: B cells)                                         490.515035      \n",
       "(C-1264_BALBc-1_X01_Y01_1006_490, Cell Type: B ...                                         944.132406      \n",
       "(C-1589_BALBc-1_X01_Y01_101_504, Cell Type: B c...                                         255.000000      \n",
       "(C-1611_BALBc-1_X01_Y01_101_759, Cell Type: B c...                                           0.000000      \n",
       "(C-1873_BALBc-1_X01_Y01_1013_254, Cell Type: B ...                                        1042.482134      \n",
       "\n",
       "                                                    (C-1873_BALBc-1_X01_Y01_1013_254, Cell Type: B cells)  \\\n",
       "(C-643_BALBc-1_X01_Y01_10_277, Cell Type: B cells)                                        1003.263674       \n",
       "(C-1264_BALBc-1_X01_Y01_1006_490, Cell Type: B ...                                         236.103791       \n",
       "(C-1589_BALBc-1_X01_Y01_101_504, Cell Type: B c...                                         945.644754       \n",
       "(C-1611_BALBc-1_X01_Y01_101_759, Cell Type: B c...                                        1042.482134       \n",
       "(C-1873_BALBc-1_X01_Y01_1013_254, Cell Type: B ...                                           0.000000       \n",
       "\n",
       "                                                    (C-1877_BALBc-1_X01_Y01_1013_293, Cell Type: B cells)  \\\n",
       "(C-643_BALBc-1_X01_Y01_10_277, Cell Type: B cells)                                        1003.127609       \n",
       "(C-1264_BALBc-1_X01_Y01_1006_490, Cell Type: B ...                                         197.124326       \n",
       "(C-1589_BALBc-1_X01_Y01_101_504, Cell Type: B c...                                         936.090273       \n",
       "(C-1611_BALBc-1_X01_Y01_101_759, Cell Type: B c...                                        1024.158191       \n",
       "(C-1873_BALBc-1_X01_Y01_1013_254, Cell Type: B ...                                          39.000000       \n",
       "\n",
       "                                                    (C-1935_BALBc-1_X01_Y01_1013_914, Cell Type: B cells)  \\\n",
       "(C-643_BALBc-1_X01_Y01_10_277, Cell Type: B cells)                                        1188.182646       \n",
       "(C-1264_BALBc-1_X01_Y01_1006_490, Cell Type: B ...                                         424.057779       \n",
       "(C-1589_BALBc-1_X01_Y01_101_504, Cell Type: B c...                                         999.921997       \n",
       "(C-1611_BALBc-1_X01_Y01_101_759, Cell Type: B c...                                         925.077835       \n",
       "(C-1873_BALBc-1_X01_Y01_1013_254, Cell Type: B ...                                         660.000000       \n",
       "\n",
       "                                                    (C-2478_BALBc-1_X01_Y01_1020_25, Cell Type: B cells)  \\\n",
       "(C-643_BALBc-1_X01_Y01_10_277, Cell Type: B cells)                                        1040.963016      \n",
       "(C-1264_BALBc-1_X01_Y01_1006_490, Cell Type: B ...                                         465.210705      \n",
       "(C-1589_BALBc-1_X01_Y01_101_504, Cell Type: B c...                                        1036.340678      \n",
       "(C-1611_BALBc-1_X01_Y01_101_759, Cell Type: B c...                                        1176.144974      \n",
       "(C-1873_BALBc-1_X01_Y01_1013_254, Cell Type: B ...                                         229.106962      \n",
       "\n",
       "                                                    (C-2866_BALBc-1_X01_Y01_1025_128, Cell Type: B cells)  \\\n",
       "(C-643_BALBc-1_X01_Y01_10_277, Cell Type: B cells)                                        1025.878160       \n",
       "(C-1264_BALBc-1_X01_Y01_1006_490, Cell Type: B ...                                         362.498276       \n",
       "(C-1589_BALBc-1_X01_Y01_101_504, Cell Type: B c...                                         997.573055       \n",
       "(C-1611_BALBc-1_X01_Y01_101_759, Cell Type: B c...                                        1118.899906       \n",
       "(C-1873_BALBc-1_X01_Y01_1013_254, Cell Type: B ...                                         126.570139       \n",
       "\n",
       "                                                    (C-2988_BALBc-1_X01_Y01_1026_609, Cell Type: B cells)  \\\n",
       "(C-643_BALBc-1_X01_Y01_10_277, Cell Type: B cells)                                        1068.868561       \n",
       "(C-1264_BALBc-1_X01_Y01_1006_490, Cell Type: B ...                                         120.668969       \n",
       "(C-1589_BALBc-1_X01_Y01_101_504, Cell Type: B c...                                         930.940385       \n",
       "(C-1611_BALBc-1_X01_Y01_101_759, Cell Type: B c...                                         937.083241       \n",
       "(C-1873_BALBc-1_X01_Y01_1013_254, Cell Type: B ...                                         355.237948       \n",
       "\n",
       "                                                                                ...                               \\\n",
       "(C-643_BALBc-1_X01_Y01_10_277, Cell Type: B cells)                              ...                                \n",
       "(C-1264_BALBc-1_X01_Y01_1006_490, Cell Type: B ...                              ...                                \n",
       "(C-1589_BALBc-1_X01_Y01_101_504, Cell Type: B c...                              ...                                \n",
       "(C-1611_BALBc-1_X01_Y01_101_759, Cell Type: B c...                              ...                                \n",
       "(C-1873_BALBc-1_X01_Y01_1013_254, Cell Type: B ...                              ...                                \n",
       "\n",
       "                                                    (C-250718_BALBc-1_X02_Y02_525_10, Cell Type: NK cells)  \\\n",
       "(C-643_BALBc-1_X01_Y01_10_277, Cell Type: B cells)                                        2003.874747        \n",
       "(C-1264_BALBc-1_X01_Y01_1006_490, Cell Type: B ...                                        1012.699857        \n",
       "(C-1589_BALBc-1_X01_Y01_101_504, Cell Type: B c...                                        1844.752558        \n",
       "(C-1611_BALBc-1_X01_Y01_101_759, Cell Type: B c...                                        1791.668775        \n",
       "(C-1873_BALBc-1_X01_Y01_1013_254, Cell Type: B ...                                        1146.551351        \n",
       "\n",
       "                                                    (C-251502_BALBc-1_X02_Y02_1008_129, Cell Type: noid)  \\\n",
       "(C-643_BALBc-1_X01_Y01_10_277, Cell Type: B cells)                                        2497.800633      \n",
       "(C-1264_BALBc-1_X01_Y01_1006_490, Cell Type: B ...                                        1495.401284      \n",
       "(C-1589_BALBc-1_X01_Y01_101_504, Cell Type: B c...                                        2341.938086      \n",
       "(C-1611_BALBc-1_X01_Y01_101_759, Cell Type: B c...                                        2287.126800      \n",
       "(C-1873_BALBc-1_X01_Y01_1013_254, Cell Type: B ...                                        1604.571594      \n",
       "\n",
       "                                                    (C-252813_BALBc-1_X02_Y02_68_787, Cell Type: noid)  \\\n",
       "(C-643_BALBc-1_X01_Y01_10_277, Cell Type: B cells)                                        2064.597782    \n",
       "(C-1264_BALBc-1_X01_Y01_1006_490, Cell Type: B ...                                        1360.864799    \n",
       "(C-1589_BALBc-1_X01_Y01_101_504, Cell Type: B c...                                        1838.634820    \n",
       "(C-1611_BALBc-1_X01_Y01_101_759, Cell Type: B c...                                        1670.710328    \n",
       "(C-1873_BALBc-1_X01_Y01_1013_254, Cell Type: B ...                                        1585.595787    \n",
       "\n",
       "                                                    (C-252972_BALBc-1_X02_Y02_787_592, Cell Type: noid)  \\\n",
       "(C-643_BALBc-1_X01_Y01_10_277, Cell Type: B cells)                                        2500.670710     \n",
       "(C-1264_BALBc-1_X01_Y01_1006_490, Cell Type: B ...                                        1579.102593     \n",
       "(C-1589_BALBc-1_X01_Y01_101_504, Cell Type: B c...                                        2308.471356     \n",
       "(C-1611_BALBc-1_X01_Y01_101_759, Cell Type: B c...                                        2199.814765     \n",
       "(C-1873_BALBc-1_X01_Y01_1013_254, Cell Type: B ...                                        1747.461015     \n",
       "\n",
       "                                                    (C-253114_BALBc-1_X02_Y02_869_585, Cell Type: noid)  \\\n",
       "(C-643_BALBc-1_X01_Y01_10_277, Cell Type: B cells)                                        2567.205679     \n",
       "(C-1264_BALBc-1_X01_Y01_1006_490, Cell Type: B ...                                        1634.134021     \n",
       "(C-1589_BALBc-1_X01_Y01_101_504, Cell Type: B c...                                        2377.916104     \n",
       "(C-1611_BALBc-1_X01_Y01_101_759, Cell Type: B c...                                        2273.367546     \n",
       "(C-1873_BALBc-1_X01_Y01_1013_254, Cell Type: B ...                                        1796.106066     \n",
       "\n",
       "                                                    (C-253125_BALBc-1_X02_Y02_871_770, Cell Type: noid)  \\\n",
       "(C-643_BALBc-1_X01_Y01_10_277, Cell Type: B cells)                                        2667.877433     \n",
       "(C-1264_BALBc-1_X01_Y01_1006_490, Cell Type: B ...                                        1764.830020     \n",
       "(C-1589_BALBc-1_X01_Y01_101_504, Cell Type: B c...                                        2469.241989     \n",
       "(C-1611_BALBc-1_X01_Y01_101_759, Cell Type: B c...                                        2348.727528     \n",
       "(C-1873_BALBc-1_X01_Y01_1013_254, Cell Type: B ...                                        1938.432356     \n",
       "\n",
       "                                                    (C-253249_BALBc-1_X02_Y02_95_418, Cell Type: noid)  \\\n",
       "(C-643_BALBc-1_X01_Y01_10_277, Cell Type: B cells)                                        1833.331939    \n",
       "(C-1264_BALBc-1_X01_Y01_1006_490, Cell Type: B ...                                        1026.598753    \n",
       "(C-1589_BALBc-1_X01_Y01_101_504, Cell Type: B c...                                        1625.340580    \n",
       "(C-1611_BALBc-1_X01_Y01_101_759, Cell Type: B c...                                        1496.869066    \n",
       "(C-1873_BALBc-1_X01_Y01_1013_254, Cell Type: B ...                                        1241.579639    \n",
       "\n",
       "                                                    (C-254494_BALBc-1_X02_Y02_399_712, Cell Type: CD4(+)MHCII(+))  \\\n",
       "(C-643_BALBc-1_X01_Y01_10_277, Cell Type: B cells)                                        2254.627685               \n",
       "(C-1264_BALBc-1_X01_Y01_1006_490, Cell Type: B ...                                        1430.151391               \n",
       "(C-1589_BALBc-1_X01_Y01_101_504, Cell Type: B c...                                        2043.322784               \n",
       "(C-1611_BALBc-1_X01_Y01_101_759, Cell Type: B c...                                        1903.710325               \n",
       "(C-1873_BALBc-1_X01_Y01_1013_254, Cell Type: B ...                                        1633.236052               \n",
       "\n",
       "                                                    (C-254542_BALBc-1_X02_Y02_590_401, Cell Type: CD4(+)MHCII(+))  \\\n",
       "(C-643_BALBc-1_X01_Y01_10_277, Cell Type: B cells)                                        2233.444873               \n",
       "(C-1264_BALBc-1_X01_Y01_1006_490, Cell Type: B ...                                        1304.713378               \n",
       "(C-1589_BALBc-1_X01_Y01_101_504, Cell Type: B c...                                        2046.101171               \n",
       "(C-1611_BALBc-1_X01_Y01_101_759, Cell Type: B c...                                        1947.841113               \n",
       "(C-1873_BALBc-1_X01_Y01_1013_254, Cell Type: B ...                                        1474.767100               \n",
       "\n",
       "                                                    (C-254598_BALBc-1_X02_Y02_79_540, Cell Type: CD4(+)MHCII(+))  \n",
       "(C-643_BALBc-1_X01_Y01_10_277, Cell Type: B cells)                                        1899.665760             \n",
       "(C-1264_BALBc-1_X01_Y01_1006_490, Cell Type: B ...                                        1132.002208             \n",
       "(C-1589_BALBc-1_X01_Y01_101_504, Cell Type: B c...                                        1684.304011             \n",
       "(C-1611_BALBc-1_X01_Y01_101_759, Cell Type: B c...                                        1540.631364             \n",
       "(C-1873_BALBc-1_X01_Y01_1013_254, Cell Type: B ...                                        1351.610891             \n",
       "\n",
       "[5 rows x 5146 columns]"
      ]
     },
     "execution_count": 182,
     "metadata": {},
     "output_type": "execute_result"
    }
   ],
   "source": [
    "df['dist'].head()"
   ]
  },
  {
   "cell_type": "code",
   "execution_count": null,
   "metadata": {},
   "outputs": [],
   "source": []
  },
  {
   "cell_type": "code",
   "execution_count": 183,
   "metadata": {},
   "outputs": [],
   "source": [
    "# df['dist'][inst_col].hist()"
   ]
  },
  {
   "cell_type": "code",
   "execution_count": 184,
   "metadata": {},
   "outputs": [],
   "source": [
    "# ser_hood = inst_ser[inst_ser < 100]"
   ]
  },
  {
   "cell_type": "code",
   "execution_count": 185,
   "metadata": {},
   "outputs": [],
   "source": [
    "# ser_hoodod.shape"
   ]
  },
  {
   "cell_type": "code",
   "execution_count": 186,
   "metadata": {},
   "outputs": [],
   "source": [
    "num_nn = 10\n",
    "list_cell_density = []\n",
    "list_nn_dist = []\n",
    "for inst_col in df['dist'].columns.tolist():\n",
    "    # skip self distance of zero\n",
    "    inst_ser = df['dist'][inst_col].sort_values()[1:]\n",
    "    \n",
    "    ser_nn = inst_ser[:num_nn]\n",
    "    \n",
    "    # find nearest neighbor cell type distribution\n",
    "    nn_names = ser_nn.index.tolist()\n",
    "    nn_cats = [x[1].split(': ')[1] for x in nn_names]\n",
    "    nn_dist = pd.Series(nn_cats).value_counts()/num_nn\n",
    "    \n",
    "    # number of cells in 100px neighborhood\n",
    "    cell_density = inst_ser[inst_ser < 100].shape[0]\n",
    "    list_cell_density.append(cell_density)\n",
    "\n",
    "    nn_dist.name = (inst_col[0], inst_col[1], 'NN CT: ' + nn_dist.index.tolist()[0], 'Density: ' + str(cell_density))\n",
    "    list_nn_dist.append(nn_dist)\n",
    "\n",
    "df['nn-dist'] = pd.concat(list_nn_dist, axis=1, sort=True).fillna(0)    "
   ]
  },
  {
   "cell_type": "code",
   "execution_count": 187,
   "metadata": {},
   "outputs": [],
   "source": [
    "# nn_dist"
   ]
  },
  {
   "cell_type": "code",
   "execution_count": 188,
   "metadata": {},
   "outputs": [],
   "source": [
    "net.load_df(df['nn-dist'])\n",
    "net.set_cat_colors(axis='col', cat_colors=cat_colors, cat_index=2, cat_title='NN CT')"
   ]
  },
  {
   "cell_type": "markdown",
   "metadata": {},
   "source": [
    "# Neighborhood Graph"
   ]
  },
  {
   "cell_type": "code",
   "execution_count": 213,
   "metadata": {},
   "outputs": [
    {
     "data": {
      "text/plain": [
       "'C-0_BALBc-3_X05_Y03_10_70'"
      ]
     },
     "execution_count": 213,
     "metadata": {},
     "output_type": "execute_result"
    }
   ],
   "source": [
    "df['exp'].index.tolist()[0]"
   ]
  },
  {
   "cell_type": "code",
   "execution_count": 207,
   "metadata": {},
   "outputs": [
    {
     "data": {
      "text/plain": [
       "(4310498, 8)"
      ]
     },
     "execution_count": 207,
     "metadata": {},
     "output_type": "execute_result"
    }
   ],
   "source": [
    "df['neighbor'] = pd.read_csv('../data/big_data/CODEX_MRLdataset_neighborhood_graph.csv')\n",
    "df['neighbor'].shape"
   ]
  },
  {
   "cell_type": "code",
   "execution_count": 208,
   "metadata": {},
   "outputs": [
    {
     "data": {
      "text/html": [
       "<div>\n",
       "<style scoped>\n",
       "    .dataframe tbody tr th:only-of-type {\n",
       "        vertical-align: middle;\n",
       "    }\n",
       "\n",
       "    .dataframe tbody tr th {\n",
       "        vertical-align: top;\n",
       "    }\n",
       "\n",
       "    .dataframe thead th {\n",
       "        text-align: right;\n",
       "    }\n",
       "</style>\n",
       "<table border=\"1\" class=\"dataframe\">\n",
       "  <thead>\n",
       "    <tr style=\"text-align: right;\">\n",
       "      <th></th>\n",
       "      <th>Cell1 Sample_Xtile_Ytile</th>\n",
       "      <th>X1</th>\n",
       "      <th>Y1</th>\n",
       "      <th>Cell1 Imaging phenotype cluster ID</th>\n",
       "      <th>Cell2 Sample_Xtile_Ytile</th>\n",
       "      <th>X2</th>\n",
       "      <th>Y2</th>\n",
       "      <th>Cell2 Imaging phenotype cluster ID</th>\n",
       "    </tr>\n",
       "  </thead>\n",
       "  <tbody>\n",
       "    <tr>\n",
       "      <th>0</th>\n",
       "      <td>BALBc-1_X01_Y01</td>\n",
       "      <td>15</td>\n",
       "      <td>221</td>\n",
       "      <td>9619</td>\n",
       "      <td>BALBc-1_X01_Y01</td>\n",
       "      <td>26</td>\n",
       "      <td>243</td>\n",
       "      <td>9596</td>\n",
       "    </tr>\n",
       "    <tr>\n",
       "      <th>1</th>\n",
       "      <td>BALBc-1_X01_Y01</td>\n",
       "      <td>15</td>\n",
       "      <td>221</td>\n",
       "      <td>9619</td>\n",
       "      <td>BALBc-1_X01_Y01</td>\n",
       "      <td>41</td>\n",
       "      <td>170</td>\n",
       "      <td>9613</td>\n",
       "    </tr>\n",
       "    <tr>\n",
       "      <th>2</th>\n",
       "      <td>BALBc-1_X01_Y01</td>\n",
       "      <td>15</td>\n",
       "      <td>221</td>\n",
       "      <td>9619</td>\n",
       "      <td>BALBc-1_X01_Y01</td>\n",
       "      <td>37</td>\n",
       "      <td>250</td>\n",
       "      <td>9595</td>\n",
       "    </tr>\n",
       "    <tr>\n",
       "      <th>3</th>\n",
       "      <td>BALBc-1_X01_Y01</td>\n",
       "      <td>12</td>\n",
       "      <td>444</td>\n",
       "      <td>9615</td>\n",
       "      <td>BALBc-1_X01_Y01</td>\n",
       "      <td>16</td>\n",
       "      <td>367</td>\n",
       "      <td>9613</td>\n",
       "    </tr>\n",
       "    <tr>\n",
       "      <th>4</th>\n",
       "      <td>BALBc-1_X01_Y01</td>\n",
       "      <td>12</td>\n",
       "      <td>444</td>\n",
       "      <td>9615</td>\n",
       "      <td>BALBc-1_X01_Y01</td>\n",
       "      <td>12</td>\n",
       "      <td>464</td>\n",
       "      <td>9613</td>\n",
       "    </tr>\n",
       "  </tbody>\n",
       "</table>\n",
       "</div>"
      ],
      "text/plain": [
       "  Cell1 Sample_Xtile_Ytile  X1   Y1  Cell1 Imaging phenotype cluster ID  \\\n",
       "0          BALBc-1_X01_Y01  15  221                                9619   \n",
       "1          BALBc-1_X01_Y01  15  221                                9619   \n",
       "2          BALBc-1_X01_Y01  15  221                                9619   \n",
       "3          BALBc-1_X01_Y01  12  444                                9615   \n",
       "4          BALBc-1_X01_Y01  12  444                                9615   \n",
       "\n",
       "  Cell2 Sample_Xtile_Ytile  X2   Y2  Cell2 Imaging phenotype cluster ID  \n",
       "0          BALBc-1_X01_Y01  26  243                                9596  \n",
       "1          BALBc-1_X01_Y01  41  170                                9613  \n",
       "2          BALBc-1_X01_Y01  37  250                                9595  \n",
       "3          BALBc-1_X01_Y01  16  367                                9613  \n",
       "4          BALBc-1_X01_Y01  12  464                                9613  "
      ]
     },
     "execution_count": 208,
     "metadata": {},
     "output_type": "execute_result"
    }
   ],
   "source": [
    "df['neighbor'].head()"
   ]
  },
  {
   "cell_type": "code",
   "execution_count": null,
   "metadata": {},
   "outputs": [],
   "source": [
    "all_tiles = ['BALBc-1_X01_Y01', 'BALBc-1_X02_Y01', 'BALBc-1_X01_Y02', 'BALBc-1_X02_Y02']"
   ]
  },
  {
   "cell_type": "markdown",
   "metadata": {},
   "source": [
    "### Make Dictionary of Nieghbor Cells and Neighbor Cell Types"
   ]
  },
  {
   "cell_type": "code",
   "execution_count": 242,
   "metadata": {},
   "outputs": [
    {
     "name": "stdout",
     "output_type": "stream",
     "text": [
      "CPU times: user 11min 19s, sys: 1.27 s, total: 11min 20s\n",
      "Wall time: 11min 22s\n"
     ]
    }
   ],
   "source": [
    "%%time\n",
    "neighbor_graph = {}\n",
    "ct_graph = {}\n",
    "for inst_row in df['neighbor'].index.tolist():\n",
    "    inst_ser = df['neighbor'].loc[inst_row]\n",
    "    \n",
    "    inst_tile = inst_ser['Cell1 Sample_Xtile_Ytile']\n",
    "    if inst_tile in all_tiles:\n",
    "        inst_cell = inst_tile + '_' + str(inst_ser['X1']) + '_' + str(inst_ser['Y1'])\n",
    "    \n",
    "        inst_neighbor = inst_ser['Cell2 Sample_Xtile_Ytile'] + '_' + str(inst_ser['X2']) + '_' + str(inst_ser['Y2'])\n",
    "        inst_cat = ct_dict[inst_ser['Cell2 Imaging phenotype cluster ID']]\n",
    "        \n",
    "        # add cell to dictionary if necessary\n",
    "        if inst_cell not in neighbor_graph:\n",
    "            neighbor_graph[inst_cell] = []\n",
    "            ct_graph[inst_cell] = []\n",
    "            \n",
    "        neighbor_graph[inst_cell].append(inst_neighbor)\n",
    "        ct_graph[inst_cell].append(inst_cat)"
   ]
  },
  {
   "cell_type": "markdown",
   "metadata": {},
   "source": [
    "### All Cells Neighbor Distribution"
   ]
  },
  {
   "cell_type": "code",
   "execution_count": 189,
   "metadata": {},
   "outputs": [
    {
     "data": {
      "application/vnd.jupyter.widget-view+json": {
       "model_id": "178681901508495b9e0e031165a2de42",
       "version_major": 2,
       "version_minor": 0
      },
      "text/plain": [
       "ExampleWidget(network='{\"row_nodes\": [{\"name\": \"B cells\", \"ini\": 27, \"clust\": 14, \"rank\": 26, \"rankvar\": 26, \"…"
      ]
     },
     "metadata": {},
     "output_type": "display_data"
    }
   ],
   "source": [
    "net.load_df(df['nn-dist'])\n",
    "net.widget()"
   ]
  },
  {
   "cell_type": "markdown",
   "metadata": {},
   "source": [
    "# Merge Expression Levels and Neighborhood Distributions"
   ]
  },
  {
   "cell_type": "code",
   "execution_count": 190,
   "metadata": {},
   "outputs": [
    {
     "data": {
      "text/plain": [
       "(27, 5146)"
      ]
     },
     "execution_count": 190,
     "metadata": {},
     "output_type": "execute_result"
    }
   ],
   "source": [
    "df['nn-dist'].shape"
   ]
  },
  {
   "cell_type": "code",
   "execution_count": 191,
   "metadata": {},
   "outputs": [
    {
     "data": {
      "text/plain": [
       "('C-643_BALBc-1_X01_Y01_10_277',\n",
       " 'Cell Type: B cells',\n",
       " 'NN CT: B cells',\n",
       " 'Density: 14')"
      ]
     },
     "execution_count": 191,
     "metadata": {},
     "output_type": "execute_result"
    }
   ],
   "source": [
    "df['nn-dist'].columns.tolist()[0]"
   ]
  },
  {
   "cell_type": "code",
   "execution_count": 192,
   "metadata": {},
   "outputs": [],
   "source": [
    "density_dict = {}\n",
    "nct_dict = {}\n",
    "for inst_col in df['nn-dist'].columns.tolist():\n",
    "    nct_dict[inst_col[0]] = inst_col[2]\n",
    "    density_dict[inst_col[0]] = inst_col[3]"
   ]
  },
  {
   "cell_type": "code",
   "execution_count": 193,
   "metadata": {},
   "outputs": [
    {
     "data": {
      "text/plain": [
       "(29, 5018)"
      ]
     },
     "execution_count": 193,
     "metadata": {},
     "output_type": "execute_result"
    }
   ],
   "source": [
    "df['tile-exp-clean'].shape"
   ]
  },
  {
   "cell_type": "markdown",
   "metadata": {},
   "source": [
    "### Add Cell Density to Expression Levels"
   ]
  },
  {
   "cell_type": "code",
   "execution_count": 194,
   "metadata": {},
   "outputs": [
    {
     "data": {
      "text/plain": [
       "(29, 5018)"
      ]
     },
     "execution_count": 194,
     "metadata": {},
     "output_type": "execute_result"
    }
   ],
   "source": [
    "df['exp-common'] = deepcopy(df['tile-exp-clean'])\n",
    "exp_cols = [(x[0], x[1], nct_dict[x[0]], density_dict[x[0]]) for x in df['exp-common'].columns]\n",
    "df['exp-common'].columns = exp_cols\n",
    "df['exp-common'].index = [(x, 'Type: Expression') for x in df['exp-common'].index]\n",
    "df['exp-common'].shape"
   ]
  },
  {
   "cell_type": "markdown",
   "metadata": {},
   "source": [
    "### Find Common Cells"
   ]
  },
  {
   "cell_type": "code",
   "execution_count": 195,
   "metadata": {},
   "outputs": [
    {
     "data": {
      "text/plain": [
       "(27, 5018)"
      ]
     },
     "execution_count": 195,
     "metadata": {},
     "output_type": "execute_result"
    }
   ],
   "source": [
    "df['nn-dist-common'] = df['nn-dist'][exp_cols]\n",
    "df['nn-dist-common'].index = [(x, 'Type: Neighborhood') for x in df['nn-dist-common'].index]\n",
    "df['nn-dist-common'].shape"
   ]
  },
  {
   "cell_type": "code",
   "execution_count": 196,
   "metadata": {},
   "outputs": [
    {
     "data": {
      "text/plain": [
       "(56, 5018)"
      ]
     },
     "execution_count": 196,
     "metadata": {},
     "output_type": "execute_result"
    }
   ],
   "source": [
    "df['merge'] = pd.concat([df['exp-common'], df['nn-dist-common']], axis=0)\n",
    "df['merge'].shape"
   ]
  },
  {
   "cell_type": "code",
   "execution_count": 197,
   "metadata": {},
   "outputs": [
    {
     "data": {
      "text/plain": [
       "('C-643_BALBc-1_X01_Y01_10_277',\n",
       " 'Cell Type: B cells',\n",
       " 'NN CT: B cells',\n",
       " 'Density: 14')"
      ]
     },
     "execution_count": 197,
     "metadata": {},
     "output_type": "execute_result"
    }
   ],
   "source": [
    "df['merge'].columns.tolist()[0]"
   ]
  },
  {
   "cell_type": "markdown",
   "metadata": {},
   "source": [
    "# Merge Dist and Expression "
   ]
  },
  {
   "cell_type": "code",
   "execution_count": 198,
   "metadata": {},
   "outputs": [
    {
     "data": {
      "text/plain": [
       "2826"
      ]
     },
     "execution_count": 198,
     "metadata": {},
     "output_type": "execute_result"
    }
   ],
   "source": [
    "keep_cols = [x for x in df['merge'].columns.tolist() if x[1].split(': ')[1] == 'B cells']\n",
    "len(keep_cols)"
   ]
  },
  {
   "cell_type": "code",
   "execution_count": 199,
   "metadata": {},
   "outputs": [
    {
     "data": {
      "application/vnd.jupyter.widget-view+json": {
       "model_id": "ce5bc2560f914e32b03e3a773e68ec01",
       "version_major": 2,
       "version_minor": 0
      },
      "text/plain": [
       "ExampleWidget(network='{\"row_nodes\": [{\"name\": \"CD45\", \"ini\": 29, \"clust\": 19, \"rank\": 26, \"rankvar\": 18, \"cat…"
      ]
     },
     "metadata": {},
     "output_type": "display_data"
    }
   ],
   "source": [
    "net.load_df(df['exp-common'][keep_cols])\n",
    "net.filter_threshold(inst_rc='row', num_occur=1, threshold=0.001)\n",
    "net.normalize(axis='row', norm_type='zscore')\n",
    "net.clip(-5,5)\n",
    "net.widget()"
   ]
  },
  {
   "cell_type": "code",
   "execution_count": 200,
   "metadata": {
    "scrolled": false
   },
   "outputs": [
    {
     "data": {
      "application/vnd.jupyter.widget-view+json": {
       "model_id": "190be0d725cb44a6a823c81b0aa72fc8",
       "version_major": 2,
       "version_minor": 0
      },
      "text/plain": [
       "ExampleWidget(network='{\"row_nodes\": [{\"name\": \"CD45\", \"ini\": 56, \"clust\": 30, \"rank\": 52, \"rankvar\": 44, \"cat…"
      ]
     },
     "metadata": {},
     "output_type": "display_data"
    }
   ],
   "source": [
    "net.load_df(df['merge'][keep_cols])\n",
    "net.normalize(axis='row', norm_type='zscore')\n",
    "net.clip(-5,5)\n",
    "net.widget()"
   ]
  },
  {
   "cell_type": "markdown",
   "metadata": {},
   "source": [
    "# 'CD4(+) T cells'"
   ]
  },
  {
   "cell_type": "code",
   "execution_count": 201,
   "metadata": {},
   "outputs": [
    {
     "data": {
      "text/plain": [
       "378"
      ]
     },
     "execution_count": 201,
     "metadata": {},
     "output_type": "execute_result"
    }
   ],
   "source": [
    "keep_cols = [x for x in df['merge'].columns.tolist() if x[1].split(': ')[1] == 'CD4(+) T cells']\n",
    "len(keep_cols)"
   ]
  },
  {
   "cell_type": "code",
   "execution_count": 202,
   "metadata": {},
   "outputs": [
    {
     "data": {
      "application/vnd.jupyter.widget-view+json": {
       "model_id": "ce9f9d3bae714ce9a6920af04b5c99bd",
       "version_major": 2,
       "version_minor": 0
      },
      "text/plain": [
       "ExampleWidget(network='{\"row_nodes\": [{\"name\": \"CD45\", \"ini\": 29, \"clust\": 13, \"rank\": 18, \"rankvar\": 22, \"cat…"
      ]
     },
     "metadata": {},
     "output_type": "display_data"
    }
   ],
   "source": [
    "net.load_df(df['exp-common'][keep_cols])\n",
    "net.filter_threshold(inst_rc='row', num_occur=1, threshold=0.001)\n",
    "net.normalize(axis='row', norm_type='zscore')\n",
    "net.clip(-5,5)\n",
    "net.widget()"
   ]
  },
  {
   "cell_type": "code",
   "execution_count": 203,
   "metadata": {},
   "outputs": [
    {
     "data": {
      "application/vnd.jupyter.widget-view+json": {
       "model_id": "ee668ff348404bf09d242cc0268485ba",
       "version_major": 2,
       "version_minor": 0
      },
      "text/plain": [
       "ExampleWidget(network='{\"row_nodes\": [{\"name\": \"CD45\", \"ini\": 53, \"clust\": 31, \"rank\": 35, \"rankvar\": 42, \"cat…"
      ]
     },
     "metadata": {},
     "output_type": "display_data"
    }
   ],
   "source": [
    "net.load_df(df['merge'][keep_cols])\n",
    "net.filter_threshold(inst_rc='row', num_occur=1, threshold=0.001)\n",
    "net.normalize(axis='row', norm_type='zscore')\n",
    "net.clip(-5,5)\n",
    "net.widget()"
   ]
  },
  {
   "cell_type": "markdown",
   "metadata": {},
   "source": [
    "# Marginal zone mphs"
   ]
  },
  {
   "cell_type": "code",
   "execution_count": 204,
   "metadata": {},
   "outputs": [
    {
     "data": {
      "text/plain": [
       "151"
      ]
     },
     "execution_count": 204,
     "metadata": {},
     "output_type": "execute_result"
    }
   ],
   "source": [
    "keep_cols = [x for x in df['merge'].columns.tolist() if x[1].split(': ')[1] == 'marginal zone mphs']\n",
    "len(keep_cols)"
   ]
  },
  {
   "cell_type": "code",
   "execution_count": 205,
   "metadata": {},
   "outputs": [
    {
     "data": {
      "application/vnd.jupyter.widget-view+json": {
       "model_id": "853180182724455f92f44838b9e00339",
       "version_major": 2,
       "version_minor": 0
      },
      "text/plain": [
       "ExampleWidget(network='{\"row_nodes\": [{\"name\": \"CD45\", \"ini\": 50, \"clust\": 23, \"rank\": 35, \"rankvar\": 31, \"cat…"
      ]
     },
     "metadata": {},
     "output_type": "display_data"
    }
   ],
   "source": [
    "net.load_df(df['merge'][keep_cols])\n",
    "net.filter_threshold(inst_rc='row', num_occur=1, threshold=0.001)\n",
    "net.normalize(axis='row', norm_type='zscore')\n",
    "net.clip(-5,5)\n",
    "net.widget()"
   ]
  },
  {
   "cell_type": "code",
   "execution_count": null,
   "metadata": {},
   "outputs": [],
   "source": []
  },
  {
   "cell_type": "code",
   "execution_count": null,
   "metadata": {},
   "outputs": [],
   "source": []
  },
  {
   "cell_type": "code",
   "execution_count": null,
   "metadata": {},
   "outputs": [],
   "source": []
  },
  {
   "cell_type": "code",
   "execution_count": null,
   "metadata": {},
   "outputs": [],
   "source": []
  },
  {
   "cell_type": "code",
   "execution_count": null,
   "metadata": {},
   "outputs": [],
   "source": []
  },
  {
   "cell_type": "code",
   "execution_count": null,
   "metadata": {},
   "outputs": [],
   "source": [
    "ser_density = pd.Series(list_cell_density)\n",
    "ser_density.hist()"
   ]
  },
  {
   "cell_type": "code",
   "execution_count": null,
   "metadata": {},
   "outputs": [],
   "source": [
    "nn_names = ser_nn.index.tolist()\n",
    "nn_cats = [x[1].split(': ')[1] for x in nn_names]\n",
    "nn_dist = pd.Series(nn_cats).value_counts()/num_nn\n",
    "nn_dist"
   ]
  },
  {
   "cell_type": "code",
   "execution_count": null,
   "metadata": {},
   "outputs": [],
   "source": [
    "inst_ser.head()"
   ]
  },
  {
   "cell_type": "code",
   "execution_count": null,
   "metadata": {},
   "outputs": [],
   "source": [
    "inst_ser[1:].head()"
   ]
  },
  {
   "cell_type": "code",
   "execution_count": null,
   "metadata": {},
   "outputs": [],
   "source": []
  },
  {
   "cell_type": "code",
   "execution_count": null,
   "metadata": {},
   "outputs": [],
   "source": []
  },
  {
   "cell_type": "code",
   "execution_count": null,
   "metadata": {},
   "outputs": [],
   "source": [
    "print(cells[0])\n",
    "df['dist'][cells[0]].sort_values()"
   ]
  },
  {
   "cell_type": "code",
   "execution_count": null,
   "metadata": {},
   "outputs": [],
   "source": []
  }
 ],
 "metadata": {
  "kernelspec": {
   "display_name": "Python 3",
   "language": "python",
   "name": "python3"
  },
  "language_info": {
   "codemirror_mode": {
    "name": "ipython",
    "version": 3
   },
   "file_extension": ".py",
   "mimetype": "text/x-python",
   "name": "python",
   "nbconvert_exporter": "python",
   "pygments_lexer": "ipython3",
   "version": "3.6.5"
  }
 },
 "nbformat": 4,
 "nbformat_minor": 2
}
