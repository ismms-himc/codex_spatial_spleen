{
 "cells": [
  {
   "cell_type": "markdown",
   "metadata": {},
   "source": [
    "# 0.1.0 Load Data\n",
    "* Codex Data obtained from: http://welikesharingdata.blob.core.windows.net/forshare/index.html\n",
    "* Manuscript: https://www.cell.com/cell/pdf/S0092-8674(18)30904-8.pdf"
   ]
  },
  {
   "cell_type": "code",
   "execution_count": 9,
   "metadata": {},
   "outputs": [],
   "source": [
    "import pandas as pd\n",
    "df = {}"
   ]
  },
  {
   "cell_type": "code",
   "execution_count": 10,
   "metadata": {},
   "outputs": [],
   "source": [
    "from clustergrammer2 import net"
   ]
  },
  {
   "cell_type": "code",
   "execution_count": 11,
   "metadata": {},
   "outputs": [],
   "source": [
    "import ipywidgets as widgets\n",
    "import numpy as np\n",
    "from bqplot import pyplot as plt\n",
    "import bqplot"
   ]
  },
  {
   "cell_type": "code",
   "execution_count": 12,
   "metadata": {},
   "outputs": [],
   "source": [
    "from copy import deepcopy"
   ]
  },
  {
   "cell_type": "code",
   "execution_count": 13,
   "metadata": {},
   "outputs": [],
   "source": [
    "from glob import glob"
   ]
  },
  {
   "cell_type": "markdown",
   "metadata": {},
   "source": [
    "### Load X-shift cluster ID"
   ]
  },
  {
   "cell_type": "code",
   "execution_count": 14,
   "metadata": {},
   "outputs": [
    {
     "data": {
      "text/plain": [
       "(58, 1)"
      ]
     },
     "execution_count": 14,
     "metadata": {},
     "output_type": "execute_result"
    }
   ],
   "source": [
    "df['cell_type'] = pd.read_excel('../data/big_data/mmc2__codex_cell_type_info.xlsx', index_col=0)\n",
    "df['cell_type'].shape"
   ]
  },
  {
   "cell_type": "code",
   "execution_count": 15,
   "metadata": {},
   "outputs": [],
   "source": [
    "ct_dict = {}\n",
    "cell_types = []\n",
    "for inst_id in df['cell_type'].index.tolist():\n",
    "    inst_ct = df['cell_type']['Imaging phenotype (cell type)'].loc[inst_id]\n",
    "    cell_types.append(inst_ct)\n",
    "    ct_dict[inst_id] = inst_ct"
   ]
  },
  {
   "cell_type": "code",
   "execution_count": 16,
   "metadata": {},
   "outputs": [
    {
     "name": "stdout",
     "output_type": "stream",
     "text": [
      "28\n"
     ]
    },
    {
     "data": {
      "text/plain": [
       "['B cells',\n",
       " 'B220(+) DN T cells',\n",
       " 'CD106(+)CD16/32(+)CD31(+) stroma',\n",
       " 'CD106(+)CD16/32(+)CD31(-)Ly6C(-) stroma',\n",
       " 'CD106(+)CD16/32(-)Ly6C(+)CD31(+)',\n",
       " 'CD106(-)CD16/32(+)Ly6C(+)CD31(-)',\n",
       " 'CD106(-)CD16/32(-)Ly6C(+)CD31(+) stroma',\n",
       " 'CD11c(+) B cells',\n",
       " 'CD3(+) other markers (-)',\n",
       " 'CD31(hi) vascular',\n",
       " 'CD4(+) T cells',\n",
       " 'CD4(+)CD8(-)cDC',\n",
       " 'CD4(+)MHCII(+)',\n",
       " 'CD4(-)CD8(+)cDC',\n",
       " 'CD4(-)CD8(-) cDC',\n",
       " 'CD8(+) T cells',\n",
       " 'ERTR7(+) stroma',\n",
       " 'F4/80(+) mphs',\n",
       " 'FDCs',\n",
       " 'NK cells',\n",
       " 'capsule',\n",
       " 'dirt',\n",
       " 'erythroblasts',\n",
       " 'granulocytes',\n",
       " 'marginal zone mphs',\n",
       " 'megakaryocytes',\n",
       " 'noid',\n",
       " 'plasma cells']"
      ]
     },
     "execution_count": 16,
     "metadata": {},
     "output_type": "execute_result"
    }
   ],
   "source": [
    "cell_types = sorted(list(set(cell_types)))\n",
    "print(len(cell_types))\n",
    "cell_types"
   ]
  },
  {
   "cell_type": "code",
   "execution_count": 17,
   "metadata": {},
   "outputs": [],
   "source": [
    "x_dim = 1200\n",
    "y_dim = 1000"
   ]
  },
  {
   "cell_type": "markdown",
   "metadata": {},
   "source": [
    "## Check available Files"
   ]
  },
  {
   "cell_type": "code",
   "execution_count": 18,
   "metadata": {},
   "outputs": [
    {
     "data": {
      "text/plain": [
       "['../data/big_data/channelNames_BALBcMRLdataset.txt']"
      ]
     },
     "execution_count": 18,
     "metadata": {},
     "output_type": "execute_result"
    }
   ],
   "source": [
    "glob('../data/big_data/*.txt')"
   ]
  },
  {
   "cell_type": "code",
   "execution_count": 19,
   "metadata": {},
   "outputs": [
    {
     "data": {
      "text/plain": [
       "['../data/big_data/CODEX_MRLdataset_neighborhood_graph.csv',\n",
       " '../data/big_data/BALBcMRLdataset_exposuretimes.csv',\n",
       " '../data/big_data/Suppl.Table2.CODEX_paper_MRLdatasetexpression.csv']"
      ]
     },
     "execution_count": 19,
     "metadata": {},
     "output_type": "execute_result"
    }
   ],
   "source": [
    "glob('../data/big_data/*.csv')"
   ]
  },
  {
   "cell_type": "markdown",
   "metadata": {},
   "source": [
    "### Expression Data\n",
    "See http://welikesharingdata.blob.core.windows.net/forshare/index.html\n",
    "\n",
    "* CSV file contains mean marker intensities and X, Y, Z corrdinates for each cell relative to the top left corner of its tile. \n",
    "* Tile IDs correspond to tile images sorted in the alphanumeric order\n",
    "* Size parameter corresponds to the cell object sizes in voxels\n",
    "* \"imaging phenotype Cluster ID\" column specifies the phenotypic cluster identity as determined by X-shift\n",
    "* \"niche Cluster ID\" column specifies the i-niche cluster determined by K-means (K=100)\n",
    "* neighborhood graph files describes which pairs of cells are adjacent to one another"
   ]
  },
  {
   "cell_type": "markdown",
   "metadata": {},
   "source": [
    "### Add X-Y position ID to the Cells\n",
    "This ID will be used to generate the neighborhood graph."
   ]
  },
  {
   "cell_type": "code",
   "execution_count": 20,
   "metadata": {},
   "outputs": [],
   "source": [
    "all_tiles = ['BALBc-1_X01_Y01', 'BALBc-1_X02_Y01', 'BALBc-1_X01_Y02', 'BALBc-1_X02_Y02']"
   ]
  },
  {
   "cell_type": "code",
   "execution_count": 21,
   "metadata": {},
   "outputs": [
    {
     "name": "stdout",
     "output_type": "stream",
     "text": [
      "CPU times: user 8.5 s, sys: 450 ms, total: 8.95 s\n",
      "Wall time: 8.74 s\n"
     ]
    }
   ],
   "source": [
    "%%time\n",
    "df['exp'] = pd.read_csv('../data/big_data/Suppl.Table2.CODEX_paper_MRLdatasetexpression.csv')"
   ]
  },
  {
   "cell_type": "code",
   "execution_count": 22,
   "metadata": {},
   "outputs": [
    {
     "data": {
      "text/plain": [
       "(734101, 38)"
      ]
     },
     "execution_count": 22,
     "metadata": {},
     "output_type": "execute_result"
    }
   ],
   "source": [
    "df['exp'].shape"
   ]
  },
  {
   "cell_type": "code",
   "execution_count": 23,
   "metadata": {},
   "outputs": [
    {
     "name": "stdout",
     "output_type": "stream",
     "text": [
      "(734101, 38)\n",
      "CPU times: user 2min 25s, sys: 1.14 s, total: 2min 26s\n",
      "Wall time: 2min 28s\n"
     ]
    }
   ],
   "source": [
    "%%time\n",
    "# new_rows = ['C-' + str(x) for x in df['exp'].index.tolist()]\n",
    "\n",
    "new_rows = []\n",
    "for inst_row in df['exp'].index.tolist():\n",
    "    inst_ser = df['exp'].loc[inst_row]\n",
    "    inst_x = inst_ser['X.X']\n",
    "    inst_y = inst_ser['Y.Y']\n",
    "    inst_tile = inst_ser['sample_Xtile_Ytile']\n",
    "    \n",
    "    new_row = 'C-' + str(inst_row) + '_' + inst_tile + '_' + str(inst_x) + '_' + str(inst_y)\n",
    "    # new_row = inst_tile + '_' + str(inst_x) + '_' + str(inst_y)\n",
    "    new_rows.append(new_row)\n",
    "\n",
    "df['exp'].index = new_rows\n",
    "print(df['exp'].shape)"
   ]
  },
  {
   "cell_type": "code",
   "execution_count": 24,
   "metadata": {},
   "outputs": [
    {
     "name": "stdout",
     "output_type": "stream",
     "text": [
      "734101\n",
      "734101\n"
     ]
    }
   ],
   "source": [
    "rows = df['exp'].index.tolist()\n",
    "print(len(rows))\n",
    "print(len(list(set(rows))))"
   ]
  },
  {
   "cell_type": "code",
   "execution_count": 25,
   "metadata": {},
   "outputs": [
    {
     "data": {
      "text/plain": [
       "'C-0_BALBc-3_X05_Y03_10_70'"
      ]
     },
     "execution_count": 25,
     "metadata": {},
     "output_type": "execute_result"
    }
   ],
   "source": [
    "df['exp'].index.tolist()[0]"
   ]
  },
  {
   "cell_type": "code",
   "execution_count": 26,
   "metadata": {},
   "outputs": [
    {
     "data": {
      "text/plain": [
       "'C-734100_MRL-5_X05_Y06_98_871'"
      ]
     },
     "execution_count": 26,
     "metadata": {},
     "output_type": "execute_result"
    }
   ],
   "source": [
    "new_row"
   ]
  },
  {
   "cell_type": "code",
   "execution_count": 27,
   "metadata": {},
   "outputs": [
    {
     "data": {
      "text/html": [
       "<div>\n",
       "<style scoped>\n",
       "    .dataframe tbody tr th:only-of-type {\n",
       "        vertical-align: middle;\n",
       "    }\n",
       "\n",
       "    .dataframe tbody tr th {\n",
       "        vertical-align: top;\n",
       "    }\n",
       "\n",
       "    .dataframe thead th {\n",
       "        text-align: right;\n",
       "    }\n",
       "</style>\n",
       "<table border=\"1\" class=\"dataframe\">\n",
       "  <thead>\n",
       "    <tr style=\"text-align: right;\">\n",
       "      <th></th>\n",
       "      <th>Imaging phenotype cluster ID</th>\n",
       "      <th>CD45</th>\n",
       "      <th>Ly6C</th>\n",
       "      <th>TCR</th>\n",
       "      <th>Ly6G</th>\n",
       "      <th>CD19</th>\n",
       "      <th>CD169</th>\n",
       "      <th>CD106</th>\n",
       "      <th>CD3</th>\n",
       "      <th>CD1632</th>\n",
       "      <th>...</th>\n",
       "      <th>CD44</th>\n",
       "      <th>NKp46</th>\n",
       "      <th>X.X</th>\n",
       "      <th>Y.Y</th>\n",
       "      <th>Z.Z</th>\n",
       "      <th>MHCII</th>\n",
       "      <th>blank_Cy3_cyc15</th>\n",
       "      <th>blank_Cy5_cyc15</th>\n",
       "      <th>sample_Xtile_Ytile</th>\n",
       "      <th>niche cluster ID</th>\n",
       "    </tr>\n",
       "  </thead>\n",
       "  <tbody>\n",
       "    <tr>\n",
       "      <th>C-0_BALBc-3_X05_Y03_10_70</th>\n",
       "      <td>9600</td>\n",
       "      <td>1577.675415</td>\n",
       "      <td>-154.301758</td>\n",
       "      <td>130.692184</td>\n",
       "      <td>-4.168493</td>\n",
       "      <td>560.691345</td>\n",
       "      <td>-504.231476</td>\n",
       "      <td>854.670105</td>\n",
       "      <td>-631.294189</td>\n",
       "      <td>385.935242</td>\n",
       "      <td>...</td>\n",
       "      <td>422.408691</td>\n",
       "      <td>515.130066</td>\n",
       "      <td>10</td>\n",
       "      <td>70</td>\n",
       "      <td>13</td>\n",
       "      <td>6712.812988</td>\n",
       "      <td>1665.967896</td>\n",
       "      <td>398.348389</td>\n",
       "      <td>BALBc-3_X05_Y03</td>\n",
       "      <td>32.0</td>\n",
       "    </tr>\n",
       "    <tr>\n",
       "      <th>C-1_BALBc-3_X01_Y02_1000_294</th>\n",
       "      <td>9600</td>\n",
       "      <td>1017.838440</td>\n",
       "      <td>-93.069397</td>\n",
       "      <td>144.076584</td>\n",
       "      <td>40.010998</td>\n",
       "      <td>885.595520</td>\n",
       "      <td>-391.357544</td>\n",
       "      <td>62.764454</td>\n",
       "      <td>-474.201172</td>\n",
       "      <td>-469.634583</td>\n",
       "      <td>...</td>\n",
       "      <td>448.701660</td>\n",
       "      <td>171.880310</td>\n",
       "      <td>1000</td>\n",
       "      <td>294</td>\n",
       "      <td>12</td>\n",
       "      <td>2024.678711</td>\n",
       "      <td>1287.959229</td>\n",
       "      <td>421.991425</td>\n",
       "      <td>BALBc-3_X01_Y02</td>\n",
       "      <td>99.0</td>\n",
       "    </tr>\n",
       "    <tr>\n",
       "      <th>C-2_BALBc-2_X05_Y04_1003_107</th>\n",
       "      <td>9600</td>\n",
       "      <td>5978.459961</td>\n",
       "      <td>-330.099365</td>\n",
       "      <td>139.631744</td>\n",
       "      <td>-82.840302</td>\n",
       "      <td>1747.897583</td>\n",
       "      <td>-395.508820</td>\n",
       "      <td>954.326782</td>\n",
       "      <td>-1026.204468</td>\n",
       "      <td>3744.718262</td>\n",
       "      <td>...</td>\n",
       "      <td>2229.804443</td>\n",
       "      <td>512.220764</td>\n",
       "      <td>1003</td>\n",
       "      <td>107</td>\n",
       "      <td>8</td>\n",
       "      <td>8647.193359</td>\n",
       "      <td>2817.173828</td>\n",
       "      <td>709.545105</td>\n",
       "      <td>BALBc-2_X05_Y04</td>\n",
       "      <td>74.0</td>\n",
       "    </tr>\n",
       "    <tr>\n",
       "      <th>C-3_BALBc-2_X03_Y04_1003_113</th>\n",
       "      <td>9600</td>\n",
       "      <td>6119.109375</td>\n",
       "      <td>-54.384808</td>\n",
       "      <td>-768.871704</td>\n",
       "      <td>25.625927</td>\n",
       "      <td>1065.311890</td>\n",
       "      <td>-485.535431</td>\n",
       "      <td>538.404175</td>\n",
       "      <td>-611.836426</td>\n",
       "      <td>865.842590</td>\n",
       "      <td>...</td>\n",
       "      <td>665.720459</td>\n",
       "      <td>351.108246</td>\n",
       "      <td>1003</td>\n",
       "      <td>113</td>\n",
       "      <td>13</td>\n",
       "      <td>4838.463379</td>\n",
       "      <td>1646.660278</td>\n",
       "      <td>408.523590</td>\n",
       "      <td>BALBc-2_X03_Y04</td>\n",
       "      <td>98.0</td>\n",
       "    </tr>\n",
       "    <tr>\n",
       "      <th>C-4_BALBc-2_X02_Y01_1003_148</th>\n",
       "      <td>9600</td>\n",
       "      <td>6272.474609</td>\n",
       "      <td>-235.512405</td>\n",
       "      <td>74.058075</td>\n",
       "      <td>-101.729919</td>\n",
       "      <td>1186.295044</td>\n",
       "      <td>-782.744995</td>\n",
       "      <td>1261.625366</td>\n",
       "      <td>-915.565552</td>\n",
       "      <td>1361.536011</td>\n",
       "      <td>...</td>\n",
       "      <td>2065.742676</td>\n",
       "      <td>259.003235</td>\n",
       "      <td>1003</td>\n",
       "      <td>148</td>\n",
       "      <td>9</td>\n",
       "      <td>5092.891602</td>\n",
       "      <td>2161.109131</td>\n",
       "      <td>713.416199</td>\n",
       "      <td>BALBc-2_X02_Y01</td>\n",
       "      <td>71.0</td>\n",
       "    </tr>\n",
       "  </tbody>\n",
       "</table>\n",
       "<p>5 rows × 38 columns</p>\n",
       "</div>"
      ],
      "text/plain": [
       "                              Imaging phenotype cluster ID         CD45  \\\n",
       "C-0_BALBc-3_X05_Y03_10_70                             9600  1577.675415   \n",
       "C-1_BALBc-3_X01_Y02_1000_294                          9600  1017.838440   \n",
       "C-2_BALBc-2_X05_Y04_1003_107                          9600  5978.459961   \n",
       "C-3_BALBc-2_X03_Y04_1003_113                          9600  6119.109375   \n",
       "C-4_BALBc-2_X02_Y01_1003_148                          9600  6272.474609   \n",
       "\n",
       "                                    Ly6C         TCR        Ly6G         CD19  \\\n",
       "C-0_BALBc-3_X05_Y03_10_70    -154.301758  130.692184   -4.168493   560.691345   \n",
       "C-1_BALBc-3_X01_Y02_1000_294  -93.069397  144.076584   40.010998   885.595520   \n",
       "C-2_BALBc-2_X05_Y04_1003_107 -330.099365  139.631744  -82.840302  1747.897583   \n",
       "C-3_BALBc-2_X03_Y04_1003_113  -54.384808 -768.871704   25.625927  1065.311890   \n",
       "C-4_BALBc-2_X02_Y01_1003_148 -235.512405   74.058075 -101.729919  1186.295044   \n",
       "\n",
       "                                   CD169        CD106          CD3  \\\n",
       "C-0_BALBc-3_X05_Y03_10_70    -504.231476   854.670105  -631.294189   \n",
       "C-1_BALBc-3_X01_Y02_1000_294 -391.357544    62.764454  -474.201172   \n",
       "C-2_BALBc-2_X05_Y04_1003_107 -395.508820   954.326782 -1026.204468   \n",
       "C-3_BALBc-2_X03_Y04_1003_113 -485.535431   538.404175  -611.836426   \n",
       "C-4_BALBc-2_X02_Y01_1003_148 -782.744995  1261.625366  -915.565552   \n",
       "\n",
       "                                   CD1632        ...                CD44  \\\n",
       "C-0_BALBc-3_X05_Y03_10_70      385.935242        ...          422.408691   \n",
       "C-1_BALBc-3_X01_Y02_1000_294  -469.634583        ...          448.701660   \n",
       "C-2_BALBc-2_X05_Y04_1003_107  3744.718262        ...         2229.804443   \n",
       "C-3_BALBc-2_X03_Y04_1003_113   865.842590        ...          665.720459   \n",
       "C-4_BALBc-2_X02_Y01_1003_148  1361.536011        ...         2065.742676   \n",
       "\n",
       "                                   NKp46   X.X  Y.Y  Z.Z        MHCII  \\\n",
       "C-0_BALBc-3_X05_Y03_10_70     515.130066    10   70   13  6712.812988   \n",
       "C-1_BALBc-3_X01_Y02_1000_294  171.880310  1000  294   12  2024.678711   \n",
       "C-2_BALBc-2_X05_Y04_1003_107  512.220764  1003  107    8  8647.193359   \n",
       "C-3_BALBc-2_X03_Y04_1003_113  351.108246  1003  113   13  4838.463379   \n",
       "C-4_BALBc-2_X02_Y01_1003_148  259.003235  1003  148    9  5092.891602   \n",
       "\n",
       "                              blank_Cy3_cyc15  blank_Cy5_cyc15  \\\n",
       "C-0_BALBc-3_X05_Y03_10_70         1665.967896       398.348389   \n",
       "C-1_BALBc-3_X01_Y02_1000_294      1287.959229       421.991425   \n",
       "C-2_BALBc-2_X05_Y04_1003_107      2817.173828       709.545105   \n",
       "C-3_BALBc-2_X03_Y04_1003_113      1646.660278       408.523590   \n",
       "C-4_BALBc-2_X02_Y01_1003_148      2161.109131       713.416199   \n",
       "\n",
       "                              sample_Xtile_Ytile  niche cluster ID  \n",
       "C-0_BALBc-3_X05_Y03_10_70        BALBc-3_X05_Y03              32.0  \n",
       "C-1_BALBc-3_X01_Y02_1000_294     BALBc-3_X01_Y02              99.0  \n",
       "C-2_BALBc-2_X05_Y04_1003_107     BALBc-2_X05_Y04              74.0  \n",
       "C-3_BALBc-2_X03_Y04_1003_113     BALBc-2_X03_Y04              98.0  \n",
       "C-4_BALBc-2_X02_Y01_1003_148     BALBc-2_X02_Y01              71.0  \n",
       "\n",
       "[5 rows x 38 columns]"
      ]
     },
     "execution_count": 27,
     "metadata": {},
     "output_type": "execute_result"
    }
   ],
   "source": [
    "df['exp'].head()"
   ]
  },
  {
   "cell_type": "code",
   "execution_count": 28,
   "metadata": {},
   "outputs": [
    {
     "data": {
      "text/plain": [
       "(734101, 38)"
      ]
     },
     "execution_count": 28,
     "metadata": {},
     "output_type": "execute_result"
    }
   ],
   "source": [
    "df['exp'].shape"
   ]
  },
  {
   "cell_type": "markdown",
   "metadata": {},
   "source": [
    "### Add Sample Column"
   ]
  },
  {
   "cell_type": "code",
   "execution_count": 29,
   "metadata": {},
   "outputs": [],
   "source": [
    "sample_list = [x.split('_')[0] for x in list(df['exp']['sample_Xtile_Ytile'].get_values())]\n",
    "ser_sample = pd.Series(sample_list, name='sample_slide', index=df['exp'].index.tolist())"
   ]
  },
  {
   "cell_type": "code",
   "execution_count": 30,
   "metadata": {},
   "outputs": [
    {
     "name": "stdout",
     "output_type": "stream",
     "text": [
      "9\n"
     ]
    },
    {
     "data": {
      "text/plain": [
       "['BALBc-1',\n",
       " 'BALBc-2',\n",
       " 'BALBc-3',\n",
       " 'MRL-4',\n",
       " 'MRL-5',\n",
       " 'MRL-6',\n",
       " 'MRL-7',\n",
       " 'MRL-8',\n",
       " 'MRL-9']"
      ]
     },
     "execution_count": 30,
     "metadata": {},
     "output_type": "execute_result"
    }
   ],
   "source": [
    "print(len(sorted(list(set(sample_list)))))\n",
    "list_slides = sorted(list(set(sample_list)))\n",
    "list_slides"
   ]
  },
  {
   "cell_type": "code",
   "execution_count": 31,
   "metadata": {},
   "outputs": [],
   "source": [
    "df['exp']['sample_slide'] = ser_sample"
   ]
  },
  {
   "cell_type": "code",
   "execution_count": 32,
   "metadata": {},
   "outputs": [
    {
     "data": {
      "text/plain": [
       "BALBc-1    85572\n",
       "BALBc-2    85298\n",
       "BALBc-3    83787\n",
       "MRL-7      83335\n",
       "MRL-8      82626\n",
       "MRL-9      81156\n",
       "MRL-6      81052\n",
       "MRL-4      77848\n",
       "MRL-5      73427\n",
       "Name: sample_slide, dtype: int64"
      ]
     },
     "execution_count": 32,
     "metadata": {},
     "output_type": "execute_result"
    }
   ],
   "source": [
    "ser_sample.value_counts()"
   ]
  },
  {
   "cell_type": "code",
   "execution_count": 33,
   "metadata": {},
   "outputs": [
    {
     "data": {
      "text/plain": [
       "['Imaging phenotype cluster ID',\n",
       " 'CD45',\n",
       " 'Ly6C',\n",
       " 'TCR',\n",
       " 'Ly6G',\n",
       " 'CD19',\n",
       " 'CD169',\n",
       " 'CD106',\n",
       " 'CD3',\n",
       " 'CD1632',\n",
       " 'CD8a',\n",
       " 'CD90',\n",
       " 'F480',\n",
       " 'CD11c',\n",
       " 'Ter119',\n",
       " 'CD11b',\n",
       " 'IgD',\n",
       " 'CD27',\n",
       " 'CD5',\n",
       " 'CD79b',\n",
       " 'CD71',\n",
       " 'CD31',\n",
       " 'CD4',\n",
       " 'IgM',\n",
       " 'B220',\n",
       " 'ERTR7',\n",
       " 'CD35',\n",
       " 'CD2135',\n",
       " 'CD44',\n",
       " 'NKp46',\n",
       " 'X.X',\n",
       " 'Y.Y',\n",
       " 'Z.Z',\n",
       " 'MHCII',\n",
       " 'blank_Cy3_cyc15',\n",
       " 'blank_Cy5_cyc15',\n",
       " 'sample_Xtile_Ytile',\n",
       " 'niche cluster ID',\n",
       " 'sample_slide']"
      ]
     },
     "execution_count": 33,
     "metadata": {},
     "output_type": "execute_result"
    }
   ],
   "source": [
    "cols = df['exp'].columns.tolist()\n",
    "cols"
   ]
  },
  {
   "cell_type": "code",
   "execution_count": 34,
   "metadata": {},
   "outputs": [
    {
     "data": {
      "text/plain": [
       "['CD45',\n",
       " 'Ly6C',\n",
       " 'TCR',\n",
       " 'Ly6G',\n",
       " 'CD19',\n",
       " 'CD169',\n",
       " 'CD106',\n",
       " 'CD3',\n",
       " 'CD1632',\n",
       " 'CD8a',\n",
       " 'CD90',\n",
       " 'F480',\n",
       " 'CD11c',\n",
       " 'Ter119',\n",
       " 'CD11b',\n",
       " 'IgD',\n",
       " 'CD27',\n",
       " 'CD5',\n",
       " 'CD79b',\n",
       " 'CD71',\n",
       " 'CD31',\n",
       " 'CD4',\n",
       " 'IgM',\n",
       " 'B220',\n",
       " 'ERTR7',\n",
       " 'CD35',\n",
       " 'CD2135',\n",
       " 'CD44',\n",
       " 'NKp46']"
      ]
     },
     "execution_count": 34,
     "metadata": {},
     "output_type": "execute_result"
    }
   ],
   "source": [
    "exp_cols = cols[1:30]\n",
    "exp_cols"
   ]
  },
  {
   "cell_type": "code",
   "execution_count": 35,
   "metadata": {},
   "outputs": [
    {
     "name": "stdout",
     "output_type": "stream",
     "text": [
      "Imaging phenotype cluster ID 58\n",
      "CD45 726877\n",
      "Ly6C 731257\n",
      "TCR 731035\n",
      "Ly6G 729442\n",
      "CD19 726981\n",
      "CD169 730498\n",
      "CD106 727870\n",
      "CD3 730526\n",
      "CD1632 728506\n",
      "CD8a 728773\n",
      "CD90 728172\n",
      "F480 731091\n",
      "CD11c 725943\n",
      "Ter119 728879\n",
      "CD11b 725897\n",
      "IgD 730293\n",
      "CD27 727817\n",
      "CD5 730295\n",
      "CD79b 727003\n",
      "CD71 729364\n",
      "CD31 725039\n",
      "CD4 730112\n",
      "IgM 727925\n",
      "B220 729995\n",
      "ERTR7 729781\n",
      "CD35 728492\n",
      "CD2135 729290\n",
      "CD44 727003\n",
      "NKp46 723719\n",
      "X.X 1342\n",
      "Y.Y 1006\n",
      "Z.Z 15\n",
      "MHCII 729269\n",
      "blank_Cy3_cyc15 721818\n",
      "blank_Cy5_cyc15 720065\n",
      "sample_Xtile_Ytile 565\n",
      "niche cluster ID 101\n",
      "sample_slide 9\n"
     ]
    }
   ],
   "source": [
    "unique_dict = {}\n",
    "for inst_col in cols:\n",
    "    inst_list_unique = list(df['exp'][inst_col].unique())\n",
    "    unique_dict[inst_col] = inst_list_unique    \n",
    "    inst_num_unique = len(inst_list_unique)\n",
    "    print(inst_col, inst_num_unique)"
   ]
  },
  {
   "cell_type": "markdown",
   "metadata": {},
   "source": [
    "### Select Single Image Tile\n",
    "BALBc: normal tissue\n",
    "MRL/lpr: spleen from animals with systemic autoimmune disease\n",
    "\n",
    "Start with: 'BALBc-1_X01_Y01'"
   ]
  },
  {
   "cell_type": "code",
   "execution_count": 36,
   "metadata": {
    "scrolled": true
   },
   "outputs": [
    {
     "name": "stdout",
     "output_type": "stream",
     "text": [
      "inst_df (39, 1127)\n",
      "inst_df (39, 1247)\n",
      "inst_df (39, 1481)\n",
      "inst_df (39, 1291)\n",
      "(39, 5146)\n"
     ]
    },
    {
     "data": {
      "text/plain": [
       "(39, 5146)"
      ]
     },
     "execution_count": 36,
     "metadata": {},
     "output_type": "execute_result"
    }
   ],
   "source": [
    "df_list = []\n",
    "\n",
    "\n",
    "for inst_tile in all_tiles:\n",
    "# for inst_tile in ['BALBc-1_X01_Y01', 'BALBc-1_X02_Y01']:\n",
    "# for inst_tile in ['BALBc-1_X01_Y02', 'BALBc-1_X02_Y02']:    \n",
    "    keep_rows = []\n",
    "\n",
    "    ser_tile = df['exp']['sample_Xtile_Ytile']\n",
    "    ser_found = ser_tile[ser_tile == inst_tile]\n",
    "    \n",
    "    keep_rows.extend(ser_found.index.tolist())\n",
    "    inst_df = df['exp'].loc[keep_rows].transpose()\n",
    "    print('inst_df', inst_df.shape)\n",
    "    \n",
    "    if 'X02' in inst_tile:\n",
    "        inst_df.loc['X.X'] = inst_df.loc['X.X'] + 1350\n",
    "\n",
    "    if 'Y01' in inst_tile:        \n",
    "        inst_df.loc['Y.Y'] = 2000 - inst_df.loc['Y.Y']\n",
    "    \n",
    "    if 'Y02' in inst_tile:\n",
    "        inst_df.loc['Y.Y'] = 1000 - inst_df.loc['Y.Y'] \n",
    "        \n",
    "    df_list.append(inst_df)\n",
    "    \n",
    "    \n",
    "# df['tile'] = df['exp'].loc[keep_rows].transpose()\n",
    "df['tile'] = pd.concat(df_list, axis=1)\n",
    "print(df['tile'].shape)\n",
    "\n",
    "cats = df['tile'].loc['Imaging phenotype cluster ID']\n",
    "cats = [ct_dict[x] for x in cats]\n",
    "\n",
    "new_cols = []\n",
    "\n",
    "cols = df['tile'].columns.tolist()\n",
    "for index in range(len(cols)):\n",
    "    \n",
    "    new_col = (cols[index], 'Cell Type: ' + str(cats[index]))\n",
    "    new_cols.append(new_col)\n",
    "df['tile'].columns = new_cols\n",
    "df['tile'].shape"
   ]
  },
  {
   "cell_type": "code",
   "execution_count": 37,
   "metadata": {},
   "outputs": [
    {
     "data": {
      "text/plain": [
       "('C-643_BALBc-1_X01_Y01_10_277', 'Cell Type: B cells')"
      ]
     },
     "execution_count": 37,
     "metadata": {},
     "output_type": "execute_result"
    }
   ],
   "source": [
    "df['tile'].columns.tolist()[0]"
   ]
  },
  {
   "cell_type": "markdown",
   "metadata": {},
   "source": [
    "### Plot Tile Expression Levels"
   ]
  },
  {
   "cell_type": "code",
   "execution_count": 38,
   "metadata": {},
   "outputs": [
    {
     "data": {
      "text/plain": [
       "(29, 5146)"
      ]
     },
     "execution_count": 38,
     "metadata": {},
     "output_type": "execute_result"
    }
   ],
   "source": [
    "df['tile-exp-ini'] = df['tile'].loc[exp_cols]\n",
    "df['tile-exp-ini'].shape"
   ]
  },
  {
   "cell_type": "markdown",
   "metadata": {},
   "source": [
    "### Set Negative Expression Levels to Zero"
   ]
  },
  {
   "cell_type": "code",
   "execution_count": 39,
   "metadata": {},
   "outputs": [],
   "source": [
    "df['tile-exp'] = df['tile-exp-ini']\n",
    "df['tile-exp'][df['tile-exp'] < 0] = 0"
   ]
  },
  {
   "cell_type": "code",
   "execution_count": 40,
   "metadata": {},
   "outputs": [
    {
     "data": {
      "text/html": [
       "<div>\n",
       "<style scoped>\n",
       "    .dataframe tbody tr th:only-of-type {\n",
       "        vertical-align: middle;\n",
       "    }\n",
       "\n",
       "    .dataframe tbody tr th {\n",
       "        vertical-align: top;\n",
       "    }\n",
       "\n",
       "    .dataframe thead th {\n",
       "        text-align: right;\n",
       "    }\n",
       "</style>\n",
       "<table border=\"1\" class=\"dataframe\">\n",
       "  <thead>\n",
       "    <tr style=\"text-align: right;\">\n",
       "      <th></th>\n",
       "      <th>CD45</th>\n",
       "      <th>Ly6C</th>\n",
       "      <th>TCR</th>\n",
       "      <th>Ly6G</th>\n",
       "      <th>CD19</th>\n",
       "      <th>CD169</th>\n",
       "      <th>CD106</th>\n",
       "      <th>CD3</th>\n",
       "      <th>CD1632</th>\n",
       "      <th>CD8a</th>\n",
       "      <th>...</th>\n",
       "      <th>CD71</th>\n",
       "      <th>CD31</th>\n",
       "      <th>CD4</th>\n",
       "      <th>IgM</th>\n",
       "      <th>B220</th>\n",
       "      <th>ERTR7</th>\n",
       "      <th>CD35</th>\n",
       "      <th>CD2135</th>\n",
       "      <th>CD44</th>\n",
       "      <th>NKp46</th>\n",
       "    </tr>\n",
       "  </thead>\n",
       "  <tbody>\n",
       "    <tr>\n",
       "      <th>count</th>\n",
       "      <td>5146.0</td>\n",
       "      <td>5146.0</td>\n",
       "      <td>5146.0</td>\n",
       "      <td>5146.0</td>\n",
       "      <td>5146.0</td>\n",
       "      <td>5146.0</td>\n",
       "      <td>5146.0</td>\n",
       "      <td>5146.0</td>\n",
       "      <td>5146.0</td>\n",
       "      <td>5146.0</td>\n",
       "      <td>...</td>\n",
       "      <td>5146.0</td>\n",
       "      <td>5146.0</td>\n",
       "      <td>5146.0</td>\n",
       "      <td>5146.0</td>\n",
       "      <td>5146.0</td>\n",
       "      <td>5146.0</td>\n",
       "      <td>5146.0</td>\n",
       "      <td>5146.0</td>\n",
       "      <td>5146.0</td>\n",
       "      <td>5146.0</td>\n",
       "    </tr>\n",
       "    <tr>\n",
       "      <th>unique</th>\n",
       "      <td>4726.0</td>\n",
       "      <td>2276.0</td>\n",
       "      <td>3872.0</td>\n",
       "      <td>3101.0</td>\n",
       "      <td>4709.0</td>\n",
       "      <td>2543.0</td>\n",
       "      <td>4739.0</td>\n",
       "      <td>1769.0</td>\n",
       "      <td>4661.0</td>\n",
       "      <td>3991.0</td>\n",
       "      <td>...</td>\n",
       "      <td>3788.0</td>\n",
       "      <td>4900.0</td>\n",
       "      <td>3512.0</td>\n",
       "      <td>4588.0</td>\n",
       "      <td>4188.0</td>\n",
       "      <td>4417.0</td>\n",
       "      <td>4711.0</td>\n",
       "      <td>4118.0</td>\n",
       "      <td>4356.0</td>\n",
       "      <td>4926.0</td>\n",
       "    </tr>\n",
       "    <tr>\n",
       "      <th>top</th>\n",
       "      <td>0.0</td>\n",
       "      <td>0.0</td>\n",
       "      <td>0.0</td>\n",
       "      <td>0.0</td>\n",
       "      <td>0.0</td>\n",
       "      <td>0.0</td>\n",
       "      <td>0.0</td>\n",
       "      <td>0.0</td>\n",
       "      <td>0.0</td>\n",
       "      <td>0.0</td>\n",
       "      <td>...</td>\n",
       "      <td>0.0</td>\n",
       "      <td>0.0</td>\n",
       "      <td>0.0</td>\n",
       "      <td>0.0</td>\n",
       "      <td>0.0</td>\n",
       "      <td>0.0</td>\n",
       "      <td>0.0</td>\n",
       "      <td>0.0</td>\n",
       "      <td>0.0</td>\n",
       "      <td>0.0</td>\n",
       "    </tr>\n",
       "    <tr>\n",
       "      <th>freq</th>\n",
       "      <td>421.0</td>\n",
       "      <td>2871.0</td>\n",
       "      <td>1274.0</td>\n",
       "      <td>2046.0</td>\n",
       "      <td>437.0</td>\n",
       "      <td>2604.0</td>\n",
       "      <td>408.0</td>\n",
       "      <td>3378.0</td>\n",
       "      <td>486.0</td>\n",
       "      <td>1156.0</td>\n",
       "      <td>...</td>\n",
       "      <td>1358.0</td>\n",
       "      <td>244.0</td>\n",
       "      <td>1635.0</td>\n",
       "      <td>559.0</td>\n",
       "      <td>959.0</td>\n",
       "      <td>729.0</td>\n",
       "      <td>436.0</td>\n",
       "      <td>1029.0</td>\n",
       "      <td>791.0</td>\n",
       "      <td>221.0</td>\n",
       "    </tr>\n",
       "  </tbody>\n",
       "</table>\n",
       "<p>4 rows × 29 columns</p>\n",
       "</div>"
      ],
      "text/plain": [
       "          CD45    Ly6C     TCR    Ly6G    CD19   CD169   CD106     CD3  \\\n",
       "count   5146.0  5146.0  5146.0  5146.0  5146.0  5146.0  5146.0  5146.0   \n",
       "unique  4726.0  2276.0  3872.0  3101.0  4709.0  2543.0  4739.0  1769.0   \n",
       "top        0.0     0.0     0.0     0.0     0.0     0.0     0.0     0.0   \n",
       "freq     421.0  2871.0  1274.0  2046.0   437.0  2604.0   408.0  3378.0   \n",
       "\n",
       "        CD1632    CD8a   ...      CD71    CD31     CD4     IgM    B220  \\\n",
       "count   5146.0  5146.0   ...    5146.0  5146.0  5146.0  5146.0  5146.0   \n",
       "unique  4661.0  3991.0   ...    3788.0  4900.0  3512.0  4588.0  4188.0   \n",
       "top        0.0     0.0   ...       0.0     0.0     0.0     0.0     0.0   \n",
       "freq     486.0  1156.0   ...    1358.0   244.0  1635.0   559.0   959.0   \n",
       "\n",
       "         ERTR7    CD35  CD2135    CD44   NKp46  \n",
       "count   5146.0  5146.0  5146.0  5146.0  5146.0  \n",
       "unique  4417.0  4711.0  4118.0  4356.0  4926.0  \n",
       "top        0.0     0.0     0.0     0.0     0.0  \n",
       "freq     729.0   436.0  1029.0   791.0   221.0  \n",
       "\n",
       "[4 rows x 29 columns]"
      ]
     },
     "execution_count": 40,
     "metadata": {},
     "output_type": "execute_result"
    }
   ],
   "source": [
    "df['tile-exp'].transpose().describe()"
   ]
  },
  {
   "cell_type": "code",
   "execution_count": 41,
   "metadata": {},
   "outputs": [],
   "source": [
    "df['tile-exp'][df['tile-exp'] > 5000] = 5000"
   ]
  },
  {
   "cell_type": "code",
   "execution_count": 42,
   "metadata": {},
   "outputs": [
    {
     "data": {
      "text/plain": [
       "(29, 5146)"
      ]
     },
     "execution_count": 42,
     "metadata": {},
     "output_type": "execute_result"
    }
   ],
   "source": [
    "df['tile-exp'].shape"
   ]
  },
  {
   "cell_type": "code",
   "execution_count": 43,
   "metadata": {},
   "outputs": [
    {
     "data": {
      "text/plain": [
       "(C-643_BALBc-1_X01_Y01_10_277, Cell Type: B cells)       9\n",
       "(C-1264_BALBc-1_X01_Y01_1006_490, Cell Type: B cells)    9\n",
       "(C-1589_BALBc-1_X01_Y01_101_504, Cell Type: B cells)     9\n",
       "(C-1611_BALBc-1_X01_Y01_101_759, Cell Type: B cells)     8\n",
       "(C-1873_BALBc-1_X01_Y01_1013_254, Cell Type: B cells)    6\n",
       "Name: Z.Z, dtype: object"
      ]
     },
     "execution_count": 43,
     "metadata": {},
     "output_type": "execute_result"
    }
   ],
   "source": [
    "df['tile'].loc['Z.Z'].head()"
   ]
  },
  {
   "cell_type": "markdown",
   "metadata": {},
   "source": [
    "### Location of Cells"
   ]
  },
  {
   "cell_type": "code",
   "execution_count": 44,
   "metadata": {},
   "outputs": [
    {
     "data": {
      "text/plain": [
       "(5146, 2)"
      ]
     },
     "execution_count": 44,
     "metadata": {},
     "output_type": "execute_result"
    }
   ],
   "source": [
    "df['tile-loc'] = df['tile'].loc[['X.X', 'Y.Y']].transpose()\n",
    "df['tile-loc'].shape"
   ]
  },
  {
   "cell_type": "code",
   "execution_count": 45,
   "metadata": {},
   "outputs": [],
   "source": [
    "# df['tile-loc']['Y.Y'] = 1000 - df['tile-loc']['Y.Y'] "
   ]
  },
  {
   "cell_type": "code",
   "execution_count": 46,
   "metadata": {},
   "outputs": [],
   "source": [
    "df['tile-loc'] = df['tile-loc'].astype('int')"
   ]
  },
  {
   "cell_type": "code",
   "execution_count": 47,
   "metadata": {},
   "outputs": [],
   "source": [
    "def set_expression_opacity(inst_gene):\n",
    "    ser_opacity = df['tile-exp'].loc[inst_gene]\n",
    "    list_opacity = [float(x/ser_opacity.max()) for x in list(ser_opacity.get_values())]\n",
    "    scatter.default_opacities = list_opacity"
   ]
  },
  {
   "cell_type": "code",
   "execution_count": 50,
   "metadata": {},
   "outputs": [
    {
     "data": {
      "text/plain": [
       "5146"
      ]
     },
     "execution_count": 50,
     "metadata": {},
     "output_type": "execute_result"
    }
   ],
   "source": [
    "len(df['tile-loc'].index.tolist())"
   ]
  },
  {
   "cell_type": "code",
   "execution_count": 48,
   "metadata": {},
   "outputs": [],
   "source": [
    "fig = plt.figure(title='Scatter')\n",
    "def_tt = bqplot.Tooltip(fields=['name'], formats=[''])\n",
    "\n",
    "scatter = plt.scatter(df['tile-loc']['X.X'], \n",
    "                      df['tile-loc']['Y.Y'], \n",
    "                      figsize=(20,10), \n",
    "                      ylim=(0,1000), \n",
    "                      xlim=(0,1000), stroke='black', \n",
    "                      tooltip=def_tt, \n",
    "                      names=df['tile-loc'].index.tolist(), \n",
    "                      display_names=False)\n",
    "\n",
    "inst_width = 900\n",
    "fig.layout.min_height = str(inst_width/1.2) + 'px'\n",
    "fig.layout.min_width = str(inst_width) + 'px'\n",
    "\n",
    "set_expression_opacity('NKp46')\n",
    "\n",
    "scatter.default_size = 100\n",
    "scatter.colors = ['red']"
   ]
  },
  {
   "cell_type": "markdown",
   "metadata": {},
   "source": [
    "### Using RGB to HEX\n",
    "https://www.rgbtohex.net/"
   ]
  },
  {
   "cell_type": "code",
   "execution_count": null,
   "metadata": {},
   "outputs": [],
   "source": [
    "cat_colors = {}\n",
    "# A \n",
    "cat_colors['NK cells'] = '#FB0006'\n",
    "# B\n",
    "cat_colors['granulocytes'] = '#FA1400'\n",
    "# C \n",
    "cat_colors['CD4(-)CD8(-) cDC'] = '#FC4B08'\n",
    "# D \n",
    "cat_colors['B220(+) DN T cells'] = '#FD8007'\n",
    "# E \n",
    "cat_colors['plasma cells'] = '#FDBA0A'\n",
    "# F \n",
    "cat_colors['F4/80(+) mphs'] = '#FFF80B'\n",
    "# G \n",
    "cat_colors['FDCs'] = '#FC9CA0'\n",
    "# H\n",
    "cat_colors['CD11c(+) B cells'] = '#99FF06'\n",
    "# I \n",
    "cat_colors['capsule'] = '#68FF0A'\n",
    "# J \n",
    "cat_colors['marginal zone mphs'] = '#0A4600'\n",
    "# K \n",
    "cat_colors['noid'] = '#25FF04'\n",
    "# L \n",
    "cat_colors['B cells'] = '#FFFF09'\n",
    "# M\n",
    "cat_colors['erythroblasts'] = '#1FFF3C'\n",
    "# N\n",
    "cat_colors['CD106(+)CD16/32(+)CD31(+) stroma'] = '#23FF6D'\n",
    "# O\n",
    "cat_colors['CD4(-)CD8(+)cDC'] = '#23FFA3'\n",
    "# P \n",
    "cat_colors['CD106(-)CD16/32(-)Ly6C(+)CD31(+) stroma'] = '#20FFDD'\n",
    "# Q\n",
    "cat_colors['megakaryocytes'] = '#1CE5FF'\n",
    "# R \n",
    "cat_colors['CD106(-)CD16/32(+)Ly6C(+)CD31(-)'] = '#15A7FF'\n",
    "# S\n",
    "cat_colors['CD4(+) T cells'] = '#0D6FFF'\n",
    "# T\n",
    "cat_colors['CD4(+)MHCII(+)'] = '#0137FF'\n",
    "# Ud\n",
    "cat_colors['CD31(hi) vascular'] = '#0000FF'\n",
    "# V\n",
    "cat_colors['CD3(+) other markers (-)'] = '#0700FF'\n",
    "# W\n",
    "cat_colors['CD106(+)CD16/32(+)CD31(-)Ly6C(-) stroma'] = '#2D00FF'\n",
    "# X\n",
    "cat_colors['CD8(+) T cells'] = '#5900FF'\n",
    "# Y\n",
    "cat_colors['ERTR7(+) stroma'] = '#8C00FE'\n",
    "# Z\n",
    "cat_colors['CD106(+)CD16/32(-)Ly6C(+)CD31(+)'] = '#C300FF'\n",
    "# [\n",
    "cat_colors['CD4(+)CD8(-)cDC'] = '#FB00FA'\n",
    "# dirt\n",
    "cat_colors['dirt'] = '#BCBCBC'"
   ]
  },
  {
   "cell_type": "markdown",
   "metadata": {},
   "source": [
    "### Expression Levels"
   ]
  },
  {
   "cell_type": "code",
   "execution_count": null,
   "metadata": {},
   "outputs": [],
   "source": [
    "keep_cols = [x for x in df['tile-exp'].columns.tolist() if 'dirt' not in x[1]]\n",
    "df['tile-exp-clean'] = df['tile-exp'][keep_cols]\n",
    "df['tile-exp-clean'].shape"
   ]
  },
  {
   "cell_type": "code",
   "execution_count": null,
   "metadata": {},
   "outputs": [],
   "source": [
    "net.load_df(df['tile-exp-clean'])\n",
    "net.set_cat_colors(axis='col', cat_colors=cat_colors, cat_index=1, cat_title='Cell Type')"
   ]
  },
  {
   "cell_type": "code",
   "execution_count": null,
   "metadata": {},
   "outputs": [],
   "source": [
    "net.load_df(df['tile-exp-clean'])\n",
    "net.widget()"
   ]
  },
  {
   "cell_type": "markdown",
   "metadata": {},
   "source": [
    "### Voronoi Plot"
   ]
  },
  {
   "cell_type": "code",
   "execution_count": null,
   "metadata": {},
   "outputs": [],
   "source": [
    "from scipy.spatial import Voronoi\n",
    "vor = Voronoi(df['tile-loc'])"
   ]
  },
  {
   "cell_type": "code",
   "execution_count": null,
   "metadata": {},
   "outputs": [],
   "source": [
    "point_list = df['tile-loc'].index.tolist()\n",
    "point_names = [x[0] for x in point_list]\n",
    "cat_names   = [x[1].split(': ')[1] for x in point_list]"
   ]
  },
  {
   "cell_type": "code",
   "execution_count": null,
   "metadata": {},
   "outputs": [],
   "source": [
    "patch_data = {}\n",
    "patch_data['x'] = []\n",
    "patch_data['y'] = []\n",
    "patch_data['colors'] = []\n",
    "region_labels = []\n",
    "\n",
    "region_point_dict = {}\n",
    "for point_index in range(vor.point_region.shape[0]):\n",
    "    region_index = vor.point_region[point_index]\n",
    "    region_point_dict[region_index] = point_index\n",
    "\n",
    "for region_index in range(len(vor.regions)):\n",
    "    \n",
    "    inst_region = vor.regions[region_index]\n",
    "\n",
    "    if -1 not in inst_region and len(inst_region) > 0:\n",
    "\n",
    "        point_index = region_point_dict[region_index]\n",
    "        point_cat = cat_names[point_index]\n",
    "        region_labels.append(point_cat)\n",
    "        \n",
    "        # save cat_colors\n",
    "        inst_color = cat_colors[point_cat]\n",
    "        patch_data['colors'].append(inst_color)\n",
    "        \n",
    "        x_list = []\n",
    "        y_list = []\n",
    "        for inst_vertex in inst_region:\n",
    "            inst_pos = vor.vertices[inst_vertex]\n",
    "            x_list.append(inst_pos[0])\n",
    "            y_list.append(inst_pos[1])\n",
    "            \n",
    "        patch_data['x'].append(x_list)\n",
    "        patch_data['y'].append(y_list)    "
   ]
  },
  {
   "cell_type": "code",
   "execution_count": null,
   "metadata": {},
   "outputs": [],
   "source": [
    "import bqplot.pyplot as plt\n",
    "fig = plt.figure(animation_duration=1000)\n",
    "patch = plt.plot([], [], \n",
    "                 fill='inside',\n",
    "                 fill_colors=patch_data['colors'],\n",
    "                 stroke_width=1,\n",
    "                 close_path=True,\n",
    "                 labels=region_labels,\n",
    "                 tooltip=def_tt,\n",
    "                 axes_options={'x': {'visible': False}, 'y': {'visible': False}},\n",
    "                )\n",
    "\n",
    "scatter = plt.scatter(df['tile-loc']['X.X'], \n",
    "                      df['tile-loc']['Y.Y'],\n",
    "#                       tooltip=def_tt, \n",
    "                      names=point_names,\n",
    "                      display_names=False, default_size=2)\n",
    "\n",
    "\n",
    "inst_width = 950\n",
    "fig.layout.min_height = str(inst_width/(1.15)) + 'px'\n",
    "fig.layout.min_width  = str(inst_width) + 'px'\n",
    "\n",
    "patch.x = patch_data['x']\n",
    "patch.y = patch_data['y']\n",
    "\n",
    "plt.xlim(0, 2.0*x_dim)\n",
    "plt.ylim(0, 2.0*y_dim)\n",
    "\n",
    "fig\n",
    "# plt.show()"
   ]
  },
  {
   "cell_type": "code",
   "execution_count": null,
   "metadata": {},
   "outputs": [],
   "source": [
    "def mouseover_highlight(self, target):\n",
    "    # print('cat name', target['data']['name'])\n",
    "    list_opacities = []\n",
    "    for inst_label in region_labels:\n",
    "        inst_opacity = 0.25\n",
    "        if inst_label == target['data']['name']:\n",
    "            inst_opacity = 1\n",
    "        list_opacities.append(inst_opacity)\n",
    "\n",
    "    self.opacities = list_opacities"
   ]
  },
  {
   "cell_type": "code",
   "execution_count": null,
   "metadata": {},
   "outputs": [],
   "source": [
    "def reset_highlight(self, target):\n",
    "#     print('CLICKING')\n",
    "    list_opacities = [1 for x in region_labels]\n",
    "    self.opacities = list_opacities"
   ]
  },
  {
   "cell_type": "code",
   "execution_count": null,
   "metadata": {},
   "outputs": [],
   "source": [
    "patch.on_hover(mouseover_highlight)\n",
    "patch.on_element_click(reset_highlight)"
   ]
  },
  {
   "cell_type": "code",
   "execution_count": null,
   "metadata": {},
   "outputs": [],
   "source": [
    "cells = df['tile-loc'].index.tolist()\n",
    "len(cells)"
   ]
  },
  {
   "cell_type": "code",
   "execution_count": null,
   "metadata": {},
   "outputs": [],
   "source": [
    "df['tile-loc'].transpose()"
   ]
  },
  {
   "cell_type": "code",
   "execution_count": null,
   "metadata": {},
   "outputs": [],
   "source": [
    "from scipy.spatial.distance import pdist, squareform"
   ]
  },
  {
   "cell_type": "code",
   "execution_count": null,
   "metadata": {},
   "outputs": [],
   "source": [
    "mat_cd = pdist(df['tile-loc'], metric='euclidean')"
   ]
  },
  {
   "cell_type": "code",
   "execution_count": null,
   "metadata": {},
   "outputs": [],
   "source": [
    "dist_mat = squareform(mat_cd)\n",
    "dist_mat.shape"
   ]
  },
  {
   "cell_type": "code",
   "execution_count": null,
   "metadata": {},
   "outputs": [],
   "source": [
    "d"
   ]
  },
  {
   "cell_type": "code",
   "execution_count": null,
   "metadata": {},
   "outputs": [],
   "source": [
    "df['dist'].head()"
   ]
  },
  {
   "cell_type": "code",
   "execution_count": null,
   "metadata": {},
   "outputs": [],
   "source": []
  },
  {
   "cell_type": "code",
   "execution_count": null,
   "metadata": {},
   "outputs": [],
   "source": [
    "# df['dist'][inst_col].hist()"
   ]
  },
  {
   "cell_type": "code",
   "execution_count": null,
   "metadata": {},
   "outputs": [],
   "source": [
    "# ser_hood = inst_ser[inst_ser < 100]"
   ]
  },
  {
   "cell_type": "code",
   "execution_count": null,
   "metadata": {},
   "outputs": [],
   "source": [
    "# ser_hoodod.shape"
   ]
  },
  {
   "cell_type": "code",
   "execution_count": null,
   "metadata": {},
   "outputs": [],
   "source": [
    "num_nn = 10\n",
    "list_cell_density = []\n",
    "list_nn_dist = []\n",
    "for inst_col in df['dist'].columns.tolist():\n",
    "    # skip self distance of zero\n",
    "    inst_ser = df['dist'][inst_col].sort_values()[1:]\n",
    "    \n",
    "    ser_nn = inst_ser[:num_nn]\n",
    "    \n",
    "    # find nearest neighbor cell type distribution\n",
    "    nn_names = ser_nn.index.tolist()\n",
    "    nn_cats = [x[1].split(': ')[1] for x in nn_names]\n",
    "    nn_dist = pd.Series(nn_cats).value_counts()/num_nn\n",
    "    \n",
    "    # number of cells in 100px neighborhood\n",
    "    cell_density = inst_ser[inst_ser < 100].shape[0]\n",
    "    list_cell_density.append(cell_density)\n",
    "\n",
    "    nn_dist.name = (inst_col[0], inst_col[1], 'NN CT: ' + nn_dist.index.tolist()[0], 'Density: ' + str(cell_density))\n",
    "    list_nn_dist.append(nn_dist)\n",
    "\n",
    "df['nn-dist'] = pd.concat(list_nn_dist, axis=1, sort=True).fillna(0)    "
   ]
  },
  {
   "cell_type": "code",
   "execution_count": null,
   "metadata": {},
   "outputs": [],
   "source": [
    "# nn_dist"
   ]
  },
  {
   "cell_type": "code",
   "execution_count": null,
   "metadata": {},
   "outputs": [],
   "source": [
    "net.load_df(df['nn-dist'])\n",
    "net.set_cat_colors(axis='col', cat_colors=cat_colors, cat_index=2, cat_title='NN CT')"
   ]
  },
  {
   "cell_type": "markdown",
   "metadata": {},
   "source": [
    "# Neighborhood Graph"
   ]
  },
  {
   "cell_type": "code",
   "execution_count": null,
   "metadata": {},
   "outputs": [],
   "source": [
    "df['exp'].index.tolist()[0]"
   ]
  },
  {
   "cell_type": "code",
   "execution_count": null,
   "metadata": {},
   "outputs": [],
   "source": [
    "df['neighbor'] = pd.read_csv('../data/big_data/CODEX_MRLdataset_neighborhood_graph.csv')\n",
    "df['neighbor'].shape"
   ]
  },
  {
   "cell_type": "code",
   "execution_count": null,
   "metadata": {},
   "outputs": [],
   "source": [
    "df['neighbor'].head()"
   ]
  },
  {
   "cell_type": "code",
   "execution_count": null,
   "metadata": {},
   "outputs": [],
   "source": [
    "all_tiles = ['BALBc-1_X01_Y01', 'BALBc-1_X02_Y01', 'BALBc-1_X01_Y02', 'BALBc-1_X02_Y02']"
   ]
  },
  {
   "cell_type": "markdown",
   "metadata": {},
   "source": [
    "### Make Dictionary of Nieghbor Cells and Neighbor Cell Types"
   ]
  },
  {
   "cell_type": "code",
   "execution_count": null,
   "metadata": {},
   "outputs": [],
   "source": [
    "%%time\n",
    "neighbor_graph = {}\n",
    "ct_graph = {}\n",
    "for inst_row in df['neighbor'].index.tolist():\n",
    "    inst_ser = df['neighbor'].loc[inst_row]\n",
    "    \n",
    "    inst_tile = inst_ser['Cell1 Sample_Xtile_Ytile']\n",
    "    if inst_tile in all_tiles:\n",
    "        inst_cell = inst_tile + '_' + str(inst_ser['X1']) + '_' + str(inst_ser['Y1'])\n",
    "    \n",
    "        inst_neighbor = inst_ser['Cell2 Sample_Xtile_Ytile'] + '_' + str(inst_ser['X2']) + '_' + str(inst_ser['Y2'])\n",
    "        inst_cat = ct_dict[inst_ser['Cell2 Imaging phenotype cluster ID']]\n",
    "        \n",
    "        # add cell to dictionary if necessary\n",
    "        if inst_cell not in neighbor_graph:\n",
    "            neighbor_graph[inst_cell] = []\n",
    "            ct_graph[inst_cell] = []\n",
    "            \n",
    "        neighbor_graph[inst_cell].append(inst_neighbor)\n",
    "        ct_graph[inst_cell].append(inst_cat)"
   ]
  },
  {
   "cell_type": "code",
   "execution_count": null,
   "metadata": {},
   "outputs": [],
   "source": [
    "cell_keys = list(neighbor_graph.keys())\n",
    "print(len(cell_keys))\n",
    "print(len(list(set(cell_keys))))"
   ]
  },
  {
   "cell_type": "code",
   "execution_count": null,
   "metadata": {},
   "outputs": [],
   "source": [
    "df['exp'].index.tolist()[0]"
   ]
  },
  {
   "cell_type": "code",
   "execution_count": null,
   "metadata": {},
   "outputs": [],
   "source": [
    "list(neighbor_graph.keys())[0]"
   ]
  },
  {
   "cell_type": "code",
   "execution_count": null,
   "metadata": {},
   "outputs": [],
   "source": [
    "'_'.join(['a', 'b'])"
   ]
  },
  {
   "cell_type": "code",
   "execution_count": null,
   "metadata": {
    "scrolled": true
   },
   "outputs": [],
   "source": [
    "list(neighbor_graph.keys())[0]"
   ]
  },
  {
   "cell_type": "code",
   "execution_count": null,
   "metadata": {},
   "outputs": [],
   "source": [
    "df['tile'].columns.tolist()[0]"
   ]
  },
  {
   "cell_type": "markdown",
   "metadata": {},
   "source": [
    "### Loading neighbor graph for cells in tile"
   ]
  },
  {
   "cell_type": "code",
   "execution_count": null,
   "metadata": {},
   "outputs": [],
   "source": [
    "common_cat_neighbor = {}\n",
    "second_cat_neighbor = {}\n",
    "number_neighbors = {}\n",
    "other_neighbor = {}\n",
    "for inst_col in df['tile'].columns.tolist():\n",
    "    inst_name = inst_col[0]\n",
    "    inst_name = '_'.join(inst_name.split('_')[1:])\n",
    "\n",
    "    found_neighbors = neighbor_graph[inst_name]\n",
    "    found_cts = ct_graph[inst_name]\n",
    "    \n",
    "    number_neighbors[inst_col[0]] = len(found_cts)\n",
    "    \n",
    "    ser_cats = pd.Series(found_cts).value_counts()\n",
    "    rank_cats = ser_cats.index.tolist()\n",
    "    \n",
    "    # find other cat neighbor\n",
    "    found_it = False\n",
    "    col_cat = inst_col[1].split(': ')[1]\n",
    "    other_cat_neighbor = rank_cats[0]\n",
    "    for inst_cat in rank_cats:\n",
    "        if inst_cat != col_cat and found_it == False:\n",
    "            other_cat_neighbor = inst_cat\n",
    "            found_it = True\n",
    "            \n",
    "    other_neighbor[inst_col[0]] = other_cat_neighbor\n",
    "    \n",
    "    # find most common cat neighbor\n",
    "    common_cat_neighbor[inst_col[0]] = rank_cats[0]\n",
    "    \n",
    "    if len(ser_cats.index.tolist()) == 1:\n",
    "        second_cat_neighbor[inst_col[0]] = rank_cats[0]\n",
    "    else:\n",
    "        second_cat_neighbor[inst_col[0]] = rank_cats[1]"
   ]
  },
  {
   "cell_type": "code",
   "execution_count": null,
   "metadata": {},
   "outputs": [],
   "source": [
    "found_neighbors"
   ]
  },
  {
   "cell_type": "code",
   "execution_count": null,
   "metadata": {},
   "outputs": [],
   "source": [
    "list(common_cat_neighbor.keys())[0]"
   ]
  },
  {
   "cell_type": "code",
   "execution_count": null,
   "metadata": {},
   "outputs": [],
   "source": [
    "common_cat_neighbor['C-643_BALBc-1_X01_Y01_10_277']"
   ]
  },
  {
   "cell_type": "markdown",
   "metadata": {},
   "source": [
    "### Add Category for Most Common Neighbor Cat"
   ]
  },
  {
   "cell_type": "code",
   "execution_count": null,
   "metadata": {},
   "outputs": [],
   "source": [
    "df['tile-neighbor'] = deepcopy(df['tile-exp-clean'])"
   ]
  },
  {
   "cell_type": "code",
   "execution_count": null,
   "metadata": {},
   "outputs": [],
   "source": [
    "df['tile-neighbor'].columns.tolist()[0]"
   ]
  },
  {
   "cell_type": "code",
   "execution_count": null,
   "metadata": {},
   "outputs": [],
   "source": [
    "new_cols = [(x[0], x[1], \n",
    "             'Neighbor: ' + other_neighbor[x[0]], \n",
    "              density_dict[x[0]]) for x in df['tile-exp-clean'].columns]\n",
    "df['tile-neighbor'].columns = new_cols"
   ]
  },
  {
   "cell_type": "code",
   "execution_count": null,
   "metadata": {},
   "outputs": [],
   "source": [
    "df['tile-neighbor'].columns.tolist()[0]"
   ]
  },
  {
   "cell_type": "code",
   "execution_count": null,
   "metadata": {},
   "outputs": [],
   "source": [
    "net.load_df(df['tile-neighbor'])\n",
    "net.set_cat_colors(axis='col', cat_colors=cat_colors, cat_index=2, cat_title='Neighbor')"
   ]
  },
  {
   "cell_type": "markdown",
   "metadata": {},
   "source": [
    "# Most Common Neighborhood Cat"
   ]
  },
  {
   "cell_type": "code",
   "execution_count": null,
   "metadata": {},
   "outputs": [],
   "source": [
    "# net.load_df(df['tile-neighbor'])\n",
    "# net.widget()"
   ]
  },
  {
   "cell_type": "markdown",
   "metadata": {},
   "source": [
    "# Most Common Neighborhood Cat: B Cells"
   ]
  },
  {
   "cell_type": "code",
   "execution_count": null,
   "metadata": {},
   "outputs": [],
   "source": [
    "keep_cols = [x for x in df['tile-neighbor'].columns.tolist() if x[1].split(': ')[1] == 'B cells']\n",
    "len(keep_cols)"
   ]
  },
  {
   "cell_type": "code",
   "execution_count": null,
   "metadata": {},
   "outputs": [],
   "source": [
    "net.load_df(df['tile-neighbor'][keep_cols])\n",
    "net.normalize(axis='row', norm_type='zscore')\n",
    "net.clip(-5,5)\n",
    "net.widget()"
   ]
  },
  {
   "cell_type": "code",
   "execution_count": null,
   "metadata": {},
   "outputs": [],
   "source": [
    "# keep_cols = [x for x in df['tile-neighbor'].columns.tolist() if x[1].split(': ')[1] == 'CD4(+) T cells']\n",
    "keep_cols = [x for x in df['tile-neighbor'].columns.tolist() if x[1].split(': ')[1] == 'F4/80(+) mphs']\n",
    "len(keep_cols)"
   ]
  },
  {
   "cell_type": "code",
   "execution_count": null,
   "metadata": {},
   "outputs": [],
   "source": [
    "net.load_df(df['tile-neighbor'][keep_cols])\n",
    "net.normalize(axis='row', norm_type='zscore')\n",
    "net.clip(-5,5)\n",
    "net.widget()"
   ]
  },
  {
   "cell_type": "code",
   "execution_count": null,
   "metadata": {},
   "outputs": [],
   "source": []
  },
  {
   "cell_type": "code",
   "execution_count": null,
   "metadata": {},
   "outputs": [],
   "source": []
  },
  {
   "cell_type": "code",
   "execution_count": null,
   "metadata": {},
   "outputs": [],
   "source": []
  },
  {
   "cell_type": "markdown",
   "metadata": {},
   "source": [
    "### All Cells Neighbor Distribution"
   ]
  },
  {
   "cell_type": "code",
   "execution_count": null,
   "metadata": {},
   "outputs": [],
   "source": [
    "net.load_df(df['nn-dist'])\n",
    "net.widget()"
   ]
  },
  {
   "cell_type": "markdown",
   "metadata": {},
   "source": [
    "# Merge Expression Levels and Neighborhood Distributions"
   ]
  },
  {
   "cell_type": "code",
   "execution_count": null,
   "metadata": {},
   "outputs": [],
   "source": [
    "df['nn-dist'].shape"
   ]
  },
  {
   "cell_type": "code",
   "execution_count": null,
   "metadata": {},
   "outputs": [],
   "source": [
    "df['nn-dist'].columns.tolist()[0]"
   ]
  },
  {
   "cell_type": "code",
   "execution_count": null,
   "metadata": {},
   "outputs": [],
   "source": [
    "list(density_dict.keys())[0]"
   ]
  },
  {
   "cell_type": "code",
   "execution_count": null,
   "metadata": {},
   "outputs": [],
   "source": [
    "density_dict = {}\n",
    "nct_dict = {}\n",
    "for inst_col in df['nn-dist'].columns.tolist():\n",
    "    nct_dict[inst_col[0]] = inst_col[2]\n",
    "    density_dict[inst_col[0]] = inst_col[3]"
   ]
  },
  {
   "cell_type": "code",
   "execution_count": null,
   "metadata": {},
   "outputs": [],
   "source": [
    "df['tile-exp-clean'].shape"
   ]
  },
  {
   "cell_type": "markdown",
   "metadata": {},
   "source": [
    "### Add Cell Density to Expression Levels"
   ]
  },
  {
   "cell_type": "code",
   "execution_count": null,
   "metadata": {},
   "outputs": [],
   "source": [
    "df['exp-common'] = deepcopy(df['tile-exp-clean'])\n",
    "exp_cols = [(x[0], x[1], nct_dict[x[0]], density_dict[x[0]]) for x in df['exp-common'].columns]\n",
    "df['exp-common'].columns = exp_cols\n",
    "df['exp-common'].index = [(x, 'Type: Expression') for x in df['exp-common'].index]\n",
    "df['exp-common'].shape"
   ]
  },
  {
   "cell_type": "markdown",
   "metadata": {},
   "source": [
    "### Find Common Cells"
   ]
  },
  {
   "cell_type": "code",
   "execution_count": null,
   "metadata": {},
   "outputs": [],
   "source": [
    "df['nn-dist-common'] = df['nn-dist'][exp_cols]\n",
    "df['nn-dist-common'].index = [(x, 'Type: Neighborhood') for x in df['nn-dist-common'].index]\n",
    "df['nn-dist-common'].shape"
   ]
  },
  {
   "cell_type": "code",
   "execution_count": null,
   "metadata": {},
   "outputs": [],
   "source": [
    "df['merge'] = pd.concat([df['exp-common'], df['nn-dist-common']], axis=0)\n",
    "df['merge'].shape"
   ]
  },
  {
   "cell_type": "code",
   "execution_count": null,
   "metadata": {},
   "outputs": [],
   "source": [
    "df['merge'].columns.tolist()[0]"
   ]
  },
  {
   "cell_type": "markdown",
   "metadata": {},
   "source": [
    "# Merge Dist and Expression "
   ]
  },
  {
   "cell_type": "code",
   "execution_count": null,
   "metadata": {},
   "outputs": [],
   "source": [
    "keep_cols = [x for x in df['merge'].columns.tolist() if x[1].split(': ')[1] == 'B cells']\n",
    "len(keep_cols)"
   ]
  },
  {
   "cell_type": "code",
   "execution_count": null,
   "metadata": {},
   "outputs": [],
   "source": [
    "net.load_df(df['exp-common'][keep_cols])\n",
    "net.filter_threshold(inst_rc='row', num_occur=1, threshold=0.001)\n",
    "net.normalize(axis='row', norm_type='zscore')\n",
    "net.clip(-5,5)\n",
    "net.widget()"
   ]
  },
  {
   "cell_type": "code",
   "execution_count": null,
   "metadata": {
    "scrolled": false
   },
   "outputs": [],
   "source": [
    "net.load_df(df['merge'][keep_cols])\n",
    "net.normalize(axis='row', norm_type='zscore')\n",
    "net.clip(-5,5)\n",
    "net.widget()"
   ]
  },
  {
   "cell_type": "markdown",
   "metadata": {},
   "source": [
    "# 'CD4(+) T cells'"
   ]
  },
  {
   "cell_type": "code",
   "execution_count": null,
   "metadata": {},
   "outputs": [],
   "source": [
    "keep_cols = [x for x in df['merge'].columns.tolist() if x[1].split(': ')[1] == 'CD4(+) T cells']\n",
    "len(keep_cols)"
   ]
  },
  {
   "cell_type": "code",
   "execution_count": null,
   "metadata": {},
   "outputs": [],
   "source": [
    "net.load_df(df['exp-common'][keep_cols])\n",
    "net.filter_threshold(inst_rc='row', num_occur=1, threshold=0.001)\n",
    "net.normalize(axis='row', norm_type='zscore')\n",
    "net.clip(-5,5)\n",
    "net.widget()"
   ]
  },
  {
   "cell_type": "code",
   "execution_count": null,
   "metadata": {},
   "outputs": [],
   "source": [
    "net.load_df(df['merge'][keep_cols])\n",
    "net.filter_threshold(inst_rc='row', num_occur=1, threshold=0.001)\n",
    "net.normalize(axis='row', norm_type='zscore')\n",
    "net.clip(-5,5)\n",
    "net.widget()"
   ]
  },
  {
   "cell_type": "markdown",
   "metadata": {},
   "source": [
    "# Marginal zone mphs"
   ]
  },
  {
   "cell_type": "code",
   "execution_count": null,
   "metadata": {},
   "outputs": [],
   "source": [
    "keep_cols = [x for x in df['merge'].columns.tolist() if x[1].split(': ')[1] == 'marginal zone mphs']\n",
    "len(keep_cols)"
   ]
  },
  {
   "cell_type": "code",
   "execution_count": null,
   "metadata": {},
   "outputs": [],
   "source": [
    "net.load_df(df['merge'][keep_cols])\n",
    "net.filter_threshold(inst_rc='row', num_occur=1, threshold=0.001)\n",
    "net.normalize(axis='row', norm_type='zscore')\n",
    "net.clip(-5,5)\n",
    "net.widget()"
   ]
  },
  {
   "cell_type": "code",
   "execution_count": null,
   "metadata": {},
   "outputs": [],
   "source": []
  },
  {
   "cell_type": "code",
   "execution_count": null,
   "metadata": {},
   "outputs": [],
   "source": []
  },
  {
   "cell_type": "code",
   "execution_count": null,
   "metadata": {},
   "outputs": [],
   "source": []
  },
  {
   "cell_type": "code",
   "execution_count": null,
   "metadata": {},
   "outputs": [],
   "source": []
  },
  {
   "cell_type": "code",
   "execution_count": null,
   "metadata": {},
   "outputs": [],
   "source": []
  },
  {
   "cell_type": "code",
   "execution_count": null,
   "metadata": {},
   "outputs": [],
   "source": [
    "ser_density = pd.Series(list_cell_density)\n",
    "ser_density.hist()"
   ]
  },
  {
   "cell_type": "code",
   "execution_count": null,
   "metadata": {},
   "outputs": [],
   "source": [
    "nn_names = ser_nn.index.tolist()\n",
    "nn_cats = [x[1].split(': ')[1] for x in nn_names]\n",
    "nn_dist = pd.Series(nn_cats).value_counts()/num_nn\n",
    "nn_dist"
   ]
  },
  {
   "cell_type": "code",
   "execution_count": null,
   "metadata": {},
   "outputs": [],
   "source": [
    "inst_ser.head()"
   ]
  },
  {
   "cell_type": "code",
   "execution_count": null,
   "metadata": {},
   "outputs": [],
   "source": [
    "inst_ser[1:].head()"
   ]
  },
  {
   "cell_type": "code",
   "execution_count": null,
   "metadata": {},
   "outputs": [],
   "source": []
  },
  {
   "cell_type": "code",
   "execution_count": null,
   "metadata": {},
   "outputs": [],
   "source": []
  },
  {
   "cell_type": "code",
   "execution_count": null,
   "metadata": {},
   "outputs": [],
   "source": [
    "print(cells[0])\n",
    "df['dist'][cells[0]].sort_values()"
   ]
  },
  {
   "cell_type": "code",
   "execution_count": null,
   "metadata": {},
   "outputs": [],
   "source": []
  }
 ],
 "metadata": {
  "kernelspec": {
   "display_name": "Python 3",
   "language": "python",
   "name": "python3"
  },
  "language_info": {
   "codemirror_mode": {
    "name": "ipython",
    "version": 3
   },
   "file_extension": ".py",
   "mimetype": "text/x-python",
   "name": "python",
   "nbconvert_exporter": "python",
   "pygments_lexer": "ipython3",
   "version": "3.6.5"
  }
 },
 "nbformat": 4,
 "nbformat_minor": 2
}
